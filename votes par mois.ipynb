{
 "cells": [
  {
   "cell_type": "markdown",
   "metadata": {},
   "source": [
    "# Chargement des données"
   ]
  },
  {
   "cell_type": "code",
   "execution_count": 85,
   "metadata": {},
   "outputs": [],
   "source": [
    "# code inspiré de https://git.regardscitoyens.org/regardscitoyens/sprint-scrutins/blob/master/votes_an/ancsv.py\n",
    "\n",
    "import glob, json, csv, collections\n",
    "\n",
    "# recupere les députés\n",
    "\n",
    "députés = list(csv.DictReader(open('liste_deputes_libre_office.csv')))\n",
    "députés_par_id = {int(député[\"identifiant\"]): député for député in députés}\n",
    "\n",
    "\n",
    "# recuperer les votes\n",
    "\n",
    "votes_par_députés = {id_député: collections.defaultdict(list) for id_député in députés_par_id}\n",
    "\n",
    "for fichier in glob.glob('scrutins/*.json'):\n",
    "    \n",
    "    aucun_vote = True\n",
    "    \n",
    "    scrutin = json.load(open(fichier))['scrutin']\n",
    "    \n",
    "    if scrutin['numero'] == 1:\n",
    "        print(scrutin)\n",
    "\n",
    "    id_scrutin = scrutin['numero']\n",
    "\n",
    "    groupes = scrutin['ventilationVotes']['organe']['groupes']['groupe']\n",
    "\n",
    "    for groupe in groupes:\n",
    "        dn = groupe['vote']['decompteNominatif']\n",
    "        \n",
    "        for position in ('pour', 'contre', 'abstention'):\n",
    "            votants_position = dn['%ss' % position]\n",
    "            \n",
    "            if not votants_position:\n",
    "                continue\n",
    "            \n",
    "            votants = votants_position['votant']\n",
    "\n",
    "            if not isinstance(votants, list):\n",
    "                votants = [votants]\n",
    "\n",
    "            for votant in votants:\n",
    "                votant_id = int(votant['acteurRef'][2:])\n",
    "\n",
    "                if votant.get('parDelegation', 'false') == 'true':\n",
    "                    continue\n",
    "\n",
    "                aucun_vote = False\n",
    "                if votant_id in votes_par_députés:\n",
    "                    votes_par_députés[votant_id][scrutin['dateScrutin']].append(position)\n",
    "    \n",
    "    if aucun_vote:\n",
    "        print(scrutin['dateScrutin'], '\\t', scrutin['numero'])\n"
   ]
  },
  {
   "cell_type": "code",
   "execution_count": 83,
   "metadata": {},
   "outputs": [
    {
     "data": {
      "text/html": [
       "\n",
       "    <div class=\"bk-root\">\n",
       "        <a href=\"https://bokeh.org\" target=\"_blank\" class=\"bk-logo bk-logo-small bk-logo-notebook\"></a>\n",
       "        <span id=\"2673844\">Loading BokehJS ...</span>\n",
       "    </div>"
      ]
     },
     "metadata": {},
     "output_type": "display_data"
    },
    {
     "data": {
      "application/javascript": [
       "\n",
       "(function(root) {\n",
       "  function now() {\n",
       "    return new Date();\n",
       "  }\n",
       "\n",
       "  var force = true;\n",
       "\n",
       "  if (typeof root._bokeh_onload_callbacks === \"undefined\" || force === true) {\n",
       "    root._bokeh_onload_callbacks = [];\n",
       "    root._bokeh_is_loading = undefined;\n",
       "  }\n",
       "\n",
       "  var JS_MIME_TYPE = 'application/javascript';\n",
       "  var HTML_MIME_TYPE = 'text/html';\n",
       "  var EXEC_MIME_TYPE = 'application/vnd.bokehjs_exec.v0+json';\n",
       "  var CLASS_NAME = 'output_bokeh rendered_html';\n",
       "\n",
       "  /**\n",
       "   * Render data to the DOM node\n",
       "   */\n",
       "  function render(props, node) {\n",
       "    var script = document.createElement(\"script\");\n",
       "    node.appendChild(script);\n",
       "  }\n",
       "\n",
       "  /**\n",
       "   * Handle when an output is cleared or removed\n",
       "   */\n",
       "  function handleClearOutput(event, handle) {\n",
       "    var cell = handle.cell;\n",
       "\n",
       "    var id = cell.output_area._bokeh_element_id;\n",
       "    var server_id = cell.output_area._bokeh_server_id;\n",
       "    // Clean up Bokeh references\n",
       "    if (id != null && id in Bokeh.index) {\n",
       "      Bokeh.index[id].model.document.clear();\n",
       "      delete Bokeh.index[id];\n",
       "    }\n",
       "\n",
       "    if (server_id !== undefined) {\n",
       "      // Clean up Bokeh references\n",
       "      var cmd = \"from bokeh.io.state import curstate; print(curstate().uuid_to_server['\" + server_id + \"'].get_sessions()[0].document.roots[0]._id)\";\n",
       "      cell.notebook.kernel.execute(cmd, {\n",
       "        iopub: {\n",
       "          output: function(msg) {\n",
       "            var id = msg.content.text.trim();\n",
       "            if (id in Bokeh.index) {\n",
       "              Bokeh.index[id].model.document.clear();\n",
       "              delete Bokeh.index[id];\n",
       "            }\n",
       "          }\n",
       "        }\n",
       "      });\n",
       "      // Destroy server and session\n",
       "      var cmd = \"import bokeh.io.notebook as ion; ion.destroy_server('\" + server_id + \"')\";\n",
       "      cell.notebook.kernel.execute(cmd);\n",
       "    }\n",
       "  }\n",
       "\n",
       "  /**\n",
       "   * Handle when a new output is added\n",
       "   */\n",
       "  function handleAddOutput(event, handle) {\n",
       "    var output_area = handle.output_area;\n",
       "    var output = handle.output;\n",
       "\n",
       "    // limit handleAddOutput to display_data with EXEC_MIME_TYPE content only\n",
       "    if ((output.output_type != \"display_data\") || (!output.data.hasOwnProperty(EXEC_MIME_TYPE))) {\n",
       "      return\n",
       "    }\n",
       "\n",
       "    var toinsert = output_area.element.find(\".\" + CLASS_NAME.split(' ')[0]);\n",
       "\n",
       "    if (output.metadata[EXEC_MIME_TYPE][\"id\"] !== undefined) {\n",
       "      toinsert[toinsert.length - 1].firstChild.textContent = output.data[JS_MIME_TYPE];\n",
       "      // store reference to embed id on output_area\n",
       "      output_area._bokeh_element_id = output.metadata[EXEC_MIME_TYPE][\"id\"];\n",
       "    }\n",
       "    if (output.metadata[EXEC_MIME_TYPE][\"server_id\"] !== undefined) {\n",
       "      var bk_div = document.createElement(\"div\");\n",
       "      bk_div.innerHTML = output.data[HTML_MIME_TYPE];\n",
       "      var script_attrs = bk_div.children[0].attributes;\n",
       "      for (var i = 0; i < script_attrs.length; i++) {\n",
       "        toinsert[toinsert.length - 1].firstChild.setAttribute(script_attrs[i].name, script_attrs[i].value);\n",
       "        toinsert[toinsert.length - 1].firstChild.textContent = bk_div.children[0].textContent\n",
       "      }\n",
       "      // store reference to server id on output_area\n",
       "      output_area._bokeh_server_id = output.metadata[EXEC_MIME_TYPE][\"server_id\"];\n",
       "    }\n",
       "  }\n",
       "\n",
       "  function register_renderer(events, OutputArea) {\n",
       "\n",
       "    function append_mime(data, metadata, element) {\n",
       "      // create a DOM node to render to\n",
       "      var toinsert = this.create_output_subarea(\n",
       "        metadata,\n",
       "        CLASS_NAME,\n",
       "        EXEC_MIME_TYPE\n",
       "      );\n",
       "      this.keyboard_manager.register_events(toinsert);\n",
       "      // Render to node\n",
       "      var props = {data: data, metadata: metadata[EXEC_MIME_TYPE]};\n",
       "      render(props, toinsert[toinsert.length - 1]);\n",
       "      element.append(toinsert);\n",
       "      return toinsert\n",
       "    }\n",
       "\n",
       "    /* Handle when an output is cleared or removed */\n",
       "    events.on('clear_output.CodeCell', handleClearOutput);\n",
       "    events.on('delete.Cell', handleClearOutput);\n",
       "\n",
       "    /* Handle when a new output is added */\n",
       "    events.on('output_added.OutputArea', handleAddOutput);\n",
       "\n",
       "    /**\n",
       "     * Register the mime type and append_mime function with output_area\n",
       "     */\n",
       "    OutputArea.prototype.register_mime_type(EXEC_MIME_TYPE, append_mime, {\n",
       "      /* Is output safe? */\n",
       "      safe: true,\n",
       "      /* Index of renderer in `output_area.display_order` */\n",
       "      index: 0\n",
       "    });\n",
       "  }\n",
       "\n",
       "  // register the mime type if in Jupyter Notebook environment and previously unregistered\n",
       "  if (root.Jupyter !== undefined) {\n",
       "    var events = require('base/js/events');\n",
       "    var OutputArea = require('notebook/js/outputarea').OutputArea;\n",
       "\n",
       "    if (OutputArea.prototype.mime_types().indexOf(EXEC_MIME_TYPE) == -1) {\n",
       "      register_renderer(events, OutputArea);\n",
       "    }\n",
       "  }\n",
       "\n",
       "  \n",
       "  if (typeof (root._bokeh_timeout) === \"undefined\" || force === true) {\n",
       "    root._bokeh_timeout = Date.now() + 5000;\n",
       "    root._bokeh_failed_load = false;\n",
       "  }\n",
       "\n",
       "  var NB_LOAD_WARNING = {'data': {'text/html':\n",
       "     \"<div style='background-color: #fdd'>\\n\"+\n",
       "     \"<p>\\n\"+\n",
       "     \"BokehJS does not appear to have successfully loaded. If loading BokehJS from CDN, this \\n\"+\n",
       "     \"may be due to a slow or bad network connection. Possible fixes:\\n\"+\n",
       "     \"</p>\\n\"+\n",
       "     \"<ul>\\n\"+\n",
       "     \"<li>re-rerun `output_notebook()` to attempt to load from CDN again, or</li>\\n\"+\n",
       "     \"<li>use INLINE resources instead, as so:</li>\\n\"+\n",
       "     \"</ul>\\n\"+\n",
       "     \"<code>\\n\"+\n",
       "     \"from bokeh.resources import INLINE\\n\"+\n",
       "     \"output_notebook(resources=INLINE)\\n\"+\n",
       "     \"</code>\\n\"+\n",
       "     \"</div>\"}};\n",
       "\n",
       "  function display_loaded() {\n",
       "    var el = document.getElementById(\"2673844\");\n",
       "    if (el != null) {\n",
       "      el.textContent = \"BokehJS is loading...\";\n",
       "    }\n",
       "    if (root.Bokeh !== undefined) {\n",
       "      if (el != null) {\n",
       "        el.textContent = \"BokehJS \" + root.Bokeh.version + \" successfully loaded.\";\n",
       "      }\n",
       "    } else if (Date.now() < root._bokeh_timeout) {\n",
       "      setTimeout(display_loaded, 100)\n",
       "    }\n",
       "  }\n",
       "\n",
       "\n",
       "  function run_callbacks() {\n",
       "    try {\n",
       "      root._bokeh_onload_callbacks.forEach(function(callback) {\n",
       "        if (callback != null)\n",
       "          callback();\n",
       "      });\n",
       "    } finally {\n",
       "      delete root._bokeh_onload_callbacks\n",
       "    }\n",
       "    console.debug(\"Bokeh: all callbacks have finished\");\n",
       "  }\n",
       "\n",
       "  function load_libs(css_urls, js_urls, callback) {\n",
       "    if (css_urls == null) css_urls = [];\n",
       "    if (js_urls == null) js_urls = [];\n",
       "\n",
       "    root._bokeh_onload_callbacks.push(callback);\n",
       "    if (root._bokeh_is_loading > 0) {\n",
       "      console.debug(\"Bokeh: BokehJS is being loaded, scheduling callback at\", now());\n",
       "      return null;\n",
       "    }\n",
       "    if (js_urls == null || js_urls.length === 0) {\n",
       "      run_callbacks();\n",
       "      return null;\n",
       "    }\n",
       "    console.debug(\"Bokeh: BokehJS not loaded, scheduling load and callback at\", now());\n",
       "    root._bokeh_is_loading = css_urls.length + js_urls.length;\n",
       "\n",
       "    function on_load() {\n",
       "      root._bokeh_is_loading--;\n",
       "      if (root._bokeh_is_loading === 0) {\n",
       "        console.debug(\"Bokeh: all BokehJS libraries/stylesheets loaded\");\n",
       "        run_callbacks()\n",
       "      }\n",
       "    }\n",
       "\n",
       "    function on_error() {\n",
       "      console.error(\"failed to load \" + url);\n",
       "    }\n",
       "\n",
       "    for (var i = 0; i < css_urls.length; i++) {\n",
       "      var url = css_urls[i];\n",
       "      const element = document.createElement(\"link\");\n",
       "      element.onload = on_load;\n",
       "      element.onerror = on_error;\n",
       "      element.rel = \"stylesheet\";\n",
       "      element.type = \"text/css\";\n",
       "      element.href = url;\n",
       "      console.debug(\"Bokeh: injecting link tag for BokehJS stylesheet: \", url);\n",
       "      document.body.appendChild(element);\n",
       "    }\n",
       "\n",
       "    const hashes = {\"https://cdn.bokeh.org/bokeh/release/bokeh-2.0.1.min.js\": \"JpP8FXbgAZLkfur7LiK3j9AGBhHNIvF742meBJrjO2ShJDhCG2I1uVvW+0DUtrmc\", \"https://cdn.bokeh.org/bokeh/release/bokeh-widgets-2.0.1.min.js\": \"xZlADit0Q04ISQEdKg2k3L4W9AwQBAuDs9nJL9fM/WwzL1tEU9VPNezOFX0nLEAz\", \"https://cdn.bokeh.org/bokeh/release/bokeh-tables-2.0.1.min.js\": \"4BuPRZkdMKSnj3zoxiNrQ86XgNw0rYmBOxe7nshquXwwcauupgBF2DHLVG1WuZlV\", \"https://cdn.bokeh.org/bokeh/release/bokeh-gl-2.0.1.min.js\": \"Dv1SQ87hmDqK6S5OhBf0bCuwAEvL5QYL0PuR/F1SPVhCS/r/abjkbpKDYL2zeM19\"};\n",
       "\n",
       "    for (var i = 0; i < js_urls.length; i++) {\n",
       "      var url = js_urls[i];\n",
       "      var element = document.createElement('script');\n",
       "      element.onload = on_load;\n",
       "      element.onerror = on_error;\n",
       "      element.async = false;\n",
       "      element.src = url;\n",
       "      if (url in hashes) {\n",
       "        element.crossOrigin = \"anonymous\";\n",
       "        element.integrity = \"sha384-\" + hashes[url];\n",
       "      }\n",
       "      console.debug(\"Bokeh: injecting script tag for BokehJS library: \", url);\n",
       "      document.head.appendChild(element);\n",
       "    }\n",
       "  };var element = document.getElementById(\"2673844\");\n",
       "  if (element == null) {\n",
       "    console.error(\"Bokeh: ERROR: autoload.js configured with elementid '2673844' but no matching script tag was found. \")\n",
       "    return false;\n",
       "  }\n",
       "\n",
       "  function inject_raw_css(css) {\n",
       "    const element = document.createElement(\"style\");\n",
       "    element.appendChild(document.createTextNode(css));\n",
       "    document.body.appendChild(element);\n",
       "  }\n",
       "\n",
       "  \n",
       "  var js_urls = [\"https://cdn.bokeh.org/bokeh/release/bokeh-2.0.1.min.js\", \"https://cdn.bokeh.org/bokeh/release/bokeh-widgets-2.0.1.min.js\", \"https://cdn.bokeh.org/bokeh/release/bokeh-tables-2.0.1.min.js\", \"https://cdn.bokeh.org/bokeh/release/bokeh-gl-2.0.1.min.js\"];\n",
       "  var css_urls = [];\n",
       "  \n",
       "\n",
       "  var inline_js = [\n",
       "    function(Bokeh) {\n",
       "      Bokeh.set_log_level(\"info\");\n",
       "    },\n",
       "    function(Bokeh) {\n",
       "    \n",
       "    \n",
       "    }\n",
       "  ];\n",
       "\n",
       "  function run_inline_js() {\n",
       "    \n",
       "    if (root.Bokeh !== undefined || force === true) {\n",
       "      \n",
       "    for (var i = 0; i < inline_js.length; i++) {\n",
       "      inline_js[i].call(root, root.Bokeh);\n",
       "    }\n",
       "    if (force === true) {\n",
       "        display_loaded();\n",
       "      }} else if (Date.now() < root._bokeh_timeout) {\n",
       "      setTimeout(run_inline_js, 100);\n",
       "    } else if (!root._bokeh_failed_load) {\n",
       "      console.log(\"Bokeh: BokehJS failed to load within specified timeout.\");\n",
       "      root._bokeh_failed_load = true;\n",
       "    } else if (force !== true) {\n",
       "      var cell = $(document.getElementById(\"2673844\")).parents('.cell').data().cell;\n",
       "      cell.output_area.append_execute_result(NB_LOAD_WARNING)\n",
       "    }\n",
       "\n",
       "  }\n",
       "\n",
       "  if (root._bokeh_is_loading === 0) {\n",
       "    console.debug(\"Bokeh: BokehJS loaded, going straight to plotting\");\n",
       "    run_inline_js();\n",
       "  } else {\n",
       "    load_libs(css_urls, js_urls, function() {\n",
       "      console.debug(\"Bokeh: BokehJS plotting callback run at\", now());\n",
       "      run_inline_js();\n",
       "    });\n",
       "  }\n",
       "}(window));"
      ],
      "application/vnd.bokehjs_load.v0+json": "\n(function(root) {\n  function now() {\n    return new Date();\n  }\n\n  var force = true;\n\n  if (typeof root._bokeh_onload_callbacks === \"undefined\" || force === true) {\n    root._bokeh_onload_callbacks = [];\n    root._bokeh_is_loading = undefined;\n  }\n\n  \n\n  \n  if (typeof (root._bokeh_timeout) === \"undefined\" || force === true) {\n    root._bokeh_timeout = Date.now() + 5000;\n    root._bokeh_failed_load = false;\n  }\n\n  var NB_LOAD_WARNING = {'data': {'text/html':\n     \"<div style='background-color: #fdd'>\\n\"+\n     \"<p>\\n\"+\n     \"BokehJS does not appear to have successfully loaded. If loading BokehJS from CDN, this \\n\"+\n     \"may be due to a slow or bad network connection. Possible fixes:\\n\"+\n     \"</p>\\n\"+\n     \"<ul>\\n\"+\n     \"<li>re-rerun `output_notebook()` to attempt to load from CDN again, or</li>\\n\"+\n     \"<li>use INLINE resources instead, as so:</li>\\n\"+\n     \"</ul>\\n\"+\n     \"<code>\\n\"+\n     \"from bokeh.resources import INLINE\\n\"+\n     \"output_notebook(resources=INLINE)\\n\"+\n     \"</code>\\n\"+\n     \"</div>\"}};\n\n  function display_loaded() {\n    var el = document.getElementById(\"2673844\");\n    if (el != null) {\n      el.textContent = \"BokehJS is loading...\";\n    }\n    if (root.Bokeh !== undefined) {\n      if (el != null) {\n        el.textContent = \"BokehJS \" + root.Bokeh.version + \" successfully loaded.\";\n      }\n    } else if (Date.now() < root._bokeh_timeout) {\n      setTimeout(display_loaded, 100)\n    }\n  }\n\n\n  function run_callbacks() {\n    try {\n      root._bokeh_onload_callbacks.forEach(function(callback) {\n        if (callback != null)\n          callback();\n      });\n    } finally {\n      delete root._bokeh_onload_callbacks\n    }\n    console.debug(\"Bokeh: all callbacks have finished\");\n  }\n\n  function load_libs(css_urls, js_urls, callback) {\n    if (css_urls == null) css_urls = [];\n    if (js_urls == null) js_urls = [];\n\n    root._bokeh_onload_callbacks.push(callback);\n    if (root._bokeh_is_loading > 0) {\n      console.debug(\"Bokeh: BokehJS is being loaded, scheduling callback at\", now());\n      return null;\n    }\n    if (js_urls == null || js_urls.length === 0) {\n      run_callbacks();\n      return null;\n    }\n    console.debug(\"Bokeh: BokehJS not loaded, scheduling load and callback at\", now());\n    root._bokeh_is_loading = css_urls.length + js_urls.length;\n\n    function on_load() {\n      root._bokeh_is_loading--;\n      if (root._bokeh_is_loading === 0) {\n        console.debug(\"Bokeh: all BokehJS libraries/stylesheets loaded\");\n        run_callbacks()\n      }\n    }\n\n    function on_error() {\n      console.error(\"failed to load \" + url);\n    }\n\n    for (var i = 0; i < css_urls.length; i++) {\n      var url = css_urls[i];\n      const element = document.createElement(\"link\");\n      element.onload = on_load;\n      element.onerror = on_error;\n      element.rel = \"stylesheet\";\n      element.type = \"text/css\";\n      element.href = url;\n      console.debug(\"Bokeh: injecting link tag for BokehJS stylesheet: \", url);\n      document.body.appendChild(element);\n    }\n\n    const hashes = {\"https://cdn.bokeh.org/bokeh/release/bokeh-2.0.1.min.js\": \"JpP8FXbgAZLkfur7LiK3j9AGBhHNIvF742meBJrjO2ShJDhCG2I1uVvW+0DUtrmc\", \"https://cdn.bokeh.org/bokeh/release/bokeh-widgets-2.0.1.min.js\": \"xZlADit0Q04ISQEdKg2k3L4W9AwQBAuDs9nJL9fM/WwzL1tEU9VPNezOFX0nLEAz\", \"https://cdn.bokeh.org/bokeh/release/bokeh-tables-2.0.1.min.js\": \"4BuPRZkdMKSnj3zoxiNrQ86XgNw0rYmBOxe7nshquXwwcauupgBF2DHLVG1WuZlV\", \"https://cdn.bokeh.org/bokeh/release/bokeh-gl-2.0.1.min.js\": \"Dv1SQ87hmDqK6S5OhBf0bCuwAEvL5QYL0PuR/F1SPVhCS/r/abjkbpKDYL2zeM19\"};\n\n    for (var i = 0; i < js_urls.length; i++) {\n      var url = js_urls[i];\n      var element = document.createElement('script');\n      element.onload = on_load;\n      element.onerror = on_error;\n      element.async = false;\n      element.src = url;\n      if (url in hashes) {\n        element.crossOrigin = \"anonymous\";\n        element.integrity = \"sha384-\" + hashes[url];\n      }\n      console.debug(\"Bokeh: injecting script tag for BokehJS library: \", url);\n      document.head.appendChild(element);\n    }\n  };var element = document.getElementById(\"2673844\");\n  if (element == null) {\n    console.error(\"Bokeh: ERROR: autoload.js configured with elementid '2673844' but no matching script tag was found. \")\n    return false;\n  }\n\n  function inject_raw_css(css) {\n    const element = document.createElement(\"style\");\n    element.appendChild(document.createTextNode(css));\n    document.body.appendChild(element);\n  }\n\n  \n  var js_urls = [\"https://cdn.bokeh.org/bokeh/release/bokeh-2.0.1.min.js\", \"https://cdn.bokeh.org/bokeh/release/bokeh-widgets-2.0.1.min.js\", \"https://cdn.bokeh.org/bokeh/release/bokeh-tables-2.0.1.min.js\", \"https://cdn.bokeh.org/bokeh/release/bokeh-gl-2.0.1.min.js\"];\n  var css_urls = [];\n  \n\n  var inline_js = [\n    function(Bokeh) {\n      Bokeh.set_log_level(\"info\");\n    },\n    function(Bokeh) {\n    \n    \n    }\n  ];\n\n  function run_inline_js() {\n    \n    if (root.Bokeh !== undefined || force === true) {\n      \n    for (var i = 0; i < inline_js.length; i++) {\n      inline_js[i].call(root, root.Bokeh);\n    }\n    if (force === true) {\n        display_loaded();\n      }} else if (Date.now() < root._bokeh_timeout) {\n      setTimeout(run_inline_js, 100);\n    } else if (!root._bokeh_failed_load) {\n      console.log(\"Bokeh: BokehJS failed to load within specified timeout.\");\n      root._bokeh_failed_load = true;\n    } else if (force !== true) {\n      var cell = $(document.getElementById(\"2673844\")).parents('.cell').data().cell;\n      cell.output_area.append_execute_result(NB_LOAD_WARNING)\n    }\n\n  }\n\n  if (root._bokeh_is_loading === 0) {\n    console.debug(\"Bokeh: BokehJS loaded, going straight to plotting\");\n    run_inline_js();\n  } else {\n    load_libs(css_urls, js_urls, function() {\n      console.debug(\"Bokeh: BokehJS plotting callback run at\", now());\n      run_inline_js();\n    });\n  }\n}(window));"
     },
     "metadata": {},
     "output_type": "display_data"
    }
   ],
   "source": [
    "from bokeh.io import output_notebook\n",
    "output_notebook()"
   ]
  },
  {
   "cell_type": "code",
   "execution_count": null,
   "metadata": {},
   "outputs": [
    {
     "data": {
      "text/html": [
       "\n",
       "\n",
       "\n",
       "\n",
       "\n",
       "\n",
       "  <div class=\"bk-root\" id=\"93ac29f9-9c1d-4f57-9599-eaffd2a35d98\" data-root-id=\"2958425\"></div>\n"
      ]
     },
     "metadata": {},
     "output_type": "display_data"
    },
    {
     "data": {
      "application/javascript": [
       "(function(root) {\n",
       "  function embed_document(root) {\n",
       "    \n",
       "  var docs_json = {\"13b58f62-f003-4645-890f-611033b56d76\":{\"roots\":{\"references\":[{\"attributes\":{\"below\":[{\"id\":\"2958436\"}],\"center\":[{\"id\":\"2958438\"},{\"id\":\"2958442\"},{\"id\":\"2958454\"}],\"left\":[{\"id\":\"2958439\"}],\"plot_height\":400,\"plot_width\":700,\"renderers\":[{\"id\":\"2958447\"},{\"id\":\"2958459\"}],\"title\":{\"id\":\"2958426\"},\"toolbar\":{\"id\":\"2958443\"},\"toolbar_location\":null,\"x_range\":{\"id\":\"2958428\"},\"x_scale\":{\"id\":\"2958432\"},\"y_range\":{\"id\":\"2958430\"},\"y_scale\":{\"id\":\"2958434\"}},\"id\":\"2958425\",\"subtype\":\"Figure\",\"type\":\"Plot\"},{\"attributes\":{},\"id\":\"2958450\",\"type\":\"CategoricalTickFormatter\"},{\"attributes\":{\"source\":{\"id\":\"2958444\"}},\"id\":\"2958448\",\"type\":\"CDSView\"},{\"attributes\":{\"data_source\":{\"id\":\"2958444\"},\"glyph\":{\"id\":\"2958445\"},\"hover_glyph\":null,\"muted_glyph\":null,\"nonselection_glyph\":{\"id\":\"2958446\"},\"selection_glyph\":null,\"view\":{\"id\":\"2958448\"}},\"id\":\"2958447\",\"type\":\"GlyphRenderer\"},{\"attributes\":{\"label\":{\"value\":\"Moyenne de tous les d\\u00e9put\\u00e9s\"},\"renderers\":[{\"id\":\"2958447\"}]},\"id\":\"2958455\",\"type\":\"LegendItem\"},{\"attributes\":{\"line_alpha\":{\"value\":0.1},\"line_color\":{\"value\":\"red\"},\"line_width\":{\"value\":2},\"x\":{\"field\":\"x\"},\"y\":{\"field\":\"y\"}},\"id\":\"2958446\",\"type\":\"Step\"},{\"attributes\":{\"text\":\"Votes par mois pour Souad Zitouni\"},\"id\":\"2958426\",\"type\":\"Title\"},{\"attributes\":{\"items\":[{\"id\":\"2958455\"}]},\"id\":\"2958454\",\"type\":\"Legend\"},{\"attributes\":{\"active_drag\":\"auto\",\"active_inspect\":\"auto\",\"active_multi\":null,\"active_scroll\":\"auto\",\"active_tap\":\"auto\"},\"id\":\"2958443\",\"type\":\"Toolbar\"},{\"attributes\":{},\"id\":\"2958452\",\"type\":\"BasicTickFormatter\"},{\"attributes\":{\"formatter\":{\"id\":\"2958452\"},\"ticker\":{\"id\":\"2958440\"}},\"id\":\"2958439\",\"type\":\"LinearAxis\"},{\"attributes\":{\"data\":{\"top\":[0,0,0,0,0,0,0,0,0,0,0,0,0,0,0,0,0,0,0,0,0,0,0,0,0,0,0,0,0,0,0,0,1,1,1,0],\"x\":[\"2017-07\",\"2017-08\",\"2017-09\",\"2017-10\",\"2017-11\",\"2017-12\",\"2018-01\",\"2018-02\",\"2018-03\",\"2018-04\",\"2018-05\",\"2018-06\",\"2018-07\",\"2018-08\",\"2018-09\",\"2018-10\",\"2018-11\",\"2018-12\",\"2019-01\",\"2019-02\",\"2019-03\",\"2019-04\",\"2019-05\",\"2019-06\",\"2019-07\",\"2019-09\",\"2019-10\",\"2019-11\",\"2019-12\",\"2020-01\",\"2020-02\",\"2020-03\",\"2020-04\",\"2020-05\",\"2020-06\",\"2020-07\"]},\"selected\":{\"id\":\"2965668\"},\"selection_policy\":{\"id\":\"2965669\"}},\"id\":\"2958456\",\"type\":\"ColumnDataSource\"},{\"attributes\":{\"axis\":{\"id\":\"2958436\"},\"grid_line_color\":null,\"ticker\":null},\"id\":\"2958438\",\"type\":\"Grid\"},{\"attributes\":{\"axis\":{\"id\":\"2958439\"},\"dimension\":1,\"grid_line_color\":null,\"ticker\":null},\"id\":\"2958442\",\"type\":\"Grid\"},{\"attributes\":{\"data_source\":{\"id\":\"2958456\"},\"glyph\":{\"id\":\"2958457\"},\"hover_glyph\":null,\"muted_glyph\":null,\"nonselection_glyph\":{\"id\":\"2958458\"},\"selection_glyph\":null,\"view\":{\"id\":\"2958460\"}},\"id\":\"2958459\",\"type\":\"GlyphRenderer\"},{\"attributes\":{\"source\":{\"id\":\"2958456\"}},\"id\":\"2958460\",\"type\":\"CDSView\"},{\"attributes\":{\"line_alpha\":{\"value\":0.8},\"line_color\":{\"value\":\"red\"},\"line_width\":{\"value\":2},\"x\":{\"field\":\"x\"},\"y\":{\"field\":\"y\"}},\"id\":\"2958445\",\"type\":\"Step\"},{\"attributes\":{\"fill_alpha\":{\"value\":0.5},\"fill_color\":{\"value\":\"#1f77b4\"},\"line_alpha\":{\"value\":0.5},\"line_color\":{\"value\":\"#1f77b4\"},\"top\":{\"field\":\"top\"},\"width\":{\"value\":1},\"x\":{\"field\":\"x\"}},\"id\":\"2958457\",\"type\":\"VBar\"},{\"attributes\":{\"data\":{\"x\":[\"2017-07\",\"2017-08\",\"2017-09\",\"2017-10\",\"2017-11\",\"2017-12\",\"2018-01\",\"2018-02\",\"2018-03\",\"2018-04\",\"2018-05\",\"2018-06\",\"2018-07\",\"2018-08\",\"2018-09\",\"2018-10\",\"2018-11\",\"2018-12\",\"2019-01\",\"2019-02\",\"2019-03\",\"2019-04\",\"2019-05\",\"2019-06\",\"2019-07\",\"2019-09\",\"2019-10\",\"2019-11\",\"2019-12\",\"2020-01\",\"2020-02\",\"2020-03\",\"2020-04\",\"2020-05\",\"2020-06\",\"2020-07\"],\"y\":[1.0138648180242635,1.4696707105719238,1.1767764298093588,0.9722703639514731,1.166377816291161,1.076256499133449,1.7954939341421143,1.516464471403813,1.1403812824956672,1.6065857885615251,1.632582322357019,1.3084922010398614,1.7383015597920277,0.6741767764298093,1.2599653379549394,1.0953206239168112,2.079722703639515,2.4783362218370883,1.6031195840554593,0.9688041594454073,1.1629116117850953,1.268630849220104,1.5996533795493935,1.1074523396880416,1.2097053726169844,1.124783362218371,1.4124783362218372,1.682842287694974,1.5511265164644714,1.1282495667244368,2.65684575389948,1.0710571923743502,0.9982668977469671,1,0.9324090121317158,1.5528596187175043]},\"selected\":{\"id\":\"2965666\"},\"selection_policy\":{\"id\":\"2965667\"}},\"id\":\"2958444\",\"type\":\"ColumnDataSource\"},{\"attributes\":{},\"id\":\"2958440\",\"type\":\"BasicTicker\"},{\"attributes\":{\"factors\":[\"2017-07\",\"2017-08\",\"2017-09\",\"2017-10\",\"2017-11\",\"2017-12\",\"2018-01\",\"2018-02\",\"2018-03\",\"2018-04\",\"2018-05\",\"2018-06\",\"2018-07\",\"2018-08\",\"2018-09\",\"2018-10\",\"2018-11\",\"2018-12\",\"2019-01\",\"2019-02\",\"2019-03\",\"2019-04\",\"2019-05\",\"2019-06\",\"2019-07\",\"2019-09\",\"2019-10\",\"2019-11\",\"2019-12\",\"2020-01\",\"2020-02\",\"2020-03\",\"2020-04\",\"2020-05\",\"2020-06\",\"2020-07\"]},\"id\":\"2958428\",\"type\":\"FactorRange\"},{\"attributes\":{\"fill_alpha\":{\"value\":0.1},\"fill_color\":{\"value\":\"#1f77b4\"},\"line_alpha\":{\"value\":0.1},\"line_color\":{\"value\":\"#1f77b4\"},\"top\":{\"field\":\"top\"},\"width\":{\"value\":1},\"x\":{\"field\":\"x\"}},\"id\":\"2958458\",\"type\":\"VBar\"},{\"attributes\":{},\"id\":\"2958432\",\"type\":\"CategoricalScale\"},{\"attributes\":{},\"id\":\"2965666\",\"type\":\"Selection\"},{\"attributes\":{},\"id\":\"2965667\",\"type\":\"UnionRenderers\"},{\"attributes\":{\"end\":10,\"start\":0},\"id\":\"2958430\",\"type\":\"DataRange1d\"},{\"attributes\":{},\"id\":\"2965668\",\"type\":\"Selection\"},{\"attributes\":{},\"id\":\"2958434\",\"type\":\"LinearScale\"},{\"attributes\":{},\"id\":\"2965669\",\"type\":\"UnionRenderers\"},{\"attributes\":{\"formatter\":{\"id\":\"2958450\"},\"major_label_orientation\":\"vertical\",\"ticker\":{\"id\":\"2958437\"}},\"id\":\"2958436\",\"type\":\"CategoricalAxis\"},{\"attributes\":{},\"id\":\"2958437\",\"type\":\"CategoricalTicker\"}],\"root_ids\":[\"2958425\"]},\"title\":\"Bokeh Application\",\"version\":\"2.0.1\"}};\n",
       "  var render_items = [{\"docid\":\"13b58f62-f003-4645-890f-611033b56d76\",\"root_ids\":[\"2958425\"],\"roots\":{\"2958425\":\"93ac29f9-9c1d-4f57-9599-eaffd2a35d98\"}}];\n",
       "  root.Bokeh.embed.embed_items_notebook(docs_json, render_items);\n",
       "\n",
       "  }\n",
       "  if (root.Bokeh !== undefined) {\n",
       "    embed_document(root);\n",
       "  } else {\n",
       "    var attempts = 0;\n",
       "    var timer = setInterval(function(root) {\n",
       "      if (root.Bokeh !== undefined) {\n",
       "        clearInterval(timer);\n",
       "        embed_document(root);\n",
       "      } else {\n",
       "        attempts++;\n",
       "        if (attempts > 100) {\n",
       "          clearInterval(timer);\n",
       "          console.log(\"Bokeh: ERROR: Unable to run BokehJS code because BokehJS library is missing\");\n",
       "        }\n",
       "      }\n",
       "    }, 10, root)\n",
       "  }\n",
       "})(window);"
      ],
      "application/vnd.bokehjs_exec.v0+json": ""
     },
     "metadata": {
      "application/vnd.bokehjs_exec.v0+json": {
       "id": "2958425"
      }
     },
     "output_type": "display_data"
    },
    {
     "data": {
      "text/html": [
       "\n",
       "\n",
       "\n",
       "\n",
       "\n",
       "\n",
       "  <div class=\"bk-root\" id=\"c2acee56-4c83-496e-87f9-94cf23091e9c\" data-root-id=\"2965724\"></div>\n"
      ]
     },
     "metadata": {},
     "output_type": "display_data"
    },
    {
     "data": {
      "application/javascript": [
       "(function(root) {\n",
       "  function embed_document(root) {\n",
       "    \n",
       "  var docs_json = {\"1a25b79a-8db6-44e5-941e-3270554031e0\":{\"roots\":{\"references\":[{\"attributes\":{\"below\":[{\"id\":\"2965735\"}],\"center\":[{\"id\":\"2965737\"},{\"id\":\"2965741\"},{\"id\":\"2965753\"}],\"left\":[{\"id\":\"2965738\"}],\"plot_height\":400,\"plot_width\":700,\"renderers\":[{\"id\":\"2965746\"},{\"id\":\"2965758\"}],\"title\":{\"id\":\"2965725\"},\"toolbar\":{\"id\":\"2965742\"},\"toolbar_location\":null,\"x_range\":{\"id\":\"2965727\"},\"x_scale\":{\"id\":\"2965731\"},\"y_range\":{\"id\":\"2965729\"},\"y_scale\":{\"id\":\"2965733\"}},\"id\":\"2965724\",\"subtype\":\"Figure\",\"type\":\"Plot\"},{\"attributes\":{\"data\":{\"top\":[0,0,0,0,0,0,0,0,0,0,0,0,0,0,0,0,0,0,0,0,0,0,0,0,0,0,0,0,0,0,0,1,1,1,1,0],\"x\":[\"2017-07\",\"2017-08\",\"2017-09\",\"2017-10\",\"2017-11\",\"2017-12\",\"2018-01\",\"2018-02\",\"2018-03\",\"2018-04\",\"2018-05\",\"2018-06\",\"2018-07\",\"2018-08\",\"2018-09\",\"2018-10\",\"2018-11\",\"2018-12\",\"2019-01\",\"2019-02\",\"2019-03\",\"2019-04\",\"2019-05\",\"2019-06\",\"2019-07\",\"2019-09\",\"2019-10\",\"2019-11\",\"2019-12\",\"2020-01\",\"2020-02\",\"2020-03\",\"2020-04\",\"2020-05\",\"2020-06\",\"2020-07\"]},\"selected\":{\"id\":\"2972976\"},\"selection_policy\":{\"id\":\"2972977\"}},\"id\":\"2965755\",\"type\":\"ColumnDataSource\"},{\"attributes\":{\"active_drag\":\"auto\",\"active_inspect\":\"auto\",\"active_multi\":null,\"active_scroll\":\"auto\",\"active_tap\":\"auto\"},\"id\":\"2965742\",\"type\":\"Toolbar\"},{\"attributes\":{\"source\":{\"id\":\"2965743\"}},\"id\":\"2965747\",\"type\":\"CDSView\"},{\"attributes\":{\"items\":[{\"id\":\"2965754\"}]},\"id\":\"2965753\",\"type\":\"Legend\"},{\"attributes\":{\"data\":{\"x\":[\"2017-07\",\"2017-08\",\"2017-09\",\"2017-10\",\"2017-11\",\"2017-12\",\"2018-01\",\"2018-02\",\"2018-03\",\"2018-04\",\"2018-05\",\"2018-06\",\"2018-07\",\"2018-08\",\"2018-09\",\"2018-10\",\"2018-11\",\"2018-12\",\"2019-01\",\"2019-02\",\"2019-03\",\"2019-04\",\"2019-05\",\"2019-06\",\"2019-07\",\"2019-09\",\"2019-10\",\"2019-11\",\"2019-12\",\"2020-01\",\"2020-02\",\"2020-03\",\"2020-04\",\"2020-05\",\"2020-06\",\"2020-07\"],\"y\":[1.0138648180242635,1.4696707105719238,1.1767764298093588,0.9722703639514731,1.166377816291161,1.076256499133449,1.7954939341421143,1.516464471403813,1.1403812824956672,1.6065857885615251,1.632582322357019,1.3084922010398614,1.7383015597920277,0.6741767764298093,1.2599653379549394,1.0953206239168112,2.079722703639515,2.4783362218370883,1.6031195840554593,0.9688041594454073,1.1629116117850953,1.268630849220104,1.5996533795493935,1.1074523396880416,1.2097053726169844,1.124783362218371,1.4124783362218372,1.682842287694974,1.5511265164644714,1.1282495667244368,2.65684575389948,1.0710571923743502,0.9982668977469671,1,0.9324090121317158,1.5528596187175043]},\"selected\":{\"id\":\"2972974\"},\"selection_policy\":{\"id\":\"2972975\"}},\"id\":\"2965743\",\"type\":\"ColumnDataSource\"},{\"attributes\":{\"data_source\":{\"id\":\"2965743\"},\"glyph\":{\"id\":\"2965744\"},\"hover_glyph\":null,\"muted_glyph\":null,\"nonselection_glyph\":{\"id\":\"2965745\"},\"selection_glyph\":null,\"view\":{\"id\":\"2965747\"}},\"id\":\"2965746\",\"type\":\"GlyphRenderer\"},{\"attributes\":{},\"id\":\"2965749\",\"type\":\"CategoricalTickFormatter\"},{\"attributes\":{\"line_alpha\":{\"value\":0.1},\"line_color\":{\"value\":\"red\"},\"line_width\":{\"value\":2},\"x\":{\"field\":\"x\"},\"y\":{\"field\":\"y\"}},\"id\":\"2965745\",\"type\":\"Step\"},{\"attributes\":{\"axis\":{\"id\":\"2965738\"},\"dimension\":1,\"grid_line_color\":null,\"ticker\":null},\"id\":\"2965741\",\"type\":\"Grid\"},{\"attributes\":{},\"id\":\"2965751\",\"type\":\"BasicTickFormatter\"},{\"attributes\":{},\"id\":\"2965739\",\"type\":\"BasicTicker\"},{\"attributes\":{\"source\":{\"id\":\"2965755\"}},\"id\":\"2965759\",\"type\":\"CDSView\"},{\"attributes\":{\"formatter\":{\"id\":\"2965751\"},\"ticker\":{\"id\":\"2965739\"}},\"id\":\"2965738\",\"type\":\"LinearAxis\"},{\"attributes\":{},\"id\":\"2965736\",\"type\":\"CategoricalTicker\"},{\"attributes\":{\"data_source\":{\"id\":\"2965755\"},\"glyph\":{\"id\":\"2965756\"},\"hover_glyph\":null,\"muted_glyph\":null,\"nonselection_glyph\":{\"id\":\"2965757\"},\"selection_glyph\":null,\"view\":{\"id\":\"2965759\"}},\"id\":\"2965758\",\"type\":\"GlyphRenderer\"},{\"attributes\":{\"axis\":{\"id\":\"2965735\"},\"grid_line_color\":null,\"ticker\":null},\"id\":\"2965737\",\"type\":\"Grid\"},{\"attributes\":{\"end\":10,\"start\":0},\"id\":\"2965729\",\"type\":\"DataRange1d\"},{\"attributes\":{},\"id\":\"2972975\",\"type\":\"UnionRenderers\"},{\"attributes\":{\"formatter\":{\"id\":\"2965749\"},\"major_label_orientation\":\"vertical\",\"ticker\":{\"id\":\"2965736\"}},\"id\":\"2965735\",\"type\":\"CategoricalAxis\"},{\"attributes\":{},\"id\":\"2972976\",\"type\":\"Selection\"},{\"attributes\":{},\"id\":\"2965733\",\"type\":\"LinearScale\"},{\"attributes\":{},\"id\":\"2972977\",\"type\":\"UnionRenderers\"},{\"attributes\":{},\"id\":\"2965731\",\"type\":\"CategoricalScale\"},{\"attributes\":{},\"id\":\"2972974\",\"type\":\"Selection\"},{\"attributes\":{\"factors\":[\"2017-07\",\"2017-08\",\"2017-09\",\"2017-10\",\"2017-11\",\"2017-12\",\"2018-01\",\"2018-02\",\"2018-03\",\"2018-04\",\"2018-05\",\"2018-06\",\"2018-07\",\"2018-08\",\"2018-09\",\"2018-10\",\"2018-11\",\"2018-12\",\"2019-01\",\"2019-02\",\"2019-03\",\"2019-04\",\"2019-05\",\"2019-06\",\"2019-07\",\"2019-09\",\"2019-10\",\"2019-11\",\"2019-12\",\"2020-01\",\"2020-02\",\"2020-03\",\"2020-04\",\"2020-05\",\"2020-06\",\"2020-07\"]},\"id\":\"2965727\",\"type\":\"FactorRange\"},{\"attributes\":{\"text\":\"Votes par mois pour Camille Galliard-Minier\"},\"id\":\"2965725\",\"type\":\"Title\"},{\"attributes\":{\"fill_alpha\":{\"value\":0.5},\"fill_color\":{\"value\":\"#1f77b4\"},\"line_alpha\":{\"value\":0.5},\"line_color\":{\"value\":\"#1f77b4\"},\"top\":{\"field\":\"top\"},\"width\":{\"value\":1},\"x\":{\"field\":\"x\"}},\"id\":\"2965756\",\"type\":\"VBar\"},{\"attributes\":{\"line_alpha\":{\"value\":0.8},\"line_color\":{\"value\":\"red\"},\"line_width\":{\"value\":2},\"x\":{\"field\":\"x\"},\"y\":{\"field\":\"y\"}},\"id\":\"2965744\",\"type\":\"Step\"},{\"attributes\":{\"label\":{\"value\":\"Moyenne de tous les d\\u00e9put\\u00e9s\"},\"renderers\":[{\"id\":\"2965746\"}]},\"id\":\"2965754\",\"type\":\"LegendItem\"},{\"attributes\":{\"fill_alpha\":{\"value\":0.1},\"fill_color\":{\"value\":\"#1f77b4\"},\"line_alpha\":{\"value\":0.1},\"line_color\":{\"value\":\"#1f77b4\"},\"top\":{\"field\":\"top\"},\"width\":{\"value\":1},\"x\":{\"field\":\"x\"}},\"id\":\"2965757\",\"type\":\"VBar\"}],\"root_ids\":[\"2965724\"]},\"title\":\"Bokeh Application\",\"version\":\"2.0.1\"}};\n",
       "  var render_items = [{\"docid\":\"1a25b79a-8db6-44e5-941e-3270554031e0\",\"root_ids\":[\"2965724\"],\"roots\":{\"2965724\":\"c2acee56-4c83-496e-87f9-94cf23091e9c\"}}];\n",
       "  root.Bokeh.embed.embed_items_notebook(docs_json, render_items);\n",
       "\n",
       "  }\n",
       "  if (root.Bokeh !== undefined) {\n",
       "    embed_document(root);\n",
       "  } else {\n",
       "    var attempts = 0;\n",
       "    var timer = setInterval(function(root) {\n",
       "      if (root.Bokeh !== undefined) {\n",
       "        clearInterval(timer);\n",
       "        embed_document(root);\n",
       "      } else {\n",
       "        attempts++;\n",
       "        if (attempts > 100) {\n",
       "          clearInterval(timer);\n",
       "          console.log(\"Bokeh: ERROR: Unable to run BokehJS code because BokehJS library is missing\");\n",
       "        }\n",
       "      }\n",
       "    }, 10, root)\n",
       "  }\n",
       "})(window);"
      ],
      "application/vnd.bokehjs_exec.v0+json": ""
     },
     "metadata": {
      "application/vnd.bokehjs_exec.v0+json": {
       "id": "2965724"
      }
     },
     "output_type": "display_data"
    },
    {
     "data": {
      "text/html": [
       "\n",
       "\n",
       "\n",
       "\n",
       "\n",
       "\n",
       "  <div class=\"bk-root\" id=\"36466a4e-3ac1-418d-8cd3-ac1ba243545e\" data-root-id=\"2973032\"></div>\n"
      ]
     },
     "metadata": {},
     "output_type": "display_data"
    },
    {
     "data": {
      "application/javascript": [
       "(function(root) {\n",
       "  function embed_document(root) {\n",
       "    \n",
       "  var docs_json = {\"e3dc7e95-9658-46cc-9df7-0d13f13cef8b\":{\"roots\":{\"references\":[{\"attributes\":{\"below\":[{\"id\":\"2973043\"}],\"center\":[{\"id\":\"2973045\"},{\"id\":\"2973049\"},{\"id\":\"2973061\"}],\"left\":[{\"id\":\"2973046\"}],\"plot_height\":400,\"plot_width\":700,\"renderers\":[{\"id\":\"2973054\"},{\"id\":\"2973066\"}],\"title\":{\"id\":\"2973033\"},\"toolbar\":{\"id\":\"2973050\"},\"toolbar_location\":null,\"x_range\":{\"id\":\"2973035\"},\"x_scale\":{\"id\":\"2973039\"},\"y_range\":{\"id\":\"2973037\"},\"y_scale\":{\"id\":\"2973041\"}},\"id\":\"2973032\",\"subtype\":\"Figure\",\"type\":\"Plot\"},{\"attributes\":{\"items\":[{\"id\":\"2973062\"}]},\"id\":\"2973061\",\"type\":\"Legend\"},{\"attributes\":{},\"id\":\"2973047\",\"type\":\"BasicTicker\"},{\"attributes\":{\"label\":{\"value\":\"Moyenne de tous les d\\u00e9put\\u00e9s\"},\"renderers\":[{\"id\":\"2973054\"}]},\"id\":\"2973062\",\"type\":\"LegendItem\"},{\"attributes\":{\"formatter\":{\"id\":\"2973059\"},\"ticker\":{\"id\":\"2973047\"}},\"id\":\"2973046\",\"type\":\"LinearAxis\"},{\"attributes\":{\"data\":{\"top\":[0,0,0,0,0,0,0,0,0,0,0,0,0,0,0,0,0,0,0,0,0,0,0,0,0,0,0,0,0,0,0,1,1,1,1,4],\"x\":[\"2017-07\",\"2017-08\",\"2017-09\",\"2017-10\",\"2017-11\",\"2017-12\",\"2018-01\",\"2018-02\",\"2018-03\",\"2018-04\",\"2018-05\",\"2018-06\",\"2018-07\",\"2018-08\",\"2018-09\",\"2018-10\",\"2018-11\",\"2018-12\",\"2019-01\",\"2019-02\",\"2019-03\",\"2019-04\",\"2019-05\",\"2019-06\",\"2019-07\",\"2019-09\",\"2019-10\",\"2019-11\",\"2019-12\",\"2020-01\",\"2020-02\",\"2020-03\",\"2020-04\",\"2020-05\",\"2020-06\",\"2020-07\"]},\"selected\":{\"id\":\"2980293\"},\"selection_policy\":{\"id\":\"2980294\"}},\"id\":\"2973063\",\"type\":\"ColumnDataSource\"},{\"attributes\":{},\"id\":\"2973044\",\"type\":\"CategoricalTicker\"},{\"attributes\":{\"axis\":{\"id\":\"2973043\"},\"grid_line_color\":null,\"ticker\":null},\"id\":\"2973045\",\"type\":\"Grid\"},{\"attributes\":{\"end\":10,\"start\":0},\"id\":\"2973037\",\"type\":\"DataRange1d\"},{\"attributes\":{\"data_source\":{\"id\":\"2973063\"},\"glyph\":{\"id\":\"2973064\"},\"hover_glyph\":null,\"muted_glyph\":null,\"nonselection_glyph\":{\"id\":\"2973065\"},\"selection_glyph\":null,\"view\":{\"id\":\"2973067\"}},\"id\":\"2973066\",\"type\":\"GlyphRenderer\"},{\"attributes\":{\"formatter\":{\"id\":\"2973057\"},\"major_label_orientation\":\"vertical\",\"ticker\":{\"id\":\"2973044\"}},\"id\":\"2973043\",\"type\":\"CategoricalAxis\"},{\"attributes\":{\"source\":{\"id\":\"2973063\"}},\"id\":\"2973067\",\"type\":\"CDSView\"},{\"attributes\":{\"fill_alpha\":{\"value\":0.5},\"fill_color\":{\"value\":\"#1f77b4\"},\"line_alpha\":{\"value\":0.5},\"line_color\":{\"value\":\"#1f77b4\"},\"top\":{\"field\":\"top\"},\"width\":{\"value\":1},\"x\":{\"field\":\"x\"}},\"id\":\"2973064\",\"type\":\"VBar\"},{\"attributes\":{},\"id\":\"2973041\",\"type\":\"LinearScale\"},{\"attributes\":{},\"id\":\"2973039\",\"type\":\"CategoricalScale\"},{\"attributes\":{\"fill_alpha\":{\"value\":0.1},\"fill_color\":{\"value\":\"#1f77b4\"},\"line_alpha\":{\"value\":0.1},\"line_color\":{\"value\":\"#1f77b4\"},\"top\":{\"field\":\"top\"},\"width\":{\"value\":1},\"x\":{\"field\":\"x\"}},\"id\":\"2973065\",\"type\":\"VBar\"},{\"attributes\":{},\"id\":\"2980291\",\"type\":\"Selection\"},{\"attributes\":{\"line_alpha\":{\"value\":0.1},\"line_color\":{\"value\":\"red\"},\"line_width\":{\"value\":2},\"x\":{\"field\":\"x\"},\"y\":{\"field\":\"y\"}},\"id\":\"2973053\",\"type\":\"Step\"},{\"attributes\":{\"factors\":[\"2017-07\",\"2017-08\",\"2017-09\",\"2017-10\",\"2017-11\",\"2017-12\",\"2018-01\",\"2018-02\",\"2018-03\",\"2018-04\",\"2018-05\",\"2018-06\",\"2018-07\",\"2018-08\",\"2018-09\",\"2018-10\",\"2018-11\",\"2018-12\",\"2019-01\",\"2019-02\",\"2019-03\",\"2019-04\",\"2019-05\",\"2019-06\",\"2019-07\",\"2019-09\",\"2019-10\",\"2019-11\",\"2019-12\",\"2020-01\",\"2020-02\",\"2020-03\",\"2020-04\",\"2020-05\",\"2020-06\",\"2020-07\"]},\"id\":\"2973035\",\"type\":\"FactorRange\"},{\"attributes\":{\"data_source\":{\"id\":\"2973051\"},\"glyph\":{\"id\":\"2973052\"},\"hover_glyph\":null,\"muted_glyph\":null,\"nonselection_glyph\":{\"id\":\"2973053\"},\"selection_glyph\":null,\"view\":{\"id\":\"2973055\"}},\"id\":\"2973054\",\"type\":\"GlyphRenderer\"},{\"attributes\":{},\"id\":\"2980292\",\"type\":\"UnionRenderers\"},{\"attributes\":{},\"id\":\"2980293\",\"type\":\"Selection\"},{\"attributes\":{\"data\":{\"x\":[\"2017-07\",\"2017-08\",\"2017-09\",\"2017-10\",\"2017-11\",\"2017-12\",\"2018-01\",\"2018-02\",\"2018-03\",\"2018-04\",\"2018-05\",\"2018-06\",\"2018-07\",\"2018-08\",\"2018-09\",\"2018-10\",\"2018-11\",\"2018-12\",\"2019-01\",\"2019-02\",\"2019-03\",\"2019-04\",\"2019-05\",\"2019-06\",\"2019-07\",\"2019-09\",\"2019-10\",\"2019-11\",\"2019-12\",\"2020-01\",\"2020-02\",\"2020-03\",\"2020-04\",\"2020-05\",\"2020-06\",\"2020-07\"],\"y\":[1.0138648180242635,1.4696707105719238,1.1767764298093588,0.9722703639514731,1.166377816291161,1.076256499133449,1.7954939341421143,1.516464471403813,1.1403812824956672,1.6065857885615251,1.632582322357019,1.3084922010398614,1.7383015597920277,0.6741767764298093,1.2599653379549394,1.0953206239168112,2.079722703639515,2.4783362218370883,1.6031195840554593,0.9688041594454073,1.1629116117850953,1.268630849220104,1.5996533795493935,1.1074523396880416,1.2097053726169844,1.124783362218371,1.4124783362218372,1.682842287694974,1.5511265164644714,1.1282495667244368,2.65684575389948,1.0710571923743502,0.9982668977469671,1,0.9324090121317158,1.5528596187175043]},\"selected\":{\"id\":\"2980291\"},\"selection_policy\":{\"id\":\"2980292\"}},\"id\":\"2973051\",\"type\":\"ColumnDataSource\"},{\"attributes\":{},\"id\":\"2980294\",\"type\":\"UnionRenderers\"},{\"attributes\":{\"text\":\"Votes par mois pour Claudia Rouaux\"},\"id\":\"2973033\",\"type\":\"Title\"},{\"attributes\":{\"line_alpha\":{\"value\":0.8},\"line_color\":{\"value\":\"red\"},\"line_width\":{\"value\":2},\"x\":{\"field\":\"x\"},\"y\":{\"field\":\"y\"}},\"id\":\"2973052\",\"type\":\"Step\"},{\"attributes\":{},\"id\":\"2973059\",\"type\":\"BasicTickFormatter\"},{\"attributes\":{\"active_drag\":\"auto\",\"active_inspect\":\"auto\",\"active_multi\":null,\"active_scroll\":\"auto\",\"active_tap\":\"auto\"},\"id\":\"2973050\",\"type\":\"Toolbar\"},{\"attributes\":{\"source\":{\"id\":\"2973051\"}},\"id\":\"2973055\",\"type\":\"CDSView\"},{\"attributes\":{},\"id\":\"2973057\",\"type\":\"CategoricalTickFormatter\"},{\"attributes\":{\"axis\":{\"id\":\"2973046\"},\"dimension\":1,\"grid_line_color\":null,\"ticker\":null},\"id\":\"2973049\",\"type\":\"Grid\"}],\"root_ids\":[\"2973032\"]},\"title\":\"Bokeh Application\",\"version\":\"2.0.1\"}};\n",
       "  var render_items = [{\"docid\":\"e3dc7e95-9658-46cc-9df7-0d13f13cef8b\",\"root_ids\":[\"2973032\"],\"roots\":{\"2973032\":\"36466a4e-3ac1-418d-8cd3-ac1ba243545e\"}}];\n",
       "  root.Bokeh.embed.embed_items_notebook(docs_json, render_items);\n",
       "\n",
       "  }\n",
       "  if (root.Bokeh !== undefined) {\n",
       "    embed_document(root);\n",
       "  } else {\n",
       "    var attempts = 0;\n",
       "    var timer = setInterval(function(root) {\n",
       "      if (root.Bokeh !== undefined) {\n",
       "        clearInterval(timer);\n",
       "        embed_document(root);\n",
       "      } else {\n",
       "        attempts++;\n",
       "        if (attempts > 100) {\n",
       "          clearInterval(timer);\n",
       "          console.log(\"Bokeh: ERROR: Unable to run BokehJS code because BokehJS library is missing\");\n",
       "        }\n",
       "      }\n",
       "    }, 10, root)\n",
       "  }\n",
       "})(window);"
      ],
      "application/vnd.bokehjs_exec.v0+json": ""
     },
     "metadata": {
      "application/vnd.bokehjs_exec.v0+json": {
       "id": "2973032"
      }
     },
     "output_type": "display_data"
    },
    {
     "data": {
      "text/html": [
       "\n",
       "\n",
       "\n",
       "\n",
       "\n",
       "\n",
       "  <div class=\"bk-root\" id=\"f56035c2-0956-46da-8325-715cf360b939\" data-root-id=\"2980349\"></div>\n"
      ]
     },
     "metadata": {},
     "output_type": "display_data"
    },
    {
     "data": {
      "application/javascript": [
       "(function(root) {\n",
       "  function embed_document(root) {\n",
       "    \n",
       "  var docs_json = {\"f2249051-9571-43f2-8638-2a8cb3235026\":{\"roots\":{\"references\":[{\"attributes\":{\"below\":[{\"id\":\"2980360\"}],\"center\":[{\"id\":\"2980362\"},{\"id\":\"2980366\"},{\"id\":\"2980378\"}],\"left\":[{\"id\":\"2980363\"}],\"plot_height\":400,\"plot_width\":700,\"renderers\":[{\"id\":\"2980371\"},{\"id\":\"2980383\"}],\"title\":{\"id\":\"2980350\"},\"toolbar\":{\"id\":\"2980367\"},\"toolbar_location\":null,\"x_range\":{\"id\":\"2980352\"},\"x_scale\":{\"id\":\"2980356\"},\"y_range\":{\"id\":\"2980354\"},\"y_scale\":{\"id\":\"2980358\"}},\"id\":\"2980349\",\"subtype\":\"Figure\",\"type\":\"Plot\"},{\"attributes\":{\"formatter\":{\"id\":\"2980374\"},\"major_label_orientation\":\"vertical\",\"ticker\":{\"id\":\"2980361\"}},\"id\":\"2980360\",\"type\":\"CategoricalAxis\"},{\"attributes\":{\"end\":10,\"start\":0},\"id\":\"2980354\",\"type\":\"DataRange1d\"},{\"attributes\":{},\"id\":\"2980374\",\"type\":\"CategoricalTickFormatter\"},{\"attributes\":{\"active_drag\":\"auto\",\"active_inspect\":\"auto\",\"active_multi\":null,\"active_scroll\":\"auto\",\"active_tap\":\"auto\"},\"id\":\"2980367\",\"type\":\"Toolbar\"},{\"attributes\":{\"text\":\"Votes par mois pour Franck Marlin\"},\"id\":\"2980350\",\"type\":\"Title\"},{\"attributes\":{\"data_source\":{\"id\":\"2980368\"},\"glyph\":{\"id\":\"2980369\"},\"hover_glyph\":null,\"muted_glyph\":null,\"nonselection_glyph\":{\"id\":\"2980370\"},\"selection_glyph\":null,\"view\":{\"id\":\"2980372\"}},\"id\":\"2980371\",\"type\":\"GlyphRenderer\"},{\"attributes\":{\"line_alpha\":{\"value\":0.1},\"line_color\":{\"value\":\"red\"},\"line_width\":{\"value\":2},\"x\":{\"field\":\"x\"},\"y\":{\"field\":\"y\"}},\"id\":\"2980370\",\"type\":\"Step\"},{\"attributes\":{},\"id\":\"2987618\",\"type\":\"UnionRenderers\"},{\"attributes\":{\"fill_alpha\":{\"value\":0.1},\"fill_color\":{\"value\":\"#1f77b4\"},\"line_alpha\":{\"value\":0.1},\"line_color\":{\"value\":\"#1f77b4\"},\"top\":{\"field\":\"top\"},\"width\":{\"value\":1},\"x\":{\"field\":\"x\"}},\"id\":\"2980382\",\"type\":\"VBar\"},{\"attributes\":{\"source\":{\"id\":\"2980368\"}},\"id\":\"2980372\",\"type\":\"CDSView\"},{\"attributes\":{\"factors\":[\"2017-07\",\"2017-08\",\"2017-09\",\"2017-10\",\"2017-11\",\"2017-12\",\"2018-01\",\"2018-02\",\"2018-03\",\"2018-04\",\"2018-05\",\"2018-06\",\"2018-07\",\"2018-08\",\"2018-09\",\"2018-10\",\"2018-11\",\"2018-12\",\"2019-01\",\"2019-02\",\"2019-03\",\"2019-04\",\"2019-05\",\"2019-06\",\"2019-07\",\"2019-09\",\"2019-10\",\"2019-11\",\"2019-12\",\"2020-01\",\"2020-02\",\"2020-03\",\"2020-04\",\"2020-05\",\"2020-06\",\"2020-07\"]},\"id\":\"2980352\",\"type\":\"FactorRange\"},{\"attributes\":{\"line_alpha\":{\"value\":0.8},\"line_color\":{\"value\":\"red\"},\"line_width\":{\"value\":2},\"x\":{\"field\":\"x\"},\"y\":{\"field\":\"y\"}},\"id\":\"2980369\",\"type\":\"Step\"},{\"attributes\":{},\"id\":\"2980376\",\"type\":\"BasicTickFormatter\"},{\"attributes\":{},\"id\":\"2987617\",\"type\":\"Selection\"},{\"attributes\":{\"items\":[{\"id\":\"2980379\"}]},\"id\":\"2980378\",\"type\":\"Legend\"},{\"attributes\":{\"axis\":{\"id\":\"2980363\"},\"dimension\":1,\"grid_line_color\":null,\"ticker\":null},\"id\":\"2980366\",\"type\":\"Grid\"},{\"attributes\":{},\"id\":\"2980356\",\"type\":\"CategoricalScale\"},{\"attributes\":{},\"id\":\"2987620\",\"type\":\"UnionRenderers\"},{\"attributes\":{\"label\":{\"value\":\"Moyenne de tous les d\\u00e9put\\u00e9s\"},\"renderers\":[{\"id\":\"2980371\"}]},\"id\":\"2980379\",\"type\":\"LegendItem\"},{\"attributes\":{\"formatter\":{\"id\":\"2980376\"},\"ticker\":{\"id\":\"2980364\"}},\"id\":\"2980363\",\"type\":\"LinearAxis\"},{\"attributes\":{},\"id\":\"2980364\",\"type\":\"BasicTicker\"},{\"attributes\":{\"data\":{\"top\":[1,2,0,1,1,1,1,0,0,0,0,1,0,0,0,1,0,1,2,1,1,0,0,1,1,2,2,0,0,0,0,1,1,1,1,0],\"x\":[\"2017-07\",\"2017-08\",\"2017-09\",\"2017-10\",\"2017-11\",\"2017-12\",\"2018-01\",\"2018-02\",\"2018-03\",\"2018-04\",\"2018-05\",\"2018-06\",\"2018-07\",\"2018-08\",\"2018-09\",\"2018-10\",\"2018-11\",\"2018-12\",\"2019-01\",\"2019-02\",\"2019-03\",\"2019-04\",\"2019-05\",\"2019-06\",\"2019-07\",\"2019-09\",\"2019-10\",\"2019-11\",\"2019-12\",\"2020-01\",\"2020-02\",\"2020-03\",\"2020-04\",\"2020-05\",\"2020-06\",\"2020-07\"]},\"selected\":{\"id\":\"2987619\"},\"selection_policy\":{\"id\":\"2987620\"}},\"id\":\"2980380\",\"type\":\"ColumnDataSource\"},{\"attributes\":{},\"id\":\"2980358\",\"type\":\"LinearScale\"},{\"attributes\":{},\"id\":\"2987619\",\"type\":\"Selection\"},{\"attributes\":{\"data\":{\"x\":[\"2017-07\",\"2017-08\",\"2017-09\",\"2017-10\",\"2017-11\",\"2017-12\",\"2018-01\",\"2018-02\",\"2018-03\",\"2018-04\",\"2018-05\",\"2018-06\",\"2018-07\",\"2018-08\",\"2018-09\",\"2018-10\",\"2018-11\",\"2018-12\",\"2019-01\",\"2019-02\",\"2019-03\",\"2019-04\",\"2019-05\",\"2019-06\",\"2019-07\",\"2019-09\",\"2019-10\",\"2019-11\",\"2019-12\",\"2020-01\",\"2020-02\",\"2020-03\",\"2020-04\",\"2020-05\",\"2020-06\",\"2020-07\"],\"y\":[1.0138648180242635,1.4696707105719238,1.1767764298093588,0.9722703639514731,1.166377816291161,1.076256499133449,1.7954939341421143,1.516464471403813,1.1403812824956672,1.6065857885615251,1.632582322357019,1.3084922010398614,1.7383015597920277,0.6741767764298093,1.2599653379549394,1.0953206239168112,2.079722703639515,2.4783362218370883,1.6031195840554593,0.9688041594454073,1.1629116117850953,1.268630849220104,1.5996533795493935,1.1074523396880416,1.2097053726169844,1.124783362218371,1.4124783362218372,1.682842287694974,1.5511265164644714,1.1282495667244368,2.65684575389948,1.0710571923743502,0.9982668977469671,1,0.9324090121317158,1.5528596187175043]},\"selected\":{\"id\":\"2987617\"},\"selection_policy\":{\"id\":\"2987618\"}},\"id\":\"2980368\",\"type\":\"ColumnDataSource\"},{\"attributes\":{\"axis\":{\"id\":\"2980360\"},\"grid_line_color\":null,\"ticker\":null},\"id\":\"2980362\",\"type\":\"Grid\"},{\"attributes\":{\"data_source\":{\"id\":\"2980380\"},\"glyph\":{\"id\":\"2980381\"},\"hover_glyph\":null,\"muted_glyph\":null,\"nonselection_glyph\":{\"id\":\"2980382\"},\"selection_glyph\":null,\"view\":{\"id\":\"2980384\"}},\"id\":\"2980383\",\"type\":\"GlyphRenderer\"},{\"attributes\":{},\"id\":\"2980361\",\"type\":\"CategoricalTicker\"},{\"attributes\":{\"source\":{\"id\":\"2980380\"}},\"id\":\"2980384\",\"type\":\"CDSView\"},{\"attributes\":{\"fill_alpha\":{\"value\":0.5},\"fill_color\":{\"value\":\"#1f77b4\"},\"line_alpha\":{\"value\":0.5},\"line_color\":{\"value\":\"#1f77b4\"},\"top\":{\"field\":\"top\"},\"width\":{\"value\":1},\"x\":{\"field\":\"x\"}},\"id\":\"2980381\",\"type\":\"VBar\"}],\"root_ids\":[\"2980349\"]},\"title\":\"Bokeh Application\",\"version\":\"2.0.1\"}};\n",
       "  var render_items = [{\"docid\":\"f2249051-9571-43f2-8638-2a8cb3235026\",\"root_ids\":[\"2980349\"],\"roots\":{\"2980349\":\"f56035c2-0956-46da-8325-715cf360b939\"}}];\n",
       "  root.Bokeh.embed.embed_items_notebook(docs_json, render_items);\n",
       "\n",
       "  }\n",
       "  if (root.Bokeh !== undefined) {\n",
       "    embed_document(root);\n",
       "  } else {\n",
       "    var attempts = 0;\n",
       "    var timer = setInterval(function(root) {\n",
       "      if (root.Bokeh !== undefined) {\n",
       "        clearInterval(timer);\n",
       "        embed_document(root);\n",
       "      } else {\n",
       "        attempts++;\n",
       "        if (attempts > 100) {\n",
       "          clearInterval(timer);\n",
       "          console.log(\"Bokeh: ERROR: Unable to run BokehJS code because BokehJS library is missing\");\n",
       "        }\n",
       "      }\n",
       "    }, 10, root)\n",
       "  }\n",
       "})(window);"
      ],
      "application/vnd.bokehjs_exec.v0+json": ""
     },
     "metadata": {
      "application/vnd.bokehjs_exec.v0+json": {
       "id": "2980349"
      }
     },
     "output_type": "display_data"
    },
    {
     "data": {
      "text/html": [
       "\n",
       "\n",
       "\n",
       "\n",
       "\n",
       "\n",
       "  <div class=\"bk-root\" id=\"30ad24ac-514a-448d-b943-83fef9d32831\" data-root-id=\"2987675\"></div>\n"
      ]
     },
     "metadata": {},
     "output_type": "display_data"
    },
    {
     "data": {
      "application/javascript": [
       "(function(root) {\n",
       "  function embed_document(root) {\n",
       "    \n",
       "  var docs_json = {\"9607e6fe-6f7a-475f-95d1-cca3890a534e\":{\"roots\":{\"references\":[{\"attributes\":{\"below\":[{\"id\":\"2987686\"}],\"center\":[{\"id\":\"2987688\"},{\"id\":\"2987692\"},{\"id\":\"2987704\"}],\"left\":[{\"id\":\"2987689\"}],\"plot_height\":400,\"plot_width\":700,\"renderers\":[{\"id\":\"2987697\"},{\"id\":\"2987709\"}],\"title\":{\"id\":\"2987676\"},\"toolbar\":{\"id\":\"2987693\"},\"toolbar_location\":null,\"x_range\":{\"id\":\"2987678\"},\"x_scale\":{\"id\":\"2987682\"},\"y_range\":{\"id\":\"2987680\"},\"y_scale\":{\"id\":\"2987684\"}},\"id\":\"2987675\",\"subtype\":\"Figure\",\"type\":\"Plot\"},{\"attributes\":{\"data\":{\"x\":[\"2017-07\",\"2017-08\",\"2017-09\",\"2017-10\",\"2017-11\",\"2017-12\",\"2018-01\",\"2018-02\",\"2018-03\",\"2018-04\",\"2018-05\",\"2018-06\",\"2018-07\",\"2018-08\",\"2018-09\",\"2018-10\",\"2018-11\",\"2018-12\",\"2019-01\",\"2019-02\",\"2019-03\",\"2019-04\",\"2019-05\",\"2019-06\",\"2019-07\",\"2019-09\",\"2019-10\",\"2019-11\",\"2019-12\",\"2020-01\",\"2020-02\",\"2020-03\",\"2020-04\",\"2020-05\",\"2020-06\",\"2020-07\"],\"y\":[1.0138648180242635,1.4696707105719238,1.1767764298093588,0.9722703639514731,1.166377816291161,1.076256499133449,1.7954939341421143,1.516464471403813,1.1403812824956672,1.6065857885615251,1.632582322357019,1.3084922010398614,1.7383015597920277,0.6741767764298093,1.2599653379549394,1.0953206239168112,2.079722703639515,2.4783362218370883,1.6031195840554593,0.9688041594454073,1.1629116117850953,1.268630849220104,1.5996533795493935,1.1074523396880416,1.2097053726169844,1.124783362218371,1.4124783362218372,1.682842287694974,1.5511265164644714,1.1282495667244368,2.65684575389948,1.0710571923743502,0.9982668977469671,1,0.9324090121317158,1.5528596187175043]},\"selected\":{\"id\":\"2994952\"},\"selection_policy\":{\"id\":\"2994953\"}},\"id\":\"2987694\",\"type\":\"ColumnDataSource\"},{\"attributes\":{\"line_alpha\":{\"value\":0.1},\"line_color\":{\"value\":\"red\"},\"line_width\":{\"value\":2},\"x\":{\"field\":\"x\"},\"y\":{\"field\":\"y\"}},\"id\":\"2987696\",\"type\":\"Step\"},{\"attributes\":{\"text\":\"Votes par mois pour Mich\\u00e8le Tabarot\"},\"id\":\"2987676\",\"type\":\"Title\"},{\"attributes\":{\"end\":10,\"start\":0},\"id\":\"2987680\",\"type\":\"DataRange1d\"},{\"attributes\":{\"source\":{\"id\":\"2987694\"}},\"id\":\"2987698\",\"type\":\"CDSView\"},{\"attributes\":{\"formatter\":{\"id\":\"2987700\"},\"major_label_orientation\":\"vertical\",\"ticker\":{\"id\":\"2987687\"}},\"id\":\"2987686\",\"type\":\"CategoricalAxis\"},{\"attributes\":{\"fill_alpha\":{\"value\":0.1},\"fill_color\":{\"value\":\"#1f77b4\"},\"line_alpha\":{\"value\":0.1},\"line_color\":{\"value\":\"#1f77b4\"},\"top\":{\"field\":\"top\"},\"width\":{\"value\":1},\"x\":{\"field\":\"x\"}},\"id\":\"2987708\",\"type\":\"VBar\"},{\"attributes\":{},\"id\":\"2987682\",\"type\":\"CategoricalScale\"},{\"attributes\":{\"line_alpha\":{\"value\":0.8},\"line_color\":{\"value\":\"red\"},\"line_width\":{\"value\":2},\"x\":{\"field\":\"x\"},\"y\":{\"field\":\"y\"}},\"id\":\"2987695\",\"type\":\"Step\"},{\"attributes\":{},\"id\":\"2987684\",\"type\":\"LinearScale\"},{\"attributes\":{\"fill_alpha\":{\"value\":0.5},\"fill_color\":{\"value\":\"#1f77b4\"},\"line_alpha\":{\"value\":0.5},\"line_color\":{\"value\":\"#1f77b4\"},\"top\":{\"field\":\"top\"},\"width\":{\"value\":1},\"x\":{\"field\":\"x\"}},\"id\":\"2987707\",\"type\":\"VBar\"},{\"attributes\":{\"source\":{\"id\":\"2987706\"}},\"id\":\"2987710\",\"type\":\"CDSView\"},{\"attributes\":{\"factors\":[\"2017-07\",\"2017-08\",\"2017-09\",\"2017-10\",\"2017-11\",\"2017-12\",\"2018-01\",\"2018-02\",\"2018-03\",\"2018-04\",\"2018-05\",\"2018-06\",\"2018-07\",\"2018-08\",\"2018-09\",\"2018-10\",\"2018-11\",\"2018-12\",\"2019-01\",\"2019-02\",\"2019-03\",\"2019-04\",\"2019-05\",\"2019-06\",\"2019-07\",\"2019-09\",\"2019-10\",\"2019-11\",\"2019-12\",\"2020-01\",\"2020-02\",\"2020-03\",\"2020-04\",\"2020-05\",\"2020-06\",\"2020-07\"]},\"id\":\"2987678\",\"type\":\"FactorRange\"},{\"attributes\":{\"data_source\":{\"id\":\"2987706\"},\"glyph\":{\"id\":\"2987707\"},\"hover_glyph\":null,\"muted_glyph\":null,\"nonselection_glyph\":{\"id\":\"2987708\"},\"selection_glyph\":null,\"view\":{\"id\":\"2987710\"}},\"id\":\"2987709\",\"type\":\"GlyphRenderer\"},{\"attributes\":{\"items\":[{\"id\":\"2987705\"}]},\"id\":\"2987704\",\"type\":\"Legend\"},{\"attributes\":{},\"id\":\"2994952\",\"type\":\"Selection\"},{\"attributes\":{},\"id\":\"2994953\",\"type\":\"UnionRenderers\"},{\"attributes\":{},\"id\":\"2994954\",\"type\":\"Selection\"},{\"attributes\":{},\"id\":\"2994955\",\"type\":\"UnionRenderers\"},{\"attributes\":{},\"id\":\"2987687\",\"type\":\"CategoricalTicker\"},{\"attributes\":{\"axis\":{\"id\":\"2987686\"},\"grid_line_color\":null,\"ticker\":null},\"id\":\"2987688\",\"type\":\"Grid\"},{\"attributes\":{},\"id\":\"2987700\",\"type\":\"CategoricalTickFormatter\"},{\"attributes\":{\"formatter\":{\"id\":\"2987702\"},\"ticker\":{\"id\":\"2987690\"}},\"id\":\"2987689\",\"type\":\"LinearAxis\"},{\"attributes\":{},\"id\":\"2987690\",\"type\":\"BasicTicker\"},{\"attributes\":{\"axis\":{\"id\":\"2987689\"},\"dimension\":1,\"grid_line_color\":null,\"ticker\":null},\"id\":\"2987692\",\"type\":\"Grid\"},{\"attributes\":{},\"id\":\"2987702\",\"type\":\"BasicTickFormatter\"},{\"attributes\":{\"data_source\":{\"id\":\"2987694\"},\"glyph\":{\"id\":\"2987695\"},\"hover_glyph\":null,\"muted_glyph\":null,\"nonselection_glyph\":{\"id\":\"2987696\"},\"selection_glyph\":null,\"view\":{\"id\":\"2987698\"}},\"id\":\"2987697\",\"type\":\"GlyphRenderer\"},{\"attributes\":{\"label\":{\"value\":\"Moyenne de tous les d\\u00e9put\\u00e9s\"},\"renderers\":[{\"id\":\"2987697\"}]},\"id\":\"2987705\",\"type\":\"LegendItem\"},{\"attributes\":{\"active_drag\":\"auto\",\"active_inspect\":\"auto\",\"active_multi\":null,\"active_scroll\":\"auto\",\"active_tap\":\"auto\"},\"id\":\"2987693\",\"type\":\"Toolbar\"},{\"attributes\":{\"data\":{\"top\":[1,1,0,1,1,1,1,0,1,0,0,0,0,0,0,1,1,0,2,1,0,1,1,0,0,0,1,1,0,0,1,1,1,1,1,0],\"x\":[\"2017-07\",\"2017-08\",\"2017-09\",\"2017-10\",\"2017-11\",\"2017-12\",\"2018-01\",\"2018-02\",\"2018-03\",\"2018-04\",\"2018-05\",\"2018-06\",\"2018-07\",\"2018-08\",\"2018-09\",\"2018-10\",\"2018-11\",\"2018-12\",\"2019-01\",\"2019-02\",\"2019-03\",\"2019-04\",\"2019-05\",\"2019-06\",\"2019-07\",\"2019-09\",\"2019-10\",\"2019-11\",\"2019-12\",\"2020-01\",\"2020-02\",\"2020-03\",\"2020-04\",\"2020-05\",\"2020-06\",\"2020-07\"]},\"selected\":{\"id\":\"2994954\"},\"selection_policy\":{\"id\":\"2994955\"}},\"id\":\"2987706\",\"type\":\"ColumnDataSource\"}],\"root_ids\":[\"2987675\"]},\"title\":\"Bokeh Application\",\"version\":\"2.0.1\"}};\n",
       "  var render_items = [{\"docid\":\"9607e6fe-6f7a-475f-95d1-cca3890a534e\",\"root_ids\":[\"2987675\"],\"roots\":{\"2987675\":\"30ad24ac-514a-448d-b943-83fef9d32831\"}}];\n",
       "  root.Bokeh.embed.embed_items_notebook(docs_json, render_items);\n",
       "\n",
       "  }\n",
       "  if (root.Bokeh !== undefined) {\n",
       "    embed_document(root);\n",
       "  } else {\n",
       "    var attempts = 0;\n",
       "    var timer = setInterval(function(root) {\n",
       "      if (root.Bokeh !== undefined) {\n",
       "        clearInterval(timer);\n",
       "        embed_document(root);\n",
       "      } else {\n",
       "        attempts++;\n",
       "        if (attempts > 100) {\n",
       "          clearInterval(timer);\n",
       "          console.log(\"Bokeh: ERROR: Unable to run BokehJS code because BokehJS library is missing\");\n",
       "        }\n",
       "      }\n",
       "    }, 10, root)\n",
       "  }\n",
       "})(window);"
      ],
      "application/vnd.bokehjs_exec.v0+json": ""
     },
     "metadata": {
      "application/vnd.bokehjs_exec.v0+json": {
       "id": "2987675"
      }
     },
     "output_type": "display_data"
    },
    {
     "data": {
      "text/html": [
       "\n",
       "\n",
       "\n",
       "\n",
       "\n",
       "\n",
       "  <div class=\"bk-root\" id=\"a9714c83-ad6b-4534-af85-ff91d8eacd16\" data-root-id=\"2995010\"></div>\n"
      ]
     },
     "metadata": {},
     "output_type": "display_data"
    },
    {
     "data": {
      "application/javascript": [
       "(function(root) {\n",
       "  function embed_document(root) {\n",
       "    \n",
       "  var docs_json = {\"40b91a4f-b04d-474f-8133-2c08e0ce95f8\":{\"roots\":{\"references\":[{\"attributes\":{\"below\":[{\"id\":\"2995021\"}],\"center\":[{\"id\":\"2995023\"},{\"id\":\"2995027\"},{\"id\":\"2995039\"}],\"left\":[{\"id\":\"2995024\"}],\"plot_height\":400,\"plot_width\":700,\"renderers\":[{\"id\":\"2995032\"},{\"id\":\"2995044\"}],\"title\":{\"id\":\"2995011\"},\"toolbar\":{\"id\":\"2995028\"},\"toolbar_location\":null,\"x_range\":{\"id\":\"2995013\"},\"x_scale\":{\"id\":\"2995017\"},\"y_range\":{\"id\":\"2995015\"},\"y_scale\":{\"id\":\"2995019\"}},\"id\":\"2995010\",\"subtype\":\"Figure\",\"type\":\"Plot\"},{\"attributes\":{},\"id\":\"3002296\",\"type\":\"Selection\"},{\"attributes\":{\"axis\":{\"id\":\"2995021\"},\"grid_line_color\":null,\"ticker\":null},\"id\":\"2995023\",\"type\":\"Grid\"},{\"attributes\":{},\"id\":\"3002297\",\"type\":\"UnionRenderers\"},{\"attributes\":{},\"id\":\"3002298\",\"type\":\"Selection\"},{\"attributes\":{\"formatter\":{\"id\":\"2995037\"},\"ticker\":{\"id\":\"2995025\"}},\"id\":\"2995024\",\"type\":\"LinearAxis\"},{\"attributes\":{},\"id\":\"2995022\",\"type\":\"CategoricalTicker\"},{\"attributes\":{},\"id\":\"3002299\",\"type\":\"UnionRenderers\"},{\"attributes\":{},\"id\":\"2995025\",\"type\":\"BasicTicker\"},{\"attributes\":{\"axis\":{\"id\":\"2995024\"},\"dimension\":1,\"grid_line_color\":null,\"ticker\":null},\"id\":\"2995027\",\"type\":\"Grid\"},{\"attributes\":{\"data_source\":{\"id\":\"2995041\"},\"glyph\":{\"id\":\"2995042\"},\"hover_glyph\":null,\"muted_glyph\":null,\"nonselection_glyph\":{\"id\":\"2995043\"},\"selection_glyph\":null,\"view\":{\"id\":\"2995045\"}},\"id\":\"2995044\",\"type\":\"GlyphRenderer\"},{\"attributes\":{\"factors\":[\"2017-07\",\"2017-08\",\"2017-09\",\"2017-10\",\"2017-11\",\"2017-12\",\"2018-01\",\"2018-02\",\"2018-03\",\"2018-04\",\"2018-05\",\"2018-06\",\"2018-07\",\"2018-08\",\"2018-09\",\"2018-10\",\"2018-11\",\"2018-12\",\"2019-01\",\"2019-02\",\"2019-03\",\"2019-04\",\"2019-05\",\"2019-06\",\"2019-07\",\"2019-09\",\"2019-10\",\"2019-11\",\"2019-12\",\"2020-01\",\"2020-02\",\"2020-03\",\"2020-04\",\"2020-05\",\"2020-06\",\"2020-07\"]},\"id\":\"2995013\",\"type\":\"FactorRange\"},{\"attributes\":{\"end\":10,\"start\":0},\"id\":\"2995015\",\"type\":\"DataRange1d\"},{\"attributes\":{\"fill_alpha\":{\"value\":0.1},\"fill_color\":{\"value\":\"#1f77b4\"},\"line_alpha\":{\"value\":0.1},\"line_color\":{\"value\":\"#1f77b4\"},\"top\":{\"field\":\"top\"},\"width\":{\"value\":1},\"x\":{\"field\":\"x\"}},\"id\":\"2995043\",\"type\":\"VBar\"},{\"attributes\":{},\"id\":\"2995035\",\"type\":\"CategoricalTickFormatter\"},{\"attributes\":{\"line_alpha\":{\"value\":0.1},\"line_color\":{\"value\":\"red\"},\"line_width\":{\"value\":2},\"x\":{\"field\":\"x\"},\"y\":{\"field\":\"y\"}},\"id\":\"2995031\",\"type\":\"Step\"},{\"attributes\":{\"fill_alpha\":{\"value\":0.5},\"fill_color\":{\"value\":\"#1f77b4\"},\"line_alpha\":{\"value\":0.5},\"line_color\":{\"value\":\"#1f77b4\"},\"top\":{\"field\":\"top\"},\"width\":{\"value\":1},\"x\":{\"field\":\"x\"}},\"id\":\"2995042\",\"type\":\"VBar\"},{\"attributes\":{\"data_source\":{\"id\":\"2995029\"},\"glyph\":{\"id\":\"2995030\"},\"hover_glyph\":null,\"muted_glyph\":null,\"nonselection_glyph\":{\"id\":\"2995031\"},\"selection_glyph\":null,\"view\":{\"id\":\"2995033\"}},\"id\":\"2995032\",\"type\":\"GlyphRenderer\"},{\"attributes\":{\"text\":\"Votes par mois pour Jean-Luc Warsmann\"},\"id\":\"2995011\",\"type\":\"Title\"},{\"attributes\":{\"source\":{\"id\":\"2995029\"}},\"id\":\"2995033\",\"type\":\"CDSView\"},{\"attributes\":{\"formatter\":{\"id\":\"2995035\"},\"major_label_orientation\":\"vertical\",\"ticker\":{\"id\":\"2995022\"}},\"id\":\"2995021\",\"type\":\"CategoricalAxis\"},{\"attributes\":{\"line_alpha\":{\"value\":0.8},\"line_color\":{\"value\":\"red\"},\"line_width\":{\"value\":2},\"x\":{\"field\":\"x\"},\"y\":{\"field\":\"y\"}},\"id\":\"2995030\",\"type\":\"Step\"},{\"attributes\":{},\"id\":\"2995019\",\"type\":\"LinearScale\"},{\"attributes\":{\"items\":[{\"id\":\"2995040\"}]},\"id\":\"2995039\",\"type\":\"Legend\"},{\"attributes\":{},\"id\":\"2995037\",\"type\":\"BasicTickFormatter\"},{\"attributes\":{\"data\":{\"x\":[\"2017-07\",\"2017-08\",\"2017-09\",\"2017-10\",\"2017-11\",\"2017-12\",\"2018-01\",\"2018-02\",\"2018-03\",\"2018-04\",\"2018-05\",\"2018-06\",\"2018-07\",\"2018-08\",\"2018-09\",\"2018-10\",\"2018-11\",\"2018-12\",\"2019-01\",\"2019-02\",\"2019-03\",\"2019-04\",\"2019-05\",\"2019-06\",\"2019-07\",\"2019-09\",\"2019-10\",\"2019-11\",\"2019-12\",\"2020-01\",\"2020-02\",\"2020-03\",\"2020-04\",\"2020-05\",\"2020-06\",\"2020-07\"],\"y\":[1.0138648180242635,1.4696707105719238,1.1767764298093588,0.9722703639514731,1.166377816291161,1.076256499133449,1.7954939341421143,1.516464471403813,1.1403812824956672,1.6065857885615251,1.632582322357019,1.3084922010398614,1.7383015597920277,0.6741767764298093,1.2599653379549394,1.0953206239168112,2.079722703639515,2.4783362218370883,1.6031195840554593,0.9688041594454073,1.1629116117850953,1.268630849220104,1.5996533795493935,1.1074523396880416,1.2097053726169844,1.124783362218371,1.4124783362218372,1.682842287694974,1.5511265164644714,1.1282495667244368,2.65684575389948,1.0710571923743502,0.9982668977469671,1,0.9324090121317158,1.5528596187175043]},\"selected\":{\"id\":\"3002296\"},\"selection_policy\":{\"id\":\"3002297\"}},\"id\":\"2995029\",\"type\":\"ColumnDataSource\"},{\"attributes\":{\"active_drag\":\"auto\",\"active_inspect\":\"auto\",\"active_multi\":null,\"active_scroll\":\"auto\",\"active_tap\":\"auto\"},\"id\":\"2995028\",\"type\":\"Toolbar\"},{\"attributes\":{\"label\":{\"value\":\"Moyenne de tous les d\\u00e9put\\u00e9s\"},\"renderers\":[{\"id\":\"2995032\"}]},\"id\":\"2995040\",\"type\":\"LegendItem\"},{\"attributes\":{\"data\":{\"top\":[3,2,0,1,1,1,1,3,0,1,1,1,0,0,0,1,1,2,2,3,0,0,0,0,0,0,1,1,0,4,0,1,1,1,0,0],\"x\":[\"2017-07\",\"2017-08\",\"2017-09\",\"2017-10\",\"2017-11\",\"2017-12\",\"2018-01\",\"2018-02\",\"2018-03\",\"2018-04\",\"2018-05\",\"2018-06\",\"2018-07\",\"2018-08\",\"2018-09\",\"2018-10\",\"2018-11\",\"2018-12\",\"2019-01\",\"2019-02\",\"2019-03\",\"2019-04\",\"2019-05\",\"2019-06\",\"2019-07\",\"2019-09\",\"2019-10\",\"2019-11\",\"2019-12\",\"2020-01\",\"2020-02\",\"2020-03\",\"2020-04\",\"2020-05\",\"2020-06\",\"2020-07\"]},\"selected\":{\"id\":\"3002298\"},\"selection_policy\":{\"id\":\"3002299\"}},\"id\":\"2995041\",\"type\":\"ColumnDataSource\"},{\"attributes\":{},\"id\":\"2995017\",\"type\":\"CategoricalScale\"},{\"attributes\":{\"source\":{\"id\":\"2995041\"}},\"id\":\"2995045\",\"type\":\"CDSView\"}],\"root_ids\":[\"2995010\"]},\"title\":\"Bokeh Application\",\"version\":\"2.0.1\"}};\n",
       "  var render_items = [{\"docid\":\"40b91a4f-b04d-474f-8133-2c08e0ce95f8\",\"root_ids\":[\"2995010\"],\"roots\":{\"2995010\":\"a9714c83-ad6b-4534-af85-ff91d8eacd16\"}}];\n",
       "  root.Bokeh.embed.embed_items_notebook(docs_json, render_items);\n",
       "\n",
       "  }\n",
       "  if (root.Bokeh !== undefined) {\n",
       "    embed_document(root);\n",
       "  } else {\n",
       "    var attempts = 0;\n",
       "    var timer = setInterval(function(root) {\n",
       "      if (root.Bokeh !== undefined) {\n",
       "        clearInterval(timer);\n",
       "        embed_document(root);\n",
       "      } else {\n",
       "        attempts++;\n",
       "        if (attempts > 100) {\n",
       "          clearInterval(timer);\n",
       "          console.log(\"Bokeh: ERROR: Unable to run BokehJS code because BokehJS library is missing\");\n",
       "        }\n",
       "      }\n",
       "    }, 10, root)\n",
       "  }\n",
       "})(window);"
      ],
      "application/vnd.bokehjs_exec.v0+json": ""
     },
     "metadata": {
      "application/vnd.bokehjs_exec.v0+json": {
       "id": "2995010"
      }
     },
     "output_type": "display_data"
    },
    {
     "data": {
      "text/html": [
       "\n",
       "\n",
       "\n",
       "\n",
       "\n",
       "\n",
       "  <div class=\"bk-root\" id=\"52cec0ee-3d7b-44f1-b99c-8252654243ef\" data-root-id=\"3002354\"></div>\n"
      ]
     },
     "metadata": {},
     "output_type": "display_data"
    },
    {
     "data": {
      "application/javascript": [
       "(function(root) {\n",
       "  function embed_document(root) {\n",
       "    \n",
       "  var docs_json = {\"591e0506-7d11-4bcc-88c1-aba64c2c5f85\":{\"roots\":{\"references\":[{\"attributes\":{\"below\":[{\"id\":\"3002365\"}],\"center\":[{\"id\":\"3002367\"},{\"id\":\"3002371\"},{\"id\":\"3002383\"}],\"left\":[{\"id\":\"3002368\"}],\"plot_height\":400,\"plot_width\":700,\"renderers\":[{\"id\":\"3002376\"},{\"id\":\"3002388\"}],\"title\":{\"id\":\"3002355\"},\"toolbar\":{\"id\":\"3002372\"},\"toolbar_location\":null,\"x_range\":{\"id\":\"3002357\"},\"x_scale\":{\"id\":\"3002361\"},\"y_range\":{\"id\":\"3002359\"},\"y_scale\":{\"id\":\"3002363\"}},\"id\":\"3002354\",\"subtype\":\"Figure\",\"type\":\"Plot\"},{\"attributes\":{},\"id\":\"3009650\",\"type\":\"UnionRenderers\"},{\"attributes\":{\"active_drag\":\"auto\",\"active_inspect\":\"auto\",\"active_multi\":null,\"active_scroll\":\"auto\",\"active_tap\":\"auto\"},\"id\":\"3002372\",\"type\":\"Toolbar\"},{\"attributes\":{},\"id\":\"3009651\",\"type\":\"Selection\"},{\"attributes\":{},\"id\":\"3009652\",\"type\":\"UnionRenderers\"},{\"attributes\":{},\"id\":\"3002379\",\"type\":\"CategoricalTickFormatter\"},{\"attributes\":{\"line_alpha\":{\"value\":0.1},\"line_color\":{\"value\":\"red\"},\"line_width\":{\"value\":2},\"x\":{\"field\":\"x\"},\"y\":{\"field\":\"y\"}},\"id\":\"3002375\",\"type\":\"Step\"},{\"attributes\":{\"axis\":{\"id\":\"3002368\"},\"dimension\":1,\"grid_line_color\":null,\"ticker\":null},\"id\":\"3002371\",\"type\":\"Grid\"},{\"attributes\":{\"text\":\"Votes par mois pour Fran\\u00e7ois de Rugy\"},\"id\":\"3002355\",\"type\":\"Title\"},{\"attributes\":{\"data_source\":{\"id\":\"3002373\"},\"glyph\":{\"id\":\"3002374\"},\"hover_glyph\":null,\"muted_glyph\":null,\"nonselection_glyph\":{\"id\":\"3002375\"},\"selection_glyph\":null,\"view\":{\"id\":\"3002377\"}},\"id\":\"3002376\",\"type\":\"GlyphRenderer\"},{\"attributes\":{\"data\":{\"x\":[\"2017-07\",\"2017-08\",\"2017-09\",\"2017-10\",\"2017-11\",\"2017-12\",\"2018-01\",\"2018-02\",\"2018-03\",\"2018-04\",\"2018-05\",\"2018-06\",\"2018-07\",\"2018-08\",\"2018-09\",\"2018-10\",\"2018-11\",\"2018-12\",\"2019-01\",\"2019-02\",\"2019-03\",\"2019-04\",\"2019-05\",\"2019-06\",\"2019-07\",\"2019-09\",\"2019-10\",\"2019-11\",\"2019-12\",\"2020-01\",\"2020-02\",\"2020-03\",\"2020-04\",\"2020-05\",\"2020-06\",\"2020-07\"],\"y\":[1.0138648180242635,1.4696707105719238,1.1767764298093588,0.9722703639514731,1.166377816291161,1.076256499133449,1.7954939341421143,1.516464471403813,1.1403812824956672,1.6065857885615251,1.632582322357019,1.3084922010398614,1.7383015597920277,0.6741767764298093,1.2599653379549394,1.0953206239168112,2.079722703639515,2.4783362218370883,1.6031195840554593,0.9688041594454073,1.1629116117850953,1.268630849220104,1.5996533795493935,1.1074523396880416,1.2097053726169844,1.124783362218371,1.4124783362218372,1.682842287694974,1.5511265164644714,1.1282495667244368,2.65684575389948,1.0710571923743502,0.9982668977469671,1,0.9324090121317158,1.5528596187175043]},\"selected\":{\"id\":\"3009649\"},\"selection_policy\":{\"id\":\"3009650\"}},\"id\":\"3002373\",\"type\":\"ColumnDataSource\"},{\"attributes\":{\"source\":{\"id\":\"3002373\"}},\"id\":\"3002377\",\"type\":\"CDSView\"},{\"attributes\":{\"line_alpha\":{\"value\":0.8},\"line_color\":{\"value\":\"red\"},\"line_width\":{\"value\":2},\"x\":{\"field\":\"x\"},\"y\":{\"field\":\"y\"}},\"id\":\"3002374\",\"type\":\"Step\"},{\"attributes\":{},\"id\":\"3002369\",\"type\":\"BasicTicker\"},{\"attributes\":{},\"id\":\"3002381\",\"type\":\"BasicTickFormatter\"},{\"attributes\":{\"formatter\":{\"id\":\"3002381\"},\"ticker\":{\"id\":\"3002369\"}},\"id\":\"3002368\",\"type\":\"LinearAxis\"},{\"attributes\":{\"items\":[{\"id\":\"3002384\"}]},\"id\":\"3002383\",\"type\":\"Legend\"},{\"attributes\":{\"axis\":{\"id\":\"3002365\"},\"grid_line_color\":null,\"ticker\":null},\"id\":\"3002367\",\"type\":\"Grid\"},{\"attributes\":{\"label\":{\"value\":\"Moyenne de tous les d\\u00e9put\\u00e9s\"},\"renderers\":[{\"id\":\"3002376\"}]},\"id\":\"3002384\",\"type\":\"LegendItem\"},{\"attributes\":{\"formatter\":{\"id\":\"3002379\"},\"major_label_orientation\":\"vertical\",\"ticker\":{\"id\":\"3002366\"}},\"id\":\"3002365\",\"type\":\"CategoricalAxis\"},{\"attributes\":{\"data\":{\"top\":[0,0,0,0,0,0,0,0,0,0,0,0,0,0,0,0,0,0,0,0,0,0,0,0,0,1,2,3,1,1,8,2,1,1,1,0],\"x\":[\"2017-07\",\"2017-08\",\"2017-09\",\"2017-10\",\"2017-11\",\"2017-12\",\"2018-01\",\"2018-02\",\"2018-03\",\"2018-04\",\"2018-05\",\"2018-06\",\"2018-07\",\"2018-08\",\"2018-09\",\"2018-10\",\"2018-11\",\"2018-12\",\"2019-01\",\"2019-02\",\"2019-03\",\"2019-04\",\"2019-05\",\"2019-06\",\"2019-07\",\"2019-09\",\"2019-10\",\"2019-11\",\"2019-12\",\"2020-01\",\"2020-02\",\"2020-03\",\"2020-04\",\"2020-05\",\"2020-06\",\"2020-07\"]},\"selected\":{\"id\":\"3009651\"},\"selection_policy\":{\"id\":\"3009652\"}},\"id\":\"3002385\",\"type\":\"ColumnDataSource\"},{\"attributes\":{},\"id\":\"3002366\",\"type\":\"CategoricalTicker\"},{\"attributes\":{},\"id\":\"3002363\",\"type\":\"LinearScale\"},{\"attributes\":{\"data_source\":{\"id\":\"3002385\"},\"glyph\":{\"id\":\"3002386\"},\"hover_glyph\":null,\"muted_glyph\":null,\"nonselection_glyph\":{\"id\":\"3002387\"},\"selection_glyph\":null,\"view\":{\"id\":\"3002389\"}},\"id\":\"3002388\",\"type\":\"GlyphRenderer\"},{\"attributes\":{\"source\":{\"id\":\"3002385\"}},\"id\":\"3002389\",\"type\":\"CDSView\"},{\"attributes\":{},\"id\":\"3002361\",\"type\":\"CategoricalScale\"},{\"attributes\":{\"fill_alpha\":{\"value\":0.5},\"fill_color\":{\"value\":\"#1f77b4\"},\"line_alpha\":{\"value\":0.5},\"line_color\":{\"value\":\"#1f77b4\"},\"top\":{\"field\":\"top\"},\"width\":{\"value\":1},\"x\":{\"field\":\"x\"}},\"id\":\"3002386\",\"type\":\"VBar\"},{\"attributes\":{\"end\":10,\"start\":0},\"id\":\"3002359\",\"type\":\"DataRange1d\"},{\"attributes\":{\"factors\":[\"2017-07\",\"2017-08\",\"2017-09\",\"2017-10\",\"2017-11\",\"2017-12\",\"2018-01\",\"2018-02\",\"2018-03\",\"2018-04\",\"2018-05\",\"2018-06\",\"2018-07\",\"2018-08\",\"2018-09\",\"2018-10\",\"2018-11\",\"2018-12\",\"2019-01\",\"2019-02\",\"2019-03\",\"2019-04\",\"2019-05\",\"2019-06\",\"2019-07\",\"2019-09\",\"2019-10\",\"2019-11\",\"2019-12\",\"2020-01\",\"2020-02\",\"2020-03\",\"2020-04\",\"2020-05\",\"2020-06\",\"2020-07\"]},\"id\":\"3002357\",\"type\":\"FactorRange\"},{\"attributes\":{\"fill_alpha\":{\"value\":0.1},\"fill_color\":{\"value\":\"#1f77b4\"},\"line_alpha\":{\"value\":0.1},\"line_color\":{\"value\":\"#1f77b4\"},\"top\":{\"field\":\"top\"},\"width\":{\"value\":1},\"x\":{\"field\":\"x\"}},\"id\":\"3002387\",\"type\":\"VBar\"},{\"attributes\":{},\"id\":\"3009649\",\"type\":\"Selection\"}],\"root_ids\":[\"3002354\"]},\"title\":\"Bokeh Application\",\"version\":\"2.0.1\"}};\n",
       "  var render_items = [{\"docid\":\"591e0506-7d11-4bcc-88c1-aba64c2c5f85\",\"root_ids\":[\"3002354\"],\"roots\":{\"3002354\":\"52cec0ee-3d7b-44f1-b99c-8252654243ef\"}}];\n",
       "  root.Bokeh.embed.embed_items_notebook(docs_json, render_items);\n",
       "\n",
       "  }\n",
       "  if (root.Bokeh !== undefined) {\n",
       "    embed_document(root);\n",
       "  } else {\n",
       "    var attempts = 0;\n",
       "    var timer = setInterval(function(root) {\n",
       "      if (root.Bokeh !== undefined) {\n",
       "        clearInterval(timer);\n",
       "        embed_document(root);\n",
       "      } else {\n",
       "        attempts++;\n",
       "        if (attempts > 100) {\n",
       "          clearInterval(timer);\n",
       "          console.log(\"Bokeh: ERROR: Unable to run BokehJS code because BokehJS library is missing\");\n",
       "        }\n",
       "      }\n",
       "    }, 10, root)\n",
       "  }\n",
       "})(window);"
      ],
      "application/vnd.bokehjs_exec.v0+json": ""
     },
     "metadata": {
      "application/vnd.bokehjs_exec.v0+json": {
       "id": "3002354"
      }
     },
     "output_type": "display_data"
    },
    {
     "data": {
      "text/html": [
       "\n",
       "\n",
       "\n",
       "\n",
       "\n",
       "\n",
       "  <div class=\"bk-root\" id=\"cf298ef8-c788-4c6c-b8ec-540dc82781bb\" data-root-id=\"3009707\"></div>\n"
      ]
     },
     "metadata": {},
     "output_type": "display_data"
    },
    {
     "data": {
      "application/javascript": [
       "(function(root) {\n",
       "  function embed_document(root) {\n",
       "    \n",
       "  var docs_json = {\"903e0df0-7452-4297-b5fd-d9a9646ee9fe\":{\"roots\":{\"references\":[{\"attributes\":{\"below\":[{\"id\":\"3009718\"}],\"center\":[{\"id\":\"3009720\"},{\"id\":\"3009724\"},{\"id\":\"3009736\"}],\"left\":[{\"id\":\"3009721\"}],\"plot_height\":400,\"plot_width\":700,\"renderers\":[{\"id\":\"3009729\"},{\"id\":\"3009741\"}],\"title\":{\"id\":\"3009708\"},\"toolbar\":{\"id\":\"3009725\"},\"toolbar_location\":null,\"x_range\":{\"id\":\"3009710\"},\"x_scale\":{\"id\":\"3009714\"},\"y_range\":{\"id\":\"3009712\"},\"y_scale\":{\"id\":\"3009716\"}},\"id\":\"3009707\",\"subtype\":\"Figure\",\"type\":\"Plot\"},{\"attributes\":{},\"id\":\"3009732\",\"type\":\"CategoricalTickFormatter\"},{\"attributes\":{\"source\":{\"id\":\"3009726\"}},\"id\":\"3009730\",\"type\":\"CDSView\"},{\"attributes\":{\"data_source\":{\"id\":\"3009726\"},\"glyph\":{\"id\":\"3009727\"},\"hover_glyph\":null,\"muted_glyph\":null,\"nonselection_glyph\":{\"id\":\"3009728\"},\"selection_glyph\":null,\"view\":{\"id\":\"3009730\"}},\"id\":\"3009729\",\"type\":\"GlyphRenderer\"},{\"attributes\":{\"line_alpha\":{\"value\":0.1},\"line_color\":{\"value\":\"red\"},\"line_width\":{\"value\":2},\"x\":{\"field\":\"x\"},\"y\":{\"field\":\"y\"}},\"id\":\"3009728\",\"type\":\"Step\"},{\"attributes\":{},\"id\":\"3009734\",\"type\":\"BasicTickFormatter\"},{\"attributes\":{},\"id\":\"3009722\",\"type\":\"BasicTicker\"},{\"attributes\":{\"items\":[{\"id\":\"3009737\"}]},\"id\":\"3009736\",\"type\":\"Legend\"},{\"attributes\":{\"label\":{\"value\":\"Moyenne de tous les d\\u00e9put\\u00e9s\"},\"renderers\":[{\"id\":\"3009729\"}]},\"id\":\"3009737\",\"type\":\"LegendItem\"},{\"attributes\":{\"axis\":{\"id\":\"3009721\"},\"dimension\":1,\"grid_line_color\":null,\"ticker\":null},\"id\":\"3009724\",\"type\":\"Grid\"},{\"attributes\":{\"formatter\":{\"id\":\"3009734\"},\"ticker\":{\"id\":\"3009722\"}},\"id\":\"3009721\",\"type\":\"LinearAxis\"},{\"attributes\":{\"line_alpha\":{\"value\":0.8},\"line_color\":{\"value\":\"red\"},\"line_width\":{\"value\":2},\"x\":{\"field\":\"x\"},\"y\":{\"field\":\"y\"}},\"id\":\"3009727\",\"type\":\"Step\"},{\"attributes\":{\"data\":{\"top\":[2,1,0,1,1,1,1,1,1,1,0,1,0,0,0,1,0,0,0,1,1,0,1,1,1,1,1,1,1,0,0,1,1,1,1,0],\"x\":[\"2017-07\",\"2017-08\",\"2017-09\",\"2017-10\",\"2017-11\",\"2017-12\",\"2018-01\",\"2018-02\",\"2018-03\",\"2018-04\",\"2018-05\",\"2018-06\",\"2018-07\",\"2018-08\",\"2018-09\",\"2018-10\",\"2018-11\",\"2018-12\",\"2019-01\",\"2019-02\",\"2019-03\",\"2019-04\",\"2019-05\",\"2019-06\",\"2019-07\",\"2019-09\",\"2019-10\",\"2019-11\",\"2019-12\",\"2020-01\",\"2020-02\",\"2020-03\",\"2020-04\",\"2020-05\",\"2020-06\",\"2020-07\"]},\"selected\":{\"id\":\"3017013\"},\"selection_policy\":{\"id\":\"3017014\"}},\"id\":\"3009738\",\"type\":\"ColumnDataSource\"},{\"attributes\":{\"axis\":{\"id\":\"3009718\"},\"grid_line_color\":null,\"ticker\":null},\"id\":\"3009720\",\"type\":\"Grid\"},{\"attributes\":{},\"id\":\"3009714\",\"type\":\"CategoricalScale\"},{\"attributes\":{\"data_source\":{\"id\":\"3009738\"},\"glyph\":{\"id\":\"3009739\"},\"hover_glyph\":null,\"muted_glyph\":null,\"nonselection_glyph\":{\"id\":\"3009740\"},\"selection_glyph\":null,\"view\":{\"id\":\"3009742\"}},\"id\":\"3009741\",\"type\":\"GlyphRenderer\"},{\"attributes\":{},\"id\":\"3009719\",\"type\":\"CategoricalTicker\"},{\"attributes\":{\"source\":{\"id\":\"3009738\"}},\"id\":\"3009742\",\"type\":\"CDSView\"},{\"attributes\":{\"fill_alpha\":{\"value\":0.5},\"fill_color\":{\"value\":\"#1f77b4\"},\"line_alpha\":{\"value\":0.5},\"line_color\":{\"value\":\"#1f77b4\"},\"top\":{\"field\":\"top\"},\"width\":{\"value\":1},\"x\":{\"field\":\"x\"}},\"id\":\"3009739\",\"type\":\"VBar\"},{\"attributes\":{\"formatter\":{\"id\":\"3009732\"},\"major_label_orientation\":\"vertical\",\"ticker\":{\"id\":\"3009719\"}},\"id\":\"3009718\",\"type\":\"CategoricalAxis\"},{\"attributes\":{},\"id\":\"3009716\",\"type\":\"LinearScale\"},{\"attributes\":{\"fill_alpha\":{\"value\":0.1},\"fill_color\":{\"value\":\"#1f77b4\"},\"line_alpha\":{\"value\":0.1},\"line_color\":{\"value\":\"#1f77b4\"},\"top\":{\"field\":\"top\"},\"width\":{\"value\":1},\"x\":{\"field\":\"x\"}},\"id\":\"3009740\",\"type\":\"VBar\"},{\"attributes\":{},\"id\":\"3017011\",\"type\":\"Selection\"},{\"attributes\":{\"end\":10,\"start\":0},\"id\":\"3009712\",\"type\":\"DataRange1d\"},{\"attributes\":{},\"id\":\"3017012\",\"type\":\"UnionRenderers\"},{\"attributes\":{\"factors\":[\"2017-07\",\"2017-08\",\"2017-09\",\"2017-10\",\"2017-11\",\"2017-12\",\"2018-01\",\"2018-02\",\"2018-03\",\"2018-04\",\"2018-05\",\"2018-06\",\"2018-07\",\"2018-08\",\"2018-09\",\"2018-10\",\"2018-11\",\"2018-12\",\"2019-01\",\"2019-02\",\"2019-03\",\"2019-04\",\"2019-05\",\"2019-06\",\"2019-07\",\"2019-09\",\"2019-10\",\"2019-11\",\"2019-12\",\"2020-01\",\"2020-02\",\"2020-03\",\"2020-04\",\"2020-05\",\"2020-06\",\"2020-07\"]},\"id\":\"3009710\",\"type\":\"FactorRange\"},{\"attributes\":{\"text\":\"Votes par mois pour Bernard Brochand\"},\"id\":\"3009708\",\"type\":\"Title\"},{\"attributes\":{},\"id\":\"3017013\",\"type\":\"Selection\"},{\"attributes\":{},\"id\":\"3017014\",\"type\":\"UnionRenderers\"},{\"attributes\":{\"data\":{\"x\":[\"2017-07\",\"2017-08\",\"2017-09\",\"2017-10\",\"2017-11\",\"2017-12\",\"2018-01\",\"2018-02\",\"2018-03\",\"2018-04\",\"2018-05\",\"2018-06\",\"2018-07\",\"2018-08\",\"2018-09\",\"2018-10\",\"2018-11\",\"2018-12\",\"2019-01\",\"2019-02\",\"2019-03\",\"2019-04\",\"2019-05\",\"2019-06\",\"2019-07\",\"2019-09\",\"2019-10\",\"2019-11\",\"2019-12\",\"2020-01\",\"2020-02\",\"2020-03\",\"2020-04\",\"2020-05\",\"2020-06\",\"2020-07\"],\"y\":[1.0138648180242635,1.4696707105719238,1.1767764298093588,0.9722703639514731,1.166377816291161,1.076256499133449,1.7954939341421143,1.516464471403813,1.1403812824956672,1.6065857885615251,1.632582322357019,1.3084922010398614,1.7383015597920277,0.6741767764298093,1.2599653379549394,1.0953206239168112,2.079722703639515,2.4783362218370883,1.6031195840554593,0.9688041594454073,1.1629116117850953,1.268630849220104,1.5996533795493935,1.1074523396880416,1.2097053726169844,1.124783362218371,1.4124783362218372,1.682842287694974,1.5511265164644714,1.1282495667244368,2.65684575389948,1.0710571923743502,0.9982668977469671,1,0.9324090121317158,1.5528596187175043]},\"selected\":{\"id\":\"3017011\"},\"selection_policy\":{\"id\":\"3017012\"}},\"id\":\"3009726\",\"type\":\"ColumnDataSource\"},{\"attributes\":{\"active_drag\":\"auto\",\"active_inspect\":\"auto\",\"active_multi\":null,\"active_scroll\":\"auto\",\"active_tap\":\"auto\"},\"id\":\"3009725\",\"type\":\"Toolbar\"}],\"root_ids\":[\"3009707\"]},\"title\":\"Bokeh Application\",\"version\":\"2.0.1\"}};\n",
       "  var render_items = [{\"docid\":\"903e0df0-7452-4297-b5fd-d9a9646ee9fe\",\"root_ids\":[\"3009707\"],\"roots\":{\"3009707\":\"cf298ef8-c788-4c6c-b8ec-540dc82781bb\"}}];\n",
       "  root.Bokeh.embed.embed_items_notebook(docs_json, render_items);\n",
       "\n",
       "  }\n",
       "  if (root.Bokeh !== undefined) {\n",
       "    embed_document(root);\n",
       "  } else {\n",
       "    var attempts = 0;\n",
       "    var timer = setInterval(function(root) {\n",
       "      if (root.Bokeh !== undefined) {\n",
       "        clearInterval(timer);\n",
       "        embed_document(root);\n",
       "      } else {\n",
       "        attempts++;\n",
       "        if (attempts > 100) {\n",
       "          clearInterval(timer);\n",
       "          console.log(\"Bokeh: ERROR: Unable to run BokehJS code because BokehJS library is missing\");\n",
       "        }\n",
       "      }\n",
       "    }, 10, root)\n",
       "  }\n",
       "})(window);"
      ],
      "application/vnd.bokehjs_exec.v0+json": ""
     },
     "metadata": {
      "application/vnd.bokehjs_exec.v0+json": {
       "id": "3009707"
      }
     },
     "output_type": "display_data"
    },
    {
     "data": {
      "text/html": [
       "\n",
       "\n",
       "\n",
       "\n",
       "\n",
       "\n",
       "  <div class=\"bk-root\" id=\"72e341ac-3605-4fab-a365-0ef8fcd8a3e2\" data-root-id=\"3017069\"></div>\n"
      ]
     },
     "metadata": {},
     "output_type": "display_data"
    },
    {
     "data": {
      "application/javascript": [
       "(function(root) {\n",
       "  function embed_document(root) {\n",
       "    \n",
       "  var docs_json = {\"b27c9ed6-0d31-4f87-9812-409dbdfc5251\":{\"roots\":{\"references\":[{\"attributes\":{\"below\":[{\"id\":\"3017080\"}],\"center\":[{\"id\":\"3017082\"},{\"id\":\"3017086\"},{\"id\":\"3017098\"}],\"left\":[{\"id\":\"3017083\"}],\"plot_height\":400,\"plot_width\":700,\"renderers\":[{\"id\":\"3017091\"},{\"id\":\"3017103\"}],\"title\":{\"id\":\"3017070\"},\"toolbar\":{\"id\":\"3017087\"},\"toolbar_location\":null,\"x_range\":{\"id\":\"3017072\"},\"x_scale\":{\"id\":\"3017076\"},\"y_range\":{\"id\":\"3017074\"},\"y_scale\":{\"id\":\"3017078\"}},\"id\":\"3017069\",\"subtype\":\"Figure\",\"type\":\"Plot\"},{\"attributes\":{\"source\":{\"id\":\"3017100\"}},\"id\":\"3017104\",\"type\":\"CDSView\"},{\"attributes\":{\"line_alpha\":{\"value\":0.1},\"line_color\":{\"value\":\"red\"},\"line_width\":{\"value\":2},\"x\":{\"field\":\"x\"},\"y\":{\"field\":\"y\"}},\"id\":\"3017090\",\"type\":\"Step\"},{\"attributes\":{},\"id\":\"3017076\",\"type\":\"CategoricalScale\"},{\"attributes\":{\"axis\":{\"id\":\"3017083\"},\"dimension\":1,\"grid_line_color\":null,\"ticker\":null},\"id\":\"3017086\",\"type\":\"Grid\"},{\"attributes\":{\"data_source\":{\"id\":\"3017100\"},\"glyph\":{\"id\":\"3017101\"},\"hover_glyph\":null,\"muted_glyph\":null,\"nonselection_glyph\":{\"id\":\"3017102\"},\"selection_glyph\":null,\"view\":{\"id\":\"3017104\"}},\"id\":\"3017103\",\"type\":\"GlyphRenderer\"},{\"attributes\":{},\"id\":\"3017094\",\"type\":\"CategoricalTickFormatter\"},{\"attributes\":{\"fill_alpha\":{\"value\":0.1},\"fill_color\":{\"value\":\"#1f77b4\"},\"line_alpha\":{\"value\":0.1},\"line_color\":{\"value\":\"#1f77b4\"},\"top\":{\"field\":\"top\"},\"width\":{\"value\":1},\"x\":{\"field\":\"x\"}},\"id\":\"3017102\",\"type\":\"VBar\"},{\"attributes\":{},\"id\":\"3024382\",\"type\":\"Selection\"},{\"attributes\":{\"data\":{\"top\":[1,1,0,1,1,1,1,1,0,1,1,1,0,0,1,1,1,0,2,1,0,0,1,1,1,1,0,1,2,0,0,1,1,1,1,0],\"x\":[\"2017-07\",\"2017-08\",\"2017-09\",\"2017-10\",\"2017-11\",\"2017-12\",\"2018-01\",\"2018-02\",\"2018-03\",\"2018-04\",\"2018-05\",\"2018-06\",\"2018-07\",\"2018-08\",\"2018-09\",\"2018-10\",\"2018-11\",\"2018-12\",\"2019-01\",\"2019-02\",\"2019-03\",\"2019-04\",\"2019-05\",\"2019-06\",\"2019-07\",\"2019-09\",\"2019-10\",\"2019-11\",\"2019-12\",\"2020-01\",\"2020-02\",\"2020-03\",\"2020-04\",\"2020-05\",\"2020-06\",\"2020-07\"]},\"selected\":{\"id\":\"3024384\"},\"selection_policy\":{\"id\":\"3024385\"}},\"id\":\"3017100\",\"type\":\"ColumnDataSource\"},{\"attributes\":{},\"id\":\"3017084\",\"type\":\"BasicTicker\"},{\"attributes\":{\"line_alpha\":{\"value\":0.8},\"line_color\":{\"value\":\"red\"},\"line_width\":{\"value\":2},\"x\":{\"field\":\"x\"},\"y\":{\"field\":\"y\"}},\"id\":\"3017089\",\"type\":\"Step\"},{\"attributes\":{},\"id\":\"3024383\",\"type\":\"UnionRenderers\"},{\"attributes\":{\"formatter\":{\"id\":\"3017096\"},\"ticker\":{\"id\":\"3017084\"}},\"id\":\"3017083\",\"type\":\"LinearAxis\"},{\"attributes\":{\"fill_alpha\":{\"value\":0.5},\"fill_color\":{\"value\":\"#1f77b4\"},\"line_alpha\":{\"value\":0.5},\"line_color\":{\"value\":\"#1f77b4\"},\"top\":{\"field\":\"top\"},\"width\":{\"value\":1},\"x\":{\"field\":\"x\"}},\"id\":\"3017101\",\"type\":\"VBar\"},{\"attributes\":{},\"id\":\"3024384\",\"type\":\"Selection\"},{\"attributes\":{\"axis\":{\"id\":\"3017080\"},\"grid_line_color\":null,\"ticker\":null},\"id\":\"3017082\",\"type\":\"Grid\"},{\"attributes\":{},\"id\":\"3024385\",\"type\":\"UnionRenderers\"},{\"attributes\":{},\"id\":\"3017081\",\"type\":\"CategoricalTicker\"},{\"attributes\":{\"formatter\":{\"id\":\"3017094\"},\"major_label_orientation\":\"vertical\",\"ticker\":{\"id\":\"3017081\"}},\"id\":\"3017080\",\"type\":\"CategoricalAxis\"},{\"attributes\":{},\"id\":\"3017078\",\"type\":\"LinearScale\"},{\"attributes\":{\"end\":10,\"start\":0},\"id\":\"3017074\",\"type\":\"DataRange1d\"},{\"attributes\":{\"items\":[{\"id\":\"3017099\"}]},\"id\":\"3017098\",\"type\":\"Legend\"},{\"attributes\":{\"data\":{\"x\":[\"2017-07\",\"2017-08\",\"2017-09\",\"2017-10\",\"2017-11\",\"2017-12\",\"2018-01\",\"2018-02\",\"2018-03\",\"2018-04\",\"2018-05\",\"2018-06\",\"2018-07\",\"2018-08\",\"2018-09\",\"2018-10\",\"2018-11\",\"2018-12\",\"2019-01\",\"2019-02\",\"2019-03\",\"2019-04\",\"2019-05\",\"2019-06\",\"2019-07\",\"2019-09\",\"2019-10\",\"2019-11\",\"2019-12\",\"2020-01\",\"2020-02\",\"2020-03\",\"2020-04\",\"2020-05\",\"2020-06\",\"2020-07\"],\"y\":[1.0138648180242635,1.4696707105719238,1.1767764298093588,0.9722703639514731,1.166377816291161,1.076256499133449,1.7954939341421143,1.516464471403813,1.1403812824956672,1.6065857885615251,1.632582322357019,1.3084922010398614,1.7383015597920277,0.6741767764298093,1.2599653379549394,1.0953206239168112,2.079722703639515,2.4783362218370883,1.6031195840554593,0.9688041594454073,1.1629116117850953,1.268630849220104,1.5996533795493935,1.1074523396880416,1.2097053726169844,1.124783362218371,1.4124783362218372,1.682842287694974,1.5511265164644714,1.1282495667244368,2.65684575389948,1.0710571923743502,0.9982668977469671,1,0.9324090121317158,1.5528596187175043]},\"selected\":{\"id\":\"3024382\"},\"selection_policy\":{\"id\":\"3024383\"}},\"id\":\"3017088\",\"type\":\"ColumnDataSource\"},{\"attributes\":{\"text\":\"Votes par mois pour Olivier Dassault\"},\"id\":\"3017070\",\"type\":\"Title\"},{\"attributes\":{\"label\":{\"value\":\"Moyenne de tous les d\\u00e9put\\u00e9s\"},\"renderers\":[{\"id\":\"3017091\"}]},\"id\":\"3017099\",\"type\":\"LegendItem\"},{\"attributes\":{\"active_drag\":\"auto\",\"active_inspect\":\"auto\",\"active_multi\":null,\"active_scroll\":\"auto\",\"active_tap\":\"auto\"},\"id\":\"3017087\",\"type\":\"Toolbar\"},{\"attributes\":{\"factors\":[\"2017-07\",\"2017-08\",\"2017-09\",\"2017-10\",\"2017-11\",\"2017-12\",\"2018-01\",\"2018-02\",\"2018-03\",\"2018-04\",\"2018-05\",\"2018-06\",\"2018-07\",\"2018-08\",\"2018-09\",\"2018-10\",\"2018-11\",\"2018-12\",\"2019-01\",\"2019-02\",\"2019-03\",\"2019-04\",\"2019-05\",\"2019-06\",\"2019-07\",\"2019-09\",\"2019-10\",\"2019-11\",\"2019-12\",\"2020-01\",\"2020-02\",\"2020-03\",\"2020-04\",\"2020-05\",\"2020-06\",\"2020-07\"]},\"id\":\"3017072\",\"type\":\"FactorRange\"},{\"attributes\":{},\"id\":\"3017096\",\"type\":\"BasicTickFormatter\"},{\"attributes\":{\"data_source\":{\"id\":\"3017088\"},\"glyph\":{\"id\":\"3017089\"},\"hover_glyph\":null,\"muted_glyph\":null,\"nonselection_glyph\":{\"id\":\"3017090\"},\"selection_glyph\":null,\"view\":{\"id\":\"3017092\"}},\"id\":\"3017091\",\"type\":\"GlyphRenderer\"},{\"attributes\":{\"source\":{\"id\":\"3017088\"}},\"id\":\"3017092\",\"type\":\"CDSView\"}],\"root_ids\":[\"3017069\"]},\"title\":\"Bokeh Application\",\"version\":\"2.0.1\"}};\n",
       "  var render_items = [{\"docid\":\"b27c9ed6-0d31-4f87-9812-409dbdfc5251\",\"root_ids\":[\"3017069\"],\"roots\":{\"3017069\":\"72e341ac-3605-4fab-a365-0ef8fcd8a3e2\"}}];\n",
       "  root.Bokeh.embed.embed_items_notebook(docs_json, render_items);\n",
       "\n",
       "  }\n",
       "  if (root.Bokeh !== undefined) {\n",
       "    embed_document(root);\n",
       "  } else {\n",
       "    var attempts = 0;\n",
       "    var timer = setInterval(function(root) {\n",
       "      if (root.Bokeh !== undefined) {\n",
       "        clearInterval(timer);\n",
       "        embed_document(root);\n",
       "      } else {\n",
       "        attempts++;\n",
       "        if (attempts > 100) {\n",
       "          clearInterval(timer);\n",
       "          console.log(\"Bokeh: ERROR: Unable to run BokehJS code because BokehJS library is missing\");\n",
       "        }\n",
       "      }\n",
       "    }, 10, root)\n",
       "  }\n",
       "})(window);"
      ],
      "application/vnd.bokehjs_exec.v0+json": ""
     },
     "metadata": {
      "application/vnd.bokehjs_exec.v0+json": {
       "id": "3017069"
      }
     },
     "output_type": "display_data"
    },
    {
     "data": {
      "text/html": [
       "\n",
       "\n",
       "\n",
       "\n",
       "\n",
       "\n",
       "  <div class=\"bk-root\" id=\"a7fe25b9-b54a-4336-86fb-9a842e7ceb5c\" data-root-id=\"3024440\"></div>\n"
      ]
     },
     "metadata": {},
     "output_type": "display_data"
    },
    {
     "data": {
      "application/javascript": [
       "(function(root) {\n",
       "  function embed_document(root) {\n",
       "    \n",
       "  var docs_json = {\"3c626f60-afe5-4cd3-ad08-7205d34ea393\":{\"roots\":{\"references\":[{\"attributes\":{\"below\":[{\"id\":\"3024451\"}],\"center\":[{\"id\":\"3024453\"},{\"id\":\"3024457\"},{\"id\":\"3024469\"}],\"left\":[{\"id\":\"3024454\"}],\"plot_height\":400,\"plot_width\":700,\"renderers\":[{\"id\":\"3024462\"},{\"id\":\"3024474\"}],\"title\":{\"id\":\"3024441\"},\"toolbar\":{\"id\":\"3024458\"},\"toolbar_location\":null,\"x_range\":{\"id\":\"3024443\"},\"x_scale\":{\"id\":\"3024447\"},\"y_range\":{\"id\":\"3024445\"},\"y_scale\":{\"id\":\"3024449\"}},\"id\":\"3024440\",\"subtype\":\"Figure\",\"type\":\"Plot\"},{\"attributes\":{\"formatter\":{\"id\":\"3024465\"},\"major_label_orientation\":\"vertical\",\"ticker\":{\"id\":\"3024452\"}},\"id\":\"3024451\",\"type\":\"CategoricalAxis\"},{\"attributes\":{},\"id\":\"3031764\",\"type\":\"Selection\"},{\"attributes\":{},\"id\":\"3024449\",\"type\":\"LinearScale\"},{\"attributes\":{},\"id\":\"3031765\",\"type\":\"UnionRenderers\"},{\"attributes\":{},\"id\":\"3024447\",\"type\":\"CategoricalScale\"},{\"attributes\":{\"data\":{\"x\":[\"2017-07\",\"2017-08\",\"2017-09\",\"2017-10\",\"2017-11\",\"2017-12\",\"2018-01\",\"2018-02\",\"2018-03\",\"2018-04\",\"2018-05\",\"2018-06\",\"2018-07\",\"2018-08\",\"2018-09\",\"2018-10\",\"2018-11\",\"2018-12\",\"2019-01\",\"2019-02\",\"2019-03\",\"2019-04\",\"2019-05\",\"2019-06\",\"2019-07\",\"2019-09\",\"2019-10\",\"2019-11\",\"2019-12\",\"2020-01\",\"2020-02\",\"2020-03\",\"2020-04\",\"2020-05\",\"2020-06\",\"2020-07\"],\"y\":[1.0138648180242635,1.4696707105719238,1.1767764298093588,0.9722703639514731,1.166377816291161,1.076256499133449,1.7954939341421143,1.516464471403813,1.1403812824956672,1.6065857885615251,1.632582322357019,1.3084922010398614,1.7383015597920277,0.6741767764298093,1.2599653379549394,1.0953206239168112,2.079722703639515,2.4783362218370883,1.6031195840554593,0.9688041594454073,1.1629116117850953,1.268630849220104,1.5996533795493935,1.1074523396880416,1.2097053726169844,1.124783362218371,1.4124783362218372,1.682842287694974,1.5511265164644714,1.1282495667244368,2.65684575389948,1.0710571923743502,0.9982668977469671,1,0.9324090121317158,1.5528596187175043]},\"selected\":{\"id\":\"3031762\"},\"selection_policy\":{\"id\":\"3031763\"}},\"id\":\"3024459\",\"type\":\"ColumnDataSource\"},{\"attributes\":{\"text\":\"Votes par mois pour Benjamin Griveaux\"},\"id\":\"3024441\",\"type\":\"Title\"},{\"attributes\":{\"data\":{\"top\":[0,0,0,0,0,0,0,0,0,0,0,0,0,0,0,0,0,0,0,0,0,0,1,1,1,0,2,1,2,0,0,1,1,1,1,4],\"x\":[\"2017-07\",\"2017-08\",\"2017-09\",\"2017-10\",\"2017-11\",\"2017-12\",\"2018-01\",\"2018-02\",\"2018-03\",\"2018-04\",\"2018-05\",\"2018-06\",\"2018-07\",\"2018-08\",\"2018-09\",\"2018-10\",\"2018-11\",\"2018-12\",\"2019-01\",\"2019-02\",\"2019-03\",\"2019-04\",\"2019-05\",\"2019-06\",\"2019-07\",\"2019-09\",\"2019-10\",\"2019-11\",\"2019-12\",\"2020-01\",\"2020-02\",\"2020-03\",\"2020-04\",\"2020-05\",\"2020-06\",\"2020-07\"]},\"selected\":{\"id\":\"3031764\"},\"selection_policy\":{\"id\":\"3031765\"}},\"id\":\"3024471\",\"type\":\"ColumnDataSource\"},{\"attributes\":{},\"id\":\"3031763\",\"type\":\"UnionRenderers\"},{\"attributes\":{\"active_drag\":\"auto\",\"active_inspect\":\"auto\",\"active_multi\":null,\"active_scroll\":\"auto\",\"active_tap\":\"auto\"},\"id\":\"3024458\",\"type\":\"Toolbar\"},{\"attributes\":{},\"id\":\"3024467\",\"type\":\"BasicTickFormatter\"},{\"attributes\":{\"label\":{\"value\":\"Moyenne de tous les d\\u00e9put\\u00e9s\"},\"renderers\":[{\"id\":\"3024462\"}]},\"id\":\"3024470\",\"type\":\"LegendItem\"},{\"attributes\":{},\"id\":\"3024465\",\"type\":\"CategoricalTickFormatter\"},{\"attributes\":{\"fill_alpha\":{\"value\":0.1},\"fill_color\":{\"value\":\"#1f77b4\"},\"line_alpha\":{\"value\":0.1},\"line_color\":{\"value\":\"#1f77b4\"},\"top\":{\"field\":\"top\"},\"width\":{\"value\":1},\"x\":{\"field\":\"x\"}},\"id\":\"3024473\",\"type\":\"VBar\"},{\"attributes\":{\"source\":{\"id\":\"3024459\"}},\"id\":\"3024463\",\"type\":\"CDSView\"},{\"attributes\":{},\"id\":\"3031762\",\"type\":\"Selection\"},{\"attributes\":{\"items\":[{\"id\":\"3024470\"}]},\"id\":\"3024469\",\"type\":\"Legend\"},{\"attributes\":{\"factors\":[\"2017-07\",\"2017-08\",\"2017-09\",\"2017-10\",\"2017-11\",\"2017-12\",\"2018-01\",\"2018-02\",\"2018-03\",\"2018-04\",\"2018-05\",\"2018-06\",\"2018-07\",\"2018-08\",\"2018-09\",\"2018-10\",\"2018-11\",\"2018-12\",\"2019-01\",\"2019-02\",\"2019-03\",\"2019-04\",\"2019-05\",\"2019-06\",\"2019-07\",\"2019-09\",\"2019-10\",\"2019-11\",\"2019-12\",\"2020-01\",\"2020-02\",\"2020-03\",\"2020-04\",\"2020-05\",\"2020-06\",\"2020-07\"]},\"id\":\"3024443\",\"type\":\"FactorRange\"},{\"attributes\":{\"data_source\":{\"id\":\"3024459\"},\"glyph\":{\"id\":\"3024460\"},\"hover_glyph\":null,\"muted_glyph\":null,\"nonselection_glyph\":{\"id\":\"3024461\"},\"selection_glyph\":null,\"view\":{\"id\":\"3024463\"}},\"id\":\"3024462\",\"type\":\"GlyphRenderer\"},{\"attributes\":{\"axis\":{\"id\":\"3024454\"},\"dimension\":1,\"grid_line_color\":null,\"ticker\":null},\"id\":\"3024457\",\"type\":\"Grid\"},{\"attributes\":{\"line_alpha\":{\"value\":0.1},\"line_color\":{\"value\":\"red\"},\"line_width\":{\"value\":2},\"x\":{\"field\":\"x\"},\"y\":{\"field\":\"y\"}},\"id\":\"3024461\",\"type\":\"Step\"},{\"attributes\":{},\"id\":\"3024455\",\"type\":\"BasicTicker\"},{\"attributes\":{\"data_source\":{\"id\":\"3024471\"},\"glyph\":{\"id\":\"3024472\"},\"hover_glyph\":null,\"muted_glyph\":null,\"nonselection_glyph\":{\"id\":\"3024473\"},\"selection_glyph\":null,\"view\":{\"id\":\"3024475\"}},\"id\":\"3024474\",\"type\":\"GlyphRenderer\"},{\"attributes\":{\"source\":{\"id\":\"3024471\"}},\"id\":\"3024475\",\"type\":\"CDSView\"},{\"attributes\":{\"formatter\":{\"id\":\"3024467\"},\"ticker\":{\"id\":\"3024455\"}},\"id\":\"3024454\",\"type\":\"LinearAxis\"},{\"attributes\":{},\"id\":\"3024452\",\"type\":\"CategoricalTicker\"},{\"attributes\":{\"fill_alpha\":{\"value\":0.5},\"fill_color\":{\"value\":\"#1f77b4\"},\"line_alpha\":{\"value\":0.5},\"line_color\":{\"value\":\"#1f77b4\"},\"top\":{\"field\":\"top\"},\"width\":{\"value\":1},\"x\":{\"field\":\"x\"}},\"id\":\"3024472\",\"type\":\"VBar\"},{\"attributes\":{\"axis\":{\"id\":\"3024451\"},\"grid_line_color\":null,\"ticker\":null},\"id\":\"3024453\",\"type\":\"Grid\"},{\"attributes\":{\"line_alpha\":{\"value\":0.8},\"line_color\":{\"value\":\"red\"},\"line_width\":{\"value\":2},\"x\":{\"field\":\"x\"},\"y\":{\"field\":\"y\"}},\"id\":\"3024460\",\"type\":\"Step\"},{\"attributes\":{\"end\":10,\"start\":0},\"id\":\"3024445\",\"type\":\"DataRange1d\"}],\"root_ids\":[\"3024440\"]},\"title\":\"Bokeh Application\",\"version\":\"2.0.1\"}};\n",
       "  var render_items = [{\"docid\":\"3c626f60-afe5-4cd3-ad08-7205d34ea393\",\"root_ids\":[\"3024440\"],\"roots\":{\"3024440\":\"a7fe25b9-b54a-4336-86fb-9a842e7ceb5c\"}}];\n",
       "  root.Bokeh.embed.embed_items_notebook(docs_json, render_items);\n",
       "\n",
       "  }\n",
       "  if (root.Bokeh !== undefined) {\n",
       "    embed_document(root);\n",
       "  } else {\n",
       "    var attempts = 0;\n",
       "    var timer = setInterval(function(root) {\n",
       "      if (root.Bokeh !== undefined) {\n",
       "        clearInterval(timer);\n",
       "        embed_document(root);\n",
       "      } else {\n",
       "        attempts++;\n",
       "        if (attempts > 100) {\n",
       "          clearInterval(timer);\n",
       "          console.log(\"Bokeh: ERROR: Unable to run BokehJS code because BokehJS library is missing\");\n",
       "        }\n",
       "      }\n",
       "    }, 10, root)\n",
       "  }\n",
       "})(window);"
      ],
      "application/vnd.bokehjs_exec.v0+json": ""
     },
     "metadata": {
      "application/vnd.bokehjs_exec.v0+json": {
       "id": "3024440"
      }
     },
     "output_type": "display_data"
    },
    {
     "data": {
      "text/html": [
       "\n",
       "\n",
       "\n",
       "\n",
       "\n",
       "\n",
       "  <div class=\"bk-root\" id=\"309ab0f8-d08e-4e25-93e0-085a6e38dc66\" data-root-id=\"3031820\"></div>\n"
      ]
     },
     "metadata": {},
     "output_type": "display_data"
    },
    {
     "data": {
      "application/javascript": [
       "(function(root) {\n",
       "  function embed_document(root) {\n",
       "    \n",
       "  var docs_json = {\"478ca0d8-f44f-4577-9717-d33876667cbf\":{\"roots\":{\"references\":[{\"attributes\":{\"below\":[{\"id\":\"3031831\"}],\"center\":[{\"id\":\"3031833\"},{\"id\":\"3031837\"},{\"id\":\"3031849\"}],\"left\":[{\"id\":\"3031834\"}],\"plot_height\":400,\"plot_width\":700,\"renderers\":[{\"id\":\"3031842\"},{\"id\":\"3031854\"}],\"title\":{\"id\":\"3031821\"},\"toolbar\":{\"id\":\"3031838\"},\"toolbar_location\":null,\"x_range\":{\"id\":\"3031823\"},\"x_scale\":{\"id\":\"3031827\"},\"y_range\":{\"id\":\"3031825\"},\"y_scale\":{\"id\":\"3031829\"}},\"id\":\"3031820\",\"subtype\":\"Figure\",\"type\":\"Plot\"},{\"attributes\":{\"text\":\"Votes par mois pour Bernard Reyn\\u00e8s\"},\"id\":\"3031821\",\"type\":\"Title\"},{\"attributes\":{\"data\":{\"x\":[\"2017-07\",\"2017-08\",\"2017-09\",\"2017-10\",\"2017-11\",\"2017-12\",\"2018-01\",\"2018-02\",\"2018-03\",\"2018-04\",\"2018-05\",\"2018-06\",\"2018-07\",\"2018-08\",\"2018-09\",\"2018-10\",\"2018-11\",\"2018-12\",\"2019-01\",\"2019-02\",\"2019-03\",\"2019-04\",\"2019-05\",\"2019-06\",\"2019-07\",\"2019-09\",\"2019-10\",\"2019-11\",\"2019-12\",\"2020-01\",\"2020-02\",\"2020-03\",\"2020-04\",\"2020-05\",\"2020-06\",\"2020-07\"],\"y\":[1.0138648180242635,1.4696707105719238,1.1767764298093588,0.9722703639514731,1.166377816291161,1.076256499133449,1.7954939341421143,1.516464471403813,1.1403812824956672,1.6065857885615251,1.632582322357019,1.3084922010398614,1.7383015597920277,0.6741767764298093,1.2599653379549394,1.0953206239168112,2.079722703639515,2.4783362218370883,1.6031195840554593,0.9688041594454073,1.1629116117850953,1.268630849220104,1.5996533795493935,1.1074523396880416,1.2097053726169844,1.124783362218371,1.4124783362218372,1.682842287694974,1.5511265164644714,1.1282495667244368,2.65684575389948,1.0710571923743502,0.9982668977469671,1,0.9324090121317158,1.5528596187175043]},\"selected\":{\"id\":\"3039151\"},\"selection_policy\":{\"id\":\"3039152\"}},\"id\":\"3031839\",\"type\":\"ColumnDataSource\"},{\"attributes\":{},\"id\":\"3031845\",\"type\":\"CategoricalTickFormatter\"},{\"attributes\":{},\"id\":\"3039151\",\"type\":\"Selection\"},{\"attributes\":{\"active_drag\":\"auto\",\"active_inspect\":\"auto\",\"active_multi\":null,\"active_scroll\":\"auto\",\"active_tap\":\"auto\"},\"id\":\"3031838\",\"type\":\"Toolbar\"},{\"attributes\":{},\"id\":\"3039153\",\"type\":\"Selection\"},{\"attributes\":{},\"id\":\"3039154\",\"type\":\"UnionRenderers\"},{\"attributes\":{\"data_source\":{\"id\":\"3031839\"},\"glyph\":{\"id\":\"3031840\"},\"hover_glyph\":null,\"muted_glyph\":null,\"nonselection_glyph\":{\"id\":\"3031841\"},\"selection_glyph\":null,\"view\":{\"id\":\"3031843\"}},\"id\":\"3031842\",\"type\":\"GlyphRenderer\"},{\"attributes\":{\"fill_alpha\":{\"value\":0.1},\"fill_color\":{\"value\":\"#1f77b4\"},\"line_alpha\":{\"value\":0.1},\"line_color\":{\"value\":\"#1f77b4\"},\"top\":{\"field\":\"top\"},\"width\":{\"value\":1},\"x\":{\"field\":\"x\"}},\"id\":\"3031853\",\"type\":\"VBar\"},{\"attributes\":{},\"id\":\"3039152\",\"type\":\"UnionRenderers\"},{\"attributes\":{\"line_alpha\":{\"value\":0.1},\"line_color\":{\"value\":\"red\"},\"line_width\":{\"value\":2},\"x\":{\"field\":\"x\"},\"y\":{\"field\":\"y\"}},\"id\":\"3031841\",\"type\":\"Step\"},{\"attributes\":{\"axis\":{\"id\":\"3031834\"},\"dimension\":1,\"grid_line_color\":null,\"ticker\":null},\"id\":\"3031837\",\"type\":\"Grid\"},{\"attributes\":{\"source\":{\"id\":\"3031839\"}},\"id\":\"3031843\",\"type\":\"CDSView\"},{\"attributes\":{},\"id\":\"3031835\",\"type\":\"BasicTicker\"},{\"attributes\":{\"line_alpha\":{\"value\":0.8},\"line_color\":{\"value\":\"red\"},\"line_width\":{\"value\":2},\"x\":{\"field\":\"x\"},\"y\":{\"field\":\"y\"}},\"id\":\"3031840\",\"type\":\"Step\"},{\"attributes\":{\"formatter\":{\"id\":\"3031847\"},\"ticker\":{\"id\":\"3031835\"}},\"id\":\"3031834\",\"type\":\"LinearAxis\"},{\"attributes\":{\"fill_alpha\":{\"value\":0.5},\"fill_color\":{\"value\":\"#1f77b4\"},\"line_alpha\":{\"value\":0.5},\"line_color\":{\"value\":\"#1f77b4\"},\"top\":{\"field\":\"top\"},\"width\":{\"value\":1},\"x\":{\"field\":\"x\"}},\"id\":\"3031852\",\"type\":\"VBar\"},{\"attributes\":{},\"id\":\"3031832\",\"type\":\"CategoricalTicker\"},{\"attributes\":{\"axis\":{\"id\":\"3031831\"},\"grid_line_color\":null,\"ticker\":null},\"id\":\"3031833\",\"type\":\"Grid\"},{\"attributes\":{},\"id\":\"3031847\",\"type\":\"BasicTickFormatter\"},{\"attributes\":{\"end\":10,\"start\":0},\"id\":\"3031825\",\"type\":\"DataRange1d\"},{\"attributes\":{\"items\":[{\"id\":\"3031850\"}]},\"id\":\"3031849\",\"type\":\"Legend\"},{\"attributes\":{\"formatter\":{\"id\":\"3031845\"},\"major_label_orientation\":\"vertical\",\"ticker\":{\"id\":\"3031832\"}},\"id\":\"3031831\",\"type\":\"CategoricalAxis\"},{\"attributes\":{\"label\":{\"value\":\"Moyenne de tous les d\\u00e9put\\u00e9s\"},\"renderers\":[{\"id\":\"3031842\"}]},\"id\":\"3031850\",\"type\":\"LegendItem\"},{\"attributes\":{},\"id\":\"3031829\",\"type\":\"LinearScale\"},{\"attributes\":{\"data\":{\"top\":[1,1,0,1,1,1,1,1,1,1,0,0,0,0,0,1,3,1,0,1,0,0,1,1,1,0,2,1,0,0,0,1,1,1,1,0],\"x\":[\"2017-07\",\"2017-08\",\"2017-09\",\"2017-10\",\"2017-11\",\"2017-12\",\"2018-01\",\"2018-02\",\"2018-03\",\"2018-04\",\"2018-05\",\"2018-06\",\"2018-07\",\"2018-08\",\"2018-09\",\"2018-10\",\"2018-11\",\"2018-12\",\"2019-01\",\"2019-02\",\"2019-03\",\"2019-04\",\"2019-05\",\"2019-06\",\"2019-07\",\"2019-09\",\"2019-10\",\"2019-11\",\"2019-12\",\"2020-01\",\"2020-02\",\"2020-03\",\"2020-04\",\"2020-05\",\"2020-06\",\"2020-07\"]},\"selected\":{\"id\":\"3039153\"},\"selection_policy\":{\"id\":\"3039154\"}},\"id\":\"3031851\",\"type\":\"ColumnDataSource\"},{\"attributes\":{},\"id\":\"3031827\",\"type\":\"CategoricalScale\"},{\"attributes\":{\"data_source\":{\"id\":\"3031851\"},\"glyph\":{\"id\":\"3031852\"},\"hover_glyph\":null,\"muted_glyph\":null,\"nonselection_glyph\":{\"id\":\"3031853\"},\"selection_glyph\":null,\"view\":{\"id\":\"3031855\"}},\"id\":\"3031854\",\"type\":\"GlyphRenderer\"},{\"attributes\":{\"source\":{\"id\":\"3031851\"}},\"id\":\"3031855\",\"type\":\"CDSView\"},{\"attributes\":{\"factors\":[\"2017-07\",\"2017-08\",\"2017-09\",\"2017-10\",\"2017-11\",\"2017-12\",\"2018-01\",\"2018-02\",\"2018-03\",\"2018-04\",\"2018-05\",\"2018-06\",\"2018-07\",\"2018-08\",\"2018-09\",\"2018-10\",\"2018-11\",\"2018-12\",\"2019-01\",\"2019-02\",\"2019-03\",\"2019-04\",\"2019-05\",\"2019-06\",\"2019-07\",\"2019-09\",\"2019-10\",\"2019-11\",\"2019-12\",\"2020-01\",\"2020-02\",\"2020-03\",\"2020-04\",\"2020-05\",\"2020-06\",\"2020-07\"]},\"id\":\"3031823\",\"type\":\"FactorRange\"}],\"root_ids\":[\"3031820\"]},\"title\":\"Bokeh Application\",\"version\":\"2.0.1\"}};\n",
       "  var render_items = [{\"docid\":\"478ca0d8-f44f-4577-9717-d33876667cbf\",\"root_ids\":[\"3031820\"],\"roots\":{\"3031820\":\"309ab0f8-d08e-4e25-93e0-085a6e38dc66\"}}];\n",
       "  root.Bokeh.embed.embed_items_notebook(docs_json, render_items);\n",
       "\n",
       "  }\n",
       "  if (root.Bokeh !== undefined) {\n",
       "    embed_document(root);\n",
       "  } else {\n",
       "    var attempts = 0;\n",
       "    var timer = setInterval(function(root) {\n",
       "      if (root.Bokeh !== undefined) {\n",
       "        clearInterval(timer);\n",
       "        embed_document(root);\n",
       "      } else {\n",
       "        attempts++;\n",
       "        if (attempts > 100) {\n",
       "          clearInterval(timer);\n",
       "          console.log(\"Bokeh: ERROR: Unable to run BokehJS code because BokehJS library is missing\");\n",
       "        }\n",
       "      }\n",
       "    }, 10, root)\n",
       "  }\n",
       "})(window);"
      ],
      "application/vnd.bokehjs_exec.v0+json": ""
     },
     "metadata": {
      "application/vnd.bokehjs_exec.v0+json": {
       "id": "3031820"
      }
     },
     "output_type": "display_data"
    },
    {
     "data": {
      "text/html": [
       "\n",
       "\n",
       "\n",
       "\n",
       "\n",
       "\n",
       "  <div class=\"bk-root\" id=\"741d9a43-eebc-4716-9f30-568c730fff9a\" data-root-id=\"3039209\"></div>\n"
      ]
     },
     "metadata": {},
     "output_type": "display_data"
    },
    {
     "data": {
      "application/javascript": [
       "(function(root) {\n",
       "  function embed_document(root) {\n",
       "    \n",
       "  var docs_json = {\"0d11df4d-2e94-429a-9f5c-6ad0613cac23\":{\"roots\":{\"references\":[{\"attributes\":{\"below\":[{\"id\":\"3039220\"}],\"center\":[{\"id\":\"3039222\"},{\"id\":\"3039226\"},{\"id\":\"3039238\"}],\"left\":[{\"id\":\"3039223\"}],\"plot_height\":400,\"plot_width\":700,\"renderers\":[{\"id\":\"3039231\"},{\"id\":\"3039243\"}],\"title\":{\"id\":\"3039210\"},\"toolbar\":{\"id\":\"3039227\"},\"toolbar_location\":null,\"x_range\":{\"id\":\"3039212\"},\"x_scale\":{\"id\":\"3039216\"},\"y_range\":{\"id\":\"3039214\"},\"y_scale\":{\"id\":\"3039218\"}},\"id\":\"3039209\",\"subtype\":\"Figure\",\"type\":\"Plot\"},{\"attributes\":{\"formatter\":{\"id\":\"3039234\"},\"major_label_orientation\":\"vertical\",\"ticker\":{\"id\":\"3039221\"}},\"id\":\"3039220\",\"type\":\"CategoricalAxis\"},{\"attributes\":{\"line_alpha\":{\"value\":0.1},\"line_color\":{\"value\":\"red\"},\"line_width\":{\"value\":2},\"x\":{\"field\":\"x\"},\"y\":{\"field\":\"y\"}},\"id\":\"3039230\",\"type\":\"Step\"},{\"attributes\":{\"data_source\":{\"id\":\"3039228\"},\"glyph\":{\"id\":\"3039229\"},\"hover_glyph\":null,\"muted_glyph\":null,\"nonselection_glyph\":{\"id\":\"3039230\"},\"selection_glyph\":null,\"view\":{\"id\":\"3039232\"}},\"id\":\"3039231\",\"type\":\"GlyphRenderer\"},{\"attributes\":{\"end\":10,\"start\":0},\"id\":\"3039214\",\"type\":\"DataRange1d\"},{\"attributes\":{},\"id\":\"3039218\",\"type\":\"LinearScale\"},{\"attributes\":{},\"id\":\"3039216\",\"type\":\"CategoricalScale\"},{\"attributes\":{\"data\":{\"x\":[\"2017-07\",\"2017-08\",\"2017-09\",\"2017-10\",\"2017-11\",\"2017-12\",\"2018-01\",\"2018-02\",\"2018-03\",\"2018-04\",\"2018-05\",\"2018-06\",\"2018-07\",\"2018-08\",\"2018-09\",\"2018-10\",\"2018-11\",\"2018-12\",\"2019-01\",\"2019-02\",\"2019-03\",\"2019-04\",\"2019-05\",\"2019-06\",\"2019-07\",\"2019-09\",\"2019-10\",\"2019-11\",\"2019-12\",\"2020-01\",\"2020-02\",\"2020-03\",\"2020-04\",\"2020-05\",\"2020-06\",\"2020-07\"],\"y\":[1.0138648180242635,1.4696707105719238,1.1767764298093588,0.9722703639514731,1.166377816291161,1.076256499133449,1.7954939341421143,1.516464471403813,1.1403812824956672,1.6065857885615251,1.632582322357019,1.3084922010398614,1.7383015597920277,0.6741767764298093,1.2599653379549394,1.0953206239168112,2.079722703639515,2.4783362218370883,1.6031195840554593,0.9688041594454073,1.1629116117850953,1.268630849220104,1.5996533795493935,1.1074523396880416,1.2097053726169844,1.124783362218371,1.4124783362218372,1.682842287694974,1.5511265164644714,1.1282495667244368,2.65684575389948,1.0710571923743502,0.9982668977469671,1,0.9324090121317158,1.5528596187175043]},\"selected\":{\"id\":\"3046549\"},\"selection_policy\":{\"id\":\"3046550\"}},\"id\":\"3039228\",\"type\":\"ColumnDataSource\"},{\"attributes\":{\"source\":{\"id\":\"3039228\"}},\"id\":\"3039232\",\"type\":\"CDSView\"},{\"attributes\":{},\"id\":\"3039234\",\"type\":\"CategoricalTickFormatter\"},{\"attributes\":{\"label\":{\"value\":\"Moyenne de tous les d\\u00e9put\\u00e9s\"},\"renderers\":[{\"id\":\"3039231\"}]},\"id\":\"3039239\",\"type\":\"LegendItem\"},{\"attributes\":{\"factors\":[\"2017-07\",\"2017-08\",\"2017-09\",\"2017-10\",\"2017-11\",\"2017-12\",\"2018-01\",\"2018-02\",\"2018-03\",\"2018-04\",\"2018-05\",\"2018-06\",\"2018-07\",\"2018-08\",\"2018-09\",\"2018-10\",\"2018-11\",\"2018-12\",\"2019-01\",\"2019-02\",\"2019-03\",\"2019-04\",\"2019-05\",\"2019-06\",\"2019-07\",\"2019-09\",\"2019-10\",\"2019-11\",\"2019-12\",\"2020-01\",\"2020-02\",\"2020-03\",\"2020-04\",\"2020-05\",\"2020-06\",\"2020-07\"]},\"id\":\"3039212\",\"type\":\"FactorRange\"},{\"attributes\":{\"line_alpha\":{\"value\":0.8},\"line_color\":{\"value\":\"red\"},\"line_width\":{\"value\":2},\"x\":{\"field\":\"x\"},\"y\":{\"field\":\"y\"}},\"id\":\"3039229\",\"type\":\"Step\"},{\"attributes\":{},\"id\":\"3039236\",\"type\":\"BasicTickFormatter\"},{\"attributes\":{\"items\":[{\"id\":\"3039239\"}]},\"id\":\"3039238\",\"type\":\"Legend\"},{\"attributes\":{\"data\":{\"top\":[0,0,0,0,0,0,0,0,0,0,0,0,0,0,0,1,0,1,1,1,1,0,1,1,1,1,1,1,0,0,7,1,1,1,1,0],\"x\":[\"2017-07\",\"2017-08\",\"2017-09\",\"2017-10\",\"2017-11\",\"2017-12\",\"2018-01\",\"2018-02\",\"2018-03\",\"2018-04\",\"2018-05\",\"2018-06\",\"2018-07\",\"2018-08\",\"2018-09\",\"2018-10\",\"2018-11\",\"2018-12\",\"2019-01\",\"2019-02\",\"2019-03\",\"2019-04\",\"2019-05\",\"2019-06\",\"2019-07\",\"2019-09\",\"2019-10\",\"2019-11\",\"2019-12\",\"2020-01\",\"2020-02\",\"2020-03\",\"2020-04\",\"2020-05\",\"2020-06\",\"2020-07\"]},\"selected\":{\"id\":\"3046551\"},\"selection_policy\":{\"id\":\"3046552\"}},\"id\":\"3039240\",\"type\":\"ColumnDataSource\"},{\"attributes\":{\"axis\":{\"id\":\"3039220\"},\"grid_line_color\":null,\"ticker\":null},\"id\":\"3039222\",\"type\":\"Grid\"},{\"attributes\":{\"fill_alpha\":{\"value\":0.5},\"fill_color\":{\"value\":\"#1f77b4\"},\"line_alpha\":{\"value\":0.5},\"line_color\":{\"value\":\"#1f77b4\"},\"top\":{\"field\":\"top\"},\"width\":{\"value\":1},\"x\":{\"field\":\"x\"}},\"id\":\"3039241\",\"type\":\"VBar\"},{\"attributes\":{\"text\":\"Votes par mois pour Jean-Luc Poudroux\"},\"id\":\"3039210\",\"type\":\"Title\"},{\"attributes\":{},\"id\":\"3039221\",\"type\":\"CategoricalTicker\"},{\"attributes\":{},\"id\":\"3039224\",\"type\":\"BasicTicker\"},{\"attributes\":{\"data_source\":{\"id\":\"3039240\"},\"glyph\":{\"id\":\"3039241\"},\"hover_glyph\":null,\"muted_glyph\":null,\"nonselection_glyph\":{\"id\":\"3039242\"},\"selection_glyph\":null,\"view\":{\"id\":\"3039244\"}},\"id\":\"3039243\",\"type\":\"GlyphRenderer\"},{\"attributes\":{\"source\":{\"id\":\"3039240\"}},\"id\":\"3039244\",\"type\":\"CDSView\"},{\"attributes\":{\"formatter\":{\"id\":\"3039236\"},\"ticker\":{\"id\":\"3039224\"}},\"id\":\"3039223\",\"type\":\"LinearAxis\"},{\"attributes\":{\"axis\":{\"id\":\"3039223\"},\"dimension\":1,\"grid_line_color\":null,\"ticker\":null},\"id\":\"3039226\",\"type\":\"Grid\"},{\"attributes\":{\"fill_alpha\":{\"value\":0.1},\"fill_color\":{\"value\":\"#1f77b4\"},\"line_alpha\":{\"value\":0.1},\"line_color\":{\"value\":\"#1f77b4\"},\"top\":{\"field\":\"top\"},\"width\":{\"value\":1},\"x\":{\"field\":\"x\"}},\"id\":\"3039242\",\"type\":\"VBar\"},{\"attributes\":{},\"id\":\"3046549\",\"type\":\"Selection\"},{\"attributes\":{\"active_drag\":\"auto\",\"active_inspect\":\"auto\",\"active_multi\":null,\"active_scroll\":\"auto\",\"active_tap\":\"auto\"},\"id\":\"3039227\",\"type\":\"Toolbar\"},{\"attributes\":{},\"id\":\"3046550\",\"type\":\"UnionRenderers\"},{\"attributes\":{},\"id\":\"3046552\",\"type\":\"UnionRenderers\"},{\"attributes\":{},\"id\":\"3046551\",\"type\":\"Selection\"}],\"root_ids\":[\"3039209\"]},\"title\":\"Bokeh Application\",\"version\":\"2.0.1\"}};\n",
       "  var render_items = [{\"docid\":\"0d11df4d-2e94-429a-9f5c-6ad0613cac23\",\"root_ids\":[\"3039209\"],\"roots\":{\"3039209\":\"741d9a43-eebc-4716-9f30-568c730fff9a\"}}];\n",
       "  root.Bokeh.embed.embed_items_notebook(docs_json, render_items);\n",
       "\n",
       "  }\n",
       "  if (root.Bokeh !== undefined) {\n",
       "    embed_document(root);\n",
       "  } else {\n",
       "    var attempts = 0;\n",
       "    var timer = setInterval(function(root) {\n",
       "      if (root.Bokeh !== undefined) {\n",
       "        clearInterval(timer);\n",
       "        embed_document(root);\n",
       "      } else {\n",
       "        attempts++;\n",
       "        if (attempts > 100) {\n",
       "          clearInterval(timer);\n",
       "          console.log(\"Bokeh: ERROR: Unable to run BokehJS code because BokehJS library is missing\");\n",
       "        }\n",
       "      }\n",
       "    }, 10, root)\n",
       "  }\n",
       "})(window);"
      ],
      "application/vnd.bokehjs_exec.v0+json": ""
     },
     "metadata": {
      "application/vnd.bokehjs_exec.v0+json": {
       "id": "3039209"
      }
     },
     "output_type": "display_data"
    },
    {
     "data": {
      "text/html": [
       "\n",
       "\n",
       "\n",
       "\n",
       "\n",
       "\n",
       "  <div class=\"bk-root\" id=\"9c6bee06-7d01-4832-a547-399d1c23c5de\" data-root-id=\"3046607\"></div>\n"
      ]
     },
     "metadata": {},
     "output_type": "display_data"
    },
    {
     "data": {
      "application/javascript": [
       "(function(root) {\n",
       "  function embed_document(root) {\n",
       "    \n",
       "  var docs_json = {\"5a2e4ccf-c35b-4c4b-84f9-4e6545a30db4\":{\"roots\":{\"references\":[{\"attributes\":{\"below\":[{\"id\":\"3046618\"}],\"center\":[{\"id\":\"3046620\"},{\"id\":\"3046624\"},{\"id\":\"3046636\"}],\"left\":[{\"id\":\"3046621\"}],\"plot_height\":400,\"plot_width\":700,\"renderers\":[{\"id\":\"3046629\"},{\"id\":\"3046641\"}],\"title\":{\"id\":\"3046608\"},\"toolbar\":{\"id\":\"3046625\"},\"toolbar_location\":null,\"x_range\":{\"id\":\"3046610\"},\"x_scale\":{\"id\":\"3046614\"},\"y_range\":{\"id\":\"3046612\"},\"y_scale\":{\"id\":\"3046616\"}},\"id\":\"3046607\",\"subtype\":\"Figure\",\"type\":\"Plot\"},{\"attributes\":{\"text\":\"Votes par mois pour Sylvain Brial\"},\"id\":\"3046608\",\"type\":\"Title\"},{\"attributes\":{\"formatter\":{\"id\":\"3046632\"},\"major_label_orientation\":\"vertical\",\"ticker\":{\"id\":\"3046619\"}},\"id\":\"3046618\",\"type\":\"CategoricalAxis\"},{\"attributes\":{\"data\":{\"top\":[0,0,0,0,0,0,0,0,0,0,2,1,4,0,1,1,0,1,1,0,2,0,1,0,1,1,0,0,0,0,0,1,1,0,0,0],\"x\":[\"2017-07\",\"2017-08\",\"2017-09\",\"2017-10\",\"2017-11\",\"2017-12\",\"2018-01\",\"2018-02\",\"2018-03\",\"2018-04\",\"2018-05\",\"2018-06\",\"2018-07\",\"2018-08\",\"2018-09\",\"2018-10\",\"2018-11\",\"2018-12\",\"2019-01\",\"2019-02\",\"2019-03\",\"2019-04\",\"2019-05\",\"2019-06\",\"2019-07\",\"2019-09\",\"2019-10\",\"2019-11\",\"2019-12\",\"2020-01\",\"2020-02\",\"2020-03\",\"2020-04\",\"2020-05\",\"2020-06\",\"2020-07\"]},\"selected\":{\"id\":\"3053958\"},\"selection_policy\":{\"id\":\"3053959\"}},\"id\":\"3046638\",\"type\":\"ColumnDataSource\"},{\"attributes\":{},\"id\":\"3046619\",\"type\":\"CategoricalTicker\"},{\"attributes\":{\"axis\":{\"id\":\"3046618\"},\"grid_line_color\":null,\"ticker\":null},\"id\":\"3046620\",\"type\":\"Grid\"},{\"attributes\":{\"data_source\":{\"id\":\"3046638\"},\"glyph\":{\"id\":\"3046639\"},\"hover_glyph\":null,\"muted_glyph\":null,\"nonselection_glyph\":{\"id\":\"3046640\"},\"selection_glyph\":null,\"view\":{\"id\":\"3046642\"}},\"id\":\"3046641\",\"type\":\"GlyphRenderer\"},{\"attributes\":{\"formatter\":{\"id\":\"3046634\"},\"ticker\":{\"id\":\"3046622\"}},\"id\":\"3046621\",\"type\":\"LinearAxis\"},{\"attributes\":{\"source\":{\"id\":\"3046638\"}},\"id\":\"3046642\",\"type\":\"CDSView\"},{\"attributes\":{\"fill_alpha\":{\"value\":0.5},\"fill_color\":{\"value\":\"#1f77b4\"},\"line_alpha\":{\"value\":0.5},\"line_color\":{\"value\":\"#1f77b4\"},\"top\":{\"field\":\"top\"},\"width\":{\"value\":1},\"x\":{\"field\":\"x\"}},\"id\":\"3046639\",\"type\":\"VBar\"},{\"attributes\":{\"label\":{\"value\":\"Moyenne de tous les d\\u00e9put\\u00e9s\"},\"renderers\":[{\"id\":\"3046629\"}]},\"id\":\"3046637\",\"type\":\"LegendItem\"},{\"attributes\":{},\"id\":\"3046622\",\"type\":\"BasicTicker\"},{\"attributes\":{\"axis\":{\"id\":\"3046621\"},\"dimension\":1,\"grid_line_color\":null,\"ticker\":null},\"id\":\"3046624\",\"type\":\"Grid\"},{\"attributes\":{\"fill_alpha\":{\"value\":0.1},\"fill_color\":{\"value\":\"#1f77b4\"},\"line_alpha\":{\"value\":0.1},\"line_color\":{\"value\":\"#1f77b4\"},\"top\":{\"field\":\"top\"},\"width\":{\"value\":1},\"x\":{\"field\":\"x\"}},\"id\":\"3046640\",\"type\":\"VBar\"},{\"attributes\":{},\"id\":\"3053956\",\"type\":\"Selection\"},{\"attributes\":{},\"id\":\"3053957\",\"type\":\"UnionRenderers\"},{\"attributes\":{\"active_drag\":\"auto\",\"active_inspect\":\"auto\",\"active_multi\":null,\"active_scroll\":\"auto\",\"active_tap\":\"auto\"},\"id\":\"3046625\",\"type\":\"Toolbar\"},{\"attributes\":{},\"id\":\"3053958\",\"type\":\"Selection\"},{\"attributes\":{},\"id\":\"3053959\",\"type\":\"UnionRenderers\"},{\"attributes\":{},\"id\":\"3046632\",\"type\":\"CategoricalTickFormatter\"},{\"attributes\":{\"line_alpha\":{\"value\":0.1},\"line_color\":{\"value\":\"red\"},\"line_width\":{\"value\":2},\"x\":{\"field\":\"x\"},\"y\":{\"field\":\"y\"}},\"id\":\"3046628\",\"type\":\"Step\"},{\"attributes\":{\"data_source\":{\"id\":\"3046626\"},\"glyph\":{\"id\":\"3046627\"},\"hover_glyph\":null,\"muted_glyph\":null,\"nonselection_glyph\":{\"id\":\"3046628\"},\"selection_glyph\":null,\"view\":{\"id\":\"3046630\"}},\"id\":\"3046629\",\"type\":\"GlyphRenderer\"},{\"attributes\":{\"source\":{\"id\":\"3046626\"}},\"id\":\"3046630\",\"type\":\"CDSView\"},{\"attributes\":{},\"id\":\"3046616\",\"type\":\"LinearScale\"},{\"attributes\":{\"factors\":[\"2017-07\",\"2017-08\",\"2017-09\",\"2017-10\",\"2017-11\",\"2017-12\",\"2018-01\",\"2018-02\",\"2018-03\",\"2018-04\",\"2018-05\",\"2018-06\",\"2018-07\",\"2018-08\",\"2018-09\",\"2018-10\",\"2018-11\",\"2018-12\",\"2019-01\",\"2019-02\",\"2019-03\",\"2019-04\",\"2019-05\",\"2019-06\",\"2019-07\",\"2019-09\",\"2019-10\",\"2019-11\",\"2019-12\",\"2020-01\",\"2020-02\",\"2020-03\",\"2020-04\",\"2020-05\",\"2020-06\",\"2020-07\"]},\"id\":\"3046610\",\"type\":\"FactorRange\"},{\"attributes\":{\"end\":10,\"start\":0},\"id\":\"3046612\",\"type\":\"DataRange1d\"},{\"attributes\":{\"line_alpha\":{\"value\":0.8},\"line_color\":{\"value\":\"red\"},\"line_width\":{\"value\":2},\"x\":{\"field\":\"x\"},\"y\":{\"field\":\"y\"}},\"id\":\"3046627\",\"type\":\"Step\"},{\"attributes\":{},\"id\":\"3046634\",\"type\":\"BasicTickFormatter\"},{\"attributes\":{\"data\":{\"x\":[\"2017-07\",\"2017-08\",\"2017-09\",\"2017-10\",\"2017-11\",\"2017-12\",\"2018-01\",\"2018-02\",\"2018-03\",\"2018-04\",\"2018-05\",\"2018-06\",\"2018-07\",\"2018-08\",\"2018-09\",\"2018-10\",\"2018-11\",\"2018-12\",\"2019-01\",\"2019-02\",\"2019-03\",\"2019-04\",\"2019-05\",\"2019-06\",\"2019-07\",\"2019-09\",\"2019-10\",\"2019-11\",\"2019-12\",\"2020-01\",\"2020-02\",\"2020-03\",\"2020-04\",\"2020-05\",\"2020-06\",\"2020-07\"],\"y\":[1.0138648180242635,1.4696707105719238,1.1767764298093588,0.9722703639514731,1.166377816291161,1.076256499133449,1.7954939341421143,1.516464471403813,1.1403812824956672,1.6065857885615251,1.632582322357019,1.3084922010398614,1.7383015597920277,0.6741767764298093,1.2599653379549394,1.0953206239168112,2.079722703639515,2.4783362218370883,1.6031195840554593,0.9688041594454073,1.1629116117850953,1.268630849220104,1.5996533795493935,1.1074523396880416,1.2097053726169844,1.124783362218371,1.4124783362218372,1.682842287694974,1.5511265164644714,1.1282495667244368,2.65684575389948,1.0710571923743502,0.9982668977469671,1,0.9324090121317158,1.5528596187175043]},\"selected\":{\"id\":\"3053956\"},\"selection_policy\":{\"id\":\"3053957\"}},\"id\":\"3046626\",\"type\":\"ColumnDataSource\"},{\"attributes\":{\"items\":[{\"id\":\"3046637\"}]},\"id\":\"3046636\",\"type\":\"Legend\"},{\"attributes\":{},\"id\":\"3046614\",\"type\":\"CategoricalScale\"}],\"root_ids\":[\"3046607\"]},\"title\":\"Bokeh Application\",\"version\":\"2.0.1\"}};\n",
       "  var render_items = [{\"docid\":\"5a2e4ccf-c35b-4c4b-84f9-4e6545a30db4\",\"root_ids\":[\"3046607\"],\"roots\":{\"3046607\":\"9c6bee06-7d01-4832-a547-399d1c23c5de\"}}];\n",
       "  root.Bokeh.embed.embed_items_notebook(docs_json, render_items);\n",
       "\n",
       "  }\n",
       "  if (root.Bokeh !== undefined) {\n",
       "    embed_document(root);\n",
       "  } else {\n",
       "    var attempts = 0;\n",
       "    var timer = setInterval(function(root) {\n",
       "      if (root.Bokeh !== undefined) {\n",
       "        clearInterval(timer);\n",
       "        embed_document(root);\n",
       "      } else {\n",
       "        attempts++;\n",
       "        if (attempts > 100) {\n",
       "          clearInterval(timer);\n",
       "          console.log(\"Bokeh: ERROR: Unable to run BokehJS code because BokehJS library is missing\");\n",
       "        }\n",
       "      }\n",
       "    }, 10, root)\n",
       "  }\n",
       "})(window);"
      ],
      "application/vnd.bokehjs_exec.v0+json": ""
     },
     "metadata": {
      "application/vnd.bokehjs_exec.v0+json": {
       "id": "3046607"
      }
     },
     "output_type": "display_data"
    }
   ],
   "source": [
    "import datetime, statistics\n",
    "\n",
    "# grouper par semaine\n",
    "\n",
    "votes_par_mois = collections.defaultdict(dict)\n",
    "\n",
    "for député, dates in votes_par_députés.items():\n",
    "    for date, votes in dates.items():\n",
    "        année, mois, jour = date.split('-')\n",
    "        mois_complet = f\"{année}-{mois}\"\n",
    "        votes_par_mois[mois_complet][député] = votes\n",
    "        \n",
    "def moyenne_votes(votes):\n",
    "    return statistics.mean([len(votes.get(député, [])) for député in députés_par_id])\n",
    "\n",
    "from bokeh.io import show\n",
    "from bokeh.plotting import figure\n",
    "        \n",
    "tout_les_mois = sorted(votes_par_mois.keys())\n",
    "\n",
    "députés_les_moins_présents = sorted(votes_par_députés.keys(),\n",
    "                                    key=lambda député: sum([len(votes) for votes in votes_par_députés[député].values()]))\n",
    "for député in députés_les_moins_présents[:20]:\n",
    "    votes = [len(votes_par_mois[mois].get(député, [])) for mois in tout_les_mois]\n",
    "    votes_moyenne = [moyenne_votes(votes_par_mois[mois]) for mois in tout_les_mois]\n",
    "\n",
    "    p = figure(x_range=tout_les_mois, plot_width=700, plot_height=400,\n",
    "               title=f\"Votes par mois pour {députés_par_id[député]['Prénom']} {députés_par_id[député]['Nom']}\",\n",
    "               toolbar_location=None, tools=\"\")\n",
    "\n",
    "    p.step(tout_les_mois, votes_moyenne, line_width=2, line_color=\"red\", mode=\"before\", alpha=0.8, legend_label='Moyenne de tous les députés')\n",
    "    p.vbar(x=tout_les_mois, top=votes, width=1, alpha=0.5)\n",
    "\n",
    "    p.y_range.start = 0\n",
    "    p.y_range.end = 10\n",
    "    p.xgrid.grid_line_color = None\n",
    "    p.ygrid.grid_line_color = None\n",
    "    p.xaxis.major_label_orientation = \"vertical\"\n",
    "    show(p)\n"
   ]
  },
  {
   "cell_type": "code",
   "execution_count": null,
   "metadata": {},
   "outputs": [],
   "source": [
    "# todo: trous dans les mois\n",
    "# plot line not aligned, ligne date debut mandat"
   ]
  },
  {
   "cell_type": "code",
   "execution_count": null,
   "metadata": {},
   "outputs": [],
   "source": []
  }
 ],
 "metadata": {
  "kernelspec": {
   "display_name": "Python 3",
   "language": "python",
   "name": "python3"
  },
  "language_info": {
   "codemirror_mode": {
    "name": "ipython",
    "version": 3
   },
   "file_extension": ".py",
   "mimetype": "text/x-python",
   "name": "python",
   "nbconvert_exporter": "python",
   "pygments_lexer": "ipython3",
   "version": "3.6.9"
  }
 },
 "nbformat": 4,
 "nbformat_minor": 4
}
