{
 "cells": [
  {
   "cell_type": "markdown",
   "metadata": {},
   "source": [
    "# Chargement des données"
   ]
  },
  {
   "cell_type": "code",
   "execution_count": 30,
   "metadata": {},
   "outputs": [],
   "source": [
    "# code inspiré de https://git.regardscitoyens.org/regardscitoyens/sprint-scrutins/blob/master/votes_an/ancsv.py\n",
    "\n",
    "import glob, json, csv, collections\n",
    "\n",
    "# recupere les députés\n",
    "\n",
    "députés = list(csv.DictReader(open('liste_deputes_libre_office.csv')))\n",
    "députés_par_id = {int(député[\"identifiant\"]): député for député in députés}\n",
    "\n",
    "\n",
    "# recuperer les votes\n",
    "\n",
    "votes_par_députés = {id_député: collections.defaultdict(list) for id_député in députés_par_id}\n",
    "\n",
    "for fichier in glob.glob('scrutins/*.json'):\n",
    "    \n",
    "    aucun_vote = True\n",
    "    \n",
    "    scrutin = json.load(open(fichier))['scrutin']\n",
    "    \n",
    "    if scrutin['numero'] == 1:\n",
    "        print(scrutin)\n",
    "\n",
    "    id_scrutin = scrutin['numero']\n",
    "\n",
    "    groupes = scrutin['ventilationVotes']['organe']['groupes']['groupe']\n",
    "\n",
    "    for groupe in groupes:\n",
    "        dn = groupe['vote']['decompteNominatif']\n",
    "        \n",
    "        for position in ('pour', 'contre', 'abstention'):\n",
    "            votants_position = dn['%ss' % position]\n",
    "            \n",
    "            if not votants_position:\n",
    "                continue\n",
    "            \n",
    "            votants = votants_position['votant']\n",
    "\n",
    "            if not isinstance(votants, list):\n",
    "                votants = [votants]\n",
    "\n",
    "            for votant in votants:\n",
    "                votant_id = int(votant['acteurRef'][2:])\n",
    "                \n",
    "                if votant.get('parDelegation', 'false') == 'true':\n",
    "                    continue\n",
    "\n",
    "                aucun_vote = False\n",
    "                if votant_id in votes_par_députés:\n",
    "                    votes_par_députés[votant_id][scrutin['dateScrutin']].append(position)\n",
    "    \n",
    "    if aucun_vote:\n",
    "        print(scrutin['dateScrutin'], '\\t', scrutin['numero'])\n"
   ]
  },
  {
   "cell_type": "code",
   "execution_count": 2,
   "metadata": {},
   "outputs": [
    {
     "data": {
      "text/html": [
       "\n",
       "    <div class=\"bk-root\">\n",
       "        <a href=\"https://bokeh.org\" target=\"_blank\" class=\"bk-logo bk-logo-small bk-logo-notebook\"></a>\n",
       "        <span id=\"1001\">Loading BokehJS ...</span>\n",
       "    </div>"
      ]
     },
     "metadata": {},
     "output_type": "display_data"
    },
    {
     "data": {
      "application/javascript": [
       "\n",
       "(function(root) {\n",
       "  function now() {\n",
       "    return new Date();\n",
       "  }\n",
       "\n",
       "  var force = true;\n",
       "\n",
       "  if (typeof root._bokeh_onload_callbacks === \"undefined\" || force === true) {\n",
       "    root._bokeh_onload_callbacks = [];\n",
       "    root._bokeh_is_loading = undefined;\n",
       "  }\n",
       "\n",
       "  var JS_MIME_TYPE = 'application/javascript';\n",
       "  var HTML_MIME_TYPE = 'text/html';\n",
       "  var EXEC_MIME_TYPE = 'application/vnd.bokehjs_exec.v0+json';\n",
       "  var CLASS_NAME = 'output_bokeh rendered_html';\n",
       "\n",
       "  /**\n",
       "   * Render data to the DOM node\n",
       "   */\n",
       "  function render(props, node) {\n",
       "    var script = document.createElement(\"script\");\n",
       "    node.appendChild(script);\n",
       "  }\n",
       "\n",
       "  /**\n",
       "   * Handle when an output is cleared or removed\n",
       "   */\n",
       "  function handleClearOutput(event, handle) {\n",
       "    var cell = handle.cell;\n",
       "\n",
       "    var id = cell.output_area._bokeh_element_id;\n",
       "    var server_id = cell.output_area._bokeh_server_id;\n",
       "    // Clean up Bokeh references\n",
       "    if (id != null && id in Bokeh.index) {\n",
       "      Bokeh.index[id].model.document.clear();\n",
       "      delete Bokeh.index[id];\n",
       "    }\n",
       "\n",
       "    if (server_id !== undefined) {\n",
       "      // Clean up Bokeh references\n",
       "      var cmd = \"from bokeh.io.state import curstate; print(curstate().uuid_to_server['\" + server_id + \"'].get_sessions()[0].document.roots[0]._id)\";\n",
       "      cell.notebook.kernel.execute(cmd, {\n",
       "        iopub: {\n",
       "          output: function(msg) {\n",
       "            var id = msg.content.text.trim();\n",
       "            if (id in Bokeh.index) {\n",
       "              Bokeh.index[id].model.document.clear();\n",
       "              delete Bokeh.index[id];\n",
       "            }\n",
       "          }\n",
       "        }\n",
       "      });\n",
       "      // Destroy server and session\n",
       "      var cmd = \"import bokeh.io.notebook as ion; ion.destroy_server('\" + server_id + \"')\";\n",
       "      cell.notebook.kernel.execute(cmd);\n",
       "    }\n",
       "  }\n",
       "\n",
       "  /**\n",
       "   * Handle when a new output is added\n",
       "   */\n",
       "  function handleAddOutput(event, handle) {\n",
       "    var output_area = handle.output_area;\n",
       "    var output = handle.output;\n",
       "\n",
       "    // limit handleAddOutput to display_data with EXEC_MIME_TYPE content only\n",
       "    if ((output.output_type != \"display_data\") || (!output.data.hasOwnProperty(EXEC_MIME_TYPE))) {\n",
       "      return\n",
       "    }\n",
       "\n",
       "    var toinsert = output_area.element.find(\".\" + CLASS_NAME.split(' ')[0]);\n",
       "\n",
       "    if (output.metadata[EXEC_MIME_TYPE][\"id\"] !== undefined) {\n",
       "      toinsert[toinsert.length - 1].firstChild.textContent = output.data[JS_MIME_TYPE];\n",
       "      // store reference to embed id on output_area\n",
       "      output_area._bokeh_element_id = output.metadata[EXEC_MIME_TYPE][\"id\"];\n",
       "    }\n",
       "    if (output.metadata[EXEC_MIME_TYPE][\"server_id\"] !== undefined) {\n",
       "      var bk_div = document.createElement(\"div\");\n",
       "      bk_div.innerHTML = output.data[HTML_MIME_TYPE];\n",
       "      var script_attrs = bk_div.children[0].attributes;\n",
       "      for (var i = 0; i < script_attrs.length; i++) {\n",
       "        toinsert[toinsert.length - 1].firstChild.setAttribute(script_attrs[i].name, script_attrs[i].value);\n",
       "        toinsert[toinsert.length - 1].firstChild.textContent = bk_div.children[0].textContent\n",
       "      }\n",
       "      // store reference to server id on output_area\n",
       "      output_area._bokeh_server_id = output.metadata[EXEC_MIME_TYPE][\"server_id\"];\n",
       "    }\n",
       "  }\n",
       "\n",
       "  function register_renderer(events, OutputArea) {\n",
       "\n",
       "    function append_mime(data, metadata, element) {\n",
       "      // create a DOM node to render to\n",
       "      var toinsert = this.create_output_subarea(\n",
       "        metadata,\n",
       "        CLASS_NAME,\n",
       "        EXEC_MIME_TYPE\n",
       "      );\n",
       "      this.keyboard_manager.register_events(toinsert);\n",
       "      // Render to node\n",
       "      var props = {data: data, metadata: metadata[EXEC_MIME_TYPE]};\n",
       "      render(props, toinsert[toinsert.length - 1]);\n",
       "      element.append(toinsert);\n",
       "      return toinsert\n",
       "    }\n",
       "\n",
       "    /* Handle when an output is cleared or removed */\n",
       "    events.on('clear_output.CodeCell', handleClearOutput);\n",
       "    events.on('delete.Cell', handleClearOutput);\n",
       "\n",
       "    /* Handle when a new output is added */\n",
       "    events.on('output_added.OutputArea', handleAddOutput);\n",
       "\n",
       "    /**\n",
       "     * Register the mime type and append_mime function with output_area\n",
       "     */\n",
       "    OutputArea.prototype.register_mime_type(EXEC_MIME_TYPE, append_mime, {\n",
       "      /* Is output safe? */\n",
       "      safe: true,\n",
       "      /* Index of renderer in `output_area.display_order` */\n",
       "      index: 0\n",
       "    });\n",
       "  }\n",
       "\n",
       "  // register the mime type if in Jupyter Notebook environment and previously unregistered\n",
       "  if (root.Jupyter !== undefined) {\n",
       "    var events = require('base/js/events');\n",
       "    var OutputArea = require('notebook/js/outputarea').OutputArea;\n",
       "\n",
       "    if (OutputArea.prototype.mime_types().indexOf(EXEC_MIME_TYPE) == -1) {\n",
       "      register_renderer(events, OutputArea);\n",
       "    }\n",
       "  }\n",
       "\n",
       "  \n",
       "  if (typeof (root._bokeh_timeout) === \"undefined\" || force === true) {\n",
       "    root._bokeh_timeout = Date.now() + 5000;\n",
       "    root._bokeh_failed_load = false;\n",
       "  }\n",
       "\n",
       "  var NB_LOAD_WARNING = {'data': {'text/html':\n",
       "     \"<div style='background-color: #fdd'>\\n\"+\n",
       "     \"<p>\\n\"+\n",
       "     \"BokehJS does not appear to have successfully loaded. If loading BokehJS from CDN, this \\n\"+\n",
       "     \"may be due to a slow or bad network connection. Possible fixes:\\n\"+\n",
       "     \"</p>\\n\"+\n",
       "     \"<ul>\\n\"+\n",
       "     \"<li>re-rerun `output_notebook()` to attempt to load from CDN again, or</li>\\n\"+\n",
       "     \"<li>use INLINE resources instead, as so:</li>\\n\"+\n",
       "     \"</ul>\\n\"+\n",
       "     \"<code>\\n\"+\n",
       "     \"from bokeh.resources import INLINE\\n\"+\n",
       "     \"output_notebook(resources=INLINE)\\n\"+\n",
       "     \"</code>\\n\"+\n",
       "     \"</div>\"}};\n",
       "\n",
       "  function display_loaded() {\n",
       "    var el = document.getElementById(\"1001\");\n",
       "    if (el != null) {\n",
       "      el.textContent = \"BokehJS is loading...\";\n",
       "    }\n",
       "    if (root.Bokeh !== undefined) {\n",
       "      if (el != null) {\n",
       "        el.textContent = \"BokehJS \" + root.Bokeh.version + \" successfully loaded.\";\n",
       "      }\n",
       "    } else if (Date.now() < root._bokeh_timeout) {\n",
       "      setTimeout(display_loaded, 100)\n",
       "    }\n",
       "  }\n",
       "\n",
       "\n",
       "  function run_callbacks() {\n",
       "    try {\n",
       "      root._bokeh_onload_callbacks.forEach(function(callback) {\n",
       "        if (callback != null)\n",
       "          callback();\n",
       "      });\n",
       "    } finally {\n",
       "      delete root._bokeh_onload_callbacks\n",
       "    }\n",
       "    console.debug(\"Bokeh: all callbacks have finished\");\n",
       "  }\n",
       "\n",
       "  function load_libs(css_urls, js_urls, callback) {\n",
       "    if (css_urls == null) css_urls = [];\n",
       "    if (js_urls == null) js_urls = [];\n",
       "\n",
       "    root._bokeh_onload_callbacks.push(callback);\n",
       "    if (root._bokeh_is_loading > 0) {\n",
       "      console.debug(\"Bokeh: BokehJS is being loaded, scheduling callback at\", now());\n",
       "      return null;\n",
       "    }\n",
       "    if (js_urls == null || js_urls.length === 0) {\n",
       "      run_callbacks();\n",
       "      return null;\n",
       "    }\n",
       "    console.debug(\"Bokeh: BokehJS not loaded, scheduling load and callback at\", now());\n",
       "    root._bokeh_is_loading = css_urls.length + js_urls.length;\n",
       "\n",
       "    function on_load() {\n",
       "      root._bokeh_is_loading--;\n",
       "      if (root._bokeh_is_loading === 0) {\n",
       "        console.debug(\"Bokeh: all BokehJS libraries/stylesheets loaded\");\n",
       "        run_callbacks()\n",
       "      }\n",
       "    }\n",
       "\n",
       "    function on_error() {\n",
       "      console.error(\"failed to load \" + url);\n",
       "    }\n",
       "\n",
       "    for (var i = 0; i < css_urls.length; i++) {\n",
       "      var url = css_urls[i];\n",
       "      const element = document.createElement(\"link\");\n",
       "      element.onload = on_load;\n",
       "      element.onerror = on_error;\n",
       "      element.rel = \"stylesheet\";\n",
       "      element.type = \"text/css\";\n",
       "      element.href = url;\n",
       "      console.debug(\"Bokeh: injecting link tag for BokehJS stylesheet: \", url);\n",
       "      document.body.appendChild(element);\n",
       "    }\n",
       "\n",
       "    const hashes = {\"https://cdn.bokeh.org/bokeh/release/bokeh-2.0.1.min.js\": \"JpP8FXbgAZLkfur7LiK3j9AGBhHNIvF742meBJrjO2ShJDhCG2I1uVvW+0DUtrmc\", \"https://cdn.bokeh.org/bokeh/release/bokeh-widgets-2.0.1.min.js\": \"xZlADit0Q04ISQEdKg2k3L4W9AwQBAuDs9nJL9fM/WwzL1tEU9VPNezOFX0nLEAz\", \"https://cdn.bokeh.org/bokeh/release/bokeh-tables-2.0.1.min.js\": \"4BuPRZkdMKSnj3zoxiNrQ86XgNw0rYmBOxe7nshquXwwcauupgBF2DHLVG1WuZlV\", \"https://cdn.bokeh.org/bokeh/release/bokeh-gl-2.0.1.min.js\": \"Dv1SQ87hmDqK6S5OhBf0bCuwAEvL5QYL0PuR/F1SPVhCS/r/abjkbpKDYL2zeM19\"};\n",
       "\n",
       "    for (var i = 0; i < js_urls.length; i++) {\n",
       "      var url = js_urls[i];\n",
       "      var element = document.createElement('script');\n",
       "      element.onload = on_load;\n",
       "      element.onerror = on_error;\n",
       "      element.async = false;\n",
       "      element.src = url;\n",
       "      if (url in hashes) {\n",
       "        element.crossOrigin = \"anonymous\";\n",
       "        element.integrity = \"sha384-\" + hashes[url];\n",
       "      }\n",
       "      console.debug(\"Bokeh: injecting script tag for BokehJS library: \", url);\n",
       "      document.head.appendChild(element);\n",
       "    }\n",
       "  };var element = document.getElementById(\"1001\");\n",
       "  if (element == null) {\n",
       "    console.error(\"Bokeh: ERROR: autoload.js configured with elementid '1001' but no matching script tag was found. \")\n",
       "    return false;\n",
       "  }\n",
       "\n",
       "  function inject_raw_css(css) {\n",
       "    const element = document.createElement(\"style\");\n",
       "    element.appendChild(document.createTextNode(css));\n",
       "    document.body.appendChild(element);\n",
       "  }\n",
       "\n",
       "  \n",
       "  var js_urls = [\"https://cdn.bokeh.org/bokeh/release/bokeh-2.0.1.min.js\", \"https://cdn.bokeh.org/bokeh/release/bokeh-widgets-2.0.1.min.js\", \"https://cdn.bokeh.org/bokeh/release/bokeh-tables-2.0.1.min.js\", \"https://cdn.bokeh.org/bokeh/release/bokeh-gl-2.0.1.min.js\"];\n",
       "  var css_urls = [];\n",
       "  \n",
       "\n",
       "  var inline_js = [\n",
       "    function(Bokeh) {\n",
       "      Bokeh.set_log_level(\"info\");\n",
       "    },\n",
       "    function(Bokeh) {\n",
       "    \n",
       "    \n",
       "    }\n",
       "  ];\n",
       "\n",
       "  function run_inline_js() {\n",
       "    \n",
       "    if (root.Bokeh !== undefined || force === true) {\n",
       "      \n",
       "    for (var i = 0; i < inline_js.length; i++) {\n",
       "      inline_js[i].call(root, root.Bokeh);\n",
       "    }\n",
       "    if (force === true) {\n",
       "        display_loaded();\n",
       "      }} else if (Date.now() < root._bokeh_timeout) {\n",
       "      setTimeout(run_inline_js, 100);\n",
       "    } else if (!root._bokeh_failed_load) {\n",
       "      console.log(\"Bokeh: BokehJS failed to load within specified timeout.\");\n",
       "      root._bokeh_failed_load = true;\n",
       "    } else if (force !== true) {\n",
       "      var cell = $(document.getElementById(\"1001\")).parents('.cell').data().cell;\n",
       "      cell.output_area.append_execute_result(NB_LOAD_WARNING)\n",
       "    }\n",
       "\n",
       "  }\n",
       "\n",
       "  if (root._bokeh_is_loading === 0) {\n",
       "    console.debug(\"Bokeh: BokehJS loaded, going straight to plotting\");\n",
       "    run_inline_js();\n",
       "  } else {\n",
       "    load_libs(css_urls, js_urls, function() {\n",
       "      console.debug(\"Bokeh: BokehJS plotting callback run at\", now());\n",
       "      run_inline_js();\n",
       "    });\n",
       "  }\n",
       "}(window));"
      ],
      "application/vnd.bokehjs_load.v0+json": "\n(function(root) {\n  function now() {\n    return new Date();\n  }\n\n  var force = true;\n\n  if (typeof root._bokeh_onload_callbacks === \"undefined\" || force === true) {\n    root._bokeh_onload_callbacks = [];\n    root._bokeh_is_loading = undefined;\n  }\n\n  \n\n  \n  if (typeof (root._bokeh_timeout) === \"undefined\" || force === true) {\n    root._bokeh_timeout = Date.now() + 5000;\n    root._bokeh_failed_load = false;\n  }\n\n  var NB_LOAD_WARNING = {'data': {'text/html':\n     \"<div style='background-color: #fdd'>\\n\"+\n     \"<p>\\n\"+\n     \"BokehJS does not appear to have successfully loaded. If loading BokehJS from CDN, this \\n\"+\n     \"may be due to a slow or bad network connection. Possible fixes:\\n\"+\n     \"</p>\\n\"+\n     \"<ul>\\n\"+\n     \"<li>re-rerun `output_notebook()` to attempt to load from CDN again, or</li>\\n\"+\n     \"<li>use INLINE resources instead, as so:</li>\\n\"+\n     \"</ul>\\n\"+\n     \"<code>\\n\"+\n     \"from bokeh.resources import INLINE\\n\"+\n     \"output_notebook(resources=INLINE)\\n\"+\n     \"</code>\\n\"+\n     \"</div>\"}};\n\n  function display_loaded() {\n    var el = document.getElementById(\"1001\");\n    if (el != null) {\n      el.textContent = \"BokehJS is loading...\";\n    }\n    if (root.Bokeh !== undefined) {\n      if (el != null) {\n        el.textContent = \"BokehJS \" + root.Bokeh.version + \" successfully loaded.\";\n      }\n    } else if (Date.now() < root._bokeh_timeout) {\n      setTimeout(display_loaded, 100)\n    }\n  }\n\n\n  function run_callbacks() {\n    try {\n      root._bokeh_onload_callbacks.forEach(function(callback) {\n        if (callback != null)\n          callback();\n      });\n    } finally {\n      delete root._bokeh_onload_callbacks\n    }\n    console.debug(\"Bokeh: all callbacks have finished\");\n  }\n\n  function load_libs(css_urls, js_urls, callback) {\n    if (css_urls == null) css_urls = [];\n    if (js_urls == null) js_urls = [];\n\n    root._bokeh_onload_callbacks.push(callback);\n    if (root._bokeh_is_loading > 0) {\n      console.debug(\"Bokeh: BokehJS is being loaded, scheduling callback at\", now());\n      return null;\n    }\n    if (js_urls == null || js_urls.length === 0) {\n      run_callbacks();\n      return null;\n    }\n    console.debug(\"Bokeh: BokehJS not loaded, scheduling load and callback at\", now());\n    root._bokeh_is_loading = css_urls.length + js_urls.length;\n\n    function on_load() {\n      root._bokeh_is_loading--;\n      if (root._bokeh_is_loading === 0) {\n        console.debug(\"Bokeh: all BokehJS libraries/stylesheets loaded\");\n        run_callbacks()\n      }\n    }\n\n    function on_error() {\n      console.error(\"failed to load \" + url);\n    }\n\n    for (var i = 0; i < css_urls.length; i++) {\n      var url = css_urls[i];\n      const element = document.createElement(\"link\");\n      element.onload = on_load;\n      element.onerror = on_error;\n      element.rel = \"stylesheet\";\n      element.type = \"text/css\";\n      element.href = url;\n      console.debug(\"Bokeh: injecting link tag for BokehJS stylesheet: \", url);\n      document.body.appendChild(element);\n    }\n\n    const hashes = {\"https://cdn.bokeh.org/bokeh/release/bokeh-2.0.1.min.js\": \"JpP8FXbgAZLkfur7LiK3j9AGBhHNIvF742meBJrjO2ShJDhCG2I1uVvW+0DUtrmc\", \"https://cdn.bokeh.org/bokeh/release/bokeh-widgets-2.0.1.min.js\": \"xZlADit0Q04ISQEdKg2k3L4W9AwQBAuDs9nJL9fM/WwzL1tEU9VPNezOFX0nLEAz\", \"https://cdn.bokeh.org/bokeh/release/bokeh-tables-2.0.1.min.js\": \"4BuPRZkdMKSnj3zoxiNrQ86XgNw0rYmBOxe7nshquXwwcauupgBF2DHLVG1WuZlV\", \"https://cdn.bokeh.org/bokeh/release/bokeh-gl-2.0.1.min.js\": \"Dv1SQ87hmDqK6S5OhBf0bCuwAEvL5QYL0PuR/F1SPVhCS/r/abjkbpKDYL2zeM19\"};\n\n    for (var i = 0; i < js_urls.length; i++) {\n      var url = js_urls[i];\n      var element = document.createElement('script');\n      element.onload = on_load;\n      element.onerror = on_error;\n      element.async = false;\n      element.src = url;\n      if (url in hashes) {\n        element.crossOrigin = \"anonymous\";\n        element.integrity = \"sha384-\" + hashes[url];\n      }\n      console.debug(\"Bokeh: injecting script tag for BokehJS library: \", url);\n      document.head.appendChild(element);\n    }\n  };var element = document.getElementById(\"1001\");\n  if (element == null) {\n    console.error(\"Bokeh: ERROR: autoload.js configured with elementid '1001' but no matching script tag was found. \")\n    return false;\n  }\n\n  function inject_raw_css(css) {\n    const element = document.createElement(\"style\");\n    element.appendChild(document.createTextNode(css));\n    document.body.appendChild(element);\n  }\n\n  \n  var js_urls = [\"https://cdn.bokeh.org/bokeh/release/bokeh-2.0.1.min.js\", \"https://cdn.bokeh.org/bokeh/release/bokeh-widgets-2.0.1.min.js\", \"https://cdn.bokeh.org/bokeh/release/bokeh-tables-2.0.1.min.js\", \"https://cdn.bokeh.org/bokeh/release/bokeh-gl-2.0.1.min.js\"];\n  var css_urls = [];\n  \n\n  var inline_js = [\n    function(Bokeh) {\n      Bokeh.set_log_level(\"info\");\n    },\n    function(Bokeh) {\n    \n    \n    }\n  ];\n\n  function run_inline_js() {\n    \n    if (root.Bokeh !== undefined || force === true) {\n      \n    for (var i = 0; i < inline_js.length; i++) {\n      inline_js[i].call(root, root.Bokeh);\n    }\n    if (force === true) {\n        display_loaded();\n      }} else if (Date.now() < root._bokeh_timeout) {\n      setTimeout(run_inline_js, 100);\n    } else if (!root._bokeh_failed_load) {\n      console.log(\"Bokeh: BokehJS failed to load within specified timeout.\");\n      root._bokeh_failed_load = true;\n    } else if (force !== true) {\n      var cell = $(document.getElementById(\"1001\")).parents('.cell').data().cell;\n      cell.output_area.append_execute_result(NB_LOAD_WARNING)\n    }\n\n  }\n\n  if (root._bokeh_is_loading === 0) {\n    console.debug(\"Bokeh: BokehJS loaded, going straight to plotting\");\n    run_inline_js();\n  } else {\n    load_libs(css_urls, js_urls, function() {\n      console.debug(\"Bokeh: BokehJS plotting callback run at\", now());\n      run_inline_js();\n    });\n  }\n}(window));"
     },
     "metadata": {},
     "output_type": "display_data"
    }
   ],
   "source": [
    "from bokeh.io import output_notebook\n",
    "output_notebook()"
   ]
  },
  {
   "cell_type": "code",
   "execution_count": 34,
   "metadata": {},
   "outputs": [],
   "source": [
    "import datetime, statistics\n",
    "\n",
    "# grouper par semaine\n",
    "\n",
    "votes_par_mois = collections.defaultdict(dict)\n",
    "\n",
    "for député, dates in votes_par_députés.items():\n",
    "    for date, votes in dates.items():\n",
    "        année, mois, jour = date.split('-')\n",
    "        mois_complet = f\"{année}-{mois}\"\n",
    "        if député not in votes_par_mois[mois_complet]:\n",
    "            votes_par_mois[mois_complet][député] = [votes]\n",
    "        votes_par_mois[mois_complet][député] += votes\n",
    "\n",
    "def moyenne_votes(votes):\n",
    "    return statistics.mean([len(votes.get(député, [])) for député in députés_par_id])\n",
    "\n",
    "from bokeh.io import show\n",
    "from bokeh.plotting import figure\n",
    "        \n",
    "tout_les_mois = sorted(votes_par_mois.keys())\n",
    "\n",
    "def compte_votes(député):\n",
    "    return sum([len(mois.get(député, [])) for mois in votes_par_mois.values()])\n",
    "\n",
    "députés_les_moins_présents = sorted(votes_par_députés.keys(),\n",
    "                                    key=compte_votes)\n",
    "\n",
    "def affiche_député(député):\n",
    "    votes = [len(votes_par_mois[mois].get(député, [])) for mois in tout_les_mois]\n",
    "    votes_moyenne = [moyenne_votes(votes_par_mois[mois]) for mois in tout_les_mois]\n",
    "\n",
    "    p = figure(x_range=tout_les_mois, plot_width=700, plot_height=400,\n",
    "               title=f\"Votes par mois pour {députés_par_id[député]['Prénom']} {députés_par_id[député]['Nom']} avec {compte_votes(député)} votes\",\n",
    "               )\n",
    "\n",
    "    p.step(tout_les_mois, votes_moyenne, line_width=2, line_color=\"red\", mode=\"before\", alpha=0.8, legend_label='Moyenne de tous les députés')\n",
    "    p.vbar(x=tout_les_mois, top=votes, width=1, alpha=0.5)\n",
    "\n",
    "    p.y_range.start = 0\n",
    "    p.xgrid.grid_line_color = None\n",
    "    p.ygrid.grid_line_color = None\n",
    "    p.xaxis.major_label_orientation = \"vertical\"\n",
    "    show(p)\n"
   ]
  },
  {
   "cell_type": "markdown",
   "metadata": {},
   "source": [
    "# Les 10 moins présents"
   ]
  },
  {
   "cell_type": "code",
   "execution_count": 37,
   "metadata": {},
   "outputs": [
    {
     "data": {
      "text/html": [
       "\n",
       "\n",
       "\n",
       "\n",
       "\n",
       "\n",
       "  <div class=\"bk-root\" id=\"47b3742e-1026-4005-a90c-98a5803097fc\" data-root-id=\"147727\"></div>\n"
      ]
     },
     "metadata": {},
     "output_type": "display_data"
    },
    {
     "data": {
      "application/javascript": [
       "(function(root) {\n",
       "  function embed_document(root) {\n",
       "    \n",
       "  var docs_json = {\"e6d6dda4-e620-46c4-8545-88a2e86d03bd\":{\"roots\":{\"references\":[{\"attributes\":{\"below\":[{\"id\":\"147738\"}],\"center\":[{\"id\":\"147740\"},{\"id\":\"147744\"},{\"id\":\"147770\"}],\"left\":[{\"id\":\"147741\"}],\"plot_height\":400,\"plot_width\":700,\"renderers\":[{\"id\":\"147762\"},{\"id\":\"147775\"}],\"title\":{\"id\":\"147728\"},\"toolbar\":{\"id\":\"147752\"},\"x_range\":{\"id\":\"147730\"},\"x_scale\":{\"id\":\"147734\"},\"y_range\":{\"id\":\"147732\"},\"y_scale\":{\"id\":\"147736\"}},\"id\":\"147727\",\"subtype\":\"Figure\",\"type\":\"Plot\"},{\"attributes\":{\"formatter\":{\"id\":\"147766\"},\"major_label_orientation\":\"vertical\",\"ticker\":{\"id\":\"147739\"}},\"id\":\"147738\",\"type\":\"CategoricalAxis\"},{\"attributes\":{\"bottom_units\":\"screen\",\"fill_alpha\":0.5,\"fill_color\":\"lightgrey\",\"left_units\":\"screen\",\"level\":\"overlay\",\"line_alpha\":1.0,\"line_color\":\"black\",\"line_dash\":[4,4],\"line_width\":2,\"render_mode\":\"css\",\"right_units\":\"screen\",\"top_units\":\"screen\"},\"id\":\"147751\",\"type\":\"BoxAnnotation\"},{\"attributes\":{},\"id\":\"147739\",\"type\":\"CategoricalTicker\"},{\"attributes\":{},\"id\":\"149332\",\"type\":\"UnionRenderers\"},{\"attributes\":{\"axis\":{\"id\":\"147738\"},\"grid_line_color\":null,\"ticker\":null},\"id\":\"147740\",\"type\":\"Grid\"},{\"attributes\":{\"data_source\":{\"id\":\"147759\"},\"glyph\":{\"id\":\"147760\"},\"hover_glyph\":null,\"muted_glyph\":null,\"nonselection_glyph\":{\"id\":\"147761\"},\"selection_glyph\":null,\"view\":{\"id\":\"147763\"}},\"id\":\"147762\",\"type\":\"GlyphRenderer\"},{\"attributes\":{\"formatter\":{\"id\":\"147768\"},\"ticker\":{\"id\":\"147742\"}},\"id\":\"147741\",\"type\":\"LinearAxis\"},{\"attributes\":{\"source\":{\"id\":\"147759\"}},\"id\":\"147763\",\"type\":\"CDSView\"},{\"attributes\":{},\"id\":\"147742\",\"type\":\"BasicTicker\"},{\"attributes\":{},\"id\":\"147766\",\"type\":\"CategoricalTickFormatter\"},{\"attributes\":{\"axis\":{\"id\":\"147741\"},\"dimension\":1,\"grid_line_color\":null,\"ticker\":null},\"id\":\"147744\",\"type\":\"Grid\"},{\"attributes\":{},\"id\":\"147768\",\"type\":\"BasicTickFormatter\"},{\"attributes\":{\"items\":[{\"id\":\"147771\"}]},\"id\":\"147770\",\"type\":\"Legend\"},{\"attributes\":{\"line_alpha\":{\"value\":0.8},\"line_color\":{\"value\":\"red\"},\"line_width\":{\"value\":2},\"x\":{\"field\":\"x\"},\"y\":{\"field\":\"y\"}},\"id\":\"147760\",\"type\":\"Step\"},{\"attributes\":{\"label\":{\"value\":\"Moyenne de tous les d\\u00e9put\\u00e9s\"},\"renderers\":[{\"id\":\"147762\"}]},\"id\":\"147771\",\"type\":\"LegendItem\"},{\"attributes\":{\"data\":{\"x\":[\"2017-07\",\"2017-08\",\"2017-09\",\"2017-10\",\"2017-11\",\"2017-12\",\"2018-01\",\"2018-02\",\"2018-03\",\"2018-04\",\"2018-05\",\"2018-06\",\"2018-07\",\"2018-08\",\"2018-09\",\"2018-10\",\"2018-11\",\"2018-12\",\"2019-01\",\"2019-02\",\"2019-03\",\"2019-04\",\"2019-05\",\"2019-06\",\"2019-07\",\"2019-09\",\"2019-10\",\"2019-11\",\"2019-12\",\"2020-01\",\"2020-02\",\"2020-03\",\"2020-04\",\"2020-05\",\"2020-06\",\"2020-07\"],\"y\":[33.831889081455806,7.630849220103986,3.766031195840555,18.441941074523395,16.75216637781629,6.289428076256499,5.1871750433275565,6.15944540727903,5.696707105719238,30.221837088388217,27.37261698440208,30.492201039861353,22.890814558058924,1.0190641247833623,7.864818024263432,23.648180242634314,21.504332755632582,18.12305025996534,8.273830155979203,8.875216637781628,13.807625649913344,3.7417677642980935,11.109185441941074,9.719237435008665,8.984402079722704,7.247833622183709,20.97573656845754,11.1369150779896,11.726169844020797,3.9376083188908146,47.80762564991335,8.675909878682843,3.9740034662045063,8.646447140381282,15.552859618717504,3.3518197573656847]},\"selected\":{\"id\":\"149333\"},\"selection_policy\":{\"id\":\"149332\"}},\"id\":\"147759\",\"type\":\"ColumnDataSource\"},{\"attributes\":{\"source\":{\"id\":\"147772\"}},\"id\":\"147776\",\"type\":\"CDSView\"},{\"attributes\":{\"data\":{\"top\":[0,0,0,0,0,0,0,0,0,0,0,0,0,0,0,0,0,0,0,0,0,0,0,0,0,0,0,0,0,0,0,0,4,9,22,0],\"x\":[\"2017-07\",\"2017-08\",\"2017-09\",\"2017-10\",\"2017-11\",\"2017-12\",\"2018-01\",\"2018-02\",\"2018-03\",\"2018-04\",\"2018-05\",\"2018-06\",\"2018-07\",\"2018-08\",\"2018-09\",\"2018-10\",\"2018-11\",\"2018-12\",\"2019-01\",\"2019-02\",\"2019-03\",\"2019-04\",\"2019-05\",\"2019-06\",\"2019-07\",\"2019-09\",\"2019-10\",\"2019-11\",\"2019-12\",\"2020-01\",\"2020-02\",\"2020-03\",\"2020-04\",\"2020-05\",\"2020-06\",\"2020-07\"]},\"selected\":{\"id\":\"149335\"},\"selection_policy\":{\"id\":\"149334\"}},\"id\":\"147772\",\"type\":\"ColumnDataSource\"},{\"attributes\":{},\"id\":\"147745\",\"type\":\"PanTool\"},{\"attributes\":{},\"id\":\"147746\",\"type\":\"WheelZoomTool\"},{\"attributes\":{},\"id\":\"149334\",\"type\":\"UnionRenderers\"},{\"attributes\":{\"overlay\":{\"id\":\"147751\"}},\"id\":\"147747\",\"type\":\"BoxZoomTool\"},{\"attributes\":{},\"id\":\"149333\",\"type\":\"Selection\"},{\"attributes\":{},\"id\":\"147748\",\"type\":\"SaveTool\"},{\"attributes\":{\"line_alpha\":{\"value\":0.1},\"line_color\":{\"value\":\"red\"},\"line_width\":{\"value\":2},\"x\":{\"field\":\"x\"},\"y\":{\"field\":\"y\"}},\"id\":\"147761\",\"type\":\"Step\"},{\"attributes\":{},\"id\":\"149335\",\"type\":\"Selection\"},{\"attributes\":{},\"id\":\"147749\",\"type\":\"ResetTool\"},{\"attributes\":{\"fill_alpha\":{\"value\":0.5},\"fill_color\":{\"value\":\"#1f77b4\"},\"line_alpha\":{\"value\":0.5},\"line_color\":{\"value\":\"#1f77b4\"},\"top\":{\"field\":\"top\"},\"width\":{\"value\":1},\"x\":{\"field\":\"x\"}},\"id\":\"147773\",\"type\":\"VBar\"},{\"attributes\":{\"text\":\"Votes par mois pour Souad Zitouni avec 35 votes\"},\"id\":\"147728\",\"type\":\"Title\"},{\"attributes\":{},\"id\":\"147750\",\"type\":\"HelpTool\"},{\"attributes\":{\"factors\":[\"2017-07\",\"2017-08\",\"2017-09\",\"2017-10\",\"2017-11\",\"2017-12\",\"2018-01\",\"2018-02\",\"2018-03\",\"2018-04\",\"2018-05\",\"2018-06\",\"2018-07\",\"2018-08\",\"2018-09\",\"2018-10\",\"2018-11\",\"2018-12\",\"2019-01\",\"2019-02\",\"2019-03\",\"2019-04\",\"2019-05\",\"2019-06\",\"2019-07\",\"2019-09\",\"2019-10\",\"2019-11\",\"2019-12\",\"2020-01\",\"2020-02\",\"2020-03\",\"2020-04\",\"2020-05\",\"2020-06\",\"2020-07\"]},\"id\":\"147730\",\"type\":\"FactorRange\"},{\"attributes\":{\"start\":0},\"id\":\"147732\",\"type\":\"DataRange1d\"},{\"attributes\":{\"active_drag\":\"auto\",\"active_inspect\":\"auto\",\"active_multi\":null,\"active_scroll\":\"auto\",\"active_tap\":\"auto\",\"tools\":[{\"id\":\"147745\"},{\"id\":\"147746\"},{\"id\":\"147747\"},{\"id\":\"147748\"},{\"id\":\"147749\"},{\"id\":\"147750\"}]},\"id\":\"147752\",\"type\":\"Toolbar\"},{\"attributes\":{},\"id\":\"147734\",\"type\":\"CategoricalScale\"},{\"attributes\":{\"data_source\":{\"id\":\"147772\"},\"glyph\":{\"id\":\"147773\"},\"hover_glyph\":null,\"muted_glyph\":null,\"nonselection_glyph\":{\"id\":\"147774\"},\"selection_glyph\":null,\"view\":{\"id\":\"147776\"}},\"id\":\"147775\",\"type\":\"GlyphRenderer\"},{\"attributes\":{},\"id\":\"147736\",\"type\":\"LinearScale\"},{\"attributes\":{\"fill_alpha\":{\"value\":0.1},\"fill_color\":{\"value\":\"#1f77b4\"},\"line_alpha\":{\"value\":0.1},\"line_color\":{\"value\":\"#1f77b4\"},\"top\":{\"field\":\"top\"},\"width\":{\"value\":1},\"x\":{\"field\":\"x\"}},\"id\":\"147774\",\"type\":\"VBar\"}],\"root_ids\":[\"147727\"]},\"title\":\"Bokeh Application\",\"version\":\"2.0.1\"}};\n",
       "  var render_items = [{\"docid\":\"e6d6dda4-e620-46c4-8545-88a2e86d03bd\",\"root_ids\":[\"147727\"],\"roots\":{\"147727\":\"47b3742e-1026-4005-a90c-98a5803097fc\"}}];\n",
       "  root.Bokeh.embed.embed_items_notebook(docs_json, render_items);\n",
       "\n",
       "  }\n",
       "  if (root.Bokeh !== undefined) {\n",
       "    embed_document(root);\n",
       "  } else {\n",
       "    var attempts = 0;\n",
       "    var timer = setInterval(function(root) {\n",
       "      if (root.Bokeh !== undefined) {\n",
       "        clearInterval(timer);\n",
       "        embed_document(root);\n",
       "      } else {\n",
       "        attempts++;\n",
       "        if (attempts > 100) {\n",
       "          clearInterval(timer);\n",
       "          console.log(\"Bokeh: ERROR: Unable to run BokehJS code because BokehJS library is missing\");\n",
       "        }\n",
       "      }\n",
       "    }, 10, root)\n",
       "  }\n",
       "})(window);"
      ],
      "application/vnd.bokehjs_exec.v0+json": ""
     },
     "metadata": {
      "application/vnd.bokehjs_exec.v0+json": {
       "id": "147727"
      }
     },
     "output_type": "display_data"
    },
    {
     "data": {
      "text/html": [
       "\n",
       "\n",
       "\n",
       "\n",
       "\n",
       "\n",
       "  <div class=\"bk-root\" id=\"d59e682c-e562-4364-b99f-7e22bf161aa4\" data-root-id=\"149397\"></div>\n"
      ]
     },
     "metadata": {},
     "output_type": "display_data"
    },
    {
     "data": {
      "application/javascript": [
       "(function(root) {\n",
       "  function embed_document(root) {\n",
       "    \n",
       "  var docs_json = {\"7ac42e8c-f47c-4118-a667-f793a3735140\":{\"roots\":{\"references\":[{\"attributes\":{\"below\":[{\"id\":\"149408\"}],\"center\":[{\"id\":\"149410\"},{\"id\":\"149414\"},{\"id\":\"149440\"}],\"left\":[{\"id\":\"149411\"}],\"plot_height\":400,\"plot_width\":700,\"renderers\":[{\"id\":\"149432\"},{\"id\":\"149445\"}],\"title\":{\"id\":\"149398\"},\"toolbar\":{\"id\":\"149422\"},\"x_range\":{\"id\":\"149400\"},\"x_scale\":{\"id\":\"149404\"},\"y_range\":{\"id\":\"149402\"},\"y_scale\":{\"id\":\"149406\"}},\"id\":\"149397\",\"subtype\":\"Figure\",\"type\":\"Plot\"},{\"attributes\":{},\"id\":\"149412\",\"type\":\"BasicTicker\"},{\"attributes\":{\"data_source\":{\"id\":\"149442\"},\"glyph\":{\"id\":\"149443\"},\"hover_glyph\":null,\"muted_glyph\":null,\"nonselection_glyph\":{\"id\":\"149444\"},\"selection_glyph\":null,\"view\":{\"id\":\"149446\"}},\"id\":\"149445\",\"type\":\"GlyphRenderer\"},{\"attributes\":{\"formatter\":{\"id\":\"149438\"},\"ticker\":{\"id\":\"149412\"}},\"id\":\"149411\",\"type\":\"LinearAxis\"},{\"attributes\":{\"axis\":{\"id\":\"149408\"},\"grid_line_color\":null,\"ticker\":null},\"id\":\"149410\",\"type\":\"Grid\"},{\"attributes\":{\"bottom_units\":\"screen\",\"fill_alpha\":0.5,\"fill_color\":\"lightgrey\",\"left_units\":\"screen\",\"level\":\"overlay\",\"line_alpha\":1.0,\"line_color\":\"black\",\"line_dash\":[4,4],\"line_width\":2,\"render_mode\":\"css\",\"right_units\":\"screen\",\"top_units\":\"screen\"},\"id\":\"149421\",\"type\":\"BoxAnnotation\"},{\"attributes\":{\"active_drag\":\"auto\",\"active_inspect\":\"auto\",\"active_multi\":null,\"active_scroll\":\"auto\",\"active_tap\":\"auto\",\"tools\":[{\"id\":\"149415\"},{\"id\":\"149416\"},{\"id\":\"149417\"},{\"id\":\"149418\"},{\"id\":\"149419\"},{\"id\":\"149420\"}]},\"id\":\"149422\",\"type\":\"Toolbar\"},{\"attributes\":{\"data_source\":{\"id\":\"149429\"},\"glyph\":{\"id\":\"149430\"},\"hover_glyph\":null,\"muted_glyph\":null,\"nonselection_glyph\":{\"id\":\"149431\"},\"selection_glyph\":null,\"view\":{\"id\":\"149433\"}},\"id\":\"149432\",\"type\":\"GlyphRenderer\"},{\"attributes\":{},\"id\":\"149409\",\"type\":\"CategoricalTicker\"},{\"attributes\":{\"source\":{\"id\":\"149429\"}},\"id\":\"149433\",\"type\":\"CDSView\"},{\"attributes\":{\"formatter\":{\"id\":\"149436\"},\"major_label_orientation\":\"vertical\",\"ticker\":{\"id\":\"149409\"}},\"id\":\"149408\",\"type\":\"CategoricalAxis\"},{\"attributes\":{},\"id\":\"149436\",\"type\":\"CategoricalTickFormatter\"},{\"attributes\":{},\"id\":\"149406\",\"type\":\"LinearScale\"},{\"attributes\":{\"data\":{\"top\":[0,0,0,0,0,0,0,0,0,0,0,0,0,0,0,0,0,0,0,0,0,0,0,0,0,0,0,0,0,0,0,5,4,9,24,0],\"x\":[\"2017-07\",\"2017-08\",\"2017-09\",\"2017-10\",\"2017-11\",\"2017-12\",\"2018-01\",\"2018-02\",\"2018-03\",\"2018-04\",\"2018-05\",\"2018-06\",\"2018-07\",\"2018-08\",\"2018-09\",\"2018-10\",\"2018-11\",\"2018-12\",\"2019-01\",\"2019-02\",\"2019-03\",\"2019-04\",\"2019-05\",\"2019-06\",\"2019-07\",\"2019-09\",\"2019-10\",\"2019-11\",\"2019-12\",\"2020-01\",\"2020-02\",\"2020-03\",\"2020-04\",\"2020-05\",\"2020-06\",\"2020-07\"]},\"selected\":{\"id\":\"151015\"},\"selection_policy\":{\"id\":\"151014\"}},\"id\":\"149442\",\"type\":\"ColumnDataSource\"},{\"attributes\":{\"start\":0},\"id\":\"149402\",\"type\":\"DataRange1d\"},{\"attributes\":{\"fill_alpha\":{\"value\":0.1},\"fill_color\":{\"value\":\"#1f77b4\"},\"line_alpha\":{\"value\":0.1},\"line_color\":{\"value\":\"#1f77b4\"},\"top\":{\"field\":\"top\"},\"width\":{\"value\":1},\"x\":{\"field\":\"x\"}},\"id\":\"149444\",\"type\":\"VBar\"},{\"attributes\":{\"source\":{\"id\":\"149442\"}},\"id\":\"149446\",\"type\":\"CDSView\"},{\"attributes\":{\"fill_alpha\":{\"value\":0.5},\"fill_color\":{\"value\":\"#1f77b4\"},\"line_alpha\":{\"value\":0.5},\"line_color\":{\"value\":\"#1f77b4\"},\"top\":{\"field\":\"top\"},\"width\":{\"value\":1},\"x\":{\"field\":\"x\"}},\"id\":\"149443\",\"type\":\"VBar\"},{\"attributes\":{\"text\":\"Votes par mois pour Camille Galliard-Minier avec 42 votes\"},\"id\":\"149398\",\"type\":\"Title\"},{\"attributes\":{},\"id\":\"151012\",\"type\":\"UnionRenderers\"},{\"attributes\":{\"line_alpha\":{\"value\":0.1},\"line_color\":{\"value\":\"red\"},\"line_width\":{\"value\":2},\"x\":{\"field\":\"x\"},\"y\":{\"field\":\"y\"}},\"id\":\"149431\",\"type\":\"Step\"},{\"attributes\":{},\"id\":\"151013\",\"type\":\"Selection\"},{\"attributes\":{},\"id\":\"149415\",\"type\":\"PanTool\"},{\"attributes\":{\"items\":[{\"id\":\"149441\"}]},\"id\":\"149440\",\"type\":\"Legend\"},{\"attributes\":{\"label\":{\"value\":\"Moyenne de tous les d\\u00e9put\\u00e9s\"},\"renderers\":[{\"id\":\"149432\"}]},\"id\":\"149441\",\"type\":\"LegendItem\"},{\"attributes\":{},\"id\":\"151014\",\"type\":\"UnionRenderers\"},{\"attributes\":{\"data\":{\"x\":[\"2017-07\",\"2017-08\",\"2017-09\",\"2017-10\",\"2017-11\",\"2017-12\",\"2018-01\",\"2018-02\",\"2018-03\",\"2018-04\",\"2018-05\",\"2018-06\",\"2018-07\",\"2018-08\",\"2018-09\",\"2018-10\",\"2018-11\",\"2018-12\",\"2019-01\",\"2019-02\",\"2019-03\",\"2019-04\",\"2019-05\",\"2019-06\",\"2019-07\",\"2019-09\",\"2019-10\",\"2019-11\",\"2019-12\",\"2020-01\",\"2020-02\",\"2020-03\",\"2020-04\",\"2020-05\",\"2020-06\",\"2020-07\"],\"y\":[33.831889081455806,7.630849220103986,3.766031195840555,18.441941074523395,16.75216637781629,6.289428076256499,5.1871750433275565,6.15944540727903,5.696707105719238,30.221837088388217,27.37261698440208,30.492201039861353,22.890814558058924,1.0190641247833623,7.864818024263432,23.648180242634314,21.504332755632582,18.12305025996534,8.273830155979203,8.875216637781628,13.807625649913344,3.7417677642980935,11.109185441941074,9.719237435008665,8.984402079722704,7.247833622183709,20.97573656845754,11.1369150779896,11.726169844020797,3.9376083188908146,47.80762564991335,8.675909878682843,3.9740034662045063,8.646447140381282,15.552859618717504,3.3518197573656847]},\"selected\":{\"id\":\"151013\"},\"selection_policy\":{\"id\":\"151012\"}},\"id\":\"149429\",\"type\":\"ColumnDataSource\"},{\"attributes\":{},\"id\":\"149438\",\"type\":\"BasicTickFormatter\"},{\"attributes\":{},\"id\":\"151015\",\"type\":\"Selection\"},{\"attributes\":{},\"id\":\"149419\",\"type\":\"ResetTool\"},{\"attributes\":{\"line_alpha\":{\"value\":0.8},\"line_color\":{\"value\":\"red\"},\"line_width\":{\"value\":2},\"x\":{\"field\":\"x\"},\"y\":{\"field\":\"y\"}},\"id\":\"149430\",\"type\":\"Step\"},{\"attributes\":{},\"id\":\"149418\",\"type\":\"SaveTool\"},{\"attributes\":{},\"id\":\"149420\",\"type\":\"HelpTool\"},{\"attributes\":{\"overlay\":{\"id\":\"149421\"}},\"id\":\"149417\",\"type\":\"BoxZoomTool\"},{\"attributes\":{},\"id\":\"149404\",\"type\":\"CategoricalScale\"},{\"attributes\":{\"factors\":[\"2017-07\",\"2017-08\",\"2017-09\",\"2017-10\",\"2017-11\",\"2017-12\",\"2018-01\",\"2018-02\",\"2018-03\",\"2018-04\",\"2018-05\",\"2018-06\",\"2018-07\",\"2018-08\",\"2018-09\",\"2018-10\",\"2018-11\",\"2018-12\",\"2019-01\",\"2019-02\",\"2019-03\",\"2019-04\",\"2019-05\",\"2019-06\",\"2019-07\",\"2019-09\",\"2019-10\",\"2019-11\",\"2019-12\",\"2020-01\",\"2020-02\",\"2020-03\",\"2020-04\",\"2020-05\",\"2020-06\",\"2020-07\"]},\"id\":\"149400\",\"type\":\"FactorRange\"},{\"attributes\":{},\"id\":\"149416\",\"type\":\"WheelZoomTool\"},{\"attributes\":{\"axis\":{\"id\":\"149411\"},\"dimension\":1,\"grid_line_color\":null,\"ticker\":null},\"id\":\"149414\",\"type\":\"Grid\"}],\"root_ids\":[\"149397\"]},\"title\":\"Bokeh Application\",\"version\":\"2.0.1\"}};\n",
       "  var render_items = [{\"docid\":\"7ac42e8c-f47c-4118-a667-f793a3735140\",\"root_ids\":[\"149397\"],\"roots\":{\"149397\":\"d59e682c-e562-4364-b99f-7e22bf161aa4\"}}];\n",
       "  root.Bokeh.embed.embed_items_notebook(docs_json, render_items);\n",
       "\n",
       "  }\n",
       "  if (root.Bokeh !== undefined) {\n",
       "    embed_document(root);\n",
       "  } else {\n",
       "    var attempts = 0;\n",
       "    var timer = setInterval(function(root) {\n",
       "      if (root.Bokeh !== undefined) {\n",
       "        clearInterval(timer);\n",
       "        embed_document(root);\n",
       "      } else {\n",
       "        attempts++;\n",
       "        if (attempts > 100) {\n",
       "          clearInterval(timer);\n",
       "          console.log(\"Bokeh: ERROR: Unable to run BokehJS code because BokehJS library is missing\");\n",
       "        }\n",
       "      }\n",
       "    }, 10, root)\n",
       "  }\n",
       "})(window);"
      ],
      "application/vnd.bokehjs_exec.v0+json": ""
     },
     "metadata": {
      "application/vnd.bokehjs_exec.v0+json": {
       "id": "149397"
      }
     },
     "output_type": "display_data"
    },
    {
     "data": {
      "text/html": [
       "\n",
       "\n",
       "\n",
       "\n",
       "\n",
       "\n",
       "  <div class=\"bk-root\" id=\"9fcdfe29-31a4-4d30-a575-797404b19c09\" data-root-id=\"151077\"></div>\n"
      ]
     },
     "metadata": {},
     "output_type": "display_data"
    },
    {
     "data": {
      "application/javascript": [
       "(function(root) {\n",
       "  function embed_document(root) {\n",
       "    \n",
       "  var docs_json = {\"d8d97417-31d7-40ad-a678-f09fab6d3bb5\":{\"roots\":{\"references\":[{\"attributes\":{\"below\":[{\"id\":\"151088\"}],\"center\":[{\"id\":\"151090\"},{\"id\":\"151094\"},{\"id\":\"151120\"}],\"left\":[{\"id\":\"151091\"}],\"plot_height\":400,\"plot_width\":700,\"renderers\":[{\"id\":\"151112\"},{\"id\":\"151125\"}],\"title\":{\"id\":\"151078\"},\"toolbar\":{\"id\":\"151102\"},\"x_range\":{\"id\":\"151080\"},\"x_scale\":{\"id\":\"151084\"},\"y_range\":{\"id\":\"151082\"},\"y_scale\":{\"id\":\"151086\"}},\"id\":\"151077\",\"subtype\":\"Figure\",\"type\":\"Plot\"},{\"attributes\":{},\"id\":\"151100\",\"type\":\"HelpTool\"},{\"attributes\":{\"active_drag\":\"auto\",\"active_inspect\":\"auto\",\"active_multi\":null,\"active_scroll\":\"auto\",\"active_tap\":\"auto\",\"tools\":[{\"id\":\"151095\"},{\"id\":\"151096\"},{\"id\":\"151097\"},{\"id\":\"151098\"},{\"id\":\"151099\"},{\"id\":\"151100\"}]},\"id\":\"151102\",\"type\":\"Toolbar\"},{\"attributes\":{\"line_alpha\":{\"value\":0.8},\"line_color\":{\"value\":\"red\"},\"line_width\":{\"value\":2},\"x\":{\"field\":\"x\"},\"y\":{\"field\":\"y\"}},\"id\":\"151110\",\"type\":\"Step\"},{\"attributes\":{},\"id\":\"152702\",\"type\":\"UnionRenderers\"},{\"attributes\":{\"data\":{\"top\":[0,0,0,0,0,0,0,0,0,0,0,0,0,0,0,0,0,0,0,0,0,0,0,0,0,0,0,0,0,0,0,8,4,9,18,18],\"x\":[\"2017-07\",\"2017-08\",\"2017-09\",\"2017-10\",\"2017-11\",\"2017-12\",\"2018-01\",\"2018-02\",\"2018-03\",\"2018-04\",\"2018-05\",\"2018-06\",\"2018-07\",\"2018-08\",\"2018-09\",\"2018-10\",\"2018-11\",\"2018-12\",\"2019-01\",\"2019-02\",\"2019-03\",\"2019-04\",\"2019-05\",\"2019-06\",\"2019-07\",\"2019-09\",\"2019-10\",\"2019-11\",\"2019-12\",\"2020-01\",\"2020-02\",\"2020-03\",\"2020-04\",\"2020-05\",\"2020-06\",\"2020-07\"]},\"selected\":{\"id\":\"152705\"},\"selection_policy\":{\"id\":\"152704\"}},\"id\":\"151122\",\"type\":\"ColumnDataSource\"},{\"attributes\":{\"axis\":{\"id\":\"151091\"},\"dimension\":1,\"grid_line_color\":null,\"ticker\":null},\"id\":\"151094\",\"type\":\"Grid\"},{\"attributes\":{\"data_source\":{\"id\":\"151122\"},\"glyph\":{\"id\":\"151123\"},\"hover_glyph\":null,\"muted_glyph\":null,\"nonselection_glyph\":{\"id\":\"151124\"},\"selection_glyph\":null,\"view\":{\"id\":\"151126\"}},\"id\":\"151125\",\"type\":\"GlyphRenderer\"},{\"attributes\":{},\"id\":\"151092\",\"type\":\"BasicTicker\"},{\"attributes\":{\"bottom_units\":\"screen\",\"fill_alpha\":0.5,\"fill_color\":\"lightgrey\",\"left_units\":\"screen\",\"level\":\"overlay\",\"line_alpha\":1.0,\"line_color\":\"black\",\"line_dash\":[4,4],\"line_width\":2,\"render_mode\":\"css\",\"right_units\":\"screen\",\"top_units\":\"screen\"},\"id\":\"151101\",\"type\":\"BoxAnnotation\"},{\"attributes\":{\"axis\":{\"id\":\"151088\"},\"grid_line_color\":null,\"ticker\":null},\"id\":\"151090\",\"type\":\"Grid\"},{\"attributes\":{\"formatter\":{\"id\":\"151118\"},\"ticker\":{\"id\":\"151092\"}},\"id\":\"151091\",\"type\":\"LinearAxis\"},{\"attributes\":{\"data_source\":{\"id\":\"151109\"},\"glyph\":{\"id\":\"151110\"},\"hover_glyph\":null,\"muted_glyph\":null,\"nonselection_glyph\":{\"id\":\"151111\"},\"selection_glyph\":null,\"view\":{\"id\":\"151113\"}},\"id\":\"151112\",\"type\":\"GlyphRenderer\"},{\"attributes\":{},\"id\":\"151084\",\"type\":\"CategoricalScale\"},{\"attributes\":{\"source\":{\"id\":\"151109\"}},\"id\":\"151113\",\"type\":\"CDSView\"},{\"attributes\":{},\"id\":\"151089\",\"type\":\"CategoricalTicker\"},{\"attributes\":{},\"id\":\"151116\",\"type\":\"CategoricalTickFormatter\"},{\"attributes\":{\"formatter\":{\"id\":\"151116\"},\"major_label_orientation\":\"vertical\",\"ticker\":{\"id\":\"151089\"}},\"id\":\"151088\",\"type\":\"CategoricalAxis\"},{\"attributes\":{},\"id\":\"151118\",\"type\":\"BasicTickFormatter\"},{\"attributes\":{},\"id\":\"151086\",\"type\":\"LinearScale\"},{\"attributes\":{\"start\":0},\"id\":\"151082\",\"type\":\"DataRange1d\"},{\"attributes\":{\"fill_alpha\":{\"value\":0.1},\"fill_color\":{\"value\":\"#1f77b4\"},\"line_alpha\":{\"value\":0.1},\"line_color\":{\"value\":\"#1f77b4\"},\"top\":{\"field\":\"top\"},\"width\":{\"value\":1},\"x\":{\"field\":\"x\"}},\"id\":\"151124\",\"type\":\"VBar\"},{\"attributes\":{\"source\":{\"id\":\"151122\"}},\"id\":\"151126\",\"type\":\"CDSView\"},{\"attributes\":{\"fill_alpha\":{\"value\":0.5},\"fill_color\":{\"value\":\"#1f77b4\"},\"line_alpha\":{\"value\":0.5},\"line_color\":{\"value\":\"#1f77b4\"},\"top\":{\"field\":\"top\"},\"width\":{\"value\":1},\"x\":{\"field\":\"x\"}},\"id\":\"151123\",\"type\":\"VBar\"},{\"attributes\":{\"overlay\":{\"id\":\"151101\"}},\"id\":\"151097\",\"type\":\"BoxZoomTool\"},{\"attributes\":{\"text\":\"Votes par mois pour Claudia Rouaux avec 57 votes\"},\"id\":\"151078\",\"type\":\"Title\"},{\"attributes\":{\"data\":{\"x\":[\"2017-07\",\"2017-08\",\"2017-09\",\"2017-10\",\"2017-11\",\"2017-12\",\"2018-01\",\"2018-02\",\"2018-03\",\"2018-04\",\"2018-05\",\"2018-06\",\"2018-07\",\"2018-08\",\"2018-09\",\"2018-10\",\"2018-11\",\"2018-12\",\"2019-01\",\"2019-02\",\"2019-03\",\"2019-04\",\"2019-05\",\"2019-06\",\"2019-07\",\"2019-09\",\"2019-10\",\"2019-11\",\"2019-12\",\"2020-01\",\"2020-02\",\"2020-03\",\"2020-04\",\"2020-05\",\"2020-06\",\"2020-07\"],\"y\":[33.831889081455806,7.630849220103986,3.766031195840555,18.441941074523395,16.75216637781629,6.289428076256499,5.1871750433275565,6.15944540727903,5.696707105719238,30.221837088388217,27.37261698440208,30.492201039861353,22.890814558058924,1.0190641247833623,7.864818024263432,23.648180242634314,21.504332755632582,18.12305025996534,8.273830155979203,8.875216637781628,13.807625649913344,3.7417677642980935,11.109185441941074,9.719237435008665,8.984402079722704,7.247833622183709,20.97573656845754,11.1369150779896,11.726169844020797,3.9376083188908146,47.80762564991335,8.675909878682843,3.9740034662045063,8.646447140381282,15.552859618717504,3.3518197573656847]},\"selected\":{\"id\":\"152703\"},\"selection_policy\":{\"id\":\"152702\"}},\"id\":\"151109\",\"type\":\"ColumnDataSource\"},{\"attributes\":{},\"id\":\"152703\",\"type\":\"Selection\"},{\"attributes\":{\"line_alpha\":{\"value\":0.1},\"line_color\":{\"value\":\"red\"},\"line_width\":{\"value\":2},\"x\":{\"field\":\"x\"},\"y\":{\"field\":\"y\"}},\"id\":\"151111\",\"type\":\"Step\"},{\"attributes\":{\"factors\":[\"2017-07\",\"2017-08\",\"2017-09\",\"2017-10\",\"2017-11\",\"2017-12\",\"2018-01\",\"2018-02\",\"2018-03\",\"2018-04\",\"2018-05\",\"2018-06\",\"2018-07\",\"2018-08\",\"2018-09\",\"2018-10\",\"2018-11\",\"2018-12\",\"2019-01\",\"2019-02\",\"2019-03\",\"2019-04\",\"2019-05\",\"2019-06\",\"2019-07\",\"2019-09\",\"2019-10\",\"2019-11\",\"2019-12\",\"2020-01\",\"2020-02\",\"2020-03\",\"2020-04\",\"2020-05\",\"2020-06\",\"2020-07\"]},\"id\":\"151080\",\"type\":\"FactorRange\"},{\"attributes\":{},\"id\":\"152704\",\"type\":\"UnionRenderers\"},{\"attributes\":{},\"id\":\"151095\",\"type\":\"PanTool\"},{\"attributes\":{\"label\":{\"value\":\"Moyenne de tous les d\\u00e9put\\u00e9s\"},\"renderers\":[{\"id\":\"151112\"}]},\"id\":\"151121\",\"type\":\"LegendItem\"},{\"attributes\":{},\"id\":\"152705\",\"type\":\"Selection\"},{\"attributes\":{\"items\":[{\"id\":\"151121\"}]},\"id\":\"151120\",\"type\":\"Legend\"},{\"attributes\":{},\"id\":\"151098\",\"type\":\"SaveTool\"},{\"attributes\":{},\"id\":\"151096\",\"type\":\"WheelZoomTool\"},{\"attributes\":{},\"id\":\"151099\",\"type\":\"ResetTool\"}],\"root_ids\":[\"151077\"]},\"title\":\"Bokeh Application\",\"version\":\"2.0.1\"}};\n",
       "  var render_items = [{\"docid\":\"d8d97417-31d7-40ad-a678-f09fab6d3bb5\",\"root_ids\":[\"151077\"],\"roots\":{\"151077\":\"9fcdfe29-31a4-4d30-a575-797404b19c09\"}}];\n",
       "  root.Bokeh.embed.embed_items_notebook(docs_json, render_items);\n",
       "\n",
       "  }\n",
       "  if (root.Bokeh !== undefined) {\n",
       "    embed_document(root);\n",
       "  } else {\n",
       "    var attempts = 0;\n",
       "    var timer = setInterval(function(root) {\n",
       "      if (root.Bokeh !== undefined) {\n",
       "        clearInterval(timer);\n",
       "        embed_document(root);\n",
       "      } else {\n",
       "        attempts++;\n",
       "        if (attempts > 100) {\n",
       "          clearInterval(timer);\n",
       "          console.log(\"Bokeh: ERROR: Unable to run BokehJS code because BokehJS library is missing\");\n",
       "        }\n",
       "      }\n",
       "    }, 10, root)\n",
       "  }\n",
       "})(window);"
      ],
      "application/vnd.bokehjs_exec.v0+json": ""
     },
     "metadata": {
      "application/vnd.bokehjs_exec.v0+json": {
       "id": "151077"
      }
     },
     "output_type": "display_data"
    },
    {
     "data": {
      "text/html": [
       "\n",
       "\n",
       "\n",
       "\n",
       "\n",
       "\n",
       "  <div class=\"bk-root\" id=\"f56a2b87-25d0-40a8-88da-e15d5b271f36\" data-root-id=\"152767\"></div>\n"
      ]
     },
     "metadata": {},
     "output_type": "display_data"
    },
    {
     "data": {
      "application/javascript": [
       "(function(root) {\n",
       "  function embed_document(root) {\n",
       "    \n",
       "  var docs_json = {\"14193a83-7c72-4c89-82a8-7fd585a41b53\":{\"roots\":{\"references\":[{\"attributes\":{\"below\":[{\"id\":\"152778\"}],\"center\":[{\"id\":\"152780\"},{\"id\":\"152784\"},{\"id\":\"152810\"}],\"left\":[{\"id\":\"152781\"}],\"plot_height\":400,\"plot_width\":700,\"renderers\":[{\"id\":\"152802\"},{\"id\":\"152815\"}],\"title\":{\"id\":\"152768\"},\"toolbar\":{\"id\":\"152792\"},\"x_range\":{\"id\":\"152770\"},\"x_scale\":{\"id\":\"152774\"},\"y_range\":{\"id\":\"152772\"},\"y_scale\":{\"id\":\"152776\"}},\"id\":\"152767\",\"subtype\":\"Figure\",\"type\":\"Plot\"},{\"attributes\":{\"fill_alpha\":{\"value\":0.5},\"fill_color\":{\"value\":\"#1f77b4\"},\"line_alpha\":{\"value\":0.5},\"line_color\":{\"value\":\"#1f77b4\"},\"top\":{\"field\":\"top\"},\"width\":{\"value\":1},\"x\":{\"field\":\"x\"}},\"id\":\"152813\",\"type\":\"VBar\"},{\"attributes\":{\"overlay\":{\"id\":\"152791\"}},\"id\":\"152787\",\"type\":\"BoxZoomTool\"},{\"attributes\":{\"data\":{\"x\":[\"2017-07\",\"2017-08\",\"2017-09\",\"2017-10\",\"2017-11\",\"2017-12\",\"2018-01\",\"2018-02\",\"2018-03\",\"2018-04\",\"2018-05\",\"2018-06\",\"2018-07\",\"2018-08\",\"2018-09\",\"2018-10\",\"2018-11\",\"2018-12\",\"2019-01\",\"2019-02\",\"2019-03\",\"2019-04\",\"2019-05\",\"2019-06\",\"2019-07\",\"2019-09\",\"2019-10\",\"2019-11\",\"2019-12\",\"2020-01\",\"2020-02\",\"2020-03\",\"2020-04\",\"2020-05\",\"2020-06\",\"2020-07\"],\"y\":[33.831889081455806,7.630849220103986,3.766031195840555,18.441941074523395,16.75216637781629,6.289428076256499,5.1871750433275565,6.15944540727903,5.696707105719238,30.221837088388217,27.37261698440208,30.492201039861353,22.890814558058924,1.0190641247833623,7.864818024263432,23.648180242634314,21.504332755632582,18.12305025996534,8.273830155979203,8.875216637781628,13.807625649913344,3.7417677642980935,11.109185441941074,9.719237435008665,8.984402079722704,7.247833622183709,20.97573656845754,11.1369150779896,11.726169844020797,3.9376083188908146,47.80762564991335,8.675909878682843,3.9740034662045063,8.646447140381282,15.552859618717504,3.3518197573656847]},\"selected\":{\"id\":\"154403\"},\"selection_policy\":{\"id\":\"154402\"}},\"id\":\"152799\",\"type\":\"ColumnDataSource\"},{\"attributes\":{},\"id\":\"152789\",\"type\":\"ResetTool\"},{\"attributes\":{\"line_alpha\":{\"value\":0.8},\"line_color\":{\"value\":\"red\"},\"line_width\":{\"value\":2},\"x\":{\"field\":\"x\"},\"y\":{\"field\":\"y\"}},\"id\":\"152800\",\"type\":\"Step\"},{\"attributes\":{},\"id\":\"154405\",\"type\":\"Selection\"},{\"attributes\":{},\"id\":\"152785\",\"type\":\"PanTool\"},{\"attributes\":{},\"id\":\"152788\",\"type\":\"SaveTool\"},{\"attributes\":{},\"id\":\"152808\",\"type\":\"BasicTickFormatter\"},{\"attributes\":{},\"id\":\"152774\",\"type\":\"CategoricalScale\"},{\"attributes\":{\"data_source\":{\"id\":\"152799\"},\"glyph\":{\"id\":\"152800\"},\"hover_glyph\":null,\"muted_glyph\":null,\"nonselection_glyph\":{\"id\":\"152801\"},\"selection_glyph\":null,\"view\":{\"id\":\"152803\"}},\"id\":\"152802\",\"type\":\"GlyphRenderer\"},{\"attributes\":{\"text\":\"Votes par mois pour Fran\\u00e7ois de Rugy avec 74 votes\"},\"id\":\"152768\",\"type\":\"Title\"},{\"attributes\":{\"axis\":{\"id\":\"152781\"},\"dimension\":1,\"grid_line_color\":null,\"ticker\":null},\"id\":\"152784\",\"type\":\"Grid\"},{\"attributes\":{},\"id\":\"152790\",\"type\":\"HelpTool\"},{\"attributes\":{\"data\":{\"top\":[0,0,0,0,0,0,0,0,0,0,0,0,0,0,0,0,0,0,0,0,0,0,0,0,0,6,5,5,6,7,9,7,4,9,16,0],\"x\":[\"2017-07\",\"2017-08\",\"2017-09\",\"2017-10\",\"2017-11\",\"2017-12\",\"2018-01\",\"2018-02\",\"2018-03\",\"2018-04\",\"2018-05\",\"2018-06\",\"2018-07\",\"2018-08\",\"2018-09\",\"2018-10\",\"2018-11\",\"2018-12\",\"2019-01\",\"2019-02\",\"2019-03\",\"2019-04\",\"2019-05\",\"2019-06\",\"2019-07\",\"2019-09\",\"2019-10\",\"2019-11\",\"2019-12\",\"2020-01\",\"2020-02\",\"2020-03\",\"2020-04\",\"2020-05\",\"2020-06\",\"2020-07\"]},\"selected\":{\"id\":\"154405\"},\"selection_policy\":{\"id\":\"154404\"}},\"id\":\"152812\",\"type\":\"ColumnDataSource\"},{\"attributes\":{},\"id\":\"152782\",\"type\":\"BasicTicker\"},{\"attributes\":{\"active_drag\":\"auto\",\"active_inspect\":\"auto\",\"active_multi\":null,\"active_scroll\":\"auto\",\"active_tap\":\"auto\",\"tools\":[{\"id\":\"152785\"},{\"id\":\"152786\"},{\"id\":\"152787\"},{\"id\":\"152788\"},{\"id\":\"152789\"},{\"id\":\"152790\"}]},\"id\":\"152792\",\"type\":\"Toolbar\"},{\"attributes\":{\"formatter\":{\"id\":\"152808\"},\"ticker\":{\"id\":\"152782\"}},\"id\":\"152781\",\"type\":\"LinearAxis\"},{\"attributes\":{\"bottom_units\":\"screen\",\"fill_alpha\":0.5,\"fill_color\":\"lightgrey\",\"left_units\":\"screen\",\"level\":\"overlay\",\"line_alpha\":1.0,\"line_color\":\"black\",\"line_dash\":[4,4],\"line_width\":2,\"render_mode\":\"css\",\"right_units\":\"screen\",\"top_units\":\"screen\"},\"id\":\"152791\",\"type\":\"BoxAnnotation\"},{\"attributes\":{\"axis\":{\"id\":\"152778\"},\"grid_line_color\":null,\"ticker\":null},\"id\":\"152780\",\"type\":\"Grid\"},{\"attributes\":{\"label\":{\"value\":\"Moyenne de tous les d\\u00e9put\\u00e9s\"},\"renderers\":[{\"id\":\"152802\"}]},\"id\":\"152811\",\"type\":\"LegendItem\"},{\"attributes\":{\"source\":{\"id\":\"152799\"}},\"id\":\"152803\",\"type\":\"CDSView\"},{\"attributes\":{},\"id\":\"152779\",\"type\":\"CategoricalTicker\"},{\"attributes\":{\"formatter\":{\"id\":\"152806\"},\"major_label_orientation\":\"vertical\",\"ticker\":{\"id\":\"152779\"}},\"id\":\"152778\",\"type\":\"CategoricalAxis\"},{\"attributes\":{},\"id\":\"152806\",\"type\":\"CategoricalTickFormatter\"},{\"attributes\":{},\"id\":\"152776\",\"type\":\"LinearScale\"},{\"attributes\":{\"start\":0},\"id\":\"152772\",\"type\":\"DataRange1d\"},{\"attributes\":{\"data_source\":{\"id\":\"152812\"},\"glyph\":{\"id\":\"152813\"},\"hover_glyph\":null,\"muted_glyph\":null,\"nonselection_glyph\":{\"id\":\"152814\"},\"selection_glyph\":null,\"view\":{\"id\":\"152816\"}},\"id\":\"152815\",\"type\":\"GlyphRenderer\"},{\"attributes\":{\"line_alpha\":{\"value\":0.1},\"line_color\":{\"value\":\"red\"},\"line_width\":{\"value\":2},\"x\":{\"field\":\"x\"},\"y\":{\"field\":\"y\"}},\"id\":\"152801\",\"type\":\"Step\"},{\"attributes\":{},\"id\":\"152786\",\"type\":\"WheelZoomTool\"},{\"attributes\":{\"source\":{\"id\":\"152812\"}},\"id\":\"152816\",\"type\":\"CDSView\"},{\"attributes\":{\"fill_alpha\":{\"value\":0.1},\"fill_color\":{\"value\":\"#1f77b4\"},\"line_alpha\":{\"value\":0.1},\"line_color\":{\"value\":\"#1f77b4\"},\"top\":{\"field\":\"top\"},\"width\":{\"value\":1},\"x\":{\"field\":\"x\"}},\"id\":\"152814\",\"type\":\"VBar\"},{\"attributes\":{\"factors\":[\"2017-07\",\"2017-08\",\"2017-09\",\"2017-10\",\"2017-11\",\"2017-12\",\"2018-01\",\"2018-02\",\"2018-03\",\"2018-04\",\"2018-05\",\"2018-06\",\"2018-07\",\"2018-08\",\"2018-09\",\"2018-10\",\"2018-11\",\"2018-12\",\"2019-01\",\"2019-02\",\"2019-03\",\"2019-04\",\"2019-05\",\"2019-06\",\"2019-07\",\"2019-09\",\"2019-10\",\"2019-11\",\"2019-12\",\"2020-01\",\"2020-02\",\"2020-03\",\"2020-04\",\"2020-05\",\"2020-06\",\"2020-07\"]},\"id\":\"152770\",\"type\":\"FactorRange\"},{\"attributes\":{},\"id\":\"154404\",\"type\":\"UnionRenderers\"},{\"attributes\":{},\"id\":\"154402\",\"type\":\"UnionRenderers\"},{\"attributes\":{},\"id\":\"154403\",\"type\":\"Selection\"},{\"attributes\":{\"items\":[{\"id\":\"152811\"}]},\"id\":\"152810\",\"type\":\"Legend\"}],\"root_ids\":[\"152767\"]},\"title\":\"Bokeh Application\",\"version\":\"2.0.1\"}};\n",
       "  var render_items = [{\"docid\":\"14193a83-7c72-4c89-82a8-7fd585a41b53\",\"root_ids\":[\"152767\"],\"roots\":{\"152767\":\"f56a2b87-25d0-40a8-88da-e15d5b271f36\"}}];\n",
       "  root.Bokeh.embed.embed_items_notebook(docs_json, render_items);\n",
       "\n",
       "  }\n",
       "  if (root.Bokeh !== undefined) {\n",
       "    embed_document(root);\n",
       "  } else {\n",
       "    var attempts = 0;\n",
       "    var timer = setInterval(function(root) {\n",
       "      if (root.Bokeh !== undefined) {\n",
       "        clearInterval(timer);\n",
       "        embed_document(root);\n",
       "      } else {\n",
       "        attempts++;\n",
       "        if (attempts > 100) {\n",
       "          clearInterval(timer);\n",
       "          console.log(\"Bokeh: ERROR: Unable to run BokehJS code because BokehJS library is missing\");\n",
       "        }\n",
       "      }\n",
       "    }, 10, root)\n",
       "  }\n",
       "})(window);"
      ],
      "application/vnd.bokehjs_exec.v0+json": ""
     },
     "metadata": {
      "application/vnd.bokehjs_exec.v0+json": {
       "id": "152767"
      }
     },
     "output_type": "display_data"
    },
    {
     "data": {
      "text/html": [
       "\n",
       "\n",
       "\n",
       "\n",
       "\n",
       "\n",
       "  <div class=\"bk-root\" id=\"d5667205-4a59-4c9f-84fb-c405358ff11c\" data-root-id=\"154467\"></div>\n"
      ]
     },
     "metadata": {},
     "output_type": "display_data"
    },
    {
     "data": {
      "application/javascript": [
       "(function(root) {\n",
       "  function embed_document(root) {\n",
       "    \n",
       "  var docs_json = {\"e382767d-a104-46b9-bca8-cd2536dece40\":{\"roots\":{\"references\":[{\"attributes\":{\"below\":[{\"id\":\"154478\"}],\"center\":[{\"id\":\"154480\"},{\"id\":\"154484\"},{\"id\":\"154510\"}],\"left\":[{\"id\":\"154481\"}],\"plot_height\":400,\"plot_width\":700,\"renderers\":[{\"id\":\"154502\"},{\"id\":\"154515\"}],\"title\":{\"id\":\"154468\"},\"toolbar\":{\"id\":\"154492\"},\"x_range\":{\"id\":\"154470\"},\"x_scale\":{\"id\":\"154474\"},\"y_range\":{\"id\":\"154472\"},\"y_scale\":{\"id\":\"154476\"}},\"id\":\"154467\",\"subtype\":\"Figure\",\"type\":\"Plot\"},{\"attributes\":{},\"id\":\"156113\",\"type\":\"Selection\"},{\"attributes\":{},\"id\":\"154486\",\"type\":\"WheelZoomTool\"},{\"attributes\":{},\"id\":\"156114\",\"type\":\"UnionRenderers\"},{\"attributes\":{\"overlay\":{\"id\":\"154491\"}},\"id\":\"154487\",\"type\":\"BoxZoomTool\"},{\"attributes\":{\"line_alpha\":{\"value\":0.8},\"line_color\":{\"value\":\"red\"},\"line_width\":{\"value\":2},\"x\":{\"field\":\"x\"},\"y\":{\"field\":\"y\"}},\"id\":\"154500\",\"type\":\"Step\"},{\"attributes\":{},\"id\":\"156115\",\"type\":\"Selection\"},{\"attributes\":{\"items\":[{\"id\":\"154511\"}]},\"id\":\"154510\",\"type\":\"Legend\"},{\"attributes\":{},\"id\":\"154488\",\"type\":\"SaveTool\"},{\"attributes\":{\"data\":{\"x\":[\"2017-07\",\"2017-08\",\"2017-09\",\"2017-10\",\"2017-11\",\"2017-12\",\"2018-01\",\"2018-02\",\"2018-03\",\"2018-04\",\"2018-05\",\"2018-06\",\"2018-07\",\"2018-08\",\"2018-09\",\"2018-10\",\"2018-11\",\"2018-12\",\"2019-01\",\"2019-02\",\"2019-03\",\"2019-04\",\"2019-05\",\"2019-06\",\"2019-07\",\"2019-09\",\"2019-10\",\"2019-11\",\"2019-12\",\"2020-01\",\"2020-02\",\"2020-03\",\"2020-04\",\"2020-05\",\"2020-06\",\"2020-07\"],\"y\":[33.831889081455806,7.630849220103986,3.766031195840555,18.441941074523395,16.75216637781629,6.289428076256499,5.1871750433275565,6.15944540727903,5.696707105719238,30.221837088388217,27.37261698440208,30.492201039861353,22.890814558058924,1.0190641247833623,7.864818024263432,23.648180242634314,21.504332755632582,18.12305025996534,8.273830155979203,8.875216637781628,13.807625649913344,3.7417677642980935,11.109185441941074,9.719237435008665,8.984402079722704,7.247833622183709,20.97573656845754,11.1369150779896,11.726169844020797,3.9376083188908146,47.80762564991335,8.675909878682843,3.9740034662045063,8.646447140381282,15.552859618717504,3.3518197573656847]},\"selected\":{\"id\":\"156113\"},\"selection_policy\":{\"id\":\"156112\"}},\"id\":\"154499\",\"type\":\"ColumnDataSource\"},{\"attributes\":{},\"id\":\"154485\",\"type\":\"PanTool\"},{\"attributes\":{},\"id\":\"154489\",\"type\":\"ResetTool\"},{\"attributes\":{},\"id\":\"154506\",\"type\":\"CategoricalTickFormatter\"},{\"attributes\":{},\"id\":\"154490\",\"type\":\"HelpTool\"},{\"attributes\":{},\"id\":\"154474\",\"type\":\"CategoricalScale\"},{\"attributes\":{\"source\":{\"id\":\"154499\"}},\"id\":\"154503\",\"type\":\"CDSView\"},{\"attributes\":{\"data\":{\"top\":[0,0,0,0,0,0,0,0,0,0,0,0,0,0,0,0,0,0,0,0,0,0,14,3,2,0,7,4,3,0,0,5,4,9,16,10],\"x\":[\"2017-07\",\"2017-08\",\"2017-09\",\"2017-10\",\"2017-11\",\"2017-12\",\"2018-01\",\"2018-02\",\"2018-03\",\"2018-04\",\"2018-05\",\"2018-06\",\"2018-07\",\"2018-08\",\"2018-09\",\"2018-10\",\"2018-11\",\"2018-12\",\"2019-01\",\"2019-02\",\"2019-03\",\"2019-04\",\"2019-05\",\"2019-06\",\"2019-07\",\"2019-09\",\"2019-10\",\"2019-11\",\"2019-12\",\"2020-01\",\"2020-02\",\"2020-03\",\"2020-04\",\"2020-05\",\"2020-06\",\"2020-07\"]},\"selected\":{\"id\":\"156115\"},\"selection_policy\":{\"id\":\"156114\"}},\"id\":\"154512\",\"type\":\"ColumnDataSource\"},{\"attributes\":{\"active_drag\":\"auto\",\"active_inspect\":\"auto\",\"active_multi\":null,\"active_scroll\":\"auto\",\"active_tap\":\"auto\",\"tools\":[{\"id\":\"154485\"},{\"id\":\"154486\"},{\"id\":\"154487\"},{\"id\":\"154488\"},{\"id\":\"154489\"},{\"id\":\"154490\"}]},\"id\":\"154492\",\"type\":\"Toolbar\"},{\"attributes\":{\"axis\":{\"id\":\"154481\"},\"dimension\":1,\"grid_line_color\":null,\"ticker\":null},\"id\":\"154484\",\"type\":\"Grid\"},{\"attributes\":{\"label\":{\"value\":\"Moyenne de tous les d\\u00e9put\\u00e9s\"},\"renderers\":[{\"id\":\"154502\"}]},\"id\":\"154511\",\"type\":\"LegendItem\"},{\"attributes\":{\"factors\":[\"2017-07\",\"2017-08\",\"2017-09\",\"2017-10\",\"2017-11\",\"2017-12\",\"2018-01\",\"2018-02\",\"2018-03\",\"2018-04\",\"2018-05\",\"2018-06\",\"2018-07\",\"2018-08\",\"2018-09\",\"2018-10\",\"2018-11\",\"2018-12\",\"2019-01\",\"2019-02\",\"2019-03\",\"2019-04\",\"2019-05\",\"2019-06\",\"2019-07\",\"2019-09\",\"2019-10\",\"2019-11\",\"2019-12\",\"2020-01\",\"2020-02\",\"2020-03\",\"2020-04\",\"2020-05\",\"2020-06\",\"2020-07\"]},\"id\":\"154470\",\"type\":\"FactorRange\"},{\"attributes\":{},\"id\":\"154482\",\"type\":\"BasicTicker\"},{\"attributes\":{},\"id\":\"154508\",\"type\":\"BasicTickFormatter\"},{\"attributes\":{\"formatter\":{\"id\":\"154508\"},\"ticker\":{\"id\":\"154482\"}},\"id\":\"154481\",\"type\":\"LinearAxis\"},{\"attributes\":{\"bottom_units\":\"screen\",\"fill_alpha\":0.5,\"fill_color\":\"lightgrey\",\"left_units\":\"screen\",\"level\":\"overlay\",\"line_alpha\":1.0,\"line_color\":\"black\",\"line_dash\":[4,4],\"line_width\":2,\"render_mode\":\"css\",\"right_units\":\"screen\",\"top_units\":\"screen\"},\"id\":\"154491\",\"type\":\"BoxAnnotation\"},{\"attributes\":{\"axis\":{\"id\":\"154478\"},\"grid_line_color\":null,\"ticker\":null},\"id\":\"154480\",\"type\":\"Grid\"},{\"attributes\":{},\"id\":\"154476\",\"type\":\"LinearScale\"},{\"attributes\":{\"data_source\":{\"id\":\"154499\"},\"glyph\":{\"id\":\"154500\"},\"hover_glyph\":null,\"muted_glyph\":null,\"nonselection_glyph\":{\"id\":\"154501\"},\"selection_glyph\":null,\"view\":{\"id\":\"154503\"}},\"id\":\"154502\",\"type\":\"GlyphRenderer\"},{\"attributes\":{},\"id\":\"154479\",\"type\":\"CategoricalTicker\"},{\"attributes\":{\"data_source\":{\"id\":\"154512\"},\"glyph\":{\"id\":\"154513\"},\"hover_glyph\":null,\"muted_glyph\":null,\"nonselection_glyph\":{\"id\":\"154514\"},\"selection_glyph\":null,\"view\":{\"id\":\"154516\"}},\"id\":\"154515\",\"type\":\"GlyphRenderer\"},{\"attributes\":{\"formatter\":{\"id\":\"154506\"},\"major_label_orientation\":\"vertical\",\"ticker\":{\"id\":\"154479\"}},\"id\":\"154478\",\"type\":\"CategoricalAxis\"},{\"attributes\":{\"start\":0},\"id\":\"154472\",\"type\":\"DataRange1d\"},{\"attributes\":{\"fill_alpha\":{\"value\":0.1},\"fill_color\":{\"value\":\"#1f77b4\"},\"line_alpha\":{\"value\":0.1},\"line_color\":{\"value\":\"#1f77b4\"},\"top\":{\"field\":\"top\"},\"width\":{\"value\":1},\"x\":{\"field\":\"x\"}},\"id\":\"154514\",\"type\":\"VBar\"},{\"attributes\":{\"line_alpha\":{\"value\":0.1},\"line_color\":{\"value\":\"red\"},\"line_width\":{\"value\":2},\"x\":{\"field\":\"x\"},\"y\":{\"field\":\"y\"}},\"id\":\"154501\",\"type\":\"Step\"},{\"attributes\":{\"source\":{\"id\":\"154512\"}},\"id\":\"154516\",\"type\":\"CDSView\"},{\"attributes\":{},\"id\":\"156112\",\"type\":\"UnionRenderers\"},{\"attributes\":{\"fill_alpha\":{\"value\":0.5},\"fill_color\":{\"value\":\"#1f77b4\"},\"line_alpha\":{\"value\":0.5},\"line_color\":{\"value\":\"#1f77b4\"},\"top\":{\"field\":\"top\"},\"width\":{\"value\":1},\"x\":{\"field\":\"x\"}},\"id\":\"154513\",\"type\":\"VBar\"},{\"attributes\":{\"text\":\"Votes par mois pour Benjamin Griveaux avec 77 votes\"},\"id\":\"154468\",\"type\":\"Title\"}],\"root_ids\":[\"154467\"]},\"title\":\"Bokeh Application\",\"version\":\"2.0.1\"}};\n",
       "  var render_items = [{\"docid\":\"e382767d-a104-46b9-bca8-cd2536dece40\",\"root_ids\":[\"154467\"],\"roots\":{\"154467\":\"d5667205-4a59-4c9f-84fb-c405358ff11c\"}}];\n",
       "  root.Bokeh.embed.embed_items_notebook(docs_json, render_items);\n",
       "\n",
       "  }\n",
       "  if (root.Bokeh !== undefined) {\n",
       "    embed_document(root);\n",
       "  } else {\n",
       "    var attempts = 0;\n",
       "    var timer = setInterval(function(root) {\n",
       "      if (root.Bokeh !== undefined) {\n",
       "        clearInterval(timer);\n",
       "        embed_document(root);\n",
       "      } else {\n",
       "        attempts++;\n",
       "        if (attempts > 100) {\n",
       "          clearInterval(timer);\n",
       "          console.log(\"Bokeh: ERROR: Unable to run BokehJS code because BokehJS library is missing\");\n",
       "        }\n",
       "      }\n",
       "    }, 10, root)\n",
       "  }\n",
       "})(window);"
      ],
      "application/vnd.bokehjs_exec.v0+json": ""
     },
     "metadata": {
      "application/vnd.bokehjs_exec.v0+json": {
       "id": "154467"
      }
     },
     "output_type": "display_data"
    },
    {
     "data": {
      "text/html": [
       "\n",
       "\n",
       "\n",
       "\n",
       "\n",
       "\n",
       "  <div class=\"bk-root\" id=\"8827f7af-324b-4261-b373-16ae3d708237\" data-root-id=\"156177\"></div>\n"
      ]
     },
     "metadata": {},
     "output_type": "display_data"
    },
    {
     "data": {
      "application/javascript": [
       "(function(root) {\n",
       "  function embed_document(root) {\n",
       "    \n",
       "  var docs_json = {\"a341f067-4b28-40c0-8f60-d2efd39ed249\":{\"roots\":{\"references\":[{\"attributes\":{\"below\":[{\"id\":\"156188\"}],\"center\":[{\"id\":\"156190\"},{\"id\":\"156194\"},{\"id\":\"156220\"}],\"left\":[{\"id\":\"156191\"}],\"plot_height\":400,\"plot_width\":700,\"renderers\":[{\"id\":\"156212\"},{\"id\":\"156225\"}],\"title\":{\"id\":\"156178\"},\"toolbar\":{\"id\":\"156202\"},\"x_range\":{\"id\":\"156180\"},\"x_scale\":{\"id\":\"156184\"},\"y_range\":{\"id\":\"156182\"},\"y_scale\":{\"id\":\"156186\"}},\"id\":\"156177\",\"subtype\":\"Figure\",\"type\":\"Plot\"},{\"attributes\":{\"items\":[{\"id\":\"156221\"}]},\"id\":\"156220\",\"type\":\"Legend\"},{\"attributes\":{},\"id\":\"156195\",\"type\":\"PanTool\"},{\"attributes\":{},\"id\":\"157833\",\"type\":\"Selection\"},{\"attributes\":{},\"id\":\"156196\",\"type\":\"WheelZoomTool\"},{\"attributes\":{},\"id\":\"157834\",\"type\":\"UnionRenderers\"},{\"attributes\":{\"overlay\":{\"id\":\"156201\"}},\"id\":\"156197\",\"type\":\"BoxZoomTool\"},{\"attributes\":{\"data_source\":{\"id\":\"156209\"},\"glyph\":{\"id\":\"156210\"},\"hover_glyph\":null,\"muted_glyph\":null,\"nonselection_glyph\":{\"id\":\"156211\"},\"selection_glyph\":null,\"view\":{\"id\":\"156213\"}},\"id\":\"156212\",\"type\":\"GlyphRenderer\"},{\"attributes\":{},\"id\":\"157835\",\"type\":\"Selection\"},{\"attributes\":{\"line_alpha\":{\"value\":0.8},\"line_color\":{\"value\":\"red\"},\"line_width\":{\"value\":2},\"x\":{\"field\":\"x\"},\"y\":{\"field\":\"y\"}},\"id\":\"156210\",\"type\":\"Step\"},{\"attributes\":{},\"id\":\"156200\",\"type\":\"HelpTool\"},{\"attributes\":{},\"id\":\"156199\",\"type\":\"ResetTool\"},{\"attributes\":{\"line_alpha\":{\"value\":0.1},\"line_color\":{\"value\":\"red\"},\"line_width\":{\"value\":2},\"x\":{\"field\":\"x\"},\"y\":{\"field\":\"y\"}},\"id\":\"156211\",\"type\":\"Step\"},{\"attributes\":{\"text\":\"Votes par mois pour Franck Marlin avec 77 votes\"},\"id\":\"156178\",\"type\":\"Title\"},{\"attributes\":{},\"id\":\"156198\",\"type\":\"SaveTool\"},{\"attributes\":{\"bottom_units\":\"screen\",\"fill_alpha\":0.5,\"fill_color\":\"lightgrey\",\"left_units\":\"screen\",\"level\":\"overlay\",\"line_alpha\":1.0,\"line_color\":\"black\",\"line_dash\":[4,4],\"line_width\":2,\"render_mode\":\"css\",\"right_units\":\"screen\",\"top_units\":\"screen\"},\"id\":\"156201\",\"type\":\"BoxAnnotation\"},{\"attributes\":{},\"id\":\"156184\",\"type\":\"CategoricalScale\"},{\"attributes\":{\"axis\":{\"id\":\"156191\"},\"dimension\":1,\"grid_line_color\":null,\"ticker\":null},\"id\":\"156194\",\"type\":\"Grid\"},{\"attributes\":{\"active_drag\":\"auto\",\"active_inspect\":\"auto\",\"active_multi\":null,\"active_scroll\":\"auto\",\"active_tap\":\"auto\",\"tools\":[{\"id\":\"156195\"},{\"id\":\"156196\"},{\"id\":\"156197\"},{\"id\":\"156198\"},{\"id\":\"156199\"},{\"id\":\"156200\"}]},\"id\":\"156202\",\"type\":\"Toolbar\"},{\"attributes\":{\"label\":{\"value\":\"Moyenne de tous les d\\u00e9put\\u00e9s\"},\"renderers\":[{\"id\":\"156212\"}]},\"id\":\"156221\",\"type\":\"LegendItem\"},{\"attributes\":{},\"id\":\"156218\",\"type\":\"BasicTickFormatter\"},{\"attributes\":{},\"id\":\"156192\",\"type\":\"BasicTicker\"},{\"attributes\":{\"formatter\":{\"id\":\"156218\"},\"ticker\":{\"id\":\"156192\"}},\"id\":\"156191\",\"type\":\"LinearAxis\"},{\"attributes\":{},\"id\":\"156216\",\"type\":\"CategoricalTickFormatter\"},{\"attributes\":{\"source\":{\"id\":\"156209\"}},\"id\":\"156213\",\"type\":\"CDSView\"},{\"attributes\":{\"axis\":{\"id\":\"156188\"},\"grid_line_color\":null,\"ticker\":null},\"id\":\"156190\",\"type\":\"Grid\"},{\"attributes\":{\"data\":{\"top\":[2,4,0,5,2,2,2,0,0,0,0,3,0,0,0,2,0,2,3,3,2,0,0,2,2,3,3,0,0,0,0,6,4,9,16,0],\"x\":[\"2017-07\",\"2017-08\",\"2017-09\",\"2017-10\",\"2017-11\",\"2017-12\",\"2018-01\",\"2018-02\",\"2018-03\",\"2018-04\",\"2018-05\",\"2018-06\",\"2018-07\",\"2018-08\",\"2018-09\",\"2018-10\",\"2018-11\",\"2018-12\",\"2019-01\",\"2019-02\",\"2019-03\",\"2019-04\",\"2019-05\",\"2019-06\",\"2019-07\",\"2019-09\",\"2019-10\",\"2019-11\",\"2019-12\",\"2020-01\",\"2020-02\",\"2020-03\",\"2020-04\",\"2020-05\",\"2020-06\",\"2020-07\"]},\"selected\":{\"id\":\"157835\"},\"selection_policy\":{\"id\":\"157834\"}},\"id\":\"156222\",\"type\":\"ColumnDataSource\"},{\"attributes\":{},\"id\":\"156189\",\"type\":\"CategoricalTicker\"},{\"attributes\":{},\"id\":\"157832\",\"type\":\"UnionRenderers\"},{\"attributes\":{\"data_source\":{\"id\":\"156222\"},\"glyph\":{\"id\":\"156223\"},\"hover_glyph\":null,\"muted_glyph\":null,\"nonselection_glyph\":{\"id\":\"156224\"},\"selection_glyph\":null,\"view\":{\"id\":\"156226\"}},\"id\":\"156225\",\"type\":\"GlyphRenderer\"},{\"attributes\":{\"formatter\":{\"id\":\"156216\"},\"major_label_orientation\":\"vertical\",\"ticker\":{\"id\":\"156189\"}},\"id\":\"156188\",\"type\":\"CategoricalAxis\"},{\"attributes\":{},\"id\":\"156186\",\"type\":\"LinearScale\"},{\"attributes\":{\"fill_alpha\":{\"value\":0.1},\"fill_color\":{\"value\":\"#1f77b4\"},\"line_alpha\":{\"value\":0.1},\"line_color\":{\"value\":\"#1f77b4\"},\"top\":{\"field\":\"top\"},\"width\":{\"value\":1},\"x\":{\"field\":\"x\"}},\"id\":\"156224\",\"type\":\"VBar\"},{\"attributes\":{\"start\":0},\"id\":\"156182\",\"type\":\"DataRange1d\"},{\"attributes\":{\"source\":{\"id\":\"156222\"}},\"id\":\"156226\",\"type\":\"CDSView\"},{\"attributes\":{\"factors\":[\"2017-07\",\"2017-08\",\"2017-09\",\"2017-10\",\"2017-11\",\"2017-12\",\"2018-01\",\"2018-02\",\"2018-03\",\"2018-04\",\"2018-05\",\"2018-06\",\"2018-07\",\"2018-08\",\"2018-09\",\"2018-10\",\"2018-11\",\"2018-12\",\"2019-01\",\"2019-02\",\"2019-03\",\"2019-04\",\"2019-05\",\"2019-06\",\"2019-07\",\"2019-09\",\"2019-10\",\"2019-11\",\"2019-12\",\"2020-01\",\"2020-02\",\"2020-03\",\"2020-04\",\"2020-05\",\"2020-06\",\"2020-07\"]},\"id\":\"156180\",\"type\":\"FactorRange\"},{\"attributes\":{\"fill_alpha\":{\"value\":0.5},\"fill_color\":{\"value\":\"#1f77b4\"},\"line_alpha\":{\"value\":0.5},\"line_color\":{\"value\":\"#1f77b4\"},\"top\":{\"field\":\"top\"},\"width\":{\"value\":1},\"x\":{\"field\":\"x\"}},\"id\":\"156223\",\"type\":\"VBar\"},{\"attributes\":{\"data\":{\"x\":[\"2017-07\",\"2017-08\",\"2017-09\",\"2017-10\",\"2017-11\",\"2017-12\",\"2018-01\",\"2018-02\",\"2018-03\",\"2018-04\",\"2018-05\",\"2018-06\",\"2018-07\",\"2018-08\",\"2018-09\",\"2018-10\",\"2018-11\",\"2018-12\",\"2019-01\",\"2019-02\",\"2019-03\",\"2019-04\",\"2019-05\",\"2019-06\",\"2019-07\",\"2019-09\",\"2019-10\",\"2019-11\",\"2019-12\",\"2020-01\",\"2020-02\",\"2020-03\",\"2020-04\",\"2020-05\",\"2020-06\",\"2020-07\"],\"y\":[33.831889081455806,7.630849220103986,3.766031195840555,18.441941074523395,16.75216637781629,6.289428076256499,5.1871750433275565,6.15944540727903,5.696707105719238,30.221837088388217,27.37261698440208,30.492201039861353,22.890814558058924,1.0190641247833623,7.864818024263432,23.648180242634314,21.504332755632582,18.12305025996534,8.273830155979203,8.875216637781628,13.807625649913344,3.7417677642980935,11.109185441941074,9.719237435008665,8.984402079722704,7.247833622183709,20.97573656845754,11.1369150779896,11.726169844020797,3.9376083188908146,47.80762564991335,8.675909878682843,3.9740034662045063,8.646447140381282,15.552859618717504,3.3518197573656847]},\"selected\":{\"id\":\"157833\"},\"selection_policy\":{\"id\":\"157832\"}},\"id\":\"156209\",\"type\":\"ColumnDataSource\"}],\"root_ids\":[\"156177\"]},\"title\":\"Bokeh Application\",\"version\":\"2.0.1\"}};\n",
       "  var render_items = [{\"docid\":\"a341f067-4b28-40c0-8f60-d2efd39ed249\",\"root_ids\":[\"156177\"],\"roots\":{\"156177\":\"8827f7af-324b-4261-b373-16ae3d708237\"}}];\n",
       "  root.Bokeh.embed.embed_items_notebook(docs_json, render_items);\n",
       "\n",
       "  }\n",
       "  if (root.Bokeh !== undefined) {\n",
       "    embed_document(root);\n",
       "  } else {\n",
       "    var attempts = 0;\n",
       "    var timer = setInterval(function(root) {\n",
       "      if (root.Bokeh !== undefined) {\n",
       "        clearInterval(timer);\n",
       "        embed_document(root);\n",
       "      } else {\n",
       "        attempts++;\n",
       "        if (attempts > 100) {\n",
       "          clearInterval(timer);\n",
       "          console.log(\"Bokeh: ERROR: Unable to run BokehJS code because BokehJS library is missing\");\n",
       "        }\n",
       "      }\n",
       "    }, 10, root)\n",
       "  }\n",
       "})(window);"
      ],
      "application/vnd.bokehjs_exec.v0+json": ""
     },
     "metadata": {
      "application/vnd.bokehjs_exec.v0+json": {
       "id": "156177"
      }
     },
     "output_type": "display_data"
    },
    {
     "data": {
      "text/html": [
       "\n",
       "\n",
       "\n",
       "\n",
       "\n",
       "\n",
       "  <div class=\"bk-root\" id=\"e73fbfab-08c0-4ff4-9f24-137468776a64\" data-root-id=\"157897\"></div>\n"
      ]
     },
     "metadata": {},
     "output_type": "display_data"
    },
    {
     "data": {
      "application/javascript": [
       "(function(root) {\n",
       "  function embed_document(root) {\n",
       "    \n",
       "  var docs_json = {\"7d030528-22c3-404b-b899-c49ebe0820ba\":{\"roots\":{\"references\":[{\"attributes\":{\"below\":[{\"id\":\"157908\"}],\"center\":[{\"id\":\"157910\"},{\"id\":\"157914\"},{\"id\":\"157940\"}],\"left\":[{\"id\":\"157911\"}],\"plot_height\":400,\"plot_width\":700,\"renderers\":[{\"id\":\"157932\"},{\"id\":\"157945\"}],\"title\":{\"id\":\"157898\"},\"toolbar\":{\"id\":\"157922\"},\"x_range\":{\"id\":\"157900\"},\"x_scale\":{\"id\":\"157904\"},\"y_range\":{\"id\":\"157902\"},\"y_scale\":{\"id\":\"157906\"}},\"id\":\"157897\",\"subtype\":\"Figure\",\"type\":\"Plot\"},{\"attributes\":{\"fill_alpha\":{\"value\":0.1},\"fill_color\":{\"value\":\"#1f77b4\"},\"line_alpha\":{\"value\":0.1},\"line_color\":{\"value\":\"#1f77b4\"},\"top\":{\"field\":\"top\"},\"width\":{\"value\":1},\"x\":{\"field\":\"x\"}},\"id\":\"157944\",\"type\":\"VBar\"},{\"attributes\":{},\"id\":\"157915\",\"type\":\"PanTool\"},{\"attributes\":{\"source\":{\"id\":\"157942\"}},\"id\":\"157946\",\"type\":\"CDSView\"},{\"attributes\":{\"fill_alpha\":{\"value\":0.5},\"fill_color\":{\"value\":\"#1f77b4\"},\"line_alpha\":{\"value\":0.5},\"line_color\":{\"value\":\"#1f77b4\"},\"top\":{\"field\":\"top\"},\"width\":{\"value\":1},\"x\":{\"field\":\"x\"}},\"id\":\"157943\",\"type\":\"VBar\"},{\"attributes\":{\"data_source\":{\"id\":\"157929\"},\"glyph\":{\"id\":\"157930\"},\"hover_glyph\":null,\"muted_glyph\":null,\"nonselection_glyph\":{\"id\":\"157931\"},\"selection_glyph\":null,\"view\":{\"id\":\"157933\"}},\"id\":\"157932\",\"type\":\"GlyphRenderer\"},{\"attributes\":{},\"id\":\"157916\",\"type\":\"WheelZoomTool\"},{\"attributes\":{\"line_alpha\":{\"value\":0.1},\"line_color\":{\"value\":\"red\"},\"line_width\":{\"value\":2},\"x\":{\"field\":\"x\"},\"y\":{\"field\":\"y\"}},\"id\":\"157931\",\"type\":\"Step\"},{\"attributes\":{\"line_alpha\":{\"value\":0.8},\"line_color\":{\"value\":\"red\"},\"line_width\":{\"value\":2},\"x\":{\"field\":\"x\"},\"y\":{\"field\":\"y\"}},\"id\":\"157930\",\"type\":\"Step\"},{\"attributes\":{\"overlay\":{\"id\":\"157921\"}},\"id\":\"157917\",\"type\":\"BoxZoomTool\"},{\"attributes\":{},\"id\":\"159565\",\"type\":\"Selection\"},{\"attributes\":{},\"id\":\"159564\",\"type\":\"UnionRenderers\"},{\"attributes\":{},\"id\":\"157918\",\"type\":\"SaveTool\"},{\"attributes\":{\"items\":[{\"id\":\"157941\"}]},\"id\":\"157940\",\"type\":\"Legend\"},{\"attributes\":{},\"id\":\"157919\",\"type\":\"ResetTool\"},{\"attributes\":{\"active_drag\":\"auto\",\"active_inspect\":\"auto\",\"active_multi\":null,\"active_scroll\":\"auto\",\"active_tap\":\"auto\",\"tools\":[{\"id\":\"157915\"},{\"id\":\"157916\"},{\"id\":\"157917\"},{\"id\":\"157918\"},{\"id\":\"157919\"},{\"id\":\"157920\"}]},\"id\":\"157922\",\"type\":\"Toolbar\"},{\"attributes\":{\"data\":{\"x\":[\"2017-07\",\"2017-08\",\"2017-09\",\"2017-10\",\"2017-11\",\"2017-12\",\"2018-01\",\"2018-02\",\"2018-03\",\"2018-04\",\"2018-05\",\"2018-06\",\"2018-07\",\"2018-08\",\"2018-09\",\"2018-10\",\"2018-11\",\"2018-12\",\"2019-01\",\"2019-02\",\"2019-03\",\"2019-04\",\"2019-05\",\"2019-06\",\"2019-07\",\"2019-09\",\"2019-10\",\"2019-11\",\"2019-12\",\"2020-01\",\"2020-02\",\"2020-03\",\"2020-04\",\"2020-05\",\"2020-06\",\"2020-07\"],\"y\":[33.831889081455806,7.630849220103986,3.766031195840555,18.441941074523395,16.75216637781629,6.289428076256499,5.1871750433275565,6.15944540727903,5.696707105719238,30.221837088388217,27.37261698440208,30.492201039861353,22.890814558058924,1.0190641247833623,7.864818024263432,23.648180242634314,21.504332755632582,18.12305025996534,8.273830155979203,8.875216637781628,13.807625649913344,3.7417677642980935,11.109185441941074,9.719237435008665,8.984402079722704,7.247833622183709,20.97573656845754,11.1369150779896,11.726169844020797,3.9376083188908146,47.80762564991335,8.675909878682843,3.9740034662045063,8.646447140381282,15.552859618717504,3.3518197573656847]},\"selected\":{\"id\":\"159563\"},\"selection_policy\":{\"id\":\"159562\"}},\"id\":\"157929\",\"type\":\"ColumnDataSource\"},{\"attributes\":{\"data\":{\"top\":[4,3,0,4,3,2,2,0,2,0,0,0,0,0,0,2,2,0,3,3,0,2,2,0,0,0,5,2,0,0,2,6,4,9,16,0],\"x\":[\"2017-07\",\"2017-08\",\"2017-09\",\"2017-10\",\"2017-11\",\"2017-12\",\"2018-01\",\"2018-02\",\"2018-03\",\"2018-04\",\"2018-05\",\"2018-06\",\"2018-07\",\"2018-08\",\"2018-09\",\"2018-10\",\"2018-11\",\"2018-12\",\"2019-01\",\"2019-02\",\"2019-03\",\"2019-04\",\"2019-05\",\"2019-06\",\"2019-07\",\"2019-09\",\"2019-10\",\"2019-11\",\"2019-12\",\"2020-01\",\"2020-02\",\"2020-03\",\"2020-04\",\"2020-05\",\"2020-06\",\"2020-07\"]},\"selected\":{\"id\":\"159565\"},\"selection_policy\":{\"id\":\"159564\"}},\"id\":\"157942\",\"type\":\"ColumnDataSource\"},{\"attributes\":{},\"id\":\"157912\",\"type\":\"BasicTicker\"},{\"attributes\":{},\"id\":\"159562\",\"type\":\"UnionRenderers\"},{\"attributes\":{\"text\":\"Votes par mois pour Mich\\u00e8le Tabarot avec 78 votes\"},\"id\":\"157898\",\"type\":\"Title\"},{\"attributes\":{\"factors\":[\"2017-07\",\"2017-08\",\"2017-09\",\"2017-10\",\"2017-11\",\"2017-12\",\"2018-01\",\"2018-02\",\"2018-03\",\"2018-04\",\"2018-05\",\"2018-06\",\"2018-07\",\"2018-08\",\"2018-09\",\"2018-10\",\"2018-11\",\"2018-12\",\"2019-01\",\"2019-02\",\"2019-03\",\"2019-04\",\"2019-05\",\"2019-06\",\"2019-07\",\"2019-09\",\"2019-10\",\"2019-11\",\"2019-12\",\"2020-01\",\"2020-02\",\"2020-03\",\"2020-04\",\"2020-05\",\"2020-06\",\"2020-07\"]},\"id\":\"157900\",\"type\":\"FactorRange\"},{\"attributes\":{\"formatter\":{\"id\":\"157938\"},\"ticker\":{\"id\":\"157912\"}},\"id\":\"157911\",\"type\":\"LinearAxis\"},{\"attributes\":{},\"id\":\"157938\",\"type\":\"BasicTickFormatter\"},{\"attributes\":{\"axis\":{\"id\":\"157908\"},\"grid_line_color\":null,\"ticker\":null},\"id\":\"157910\",\"type\":\"Grid\"},{\"attributes\":{\"label\":{\"value\":\"Moyenne de tous les d\\u00e9put\\u00e9s\"},\"renderers\":[{\"id\":\"157932\"}]},\"id\":\"157941\",\"type\":\"LegendItem\"},{\"attributes\":{},\"id\":\"157920\",\"type\":\"HelpTool\"},{\"attributes\":{\"source\":{\"id\":\"157929\"}},\"id\":\"157933\",\"type\":\"CDSView\"},{\"attributes\":{},\"id\":\"157936\",\"type\":\"CategoricalTickFormatter\"},{\"attributes\":{},\"id\":\"157909\",\"type\":\"CategoricalTicker\"},{\"attributes\":{\"data_source\":{\"id\":\"157942\"},\"glyph\":{\"id\":\"157943\"},\"hover_glyph\":null,\"muted_glyph\":null,\"nonselection_glyph\":{\"id\":\"157944\"},\"selection_glyph\":null,\"view\":{\"id\":\"157946\"}},\"id\":\"157945\",\"type\":\"GlyphRenderer\"},{\"attributes\":{},\"id\":\"157906\",\"type\":\"LinearScale\"},{\"attributes\":{},\"id\":\"159563\",\"type\":\"Selection\"},{\"attributes\":{\"formatter\":{\"id\":\"157936\"},\"major_label_orientation\":\"vertical\",\"ticker\":{\"id\":\"157909\"}},\"id\":\"157908\",\"type\":\"CategoricalAxis\"},{\"attributes\":{\"bottom_units\":\"screen\",\"fill_alpha\":0.5,\"fill_color\":\"lightgrey\",\"left_units\":\"screen\",\"level\":\"overlay\",\"line_alpha\":1.0,\"line_color\":\"black\",\"line_dash\":[4,4],\"line_width\":2,\"render_mode\":\"css\",\"right_units\":\"screen\",\"top_units\":\"screen\"},\"id\":\"157921\",\"type\":\"BoxAnnotation\"},{\"attributes\":{},\"id\":\"157904\",\"type\":\"CategoricalScale\"},{\"attributes\":{\"axis\":{\"id\":\"157911\"},\"dimension\":1,\"grid_line_color\":null,\"ticker\":null},\"id\":\"157914\",\"type\":\"Grid\"},{\"attributes\":{\"start\":0},\"id\":\"157902\",\"type\":\"DataRange1d\"}],\"root_ids\":[\"157897\"]},\"title\":\"Bokeh Application\",\"version\":\"2.0.1\"}};\n",
       "  var render_items = [{\"docid\":\"7d030528-22c3-404b-b899-c49ebe0820ba\",\"root_ids\":[\"157897\"],\"roots\":{\"157897\":\"e73fbfab-08c0-4ff4-9f24-137468776a64\"}}];\n",
       "  root.Bokeh.embed.embed_items_notebook(docs_json, render_items);\n",
       "\n",
       "  }\n",
       "  if (root.Bokeh !== undefined) {\n",
       "    embed_document(root);\n",
       "  } else {\n",
       "    var attempts = 0;\n",
       "    var timer = setInterval(function(root) {\n",
       "      if (root.Bokeh !== undefined) {\n",
       "        clearInterval(timer);\n",
       "        embed_document(root);\n",
       "      } else {\n",
       "        attempts++;\n",
       "        if (attempts > 100) {\n",
       "          clearInterval(timer);\n",
       "          console.log(\"Bokeh: ERROR: Unable to run BokehJS code because BokehJS library is missing\");\n",
       "        }\n",
       "      }\n",
       "    }, 10, root)\n",
       "  }\n",
       "})(window);"
      ],
      "application/vnd.bokehjs_exec.v0+json": ""
     },
     "metadata": {
      "application/vnd.bokehjs_exec.v0+json": {
       "id": "157897"
      }
     },
     "output_type": "display_data"
    },
    {
     "data": {
      "text/html": [
       "\n",
       "\n",
       "\n",
       "\n",
       "\n",
       "\n",
       "  <div class=\"bk-root\" id=\"2b2d4446-3dfa-4946-83b6-4af2f4116b46\" data-root-id=\"159627\"></div>\n"
      ]
     },
     "metadata": {},
     "output_type": "display_data"
    },
    {
     "data": {
      "application/javascript": [
       "(function(root) {\n",
       "  function embed_document(root) {\n",
       "    \n",
       "  var docs_json = {\"66ece07b-3473-4652-bcbf-c8aaf7becf9a\":{\"roots\":{\"references\":[{\"attributes\":{\"below\":[{\"id\":\"159638\"}],\"center\":[{\"id\":\"159640\"},{\"id\":\"159644\"},{\"id\":\"159670\"}],\"left\":[{\"id\":\"159641\"}],\"plot_height\":400,\"plot_width\":700,\"renderers\":[{\"id\":\"159662\"},{\"id\":\"159675\"}],\"title\":{\"id\":\"159628\"},\"toolbar\":{\"id\":\"159652\"},\"x_range\":{\"id\":\"159630\"},\"x_scale\":{\"id\":\"159634\"},\"y_range\":{\"id\":\"159632\"},\"y_scale\":{\"id\":\"159636\"}},\"id\":\"159627\",\"subtype\":\"Figure\",\"type\":\"Plot\"},{\"attributes\":{\"data_source\":{\"id\":\"159672\"},\"glyph\":{\"id\":\"159673\"},\"hover_glyph\":null,\"muted_glyph\":null,\"nonselection_glyph\":{\"id\":\"159674\"},\"selection_glyph\":null,\"view\":{\"id\":\"159676\"}},\"id\":\"159675\",\"type\":\"GlyphRenderer\"},{\"attributes\":{},\"id\":\"159645\",\"type\":\"PanTool\"},{\"attributes\":{},\"id\":\"159646\",\"type\":\"WheelZoomTool\"},{\"attributes\":{\"fill_alpha\":{\"value\":0.1},\"fill_color\":{\"value\":\"#1f77b4\"},\"line_alpha\":{\"value\":0.1},\"line_color\":{\"value\":\"#1f77b4\"},\"top\":{\"field\":\"top\"},\"width\":{\"value\":1},\"x\":{\"field\":\"x\"}},\"id\":\"159674\",\"type\":\"VBar\"},{\"attributes\":{\"overlay\":{\"id\":\"159651\"}},\"id\":\"159647\",\"type\":\"BoxZoomTool\"},{\"attributes\":{\"source\":{\"id\":\"159672\"}},\"id\":\"159676\",\"type\":\"CDSView\"},{\"attributes\":{\"fill_alpha\":{\"value\":0.5},\"fill_color\":{\"value\":\"#1f77b4\"},\"line_alpha\":{\"value\":0.5},\"line_color\":{\"value\":\"#1f77b4\"},\"top\":{\"field\":\"top\"},\"width\":{\"value\":1},\"x\":{\"field\":\"x\"}},\"id\":\"159673\",\"type\":\"VBar\"},{\"attributes\":{},\"id\":\"159648\",\"type\":\"SaveTool\"},{\"attributes\":{},\"id\":\"159649\",\"type\":\"ResetTool\"},{\"attributes\":{},\"id\":\"161303\",\"type\":\"Selection\"},{\"attributes\":{\"line_alpha\":{\"value\":0.8},\"line_color\":{\"value\":\"red\"},\"line_width\":{\"value\":2},\"x\":{\"field\":\"x\"},\"y\":{\"field\":\"y\"}},\"id\":\"159660\",\"type\":\"Step\"},{\"attributes\":{},\"id\":\"159650\",\"type\":\"HelpTool\"},{\"attributes\":{},\"id\":\"161302\",\"type\":\"UnionRenderers\"},{\"attributes\":{},\"id\":\"161304\",\"type\":\"UnionRenderers\"},{\"attributes\":{},\"id\":\"161305\",\"type\":\"Selection\"},{\"attributes\":{\"active_drag\":\"auto\",\"active_inspect\":\"auto\",\"active_multi\":null,\"active_scroll\":\"auto\",\"active_tap\":\"auto\",\"tools\":[{\"id\":\"159645\"},{\"id\":\"159646\"},{\"id\":\"159647\"},{\"id\":\"159648\"},{\"id\":\"159649\"},{\"id\":\"159650\"}]},\"id\":\"159652\",\"type\":\"Toolbar\"},{\"attributes\":{\"line_alpha\":{\"value\":0.1},\"line_color\":{\"value\":\"red\"},\"line_width\":{\"value\":2},\"x\":{\"field\":\"x\"},\"y\":{\"field\":\"y\"}},\"id\":\"159661\",\"type\":\"Step\"},{\"attributes\":{\"factors\":[\"2017-07\",\"2017-08\",\"2017-09\",\"2017-10\",\"2017-11\",\"2017-12\",\"2018-01\",\"2018-02\",\"2018-03\",\"2018-04\",\"2018-05\",\"2018-06\",\"2018-07\",\"2018-08\",\"2018-09\",\"2018-10\",\"2018-11\",\"2018-12\",\"2019-01\",\"2019-02\",\"2019-03\",\"2019-04\",\"2019-05\",\"2019-06\",\"2019-07\",\"2019-09\",\"2019-10\",\"2019-11\",\"2019-12\",\"2020-01\",\"2020-02\",\"2020-03\",\"2020-04\",\"2020-05\",\"2020-06\",\"2020-07\"]},\"id\":\"159630\",\"type\":\"FactorRange\"},{\"attributes\":{\"text\":\"Votes par mois pour Jean-Luc Warsmann avec 84 votes\"},\"id\":\"159628\",\"type\":\"Title\"},{\"attributes\":{\"bottom_units\":\"screen\",\"fill_alpha\":0.5,\"fill_color\":\"lightgrey\",\"left_units\":\"screen\",\"level\":\"overlay\",\"line_alpha\":1.0,\"line_color\":\"black\",\"line_dash\":[4,4],\"line_width\":2,\"render_mode\":\"css\",\"right_units\":\"screen\",\"top_units\":\"screen\"},\"id\":\"159651\",\"type\":\"BoxAnnotation\"},{\"attributes\":{\"axis\":{\"id\":\"159638\"},\"grid_line_color\":null,\"ticker\":null},\"id\":\"159640\",\"type\":\"Grid\"},{\"attributes\":{},\"id\":\"159639\",\"type\":\"CategoricalTicker\"},{\"attributes\":{\"axis\":{\"id\":\"159641\"},\"dimension\":1,\"grid_line_color\":null,\"ticker\":null},\"id\":\"159644\",\"type\":\"Grid\"},{\"attributes\":{\"data_source\":{\"id\":\"159659\"},\"glyph\":{\"id\":\"159660\"},\"hover_glyph\":null,\"muted_glyph\":null,\"nonselection_glyph\":{\"id\":\"159661\"},\"selection_glyph\":null,\"view\":{\"id\":\"159663\"}},\"id\":\"159662\",\"type\":\"GlyphRenderer\"},{\"attributes\":{\"formatter\":{\"id\":\"159668\"},\"ticker\":{\"id\":\"159642\"}},\"id\":\"159641\",\"type\":\"LinearAxis\"},{\"attributes\":{\"source\":{\"id\":\"159659\"}},\"id\":\"159663\",\"type\":\"CDSView\"},{\"attributes\":{},\"id\":\"159642\",\"type\":\"BasicTicker\"},{\"attributes\":{},\"id\":\"159666\",\"type\":\"CategoricalTickFormatter\"},{\"attributes\":{},\"id\":\"159668\",\"type\":\"BasicTickFormatter\"},{\"attributes\":{\"start\":0},\"id\":\"159632\",\"type\":\"DataRange1d\"},{\"attributes\":{},\"id\":\"159634\",\"type\":\"CategoricalScale\"},{\"attributes\":{\"items\":[{\"id\":\"159671\"}]},\"id\":\"159670\",\"type\":\"Legend\"},{\"attributes\":{\"label\":{\"value\":\"Moyenne de tous les d\\u00e9put\\u00e9s\"},\"renderers\":[{\"id\":\"159662\"}]},\"id\":\"159671\",\"type\":\"LegendItem\"},{\"attributes\":{\"formatter\":{\"id\":\"159666\"},\"major_label_orientation\":\"vertical\",\"ticker\":{\"id\":\"159639\"}},\"id\":\"159638\",\"type\":\"CategoricalAxis\"},{\"attributes\":{\"data\":{\"top\":[7,4,0,6,3,5,2,4,0,4,2,5,0,0,0,2,2,3,3,4,0,0,0,0,0,0,5,2,0,5,0,5,4,7,0,0],\"x\":[\"2017-07\",\"2017-08\",\"2017-09\",\"2017-10\",\"2017-11\",\"2017-12\",\"2018-01\",\"2018-02\",\"2018-03\",\"2018-04\",\"2018-05\",\"2018-06\",\"2018-07\",\"2018-08\",\"2018-09\",\"2018-10\",\"2018-11\",\"2018-12\",\"2019-01\",\"2019-02\",\"2019-03\",\"2019-04\",\"2019-05\",\"2019-06\",\"2019-07\",\"2019-09\",\"2019-10\",\"2019-11\",\"2019-12\",\"2020-01\",\"2020-02\",\"2020-03\",\"2020-04\",\"2020-05\",\"2020-06\",\"2020-07\"]},\"selected\":{\"id\":\"161305\"},\"selection_policy\":{\"id\":\"161304\"}},\"id\":\"159672\",\"type\":\"ColumnDataSource\"},{\"attributes\":{},\"id\":\"159636\",\"type\":\"LinearScale\"},{\"attributes\":{\"data\":{\"x\":[\"2017-07\",\"2017-08\",\"2017-09\",\"2017-10\",\"2017-11\",\"2017-12\",\"2018-01\",\"2018-02\",\"2018-03\",\"2018-04\",\"2018-05\",\"2018-06\",\"2018-07\",\"2018-08\",\"2018-09\",\"2018-10\",\"2018-11\",\"2018-12\",\"2019-01\",\"2019-02\",\"2019-03\",\"2019-04\",\"2019-05\",\"2019-06\",\"2019-07\",\"2019-09\",\"2019-10\",\"2019-11\",\"2019-12\",\"2020-01\",\"2020-02\",\"2020-03\",\"2020-04\",\"2020-05\",\"2020-06\",\"2020-07\"],\"y\":[33.831889081455806,7.630849220103986,3.766031195840555,18.441941074523395,16.75216637781629,6.289428076256499,5.1871750433275565,6.15944540727903,5.696707105719238,30.221837088388217,27.37261698440208,30.492201039861353,22.890814558058924,1.0190641247833623,7.864818024263432,23.648180242634314,21.504332755632582,18.12305025996534,8.273830155979203,8.875216637781628,13.807625649913344,3.7417677642980935,11.109185441941074,9.719237435008665,8.984402079722704,7.247833622183709,20.97573656845754,11.1369150779896,11.726169844020797,3.9376083188908146,47.80762564991335,8.675909878682843,3.9740034662045063,8.646447140381282,15.552859618717504,3.3518197573656847]},\"selected\":{\"id\":\"161303\"},\"selection_policy\":{\"id\":\"161302\"}},\"id\":\"159659\",\"type\":\"ColumnDataSource\"}],\"root_ids\":[\"159627\"]},\"title\":\"Bokeh Application\",\"version\":\"2.0.1\"}};\n",
       "  var render_items = [{\"docid\":\"66ece07b-3473-4652-bcbf-c8aaf7becf9a\",\"root_ids\":[\"159627\"],\"roots\":{\"159627\":\"2b2d4446-3dfa-4946-83b6-4af2f4116b46\"}}];\n",
       "  root.Bokeh.embed.embed_items_notebook(docs_json, render_items);\n",
       "\n",
       "  }\n",
       "  if (root.Bokeh !== undefined) {\n",
       "    embed_document(root);\n",
       "  } else {\n",
       "    var attempts = 0;\n",
       "    var timer = setInterval(function(root) {\n",
       "      if (root.Bokeh !== undefined) {\n",
       "        clearInterval(timer);\n",
       "        embed_document(root);\n",
       "      } else {\n",
       "        attempts++;\n",
       "        if (attempts > 100) {\n",
       "          clearInterval(timer);\n",
       "          console.log(\"Bokeh: ERROR: Unable to run BokehJS code because BokehJS library is missing\");\n",
       "        }\n",
       "      }\n",
       "    }, 10, root)\n",
       "  }\n",
       "})(window);"
      ],
      "application/vnd.bokehjs_exec.v0+json": ""
     },
     "metadata": {
      "application/vnd.bokehjs_exec.v0+json": {
       "id": "159627"
      }
     },
     "output_type": "display_data"
    },
    {
     "data": {
      "text/html": [
       "\n",
       "\n",
       "\n",
       "\n",
       "\n",
       "\n",
       "  <div class=\"bk-root\" id=\"fb7cfab1-d059-442f-8ca1-f4c3eac386ef\" data-root-id=\"161367\"></div>\n"
      ]
     },
     "metadata": {},
     "output_type": "display_data"
    },
    {
     "data": {
      "application/javascript": [
       "(function(root) {\n",
       "  function embed_document(root) {\n",
       "    \n",
       "  var docs_json = {\"46dab6f2-ced6-471e-afd2-81f8eb86643b\":{\"roots\":{\"references\":[{\"attributes\":{\"below\":[{\"id\":\"161378\"}],\"center\":[{\"id\":\"161380\"},{\"id\":\"161384\"},{\"id\":\"161410\"}],\"left\":[{\"id\":\"161381\"}],\"plot_height\":400,\"plot_width\":700,\"renderers\":[{\"id\":\"161402\"},{\"id\":\"161415\"}],\"title\":{\"id\":\"161368\"},\"toolbar\":{\"id\":\"161392\"},\"x_range\":{\"id\":\"161370\"},\"x_scale\":{\"id\":\"161374\"},\"y_range\":{\"id\":\"161372\"},\"y_scale\":{\"id\":\"161376\"}},\"id\":\"161367\",\"subtype\":\"Figure\",\"type\":\"Plot\"},{\"attributes\":{\"line_alpha\":{\"value\":0.1},\"line_color\":{\"value\":\"red\"},\"line_width\":{\"value\":2},\"x\":{\"field\":\"x\"},\"y\":{\"field\":\"y\"}},\"id\":\"161401\",\"type\":\"Step\"},{\"attributes\":{\"bottom_units\":\"screen\",\"fill_alpha\":0.5,\"fill_color\":\"lightgrey\",\"left_units\":\"screen\",\"level\":\"overlay\",\"line_alpha\":1.0,\"line_color\":\"black\",\"line_dash\":[4,4],\"line_width\":2,\"render_mode\":\"css\",\"right_units\":\"screen\",\"top_units\":\"screen\"},\"id\":\"161391\",\"type\":\"BoxAnnotation\"},{\"attributes\":{},\"id\":\"161406\",\"type\":\"CategoricalTickFormatter\"},{\"attributes\":{\"data_source\":{\"id\":\"161399\"},\"glyph\":{\"id\":\"161400\"},\"hover_glyph\":null,\"muted_glyph\":null,\"nonselection_glyph\":{\"id\":\"161401\"},\"selection_glyph\":null,\"view\":{\"id\":\"161403\"}},\"id\":\"161402\",\"type\":\"GlyphRenderer\"},{\"attributes\":{},\"id\":\"161385\",\"type\":\"PanTool\"},{\"attributes\":{\"source\":{\"id\":\"161399\"}},\"id\":\"161403\",\"type\":\"CDSView\"},{\"attributes\":{\"line_alpha\":{\"value\":0.8},\"line_color\":{\"value\":\"red\"},\"line_width\":{\"value\":2},\"x\":{\"field\":\"x\"},\"y\":{\"field\":\"y\"}},\"id\":\"161400\",\"type\":\"Step\"},{\"attributes\":{},\"id\":\"161386\",\"type\":\"WheelZoomTool\"},{\"attributes\":{\"overlay\":{\"id\":\"161391\"}},\"id\":\"161387\",\"type\":\"BoxZoomTool\"},{\"attributes\":{\"items\":[{\"id\":\"161411\"}]},\"id\":\"161410\",\"type\":\"Legend\"},{\"attributes\":{},\"id\":\"161388\",\"type\":\"SaveTool\"},{\"attributes\":{\"data_source\":{\"id\":\"161412\"},\"glyph\":{\"id\":\"161413\"},\"hover_glyph\":null,\"muted_glyph\":null,\"nonselection_glyph\":{\"id\":\"161414\"},\"selection_glyph\":null,\"view\":{\"id\":\"161416\"}},\"id\":\"161415\",\"type\":\"GlyphRenderer\"},{\"attributes\":{\"label\":{\"value\":\"Moyenne de tous les d\\u00e9put\\u00e9s\"},\"renderers\":[{\"id\":\"161402\"}]},\"id\":\"161411\",\"type\":\"LegendItem\"},{\"attributes\":{},\"id\":\"161389\",\"type\":\"ResetTool\"},{\"attributes\":{\"axis\":{\"id\":\"161378\"},\"grid_line_color\":null,\"ticker\":null},\"id\":\"161380\",\"type\":\"Grid\"},{\"attributes\":{\"axis\":{\"id\":\"161381\"},\"dimension\":1,\"grid_line_color\":null,\"ticker\":null},\"id\":\"161384\",\"type\":\"Grid\"},{\"attributes\":{\"data\":{\"top\":[0,0,0,0,0,0,0,0,0,0,3,8,11,0,3,12,0,26,4,0,3,0,2,0,5,3,0,0,0,0,0,5,3,0,0,0],\"x\":[\"2017-07\",\"2017-08\",\"2017-09\",\"2017-10\",\"2017-11\",\"2017-12\",\"2018-01\",\"2018-02\",\"2018-03\",\"2018-04\",\"2018-05\",\"2018-06\",\"2018-07\",\"2018-08\",\"2018-09\",\"2018-10\",\"2018-11\",\"2018-12\",\"2019-01\",\"2019-02\",\"2019-03\",\"2019-04\",\"2019-05\",\"2019-06\",\"2019-07\",\"2019-09\",\"2019-10\",\"2019-11\",\"2019-12\",\"2020-01\",\"2020-02\",\"2020-03\",\"2020-04\",\"2020-05\",\"2020-06\",\"2020-07\"]},\"selected\":{\"id\":\"163055\"},\"selection_policy\":{\"id\":\"163054\"}},\"id\":\"161412\",\"type\":\"ColumnDataSource\"},{\"attributes\":{\"text\":\"Votes par mois pour Sylvain Brial avec 88 votes\"},\"id\":\"161368\",\"type\":\"Title\"},{\"attributes\":{},\"id\":\"163052\",\"type\":\"UnionRenderers\"},{\"attributes\":{},\"id\":\"161379\",\"type\":\"CategoricalTicker\"},{\"attributes\":{\"formatter\":{\"id\":\"161408\"},\"ticker\":{\"id\":\"161382\"}},\"id\":\"161381\",\"type\":\"LinearAxis\"},{\"attributes\":{\"fill_alpha\":{\"value\":0.1},\"fill_color\":{\"value\":\"#1f77b4\"},\"line_alpha\":{\"value\":0.1},\"line_color\":{\"value\":\"#1f77b4\"},\"top\":{\"field\":\"top\"},\"width\":{\"value\":1},\"x\":{\"field\":\"x\"}},\"id\":\"161414\",\"type\":\"VBar\"},{\"attributes\":{},\"id\":\"163055\",\"type\":\"Selection\"},{\"attributes\":{\"data\":{\"x\":[\"2017-07\",\"2017-08\",\"2017-09\",\"2017-10\",\"2017-11\",\"2017-12\",\"2018-01\",\"2018-02\",\"2018-03\",\"2018-04\",\"2018-05\",\"2018-06\",\"2018-07\",\"2018-08\",\"2018-09\",\"2018-10\",\"2018-11\",\"2018-12\",\"2019-01\",\"2019-02\",\"2019-03\",\"2019-04\",\"2019-05\",\"2019-06\",\"2019-07\",\"2019-09\",\"2019-10\",\"2019-11\",\"2019-12\",\"2020-01\",\"2020-02\",\"2020-03\",\"2020-04\",\"2020-05\",\"2020-06\",\"2020-07\"],\"y\":[33.831889081455806,7.630849220103986,3.766031195840555,18.441941074523395,16.75216637781629,6.289428076256499,5.1871750433275565,6.15944540727903,5.696707105719238,30.221837088388217,27.37261698440208,30.492201039861353,22.890814558058924,1.0190641247833623,7.864818024263432,23.648180242634314,21.504332755632582,18.12305025996534,8.273830155979203,8.875216637781628,13.807625649913344,3.7417677642980935,11.109185441941074,9.719237435008665,8.984402079722704,7.247833622183709,20.97573656845754,11.1369150779896,11.726169844020797,3.9376083188908146,47.80762564991335,8.675909878682843,3.9740034662045063,8.646447140381282,15.552859618717504,3.3518197573656847]},\"selected\":{\"id\":\"163053\"},\"selection_policy\":{\"id\":\"163052\"}},\"id\":\"161399\",\"type\":\"ColumnDataSource\"},{\"attributes\":{\"source\":{\"id\":\"161412\"}},\"id\":\"161416\",\"type\":\"CDSView\"},{\"attributes\":{},\"id\":\"161382\",\"type\":\"BasicTicker\"},{\"attributes\":{},\"id\":\"163054\",\"type\":\"UnionRenderers\"},{\"attributes\":{},\"id\":\"161408\",\"type\":\"BasicTickFormatter\"},{\"attributes\":{\"fill_alpha\":{\"value\":0.5},\"fill_color\":{\"value\":\"#1f77b4\"},\"line_alpha\":{\"value\":0.5},\"line_color\":{\"value\":\"#1f77b4\"},\"top\":{\"field\":\"top\"},\"width\":{\"value\":1},\"x\":{\"field\":\"x\"}},\"id\":\"161413\",\"type\":\"VBar\"},{\"attributes\":{\"formatter\":{\"id\":\"161406\"},\"major_label_orientation\":\"vertical\",\"ticker\":{\"id\":\"161379\"}},\"id\":\"161378\",\"type\":\"CategoricalAxis\"},{\"attributes\":{},\"id\":\"161390\",\"type\":\"HelpTool\"},{\"attributes\":{},\"id\":\"161376\",\"type\":\"LinearScale\"},{\"attributes\":{},\"id\":\"163053\",\"type\":\"Selection\"},{\"attributes\":{\"active_drag\":\"auto\",\"active_inspect\":\"auto\",\"active_multi\":null,\"active_scroll\":\"auto\",\"active_tap\":\"auto\",\"tools\":[{\"id\":\"161385\"},{\"id\":\"161386\"},{\"id\":\"161387\"},{\"id\":\"161388\"},{\"id\":\"161389\"},{\"id\":\"161390\"}]},\"id\":\"161392\",\"type\":\"Toolbar\"},{\"attributes\":{},\"id\":\"161374\",\"type\":\"CategoricalScale\"},{\"attributes\":{\"factors\":[\"2017-07\",\"2017-08\",\"2017-09\",\"2017-10\",\"2017-11\",\"2017-12\",\"2018-01\",\"2018-02\",\"2018-03\",\"2018-04\",\"2018-05\",\"2018-06\",\"2018-07\",\"2018-08\",\"2018-09\",\"2018-10\",\"2018-11\",\"2018-12\",\"2019-01\",\"2019-02\",\"2019-03\",\"2019-04\",\"2019-05\",\"2019-06\",\"2019-07\",\"2019-09\",\"2019-10\",\"2019-11\",\"2019-12\",\"2020-01\",\"2020-02\",\"2020-03\",\"2020-04\",\"2020-05\",\"2020-06\",\"2020-07\"]},\"id\":\"161370\",\"type\":\"FactorRange\"},{\"attributes\":{\"start\":0},\"id\":\"161372\",\"type\":\"DataRange1d\"}],\"root_ids\":[\"161367\"]},\"title\":\"Bokeh Application\",\"version\":\"2.0.1\"}};\n",
       "  var render_items = [{\"docid\":\"46dab6f2-ced6-471e-afd2-81f8eb86643b\",\"root_ids\":[\"161367\"],\"roots\":{\"161367\":\"fb7cfab1-d059-442f-8ca1-f4c3eac386ef\"}}];\n",
       "  root.Bokeh.embed.embed_items_notebook(docs_json, render_items);\n",
       "\n",
       "  }\n",
       "  if (root.Bokeh !== undefined) {\n",
       "    embed_document(root);\n",
       "  } else {\n",
       "    var attempts = 0;\n",
       "    var timer = setInterval(function(root) {\n",
       "      if (root.Bokeh !== undefined) {\n",
       "        clearInterval(timer);\n",
       "        embed_document(root);\n",
       "      } else {\n",
       "        attempts++;\n",
       "        if (attempts > 100) {\n",
       "          clearInterval(timer);\n",
       "          console.log(\"Bokeh: ERROR: Unable to run BokehJS code because BokehJS library is missing\");\n",
       "        }\n",
       "      }\n",
       "    }, 10, root)\n",
       "  }\n",
       "})(window);"
      ],
      "application/vnd.bokehjs_exec.v0+json": ""
     },
     "metadata": {
      "application/vnd.bokehjs_exec.v0+json": {
       "id": "161367"
      }
     },
     "output_type": "display_data"
    },
    {
     "data": {
      "text/html": [
       "\n",
       "\n",
       "\n",
       "\n",
       "\n",
       "\n",
       "  <div class=\"bk-root\" id=\"bf394a56-c1e4-422c-a112-2f2ba0b77e0e\" data-root-id=\"163117\"></div>\n"
      ]
     },
     "metadata": {},
     "output_type": "display_data"
    },
    {
     "data": {
      "application/javascript": [
       "(function(root) {\n",
       "  function embed_document(root) {\n",
       "    \n",
       "  var docs_json = {\"d2727cf1-7bb2-4de4-8465-6ffda1abb9f3\":{\"roots\":{\"references\":[{\"attributes\":{\"below\":[{\"id\":\"163128\"}],\"center\":[{\"id\":\"163130\"},{\"id\":\"163134\"},{\"id\":\"163160\"}],\"left\":[{\"id\":\"163131\"}],\"plot_height\":400,\"plot_width\":700,\"renderers\":[{\"id\":\"163152\"},{\"id\":\"163165\"}],\"title\":{\"id\":\"163118\"},\"toolbar\":{\"id\":\"163142\"},\"x_range\":{\"id\":\"163120\"},\"x_scale\":{\"id\":\"163124\"},\"y_range\":{\"id\":\"163122\"},\"y_scale\":{\"id\":\"163126\"}},\"id\":\"163117\",\"subtype\":\"Figure\",\"type\":\"Plot\"},{\"attributes\":{\"formatter\":{\"id\":\"163156\"},\"major_label_orientation\":\"vertical\",\"ticker\":{\"id\":\"163129\"}},\"id\":\"163128\",\"type\":\"CategoricalAxis\"},{\"attributes\":{\"bottom_units\":\"screen\",\"fill_alpha\":0.5,\"fill_color\":\"lightgrey\",\"left_units\":\"screen\",\"level\":\"overlay\",\"line_alpha\":1.0,\"line_color\":\"black\",\"line_dash\":[4,4],\"line_width\":2,\"render_mode\":\"css\",\"right_units\":\"screen\",\"top_units\":\"screen\"},\"id\":\"163141\",\"type\":\"BoxAnnotation\"},{\"attributes\":{},\"id\":\"163129\",\"type\":\"CategoricalTicker\"},{\"attributes\":{},\"id\":\"163124\",\"type\":\"CategoricalScale\"},{\"attributes\":{\"axis\":{\"id\":\"163128\"},\"grid_line_color\":null,\"ticker\":null},\"id\":\"163130\",\"type\":\"Grid\"},{\"attributes\":{\"data_source\":{\"id\":\"163149\"},\"glyph\":{\"id\":\"163150\"},\"hover_glyph\":null,\"muted_glyph\":null,\"nonselection_glyph\":{\"id\":\"163151\"},\"selection_glyph\":null,\"view\":{\"id\":\"163153\"}},\"id\":\"163152\",\"type\":\"GlyphRenderer\"},{\"attributes\":{\"source\":{\"id\":\"163149\"}},\"id\":\"163153\",\"type\":\"CDSView\"},{\"attributes\":{\"formatter\":{\"id\":\"163158\"},\"ticker\":{\"id\":\"163132\"}},\"id\":\"163131\",\"type\":\"LinearAxis\"},{\"attributes\":{\"line_alpha\":{\"value\":0.8},\"line_color\":{\"value\":\"red\"},\"line_width\":{\"value\":2},\"x\":{\"field\":\"x\"},\"y\":{\"field\":\"y\"}},\"id\":\"163150\",\"type\":\"Step\"},{\"attributes\":{},\"id\":\"163126\",\"type\":\"LinearScale\"},{\"attributes\":{},\"id\":\"163132\",\"type\":\"BasicTicker\"},{\"attributes\":{},\"id\":\"163158\",\"type\":\"BasicTickFormatter\"},{\"attributes\":{\"axis\":{\"id\":\"163131\"},\"dimension\":1,\"grid_line_color\":null,\"ticker\":null},\"id\":\"163134\",\"type\":\"Grid\"},{\"attributes\":{\"items\":[{\"id\":\"163161\"}]},\"id\":\"163160\",\"type\":\"Legend\"},{\"attributes\":{\"line_alpha\":{\"value\":0.1},\"line_color\":{\"value\":\"red\"},\"line_width\":{\"value\":2},\"x\":{\"field\":\"x\"},\"y\":{\"field\":\"y\"}},\"id\":\"163151\",\"type\":\"Step\"},{\"attributes\":{\"label\":{\"value\":\"Moyenne de tous les d\\u00e9put\\u00e9s\"},\"renderers\":[{\"id\":\"163152\"}]},\"id\":\"163161\",\"type\":\"LegendItem\"},{\"attributes\":{},\"id\":\"163156\",\"type\":\"CategoricalTickFormatter\"},{\"attributes\":{\"data\":{\"top\":[4,3,0,6,3,3,2,3,2,2,0,3,0,0,0,3,0,0,0,3,2,0,2,2,2,2,2,2,2,0,0,6,4,9,16,0],\"x\":[\"2017-07\",\"2017-08\",\"2017-09\",\"2017-10\",\"2017-11\",\"2017-12\",\"2018-01\",\"2018-02\",\"2018-03\",\"2018-04\",\"2018-05\",\"2018-06\",\"2018-07\",\"2018-08\",\"2018-09\",\"2018-10\",\"2018-11\",\"2018-12\",\"2019-01\",\"2019-02\",\"2019-03\",\"2019-04\",\"2019-05\",\"2019-06\",\"2019-07\",\"2019-09\",\"2019-10\",\"2019-11\",\"2019-12\",\"2020-01\",\"2020-02\",\"2020-03\",\"2020-04\",\"2020-05\",\"2020-06\",\"2020-07\"]},\"selected\":{\"id\":\"164815\"},\"selection_policy\":{\"id\":\"164814\"}},\"id\":\"163162\",\"type\":\"ColumnDataSource\"},{\"attributes\":{\"factors\":[\"2017-07\",\"2017-08\",\"2017-09\",\"2017-10\",\"2017-11\",\"2017-12\",\"2018-01\",\"2018-02\",\"2018-03\",\"2018-04\",\"2018-05\",\"2018-06\",\"2018-07\",\"2018-08\",\"2018-09\",\"2018-10\",\"2018-11\",\"2018-12\",\"2019-01\",\"2019-02\",\"2019-03\",\"2019-04\",\"2019-05\",\"2019-06\",\"2019-07\",\"2019-09\",\"2019-10\",\"2019-11\",\"2019-12\",\"2020-01\",\"2020-02\",\"2020-03\",\"2020-04\",\"2020-05\",\"2020-06\",\"2020-07\"]},\"id\":\"163120\",\"type\":\"FactorRange\"},{\"attributes\":{},\"id\":\"163135\",\"type\":\"PanTool\"},{\"attributes\":{},\"id\":\"164813\",\"type\":\"Selection\"},{\"attributes\":{\"data_source\":{\"id\":\"163162\"},\"glyph\":{\"id\":\"163163\"},\"hover_glyph\":null,\"muted_glyph\":null,\"nonselection_glyph\":{\"id\":\"163164\"},\"selection_glyph\":null,\"view\":{\"id\":\"163166\"}},\"id\":\"163165\",\"type\":\"GlyphRenderer\"},{\"attributes\":{},\"id\":\"163136\",\"type\":\"WheelZoomTool\"},{\"attributes\":{\"text\":\"Votes par mois pour Bernard Brochand avec 88 votes\"},\"id\":\"163118\",\"type\":\"Title\"},{\"attributes\":{\"overlay\":{\"id\":\"163141\"}},\"id\":\"163137\",\"type\":\"BoxZoomTool\"},{\"attributes\":{\"fill_alpha\":{\"value\":0.1},\"fill_color\":{\"value\":\"#1f77b4\"},\"line_alpha\":{\"value\":0.1},\"line_color\":{\"value\":\"#1f77b4\"},\"top\":{\"field\":\"top\"},\"width\":{\"value\":1},\"x\":{\"field\":\"x\"}},\"id\":\"163164\",\"type\":\"VBar\"},{\"attributes\":{\"data\":{\"x\":[\"2017-07\",\"2017-08\",\"2017-09\",\"2017-10\",\"2017-11\",\"2017-12\",\"2018-01\",\"2018-02\",\"2018-03\",\"2018-04\",\"2018-05\",\"2018-06\",\"2018-07\",\"2018-08\",\"2018-09\",\"2018-10\",\"2018-11\",\"2018-12\",\"2019-01\",\"2019-02\",\"2019-03\",\"2019-04\",\"2019-05\",\"2019-06\",\"2019-07\",\"2019-09\",\"2019-10\",\"2019-11\",\"2019-12\",\"2020-01\",\"2020-02\",\"2020-03\",\"2020-04\",\"2020-05\",\"2020-06\",\"2020-07\"],\"y\":[33.831889081455806,7.630849220103986,3.766031195840555,18.441941074523395,16.75216637781629,6.289428076256499,5.1871750433275565,6.15944540727903,5.696707105719238,30.221837088388217,27.37261698440208,30.492201039861353,22.890814558058924,1.0190641247833623,7.864818024263432,23.648180242634314,21.504332755632582,18.12305025996534,8.273830155979203,8.875216637781628,13.807625649913344,3.7417677642980935,11.109185441941074,9.719237435008665,8.984402079722704,7.247833622183709,20.97573656845754,11.1369150779896,11.726169844020797,3.9376083188908146,47.80762564991335,8.675909878682843,3.9740034662045063,8.646447140381282,15.552859618717504,3.3518197573656847]},\"selected\":{\"id\":\"164813\"},\"selection_policy\":{\"id\":\"164812\"}},\"id\":\"163149\",\"type\":\"ColumnDataSource\"},{\"attributes\":{},\"id\":\"163138\",\"type\":\"SaveTool\"},{\"attributes\":{\"source\":{\"id\":\"163162\"}},\"id\":\"163166\",\"type\":\"CDSView\"},{\"attributes\":{\"fill_alpha\":{\"value\":0.5},\"fill_color\":{\"value\":\"#1f77b4\"},\"line_alpha\":{\"value\":0.5},\"line_color\":{\"value\":\"#1f77b4\"},\"top\":{\"field\":\"top\"},\"width\":{\"value\":1},\"x\":{\"field\":\"x\"}},\"id\":\"163163\",\"type\":\"VBar\"},{\"attributes\":{\"start\":0},\"id\":\"163122\",\"type\":\"DataRange1d\"},{\"attributes\":{},\"id\":\"163139\",\"type\":\"ResetTool\"},{\"attributes\":{},\"id\":\"163140\",\"type\":\"HelpTool\"},{\"attributes\":{},\"id\":\"164814\",\"type\":\"UnionRenderers\"},{\"attributes\":{\"active_drag\":\"auto\",\"active_inspect\":\"auto\",\"active_multi\":null,\"active_scroll\":\"auto\",\"active_tap\":\"auto\",\"tools\":[{\"id\":\"163135\"},{\"id\":\"163136\"},{\"id\":\"163137\"},{\"id\":\"163138\"},{\"id\":\"163139\"},{\"id\":\"163140\"}]},\"id\":\"163142\",\"type\":\"Toolbar\"},{\"attributes\":{},\"id\":\"164815\",\"type\":\"Selection\"},{\"attributes\":{},\"id\":\"164812\",\"type\":\"UnionRenderers\"}],\"root_ids\":[\"163117\"]},\"title\":\"Bokeh Application\",\"version\":\"2.0.1\"}};\n",
       "  var render_items = [{\"docid\":\"d2727cf1-7bb2-4de4-8465-6ffda1abb9f3\",\"root_ids\":[\"163117\"],\"roots\":{\"163117\":\"bf394a56-c1e4-422c-a112-2f2ba0b77e0e\"}}];\n",
       "  root.Bokeh.embed.embed_items_notebook(docs_json, render_items);\n",
       "\n",
       "  }\n",
       "  if (root.Bokeh !== undefined) {\n",
       "    embed_document(root);\n",
       "  } else {\n",
       "    var attempts = 0;\n",
       "    var timer = setInterval(function(root) {\n",
       "      if (root.Bokeh !== undefined) {\n",
       "        clearInterval(timer);\n",
       "        embed_document(root);\n",
       "      } else {\n",
       "        attempts++;\n",
       "        if (attempts > 100) {\n",
       "          clearInterval(timer);\n",
       "          console.log(\"Bokeh: ERROR: Unable to run BokehJS code because BokehJS library is missing\");\n",
       "        }\n",
       "      }\n",
       "    }, 10, root)\n",
       "  }\n",
       "})(window);"
      ],
      "application/vnd.bokehjs_exec.v0+json": ""
     },
     "metadata": {
      "application/vnd.bokehjs_exec.v0+json": {
       "id": "163117"
      }
     },
     "output_type": "display_data"
    },
    {
     "name": "stdout",
     "output_type": "stream",
     "text": [
      "Souad Zitouni avec 35 votes\n",
      "Camille Galliard-Minier avec 42 votes\n",
      "Claudia Rouaux avec 57 votes\n",
      "François de Rugy avec 74 votes\n",
      "Benjamin Griveaux avec 77 votes\n",
      "Franck Marlin avec 77 votes\n",
      "Michèle Tabarot avec 78 votes\n",
      "Jean-Luc Warsmann avec 84 votes\n",
      "Sylvain Brial avec 88 votes\n",
      "Bernard Brochand avec 88 votes\n"
     ]
    }
   ],
   "source": [
    "for député in députés_les_moins_présents[:10]:\n",
    "    affiche_député(député)\n",
    "for député in députés_les_moins_présents[:10]:\n",
    "    print(f\"{députés_par_id[député]['Prénom']} {députés_par_id[député]['Nom']} avec {compte_votes(député)} votes\")"
   ]
  },
  {
   "cell_type": "markdown",
   "metadata": {},
   "source": [
    "# Les 10 plus présents"
   ]
  },
  {
   "cell_type": "code",
   "execution_count": 38,
   "metadata": {},
   "outputs": [
    {
     "data": {
      "text/html": [
       "\n",
       "\n",
       "\n",
       "\n",
       "\n",
       "\n",
       "  <div class=\"bk-root\" id=\"6ba3c2b0-a7ac-4f7b-8078-f5eb98fc2dda\" data-root-id=\"164877\"></div>\n"
      ]
     },
     "metadata": {},
     "output_type": "display_data"
    },
    {
     "data": {
      "application/javascript": [
       "(function(root) {\n",
       "  function embed_document(root) {\n",
       "    \n",
       "  var docs_json = {\"934a3006-8417-4802-8500-00c76f7925bf\":{\"roots\":{\"references\":[{\"attributes\":{\"below\":[{\"id\":\"164888\"}],\"center\":[{\"id\":\"164890\"},{\"id\":\"164894\"},{\"id\":\"164920\"}],\"left\":[{\"id\":\"164891\"}],\"plot_height\":400,\"plot_width\":700,\"renderers\":[{\"id\":\"164912\"},{\"id\":\"164925\"}],\"title\":{\"id\":\"164878\"},\"toolbar\":{\"id\":\"164902\"},\"x_range\":{\"id\":\"164880\"},\"x_scale\":{\"id\":\"164884\"},\"y_range\":{\"id\":\"164882\"},\"y_scale\":{\"id\":\"164886\"}},\"id\":\"164877\",\"subtype\":\"Figure\",\"type\":\"Plot\"},{\"attributes\":{\"source\":{\"id\":\"164922\"}},\"id\":\"164926\",\"type\":\"CDSView\"},{\"attributes\":{},\"id\":\"166585\",\"type\":\"Selection\"},{\"attributes\":{\"active_drag\":\"auto\",\"active_inspect\":\"auto\",\"active_multi\":null,\"active_scroll\":\"auto\",\"active_tap\":\"auto\",\"tools\":[{\"id\":\"164895\"},{\"id\":\"164896\"},{\"id\":\"164897\"},{\"id\":\"164898\"},{\"id\":\"164899\"},{\"id\":\"164900\"}]},\"id\":\"164902\",\"type\":\"Toolbar\"},{\"attributes\":{\"data\":{\"x\":[\"2017-07\",\"2017-08\",\"2017-09\",\"2017-10\",\"2017-11\",\"2017-12\",\"2018-01\",\"2018-02\",\"2018-03\",\"2018-04\",\"2018-05\",\"2018-06\",\"2018-07\",\"2018-08\",\"2018-09\",\"2018-10\",\"2018-11\",\"2018-12\",\"2019-01\",\"2019-02\",\"2019-03\",\"2019-04\",\"2019-05\",\"2019-06\",\"2019-07\",\"2019-09\",\"2019-10\",\"2019-11\",\"2019-12\",\"2020-01\",\"2020-02\",\"2020-03\",\"2020-04\",\"2020-05\",\"2020-06\",\"2020-07\"],\"y\":[33.831889081455806,7.630849220103986,3.766031195840555,18.441941074523395,16.75216637781629,6.289428076256499,5.1871750433275565,6.15944540727903,5.696707105719238,30.221837088388217,27.37261698440208,30.492201039861353,22.890814558058924,1.0190641247833623,7.864818024263432,23.648180242634314,21.504332755632582,18.12305025996534,8.273830155979203,8.875216637781628,13.807625649913344,3.7417677642980935,11.109185441941074,9.719237435008665,8.984402079722704,7.247833622183709,20.97573656845754,11.1369150779896,11.726169844020797,3.9376083188908146,47.80762564991335,8.675909878682843,3.9740034662045063,8.646447140381282,15.552859618717504,3.3518197573656847]},\"selected\":{\"id\":\"166583\"},\"selection_policy\":{\"id\":\"166582\"}},\"id\":\"164909\",\"type\":\"ColumnDataSource\"},{\"attributes\":{\"start\":0},\"id\":\"164882\",\"type\":\"DataRange1d\"},{\"attributes\":{},\"id\":\"164884\",\"type\":\"CategoricalScale\"},{\"attributes\":{},\"id\":\"166583\",\"type\":\"Selection\"},{\"attributes\":{},\"id\":\"164886\",\"type\":\"LinearScale\"},{\"attributes\":{},\"id\":\"166582\",\"type\":\"UnionRenderers\"},{\"attributes\":{\"formatter\":{\"id\":\"164916\"},\"major_label_orientation\":\"vertical\",\"ticker\":{\"id\":\"164889\"}},\"id\":\"164888\",\"type\":\"CategoricalAxis\"},{\"attributes\":{\"bottom_units\":\"screen\",\"fill_alpha\":0.5,\"fill_color\":\"lightgrey\",\"left_units\":\"screen\",\"level\":\"overlay\",\"line_alpha\":1.0,\"line_color\":\"black\",\"line_dash\":[4,4],\"line_width\":2,\"render_mode\":\"css\",\"right_units\":\"screen\",\"top_units\":\"screen\"},\"id\":\"164901\",\"type\":\"BoxAnnotation\"},{\"attributes\":{},\"id\":\"164889\",\"type\":\"CategoricalTicker\"},{\"attributes\":{\"axis\":{\"id\":\"164888\"},\"grid_line_color\":null,\"ticker\":null},\"id\":\"164890\",\"type\":\"Grid\"},{\"attributes\":{\"data_source\":{\"id\":\"164909\"},\"glyph\":{\"id\":\"164910\"},\"hover_glyph\":null,\"muted_glyph\":null,\"nonselection_glyph\":{\"id\":\"164911\"},\"selection_glyph\":null,\"view\":{\"id\":\"164913\"}},\"id\":\"164912\",\"type\":\"GlyphRenderer\"},{\"attributes\":{\"source\":{\"id\":\"164909\"}},\"id\":\"164913\",\"type\":\"CDSView\"},{\"attributes\":{\"formatter\":{\"id\":\"164918\"},\"ticker\":{\"id\":\"164892\"}},\"id\":\"164891\",\"type\":\"LinearAxis\"},{\"attributes\":{\"line_alpha\":{\"value\":0.8},\"line_color\":{\"value\":\"red\"},\"line_width\":{\"value\":2},\"x\":{\"field\":\"x\"},\"y\":{\"field\":\"y\"}},\"id\":\"164910\",\"type\":\"Step\"},{\"attributes\":{},\"id\":\"164892\",\"type\":\"BasicTicker\"},{\"attributes\":{},\"id\":\"164918\",\"type\":\"BasicTickFormatter\"},{\"attributes\":{\"axis\":{\"id\":\"164891\"},\"dimension\":1,\"grid_line_color\":null,\"ticker\":null},\"id\":\"164894\",\"type\":\"Grid\"},{\"attributes\":{\"items\":[{\"id\":\"164921\"}]},\"id\":\"164920\",\"type\":\"Legend\"},{\"attributes\":{\"line_alpha\":{\"value\":0.1},\"line_color\":{\"value\":\"red\"},\"line_width\":{\"value\":2},\"x\":{\"field\":\"x\"},\"y\":{\"field\":\"y\"}},\"id\":\"164911\",\"type\":\"Step\"},{\"attributes\":{\"label\":{\"value\":\"Moyenne de tous les d\\u00e9put\\u00e9s\"},\"renderers\":[{\"id\":\"164912\"}]},\"id\":\"164921\",\"type\":\"LegendItem\"},{\"attributes\":{},\"id\":\"164916\",\"type\":\"CategoricalTickFormatter\"},{\"attributes\":{\"data\":{\"top\":[74,5,6,27,41,4,5,10,9,38,31,61,41,0,24,91,54,54,10,13,53,4,21,9,24,23,59,21,19,4,166,22,4,8,20,0],\"x\":[\"2017-07\",\"2017-08\",\"2017-09\",\"2017-10\",\"2017-11\",\"2017-12\",\"2018-01\",\"2018-02\",\"2018-03\",\"2018-04\",\"2018-05\",\"2018-06\",\"2018-07\",\"2018-08\",\"2018-09\",\"2018-10\",\"2018-11\",\"2018-12\",\"2019-01\",\"2019-02\",\"2019-03\",\"2019-04\",\"2019-05\",\"2019-06\",\"2019-07\",\"2019-09\",\"2019-10\",\"2019-11\",\"2019-12\",\"2020-01\",\"2020-02\",\"2020-03\",\"2020-04\",\"2020-05\",\"2020-06\",\"2020-07\"]},\"selected\":{\"id\":\"166585\"},\"selection_policy\":{\"id\":\"166584\"}},\"id\":\"164922\",\"type\":\"ColumnDataSource\"},{\"attributes\":{},\"id\":\"166584\",\"type\":\"UnionRenderers\"},{\"attributes\":{},\"id\":\"164895\",\"type\":\"PanTool\"},{\"attributes\":{\"data_source\":{\"id\":\"164922\"},\"glyph\":{\"id\":\"164923\"},\"hover_glyph\":null,\"muted_glyph\":null,\"nonselection_glyph\":{\"id\":\"164924\"},\"selection_glyph\":null,\"view\":{\"id\":\"164926\"}},\"id\":\"164925\",\"type\":\"GlyphRenderer\"},{\"attributes\":{},\"id\":\"164896\",\"type\":\"WheelZoomTool\"},{\"attributes\":{},\"id\":\"164900\",\"type\":\"HelpTool\"},{\"attributes\":{\"overlay\":{\"id\":\"164901\"}},\"id\":\"164897\",\"type\":\"BoxZoomTool\"},{\"attributes\":{\"fill_alpha\":{\"value\":0.1},\"fill_color\":{\"value\":\"#1f77b4\"},\"line_alpha\":{\"value\":0.1},\"line_color\":{\"value\":\"#1f77b4\"},\"top\":{\"field\":\"top\"},\"width\":{\"value\":1},\"x\":{\"field\":\"x\"}},\"id\":\"164924\",\"type\":\"VBar\"},{\"attributes\":{},\"id\":\"164898\",\"type\":\"SaveTool\"},{\"attributes\":{\"fill_alpha\":{\"value\":0.5},\"fill_color\":{\"value\":\"#1f77b4\"},\"line_alpha\":{\"value\":0.5},\"line_color\":{\"value\":\"#1f77b4\"},\"top\":{\"field\":\"top\"},\"width\":{\"value\":1},\"x\":{\"field\":\"x\"}},\"id\":\"164923\",\"type\":\"VBar\"},{\"attributes\":{},\"id\":\"164899\",\"type\":\"ResetTool\"},{\"attributes\":{\"factors\":[\"2017-07\",\"2017-08\",\"2017-09\",\"2017-10\",\"2017-11\",\"2017-12\",\"2018-01\",\"2018-02\",\"2018-03\",\"2018-04\",\"2018-05\",\"2018-06\",\"2018-07\",\"2018-08\",\"2018-09\",\"2018-10\",\"2018-11\",\"2018-12\",\"2019-01\",\"2019-02\",\"2019-03\",\"2019-04\",\"2019-05\",\"2019-06\",\"2019-07\",\"2019-09\",\"2019-10\",\"2019-11\",\"2019-12\",\"2020-01\",\"2020-02\",\"2020-03\",\"2020-04\",\"2020-05\",\"2020-06\",\"2020-07\"]},\"id\":\"164880\",\"type\":\"FactorRange\"},{\"attributes\":{\"text\":\"Votes par mois pour Pierre Dharr\\u00e9ville avec 1055 votes\"},\"id\":\"164878\",\"type\":\"Title\"}],\"root_ids\":[\"164877\"]},\"title\":\"Bokeh Application\",\"version\":\"2.0.1\"}};\n",
       "  var render_items = [{\"docid\":\"934a3006-8417-4802-8500-00c76f7925bf\",\"root_ids\":[\"164877\"],\"roots\":{\"164877\":\"6ba3c2b0-a7ac-4f7b-8078-f5eb98fc2dda\"}}];\n",
       "  root.Bokeh.embed.embed_items_notebook(docs_json, render_items);\n",
       "\n",
       "  }\n",
       "  if (root.Bokeh !== undefined) {\n",
       "    embed_document(root);\n",
       "  } else {\n",
       "    var attempts = 0;\n",
       "    var timer = setInterval(function(root) {\n",
       "      if (root.Bokeh !== undefined) {\n",
       "        clearInterval(timer);\n",
       "        embed_document(root);\n",
       "      } else {\n",
       "        attempts++;\n",
       "        if (attempts > 100) {\n",
       "          clearInterval(timer);\n",
       "          console.log(\"Bokeh: ERROR: Unable to run BokehJS code because BokehJS library is missing\");\n",
       "        }\n",
       "      }\n",
       "    }, 10, root)\n",
       "  }\n",
       "})(window);"
      ],
      "application/vnd.bokehjs_exec.v0+json": ""
     },
     "metadata": {
      "application/vnd.bokehjs_exec.v0+json": {
       "id": "164877"
      }
     },
     "output_type": "display_data"
    },
    {
     "data": {
      "text/html": [
       "\n",
       "\n",
       "\n",
       "\n",
       "\n",
       "\n",
       "  <div class=\"bk-root\" id=\"d3c01909-36cb-4c1c-acba-91e80d0d362b\" data-root-id=\"166647\"></div>\n"
      ]
     },
     "metadata": {},
     "output_type": "display_data"
    },
    {
     "data": {
      "application/javascript": [
       "(function(root) {\n",
       "  function embed_document(root) {\n",
       "    \n",
       "  var docs_json = {\"0bb195ff-e9d6-4cc1-8ec6-85adb402d747\":{\"roots\":{\"references\":[{\"attributes\":{\"below\":[{\"id\":\"166658\"}],\"center\":[{\"id\":\"166660\"},{\"id\":\"166664\"},{\"id\":\"166690\"}],\"left\":[{\"id\":\"166661\"}],\"plot_height\":400,\"plot_width\":700,\"renderers\":[{\"id\":\"166682\"},{\"id\":\"166695\"}],\"title\":{\"id\":\"166648\"},\"toolbar\":{\"id\":\"166672\"},\"x_range\":{\"id\":\"166650\"},\"x_scale\":{\"id\":\"166654\"},\"y_range\":{\"id\":\"166652\"},\"y_scale\":{\"id\":\"166656\"}},\"id\":\"166647\",\"subtype\":\"Figure\",\"type\":\"Plot\"},{\"attributes\":{\"text\":\"Votes par mois pour Mich\\u00e8le Peyron avec 1063 votes\"},\"id\":\"166648\",\"type\":\"Title\"},{\"attributes\":{\"start\":0},\"id\":\"166652\",\"type\":\"DataRange1d\"},{\"attributes\":{},\"id\":\"168365\",\"type\":\"Selection\"},{\"attributes\":{},\"id\":\"166654\",\"type\":\"CategoricalScale\"},{\"attributes\":{},\"id\":\"166656\",\"type\":\"LinearScale\"},{\"attributes\":{},\"id\":\"166688\",\"type\":\"BasicTickFormatter\"},{\"attributes\":{},\"id\":\"168364\",\"type\":\"UnionRenderers\"},{\"attributes\":{\"formatter\":{\"id\":\"166686\"},\"major_label_orientation\":\"vertical\",\"ticker\":{\"id\":\"166659\"}},\"id\":\"166658\",\"type\":\"CategoricalAxis\"},{\"attributes\":{},\"id\":\"166670\",\"type\":\"HelpTool\"},{\"attributes\":{},\"id\":\"166659\",\"type\":\"CategoricalTicker\"},{\"attributes\":{\"active_drag\":\"auto\",\"active_inspect\":\"auto\",\"active_multi\":null,\"active_scroll\":\"auto\",\"active_tap\":\"auto\",\"tools\":[{\"id\":\"166665\"},{\"id\":\"166666\"},{\"id\":\"166667\"},{\"id\":\"166668\"},{\"id\":\"166669\"},{\"id\":\"166670\"}]},\"id\":\"166672\",\"type\":\"Toolbar\"},{\"attributes\":{\"axis\":{\"id\":\"166658\"},\"grid_line_color\":null,\"ticker\":null},\"id\":\"166660\",\"type\":\"Grid\"},{\"attributes\":{\"fill_alpha\":{\"value\":0.1},\"fill_color\":{\"value\":\"#1f77b4\"},\"line_alpha\":{\"value\":0.1},\"line_color\":{\"value\":\"#1f77b4\"},\"top\":{\"field\":\"top\"},\"width\":{\"value\":1},\"x\":{\"field\":\"x\"}},\"id\":\"166694\",\"type\":\"VBar\"},{\"attributes\":{\"formatter\":{\"id\":\"166688\"},\"ticker\":{\"id\":\"166662\"}},\"id\":\"166661\",\"type\":\"LinearAxis\"},{\"attributes\":{},\"id\":\"166662\",\"type\":\"BasicTicker\"},{\"attributes\":{\"fill_alpha\":{\"value\":0.5},\"fill_color\":{\"value\":\"#1f77b4\"},\"line_alpha\":{\"value\":0.5},\"line_color\":{\"value\":\"#1f77b4\"},\"top\":{\"field\":\"top\"},\"width\":{\"value\":1},\"x\":{\"field\":\"x\"}},\"id\":\"166693\",\"type\":\"VBar\"},{\"attributes\":{\"axis\":{\"id\":\"166661\"},\"dimension\":1,\"grid_line_color\":null,\"ticker\":null},\"id\":\"166664\",\"type\":\"Grid\"},{\"attributes\":{\"bottom_units\":\"screen\",\"fill_alpha\":0.5,\"fill_color\":\"lightgrey\",\"left_units\":\"screen\",\"level\":\"overlay\",\"line_alpha\":1.0,\"line_color\":\"black\",\"line_dash\":[4,4],\"line_width\":2,\"render_mode\":\"css\",\"right_units\":\"screen\",\"top_units\":\"screen\"},\"id\":\"166671\",\"type\":\"BoxAnnotation\"},{\"attributes\":{\"line_alpha\":{\"value\":0.1},\"line_color\":{\"value\":\"red\"},\"line_width\":{\"value\":2},\"x\":{\"field\":\"x\"},\"y\":{\"field\":\"y\"}},\"id\":\"166681\",\"type\":\"Step\"},{\"attributes\":{},\"id\":\"166686\",\"type\":\"CategoricalTickFormatter\"},{\"attributes\":{\"data_source\":{\"id\":\"166679\"},\"glyph\":{\"id\":\"166680\"},\"hover_glyph\":null,\"muted_glyph\":null,\"nonselection_glyph\":{\"id\":\"166681\"},\"selection_glyph\":null,\"view\":{\"id\":\"166683\"}},\"id\":\"166682\",\"type\":\"GlyphRenderer\"},{\"attributes\":{\"source\":{\"id\":\"166679\"}},\"id\":\"166683\",\"type\":\"CDSView\"},{\"attributes\":{\"source\":{\"id\":\"166692\"}},\"id\":\"166696\",\"type\":\"CDSView\"},{\"attributes\":{\"line_alpha\":{\"value\":0.8},\"line_color\":{\"value\":\"red\"},\"line_width\":{\"value\":2},\"x\":{\"field\":\"x\"},\"y\":{\"field\":\"y\"}},\"id\":\"166680\",\"type\":\"Step\"},{\"attributes\":{},\"id\":\"166665\",\"type\":\"PanTool\"},{\"attributes\":{},\"id\":\"166666\",\"type\":\"WheelZoomTool\"},{\"attributes\":{\"items\":[{\"id\":\"166691\"}]},\"id\":\"166690\",\"type\":\"Legend\"},{\"attributes\":{\"data\":{\"x\":[\"2017-07\",\"2017-08\",\"2017-09\",\"2017-10\",\"2017-11\",\"2017-12\",\"2018-01\",\"2018-02\",\"2018-03\",\"2018-04\",\"2018-05\",\"2018-06\",\"2018-07\",\"2018-08\",\"2018-09\",\"2018-10\",\"2018-11\",\"2018-12\",\"2019-01\",\"2019-02\",\"2019-03\",\"2019-04\",\"2019-05\",\"2019-06\",\"2019-07\",\"2019-09\",\"2019-10\",\"2019-11\",\"2019-12\",\"2020-01\",\"2020-02\",\"2020-03\",\"2020-04\",\"2020-05\",\"2020-06\",\"2020-07\"],\"y\":[33.831889081455806,7.630849220103986,3.766031195840555,18.441941074523395,16.75216637781629,6.289428076256499,5.1871750433275565,6.15944540727903,5.696707105719238,30.221837088388217,27.37261698440208,30.492201039861353,22.890814558058924,1.0190641247833623,7.864818024263432,23.648180242634314,21.504332755632582,18.12305025996534,8.273830155979203,8.875216637781628,13.807625649913344,3.7417677642980935,11.109185441941074,9.719237435008665,8.984402079722704,7.247833622183709,20.97573656845754,11.1369150779896,11.726169844020797,3.9376083188908146,47.80762564991335,8.675909878682843,3.9740034662045063,8.646447140381282,15.552859618717504,3.3518197573656847]},\"selected\":{\"id\":\"168363\"},\"selection_policy\":{\"id\":\"168362\"}},\"id\":\"166679\",\"type\":\"ColumnDataSource\"},{\"attributes\":{\"label\":{\"value\":\"Moyenne de tous les d\\u00e9put\\u00e9s\"},\"renderers\":[{\"id\":\"166682\"}]},\"id\":\"166691\",\"type\":\"LegendItem\"},{\"attributes\":{\"overlay\":{\"id\":\"166671\"}},\"id\":\"166667\",\"type\":\"BoxZoomTool\"},{\"attributes\":{},\"id\":\"166668\",\"type\":\"SaveTool\"},{\"attributes\":{},\"id\":\"168362\",\"type\":\"UnionRenderers\"},{\"attributes\":{\"factors\":[\"2017-07\",\"2017-08\",\"2017-09\",\"2017-10\",\"2017-11\",\"2017-12\",\"2018-01\",\"2018-02\",\"2018-03\",\"2018-04\",\"2018-05\",\"2018-06\",\"2018-07\",\"2018-08\",\"2018-09\",\"2018-10\",\"2018-11\",\"2018-12\",\"2019-01\",\"2019-02\",\"2019-03\",\"2019-04\",\"2019-05\",\"2019-06\",\"2019-07\",\"2019-09\",\"2019-10\",\"2019-11\",\"2019-12\",\"2020-01\",\"2020-02\",\"2020-03\",\"2020-04\",\"2020-05\",\"2020-06\",\"2020-07\"]},\"id\":\"166650\",\"type\":\"FactorRange\"},{\"attributes\":{\"data_source\":{\"id\":\"166692\"},\"glyph\":{\"id\":\"166693\"},\"hover_glyph\":null,\"muted_glyph\":null,\"nonselection_glyph\":{\"id\":\"166694\"},\"selection_glyph\":null,\"view\":{\"id\":\"166696\"}},\"id\":\"166695\",\"type\":\"GlyphRenderer\"},{\"attributes\":{\"data\":{\"top\":[82,16,9,44,62,6,5,22,5,103,52,61,34,3,3,39,30,22,21,2,44,7,21,5,4,19,97,28,3,17,125,28,4,9,22,9],\"x\":[\"2017-07\",\"2017-08\",\"2017-09\",\"2017-10\",\"2017-11\",\"2017-12\",\"2018-01\",\"2018-02\",\"2018-03\",\"2018-04\",\"2018-05\",\"2018-06\",\"2018-07\",\"2018-08\",\"2018-09\",\"2018-10\",\"2018-11\",\"2018-12\",\"2019-01\",\"2019-02\",\"2019-03\",\"2019-04\",\"2019-05\",\"2019-06\",\"2019-07\",\"2019-09\",\"2019-10\",\"2019-11\",\"2019-12\",\"2020-01\",\"2020-02\",\"2020-03\",\"2020-04\",\"2020-05\",\"2020-06\",\"2020-07\"]},\"selected\":{\"id\":\"168365\"},\"selection_policy\":{\"id\":\"168364\"}},\"id\":\"166692\",\"type\":\"ColumnDataSource\"},{\"attributes\":{},\"id\":\"168363\",\"type\":\"Selection\"},{\"attributes\":{},\"id\":\"166669\",\"type\":\"ResetTool\"}],\"root_ids\":[\"166647\"]},\"title\":\"Bokeh Application\",\"version\":\"2.0.1\"}};\n",
       "  var render_items = [{\"docid\":\"0bb195ff-e9d6-4cc1-8ec6-85adb402d747\",\"root_ids\":[\"166647\"],\"roots\":{\"166647\":\"d3c01909-36cb-4c1c-acba-91e80d0d362b\"}}];\n",
       "  root.Bokeh.embed.embed_items_notebook(docs_json, render_items);\n",
       "\n",
       "  }\n",
       "  if (root.Bokeh !== undefined) {\n",
       "    embed_document(root);\n",
       "  } else {\n",
       "    var attempts = 0;\n",
       "    var timer = setInterval(function(root) {\n",
       "      if (root.Bokeh !== undefined) {\n",
       "        clearInterval(timer);\n",
       "        embed_document(root);\n",
       "      } else {\n",
       "        attempts++;\n",
       "        if (attempts > 100) {\n",
       "          clearInterval(timer);\n",
       "          console.log(\"Bokeh: ERROR: Unable to run BokehJS code because BokehJS library is missing\");\n",
       "        }\n",
       "      }\n",
       "    }, 10, root)\n",
       "  }\n",
       "})(window);"
      ],
      "application/vnd.bokehjs_exec.v0+json": ""
     },
     "metadata": {
      "application/vnd.bokehjs_exec.v0+json": {
       "id": "166647"
      }
     },
     "output_type": "display_data"
    },
    {
     "data": {
      "text/html": [
       "\n",
       "\n",
       "\n",
       "\n",
       "\n",
       "\n",
       "  <div class=\"bk-root\" id=\"be62e7f3-52d2-47ca-a898-8c9084a5e943\" data-root-id=\"168427\"></div>\n"
      ]
     },
     "metadata": {},
     "output_type": "display_data"
    },
    {
     "data": {
      "application/javascript": [
       "(function(root) {\n",
       "  function embed_document(root) {\n",
       "    \n",
       "  var docs_json = {\"9fce47c9-cf57-4c29-abc4-63f02fbb732a\":{\"roots\":{\"references\":[{\"attributes\":{\"below\":[{\"id\":\"168438\"}],\"center\":[{\"id\":\"168440\"},{\"id\":\"168444\"},{\"id\":\"168470\"}],\"left\":[{\"id\":\"168441\"}],\"plot_height\":400,\"plot_width\":700,\"renderers\":[{\"id\":\"168462\"},{\"id\":\"168475\"}],\"title\":{\"id\":\"168428\"},\"toolbar\":{\"id\":\"168452\"},\"x_range\":{\"id\":\"168430\"},\"x_scale\":{\"id\":\"168434\"},\"y_range\":{\"id\":\"168432\"},\"y_scale\":{\"id\":\"168436\"}},\"id\":\"168427\",\"subtype\":\"Figure\",\"type\":\"Plot\"},{\"attributes\":{\"data\":{\"x\":[\"2017-07\",\"2017-08\",\"2017-09\",\"2017-10\",\"2017-11\",\"2017-12\",\"2018-01\",\"2018-02\",\"2018-03\",\"2018-04\",\"2018-05\",\"2018-06\",\"2018-07\",\"2018-08\",\"2018-09\",\"2018-10\",\"2018-11\",\"2018-12\",\"2019-01\",\"2019-02\",\"2019-03\",\"2019-04\",\"2019-05\",\"2019-06\",\"2019-07\",\"2019-09\",\"2019-10\",\"2019-11\",\"2019-12\",\"2020-01\",\"2020-02\",\"2020-03\",\"2020-04\",\"2020-05\",\"2020-06\",\"2020-07\"],\"y\":[33.831889081455806,7.630849220103986,3.766031195840555,18.441941074523395,16.75216637781629,6.289428076256499,5.1871750433275565,6.15944540727903,5.696707105719238,30.221837088388217,27.37261698440208,30.492201039861353,22.890814558058924,1.0190641247833623,7.864818024263432,23.648180242634314,21.504332755632582,18.12305025996534,8.273830155979203,8.875216637781628,13.807625649913344,3.7417677642980935,11.109185441941074,9.719237435008665,8.984402079722704,7.247833622183709,20.97573656845754,11.1369150779896,11.726169844020797,3.9376083188908146,47.80762564991335,8.675909878682843,3.9740034662045063,8.646447140381282,15.552859618717504,3.3518197573656847]},\"selected\":{\"id\":\"170153\"},\"selection_policy\":{\"id\":\"170152\"}},\"id\":\"168459\",\"type\":\"ColumnDataSource\"},{\"attributes\":{},\"id\":\"170153\",\"type\":\"Selection\"},{\"attributes\":{},\"id\":\"170154\",\"type\":\"UnionRenderers\"},{\"attributes\":{},\"id\":\"168445\",\"type\":\"PanTool\"},{\"attributes\":{},\"id\":\"168446\",\"type\":\"WheelZoomTool\"},{\"attributes\":{\"items\":[{\"id\":\"168471\"}]},\"id\":\"168470\",\"type\":\"Legend\"},{\"attributes\":{},\"id\":\"170155\",\"type\":\"Selection\"},{\"attributes\":{},\"id\":\"168466\",\"type\":\"CategoricalTickFormatter\"},{\"attributes\":{\"overlay\":{\"id\":\"168451\"}},\"id\":\"168447\",\"type\":\"BoxZoomTool\"},{\"attributes\":{},\"id\":\"168468\",\"type\":\"BasicTickFormatter\"},{\"attributes\":{\"fill_alpha\":{\"value\":0.1},\"fill_color\":{\"value\":\"#1f77b4\"},\"line_alpha\":{\"value\":0.1},\"line_color\":{\"value\":\"#1f77b4\"},\"top\":{\"field\":\"top\"},\"width\":{\"value\":1},\"x\":{\"field\":\"x\"}},\"id\":\"168474\",\"type\":\"VBar\"},{\"attributes\":{},\"id\":\"168448\",\"type\":\"SaveTool\"},{\"attributes\":{},\"id\":\"168434\",\"type\":\"CategoricalScale\"},{\"attributes\":{},\"id\":\"168450\",\"type\":\"HelpTool\"},{\"attributes\":{\"axis\":{\"id\":\"168441\"},\"dimension\":1,\"grid_line_color\":null,\"ticker\":null},\"id\":\"168444\",\"type\":\"Grid\"},{\"attributes\":{\"label\":{\"value\":\"Moyenne de tous les d\\u00e9put\\u00e9s\"},\"renderers\":[{\"id\":\"168462\"}]},\"id\":\"168471\",\"type\":\"LegendItem\"},{\"attributes\":{},\"id\":\"168449\",\"type\":\"ResetTool\"},{\"attributes\":{},\"id\":\"168442\",\"type\":\"BasicTicker\"},{\"attributes\":{\"data_source\":{\"id\":\"168459\"},\"glyph\":{\"id\":\"168460\"},\"hover_glyph\":null,\"muted_glyph\":null,\"nonselection_glyph\":{\"id\":\"168461\"},\"selection_glyph\":null,\"view\":{\"id\":\"168463\"}},\"id\":\"168462\",\"type\":\"GlyphRenderer\"},{\"attributes\":{\"formatter\":{\"id\":\"168468\"},\"ticker\":{\"id\":\"168442\"}},\"id\":\"168441\",\"type\":\"LinearAxis\"},{\"attributes\":{\"axis\":{\"id\":\"168438\"},\"grid_line_color\":null,\"ticker\":null},\"id\":\"168440\",\"type\":\"Grid\"},{\"attributes\":{\"line_alpha\":{\"value\":0.8},\"line_color\":{\"value\":\"red\"},\"line_width\":{\"value\":2},\"x\":{\"field\":\"x\"},\"y\":{\"field\":\"y\"}},\"id\":\"168460\",\"type\":\"Step\"},{\"attributes\":{\"bottom_units\":\"screen\",\"fill_alpha\":0.5,\"fill_color\":\"lightgrey\",\"left_units\":\"screen\",\"level\":\"overlay\",\"line_alpha\":1.0,\"line_color\":\"black\",\"line_dash\":[4,4],\"line_width\":2,\"render_mode\":\"css\",\"right_units\":\"screen\",\"top_units\":\"screen\"},\"id\":\"168451\",\"type\":\"BoxAnnotation\"},{\"attributes\":{\"data\":{\"top\":[59,7,3,53,45,4,17,10,6,61,45,33,28,0,14,76,74,59,12,5,65,11,18,25,6,7,56,26,34,20,174,5,4,9,18,0],\"x\":[\"2017-07\",\"2017-08\",\"2017-09\",\"2017-10\",\"2017-11\",\"2017-12\",\"2018-01\",\"2018-02\",\"2018-03\",\"2018-04\",\"2018-05\",\"2018-06\",\"2018-07\",\"2018-08\",\"2018-09\",\"2018-10\",\"2018-11\",\"2018-12\",\"2019-01\",\"2019-02\",\"2019-03\",\"2019-04\",\"2019-05\",\"2019-06\",\"2019-07\",\"2019-09\",\"2019-10\",\"2019-11\",\"2019-12\",\"2020-01\",\"2020-02\",\"2020-03\",\"2020-04\",\"2020-05\",\"2020-06\",\"2020-07\"]},\"selected\":{\"id\":\"170155\"},\"selection_policy\":{\"id\":\"170154\"}},\"id\":\"168472\",\"type\":\"ColumnDataSource\"},{\"attributes\":{},\"id\":\"168439\",\"type\":\"CategoricalTicker\"},{\"attributes\":{},\"id\":\"170152\",\"type\":\"UnionRenderers\"},{\"attributes\":{\"formatter\":{\"id\":\"168466\"},\"major_label_orientation\":\"vertical\",\"ticker\":{\"id\":\"168439\"}},\"id\":\"168438\",\"type\":\"CategoricalAxis\"},{\"attributes\":{\"source\":{\"id\":\"168459\"}},\"id\":\"168463\",\"type\":\"CDSView\"},{\"attributes\":{},\"id\":\"168436\",\"type\":\"LinearScale\"},{\"attributes\":{\"data_source\":{\"id\":\"168472\"},\"glyph\":{\"id\":\"168473\"},\"hover_glyph\":null,\"muted_glyph\":null,\"nonselection_glyph\":{\"id\":\"168474\"},\"selection_glyph\":null,\"view\":{\"id\":\"168476\"}},\"id\":\"168475\",\"type\":\"GlyphRenderer\"},{\"attributes\":{\"start\":0},\"id\":\"168432\",\"type\":\"DataRange1d\"},{\"attributes\":{\"active_drag\":\"auto\",\"active_inspect\":\"auto\",\"active_multi\":null,\"active_scroll\":\"auto\",\"active_tap\":\"auto\",\"tools\":[{\"id\":\"168445\"},{\"id\":\"168446\"},{\"id\":\"168447\"},{\"id\":\"168448\"},{\"id\":\"168449\"},{\"id\":\"168450\"}]},\"id\":\"168452\",\"type\":\"Toolbar\"},{\"attributes\":{\"fill_alpha\":{\"value\":0.5},\"fill_color\":{\"value\":\"#1f77b4\"},\"line_alpha\":{\"value\":0.5},\"line_color\":{\"value\":\"#1f77b4\"},\"top\":{\"field\":\"top\"},\"width\":{\"value\":1},\"x\":{\"field\":\"x\"}},\"id\":\"168473\",\"type\":\"VBar\"},{\"attributes\":{\"text\":\"Votes par mois pour Julien Borowczyk avec 1089 votes\"},\"id\":\"168428\",\"type\":\"Title\"},{\"attributes\":{\"source\":{\"id\":\"168472\"}},\"id\":\"168476\",\"type\":\"CDSView\"},{\"attributes\":{\"line_alpha\":{\"value\":0.1},\"line_color\":{\"value\":\"red\"},\"line_width\":{\"value\":2},\"x\":{\"field\":\"x\"},\"y\":{\"field\":\"y\"}},\"id\":\"168461\",\"type\":\"Step\"},{\"attributes\":{\"factors\":[\"2017-07\",\"2017-08\",\"2017-09\",\"2017-10\",\"2017-11\",\"2017-12\",\"2018-01\",\"2018-02\",\"2018-03\",\"2018-04\",\"2018-05\",\"2018-06\",\"2018-07\",\"2018-08\",\"2018-09\",\"2018-10\",\"2018-11\",\"2018-12\",\"2019-01\",\"2019-02\",\"2019-03\",\"2019-04\",\"2019-05\",\"2019-06\",\"2019-07\",\"2019-09\",\"2019-10\",\"2019-11\",\"2019-12\",\"2020-01\",\"2020-02\",\"2020-03\",\"2020-04\",\"2020-05\",\"2020-06\",\"2020-07\"]},\"id\":\"168430\",\"type\":\"FactorRange\"}],\"root_ids\":[\"168427\"]},\"title\":\"Bokeh Application\",\"version\":\"2.0.1\"}};\n",
       "  var render_items = [{\"docid\":\"9fce47c9-cf57-4c29-abc4-63f02fbb732a\",\"root_ids\":[\"168427\"],\"roots\":{\"168427\":\"be62e7f3-52d2-47ca-a898-8c9084a5e943\"}}];\n",
       "  root.Bokeh.embed.embed_items_notebook(docs_json, render_items);\n",
       "\n",
       "  }\n",
       "  if (root.Bokeh !== undefined) {\n",
       "    embed_document(root);\n",
       "  } else {\n",
       "    var attempts = 0;\n",
       "    var timer = setInterval(function(root) {\n",
       "      if (root.Bokeh !== undefined) {\n",
       "        clearInterval(timer);\n",
       "        embed_document(root);\n",
       "      } else {\n",
       "        attempts++;\n",
       "        if (attempts > 100) {\n",
       "          clearInterval(timer);\n",
       "          console.log(\"Bokeh: ERROR: Unable to run BokehJS code because BokehJS library is missing\");\n",
       "        }\n",
       "      }\n",
       "    }, 10, root)\n",
       "  }\n",
       "})(window);"
      ],
      "application/vnd.bokehjs_exec.v0+json": ""
     },
     "metadata": {
      "application/vnd.bokehjs_exec.v0+json": {
       "id": "168427"
      }
     },
     "output_type": "display_data"
    },
    {
     "data": {
      "text/html": [
       "\n",
       "\n",
       "\n",
       "\n",
       "\n",
       "\n",
       "  <div class=\"bk-root\" id=\"4cd9234c-e92a-4e2a-997e-2bb7780323a6\" data-root-id=\"170217\"></div>\n"
      ]
     },
     "metadata": {},
     "output_type": "display_data"
    },
    {
     "data": {
      "application/javascript": [
       "(function(root) {\n",
       "  function embed_document(root) {\n",
       "    \n",
       "  var docs_json = {\"b7f9a931-7a38-45cf-8a27-030f5aed52f6\":{\"roots\":{\"references\":[{\"attributes\":{\"below\":[{\"id\":\"170228\"}],\"center\":[{\"id\":\"170230\"},{\"id\":\"170234\"},{\"id\":\"170260\"}],\"left\":[{\"id\":\"170231\"}],\"plot_height\":400,\"plot_width\":700,\"renderers\":[{\"id\":\"170252\"},{\"id\":\"170265\"}],\"title\":{\"id\":\"170218\"},\"toolbar\":{\"id\":\"170242\"},\"x_range\":{\"id\":\"170220\"},\"x_scale\":{\"id\":\"170224\"},\"y_range\":{\"id\":\"170222\"},\"y_scale\":{\"id\":\"170226\"}},\"id\":\"170217\",\"subtype\":\"Figure\",\"type\":\"Plot\"},{\"attributes\":{\"data_source\":{\"id\":\"170262\"},\"glyph\":{\"id\":\"170263\"},\"hover_glyph\":null,\"muted_glyph\":null,\"nonselection_glyph\":{\"id\":\"170264\"},\"selection_glyph\":null,\"view\":{\"id\":\"170266\"}},\"id\":\"170265\",\"type\":\"GlyphRenderer\"},{\"attributes\":{\"source\":{\"id\":\"170262\"}},\"id\":\"170266\",\"type\":\"CDSView\"},{\"attributes\":{\"line_alpha\":{\"value\":0.1},\"line_color\":{\"value\":\"red\"},\"line_width\":{\"value\":2},\"x\":{\"field\":\"x\"},\"y\":{\"field\":\"y\"}},\"id\":\"170251\",\"type\":\"Step\"},{\"attributes\":{\"text\":\"Votes par mois pour Marion Lenne avec 1126 votes\"},\"id\":\"170218\",\"type\":\"Title\"},{\"attributes\":{},\"id\":\"171953\",\"type\":\"Selection\"},{\"attributes\":{\"fill_alpha\":{\"value\":0.5},\"fill_color\":{\"value\":\"#1f77b4\"},\"line_alpha\":{\"value\":0.5},\"line_color\":{\"value\":\"#1f77b4\"},\"top\":{\"field\":\"top\"},\"width\":{\"value\":1},\"x\":{\"field\":\"x\"}},\"id\":\"170263\",\"type\":\"VBar\"},{\"attributes\":{\"data\":{\"x\":[\"2017-07\",\"2017-08\",\"2017-09\",\"2017-10\",\"2017-11\",\"2017-12\",\"2018-01\",\"2018-02\",\"2018-03\",\"2018-04\",\"2018-05\",\"2018-06\",\"2018-07\",\"2018-08\",\"2018-09\",\"2018-10\",\"2018-11\",\"2018-12\",\"2019-01\",\"2019-02\",\"2019-03\",\"2019-04\",\"2019-05\",\"2019-06\",\"2019-07\",\"2019-09\",\"2019-10\",\"2019-11\",\"2019-12\",\"2020-01\",\"2020-02\",\"2020-03\",\"2020-04\",\"2020-05\",\"2020-06\",\"2020-07\"],\"y\":[33.831889081455806,7.630849220103986,3.766031195840555,18.441941074523395,16.75216637781629,6.289428076256499,5.1871750433275565,6.15944540727903,5.696707105719238,30.221837088388217,27.37261698440208,30.492201039861353,22.890814558058924,1.0190641247833623,7.864818024263432,23.648180242634314,21.504332755632582,18.12305025996534,8.273830155979203,8.875216637781628,13.807625649913344,3.7417677642980935,11.109185441941074,9.719237435008665,8.984402079722704,7.247833622183709,20.97573656845754,11.1369150779896,11.726169844020797,3.9376083188908146,47.80762564991335,8.675909878682843,3.9740034662045063,8.646447140381282,15.552859618717504,3.3518197573656847]},\"selected\":{\"id\":\"171953\"},\"selection_policy\":{\"id\":\"171952\"}},\"id\":\"170249\",\"type\":\"ColumnDataSource\"},{\"attributes\":{},\"id\":\"171954\",\"type\":\"UnionRenderers\"},{\"attributes\":{\"fill_alpha\":{\"value\":0.1},\"fill_color\":{\"value\":\"#1f77b4\"},\"line_alpha\":{\"value\":0.1},\"line_color\":{\"value\":\"#1f77b4\"},\"top\":{\"field\":\"top\"},\"width\":{\"value\":1},\"x\":{\"field\":\"x\"}},\"id\":\"170264\",\"type\":\"VBar\"},{\"attributes\":{},\"id\":\"170235\",\"type\":\"PanTool\"},{\"attributes\":{},\"id\":\"171955\",\"type\":\"Selection\"},{\"attributes\":{},\"id\":\"170236\",\"type\":\"WheelZoomTool\"},{\"attributes\":{},\"id\":\"170256\",\"type\":\"CategoricalTickFormatter\"},{\"attributes\":{\"overlay\":{\"id\":\"170241\"}},\"id\":\"170237\",\"type\":\"BoxZoomTool\"},{\"attributes\":{},\"id\":\"170258\",\"type\":\"BasicTickFormatter\"},{\"attributes\":{},\"id\":\"170224\",\"type\":\"CategoricalScale\"},{\"attributes\":{},\"id\":\"171952\",\"type\":\"UnionRenderers\"},{\"attributes\":{},\"id\":\"170239\",\"type\":\"ResetTool\"},{\"attributes\":{\"axis\":{\"id\":\"170231\"},\"dimension\":1,\"grid_line_color\":null,\"ticker\":null},\"id\":\"170234\",\"type\":\"Grid\"},{\"attributes\":{},\"id\":\"170238\",\"type\":\"SaveTool\"},{\"attributes\":{},\"id\":\"170240\",\"type\":\"HelpTool\"},{\"attributes\":{},\"id\":\"170232\",\"type\":\"BasicTicker\"},{\"attributes\":{\"formatter\":{\"id\":\"170258\"},\"ticker\":{\"id\":\"170232\"}},\"id\":\"170231\",\"type\":\"LinearAxis\"},{\"attributes\":{\"label\":{\"value\":\"Moyenne de tous les d\\u00e9put\\u00e9s\"},\"renderers\":[{\"id\":\"170252\"}]},\"id\":\"170261\",\"type\":\"LegendItem\"},{\"attributes\":{\"axis\":{\"id\":\"170228\"},\"grid_line_color\":null,\"ticker\":null},\"id\":\"170230\",\"type\":\"Grid\"},{\"attributes\":{\"active_drag\":\"auto\",\"active_inspect\":\"auto\",\"active_multi\":null,\"active_scroll\":\"auto\",\"active_tap\":\"auto\",\"tools\":[{\"id\":\"170235\"},{\"id\":\"170236\"},{\"id\":\"170237\"},{\"id\":\"170238\"},{\"id\":\"170239\"},{\"id\":\"170240\"}]},\"id\":\"170242\",\"type\":\"Toolbar\"},{\"attributes\":{\"items\":[{\"id\":\"170261\"}]},\"id\":\"170260\",\"type\":\"Legend\"},{\"attributes\":{\"line_alpha\":{\"value\":0.8},\"line_color\":{\"value\":\"red\"},\"line_width\":{\"value\":2},\"x\":{\"field\":\"x\"},\"y\":{\"field\":\"y\"}},\"id\":\"170250\",\"type\":\"Step\"},{\"attributes\":{},\"id\":\"170229\",\"type\":\"CategoricalTicker\"},{\"attributes\":{\"data_source\":{\"id\":\"170249\"},\"glyph\":{\"id\":\"170250\"},\"hover_glyph\":null,\"muted_glyph\":null,\"nonselection_glyph\":{\"id\":\"170251\"},\"selection_glyph\":null,\"view\":{\"id\":\"170253\"}},\"id\":\"170252\",\"type\":\"GlyphRenderer\"},{\"attributes\":{\"formatter\":{\"id\":\"170256\"},\"major_label_orientation\":\"vertical\",\"ticker\":{\"id\":\"170229\"}},\"id\":\"170228\",\"type\":\"CategoricalAxis\"},{\"attributes\":{\"data\":{\"top\":[75,15,9,51,23,15,12,27,21,29,95,42,55,0,22,39,60,46,9,6,11,12,64,26,13,15,69,24,37,18,137,5,4,9,18,13],\"x\":[\"2017-07\",\"2017-08\",\"2017-09\",\"2017-10\",\"2017-11\",\"2017-12\",\"2018-01\",\"2018-02\",\"2018-03\",\"2018-04\",\"2018-05\",\"2018-06\",\"2018-07\",\"2018-08\",\"2018-09\",\"2018-10\",\"2018-11\",\"2018-12\",\"2019-01\",\"2019-02\",\"2019-03\",\"2019-04\",\"2019-05\",\"2019-06\",\"2019-07\",\"2019-09\",\"2019-10\",\"2019-11\",\"2019-12\",\"2020-01\",\"2020-02\",\"2020-03\",\"2020-04\",\"2020-05\",\"2020-06\",\"2020-07\"]},\"selected\":{\"id\":\"171955\"},\"selection_policy\":{\"id\":\"171954\"}},\"id\":\"170262\",\"type\":\"ColumnDataSource\"},{\"attributes\":{\"bottom_units\":\"screen\",\"fill_alpha\":0.5,\"fill_color\":\"lightgrey\",\"left_units\":\"screen\",\"level\":\"overlay\",\"line_alpha\":1.0,\"line_color\":\"black\",\"line_dash\":[4,4],\"line_width\":2,\"render_mode\":\"css\",\"right_units\":\"screen\",\"top_units\":\"screen\"},\"id\":\"170241\",\"type\":\"BoxAnnotation\"},{\"attributes\":{},\"id\":\"170226\",\"type\":\"LinearScale\"},{\"attributes\":{\"start\":0},\"id\":\"170222\",\"type\":\"DataRange1d\"},{\"attributes\":{\"factors\":[\"2017-07\",\"2017-08\",\"2017-09\",\"2017-10\",\"2017-11\",\"2017-12\",\"2018-01\",\"2018-02\",\"2018-03\",\"2018-04\",\"2018-05\",\"2018-06\",\"2018-07\",\"2018-08\",\"2018-09\",\"2018-10\",\"2018-11\",\"2018-12\",\"2019-01\",\"2019-02\",\"2019-03\",\"2019-04\",\"2019-05\",\"2019-06\",\"2019-07\",\"2019-09\",\"2019-10\",\"2019-11\",\"2019-12\",\"2020-01\",\"2020-02\",\"2020-03\",\"2020-04\",\"2020-05\",\"2020-06\",\"2020-07\"]},\"id\":\"170220\",\"type\":\"FactorRange\"},{\"attributes\":{\"source\":{\"id\":\"170249\"}},\"id\":\"170253\",\"type\":\"CDSView\"}],\"root_ids\":[\"170217\"]},\"title\":\"Bokeh Application\",\"version\":\"2.0.1\"}};\n",
       "  var render_items = [{\"docid\":\"b7f9a931-7a38-45cf-8a27-030f5aed52f6\",\"root_ids\":[\"170217\"],\"roots\":{\"170217\":\"4cd9234c-e92a-4e2a-997e-2bb7780323a6\"}}];\n",
       "  root.Bokeh.embed.embed_items_notebook(docs_json, render_items);\n",
       "\n",
       "  }\n",
       "  if (root.Bokeh !== undefined) {\n",
       "    embed_document(root);\n",
       "  } else {\n",
       "    var attempts = 0;\n",
       "    var timer = setInterval(function(root) {\n",
       "      if (root.Bokeh !== undefined) {\n",
       "        clearInterval(timer);\n",
       "        embed_document(root);\n",
       "      } else {\n",
       "        attempts++;\n",
       "        if (attempts > 100) {\n",
       "          clearInterval(timer);\n",
       "          console.log(\"Bokeh: ERROR: Unable to run BokehJS code because BokehJS library is missing\");\n",
       "        }\n",
       "      }\n",
       "    }, 10, root)\n",
       "  }\n",
       "})(window);"
      ],
      "application/vnd.bokehjs_exec.v0+json": ""
     },
     "metadata": {
      "application/vnd.bokehjs_exec.v0+json": {
       "id": "170217"
      }
     },
     "output_type": "display_data"
    },
    {
     "data": {
      "text/html": [
       "\n",
       "\n",
       "\n",
       "\n",
       "\n",
       "\n",
       "  <div class=\"bk-root\" id=\"1c0a0fc8-7b13-4e0d-bbb9-963110f56cb4\" data-root-id=\"172017\"></div>\n"
      ]
     },
     "metadata": {},
     "output_type": "display_data"
    },
    {
     "data": {
      "application/javascript": [
       "(function(root) {\n",
       "  function embed_document(root) {\n",
       "    \n",
       "  var docs_json = {\"e504dfb4-0607-47a7-9b9c-a83c1825f387\":{\"roots\":{\"references\":[{\"attributes\":{\"below\":[{\"id\":\"172028\"}],\"center\":[{\"id\":\"172030\"},{\"id\":\"172034\"},{\"id\":\"172060\"}],\"left\":[{\"id\":\"172031\"}],\"plot_height\":400,\"plot_width\":700,\"renderers\":[{\"id\":\"172052\"},{\"id\":\"172065\"}],\"title\":{\"id\":\"172018\"},\"toolbar\":{\"id\":\"172042\"},\"x_range\":{\"id\":\"172020\"},\"x_scale\":{\"id\":\"172024\"},\"y_range\":{\"id\":\"172022\"},\"y_scale\":{\"id\":\"172026\"}},\"id\":\"172017\",\"subtype\":\"Figure\",\"type\":\"Plot\"},{\"attributes\":{\"fill_alpha\":{\"value\":0.1},\"fill_color\":{\"value\":\"#1f77b4\"},\"line_alpha\":{\"value\":0.1},\"line_color\":{\"value\":\"#1f77b4\"},\"top\":{\"field\":\"top\"},\"width\":{\"value\":1},\"x\":{\"field\":\"x\"}},\"id\":\"172064\",\"type\":\"VBar\"},{\"attributes\":{\"start\":0},\"id\":\"172022\",\"type\":\"DataRange1d\"},{\"attributes\":{\"data_source\":{\"id\":\"172062\"},\"glyph\":{\"id\":\"172063\"},\"hover_glyph\":null,\"muted_glyph\":null,\"nonselection_glyph\":{\"id\":\"172064\"},\"selection_glyph\":null,\"view\":{\"id\":\"172066\"}},\"id\":\"172065\",\"type\":\"GlyphRenderer\"},{\"attributes\":{},\"id\":\"172036\",\"type\":\"WheelZoomTool\"},{\"attributes\":{\"overlay\":{\"id\":\"172041\"}},\"id\":\"172037\",\"type\":\"BoxZoomTool\"},{\"attributes\":{\"source\":{\"id\":\"172062\"}},\"id\":\"172066\",\"type\":\"CDSView\"},{\"attributes\":{\"factors\":[\"2017-07\",\"2017-08\",\"2017-09\",\"2017-10\",\"2017-11\",\"2017-12\",\"2018-01\",\"2018-02\",\"2018-03\",\"2018-04\",\"2018-05\",\"2018-06\",\"2018-07\",\"2018-08\",\"2018-09\",\"2018-10\",\"2018-11\",\"2018-12\",\"2019-01\",\"2019-02\",\"2019-03\",\"2019-04\",\"2019-05\",\"2019-06\",\"2019-07\",\"2019-09\",\"2019-10\",\"2019-11\",\"2019-12\",\"2020-01\",\"2020-02\",\"2020-03\",\"2020-04\",\"2020-05\",\"2020-06\",\"2020-07\"]},\"id\":\"172020\",\"type\":\"FactorRange\"},{\"attributes\":{\"line_alpha\":{\"value\":0.1},\"line_color\":{\"value\":\"red\"},\"line_width\":{\"value\":2},\"x\":{\"field\":\"x\"},\"y\":{\"field\":\"y\"}},\"id\":\"172051\",\"type\":\"Step\"},{\"attributes\":{},\"id\":\"173762\",\"type\":\"UnionRenderers\"},{\"attributes\":{\"text\":\"Votes par mois pour Marie-Christine Verdier-Jouclas avec 1179 votes\"},\"id\":\"172018\",\"type\":\"Title\"},{\"attributes\":{},\"id\":\"173763\",\"type\":\"Selection\"},{\"attributes\":{},\"id\":\"172035\",\"type\":\"PanTool\"},{\"attributes\":{},\"id\":\"173764\",\"type\":\"UnionRenderers\"},{\"attributes\":{\"items\":[{\"id\":\"172061\"}]},\"id\":\"172060\",\"type\":\"Legend\"},{\"attributes\":{\"data\":{\"top\":[74,15,12,58,51,26,16,9,2,80,70,51,42,3,32,61,73,54,17,7,39,10,12,10,15,5,43,44,56,2,119,21,4,9,22,15],\"x\":[\"2017-07\",\"2017-08\",\"2017-09\",\"2017-10\",\"2017-11\",\"2017-12\",\"2018-01\",\"2018-02\",\"2018-03\",\"2018-04\",\"2018-05\",\"2018-06\",\"2018-07\",\"2018-08\",\"2018-09\",\"2018-10\",\"2018-11\",\"2018-12\",\"2019-01\",\"2019-02\",\"2019-03\",\"2019-04\",\"2019-05\",\"2019-06\",\"2019-07\",\"2019-09\",\"2019-10\",\"2019-11\",\"2019-12\",\"2020-01\",\"2020-02\",\"2020-03\",\"2020-04\",\"2020-05\",\"2020-06\",\"2020-07\"]},\"selected\":{\"id\":\"173765\"},\"selection_policy\":{\"id\":\"173764\"}},\"id\":\"172062\",\"type\":\"ColumnDataSource\"},{\"attributes\":{\"fill_alpha\":{\"value\":0.5},\"fill_color\":{\"value\":\"#1f77b4\"},\"line_alpha\":{\"value\":0.5},\"line_color\":{\"value\":\"#1f77b4\"},\"top\":{\"field\":\"top\"},\"width\":{\"value\":1},\"x\":{\"field\":\"x\"}},\"id\":\"172063\",\"type\":\"VBar\"},{\"attributes\":{},\"id\":\"173765\",\"type\":\"Selection\"},{\"attributes\":{\"label\":{\"value\":\"Moyenne de tous les d\\u00e9put\\u00e9s\"},\"renderers\":[{\"id\":\"172052\"}]},\"id\":\"172061\",\"type\":\"LegendItem\"},{\"attributes\":{\"data\":{\"x\":[\"2017-07\",\"2017-08\",\"2017-09\",\"2017-10\",\"2017-11\",\"2017-12\",\"2018-01\",\"2018-02\",\"2018-03\",\"2018-04\",\"2018-05\",\"2018-06\",\"2018-07\",\"2018-08\",\"2018-09\",\"2018-10\",\"2018-11\",\"2018-12\",\"2019-01\",\"2019-02\",\"2019-03\",\"2019-04\",\"2019-05\",\"2019-06\",\"2019-07\",\"2019-09\",\"2019-10\",\"2019-11\",\"2019-12\",\"2020-01\",\"2020-02\",\"2020-03\",\"2020-04\",\"2020-05\",\"2020-06\",\"2020-07\"],\"y\":[33.831889081455806,7.630849220103986,3.766031195840555,18.441941074523395,16.75216637781629,6.289428076256499,5.1871750433275565,6.15944540727903,5.696707105719238,30.221837088388217,27.37261698440208,30.492201039861353,22.890814558058924,1.0190641247833623,7.864818024263432,23.648180242634314,21.504332755632582,18.12305025996534,8.273830155979203,8.875216637781628,13.807625649913344,3.7417677642980935,11.109185441941074,9.719237435008665,8.984402079722704,7.247833622183709,20.97573656845754,11.1369150779896,11.726169844020797,3.9376083188908146,47.80762564991335,8.675909878682843,3.9740034662045063,8.646447140381282,15.552859618717504,3.3518197573656847]},\"selected\":{\"id\":\"173763\"},\"selection_policy\":{\"id\":\"173762\"}},\"id\":\"172049\",\"type\":\"ColumnDataSource\"},{\"attributes\":{\"source\":{\"id\":\"172049\"}},\"id\":\"172053\",\"type\":\"CDSView\"},{\"attributes\":{\"line_alpha\":{\"value\":0.8},\"line_color\":{\"value\":\"red\"},\"line_width\":{\"value\":2},\"x\":{\"field\":\"x\"},\"y\":{\"field\":\"y\"}},\"id\":\"172050\",\"type\":\"Step\"},{\"attributes\":{},\"id\":\"172039\",\"type\":\"ResetTool\"},{\"attributes\":{},\"id\":\"172024\",\"type\":\"CategoricalScale\"},{\"attributes\":{},\"id\":\"172038\",\"type\":\"SaveTool\"},{\"attributes\":{\"axis\":{\"id\":\"172031\"},\"dimension\":1,\"grid_line_color\":null,\"ticker\":null},\"id\":\"172034\",\"type\":\"Grid\"},{\"attributes\":{},\"id\":\"172040\",\"type\":\"HelpTool\"},{\"attributes\":{\"active_drag\":\"auto\",\"active_inspect\":\"auto\",\"active_multi\":null,\"active_scroll\":\"auto\",\"active_tap\":\"auto\",\"tools\":[{\"id\":\"172035\"},{\"id\":\"172036\"},{\"id\":\"172037\"},{\"id\":\"172038\"},{\"id\":\"172039\"},{\"id\":\"172040\"}]},\"id\":\"172042\",\"type\":\"Toolbar\"},{\"attributes\":{},\"id\":\"172032\",\"type\":\"BasicTicker\"},{\"attributes\":{\"formatter\":{\"id\":\"172058\"},\"ticker\":{\"id\":\"172032\"}},\"id\":\"172031\",\"type\":\"LinearAxis\"},{\"attributes\":{},\"id\":\"172058\",\"type\":\"BasicTickFormatter\"},{\"attributes\":{\"axis\":{\"id\":\"172028\"},\"grid_line_color\":null,\"ticker\":null},\"id\":\"172030\",\"type\":\"Grid\"},{\"attributes\":{\"data_source\":{\"id\":\"172049\"},\"glyph\":{\"id\":\"172050\"},\"hover_glyph\":null,\"muted_glyph\":null,\"nonselection_glyph\":{\"id\":\"172051\"},\"selection_glyph\":null,\"view\":{\"id\":\"172053\"}},\"id\":\"172052\",\"type\":\"GlyphRenderer\"},{\"attributes\":{},\"id\":\"172029\",\"type\":\"CategoricalTicker\"},{\"attributes\":{\"bottom_units\":\"screen\",\"fill_alpha\":0.5,\"fill_color\":\"lightgrey\",\"left_units\":\"screen\",\"level\":\"overlay\",\"line_alpha\":1.0,\"line_color\":\"black\",\"line_dash\":[4,4],\"line_width\":2,\"render_mode\":\"css\",\"right_units\":\"screen\",\"top_units\":\"screen\"},\"id\":\"172041\",\"type\":\"BoxAnnotation\"},{\"attributes\":{\"formatter\":{\"id\":\"172056\"},\"major_label_orientation\":\"vertical\",\"ticker\":{\"id\":\"172029\"}},\"id\":\"172028\",\"type\":\"CategoricalAxis\"},{\"attributes\":{},\"id\":\"172056\",\"type\":\"CategoricalTickFormatter\"},{\"attributes\":{},\"id\":\"172026\",\"type\":\"LinearScale\"}],\"root_ids\":[\"172017\"]},\"title\":\"Bokeh Application\",\"version\":\"2.0.1\"}};\n",
       "  var render_items = [{\"docid\":\"e504dfb4-0607-47a7-9b9c-a83c1825f387\",\"root_ids\":[\"172017\"],\"roots\":{\"172017\":\"1c0a0fc8-7b13-4e0d-bbb9-963110f56cb4\"}}];\n",
       "  root.Bokeh.embed.embed_items_notebook(docs_json, render_items);\n",
       "\n",
       "  }\n",
       "  if (root.Bokeh !== undefined) {\n",
       "    embed_document(root);\n",
       "  } else {\n",
       "    var attempts = 0;\n",
       "    var timer = setInterval(function(root) {\n",
       "      if (root.Bokeh !== undefined) {\n",
       "        clearInterval(timer);\n",
       "        embed_document(root);\n",
       "      } else {\n",
       "        attempts++;\n",
       "        if (attempts > 100) {\n",
       "          clearInterval(timer);\n",
       "          console.log(\"Bokeh: ERROR: Unable to run BokehJS code because BokehJS library is missing\");\n",
       "        }\n",
       "      }\n",
       "    }, 10, root)\n",
       "  }\n",
       "})(window);"
      ],
      "application/vnd.bokehjs_exec.v0+json": ""
     },
     "metadata": {
      "application/vnd.bokehjs_exec.v0+json": {
       "id": "172017"
      }
     },
     "output_type": "display_data"
    },
    {
     "data": {
      "text/html": [
       "\n",
       "\n",
       "\n",
       "\n",
       "\n",
       "\n",
       "  <div class=\"bk-root\" id=\"e7bc8db0-c577-41a0-bc53-d1047ec15b53\" data-root-id=\"173827\"></div>\n"
      ]
     },
     "metadata": {},
     "output_type": "display_data"
    },
    {
     "data": {
      "application/javascript": [
       "(function(root) {\n",
       "  function embed_document(root) {\n",
       "    \n",
       "  var docs_json = {\"ec595300-d71d-4be9-b1e5-779031bf2c0d\":{\"roots\":{\"references\":[{\"attributes\":{\"below\":[{\"id\":\"173838\"}],\"center\":[{\"id\":\"173840\"},{\"id\":\"173844\"},{\"id\":\"173870\"}],\"left\":[{\"id\":\"173841\"}],\"plot_height\":400,\"plot_width\":700,\"renderers\":[{\"id\":\"173862\"},{\"id\":\"173875\"}],\"title\":{\"id\":\"173828\"},\"toolbar\":{\"id\":\"173852\"},\"x_range\":{\"id\":\"173830\"},\"x_scale\":{\"id\":\"173834\"},\"y_range\":{\"id\":\"173832\"},\"y_scale\":{\"id\":\"173836\"}},\"id\":\"173827\",\"subtype\":\"Figure\",\"type\":\"Plot\"},{\"attributes\":{\"formatter\":{\"id\":\"173866\"},\"major_label_orientation\":\"vertical\",\"ticker\":{\"id\":\"173839\"}},\"id\":\"173838\",\"type\":\"CategoricalAxis\"},{\"attributes\":{\"data\":{\"top\":[43,16,16,28,36,16,7,17,15,69,69,41,76,4,21,38,98,35,29,14,31,6,65,8,28,21,37,40,45,20,194,29,4,9,24,4],\"x\":[\"2017-07\",\"2017-08\",\"2017-09\",\"2017-10\",\"2017-11\",\"2017-12\",\"2018-01\",\"2018-02\",\"2018-03\",\"2018-04\",\"2018-05\",\"2018-06\",\"2018-07\",\"2018-08\",\"2018-09\",\"2018-10\",\"2018-11\",\"2018-12\",\"2019-01\",\"2019-02\",\"2019-03\",\"2019-04\",\"2019-05\",\"2019-06\",\"2019-07\",\"2019-09\",\"2019-10\",\"2019-11\",\"2019-12\",\"2020-01\",\"2020-02\",\"2020-03\",\"2020-04\",\"2020-05\",\"2020-06\",\"2020-07\"]},\"selected\":{\"id\":\"175585\"},\"selection_policy\":{\"id\":\"175584\"}},\"id\":\"173872\",\"type\":\"ColumnDataSource\"},{\"attributes\":{},\"id\":\"173836\",\"type\":\"LinearScale\"},{\"attributes\":{\"data_source\":{\"id\":\"173872\"},\"glyph\":{\"id\":\"173873\"},\"hover_glyph\":null,\"muted_glyph\":null,\"nonselection_glyph\":{\"id\":\"173874\"},\"selection_glyph\":null,\"view\":{\"id\":\"173876\"}},\"id\":\"173875\",\"type\":\"GlyphRenderer\"},{\"attributes\":{},\"id\":\"173834\",\"type\":\"CategoricalScale\"},{\"attributes\":{},\"id\":\"173848\",\"type\":\"SaveTool\"},{\"attributes\":{\"fill_alpha\":{\"value\":0.1},\"fill_color\":{\"value\":\"#1f77b4\"},\"line_alpha\":{\"value\":0.1},\"line_color\":{\"value\":\"#1f77b4\"},\"top\":{\"field\":\"top\"},\"width\":{\"value\":1},\"x\":{\"field\":\"x\"}},\"id\":\"173874\",\"type\":\"VBar\"},{\"attributes\":{\"source\":{\"id\":\"173872\"}},\"id\":\"173876\",\"type\":\"CDSView\"},{\"attributes\":{\"factors\":[\"2017-07\",\"2017-08\",\"2017-09\",\"2017-10\",\"2017-11\",\"2017-12\",\"2018-01\",\"2018-02\",\"2018-03\",\"2018-04\",\"2018-05\",\"2018-06\",\"2018-07\",\"2018-08\",\"2018-09\",\"2018-10\",\"2018-11\",\"2018-12\",\"2019-01\",\"2019-02\",\"2019-03\",\"2019-04\",\"2019-05\",\"2019-06\",\"2019-07\",\"2019-09\",\"2019-10\",\"2019-11\",\"2019-12\",\"2020-01\",\"2020-02\",\"2020-03\",\"2020-04\",\"2020-05\",\"2020-06\",\"2020-07\"]},\"id\":\"173830\",\"type\":\"FactorRange\"},{\"attributes\":{\"fill_alpha\":{\"value\":0.5},\"fill_color\":{\"value\":\"#1f77b4\"},\"line_alpha\":{\"value\":0.5},\"line_color\":{\"value\":\"#1f77b4\"},\"top\":{\"field\":\"top\"},\"width\":{\"value\":1},\"x\":{\"field\":\"x\"}},\"id\":\"173873\",\"type\":\"VBar\"},{\"attributes\":{},\"id\":\"175582\",\"type\":\"UnionRenderers\"},{\"attributes\":{\"line_alpha\":{\"value\":0.1},\"line_color\":{\"value\":\"red\"},\"line_width\":{\"value\":2},\"x\":{\"field\":\"x\"},\"y\":{\"field\":\"y\"}},\"id\":\"173861\",\"type\":\"Step\"},{\"attributes\":{},\"id\":\"175583\",\"type\":\"Selection\"},{\"attributes\":{\"items\":[{\"id\":\"173871\"}]},\"id\":\"173870\",\"type\":\"Legend\"},{\"attributes\":{},\"id\":\"175584\",\"type\":\"UnionRenderers\"},{\"attributes\":{},\"id\":\"173846\",\"type\":\"WheelZoomTool\"},{\"attributes\":{\"overlay\":{\"id\":\"173851\"}},\"id\":\"173847\",\"type\":\"BoxZoomTool\"},{\"attributes\":{},\"id\":\"175585\",\"type\":\"Selection\"},{\"attributes\":{},\"id\":\"173845\",\"type\":\"PanTool\"},{\"attributes\":{\"data\":{\"x\":[\"2017-07\",\"2017-08\",\"2017-09\",\"2017-10\",\"2017-11\",\"2017-12\",\"2018-01\",\"2018-02\",\"2018-03\",\"2018-04\",\"2018-05\",\"2018-06\",\"2018-07\",\"2018-08\",\"2018-09\",\"2018-10\",\"2018-11\",\"2018-12\",\"2019-01\",\"2019-02\",\"2019-03\",\"2019-04\",\"2019-05\",\"2019-06\",\"2019-07\",\"2019-09\",\"2019-10\",\"2019-11\",\"2019-12\",\"2020-01\",\"2020-02\",\"2020-03\",\"2020-04\",\"2020-05\",\"2020-06\",\"2020-07\"],\"y\":[33.831889081455806,7.630849220103986,3.766031195840555,18.441941074523395,16.75216637781629,6.289428076256499,5.1871750433275565,6.15944540727903,5.696707105719238,30.221837088388217,27.37261698440208,30.492201039861353,22.890814558058924,1.0190641247833623,7.864818024263432,23.648180242634314,21.504332755632582,18.12305025996534,8.273830155979203,8.875216637781628,13.807625649913344,3.7417677642980935,11.109185441941074,9.719237435008665,8.984402079722704,7.247833622183709,20.97573656845754,11.1369150779896,11.726169844020797,3.9376083188908146,47.80762564991335,8.675909878682843,3.9740034662045063,8.646447140381282,15.552859618717504,3.3518197573656847]},\"selected\":{\"id\":\"175583\"},\"selection_policy\":{\"id\":\"175582\"}},\"id\":\"173859\",\"type\":\"ColumnDataSource\"},{\"attributes\":{},\"id\":\"173868\",\"type\":\"BasicTickFormatter\"},{\"attributes\":{\"data_source\":{\"id\":\"173859\"},\"glyph\":{\"id\":\"173860\"},\"hover_glyph\":null,\"muted_glyph\":null,\"nonselection_glyph\":{\"id\":\"173861\"},\"selection_glyph\":null,\"view\":{\"id\":\"173863\"}},\"id\":\"173862\",\"type\":\"GlyphRenderer\"},{\"attributes\":{\"active_drag\":\"auto\",\"active_inspect\":\"auto\",\"active_multi\":null,\"active_scroll\":\"auto\",\"active_tap\":\"auto\",\"tools\":[{\"id\":\"173845\"},{\"id\":\"173846\"},{\"id\":\"173847\"},{\"id\":\"173848\"},{\"id\":\"173849\"},{\"id\":\"173850\"}]},\"id\":\"173852\",\"type\":\"Toolbar\"},{\"attributes\":{},\"id\":\"173866\",\"type\":\"CategoricalTickFormatter\"},{\"attributes\":{},\"id\":\"173850\",\"type\":\"HelpTool\"},{\"attributes\":{\"axis\":{\"id\":\"173841\"},\"dimension\":1,\"grid_line_color\":null,\"ticker\":null},\"id\":\"173844\",\"type\":\"Grid\"},{\"attributes\":{},\"id\":\"173842\",\"type\":\"BasicTicker\"},{\"attributes\":{\"formatter\":{\"id\":\"173868\"},\"ticker\":{\"id\":\"173842\"}},\"id\":\"173841\",\"type\":\"LinearAxis\"},{\"attributes\":{\"label\":{\"value\":\"Moyenne de tous les d\\u00e9put\\u00e9s\"},\"renderers\":[{\"id\":\"173862\"}]},\"id\":\"173871\",\"type\":\"LegendItem\"},{\"attributes\":{},\"id\":\"173849\",\"type\":\"ResetTool\"},{\"attributes\":{},\"id\":\"173839\",\"type\":\"CategoricalTicker\"},{\"attributes\":{\"line_alpha\":{\"value\":0.8},\"line_color\":{\"value\":\"red\"},\"line_width\":{\"value\":2},\"x\":{\"field\":\"x\"},\"y\":{\"field\":\"y\"}},\"id\":\"173860\",\"type\":\"Step\"},{\"attributes\":{\"axis\":{\"id\":\"173838\"},\"grid_line_color\":null,\"ticker\":null},\"id\":\"173840\",\"type\":\"Grid\"},{\"attributes\":{\"text\":\"Votes par mois pour Nicole Dubr\\u00e9-Chirat avec 1253 votes\"},\"id\":\"173828\",\"type\":\"Title\"},{\"attributes\":{\"source\":{\"id\":\"173859\"}},\"id\":\"173863\",\"type\":\"CDSView\"},{\"attributes\":{\"start\":0},\"id\":\"173832\",\"type\":\"DataRange1d\"},{\"attributes\":{\"bottom_units\":\"screen\",\"fill_alpha\":0.5,\"fill_color\":\"lightgrey\",\"left_units\":\"screen\",\"level\":\"overlay\",\"line_alpha\":1.0,\"line_color\":\"black\",\"line_dash\":[4,4],\"line_width\":2,\"render_mode\":\"css\",\"right_units\":\"screen\",\"top_units\":\"screen\"},\"id\":\"173851\",\"type\":\"BoxAnnotation\"}],\"root_ids\":[\"173827\"]},\"title\":\"Bokeh Application\",\"version\":\"2.0.1\"}};\n",
       "  var render_items = [{\"docid\":\"ec595300-d71d-4be9-b1e5-779031bf2c0d\",\"root_ids\":[\"173827\"],\"roots\":{\"173827\":\"e7bc8db0-c577-41a0-bc53-d1047ec15b53\"}}];\n",
       "  root.Bokeh.embed.embed_items_notebook(docs_json, render_items);\n",
       "\n",
       "  }\n",
       "  if (root.Bokeh !== undefined) {\n",
       "    embed_document(root);\n",
       "  } else {\n",
       "    var attempts = 0;\n",
       "    var timer = setInterval(function(root) {\n",
       "      if (root.Bokeh !== undefined) {\n",
       "        clearInterval(timer);\n",
       "        embed_document(root);\n",
       "      } else {\n",
       "        attempts++;\n",
       "        if (attempts > 100) {\n",
       "          clearInterval(timer);\n",
       "          console.log(\"Bokeh: ERROR: Unable to run BokehJS code because BokehJS library is missing\");\n",
       "        }\n",
       "      }\n",
       "    }, 10, root)\n",
       "  }\n",
       "})(window);"
      ],
      "application/vnd.bokehjs_exec.v0+json": ""
     },
     "metadata": {
      "application/vnd.bokehjs_exec.v0+json": {
       "id": "173827"
      }
     },
     "output_type": "display_data"
    },
    {
     "data": {
      "text/html": [
       "\n",
       "\n",
       "\n",
       "\n",
       "\n",
       "\n",
       "  <div class=\"bk-root\" id=\"855e7f3f-81e4-425d-a2ba-3b8879b2e37a\" data-root-id=\"175647\"></div>\n"
      ]
     },
     "metadata": {},
     "output_type": "display_data"
    },
    {
     "data": {
      "application/javascript": [
       "(function(root) {\n",
       "  function embed_document(root) {\n",
       "    \n",
       "  var docs_json = {\"e1628bcc-6e81-4d60-b1f0-8feb0cadbe99\":{\"roots\":{\"references\":[{\"attributes\":{\"below\":[{\"id\":\"175658\"}],\"center\":[{\"id\":\"175660\"},{\"id\":\"175664\"},{\"id\":\"175690\"}],\"left\":[{\"id\":\"175661\"}],\"plot_height\":400,\"plot_width\":700,\"renderers\":[{\"id\":\"175682\"},{\"id\":\"175695\"}],\"title\":{\"id\":\"175648\"},\"toolbar\":{\"id\":\"175672\"},\"x_range\":{\"id\":\"175650\"},\"x_scale\":{\"id\":\"175654\"},\"y_range\":{\"id\":\"175652\"},\"y_scale\":{\"id\":\"175656\"}},\"id\":\"175647\",\"subtype\":\"Figure\",\"type\":\"Plot\"},{\"attributes\":{\"axis\":{\"id\":\"175658\"},\"grid_line_color\":null,\"ticker\":null},\"id\":\"175660\",\"type\":\"Grid\"},{\"attributes\":{\"source\":{\"id\":\"175679\"}},\"id\":\"175683\",\"type\":\"CDSView\"},{\"attributes\":{\"start\":0},\"id\":\"175652\",\"type\":\"DataRange1d\"},{\"attributes\":{},\"id\":\"175686\",\"type\":\"CategoricalTickFormatter\"},{\"attributes\":{\"formatter\":{\"id\":\"175686\"},\"major_label_orientation\":\"vertical\",\"ticker\":{\"id\":\"175659\"}},\"id\":\"175658\",\"type\":\"CategoricalAxis\"},{\"attributes\":{},\"id\":\"175688\",\"type\":\"BasicTickFormatter\"},{\"attributes\":{},\"id\":\"175656\",\"type\":\"LinearScale\"},{\"attributes\":{\"items\":[{\"id\":\"175691\"}]},\"id\":\"175690\",\"type\":\"Legend\"},{\"attributes\":{},\"id\":\"175654\",\"type\":\"CategoricalScale\"},{\"attributes\":{\"label\":{\"value\":\"Moyenne de tous les d\\u00e9put\\u00e9s\"},\"renderers\":[{\"id\":\"175682\"}]},\"id\":\"175691\",\"type\":\"LegendItem\"},{\"attributes\":{\"data\":{\"top\":[83,14,6,47,54,16,4,7,12,96,18,169,43,3,26,76,64,29,15,24,40,3,37,13,8,28,94,36,33,16,147,15,4,9,23,21],\"x\":[\"2017-07\",\"2017-08\",\"2017-09\",\"2017-10\",\"2017-11\",\"2017-12\",\"2018-01\",\"2018-02\",\"2018-03\",\"2018-04\",\"2018-05\",\"2018-06\",\"2018-07\",\"2018-08\",\"2018-09\",\"2018-10\",\"2018-11\",\"2018-12\",\"2019-01\",\"2019-02\",\"2019-03\",\"2019-04\",\"2019-05\",\"2019-06\",\"2019-07\",\"2019-09\",\"2019-10\",\"2019-11\",\"2019-12\",\"2020-01\",\"2020-02\",\"2020-03\",\"2020-04\",\"2020-05\",\"2020-06\",\"2020-07\"]},\"selected\":{\"id\":\"177415\"},\"selection_policy\":{\"id\":\"177414\"}},\"id\":\"175692\",\"type\":\"ColumnDataSource\"},{\"attributes\":{},\"id\":\"177412\",\"type\":\"UnionRenderers\"},{\"attributes\":{\"bottom_units\":\"screen\",\"fill_alpha\":0.5,\"fill_color\":\"lightgrey\",\"left_units\":\"screen\",\"level\":\"overlay\",\"line_alpha\":1.0,\"line_color\":\"black\",\"line_dash\":[4,4],\"line_width\":2,\"render_mode\":\"css\",\"right_units\":\"screen\",\"top_units\":\"screen\"},\"id\":\"175671\",\"type\":\"BoxAnnotation\"},{\"attributes\":{\"data_source\":{\"id\":\"175692\"},\"glyph\":{\"id\":\"175693\"},\"hover_glyph\":null,\"muted_glyph\":null,\"nonselection_glyph\":{\"id\":\"175694\"},\"selection_glyph\":null,\"view\":{\"id\":\"175696\"}},\"id\":\"175695\",\"type\":\"GlyphRenderer\"},{\"attributes\":{\"active_drag\":\"auto\",\"active_inspect\":\"auto\",\"active_multi\":null,\"active_scroll\":\"auto\",\"active_tap\":\"auto\",\"tools\":[{\"id\":\"175665\"},{\"id\":\"175666\"},{\"id\":\"175667\"},{\"id\":\"175668\"},{\"id\":\"175669\"},{\"id\":\"175670\"}]},\"id\":\"175672\",\"type\":\"Toolbar\"},{\"attributes\":{\"factors\":[\"2017-07\",\"2017-08\",\"2017-09\",\"2017-10\",\"2017-11\",\"2017-12\",\"2018-01\",\"2018-02\",\"2018-03\",\"2018-04\",\"2018-05\",\"2018-06\",\"2018-07\",\"2018-08\",\"2018-09\",\"2018-10\",\"2018-11\",\"2018-12\",\"2019-01\",\"2019-02\",\"2019-03\",\"2019-04\",\"2019-05\",\"2019-06\",\"2019-07\",\"2019-09\",\"2019-10\",\"2019-11\",\"2019-12\",\"2020-01\",\"2020-02\",\"2020-03\",\"2020-04\",\"2020-05\",\"2020-06\",\"2020-07\"]},\"id\":\"175650\",\"type\":\"FactorRange\"},{\"attributes\":{\"line_alpha\":{\"value\":0.8},\"line_color\":{\"value\":\"red\"},\"line_width\":{\"value\":2},\"x\":{\"field\":\"x\"},\"y\":{\"field\":\"y\"}},\"id\":\"175680\",\"type\":\"Step\"},{\"attributes\":{\"fill_alpha\":{\"value\":0.1},\"fill_color\":{\"value\":\"#1f77b4\"},\"line_alpha\":{\"value\":0.1},\"line_color\":{\"value\":\"#1f77b4\"},\"top\":{\"field\":\"top\"},\"width\":{\"value\":1},\"x\":{\"field\":\"x\"}},\"id\":\"175694\",\"type\":\"VBar\"},{\"attributes\":{\"data\":{\"x\":[\"2017-07\",\"2017-08\",\"2017-09\",\"2017-10\",\"2017-11\",\"2017-12\",\"2018-01\",\"2018-02\",\"2018-03\",\"2018-04\",\"2018-05\",\"2018-06\",\"2018-07\",\"2018-08\",\"2018-09\",\"2018-10\",\"2018-11\",\"2018-12\",\"2019-01\",\"2019-02\",\"2019-03\",\"2019-04\",\"2019-05\",\"2019-06\",\"2019-07\",\"2019-09\",\"2019-10\",\"2019-11\",\"2019-12\",\"2020-01\",\"2020-02\",\"2020-03\",\"2020-04\",\"2020-05\",\"2020-06\",\"2020-07\"],\"y\":[33.831889081455806,7.630849220103986,3.766031195840555,18.441941074523395,16.75216637781629,6.289428076256499,5.1871750433275565,6.15944540727903,5.696707105719238,30.221837088388217,27.37261698440208,30.492201039861353,22.890814558058924,1.0190641247833623,7.864818024263432,23.648180242634314,21.504332755632582,18.12305025996534,8.273830155979203,8.875216637781628,13.807625649913344,3.7417677642980935,11.109185441941074,9.719237435008665,8.984402079722704,7.247833622183709,20.97573656845754,11.1369150779896,11.726169844020797,3.9376083188908146,47.80762564991335,8.675909878682843,3.9740034662045063,8.646447140381282,15.552859618717504,3.3518197573656847]},\"selected\":{\"id\":\"177413\"},\"selection_policy\":{\"id\":\"177412\"}},\"id\":\"175679\",\"type\":\"ColumnDataSource\"},{\"attributes\":{\"data_source\":{\"id\":\"175679\"},\"glyph\":{\"id\":\"175680\"},\"hover_glyph\":null,\"muted_glyph\":null,\"nonselection_glyph\":{\"id\":\"175681\"},\"selection_glyph\":null,\"view\":{\"id\":\"175683\"}},\"id\":\"175682\",\"type\":\"GlyphRenderer\"},{\"attributes\":{\"source\":{\"id\":\"175692\"}},\"id\":\"175696\",\"type\":\"CDSView\"},{\"attributes\":{\"fill_alpha\":{\"value\":0.5},\"fill_color\":{\"value\":\"#1f77b4\"},\"line_alpha\":{\"value\":0.5},\"line_color\":{\"value\":\"#1f77b4\"},\"top\":{\"field\":\"top\"},\"width\":{\"value\":1},\"x\":{\"field\":\"x\"}},\"id\":\"175693\",\"type\":\"VBar\"},{\"attributes\":{\"line_alpha\":{\"value\":0.1},\"line_color\":{\"value\":\"red\"},\"line_width\":{\"value\":2},\"x\":{\"field\":\"x\"},\"y\":{\"field\":\"y\"}},\"id\":\"175681\",\"type\":\"Step\"},{\"attributes\":{},\"id\":\"177413\",\"type\":\"Selection\"},{\"attributes\":{},\"id\":\"175665\",\"type\":\"PanTool\"},{\"attributes\":{},\"id\":\"177414\",\"type\":\"UnionRenderers\"},{\"attributes\":{},\"id\":\"175666\",\"type\":\"WheelZoomTool\"},{\"attributes\":{\"text\":\"Votes par mois pour Alain Ramadier avec 1333 votes\"},\"id\":\"175648\",\"type\":\"Title\"},{\"attributes\":{},\"id\":\"177415\",\"type\":\"Selection\"},{\"attributes\":{\"overlay\":{\"id\":\"175671\"}},\"id\":\"175667\",\"type\":\"BoxZoomTool\"},{\"attributes\":{\"axis\":{\"id\":\"175661\"},\"dimension\":1,\"grid_line_color\":null,\"ticker\":null},\"id\":\"175664\",\"type\":\"Grid\"},{\"attributes\":{},\"id\":\"175668\",\"type\":\"SaveTool\"},{\"attributes\":{},\"id\":\"175662\",\"type\":\"BasicTicker\"},{\"attributes\":{},\"id\":\"175669\",\"type\":\"ResetTool\"},{\"attributes\":{\"formatter\":{\"id\":\"175688\"},\"ticker\":{\"id\":\"175662\"}},\"id\":\"175661\",\"type\":\"LinearAxis\"},{\"attributes\":{},\"id\":\"175670\",\"type\":\"HelpTool\"},{\"attributes\":{},\"id\":\"175659\",\"type\":\"CategoricalTicker\"}],\"root_ids\":[\"175647\"]},\"title\":\"Bokeh Application\",\"version\":\"2.0.1\"}};\n",
       "  var render_items = [{\"docid\":\"e1628bcc-6e81-4d60-b1f0-8feb0cadbe99\",\"root_ids\":[\"175647\"],\"roots\":{\"175647\":\"855e7f3f-81e4-425d-a2ba-3b8879b2e37a\"}}];\n",
       "  root.Bokeh.embed.embed_items_notebook(docs_json, render_items);\n",
       "\n",
       "  }\n",
       "  if (root.Bokeh !== undefined) {\n",
       "    embed_document(root);\n",
       "  } else {\n",
       "    var attempts = 0;\n",
       "    var timer = setInterval(function(root) {\n",
       "      if (root.Bokeh !== undefined) {\n",
       "        clearInterval(timer);\n",
       "        embed_document(root);\n",
       "      } else {\n",
       "        attempts++;\n",
       "        if (attempts > 100) {\n",
       "          clearInterval(timer);\n",
       "          console.log(\"Bokeh: ERROR: Unable to run BokehJS code because BokehJS library is missing\");\n",
       "        }\n",
       "      }\n",
       "    }, 10, root)\n",
       "  }\n",
       "})(window);"
      ],
      "application/vnd.bokehjs_exec.v0+json": ""
     },
     "metadata": {
      "application/vnd.bokehjs_exec.v0+json": {
       "id": "175647"
      }
     },
     "output_type": "display_data"
    },
    {
     "data": {
      "text/html": [
       "\n",
       "\n",
       "\n",
       "\n",
       "\n",
       "\n",
       "  <div class=\"bk-root\" id=\"0ed676c0-8b0b-4d98-bc2a-6f08384dc377\" data-root-id=\"177477\"></div>\n"
      ]
     },
     "metadata": {},
     "output_type": "display_data"
    },
    {
     "data": {
      "application/javascript": [
       "(function(root) {\n",
       "  function embed_document(root) {\n",
       "    \n",
       "  var docs_json = {\"4e539962-b3f3-4fc5-99a5-70e42adf236e\":{\"roots\":{\"references\":[{\"attributes\":{\"below\":[{\"id\":\"177488\"}],\"center\":[{\"id\":\"177490\"},{\"id\":\"177494\"},{\"id\":\"177520\"}],\"left\":[{\"id\":\"177491\"}],\"plot_height\":400,\"plot_width\":700,\"renderers\":[{\"id\":\"177512\"},{\"id\":\"177525\"}],\"title\":{\"id\":\"177478\"},\"toolbar\":{\"id\":\"177502\"},\"x_range\":{\"id\":\"177480\"},\"x_scale\":{\"id\":\"177484\"},\"y_range\":{\"id\":\"177482\"},\"y_scale\":{\"id\":\"177486\"}},\"id\":\"177477\",\"subtype\":\"Figure\",\"type\":\"Plot\"},{\"attributes\":{},\"id\":\"177516\",\"type\":\"CategoricalTickFormatter\"},{\"attributes\":{\"factors\":[\"2017-07\",\"2017-08\",\"2017-09\",\"2017-10\",\"2017-11\",\"2017-12\",\"2018-01\",\"2018-02\",\"2018-03\",\"2018-04\",\"2018-05\",\"2018-06\",\"2018-07\",\"2018-08\",\"2018-09\",\"2018-10\",\"2018-11\",\"2018-12\",\"2019-01\",\"2019-02\",\"2019-03\",\"2019-04\",\"2019-05\",\"2019-06\",\"2019-07\",\"2019-09\",\"2019-10\",\"2019-11\",\"2019-12\",\"2020-01\",\"2020-02\",\"2020-03\",\"2020-04\",\"2020-05\",\"2020-06\",\"2020-07\"]},\"id\":\"177480\",\"type\":\"FactorRange\"},{\"attributes\":{\"label\":{\"value\":\"Moyenne de tous les d\\u00e9put\\u00e9s\"},\"renderers\":[{\"id\":\"177512\"}]},\"id\":\"177521\",\"type\":\"LegendItem\"},{\"attributes\":{\"axis\":{\"id\":\"177491\"},\"dimension\":1,\"grid_line_color\":null,\"ticker\":null},\"id\":\"177494\",\"type\":\"Grid\"},{\"attributes\":{},\"id\":\"177492\",\"type\":\"BasicTicker\"},{\"attributes\":{\"formatter\":{\"id\":\"177518\"},\"ticker\":{\"id\":\"177492\"}},\"id\":\"177491\",\"type\":\"LinearAxis\"},{\"attributes\":{\"data_source\":{\"id\":\"177509\"},\"glyph\":{\"id\":\"177510\"},\"hover_glyph\":null,\"muted_glyph\":null,\"nonselection_glyph\":{\"id\":\"177511\"},\"selection_glyph\":null,\"view\":{\"id\":\"177513\"}},\"id\":\"177512\",\"type\":\"GlyphRenderer\"},{\"attributes\":{},\"id\":\"177489\",\"type\":\"CategoricalTicker\"},{\"attributes\":{},\"id\":\"177500\",\"type\":\"HelpTool\"},{\"attributes\":{\"axis\":{\"id\":\"177488\"},\"grid_line_color\":null,\"ticker\":null},\"id\":\"177490\",\"type\":\"Grid\"},{\"attributes\":{\"data\":{\"top\":[91,13,10,57,42,17,13,14,14,88,118,116,67,0,34,99,84,53,33,40,71,12,57,22,22,11,83,35,24,3,12,6,4,9,19,0],\"x\":[\"2017-07\",\"2017-08\",\"2017-09\",\"2017-10\",\"2017-11\",\"2017-12\",\"2018-01\",\"2018-02\",\"2018-03\",\"2018-04\",\"2018-05\",\"2018-06\",\"2018-07\",\"2018-08\",\"2018-09\",\"2018-10\",\"2018-11\",\"2018-12\",\"2019-01\",\"2019-02\",\"2019-03\",\"2019-04\",\"2019-05\",\"2019-06\",\"2019-07\",\"2019-09\",\"2019-10\",\"2019-11\",\"2019-12\",\"2020-01\",\"2020-02\",\"2020-03\",\"2020-04\",\"2020-05\",\"2020-06\",\"2020-07\"]},\"selected\":{\"id\":\"179255\"},\"selection_policy\":{\"id\":\"179254\"}},\"id\":\"177522\",\"type\":\"ColumnDataSource\"},{\"attributes\":{\"start\":0},\"id\":\"177482\",\"type\":\"DataRange1d\"},{\"attributes\":{\"items\":[{\"id\":\"177521\"}]},\"id\":\"177520\",\"type\":\"Legend\"},{\"attributes\":{\"data_source\":{\"id\":\"177522\"},\"glyph\":{\"id\":\"177523\"},\"hover_glyph\":null,\"muted_glyph\":null,\"nonselection_glyph\":{\"id\":\"177524\"},\"selection_glyph\":null,\"view\":{\"id\":\"177526\"}},\"id\":\"177525\",\"type\":\"GlyphRenderer\"},{\"attributes\":{\"formatter\":{\"id\":\"177516\"},\"major_label_orientation\":\"vertical\",\"ticker\":{\"id\":\"177489\"}},\"id\":\"177488\",\"type\":\"CategoricalAxis\"},{\"attributes\":{\"fill_alpha\":{\"value\":0.1},\"fill_color\":{\"value\":\"#1f77b4\"},\"line_alpha\":{\"value\":0.1},\"line_color\":{\"value\":\"#1f77b4\"},\"top\":{\"field\":\"top\"},\"width\":{\"value\":1},\"x\":{\"field\":\"x\"}},\"id\":\"177524\",\"type\":\"VBar\"},{\"attributes\":{\"source\":{\"id\":\"177509\"}},\"id\":\"177513\",\"type\":\"CDSView\"},{\"attributes\":{},\"id\":\"177518\",\"type\":\"BasicTickFormatter\"},{\"attributes\":{\"source\":{\"id\":\"177522\"}},\"id\":\"177526\",\"type\":\"CDSView\"},{\"attributes\":{},\"id\":\"177486\",\"type\":\"LinearScale\"},{\"attributes\":{\"bottom_units\":\"screen\",\"fill_alpha\":0.5,\"fill_color\":\"lightgrey\",\"left_units\":\"screen\",\"level\":\"overlay\",\"line_alpha\":1.0,\"line_color\":\"black\",\"line_dash\":[4,4],\"line_width\":2,\"render_mode\":\"css\",\"right_units\":\"screen\",\"top_units\":\"screen\"},\"id\":\"177501\",\"type\":\"BoxAnnotation\"},{\"attributes\":{},\"id\":\"177484\",\"type\":\"CategoricalScale\"},{\"attributes\":{},\"id\":\"179252\",\"type\":\"UnionRenderers\"},{\"attributes\":{\"fill_alpha\":{\"value\":0.5},\"fill_color\":{\"value\":\"#1f77b4\"},\"line_alpha\":{\"value\":0.5},\"line_color\":{\"value\":\"#1f77b4\"},\"top\":{\"field\":\"top\"},\"width\":{\"value\":1},\"x\":{\"field\":\"x\"}},\"id\":\"177523\",\"type\":\"VBar\"},{\"attributes\":{\"active_drag\":\"auto\",\"active_inspect\":\"auto\",\"active_multi\":null,\"active_scroll\":\"auto\",\"active_tap\":\"auto\",\"tools\":[{\"id\":\"177495\"},{\"id\":\"177496\"},{\"id\":\"177497\"},{\"id\":\"177498\"},{\"id\":\"177499\"},{\"id\":\"177500\"}]},\"id\":\"177502\",\"type\":\"Toolbar\"},{\"attributes\":{},\"id\":\"179253\",\"type\":\"Selection\"},{\"attributes\":{\"text\":\"Votes par mois pour Gilles Lurton avec 1393 votes\"},\"id\":\"177478\",\"type\":\"Title\"},{\"attributes\":{},\"id\":\"179254\",\"type\":\"UnionRenderers\"},{\"attributes\":{},\"id\":\"177495\",\"type\":\"PanTool\"},{\"attributes\":{},\"id\":\"179255\",\"type\":\"Selection\"},{\"attributes\":{\"line_alpha\":{\"value\":0.1},\"line_color\":{\"value\":\"red\"},\"line_width\":{\"value\":2},\"x\":{\"field\":\"x\"},\"y\":{\"field\":\"y\"}},\"id\":\"177511\",\"type\":\"Step\"},{\"attributes\":{\"data\":{\"x\":[\"2017-07\",\"2017-08\",\"2017-09\",\"2017-10\",\"2017-11\",\"2017-12\",\"2018-01\",\"2018-02\",\"2018-03\",\"2018-04\",\"2018-05\",\"2018-06\",\"2018-07\",\"2018-08\",\"2018-09\",\"2018-10\",\"2018-11\",\"2018-12\",\"2019-01\",\"2019-02\",\"2019-03\",\"2019-04\",\"2019-05\",\"2019-06\",\"2019-07\",\"2019-09\",\"2019-10\",\"2019-11\",\"2019-12\",\"2020-01\",\"2020-02\",\"2020-03\",\"2020-04\",\"2020-05\",\"2020-06\",\"2020-07\"],\"y\":[33.831889081455806,7.630849220103986,3.766031195840555,18.441941074523395,16.75216637781629,6.289428076256499,5.1871750433275565,6.15944540727903,5.696707105719238,30.221837088388217,27.37261698440208,30.492201039861353,22.890814558058924,1.0190641247833623,7.864818024263432,23.648180242634314,21.504332755632582,18.12305025996534,8.273830155979203,8.875216637781628,13.807625649913344,3.7417677642980935,11.109185441941074,9.719237435008665,8.984402079722704,7.247833622183709,20.97573656845754,11.1369150779896,11.726169844020797,3.9376083188908146,47.80762564991335,8.675909878682843,3.9740034662045063,8.646447140381282,15.552859618717504,3.3518197573656847]},\"selected\":{\"id\":\"179253\"},\"selection_policy\":{\"id\":\"179252\"}},\"id\":\"177509\",\"type\":\"ColumnDataSource\"},{\"attributes\":{},\"id\":\"177499\",\"type\":\"ResetTool\"},{\"attributes\":{\"overlay\":{\"id\":\"177501\"}},\"id\":\"177497\",\"type\":\"BoxZoomTool\"},{\"attributes\":{\"line_alpha\":{\"value\":0.8},\"line_color\":{\"value\":\"red\"},\"line_width\":{\"value\":2},\"x\":{\"field\":\"x\"},\"y\":{\"field\":\"y\"}},\"id\":\"177510\",\"type\":\"Step\"},{\"attributes\":{},\"id\":\"177496\",\"type\":\"WheelZoomTool\"},{\"attributes\":{},\"id\":\"177498\",\"type\":\"SaveTool\"}],\"root_ids\":[\"177477\"]},\"title\":\"Bokeh Application\",\"version\":\"2.0.1\"}};\n",
       "  var render_items = [{\"docid\":\"4e539962-b3f3-4fc5-99a5-70e42adf236e\",\"root_ids\":[\"177477\"],\"roots\":{\"177477\":\"0ed676c0-8b0b-4d98-bc2a-6f08384dc377\"}}];\n",
       "  root.Bokeh.embed.embed_items_notebook(docs_json, render_items);\n",
       "\n",
       "  }\n",
       "  if (root.Bokeh !== undefined) {\n",
       "    embed_document(root);\n",
       "  } else {\n",
       "    var attempts = 0;\n",
       "    var timer = setInterval(function(root) {\n",
       "      if (root.Bokeh !== undefined) {\n",
       "        clearInterval(timer);\n",
       "        embed_document(root);\n",
       "      } else {\n",
       "        attempts++;\n",
       "        if (attempts > 100) {\n",
       "          clearInterval(timer);\n",
       "          console.log(\"Bokeh: ERROR: Unable to run BokehJS code because BokehJS library is missing\");\n",
       "        }\n",
       "      }\n",
       "    }, 10, root)\n",
       "  }\n",
       "})(window);"
      ],
      "application/vnd.bokehjs_exec.v0+json": ""
     },
     "metadata": {
      "application/vnd.bokehjs_exec.v0+json": {
       "id": "177477"
      }
     },
     "output_type": "display_data"
    },
    {
     "data": {
      "text/html": [
       "\n",
       "\n",
       "\n",
       "\n",
       "\n",
       "\n",
       "  <div class=\"bk-root\" id=\"40a4f9dd-3a8d-4778-9d33-a85bd6f62d27\" data-root-id=\"179317\"></div>\n"
      ]
     },
     "metadata": {},
     "output_type": "display_data"
    },
    {
     "data": {
      "application/javascript": [
       "(function(root) {\n",
       "  function embed_document(root) {\n",
       "    \n",
       "  var docs_json = {\"ed5011da-bff9-45ef-88ca-a8fed2b37570\":{\"roots\":{\"references\":[{\"attributes\":{\"below\":[{\"id\":\"179328\"}],\"center\":[{\"id\":\"179330\"},{\"id\":\"179334\"},{\"id\":\"179360\"}],\"left\":[{\"id\":\"179331\"}],\"plot_height\":400,\"plot_width\":700,\"renderers\":[{\"id\":\"179352\"},{\"id\":\"179365\"}],\"title\":{\"id\":\"179318\"},\"toolbar\":{\"id\":\"179342\"},\"x_range\":{\"id\":\"179320\"},\"x_scale\":{\"id\":\"179324\"},\"y_range\":{\"id\":\"179322\"},\"y_scale\":{\"id\":\"179326\"}},\"id\":\"179317\",\"subtype\":\"Figure\",\"type\":\"Plot\"},{\"attributes\":{},\"id\":\"181103\",\"type\":\"Selection\"},{\"attributes\":{\"text\":\"Votes par mois pour Cendra Motin avec 1444 votes\"},\"id\":\"179318\",\"type\":\"Title\"},{\"attributes\":{},\"id\":\"181104\",\"type\":\"UnionRenderers\"},{\"attributes\":{\"active_drag\":\"auto\",\"active_inspect\":\"auto\",\"active_multi\":null,\"active_scroll\":\"auto\",\"active_tap\":\"auto\",\"tools\":[{\"id\":\"179335\"},{\"id\":\"179336\"},{\"id\":\"179337\"},{\"id\":\"179338\"},{\"id\":\"179339\"},{\"id\":\"179340\"}]},\"id\":\"179342\",\"type\":\"Toolbar\"},{\"attributes\":{\"axis\":{\"id\":\"179331\"},\"dimension\":1,\"grid_line_color\":null,\"ticker\":null},\"id\":\"179334\",\"type\":\"Grid\"},{\"attributes\":{},\"id\":\"181105\",\"type\":\"Selection\"},{\"attributes\":{},\"id\":\"179332\",\"type\":\"BasicTicker\"},{\"attributes\":{\"formatter\":{\"id\":\"179358\"},\"ticker\":{\"id\":\"179332\"}},\"id\":\"179331\",\"type\":\"LinearAxis\"},{\"attributes\":{\"bottom_units\":\"screen\",\"fill_alpha\":0.5,\"fill_color\":\"lightgrey\",\"left_units\":\"screen\",\"level\":\"overlay\",\"line_alpha\":1.0,\"line_color\":\"black\",\"line_dash\":[4,4],\"line_width\":2,\"render_mode\":\"css\",\"right_units\":\"screen\",\"top_units\":\"screen\"},\"id\":\"179341\",\"type\":\"BoxAnnotation\"},{\"attributes\":{},\"id\":\"179329\",\"type\":\"CategoricalTicker\"},{\"attributes\":{\"axis\":{\"id\":\"179328\"},\"grid_line_color\":null,\"ticker\":null},\"id\":\"179330\",\"type\":\"Grid\"},{\"attributes\":{\"start\":0},\"id\":\"179322\",\"type\":\"DataRange1d\"},{\"attributes\":{\"data_source\":{\"id\":\"179349\"},\"glyph\":{\"id\":\"179350\"},\"hover_glyph\":null,\"muted_glyph\":null,\"nonselection_glyph\":{\"id\":\"179351\"},\"selection_glyph\":null,\"view\":{\"id\":\"179353\"}},\"id\":\"179352\",\"type\":\"GlyphRenderer\"},{\"attributes\":{\"source\":{\"id\":\"179349\"}},\"id\":\"179353\",\"type\":\"CDSView\"},{\"attributes\":{\"formatter\":{\"id\":\"179356\"},\"major_label_orientation\":\"vertical\",\"ticker\":{\"id\":\"179329\"}},\"id\":\"179328\",\"type\":\"CategoricalAxis\"},{\"attributes\":{},\"id\":\"179356\",\"type\":\"CategoricalTickFormatter\"},{\"attributes\":{},\"id\":\"179326\",\"type\":\"LinearScale\"},{\"attributes\":{},\"id\":\"179358\",\"type\":\"BasicTickFormatter\"},{\"attributes\":{},\"id\":\"179324\",\"type\":\"CategoricalScale\"},{\"attributes\":{\"items\":[{\"id\":\"179361\"}]},\"id\":\"179360\",\"type\":\"Legend\"},{\"attributes\":{\"factors\":[\"2017-07\",\"2017-08\",\"2017-09\",\"2017-10\",\"2017-11\",\"2017-12\",\"2018-01\",\"2018-02\",\"2018-03\",\"2018-04\",\"2018-05\",\"2018-06\",\"2018-07\",\"2018-08\",\"2018-09\",\"2018-10\",\"2018-11\",\"2018-12\",\"2019-01\",\"2019-02\",\"2019-03\",\"2019-04\",\"2019-05\",\"2019-06\",\"2019-07\",\"2019-09\",\"2019-10\",\"2019-11\",\"2019-12\",\"2020-01\",\"2020-02\",\"2020-03\",\"2020-04\",\"2020-05\",\"2020-06\",\"2020-07\"]},\"id\":\"179320\",\"type\":\"FactorRange\"},{\"attributes\":{},\"id\":\"179340\",\"type\":\"HelpTool\"},{\"attributes\":{\"label\":{\"value\":\"Moyenne de tous les d\\u00e9put\\u00e9s\"},\"renderers\":[{\"id\":\"179352\"}]},\"id\":\"179361\",\"type\":\"LegendItem\"},{\"attributes\":{},\"id\":\"181102\",\"type\":\"UnionRenderers\"},{\"attributes\":{\"data\":{\"top\":[58,8,3,43,52,25,19,8,11,103,62,24,68,4,32,105,72,49,4,6,60,17,40,27,28,24,97,54,40,11,201,30,4,9,20,26],\"x\":[\"2017-07\",\"2017-08\",\"2017-09\",\"2017-10\",\"2017-11\",\"2017-12\",\"2018-01\",\"2018-02\",\"2018-03\",\"2018-04\",\"2018-05\",\"2018-06\",\"2018-07\",\"2018-08\",\"2018-09\",\"2018-10\",\"2018-11\",\"2018-12\",\"2019-01\",\"2019-02\",\"2019-03\",\"2019-04\",\"2019-05\",\"2019-06\",\"2019-07\",\"2019-09\",\"2019-10\",\"2019-11\",\"2019-12\",\"2020-01\",\"2020-02\",\"2020-03\",\"2020-04\",\"2020-05\",\"2020-06\",\"2020-07\"]},\"selected\":{\"id\":\"181105\"},\"selection_policy\":{\"id\":\"181104\"}},\"id\":\"179362\",\"type\":\"ColumnDataSource\"},{\"attributes\":{\"data_source\":{\"id\":\"179362\"},\"glyph\":{\"id\":\"179363\"},\"hover_glyph\":null,\"muted_glyph\":null,\"nonselection_glyph\":{\"id\":\"179364\"},\"selection_glyph\":null,\"view\":{\"id\":\"179366\"}},\"id\":\"179365\",\"type\":\"GlyphRenderer\"},{\"attributes\":{\"line_alpha\":{\"value\":0.1},\"line_color\":{\"value\":\"red\"},\"line_width\":{\"value\":2},\"x\":{\"field\":\"x\"},\"y\":{\"field\":\"y\"}},\"id\":\"179351\",\"type\":\"Step\"},{\"attributes\":{\"line_alpha\":{\"value\":0.8},\"line_color\":{\"value\":\"red\"},\"line_width\":{\"value\":2},\"x\":{\"field\":\"x\"},\"y\":{\"field\":\"y\"}},\"id\":\"179350\",\"type\":\"Step\"},{\"attributes\":{\"data\":{\"x\":[\"2017-07\",\"2017-08\",\"2017-09\",\"2017-10\",\"2017-11\",\"2017-12\",\"2018-01\",\"2018-02\",\"2018-03\",\"2018-04\",\"2018-05\",\"2018-06\",\"2018-07\",\"2018-08\",\"2018-09\",\"2018-10\",\"2018-11\",\"2018-12\",\"2019-01\",\"2019-02\",\"2019-03\",\"2019-04\",\"2019-05\",\"2019-06\",\"2019-07\",\"2019-09\",\"2019-10\",\"2019-11\",\"2019-12\",\"2020-01\",\"2020-02\",\"2020-03\",\"2020-04\",\"2020-05\",\"2020-06\",\"2020-07\"],\"y\":[33.831889081455806,7.630849220103986,3.766031195840555,18.441941074523395,16.75216637781629,6.289428076256499,5.1871750433275565,6.15944540727903,5.696707105719238,30.221837088388217,27.37261698440208,30.492201039861353,22.890814558058924,1.0190641247833623,7.864818024263432,23.648180242634314,21.504332755632582,18.12305025996534,8.273830155979203,8.875216637781628,13.807625649913344,3.7417677642980935,11.109185441941074,9.719237435008665,8.984402079722704,7.247833622183709,20.97573656845754,11.1369150779896,11.726169844020797,3.9376083188908146,47.80762564991335,8.675909878682843,3.9740034662045063,8.646447140381282,15.552859618717504,3.3518197573656847]},\"selected\":{\"id\":\"181103\"},\"selection_policy\":{\"id\":\"181102\"}},\"id\":\"179349\",\"type\":\"ColumnDataSource\"},{\"attributes\":{\"fill_alpha\":{\"value\":0.1},\"fill_color\":{\"value\":\"#1f77b4\"},\"line_alpha\":{\"value\":0.1},\"line_color\":{\"value\":\"#1f77b4\"},\"top\":{\"field\":\"top\"},\"width\":{\"value\":1},\"x\":{\"field\":\"x\"}},\"id\":\"179364\",\"type\":\"VBar\"},{\"attributes\":{},\"id\":\"179335\",\"type\":\"PanTool\"},{\"attributes\":{},\"id\":\"179339\",\"type\":\"ResetTool\"},{\"attributes\":{\"source\":{\"id\":\"179362\"}},\"id\":\"179366\",\"type\":\"CDSView\"},{\"attributes\":{},\"id\":\"179338\",\"type\":\"SaveTool\"},{\"attributes\":{\"fill_alpha\":{\"value\":0.5},\"fill_color\":{\"value\":\"#1f77b4\"},\"line_alpha\":{\"value\":0.5},\"line_color\":{\"value\":\"#1f77b4\"},\"top\":{\"field\":\"top\"},\"width\":{\"value\":1},\"x\":{\"field\":\"x\"}},\"id\":\"179363\",\"type\":\"VBar\"},{\"attributes\":{},\"id\":\"179336\",\"type\":\"WheelZoomTool\"},{\"attributes\":{\"overlay\":{\"id\":\"179341\"}},\"id\":\"179337\",\"type\":\"BoxZoomTool\"}],\"root_ids\":[\"179317\"]},\"title\":\"Bokeh Application\",\"version\":\"2.0.1\"}};\n",
       "  var render_items = [{\"docid\":\"ed5011da-bff9-45ef-88ca-a8fed2b37570\",\"root_ids\":[\"179317\"],\"roots\":{\"179317\":\"40a4f9dd-3a8d-4778-9d33-a85bd6f62d27\"}}];\n",
       "  root.Bokeh.embed.embed_items_notebook(docs_json, render_items);\n",
       "\n",
       "  }\n",
       "  if (root.Bokeh !== undefined) {\n",
       "    embed_document(root);\n",
       "  } else {\n",
       "    var attempts = 0;\n",
       "    var timer = setInterval(function(root) {\n",
       "      if (root.Bokeh !== undefined) {\n",
       "        clearInterval(timer);\n",
       "        embed_document(root);\n",
       "      } else {\n",
       "        attempts++;\n",
       "        if (attempts > 100) {\n",
       "          clearInterval(timer);\n",
       "          console.log(\"Bokeh: ERROR: Unable to run BokehJS code because BokehJS library is missing\");\n",
       "        }\n",
       "      }\n",
       "    }, 10, root)\n",
       "  }\n",
       "})(window);"
      ],
      "application/vnd.bokehjs_exec.v0+json": ""
     },
     "metadata": {
      "application/vnd.bokehjs_exec.v0+json": {
       "id": "179317"
      }
     },
     "output_type": "display_data"
    },
    {
     "data": {
      "text/html": [
       "\n",
       "\n",
       "\n",
       "\n",
       "\n",
       "\n",
       "  <div class=\"bk-root\" id=\"0ebe8f7b-0f93-4714-90f6-2c38d04d9799\" data-root-id=\"181167\"></div>\n"
      ]
     },
     "metadata": {},
     "output_type": "display_data"
    },
    {
     "data": {
      "application/javascript": [
       "(function(root) {\n",
       "  function embed_document(root) {\n",
       "    \n",
       "  var docs_json = {\"ec723fd9-322e-4018-a489-f8d32f07d101\":{\"roots\":{\"references\":[{\"attributes\":{\"below\":[{\"id\":\"181178\"}],\"center\":[{\"id\":\"181180\"},{\"id\":\"181184\"},{\"id\":\"181210\"}],\"left\":[{\"id\":\"181181\"}],\"plot_height\":400,\"plot_width\":700,\"renderers\":[{\"id\":\"181202\"},{\"id\":\"181215\"}],\"title\":{\"id\":\"181168\"},\"toolbar\":{\"id\":\"181192\"},\"x_range\":{\"id\":\"181170\"},\"x_scale\":{\"id\":\"181174\"},\"y_range\":{\"id\":\"181172\"},\"y_scale\":{\"id\":\"181176\"}},\"id\":\"181167\",\"subtype\":\"Figure\",\"type\":\"Plot\"},{\"attributes\":{\"fill_alpha\":{\"value\":0.1},\"fill_color\":{\"value\":\"#1f77b4\"},\"line_alpha\":{\"value\":0.1},\"line_color\":{\"value\":\"#1f77b4\"},\"top\":{\"field\":\"top\"},\"width\":{\"value\":1},\"x\":{\"field\":\"x\"}},\"id\":\"181214\",\"type\":\"VBar\"},{\"attributes\":{},\"id\":\"181185\",\"type\":\"PanTool\"},{\"attributes\":{\"source\":{\"id\":\"181212\"}},\"id\":\"181216\",\"type\":\"CDSView\"},{\"attributes\":{},\"id\":\"181188\",\"type\":\"SaveTool\"},{\"attributes\":{\"fill_alpha\":{\"value\":0.5},\"fill_color\":{\"value\":\"#1f77b4\"},\"line_alpha\":{\"value\":0.5},\"line_color\":{\"value\":\"#1f77b4\"},\"top\":{\"field\":\"top\"},\"width\":{\"value\":1},\"x\":{\"field\":\"x\"}},\"id\":\"181213\",\"type\":\"VBar\"},{\"attributes\":{},\"id\":\"181189\",\"type\":\"ResetTool\"},{\"attributes\":{},\"id\":\"181190\",\"type\":\"HelpTool\"},{\"attributes\":{},\"id\":\"181186\",\"type\":\"WheelZoomTool\"},{\"attributes\":{\"factors\":[\"2017-07\",\"2017-08\",\"2017-09\",\"2017-10\",\"2017-11\",\"2017-12\",\"2018-01\",\"2018-02\",\"2018-03\",\"2018-04\",\"2018-05\",\"2018-06\",\"2018-07\",\"2018-08\",\"2018-09\",\"2018-10\",\"2018-11\",\"2018-12\",\"2019-01\",\"2019-02\",\"2019-03\",\"2019-04\",\"2019-05\",\"2019-06\",\"2019-07\",\"2019-09\",\"2019-10\",\"2019-11\",\"2019-12\",\"2020-01\",\"2020-02\",\"2020-03\",\"2020-04\",\"2020-05\",\"2020-06\",\"2020-07\"]},\"id\":\"181170\",\"type\":\"FactorRange\"},{\"attributes\":{},\"id\":\"182964\",\"type\":\"UnionRenderers\"},{\"attributes\":{\"active_drag\":\"auto\",\"active_inspect\":\"auto\",\"active_multi\":null,\"active_scroll\":\"auto\",\"active_tap\":\"auto\",\"tools\":[{\"id\":\"181185\"},{\"id\":\"181186\"},{\"id\":\"181187\"},{\"id\":\"181188\"},{\"id\":\"181189\"},{\"id\":\"181190\"}]},\"id\":\"181192\",\"type\":\"Toolbar\"},{\"attributes\":{\"axis\":{\"id\":\"181181\"},\"dimension\":1,\"grid_line_color\":null,\"ticker\":null},\"id\":\"181184\",\"type\":\"Grid\"},{\"attributes\":{},\"id\":\"182965\",\"type\":\"Selection\"},{\"attributes\":{},\"id\":\"181182\",\"type\":\"BasicTicker\"},{\"attributes\":{\"overlay\":{\"id\":\"181191\"}},\"id\":\"181187\",\"type\":\"BoxZoomTool\"},{\"attributes\":{\"formatter\":{\"id\":\"181208\"},\"ticker\":{\"id\":\"181182\"}},\"id\":\"181181\",\"type\":\"LinearAxis\"},{\"attributes\":{\"bottom_units\":\"screen\",\"fill_alpha\":0.5,\"fill_color\":\"lightgrey\",\"left_units\":\"screen\",\"level\":\"overlay\",\"line_alpha\":1.0,\"line_color\":\"black\",\"line_dash\":[4,4],\"line_width\":2,\"render_mode\":\"css\",\"right_units\":\"screen\",\"top_units\":\"screen\"},\"id\":\"181191\",\"type\":\"BoxAnnotation\"},{\"attributes\":{},\"id\":\"181179\",\"type\":\"CategoricalTicker\"},{\"attributes\":{\"axis\":{\"id\":\"181178\"},\"grid_line_color\":null,\"ticker\":null},\"id\":\"181180\",\"type\":\"Grid\"},{\"attributes\":{\"start\":0},\"id\":\"181172\",\"type\":\"DataRange1d\"},{\"attributes\":{\"data_source\":{\"id\":\"181199\"},\"glyph\":{\"id\":\"181200\"},\"hover_glyph\":null,\"muted_glyph\":null,\"nonselection_glyph\":{\"id\":\"181201\"},\"selection_glyph\":null,\"view\":{\"id\":\"181203\"}},\"id\":\"181202\",\"type\":\"GlyphRenderer\"},{\"attributes\":{\"source\":{\"id\":\"181199\"}},\"id\":\"181203\",\"type\":\"CDSView\"},{\"attributes\":{\"formatter\":{\"id\":\"181206\"},\"major_label_orientation\":\"vertical\",\"ticker\":{\"id\":\"181179\"}},\"id\":\"181178\",\"type\":\"CategoricalAxis\"},{\"attributes\":{},\"id\":\"181206\",\"type\":\"CategoricalTickFormatter\"},{\"attributes\":{},\"id\":\"181176\",\"type\":\"LinearScale\"},{\"attributes\":{},\"id\":\"181208\",\"type\":\"BasicTickFormatter\"},{\"attributes\":{},\"id\":\"181174\",\"type\":\"CategoricalScale\"},{\"attributes\":{\"items\":[{\"id\":\"181211\"}]},\"id\":\"181210\",\"type\":\"Legend\"},{\"attributes\":{\"text\":\"Votes par mois pour Emmanuelle M\\u00e9nard avec 1851 votes\"},\"id\":\"181168\",\"type\":\"Title\"},{\"attributes\":{\"label\":{\"value\":\"Moyenne de tous les d\\u00e9put\\u00e9s\"},\"renderers\":[{\"id\":\"181202\"}]},\"id\":\"181211\",\"type\":\"LegendItem\"},{\"attributes\":{},\"id\":\"182962\",\"type\":\"UnionRenderers\"},{\"attributes\":{\"data\":{\"top\":[82,16,18,56,30,7,14,18,22,113,74,132,81,2,55,130,144,68,30,54,89,13,58,58,43,30,45,44,36,16,200,31,4,9,24,5],\"x\":[\"2017-07\",\"2017-08\",\"2017-09\",\"2017-10\",\"2017-11\",\"2017-12\",\"2018-01\",\"2018-02\",\"2018-03\",\"2018-04\",\"2018-05\",\"2018-06\",\"2018-07\",\"2018-08\",\"2018-09\",\"2018-10\",\"2018-11\",\"2018-12\",\"2019-01\",\"2019-02\",\"2019-03\",\"2019-04\",\"2019-05\",\"2019-06\",\"2019-07\",\"2019-09\",\"2019-10\",\"2019-11\",\"2019-12\",\"2020-01\",\"2020-02\",\"2020-03\",\"2020-04\",\"2020-05\",\"2020-06\",\"2020-07\"]},\"selected\":{\"id\":\"182965\"},\"selection_policy\":{\"id\":\"182964\"}},\"id\":\"181212\",\"type\":\"ColumnDataSource\"},{\"attributes\":{\"line_alpha\":{\"value\":0.1},\"line_color\":{\"value\":\"red\"},\"line_width\":{\"value\":2},\"x\":{\"field\":\"x\"},\"y\":{\"field\":\"y\"}},\"id\":\"181201\",\"type\":\"Step\"},{\"attributes\":{},\"id\":\"182963\",\"type\":\"Selection\"},{\"attributes\":{\"line_alpha\":{\"value\":0.8},\"line_color\":{\"value\":\"red\"},\"line_width\":{\"value\":2},\"x\":{\"field\":\"x\"},\"y\":{\"field\":\"y\"}},\"id\":\"181200\",\"type\":\"Step\"},{\"attributes\":{\"data_source\":{\"id\":\"181212\"},\"glyph\":{\"id\":\"181213\"},\"hover_glyph\":null,\"muted_glyph\":null,\"nonselection_glyph\":{\"id\":\"181214\"},\"selection_glyph\":null,\"view\":{\"id\":\"181216\"}},\"id\":\"181215\",\"type\":\"GlyphRenderer\"},{\"attributes\":{\"data\":{\"x\":[\"2017-07\",\"2017-08\",\"2017-09\",\"2017-10\",\"2017-11\",\"2017-12\",\"2018-01\",\"2018-02\",\"2018-03\",\"2018-04\",\"2018-05\",\"2018-06\",\"2018-07\",\"2018-08\",\"2018-09\",\"2018-10\",\"2018-11\",\"2018-12\",\"2019-01\",\"2019-02\",\"2019-03\",\"2019-04\",\"2019-05\",\"2019-06\",\"2019-07\",\"2019-09\",\"2019-10\",\"2019-11\",\"2019-12\",\"2020-01\",\"2020-02\",\"2020-03\",\"2020-04\",\"2020-05\",\"2020-06\",\"2020-07\"],\"y\":[33.831889081455806,7.630849220103986,3.766031195840555,18.441941074523395,16.75216637781629,6.289428076256499,5.1871750433275565,6.15944540727903,5.696707105719238,30.221837088388217,27.37261698440208,30.492201039861353,22.890814558058924,1.0190641247833623,7.864818024263432,23.648180242634314,21.504332755632582,18.12305025996534,8.273830155979203,8.875216637781628,13.807625649913344,3.7417677642980935,11.109185441941074,9.719237435008665,8.984402079722704,7.247833622183709,20.97573656845754,11.1369150779896,11.726169844020797,3.9376083188908146,47.80762564991335,8.675909878682843,3.9740034662045063,8.646447140381282,15.552859618717504,3.3518197573656847]},\"selected\":{\"id\":\"182963\"},\"selection_policy\":{\"id\":\"182962\"}},\"id\":\"181199\",\"type\":\"ColumnDataSource\"}],\"root_ids\":[\"181167\"]},\"title\":\"Bokeh Application\",\"version\":\"2.0.1\"}};\n",
       "  var render_items = [{\"docid\":\"ec723fd9-322e-4018-a489-f8d32f07d101\",\"root_ids\":[\"181167\"],\"roots\":{\"181167\":\"0ebe8f7b-0f93-4714-90f6-2c38d04d9799\"}}];\n",
       "  root.Bokeh.embed.embed_items_notebook(docs_json, render_items);\n",
       "\n",
       "  }\n",
       "  if (root.Bokeh !== undefined) {\n",
       "    embed_document(root);\n",
       "  } else {\n",
       "    var attempts = 0;\n",
       "    var timer = setInterval(function(root) {\n",
       "      if (root.Bokeh !== undefined) {\n",
       "        clearInterval(timer);\n",
       "        embed_document(root);\n",
       "      } else {\n",
       "        attempts++;\n",
       "        if (attempts > 100) {\n",
       "          clearInterval(timer);\n",
       "          console.log(\"Bokeh: ERROR: Unable to run BokehJS code because BokehJS library is missing\");\n",
       "        }\n",
       "      }\n",
       "    }, 10, root)\n",
       "  }\n",
       "})(window);"
      ],
      "application/vnd.bokehjs_exec.v0+json": ""
     },
     "metadata": {
      "application/vnd.bokehjs_exec.v0+json": {
       "id": "181167"
      }
     },
     "output_type": "display_data"
    },
    {
     "name": "stdout",
     "output_type": "stream",
     "text": [
      "Pierre Dharréville avec 1055 votes\n",
      "Michèle Peyron avec 1063 votes\n",
      "Julien Borowczyk avec 1089 votes\n",
      "Marion Lenne avec 1126 votes\n",
      "Marie-Christine Verdier-Jouclas avec 1179 votes\n",
      "Nicole Dubré-Chirat avec 1253 votes\n",
      "Alain Ramadier avec 1333 votes\n",
      "Gilles Lurton avec 1393 votes\n",
      "Cendra Motin avec 1444 votes\n",
      "Emmanuelle Ménard avec 1851 votes\n"
     ]
    }
   ],
   "source": [
    "for député in députés_les_moins_présents[-10:]:\n",
    "    affiche_député(député)\n",
    "for député in députés_les_moins_présents[-10:]:\n",
    "    print(f\"{députés_par_id[député]['Prénom']} {députés_par_id[député]['Nom']} avec {compte_votes(député)} votes\")"
   ]
  },
  {
   "cell_type": "code",
   "execution_count": 6,
   "metadata": {},
   "outputs": [],
   "source": [
    "# todo: trous dans les mois\n",
    "# plot line not aligned, ligne date debut mandat"
   ]
  },
  {
   "cell_type": "code",
   "execution_count": null,
   "metadata": {},
   "outputs": [],
   "source": []
  }
 ],
 "metadata": {
  "kernelspec": {
   "display_name": "Python 3",
   "language": "python",
   "name": "python3"
  },
  "language_info": {
   "codemirror_mode": {
    "name": "ipython",
    "version": 3
   },
   "file_extension": ".py",
   "mimetype": "text/x-python",
   "name": "python",
   "nbconvert_exporter": "python",
   "pygments_lexer": "ipython3",
   "version": "3.6.9"
  }
 },
 "nbformat": 4,
 "nbformat_minor": 4
}
