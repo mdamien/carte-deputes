{
 "cells": [
  {
   "cell_type": "markdown",
   "metadata": {},
   "source": [
    "# Chargement des données"
   ]
  },
  {
   "cell_type": "code",
   "execution_count": 9,
   "metadata": {},
   "outputs": [],
   "source": [
    "# code inspiré de https://git.regardscitoyens.org/regardscitoyens/sprint-scrutins/blob/master/votes_an/ancsv.py\n",
    "\n",
    "import glob, json, csv, collections\n",
    "\n",
    "# recupere les députés\n",
    "\n",
    "députés = list(csv.DictReader(open('liste_deputes_libre_office.csv')))\n",
    "députés_par_id = {int(député[\"identifiant\"]): député for député in députés}\n",
    "\n",
    "\n",
    "# recuperer les votes\n",
    "\n",
    "votes_par_députés = {id_député: collections.defaultdict(list) for id_député in députés_par_id}\n",
    "\n",
    "for fichier in glob.glob('scrutins/*.json'):\n",
    "    \n",
    "    aucun_vote = True\n",
    "    \n",
    "    scrutin = json.load(open(fichier))['scrutin']\n",
    "    \n",
    "    if scrutin['numero'] == 1:\n",
    "        print(scrutin)\n",
    "\n",
    "    id_scrutin = scrutin['numero']\n",
    "\n",
    "    groupes = scrutin['ventilationVotes']['organe']['groupes']['groupe']\n",
    "\n",
    "    for groupe in groupes:\n",
    "        dn = groupe['vote']['decompteNominatif']\n",
    "        \n",
    "        for position in ('pour', 'contre', 'abstention'):\n",
    "            votants_position = dn['%ss' % position]\n",
    "            \n",
    "            if not votants_position:\n",
    "                continue\n",
    "            \n",
    "            votants = votants_position['votant']\n",
    "\n",
    "            if not isinstance(votants, list):\n",
    "                votants = [votants]\n",
    "\n",
    "            for votant in votants:\n",
    "                votant_id = int(votant['acteurRef'][2:])\n",
    "                \n",
    "                if votant.get('parDelegation', 'false') == 'true':\n",
    "                    continue\n",
    "\n",
    "                aucun_vote = False\n",
    "                if votant_id in votes_par_députés:\n",
    "                    votes_par_députés[votant_id][scrutin['dateScrutin'] + \"-\" + scrutin['quantiemeJourSeance']] = [1]\n"
   ]
  },
  {
   "cell_type": "code",
   "execution_count": 5,
   "metadata": {},
   "outputs": [
    {
     "data": {
      "text/html": [
       "\n",
       "    <div class=\"bk-root\">\n",
       "        <a href=\"https://bokeh.org\" target=\"_blank\" class=\"bk-logo bk-logo-small bk-logo-notebook\"></a>\n",
       "        <span id=\"1002\">Loading BokehJS ...</span>\n",
       "    </div>"
      ]
     },
     "metadata": {},
     "output_type": "display_data"
    },
    {
     "data": {
      "application/javascript": [
       "\n",
       "(function(root) {\n",
       "  function now() {\n",
       "    return new Date();\n",
       "  }\n",
       "\n",
       "  var force = true;\n",
       "\n",
       "  if (typeof root._bokeh_onload_callbacks === \"undefined\" || force === true) {\n",
       "    root._bokeh_onload_callbacks = [];\n",
       "    root._bokeh_is_loading = undefined;\n",
       "  }\n",
       "\n",
       "  var JS_MIME_TYPE = 'application/javascript';\n",
       "  var HTML_MIME_TYPE = 'text/html';\n",
       "  var EXEC_MIME_TYPE = 'application/vnd.bokehjs_exec.v0+json';\n",
       "  var CLASS_NAME = 'output_bokeh rendered_html';\n",
       "\n",
       "  /**\n",
       "   * Render data to the DOM node\n",
       "   */\n",
       "  function render(props, node) {\n",
       "    var script = document.createElement(\"script\");\n",
       "    node.appendChild(script);\n",
       "  }\n",
       "\n",
       "  /**\n",
       "   * Handle when an output is cleared or removed\n",
       "   */\n",
       "  function handleClearOutput(event, handle) {\n",
       "    var cell = handle.cell;\n",
       "\n",
       "    var id = cell.output_area._bokeh_element_id;\n",
       "    var server_id = cell.output_area._bokeh_server_id;\n",
       "    // Clean up Bokeh references\n",
       "    if (id != null && id in Bokeh.index) {\n",
       "      Bokeh.index[id].model.document.clear();\n",
       "      delete Bokeh.index[id];\n",
       "    }\n",
       "\n",
       "    if (server_id !== undefined) {\n",
       "      // Clean up Bokeh references\n",
       "      var cmd = \"from bokeh.io.state import curstate; print(curstate().uuid_to_server['\" + server_id + \"'].get_sessions()[0].document.roots[0]._id)\";\n",
       "      cell.notebook.kernel.execute(cmd, {\n",
       "        iopub: {\n",
       "          output: function(msg) {\n",
       "            var id = msg.content.text.trim();\n",
       "            if (id in Bokeh.index) {\n",
       "              Bokeh.index[id].model.document.clear();\n",
       "              delete Bokeh.index[id];\n",
       "            }\n",
       "          }\n",
       "        }\n",
       "      });\n",
       "      // Destroy server and session\n",
       "      var cmd = \"import bokeh.io.notebook as ion; ion.destroy_server('\" + server_id + \"')\";\n",
       "      cell.notebook.kernel.execute(cmd);\n",
       "    }\n",
       "  }\n",
       "\n",
       "  /**\n",
       "   * Handle when a new output is added\n",
       "   */\n",
       "  function handleAddOutput(event, handle) {\n",
       "    var output_area = handle.output_area;\n",
       "    var output = handle.output;\n",
       "\n",
       "    // limit handleAddOutput to display_data with EXEC_MIME_TYPE content only\n",
       "    if ((output.output_type != \"display_data\") || (!output.data.hasOwnProperty(EXEC_MIME_TYPE))) {\n",
       "      return\n",
       "    }\n",
       "\n",
       "    var toinsert = output_area.element.find(\".\" + CLASS_NAME.split(' ')[0]);\n",
       "\n",
       "    if (output.metadata[EXEC_MIME_TYPE][\"id\"] !== undefined) {\n",
       "      toinsert[toinsert.length - 1].firstChild.textContent = output.data[JS_MIME_TYPE];\n",
       "      // store reference to embed id on output_area\n",
       "      output_area._bokeh_element_id = output.metadata[EXEC_MIME_TYPE][\"id\"];\n",
       "    }\n",
       "    if (output.metadata[EXEC_MIME_TYPE][\"server_id\"] !== undefined) {\n",
       "      var bk_div = document.createElement(\"div\");\n",
       "      bk_div.innerHTML = output.data[HTML_MIME_TYPE];\n",
       "      var script_attrs = bk_div.children[0].attributes;\n",
       "      for (var i = 0; i < script_attrs.length; i++) {\n",
       "        toinsert[toinsert.length - 1].firstChild.setAttribute(script_attrs[i].name, script_attrs[i].value);\n",
       "        toinsert[toinsert.length - 1].firstChild.textContent = bk_div.children[0].textContent\n",
       "      }\n",
       "      // store reference to server id on output_area\n",
       "      output_area._bokeh_server_id = output.metadata[EXEC_MIME_TYPE][\"server_id\"];\n",
       "    }\n",
       "  }\n",
       "\n",
       "  function register_renderer(events, OutputArea) {\n",
       "\n",
       "    function append_mime(data, metadata, element) {\n",
       "      // create a DOM node to render to\n",
       "      var toinsert = this.create_output_subarea(\n",
       "        metadata,\n",
       "        CLASS_NAME,\n",
       "        EXEC_MIME_TYPE\n",
       "      );\n",
       "      this.keyboard_manager.register_events(toinsert);\n",
       "      // Render to node\n",
       "      var props = {data: data, metadata: metadata[EXEC_MIME_TYPE]};\n",
       "      render(props, toinsert[toinsert.length - 1]);\n",
       "      element.append(toinsert);\n",
       "      return toinsert\n",
       "    }\n",
       "\n",
       "    /* Handle when an output is cleared or removed */\n",
       "    events.on('clear_output.CodeCell', handleClearOutput);\n",
       "    events.on('delete.Cell', handleClearOutput);\n",
       "\n",
       "    /* Handle when a new output is added */\n",
       "    events.on('output_added.OutputArea', handleAddOutput);\n",
       "\n",
       "    /**\n",
       "     * Register the mime type and append_mime function with output_area\n",
       "     */\n",
       "    OutputArea.prototype.register_mime_type(EXEC_MIME_TYPE, append_mime, {\n",
       "      /* Is output safe? */\n",
       "      safe: true,\n",
       "      /* Index of renderer in `output_area.display_order` */\n",
       "      index: 0\n",
       "    });\n",
       "  }\n",
       "\n",
       "  // register the mime type if in Jupyter Notebook environment and previously unregistered\n",
       "  if (root.Jupyter !== undefined) {\n",
       "    var events = require('base/js/events');\n",
       "    var OutputArea = require('notebook/js/outputarea').OutputArea;\n",
       "\n",
       "    if (OutputArea.prototype.mime_types().indexOf(EXEC_MIME_TYPE) == -1) {\n",
       "      register_renderer(events, OutputArea);\n",
       "    }\n",
       "  }\n",
       "\n",
       "  \n",
       "  if (typeof (root._bokeh_timeout) === \"undefined\" || force === true) {\n",
       "    root._bokeh_timeout = Date.now() + 5000;\n",
       "    root._bokeh_failed_load = false;\n",
       "  }\n",
       "\n",
       "  var NB_LOAD_WARNING = {'data': {'text/html':\n",
       "     \"<div style='background-color: #fdd'>\\n\"+\n",
       "     \"<p>\\n\"+\n",
       "     \"BokehJS does not appear to have successfully loaded. If loading BokehJS from CDN, this \\n\"+\n",
       "     \"may be due to a slow or bad network connection. Possible fixes:\\n\"+\n",
       "     \"</p>\\n\"+\n",
       "     \"<ul>\\n\"+\n",
       "     \"<li>re-rerun `output_notebook()` to attempt to load from CDN again, or</li>\\n\"+\n",
       "     \"<li>use INLINE resources instead, as so:</li>\\n\"+\n",
       "     \"</ul>\\n\"+\n",
       "     \"<code>\\n\"+\n",
       "     \"from bokeh.resources import INLINE\\n\"+\n",
       "     \"output_notebook(resources=INLINE)\\n\"+\n",
       "     \"</code>\\n\"+\n",
       "     \"</div>\"}};\n",
       "\n",
       "  function display_loaded() {\n",
       "    var el = document.getElementById(\"1002\");\n",
       "    if (el != null) {\n",
       "      el.textContent = \"BokehJS is loading...\";\n",
       "    }\n",
       "    if (root.Bokeh !== undefined) {\n",
       "      if (el != null) {\n",
       "        el.textContent = \"BokehJS \" + root.Bokeh.version + \" successfully loaded.\";\n",
       "      }\n",
       "    } else if (Date.now() < root._bokeh_timeout) {\n",
       "      setTimeout(display_loaded, 100)\n",
       "    }\n",
       "  }\n",
       "\n",
       "\n",
       "  function run_callbacks() {\n",
       "    try {\n",
       "      root._bokeh_onload_callbacks.forEach(function(callback) {\n",
       "        if (callback != null)\n",
       "          callback();\n",
       "      });\n",
       "    } finally {\n",
       "      delete root._bokeh_onload_callbacks\n",
       "    }\n",
       "    console.debug(\"Bokeh: all callbacks have finished\");\n",
       "  }\n",
       "\n",
       "  function load_libs(css_urls, js_urls, callback) {\n",
       "    if (css_urls == null) css_urls = [];\n",
       "    if (js_urls == null) js_urls = [];\n",
       "\n",
       "    root._bokeh_onload_callbacks.push(callback);\n",
       "    if (root._bokeh_is_loading > 0) {\n",
       "      console.debug(\"Bokeh: BokehJS is being loaded, scheduling callback at\", now());\n",
       "      return null;\n",
       "    }\n",
       "    if (js_urls == null || js_urls.length === 0) {\n",
       "      run_callbacks();\n",
       "      return null;\n",
       "    }\n",
       "    console.debug(\"Bokeh: BokehJS not loaded, scheduling load and callback at\", now());\n",
       "    root._bokeh_is_loading = css_urls.length + js_urls.length;\n",
       "\n",
       "    function on_load() {\n",
       "      root._bokeh_is_loading--;\n",
       "      if (root._bokeh_is_loading === 0) {\n",
       "        console.debug(\"Bokeh: all BokehJS libraries/stylesheets loaded\");\n",
       "        run_callbacks()\n",
       "      }\n",
       "    }\n",
       "\n",
       "    function on_error() {\n",
       "      console.error(\"failed to load \" + url);\n",
       "    }\n",
       "\n",
       "    for (var i = 0; i < css_urls.length; i++) {\n",
       "      var url = css_urls[i];\n",
       "      const element = document.createElement(\"link\");\n",
       "      element.onload = on_load;\n",
       "      element.onerror = on_error;\n",
       "      element.rel = \"stylesheet\";\n",
       "      element.type = \"text/css\";\n",
       "      element.href = url;\n",
       "      console.debug(\"Bokeh: injecting link tag for BokehJS stylesheet: \", url);\n",
       "      document.body.appendChild(element);\n",
       "    }\n",
       "\n",
       "    const hashes = {\"https://cdn.bokeh.org/bokeh/release/bokeh-2.0.1.min.js\": \"JpP8FXbgAZLkfur7LiK3j9AGBhHNIvF742meBJrjO2ShJDhCG2I1uVvW+0DUtrmc\", \"https://cdn.bokeh.org/bokeh/release/bokeh-widgets-2.0.1.min.js\": \"xZlADit0Q04ISQEdKg2k3L4W9AwQBAuDs9nJL9fM/WwzL1tEU9VPNezOFX0nLEAz\", \"https://cdn.bokeh.org/bokeh/release/bokeh-tables-2.0.1.min.js\": \"4BuPRZkdMKSnj3zoxiNrQ86XgNw0rYmBOxe7nshquXwwcauupgBF2DHLVG1WuZlV\", \"https://cdn.bokeh.org/bokeh/release/bokeh-gl-2.0.1.min.js\": \"Dv1SQ87hmDqK6S5OhBf0bCuwAEvL5QYL0PuR/F1SPVhCS/r/abjkbpKDYL2zeM19\"};\n",
       "\n",
       "    for (var i = 0; i < js_urls.length; i++) {\n",
       "      var url = js_urls[i];\n",
       "      var element = document.createElement('script');\n",
       "      element.onload = on_load;\n",
       "      element.onerror = on_error;\n",
       "      element.async = false;\n",
       "      element.src = url;\n",
       "      if (url in hashes) {\n",
       "        element.crossOrigin = \"anonymous\";\n",
       "        element.integrity = \"sha384-\" + hashes[url];\n",
       "      }\n",
       "      console.debug(\"Bokeh: injecting script tag for BokehJS library: \", url);\n",
       "      document.head.appendChild(element);\n",
       "    }\n",
       "  };var element = document.getElementById(\"1002\");\n",
       "  if (element == null) {\n",
       "    console.error(\"Bokeh: ERROR: autoload.js configured with elementid '1002' but no matching script tag was found. \")\n",
       "    return false;\n",
       "  }\n",
       "\n",
       "  function inject_raw_css(css) {\n",
       "    const element = document.createElement(\"style\");\n",
       "    element.appendChild(document.createTextNode(css));\n",
       "    document.body.appendChild(element);\n",
       "  }\n",
       "\n",
       "  \n",
       "  var js_urls = [\"https://cdn.bokeh.org/bokeh/release/bokeh-2.0.1.min.js\", \"https://cdn.bokeh.org/bokeh/release/bokeh-widgets-2.0.1.min.js\", \"https://cdn.bokeh.org/bokeh/release/bokeh-tables-2.0.1.min.js\", \"https://cdn.bokeh.org/bokeh/release/bokeh-gl-2.0.1.min.js\"];\n",
       "  var css_urls = [];\n",
       "  \n",
       "\n",
       "  var inline_js = [\n",
       "    function(Bokeh) {\n",
       "      Bokeh.set_log_level(\"info\");\n",
       "    },\n",
       "    function(Bokeh) {\n",
       "    \n",
       "    \n",
       "    }\n",
       "  ];\n",
       "\n",
       "  function run_inline_js() {\n",
       "    \n",
       "    if (root.Bokeh !== undefined || force === true) {\n",
       "      \n",
       "    for (var i = 0; i < inline_js.length; i++) {\n",
       "      inline_js[i].call(root, root.Bokeh);\n",
       "    }\n",
       "    if (force === true) {\n",
       "        display_loaded();\n",
       "      }} else if (Date.now() < root._bokeh_timeout) {\n",
       "      setTimeout(run_inline_js, 100);\n",
       "    } else if (!root._bokeh_failed_load) {\n",
       "      console.log(\"Bokeh: BokehJS failed to load within specified timeout.\");\n",
       "      root._bokeh_failed_load = true;\n",
       "    } else if (force !== true) {\n",
       "      var cell = $(document.getElementById(\"1002\")).parents('.cell').data().cell;\n",
       "      cell.output_area.append_execute_result(NB_LOAD_WARNING)\n",
       "    }\n",
       "\n",
       "  }\n",
       "\n",
       "  if (root._bokeh_is_loading === 0) {\n",
       "    console.debug(\"Bokeh: BokehJS loaded, going straight to plotting\");\n",
       "    run_inline_js();\n",
       "  } else {\n",
       "    load_libs(css_urls, js_urls, function() {\n",
       "      console.debug(\"Bokeh: BokehJS plotting callback run at\", now());\n",
       "      run_inline_js();\n",
       "    });\n",
       "  }\n",
       "}(window));"
      ],
      "application/vnd.bokehjs_load.v0+json": "\n(function(root) {\n  function now() {\n    return new Date();\n  }\n\n  var force = true;\n\n  if (typeof root._bokeh_onload_callbacks === \"undefined\" || force === true) {\n    root._bokeh_onload_callbacks = [];\n    root._bokeh_is_loading = undefined;\n  }\n\n  \n\n  \n  if (typeof (root._bokeh_timeout) === \"undefined\" || force === true) {\n    root._bokeh_timeout = Date.now() + 5000;\n    root._bokeh_failed_load = false;\n  }\n\n  var NB_LOAD_WARNING = {'data': {'text/html':\n     \"<div style='background-color: #fdd'>\\n\"+\n     \"<p>\\n\"+\n     \"BokehJS does not appear to have successfully loaded. If loading BokehJS from CDN, this \\n\"+\n     \"may be due to a slow or bad network connection. Possible fixes:\\n\"+\n     \"</p>\\n\"+\n     \"<ul>\\n\"+\n     \"<li>re-rerun `output_notebook()` to attempt to load from CDN again, or</li>\\n\"+\n     \"<li>use INLINE resources instead, as so:</li>\\n\"+\n     \"</ul>\\n\"+\n     \"<code>\\n\"+\n     \"from bokeh.resources import INLINE\\n\"+\n     \"output_notebook(resources=INLINE)\\n\"+\n     \"</code>\\n\"+\n     \"</div>\"}};\n\n  function display_loaded() {\n    var el = document.getElementById(\"1002\");\n    if (el != null) {\n      el.textContent = \"BokehJS is loading...\";\n    }\n    if (root.Bokeh !== undefined) {\n      if (el != null) {\n        el.textContent = \"BokehJS \" + root.Bokeh.version + \" successfully loaded.\";\n      }\n    } else if (Date.now() < root._bokeh_timeout) {\n      setTimeout(display_loaded, 100)\n    }\n  }\n\n\n  function run_callbacks() {\n    try {\n      root._bokeh_onload_callbacks.forEach(function(callback) {\n        if (callback != null)\n          callback();\n      });\n    } finally {\n      delete root._bokeh_onload_callbacks\n    }\n    console.debug(\"Bokeh: all callbacks have finished\");\n  }\n\n  function load_libs(css_urls, js_urls, callback) {\n    if (css_urls == null) css_urls = [];\n    if (js_urls == null) js_urls = [];\n\n    root._bokeh_onload_callbacks.push(callback);\n    if (root._bokeh_is_loading > 0) {\n      console.debug(\"Bokeh: BokehJS is being loaded, scheduling callback at\", now());\n      return null;\n    }\n    if (js_urls == null || js_urls.length === 0) {\n      run_callbacks();\n      return null;\n    }\n    console.debug(\"Bokeh: BokehJS not loaded, scheduling load and callback at\", now());\n    root._bokeh_is_loading = css_urls.length + js_urls.length;\n\n    function on_load() {\n      root._bokeh_is_loading--;\n      if (root._bokeh_is_loading === 0) {\n        console.debug(\"Bokeh: all BokehJS libraries/stylesheets loaded\");\n        run_callbacks()\n      }\n    }\n\n    function on_error() {\n      console.error(\"failed to load \" + url);\n    }\n\n    for (var i = 0; i < css_urls.length; i++) {\n      var url = css_urls[i];\n      const element = document.createElement(\"link\");\n      element.onload = on_load;\n      element.onerror = on_error;\n      element.rel = \"stylesheet\";\n      element.type = \"text/css\";\n      element.href = url;\n      console.debug(\"Bokeh: injecting link tag for BokehJS stylesheet: \", url);\n      document.body.appendChild(element);\n    }\n\n    const hashes = {\"https://cdn.bokeh.org/bokeh/release/bokeh-2.0.1.min.js\": \"JpP8FXbgAZLkfur7LiK3j9AGBhHNIvF742meBJrjO2ShJDhCG2I1uVvW+0DUtrmc\", \"https://cdn.bokeh.org/bokeh/release/bokeh-widgets-2.0.1.min.js\": \"xZlADit0Q04ISQEdKg2k3L4W9AwQBAuDs9nJL9fM/WwzL1tEU9VPNezOFX0nLEAz\", \"https://cdn.bokeh.org/bokeh/release/bokeh-tables-2.0.1.min.js\": \"4BuPRZkdMKSnj3zoxiNrQ86XgNw0rYmBOxe7nshquXwwcauupgBF2DHLVG1WuZlV\", \"https://cdn.bokeh.org/bokeh/release/bokeh-gl-2.0.1.min.js\": \"Dv1SQ87hmDqK6S5OhBf0bCuwAEvL5QYL0PuR/F1SPVhCS/r/abjkbpKDYL2zeM19\"};\n\n    for (var i = 0; i < js_urls.length; i++) {\n      var url = js_urls[i];\n      var element = document.createElement('script');\n      element.onload = on_load;\n      element.onerror = on_error;\n      element.async = false;\n      element.src = url;\n      if (url in hashes) {\n        element.crossOrigin = \"anonymous\";\n        element.integrity = \"sha384-\" + hashes[url];\n      }\n      console.debug(\"Bokeh: injecting script tag for BokehJS library: \", url);\n      document.head.appendChild(element);\n    }\n  };var element = document.getElementById(\"1002\");\n  if (element == null) {\n    console.error(\"Bokeh: ERROR: autoload.js configured with elementid '1002' but no matching script tag was found. \")\n    return false;\n  }\n\n  function inject_raw_css(css) {\n    const element = document.createElement(\"style\");\n    element.appendChild(document.createTextNode(css));\n    document.body.appendChild(element);\n  }\n\n  \n  var js_urls = [\"https://cdn.bokeh.org/bokeh/release/bokeh-2.0.1.min.js\", \"https://cdn.bokeh.org/bokeh/release/bokeh-widgets-2.0.1.min.js\", \"https://cdn.bokeh.org/bokeh/release/bokeh-tables-2.0.1.min.js\", \"https://cdn.bokeh.org/bokeh/release/bokeh-gl-2.0.1.min.js\"];\n  var css_urls = [];\n  \n\n  var inline_js = [\n    function(Bokeh) {\n      Bokeh.set_log_level(\"info\");\n    },\n    function(Bokeh) {\n    \n    \n    }\n  ];\n\n  function run_inline_js() {\n    \n    if (root.Bokeh !== undefined || force === true) {\n      \n    for (var i = 0; i < inline_js.length; i++) {\n      inline_js[i].call(root, root.Bokeh);\n    }\n    if (force === true) {\n        display_loaded();\n      }} else if (Date.now() < root._bokeh_timeout) {\n      setTimeout(run_inline_js, 100);\n    } else if (!root._bokeh_failed_load) {\n      console.log(\"Bokeh: BokehJS failed to load within specified timeout.\");\n      root._bokeh_failed_load = true;\n    } else if (force !== true) {\n      var cell = $(document.getElementById(\"1002\")).parents('.cell').data().cell;\n      cell.output_area.append_execute_result(NB_LOAD_WARNING)\n    }\n\n  }\n\n  if (root._bokeh_is_loading === 0) {\n    console.debug(\"Bokeh: BokehJS loaded, going straight to plotting\");\n    run_inline_js();\n  } else {\n    load_libs(css_urls, js_urls, function() {\n      console.debug(\"Bokeh: BokehJS plotting callback run at\", now());\n      run_inline_js();\n    });\n  }\n}(window));"
     },
     "metadata": {},
     "output_type": "display_data"
    }
   ],
   "source": [
    "from bokeh.io import output_notebook\n",
    "output_notebook()"
   ]
  },
  {
   "cell_type": "code",
   "execution_count": 12,
   "metadata": {},
   "outputs": [],
   "source": [
    "import datetime, statistics\n",
    "\n",
    "# grouper par semaine\n",
    "\n",
    "votes_par_mois = collections.defaultdict(dict)\n",
    "\n",
    "for député, dates in votes_par_députés.items():\n",
    "    for date, votes in dates.items():\n",
    "        année, mois, jour, seance = date.split('-')\n",
    "        mois_complet = f\"{année}-{mois}\"\n",
    "        if député not in votes_par_mois[mois_complet]:\n",
    "            votes_par_mois[mois_complet][député] = [votes]\n",
    "        votes_par_mois[mois_complet][député] += votes\n",
    "\n",
    "def moyenne_votes(votes):\n",
    "    return statistics.mean([len(votes.get(député, [])) for député in députés_par_id])\n",
    "\n",
    "from bokeh.io import show\n",
    "from bokeh.plotting import figure\n",
    "        \n",
    "tout_les_mois = sorted(votes_par_mois.keys())\n",
    "\n",
    "def compte_votes(député):\n",
    "    return sum([len(mois.get(député, [])) for mois in votes_par_mois.values()])\n",
    "\n",
    "députés_les_moins_présents = sorted(votes_par_députés.keys(),\n",
    "                                    key=compte_votes)\n",
    "\n",
    "def affiche_député(député):\n",
    "    votes = [len(votes_par_mois[mois].get(député, [])) for mois in tout_les_mois]\n",
    "    votes_moyenne = [moyenne_votes(votes_par_mois[mois]) for mois in tout_les_mois]\n",
    "\n",
    "    p = figure(x_range=tout_les_mois, plot_width=700, plot_height=400,\n",
    "               title=f\"Séances où {députés_par_id[député]['Prénom']} {députés_par_id[député]['Nom']} à voté ({compte_votes(député)})\",\n",
    "               )\n",
    "\n",
    "    p.step(tout_les_mois, votes_moyenne, line_width=2, line_color=\"red\", mode=\"before\", alpha=0.8, legend_label='Moyenne de tous les députés')\n",
    "    p.vbar(x=tout_les_mois, top=votes, width=1, alpha=0.5)\n",
    "\n",
    "    p.y_range.start = 0\n",
    "    p.xgrid.grid_line_color = None\n",
    "    p.ygrid.grid_line_color = None\n",
    "    p.xaxis.major_label_orientation = \"vertical\"\n",
    "    show(p)\n"
   ]
  },
  {
   "cell_type": "markdown",
   "metadata": {},
   "source": [
    "# Les 10 moins présents"
   ]
  },
  {
   "cell_type": "code",
   "execution_count": 15,
   "metadata": {},
   "outputs": [
    {
     "data": {
      "text/html": [
       "\n",
       "\n",
       "\n",
       "\n",
       "\n",
       "\n",
       "  <div class=\"bk-root\" id=\"68ebfa56-0fc4-4453-ac75-9771830f4af9\" data-root-id=\"19253\"></div>\n"
      ]
     },
     "metadata": {},
     "output_type": "display_data"
    },
    {
     "data": {
      "application/javascript": [
       "(function(root) {\n",
       "  function embed_document(root) {\n",
       "    \n",
       "  var docs_json = {\"940f4339-df81-40b5-9124-26a9b565458e\":{\"roots\":{\"references\":[{\"attributes\":{\"below\":[{\"id\":\"19264\"}],\"center\":[{\"id\":\"19266\"},{\"id\":\"19270\"},{\"id\":\"19296\"}],\"left\":[{\"id\":\"19267\"}],\"plot_height\":400,\"plot_width\":700,\"renderers\":[{\"id\":\"19288\"},{\"id\":\"19301\"}],\"title\":{\"id\":\"19254\"},\"toolbar\":{\"id\":\"19278\"},\"x_range\":{\"id\":\"19256\"},\"x_scale\":{\"id\":\"19260\"},\"y_range\":{\"id\":\"19258\"},\"y_scale\":{\"id\":\"19262\"}},\"id\":\"19253\",\"subtype\":\"Figure\",\"type\":\"Plot\"},{\"attributes\":{\"formatter\":{\"id\":\"19294\"},\"ticker\":{\"id\":\"19268\"}},\"id\":\"19267\",\"type\":\"LinearAxis\"},{\"attributes\":{\"axis\":{\"id\":\"19264\"},\"grid_line_color\":null,\"ticker\":null},\"id\":\"19266\",\"type\":\"Grid\"},{\"attributes\":{\"source\":{\"id\":\"19285\"}},\"id\":\"19289\",\"type\":\"CDSView\"},{\"attributes\":{},\"id\":\"19292\",\"type\":\"CategoricalTickFormatter\"},{\"attributes\":{},\"id\":\"19262\",\"type\":\"LinearScale\"},{\"attributes\":{},\"id\":\"19294\",\"type\":\"BasicTickFormatter\"},{\"attributes\":{},\"id\":\"19265\",\"type\":\"CategoricalTicker\"},{\"attributes\":{\"items\":[{\"id\":\"19297\"}]},\"id\":\"19296\",\"type\":\"Legend\"},{\"attributes\":{\"formatter\":{\"id\":\"19292\"},\"major_label_orientation\":\"vertical\",\"ticker\":{\"id\":\"19265\"}},\"id\":\"19264\",\"type\":\"CategoricalAxis\"},{\"attributes\":{\"label\":{\"value\":\"Moyenne de tous les d\\u00e9put\\u00e9s\"},\"renderers\":[{\"id\":\"19288\"}]},\"id\":\"19297\",\"type\":\"LegendItem\"},{\"attributes\":{\"data\":{\"top\":[0,0,0,0,0,0,0,0,0,0,0,0,0,0,0,0,0,0,0,0,0,0,0,0,0,0,0,0,0,0,0,0,4,7,19,0],\"x\":[\"2017-07\",\"2017-08\",\"2017-09\",\"2017-10\",\"2017-11\",\"2017-12\",\"2018-01\",\"2018-02\",\"2018-03\",\"2018-04\",\"2018-05\",\"2018-06\",\"2018-07\",\"2018-08\",\"2018-09\",\"2018-10\",\"2018-11\",\"2018-12\",\"2019-01\",\"2019-02\",\"2019-03\",\"2019-04\",\"2019-05\",\"2019-06\",\"2019-07\",\"2019-09\",\"2019-10\",\"2019-11\",\"2019-12\",\"2020-01\",\"2020-02\",\"2020-03\",\"2020-04\",\"2020-05\",\"2020-06\",\"2020-07\"]},\"selected\":{\"id\":\"19810\"},\"selection_policy\":{\"id\":\"19811\"}},\"id\":\"19298\",\"type\":\"ColumnDataSource\"},{\"attributes\":{\"text\":\"S\\u00e9ances o\\u00f9 Souad Zitouni \\u00e0 vot\\u00e9 (30)\"},\"id\":\"19254\",\"type\":\"Title\"},{\"attributes\":{\"fill_alpha\":{\"value\":0.5},\"fill_color\":{\"value\":\"#1f77b4\"},\"line_alpha\":{\"value\":0.5},\"line_color\":{\"value\":\"#1f77b4\"},\"top\":{\"field\":\"top\"},\"width\":{\"value\":1},\"x\":{\"field\":\"x\"}},\"id\":\"19299\",\"type\":\"VBar\"},{\"attributes\":{\"start\":0},\"id\":\"19258\",\"type\":\"DataRange1d\"},{\"attributes\":{},\"id\":\"19810\",\"type\":\"Selection\"},{\"attributes\":{\"factors\":[\"2017-07\",\"2017-08\",\"2017-09\",\"2017-10\",\"2017-11\",\"2017-12\",\"2018-01\",\"2018-02\",\"2018-03\",\"2018-04\",\"2018-05\",\"2018-06\",\"2018-07\",\"2018-08\",\"2018-09\",\"2018-10\",\"2018-11\",\"2018-12\",\"2019-01\",\"2019-02\",\"2019-03\",\"2019-04\",\"2019-05\",\"2019-06\",\"2019-07\",\"2019-09\",\"2019-10\",\"2019-11\",\"2019-12\",\"2020-01\",\"2020-02\",\"2020-03\",\"2020-04\",\"2020-05\",\"2020-06\",\"2020-07\"]},\"id\":\"19256\",\"type\":\"FactorRange\"},{\"attributes\":{\"data_source\":{\"id\":\"19298\"},\"glyph\":{\"id\":\"19299\"},\"hover_glyph\":null,\"muted_glyph\":null,\"nonselection_glyph\":{\"id\":\"19300\"},\"selection_glyph\":null,\"view\":{\"id\":\"19302\"}},\"id\":\"19301\",\"type\":\"GlyphRenderer\"},{\"attributes\":{},\"id\":\"19811\",\"type\":\"UnionRenderers\"},{\"attributes\":{},\"id\":\"19272\",\"type\":\"WheelZoomTool\"},{\"attributes\":{\"fill_alpha\":{\"value\":0.1},\"fill_color\":{\"value\":\"#1f77b4\"},\"line_alpha\":{\"value\":0.1},\"line_color\":{\"value\":\"#1f77b4\"},\"top\":{\"field\":\"top\"},\"width\":{\"value\":1},\"x\":{\"field\":\"x\"}},\"id\":\"19300\",\"type\":\"VBar\"},{\"attributes\":{},\"id\":\"19271\",\"type\":\"PanTool\"},{\"attributes\":{},\"id\":\"19274\",\"type\":\"SaveTool\"},{\"attributes\":{\"data\":{\"x\":[\"2017-07\",\"2017-08\",\"2017-09\",\"2017-10\",\"2017-11\",\"2017-12\",\"2018-01\",\"2018-02\",\"2018-03\",\"2018-04\",\"2018-05\",\"2018-06\",\"2018-07\",\"2018-08\",\"2018-09\",\"2018-10\",\"2018-11\",\"2018-12\",\"2019-01\",\"2019-02\",\"2019-03\",\"2019-04\",\"2019-05\",\"2019-06\",\"2019-07\",\"2019-09\",\"2019-10\",\"2019-11\",\"2019-12\",\"2020-01\",\"2020-02\",\"2020-03\",\"2020-04\",\"2020-05\",\"2020-06\",\"2020-07\"],\"y\":[10.9948006932409,4.124783362218371,2.2738301559792027,10.15424610051993,8.228769497400346,4.492201039861352,3.1611785095320624,4.282495667244367,4.4558058925476605,8.55632582322357,7.759098786828423,9.533795493934143,7.209705372616984,0.6897746967071057,4.190641247833622,10.474870017331023,7.0606585788561524,6.495667244367418,4.006932409012132,5.33102253032929,5.92894280762565,2.538994800693241,5.571923743500866,6.649913344887349,5.493934142114385,4.003466204506066,9.809358752166379,5.915077989601387,4.337954939341421,2.466204506065858,10.331022530329289,4.987868284228769,3.9740034662045063,6.776429809358752,14.199306759098787,1.2218370883882148]},\"selected\":{\"id\":\"19808\"},\"selection_policy\":{\"id\":\"19809\"}},\"id\":\"19285\",\"type\":\"ColumnDataSource\"},{\"attributes\":{\"source\":{\"id\":\"19298\"}},\"id\":\"19302\",\"type\":\"CDSView\"},{\"attributes\":{},\"id\":\"19809\",\"type\":\"UnionRenderers\"},{\"attributes\":{\"data_source\":{\"id\":\"19285\"},\"glyph\":{\"id\":\"19286\"},\"hover_glyph\":null,\"muted_glyph\":null,\"nonselection_glyph\":{\"id\":\"19287\"},\"selection_glyph\":null,\"view\":{\"id\":\"19289\"}},\"id\":\"19288\",\"type\":\"GlyphRenderer\"},{\"attributes\":{\"overlay\":{\"id\":\"19277\"}},\"id\":\"19273\",\"type\":\"BoxZoomTool\"},{\"attributes\":{},\"id\":\"19260\",\"type\":\"CategoricalScale\"},{\"attributes\":{},\"id\":\"19275\",\"type\":\"ResetTool\"},{\"attributes\":{\"line_alpha\":{\"value\":0.1},\"line_color\":{\"value\":\"red\"},\"line_width\":{\"value\":2},\"x\":{\"field\":\"x\"},\"y\":{\"field\":\"y\"}},\"id\":\"19287\",\"type\":\"Step\"},{\"attributes\":{},\"id\":\"19276\",\"type\":\"HelpTool\"},{\"attributes\":{\"axis\":{\"id\":\"19267\"},\"dimension\":1,\"grid_line_color\":null,\"ticker\":null},\"id\":\"19270\",\"type\":\"Grid\"},{\"attributes\":{},\"id\":\"19808\",\"type\":\"Selection\"},{\"attributes\":{\"line_alpha\":{\"value\":0.8},\"line_color\":{\"value\":\"red\"},\"line_width\":{\"value\":2},\"x\":{\"field\":\"x\"},\"y\":{\"field\":\"y\"}},\"id\":\"19286\",\"type\":\"Step\"},{\"attributes\":{\"active_drag\":\"auto\",\"active_inspect\":\"auto\",\"active_multi\":null,\"active_scroll\":\"auto\",\"active_tap\":\"auto\",\"tools\":[{\"id\":\"19271\"},{\"id\":\"19272\"},{\"id\":\"19273\"},{\"id\":\"19274\"},{\"id\":\"19275\"},{\"id\":\"19276\"}]},\"id\":\"19278\",\"type\":\"Toolbar\"},{\"attributes\":{\"bottom_units\":\"screen\",\"fill_alpha\":0.5,\"fill_color\":\"lightgrey\",\"left_units\":\"screen\",\"level\":\"overlay\",\"line_alpha\":1.0,\"line_color\":\"black\",\"line_dash\":[4,4],\"line_width\":2,\"render_mode\":\"css\",\"right_units\":\"screen\",\"top_units\":\"screen\"},\"id\":\"19277\",\"type\":\"BoxAnnotation\"},{\"attributes\":{},\"id\":\"19268\",\"type\":\"BasicTicker\"}],\"root_ids\":[\"19253\"]},\"title\":\"Bokeh Application\",\"version\":\"2.0.1\"}};\n",
       "  var render_items = [{\"docid\":\"940f4339-df81-40b5-9124-26a9b565458e\",\"root_ids\":[\"19253\"],\"roots\":{\"19253\":\"68ebfa56-0fc4-4453-ac75-9771830f4af9\"}}];\n",
       "  root.Bokeh.embed.embed_items_notebook(docs_json, render_items);\n",
       "\n",
       "  }\n",
       "  if (root.Bokeh !== undefined) {\n",
       "    embed_document(root);\n",
       "  } else {\n",
       "    var attempts = 0;\n",
       "    var timer = setInterval(function(root) {\n",
       "      if (root.Bokeh !== undefined) {\n",
       "        clearInterval(timer);\n",
       "        embed_document(root);\n",
       "      } else {\n",
       "        attempts++;\n",
       "        if (attempts > 100) {\n",
       "          clearInterval(timer);\n",
       "          console.log(\"Bokeh: ERROR: Unable to run BokehJS code because BokehJS library is missing\");\n",
       "        }\n",
       "      }\n",
       "    }, 10, root)\n",
       "  }\n",
       "})(window);"
      ],
      "application/vnd.bokehjs_exec.v0+json": ""
     },
     "metadata": {
      "application/vnd.bokehjs_exec.v0+json": {
       "id": "19253"
      }
     },
     "output_type": "display_data"
    },
    {
     "data": {
      "text/html": [
       "\n",
       "\n",
       "\n",
       "\n",
       "\n",
       "\n",
       "  <div class=\"bk-root\" id=\"fcac5c51-d8fd-45db-8e8d-8e169bb69111\" data-root-id=\"19873\"></div>\n"
      ]
     },
     "metadata": {},
     "output_type": "display_data"
    },
    {
     "data": {
      "application/javascript": [
       "(function(root) {\n",
       "  function embed_document(root) {\n",
       "    \n",
       "  var docs_json = {\"3bd4395c-7b8a-4d36-bda1-d71f4213bc9b\":{\"roots\":{\"references\":[{\"attributes\":{\"below\":[{\"id\":\"19884\"}],\"center\":[{\"id\":\"19886\"},{\"id\":\"19890\"},{\"id\":\"19916\"}],\"left\":[{\"id\":\"19887\"}],\"plot_height\":400,\"plot_width\":700,\"renderers\":[{\"id\":\"19908\"},{\"id\":\"19921\"}],\"title\":{\"id\":\"19874\"},\"toolbar\":{\"id\":\"19898\"},\"x_range\":{\"id\":\"19876\"},\"x_scale\":{\"id\":\"19880\"},\"y_range\":{\"id\":\"19878\"},\"y_scale\":{\"id\":\"19882\"}},\"id\":\"19873\",\"subtype\":\"Figure\",\"type\":\"Plot\"},{\"attributes\":{\"fill_alpha\":{\"value\":0.1},\"fill_color\":{\"value\":\"#1f77b4\"},\"line_alpha\":{\"value\":0.1},\"line_color\":{\"value\":\"#1f77b4\"},\"top\":{\"field\":\"top\"},\"width\":{\"value\":1},\"x\":{\"field\":\"x\"}},\"id\":\"19920\",\"type\":\"VBar\"},{\"attributes\":{\"formatter\":{\"id\":\"19914\"},\"ticker\":{\"id\":\"19888\"}},\"id\":\"19887\",\"type\":\"LinearAxis\"},{\"attributes\":{\"bottom_units\":\"screen\",\"fill_alpha\":0.5,\"fill_color\":\"lightgrey\",\"left_units\":\"screen\",\"level\":\"overlay\",\"line_alpha\":1.0,\"line_color\":\"black\",\"line_dash\":[4,4],\"line_width\":2,\"render_mode\":\"css\",\"right_units\":\"screen\",\"top_units\":\"screen\"},\"id\":\"19897\",\"type\":\"BoxAnnotation\"},{\"attributes\":{\"axis\":{\"id\":\"19884\"},\"grid_line_color\":null,\"ticker\":null},\"id\":\"19886\",\"type\":\"Grid\"},{\"attributes\":{},\"id\":\"19885\",\"type\":\"CategoricalTicker\"},{\"attributes\":{},\"id\":\"19912\",\"type\":\"CategoricalTickFormatter\"},{\"attributes\":{\"data_source\":{\"id\":\"19905\"},\"glyph\":{\"id\":\"19906\"},\"hover_glyph\":null,\"muted_glyph\":null,\"nonselection_glyph\":{\"id\":\"19907\"},\"selection_glyph\":null,\"view\":{\"id\":\"19909\"}},\"id\":\"19908\",\"type\":\"GlyphRenderer\"},{\"attributes\":{},\"id\":\"19880\",\"type\":\"CategoricalScale\"},{\"attributes\":{\"formatter\":{\"id\":\"19912\"},\"major_label_orientation\":\"vertical\",\"ticker\":{\"id\":\"19885\"}},\"id\":\"19884\",\"type\":\"CategoricalAxis\"},{\"attributes\":{\"source\":{\"id\":\"19905\"}},\"id\":\"19909\",\"type\":\"CDSView\"},{\"attributes\":{},\"id\":\"19882\",\"type\":\"LinearScale\"},{\"attributes\":{},\"id\":\"19914\",\"type\":\"BasicTickFormatter\"},{\"attributes\":{\"start\":0},\"id\":\"19878\",\"type\":\"DataRange1d\"},{\"attributes\":{\"data_source\":{\"id\":\"19918\"},\"glyph\":{\"id\":\"19919\"},\"hover_glyph\":null,\"muted_glyph\":null,\"nonselection_glyph\":{\"id\":\"19920\"},\"selection_glyph\":null,\"view\":{\"id\":\"19922\"}},\"id\":\"19921\",\"type\":\"GlyphRenderer\"},{\"attributes\":{\"fill_alpha\":{\"value\":0.5},\"fill_color\":{\"value\":\"#1f77b4\"},\"line_alpha\":{\"value\":0.5},\"line_color\":{\"value\":\"#1f77b4\"},\"top\":{\"field\":\"top\"},\"width\":{\"value\":1},\"x\":{\"field\":\"x\"}},\"id\":\"19919\",\"type\":\"VBar\"},{\"attributes\":{\"text\":\"S\\u00e9ances o\\u00f9 Camille Galliard-Minier \\u00e0 vot\\u00e9 (34)\"},\"id\":\"19874\",\"type\":\"Title\"},{\"attributes\":{},\"id\":\"20438\",\"type\":\"Selection\"},{\"attributes\":{\"source\":{\"id\":\"19918\"}},\"id\":\"19922\",\"type\":\"CDSView\"},{\"attributes\":{},\"id\":\"20439\",\"type\":\"UnionRenderers\"},{\"attributes\":{\"line_alpha\":{\"value\":0.1},\"line_color\":{\"value\":\"red\"},\"line_width\":{\"value\":2},\"x\":{\"field\":\"x\"},\"y\":{\"field\":\"y\"}},\"id\":\"19907\",\"type\":\"Step\"},{\"attributes\":{},\"id\":\"19891\",\"type\":\"PanTool\"},{\"attributes\":{},\"id\":\"20440\",\"type\":\"Selection\"},{\"attributes\":{\"data\":{\"top\":[0,0,0,0,0,0,0,0,0,0,0,0,0,0,0,0,0,0,0,0,0,0,0,0,0,0,0,0,0,0,0,4,4,7,19,0],\"x\":[\"2017-07\",\"2017-08\",\"2017-09\",\"2017-10\",\"2017-11\",\"2017-12\",\"2018-01\",\"2018-02\",\"2018-03\",\"2018-04\",\"2018-05\",\"2018-06\",\"2018-07\",\"2018-08\",\"2018-09\",\"2018-10\",\"2018-11\",\"2018-12\",\"2019-01\",\"2019-02\",\"2019-03\",\"2019-04\",\"2019-05\",\"2019-06\",\"2019-07\",\"2019-09\",\"2019-10\",\"2019-11\",\"2019-12\",\"2020-01\",\"2020-02\",\"2020-03\",\"2020-04\",\"2020-05\",\"2020-06\",\"2020-07\"]},\"selected\":{\"id\":\"20440\"},\"selection_policy\":{\"id\":\"20441\"}},\"id\":\"19918\",\"type\":\"ColumnDataSource\"},{\"attributes\":{\"data\":{\"x\":[\"2017-07\",\"2017-08\",\"2017-09\",\"2017-10\",\"2017-11\",\"2017-12\",\"2018-01\",\"2018-02\",\"2018-03\",\"2018-04\",\"2018-05\",\"2018-06\",\"2018-07\",\"2018-08\",\"2018-09\",\"2018-10\",\"2018-11\",\"2018-12\",\"2019-01\",\"2019-02\",\"2019-03\",\"2019-04\",\"2019-05\",\"2019-06\",\"2019-07\",\"2019-09\",\"2019-10\",\"2019-11\",\"2019-12\",\"2020-01\",\"2020-02\",\"2020-03\",\"2020-04\",\"2020-05\",\"2020-06\",\"2020-07\"],\"y\":[10.9948006932409,4.124783362218371,2.2738301559792027,10.15424610051993,8.228769497400346,4.492201039861352,3.1611785095320624,4.282495667244367,4.4558058925476605,8.55632582322357,7.759098786828423,9.533795493934143,7.209705372616984,0.6897746967071057,4.190641247833622,10.474870017331023,7.0606585788561524,6.495667244367418,4.006932409012132,5.33102253032929,5.92894280762565,2.538994800693241,5.571923743500866,6.649913344887349,5.493934142114385,4.003466204506066,9.809358752166379,5.915077989601387,4.337954939341421,2.466204506065858,10.331022530329289,4.987868284228769,3.9740034662045063,6.776429809358752,14.199306759098787,1.2218370883882148]},\"selected\":{\"id\":\"20438\"},\"selection_policy\":{\"id\":\"20439\"}},\"id\":\"19905\",\"type\":\"ColumnDataSource\"},{\"attributes\":{},\"id\":\"20441\",\"type\":\"UnionRenderers\"},{\"attributes\":{},\"id\":\"19892\",\"type\":\"WheelZoomTool\"},{\"attributes\":{\"line_alpha\":{\"value\":0.8},\"line_color\":{\"value\":\"red\"},\"line_width\":{\"value\":2},\"x\":{\"field\":\"x\"},\"y\":{\"field\":\"y\"}},\"id\":\"19906\",\"type\":\"Step\"},{\"attributes\":{\"active_drag\":\"auto\",\"active_inspect\":\"auto\",\"active_multi\":null,\"active_scroll\":\"auto\",\"active_tap\":\"auto\",\"tools\":[{\"id\":\"19891\"},{\"id\":\"19892\"},{\"id\":\"19893\"},{\"id\":\"19894\"},{\"id\":\"19895\"},{\"id\":\"19896\"}]},\"id\":\"19898\",\"type\":\"Toolbar\"},{\"attributes\":{},\"id\":\"19896\",\"type\":\"HelpTool\"},{\"attributes\":{\"overlay\":{\"id\":\"19897\"}},\"id\":\"19893\",\"type\":\"BoxZoomTool\"},{\"attributes\":{},\"id\":\"19895\",\"type\":\"ResetTool\"},{\"attributes\":{\"factors\":[\"2017-07\",\"2017-08\",\"2017-09\",\"2017-10\",\"2017-11\",\"2017-12\",\"2018-01\",\"2018-02\",\"2018-03\",\"2018-04\",\"2018-05\",\"2018-06\",\"2018-07\",\"2018-08\",\"2018-09\",\"2018-10\",\"2018-11\",\"2018-12\",\"2019-01\",\"2019-02\",\"2019-03\",\"2019-04\",\"2019-05\",\"2019-06\",\"2019-07\",\"2019-09\",\"2019-10\",\"2019-11\",\"2019-12\",\"2020-01\",\"2020-02\",\"2020-03\",\"2020-04\",\"2020-05\",\"2020-06\",\"2020-07\"]},\"id\":\"19876\",\"type\":\"FactorRange\"},{\"attributes\":{},\"id\":\"19894\",\"type\":\"SaveTool\"},{\"attributes\":{},\"id\":\"19888\",\"type\":\"BasicTicker\"},{\"attributes\":{\"label\":{\"value\":\"Moyenne de tous les d\\u00e9put\\u00e9s\"},\"renderers\":[{\"id\":\"19908\"}]},\"id\":\"19917\",\"type\":\"LegendItem\"},{\"attributes\":{\"items\":[{\"id\":\"19917\"}]},\"id\":\"19916\",\"type\":\"Legend\"},{\"attributes\":{\"axis\":{\"id\":\"19887\"},\"dimension\":1,\"grid_line_color\":null,\"ticker\":null},\"id\":\"19890\",\"type\":\"Grid\"}],\"root_ids\":[\"19873\"]},\"title\":\"Bokeh Application\",\"version\":\"2.0.1\"}};\n",
       "  var render_items = [{\"docid\":\"3bd4395c-7b8a-4d36-bda1-d71f4213bc9b\",\"root_ids\":[\"19873\"],\"roots\":{\"19873\":\"fcac5c51-d8fd-45db-8e8d-8e169bb69111\"}}];\n",
       "  root.Bokeh.embed.embed_items_notebook(docs_json, render_items);\n",
       "\n",
       "  }\n",
       "  if (root.Bokeh !== undefined) {\n",
       "    embed_document(root);\n",
       "  } else {\n",
       "    var attempts = 0;\n",
       "    var timer = setInterval(function(root) {\n",
       "      if (root.Bokeh !== undefined) {\n",
       "        clearInterval(timer);\n",
       "        embed_document(root);\n",
       "      } else {\n",
       "        attempts++;\n",
       "        if (attempts > 100) {\n",
       "          clearInterval(timer);\n",
       "          console.log(\"Bokeh: ERROR: Unable to run BokehJS code because BokehJS library is missing\");\n",
       "        }\n",
       "      }\n",
       "    }, 10, root)\n",
       "  }\n",
       "})(window);"
      ],
      "application/vnd.bokehjs_exec.v0+json": ""
     },
     "metadata": {
      "application/vnd.bokehjs_exec.v0+json": {
       "id": "19873"
      }
     },
     "output_type": "display_data"
    },
    {
     "data": {
      "text/html": [
       "\n",
       "\n",
       "\n",
       "\n",
       "\n",
       "\n",
       "  <div class=\"bk-root\" id=\"1844808e-4db4-45eb-ba31-682063d7e84c\" data-root-id=\"20503\"></div>\n"
      ]
     },
     "metadata": {},
     "output_type": "display_data"
    },
    {
     "data": {
      "application/javascript": [
       "(function(root) {\n",
       "  function embed_document(root) {\n",
       "    \n",
       "  var docs_json = {\"d6fc280f-acd5-4a80-8681-0305b105be2f\":{\"roots\":{\"references\":[{\"attributes\":{\"below\":[{\"id\":\"20514\"}],\"center\":[{\"id\":\"20516\"},{\"id\":\"20520\"},{\"id\":\"20546\"}],\"left\":[{\"id\":\"20517\"}],\"plot_height\":400,\"plot_width\":700,\"renderers\":[{\"id\":\"20538\"},{\"id\":\"20551\"}],\"title\":{\"id\":\"20504\"},\"toolbar\":{\"id\":\"20528\"},\"x_range\":{\"id\":\"20506\"},\"x_scale\":{\"id\":\"20510\"},\"y_range\":{\"id\":\"20508\"},\"y_scale\":{\"id\":\"20512\"}},\"id\":\"20503\",\"subtype\":\"Figure\",\"type\":\"Plot\"},{\"attributes\":{},\"id\":\"20518\",\"type\":\"BasicTicker\"},{\"attributes\":{\"fill_alpha\":{\"value\":0.5},\"fill_color\":{\"value\":\"#1f77b4\"},\"line_alpha\":{\"value\":0.5},\"line_color\":{\"value\":\"#1f77b4\"},\"top\":{\"field\":\"top\"},\"width\":{\"value\":1},\"x\":{\"field\":\"x\"}},\"id\":\"20549\",\"type\":\"VBar\"},{\"attributes\":{\"axis\":{\"id\":\"20517\"},\"dimension\":1,\"grid_line_color\":null,\"ticker\":null},\"id\":\"20520\",\"type\":\"Grid\"},{\"attributes\":{\"formatter\":{\"id\":\"20544\"},\"ticker\":{\"id\":\"20518\"}},\"id\":\"20517\",\"type\":\"LinearAxis\"},{\"attributes\":{\"bottom_units\":\"screen\",\"fill_alpha\":0.5,\"fill_color\":\"lightgrey\",\"left_units\":\"screen\",\"level\":\"overlay\",\"line_alpha\":1.0,\"line_color\":\"black\",\"line_dash\":[4,4],\"line_width\":2,\"render_mode\":\"css\",\"right_units\":\"screen\",\"top_units\":\"screen\"},\"id\":\"20527\",\"type\":\"BoxAnnotation\"},{\"attributes\":{\"axis\":{\"id\":\"20514\"},\"grid_line_color\":null,\"ticker\":null},\"id\":\"20516\",\"type\":\"Grid\"},{\"attributes\":{},\"id\":\"20515\",\"type\":\"CategoricalTicker\"},{\"attributes\":{},\"id\":\"20542\",\"type\":\"CategoricalTickFormatter\"},{\"attributes\":{\"data_source\":{\"id\":\"20535\"},\"glyph\":{\"id\":\"20536\"},\"hover_glyph\":null,\"muted_glyph\":null,\"nonselection_glyph\":{\"id\":\"20537\"},\"selection_glyph\":null,\"view\":{\"id\":\"20539\"}},\"id\":\"20538\",\"type\":\"GlyphRenderer\"},{\"attributes\":{},\"id\":\"20510\",\"type\":\"CategoricalScale\"},{\"attributes\":{\"formatter\":{\"id\":\"20542\"},\"major_label_orientation\":\"vertical\",\"ticker\":{\"id\":\"20515\"}},\"id\":\"20514\",\"type\":\"CategoricalAxis\"},{\"attributes\":{\"source\":{\"id\":\"20535\"}},\"id\":\"20539\",\"type\":\"CDSView\"},{\"attributes\":{},\"id\":\"20512\",\"type\":\"LinearScale\"},{\"attributes\":{},\"id\":\"20544\",\"type\":\"BasicTickFormatter\"},{\"attributes\":{},\"id\":\"20522\",\"type\":\"WheelZoomTool\"},{\"attributes\":{\"data_source\":{\"id\":\"20548\"},\"glyph\":{\"id\":\"20549\"},\"hover_glyph\":null,\"muted_glyph\":null,\"nonselection_glyph\":{\"id\":\"20550\"},\"selection_glyph\":null,\"view\":{\"id\":\"20552\"}},\"id\":\"20551\",\"type\":\"GlyphRenderer\"},{\"attributes\":{\"source\":{\"id\":\"20548\"}},\"id\":\"20552\",\"type\":\"CDSView\"},{\"attributes\":{\"start\":0},\"id\":\"20508\",\"type\":\"DataRange1d\"},{\"attributes\":{\"items\":[{\"id\":\"20547\"}]},\"id\":\"20546\",\"type\":\"Legend\"},{\"attributes\":{\"line_alpha\":{\"value\":0.1},\"line_color\":{\"value\":\"red\"},\"line_width\":{\"value\":2},\"x\":{\"field\":\"x\"},\"y\":{\"field\":\"y\"}},\"id\":\"20537\",\"type\":\"Step\"},{\"attributes\":{\"fill_alpha\":{\"value\":0.1},\"fill_color\":{\"value\":\"#1f77b4\"},\"line_alpha\":{\"value\":0.1},\"line_color\":{\"value\":\"#1f77b4\"},\"top\":{\"field\":\"top\"},\"width\":{\"value\":1},\"x\":{\"field\":\"x\"}},\"id\":\"20550\",\"type\":\"VBar\"},{\"attributes\":{},\"id\":\"21078\",\"type\":\"Selection\"},{\"attributes\":{\"text\":\"S\\u00e9ances o\\u00f9 Claudia Rouaux \\u00e0 vot\\u00e9 (37)\"},\"id\":\"20504\",\"type\":\"Title\"},{\"attributes\":{},\"id\":\"21079\",\"type\":\"UnionRenderers\"},{\"attributes\":{},\"id\":\"20521\",\"type\":\"PanTool\"},{\"attributes\":{},\"id\":\"21080\",\"type\":\"Selection\"},{\"attributes\":{\"data\":{\"top\":[0,0,0,0,0,0,0,0,0,0,0,0,0,0,0,0,0,0,0,0,0,0,0,0,0,0,0,0,0,0,0,6,4,7,16,4],\"x\":[\"2017-07\",\"2017-08\",\"2017-09\",\"2017-10\",\"2017-11\",\"2017-12\",\"2018-01\",\"2018-02\",\"2018-03\",\"2018-04\",\"2018-05\",\"2018-06\",\"2018-07\",\"2018-08\",\"2018-09\",\"2018-10\",\"2018-11\",\"2018-12\",\"2019-01\",\"2019-02\",\"2019-03\",\"2019-04\",\"2019-05\",\"2019-06\",\"2019-07\",\"2019-09\",\"2019-10\",\"2019-11\",\"2019-12\",\"2020-01\",\"2020-02\",\"2020-03\",\"2020-04\",\"2020-05\",\"2020-06\",\"2020-07\"]},\"selected\":{\"id\":\"21080\"},\"selection_policy\":{\"id\":\"21081\"}},\"id\":\"20548\",\"type\":\"ColumnDataSource\"},{\"attributes\":{\"overlay\":{\"id\":\"20527\"}},\"id\":\"20523\",\"type\":\"BoxZoomTool\"},{\"attributes\":{},\"id\":\"21081\",\"type\":\"UnionRenderers\"},{\"attributes\":{},\"id\":\"20526\",\"type\":\"HelpTool\"},{\"attributes\":{\"line_alpha\":{\"value\":0.8},\"line_color\":{\"value\":\"red\"},\"line_width\":{\"value\":2},\"x\":{\"field\":\"x\"},\"y\":{\"field\":\"y\"}},\"id\":\"20536\",\"type\":\"Step\"},{\"attributes\":{\"data\":{\"x\":[\"2017-07\",\"2017-08\",\"2017-09\",\"2017-10\",\"2017-11\",\"2017-12\",\"2018-01\",\"2018-02\",\"2018-03\",\"2018-04\",\"2018-05\",\"2018-06\",\"2018-07\",\"2018-08\",\"2018-09\",\"2018-10\",\"2018-11\",\"2018-12\",\"2019-01\",\"2019-02\",\"2019-03\",\"2019-04\",\"2019-05\",\"2019-06\",\"2019-07\",\"2019-09\",\"2019-10\",\"2019-11\",\"2019-12\",\"2020-01\",\"2020-02\",\"2020-03\",\"2020-04\",\"2020-05\",\"2020-06\",\"2020-07\"],\"y\":[10.9948006932409,4.124783362218371,2.2738301559792027,10.15424610051993,8.228769497400346,4.492201039861352,3.1611785095320624,4.282495667244367,4.4558058925476605,8.55632582322357,7.759098786828423,9.533795493934143,7.209705372616984,0.6897746967071057,4.190641247833622,10.474870017331023,7.0606585788561524,6.495667244367418,4.006932409012132,5.33102253032929,5.92894280762565,2.538994800693241,5.571923743500866,6.649913344887349,5.493934142114385,4.003466204506066,9.809358752166379,5.915077989601387,4.337954939341421,2.466204506065858,10.331022530329289,4.987868284228769,3.9740034662045063,6.776429809358752,14.199306759098787,1.2218370883882148]},\"selected\":{\"id\":\"21078\"},\"selection_policy\":{\"id\":\"21079\"}},\"id\":\"20535\",\"type\":\"ColumnDataSource\"},{\"attributes\":{},\"id\":\"20524\",\"type\":\"SaveTool\"},{\"attributes\":{\"label\":{\"value\":\"Moyenne de tous les d\\u00e9put\\u00e9s\"},\"renderers\":[{\"id\":\"20538\"}]},\"id\":\"20547\",\"type\":\"LegendItem\"},{\"attributes\":{\"active_drag\":\"auto\",\"active_inspect\":\"auto\",\"active_multi\":null,\"active_scroll\":\"auto\",\"active_tap\":\"auto\",\"tools\":[{\"id\":\"20521\"},{\"id\":\"20522\"},{\"id\":\"20523\"},{\"id\":\"20524\"},{\"id\":\"20525\"},{\"id\":\"20526\"}]},\"id\":\"20528\",\"type\":\"Toolbar\"},{\"attributes\":{},\"id\":\"20525\",\"type\":\"ResetTool\"},{\"attributes\":{\"factors\":[\"2017-07\",\"2017-08\",\"2017-09\",\"2017-10\",\"2017-11\",\"2017-12\",\"2018-01\",\"2018-02\",\"2018-03\",\"2018-04\",\"2018-05\",\"2018-06\",\"2018-07\",\"2018-08\",\"2018-09\",\"2018-10\",\"2018-11\",\"2018-12\",\"2019-01\",\"2019-02\",\"2019-03\",\"2019-04\",\"2019-05\",\"2019-06\",\"2019-07\",\"2019-09\",\"2019-10\",\"2019-11\",\"2019-12\",\"2020-01\",\"2020-02\",\"2020-03\",\"2020-04\",\"2020-05\",\"2020-06\",\"2020-07\"]},\"id\":\"20506\",\"type\":\"FactorRange\"}],\"root_ids\":[\"20503\"]},\"title\":\"Bokeh Application\",\"version\":\"2.0.1\"}};\n",
       "  var render_items = [{\"docid\":\"d6fc280f-acd5-4a80-8681-0305b105be2f\",\"root_ids\":[\"20503\"],\"roots\":{\"20503\":\"1844808e-4db4-45eb-ba31-682063d7e84c\"}}];\n",
       "  root.Bokeh.embed.embed_items_notebook(docs_json, render_items);\n",
       "\n",
       "  }\n",
       "  if (root.Bokeh !== undefined) {\n",
       "    embed_document(root);\n",
       "  } else {\n",
       "    var attempts = 0;\n",
       "    var timer = setInterval(function(root) {\n",
       "      if (root.Bokeh !== undefined) {\n",
       "        clearInterval(timer);\n",
       "        embed_document(root);\n",
       "      } else {\n",
       "        attempts++;\n",
       "        if (attempts > 100) {\n",
       "          clearInterval(timer);\n",
       "          console.log(\"Bokeh: ERROR: Unable to run BokehJS code because BokehJS library is missing\");\n",
       "        }\n",
       "      }\n",
       "    }, 10, root)\n",
       "  }\n",
       "})(window);"
      ],
      "application/vnd.bokehjs_exec.v0+json": ""
     },
     "metadata": {
      "application/vnd.bokehjs_exec.v0+json": {
       "id": "20503"
      }
     },
     "output_type": "display_data"
    },
    {
     "data": {
      "text/html": [
       "\n",
       "\n",
       "\n",
       "\n",
       "\n",
       "\n",
       "  <div class=\"bk-root\" id=\"9c043f64-2d97-4c47-a64e-6819f7450761\" data-root-id=\"21143\"></div>\n"
      ]
     },
     "metadata": {},
     "output_type": "display_data"
    },
    {
     "data": {
      "application/javascript": [
       "(function(root) {\n",
       "  function embed_document(root) {\n",
       "    \n",
       "  var docs_json = {\"58b452ec-b29a-4ac5-a276-3f90e64a76d5\":{\"roots\":{\"references\":[{\"attributes\":{\"below\":[{\"id\":\"21154\"}],\"center\":[{\"id\":\"21156\"},{\"id\":\"21160\"},{\"id\":\"21186\"}],\"left\":[{\"id\":\"21157\"}],\"plot_height\":400,\"plot_width\":700,\"renderers\":[{\"id\":\"21178\"},{\"id\":\"21191\"}],\"title\":{\"id\":\"21144\"},\"toolbar\":{\"id\":\"21168\"},\"x_range\":{\"id\":\"21146\"},\"x_scale\":{\"id\":\"21150\"},\"y_range\":{\"id\":\"21148\"},\"y_scale\":{\"id\":\"21152\"}},\"id\":\"21143\",\"subtype\":\"Figure\",\"type\":\"Plot\"},{\"attributes\":{\"formatter\":{\"id\":\"21184\"},\"ticker\":{\"id\":\"21158\"}},\"id\":\"21157\",\"type\":\"LinearAxis\"},{\"attributes\":{\"bottom_units\":\"screen\",\"fill_alpha\":0.5,\"fill_color\":\"lightgrey\",\"left_units\":\"screen\",\"level\":\"overlay\",\"line_alpha\":1.0,\"line_color\":\"black\",\"line_dash\":[4,4],\"line_width\":2,\"render_mode\":\"css\",\"right_units\":\"screen\",\"top_units\":\"screen\"},\"id\":\"21167\",\"type\":\"BoxAnnotation\"},{\"attributes\":{\"line_alpha\":{\"value\":0.8},\"line_color\":{\"value\":\"red\"},\"line_width\":{\"value\":2},\"x\":{\"field\":\"x\"},\"y\":{\"field\":\"y\"}},\"id\":\"21176\",\"type\":\"Step\"},{\"attributes\":{\"data\":{\"top\":[0,0,0,0,0,0,0,0,0,0,2,5,3,0,3,5,0,8,3,0,2,0,2,0,4,3,0,0,0,0,0,4,3,0,0,0],\"x\":[\"2017-07\",\"2017-08\",\"2017-09\",\"2017-10\",\"2017-11\",\"2017-12\",\"2018-01\",\"2018-02\",\"2018-03\",\"2018-04\",\"2018-05\",\"2018-06\",\"2018-07\",\"2018-08\",\"2018-09\",\"2018-10\",\"2018-11\",\"2018-12\",\"2019-01\",\"2019-02\",\"2019-03\",\"2019-04\",\"2019-05\",\"2019-06\",\"2019-07\",\"2019-09\",\"2019-10\",\"2019-11\",\"2019-12\",\"2020-01\",\"2020-02\",\"2020-03\",\"2020-04\",\"2020-05\",\"2020-06\",\"2020-07\"]},\"selected\":{\"id\":\"21730\"},\"selection_policy\":{\"id\":\"21731\"}},\"id\":\"21188\",\"type\":\"ColumnDataSource\"},{\"attributes\":{\"axis\":{\"id\":\"21157\"},\"dimension\":1,\"grid_line_color\":null,\"ticker\":null},\"id\":\"21160\",\"type\":\"Grid\"},{\"attributes\":{\"fill_alpha\":{\"value\":0.5},\"fill_color\":{\"value\":\"#1f77b4\"},\"line_alpha\":{\"value\":0.5},\"line_color\":{\"value\":\"#1f77b4\"},\"top\":{\"field\":\"top\"},\"width\":{\"value\":1},\"x\":{\"field\":\"x\"}},\"id\":\"21189\",\"type\":\"VBar\"},{\"attributes\":{},\"id\":\"21158\",\"type\":\"BasicTicker\"},{\"attributes\":{\"active_drag\":\"auto\",\"active_inspect\":\"auto\",\"active_multi\":null,\"active_scroll\":\"auto\",\"active_tap\":\"auto\",\"tools\":[{\"id\":\"21161\"},{\"id\":\"21162\"},{\"id\":\"21163\"},{\"id\":\"21164\"},{\"id\":\"21165\"},{\"id\":\"21166\"}]},\"id\":\"21168\",\"type\":\"Toolbar\"},{\"attributes\":{},\"id\":\"21182\",\"type\":\"CategoricalTickFormatter\"},{\"attributes\":{\"data_source\":{\"id\":\"21175\"},\"glyph\":{\"id\":\"21176\"},\"hover_glyph\":null,\"muted_glyph\":null,\"nonselection_glyph\":{\"id\":\"21177\"},\"selection_glyph\":null,\"view\":{\"id\":\"21179\"}},\"id\":\"21178\",\"type\":\"GlyphRenderer\"},{\"attributes\":{\"axis\":{\"id\":\"21154\"},\"grid_line_color\":null,\"ticker\":null},\"id\":\"21156\",\"type\":\"Grid\"},{\"attributes\":{},\"id\":\"21155\",\"type\":\"CategoricalTicker\"},{\"attributes\":{\"source\":{\"id\":\"21175\"}},\"id\":\"21179\",\"type\":\"CDSView\"},{\"attributes\":{},\"id\":\"21184\",\"type\":\"BasicTickFormatter\"},{\"attributes\":{\"formatter\":{\"id\":\"21182\"},\"major_label_orientation\":\"vertical\",\"ticker\":{\"id\":\"21155\"}},\"id\":\"21154\",\"type\":\"CategoricalAxis\"},{\"attributes\":{},\"id\":\"21152\",\"type\":\"LinearScale\"},{\"attributes\":{\"data_source\":{\"id\":\"21188\"},\"glyph\":{\"id\":\"21189\"},\"hover_glyph\":null,\"muted_glyph\":null,\"nonselection_glyph\":{\"id\":\"21190\"},\"selection_glyph\":null,\"view\":{\"id\":\"21192\"}},\"id\":\"21191\",\"type\":\"GlyphRenderer\"},{\"attributes\":{\"source\":{\"id\":\"21188\"}},\"id\":\"21192\",\"type\":\"CDSView\"},{\"attributes\":{},\"id\":\"21150\",\"type\":\"CategoricalScale\"},{\"attributes\":{},\"id\":\"21728\",\"type\":\"Selection\"},{\"attributes\":{\"fill_alpha\":{\"value\":0.1},\"fill_color\":{\"value\":\"#1f77b4\"},\"line_alpha\":{\"value\":0.1},\"line_color\":{\"value\":\"#1f77b4\"},\"top\":{\"field\":\"top\"},\"width\":{\"value\":1},\"x\":{\"field\":\"x\"}},\"id\":\"21190\",\"type\":\"VBar\"},{\"attributes\":{\"factors\":[\"2017-07\",\"2017-08\",\"2017-09\",\"2017-10\",\"2017-11\",\"2017-12\",\"2018-01\",\"2018-02\",\"2018-03\",\"2018-04\",\"2018-05\",\"2018-06\",\"2018-07\",\"2018-08\",\"2018-09\",\"2018-10\",\"2018-11\",\"2018-12\",\"2019-01\",\"2019-02\",\"2019-03\",\"2019-04\",\"2019-05\",\"2019-06\",\"2019-07\",\"2019-09\",\"2019-10\",\"2019-11\",\"2019-12\",\"2020-01\",\"2020-02\",\"2020-03\",\"2020-04\",\"2020-05\",\"2020-06\",\"2020-07\"]},\"id\":\"21146\",\"type\":\"FactorRange\"},{\"attributes\":{\"start\":0},\"id\":\"21148\",\"type\":\"DataRange1d\"},{\"attributes\":{\"line_alpha\":{\"value\":0.1},\"line_color\":{\"value\":\"red\"},\"line_width\":{\"value\":2},\"x\":{\"field\":\"x\"},\"y\":{\"field\":\"y\"}},\"id\":\"21177\",\"type\":\"Step\"},{\"attributes\":{\"text\":\"S\\u00e9ances o\\u00f9 Sylvain Brial \\u00e0 vot\\u00e9 (47)\"},\"id\":\"21144\",\"type\":\"Title\"},{\"attributes\":{},\"id\":\"21729\",\"type\":\"UnionRenderers\"},{\"attributes\":{\"items\":[{\"id\":\"21187\"}]},\"id\":\"21186\",\"type\":\"Legend\"},{\"attributes\":{},\"id\":\"21730\",\"type\":\"Selection\"},{\"attributes\":{\"data\":{\"x\":[\"2017-07\",\"2017-08\",\"2017-09\",\"2017-10\",\"2017-11\",\"2017-12\",\"2018-01\",\"2018-02\",\"2018-03\",\"2018-04\",\"2018-05\",\"2018-06\",\"2018-07\",\"2018-08\",\"2018-09\",\"2018-10\",\"2018-11\",\"2018-12\",\"2019-01\",\"2019-02\",\"2019-03\",\"2019-04\",\"2019-05\",\"2019-06\",\"2019-07\",\"2019-09\",\"2019-10\",\"2019-11\",\"2019-12\",\"2020-01\",\"2020-02\",\"2020-03\",\"2020-04\",\"2020-05\",\"2020-06\",\"2020-07\"],\"y\":[10.9948006932409,4.124783362218371,2.2738301559792027,10.15424610051993,8.228769497400346,4.492201039861352,3.1611785095320624,4.282495667244367,4.4558058925476605,8.55632582322357,7.759098786828423,9.533795493934143,7.209705372616984,0.6897746967071057,4.190641247833622,10.474870017331023,7.0606585788561524,6.495667244367418,4.006932409012132,5.33102253032929,5.92894280762565,2.538994800693241,5.571923743500866,6.649913344887349,5.493934142114385,4.003466204506066,9.809358752166379,5.915077989601387,4.337954939341421,2.466204506065858,10.331022530329289,4.987868284228769,3.9740034662045063,6.776429809358752,14.199306759098787,1.2218370883882148]},\"selected\":{\"id\":\"21728\"},\"selection_policy\":{\"id\":\"21729\"}},\"id\":\"21175\",\"type\":\"ColumnDataSource\"},{\"attributes\":{},\"id\":\"21162\",\"type\":\"WheelZoomTool\"},{\"attributes\":{\"label\":{\"value\":\"Moyenne de tous les d\\u00e9put\\u00e9s\"},\"renderers\":[{\"id\":\"21178\"}]},\"id\":\"21187\",\"type\":\"LegendItem\"},{\"attributes\":{},\"id\":\"21731\",\"type\":\"UnionRenderers\"},{\"attributes\":{},\"id\":\"21166\",\"type\":\"HelpTool\"},{\"attributes\":{},\"id\":\"21164\",\"type\":\"SaveTool\"},{\"attributes\":{},\"id\":\"21165\",\"type\":\"ResetTool\"},{\"attributes\":{\"overlay\":{\"id\":\"21167\"}},\"id\":\"21163\",\"type\":\"BoxZoomTool\"},{\"attributes\":{},\"id\":\"21161\",\"type\":\"PanTool\"}],\"root_ids\":[\"21143\"]},\"title\":\"Bokeh Application\",\"version\":\"2.0.1\"}};\n",
       "  var render_items = [{\"docid\":\"58b452ec-b29a-4ac5-a276-3f90e64a76d5\",\"root_ids\":[\"21143\"],\"roots\":{\"21143\":\"9c043f64-2d97-4c47-a64e-6819f7450761\"}}];\n",
       "  root.Bokeh.embed.embed_items_notebook(docs_json, render_items);\n",
       "\n",
       "  }\n",
       "  if (root.Bokeh !== undefined) {\n",
       "    embed_document(root);\n",
       "  } else {\n",
       "    var attempts = 0;\n",
       "    var timer = setInterval(function(root) {\n",
       "      if (root.Bokeh !== undefined) {\n",
       "        clearInterval(timer);\n",
       "        embed_document(root);\n",
       "      } else {\n",
       "        attempts++;\n",
       "        if (attempts > 100) {\n",
       "          clearInterval(timer);\n",
       "          console.log(\"Bokeh: ERROR: Unable to run BokehJS code because BokehJS library is missing\");\n",
       "        }\n",
       "      }\n",
       "    }, 10, root)\n",
       "  }\n",
       "})(window);"
      ],
      "application/vnd.bokehjs_exec.v0+json": ""
     },
     "metadata": {
      "application/vnd.bokehjs_exec.v0+json": {
       "id": "21143"
      }
     },
     "output_type": "display_data"
    },
    {
     "data": {
      "text/html": [
       "\n",
       "\n",
       "\n",
       "\n",
       "\n",
       "\n",
       "  <div class=\"bk-root\" id=\"fd2b2cff-d41b-4f7f-86a6-5abb55b879bf\" data-root-id=\"21793\"></div>\n"
      ]
     },
     "metadata": {},
     "output_type": "display_data"
    },
    {
     "data": {
      "application/javascript": [
       "(function(root) {\n",
       "  function embed_document(root) {\n",
       "    \n",
       "  var docs_json = {\"e9e497d7-24c5-4793-b1d0-7e8672f8af90\":{\"roots\":{\"references\":[{\"attributes\":{\"below\":[{\"id\":\"21804\"}],\"center\":[{\"id\":\"21806\"},{\"id\":\"21810\"},{\"id\":\"21836\"}],\"left\":[{\"id\":\"21807\"}],\"plot_height\":400,\"plot_width\":700,\"renderers\":[{\"id\":\"21828\"},{\"id\":\"21841\"}],\"title\":{\"id\":\"21794\"},\"toolbar\":{\"id\":\"21818\"},\"x_range\":{\"id\":\"21796\"},\"x_scale\":{\"id\":\"21800\"},\"y_range\":{\"id\":\"21798\"},\"y_scale\":{\"id\":\"21802\"}},\"id\":\"21793\",\"subtype\":\"Figure\",\"type\":\"Plot\"},{\"attributes\":{},\"id\":\"21814\",\"type\":\"SaveTool\"},{\"attributes\":{},\"id\":\"21815\",\"type\":\"ResetTool\"},{\"attributes\":{},\"id\":\"21812\",\"type\":\"WheelZoomTool\"},{\"attributes\":{\"overlay\":{\"id\":\"21817\"}},\"id\":\"21813\",\"type\":\"BoxZoomTool\"},{\"attributes\":{},\"id\":\"21816\",\"type\":\"HelpTool\"},{\"attributes\":{\"axis\":{\"id\":\"21804\"},\"grid_line_color\":null,\"ticker\":null},\"id\":\"21806\",\"type\":\"Grid\"},{\"attributes\":{},\"id\":\"22391\",\"type\":\"UnionRenderers\"},{\"attributes\":{\"active_drag\":\"auto\",\"active_inspect\":\"auto\",\"active_multi\":null,\"active_scroll\":\"auto\",\"active_tap\":\"auto\",\"tools\":[{\"id\":\"21811\"},{\"id\":\"21812\"},{\"id\":\"21813\"},{\"id\":\"21814\"},{\"id\":\"21815\"},{\"id\":\"21816\"}]},\"id\":\"21818\",\"type\":\"Toolbar\"},{\"attributes\":{\"axis\":{\"id\":\"21807\"},\"dimension\":1,\"grid_line_color\":null,\"ticker\":null},\"id\":\"21810\",\"type\":\"Grid\"},{\"attributes\":{},\"id\":\"21808\",\"type\":\"BasicTicker\"},{\"attributes\":{\"label\":{\"value\":\"Moyenne de tous les d\\u00e9put\\u00e9s\"},\"renderers\":[{\"id\":\"21828\"}]},\"id\":\"21837\",\"type\":\"LegendItem\"},{\"attributes\":{\"formatter\":{\"id\":\"21834\"},\"ticker\":{\"id\":\"21808\"}},\"id\":\"21807\",\"type\":\"LinearAxis\"},{\"attributes\":{\"data\":{\"top\":[0,0,0,0,0,0,0,0,0,0,0,0,0,0,0,0,0,0,0,0,0,0,4,3,2,0,3,3,2,0,0,4,4,7,15,4],\"x\":[\"2017-07\",\"2017-08\",\"2017-09\",\"2017-10\",\"2017-11\",\"2017-12\",\"2018-01\",\"2018-02\",\"2018-03\",\"2018-04\",\"2018-05\",\"2018-06\",\"2018-07\",\"2018-08\",\"2018-09\",\"2018-10\",\"2018-11\",\"2018-12\",\"2019-01\",\"2019-02\",\"2019-03\",\"2019-04\",\"2019-05\",\"2019-06\",\"2019-07\",\"2019-09\",\"2019-10\",\"2019-11\",\"2019-12\",\"2020-01\",\"2020-02\",\"2020-03\",\"2020-04\",\"2020-05\",\"2020-06\",\"2020-07\"]},\"selected\":{\"id\":\"22390\"},\"selection_policy\":{\"id\":\"22391\"}},\"id\":\"21838\",\"type\":\"ColumnDataSource\"},{\"attributes\":{\"bottom_units\":\"screen\",\"fill_alpha\":0.5,\"fill_color\":\"lightgrey\",\"left_units\":\"screen\",\"level\":\"overlay\",\"line_alpha\":1.0,\"line_color\":\"black\",\"line_dash\":[4,4],\"line_width\":2,\"render_mode\":\"css\",\"right_units\":\"screen\",\"top_units\":\"screen\"},\"id\":\"21817\",\"type\":\"BoxAnnotation\"},{\"attributes\":{},\"id\":\"21805\",\"type\":\"CategoricalTicker\"},{\"attributes\":{\"formatter\":{\"id\":\"21832\"},\"major_label_orientation\":\"vertical\",\"ticker\":{\"id\":\"21805\"}},\"id\":\"21804\",\"type\":\"CategoricalAxis\"},{\"attributes\":{\"data_source\":{\"id\":\"21825\"},\"glyph\":{\"id\":\"21826\"},\"hover_glyph\":null,\"muted_glyph\":null,\"nonselection_glyph\":{\"id\":\"21827\"},\"selection_glyph\":null,\"view\":{\"id\":\"21829\"}},\"id\":\"21828\",\"type\":\"GlyphRenderer\"},{\"attributes\":{\"source\":{\"id\":\"21825\"}},\"id\":\"21829\",\"type\":\"CDSView\"},{\"attributes\":{},\"id\":\"21802\",\"type\":\"LinearScale\"},{\"attributes\":{\"fill_alpha\":{\"value\":0.5},\"fill_color\":{\"value\":\"#1f77b4\"},\"line_alpha\":{\"value\":0.5},\"line_color\":{\"value\":\"#1f77b4\"},\"top\":{\"field\":\"top\"},\"width\":{\"value\":1},\"x\":{\"field\":\"x\"}},\"id\":\"21839\",\"type\":\"VBar\"},{\"attributes\":{},\"id\":\"21800\",\"type\":\"CategoricalScale\"},{\"attributes\":{\"start\":0},\"id\":\"21798\",\"type\":\"DataRange1d\"},{\"attributes\":{\"data_source\":{\"id\":\"21838\"},\"glyph\":{\"id\":\"21839\"},\"hover_glyph\":null,\"muted_glyph\":null,\"nonselection_glyph\":{\"id\":\"21840\"},\"selection_glyph\":null,\"view\":{\"id\":\"21842\"}},\"id\":\"21841\",\"type\":\"GlyphRenderer\"},{\"attributes\":{\"source\":{\"id\":\"21838\"}},\"id\":\"21842\",\"type\":\"CDSView\"},{\"attributes\":{},\"id\":\"22388\",\"type\":\"Selection\"},{\"attributes\":{\"text\":\"S\\u00e9ances o\\u00f9 Benjamin Griveaux \\u00e0 vot\\u00e9 (51)\"},\"id\":\"21794\",\"type\":\"Title\"},{\"attributes\":{\"fill_alpha\":{\"value\":0.1},\"fill_color\":{\"value\":\"#1f77b4\"},\"line_alpha\":{\"value\":0.1},\"line_color\":{\"value\":\"#1f77b4\"},\"top\":{\"field\":\"top\"},\"width\":{\"value\":1},\"x\":{\"field\":\"x\"}},\"id\":\"21840\",\"type\":\"VBar\"},{\"attributes\":{\"items\":[{\"id\":\"21837\"}]},\"id\":\"21836\",\"type\":\"Legend\"},{\"attributes\":{\"line_alpha\":{\"value\":0.1},\"line_color\":{\"value\":\"red\"},\"line_width\":{\"value\":2},\"x\":{\"field\":\"x\"},\"y\":{\"field\":\"y\"}},\"id\":\"21827\",\"type\":\"Step\"},{\"attributes\":{\"factors\":[\"2017-07\",\"2017-08\",\"2017-09\",\"2017-10\",\"2017-11\",\"2017-12\",\"2018-01\",\"2018-02\",\"2018-03\",\"2018-04\",\"2018-05\",\"2018-06\",\"2018-07\",\"2018-08\",\"2018-09\",\"2018-10\",\"2018-11\",\"2018-12\",\"2019-01\",\"2019-02\",\"2019-03\",\"2019-04\",\"2019-05\",\"2019-06\",\"2019-07\",\"2019-09\",\"2019-10\",\"2019-11\",\"2019-12\",\"2020-01\",\"2020-02\",\"2020-03\",\"2020-04\",\"2020-05\",\"2020-06\",\"2020-07\"]},\"id\":\"21796\",\"type\":\"FactorRange\"},{\"attributes\":{},\"id\":\"22389\",\"type\":\"UnionRenderers\"},{\"attributes\":{},\"id\":\"21832\",\"type\":\"CategoricalTickFormatter\"},{\"attributes\":{},\"id\":\"22390\",\"type\":\"Selection\"},{\"attributes\":{\"data\":{\"x\":[\"2017-07\",\"2017-08\",\"2017-09\",\"2017-10\",\"2017-11\",\"2017-12\",\"2018-01\",\"2018-02\",\"2018-03\",\"2018-04\",\"2018-05\",\"2018-06\",\"2018-07\",\"2018-08\",\"2018-09\",\"2018-10\",\"2018-11\",\"2018-12\",\"2019-01\",\"2019-02\",\"2019-03\",\"2019-04\",\"2019-05\",\"2019-06\",\"2019-07\",\"2019-09\",\"2019-10\",\"2019-11\",\"2019-12\",\"2020-01\",\"2020-02\",\"2020-03\",\"2020-04\",\"2020-05\",\"2020-06\",\"2020-07\"],\"y\":[10.9948006932409,4.124783362218371,2.2738301559792027,10.15424610051993,8.228769497400346,4.492201039861352,3.1611785095320624,4.282495667244367,4.4558058925476605,8.55632582322357,7.759098786828423,9.533795493934143,7.209705372616984,0.6897746967071057,4.190641247833622,10.474870017331023,7.0606585788561524,6.495667244367418,4.006932409012132,5.33102253032929,5.92894280762565,2.538994800693241,5.571923743500866,6.649913344887349,5.493934142114385,4.003466204506066,9.809358752166379,5.915077989601387,4.337954939341421,2.466204506065858,10.331022530329289,4.987868284228769,3.9740034662045063,6.776429809358752,14.199306759098787,1.2218370883882148]},\"selected\":{\"id\":\"22388\"},\"selection_policy\":{\"id\":\"22389\"}},\"id\":\"21825\",\"type\":\"ColumnDataSource\"},{\"attributes\":{},\"id\":\"21834\",\"type\":\"BasicTickFormatter\"},{\"attributes\":{\"line_alpha\":{\"value\":0.8},\"line_color\":{\"value\":\"red\"},\"line_width\":{\"value\":2},\"x\":{\"field\":\"x\"},\"y\":{\"field\":\"y\"}},\"id\":\"21826\",\"type\":\"Step\"},{\"attributes\":{},\"id\":\"21811\",\"type\":\"PanTool\"}],\"root_ids\":[\"21793\"]},\"title\":\"Bokeh Application\",\"version\":\"2.0.1\"}};\n",
       "  var render_items = [{\"docid\":\"e9e497d7-24c5-4793-b1d0-7e8672f8af90\",\"root_ids\":[\"21793\"],\"roots\":{\"21793\":\"fd2b2cff-d41b-4f7f-86a6-5abb55b879bf\"}}];\n",
       "  root.Bokeh.embed.embed_items_notebook(docs_json, render_items);\n",
       "\n",
       "  }\n",
       "  if (root.Bokeh !== undefined) {\n",
       "    embed_document(root);\n",
       "  } else {\n",
       "    var attempts = 0;\n",
       "    var timer = setInterval(function(root) {\n",
       "      if (root.Bokeh !== undefined) {\n",
       "        clearInterval(timer);\n",
       "        embed_document(root);\n",
       "      } else {\n",
       "        attempts++;\n",
       "        if (attempts > 100) {\n",
       "          clearInterval(timer);\n",
       "          console.log(\"Bokeh: ERROR: Unable to run BokehJS code because BokehJS library is missing\");\n",
       "        }\n",
       "      }\n",
       "    }, 10, root)\n",
       "  }\n",
       "})(window);"
      ],
      "application/vnd.bokehjs_exec.v0+json": ""
     },
     "metadata": {
      "application/vnd.bokehjs_exec.v0+json": {
       "id": "21793"
      }
     },
     "output_type": "display_data"
    },
    {
     "data": {
      "text/html": [
       "\n",
       "\n",
       "\n",
       "\n",
       "\n",
       "\n",
       "  <div class=\"bk-root\" id=\"f74b0a0e-4b7f-484c-88e1-5128b3dcc521\" data-root-id=\"22453\"></div>\n"
      ]
     },
     "metadata": {},
     "output_type": "display_data"
    },
    {
     "data": {
      "application/javascript": [
       "(function(root) {\n",
       "  function embed_document(root) {\n",
       "    \n",
       "  var docs_json = {\"6ebcd607-a32a-4ac2-a4b7-b8b72f00cc11\":{\"roots\":{\"references\":[{\"attributes\":{\"below\":[{\"id\":\"22464\"}],\"center\":[{\"id\":\"22466\"},{\"id\":\"22470\"},{\"id\":\"22496\"}],\"left\":[{\"id\":\"22467\"}],\"plot_height\":400,\"plot_width\":700,\"renderers\":[{\"id\":\"22488\"},{\"id\":\"22501\"}],\"title\":{\"id\":\"22454\"},\"toolbar\":{\"id\":\"22478\"},\"x_range\":{\"id\":\"22456\"},\"x_scale\":{\"id\":\"22460\"},\"y_range\":{\"id\":\"22458\"},\"y_scale\":{\"id\":\"22462\"}},\"id\":\"22453\",\"subtype\":\"Figure\",\"type\":\"Plot\"},{\"attributes\":{},\"id\":\"22472\",\"type\":\"WheelZoomTool\"},{\"attributes\":{\"line_alpha\":{\"value\":0.8},\"line_color\":{\"value\":\"red\"},\"line_width\":{\"value\":2},\"x\":{\"field\":\"x\"},\"y\":{\"field\":\"y\"}},\"id\":\"22486\",\"type\":\"Step\"},{\"attributes\":{},\"id\":\"23060\",\"type\":\"Selection\"},{\"attributes\":{\"overlay\":{\"id\":\"22477\"}},\"id\":\"22473\",\"type\":\"BoxZoomTool\"},{\"attributes\":{},\"id\":\"23061\",\"type\":\"UnionRenderers\"},{\"attributes\":{},\"id\":\"22474\",\"type\":\"SaveTool\"},{\"attributes\":{},\"id\":\"22471\",\"type\":\"PanTool\"},{\"attributes\":{},\"id\":\"22475\",\"type\":\"ResetTool\"},{\"attributes\":{\"data\":{\"x\":[\"2017-07\",\"2017-08\",\"2017-09\",\"2017-10\",\"2017-11\",\"2017-12\",\"2018-01\",\"2018-02\",\"2018-03\",\"2018-04\",\"2018-05\",\"2018-06\",\"2018-07\",\"2018-08\",\"2018-09\",\"2018-10\",\"2018-11\",\"2018-12\",\"2019-01\",\"2019-02\",\"2019-03\",\"2019-04\",\"2019-05\",\"2019-06\",\"2019-07\",\"2019-09\",\"2019-10\",\"2019-11\",\"2019-12\",\"2020-01\",\"2020-02\",\"2020-03\",\"2020-04\",\"2020-05\",\"2020-06\",\"2020-07\"],\"y\":[10.9948006932409,4.124783362218371,2.2738301559792027,10.15424610051993,8.228769497400346,4.492201039861352,3.1611785095320624,4.282495667244367,4.4558058925476605,8.55632582322357,7.759098786828423,9.533795493934143,7.209705372616984,0.6897746967071057,4.190641247833622,10.474870017331023,7.0606585788561524,6.495667244367418,4.006932409012132,5.33102253032929,5.92894280762565,2.538994800693241,5.571923743500866,6.649913344887349,5.493934142114385,4.003466204506066,9.809358752166379,5.915077989601387,4.337954939341421,2.466204506065858,10.331022530329289,4.987868284228769,3.9740034662045063,6.776429809358752,14.199306759098787,1.2218370883882148]},\"selected\":{\"id\":\"23058\"},\"selection_policy\":{\"id\":\"23059\"}},\"id\":\"22485\",\"type\":\"ColumnDataSource\"},{\"attributes\":{},\"id\":\"22476\",\"type\":\"HelpTool\"},{\"attributes\":{\"items\":[{\"id\":\"22497\"}]},\"id\":\"22496\",\"type\":\"Legend\"},{\"attributes\":{\"active_drag\":\"auto\",\"active_inspect\":\"auto\",\"active_multi\":null,\"active_scroll\":\"auto\",\"active_tap\":\"auto\",\"tools\":[{\"id\":\"22471\"},{\"id\":\"22472\"},{\"id\":\"22473\"},{\"id\":\"22474\"},{\"id\":\"22475\"},{\"id\":\"22476\"}]},\"id\":\"22478\",\"type\":\"Toolbar\"},{\"attributes\":{\"line_alpha\":{\"value\":0.1},\"line_color\":{\"value\":\"red\"},\"line_width\":{\"value\":2},\"x\":{\"field\":\"x\"},\"y\":{\"field\":\"y\"}},\"id\":\"22487\",\"type\":\"Step\"},{\"attributes\":{\"factors\":[\"2017-07\",\"2017-08\",\"2017-09\",\"2017-10\",\"2017-11\",\"2017-12\",\"2018-01\",\"2018-02\",\"2018-03\",\"2018-04\",\"2018-05\",\"2018-06\",\"2018-07\",\"2018-08\",\"2018-09\",\"2018-10\",\"2018-11\",\"2018-12\",\"2019-01\",\"2019-02\",\"2019-03\",\"2019-04\",\"2019-05\",\"2019-06\",\"2019-07\",\"2019-09\",\"2019-10\",\"2019-11\",\"2019-12\",\"2020-01\",\"2020-02\",\"2020-03\",\"2020-04\",\"2020-05\",\"2020-06\",\"2020-07\"]},\"id\":\"22456\",\"type\":\"FactorRange\"},{\"attributes\":{},\"id\":\"22494\",\"type\":\"BasicTickFormatter\"},{\"attributes\":{},\"id\":\"22468\",\"type\":\"BasicTicker\"},{\"attributes\":{},\"id\":\"22492\",\"type\":\"CategoricalTickFormatter\"},{\"attributes\":{\"axis\":{\"id\":\"22467\"},\"dimension\":1,\"grid_line_color\":null,\"ticker\":null},\"id\":\"22470\",\"type\":\"Grid\"},{\"attributes\":{\"formatter\":{\"id\":\"22494\"},\"ticker\":{\"id\":\"22468\"}},\"id\":\"22467\",\"type\":\"LinearAxis\"},{\"attributes\":{\"bottom_units\":\"screen\",\"fill_alpha\":0.5,\"fill_color\":\"lightgrey\",\"left_units\":\"screen\",\"level\":\"overlay\",\"line_alpha\":1.0,\"line_color\":\"black\",\"line_dash\":[4,4],\"line_width\":2,\"render_mode\":\"css\",\"right_units\":\"screen\",\"top_units\":\"screen\"},\"id\":\"22477\",\"type\":\"BoxAnnotation\"},{\"attributes\":{\"axis\":{\"id\":\"22464\"},\"grid_line_color\":null,\"ticker\":null},\"id\":\"22466\",\"type\":\"Grid\"},{\"attributes\":{},\"id\":\"22465\",\"type\":\"CategoricalTicker\"},{\"attributes\":{\"source\":{\"id\":\"22485\"}},\"id\":\"22489\",\"type\":\"CDSView\"},{\"attributes\":{\"label\":{\"value\":\"Moyenne de tous les d\\u00e9put\\u00e9s\"},\"renderers\":[{\"id\":\"22488\"}]},\"id\":\"22497\",\"type\":\"LegendItem\"},{\"attributes\":{},\"id\":\"22460\",\"type\":\"CategoricalScale\"},{\"attributes\":{\"data\":{\"top\":[0,0,0,0,0,0,0,0,0,0,0,0,0,0,0,0,0,0,0,0,0,0,0,0,0,4,3,3,5,4,2,5,4,7,15,0],\"x\":[\"2017-07\",\"2017-08\",\"2017-09\",\"2017-10\",\"2017-11\",\"2017-12\",\"2018-01\",\"2018-02\",\"2018-03\",\"2018-04\",\"2018-05\",\"2018-06\",\"2018-07\",\"2018-08\",\"2018-09\",\"2018-10\",\"2018-11\",\"2018-12\",\"2019-01\",\"2019-02\",\"2019-03\",\"2019-04\",\"2019-05\",\"2019-06\",\"2019-07\",\"2019-09\",\"2019-10\",\"2019-11\",\"2019-12\",\"2020-01\",\"2020-02\",\"2020-03\",\"2020-04\",\"2020-05\",\"2020-06\",\"2020-07\"]},\"selected\":{\"id\":\"23060\"},\"selection_policy\":{\"id\":\"23061\"}},\"id\":\"22498\",\"type\":\"ColumnDataSource\"},{\"attributes\":{\"formatter\":{\"id\":\"22492\"},\"major_label_orientation\":\"vertical\",\"ticker\":{\"id\":\"22465\"}},\"id\":\"22464\",\"type\":\"CategoricalAxis\"},{\"attributes\":{},\"id\":\"22462\",\"type\":\"LinearScale\"},{\"attributes\":{\"fill_alpha\":{\"value\":0.5},\"fill_color\":{\"value\":\"#1f77b4\"},\"line_alpha\":{\"value\":0.5},\"line_color\":{\"value\":\"#1f77b4\"},\"top\":{\"field\":\"top\"},\"width\":{\"value\":1},\"x\":{\"field\":\"x\"}},\"id\":\"22499\",\"type\":\"VBar\"},{\"attributes\":{\"data_source\":{\"id\":\"22498\"},\"glyph\":{\"id\":\"22499\"},\"hover_glyph\":null,\"muted_glyph\":null,\"nonselection_glyph\":{\"id\":\"22500\"},\"selection_glyph\":null,\"view\":{\"id\":\"22502\"}},\"id\":\"22501\",\"type\":\"GlyphRenderer\"},{\"attributes\":{\"start\":0},\"id\":\"22458\",\"type\":\"DataRange1d\"},{\"attributes\":{\"source\":{\"id\":\"22498\"}},\"id\":\"22502\",\"type\":\"CDSView\"},{\"attributes\":{},\"id\":\"23058\",\"type\":\"Selection\"},{\"attributes\":{},\"id\":\"23059\",\"type\":\"UnionRenderers\"},{\"attributes\":{\"fill_alpha\":{\"value\":0.1},\"fill_color\":{\"value\":\"#1f77b4\"},\"line_alpha\":{\"value\":0.1},\"line_color\":{\"value\":\"#1f77b4\"},\"top\":{\"field\":\"top\"},\"width\":{\"value\":1},\"x\":{\"field\":\"x\"}},\"id\":\"22500\",\"type\":\"VBar\"},{\"attributes\":{\"text\":\"S\\u00e9ances o\\u00f9 Fran\\u00e7ois de Rugy \\u00e0 vot\\u00e9 (52)\"},\"id\":\"22454\",\"type\":\"Title\"},{\"attributes\":{\"data_source\":{\"id\":\"22485\"},\"glyph\":{\"id\":\"22486\"},\"hover_glyph\":null,\"muted_glyph\":null,\"nonselection_glyph\":{\"id\":\"22487\"},\"selection_glyph\":null,\"view\":{\"id\":\"22489\"}},\"id\":\"22488\",\"type\":\"GlyphRenderer\"}],\"root_ids\":[\"22453\"]},\"title\":\"Bokeh Application\",\"version\":\"2.0.1\"}};\n",
       "  var render_items = [{\"docid\":\"6ebcd607-a32a-4ac2-a4b7-b8b72f00cc11\",\"root_ids\":[\"22453\"],\"roots\":{\"22453\":\"f74b0a0e-4b7f-484c-88e1-5128b3dcc521\"}}];\n",
       "  root.Bokeh.embed.embed_items_notebook(docs_json, render_items);\n",
       "\n",
       "  }\n",
       "  if (root.Bokeh !== undefined) {\n",
       "    embed_document(root);\n",
       "  } else {\n",
       "    var attempts = 0;\n",
       "    var timer = setInterval(function(root) {\n",
       "      if (root.Bokeh !== undefined) {\n",
       "        clearInterval(timer);\n",
       "        embed_document(root);\n",
       "      } else {\n",
       "        attempts++;\n",
       "        if (attempts > 100) {\n",
       "          clearInterval(timer);\n",
       "          console.log(\"Bokeh: ERROR: Unable to run BokehJS code because BokehJS library is missing\");\n",
       "        }\n",
       "      }\n",
       "    }, 10, root)\n",
       "  }\n",
       "})(window);"
      ],
      "application/vnd.bokehjs_exec.v0+json": ""
     },
     "metadata": {
      "application/vnd.bokehjs_exec.v0+json": {
       "id": "22453"
      }
     },
     "output_type": "display_data"
    },
    {
     "data": {
      "text/html": [
       "\n",
       "\n",
       "\n",
       "\n",
       "\n",
       "\n",
       "  <div class=\"bk-root\" id=\"d26dbbed-8283-47d8-8662-86e5fee98e44\" data-root-id=\"23123\"></div>\n"
      ]
     },
     "metadata": {},
     "output_type": "display_data"
    },
    {
     "data": {
      "application/javascript": [
       "(function(root) {\n",
       "  function embed_document(root) {\n",
       "    \n",
       "  var docs_json = {\"c7794581-ca8f-45e6-90b3-aeb66f7b20ea\":{\"roots\":{\"references\":[{\"attributes\":{\"below\":[{\"id\":\"23134\"}],\"center\":[{\"id\":\"23136\"},{\"id\":\"23140\"},{\"id\":\"23166\"}],\"left\":[{\"id\":\"23137\"}],\"plot_height\":400,\"plot_width\":700,\"renderers\":[{\"id\":\"23158\"},{\"id\":\"23171\"}],\"title\":{\"id\":\"23124\"},\"toolbar\":{\"id\":\"23148\"},\"x_range\":{\"id\":\"23126\"},\"x_scale\":{\"id\":\"23130\"},\"y_range\":{\"id\":\"23128\"},\"y_scale\":{\"id\":\"23132\"}},\"id\":\"23123\",\"subtype\":\"Figure\",\"type\":\"Plot\"},{\"attributes\":{\"line_alpha\":{\"value\":0.1},\"line_color\":{\"value\":\"red\"},\"line_width\":{\"value\":2},\"x\":{\"field\":\"x\"},\"y\":{\"field\":\"y\"}},\"id\":\"23157\",\"type\":\"Step\"},{\"attributes\":{},\"id\":\"23739\",\"type\":\"UnionRenderers\"},{\"attributes\":{},\"id\":\"23141\",\"type\":\"PanTool\"},{\"attributes\":{},\"id\":\"23740\",\"type\":\"Selection\"},{\"attributes\":{},\"id\":\"23142\",\"type\":\"WheelZoomTool\"},{\"attributes\":{\"active_drag\":\"auto\",\"active_inspect\":\"auto\",\"active_multi\":null,\"active_scroll\":\"auto\",\"active_tap\":\"auto\",\"tools\":[{\"id\":\"23141\"},{\"id\":\"23142\"},{\"id\":\"23143\"},{\"id\":\"23144\"},{\"id\":\"23145\"},{\"id\":\"23146\"}]},\"id\":\"23148\",\"type\":\"Toolbar\"},{\"attributes\":{},\"id\":\"23741\",\"type\":\"UnionRenderers\"},{\"attributes\":{\"overlay\":{\"id\":\"23147\"}},\"id\":\"23143\",\"type\":\"BoxZoomTool\"},{\"attributes\":{},\"id\":\"23144\",\"type\":\"SaveTool\"},{\"attributes\":{\"text\":\"S\\u00e9ances o\\u00f9 Nicolas Meizonnet \\u00e0 vot\\u00e9 (55)\"},\"id\":\"23124\",\"type\":\"Title\"},{\"attributes\":{},\"id\":\"23145\",\"type\":\"ResetTool\"},{\"attributes\":{\"factors\":[\"2017-07\",\"2017-08\",\"2017-09\",\"2017-10\",\"2017-11\",\"2017-12\",\"2018-01\",\"2018-02\",\"2018-03\",\"2018-04\",\"2018-05\",\"2018-06\",\"2018-07\",\"2018-08\",\"2018-09\",\"2018-10\",\"2018-11\",\"2018-12\",\"2019-01\",\"2019-02\",\"2019-03\",\"2019-04\",\"2019-05\",\"2019-06\",\"2019-07\",\"2019-09\",\"2019-10\",\"2019-11\",\"2019-12\",\"2020-01\",\"2020-02\",\"2020-03\",\"2020-04\",\"2020-05\",\"2020-06\",\"2020-07\"]},\"id\":\"23126\",\"type\":\"FactorRange\"},{\"attributes\":{},\"id\":\"23146\",\"type\":\"HelpTool\"},{\"attributes\":{\"data_source\":{\"id\":\"23155\"},\"glyph\":{\"id\":\"23156\"},\"hover_glyph\":null,\"muted_glyph\":null,\"nonselection_glyph\":{\"id\":\"23157\"},\"selection_glyph\":null,\"view\":{\"id\":\"23159\"}},\"id\":\"23158\",\"type\":\"GlyphRenderer\"},{\"attributes\":{\"line_alpha\":{\"value\":0.8},\"line_color\":{\"value\":\"red\"},\"line_width\":{\"value\":2},\"x\":{\"field\":\"x\"},\"y\":{\"field\":\"y\"}},\"id\":\"23156\",\"type\":\"Step\"},{\"attributes\":{\"label\":{\"value\":\"Moyenne de tous les d\\u00e9put\\u00e9s\"},\"renderers\":[{\"id\":\"23158\"}]},\"id\":\"23167\",\"type\":\"LegendItem\"},{\"attributes\":{},\"id\":\"23138\",\"type\":\"BasicTicker\"},{\"attributes\":{\"axis\":{\"id\":\"23137\"},\"dimension\":1,\"grid_line_color\":null,\"ticker\":null},\"id\":\"23140\",\"type\":\"Grid\"},{\"attributes\":{\"formatter\":{\"id\":\"23164\"},\"ticker\":{\"id\":\"23138\"}},\"id\":\"23137\",\"type\":\"LinearAxis\"},{\"attributes\":{\"bottom_units\":\"screen\",\"fill_alpha\":0.5,\"fill_color\":\"lightgrey\",\"left_units\":\"screen\",\"level\":\"overlay\",\"line_alpha\":1.0,\"line_color\":\"black\",\"line_dash\":[4,4],\"line_width\":2,\"render_mode\":\"css\",\"right_units\":\"screen\",\"top_units\":\"screen\"},\"id\":\"23147\",\"type\":\"BoxAnnotation\"},{\"attributes\":{\"axis\":{\"id\":\"23134\"},\"grid_line_color\":null,\"ticker\":null},\"id\":\"23136\",\"type\":\"Grid\"},{\"attributes\":{\"data\":{\"x\":[\"2017-07\",\"2017-08\",\"2017-09\",\"2017-10\",\"2017-11\",\"2017-12\",\"2018-01\",\"2018-02\",\"2018-03\",\"2018-04\",\"2018-05\",\"2018-06\",\"2018-07\",\"2018-08\",\"2018-09\",\"2018-10\",\"2018-11\",\"2018-12\",\"2019-01\",\"2019-02\",\"2019-03\",\"2019-04\",\"2019-05\",\"2019-06\",\"2019-07\",\"2019-09\",\"2019-10\",\"2019-11\",\"2019-12\",\"2020-01\",\"2020-02\",\"2020-03\",\"2020-04\",\"2020-05\",\"2020-06\",\"2020-07\"],\"y\":[10.9948006932409,4.124783362218371,2.2738301559792027,10.15424610051993,8.228769497400346,4.492201039861352,3.1611785095320624,4.282495667244367,4.4558058925476605,8.55632582322357,7.759098786828423,9.533795493934143,7.209705372616984,0.6897746967071057,4.190641247833622,10.474870017331023,7.0606585788561524,6.495667244367418,4.006932409012132,5.33102253032929,5.92894280762565,2.538994800693241,5.571923743500866,6.649913344887349,5.493934142114385,4.003466204506066,9.809358752166379,5.915077989601387,4.337954939341421,2.466204506065858,10.331022530329289,4.987868284228769,3.9740034662045063,6.776429809358752,14.199306759098787,1.2218370883882148]},\"selected\":{\"id\":\"23738\"},\"selection_policy\":{\"id\":\"23739\"}},\"id\":\"23155\",\"type\":\"ColumnDataSource\"},{\"attributes\":{},\"id\":\"23135\",\"type\":\"CategoricalTicker\"},{\"attributes\":{\"data\":{\"top\":[0,0,0,0,0,0,0,0,0,0,0,0,0,0,0,0,0,0,0,0,0,0,0,0,0,0,0,0,0,0,23,7,4,6,13,2],\"x\":[\"2017-07\",\"2017-08\",\"2017-09\",\"2017-10\",\"2017-11\",\"2017-12\",\"2018-01\",\"2018-02\",\"2018-03\",\"2018-04\",\"2018-05\",\"2018-06\",\"2018-07\",\"2018-08\",\"2018-09\",\"2018-10\",\"2018-11\",\"2018-12\",\"2019-01\",\"2019-02\",\"2019-03\",\"2019-04\",\"2019-05\",\"2019-06\",\"2019-07\",\"2019-09\",\"2019-10\",\"2019-11\",\"2019-12\",\"2020-01\",\"2020-02\",\"2020-03\",\"2020-04\",\"2020-05\",\"2020-06\",\"2020-07\"]},\"selected\":{\"id\":\"23740\"},\"selection_policy\":{\"id\":\"23741\"}},\"id\":\"23168\",\"type\":\"ColumnDataSource\"},{\"attributes\":{},\"id\":\"23164\",\"type\":\"BasicTickFormatter\"},{\"attributes\":{},\"id\":\"23130\",\"type\":\"CategoricalScale\"},{\"attributes\":{\"fill_alpha\":{\"value\":0.5},\"fill_color\":{\"value\":\"#1f77b4\"},\"line_alpha\":{\"value\":0.5},\"line_color\":{\"value\":\"#1f77b4\"},\"top\":{\"field\":\"top\"},\"width\":{\"value\":1},\"x\":{\"field\":\"x\"}},\"id\":\"23169\",\"type\":\"VBar\"},{\"attributes\":{\"formatter\":{\"id\":\"23162\"},\"major_label_orientation\":\"vertical\",\"ticker\":{\"id\":\"23135\"}},\"id\":\"23134\",\"type\":\"CategoricalAxis\"},{\"attributes\":{},\"id\":\"23132\",\"type\":\"LinearScale\"},{\"attributes\":{\"data_source\":{\"id\":\"23168\"},\"glyph\":{\"id\":\"23169\"},\"hover_glyph\":null,\"muted_glyph\":null,\"nonselection_glyph\":{\"id\":\"23170\"},\"selection_glyph\":null,\"view\":{\"id\":\"23172\"}},\"id\":\"23171\",\"type\":\"GlyphRenderer\"},{\"attributes\":{\"source\":{\"id\":\"23168\"}},\"id\":\"23172\",\"type\":\"CDSView\"},{\"attributes\":{\"items\":[{\"id\":\"23167\"}]},\"id\":\"23166\",\"type\":\"Legend\"},{\"attributes\":{},\"id\":\"23738\",\"type\":\"Selection\"},{\"attributes\":{\"source\":{\"id\":\"23155\"}},\"id\":\"23159\",\"type\":\"CDSView\"},{\"attributes\":{\"fill_alpha\":{\"value\":0.1},\"fill_color\":{\"value\":\"#1f77b4\"},\"line_alpha\":{\"value\":0.1},\"line_color\":{\"value\":\"#1f77b4\"},\"top\":{\"field\":\"top\"},\"width\":{\"value\":1},\"x\":{\"field\":\"x\"}},\"id\":\"23170\",\"type\":\"VBar\"},{\"attributes\":{\"start\":0},\"id\":\"23128\",\"type\":\"DataRange1d\"},{\"attributes\":{},\"id\":\"23162\",\"type\":\"CategoricalTickFormatter\"}],\"root_ids\":[\"23123\"]},\"title\":\"Bokeh Application\",\"version\":\"2.0.1\"}};\n",
       "  var render_items = [{\"docid\":\"c7794581-ca8f-45e6-90b3-aeb66f7b20ea\",\"root_ids\":[\"23123\"],\"roots\":{\"23123\":\"d26dbbed-8283-47d8-8662-86e5fee98e44\"}}];\n",
       "  root.Bokeh.embed.embed_items_notebook(docs_json, render_items);\n",
       "\n",
       "  }\n",
       "  if (root.Bokeh !== undefined) {\n",
       "    embed_document(root);\n",
       "  } else {\n",
       "    var attempts = 0;\n",
       "    var timer = setInterval(function(root) {\n",
       "      if (root.Bokeh !== undefined) {\n",
       "        clearInterval(timer);\n",
       "        embed_document(root);\n",
       "      } else {\n",
       "        attempts++;\n",
       "        if (attempts > 100) {\n",
       "          clearInterval(timer);\n",
       "          console.log(\"Bokeh: ERROR: Unable to run BokehJS code because BokehJS library is missing\");\n",
       "        }\n",
       "      }\n",
       "    }, 10, root)\n",
       "  }\n",
       "})(window);"
      ],
      "application/vnd.bokehjs_exec.v0+json": ""
     },
     "metadata": {
      "application/vnd.bokehjs_exec.v0+json": {
       "id": "23123"
      }
     },
     "output_type": "display_data"
    },
    {
     "data": {
      "text/html": [
       "\n",
       "\n",
       "\n",
       "\n",
       "\n",
       "\n",
       "  <div class=\"bk-root\" id=\"90dad3ec-578c-4dc4-9d48-e9613bbac78d\" data-root-id=\"23803\"></div>\n"
      ]
     },
     "metadata": {},
     "output_type": "display_data"
    },
    {
     "data": {
      "application/javascript": [
       "(function(root) {\n",
       "  function embed_document(root) {\n",
       "    \n",
       "  var docs_json = {\"7838ff1e-216c-4f3b-bc68-5e479f102bbd\":{\"roots\":{\"references\":[{\"attributes\":{\"below\":[{\"id\":\"23814\"}],\"center\":[{\"id\":\"23816\"},{\"id\":\"23820\"},{\"id\":\"23846\"}],\"left\":[{\"id\":\"23817\"}],\"plot_height\":400,\"plot_width\":700,\"renderers\":[{\"id\":\"23838\"},{\"id\":\"23851\"}],\"title\":{\"id\":\"23804\"},\"toolbar\":{\"id\":\"23828\"},\"x_range\":{\"id\":\"23806\"},\"x_scale\":{\"id\":\"23810\"},\"y_range\":{\"id\":\"23808\"},\"y_scale\":{\"id\":\"23812\"}},\"id\":\"23803\",\"subtype\":\"Figure\",\"type\":\"Plot\"},{\"attributes\":{\"data\":{\"top\":[5,3,0,5,3,4,2,2,0,4,2,4,0,0,0,2,2,2,2,3,0,0,0,0,0,0,3,2,0,2,0,4,4,6,0,0],\"x\":[\"2017-07\",\"2017-08\",\"2017-09\",\"2017-10\",\"2017-11\",\"2017-12\",\"2018-01\",\"2018-02\",\"2018-03\",\"2018-04\",\"2018-05\",\"2018-06\",\"2018-07\",\"2018-08\",\"2018-09\",\"2018-10\",\"2018-11\",\"2018-12\",\"2019-01\",\"2019-02\",\"2019-03\",\"2019-04\",\"2019-05\",\"2019-06\",\"2019-07\",\"2019-09\",\"2019-10\",\"2019-11\",\"2019-12\",\"2020-01\",\"2020-02\",\"2020-03\",\"2020-04\",\"2020-05\",\"2020-06\",\"2020-07\"]},\"selected\":{\"id\":\"24430\"},\"selection_policy\":{\"id\":\"24431\"}},\"id\":\"23848\",\"type\":\"ColumnDataSource\"},{\"attributes\":{},\"id\":\"23842\",\"type\":\"CategoricalTickFormatter\"},{\"attributes\":{\"fill_alpha\":{\"value\":0.5},\"fill_color\":{\"value\":\"#1f77b4\"},\"line_alpha\":{\"value\":0.5},\"line_color\":{\"value\":\"#1f77b4\"},\"top\":{\"field\":\"top\"},\"width\":{\"value\":1},\"x\":{\"field\":\"x\"}},\"id\":\"23849\",\"type\":\"VBar\"},{\"attributes\":{},\"id\":\"23821\",\"type\":\"PanTool\"},{\"attributes\":{},\"id\":\"23822\",\"type\":\"WheelZoomTool\"},{\"attributes\":{\"data_source\":{\"id\":\"23848\"},\"glyph\":{\"id\":\"23849\"},\"hover_glyph\":null,\"muted_glyph\":null,\"nonselection_glyph\":{\"id\":\"23850\"},\"selection_glyph\":null,\"view\":{\"id\":\"23852\"}},\"id\":\"23851\",\"type\":\"GlyphRenderer\"},{\"attributes\":{\"source\":{\"id\":\"23848\"}},\"id\":\"23852\",\"type\":\"CDSView\"},{\"attributes\":{\"overlay\":{\"id\":\"23827\"}},\"id\":\"23823\",\"type\":\"BoxZoomTool\"},{\"attributes\":{\"fill_alpha\":{\"value\":0.1},\"fill_color\":{\"value\":\"#1f77b4\"},\"line_alpha\":{\"value\":0.1},\"line_color\":{\"value\":\"#1f77b4\"},\"top\":{\"field\":\"top\"},\"width\":{\"value\":1},\"x\":{\"field\":\"x\"}},\"id\":\"23850\",\"type\":\"VBar\"},{\"attributes\":{},\"id\":\"23824\",\"type\":\"SaveTool\"},{\"attributes\":{\"text\":\"S\\u00e9ances o\\u00f9 Jean-Luc Warsmann \\u00e0 vot\\u00e9 (66)\"},\"id\":\"23804\",\"type\":\"Title\"},{\"attributes\":{},\"id\":\"23825\",\"type\":\"ResetTool\"},{\"attributes\":{},\"id\":\"24429\",\"type\":\"UnionRenderers\"},{\"attributes\":{\"factors\":[\"2017-07\",\"2017-08\",\"2017-09\",\"2017-10\",\"2017-11\",\"2017-12\",\"2018-01\",\"2018-02\",\"2018-03\",\"2018-04\",\"2018-05\",\"2018-06\",\"2018-07\",\"2018-08\",\"2018-09\",\"2018-10\",\"2018-11\",\"2018-12\",\"2019-01\",\"2019-02\",\"2019-03\",\"2019-04\",\"2019-05\",\"2019-06\",\"2019-07\",\"2019-09\",\"2019-10\",\"2019-11\",\"2019-12\",\"2020-01\",\"2020-02\",\"2020-03\",\"2020-04\",\"2020-05\",\"2020-06\",\"2020-07\"]},\"id\":\"23806\",\"type\":\"FactorRange\"},{\"attributes\":{},\"id\":\"23826\",\"type\":\"HelpTool\"},{\"attributes\":{\"line_alpha\":{\"value\":0.8},\"line_color\":{\"value\":\"red\"},\"line_width\":{\"value\":2},\"x\":{\"field\":\"x\"},\"y\":{\"field\":\"y\"}},\"id\":\"23836\",\"type\":\"Step\"},{\"attributes\":{},\"id\":\"24430\",\"type\":\"Selection\"},{\"attributes\":{},\"id\":\"24431\",\"type\":\"UnionRenderers\"},{\"attributes\":{\"active_drag\":\"auto\",\"active_inspect\":\"auto\",\"active_multi\":null,\"active_scroll\":\"auto\",\"active_tap\":\"auto\",\"tools\":[{\"id\":\"23821\"},{\"id\":\"23822\"},{\"id\":\"23823\"},{\"id\":\"23824\"},{\"id\":\"23825\"},{\"id\":\"23826\"}]},\"id\":\"23828\",\"type\":\"Toolbar\"},{\"attributes\":{\"axis\":{\"id\":\"23817\"},\"dimension\":1,\"grid_line_color\":null,\"ticker\":null},\"id\":\"23820\",\"type\":\"Grid\"},{\"attributes\":{\"formatter\":{\"id\":\"23844\"},\"ticker\":{\"id\":\"23818\"}},\"id\":\"23817\",\"type\":\"LinearAxis\"},{\"attributes\":{},\"id\":\"23818\",\"type\":\"BasicTicker\"},{\"attributes\":{\"bottom_units\":\"screen\",\"fill_alpha\":0.5,\"fill_color\":\"lightgrey\",\"left_units\":\"screen\",\"level\":\"overlay\",\"line_alpha\":1.0,\"line_color\":\"black\",\"line_dash\":[4,4],\"line_width\":2,\"render_mode\":\"css\",\"right_units\":\"screen\",\"top_units\":\"screen\"},\"id\":\"23827\",\"type\":\"BoxAnnotation\"},{\"attributes\":{\"axis\":{\"id\":\"23814\"},\"grid_line_color\":null,\"ticker\":null},\"id\":\"23816\",\"type\":\"Grid\"},{\"attributes\":{},\"id\":\"23815\",\"type\":\"CategoricalTicker\"},{\"attributes\":{\"source\":{\"id\":\"23835\"}},\"id\":\"23839\",\"type\":\"CDSView\"},{\"attributes\":{\"formatter\":{\"id\":\"23842\"},\"major_label_orientation\":\"vertical\",\"ticker\":{\"id\":\"23815\"}},\"id\":\"23814\",\"type\":\"CategoricalAxis\"},{\"attributes\":{\"data_source\":{\"id\":\"23835\"},\"glyph\":{\"id\":\"23836\"},\"hover_glyph\":null,\"muted_glyph\":null,\"nonselection_glyph\":{\"id\":\"23837\"},\"selection_glyph\":null,\"view\":{\"id\":\"23839\"}},\"id\":\"23838\",\"type\":\"GlyphRenderer\"},{\"attributes\":{\"line_alpha\":{\"value\":0.1},\"line_color\":{\"value\":\"red\"},\"line_width\":{\"value\":2},\"x\":{\"field\":\"x\"},\"y\":{\"field\":\"y\"}},\"id\":\"23837\",\"type\":\"Step\"},{\"attributes\":{\"data\":{\"x\":[\"2017-07\",\"2017-08\",\"2017-09\",\"2017-10\",\"2017-11\",\"2017-12\",\"2018-01\",\"2018-02\",\"2018-03\",\"2018-04\",\"2018-05\",\"2018-06\",\"2018-07\",\"2018-08\",\"2018-09\",\"2018-10\",\"2018-11\",\"2018-12\",\"2019-01\",\"2019-02\",\"2019-03\",\"2019-04\",\"2019-05\",\"2019-06\",\"2019-07\",\"2019-09\",\"2019-10\",\"2019-11\",\"2019-12\",\"2020-01\",\"2020-02\",\"2020-03\",\"2020-04\",\"2020-05\",\"2020-06\",\"2020-07\"],\"y\":[10.9948006932409,4.124783362218371,2.2738301559792027,10.15424610051993,8.228769497400346,4.492201039861352,3.1611785095320624,4.282495667244367,4.4558058925476605,8.55632582322357,7.759098786828423,9.533795493934143,7.209705372616984,0.6897746967071057,4.190641247833622,10.474870017331023,7.0606585788561524,6.495667244367418,4.006932409012132,5.33102253032929,5.92894280762565,2.538994800693241,5.571923743500866,6.649913344887349,5.493934142114385,4.003466204506066,9.809358752166379,5.915077989601387,4.337954939341421,2.466204506065858,10.331022530329289,4.987868284228769,3.9740034662045063,6.776429809358752,14.199306759098787,1.2218370883882148]},\"selected\":{\"id\":\"24428\"},\"selection_policy\":{\"id\":\"24429\"}},\"id\":\"23835\",\"type\":\"ColumnDataSource\"},{\"attributes\":{\"start\":0},\"id\":\"23808\",\"type\":\"DataRange1d\"},{\"attributes\":{},\"id\":\"23812\",\"type\":\"LinearScale\"},{\"attributes\":{},\"id\":\"23844\",\"type\":\"BasicTickFormatter\"},{\"attributes\":{},\"id\":\"23810\",\"type\":\"CategoricalScale\"},{\"attributes\":{\"items\":[{\"id\":\"23847\"}]},\"id\":\"23846\",\"type\":\"Legend\"},{\"attributes\":{\"label\":{\"value\":\"Moyenne de tous les d\\u00e9put\\u00e9s\"},\"renderers\":[{\"id\":\"23838\"}]},\"id\":\"23847\",\"type\":\"LegendItem\"},{\"attributes\":{},\"id\":\"24428\",\"type\":\"Selection\"}],\"root_ids\":[\"23803\"]},\"title\":\"Bokeh Application\",\"version\":\"2.0.1\"}};\n",
       "  var render_items = [{\"docid\":\"7838ff1e-216c-4f3b-bc68-5e479f102bbd\",\"root_ids\":[\"23803\"],\"roots\":{\"23803\":\"90dad3ec-578c-4dc4-9d48-e9613bbac78d\"}}];\n",
       "  root.Bokeh.embed.embed_items_notebook(docs_json, render_items);\n",
       "\n",
       "  }\n",
       "  if (root.Bokeh !== undefined) {\n",
       "    embed_document(root);\n",
       "  } else {\n",
       "    var attempts = 0;\n",
       "    var timer = setInterval(function(root) {\n",
       "      if (root.Bokeh !== undefined) {\n",
       "        clearInterval(timer);\n",
       "        embed_document(root);\n",
       "      } else {\n",
       "        attempts++;\n",
       "        if (attempts > 100) {\n",
       "          clearInterval(timer);\n",
       "          console.log(\"Bokeh: ERROR: Unable to run BokehJS code because BokehJS library is missing\");\n",
       "        }\n",
       "      }\n",
       "    }, 10, root)\n",
       "  }\n",
       "})(window);"
      ],
      "application/vnd.bokehjs_exec.v0+json": ""
     },
     "metadata": {
      "application/vnd.bokehjs_exec.v0+json": {
       "id": "23803"
      }
     },
     "output_type": "display_data"
    },
    {
     "data": {
      "text/html": [
       "\n",
       "\n",
       "\n",
       "\n",
       "\n",
       "\n",
       "  <div class=\"bk-root\" id=\"046d094d-556d-4b74-a8ed-ee488debc4b7\" data-root-id=\"24493\"></div>\n"
      ]
     },
     "metadata": {},
     "output_type": "display_data"
    },
    {
     "data": {
      "application/javascript": [
       "(function(root) {\n",
       "  function embed_document(root) {\n",
       "    \n",
       "  var docs_json = {\"b4139884-95d8-4612-8495-ed591b87721e\":{\"roots\":{\"references\":[{\"attributes\":{\"below\":[{\"id\":\"24504\"}],\"center\":[{\"id\":\"24506\"},{\"id\":\"24510\"},{\"id\":\"24536\"}],\"left\":[{\"id\":\"24507\"}],\"plot_height\":400,\"plot_width\":700,\"renderers\":[{\"id\":\"24528\"},{\"id\":\"24541\"}],\"title\":{\"id\":\"24494\"},\"toolbar\":{\"id\":\"24518\"},\"x_range\":{\"id\":\"24496\"},\"x_scale\":{\"id\":\"24500\"},\"y_range\":{\"id\":\"24498\"},\"y_scale\":{\"id\":\"24502\"}},\"id\":\"24493\",\"subtype\":\"Figure\",\"type\":\"Plot\"},{\"attributes\":{},\"id\":\"25130\",\"type\":\"Selection\"},{\"attributes\":{\"axis\":{\"id\":\"24504\"},\"grid_line_color\":null,\"ticker\":null},\"id\":\"24506\",\"type\":\"Grid\"},{\"attributes\":{},\"id\":\"25131\",\"type\":\"UnionRenderers\"},{\"attributes\":{\"formatter\":{\"id\":\"24534\"},\"ticker\":{\"id\":\"24508\"}},\"id\":\"24507\",\"type\":\"LinearAxis\"},{\"attributes\":{},\"id\":\"24508\",\"type\":\"BasicTicker\"},{\"attributes\":{\"bottom_units\":\"screen\",\"fill_alpha\":0.5,\"fill_color\":\"lightgrey\",\"left_units\":\"screen\",\"level\":\"overlay\",\"line_alpha\":1.0,\"line_color\":\"black\",\"line_dash\":[4,4],\"line_width\":2,\"render_mode\":\"css\",\"right_units\":\"screen\",\"top_units\":\"screen\"},\"id\":\"24517\",\"type\":\"BoxAnnotation\"},{\"attributes\":{\"axis\":{\"id\":\"24507\"},\"dimension\":1,\"grid_line_color\":null,\"ticker\":null},\"id\":\"24510\",\"type\":\"Grid\"},{\"attributes\":{\"line_alpha\":{\"value\":0.1},\"line_color\":{\"value\":\"red\"},\"line_width\":{\"value\":2},\"x\":{\"field\":\"x\"},\"y\":{\"field\":\"y\"}},\"id\":\"24527\",\"type\":\"Step\"},{\"attributes\":{\"line_alpha\":{\"value\":0.8},\"line_color\":{\"value\":\"red\"},\"line_width\":{\"value\":2},\"x\":{\"field\":\"x\"},\"y\":{\"field\":\"y\"}},\"id\":\"24526\",\"type\":\"Step\"},{\"attributes\":{\"data_source\":{\"id\":\"24525\"},\"glyph\":{\"id\":\"24526\"},\"hover_glyph\":null,\"muted_glyph\":null,\"nonselection_glyph\":{\"id\":\"24527\"},\"selection_glyph\":null,\"view\":{\"id\":\"24529\"}},\"id\":\"24528\",\"type\":\"GlyphRenderer\"},{\"attributes\":{},\"id\":\"24532\",\"type\":\"CategoricalTickFormatter\"},{\"attributes\":{},\"id\":\"25129\",\"type\":\"UnionRenderers\"},{\"attributes\":{\"source\":{\"id\":\"24525\"}},\"id\":\"24529\",\"type\":\"CDSView\"},{\"attributes\":{},\"id\":\"24511\",\"type\":\"PanTool\"},{\"attributes\":{},\"id\":\"24534\",\"type\":\"BasicTickFormatter\"},{\"attributes\":{},\"id\":\"24512\",\"type\":\"WheelZoomTool\"},{\"attributes\":{\"items\":[{\"id\":\"24537\"}]},\"id\":\"24536\",\"type\":\"Legend\"},{\"attributes\":{\"overlay\":{\"id\":\"24517\"}},\"id\":\"24513\",\"type\":\"BoxZoomTool\"},{\"attributes\":{\"formatter\":{\"id\":\"24532\"},\"major_label_orientation\":\"vertical\",\"ticker\":{\"id\":\"24505\"}},\"id\":\"24504\",\"type\":\"CategoricalAxis\"},{\"attributes\":{\"label\":{\"value\":\"Moyenne de tous les d\\u00e9put\\u00e9s\"},\"renderers\":[{\"id\":\"24528\"}]},\"id\":\"24537\",\"type\":\"LegendItem\"},{\"attributes\":{},\"id\":\"24514\",\"type\":\"SaveTool\"},{\"attributes\":{\"factors\":[\"2017-07\",\"2017-08\",\"2017-09\",\"2017-10\",\"2017-11\",\"2017-12\",\"2018-01\",\"2018-02\",\"2018-03\",\"2018-04\",\"2018-05\",\"2018-06\",\"2018-07\",\"2018-08\",\"2018-09\",\"2018-10\",\"2018-11\",\"2018-12\",\"2019-01\",\"2019-02\",\"2019-03\",\"2019-04\",\"2019-05\",\"2019-06\",\"2019-07\",\"2019-09\",\"2019-10\",\"2019-11\",\"2019-12\",\"2020-01\",\"2020-02\",\"2020-03\",\"2020-04\",\"2020-05\",\"2020-06\",\"2020-07\"]},\"id\":\"24496\",\"type\":\"FactorRange\"},{\"attributes\":{\"data\":{\"top\":[0,0,0,0,0,0,0,0,0,0,0,0,0,0,0,0,0,0,0,0,0,0,0,0,0,0,8,6,5,3,12,4,4,7,16,2],\"x\":[\"2017-07\",\"2017-08\",\"2017-09\",\"2017-10\",\"2017-11\",\"2017-12\",\"2018-01\",\"2018-02\",\"2018-03\",\"2018-04\",\"2018-05\",\"2018-06\",\"2018-07\",\"2018-08\",\"2018-09\",\"2018-10\",\"2018-11\",\"2018-12\",\"2019-01\",\"2019-02\",\"2019-03\",\"2019-04\",\"2019-05\",\"2019-06\",\"2019-07\",\"2019-09\",\"2019-10\",\"2019-11\",\"2019-12\",\"2020-01\",\"2020-02\",\"2020-03\",\"2020-04\",\"2020-05\",\"2020-06\",\"2020-07\"]},\"selected\":{\"id\":\"25130\"},\"selection_policy\":{\"id\":\"25131\"}},\"id\":\"24538\",\"type\":\"ColumnDataSource\"},{\"attributes\":{},\"id\":\"24515\",\"type\":\"ResetTool\"},{\"attributes\":{},\"id\":\"25128\",\"type\":\"Selection\"},{\"attributes\":{},\"id\":\"24516\",\"type\":\"HelpTool\"},{\"attributes\":{\"fill_alpha\":{\"value\":0.5},\"fill_color\":{\"value\":\"#1f77b4\"},\"line_alpha\":{\"value\":0.5},\"line_color\":{\"value\":\"#1f77b4\"},\"top\":{\"field\":\"top\"},\"width\":{\"value\":1},\"x\":{\"field\":\"x\"}},\"id\":\"24539\",\"type\":\"VBar\"},{\"attributes\":{\"active_drag\":\"auto\",\"active_inspect\":\"auto\",\"active_multi\":null,\"active_scroll\":\"auto\",\"active_tap\":\"auto\",\"tools\":[{\"id\":\"24511\"},{\"id\":\"24512\"},{\"id\":\"24513\"},{\"id\":\"24514\"},{\"id\":\"24515\"},{\"id\":\"24516\"}]},\"id\":\"24518\",\"type\":\"Toolbar\"},{\"attributes\":{},\"id\":\"24502\",\"type\":\"LinearScale\"},{\"attributes\":{\"data_source\":{\"id\":\"24538\"},\"glyph\":{\"id\":\"24539\"},\"hover_glyph\":null,\"muted_glyph\":null,\"nonselection_glyph\":{\"id\":\"24540\"},\"selection_glyph\":null,\"view\":{\"id\":\"24542\"}},\"id\":\"24541\",\"type\":\"GlyphRenderer\"},{\"attributes\":{},\"id\":\"24505\",\"type\":\"CategoricalTicker\"},{\"attributes\":{\"source\":{\"id\":\"24538\"}},\"id\":\"24542\",\"type\":\"CDSView\"},{\"attributes\":{\"start\":0},\"id\":\"24498\",\"type\":\"DataRange1d\"},{\"attributes\":{\"fill_alpha\":{\"value\":0.1},\"fill_color\":{\"value\":\"#1f77b4\"},\"line_alpha\":{\"value\":0.1},\"line_color\":{\"value\":\"#1f77b4\"},\"top\":{\"field\":\"top\"},\"width\":{\"value\":1},\"x\":{\"field\":\"x\"}},\"id\":\"24540\",\"type\":\"VBar\"},{\"attributes\":{},\"id\":\"24500\",\"type\":\"CategoricalScale\"},{\"attributes\":{\"text\":\"S\\u00e9ances o\\u00f9 Pierre Venteau \\u00e0 vot\\u00e9 (67)\"},\"id\":\"24494\",\"type\":\"Title\"},{\"attributes\":{\"data\":{\"x\":[\"2017-07\",\"2017-08\",\"2017-09\",\"2017-10\",\"2017-11\",\"2017-12\",\"2018-01\",\"2018-02\",\"2018-03\",\"2018-04\",\"2018-05\",\"2018-06\",\"2018-07\",\"2018-08\",\"2018-09\",\"2018-10\",\"2018-11\",\"2018-12\",\"2019-01\",\"2019-02\",\"2019-03\",\"2019-04\",\"2019-05\",\"2019-06\",\"2019-07\",\"2019-09\",\"2019-10\",\"2019-11\",\"2019-12\",\"2020-01\",\"2020-02\",\"2020-03\",\"2020-04\",\"2020-05\",\"2020-06\",\"2020-07\"],\"y\":[10.9948006932409,4.124783362218371,2.2738301559792027,10.15424610051993,8.228769497400346,4.492201039861352,3.1611785095320624,4.282495667244367,4.4558058925476605,8.55632582322357,7.759098786828423,9.533795493934143,7.209705372616984,0.6897746967071057,4.190641247833622,10.474870017331023,7.0606585788561524,6.495667244367418,4.006932409012132,5.33102253032929,5.92894280762565,2.538994800693241,5.571923743500866,6.649913344887349,5.493934142114385,4.003466204506066,9.809358752166379,5.915077989601387,4.337954939341421,2.466204506065858,10.331022530329289,4.987868284228769,3.9740034662045063,6.776429809358752,14.199306759098787,1.2218370883882148]},\"selected\":{\"id\":\"25128\"},\"selection_policy\":{\"id\":\"25129\"}},\"id\":\"24525\",\"type\":\"ColumnDataSource\"}],\"root_ids\":[\"24493\"]},\"title\":\"Bokeh Application\",\"version\":\"2.0.1\"}};\n",
       "  var render_items = [{\"docid\":\"b4139884-95d8-4612-8495-ed591b87721e\",\"root_ids\":[\"24493\"],\"roots\":{\"24493\":\"046d094d-556d-4b74-a8ed-ee488debc4b7\"}}];\n",
       "  root.Bokeh.embed.embed_items_notebook(docs_json, render_items);\n",
       "\n",
       "  }\n",
       "  if (root.Bokeh !== undefined) {\n",
       "    embed_document(root);\n",
       "  } else {\n",
       "    var attempts = 0;\n",
       "    var timer = setInterval(function(root) {\n",
       "      if (root.Bokeh !== undefined) {\n",
       "        clearInterval(timer);\n",
       "        embed_document(root);\n",
       "      } else {\n",
       "        attempts++;\n",
       "        if (attempts > 100) {\n",
       "          clearInterval(timer);\n",
       "          console.log(\"Bokeh: ERROR: Unable to run BokehJS code because BokehJS library is missing\");\n",
       "        }\n",
       "      }\n",
       "    }, 10, root)\n",
       "  }\n",
       "})(window);"
      ],
      "application/vnd.bokehjs_exec.v0+json": ""
     },
     "metadata": {
      "application/vnd.bokehjs_exec.v0+json": {
       "id": "24493"
      }
     },
     "output_type": "display_data"
    },
    {
     "data": {
      "text/html": [
       "\n",
       "\n",
       "\n",
       "\n",
       "\n",
       "\n",
       "  <div class=\"bk-root\" id=\"8722f01b-b403-4aab-9598-92f96d9ab75d\" data-root-id=\"25193\"></div>\n"
      ]
     },
     "metadata": {},
     "output_type": "display_data"
    },
    {
     "data": {
      "application/javascript": [
       "(function(root) {\n",
       "  function embed_document(root) {\n",
       "    \n",
       "  var docs_json = {\"d82ad867-c52a-41b2-b5d0-1f9206e74e62\":{\"roots\":{\"references\":[{\"attributes\":{\"below\":[{\"id\":\"25204\"}],\"center\":[{\"id\":\"25206\"},{\"id\":\"25210\"},{\"id\":\"25236\"}],\"left\":[{\"id\":\"25207\"}],\"plot_height\":400,\"plot_width\":700,\"renderers\":[{\"id\":\"25228\"},{\"id\":\"25241\"}],\"title\":{\"id\":\"25194\"},\"toolbar\":{\"id\":\"25218\"},\"x_range\":{\"id\":\"25196\"},\"x_scale\":{\"id\":\"25200\"},\"y_range\":{\"id\":\"25198\"},\"y_scale\":{\"id\":\"25202\"}},\"id\":\"25193\",\"subtype\":\"Figure\",\"type\":\"Plot\"},{\"attributes\":{},\"id\":\"25214\",\"type\":\"SaveTool\"},{\"attributes\":{\"data_source\":{\"id\":\"25238\"},\"glyph\":{\"id\":\"25239\"},\"hover_glyph\":null,\"muted_glyph\":null,\"nonselection_glyph\":{\"id\":\"25240\"},\"selection_glyph\":null,\"view\":{\"id\":\"25242\"}},\"id\":\"25241\",\"type\":\"GlyphRenderer\"},{\"attributes\":{},\"id\":\"25212\",\"type\":\"WheelZoomTool\"},{\"attributes\":{\"source\":{\"id\":\"25238\"}},\"id\":\"25242\",\"type\":\"CDSView\"},{\"attributes\":{\"text\":\"S\\u00e9ances o\\u00f9 Franck Marlin \\u00e0 vot\\u00e9 (68)\"},\"id\":\"25194\",\"type\":\"Title\"},{\"attributes\":{},\"id\":\"25216\",\"type\":\"HelpTool\"},{\"attributes\":{\"data\":{\"x\":[\"2017-07\",\"2017-08\",\"2017-09\",\"2017-10\",\"2017-11\",\"2017-12\",\"2018-01\",\"2018-02\",\"2018-03\",\"2018-04\",\"2018-05\",\"2018-06\",\"2018-07\",\"2018-08\",\"2018-09\",\"2018-10\",\"2018-11\",\"2018-12\",\"2019-01\",\"2019-02\",\"2019-03\",\"2019-04\",\"2019-05\",\"2019-06\",\"2019-07\",\"2019-09\",\"2019-10\",\"2019-11\",\"2019-12\",\"2020-01\",\"2020-02\",\"2020-03\",\"2020-04\",\"2020-05\",\"2020-06\",\"2020-07\"],\"y\":[10.9948006932409,4.124783362218371,2.2738301559792027,10.15424610051993,8.228769497400346,4.492201039861352,3.1611785095320624,4.282495667244367,4.4558058925476605,8.55632582322357,7.759098786828423,9.533795493934143,7.209705372616984,0.6897746967071057,4.190641247833622,10.474870017331023,7.0606585788561524,6.495667244367418,4.006932409012132,5.33102253032929,5.92894280762565,2.538994800693241,5.571923743500866,6.649913344887349,5.493934142114385,4.003466204506066,9.809358752166379,5.915077989601387,4.337954939341421,2.466204506065858,10.331022530329289,4.987868284228769,3.9740034662045063,6.776429809358752,14.199306759098787,1.2218370883882148]},\"selected\":{\"id\":\"25838\"},\"selection_policy\":{\"id\":\"25839\"}},\"id\":\"25225\",\"type\":\"ColumnDataSource\"},{\"attributes\":{},\"id\":\"25841\",\"type\":\"UnionRenderers\"},{\"attributes\":{\"axis\":{\"id\":\"25207\"},\"dimension\":1,\"grid_line_color\":null,\"ticker\":null},\"id\":\"25210\",\"type\":\"Grid\"},{\"attributes\":{},\"id\":\"25839\",\"type\":\"UnionRenderers\"},{\"attributes\":{},\"id\":\"25215\",\"type\":\"ResetTool\"},{\"attributes\":{},\"id\":\"25211\",\"type\":\"PanTool\"},{\"attributes\":{},\"id\":\"25200\",\"type\":\"CategoricalScale\"},{\"attributes\":{},\"id\":\"25840\",\"type\":\"Selection\"},{\"attributes\":{\"data_source\":{\"id\":\"25225\"},\"glyph\":{\"id\":\"25226\"},\"hover_glyph\":null,\"muted_glyph\":null,\"nonselection_glyph\":{\"id\":\"25227\"},\"selection_glyph\":null,\"view\":{\"id\":\"25229\"}},\"id\":\"25228\",\"type\":\"GlyphRenderer\"},{\"attributes\":{},\"id\":\"25232\",\"type\":\"CategoricalTickFormatter\"},{\"attributes\":{\"active_drag\":\"auto\",\"active_inspect\":\"auto\",\"active_multi\":null,\"active_scroll\":\"auto\",\"active_tap\":\"auto\",\"tools\":[{\"id\":\"25211\"},{\"id\":\"25212\"},{\"id\":\"25213\"},{\"id\":\"25214\"},{\"id\":\"25215\"},{\"id\":\"25216\"}]},\"id\":\"25218\",\"type\":\"Toolbar\"},{\"attributes\":{},\"id\":\"25838\",\"type\":\"Selection\"},{\"attributes\":{},\"id\":\"25208\",\"type\":\"BasicTicker\"},{\"attributes\":{},\"id\":\"25205\",\"type\":\"CategoricalTicker\"},{\"attributes\":{\"bottom_units\":\"screen\",\"fill_alpha\":0.5,\"fill_color\":\"lightgrey\",\"left_units\":\"screen\",\"level\":\"overlay\",\"line_alpha\":1.0,\"line_color\":\"black\",\"line_dash\":[4,4],\"line_width\":2,\"render_mode\":\"css\",\"right_units\":\"screen\",\"top_units\":\"screen\"},\"id\":\"25217\",\"type\":\"BoxAnnotation\"},{\"attributes\":{\"formatter\":{\"id\":\"25234\"},\"ticker\":{\"id\":\"25208\"}},\"id\":\"25207\",\"type\":\"LinearAxis\"},{\"attributes\":{\"axis\":{\"id\":\"25204\"},\"grid_line_color\":null,\"ticker\":null},\"id\":\"25206\",\"type\":\"Grid\"},{\"attributes\":{\"line_alpha\":{\"value\":0.8},\"line_color\":{\"value\":\"red\"},\"line_width\":{\"value\":2},\"x\":{\"field\":\"x\"},\"y\":{\"field\":\"y\"}},\"id\":\"25226\",\"type\":\"Step\"},{\"attributes\":{\"fill_alpha\":{\"value\":0.1},\"fill_color\":{\"value\":\"#1f77b4\"},\"line_alpha\":{\"value\":0.1},\"line_color\":{\"value\":\"#1f77b4\"},\"top\":{\"field\":\"top\"},\"width\":{\"value\":1},\"x\":{\"field\":\"x\"}},\"id\":\"25240\",\"type\":\"VBar\"},{\"attributes\":{\"line_alpha\":{\"value\":0.1},\"line_color\":{\"value\":\"red\"},\"line_width\":{\"value\":2},\"x\":{\"field\":\"x\"},\"y\":{\"field\":\"y\"}},\"id\":\"25227\",\"type\":\"Step\"},{\"attributes\":{\"overlay\":{\"id\":\"25217\"}},\"id\":\"25213\",\"type\":\"BoxZoomTool\"},{\"attributes\":{},\"id\":\"25234\",\"type\":\"BasicTickFormatter\"},{\"attributes\":{\"formatter\":{\"id\":\"25232\"},\"major_label_orientation\":\"vertical\",\"ticker\":{\"id\":\"25205\"}},\"id\":\"25204\",\"type\":\"CategoricalAxis\"},{\"attributes\":{\"source\":{\"id\":\"25225\"}},\"id\":\"25229\",\"type\":\"CDSView\"},{\"attributes\":{},\"id\":\"25202\",\"type\":\"LinearScale\"},{\"attributes\":{\"data\":{\"top\":[2,3,0,4,2,2,2,0,0,0,0,3,0,0,0,2,0,2,2,3,2,0,0,2,2,2,2,0,0,0,0,5,4,7,15,0],\"x\":[\"2017-07\",\"2017-08\",\"2017-09\",\"2017-10\",\"2017-11\",\"2017-12\",\"2018-01\",\"2018-02\",\"2018-03\",\"2018-04\",\"2018-05\",\"2018-06\",\"2018-07\",\"2018-08\",\"2018-09\",\"2018-10\",\"2018-11\",\"2018-12\",\"2019-01\",\"2019-02\",\"2019-03\",\"2019-04\",\"2019-05\",\"2019-06\",\"2019-07\",\"2019-09\",\"2019-10\",\"2019-11\",\"2019-12\",\"2020-01\",\"2020-02\",\"2020-03\",\"2020-04\",\"2020-05\",\"2020-06\",\"2020-07\"]},\"selected\":{\"id\":\"25840\"},\"selection_policy\":{\"id\":\"25841\"}},\"id\":\"25238\",\"type\":\"ColumnDataSource\"},{\"attributes\":{\"start\":0},\"id\":\"25198\",\"type\":\"DataRange1d\"},{\"attributes\":{\"label\":{\"value\":\"Moyenne de tous les d\\u00e9put\\u00e9s\"},\"renderers\":[{\"id\":\"25228\"}]},\"id\":\"25237\",\"type\":\"LegendItem\"},{\"attributes\":{\"factors\":[\"2017-07\",\"2017-08\",\"2017-09\",\"2017-10\",\"2017-11\",\"2017-12\",\"2018-01\",\"2018-02\",\"2018-03\",\"2018-04\",\"2018-05\",\"2018-06\",\"2018-07\",\"2018-08\",\"2018-09\",\"2018-10\",\"2018-11\",\"2018-12\",\"2019-01\",\"2019-02\",\"2019-03\",\"2019-04\",\"2019-05\",\"2019-06\",\"2019-07\",\"2019-09\",\"2019-10\",\"2019-11\",\"2019-12\",\"2020-01\",\"2020-02\",\"2020-03\",\"2020-04\",\"2020-05\",\"2020-06\",\"2020-07\"]},\"id\":\"25196\",\"type\":\"FactorRange\"},{\"attributes\":{\"items\":[{\"id\":\"25237\"}]},\"id\":\"25236\",\"type\":\"Legend\"},{\"attributes\":{\"fill_alpha\":{\"value\":0.5},\"fill_color\":{\"value\":\"#1f77b4\"},\"line_alpha\":{\"value\":0.5},\"line_color\":{\"value\":\"#1f77b4\"},\"top\":{\"field\":\"top\"},\"width\":{\"value\":1},\"x\":{\"field\":\"x\"}},\"id\":\"25239\",\"type\":\"VBar\"}],\"root_ids\":[\"25193\"]},\"title\":\"Bokeh Application\",\"version\":\"2.0.1\"}};\n",
       "  var render_items = [{\"docid\":\"d82ad867-c52a-41b2-b5d0-1f9206e74e62\",\"root_ids\":[\"25193\"],\"roots\":{\"25193\":\"8722f01b-b403-4aab-9598-92f96d9ab75d\"}}];\n",
       "  root.Bokeh.embed.embed_items_notebook(docs_json, render_items);\n",
       "\n",
       "  }\n",
       "  if (root.Bokeh !== undefined) {\n",
       "    embed_document(root);\n",
       "  } else {\n",
       "    var attempts = 0;\n",
       "    var timer = setInterval(function(root) {\n",
       "      if (root.Bokeh !== undefined) {\n",
       "        clearInterval(timer);\n",
       "        embed_document(root);\n",
       "      } else {\n",
       "        attempts++;\n",
       "        if (attempts > 100) {\n",
       "          clearInterval(timer);\n",
       "          console.log(\"Bokeh: ERROR: Unable to run BokehJS code because BokehJS library is missing\");\n",
       "        }\n",
       "      }\n",
       "    }, 10, root)\n",
       "  }\n",
       "})(window);"
      ],
      "application/vnd.bokehjs_exec.v0+json": ""
     },
     "metadata": {
      "application/vnd.bokehjs_exec.v0+json": {
       "id": "25193"
      }
     },
     "output_type": "display_data"
    },
    {
     "name": "stdout",
     "output_type": "stream",
     "text": [
      "Souad Zitouni avec 30 séances\n",
      "Camille Galliard-Minier avec 34 séances\n",
      "Claudia Rouaux avec 37 séances\n",
      "Sylvain Brial avec 47 séances\n",
      "Benjamin Griveaux avec 51 séances\n",
      "François de Rugy avec 52 séances\n",
      "Nicolas Meizonnet avec 55 séances\n",
      "Jean-Luc Warsmann avec 66 séances\n",
      "Pierre Venteau avec 67 séances\n",
      "Franck Marlin avec 68 séances\n"
     ]
    }
   ],
   "source": [
    "for député in députés_les_moins_présents[:10]:\n",
    "    affiche_député(député)\n",
    "for député in députés_les_moins_présents[:10]:\n",
    "    print(f\"{députés_par_id[député]['Prénom']} {députés_par_id[député]['Nom']} avec {compte_votes(député)} séances\")"
   ]
  },
  {
   "cell_type": "markdown",
   "metadata": {},
   "source": [
    "# Les 10 plus présents"
   ]
  },
  {
   "cell_type": "code",
   "execution_count": 16,
   "metadata": {},
   "outputs": [
    {
     "data": {
      "text/html": [
       "\n",
       "\n",
       "\n",
       "\n",
       "\n",
       "\n",
       "  <div class=\"bk-root\" id=\"bf6e7d20-0d20-49fa-8154-d7cde7c584fb\" data-root-id=\"25903\"></div>\n"
      ]
     },
     "metadata": {},
     "output_type": "display_data"
    },
    {
     "data": {
      "application/javascript": [
       "(function(root) {\n",
       "  function embed_document(root) {\n",
       "    \n",
       "  var docs_json = {\"9bb23ccd-b41c-44e6-88d0-68a5e6f6fd04\":{\"roots\":{\"references\":[{\"attributes\":{\"below\":[{\"id\":\"25914\"}],\"center\":[{\"id\":\"25916\"},{\"id\":\"25920\"},{\"id\":\"25946\"}],\"left\":[{\"id\":\"25917\"}],\"plot_height\":400,\"plot_width\":700,\"renderers\":[{\"id\":\"25938\"},{\"id\":\"25951\"}],\"title\":{\"id\":\"25904\"},\"toolbar\":{\"id\":\"25928\"},\"x_range\":{\"id\":\"25906\"},\"x_scale\":{\"id\":\"25910\"},\"y_range\":{\"id\":\"25908\"},\"y_scale\":{\"id\":\"25912\"}},\"id\":\"25903\",\"subtype\":\"Figure\",\"type\":\"Plot\"},{\"attributes\":{\"text\":\"S\\u00e9ances o\\u00f9 Pierre Dharr\\u00e9ville \\u00e0 vot\\u00e9 (390)\"},\"id\":\"25904\",\"type\":\"Title\"},{\"attributes\":{\"data\":{\"top\":[15,4,3,13,14,4,5,7,7,15,15,20,16,0,12,25,11,20,8,8,19,3,13,8,11,9,23,11,4,4,28,7,4,6,18,0],\"x\":[\"2017-07\",\"2017-08\",\"2017-09\",\"2017-10\",\"2017-11\",\"2017-12\",\"2018-01\",\"2018-02\",\"2018-03\",\"2018-04\",\"2018-05\",\"2018-06\",\"2018-07\",\"2018-08\",\"2018-09\",\"2018-10\",\"2018-11\",\"2018-12\",\"2019-01\",\"2019-02\",\"2019-03\",\"2019-04\",\"2019-05\",\"2019-06\",\"2019-07\",\"2019-09\",\"2019-10\",\"2019-11\",\"2019-12\",\"2020-01\",\"2020-02\",\"2020-03\",\"2020-04\",\"2020-05\",\"2020-06\",\"2020-07\"]},\"selected\":{\"id\":\"26560\"},\"selection_policy\":{\"id\":\"26561\"}},\"id\":\"25948\",\"type\":\"ColumnDataSource\"},{\"attributes\":{},\"id\":\"26558\",\"type\":\"Selection\"},{\"attributes\":{},\"id\":\"26561\",\"type\":\"UnionRenderers\"},{\"attributes\":{\"fill_alpha\":{\"value\":0.5},\"fill_color\":{\"value\":\"#1f77b4\"},\"line_alpha\":{\"value\":0.5},\"line_color\":{\"value\":\"#1f77b4\"},\"top\":{\"field\":\"top\"},\"width\":{\"value\":1},\"x\":{\"field\":\"x\"}},\"id\":\"25949\",\"type\":\"VBar\"},{\"attributes\":{\"overlay\":{\"id\":\"25927\"}},\"id\":\"25923\",\"type\":\"BoxZoomTool\"},{\"attributes\":{\"label\":{\"value\":\"Moyenne de tous les d\\u00e9put\\u00e9s\"},\"renderers\":[{\"id\":\"25938\"}]},\"id\":\"25947\",\"type\":\"LegendItem\"},{\"attributes\":{},\"id\":\"25921\",\"type\":\"PanTool\"},{\"attributes\":{\"source\":{\"id\":\"25948\"}},\"id\":\"25952\",\"type\":\"CDSView\"},{\"attributes\":{},\"id\":\"25944\",\"type\":\"BasicTickFormatter\"},{\"attributes\":{\"data\":{\"x\":[\"2017-07\",\"2017-08\",\"2017-09\",\"2017-10\",\"2017-11\",\"2017-12\",\"2018-01\",\"2018-02\",\"2018-03\",\"2018-04\",\"2018-05\",\"2018-06\",\"2018-07\",\"2018-08\",\"2018-09\",\"2018-10\",\"2018-11\",\"2018-12\",\"2019-01\",\"2019-02\",\"2019-03\",\"2019-04\",\"2019-05\",\"2019-06\",\"2019-07\",\"2019-09\",\"2019-10\",\"2019-11\",\"2019-12\",\"2020-01\",\"2020-02\",\"2020-03\",\"2020-04\",\"2020-05\",\"2020-06\",\"2020-07\"],\"y\":[10.9948006932409,4.124783362218371,2.2738301559792027,10.15424610051993,8.228769497400346,4.492201039861352,3.1611785095320624,4.282495667244367,4.4558058925476605,8.55632582322357,7.759098786828423,9.533795493934143,7.209705372616984,0.6897746967071057,4.190641247833622,10.474870017331023,7.0606585788561524,6.495667244367418,4.006932409012132,5.33102253032929,5.92894280762565,2.538994800693241,5.571923743500866,6.649913344887349,5.493934142114385,4.003466204506066,9.809358752166379,5.915077989601387,4.337954939341421,2.466204506065858,10.331022530329289,4.987868284228769,3.9740034662045063,6.776429809358752,14.199306759098787,1.2218370883882148]},\"selected\":{\"id\":\"26558\"},\"selection_policy\":{\"id\":\"26559\"}},\"id\":\"25935\",\"type\":\"ColumnDataSource\"},{\"attributes\":{\"data_source\":{\"id\":\"25948\"},\"glyph\":{\"id\":\"25949\"},\"hover_glyph\":null,\"muted_glyph\":null,\"nonselection_glyph\":{\"id\":\"25950\"},\"selection_glyph\":null,\"view\":{\"id\":\"25952\"}},\"id\":\"25951\",\"type\":\"GlyphRenderer\"},{\"attributes\":{\"formatter\":{\"id\":\"25944\"},\"ticker\":{\"id\":\"25918\"}},\"id\":\"25917\",\"type\":\"LinearAxis\"},{\"attributes\":{},\"id\":\"26560\",\"type\":\"Selection\"},{\"attributes\":{},\"id\":\"25942\",\"type\":\"CategoricalTickFormatter\"},{\"attributes\":{\"start\":0},\"id\":\"25908\",\"type\":\"DataRange1d\"},{\"attributes\":{\"data_source\":{\"id\":\"25935\"},\"glyph\":{\"id\":\"25936\"},\"hover_glyph\":null,\"muted_glyph\":null,\"nonselection_glyph\":{\"id\":\"25937\"},\"selection_glyph\":null,\"view\":{\"id\":\"25939\"}},\"id\":\"25938\",\"type\":\"GlyphRenderer\"},{\"attributes\":{},\"id\":\"25925\",\"type\":\"ResetTool\"},{\"attributes\":{\"active_drag\":\"auto\",\"active_inspect\":\"auto\",\"active_multi\":null,\"active_scroll\":\"auto\",\"active_tap\":\"auto\",\"tools\":[{\"id\":\"25921\"},{\"id\":\"25922\"},{\"id\":\"25923\"},{\"id\":\"25924\"},{\"id\":\"25925\"},{\"id\":\"25926\"}]},\"id\":\"25928\",\"type\":\"Toolbar\"},{\"attributes\":{},\"id\":\"25918\",\"type\":\"BasicTicker\"},{\"attributes\":{},\"id\":\"25924\",\"type\":\"SaveTool\"},{\"attributes\":{\"axis\":{\"id\":\"25917\"},\"dimension\":1,\"grid_line_color\":null,\"ticker\":null},\"id\":\"25920\",\"type\":\"Grid\"},{\"attributes\":{},\"id\":\"25926\",\"type\":\"HelpTool\"},{\"attributes\":{},\"id\":\"26559\",\"type\":\"UnionRenderers\"},{\"attributes\":{\"factors\":[\"2017-07\",\"2017-08\",\"2017-09\",\"2017-10\",\"2017-11\",\"2017-12\",\"2018-01\",\"2018-02\",\"2018-03\",\"2018-04\",\"2018-05\",\"2018-06\",\"2018-07\",\"2018-08\",\"2018-09\",\"2018-10\",\"2018-11\",\"2018-12\",\"2019-01\",\"2019-02\",\"2019-03\",\"2019-04\",\"2019-05\",\"2019-06\",\"2019-07\",\"2019-09\",\"2019-10\",\"2019-11\",\"2019-12\",\"2020-01\",\"2020-02\",\"2020-03\",\"2020-04\",\"2020-05\",\"2020-06\",\"2020-07\"]},\"id\":\"25906\",\"type\":\"FactorRange\"},{\"attributes\":{\"axis\":{\"id\":\"25914\"},\"grid_line_color\":null,\"ticker\":null},\"id\":\"25916\",\"type\":\"Grid\"},{\"attributes\":{\"items\":[{\"id\":\"25947\"}]},\"id\":\"25946\",\"type\":\"Legend\"},{\"attributes\":{\"fill_alpha\":{\"value\":0.1},\"fill_color\":{\"value\":\"#1f77b4\"},\"line_alpha\":{\"value\":0.1},\"line_color\":{\"value\":\"#1f77b4\"},\"top\":{\"field\":\"top\"},\"width\":{\"value\":1},\"x\":{\"field\":\"x\"}},\"id\":\"25950\",\"type\":\"VBar\"},{\"attributes\":{},\"id\":\"25912\",\"type\":\"LinearScale\"},{\"attributes\":{},\"id\":\"25915\",\"type\":\"CategoricalTicker\"},{\"attributes\":{\"bottom_units\":\"screen\",\"fill_alpha\":0.5,\"fill_color\":\"lightgrey\",\"left_units\":\"screen\",\"level\":\"overlay\",\"line_alpha\":1.0,\"line_color\":\"black\",\"line_dash\":[4,4],\"line_width\":2,\"render_mode\":\"css\",\"right_units\":\"screen\",\"top_units\":\"screen\"},\"id\":\"25927\",\"type\":\"BoxAnnotation\"},{\"attributes\":{\"line_alpha\":{\"value\":0.8},\"line_color\":{\"value\":\"red\"},\"line_width\":{\"value\":2},\"x\":{\"field\":\"x\"},\"y\":{\"field\":\"y\"}},\"id\":\"25936\",\"type\":\"Step\"},{\"attributes\":{\"formatter\":{\"id\":\"25942\"},\"major_label_orientation\":\"vertical\",\"ticker\":{\"id\":\"25915\"}},\"id\":\"25914\",\"type\":\"CategoricalAxis\"},{\"attributes\":{},\"id\":\"25922\",\"type\":\"WheelZoomTool\"},{\"attributes\":{\"line_alpha\":{\"value\":0.1},\"line_color\":{\"value\":\"red\"},\"line_width\":{\"value\":2},\"x\":{\"field\":\"x\"},\"y\":{\"field\":\"y\"}},\"id\":\"25937\",\"type\":\"Step\"},{\"attributes\":{},\"id\":\"25910\",\"type\":\"CategoricalScale\"},{\"attributes\":{\"source\":{\"id\":\"25935\"}},\"id\":\"25939\",\"type\":\"CDSView\"}],\"root_ids\":[\"25903\"]},\"title\":\"Bokeh Application\",\"version\":\"2.0.1\"}};\n",
       "  var render_items = [{\"docid\":\"9bb23ccd-b41c-44e6-88d0-68a5e6f6fd04\",\"root_ids\":[\"25903\"],\"roots\":{\"25903\":\"bf6e7d20-0d20-49fa-8154-d7cde7c584fb\"}}];\n",
       "  root.Bokeh.embed.embed_items_notebook(docs_json, render_items);\n",
       "\n",
       "  }\n",
       "  if (root.Bokeh !== undefined) {\n",
       "    embed_document(root);\n",
       "  } else {\n",
       "    var attempts = 0;\n",
       "    var timer = setInterval(function(root) {\n",
       "      if (root.Bokeh !== undefined) {\n",
       "        clearInterval(timer);\n",
       "        embed_document(root);\n",
       "      } else {\n",
       "        attempts++;\n",
       "        if (attempts > 100) {\n",
       "          clearInterval(timer);\n",
       "          console.log(\"Bokeh: ERROR: Unable to run BokehJS code because BokehJS library is missing\");\n",
       "        }\n",
       "      }\n",
       "    }, 10, root)\n",
       "  }\n",
       "})(window);"
      ],
      "application/vnd.bokehjs_exec.v0+json": ""
     },
     "metadata": {
      "application/vnd.bokehjs_exec.v0+json": {
       "id": "25903"
      }
     },
     "output_type": "display_data"
    },
    {
     "data": {
      "text/html": [
       "\n",
       "\n",
       "\n",
       "\n",
       "\n",
       "\n",
       "  <div class=\"bk-root\" id=\"6cbdcc6f-3f76-4e8c-9b9e-d2c64bbd4867\" data-root-id=\"26623\"></div>\n"
      ]
     },
     "metadata": {},
     "output_type": "display_data"
    },
    {
     "data": {
      "application/javascript": [
       "(function(root) {\n",
       "  function embed_document(root) {\n",
       "    \n",
       "  var docs_json = {\"1ba4d812-68ed-4c4d-8078-bf4f8f43b95c\":{\"roots\":{\"references\":[{\"attributes\":{\"below\":[{\"id\":\"26634\"}],\"center\":[{\"id\":\"26636\"},{\"id\":\"26640\"},{\"id\":\"26666\"}],\"left\":[{\"id\":\"26637\"}],\"plot_height\":400,\"plot_width\":700,\"renderers\":[{\"id\":\"26658\"},{\"id\":\"26671\"}],\"title\":{\"id\":\"26624\"},\"toolbar\":{\"id\":\"26648\"},\"x_range\":{\"id\":\"26626\"},\"x_scale\":{\"id\":\"26630\"},\"y_range\":{\"id\":\"26628\"},\"y_scale\":{\"id\":\"26632\"}},\"id\":\"26623\",\"subtype\":\"Figure\",\"type\":\"Plot\"},{\"attributes\":{},\"id\":\"26641\",\"type\":\"PanTool\"},{\"attributes\":{\"data\":{\"top\":[21,5,5,15,14,6,6,5,3,20,16,16,18,2,5,21,10,13,8,14,6,5,10,11,10,12,28,15,4,6,18,7,4,7,20,5],\"x\":[\"2017-07\",\"2017-08\",\"2017-09\",\"2017-10\",\"2017-11\",\"2017-12\",\"2018-01\",\"2018-02\",\"2018-03\",\"2018-04\",\"2018-05\",\"2018-06\",\"2018-07\",\"2018-08\",\"2018-09\",\"2018-10\",\"2018-11\",\"2018-12\",\"2019-01\",\"2019-02\",\"2019-03\",\"2019-04\",\"2019-05\",\"2019-06\",\"2019-07\",\"2019-09\",\"2019-10\",\"2019-11\",\"2019-12\",\"2020-01\",\"2020-02\",\"2020-03\",\"2020-04\",\"2020-05\",\"2020-06\",\"2020-07\"]},\"selected\":{\"id\":\"27290\"},\"selection_policy\":{\"id\":\"27291\"}},\"id\":\"26668\",\"type\":\"ColumnDataSource\"},{\"attributes\":{\"label\":{\"value\":\"Moyenne de tous les d\\u00e9put\\u00e9s\"},\"renderers\":[{\"id\":\"26658\"}]},\"id\":\"26667\",\"type\":\"LegendItem\"},{\"attributes\":{\"start\":0},\"id\":\"26628\",\"type\":\"DataRange1d\"},{\"attributes\":{\"source\":{\"id\":\"26668\"}},\"id\":\"26672\",\"type\":\"CDSView\"},{\"attributes\":{},\"id\":\"27288\",\"type\":\"Selection\"},{\"attributes\":{\"factors\":[\"2017-07\",\"2017-08\",\"2017-09\",\"2017-10\",\"2017-11\",\"2017-12\",\"2018-01\",\"2018-02\",\"2018-03\",\"2018-04\",\"2018-05\",\"2018-06\",\"2018-07\",\"2018-08\",\"2018-09\",\"2018-10\",\"2018-11\",\"2018-12\",\"2019-01\",\"2019-02\",\"2019-03\",\"2019-04\",\"2019-05\",\"2019-06\",\"2019-07\",\"2019-09\",\"2019-10\",\"2019-11\",\"2019-12\",\"2020-01\",\"2020-02\",\"2020-03\",\"2020-04\",\"2020-05\",\"2020-06\",\"2020-07\"]},\"id\":\"26626\",\"type\":\"FactorRange\"},{\"attributes\":{},\"id\":\"27289\",\"type\":\"UnionRenderers\"},{\"attributes\":{\"text\":\"S\\u00e9ances o\\u00f9 Maxime Minot \\u00e0 vot\\u00e9 (391)\"},\"id\":\"26624\",\"type\":\"Title\"},{\"attributes\":{\"fill_alpha\":{\"value\":0.1},\"fill_color\":{\"value\":\"#1f77b4\"},\"line_alpha\":{\"value\":0.1},\"line_color\":{\"value\":\"#1f77b4\"},\"top\":{\"field\":\"top\"},\"width\":{\"value\":1},\"x\":{\"field\":\"x\"}},\"id\":\"26670\",\"type\":\"VBar\"},{\"attributes\":{},\"id\":\"27290\",\"type\":\"Selection\"},{\"attributes\":{\"data\":{\"x\":[\"2017-07\",\"2017-08\",\"2017-09\",\"2017-10\",\"2017-11\",\"2017-12\",\"2018-01\",\"2018-02\",\"2018-03\",\"2018-04\",\"2018-05\",\"2018-06\",\"2018-07\",\"2018-08\",\"2018-09\",\"2018-10\",\"2018-11\",\"2018-12\",\"2019-01\",\"2019-02\",\"2019-03\",\"2019-04\",\"2019-05\",\"2019-06\",\"2019-07\",\"2019-09\",\"2019-10\",\"2019-11\",\"2019-12\",\"2020-01\",\"2020-02\",\"2020-03\",\"2020-04\",\"2020-05\",\"2020-06\",\"2020-07\"],\"y\":[10.9948006932409,4.124783362218371,2.2738301559792027,10.15424610051993,8.228769497400346,4.492201039861352,3.1611785095320624,4.282495667244367,4.4558058925476605,8.55632582322357,7.759098786828423,9.533795493934143,7.209705372616984,0.6897746967071057,4.190641247833622,10.474870017331023,7.0606585788561524,6.495667244367418,4.006932409012132,5.33102253032929,5.92894280762565,2.538994800693241,5.571923743500866,6.649913344887349,5.493934142114385,4.003466204506066,9.809358752166379,5.915077989601387,4.337954939341421,2.466204506065858,10.331022530329289,4.987868284228769,3.9740034662045063,6.776429809358752,14.199306759098787,1.2218370883882148]},\"selected\":{\"id\":\"27288\"},\"selection_policy\":{\"id\":\"27289\"}},\"id\":\"26655\",\"type\":\"ColumnDataSource\"},{\"attributes\":{},\"id\":\"27291\",\"type\":\"UnionRenderers\"},{\"attributes\":{},\"id\":\"26664\",\"type\":\"BasicTickFormatter\"},{\"attributes\":{},\"id\":\"26662\",\"type\":\"CategoricalTickFormatter\"},{\"attributes\":{},\"id\":\"26642\",\"type\":\"WheelZoomTool\"},{\"attributes\":{\"overlay\":{\"id\":\"26647\"}},\"id\":\"26643\",\"type\":\"BoxZoomTool\"},{\"attributes\":{\"source\":{\"id\":\"26655\"}},\"id\":\"26659\",\"type\":\"CDSView\"},{\"attributes\":{\"items\":[{\"id\":\"26667\"}]},\"id\":\"26666\",\"type\":\"Legend\"},{\"attributes\":{},\"id\":\"26644\",\"type\":\"SaveTool\"},{\"attributes\":{\"data_source\":{\"id\":\"26655\"},\"glyph\":{\"id\":\"26656\"},\"hover_glyph\":null,\"muted_glyph\":null,\"nonselection_glyph\":{\"id\":\"26657\"},\"selection_glyph\":null,\"view\":{\"id\":\"26659\"}},\"id\":\"26658\",\"type\":\"GlyphRenderer\"},{\"attributes\":{\"line_alpha\":{\"value\":0.1},\"line_color\":{\"value\":\"red\"},\"line_width\":{\"value\":2},\"x\":{\"field\":\"x\"},\"y\":{\"field\":\"y\"}},\"id\":\"26657\",\"type\":\"Step\"},{\"attributes\":{},\"id\":\"26645\",\"type\":\"ResetTool\"},{\"attributes\":{},\"id\":\"26638\",\"type\":\"BasicTicker\"},{\"attributes\":{\"line_alpha\":{\"value\":0.8},\"line_color\":{\"value\":\"red\"},\"line_width\":{\"value\":2},\"x\":{\"field\":\"x\"},\"y\":{\"field\":\"y\"}},\"id\":\"26656\",\"type\":\"Step\"},{\"attributes\":{\"axis\":{\"id\":\"26637\"},\"dimension\":1,\"grid_line_color\":null,\"ticker\":null},\"id\":\"26640\",\"type\":\"Grid\"},{\"attributes\":{},\"id\":\"26646\",\"type\":\"HelpTool\"},{\"attributes\":{\"formatter\":{\"id\":\"26664\"},\"ticker\":{\"id\":\"26638\"}},\"id\":\"26637\",\"type\":\"LinearAxis\"},{\"attributes\":{\"data_source\":{\"id\":\"26668\"},\"glyph\":{\"id\":\"26669\"},\"hover_glyph\":null,\"muted_glyph\":null,\"nonselection_glyph\":{\"id\":\"26670\"},\"selection_glyph\":null,\"view\":{\"id\":\"26672\"}},\"id\":\"26671\",\"type\":\"GlyphRenderer\"},{\"attributes\":{\"axis\":{\"id\":\"26634\"},\"grid_line_color\":null,\"ticker\":null},\"id\":\"26636\",\"type\":\"Grid\"},{\"attributes\":{\"active_drag\":\"auto\",\"active_inspect\":\"auto\",\"active_multi\":null,\"active_scroll\":\"auto\",\"active_tap\":\"auto\",\"tools\":[{\"id\":\"26641\"},{\"id\":\"26642\"},{\"id\":\"26643\"},{\"id\":\"26644\"},{\"id\":\"26645\"},{\"id\":\"26646\"}]},\"id\":\"26648\",\"type\":\"Toolbar\"},{\"attributes\":{},\"id\":\"26635\",\"type\":\"CategoricalTicker\"},{\"attributes\":{\"fill_alpha\":{\"value\":0.5},\"fill_color\":{\"value\":\"#1f77b4\"},\"line_alpha\":{\"value\":0.5},\"line_color\":{\"value\":\"#1f77b4\"},\"top\":{\"field\":\"top\"},\"width\":{\"value\":1},\"x\":{\"field\":\"x\"}},\"id\":\"26669\",\"type\":\"VBar\"},{\"attributes\":{},\"id\":\"26630\",\"type\":\"CategoricalScale\"},{\"attributes\":{\"formatter\":{\"id\":\"26662\"},\"major_label_orientation\":\"vertical\",\"ticker\":{\"id\":\"26635\"}},\"id\":\"26634\",\"type\":\"CategoricalAxis\"},{\"attributes\":{\"bottom_units\":\"screen\",\"fill_alpha\":0.5,\"fill_color\":\"lightgrey\",\"left_units\":\"screen\",\"level\":\"overlay\",\"line_alpha\":1.0,\"line_color\":\"black\",\"line_dash\":[4,4],\"line_width\":2,\"render_mode\":\"css\",\"right_units\":\"screen\",\"top_units\":\"screen\"},\"id\":\"26647\",\"type\":\"BoxAnnotation\"},{\"attributes\":{},\"id\":\"26632\",\"type\":\"LinearScale\"}],\"root_ids\":[\"26623\"]},\"title\":\"Bokeh Application\",\"version\":\"2.0.1\"}};\n",
       "  var render_items = [{\"docid\":\"1ba4d812-68ed-4c4d-8078-bf4f8f43b95c\",\"root_ids\":[\"26623\"],\"roots\":{\"26623\":\"6cbdcc6f-3f76-4e8c-9b9e-d2c64bbd4867\"}}];\n",
       "  root.Bokeh.embed.embed_items_notebook(docs_json, render_items);\n",
       "\n",
       "  }\n",
       "  if (root.Bokeh !== undefined) {\n",
       "    embed_document(root);\n",
       "  } else {\n",
       "    var attempts = 0;\n",
       "    var timer = setInterval(function(root) {\n",
       "      if (root.Bokeh !== undefined) {\n",
       "        clearInterval(timer);\n",
       "        embed_document(root);\n",
       "      } else {\n",
       "        attempts++;\n",
       "        if (attempts > 100) {\n",
       "          clearInterval(timer);\n",
       "          console.log(\"Bokeh: ERROR: Unable to run BokehJS code because BokehJS library is missing\");\n",
       "        }\n",
       "      }\n",
       "    }, 10, root)\n",
       "  }\n",
       "})(window);"
      ],
      "application/vnd.bokehjs_exec.v0+json": ""
     },
     "metadata": {
      "application/vnd.bokehjs_exec.v0+json": {
       "id": "26623"
      }
     },
     "output_type": "display_data"
    },
    {
     "data": {
      "text/html": [
       "\n",
       "\n",
       "\n",
       "\n",
       "\n",
       "\n",
       "  <div class=\"bk-root\" id=\"53e9655e-7699-411d-a079-21f8e0dce550\" data-root-id=\"27353\"></div>\n"
      ]
     },
     "metadata": {},
     "output_type": "display_data"
    },
    {
     "data": {
      "application/javascript": [
       "(function(root) {\n",
       "  function embed_document(root) {\n",
       "    \n",
       "  var docs_json = {\"a2a9b9c9-c96c-496e-b844-c3a2860c1926\":{\"roots\":{\"references\":[{\"attributes\":{\"below\":[{\"id\":\"27364\"}],\"center\":[{\"id\":\"27366\"},{\"id\":\"27370\"},{\"id\":\"27396\"}],\"left\":[{\"id\":\"27367\"}],\"plot_height\":400,\"plot_width\":700,\"renderers\":[{\"id\":\"27388\"},{\"id\":\"27401\"}],\"title\":{\"id\":\"27354\"},\"toolbar\":{\"id\":\"27378\"},\"x_range\":{\"id\":\"27356\"},\"x_scale\":{\"id\":\"27360\"},\"y_range\":{\"id\":\"27358\"},\"y_scale\":{\"id\":\"27362\"}},\"id\":\"27353\",\"subtype\":\"Figure\",\"type\":\"Plot\"},{\"attributes\":{},\"id\":\"27360\",\"type\":\"CategoricalScale\"},{\"attributes\":{},\"id\":\"27392\",\"type\":\"CategoricalTickFormatter\"},{\"attributes\":{\"formatter\":{\"id\":\"27392\"},\"major_label_orientation\":\"vertical\",\"ticker\":{\"id\":\"27365\"}},\"id\":\"27364\",\"type\":\"CategoricalAxis\"},{\"attributes\":{\"source\":{\"id\":\"27385\"}},\"id\":\"27389\",\"type\":\"CDSView\"},{\"attributes\":{},\"id\":\"27394\",\"type\":\"BasicTickFormatter\"},{\"attributes\":{},\"id\":\"27362\",\"type\":\"LinearScale\"},{\"attributes\":{},\"id\":\"27371\",\"type\":\"PanTool\"},{\"attributes\":{\"data_source\":{\"id\":\"27398\"},\"glyph\":{\"id\":\"27399\"},\"hover_glyph\":null,\"muted_glyph\":null,\"nonselection_glyph\":{\"id\":\"27400\"},\"selection_glyph\":null,\"view\":{\"id\":\"27402\"}},\"id\":\"27401\",\"type\":\"GlyphRenderer\"},{\"attributes\":{\"start\":0},\"id\":\"27358\",\"type\":\"DataRange1d\"},{\"attributes\":{},\"id\":\"28028\",\"type\":\"Selection\"},{\"attributes\":{\"fill_alpha\":{\"value\":0.5},\"fill_color\":{\"value\":\"#1f77b4\"},\"line_alpha\":{\"value\":0.5},\"line_color\":{\"value\":\"#1f77b4\"},\"top\":{\"field\":\"top\"},\"width\":{\"value\":1},\"x\":{\"field\":\"x\"}},\"id\":\"27399\",\"type\":\"VBar\"},{\"attributes\":{\"source\":{\"id\":\"27398\"}},\"id\":\"27402\",\"type\":\"CDSView\"},{\"attributes\":{\"factors\":[\"2017-07\",\"2017-08\",\"2017-09\",\"2017-10\",\"2017-11\",\"2017-12\",\"2018-01\",\"2018-02\",\"2018-03\",\"2018-04\",\"2018-05\",\"2018-06\",\"2018-07\",\"2018-08\",\"2018-09\",\"2018-10\",\"2018-11\",\"2018-12\",\"2019-01\",\"2019-02\",\"2019-03\",\"2019-04\",\"2019-05\",\"2019-06\",\"2019-07\",\"2019-09\",\"2019-10\",\"2019-11\",\"2019-12\",\"2020-01\",\"2020-02\",\"2020-03\",\"2020-04\",\"2020-05\",\"2020-06\",\"2020-07\"]},\"id\":\"27356\",\"type\":\"FactorRange\"},{\"attributes\":{},\"id\":\"28029\",\"type\":\"UnionRenderers\"},{\"attributes\":{\"text\":\"S\\u00e9ances o\\u00f9 Marie-Christine Verdier-Jouclas \\u00e0 vot\\u00e9 (403)\"},\"id\":\"27354\",\"type\":\"Title\"},{\"attributes\":{\"data\":{\"x\":[\"2017-07\",\"2017-08\",\"2017-09\",\"2017-10\",\"2017-11\",\"2017-12\",\"2018-01\",\"2018-02\",\"2018-03\",\"2018-04\",\"2018-05\",\"2018-06\",\"2018-07\",\"2018-08\",\"2018-09\",\"2018-10\",\"2018-11\",\"2018-12\",\"2019-01\",\"2019-02\",\"2019-03\",\"2019-04\",\"2019-05\",\"2019-06\",\"2019-07\",\"2019-09\",\"2019-10\",\"2019-11\",\"2019-12\",\"2020-01\",\"2020-02\",\"2020-03\",\"2020-04\",\"2020-05\",\"2020-06\",\"2020-07\"],\"y\":[10.9948006932409,4.124783362218371,2.2738301559792027,10.15424610051993,8.228769497400346,4.492201039861352,3.1611785095320624,4.282495667244367,4.4558058925476605,8.55632582322357,7.759098786828423,9.533795493934143,7.209705372616984,0.6897746967071057,4.190641247833622,10.474870017331023,7.0606585788561524,6.495667244367418,4.006932409012132,5.33102253032929,5.92894280762565,2.538994800693241,5.571923743500866,6.649913344887349,5.493934142114385,4.003466204506066,9.809358752166379,5.915077989601387,4.337954939341421,2.466204506065858,10.331022530329289,4.987868284228769,3.9740034662045063,6.776429809358752,14.199306759098787,1.2218370883882148]},\"selected\":{\"id\":\"28028\"},\"selection_policy\":{\"id\":\"28029\"}},\"id\":\"27385\",\"type\":\"ColumnDataSource\"},{\"attributes\":{},\"id\":\"28030\",\"type\":\"Selection\"},{\"attributes\":{\"fill_alpha\":{\"value\":0.1},\"fill_color\":{\"value\":\"#1f77b4\"},\"line_alpha\":{\"value\":0.1},\"line_color\":{\"value\":\"#1f77b4\"},\"top\":{\"field\":\"top\"},\"width\":{\"value\":1},\"x\":{\"field\":\"x\"}},\"id\":\"27400\",\"type\":\"VBar\"},{\"attributes\":{},\"id\":\"28031\",\"type\":\"UnionRenderers\"},{\"attributes\":{\"data_source\":{\"id\":\"27385\"},\"glyph\":{\"id\":\"27386\"},\"hover_glyph\":null,\"muted_glyph\":null,\"nonselection_glyph\":{\"id\":\"27387\"},\"selection_glyph\":null,\"view\":{\"id\":\"27389\"}},\"id\":\"27388\",\"type\":\"GlyphRenderer\"},{\"attributes\":{\"line_alpha\":{\"value\":0.1},\"line_color\":{\"value\":\"red\"},\"line_width\":{\"value\":2},\"x\":{\"field\":\"x\"},\"y\":{\"field\":\"y\"}},\"id\":\"27387\",\"type\":\"Step\"},{\"attributes\":{\"line_alpha\":{\"value\":0.8},\"line_color\":{\"value\":\"red\"},\"line_width\":{\"value\":2},\"x\":{\"field\":\"x\"},\"y\":{\"field\":\"y\"}},\"id\":\"27386\",\"type\":\"Step\"},{\"attributes\":{},\"id\":\"27372\",\"type\":\"WheelZoomTool\"},{\"attributes\":{\"bottom_units\":\"screen\",\"fill_alpha\":0.5,\"fill_color\":\"lightgrey\",\"left_units\":\"screen\",\"level\":\"overlay\",\"line_alpha\":1.0,\"line_color\":\"black\",\"line_dash\":[4,4],\"line_width\":2,\"render_mode\":\"css\",\"right_units\":\"screen\",\"top_units\":\"screen\"},\"id\":\"27377\",\"type\":\"BoxAnnotation\"},{\"attributes\":{\"overlay\":{\"id\":\"27377\"}},\"id\":\"27373\",\"type\":\"BoxZoomTool\"},{\"attributes\":{\"data\":{\"top\":[15,5,5,24,20,12,4,7,2,19,15,17,11,2,13,25,22,12,5,6,11,6,8,8,9,3,20,16,16,2,22,7,4,7,19,4],\"x\":[\"2017-07\",\"2017-08\",\"2017-09\",\"2017-10\",\"2017-11\",\"2017-12\",\"2018-01\",\"2018-02\",\"2018-03\",\"2018-04\",\"2018-05\",\"2018-06\",\"2018-07\",\"2018-08\",\"2018-09\",\"2018-10\",\"2018-11\",\"2018-12\",\"2019-01\",\"2019-02\",\"2019-03\",\"2019-04\",\"2019-05\",\"2019-06\",\"2019-07\",\"2019-09\",\"2019-10\",\"2019-11\",\"2019-12\",\"2020-01\",\"2020-02\",\"2020-03\",\"2020-04\",\"2020-05\",\"2020-06\",\"2020-07\"]},\"selected\":{\"id\":\"28030\"},\"selection_policy\":{\"id\":\"28031\"}},\"id\":\"27398\",\"type\":\"ColumnDataSource\"},{\"attributes\":{},\"id\":\"27374\",\"type\":\"SaveTool\"},{\"attributes\":{\"items\":[{\"id\":\"27397\"}]},\"id\":\"27396\",\"type\":\"Legend\"},{\"attributes\":{},\"id\":\"27368\",\"type\":\"BasicTicker\"},{\"attributes\":{},\"id\":\"27375\",\"type\":\"ResetTool\"},{\"attributes\":{\"axis\":{\"id\":\"27367\"},\"dimension\":1,\"grid_line_color\":null,\"ticker\":null},\"id\":\"27370\",\"type\":\"Grid\"},{\"attributes\":{},\"id\":\"27376\",\"type\":\"HelpTool\"},{\"attributes\":{\"formatter\":{\"id\":\"27394\"},\"ticker\":{\"id\":\"27368\"}},\"id\":\"27367\",\"type\":\"LinearAxis\"},{\"attributes\":{\"axis\":{\"id\":\"27364\"},\"grid_line_color\":null,\"ticker\":null},\"id\":\"27366\",\"type\":\"Grid\"},{\"attributes\":{\"active_drag\":\"auto\",\"active_inspect\":\"auto\",\"active_multi\":null,\"active_scroll\":\"auto\",\"active_tap\":\"auto\",\"tools\":[{\"id\":\"27371\"},{\"id\":\"27372\"},{\"id\":\"27373\"},{\"id\":\"27374\"},{\"id\":\"27375\"},{\"id\":\"27376\"}]},\"id\":\"27378\",\"type\":\"Toolbar\"},{\"attributes\":{},\"id\":\"27365\",\"type\":\"CategoricalTicker\"},{\"attributes\":{\"label\":{\"value\":\"Moyenne de tous les d\\u00e9put\\u00e9s\"},\"renderers\":[{\"id\":\"27388\"}]},\"id\":\"27397\",\"type\":\"LegendItem\"}],\"root_ids\":[\"27353\"]},\"title\":\"Bokeh Application\",\"version\":\"2.0.1\"}};\n",
       "  var render_items = [{\"docid\":\"a2a9b9c9-c96c-496e-b844-c3a2860c1926\",\"root_ids\":[\"27353\"],\"roots\":{\"27353\":\"53e9655e-7699-411d-a079-21f8e0dce550\"}}];\n",
       "  root.Bokeh.embed.embed_items_notebook(docs_json, render_items);\n",
       "\n",
       "  }\n",
       "  if (root.Bokeh !== undefined) {\n",
       "    embed_document(root);\n",
       "  } else {\n",
       "    var attempts = 0;\n",
       "    var timer = setInterval(function(root) {\n",
       "      if (root.Bokeh !== undefined) {\n",
       "        clearInterval(timer);\n",
       "        embed_document(root);\n",
       "      } else {\n",
       "        attempts++;\n",
       "        if (attempts > 100) {\n",
       "          clearInterval(timer);\n",
       "          console.log(\"Bokeh: ERROR: Unable to run BokehJS code because BokehJS library is missing\");\n",
       "        }\n",
       "      }\n",
       "    }, 10, root)\n",
       "  }\n",
       "})(window);"
      ],
      "application/vnd.bokehjs_exec.v0+json": ""
     },
     "metadata": {
      "application/vnd.bokehjs_exec.v0+json": {
       "id": "27353"
      }
     },
     "output_type": "display_data"
    },
    {
     "data": {
      "text/html": [
       "\n",
       "\n",
       "\n",
       "\n",
       "\n",
       "\n",
       "  <div class=\"bk-root\" id=\"4a3e36c1-e976-4eba-b732-2452d52af2e8\" data-root-id=\"28093\"></div>\n"
      ]
     },
     "metadata": {},
     "output_type": "display_data"
    },
    {
     "data": {
      "application/javascript": [
       "(function(root) {\n",
       "  function embed_document(root) {\n",
       "    \n",
       "  var docs_json = {\"a4a2ea9a-dc5b-497f-92b5-c16d374730d4\":{\"roots\":{\"references\":[{\"attributes\":{\"below\":[{\"id\":\"28104\"}],\"center\":[{\"id\":\"28106\"},{\"id\":\"28110\"},{\"id\":\"28136\"}],\"left\":[{\"id\":\"28107\"}],\"plot_height\":400,\"plot_width\":700,\"renderers\":[{\"id\":\"28128\"},{\"id\":\"28141\"}],\"title\":{\"id\":\"28094\"},\"toolbar\":{\"id\":\"28118\"},\"x_range\":{\"id\":\"28096\"},\"x_scale\":{\"id\":\"28100\"},\"y_range\":{\"id\":\"28098\"},\"y_scale\":{\"id\":\"28102\"}},\"id\":\"28093\",\"subtype\":\"Figure\",\"type\":\"Plot\"},{\"attributes\":{\"data_source\":{\"id\":\"28125\"},\"glyph\":{\"id\":\"28126\"},\"hover_glyph\":null,\"muted_glyph\":null,\"nonselection_glyph\":{\"id\":\"28127\"},\"selection_glyph\":null,\"view\":{\"id\":\"28129\"}},\"id\":\"28128\",\"type\":\"GlyphRenderer\"},{\"attributes\":{},\"id\":\"28105\",\"type\":\"CategoricalTicker\"},{\"attributes\":{\"source\":{\"id\":\"28125\"}},\"id\":\"28129\",\"type\":\"CDSView\"},{\"attributes\":{\"formatter\":{\"id\":\"28132\"},\"major_label_orientation\":\"vertical\",\"ticker\":{\"id\":\"28105\"}},\"id\":\"28104\",\"type\":\"CategoricalAxis\"},{\"attributes\":{},\"id\":\"28132\",\"type\":\"CategoricalTickFormatter\"},{\"attributes\":{},\"id\":\"28102\",\"type\":\"LinearScale\"},{\"attributes\":{},\"id\":\"28100\",\"type\":\"CategoricalScale\"},{\"attributes\":{\"data\":{\"x\":[\"2017-07\",\"2017-08\",\"2017-09\",\"2017-10\",\"2017-11\",\"2017-12\",\"2018-01\",\"2018-02\",\"2018-03\",\"2018-04\",\"2018-05\",\"2018-06\",\"2018-07\",\"2018-08\",\"2018-09\",\"2018-10\",\"2018-11\",\"2018-12\",\"2019-01\",\"2019-02\",\"2019-03\",\"2019-04\",\"2019-05\",\"2019-06\",\"2019-07\",\"2019-09\",\"2019-10\",\"2019-11\",\"2019-12\",\"2020-01\",\"2020-02\",\"2020-03\",\"2020-04\",\"2020-05\",\"2020-06\",\"2020-07\"],\"y\":[10.9948006932409,4.124783362218371,2.2738301559792027,10.15424610051993,8.228769497400346,4.492201039861352,3.1611785095320624,4.282495667244367,4.4558058925476605,8.55632582322357,7.759098786828423,9.533795493934143,7.209705372616984,0.6897746967071057,4.190641247833622,10.474870017331023,7.0606585788561524,6.495667244367418,4.006932409012132,5.33102253032929,5.92894280762565,2.538994800693241,5.571923743500866,6.649913344887349,5.493934142114385,4.003466204506066,9.809358752166379,5.915077989601387,4.337954939341421,2.466204506065858,10.331022530329289,4.987868284228769,3.9740034662045063,6.776429809358752,14.199306759098787,1.2218370883882148]},\"selected\":{\"id\":\"28778\"},\"selection_policy\":{\"id\":\"28779\"}},\"id\":\"28125\",\"type\":\"ColumnDataSource\"},{\"attributes\":{\"data_source\":{\"id\":\"28138\"},\"glyph\":{\"id\":\"28139\"},\"hover_glyph\":null,\"muted_glyph\":null,\"nonselection_glyph\":{\"id\":\"28140\"},\"selection_glyph\":null,\"view\":{\"id\":\"28142\"}},\"id\":\"28141\",\"type\":\"GlyphRenderer\"},{\"attributes\":{\"start\":0},\"id\":\"28098\",\"type\":\"DataRange1d\"},{\"attributes\":{\"text\":\"S\\u00e9ances o\\u00f9 Alain Ramadier \\u00e0 vot\\u00e9 (409)\"},\"id\":\"28094\",\"type\":\"Title\"},{\"attributes\":{},\"id\":\"28778\",\"type\":\"Selection\"},{\"attributes\":{\"line_alpha\":{\"value\":0.1},\"line_color\":{\"value\":\"red\"},\"line_width\":{\"value\":2},\"x\":{\"field\":\"x\"},\"y\":{\"field\":\"y\"}},\"id\":\"28127\",\"type\":\"Step\"},{\"attributes\":{\"source\":{\"id\":\"28138\"}},\"id\":\"28142\",\"type\":\"CDSView\"},{\"attributes\":{\"fill_alpha\":{\"value\":0.5},\"fill_color\":{\"value\":\"#1f77b4\"},\"line_alpha\":{\"value\":0.5},\"line_color\":{\"value\":\"#1f77b4\"},\"top\":{\"field\":\"top\"},\"width\":{\"value\":1},\"x\":{\"field\":\"x\"}},\"id\":\"28139\",\"type\":\"VBar\"},{\"attributes\":{},\"id\":\"28134\",\"type\":\"BasicTickFormatter\"},{\"attributes\":{},\"id\":\"28779\",\"type\":\"UnionRenderers\"},{\"attributes\":{\"factors\":[\"2017-07\",\"2017-08\",\"2017-09\",\"2017-10\",\"2017-11\",\"2017-12\",\"2018-01\",\"2018-02\",\"2018-03\",\"2018-04\",\"2018-05\",\"2018-06\",\"2018-07\",\"2018-08\",\"2018-09\",\"2018-10\",\"2018-11\",\"2018-12\",\"2019-01\",\"2019-02\",\"2019-03\",\"2019-04\",\"2019-05\",\"2019-06\",\"2019-07\",\"2019-09\",\"2019-10\",\"2019-11\",\"2019-12\",\"2020-01\",\"2020-02\",\"2020-03\",\"2020-04\",\"2020-05\",\"2020-06\",\"2020-07\"]},\"id\":\"28096\",\"type\":\"FactorRange\"},{\"attributes\":{\"line_alpha\":{\"value\":0.8},\"line_color\":{\"value\":\"red\"},\"line_width\":{\"value\":2},\"x\":{\"field\":\"x\"},\"y\":{\"field\":\"y\"}},\"id\":\"28126\",\"type\":\"Step\"},{\"attributes\":{},\"id\":\"28780\",\"type\":\"Selection\"},{\"attributes\":{\"fill_alpha\":{\"value\":0.1},\"fill_color\":{\"value\":\"#1f77b4\"},\"line_alpha\":{\"value\":0.1},\"line_color\":{\"value\":\"#1f77b4\"},\"top\":{\"field\":\"top\"},\"width\":{\"value\":1},\"x\":{\"field\":\"x\"}},\"id\":\"28140\",\"type\":\"VBar\"},{\"attributes\":{},\"id\":\"28781\",\"type\":\"UnionRenderers\"},{\"attributes\":{\"bottom_units\":\"screen\",\"fill_alpha\":0.5,\"fill_color\":\"lightgrey\",\"left_units\":\"screen\",\"level\":\"overlay\",\"line_alpha\":1.0,\"line_color\":\"black\",\"line_dash\":[4,4],\"line_width\":2,\"render_mode\":\"css\",\"right_units\":\"screen\",\"top_units\":\"screen\"},\"id\":\"28117\",\"type\":\"BoxAnnotation\"},{\"attributes\":{},\"id\":\"28111\",\"type\":\"PanTool\"},{\"attributes\":{\"items\":[{\"id\":\"28137\"}]},\"id\":\"28136\",\"type\":\"Legend\"},{\"attributes\":{\"overlay\":{\"id\":\"28117\"}},\"id\":\"28113\",\"type\":\"BoxZoomTool\"},{\"attributes\":{},\"id\":\"28116\",\"type\":\"HelpTool\"},{\"attributes\":{},\"id\":\"28112\",\"type\":\"WheelZoomTool\"},{\"attributes\":{\"data\":{\"top\":[21,5,6,20,16,10,4,6,8,19,7,25,15,2,6,23,18,10,6,9,15,3,8,8,7,10,30,13,10,5,24,6,4,7,18,5],\"x\":[\"2017-07\",\"2017-08\",\"2017-09\",\"2017-10\",\"2017-11\",\"2017-12\",\"2018-01\",\"2018-02\",\"2018-03\",\"2018-04\",\"2018-05\",\"2018-06\",\"2018-07\",\"2018-08\",\"2018-09\",\"2018-10\",\"2018-11\",\"2018-12\",\"2019-01\",\"2019-02\",\"2019-03\",\"2019-04\",\"2019-05\",\"2019-06\",\"2019-07\",\"2019-09\",\"2019-10\",\"2019-11\",\"2019-12\",\"2020-01\",\"2020-02\",\"2020-03\",\"2020-04\",\"2020-05\",\"2020-06\",\"2020-07\"]},\"selected\":{\"id\":\"28780\"},\"selection_policy\":{\"id\":\"28781\"}},\"id\":\"28138\",\"type\":\"ColumnDataSource\"},{\"attributes\":{},\"id\":\"28114\",\"type\":\"SaveTool\"},{\"attributes\":{\"axis\":{\"id\":\"28104\"},\"grid_line_color\":null,\"ticker\":null},\"id\":\"28106\",\"type\":\"Grid\"},{\"attributes\":{},\"id\":\"28115\",\"type\":\"ResetTool\"},{\"attributes\":{\"axis\":{\"id\":\"28107\"},\"dimension\":1,\"grid_line_color\":null,\"ticker\":null},\"id\":\"28110\",\"type\":\"Grid\"},{\"attributes\":{\"active_drag\":\"auto\",\"active_inspect\":\"auto\",\"active_multi\":null,\"active_scroll\":\"auto\",\"active_tap\":\"auto\",\"tools\":[{\"id\":\"28111\"},{\"id\":\"28112\"},{\"id\":\"28113\"},{\"id\":\"28114\"},{\"id\":\"28115\"},{\"id\":\"28116\"}]},\"id\":\"28118\",\"type\":\"Toolbar\"},{\"attributes\":{},\"id\":\"28108\",\"type\":\"BasicTicker\"},{\"attributes\":{\"label\":{\"value\":\"Moyenne de tous les d\\u00e9put\\u00e9s\"},\"renderers\":[{\"id\":\"28128\"}]},\"id\":\"28137\",\"type\":\"LegendItem\"},{\"attributes\":{\"formatter\":{\"id\":\"28134\"},\"ticker\":{\"id\":\"28108\"}},\"id\":\"28107\",\"type\":\"LinearAxis\"}],\"root_ids\":[\"28093\"]},\"title\":\"Bokeh Application\",\"version\":\"2.0.1\"}};\n",
       "  var render_items = [{\"docid\":\"a4a2ea9a-dc5b-497f-92b5-c16d374730d4\",\"root_ids\":[\"28093\"],\"roots\":{\"28093\":\"4a3e36c1-e976-4eba-b732-2452d52af2e8\"}}];\n",
       "  root.Bokeh.embed.embed_items_notebook(docs_json, render_items);\n",
       "\n",
       "  }\n",
       "  if (root.Bokeh !== undefined) {\n",
       "    embed_document(root);\n",
       "  } else {\n",
       "    var attempts = 0;\n",
       "    var timer = setInterval(function(root) {\n",
       "      if (root.Bokeh !== undefined) {\n",
       "        clearInterval(timer);\n",
       "        embed_document(root);\n",
       "      } else {\n",
       "        attempts++;\n",
       "        if (attempts > 100) {\n",
       "          clearInterval(timer);\n",
       "          console.log(\"Bokeh: ERROR: Unable to run BokehJS code because BokehJS library is missing\");\n",
       "        }\n",
       "      }\n",
       "    }, 10, root)\n",
       "  }\n",
       "})(window);"
      ],
      "application/vnd.bokehjs_exec.v0+json": ""
     },
     "metadata": {
      "application/vnd.bokehjs_exec.v0+json": {
       "id": "28093"
      }
     },
     "output_type": "display_data"
    },
    {
     "data": {
      "text/html": [
       "\n",
       "\n",
       "\n",
       "\n",
       "\n",
       "\n",
       "  <div class=\"bk-root\" id=\"26de8b86-685c-4ca4-8354-e21572967d53\" data-root-id=\"28843\"></div>\n"
      ]
     },
     "metadata": {},
     "output_type": "display_data"
    },
    {
     "data": {
      "application/javascript": [
       "(function(root) {\n",
       "  function embed_document(root) {\n",
       "    \n",
       "  var docs_json = {\"c8028d73-c3cf-4c3d-919c-5a954411765d\":{\"roots\":{\"references\":[{\"attributes\":{\"below\":[{\"id\":\"28854\"}],\"center\":[{\"id\":\"28856\"},{\"id\":\"28860\"},{\"id\":\"28886\"}],\"left\":[{\"id\":\"28857\"}],\"plot_height\":400,\"plot_width\":700,\"renderers\":[{\"id\":\"28878\"},{\"id\":\"28891\"}],\"title\":{\"id\":\"28844\"},\"toolbar\":{\"id\":\"28868\"},\"x_range\":{\"id\":\"28846\"},\"x_scale\":{\"id\":\"28850\"},\"y_range\":{\"id\":\"28848\"},\"y_scale\":{\"id\":\"28852\"}},\"id\":\"28843\",\"subtype\":\"Figure\",\"type\":\"Plot\"},{\"attributes\":{\"axis\":{\"id\":\"28857\"},\"dimension\":1,\"grid_line_color\":null,\"ticker\":null},\"id\":\"28860\",\"type\":\"Grid\"},{\"attributes\":{\"data\":{\"top\":[21,4,4,10,15,6,5,10,9,15,15,26,14,2,6,14,18,7,11,8,16,4,5,23,12,8,22,14,18,5,27,6,4,7,18,2],\"x\":[\"2017-07\",\"2017-08\",\"2017-09\",\"2017-10\",\"2017-11\",\"2017-12\",\"2018-01\",\"2018-02\",\"2018-03\",\"2018-04\",\"2018-05\",\"2018-06\",\"2018-07\",\"2018-08\",\"2018-09\",\"2018-10\",\"2018-11\",\"2018-12\",\"2019-01\",\"2019-02\",\"2019-03\",\"2019-04\",\"2019-05\",\"2019-06\",\"2019-07\",\"2019-09\",\"2019-10\",\"2019-11\",\"2019-12\",\"2020-01\",\"2020-02\",\"2020-03\",\"2020-04\",\"2020-05\",\"2020-06\",\"2020-07\"]},\"selected\":{\"id\":\"29540\"},\"selection_policy\":{\"id\":\"29541\"}},\"id\":\"28888\",\"type\":\"ColumnDataSource\"},{\"attributes\":{\"formatter\":{\"id\":\"28884\"},\"ticker\":{\"id\":\"28858\"}},\"id\":\"28857\",\"type\":\"LinearAxis\"},{\"attributes\":{\"bottom_units\":\"screen\",\"fill_alpha\":0.5,\"fill_color\":\"lightgrey\",\"left_units\":\"screen\",\"level\":\"overlay\",\"line_alpha\":1.0,\"line_color\":\"black\",\"line_dash\":[4,4],\"line_width\":2,\"render_mode\":\"css\",\"right_units\":\"screen\",\"top_units\":\"screen\"},\"id\":\"28867\",\"type\":\"BoxAnnotation\"},{\"attributes\":{\"axis\":{\"id\":\"28854\"},\"grid_line_color\":null,\"ticker\":null},\"id\":\"28856\",\"type\":\"Grid\"},{\"attributes\":{},\"id\":\"28855\",\"type\":\"CategoricalTicker\"},{\"attributes\":{\"factors\":[\"2017-07\",\"2017-08\",\"2017-09\",\"2017-10\",\"2017-11\",\"2017-12\",\"2018-01\",\"2018-02\",\"2018-03\",\"2018-04\",\"2018-05\",\"2018-06\",\"2018-07\",\"2018-08\",\"2018-09\",\"2018-10\",\"2018-11\",\"2018-12\",\"2019-01\",\"2019-02\",\"2019-03\",\"2019-04\",\"2019-05\",\"2019-06\",\"2019-07\",\"2019-09\",\"2019-10\",\"2019-11\",\"2019-12\",\"2020-01\",\"2020-02\",\"2020-03\",\"2020-04\",\"2020-05\",\"2020-06\",\"2020-07\"]},\"id\":\"28846\",\"type\":\"FactorRange\"},{\"attributes\":{\"data_source\":{\"id\":\"28875\"},\"glyph\":{\"id\":\"28876\"},\"hover_glyph\":null,\"muted_glyph\":null,\"nonselection_glyph\":{\"id\":\"28877\"},\"selection_glyph\":null,\"view\":{\"id\":\"28879\"}},\"id\":\"28878\",\"type\":\"GlyphRenderer\"},{\"attributes\":{},\"id\":\"28850\",\"type\":\"CategoricalScale\"},{\"attributes\":{},\"id\":\"28882\",\"type\":\"CategoricalTickFormatter\"},{\"attributes\":{\"formatter\":{\"id\":\"28882\"},\"major_label_orientation\":\"vertical\",\"ticker\":{\"id\":\"28855\"}},\"id\":\"28854\",\"type\":\"CategoricalAxis\"},{\"attributes\":{\"source\":{\"id\":\"28875\"}},\"id\":\"28879\",\"type\":\"CDSView\"},{\"attributes\":{},\"id\":\"28852\",\"type\":\"LinearScale\"},{\"attributes\":{\"fill_alpha\":{\"value\":0.5},\"fill_color\":{\"value\":\"#1f77b4\"},\"line_alpha\":{\"value\":0.5},\"line_color\":{\"value\":\"#1f77b4\"},\"top\":{\"field\":\"top\"},\"width\":{\"value\":1},\"x\":{\"field\":\"x\"}},\"id\":\"28889\",\"type\":\"VBar\"},{\"attributes\":{\"data\":{\"x\":[\"2017-07\",\"2017-08\",\"2017-09\",\"2017-10\",\"2017-11\",\"2017-12\",\"2018-01\",\"2018-02\",\"2018-03\",\"2018-04\",\"2018-05\",\"2018-06\",\"2018-07\",\"2018-08\",\"2018-09\",\"2018-10\",\"2018-11\",\"2018-12\",\"2019-01\",\"2019-02\",\"2019-03\",\"2019-04\",\"2019-05\",\"2019-06\",\"2019-07\",\"2019-09\",\"2019-10\",\"2019-11\",\"2019-12\",\"2020-01\",\"2020-02\",\"2020-03\",\"2020-04\",\"2020-05\",\"2020-06\",\"2020-07\"],\"y\":[10.9948006932409,4.124783362218371,2.2738301559792027,10.15424610051993,8.228769497400346,4.492201039861352,3.1611785095320624,4.282495667244367,4.4558058925476605,8.55632582322357,7.759098786828423,9.533795493934143,7.209705372616984,0.6897746967071057,4.190641247833622,10.474870017331023,7.0606585788561524,6.495667244367418,4.006932409012132,5.33102253032929,5.92894280762565,2.538994800693241,5.571923743500866,6.649913344887349,5.493934142114385,4.003466204506066,9.809358752166379,5.915077989601387,4.337954939341421,2.466204506065858,10.331022530329289,4.987868284228769,3.9740034662045063,6.776429809358752,14.199306759098787,1.2218370883882148]},\"selected\":{\"id\":\"29538\"},\"selection_policy\":{\"id\":\"29539\"}},\"id\":\"28875\",\"type\":\"ColumnDataSource\"},{\"attributes\":{\"data_source\":{\"id\":\"28888\"},\"glyph\":{\"id\":\"28889\"},\"hover_glyph\":null,\"muted_glyph\":null,\"nonselection_glyph\":{\"id\":\"28890\"},\"selection_glyph\":null,\"view\":{\"id\":\"28892\"}},\"id\":\"28891\",\"type\":\"GlyphRenderer\"},{\"attributes\":{\"start\":0},\"id\":\"28848\",\"type\":\"DataRange1d\"},{\"attributes\":{\"source\":{\"id\":\"28888\"}},\"id\":\"28892\",\"type\":\"CDSView\"},{\"attributes\":{\"text\":\"S\\u00e9ances o\\u00f9 Vincent Thi\\u00e9baut \\u00e0 vot\\u00e9 (411)\"},\"id\":\"28844\",\"type\":\"Title\"},{\"attributes\":{\"fill_alpha\":{\"value\":0.1},\"fill_color\":{\"value\":\"#1f77b4\"},\"line_alpha\":{\"value\":0.1},\"line_color\":{\"value\":\"#1f77b4\"},\"top\":{\"field\":\"top\"},\"width\":{\"value\":1},\"x\":{\"field\":\"x\"}},\"id\":\"28890\",\"type\":\"VBar\"},{\"attributes\":{},\"id\":\"29538\",\"type\":\"Selection\"},{\"attributes\":{\"line_alpha\":{\"value\":0.1},\"line_color\":{\"value\":\"red\"},\"line_width\":{\"value\":2},\"x\":{\"field\":\"x\"},\"y\":{\"field\":\"y\"}},\"id\":\"28877\",\"type\":\"Step\"},{\"attributes\":{},\"id\":\"29539\",\"type\":\"UnionRenderers\"},{\"attributes\":{},\"id\":\"29540\",\"type\":\"Selection\"},{\"attributes\":{},\"id\":\"28862\",\"type\":\"WheelZoomTool\"},{\"attributes\":{\"label\":{\"value\":\"Moyenne de tous les d\\u00e9put\\u00e9s\"},\"renderers\":[{\"id\":\"28878\"}]},\"id\":\"28887\",\"type\":\"LegendItem\"},{\"attributes\":{},\"id\":\"29541\",\"type\":\"UnionRenderers\"},{\"attributes\":{},\"id\":\"28861\",\"type\":\"PanTool\"},{\"attributes\":{},\"id\":\"28884\",\"type\":\"BasicTickFormatter\"},{\"attributes\":{\"line_alpha\":{\"value\":0.8},\"line_color\":{\"value\":\"red\"},\"line_width\":{\"value\":2},\"x\":{\"field\":\"x\"},\"y\":{\"field\":\"y\"}},\"id\":\"28876\",\"type\":\"Step\"},{\"attributes\":{\"overlay\":{\"id\":\"28867\"}},\"id\":\"28863\",\"type\":\"BoxZoomTool\"},{\"attributes\":{\"active_drag\":\"auto\",\"active_inspect\":\"auto\",\"active_multi\":null,\"active_scroll\":\"auto\",\"active_tap\":\"auto\",\"tools\":[{\"id\":\"28861\"},{\"id\":\"28862\"},{\"id\":\"28863\"},{\"id\":\"28864\"},{\"id\":\"28865\"},{\"id\":\"28866\"}]},\"id\":\"28868\",\"type\":\"Toolbar\"},{\"attributes\":{},\"id\":\"28866\",\"type\":\"HelpTool\"},{\"attributes\":{},\"id\":\"28864\",\"type\":\"SaveTool\"},{\"attributes\":{},\"id\":\"28865\",\"type\":\"ResetTool\"},{\"attributes\":{},\"id\":\"28858\",\"type\":\"BasicTicker\"},{\"attributes\":{\"items\":[{\"id\":\"28887\"}]},\"id\":\"28886\",\"type\":\"Legend\"}],\"root_ids\":[\"28843\"]},\"title\":\"Bokeh Application\",\"version\":\"2.0.1\"}};\n",
       "  var render_items = [{\"docid\":\"c8028d73-c3cf-4c3d-919c-5a954411765d\",\"root_ids\":[\"28843\"],\"roots\":{\"28843\":\"26de8b86-685c-4ca4-8354-e21572967d53\"}}];\n",
       "  root.Bokeh.embed.embed_items_notebook(docs_json, render_items);\n",
       "\n",
       "  }\n",
       "  if (root.Bokeh !== undefined) {\n",
       "    embed_document(root);\n",
       "  } else {\n",
       "    var attempts = 0;\n",
       "    var timer = setInterval(function(root) {\n",
       "      if (root.Bokeh !== undefined) {\n",
       "        clearInterval(timer);\n",
       "        embed_document(root);\n",
       "      } else {\n",
       "        attempts++;\n",
       "        if (attempts > 100) {\n",
       "          clearInterval(timer);\n",
       "          console.log(\"Bokeh: ERROR: Unable to run BokehJS code because BokehJS library is missing\");\n",
       "        }\n",
       "      }\n",
       "    }, 10, root)\n",
       "  }\n",
       "})(window);"
      ],
      "application/vnd.bokehjs_exec.v0+json": ""
     },
     "metadata": {
      "application/vnd.bokehjs_exec.v0+json": {
       "id": "28843"
      }
     },
     "output_type": "display_data"
    },
    {
     "data": {
      "text/html": [
       "\n",
       "\n",
       "\n",
       "\n",
       "\n",
       "\n",
       "  <div class=\"bk-root\" id=\"706889d6-3363-424b-ba28-adde51ba1e76\" data-root-id=\"29603\"></div>\n"
      ]
     },
     "metadata": {},
     "output_type": "display_data"
    },
    {
     "data": {
      "application/javascript": [
       "(function(root) {\n",
       "  function embed_document(root) {\n",
       "    \n",
       "  var docs_json = {\"166df915-aaa7-41f2-b705-d43c81501507\":{\"roots\":{\"references\":[{\"attributes\":{\"below\":[{\"id\":\"29614\"}],\"center\":[{\"id\":\"29616\"},{\"id\":\"29620\"},{\"id\":\"29646\"}],\"left\":[{\"id\":\"29617\"}],\"plot_height\":400,\"plot_width\":700,\"renderers\":[{\"id\":\"29638\"},{\"id\":\"29651\"}],\"title\":{\"id\":\"29604\"},\"toolbar\":{\"id\":\"29628\"},\"x_range\":{\"id\":\"29606\"},\"x_scale\":{\"id\":\"29610\"},\"y_range\":{\"id\":\"29608\"},\"y_scale\":{\"id\":\"29612\"}},\"id\":\"29603\",\"subtype\":\"Figure\",\"type\":\"Plot\"},{\"attributes\":{\"axis\":{\"id\":\"29617\"},\"dimension\":1,\"grid_line_color\":null,\"ticker\":null},\"id\":\"29620\",\"type\":\"Grid\"},{\"attributes\":{},\"id\":\"29644\",\"type\":\"BasicTickFormatter\"},{\"attributes\":{},\"id\":\"29618\",\"type\":\"BasicTicker\"},{\"attributes\":{},\"id\":\"29642\",\"type\":\"CategoricalTickFormatter\"},{\"attributes\":{\"formatter\":{\"id\":\"29644\"},\"ticker\":{\"id\":\"29618\"}},\"id\":\"29617\",\"type\":\"LinearAxis\"},{\"attributes\":{\"bottom_units\":\"screen\",\"fill_alpha\":0.5,\"fill_color\":\"lightgrey\",\"left_units\":\"screen\",\"level\":\"overlay\",\"line_alpha\":1.0,\"line_color\":\"black\",\"line_dash\":[4,4],\"line_width\":2,\"render_mode\":\"css\",\"right_units\":\"screen\",\"top_units\":\"screen\"},\"id\":\"29627\",\"type\":\"BoxAnnotation\"},{\"attributes\":{\"label\":{\"value\":\"Moyenne de tous les d\\u00e9put\\u00e9s\"},\"renderers\":[{\"id\":\"29638\"}]},\"id\":\"29647\",\"type\":\"LegendItem\"},{\"attributes\":{},\"id\":\"29615\",\"type\":\"CategoricalTicker\"},{\"attributes\":{\"formatter\":{\"id\":\"29642\"},\"major_label_orientation\":\"vertical\",\"ticker\":{\"id\":\"29615\"}},\"id\":\"29614\",\"type\":\"CategoricalAxis\"},{\"attributes\":{\"data\":{\"top\":[22,5,6,22,16,11,4,13,12,15,21,11,15,0,13,22,16,13,5,5,8,6,22,15,9,8,26,10,13,8,20,4,4,7,16,3],\"x\":[\"2017-07\",\"2017-08\",\"2017-09\",\"2017-10\",\"2017-11\",\"2017-12\",\"2018-01\",\"2018-02\",\"2018-03\",\"2018-04\",\"2018-05\",\"2018-06\",\"2018-07\",\"2018-08\",\"2018-09\",\"2018-10\",\"2018-11\",\"2018-12\",\"2019-01\",\"2019-02\",\"2019-03\",\"2019-04\",\"2019-05\",\"2019-06\",\"2019-07\",\"2019-09\",\"2019-10\",\"2019-11\",\"2019-12\",\"2020-01\",\"2020-02\",\"2020-03\",\"2020-04\",\"2020-05\",\"2020-06\",\"2020-07\"]},\"selected\":{\"id\":\"30310\"},\"selection_policy\":{\"id\":\"30311\"}},\"id\":\"29648\",\"type\":\"ColumnDataSource\"},{\"attributes\":{\"data\":{\"x\":[\"2017-07\",\"2017-08\",\"2017-09\",\"2017-10\",\"2017-11\",\"2017-12\",\"2018-01\",\"2018-02\",\"2018-03\",\"2018-04\",\"2018-05\",\"2018-06\",\"2018-07\",\"2018-08\",\"2018-09\",\"2018-10\",\"2018-11\",\"2018-12\",\"2019-01\",\"2019-02\",\"2019-03\",\"2019-04\",\"2019-05\",\"2019-06\",\"2019-07\",\"2019-09\",\"2019-10\",\"2019-11\",\"2019-12\",\"2020-01\",\"2020-02\",\"2020-03\",\"2020-04\",\"2020-05\",\"2020-06\",\"2020-07\"],\"y\":[10.9948006932409,4.124783362218371,2.2738301559792027,10.15424610051993,8.228769497400346,4.492201039861352,3.1611785095320624,4.282495667244367,4.4558058925476605,8.55632582322357,7.759098786828423,9.533795493934143,7.209705372616984,0.6897746967071057,4.190641247833622,10.474870017331023,7.0606585788561524,6.495667244367418,4.006932409012132,5.33102253032929,5.92894280762565,2.538994800693241,5.571923743500866,6.649913344887349,5.493934142114385,4.003466204506066,9.809358752166379,5.915077989601387,4.337954939341421,2.466204506065858,10.331022530329289,4.987868284228769,3.9740034662045063,6.776429809358752,14.199306759098787,1.2218370883882148]},\"selected\":{\"id\":\"30308\"},\"selection_policy\":{\"id\":\"30309\"}},\"id\":\"29635\",\"type\":\"ColumnDataSource\"},{\"attributes\":{},\"id\":\"29612\",\"type\":\"LinearScale\"},{\"attributes\":{\"fill_alpha\":{\"value\":0.5},\"fill_color\":{\"value\":\"#1f77b4\"},\"line_alpha\":{\"value\":0.5},\"line_color\":{\"value\":\"#1f77b4\"},\"top\":{\"field\":\"top\"},\"width\":{\"value\":1},\"x\":{\"field\":\"x\"}},\"id\":\"29649\",\"type\":\"VBar\"},{\"attributes\":{},\"id\":\"29610\",\"type\":\"CategoricalScale\"},{\"attributes\":{},\"id\":\"29626\",\"type\":\"HelpTool\"},{\"attributes\":{\"data_source\":{\"id\":\"29648\"},\"glyph\":{\"id\":\"29649\"},\"hover_glyph\":null,\"muted_glyph\":null,\"nonselection_glyph\":{\"id\":\"29650\"},\"selection_glyph\":null,\"view\":{\"id\":\"29652\"}},\"id\":\"29651\",\"type\":\"GlyphRenderer\"},{\"attributes\":{\"start\":0},\"id\":\"29608\",\"type\":\"DataRange1d\"},{\"attributes\":{\"source\":{\"id\":\"29648\"}},\"id\":\"29652\",\"type\":\"CDSView\"},{\"attributes\":{\"text\":\"S\\u00e9ances o\\u00f9 Marion Lenne \\u00e0 vot\\u00e9 (426)\"},\"id\":\"29604\",\"type\":\"Title\"},{\"attributes\":{},\"id\":\"30308\",\"type\":\"Selection\"},{\"attributes\":{\"items\":[{\"id\":\"29647\"}]},\"id\":\"29646\",\"type\":\"Legend\"},{\"attributes\":{\"fill_alpha\":{\"value\":0.1},\"fill_color\":{\"value\":\"#1f77b4\"},\"line_alpha\":{\"value\":0.1},\"line_color\":{\"value\":\"#1f77b4\"},\"top\":{\"field\":\"top\"},\"width\":{\"value\":1},\"x\":{\"field\":\"x\"}},\"id\":\"29650\",\"type\":\"VBar\"},{\"attributes\":{\"data_source\":{\"id\":\"29635\"},\"glyph\":{\"id\":\"29636\"},\"hover_glyph\":null,\"muted_glyph\":null,\"nonselection_glyph\":{\"id\":\"29637\"},\"selection_glyph\":null,\"view\":{\"id\":\"29639\"}},\"id\":\"29638\",\"type\":\"GlyphRenderer\"},{\"attributes\":{\"active_drag\":\"auto\",\"active_inspect\":\"auto\",\"active_multi\":null,\"active_scroll\":\"auto\",\"active_tap\":\"auto\",\"tools\":[{\"id\":\"29621\"},{\"id\":\"29622\"},{\"id\":\"29623\"},{\"id\":\"29624\"},{\"id\":\"29625\"},{\"id\":\"29626\"}]},\"id\":\"29628\",\"type\":\"Toolbar\"},{\"attributes\":{},\"id\":\"30309\",\"type\":\"UnionRenderers\"},{\"attributes\":{\"factors\":[\"2017-07\",\"2017-08\",\"2017-09\",\"2017-10\",\"2017-11\",\"2017-12\",\"2018-01\",\"2018-02\",\"2018-03\",\"2018-04\",\"2018-05\",\"2018-06\",\"2018-07\",\"2018-08\",\"2018-09\",\"2018-10\",\"2018-11\",\"2018-12\",\"2019-01\",\"2019-02\",\"2019-03\",\"2019-04\",\"2019-05\",\"2019-06\",\"2019-07\",\"2019-09\",\"2019-10\",\"2019-11\",\"2019-12\",\"2020-01\",\"2020-02\",\"2020-03\",\"2020-04\",\"2020-05\",\"2020-06\",\"2020-07\"]},\"id\":\"29606\",\"type\":\"FactorRange\"},{\"attributes\":{},\"id\":\"29621\",\"type\":\"PanTool\"},{\"attributes\":{},\"id\":\"30310\",\"type\":\"Selection\"},{\"attributes\":{\"line_alpha\":{\"value\":0.8},\"line_color\":{\"value\":\"red\"},\"line_width\":{\"value\":2},\"x\":{\"field\":\"x\"},\"y\":{\"field\":\"y\"}},\"id\":\"29636\",\"type\":\"Step\"},{\"attributes\":{},\"id\":\"30311\",\"type\":\"UnionRenderers\"},{\"attributes\":{\"line_alpha\":{\"value\":0.1},\"line_color\":{\"value\":\"red\"},\"line_width\":{\"value\":2},\"x\":{\"field\":\"x\"},\"y\":{\"field\":\"y\"}},\"id\":\"29637\",\"type\":\"Step\"},{\"attributes\":{},\"id\":\"29625\",\"type\":\"ResetTool\"},{\"attributes\":{},\"id\":\"29624\",\"type\":\"SaveTool\"},{\"attributes\":{},\"id\":\"29622\",\"type\":\"WheelZoomTool\"},{\"attributes\":{\"source\":{\"id\":\"29635\"}},\"id\":\"29639\",\"type\":\"CDSView\"},{\"attributes\":{\"overlay\":{\"id\":\"29627\"}},\"id\":\"29623\",\"type\":\"BoxZoomTool\"},{\"attributes\":{\"axis\":{\"id\":\"29614\"},\"grid_line_color\":null,\"ticker\":null},\"id\":\"29616\",\"type\":\"Grid\"}],\"root_ids\":[\"29603\"]},\"title\":\"Bokeh Application\",\"version\":\"2.0.1\"}};\n",
       "  var render_items = [{\"docid\":\"166df915-aaa7-41f2-b705-d43c81501507\",\"root_ids\":[\"29603\"],\"roots\":{\"29603\":\"706889d6-3363-424b-ba28-adde51ba1e76\"}}];\n",
       "  root.Bokeh.embed.embed_items_notebook(docs_json, render_items);\n",
       "\n",
       "  }\n",
       "  if (root.Bokeh !== undefined) {\n",
       "    embed_document(root);\n",
       "  } else {\n",
       "    var attempts = 0;\n",
       "    var timer = setInterval(function(root) {\n",
       "      if (root.Bokeh !== undefined) {\n",
       "        clearInterval(timer);\n",
       "        embed_document(root);\n",
       "      } else {\n",
       "        attempts++;\n",
       "        if (attempts > 100) {\n",
       "          clearInterval(timer);\n",
       "          console.log(\"Bokeh: ERROR: Unable to run BokehJS code because BokehJS library is missing\");\n",
       "        }\n",
       "      }\n",
       "    }, 10, root)\n",
       "  }\n",
       "})(window);"
      ],
      "application/vnd.bokehjs_exec.v0+json": ""
     },
     "metadata": {
      "application/vnd.bokehjs_exec.v0+json": {
       "id": "29603"
      }
     },
     "output_type": "display_data"
    },
    {
     "data": {
      "text/html": [
       "\n",
       "\n",
       "\n",
       "\n",
       "\n",
       "\n",
       "  <div class=\"bk-root\" id=\"61155197-7b7b-4c88-93d5-937d0a96eb95\" data-root-id=\"30373\"></div>\n"
      ]
     },
     "metadata": {},
     "output_type": "display_data"
    },
    {
     "data": {
      "application/javascript": [
       "(function(root) {\n",
       "  function embed_document(root) {\n",
       "    \n",
       "  var docs_json = {\"315df145-928e-46ab-8a68-91215358af50\":{\"roots\":{\"references\":[{\"attributes\":{\"below\":[{\"id\":\"30384\"}],\"center\":[{\"id\":\"30386\"},{\"id\":\"30390\"},{\"id\":\"30416\"}],\"left\":[{\"id\":\"30387\"}],\"plot_height\":400,\"plot_width\":700,\"renderers\":[{\"id\":\"30408\"},{\"id\":\"30421\"}],\"title\":{\"id\":\"30374\"},\"toolbar\":{\"id\":\"30398\"},\"x_range\":{\"id\":\"30376\"},\"x_scale\":{\"id\":\"30380\"},\"y_range\":{\"id\":\"30378\"},\"y_scale\":{\"id\":\"30382\"}},\"id\":\"30373\",\"subtype\":\"Figure\",\"type\":\"Plot\"},{\"attributes\":{},\"id\":\"30412\",\"type\":\"CategoricalTickFormatter\"},{\"attributes\":{},\"id\":\"31090\",\"type\":\"Selection\"},{\"attributes\":{},\"id\":\"31091\",\"type\":\"UnionRenderers\"},{\"attributes\":{},\"id\":\"30388\",\"type\":\"BasicTicker\"},{\"attributes\":{\"axis\":{\"id\":\"30387\"},\"dimension\":1,\"grid_line_color\":null,\"ticker\":null},\"id\":\"30390\",\"type\":\"Grid\"},{\"attributes\":{},\"id\":\"30396\",\"type\":\"HelpTool\"},{\"attributes\":{\"formatter\":{\"id\":\"30414\"},\"ticker\":{\"id\":\"30388\"}},\"id\":\"30387\",\"type\":\"LinearAxis\"},{\"attributes\":{\"axis\":{\"id\":\"30384\"},\"grid_line_color\":null,\"ticker\":null},\"id\":\"30386\",\"type\":\"Grid\"},{\"attributes\":{},\"id\":\"31089\",\"type\":\"UnionRenderers\"},{\"attributes\":{},\"id\":\"30385\",\"type\":\"CategoricalTicker\"},{\"attributes\":{\"bottom_units\":\"screen\",\"fill_alpha\":0.5,\"fill_color\":\"lightgrey\",\"left_units\":\"screen\",\"level\":\"overlay\",\"line_alpha\":1.0,\"line_color\":\"black\",\"line_dash\":[4,4],\"line_width\":2,\"render_mode\":\"css\",\"right_units\":\"screen\",\"top_units\":\"screen\"},\"id\":\"30397\",\"type\":\"BoxAnnotation\"},{\"attributes\":{\"line_alpha\":{\"value\":0.1},\"line_color\":{\"value\":\"red\"},\"line_width\":{\"value\":2},\"x\":{\"field\":\"x\"},\"y\":{\"field\":\"y\"}},\"id\":\"30407\",\"type\":\"Step\"},{\"attributes\":{\"data_source\":{\"id\":\"30405\"},\"glyph\":{\"id\":\"30406\"},\"hover_glyph\":null,\"muted_glyph\":null,\"nonselection_glyph\":{\"id\":\"30407\"},\"selection_glyph\":null,\"view\":{\"id\":\"30409\"}},\"id\":\"30408\",\"type\":\"GlyphRenderer\"},{\"attributes\":{\"source\":{\"id\":\"30405\"}},\"id\":\"30409\",\"type\":\"CDSView\"},{\"attributes\":{},\"id\":\"30380\",\"type\":\"CategoricalScale\"},{\"attributes\":{\"formatter\":{\"id\":\"30412\"},\"major_label_orientation\":\"vertical\",\"ticker\":{\"id\":\"30385\"}},\"id\":\"30384\",\"type\":\"CategoricalAxis\"},{\"attributes\":{\"data\":{\"top\":[15,5,6,15,14,10,6,10,10,18,15,17,20,2,13,15,24,12,12,6,15,4,19,7,14,7,19,17,14,5,28,7,4,7,19,3],\"x\":[\"2017-07\",\"2017-08\",\"2017-09\",\"2017-10\",\"2017-11\",\"2017-12\",\"2018-01\",\"2018-02\",\"2018-03\",\"2018-04\",\"2018-05\",\"2018-06\",\"2018-07\",\"2018-08\",\"2018-09\",\"2018-10\",\"2018-11\",\"2018-12\",\"2019-01\",\"2019-02\",\"2019-03\",\"2019-04\",\"2019-05\",\"2019-06\",\"2019-07\",\"2019-09\",\"2019-10\",\"2019-11\",\"2019-12\",\"2020-01\",\"2020-02\",\"2020-03\",\"2020-04\",\"2020-05\",\"2020-06\",\"2020-07\"]},\"selected\":{\"id\":\"31090\"},\"selection_policy\":{\"id\":\"31091\"}},\"id\":\"30418\",\"type\":\"ColumnDataSource\"},{\"attributes\":{},\"id\":\"30382\",\"type\":\"LinearScale\"},{\"attributes\":{\"items\":[{\"id\":\"30417\"}]},\"id\":\"30416\",\"type\":\"Legend\"},{\"attributes\":{},\"id\":\"30392\",\"type\":\"WheelZoomTool\"},{\"attributes\":{\"label\":{\"value\":\"Moyenne de tous les d\\u00e9put\\u00e9s\"},\"renderers\":[{\"id\":\"30408\"}]},\"id\":\"30417\",\"type\":\"LegendItem\"},{\"attributes\":{\"start\":0},\"id\":\"30378\",\"type\":\"DataRange1d\"},{\"attributes\":{},\"id\":\"30414\",\"type\":\"BasicTickFormatter\"},{\"attributes\":{\"text\":\"S\\u00e9ances o\\u00f9 Nicole Dubr\\u00e9-Chirat \\u00e0 vot\\u00e9 (434)\"},\"id\":\"30374\",\"type\":\"Title\"},{\"attributes\":{\"fill_alpha\":{\"value\":0.5},\"fill_color\":{\"value\":\"#1f77b4\"},\"line_alpha\":{\"value\":0.5},\"line_color\":{\"value\":\"#1f77b4\"},\"top\":{\"field\":\"top\"},\"width\":{\"value\":1},\"x\":{\"field\":\"x\"}},\"id\":\"30419\",\"type\":\"VBar\"},{\"attributes\":{},\"id\":\"31088\",\"type\":\"Selection\"},{\"attributes\":{\"factors\":[\"2017-07\",\"2017-08\",\"2017-09\",\"2017-10\",\"2017-11\",\"2017-12\",\"2018-01\",\"2018-02\",\"2018-03\",\"2018-04\",\"2018-05\",\"2018-06\",\"2018-07\",\"2018-08\",\"2018-09\",\"2018-10\",\"2018-11\",\"2018-12\",\"2019-01\",\"2019-02\",\"2019-03\",\"2019-04\",\"2019-05\",\"2019-06\",\"2019-07\",\"2019-09\",\"2019-10\",\"2019-11\",\"2019-12\",\"2020-01\",\"2020-02\",\"2020-03\",\"2020-04\",\"2020-05\",\"2020-06\",\"2020-07\"]},\"id\":\"30376\",\"type\":\"FactorRange\"},{\"attributes\":{\"data_source\":{\"id\":\"30418\"},\"glyph\":{\"id\":\"30419\"},\"hover_glyph\":null,\"muted_glyph\":null,\"nonselection_glyph\":{\"id\":\"30420\"},\"selection_glyph\":null,\"view\":{\"id\":\"30422\"}},\"id\":\"30421\",\"type\":\"GlyphRenderer\"},{\"attributes\":{\"source\":{\"id\":\"30418\"}},\"id\":\"30422\",\"type\":\"CDSView\"},{\"attributes\":{},\"id\":\"30391\",\"type\":\"PanTool\"},{\"attributes\":{\"active_drag\":\"auto\",\"active_inspect\":\"auto\",\"active_multi\":null,\"active_scroll\":\"auto\",\"active_tap\":\"auto\",\"tools\":[{\"id\":\"30391\"},{\"id\":\"30392\"},{\"id\":\"30393\"},{\"id\":\"30394\"},{\"id\":\"30395\"},{\"id\":\"30396\"}]},\"id\":\"30398\",\"type\":\"Toolbar\"},{\"attributes\":{\"fill_alpha\":{\"value\":0.1},\"fill_color\":{\"value\":\"#1f77b4\"},\"line_alpha\":{\"value\":0.1},\"line_color\":{\"value\":\"#1f77b4\"},\"top\":{\"field\":\"top\"},\"width\":{\"value\":1},\"x\":{\"field\":\"x\"}},\"id\":\"30420\",\"type\":\"VBar\"},{\"attributes\":{},\"id\":\"30395\",\"type\":\"ResetTool\"},{\"attributes\":{\"data\":{\"x\":[\"2017-07\",\"2017-08\",\"2017-09\",\"2017-10\",\"2017-11\",\"2017-12\",\"2018-01\",\"2018-02\",\"2018-03\",\"2018-04\",\"2018-05\",\"2018-06\",\"2018-07\",\"2018-08\",\"2018-09\",\"2018-10\",\"2018-11\",\"2018-12\",\"2019-01\",\"2019-02\",\"2019-03\",\"2019-04\",\"2019-05\",\"2019-06\",\"2019-07\",\"2019-09\",\"2019-10\",\"2019-11\",\"2019-12\",\"2020-01\",\"2020-02\",\"2020-03\",\"2020-04\",\"2020-05\",\"2020-06\",\"2020-07\"],\"y\":[10.9948006932409,4.124783362218371,2.2738301559792027,10.15424610051993,8.228769497400346,4.492201039861352,3.1611785095320624,4.282495667244367,4.4558058925476605,8.55632582322357,7.759098786828423,9.533795493934143,7.209705372616984,0.6897746967071057,4.190641247833622,10.474870017331023,7.0606585788561524,6.495667244367418,4.006932409012132,5.33102253032929,5.92894280762565,2.538994800693241,5.571923743500866,6.649913344887349,5.493934142114385,4.003466204506066,9.809358752166379,5.915077989601387,4.337954939341421,2.466204506065858,10.331022530329289,4.987868284228769,3.9740034662045063,6.776429809358752,14.199306759098787,1.2218370883882148]},\"selected\":{\"id\":\"31088\"},\"selection_policy\":{\"id\":\"31089\"}},\"id\":\"30405\",\"type\":\"ColumnDataSource\"},{\"attributes\":{\"line_alpha\":{\"value\":0.8},\"line_color\":{\"value\":\"red\"},\"line_width\":{\"value\":2},\"x\":{\"field\":\"x\"},\"y\":{\"field\":\"y\"}},\"id\":\"30406\",\"type\":\"Step\"},{\"attributes\":{\"overlay\":{\"id\":\"30397\"}},\"id\":\"30393\",\"type\":\"BoxZoomTool\"},{\"attributes\":{},\"id\":\"30394\",\"type\":\"SaveTool\"}],\"root_ids\":[\"30373\"]},\"title\":\"Bokeh Application\",\"version\":\"2.0.1\"}};\n",
       "  var render_items = [{\"docid\":\"315df145-928e-46ab-8a68-91215358af50\",\"root_ids\":[\"30373\"],\"roots\":{\"30373\":\"61155197-7b7b-4c88-93d5-937d0a96eb95\"}}];\n",
       "  root.Bokeh.embed.embed_items_notebook(docs_json, render_items);\n",
       "\n",
       "  }\n",
       "  if (root.Bokeh !== undefined) {\n",
       "    embed_document(root);\n",
       "  } else {\n",
       "    var attempts = 0;\n",
       "    var timer = setInterval(function(root) {\n",
       "      if (root.Bokeh !== undefined) {\n",
       "        clearInterval(timer);\n",
       "        embed_document(root);\n",
       "      } else {\n",
       "        attempts++;\n",
       "        if (attempts > 100) {\n",
       "          clearInterval(timer);\n",
       "          console.log(\"Bokeh: ERROR: Unable to run BokehJS code because BokehJS library is missing\");\n",
       "        }\n",
       "      }\n",
       "    }, 10, root)\n",
       "  }\n",
       "})(window);"
      ],
      "application/vnd.bokehjs_exec.v0+json": ""
     },
     "metadata": {
      "application/vnd.bokehjs_exec.v0+json": {
       "id": "30373"
      }
     },
     "output_type": "display_data"
    },
    {
     "data": {
      "text/html": [
       "\n",
       "\n",
       "\n",
       "\n",
       "\n",
       "\n",
       "  <div class=\"bk-root\" id=\"d64a5083-ac97-42f4-86b9-8906d8027419\" data-root-id=\"31153\"></div>\n"
      ]
     },
     "metadata": {},
     "output_type": "display_data"
    },
    {
     "data": {
      "application/javascript": [
       "(function(root) {\n",
       "  function embed_document(root) {\n",
       "    \n",
       "  var docs_json = {\"c24724d9-7578-448b-aa2b-8d478ececf88\":{\"roots\":{\"references\":[{\"attributes\":{\"below\":[{\"id\":\"31164\"}],\"center\":[{\"id\":\"31166\"},{\"id\":\"31170\"},{\"id\":\"31196\"}],\"left\":[{\"id\":\"31167\"}],\"plot_height\":400,\"plot_width\":700,\"renderers\":[{\"id\":\"31188\"},{\"id\":\"31201\"}],\"title\":{\"id\":\"31154\"},\"toolbar\":{\"id\":\"31178\"},\"x_range\":{\"id\":\"31156\"},\"x_scale\":{\"id\":\"31160\"},\"y_range\":{\"id\":\"31158\"},\"y_scale\":{\"id\":\"31162\"}},\"id\":\"31153\",\"subtype\":\"Figure\",\"type\":\"Plot\"},{\"attributes\":{\"label\":{\"value\":\"Moyenne de tous les d\\u00e9put\\u00e9s\"},\"renderers\":[{\"id\":\"31188\"}]},\"id\":\"31197\",\"type\":\"LegendItem\"},{\"attributes\":{},\"id\":\"31171\",\"type\":\"PanTool\"},{\"attributes\":{\"active_drag\":\"auto\",\"active_inspect\":\"auto\",\"active_multi\":null,\"active_scroll\":\"auto\",\"active_tap\":\"auto\",\"tools\":[{\"id\":\"31171\"},{\"id\":\"31172\"},{\"id\":\"31173\"},{\"id\":\"31174\"},{\"id\":\"31175\"},{\"id\":\"31176\"}]},\"id\":\"31178\",\"type\":\"Toolbar\"},{\"attributes\":{},\"id\":\"31172\",\"type\":\"WheelZoomTool\"},{\"attributes\":{\"overlay\":{\"id\":\"31177\"}},\"id\":\"31173\",\"type\":\"BoxZoomTool\"},{\"attributes\":{\"bottom_units\":\"screen\",\"fill_alpha\":0.5,\"fill_color\":\"lightgrey\",\"left_units\":\"screen\",\"level\":\"overlay\",\"line_alpha\":1.0,\"line_color\":\"black\",\"line_dash\":[4,4],\"line_width\":2,\"render_mode\":\"css\",\"right_units\":\"screen\",\"top_units\":\"screen\"},\"id\":\"31177\",\"type\":\"BoxAnnotation\"},{\"attributes\":{\"data_source\":{\"id\":\"31185\"},\"glyph\":{\"id\":\"31186\"},\"hover_glyph\":null,\"muted_glyph\":null,\"nonselection_glyph\":{\"id\":\"31187\"},\"selection_glyph\":null,\"view\":{\"id\":\"31189\"}},\"id\":\"31188\",\"type\":\"GlyphRenderer\"},{\"attributes\":{\"factors\":[\"2017-07\",\"2017-08\",\"2017-09\",\"2017-10\",\"2017-11\",\"2017-12\",\"2018-01\",\"2018-02\",\"2018-03\",\"2018-04\",\"2018-05\",\"2018-06\",\"2018-07\",\"2018-08\",\"2018-09\",\"2018-10\",\"2018-11\",\"2018-12\",\"2019-01\",\"2019-02\",\"2019-03\",\"2019-04\",\"2019-05\",\"2019-06\",\"2019-07\",\"2019-09\",\"2019-10\",\"2019-11\",\"2019-12\",\"2020-01\",\"2020-02\",\"2020-03\",\"2020-04\",\"2020-05\",\"2020-06\",\"2020-07\"]},\"id\":\"31156\",\"type\":\"FactorRange\"},{\"attributes\":{},\"id\":\"31174\",\"type\":\"SaveTool\"},{\"attributes\":{\"line_alpha\":{\"value\":0.8},\"line_color\":{\"value\":\"red\"},\"line_width\":{\"value\":2},\"x\":{\"field\":\"x\"},\"y\":{\"field\":\"y\"}},\"id\":\"31186\",\"type\":\"Step\"},{\"attributes\":{\"axis\":{\"id\":\"31164\"},\"grid_line_color\":null,\"ticker\":null},\"id\":\"31166\",\"type\":\"Grid\"},{\"attributes\":{},\"id\":\"31175\",\"type\":\"ResetTool\"},{\"attributes\":{},\"id\":\"31176\",\"type\":\"HelpTool\"},{\"attributes\":{\"line_alpha\":{\"value\":0.1},\"line_color\":{\"value\":\"red\"},\"line_width\":{\"value\":2},\"x\":{\"field\":\"x\"},\"y\":{\"field\":\"y\"}},\"id\":\"31187\",\"type\":\"Step\"},{\"attributes\":{\"text\":\"S\\u00e9ances o\\u00f9 Cendra Motin \\u00e0 vot\\u00e9 (451)\"},\"id\":\"31154\",\"type\":\"Title\"},{\"attributes\":{\"axis\":{\"id\":\"31167\"},\"dimension\":1,\"grid_line_color\":null,\"ticker\":null},\"id\":\"31170\",\"type\":\"Grid\"},{\"attributes\":{\"data\":{\"x\":[\"2017-07\",\"2017-08\",\"2017-09\",\"2017-10\",\"2017-11\",\"2017-12\",\"2018-01\",\"2018-02\",\"2018-03\",\"2018-04\",\"2018-05\",\"2018-06\",\"2018-07\",\"2018-08\",\"2018-09\",\"2018-10\",\"2018-11\",\"2018-12\",\"2019-01\",\"2019-02\",\"2019-03\",\"2019-04\",\"2019-05\",\"2019-06\",\"2019-07\",\"2019-09\",\"2019-10\",\"2019-11\",\"2019-12\",\"2020-01\",\"2020-02\",\"2020-03\",\"2020-04\",\"2020-05\",\"2020-06\",\"2020-07\"],\"y\":[10.9948006932409,4.124783362218371,2.2738301559792027,10.15424610051993,8.228769497400346,4.492201039861352,3.1611785095320624,4.282495667244367,4.4558058925476605,8.55632582322357,7.759098786828423,9.533795493934143,7.209705372616984,0.6897746967071057,4.190641247833622,10.474870017331023,7.0606585788561524,6.495667244367418,4.006932409012132,5.33102253032929,5.92894280762565,2.538994800693241,5.571923743500866,6.649913344887349,5.493934142114385,4.003466204506066,9.809358752166379,5.915077989601387,4.337954939341421,2.466204506065858,10.331022530329289,4.987868284228769,3.9740034662045063,6.776429809358752,14.199306759098787,1.2218370883882148]},\"selected\":{\"id\":\"31878\"},\"selection_policy\":{\"id\":\"31879\"}},\"id\":\"31185\",\"type\":\"ColumnDataSource\"},{\"attributes\":{\"items\":[{\"id\":\"31197\"}]},\"id\":\"31196\",\"type\":\"Legend\"},{\"attributes\":{\"data\":{\"top\":[18,5,3,20,21,13,7,3,7,22,15,11,17,2,11,31,16,13,3,4,17,7,18,15,10,8,29,18,8,5,32,7,4,7,18,6],\"x\":[\"2017-07\",\"2017-08\",\"2017-09\",\"2017-10\",\"2017-11\",\"2017-12\",\"2018-01\",\"2018-02\",\"2018-03\",\"2018-04\",\"2018-05\",\"2018-06\",\"2018-07\",\"2018-08\",\"2018-09\",\"2018-10\",\"2018-11\",\"2018-12\",\"2019-01\",\"2019-02\",\"2019-03\",\"2019-04\",\"2019-05\",\"2019-06\",\"2019-07\",\"2019-09\",\"2019-10\",\"2019-11\",\"2019-12\",\"2020-01\",\"2020-02\",\"2020-03\",\"2020-04\",\"2020-05\",\"2020-06\",\"2020-07\"]},\"selected\":{\"id\":\"31880\"},\"selection_policy\":{\"id\":\"31881\"}},\"id\":\"31198\",\"type\":\"ColumnDataSource\"},{\"attributes\":{},\"id\":\"31168\",\"type\":\"BasicTicker\"},{\"attributes\":{\"source\":{\"id\":\"31185\"}},\"id\":\"31189\",\"type\":\"CDSView\"},{\"attributes\":{},\"id\":\"31192\",\"type\":\"CategoricalTickFormatter\"},{\"attributes\":{\"formatter\":{\"id\":\"31194\"},\"ticker\":{\"id\":\"31168\"}},\"id\":\"31167\",\"type\":\"LinearAxis\"},{\"attributes\":{},\"id\":\"31194\",\"type\":\"BasicTickFormatter\"},{\"attributes\":{\"fill_alpha\":{\"value\":0.5},\"fill_color\":{\"value\":\"#1f77b4\"},\"line_alpha\":{\"value\":0.5},\"line_color\":{\"value\":\"#1f77b4\"},\"top\":{\"field\":\"top\"},\"width\":{\"value\":1},\"x\":{\"field\":\"x\"}},\"id\":\"31199\",\"type\":\"VBar\"},{\"attributes\":{\"data_source\":{\"id\":\"31198\"},\"glyph\":{\"id\":\"31199\"},\"hover_glyph\":null,\"muted_glyph\":null,\"nonselection_glyph\":{\"id\":\"31200\"},\"selection_glyph\":null,\"view\":{\"id\":\"31202\"}},\"id\":\"31201\",\"type\":\"GlyphRenderer\"},{\"attributes\":{\"source\":{\"id\":\"31198\"}},\"id\":\"31202\",\"type\":\"CDSView\"},{\"attributes\":{},\"id\":\"31878\",\"type\":\"Selection\"},{\"attributes\":{\"fill_alpha\":{\"value\":0.1},\"fill_color\":{\"value\":\"#1f77b4\"},\"line_alpha\":{\"value\":0.1},\"line_color\":{\"value\":\"#1f77b4\"},\"top\":{\"field\":\"top\"},\"width\":{\"value\":1},\"x\":{\"field\":\"x\"}},\"id\":\"31200\",\"type\":\"VBar\"},{\"attributes\":{},\"id\":\"31165\",\"type\":\"CategoricalTicker\"},{\"attributes\":{\"formatter\":{\"id\":\"31192\"},\"major_label_orientation\":\"vertical\",\"ticker\":{\"id\":\"31165\"}},\"id\":\"31164\",\"type\":\"CategoricalAxis\"},{\"attributes\":{},\"id\":\"31879\",\"type\":\"UnionRenderers\"},{\"attributes\":{},\"id\":\"31162\",\"type\":\"LinearScale\"},{\"attributes\":{},\"id\":\"31880\",\"type\":\"Selection\"},{\"attributes\":{},\"id\":\"31160\",\"type\":\"CategoricalScale\"},{\"attributes\":{},\"id\":\"31881\",\"type\":\"UnionRenderers\"},{\"attributes\":{\"start\":0},\"id\":\"31158\",\"type\":\"DataRange1d\"}],\"root_ids\":[\"31153\"]},\"title\":\"Bokeh Application\",\"version\":\"2.0.1\"}};\n",
       "  var render_items = [{\"docid\":\"c24724d9-7578-448b-aa2b-8d478ececf88\",\"root_ids\":[\"31153\"],\"roots\":{\"31153\":\"d64a5083-ac97-42f4-86b9-8906d8027419\"}}];\n",
       "  root.Bokeh.embed.embed_items_notebook(docs_json, render_items);\n",
       "\n",
       "  }\n",
       "  if (root.Bokeh !== undefined) {\n",
       "    embed_document(root);\n",
       "  } else {\n",
       "    var attempts = 0;\n",
       "    var timer = setInterval(function(root) {\n",
       "      if (root.Bokeh !== undefined) {\n",
       "        clearInterval(timer);\n",
       "        embed_document(root);\n",
       "      } else {\n",
       "        attempts++;\n",
       "        if (attempts > 100) {\n",
       "          clearInterval(timer);\n",
       "          console.log(\"Bokeh: ERROR: Unable to run BokehJS code because BokehJS library is missing\");\n",
       "        }\n",
       "      }\n",
       "    }, 10, root)\n",
       "  }\n",
       "})(window);"
      ],
      "application/vnd.bokehjs_exec.v0+json": ""
     },
     "metadata": {
      "application/vnd.bokehjs_exec.v0+json": {
       "id": "31153"
      }
     },
     "output_type": "display_data"
    },
    {
     "data": {
      "text/html": [
       "\n",
       "\n",
       "\n",
       "\n",
       "\n",
       "\n",
       "  <div class=\"bk-root\" id=\"83d2b5e4-7524-4c57-a94c-75b0d651f484\" data-root-id=\"31943\"></div>\n"
      ]
     },
     "metadata": {},
     "output_type": "display_data"
    },
    {
     "data": {
      "application/javascript": [
       "(function(root) {\n",
       "  function embed_document(root) {\n",
       "    \n",
       "  var docs_json = {\"f1293027-a42f-498e-b530-c1a8eda48682\":{\"roots\":{\"references\":[{\"attributes\":{\"below\":[{\"id\":\"31954\"}],\"center\":[{\"id\":\"31956\"},{\"id\":\"31960\"},{\"id\":\"31986\"}],\"left\":[{\"id\":\"31957\"}],\"plot_height\":400,\"plot_width\":700,\"renderers\":[{\"id\":\"31978\"},{\"id\":\"31991\"}],\"title\":{\"id\":\"31944\"},\"toolbar\":{\"id\":\"31968\"},\"x_range\":{\"id\":\"31946\"},\"x_scale\":{\"id\":\"31950\"},\"y_range\":{\"id\":\"31948\"},\"y_scale\":{\"id\":\"31952\"}},\"id\":\"31943\",\"subtype\":\"Figure\",\"type\":\"Plot\"},{\"attributes\":{\"data_source\":{\"id\":\"31988\"},\"glyph\":{\"id\":\"31989\"},\"hover_glyph\":null,\"muted_glyph\":null,\"nonselection_glyph\":{\"id\":\"31990\"},\"selection_glyph\":null,\"view\":{\"id\":\"31992\"}},\"id\":\"31991\",\"type\":\"GlyphRenderer\"},{\"attributes\":{\"overlay\":{\"id\":\"31967\"}},\"id\":\"31963\",\"type\":\"BoxZoomTool\"},{\"attributes\":{\"source\":{\"id\":\"31988\"}},\"id\":\"31992\",\"type\":\"CDSView\"},{\"attributes\":{},\"id\":\"31962\",\"type\":\"WheelZoomTool\"},{\"attributes\":{},\"id\":\"31964\",\"type\":\"SaveTool\"},{\"attributes\":{\"fill_alpha\":{\"value\":0.1},\"fill_color\":{\"value\":\"#1f77b4\"},\"line_alpha\":{\"value\":0.1},\"line_color\":{\"value\":\"#1f77b4\"},\"top\":{\"field\":\"top\"},\"width\":{\"value\":1},\"x\":{\"field\":\"x\"}},\"id\":\"31990\",\"type\":\"VBar\"},{\"attributes\":{\"line_alpha\":{\"value\":0.8},\"line_color\":{\"value\":\"red\"},\"line_width\":{\"value\":2},\"x\":{\"field\":\"x\"},\"y\":{\"field\":\"y\"}},\"id\":\"31976\",\"type\":\"Step\"},{\"attributes\":{},\"id\":\"31965\",\"type\":\"ResetTool\"},{\"attributes\":{\"data\":{\"x\":[\"2017-07\",\"2017-08\",\"2017-09\",\"2017-10\",\"2017-11\",\"2017-12\",\"2018-01\",\"2018-02\",\"2018-03\",\"2018-04\",\"2018-05\",\"2018-06\",\"2018-07\",\"2018-08\",\"2018-09\",\"2018-10\",\"2018-11\",\"2018-12\",\"2019-01\",\"2019-02\",\"2019-03\",\"2019-04\",\"2019-05\",\"2019-06\",\"2019-07\",\"2019-09\",\"2019-10\",\"2019-11\",\"2019-12\",\"2020-01\",\"2020-02\",\"2020-03\",\"2020-04\",\"2020-05\",\"2020-06\",\"2020-07\"],\"y\":[10.9948006932409,4.124783362218371,2.2738301559792027,10.15424610051993,8.228769497400346,4.492201039861352,3.1611785095320624,4.282495667244367,4.4558058925476605,8.55632582322357,7.759098786828423,9.533795493934143,7.209705372616984,0.6897746967071057,4.190641247833622,10.474870017331023,7.0606585788561524,6.495667244367418,4.006932409012132,5.33102253032929,5.92894280762565,2.538994800693241,5.571923743500866,6.649913344887349,5.493934142114385,4.003466204506066,9.809358752166379,5.915077989601387,4.337954939341421,2.466204506065858,10.331022530329289,4.987868284228769,3.9740034662045063,6.776429809358752,14.199306759098787,1.2218370883882148]},\"selected\":{\"id\":\"32678\"},\"selection_policy\":{\"id\":\"32679\"}},\"id\":\"31975\",\"type\":\"ColumnDataSource\"},{\"attributes\":{},\"id\":\"31966\",\"type\":\"HelpTool\"},{\"attributes\":{},\"id\":\"31961\",\"type\":\"PanTool\"},{\"attributes\":{},\"id\":\"32679\",\"type\":\"UnionRenderers\"},{\"attributes\":{\"factors\":[\"2017-07\",\"2017-08\",\"2017-09\",\"2017-10\",\"2017-11\",\"2017-12\",\"2018-01\",\"2018-02\",\"2018-03\",\"2018-04\",\"2018-05\",\"2018-06\",\"2018-07\",\"2018-08\",\"2018-09\",\"2018-10\",\"2018-11\",\"2018-12\",\"2019-01\",\"2019-02\",\"2019-03\",\"2019-04\",\"2019-05\",\"2019-06\",\"2019-07\",\"2019-09\",\"2019-10\",\"2019-11\",\"2019-12\",\"2020-01\",\"2020-02\",\"2020-03\",\"2020-04\",\"2020-05\",\"2020-06\",\"2020-07\"]},\"id\":\"31946\",\"type\":\"FactorRange\"},{\"attributes\":{},\"id\":\"32680\",\"type\":\"Selection\"},{\"attributes\":{\"active_drag\":\"auto\",\"active_inspect\":\"auto\",\"active_multi\":null,\"active_scroll\":\"auto\",\"active_tap\":\"auto\",\"tools\":[{\"id\":\"31961\"},{\"id\":\"31962\"},{\"id\":\"31963\"},{\"id\":\"31964\"},{\"id\":\"31965\"},{\"id\":\"31966\"}]},\"id\":\"31968\",\"type\":\"Toolbar\"},{\"attributes\":{},\"id\":\"32681\",\"type\":\"UnionRenderers\"},{\"attributes\":{},\"id\":\"31958\",\"type\":\"BasicTicker\"},{\"attributes\":{\"axis\":{\"id\":\"31957\"},\"dimension\":1,\"grid_line_color\":null,\"ticker\":null},\"id\":\"31960\",\"type\":\"Grid\"},{\"attributes\":{\"items\":[{\"id\":\"31987\"}]},\"id\":\"31986\",\"type\":\"Legend\"},{\"attributes\":{\"formatter\":{\"id\":\"31984\"},\"ticker\":{\"id\":\"31958\"}},\"id\":\"31957\",\"type\":\"LinearAxis\"},{\"attributes\":{\"bottom_units\":\"screen\",\"fill_alpha\":0.5,\"fill_color\":\"lightgrey\",\"left_units\":\"screen\",\"level\":\"overlay\",\"line_alpha\":1.0,\"line_color\":\"black\",\"line_dash\":[4,4],\"line_width\":2,\"render_mode\":\"css\",\"right_units\":\"screen\",\"top_units\":\"screen\"},\"id\":\"31967\",\"type\":\"BoxAnnotation\"},{\"attributes\":{\"axis\":{\"id\":\"31954\"},\"grid_line_color\":null,\"ticker\":null},\"id\":\"31956\",\"type\":\"Grid\"},{\"attributes\":{},\"id\":\"31955\",\"type\":\"CategoricalTicker\"},{\"attributes\":{},\"id\":\"31982\",\"type\":\"CategoricalTickFormatter\"},{\"attributes\":{},\"id\":\"31950\",\"type\":\"CategoricalScale\"},{\"attributes\":{\"source\":{\"id\":\"31975\"}},\"id\":\"31979\",\"type\":\"CDSView\"},{\"attributes\":{\"formatter\":{\"id\":\"31982\"},\"major_label_orientation\":\"vertical\",\"ticker\":{\"id\":\"31955\"}},\"id\":\"31954\",\"type\":\"CategoricalAxis\"},{\"attributes\":{\"data_source\":{\"id\":\"31975\"},\"glyph\":{\"id\":\"31976\"},\"hover_glyph\":null,\"muted_glyph\":null,\"nonselection_glyph\":{\"id\":\"31977\"},\"selection_glyph\":null,\"view\":{\"id\":\"31979\"}},\"id\":\"31978\",\"type\":\"GlyphRenderer\"},{\"attributes\":{},\"id\":\"31952\",\"type\":\"LinearScale\"},{\"attributes\":{},\"id\":\"31984\",\"type\":\"BasicTickFormatter\"},{\"attributes\":{\"label\":{\"value\":\"Moyenne de tous les d\\u00e9put\\u00e9s\"},\"renderers\":[{\"id\":\"31978\"}]},\"id\":\"31987\",\"type\":\"LegendItem\"},{\"attributes\":{\"start\":0},\"id\":\"31948\",\"type\":\"DataRange1d\"},{\"attributes\":{\"data\":{\"top\":[23,5,6,24,18,10,7,11,10,21,29,30,19,0,14,27,24,17,10,15,24,6,16,17,14,8,28,14,8,3,4,5,4,7,17,0],\"x\":[\"2017-07\",\"2017-08\",\"2017-09\",\"2017-10\",\"2017-11\",\"2017-12\",\"2018-01\",\"2018-02\",\"2018-03\",\"2018-04\",\"2018-05\",\"2018-06\",\"2018-07\",\"2018-08\",\"2018-09\",\"2018-10\",\"2018-11\",\"2018-12\",\"2019-01\",\"2019-02\",\"2019-03\",\"2019-04\",\"2019-05\",\"2019-06\",\"2019-07\",\"2019-09\",\"2019-10\",\"2019-11\",\"2019-12\",\"2020-01\",\"2020-02\",\"2020-03\",\"2020-04\",\"2020-05\",\"2020-06\",\"2020-07\"]},\"selected\":{\"id\":\"32680\"},\"selection_policy\":{\"id\":\"32681\"}},\"id\":\"31988\",\"type\":\"ColumnDataSource\"},{\"attributes\":{\"text\":\"S\\u00e9ances o\\u00f9 Gilles Lurton \\u00e0 vot\\u00e9 (495)\"},\"id\":\"31944\",\"type\":\"Title\"},{\"attributes\":{},\"id\":\"32678\",\"type\":\"Selection\"},{\"attributes\":{\"fill_alpha\":{\"value\":0.5},\"fill_color\":{\"value\":\"#1f77b4\"},\"line_alpha\":{\"value\":0.5},\"line_color\":{\"value\":\"#1f77b4\"},\"top\":{\"field\":\"top\"},\"width\":{\"value\":1},\"x\":{\"field\":\"x\"}},\"id\":\"31989\",\"type\":\"VBar\"},{\"attributes\":{\"line_alpha\":{\"value\":0.1},\"line_color\":{\"value\":\"red\"},\"line_width\":{\"value\":2},\"x\":{\"field\":\"x\"},\"y\":{\"field\":\"y\"}},\"id\":\"31977\",\"type\":\"Step\"}],\"root_ids\":[\"31943\"]},\"title\":\"Bokeh Application\",\"version\":\"2.0.1\"}};\n",
       "  var render_items = [{\"docid\":\"f1293027-a42f-498e-b530-c1a8eda48682\",\"root_ids\":[\"31943\"],\"roots\":{\"31943\":\"83d2b5e4-7524-4c57-a94c-75b0d651f484\"}}];\n",
       "  root.Bokeh.embed.embed_items_notebook(docs_json, render_items);\n",
       "\n",
       "  }\n",
       "  if (root.Bokeh !== undefined) {\n",
       "    embed_document(root);\n",
       "  } else {\n",
       "    var attempts = 0;\n",
       "    var timer = setInterval(function(root) {\n",
       "      if (root.Bokeh !== undefined) {\n",
       "        clearInterval(timer);\n",
       "        embed_document(root);\n",
       "      } else {\n",
       "        attempts++;\n",
       "        if (attempts > 100) {\n",
       "          clearInterval(timer);\n",
       "          console.log(\"Bokeh: ERROR: Unable to run BokehJS code because BokehJS library is missing\");\n",
       "        }\n",
       "      }\n",
       "    }, 10, root)\n",
       "  }\n",
       "})(window);"
      ],
      "application/vnd.bokehjs_exec.v0+json": ""
     },
     "metadata": {
      "application/vnd.bokehjs_exec.v0+json": {
       "id": "31943"
      }
     },
     "output_type": "display_data"
    },
    {
     "data": {
      "text/html": [
       "\n",
       "\n",
       "\n",
       "\n",
       "\n",
       "\n",
       "  <div class=\"bk-root\" id=\"6f654557-ca25-4b98-8a4d-fc07bad86119\" data-root-id=\"32743\"></div>\n"
      ]
     },
     "metadata": {},
     "output_type": "display_data"
    },
    {
     "data": {
      "application/javascript": [
       "(function(root) {\n",
       "  function embed_document(root) {\n",
       "    \n",
       "  var docs_json = {\"39bce8b6-a0af-4f48-af87-1b1d9bf22b87\":{\"roots\":{\"references\":[{\"attributes\":{\"below\":[{\"id\":\"32754\"}],\"center\":[{\"id\":\"32756\"},{\"id\":\"32760\"},{\"id\":\"32786\"}],\"left\":[{\"id\":\"32757\"}],\"plot_height\":400,\"plot_width\":700,\"renderers\":[{\"id\":\"32778\"},{\"id\":\"32791\"}],\"title\":{\"id\":\"32744\"},\"toolbar\":{\"id\":\"32768\"},\"x_range\":{\"id\":\"32746\"},\"x_scale\":{\"id\":\"32750\"},\"y_range\":{\"id\":\"32748\"},\"y_scale\":{\"id\":\"32752\"}},\"id\":\"32743\",\"subtype\":\"Figure\",\"type\":\"Plot\"},{\"attributes\":{},\"id\":\"32782\",\"type\":\"CategoricalTickFormatter\"},{\"attributes\":{\"data\":{\"top\":[22,5,7,24,18,6,6,11,14,18,18,32,20,2,19,34,34,16,10,18,26,7,18,26,17,11,21,17,10,8,31,8,4,7,19,5],\"x\":[\"2017-07\",\"2017-08\",\"2017-09\",\"2017-10\",\"2017-11\",\"2017-12\",\"2018-01\",\"2018-02\",\"2018-03\",\"2018-04\",\"2018-05\",\"2018-06\",\"2018-07\",\"2018-08\",\"2018-09\",\"2018-10\",\"2018-11\",\"2018-12\",\"2019-01\",\"2019-02\",\"2019-03\",\"2019-04\",\"2019-05\",\"2019-06\",\"2019-07\",\"2019-09\",\"2019-10\",\"2019-11\",\"2019-12\",\"2020-01\",\"2020-02\",\"2020-03\",\"2020-04\",\"2020-05\",\"2020-06\",\"2020-07\"]},\"selected\":{\"id\":\"33490\"},\"selection_policy\":{\"id\":\"33491\"}},\"id\":\"32788\",\"type\":\"ColumnDataSource\"},{\"attributes\":{\"data_source\":{\"id\":\"32788\"},\"glyph\":{\"id\":\"32789\"},\"hover_glyph\":null,\"muted_glyph\":null,\"nonselection_glyph\":{\"id\":\"32790\"},\"selection_glyph\":null,\"view\":{\"id\":\"32792\"}},\"id\":\"32791\",\"type\":\"GlyphRenderer\"},{\"attributes\":{},\"id\":\"32761\",\"type\":\"PanTool\"},{\"attributes\":{\"source\":{\"id\":\"32788\"}},\"id\":\"32792\",\"type\":\"CDSView\"},{\"attributes\":{\"fill_alpha\":{\"value\":0.5},\"fill_color\":{\"value\":\"#1f77b4\"},\"line_alpha\":{\"value\":0.5},\"line_color\":{\"value\":\"#1f77b4\"},\"top\":{\"field\":\"top\"},\"width\":{\"value\":1},\"x\":{\"field\":\"x\"}},\"id\":\"32789\",\"type\":\"VBar\"},{\"attributes\":{},\"id\":\"32762\",\"type\":\"WheelZoomTool\"},{\"attributes\":{\"overlay\":{\"id\":\"32767\"}},\"id\":\"32763\",\"type\":\"BoxZoomTool\"},{\"attributes\":{},\"id\":\"32764\",\"type\":\"SaveTool\"},{\"attributes\":{\"fill_alpha\":{\"value\":0.1},\"fill_color\":{\"value\":\"#1f77b4\"},\"line_alpha\":{\"value\":0.1},\"line_color\":{\"value\":\"#1f77b4\"},\"top\":{\"field\":\"top\"},\"width\":{\"value\":1},\"x\":{\"field\":\"x\"}},\"id\":\"32790\",\"type\":\"VBar\"},{\"attributes\":{},\"id\":\"32765\",\"type\":\"ResetTool\"},{\"attributes\":{\"line_alpha\":{\"value\":0.8},\"line_color\":{\"value\":\"red\"},\"line_width\":{\"value\":2},\"x\":{\"field\":\"x\"},\"y\":{\"field\":\"y\"}},\"id\":\"32776\",\"type\":\"Step\"},{\"attributes\":{\"factors\":[\"2017-07\",\"2017-08\",\"2017-09\",\"2017-10\",\"2017-11\",\"2017-12\",\"2018-01\",\"2018-02\",\"2018-03\",\"2018-04\",\"2018-05\",\"2018-06\",\"2018-07\",\"2018-08\",\"2018-09\",\"2018-10\",\"2018-11\",\"2018-12\",\"2019-01\",\"2019-02\",\"2019-03\",\"2019-04\",\"2019-05\",\"2019-06\",\"2019-07\",\"2019-09\",\"2019-10\",\"2019-11\",\"2019-12\",\"2020-01\",\"2020-02\",\"2020-03\",\"2020-04\",\"2020-05\",\"2020-06\",\"2020-07\"]},\"id\":\"32746\",\"type\":\"FactorRange\"},{\"attributes\":{},\"id\":\"32766\",\"type\":\"HelpTool\"},{\"attributes\":{},\"id\":\"33488\",\"type\":\"Selection\"},{\"attributes\":{},\"id\":\"33489\",\"type\":\"UnionRenderers\"},{\"attributes\":{\"axis\":{\"id\":\"32754\"},\"grid_line_color\":null,\"ticker\":null},\"id\":\"32756\",\"type\":\"Grid\"},{\"attributes\":{},\"id\":\"33490\",\"type\":\"Selection\"},{\"attributes\":{\"active_drag\":\"auto\",\"active_inspect\":\"auto\",\"active_multi\":null,\"active_scroll\":\"auto\",\"active_tap\":\"auto\",\"tools\":[{\"id\":\"32761\"},{\"id\":\"32762\"},{\"id\":\"32763\"},{\"id\":\"32764\"},{\"id\":\"32765\"},{\"id\":\"32766\"}]},\"id\":\"32768\",\"type\":\"Toolbar\"},{\"attributes\":{\"axis\":{\"id\":\"32757\"},\"dimension\":1,\"grid_line_color\":null,\"ticker\":null},\"id\":\"32760\",\"type\":\"Grid\"},{\"attributes\":{},\"id\":\"33491\",\"type\":\"UnionRenderers\"},{\"attributes\":{},\"id\":\"32758\",\"type\":\"BasicTicker\"},{\"attributes\":{\"formatter\":{\"id\":\"32784\"},\"ticker\":{\"id\":\"32758\"}},\"id\":\"32757\",\"type\":\"LinearAxis\"},{\"attributes\":{\"data\":{\"x\":[\"2017-07\",\"2017-08\",\"2017-09\",\"2017-10\",\"2017-11\",\"2017-12\",\"2018-01\",\"2018-02\",\"2018-03\",\"2018-04\",\"2018-05\",\"2018-06\",\"2018-07\",\"2018-08\",\"2018-09\",\"2018-10\",\"2018-11\",\"2018-12\",\"2019-01\",\"2019-02\",\"2019-03\",\"2019-04\",\"2019-05\",\"2019-06\",\"2019-07\",\"2019-09\",\"2019-10\",\"2019-11\",\"2019-12\",\"2020-01\",\"2020-02\",\"2020-03\",\"2020-04\",\"2020-05\",\"2020-06\",\"2020-07\"],\"y\":[10.9948006932409,4.124783362218371,2.2738301559792027,10.15424610051993,8.228769497400346,4.492201039861352,3.1611785095320624,4.282495667244367,4.4558058925476605,8.55632582322357,7.759098786828423,9.533795493934143,7.209705372616984,0.6897746967071057,4.190641247833622,10.474870017331023,7.0606585788561524,6.495667244367418,4.006932409012132,5.33102253032929,5.92894280762565,2.538994800693241,5.571923743500866,6.649913344887349,5.493934142114385,4.003466204506066,9.809358752166379,5.915077989601387,4.337954939341421,2.466204506065858,10.331022530329289,4.987868284228769,3.9740034662045063,6.776429809358752,14.199306759098787,1.2218370883882148]},\"selected\":{\"id\":\"33488\"},\"selection_policy\":{\"id\":\"33489\"}},\"id\":\"32775\",\"type\":\"ColumnDataSource\"},{\"attributes\":{\"bottom_units\":\"screen\",\"fill_alpha\":0.5,\"fill_color\":\"lightgrey\",\"left_units\":\"screen\",\"level\":\"overlay\",\"line_alpha\":1.0,\"line_color\":\"black\",\"line_dash\":[4,4],\"line_width\":2,\"render_mode\":\"css\",\"right_units\":\"screen\",\"top_units\":\"screen\"},\"id\":\"32767\",\"type\":\"BoxAnnotation\"},{\"attributes\":{},\"id\":\"32755\",\"type\":\"CategoricalTicker\"},{\"attributes\":{\"data_source\":{\"id\":\"32775\"},\"glyph\":{\"id\":\"32776\"},\"hover_glyph\":null,\"muted_glyph\":null,\"nonselection_glyph\":{\"id\":\"32777\"},\"selection_glyph\":null,\"view\":{\"id\":\"32779\"}},\"id\":\"32778\",\"type\":\"GlyphRenderer\"},{\"attributes\":{\"formatter\":{\"id\":\"32782\"},\"major_label_orientation\":\"vertical\",\"ticker\":{\"id\":\"32755\"}},\"id\":\"32754\",\"type\":\"CategoricalAxis\"},{\"attributes\":{\"source\":{\"id\":\"32775\"}},\"id\":\"32779\",\"type\":\"CDSView\"},{\"attributes\":{\"line_alpha\":{\"value\":0.1},\"line_color\":{\"value\":\"red\"},\"line_width\":{\"value\":2},\"x\":{\"field\":\"x\"},\"y\":{\"field\":\"y\"}},\"id\":\"32777\",\"type\":\"Step\"},{\"attributes\":{},\"id\":\"32752\",\"type\":\"LinearScale\"},{\"attributes\":{},\"id\":\"32784\",\"type\":\"BasicTickFormatter\"},{\"attributes\":{},\"id\":\"32750\",\"type\":\"CategoricalScale\"},{\"attributes\":{\"items\":[{\"id\":\"32787\"}]},\"id\":\"32786\",\"type\":\"Legend\"},{\"attributes\":{\"start\":0},\"id\":\"32748\",\"type\":\"DataRange1d\"},{\"attributes\":{\"text\":\"S\\u00e9ances o\\u00f9 Emmanuelle M\\u00e9nard \\u00e0 vot\\u00e9 (569)\"},\"id\":\"32744\",\"type\":\"Title\"},{\"attributes\":{\"label\":{\"value\":\"Moyenne de tous les d\\u00e9put\\u00e9s\"},\"renderers\":[{\"id\":\"32778\"}]},\"id\":\"32787\",\"type\":\"LegendItem\"}],\"root_ids\":[\"32743\"]},\"title\":\"Bokeh Application\",\"version\":\"2.0.1\"}};\n",
       "  var render_items = [{\"docid\":\"39bce8b6-a0af-4f48-af87-1b1d9bf22b87\",\"root_ids\":[\"32743\"],\"roots\":{\"32743\":\"6f654557-ca25-4b98-8a4d-fc07bad86119\"}}];\n",
       "  root.Bokeh.embed.embed_items_notebook(docs_json, render_items);\n",
       "\n",
       "  }\n",
       "  if (root.Bokeh !== undefined) {\n",
       "    embed_document(root);\n",
       "  } else {\n",
       "    var attempts = 0;\n",
       "    var timer = setInterval(function(root) {\n",
       "      if (root.Bokeh !== undefined) {\n",
       "        clearInterval(timer);\n",
       "        embed_document(root);\n",
       "      } else {\n",
       "        attempts++;\n",
       "        if (attempts > 100) {\n",
       "          clearInterval(timer);\n",
       "          console.log(\"Bokeh: ERROR: Unable to run BokehJS code because BokehJS library is missing\");\n",
       "        }\n",
       "      }\n",
       "    }, 10, root)\n",
       "  }\n",
       "})(window);"
      ],
      "application/vnd.bokehjs_exec.v0+json": ""
     },
     "metadata": {
      "application/vnd.bokehjs_exec.v0+json": {
       "id": "32743"
      }
     },
     "output_type": "display_data"
    },
    {
     "name": "stdout",
     "output_type": "stream",
     "text": [
      "Pierre Dharréville avec 390 séances\n",
      "Maxime Minot avec 391 séances\n",
      "Marie-Christine Verdier-Jouclas avec 403 séances\n",
      "Alain Ramadier avec 409 séances\n",
      "Vincent Thiébaut avec 411 séances\n",
      "Marion Lenne avec 426 séances\n",
      "Nicole Dubré-Chirat avec 434 séances\n",
      "Cendra Motin avec 451 séances\n",
      "Gilles Lurton avec 495 séances\n",
      "Emmanuelle Ménard avec 569 séances\n"
     ]
    }
   ],
   "source": [
    "for député in députés_les_moins_présents[-10:]:\n",
    "    affiche_député(député)\n",
    "for député in députés_les_moins_présents[-10:]:\n",
    "    print(f\"{députés_par_id[député]['Prénom']} {députés_par_id[député]['Nom']} avec {compte_votes(député)} séances\")"
   ]
  },
  {
   "cell_type": "code",
   "execution_count": 6,
   "metadata": {},
   "outputs": [],
   "source": [
    "# todo: trous dans les mois\n",
    "# plot line not aligned, ligne date debut mandat"
   ]
  },
  {
   "cell_type": "code",
   "execution_count": null,
   "metadata": {},
   "outputs": [],
   "source": []
  }
 ],
 "metadata": {
  "kernelspec": {
   "display_name": "Python 3",
   "language": "python",
   "name": "python3"
  },
  "language_info": {
   "codemirror_mode": {
    "name": "ipython",
    "version": 3
   },
   "file_extension": ".py",
   "mimetype": "text/x-python",
   "name": "python",
   "nbconvert_exporter": "python",
   "pygments_lexer": "ipython3",
   "version": "3.6.9"
  }
 },
 "nbformat": 4,
 "nbformat_minor": 4
}
