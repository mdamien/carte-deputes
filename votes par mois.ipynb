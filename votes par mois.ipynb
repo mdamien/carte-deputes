{
 "cells": [
  {
   "cell_type": "markdown",
   "metadata": {},
   "source": [
    "# Chargement des données"
   ]
  },
  {
   "cell_type": "code",
   "execution_count": 20,
   "metadata": {},
   "outputs": [],
   "source": [
    "# code inspiré de https://git.regardscitoyens.org/regardscitoyens/sprint-scrutins/blob/master/votes_an/ancsv.py\n",
    "\n",
    "import glob, json, csv, collections\n",
    "\n",
    "# recupere les députés\n",
    "\n",
    "députés = list(csv.DictReader(open('liste_deputes_libre_office.csv')))\n",
    "députés_par_id = {int(député[\"identifiant\"]): député for député in députés}\n",
    "\n",
    "\n",
    "# recuperer les votes\n",
    "\n",
    "votes_par_députés = {id_député: collections.defaultdict(list) for id_député in députés_par_id}\n",
    "\n",
    "for fichier in glob.glob('scrutins/*.json'):\n",
    "    \n",
    "    aucun_vote = True\n",
    "    \n",
    "    scrutin = json.load(open(fichier))['scrutin']\n",
    "    \n",
    "    if scrutin['numero'] == 1:\n",
    "        print(scrutin)\n",
    "\n",
    "    id_scrutin = scrutin['numero']\n",
    "\n",
    "    groupes = scrutin['ventilationVotes']['organe']['groupes']['groupe']\n",
    "\n",
    "    for groupe in groupes:\n",
    "        dn = groupe['vote']['decompteNominatif']\n",
    "        \n",
    "        for position in ('pour', 'contre', 'abstention'):\n",
    "            votants_position = dn['%ss' % position]\n",
    "            \n",
    "            if not votants_position:\n",
    "                continue\n",
    "            \n",
    "            votants = votants_position['votant']\n",
    "\n",
    "            if not isinstance(votants, list):\n",
    "                votants = [votants]\n",
    "\n",
    "            for votant in votants:\n",
    "                votant_id = int(votant['acteurRef'][2:])\n",
    "                \n",
    "                \"\"\"\n",
    "                if votant.get('parDelegation', 'false') == 'true':\n",
    "                    continue\n",
    "                \"\"\"\n",
    "\n",
    "                aucun_vote = False\n",
    "                if votant_id in votes_par_députés:\n",
    "                    votes_par_députés[votant_id][scrutin['dateScrutin']].append(position)\n",
    "    \n",
    "    if aucun_vote:\n",
    "        print(scrutin['dateScrutin'], '\\t', scrutin['numero'])\n"
   ]
  },
  {
   "cell_type": "code",
   "execution_count": 2,
   "metadata": {},
   "outputs": [
    {
     "data": {
      "text/html": [
       "\n",
       "    <div class=\"bk-root\">\n",
       "        <a href=\"https://bokeh.org\" target=\"_blank\" class=\"bk-logo bk-logo-small bk-logo-notebook\"></a>\n",
       "        <span id=\"1001\">Loading BokehJS ...</span>\n",
       "    </div>"
      ]
     },
     "metadata": {},
     "output_type": "display_data"
    },
    {
     "data": {
      "application/javascript": [
       "\n",
       "(function(root) {\n",
       "  function now() {\n",
       "    return new Date();\n",
       "  }\n",
       "\n",
       "  var force = true;\n",
       "\n",
       "  if (typeof root._bokeh_onload_callbacks === \"undefined\" || force === true) {\n",
       "    root._bokeh_onload_callbacks = [];\n",
       "    root._bokeh_is_loading = undefined;\n",
       "  }\n",
       "\n",
       "  var JS_MIME_TYPE = 'application/javascript';\n",
       "  var HTML_MIME_TYPE = 'text/html';\n",
       "  var EXEC_MIME_TYPE = 'application/vnd.bokehjs_exec.v0+json';\n",
       "  var CLASS_NAME = 'output_bokeh rendered_html';\n",
       "\n",
       "  /**\n",
       "   * Render data to the DOM node\n",
       "   */\n",
       "  function render(props, node) {\n",
       "    var script = document.createElement(\"script\");\n",
       "    node.appendChild(script);\n",
       "  }\n",
       "\n",
       "  /**\n",
       "   * Handle when an output is cleared or removed\n",
       "   */\n",
       "  function handleClearOutput(event, handle) {\n",
       "    var cell = handle.cell;\n",
       "\n",
       "    var id = cell.output_area._bokeh_element_id;\n",
       "    var server_id = cell.output_area._bokeh_server_id;\n",
       "    // Clean up Bokeh references\n",
       "    if (id != null && id in Bokeh.index) {\n",
       "      Bokeh.index[id].model.document.clear();\n",
       "      delete Bokeh.index[id];\n",
       "    }\n",
       "\n",
       "    if (server_id !== undefined) {\n",
       "      // Clean up Bokeh references\n",
       "      var cmd = \"from bokeh.io.state import curstate; print(curstate().uuid_to_server['\" + server_id + \"'].get_sessions()[0].document.roots[0]._id)\";\n",
       "      cell.notebook.kernel.execute(cmd, {\n",
       "        iopub: {\n",
       "          output: function(msg) {\n",
       "            var id = msg.content.text.trim();\n",
       "            if (id in Bokeh.index) {\n",
       "              Bokeh.index[id].model.document.clear();\n",
       "              delete Bokeh.index[id];\n",
       "            }\n",
       "          }\n",
       "        }\n",
       "      });\n",
       "      // Destroy server and session\n",
       "      var cmd = \"import bokeh.io.notebook as ion; ion.destroy_server('\" + server_id + \"')\";\n",
       "      cell.notebook.kernel.execute(cmd);\n",
       "    }\n",
       "  }\n",
       "\n",
       "  /**\n",
       "   * Handle when a new output is added\n",
       "   */\n",
       "  function handleAddOutput(event, handle) {\n",
       "    var output_area = handle.output_area;\n",
       "    var output = handle.output;\n",
       "\n",
       "    // limit handleAddOutput to display_data with EXEC_MIME_TYPE content only\n",
       "    if ((output.output_type != \"display_data\") || (!output.data.hasOwnProperty(EXEC_MIME_TYPE))) {\n",
       "      return\n",
       "    }\n",
       "\n",
       "    var toinsert = output_area.element.find(\".\" + CLASS_NAME.split(' ')[0]);\n",
       "\n",
       "    if (output.metadata[EXEC_MIME_TYPE][\"id\"] !== undefined) {\n",
       "      toinsert[toinsert.length - 1].firstChild.textContent = output.data[JS_MIME_TYPE];\n",
       "      // store reference to embed id on output_area\n",
       "      output_area._bokeh_element_id = output.metadata[EXEC_MIME_TYPE][\"id\"];\n",
       "    }\n",
       "    if (output.metadata[EXEC_MIME_TYPE][\"server_id\"] !== undefined) {\n",
       "      var bk_div = document.createElement(\"div\");\n",
       "      bk_div.innerHTML = output.data[HTML_MIME_TYPE];\n",
       "      var script_attrs = bk_div.children[0].attributes;\n",
       "      for (var i = 0; i < script_attrs.length; i++) {\n",
       "        toinsert[toinsert.length - 1].firstChild.setAttribute(script_attrs[i].name, script_attrs[i].value);\n",
       "        toinsert[toinsert.length - 1].firstChild.textContent = bk_div.children[0].textContent\n",
       "      }\n",
       "      // store reference to server id on output_area\n",
       "      output_area._bokeh_server_id = output.metadata[EXEC_MIME_TYPE][\"server_id\"];\n",
       "    }\n",
       "  }\n",
       "\n",
       "  function register_renderer(events, OutputArea) {\n",
       "\n",
       "    function append_mime(data, metadata, element) {\n",
       "      // create a DOM node to render to\n",
       "      var toinsert = this.create_output_subarea(\n",
       "        metadata,\n",
       "        CLASS_NAME,\n",
       "        EXEC_MIME_TYPE\n",
       "      );\n",
       "      this.keyboard_manager.register_events(toinsert);\n",
       "      // Render to node\n",
       "      var props = {data: data, metadata: metadata[EXEC_MIME_TYPE]};\n",
       "      render(props, toinsert[toinsert.length - 1]);\n",
       "      element.append(toinsert);\n",
       "      return toinsert\n",
       "    }\n",
       "\n",
       "    /* Handle when an output is cleared or removed */\n",
       "    events.on('clear_output.CodeCell', handleClearOutput);\n",
       "    events.on('delete.Cell', handleClearOutput);\n",
       "\n",
       "    /* Handle when a new output is added */\n",
       "    events.on('output_added.OutputArea', handleAddOutput);\n",
       "\n",
       "    /**\n",
       "     * Register the mime type and append_mime function with output_area\n",
       "     */\n",
       "    OutputArea.prototype.register_mime_type(EXEC_MIME_TYPE, append_mime, {\n",
       "      /* Is output safe? */\n",
       "      safe: true,\n",
       "      /* Index of renderer in `output_area.display_order` */\n",
       "      index: 0\n",
       "    });\n",
       "  }\n",
       "\n",
       "  // register the mime type if in Jupyter Notebook environment and previously unregistered\n",
       "  if (root.Jupyter !== undefined) {\n",
       "    var events = require('base/js/events');\n",
       "    var OutputArea = require('notebook/js/outputarea').OutputArea;\n",
       "\n",
       "    if (OutputArea.prototype.mime_types().indexOf(EXEC_MIME_TYPE) == -1) {\n",
       "      register_renderer(events, OutputArea);\n",
       "    }\n",
       "  }\n",
       "\n",
       "  \n",
       "  if (typeof (root._bokeh_timeout) === \"undefined\" || force === true) {\n",
       "    root._bokeh_timeout = Date.now() + 5000;\n",
       "    root._bokeh_failed_load = false;\n",
       "  }\n",
       "\n",
       "  var NB_LOAD_WARNING = {'data': {'text/html':\n",
       "     \"<div style='background-color: #fdd'>\\n\"+\n",
       "     \"<p>\\n\"+\n",
       "     \"BokehJS does not appear to have successfully loaded. If loading BokehJS from CDN, this \\n\"+\n",
       "     \"may be due to a slow or bad network connection. Possible fixes:\\n\"+\n",
       "     \"</p>\\n\"+\n",
       "     \"<ul>\\n\"+\n",
       "     \"<li>re-rerun `output_notebook()` to attempt to load from CDN again, or</li>\\n\"+\n",
       "     \"<li>use INLINE resources instead, as so:</li>\\n\"+\n",
       "     \"</ul>\\n\"+\n",
       "     \"<code>\\n\"+\n",
       "     \"from bokeh.resources import INLINE\\n\"+\n",
       "     \"output_notebook(resources=INLINE)\\n\"+\n",
       "     \"</code>\\n\"+\n",
       "     \"</div>\"}};\n",
       "\n",
       "  function display_loaded() {\n",
       "    var el = document.getElementById(\"1001\");\n",
       "    if (el != null) {\n",
       "      el.textContent = \"BokehJS is loading...\";\n",
       "    }\n",
       "    if (root.Bokeh !== undefined) {\n",
       "      if (el != null) {\n",
       "        el.textContent = \"BokehJS \" + root.Bokeh.version + \" successfully loaded.\";\n",
       "      }\n",
       "    } else if (Date.now() < root._bokeh_timeout) {\n",
       "      setTimeout(display_loaded, 100)\n",
       "    }\n",
       "  }\n",
       "\n",
       "\n",
       "  function run_callbacks() {\n",
       "    try {\n",
       "      root._bokeh_onload_callbacks.forEach(function(callback) {\n",
       "        if (callback != null)\n",
       "          callback();\n",
       "      });\n",
       "    } finally {\n",
       "      delete root._bokeh_onload_callbacks\n",
       "    }\n",
       "    console.debug(\"Bokeh: all callbacks have finished\");\n",
       "  }\n",
       "\n",
       "  function load_libs(css_urls, js_urls, callback) {\n",
       "    if (css_urls == null) css_urls = [];\n",
       "    if (js_urls == null) js_urls = [];\n",
       "\n",
       "    root._bokeh_onload_callbacks.push(callback);\n",
       "    if (root._bokeh_is_loading > 0) {\n",
       "      console.debug(\"Bokeh: BokehJS is being loaded, scheduling callback at\", now());\n",
       "      return null;\n",
       "    }\n",
       "    if (js_urls == null || js_urls.length === 0) {\n",
       "      run_callbacks();\n",
       "      return null;\n",
       "    }\n",
       "    console.debug(\"Bokeh: BokehJS not loaded, scheduling load and callback at\", now());\n",
       "    root._bokeh_is_loading = css_urls.length + js_urls.length;\n",
       "\n",
       "    function on_load() {\n",
       "      root._bokeh_is_loading--;\n",
       "      if (root._bokeh_is_loading === 0) {\n",
       "        console.debug(\"Bokeh: all BokehJS libraries/stylesheets loaded\");\n",
       "        run_callbacks()\n",
       "      }\n",
       "    }\n",
       "\n",
       "    function on_error() {\n",
       "      console.error(\"failed to load \" + url);\n",
       "    }\n",
       "\n",
       "    for (var i = 0; i < css_urls.length; i++) {\n",
       "      var url = css_urls[i];\n",
       "      const element = document.createElement(\"link\");\n",
       "      element.onload = on_load;\n",
       "      element.onerror = on_error;\n",
       "      element.rel = \"stylesheet\";\n",
       "      element.type = \"text/css\";\n",
       "      element.href = url;\n",
       "      console.debug(\"Bokeh: injecting link tag for BokehJS stylesheet: \", url);\n",
       "      document.body.appendChild(element);\n",
       "    }\n",
       "\n",
       "    const hashes = {\"https://cdn.bokeh.org/bokeh/release/bokeh-2.0.1.min.js\": \"JpP8FXbgAZLkfur7LiK3j9AGBhHNIvF742meBJrjO2ShJDhCG2I1uVvW+0DUtrmc\", \"https://cdn.bokeh.org/bokeh/release/bokeh-widgets-2.0.1.min.js\": \"xZlADit0Q04ISQEdKg2k3L4W9AwQBAuDs9nJL9fM/WwzL1tEU9VPNezOFX0nLEAz\", \"https://cdn.bokeh.org/bokeh/release/bokeh-tables-2.0.1.min.js\": \"4BuPRZkdMKSnj3zoxiNrQ86XgNw0rYmBOxe7nshquXwwcauupgBF2DHLVG1WuZlV\", \"https://cdn.bokeh.org/bokeh/release/bokeh-gl-2.0.1.min.js\": \"Dv1SQ87hmDqK6S5OhBf0bCuwAEvL5QYL0PuR/F1SPVhCS/r/abjkbpKDYL2zeM19\"};\n",
       "\n",
       "    for (var i = 0; i < js_urls.length; i++) {\n",
       "      var url = js_urls[i];\n",
       "      var element = document.createElement('script');\n",
       "      element.onload = on_load;\n",
       "      element.onerror = on_error;\n",
       "      element.async = false;\n",
       "      element.src = url;\n",
       "      if (url in hashes) {\n",
       "        element.crossOrigin = \"anonymous\";\n",
       "        element.integrity = \"sha384-\" + hashes[url];\n",
       "      }\n",
       "      console.debug(\"Bokeh: injecting script tag for BokehJS library: \", url);\n",
       "      document.head.appendChild(element);\n",
       "    }\n",
       "  };var element = document.getElementById(\"1001\");\n",
       "  if (element == null) {\n",
       "    console.error(\"Bokeh: ERROR: autoload.js configured with elementid '1001' but no matching script tag was found. \")\n",
       "    return false;\n",
       "  }\n",
       "\n",
       "  function inject_raw_css(css) {\n",
       "    const element = document.createElement(\"style\");\n",
       "    element.appendChild(document.createTextNode(css));\n",
       "    document.body.appendChild(element);\n",
       "  }\n",
       "\n",
       "  \n",
       "  var js_urls = [\"https://cdn.bokeh.org/bokeh/release/bokeh-2.0.1.min.js\", \"https://cdn.bokeh.org/bokeh/release/bokeh-widgets-2.0.1.min.js\", \"https://cdn.bokeh.org/bokeh/release/bokeh-tables-2.0.1.min.js\", \"https://cdn.bokeh.org/bokeh/release/bokeh-gl-2.0.1.min.js\"];\n",
       "  var css_urls = [];\n",
       "  \n",
       "\n",
       "  var inline_js = [\n",
       "    function(Bokeh) {\n",
       "      Bokeh.set_log_level(\"info\");\n",
       "    },\n",
       "    function(Bokeh) {\n",
       "    \n",
       "    \n",
       "    }\n",
       "  ];\n",
       "\n",
       "  function run_inline_js() {\n",
       "    \n",
       "    if (root.Bokeh !== undefined || force === true) {\n",
       "      \n",
       "    for (var i = 0; i < inline_js.length; i++) {\n",
       "      inline_js[i].call(root, root.Bokeh);\n",
       "    }\n",
       "    if (force === true) {\n",
       "        display_loaded();\n",
       "      }} else if (Date.now() < root._bokeh_timeout) {\n",
       "      setTimeout(run_inline_js, 100);\n",
       "    } else if (!root._bokeh_failed_load) {\n",
       "      console.log(\"Bokeh: BokehJS failed to load within specified timeout.\");\n",
       "      root._bokeh_failed_load = true;\n",
       "    } else if (force !== true) {\n",
       "      var cell = $(document.getElementById(\"1001\")).parents('.cell').data().cell;\n",
       "      cell.output_area.append_execute_result(NB_LOAD_WARNING)\n",
       "    }\n",
       "\n",
       "  }\n",
       "\n",
       "  if (root._bokeh_is_loading === 0) {\n",
       "    console.debug(\"Bokeh: BokehJS loaded, going straight to plotting\");\n",
       "    run_inline_js();\n",
       "  } else {\n",
       "    load_libs(css_urls, js_urls, function() {\n",
       "      console.debug(\"Bokeh: BokehJS plotting callback run at\", now());\n",
       "      run_inline_js();\n",
       "    });\n",
       "  }\n",
       "}(window));"
      ],
      "application/vnd.bokehjs_load.v0+json": "\n(function(root) {\n  function now() {\n    return new Date();\n  }\n\n  var force = true;\n\n  if (typeof root._bokeh_onload_callbacks === \"undefined\" || force === true) {\n    root._bokeh_onload_callbacks = [];\n    root._bokeh_is_loading = undefined;\n  }\n\n  \n\n  \n  if (typeof (root._bokeh_timeout) === \"undefined\" || force === true) {\n    root._bokeh_timeout = Date.now() + 5000;\n    root._bokeh_failed_load = false;\n  }\n\n  var NB_LOAD_WARNING = {'data': {'text/html':\n     \"<div style='background-color: #fdd'>\\n\"+\n     \"<p>\\n\"+\n     \"BokehJS does not appear to have successfully loaded. If loading BokehJS from CDN, this \\n\"+\n     \"may be due to a slow or bad network connection. Possible fixes:\\n\"+\n     \"</p>\\n\"+\n     \"<ul>\\n\"+\n     \"<li>re-rerun `output_notebook()` to attempt to load from CDN again, or</li>\\n\"+\n     \"<li>use INLINE resources instead, as so:</li>\\n\"+\n     \"</ul>\\n\"+\n     \"<code>\\n\"+\n     \"from bokeh.resources import INLINE\\n\"+\n     \"output_notebook(resources=INLINE)\\n\"+\n     \"</code>\\n\"+\n     \"</div>\"}};\n\n  function display_loaded() {\n    var el = document.getElementById(\"1001\");\n    if (el != null) {\n      el.textContent = \"BokehJS is loading...\";\n    }\n    if (root.Bokeh !== undefined) {\n      if (el != null) {\n        el.textContent = \"BokehJS \" + root.Bokeh.version + \" successfully loaded.\";\n      }\n    } else if (Date.now() < root._bokeh_timeout) {\n      setTimeout(display_loaded, 100)\n    }\n  }\n\n\n  function run_callbacks() {\n    try {\n      root._bokeh_onload_callbacks.forEach(function(callback) {\n        if (callback != null)\n          callback();\n      });\n    } finally {\n      delete root._bokeh_onload_callbacks\n    }\n    console.debug(\"Bokeh: all callbacks have finished\");\n  }\n\n  function load_libs(css_urls, js_urls, callback) {\n    if (css_urls == null) css_urls = [];\n    if (js_urls == null) js_urls = [];\n\n    root._bokeh_onload_callbacks.push(callback);\n    if (root._bokeh_is_loading > 0) {\n      console.debug(\"Bokeh: BokehJS is being loaded, scheduling callback at\", now());\n      return null;\n    }\n    if (js_urls == null || js_urls.length === 0) {\n      run_callbacks();\n      return null;\n    }\n    console.debug(\"Bokeh: BokehJS not loaded, scheduling load and callback at\", now());\n    root._bokeh_is_loading = css_urls.length + js_urls.length;\n\n    function on_load() {\n      root._bokeh_is_loading--;\n      if (root._bokeh_is_loading === 0) {\n        console.debug(\"Bokeh: all BokehJS libraries/stylesheets loaded\");\n        run_callbacks()\n      }\n    }\n\n    function on_error() {\n      console.error(\"failed to load \" + url);\n    }\n\n    for (var i = 0; i < css_urls.length; i++) {\n      var url = css_urls[i];\n      const element = document.createElement(\"link\");\n      element.onload = on_load;\n      element.onerror = on_error;\n      element.rel = \"stylesheet\";\n      element.type = \"text/css\";\n      element.href = url;\n      console.debug(\"Bokeh: injecting link tag for BokehJS stylesheet: \", url);\n      document.body.appendChild(element);\n    }\n\n    const hashes = {\"https://cdn.bokeh.org/bokeh/release/bokeh-2.0.1.min.js\": \"JpP8FXbgAZLkfur7LiK3j9AGBhHNIvF742meBJrjO2ShJDhCG2I1uVvW+0DUtrmc\", \"https://cdn.bokeh.org/bokeh/release/bokeh-widgets-2.0.1.min.js\": \"xZlADit0Q04ISQEdKg2k3L4W9AwQBAuDs9nJL9fM/WwzL1tEU9VPNezOFX0nLEAz\", \"https://cdn.bokeh.org/bokeh/release/bokeh-tables-2.0.1.min.js\": \"4BuPRZkdMKSnj3zoxiNrQ86XgNw0rYmBOxe7nshquXwwcauupgBF2DHLVG1WuZlV\", \"https://cdn.bokeh.org/bokeh/release/bokeh-gl-2.0.1.min.js\": \"Dv1SQ87hmDqK6S5OhBf0bCuwAEvL5QYL0PuR/F1SPVhCS/r/abjkbpKDYL2zeM19\"};\n\n    for (var i = 0; i < js_urls.length; i++) {\n      var url = js_urls[i];\n      var element = document.createElement('script');\n      element.onload = on_load;\n      element.onerror = on_error;\n      element.async = false;\n      element.src = url;\n      if (url in hashes) {\n        element.crossOrigin = \"anonymous\";\n        element.integrity = \"sha384-\" + hashes[url];\n      }\n      console.debug(\"Bokeh: injecting script tag for BokehJS library: \", url);\n      document.head.appendChild(element);\n    }\n  };var element = document.getElementById(\"1001\");\n  if (element == null) {\n    console.error(\"Bokeh: ERROR: autoload.js configured with elementid '1001' but no matching script tag was found. \")\n    return false;\n  }\n\n  function inject_raw_css(css) {\n    const element = document.createElement(\"style\");\n    element.appendChild(document.createTextNode(css));\n    document.body.appendChild(element);\n  }\n\n  \n  var js_urls = [\"https://cdn.bokeh.org/bokeh/release/bokeh-2.0.1.min.js\", \"https://cdn.bokeh.org/bokeh/release/bokeh-widgets-2.0.1.min.js\", \"https://cdn.bokeh.org/bokeh/release/bokeh-tables-2.0.1.min.js\", \"https://cdn.bokeh.org/bokeh/release/bokeh-gl-2.0.1.min.js\"];\n  var css_urls = [];\n  \n\n  var inline_js = [\n    function(Bokeh) {\n      Bokeh.set_log_level(\"info\");\n    },\n    function(Bokeh) {\n    \n    \n    }\n  ];\n\n  function run_inline_js() {\n    \n    if (root.Bokeh !== undefined || force === true) {\n      \n    for (var i = 0; i < inline_js.length; i++) {\n      inline_js[i].call(root, root.Bokeh);\n    }\n    if (force === true) {\n        display_loaded();\n      }} else if (Date.now() < root._bokeh_timeout) {\n      setTimeout(run_inline_js, 100);\n    } else if (!root._bokeh_failed_load) {\n      console.log(\"Bokeh: BokehJS failed to load within specified timeout.\");\n      root._bokeh_failed_load = true;\n    } else if (force !== true) {\n      var cell = $(document.getElementById(\"1001\")).parents('.cell').data().cell;\n      cell.output_area.append_execute_result(NB_LOAD_WARNING)\n    }\n\n  }\n\n  if (root._bokeh_is_loading === 0) {\n    console.debug(\"Bokeh: BokehJS loaded, going straight to plotting\");\n    run_inline_js();\n  } else {\n    load_libs(css_urls, js_urls, function() {\n      console.debug(\"Bokeh: BokehJS plotting callback run at\", now());\n      run_inline_js();\n    });\n  }\n}(window));"
     },
     "metadata": {},
     "output_type": "display_data"
    }
   ],
   "source": [
    "from bokeh.io import output_notebook\n",
    "output_notebook()"
   ]
  },
  {
   "cell_type": "code",
   "execution_count": 27,
   "metadata": {},
   "outputs": [],
   "source": [
    "import datetime, statistics\n",
    "\n",
    "# grouper par semaine\n",
    "\n",
    "votes_par_mois = collections.defaultdict(dict)\n",
    "\n",
    "for député, dates in votes_par_députés.items():\n",
    "    for date, votes in dates.items():\n",
    "        année, mois, jour = date.split('-')\n",
    "        mois_complet = f\"{année}-{mois}\"\n",
    "        if député not in votes_par_mois[mois_complet]:\n",
    "            votes_par_mois[mois_complet][député] = [votes]\n",
    "        votes_par_mois[mois_complet][député] += votes\n",
    "\n",
    "def moyenne_votes(votes):\n",
    "    return statistics.mean([len(votes.get(député, [])) for député in députés_par_id])\n",
    "\n",
    "from bokeh.io import show\n",
    "from bokeh.plotting import figure\n",
    "        \n",
    "tout_les_mois = sorted(votes_par_mois.keys())\n",
    "\n",
    "def compte_votes(député):\n",
    "    return sum([len(mois.get(député, [])) for mois in votes_par_mois.values()])\n",
    "\n",
    "députés_les_moins_présents = sorted(votes_par_députés.keys(),\n",
    "                                    key=compte_votes)\n",
    "\n",
    "def affiche_député(député):\n",
    "    votes = [len(votes_par_mois[mois].get(député, [])) for mois in tout_les_mois]\n",
    "    votes_moyenne = [moyenne_votes(votes_par_mois[mois]) for mois in tout_les_mois]\n",
    "\n",
    "    p = figure(x_range=tout_les_mois, plot_width=700, plot_height=400,\n",
    "               title=f\"Votes par mois pour {députés_par_id[député]['Prénom']} {députés_par_id[député]['Nom']} avec {compte_votes(député)} votes\",\n",
    "               toolbar_location=None, tools=\"\")\n",
    "\n",
    "    p.step(tout_les_mois, votes_moyenne, line_width=2, line_color=\"red\", mode=\"before\", alpha=0.8, legend_label='Moyenne de tous les députés')\n",
    "    p.vbar(x=tout_les_mois, top=votes, width=1, alpha=0.5)\n",
    "\n",
    "    p.y_range.start = 0\n",
    "    p.xgrid.grid_line_color = None\n",
    "    p.ygrid.grid_line_color = None\n",
    "    p.xaxis.major_label_orientation = \"vertical\"\n",
    "    show(p)\n"
   ]
  },
  {
   "cell_type": "markdown",
   "metadata": {},
   "source": [
    "# Les 10 moins présents"
   ]
  },
  {
   "cell_type": "code",
   "execution_count": 26,
   "metadata": {},
   "outputs": [
    {
     "data": {
      "text/html": [
       "\n",
       "\n",
       "\n",
       "\n",
       "\n",
       "\n",
       "  <div class=\"bk-root\" id=\"15701633-be89-40af-b59a-5be797271b36\" data-root-id=\"55452\"></div>\n"
      ]
     },
     "metadata": {},
     "output_type": "display_data"
    },
    {
     "data": {
      "application/javascript": [
       "(function(root) {\n",
       "  function embed_document(root) {\n",
       "    \n",
       "  var docs_json = {\"037134db-4ee5-4048-88a3-7a117865ee8d\":{\"roots\":{\"references\":[{\"attributes\":{\"below\":[{\"id\":\"55463\"}],\"center\":[{\"id\":\"55465\"},{\"id\":\"55469\"},{\"id\":\"55481\"}],\"left\":[{\"id\":\"55466\"}],\"plot_height\":400,\"plot_width\":700,\"renderers\":[{\"id\":\"55474\"},{\"id\":\"55486\"}],\"title\":{\"id\":\"55453\"},\"toolbar\":{\"id\":\"55470\"},\"toolbar_location\":null,\"x_range\":{\"id\":\"55455\"},\"x_scale\":{\"id\":\"55459\"},\"y_range\":{\"id\":\"55457\"},\"y_scale\":{\"id\":\"55461\"}},\"id\":\"55452\",\"subtype\":\"Figure\",\"type\":\"Plot\"},{\"attributes\":{\"line_alpha\":{\"value\":0.1},\"line_color\":{\"value\":\"red\"},\"line_width\":{\"value\":2},\"x\":{\"field\":\"x\"},\"y\":{\"field\":\"y\"}},\"id\":\"55473\",\"type\":\"Step\"},{\"attributes\":{\"source\":{\"id\":\"55471\"}},\"id\":\"55475\",\"type\":\"CDSView\"},{\"attributes\":{\"factors\":[\"2017-07\",\"2017-08\",\"2017-09\",\"2017-10\",\"2017-11\",\"2017-12\",\"2018-01\",\"2018-02\",\"2018-03\",\"2018-04\",\"2018-05\",\"2018-06\",\"2018-07\",\"2018-08\",\"2018-09\",\"2018-10\",\"2018-11\",\"2018-12\",\"2019-01\",\"2019-02\",\"2019-03\",\"2019-04\",\"2019-05\",\"2019-06\",\"2019-07\",\"2019-09\",\"2019-10\",\"2019-11\",\"2019-12\",\"2020-01\",\"2020-02\",\"2020-03\",\"2020-04\",\"2020-05\",\"2020-06\",\"2020-07\"]},\"id\":\"55455\",\"type\":\"FactorRange\"},{\"attributes\":{\"axis\":{\"id\":\"55463\"},\"grid_line_color\":null,\"ticker\":null},\"id\":\"55465\",\"type\":\"Grid\"},{\"attributes\":{},\"id\":\"55478\",\"type\":\"CategoricalTickFormatter\"},{\"attributes\":{\"data_source\":{\"id\":\"55483\"},\"glyph\":{\"id\":\"55484\"},\"hover_glyph\":null,\"muted_glyph\":null,\"nonselection_glyph\":{\"id\":\"55485\"},\"selection_glyph\":null,\"view\":{\"id\":\"55487\"}},\"id\":\"55486\",\"type\":\"GlyphRenderer\"},{\"attributes\":{\"items\":[{\"id\":\"55482\"}]},\"id\":\"55481\",\"type\":\"Legend\"},{\"attributes\":{\"fill_alpha\":{\"value\":0.1},\"fill_color\":{\"value\":\"#1f77b4\"},\"line_alpha\":{\"value\":0.1},\"line_color\":{\"value\":\"#1f77b4\"},\"top\":{\"field\":\"top\"},\"width\":{\"value\":1},\"x\":{\"field\":\"x\"}},\"id\":\"55485\",\"type\":\"VBar\"},{\"attributes\":{},\"id\":\"56393\",\"type\":\"UnionRenderers\"},{\"attributes\":{\"axis\":{\"id\":\"55466\"},\"dimension\":1,\"grid_line_color\":null,\"ticker\":null},\"id\":\"55469\",\"type\":\"Grid\"},{\"attributes\":{\"label\":{\"value\":\"Moyenne de tous les d\\u00e9put\\u00e9s\"},\"renderers\":[{\"id\":\"55474\"}]},\"id\":\"55482\",\"type\":\"LegendItem\"},{\"attributes\":{\"active_drag\":\"auto\",\"active_inspect\":\"auto\",\"active_multi\":null,\"active_scroll\":\"auto\",\"active_tap\":\"auto\"},\"id\":\"55470\",\"type\":\"Toolbar\"},{\"attributes\":{},\"id\":\"55461\",\"type\":\"LinearScale\"},{\"attributes\":{\"formatter\":{\"id\":\"55480\"},\"ticker\":{\"id\":\"55467\"}},\"id\":\"55466\",\"type\":\"LinearAxis\"},{\"attributes\":{\"source\":{\"id\":\"55483\"}},\"id\":\"55487\",\"type\":\"CDSView\"},{\"attributes\":{\"formatter\":{\"id\":\"55478\"},\"major_label_orientation\":\"vertical\",\"ticker\":{\"id\":\"55464\"}},\"id\":\"55463\",\"type\":\"CategoricalAxis\"},{\"attributes\":{\"data\":{\"top\":[0,0,0,0,0,0,0,0,0,0,0,0,0,0,0,0,0,0,0,0,0,0,0,0,0,0,0,0,0,0,0,0,4,9,22,0],\"x\":[\"2017-07\",\"2017-08\",\"2017-09\",\"2017-10\",\"2017-11\",\"2017-12\",\"2018-01\",\"2018-02\",\"2018-03\",\"2018-04\",\"2018-05\",\"2018-06\",\"2018-07\",\"2018-08\",\"2018-09\",\"2018-10\",\"2018-11\",\"2018-12\",\"2019-01\",\"2019-02\",\"2019-03\",\"2019-04\",\"2019-05\",\"2019-06\",\"2019-07\",\"2019-09\",\"2019-10\",\"2019-11\",\"2019-12\",\"2020-01\",\"2020-02\",\"2020-03\",\"2020-04\",\"2020-05\",\"2020-06\",\"2020-07\"]},\"selected\":{\"id\":\"56396\"},\"selection_policy\":{\"id\":\"56395\"}},\"id\":\"55483\",\"type\":\"ColumnDataSource\"},{\"attributes\":{\"fill_alpha\":{\"value\":0.5},\"fill_color\":{\"value\":\"#1f77b4\"},\"line_alpha\":{\"value\":0.5},\"line_color\":{\"value\":\"#1f77b4\"},\"top\":{\"field\":\"top\"},\"width\":{\"value\":1},\"x\":{\"field\":\"x\"}},\"id\":\"55484\",\"type\":\"VBar\"},{\"attributes\":{\"data\":{\"x\":[\"2017-07\",\"2017-08\",\"2017-09\",\"2017-10\",\"2017-11\",\"2017-12\",\"2018-01\",\"2018-02\",\"2018-03\",\"2018-04\",\"2018-05\",\"2018-06\",\"2018-07\",\"2018-08\",\"2018-09\",\"2018-10\",\"2018-11\",\"2018-12\",\"2019-01\",\"2019-02\",\"2019-03\",\"2019-04\",\"2019-05\",\"2019-06\",\"2019-07\",\"2019-09\",\"2019-10\",\"2019-11\",\"2019-12\",\"2020-01\",\"2020-02\",\"2020-03\",\"2020-04\",\"2020-05\",\"2020-06\",\"2020-07\"],\"y\":[33.831889081455806,7.630849220103986,3.766031195840555,18.69150779896014,16.75216637781629,6.53206239168111,5.1871750433275565,6.551126516464471,6.1282495667244365,31.03639514731369,27.578856152512998,31.18370883882149,23.10745233968804,1.0190641247833623,8.232235701906413,24.18370883882149,22.161178509532064,18.47313691507799,8.849220103986136,9.674176776429809,14.27209705372617,4.3847487001733105,11.608318890814559,10.979202772963605,9.859618717504333,8.25476603119584,23.285961871750434,12.133448873483536,12.519930675909878,4.126516464471404,49.71750433275563,8.876949740034663,3.9740034662045063,8.646447140381282,15.558058925476603,3.4298093587521663]},\"selected\":{\"id\":\"56394\"},\"selection_policy\":{\"id\":\"56393\"}},\"id\":\"55471\",\"type\":\"ColumnDataSource\"},{\"attributes\":{\"text\":\"Votes par mois pour Souad Zitouni avec 35 votes\"},\"id\":\"55453\",\"type\":\"Title\"},{\"attributes\":{},\"id\":\"55459\",\"type\":\"CategoricalScale\"},{\"attributes\":{},\"id\":\"55467\",\"type\":\"BasicTicker\"},{\"attributes\":{},\"id\":\"56394\",\"type\":\"Selection\"},{\"attributes\":{},\"id\":\"56395\",\"type\":\"UnionRenderers\"},{\"attributes\":{\"data_source\":{\"id\":\"55471\"},\"glyph\":{\"id\":\"55472\"},\"hover_glyph\":null,\"muted_glyph\":null,\"nonselection_glyph\":{\"id\":\"55473\"},\"selection_glyph\":null,\"view\":{\"id\":\"55475\"}},\"id\":\"55474\",\"type\":\"GlyphRenderer\"},{\"attributes\":{\"line_alpha\":{\"value\":0.8},\"line_color\":{\"value\":\"red\"},\"line_width\":{\"value\":2},\"x\":{\"field\":\"x\"},\"y\":{\"field\":\"y\"}},\"id\":\"55472\",\"type\":\"Step\"},{\"attributes\":{},\"id\":\"56396\",\"type\":\"Selection\"},{\"attributes\":{\"end\":13,\"start\":0},\"id\":\"55457\",\"type\":\"DataRange1d\"},{\"attributes\":{},\"id\":\"55464\",\"type\":\"CategoricalTicker\"},{\"attributes\":{},\"id\":\"55480\",\"type\":\"BasicTickFormatter\"}],\"root_ids\":[\"55452\"]},\"title\":\"Bokeh Application\",\"version\":\"2.0.1\"}};\n",
       "  var render_items = [{\"docid\":\"037134db-4ee5-4048-88a3-7a117865ee8d\",\"root_ids\":[\"55452\"],\"roots\":{\"55452\":\"15701633-be89-40af-b59a-5be797271b36\"}}];\n",
       "  root.Bokeh.embed.embed_items_notebook(docs_json, render_items);\n",
       "\n",
       "  }\n",
       "  if (root.Bokeh !== undefined) {\n",
       "    embed_document(root);\n",
       "  } else {\n",
       "    var attempts = 0;\n",
       "    var timer = setInterval(function(root) {\n",
       "      if (root.Bokeh !== undefined) {\n",
       "        clearInterval(timer);\n",
       "        embed_document(root);\n",
       "      } else {\n",
       "        attempts++;\n",
       "        if (attempts > 100) {\n",
       "          clearInterval(timer);\n",
       "          console.log(\"Bokeh: ERROR: Unable to run BokehJS code because BokehJS library is missing\");\n",
       "        }\n",
       "      }\n",
       "    }, 10, root)\n",
       "  }\n",
       "})(window);"
      ],
      "application/vnd.bokehjs_exec.v0+json": ""
     },
     "metadata": {
      "application/vnd.bokehjs_exec.v0+json": {
       "id": "55452"
      }
     },
     "output_type": "display_data"
    },
    {
     "data": {
      "text/html": [
       "\n",
       "\n",
       "\n",
       "\n",
       "\n",
       "\n",
       "  <div class=\"bk-root\" id=\"e916c198-0c44-43f1-a650-79457afda2f5\" data-root-id=\"56451\"></div>\n"
      ]
     },
     "metadata": {},
     "output_type": "display_data"
    },
    {
     "data": {
      "application/javascript": [
       "(function(root) {\n",
       "  function embed_document(root) {\n",
       "    \n",
       "  var docs_json = {\"9a093ccf-906c-4600-9bc3-fa65d8a3a0e1\":{\"roots\":{\"references\":[{\"attributes\":{\"below\":[{\"id\":\"56462\"}],\"center\":[{\"id\":\"56464\"},{\"id\":\"56468\"},{\"id\":\"56480\"}],\"left\":[{\"id\":\"56465\"}],\"plot_height\":400,\"plot_width\":700,\"renderers\":[{\"id\":\"56473\"},{\"id\":\"56485\"}],\"title\":{\"id\":\"56452\"},\"toolbar\":{\"id\":\"56469\"},\"toolbar_location\":null,\"x_range\":{\"id\":\"56454\"},\"x_scale\":{\"id\":\"56458\"},\"y_range\":{\"id\":\"56456\"},\"y_scale\":{\"id\":\"56460\"}},\"id\":\"56451\",\"subtype\":\"Figure\",\"type\":\"Plot\"},{\"attributes\":{\"formatter\":{\"id\":\"56477\"},\"major_label_orientation\":\"vertical\",\"ticker\":{\"id\":\"56463\"}},\"id\":\"56462\",\"type\":\"CategoricalAxis\"},{\"attributes\":{},\"id\":\"56479\",\"type\":\"BasicTickFormatter\"},{\"attributes\":{\"line_alpha\":{\"value\":0.1},\"line_color\":{\"value\":\"red\"},\"line_width\":{\"value\":2},\"x\":{\"field\":\"x\"},\"y\":{\"field\":\"y\"}},\"id\":\"56472\",\"type\":\"Step\"},{\"attributes\":{\"label\":{\"value\":\"Moyenne de tous les d\\u00e9put\\u00e9s\"},\"renderers\":[{\"id\":\"56473\"}]},\"id\":\"56481\",\"type\":\"LegendItem\"},{\"attributes\":{\"data\":{\"x\":[\"2017-07\",\"2017-08\",\"2017-09\",\"2017-10\",\"2017-11\",\"2017-12\",\"2018-01\",\"2018-02\",\"2018-03\",\"2018-04\",\"2018-05\",\"2018-06\",\"2018-07\",\"2018-08\",\"2018-09\",\"2018-10\",\"2018-11\",\"2018-12\",\"2019-01\",\"2019-02\",\"2019-03\",\"2019-04\",\"2019-05\",\"2019-06\",\"2019-07\",\"2019-09\",\"2019-10\",\"2019-11\",\"2019-12\",\"2020-01\",\"2020-02\",\"2020-03\",\"2020-04\",\"2020-05\",\"2020-06\",\"2020-07\"],\"y\":[33.831889081455806,7.630849220103986,3.766031195840555,18.69150779896014,16.75216637781629,6.53206239168111,5.1871750433275565,6.551126516464471,6.1282495667244365,31.03639514731369,27.578856152512998,31.18370883882149,23.10745233968804,1.0190641247833623,8.232235701906413,24.18370883882149,22.161178509532064,18.47313691507799,8.849220103986136,9.674176776429809,14.27209705372617,4.3847487001733105,11.608318890814559,10.979202772963605,9.859618717504333,8.25476603119584,23.285961871750434,12.133448873483536,12.519930675909878,4.126516464471404,49.71750433275563,8.876949740034663,3.9740034662045063,8.646447140381282,15.558058925476603,3.4298093587521663]},\"selected\":{\"id\":\"57402\"},\"selection_policy\":{\"id\":\"57401\"}},\"id\":\"56470\",\"type\":\"ColumnDataSource\"},{\"attributes\":{},\"id\":\"57404\",\"type\":\"Selection\"},{\"attributes\":{\"active_drag\":\"auto\",\"active_inspect\":\"auto\",\"active_multi\":null,\"active_scroll\":\"auto\",\"active_tap\":\"auto\"},\"id\":\"56469\",\"type\":\"Toolbar\"},{\"attributes\":{},\"id\":\"57401\",\"type\":\"UnionRenderers\"},{\"attributes\":{},\"id\":\"56460\",\"type\":\"LinearScale\"},{\"attributes\":{\"items\":[{\"id\":\"56481\"}]},\"id\":\"56480\",\"type\":\"Legend\"},{\"attributes\":{\"text\":\"Votes par mois pour Camille Galliard-Minier avec 42 votes\"},\"id\":\"56452\",\"type\":\"Title\"},{\"attributes\":{\"formatter\":{\"id\":\"56479\"},\"ticker\":{\"id\":\"56466\"}},\"id\":\"56465\",\"type\":\"LinearAxis\"},{\"attributes\":{},\"id\":\"57403\",\"type\":\"UnionRenderers\"},{\"attributes\":{\"factors\":[\"2017-07\",\"2017-08\",\"2017-09\",\"2017-10\",\"2017-11\",\"2017-12\",\"2018-01\",\"2018-02\",\"2018-03\",\"2018-04\",\"2018-05\",\"2018-06\",\"2018-07\",\"2018-08\",\"2018-09\",\"2018-10\",\"2018-11\",\"2018-12\",\"2019-01\",\"2019-02\",\"2019-03\",\"2019-04\",\"2019-05\",\"2019-06\",\"2019-07\",\"2019-09\",\"2019-10\",\"2019-11\",\"2019-12\",\"2020-01\",\"2020-02\",\"2020-03\",\"2020-04\",\"2020-05\",\"2020-06\",\"2020-07\"]},\"id\":\"56454\",\"type\":\"FactorRange\"},{\"attributes\":{\"fill_alpha\":{\"value\":0.1},\"fill_color\":{\"value\":\"#1f77b4\"},\"line_alpha\":{\"value\":0.1},\"line_color\":{\"value\":\"#1f77b4\"},\"top\":{\"field\":\"top\"},\"width\":{\"value\":1},\"x\":{\"field\":\"x\"}},\"id\":\"56484\",\"type\":\"VBar\"},{\"attributes\":{\"data_source\":{\"id\":\"56482\"},\"glyph\":{\"id\":\"56483\"},\"hover_glyph\":null,\"muted_glyph\":null,\"nonselection_glyph\":{\"id\":\"56484\"},\"selection_glyph\":null,\"view\":{\"id\":\"56486\"}},\"id\":\"56485\",\"type\":\"GlyphRenderer\"},{\"attributes\":{\"axis\":{\"id\":\"56465\"},\"dimension\":1,\"grid_line_color\":null,\"ticker\":null},\"id\":\"56468\",\"type\":\"Grid\"},{\"attributes\":{\"source\":{\"id\":\"56482\"}},\"id\":\"56486\",\"type\":\"CDSView\"},{\"attributes\":{},\"id\":\"57402\",\"type\":\"Selection\"},{\"attributes\":{\"data\":{\"top\":[0,0,0,0,0,0,0,0,0,0,0,0,0,0,0,0,0,0,0,0,0,0,0,0,0,0,0,0,0,0,0,5,4,9,24,0],\"x\":[\"2017-07\",\"2017-08\",\"2017-09\",\"2017-10\",\"2017-11\",\"2017-12\",\"2018-01\",\"2018-02\",\"2018-03\",\"2018-04\",\"2018-05\",\"2018-06\",\"2018-07\",\"2018-08\",\"2018-09\",\"2018-10\",\"2018-11\",\"2018-12\",\"2019-01\",\"2019-02\",\"2019-03\",\"2019-04\",\"2019-05\",\"2019-06\",\"2019-07\",\"2019-09\",\"2019-10\",\"2019-11\",\"2019-12\",\"2020-01\",\"2020-02\",\"2020-03\",\"2020-04\",\"2020-05\",\"2020-06\",\"2020-07\"]},\"selected\":{\"id\":\"57404\"},\"selection_policy\":{\"id\":\"57403\"}},\"id\":\"56482\",\"type\":\"ColumnDataSource\"},{\"attributes\":{\"line_alpha\":{\"value\":0.8},\"line_color\":{\"value\":\"red\"},\"line_width\":{\"value\":2},\"x\":{\"field\":\"x\"},\"y\":{\"field\":\"y\"}},\"id\":\"56471\",\"type\":\"Step\"},{\"attributes\":{\"fill_alpha\":{\"value\":0.5},\"fill_color\":{\"value\":\"#1f77b4\"},\"line_alpha\":{\"value\":0.5},\"line_color\":{\"value\":\"#1f77b4\"},\"top\":{\"field\":\"top\"},\"width\":{\"value\":1},\"x\":{\"field\":\"x\"}},\"id\":\"56483\",\"type\":\"VBar\"},{\"attributes\":{\"data_source\":{\"id\":\"56470\"},\"glyph\":{\"id\":\"56471\"},\"hover_glyph\":null,\"muted_glyph\":null,\"nonselection_glyph\":{\"id\":\"56472\"},\"selection_glyph\":null,\"view\":{\"id\":\"56474\"}},\"id\":\"56473\",\"type\":\"GlyphRenderer\"},{\"attributes\":{\"axis\":{\"id\":\"56462\"},\"grid_line_color\":null,\"ticker\":null},\"id\":\"56464\",\"type\":\"Grid\"},{\"attributes\":{\"source\":{\"id\":\"56470\"}},\"id\":\"56474\",\"type\":\"CDSView\"},{\"attributes\":{},\"id\":\"56458\",\"type\":\"CategoricalScale\"},{\"attributes\":{},\"id\":\"56463\",\"type\":\"CategoricalTicker\"},{\"attributes\":{},\"id\":\"56477\",\"type\":\"CategoricalTickFormatter\"},{\"attributes\":{},\"id\":\"56466\",\"type\":\"BasicTicker\"},{\"attributes\":{\"end\":13,\"start\":0},\"id\":\"56456\",\"type\":\"DataRange1d\"}],\"root_ids\":[\"56451\"]},\"title\":\"Bokeh Application\",\"version\":\"2.0.1\"}};\n",
       "  var render_items = [{\"docid\":\"9a093ccf-906c-4600-9bc3-fa65d8a3a0e1\",\"root_ids\":[\"56451\"],\"roots\":{\"56451\":\"e916c198-0c44-43f1-a650-79457afda2f5\"}}];\n",
       "  root.Bokeh.embed.embed_items_notebook(docs_json, render_items);\n",
       "\n",
       "  }\n",
       "  if (root.Bokeh !== undefined) {\n",
       "    embed_document(root);\n",
       "  } else {\n",
       "    var attempts = 0;\n",
       "    var timer = setInterval(function(root) {\n",
       "      if (root.Bokeh !== undefined) {\n",
       "        clearInterval(timer);\n",
       "        embed_document(root);\n",
       "      } else {\n",
       "        attempts++;\n",
       "        if (attempts > 100) {\n",
       "          clearInterval(timer);\n",
       "          console.log(\"Bokeh: ERROR: Unable to run BokehJS code because BokehJS library is missing\");\n",
       "        }\n",
       "      }\n",
       "    }, 10, root)\n",
       "  }\n",
       "})(window);"
      ],
      "application/vnd.bokehjs_exec.v0+json": ""
     },
     "metadata": {
      "application/vnd.bokehjs_exec.v0+json": {
       "id": "56451"
      }
     },
     "output_type": "display_data"
    },
    {
     "data": {
      "text/html": [
       "\n",
       "\n",
       "\n",
       "\n",
       "\n",
       "\n",
       "  <div class=\"bk-root\" id=\"20002c05-068b-4ad8-9312-d761e08c99c1\" data-root-id=\"57459\"></div>\n"
      ]
     },
     "metadata": {},
     "output_type": "display_data"
    },
    {
     "data": {
      "application/javascript": [
       "(function(root) {\n",
       "  function embed_document(root) {\n",
       "    \n",
       "  var docs_json = {\"ce7b50e4-4946-46ff-9b20-eebabe4e81bf\":{\"roots\":{\"references\":[{\"attributes\":{\"below\":[{\"id\":\"57470\"}],\"center\":[{\"id\":\"57472\"},{\"id\":\"57476\"},{\"id\":\"57488\"}],\"left\":[{\"id\":\"57473\"}],\"plot_height\":400,\"plot_width\":700,\"renderers\":[{\"id\":\"57481\"},{\"id\":\"57493\"}],\"title\":{\"id\":\"57460\"},\"toolbar\":{\"id\":\"57477\"},\"toolbar_location\":null,\"x_range\":{\"id\":\"57462\"},\"x_scale\":{\"id\":\"57466\"},\"y_range\":{\"id\":\"57464\"},\"y_scale\":{\"id\":\"57468\"}},\"id\":\"57459\",\"subtype\":\"Figure\",\"type\":\"Plot\"},{\"attributes\":{},\"id\":\"58420\",\"type\":\"UnionRenderers\"},{\"attributes\":{\"source\":{\"id\":\"57490\"}},\"id\":\"57494\",\"type\":\"CDSView\"},{\"attributes\":{\"fill_alpha\":{\"value\":0.5},\"fill_color\":{\"value\":\"#1f77b4\"},\"line_alpha\":{\"value\":0.5},\"line_color\":{\"value\":\"#1f77b4\"},\"top\":{\"field\":\"top\"},\"width\":{\"value\":1},\"x\":{\"field\":\"x\"}},\"id\":\"57491\",\"type\":\"VBar\"},{\"attributes\":{},\"id\":\"58418\",\"type\":\"UnionRenderers\"},{\"attributes\":{\"formatter\":{\"id\":\"57487\"},\"ticker\":{\"id\":\"57474\"}},\"id\":\"57473\",\"type\":\"LinearAxis\"},{\"attributes\":{},\"id\":\"58419\",\"type\":\"Selection\"},{\"attributes\":{},\"id\":\"57485\",\"type\":\"CategoricalTickFormatter\"},{\"attributes\":{\"label\":{\"value\":\"Moyenne de tous les d\\u00e9put\\u00e9s\"},\"renderers\":[{\"id\":\"57481\"}]},\"id\":\"57489\",\"type\":\"LegendItem\"},{\"attributes\":{\"data_source\":{\"id\":\"57490\"},\"glyph\":{\"id\":\"57491\"},\"hover_glyph\":null,\"muted_glyph\":null,\"nonselection_glyph\":{\"id\":\"57492\"},\"selection_glyph\":null,\"view\":{\"id\":\"57494\"}},\"id\":\"57493\",\"type\":\"GlyphRenderer\"},{\"attributes\":{\"fill_alpha\":{\"value\":0.1},\"fill_color\":{\"value\":\"#1f77b4\"},\"line_alpha\":{\"value\":0.1},\"line_color\":{\"value\":\"#1f77b4\"},\"top\":{\"field\":\"top\"},\"width\":{\"value\":1},\"x\":{\"field\":\"x\"}},\"id\":\"57492\",\"type\":\"VBar\"},{\"attributes\":{},\"id\":\"57466\",\"type\":\"CategoricalScale\"},{\"attributes\":{\"text\":\"Votes par mois pour Claudia Rouaux avec 57 votes\"},\"id\":\"57460\",\"type\":\"Title\"},{\"attributes\":{},\"id\":\"57487\",\"type\":\"BasicTickFormatter\"},{\"attributes\":{},\"id\":\"57471\",\"type\":\"CategoricalTicker\"},{\"attributes\":{\"source\":{\"id\":\"57478\"}},\"id\":\"57482\",\"type\":\"CDSView\"},{\"attributes\":{},\"id\":\"58421\",\"type\":\"Selection\"},{\"attributes\":{\"data_source\":{\"id\":\"57478\"},\"glyph\":{\"id\":\"57479\"},\"hover_glyph\":null,\"muted_glyph\":null,\"nonselection_glyph\":{\"id\":\"57480\"},\"selection_glyph\":null,\"view\":{\"id\":\"57482\"}},\"id\":\"57481\",\"type\":\"GlyphRenderer\"},{\"attributes\":{\"end\":13,\"start\":0},\"id\":\"57464\",\"type\":\"DataRange1d\"},{\"attributes\":{\"line_alpha\":{\"value\":0.8},\"line_color\":{\"value\":\"red\"},\"line_width\":{\"value\":2},\"x\":{\"field\":\"x\"},\"y\":{\"field\":\"y\"}},\"id\":\"57479\",\"type\":\"Step\"},{\"attributes\":{},\"id\":\"57474\",\"type\":\"BasicTicker\"},{\"attributes\":{\"line_alpha\":{\"value\":0.1},\"line_color\":{\"value\":\"red\"},\"line_width\":{\"value\":2},\"x\":{\"field\":\"x\"},\"y\":{\"field\":\"y\"}},\"id\":\"57480\",\"type\":\"Step\"},{\"attributes\":{\"axis\":{\"id\":\"57470\"},\"grid_line_color\":null,\"ticker\":null},\"id\":\"57472\",\"type\":\"Grid\"},{\"attributes\":{\"items\":[{\"id\":\"57489\"}]},\"id\":\"57488\",\"type\":\"Legend\"},{\"attributes\":{\"data\":{\"x\":[\"2017-07\",\"2017-08\",\"2017-09\",\"2017-10\",\"2017-11\",\"2017-12\",\"2018-01\",\"2018-02\",\"2018-03\",\"2018-04\",\"2018-05\",\"2018-06\",\"2018-07\",\"2018-08\",\"2018-09\",\"2018-10\",\"2018-11\",\"2018-12\",\"2019-01\",\"2019-02\",\"2019-03\",\"2019-04\",\"2019-05\",\"2019-06\",\"2019-07\",\"2019-09\",\"2019-10\",\"2019-11\",\"2019-12\",\"2020-01\",\"2020-02\",\"2020-03\",\"2020-04\",\"2020-05\",\"2020-06\",\"2020-07\"],\"y\":[33.831889081455806,7.630849220103986,3.766031195840555,18.69150779896014,16.75216637781629,6.53206239168111,5.1871750433275565,6.551126516464471,6.1282495667244365,31.03639514731369,27.578856152512998,31.18370883882149,23.10745233968804,1.0190641247833623,8.232235701906413,24.18370883882149,22.161178509532064,18.47313691507799,8.849220103986136,9.674176776429809,14.27209705372617,4.3847487001733105,11.608318890814559,10.979202772963605,9.859618717504333,8.25476603119584,23.285961871750434,12.133448873483536,12.519930675909878,4.126516464471404,49.71750433275563,8.876949740034663,3.9740034662045063,8.646447140381282,15.558058925476603,3.4298093587521663]},\"selected\":{\"id\":\"58419\"},\"selection_policy\":{\"id\":\"58418\"}},\"id\":\"57478\",\"type\":\"ColumnDataSource\"},{\"attributes\":{\"axis\":{\"id\":\"57473\"},\"dimension\":1,\"grid_line_color\":null,\"ticker\":null},\"id\":\"57476\",\"type\":\"Grid\"},{\"attributes\":{\"data\":{\"top\":[0,0,0,0,0,0,0,0,0,0,0,0,0,0,0,0,0,0,0,0,0,0,0,0,0,0,0,0,0,0,0,8,4,9,18,18],\"x\":[\"2017-07\",\"2017-08\",\"2017-09\",\"2017-10\",\"2017-11\",\"2017-12\",\"2018-01\",\"2018-02\",\"2018-03\",\"2018-04\",\"2018-05\",\"2018-06\",\"2018-07\",\"2018-08\",\"2018-09\",\"2018-10\",\"2018-11\",\"2018-12\",\"2019-01\",\"2019-02\",\"2019-03\",\"2019-04\",\"2019-05\",\"2019-06\",\"2019-07\",\"2019-09\",\"2019-10\",\"2019-11\",\"2019-12\",\"2020-01\",\"2020-02\",\"2020-03\",\"2020-04\",\"2020-05\",\"2020-06\",\"2020-07\"]},\"selected\":{\"id\":\"58421\"},\"selection_policy\":{\"id\":\"58420\"}},\"id\":\"57490\",\"type\":\"ColumnDataSource\"},{\"attributes\":{\"formatter\":{\"id\":\"57485\"},\"major_label_orientation\":\"vertical\",\"ticker\":{\"id\":\"57471\"}},\"id\":\"57470\",\"type\":\"CategoricalAxis\"},{\"attributes\":{},\"id\":\"57468\",\"type\":\"LinearScale\"},{\"attributes\":{\"active_drag\":\"auto\",\"active_inspect\":\"auto\",\"active_multi\":null,\"active_scroll\":\"auto\",\"active_tap\":\"auto\"},\"id\":\"57477\",\"type\":\"Toolbar\"},{\"attributes\":{\"factors\":[\"2017-07\",\"2017-08\",\"2017-09\",\"2017-10\",\"2017-11\",\"2017-12\",\"2018-01\",\"2018-02\",\"2018-03\",\"2018-04\",\"2018-05\",\"2018-06\",\"2018-07\",\"2018-08\",\"2018-09\",\"2018-10\",\"2018-11\",\"2018-12\",\"2019-01\",\"2019-02\",\"2019-03\",\"2019-04\",\"2019-05\",\"2019-06\",\"2019-07\",\"2019-09\",\"2019-10\",\"2019-11\",\"2019-12\",\"2020-01\",\"2020-02\",\"2020-03\",\"2020-04\",\"2020-05\",\"2020-06\",\"2020-07\"]},\"id\":\"57462\",\"type\":\"FactorRange\"}],\"root_ids\":[\"57459\"]},\"title\":\"Bokeh Application\",\"version\":\"2.0.1\"}};\n",
       "  var render_items = [{\"docid\":\"ce7b50e4-4946-46ff-9b20-eebabe4e81bf\",\"root_ids\":[\"57459\"],\"roots\":{\"57459\":\"20002c05-068b-4ad8-9312-d761e08c99c1\"}}];\n",
       "  root.Bokeh.embed.embed_items_notebook(docs_json, render_items);\n",
       "\n",
       "  }\n",
       "  if (root.Bokeh !== undefined) {\n",
       "    embed_document(root);\n",
       "  } else {\n",
       "    var attempts = 0;\n",
       "    var timer = setInterval(function(root) {\n",
       "      if (root.Bokeh !== undefined) {\n",
       "        clearInterval(timer);\n",
       "        embed_document(root);\n",
       "      } else {\n",
       "        attempts++;\n",
       "        if (attempts > 100) {\n",
       "          clearInterval(timer);\n",
       "          console.log(\"Bokeh: ERROR: Unable to run BokehJS code because BokehJS library is missing\");\n",
       "        }\n",
       "      }\n",
       "    }, 10, root)\n",
       "  }\n",
       "})(window);"
      ],
      "application/vnd.bokehjs_exec.v0+json": ""
     },
     "metadata": {
      "application/vnd.bokehjs_exec.v0+json": {
       "id": "57459"
      }
     },
     "output_type": "display_data"
    },
    {
     "data": {
      "text/html": [
       "\n",
       "\n",
       "\n",
       "\n",
       "\n",
       "\n",
       "  <div class=\"bk-root\" id=\"f251fd34-3759-4974-9732-43d78b0ec016\" data-root-id=\"58476\"></div>\n"
      ]
     },
     "metadata": {},
     "output_type": "display_data"
    },
    {
     "data": {
      "application/javascript": [
       "(function(root) {\n",
       "  function embed_document(root) {\n",
       "    \n",
       "  var docs_json = {\"8e89563f-62e7-47d6-8c2a-74765c22494e\":{\"roots\":{\"references\":[{\"attributes\":{\"below\":[{\"id\":\"58487\"}],\"center\":[{\"id\":\"58489\"},{\"id\":\"58493\"},{\"id\":\"58505\"}],\"left\":[{\"id\":\"58490\"}],\"plot_height\":400,\"plot_width\":700,\"renderers\":[{\"id\":\"58498\"},{\"id\":\"58510\"}],\"title\":{\"id\":\"58477\"},\"toolbar\":{\"id\":\"58494\"},\"toolbar_location\":null,\"x_range\":{\"id\":\"58479\"},\"x_scale\":{\"id\":\"58483\"},\"y_range\":{\"id\":\"58481\"},\"y_scale\":{\"id\":\"58485\"}},\"id\":\"58476\",\"subtype\":\"Figure\",\"type\":\"Plot\"},{\"attributes\":{\"fill_alpha\":{\"value\":0.5},\"fill_color\":{\"value\":\"#1f77b4\"},\"line_alpha\":{\"value\":0.5},\"line_color\":{\"value\":\"#1f77b4\"},\"top\":{\"field\":\"top\"},\"width\":{\"value\":1},\"x\":{\"field\":\"x\"}},\"id\":\"58508\",\"type\":\"VBar\"},{\"attributes\":{},\"id\":\"58485\",\"type\":\"LinearScale\"},{\"attributes\":{\"data\":{\"top\":[0,0,0,0,0,0,0,0,0,0,0,0,0,0,0,0,0,0,0,0,0,0,0,0,0,6,7,6,6,7,9,7,4,9,16,0],\"x\":[\"2017-07\",\"2017-08\",\"2017-09\",\"2017-10\",\"2017-11\",\"2017-12\",\"2018-01\",\"2018-02\",\"2018-03\",\"2018-04\",\"2018-05\",\"2018-06\",\"2018-07\",\"2018-08\",\"2018-09\",\"2018-10\",\"2018-11\",\"2018-12\",\"2019-01\",\"2019-02\",\"2019-03\",\"2019-04\",\"2019-05\",\"2019-06\",\"2019-07\",\"2019-09\",\"2019-10\",\"2019-11\",\"2019-12\",\"2020-01\",\"2020-02\",\"2020-03\",\"2020-04\",\"2020-05\",\"2020-06\",\"2020-07\"]},\"selected\":{\"id\":\"59447\"},\"selection_policy\":{\"id\":\"59446\"}},\"id\":\"58507\",\"type\":\"ColumnDataSource\"},{\"attributes\":{\"line_alpha\":{\"value\":0.8},\"line_color\":{\"value\":\"red\"},\"line_width\":{\"value\":2},\"x\":{\"field\":\"x\"},\"y\":{\"field\":\"y\"}},\"id\":\"58496\",\"type\":\"Step\"},{\"attributes\":{\"axis\":{\"id\":\"58490\"},\"dimension\":1,\"grid_line_color\":null,\"ticker\":null},\"id\":\"58493\",\"type\":\"Grid\"},{\"attributes\":{},\"id\":\"58483\",\"type\":\"CategoricalScale\"},{\"attributes\":{\"data_source\":{\"id\":\"58495\"},\"glyph\":{\"id\":\"58496\"},\"hover_glyph\":null,\"muted_glyph\":null,\"nonselection_glyph\":{\"id\":\"58497\"},\"selection_glyph\":null,\"view\":{\"id\":\"58499\"}},\"id\":\"58498\",\"type\":\"GlyphRenderer\"},{\"attributes\":{\"factors\":[\"2017-07\",\"2017-08\",\"2017-09\",\"2017-10\",\"2017-11\",\"2017-12\",\"2018-01\",\"2018-02\",\"2018-03\",\"2018-04\",\"2018-05\",\"2018-06\",\"2018-07\",\"2018-08\",\"2018-09\",\"2018-10\",\"2018-11\",\"2018-12\",\"2019-01\",\"2019-02\",\"2019-03\",\"2019-04\",\"2019-05\",\"2019-06\",\"2019-07\",\"2019-09\",\"2019-10\",\"2019-11\",\"2019-12\",\"2020-01\",\"2020-02\",\"2020-03\",\"2020-04\",\"2020-05\",\"2020-06\",\"2020-07\"]},\"id\":\"58479\",\"type\":\"FactorRange\"},{\"attributes\":{\"axis\":{\"id\":\"58487\"},\"grid_line_color\":null,\"ticker\":null},\"id\":\"58489\",\"type\":\"Grid\"},{\"attributes\":{\"label\":{\"value\":\"Moyenne de tous les d\\u00e9put\\u00e9s\"},\"renderers\":[{\"id\":\"58498\"}]},\"id\":\"58506\",\"type\":\"LegendItem\"},{\"attributes\":{},\"id\":\"58488\",\"type\":\"CategoricalTicker\"},{\"attributes\":{\"data\":{\"x\":[\"2017-07\",\"2017-08\",\"2017-09\",\"2017-10\",\"2017-11\",\"2017-12\",\"2018-01\",\"2018-02\",\"2018-03\",\"2018-04\",\"2018-05\",\"2018-06\",\"2018-07\",\"2018-08\",\"2018-09\",\"2018-10\",\"2018-11\",\"2018-12\",\"2019-01\",\"2019-02\",\"2019-03\",\"2019-04\",\"2019-05\",\"2019-06\",\"2019-07\",\"2019-09\",\"2019-10\",\"2019-11\",\"2019-12\",\"2020-01\",\"2020-02\",\"2020-03\",\"2020-04\",\"2020-05\",\"2020-06\",\"2020-07\"],\"y\":[33.831889081455806,7.630849220103986,3.766031195840555,18.69150779896014,16.75216637781629,6.53206239168111,5.1871750433275565,6.551126516464471,6.1282495667244365,31.03639514731369,27.578856152512998,31.18370883882149,23.10745233968804,1.0190641247833623,8.232235701906413,24.18370883882149,22.161178509532064,18.47313691507799,8.849220103986136,9.674176776429809,14.27209705372617,4.3847487001733105,11.608318890814559,10.979202772963605,9.859618717504333,8.25476603119584,23.285961871750434,12.133448873483536,12.519930675909878,4.126516464471404,49.71750433275563,8.876949740034663,3.9740034662045063,8.646447140381282,15.558058925476603,3.4298093587521663]},\"selected\":{\"id\":\"59445\"},\"selection_policy\":{\"id\":\"59444\"}},\"id\":\"58495\",\"type\":\"ColumnDataSource\"},{\"attributes\":{},\"id\":\"59447\",\"type\":\"Selection\"},{\"attributes\":{},\"id\":\"58502\",\"type\":\"CategoricalTickFormatter\"},{\"attributes\":{\"formatter\":{\"id\":\"58504\"},\"ticker\":{\"id\":\"58491\"}},\"id\":\"58490\",\"type\":\"LinearAxis\"},{\"attributes\":{\"source\":{\"id\":\"58495\"}},\"id\":\"58499\",\"type\":\"CDSView\"},{\"attributes\":{\"active_drag\":\"auto\",\"active_inspect\":\"auto\",\"active_multi\":null,\"active_scroll\":\"auto\",\"active_tap\":\"auto\"},\"id\":\"58494\",\"type\":\"Toolbar\"},{\"attributes\":{},\"id\":\"58504\",\"type\":\"BasicTickFormatter\"},{\"attributes\":{\"source\":{\"id\":\"58507\"}},\"id\":\"58511\",\"type\":\"CDSView\"},{\"attributes\":{\"data_source\":{\"id\":\"58507\"},\"glyph\":{\"id\":\"58508\"},\"hover_glyph\":null,\"muted_glyph\":null,\"nonselection_glyph\":{\"id\":\"58509\"},\"selection_glyph\":null,\"view\":{\"id\":\"58511\"}},\"id\":\"58510\",\"type\":\"GlyphRenderer\"},{\"attributes\":{\"line_alpha\":{\"value\":0.1},\"line_color\":{\"value\":\"red\"},\"line_width\":{\"value\":2},\"x\":{\"field\":\"x\"},\"y\":{\"field\":\"y\"}},\"id\":\"58497\",\"type\":\"Step\"},{\"attributes\":{},\"id\":\"59446\",\"type\":\"UnionRenderers\"},{\"attributes\":{\"end\":13,\"start\":0},\"id\":\"58481\",\"type\":\"DataRange1d\"},{\"attributes\":{\"fill_alpha\":{\"value\":0.1},\"fill_color\":{\"value\":\"#1f77b4\"},\"line_alpha\":{\"value\":0.1},\"line_color\":{\"value\":\"#1f77b4\"},\"top\":{\"field\":\"top\"},\"width\":{\"value\":1},\"x\":{\"field\":\"x\"}},\"id\":\"58509\",\"type\":\"VBar\"},{\"attributes\":{},\"id\":\"59444\",\"type\":\"UnionRenderers\"},{\"attributes\":{},\"id\":\"58491\",\"type\":\"BasicTicker\"},{\"attributes\":{},\"id\":\"59445\",\"type\":\"Selection\"},{\"attributes\":{\"formatter\":{\"id\":\"58502\"},\"major_label_orientation\":\"vertical\",\"ticker\":{\"id\":\"58488\"}},\"id\":\"58487\",\"type\":\"CategoricalAxis\"},{\"attributes\":{\"text\":\"Votes par mois pour Fran\\u00e7ois de Rugy avec 77 votes\"},\"id\":\"58477\",\"type\":\"Title\"},{\"attributes\":{\"items\":[{\"id\":\"58506\"}]},\"id\":\"58505\",\"type\":\"Legend\"}],\"root_ids\":[\"58476\"]},\"title\":\"Bokeh Application\",\"version\":\"2.0.1\"}};\n",
       "  var render_items = [{\"docid\":\"8e89563f-62e7-47d6-8c2a-74765c22494e\",\"root_ids\":[\"58476\"],\"roots\":{\"58476\":\"f251fd34-3759-4974-9732-43d78b0ec016\"}}];\n",
       "  root.Bokeh.embed.embed_items_notebook(docs_json, render_items);\n",
       "\n",
       "  }\n",
       "  if (root.Bokeh !== undefined) {\n",
       "    embed_document(root);\n",
       "  } else {\n",
       "    var attempts = 0;\n",
       "    var timer = setInterval(function(root) {\n",
       "      if (root.Bokeh !== undefined) {\n",
       "        clearInterval(timer);\n",
       "        embed_document(root);\n",
       "      } else {\n",
       "        attempts++;\n",
       "        if (attempts > 100) {\n",
       "          clearInterval(timer);\n",
       "          console.log(\"Bokeh: ERROR: Unable to run BokehJS code because BokehJS library is missing\");\n",
       "        }\n",
       "      }\n",
       "    }, 10, root)\n",
       "  }\n",
       "})(window);"
      ],
      "application/vnd.bokehjs_exec.v0+json": ""
     },
     "metadata": {
      "application/vnd.bokehjs_exec.v0+json": {
       "id": "58476"
      }
     },
     "output_type": "display_data"
    },
    {
     "data": {
      "text/html": [
       "\n",
       "\n",
       "\n",
       "\n",
       "\n",
       "\n",
       "  <div class=\"bk-root\" id=\"a3cd6674-7ab2-4e3a-a0e4-f8f9086bc21c\" data-root-id=\"59502\"></div>\n"
      ]
     },
     "metadata": {},
     "output_type": "display_data"
    },
    {
     "data": {
      "application/javascript": [
       "(function(root) {\n",
       "  function embed_document(root) {\n",
       "    \n",
       "  var docs_json = {\"35349b9d-9662-450e-b116-74027cb9e0a9\":{\"roots\":{\"references\":[{\"attributes\":{\"below\":[{\"id\":\"59513\"}],\"center\":[{\"id\":\"59515\"},{\"id\":\"59519\"},{\"id\":\"59531\"}],\"left\":[{\"id\":\"59516\"}],\"plot_height\":400,\"plot_width\":700,\"renderers\":[{\"id\":\"59524\"},{\"id\":\"59536\"}],\"title\":{\"id\":\"59503\"},\"toolbar\":{\"id\":\"59520\"},\"toolbar_location\":null,\"x_range\":{\"id\":\"59505\"},\"x_scale\":{\"id\":\"59509\"},\"y_range\":{\"id\":\"59507\"},\"y_scale\":{\"id\":\"59511\"}},\"id\":\"59502\",\"subtype\":\"Figure\",\"type\":\"Plot\"},{\"attributes\":{\"axis\":{\"id\":\"59513\"},\"grid_line_color\":null,\"ticker\":null},\"id\":\"59515\",\"type\":\"Grid\"},{\"attributes\":{},\"id\":\"60482\",\"type\":\"Selection\"},{\"attributes\":{\"active_drag\":\"auto\",\"active_inspect\":\"auto\",\"active_multi\":null,\"active_scroll\":\"auto\",\"active_tap\":\"auto\"},\"id\":\"59520\",\"type\":\"Toolbar\"},{\"attributes\":{\"text\":\"Votes par mois pour Benjamin Griveaux avec 91 votes\"},\"id\":\"59503\",\"type\":\"Title\"},{\"attributes\":{},\"id\":\"59528\",\"type\":\"CategoricalTickFormatter\"},{\"attributes\":{},\"id\":\"59511\",\"type\":\"LinearScale\"},{\"attributes\":{},\"id\":\"59514\",\"type\":\"CategoricalTicker\"},{\"attributes\":{\"formatter\":{\"id\":\"59528\"},\"major_label_orientation\":\"vertical\",\"ticker\":{\"id\":\"59514\"}},\"id\":\"59513\",\"type\":\"CategoricalAxis\"},{\"attributes\":{\"line_alpha\":{\"value\":0.1},\"line_color\":{\"value\":\"red\"},\"line_width\":{\"value\":2},\"x\":{\"field\":\"x\"},\"y\":{\"field\":\"y\"}},\"id\":\"59523\",\"type\":\"Step\"},{\"attributes\":{\"data_source\":{\"id\":\"59521\"},\"glyph\":{\"id\":\"59522\"},\"hover_glyph\":null,\"muted_glyph\":null,\"nonselection_glyph\":{\"id\":\"59523\"},\"selection_glyph\":null,\"view\":{\"id\":\"59525\"}},\"id\":\"59524\",\"type\":\"GlyphRenderer\"},{\"attributes\":{\"source\":{\"id\":\"59521\"}},\"id\":\"59525\",\"type\":\"CDSView\"},{\"attributes\":{\"line_alpha\":{\"value\":0.8},\"line_color\":{\"value\":\"red\"},\"line_width\":{\"value\":2},\"x\":{\"field\":\"x\"},\"y\":{\"field\":\"y\"}},\"id\":\"59522\",\"type\":\"Step\"},{\"attributes\":{},\"id\":\"59509\",\"type\":\"CategoricalScale\"},{\"attributes\":{\"axis\":{\"id\":\"59516\"},\"dimension\":1,\"grid_line_color\":null,\"ticker\":null},\"id\":\"59519\",\"type\":\"Grid\"},{\"attributes\":{},\"id\":\"59530\",\"type\":\"BasicTickFormatter\"},{\"attributes\":{},\"id\":\"60479\",\"type\":\"UnionRenderers\"},{\"attributes\":{\"items\":[{\"id\":\"59532\"}]},\"id\":\"59531\",\"type\":\"Legend\"},{\"attributes\":{},\"id\":\"59517\",\"type\":\"BasicTicker\"},{\"attributes\":{\"label\":{\"value\":\"Moyenne de tous les d\\u00e9put\\u00e9s\"},\"renderers\":[{\"id\":\"59524\"}]},\"id\":\"59532\",\"type\":\"LegendItem\"},{\"attributes\":{\"data\":{\"top\":[0,0,0,0,0,0,0,0,0,0,0,0,0,0,0,0,0,0,0,0,0,2,15,6,3,4,10,4,3,0,0,5,4,9,16,10],\"x\":[\"2017-07\",\"2017-08\",\"2017-09\",\"2017-10\",\"2017-11\",\"2017-12\",\"2018-01\",\"2018-02\",\"2018-03\",\"2018-04\",\"2018-05\",\"2018-06\",\"2018-07\",\"2018-08\",\"2018-09\",\"2018-10\",\"2018-11\",\"2018-12\",\"2019-01\",\"2019-02\",\"2019-03\",\"2019-04\",\"2019-05\",\"2019-06\",\"2019-07\",\"2019-09\",\"2019-10\",\"2019-11\",\"2019-12\",\"2020-01\",\"2020-02\",\"2020-03\",\"2020-04\",\"2020-05\",\"2020-06\",\"2020-07\"]},\"selected\":{\"id\":\"60482\"},\"selection_policy\":{\"id\":\"60481\"}},\"id\":\"59533\",\"type\":\"ColumnDataSource\"},{\"attributes\":{\"data_source\":{\"id\":\"59533\"},\"glyph\":{\"id\":\"59534\"},\"hover_glyph\":null,\"muted_glyph\":null,\"nonselection_glyph\":{\"id\":\"59535\"},\"selection_glyph\":null,\"view\":{\"id\":\"59537\"}},\"id\":\"59536\",\"type\":\"GlyphRenderer\"},{\"attributes\":{\"data\":{\"x\":[\"2017-07\",\"2017-08\",\"2017-09\",\"2017-10\",\"2017-11\",\"2017-12\",\"2018-01\",\"2018-02\",\"2018-03\",\"2018-04\",\"2018-05\",\"2018-06\",\"2018-07\",\"2018-08\",\"2018-09\",\"2018-10\",\"2018-11\",\"2018-12\",\"2019-01\",\"2019-02\",\"2019-03\",\"2019-04\",\"2019-05\",\"2019-06\",\"2019-07\",\"2019-09\",\"2019-10\",\"2019-11\",\"2019-12\",\"2020-01\",\"2020-02\",\"2020-03\",\"2020-04\",\"2020-05\",\"2020-06\",\"2020-07\"],\"y\":[33.831889081455806,7.630849220103986,3.766031195840555,18.69150779896014,16.75216637781629,6.53206239168111,5.1871750433275565,6.551126516464471,6.1282495667244365,31.03639514731369,27.578856152512998,31.18370883882149,23.10745233968804,1.0190641247833623,8.232235701906413,24.18370883882149,22.161178509532064,18.47313691507799,8.849220103986136,9.674176776429809,14.27209705372617,4.3847487001733105,11.608318890814559,10.979202772963605,9.859618717504333,8.25476603119584,23.285961871750434,12.133448873483536,12.519930675909878,4.126516464471404,49.71750433275563,8.876949740034663,3.9740034662045063,8.646447140381282,15.558058925476603,3.4298093587521663]},\"selected\":{\"id\":\"60480\"},\"selection_policy\":{\"id\":\"60479\"}},\"id\":\"59521\",\"type\":\"ColumnDataSource\"},{\"attributes\":{\"fill_alpha\":{\"value\":0.1},\"fill_color\":{\"value\":\"#1f77b4\"},\"line_alpha\":{\"value\":0.1},\"line_color\":{\"value\":\"#1f77b4\"},\"top\":{\"field\":\"top\"},\"width\":{\"value\":1},\"x\":{\"field\":\"x\"}},\"id\":\"59535\",\"type\":\"VBar\"},{\"attributes\":{\"source\":{\"id\":\"59533\"}},\"id\":\"59537\",\"type\":\"CDSView\"},{\"attributes\":{\"end\":13,\"start\":0},\"id\":\"59507\",\"type\":\"DataRange1d\"},{\"attributes\":{\"fill_alpha\":{\"value\":0.5},\"fill_color\":{\"value\":\"#1f77b4\"},\"line_alpha\":{\"value\":0.5},\"line_color\":{\"value\":\"#1f77b4\"},\"top\":{\"field\":\"top\"},\"width\":{\"value\":1},\"x\":{\"field\":\"x\"}},\"id\":\"59534\",\"type\":\"VBar\"},{\"attributes\":{\"factors\":[\"2017-07\",\"2017-08\",\"2017-09\",\"2017-10\",\"2017-11\",\"2017-12\",\"2018-01\",\"2018-02\",\"2018-03\",\"2018-04\",\"2018-05\",\"2018-06\",\"2018-07\",\"2018-08\",\"2018-09\",\"2018-10\",\"2018-11\",\"2018-12\",\"2019-01\",\"2019-02\",\"2019-03\",\"2019-04\",\"2019-05\",\"2019-06\",\"2019-07\",\"2019-09\",\"2019-10\",\"2019-11\",\"2019-12\",\"2020-01\",\"2020-02\",\"2020-03\",\"2020-04\",\"2020-05\",\"2020-06\",\"2020-07\"]},\"id\":\"59505\",\"type\":\"FactorRange\"},{\"attributes\":{\"formatter\":{\"id\":\"59530\"},\"ticker\":{\"id\":\"59517\"}},\"id\":\"59516\",\"type\":\"LinearAxis\"},{\"attributes\":{},\"id\":\"60480\",\"type\":\"Selection\"},{\"attributes\":{},\"id\":\"60481\",\"type\":\"UnionRenderers\"}],\"root_ids\":[\"59502\"]},\"title\":\"Bokeh Application\",\"version\":\"2.0.1\"}};\n",
       "  var render_items = [{\"docid\":\"35349b9d-9662-450e-b116-74027cb9e0a9\",\"root_ids\":[\"59502\"],\"roots\":{\"59502\":\"a3cd6674-7ab2-4e3a-a0e4-f8f9086bc21c\"}}];\n",
       "  root.Bokeh.embed.embed_items_notebook(docs_json, render_items);\n",
       "\n",
       "  }\n",
       "  if (root.Bokeh !== undefined) {\n",
       "    embed_document(root);\n",
       "  } else {\n",
       "    var attempts = 0;\n",
       "    var timer = setInterval(function(root) {\n",
       "      if (root.Bokeh !== undefined) {\n",
       "        clearInterval(timer);\n",
       "        embed_document(root);\n",
       "      } else {\n",
       "        attempts++;\n",
       "        if (attempts > 100) {\n",
       "          clearInterval(timer);\n",
       "          console.log(\"Bokeh: ERROR: Unable to run BokehJS code because BokehJS library is missing\");\n",
       "        }\n",
       "      }\n",
       "    }, 10, root)\n",
       "  }\n",
       "})(window);"
      ],
      "application/vnd.bokehjs_exec.v0+json": ""
     },
     "metadata": {
      "application/vnd.bokehjs_exec.v0+json": {
       "id": "59502"
      }
     },
     "output_type": "display_data"
    },
    {
     "data": {
      "text/html": [
       "\n",
       "\n",
       "\n",
       "\n",
       "\n",
       "\n",
       "  <div class=\"bk-root\" id=\"4ce908d2-49d9-49c3-b589-5ed98eb3bfc2\" data-root-id=\"60537\"></div>\n"
      ]
     },
     "metadata": {},
     "output_type": "display_data"
    },
    {
     "data": {
      "application/javascript": [
       "(function(root) {\n",
       "  function embed_document(root) {\n",
       "    \n",
       "  var docs_json = {\"09bf700b-8969-4074-bd62-36deb7cd1de9\":{\"roots\":{\"references\":[{\"attributes\":{\"below\":[{\"id\":\"60548\"}],\"center\":[{\"id\":\"60550\"},{\"id\":\"60554\"},{\"id\":\"60566\"}],\"left\":[{\"id\":\"60551\"}],\"plot_height\":400,\"plot_width\":700,\"renderers\":[{\"id\":\"60559\"},{\"id\":\"60571\"}],\"title\":{\"id\":\"60538\"},\"toolbar\":{\"id\":\"60555\"},\"toolbar_location\":null,\"x_range\":{\"id\":\"60540\"},\"x_scale\":{\"id\":\"60544\"},\"y_range\":{\"id\":\"60542\"},\"y_scale\":{\"id\":\"60546\"}},\"id\":\"60537\",\"subtype\":\"Figure\",\"type\":\"Plot\"},{\"attributes\":{\"active_drag\":\"auto\",\"active_inspect\":\"auto\",\"active_multi\":null,\"active_scroll\":\"auto\",\"active_tap\":\"auto\"},\"id\":\"60555\",\"type\":\"Toolbar\"},{\"attributes\":{\"source\":{\"id\":\"60556\"}},\"id\":\"60560\",\"type\":\"CDSView\"},{\"attributes\":{\"end\":13,\"start\":0},\"id\":\"60542\",\"type\":\"DataRange1d\"},{\"attributes\":{\"line_alpha\":{\"value\":0.1},\"line_color\":{\"value\":\"red\"},\"line_width\":{\"value\":2},\"x\":{\"field\":\"x\"},\"y\":{\"field\":\"y\"}},\"id\":\"60558\",\"type\":\"Step\"},{\"attributes\":{},\"id\":\"60563\",\"type\":\"CategoricalTickFormatter\"},{\"attributes\":{},\"id\":\"60565\",\"type\":\"BasicTickFormatter\"},{\"attributes\":{\"line_alpha\":{\"value\":0.8},\"line_color\":{\"value\":\"red\"},\"line_width\":{\"value\":2},\"x\":{\"field\":\"x\"},\"y\":{\"field\":\"y\"}},\"id\":\"60557\",\"type\":\"Step\"},{\"attributes\":{},\"id\":\"60552\",\"type\":\"BasicTicker\"},{\"attributes\":{\"items\":[{\"id\":\"60567\"}]},\"id\":\"60566\",\"type\":\"Legend\"},{\"attributes\":{\"axis\":{\"id\":\"60551\"},\"dimension\":1,\"grid_line_color\":null,\"ticker\":null},\"id\":\"60554\",\"type\":\"Grid\"},{\"attributes\":{\"label\":{\"value\":\"Moyenne de tous les d\\u00e9put\\u00e9s\"},\"renderers\":[{\"id\":\"60559\"}]},\"id\":\"60567\",\"type\":\"LegendItem\"},{\"attributes\":{\"data\":{\"top\":[0,0,0,0,0,0,0,0,0,0,3,8,11,0,3,13,3,26,4,4,4,2,3,5,6,3,0,0,0,0,0,5,3,0,0,0],\"x\":[\"2017-07\",\"2017-08\",\"2017-09\",\"2017-10\",\"2017-11\",\"2017-12\",\"2018-01\",\"2018-02\",\"2018-03\",\"2018-04\",\"2018-05\",\"2018-06\",\"2018-07\",\"2018-08\",\"2018-09\",\"2018-10\",\"2018-11\",\"2018-12\",\"2019-01\",\"2019-02\",\"2019-03\",\"2019-04\",\"2019-05\",\"2019-06\",\"2019-07\",\"2019-09\",\"2019-10\",\"2019-11\",\"2019-12\",\"2020-01\",\"2020-02\",\"2020-03\",\"2020-04\",\"2020-05\",\"2020-06\",\"2020-07\"]},\"selected\":{\"id\":\"61526\"},\"selection_policy\":{\"id\":\"61525\"}},\"id\":\"60568\",\"type\":\"ColumnDataSource\"},{\"attributes\":{\"factors\":[\"2017-07\",\"2017-08\",\"2017-09\",\"2017-10\",\"2017-11\",\"2017-12\",\"2018-01\",\"2018-02\",\"2018-03\",\"2018-04\",\"2018-05\",\"2018-06\",\"2018-07\",\"2018-08\",\"2018-09\",\"2018-10\",\"2018-11\",\"2018-12\",\"2019-01\",\"2019-02\",\"2019-03\",\"2019-04\",\"2019-05\",\"2019-06\",\"2019-07\",\"2019-09\",\"2019-10\",\"2019-11\",\"2019-12\",\"2020-01\",\"2020-02\",\"2020-03\",\"2020-04\",\"2020-05\",\"2020-06\",\"2020-07\"]},\"id\":\"60540\",\"type\":\"FactorRange\"},{\"attributes\":{\"formatter\":{\"id\":\"60565\"},\"ticker\":{\"id\":\"60552\"}},\"id\":\"60551\",\"type\":\"LinearAxis\"},{\"attributes\":{\"data_source\":{\"id\":\"60568\"},\"glyph\":{\"id\":\"60569\"},\"hover_glyph\":null,\"muted_glyph\":null,\"nonselection_glyph\":{\"id\":\"60570\"},\"selection_glyph\":null,\"view\":{\"id\":\"60572\"}},\"id\":\"60571\",\"type\":\"GlyphRenderer\"},{\"attributes\":{\"formatter\":{\"id\":\"60563\"},\"major_label_orientation\":\"vertical\",\"ticker\":{\"id\":\"60549\"}},\"id\":\"60548\",\"type\":\"CategoricalAxis\"},{\"attributes\":{\"axis\":{\"id\":\"60548\"},\"grid_line_color\":null,\"ticker\":null},\"id\":\"60550\",\"type\":\"Grid\"},{\"attributes\":{\"fill_alpha\":{\"value\":0.1},\"fill_color\":{\"value\":\"#1f77b4\"},\"line_alpha\":{\"value\":0.1},\"line_color\":{\"value\":\"#1f77b4\"},\"top\":{\"field\":\"top\"},\"width\":{\"value\":1},\"x\":{\"field\":\"x\"}},\"id\":\"60570\",\"type\":\"VBar\"},{\"attributes\":{},\"id\":\"60549\",\"type\":\"CategoricalTicker\"},{\"attributes\":{\"source\":{\"id\":\"60568\"}},\"id\":\"60572\",\"type\":\"CDSView\"},{\"attributes\":{\"fill_alpha\":{\"value\":0.5},\"fill_color\":{\"value\":\"#1f77b4\"},\"line_alpha\":{\"value\":0.5},\"line_color\":{\"value\":\"#1f77b4\"},\"top\":{\"field\":\"top\"},\"width\":{\"value\":1},\"x\":{\"field\":\"x\"}},\"id\":\"60569\",\"type\":\"VBar\"},{\"attributes\":{},\"id\":\"60546\",\"type\":\"LinearScale\"},{\"attributes\":{},\"id\":\"61524\",\"type\":\"Selection\"},{\"attributes\":{},\"id\":\"60544\",\"type\":\"CategoricalScale\"},{\"attributes\":{},\"id\":\"61525\",\"type\":\"UnionRenderers\"},{\"attributes\":{\"data_source\":{\"id\":\"60556\"},\"glyph\":{\"id\":\"60557\"},\"hover_glyph\":null,\"muted_glyph\":null,\"nonselection_glyph\":{\"id\":\"60558\"},\"selection_glyph\":null,\"view\":{\"id\":\"60560\"}},\"id\":\"60559\",\"type\":\"GlyphRenderer\"},{\"attributes\":{},\"id\":\"61526\",\"type\":\"Selection\"},{\"attributes\":{\"data\":{\"x\":[\"2017-07\",\"2017-08\",\"2017-09\",\"2017-10\",\"2017-11\",\"2017-12\",\"2018-01\",\"2018-02\",\"2018-03\",\"2018-04\",\"2018-05\",\"2018-06\",\"2018-07\",\"2018-08\",\"2018-09\",\"2018-10\",\"2018-11\",\"2018-12\",\"2019-01\",\"2019-02\",\"2019-03\",\"2019-04\",\"2019-05\",\"2019-06\",\"2019-07\",\"2019-09\",\"2019-10\",\"2019-11\",\"2019-12\",\"2020-01\",\"2020-02\",\"2020-03\",\"2020-04\",\"2020-05\",\"2020-06\",\"2020-07\"],\"y\":[33.831889081455806,7.630849220103986,3.766031195840555,18.69150779896014,16.75216637781629,6.53206239168111,5.1871750433275565,6.551126516464471,6.1282495667244365,31.03639514731369,27.578856152512998,31.18370883882149,23.10745233968804,1.0190641247833623,8.232235701906413,24.18370883882149,22.161178509532064,18.47313691507799,8.849220103986136,9.674176776429809,14.27209705372617,4.3847487001733105,11.608318890814559,10.979202772963605,9.859618717504333,8.25476603119584,23.285961871750434,12.133448873483536,12.519930675909878,4.126516464471404,49.71750433275563,8.876949740034663,3.9740034662045063,8.646447140381282,15.558058925476603,3.4298093587521663]},\"selected\":{\"id\":\"61524\"},\"selection_policy\":{\"id\":\"61523\"}},\"id\":\"60556\",\"type\":\"ColumnDataSource\"},{\"attributes\":{\"text\":\"Votes par mois pour Sylvain Brial avec 106 votes\"},\"id\":\"60538\",\"type\":\"Title\"},{\"attributes\":{},\"id\":\"61523\",\"type\":\"UnionRenderers\"}],\"root_ids\":[\"60537\"]},\"title\":\"Bokeh Application\",\"version\":\"2.0.1\"}};\n",
       "  var render_items = [{\"docid\":\"09bf700b-8969-4074-bd62-36deb7cd1de9\",\"root_ids\":[\"60537\"],\"roots\":{\"60537\":\"4ce908d2-49d9-49c3-b589-5ed98eb3bfc2\"}}];\n",
       "  root.Bokeh.embed.embed_items_notebook(docs_json, render_items);\n",
       "\n",
       "  }\n",
       "  if (root.Bokeh !== undefined) {\n",
       "    embed_document(root);\n",
       "  } else {\n",
       "    var attempts = 0;\n",
       "    var timer = setInterval(function(root) {\n",
       "      if (root.Bokeh !== undefined) {\n",
       "        clearInterval(timer);\n",
       "        embed_document(root);\n",
       "      } else {\n",
       "        attempts++;\n",
       "        if (attempts > 100) {\n",
       "          clearInterval(timer);\n",
       "          console.log(\"Bokeh: ERROR: Unable to run BokehJS code because BokehJS library is missing\");\n",
       "        }\n",
       "      }\n",
       "    }, 10, root)\n",
       "  }\n",
       "})(window);"
      ],
      "application/vnd.bokehjs_exec.v0+json": ""
     },
     "metadata": {
      "application/vnd.bokehjs_exec.v0+json": {
       "id": "60537"
      }
     },
     "output_type": "display_data"
    },
    {
     "data": {
      "text/html": [
       "\n",
       "\n",
       "\n",
       "\n",
       "\n",
       "\n",
       "  <div class=\"bk-root\" id=\"874c1772-2cdc-40b6-8d06-dc25ee6473d0\" data-root-id=\"61581\"></div>\n"
      ]
     },
     "metadata": {},
     "output_type": "display_data"
    },
    {
     "data": {
      "application/javascript": [
       "(function(root) {\n",
       "  function embed_document(root) {\n",
       "    \n",
       "  var docs_json = {\"c4bc0e13-6091-48e0-80b2-ac9434f692a2\":{\"roots\":{\"references\":[{\"attributes\":{\"below\":[{\"id\":\"61592\"}],\"center\":[{\"id\":\"61594\"},{\"id\":\"61598\"},{\"id\":\"61610\"}],\"left\":[{\"id\":\"61595\"}],\"plot_height\":400,\"plot_width\":700,\"renderers\":[{\"id\":\"61603\"},{\"id\":\"61615\"}],\"title\":{\"id\":\"61582\"},\"toolbar\":{\"id\":\"61599\"},\"toolbar_location\":null,\"x_range\":{\"id\":\"61584\"},\"x_scale\":{\"id\":\"61588\"},\"y_range\":{\"id\":\"61586\"},\"y_scale\":{\"id\":\"61590\"}},\"id\":\"61581\",\"subtype\":\"Figure\",\"type\":\"Plot\"},{\"attributes\":{\"source\":{\"id\":\"61612\"}},\"id\":\"61616\",\"type\":\"CDSView\"},{\"attributes\":{\"formatter\":{\"id\":\"61609\"},\"ticker\":{\"id\":\"61596\"}},\"id\":\"61595\",\"type\":\"LinearAxis\"},{\"attributes\":{\"label\":{\"value\":\"Moyenne de tous les d\\u00e9put\\u00e9s\"},\"renderers\":[{\"id\":\"61603\"}]},\"id\":\"61611\",\"type\":\"LegendItem\"},{\"attributes\":{\"data_source\":{\"id\":\"61612\"},\"glyph\":{\"id\":\"61613\"},\"hover_glyph\":null,\"muted_glyph\":null,\"nonselection_glyph\":{\"id\":\"61614\"},\"selection_glyph\":null,\"view\":{\"id\":\"61616\"}},\"id\":\"61615\",\"type\":\"GlyphRenderer\"},{\"attributes\":{\"items\":[{\"id\":\"61611\"}]},\"id\":\"61610\",\"type\":\"Legend\"},{\"attributes\":{},\"id\":\"62576\",\"type\":\"UnionRenderers\"},{\"attributes\":{\"axis\":{\"id\":\"61595\"},\"dimension\":1,\"grid_line_color\":null,\"ticker\":null},\"id\":\"61598\",\"type\":\"Grid\"},{\"attributes\":{},\"id\":\"62577\",\"type\":\"Selection\"},{\"attributes\":{},\"id\":\"61596\",\"type\":\"BasicTicker\"},{\"attributes\":{},\"id\":\"62578\",\"type\":\"UnionRenderers\"},{\"attributes\":{},\"id\":\"62579\",\"type\":\"Selection\"},{\"attributes\":{\"axis\":{\"id\":\"61592\"},\"grid_line_color\":null,\"ticker\":null},\"id\":\"61594\",\"type\":\"Grid\"},{\"attributes\":{},\"id\":\"61593\",\"type\":\"CategoricalTicker\"},{\"attributes\":{\"formatter\":{\"id\":\"61607\"},\"major_label_orientation\":\"vertical\",\"ticker\":{\"id\":\"61593\"}},\"id\":\"61592\",\"type\":\"CategoricalAxis\"},{\"attributes\":{},\"id\":\"61590\",\"type\":\"LinearScale\"},{\"attributes\":{\"fill_alpha\":{\"value\":0.1},\"fill_color\":{\"value\":\"#1f77b4\"},\"line_alpha\":{\"value\":0.1},\"line_color\":{\"value\":\"#1f77b4\"},\"top\":{\"field\":\"top\"},\"width\":{\"value\":1},\"x\":{\"field\":\"x\"}},\"id\":\"61614\",\"type\":\"VBar\"},{\"attributes\":{},\"id\":\"61588\",\"type\":\"CategoricalScale\"},{\"attributes\":{\"end\":13,\"start\":0},\"id\":\"61586\",\"type\":\"DataRange1d\"},{\"attributes\":{\"factors\":[\"2017-07\",\"2017-08\",\"2017-09\",\"2017-10\",\"2017-11\",\"2017-12\",\"2018-01\",\"2018-02\",\"2018-03\",\"2018-04\",\"2018-05\",\"2018-06\",\"2018-07\",\"2018-08\",\"2018-09\",\"2018-10\",\"2018-11\",\"2018-12\",\"2019-01\",\"2019-02\",\"2019-03\",\"2019-04\",\"2019-05\",\"2019-06\",\"2019-07\",\"2019-09\",\"2019-10\",\"2019-11\",\"2019-12\",\"2020-01\",\"2020-02\",\"2020-03\",\"2020-04\",\"2020-05\",\"2020-06\",\"2020-07\"]},\"id\":\"61584\",\"type\":\"FactorRange\"},{\"attributes\":{\"data\":{\"x\":[\"2017-07\",\"2017-08\",\"2017-09\",\"2017-10\",\"2017-11\",\"2017-12\",\"2018-01\",\"2018-02\",\"2018-03\",\"2018-04\",\"2018-05\",\"2018-06\",\"2018-07\",\"2018-08\",\"2018-09\",\"2018-10\",\"2018-11\",\"2018-12\",\"2019-01\",\"2019-02\",\"2019-03\",\"2019-04\",\"2019-05\",\"2019-06\",\"2019-07\",\"2019-09\",\"2019-10\",\"2019-11\",\"2019-12\",\"2020-01\",\"2020-02\",\"2020-03\",\"2020-04\",\"2020-05\",\"2020-06\",\"2020-07\"],\"y\":[33.831889081455806,7.630849220103986,3.766031195840555,18.69150779896014,16.75216637781629,6.53206239168111,5.1871750433275565,6.551126516464471,6.1282495667244365,31.03639514731369,27.578856152512998,31.18370883882149,23.10745233968804,1.0190641247833623,8.232235701906413,24.18370883882149,22.161178509532064,18.47313691507799,8.849220103986136,9.674176776429809,14.27209705372617,4.3847487001733105,11.608318890814559,10.979202772963605,9.859618717504333,8.25476603119584,23.285961871750434,12.133448873483536,12.519930675909878,4.126516464471404,49.71750433275563,8.876949740034663,3.9740034662045063,8.646447140381282,15.558058925476603,3.4298093587521663]},\"selected\":{\"id\":\"62577\"},\"selection_policy\":{\"id\":\"62576\"}},\"id\":\"61600\",\"type\":\"ColumnDataSource\"},{\"attributes\":{\"text\":\"Votes par mois pour Jean-Luc Poudroux avec 108 votes\"},\"id\":\"61582\",\"type\":\"Title\"},{\"attributes\":{},\"id\":\"61607\",\"type\":\"CategoricalTickFormatter\"},{\"attributes\":{\"data\":{\"top\":[0,0,0,0,0,0,0,0,0,0,0,0,0,0,0,14,3,3,4,4,3,2,3,4,2,4,12,5,2,0,8,6,4,9,16,0],\"x\":[\"2017-07\",\"2017-08\",\"2017-09\",\"2017-10\",\"2017-11\",\"2017-12\",\"2018-01\",\"2018-02\",\"2018-03\",\"2018-04\",\"2018-05\",\"2018-06\",\"2018-07\",\"2018-08\",\"2018-09\",\"2018-10\",\"2018-11\",\"2018-12\",\"2019-01\",\"2019-02\",\"2019-03\",\"2019-04\",\"2019-05\",\"2019-06\",\"2019-07\",\"2019-09\",\"2019-10\",\"2019-11\",\"2019-12\",\"2020-01\",\"2020-02\",\"2020-03\",\"2020-04\",\"2020-05\",\"2020-06\",\"2020-07\"]},\"selected\":{\"id\":\"62579\"},\"selection_policy\":{\"id\":\"62578\"}},\"id\":\"61612\",\"type\":\"ColumnDataSource\"},{\"attributes\":{\"line_alpha\":{\"value\":0.8},\"line_color\":{\"value\":\"red\"},\"line_width\":{\"value\":2},\"x\":{\"field\":\"x\"},\"y\":{\"field\":\"y\"}},\"id\":\"61601\",\"type\":\"Step\"},{\"attributes\":{},\"id\":\"61609\",\"type\":\"BasicTickFormatter\"},{\"attributes\":{\"fill_alpha\":{\"value\":0.5},\"fill_color\":{\"value\":\"#1f77b4\"},\"line_alpha\":{\"value\":0.5},\"line_color\":{\"value\":\"#1f77b4\"},\"top\":{\"field\":\"top\"},\"width\":{\"value\":1},\"x\":{\"field\":\"x\"}},\"id\":\"61613\",\"type\":\"VBar\"},{\"attributes\":{\"data_source\":{\"id\":\"61600\"},\"glyph\":{\"id\":\"61601\"},\"hover_glyph\":null,\"muted_glyph\":null,\"nonselection_glyph\":{\"id\":\"61602\"},\"selection_glyph\":null,\"view\":{\"id\":\"61604\"}},\"id\":\"61603\",\"type\":\"GlyphRenderer\"},{\"attributes\":{\"active_drag\":\"auto\",\"active_inspect\":\"auto\",\"active_multi\":null,\"active_scroll\":\"auto\",\"active_tap\":\"auto\"},\"id\":\"61599\",\"type\":\"Toolbar\"},{\"attributes\":{\"line_alpha\":{\"value\":0.1},\"line_color\":{\"value\":\"red\"},\"line_width\":{\"value\":2},\"x\":{\"field\":\"x\"},\"y\":{\"field\":\"y\"}},\"id\":\"61602\",\"type\":\"Step\"},{\"attributes\":{\"source\":{\"id\":\"61600\"}},\"id\":\"61604\",\"type\":\"CDSView\"}],\"root_ids\":[\"61581\"]},\"title\":\"Bokeh Application\",\"version\":\"2.0.1\"}};\n",
       "  var render_items = [{\"docid\":\"c4bc0e13-6091-48e0-80b2-ac9434f692a2\",\"root_ids\":[\"61581\"],\"roots\":{\"61581\":\"874c1772-2cdc-40b6-8d06-dc25ee6473d0\"}}];\n",
       "  root.Bokeh.embed.embed_items_notebook(docs_json, render_items);\n",
       "\n",
       "  }\n",
       "  if (root.Bokeh !== undefined) {\n",
       "    embed_document(root);\n",
       "  } else {\n",
       "    var attempts = 0;\n",
       "    var timer = setInterval(function(root) {\n",
       "      if (root.Bokeh !== undefined) {\n",
       "        clearInterval(timer);\n",
       "        embed_document(root);\n",
       "      } else {\n",
       "        attempts++;\n",
       "        if (attempts > 100) {\n",
       "          clearInterval(timer);\n",
       "          console.log(\"Bokeh: ERROR: Unable to run BokehJS code because BokehJS library is missing\");\n",
       "        }\n",
       "      }\n",
       "    }, 10, root)\n",
       "  }\n",
       "})(window);"
      ],
      "application/vnd.bokehjs_exec.v0+json": ""
     },
     "metadata": {
      "application/vnd.bokehjs_exec.v0+json": {
       "id": "61581"
      }
     },
     "output_type": "display_data"
    },
    {
     "data": {
      "text/html": [
       "\n",
       "\n",
       "\n",
       "\n",
       "\n",
       "\n",
       "  <div class=\"bk-root\" id=\"cd8de748-bb93-4b3c-bc8a-541ea9d9ee0d\" data-root-id=\"62634\"></div>\n"
      ]
     },
     "metadata": {},
     "output_type": "display_data"
    },
    {
     "data": {
      "application/javascript": [
       "(function(root) {\n",
       "  function embed_document(root) {\n",
       "    \n",
       "  var docs_json = {\"a8f8c44b-1c4d-4ee5-9ab9-1347fda93925\":{\"roots\":{\"references\":[{\"attributes\":{\"below\":[{\"id\":\"62645\"}],\"center\":[{\"id\":\"62647\"},{\"id\":\"62651\"},{\"id\":\"62663\"}],\"left\":[{\"id\":\"62648\"}],\"plot_height\":400,\"plot_width\":700,\"renderers\":[{\"id\":\"62656\"},{\"id\":\"62668\"}],\"title\":{\"id\":\"62635\"},\"toolbar\":{\"id\":\"62652\"},\"toolbar_location\":null,\"x_range\":{\"id\":\"62637\"},\"x_scale\":{\"id\":\"62641\"},\"y_range\":{\"id\":\"62639\"},\"y_scale\":{\"id\":\"62643\"}},\"id\":\"62634\",\"subtype\":\"Figure\",\"type\":\"Plot\"},{\"attributes\":{},\"id\":\"62643\",\"type\":\"LinearScale\"},{\"attributes\":{\"source\":{\"id\":\"62665\"}},\"id\":\"62669\",\"type\":\"CDSView\"},{\"attributes\":{},\"id\":\"63641\",\"type\":\"Selection\"},{\"attributes\":{\"end\":13,\"start\":0},\"id\":\"62639\",\"type\":\"DataRange1d\"},{\"attributes\":{\"factors\":[\"2017-07\",\"2017-08\",\"2017-09\",\"2017-10\",\"2017-11\",\"2017-12\",\"2018-01\",\"2018-02\",\"2018-03\",\"2018-04\",\"2018-05\",\"2018-06\",\"2018-07\",\"2018-08\",\"2018-09\",\"2018-10\",\"2018-11\",\"2018-12\",\"2019-01\",\"2019-02\",\"2019-03\",\"2019-04\",\"2019-05\",\"2019-06\",\"2019-07\",\"2019-09\",\"2019-10\",\"2019-11\",\"2019-12\",\"2020-01\",\"2020-02\",\"2020-03\",\"2020-04\",\"2020-05\",\"2020-06\",\"2020-07\"]},\"id\":\"62637\",\"type\":\"FactorRange\"},{\"attributes\":{\"text\":\"Votes par mois pour Franck Marlin avec 114 votes\"},\"id\":\"62635\",\"type\":\"Title\"},{\"attributes\":{},\"id\":\"63639\",\"type\":\"Selection\"},{\"attributes\":{},\"id\":\"63638\",\"type\":\"UnionRenderers\"},{\"attributes\":{},\"id\":\"63640\",\"type\":\"UnionRenderers\"},{\"attributes\":{\"fill_alpha\":{\"value\":0.5},\"fill_color\":{\"value\":\"#1f77b4\"},\"line_alpha\":{\"value\":0.5},\"line_color\":{\"value\":\"#1f77b4\"},\"top\":{\"field\":\"top\"},\"width\":{\"value\":1},\"x\":{\"field\":\"x\"}},\"id\":\"62666\",\"type\":\"VBar\"},{\"attributes\":{\"active_drag\":\"auto\",\"active_inspect\":\"auto\",\"active_multi\":null,\"active_scroll\":\"auto\",\"active_tap\":\"auto\"},\"id\":\"62652\",\"type\":\"Toolbar\"},{\"attributes\":{\"fill_alpha\":{\"value\":0.1},\"fill_color\":{\"value\":\"#1f77b4\"},\"line_alpha\":{\"value\":0.1},\"line_color\":{\"value\":\"#1f77b4\"},\"top\":{\"field\":\"top\"},\"width\":{\"value\":1},\"x\":{\"field\":\"x\"}},\"id\":\"62667\",\"type\":\"VBar\"},{\"attributes\":{\"data\":{\"top\":[2,4,0,5,2,3,2,2,3,2,2,4,2,0,2,4,2,3,3,4,2,2,2,4,3,3,7,3,2,0,0,6,4,9,16,0],\"x\":[\"2017-07\",\"2017-08\",\"2017-09\",\"2017-10\",\"2017-11\",\"2017-12\",\"2018-01\",\"2018-02\",\"2018-03\",\"2018-04\",\"2018-05\",\"2018-06\",\"2018-07\",\"2018-08\",\"2018-09\",\"2018-10\",\"2018-11\",\"2018-12\",\"2019-01\",\"2019-02\",\"2019-03\",\"2019-04\",\"2019-05\",\"2019-06\",\"2019-07\",\"2019-09\",\"2019-10\",\"2019-11\",\"2019-12\",\"2020-01\",\"2020-02\",\"2020-03\",\"2020-04\",\"2020-05\",\"2020-06\",\"2020-07\"]},\"selected\":{\"id\":\"63641\"},\"selection_policy\":{\"id\":\"63640\"}},\"id\":\"62665\",\"type\":\"ColumnDataSource\"},{\"attributes\":{},\"id\":\"62660\",\"type\":\"CategoricalTickFormatter\"},{\"attributes\":{\"data\":{\"x\":[\"2017-07\",\"2017-08\",\"2017-09\",\"2017-10\",\"2017-11\",\"2017-12\",\"2018-01\",\"2018-02\",\"2018-03\",\"2018-04\",\"2018-05\",\"2018-06\",\"2018-07\",\"2018-08\",\"2018-09\",\"2018-10\",\"2018-11\",\"2018-12\",\"2019-01\",\"2019-02\",\"2019-03\",\"2019-04\",\"2019-05\",\"2019-06\",\"2019-07\",\"2019-09\",\"2019-10\",\"2019-11\",\"2019-12\",\"2020-01\",\"2020-02\",\"2020-03\",\"2020-04\",\"2020-05\",\"2020-06\",\"2020-07\"],\"y\":[33.831889081455806,7.630849220103986,3.766031195840555,18.69150779896014,16.75216637781629,6.53206239168111,5.1871750433275565,6.551126516464471,6.1282495667244365,31.03639514731369,27.578856152512998,31.18370883882149,23.10745233968804,1.0190641247833623,8.232235701906413,24.18370883882149,22.161178509532064,18.47313691507799,8.849220103986136,9.674176776429809,14.27209705372617,4.3847487001733105,11.608318890814559,10.979202772963605,9.859618717504333,8.25476603119584,23.285961871750434,12.133448873483536,12.519930675909878,4.126516464471404,49.71750433275563,8.876949740034663,3.9740034662045063,8.646447140381282,15.558058925476603,3.4298093587521663]},\"selected\":{\"id\":\"63639\"},\"selection_policy\":{\"id\":\"63638\"}},\"id\":\"62653\",\"type\":\"ColumnDataSource\"},{\"attributes\":{\"line_alpha\":{\"value\":0.1},\"line_color\":{\"value\":\"red\"},\"line_width\":{\"value\":2},\"x\":{\"field\":\"x\"},\"y\":{\"field\":\"y\"}},\"id\":\"62655\",\"type\":\"Step\"},{\"attributes\":{\"data_source\":{\"id\":\"62665\"},\"glyph\":{\"id\":\"62666\"},\"hover_glyph\":null,\"muted_glyph\":null,\"nonselection_glyph\":{\"id\":\"62667\"},\"selection_glyph\":null,\"view\":{\"id\":\"62669\"}},\"id\":\"62668\",\"type\":\"GlyphRenderer\"},{\"attributes\":{},\"id\":\"62662\",\"type\":\"BasicTickFormatter\"},{\"attributes\":{\"data_source\":{\"id\":\"62653\"},\"glyph\":{\"id\":\"62654\"},\"hover_glyph\":null,\"muted_glyph\":null,\"nonselection_glyph\":{\"id\":\"62655\"},\"selection_glyph\":null,\"view\":{\"id\":\"62657\"}},\"id\":\"62656\",\"type\":\"GlyphRenderer\"},{\"attributes\":{},\"id\":\"62649\",\"type\":\"BasicTicker\"},{\"attributes\":{\"axis\":{\"id\":\"62648\"},\"dimension\":1,\"grid_line_color\":null,\"ticker\":null},\"id\":\"62651\",\"type\":\"Grid\"},{\"attributes\":{\"line_alpha\":{\"value\":0.8},\"line_color\":{\"value\":\"red\"},\"line_width\":{\"value\":2},\"x\":{\"field\":\"x\"},\"y\":{\"field\":\"y\"}},\"id\":\"62654\",\"type\":\"Step\"},{\"attributes\":{\"source\":{\"id\":\"62653\"}},\"id\":\"62657\",\"type\":\"CDSView\"},{\"attributes\":{\"formatter\":{\"id\":\"62662\"},\"ticker\":{\"id\":\"62649\"}},\"id\":\"62648\",\"type\":\"LinearAxis\"},{\"attributes\":{\"label\":{\"value\":\"Moyenne de tous les d\\u00e9put\\u00e9s\"},\"renderers\":[{\"id\":\"62656\"}]},\"id\":\"62664\",\"type\":\"LegendItem\"},{\"attributes\":{\"axis\":{\"id\":\"62645\"},\"grid_line_color\":null,\"ticker\":null},\"id\":\"62647\",\"type\":\"Grid\"},{\"attributes\":{},\"id\":\"62646\",\"type\":\"CategoricalTicker\"},{\"attributes\":{\"items\":[{\"id\":\"62664\"}]},\"id\":\"62663\",\"type\":\"Legend\"},{\"attributes\":{},\"id\":\"62641\",\"type\":\"CategoricalScale\"},{\"attributes\":{\"formatter\":{\"id\":\"62660\"},\"major_label_orientation\":\"vertical\",\"ticker\":{\"id\":\"62646\"}},\"id\":\"62645\",\"type\":\"CategoricalAxis\"}],\"root_ids\":[\"62634\"]},\"title\":\"Bokeh Application\",\"version\":\"2.0.1\"}};\n",
       "  var render_items = [{\"docid\":\"a8f8c44b-1c4d-4ee5-9ab9-1347fda93925\",\"root_ids\":[\"62634\"],\"roots\":{\"62634\":\"cd8de748-bb93-4b3c-bc8a-541ea9d9ee0d\"}}];\n",
       "  root.Bokeh.embed.embed_items_notebook(docs_json, render_items);\n",
       "\n",
       "  }\n",
       "  if (root.Bokeh !== undefined) {\n",
       "    embed_document(root);\n",
       "  } else {\n",
       "    var attempts = 0;\n",
       "    var timer = setInterval(function(root) {\n",
       "      if (root.Bokeh !== undefined) {\n",
       "        clearInterval(timer);\n",
       "        embed_document(root);\n",
       "      } else {\n",
       "        attempts++;\n",
       "        if (attempts > 100) {\n",
       "          clearInterval(timer);\n",
       "          console.log(\"Bokeh: ERROR: Unable to run BokehJS code because BokehJS library is missing\");\n",
       "        }\n",
       "      }\n",
       "    }, 10, root)\n",
       "  }\n",
       "})(window);"
      ],
      "application/vnd.bokehjs_exec.v0+json": ""
     },
     "metadata": {
      "application/vnd.bokehjs_exec.v0+json": {
       "id": "62634"
      }
     },
     "output_type": "display_data"
    },
    {
     "data": {
      "text/html": [
       "\n",
       "\n",
       "\n",
       "\n",
       "\n",
       "\n",
       "  <div class=\"bk-root\" id=\"2dbed7a5-1d23-4728-8b7b-948c4dbc1f4e\" data-root-id=\"63696\"></div>\n"
      ]
     },
     "metadata": {},
     "output_type": "display_data"
    },
    {
     "data": {
      "application/javascript": [
       "(function(root) {\n",
       "  function embed_document(root) {\n",
       "    \n",
       "  var docs_json = {\"58c9c2ea-6b60-45dc-bd6b-2f7ace8f3320\":{\"roots\":{\"references\":[{\"attributes\":{\"below\":[{\"id\":\"63707\"}],\"center\":[{\"id\":\"63709\"},{\"id\":\"63713\"},{\"id\":\"63725\"}],\"left\":[{\"id\":\"63710\"}],\"plot_height\":400,\"plot_width\":700,\"renderers\":[{\"id\":\"63718\"},{\"id\":\"63730\"}],\"title\":{\"id\":\"63697\"},\"toolbar\":{\"id\":\"63714\"},\"toolbar_location\":null,\"x_range\":{\"id\":\"63699\"},\"x_scale\":{\"id\":\"63703\"},\"y_range\":{\"id\":\"63701\"},\"y_scale\":{\"id\":\"63705\"}},\"id\":\"63696\",\"subtype\":\"Figure\",\"type\":\"Plot\"},{\"attributes\":{\"data\":{\"x\":[\"2017-07\",\"2017-08\",\"2017-09\",\"2017-10\",\"2017-11\",\"2017-12\",\"2018-01\",\"2018-02\",\"2018-03\",\"2018-04\",\"2018-05\",\"2018-06\",\"2018-07\",\"2018-08\",\"2018-09\",\"2018-10\",\"2018-11\",\"2018-12\",\"2019-01\",\"2019-02\",\"2019-03\",\"2019-04\",\"2019-05\",\"2019-06\",\"2019-07\",\"2019-09\",\"2019-10\",\"2019-11\",\"2019-12\",\"2020-01\",\"2020-02\",\"2020-03\",\"2020-04\",\"2020-05\",\"2020-06\",\"2020-07\"],\"y\":[33.831889081455806,7.630849220103986,3.766031195840555,18.69150779896014,16.75216637781629,6.53206239168111,5.1871750433275565,6.551126516464471,6.1282495667244365,31.03639514731369,27.578856152512998,31.18370883882149,23.10745233968804,1.0190641247833623,8.232235701906413,24.18370883882149,22.161178509532064,18.47313691507799,8.849220103986136,9.674176776429809,14.27209705372617,4.3847487001733105,11.608318890814559,10.979202772963605,9.859618717504333,8.25476603119584,23.285961871750434,12.133448873483536,12.519930675909878,4.126516464471404,49.71750433275563,8.876949740034663,3.9740034662045063,8.646447140381282,15.558058925476603,3.4298093587521663]},\"selected\":{\"id\":\"64710\"},\"selection_policy\":{\"id\":\"64709\"}},\"id\":\"63715\",\"type\":\"ColumnDataSource\"},{\"attributes\":{},\"id\":\"64712\",\"type\":\"Selection\"},{\"attributes\":{},\"id\":\"64711\",\"type\":\"UnionRenderers\"},{\"attributes\":{},\"id\":\"64710\",\"type\":\"Selection\"},{\"attributes\":{\"active_drag\":\"auto\",\"active_inspect\":\"auto\",\"active_multi\":null,\"active_scroll\":\"auto\",\"active_tap\":\"auto\"},\"id\":\"63714\",\"type\":\"Toolbar\"},{\"attributes\":{},\"id\":\"63722\",\"type\":\"CategoricalTickFormatter\"},{\"attributes\":{\"axis\":{\"id\":\"63707\"},\"grid_line_color\":null,\"ticker\":null},\"id\":\"63709\",\"type\":\"Grid\"},{\"attributes\":{\"data_source\":{\"id\":\"63715\"},\"glyph\":{\"id\":\"63716\"},\"hover_glyph\":null,\"muted_glyph\":null,\"nonselection_glyph\":{\"id\":\"63717\"},\"selection_glyph\":null,\"view\":{\"id\":\"63719\"}},\"id\":\"63718\",\"type\":\"GlyphRenderer\"},{\"attributes\":{\"axis\":{\"id\":\"63710\"},\"dimension\":1,\"grid_line_color\":null,\"ticker\":null},\"id\":\"63713\",\"type\":\"Grid\"},{\"attributes\":{\"line_alpha\":{\"value\":0.1},\"line_color\":{\"value\":\"red\"},\"line_width\":{\"value\":2},\"x\":{\"field\":\"x\"},\"y\":{\"field\":\"y\"}},\"id\":\"63717\",\"type\":\"Step\"},{\"attributes\":{},\"id\":\"63711\",\"type\":\"BasicTicker\"},{\"attributes\":{\"source\":{\"id\":\"63715\"}},\"id\":\"63719\",\"type\":\"CDSView\"},{\"attributes\":{\"line_alpha\":{\"value\":0.8},\"line_color\":{\"value\":\"red\"},\"line_width\":{\"value\":2},\"x\":{\"field\":\"x\"},\"y\":{\"field\":\"y\"}},\"id\":\"63716\",\"type\":\"Step\"},{\"attributes\":{\"formatter\":{\"id\":\"63724\"},\"ticker\":{\"id\":\"63711\"}},\"id\":\"63710\",\"type\":\"LinearAxis\"},{\"attributes\":{},\"id\":\"63724\",\"type\":\"BasicTickFormatter\"},{\"attributes\":{},\"id\":\"63708\",\"type\":\"CategoricalTicker\"},{\"attributes\":{\"items\":[{\"id\":\"63726\"}]},\"id\":\"63725\",\"type\":\"Legend\"},{\"attributes\":{\"formatter\":{\"id\":\"63722\"},\"major_label_orientation\":\"vertical\",\"ticker\":{\"id\":\"63708\"}},\"id\":\"63707\",\"type\":\"CategoricalAxis\"},{\"attributes\":{\"label\":{\"value\":\"Moyenne de tous les d\\u00e9put\\u00e9s\"},\"renderers\":[{\"id\":\"63718\"}]},\"id\":\"63726\",\"type\":\"LegendItem\"},{\"attributes\":{\"data\":{\"top\":[4,4,0,5,3,3,2,3,2,5,2,4,0,0,2,4,3,2,3,4,2,2,3,3,3,4,7,3,3,0,0,6,4,9,16,0],\"x\":[\"2017-07\",\"2017-08\",\"2017-09\",\"2017-10\",\"2017-11\",\"2017-12\",\"2018-01\",\"2018-02\",\"2018-03\",\"2018-04\",\"2018-05\",\"2018-06\",\"2018-07\",\"2018-08\",\"2018-09\",\"2018-10\",\"2018-11\",\"2018-12\",\"2019-01\",\"2019-02\",\"2019-03\",\"2019-04\",\"2019-05\",\"2019-06\",\"2019-07\",\"2019-09\",\"2019-10\",\"2019-11\",\"2019-12\",\"2020-01\",\"2020-02\",\"2020-03\",\"2020-04\",\"2020-05\",\"2020-06\",\"2020-07\"]},\"selected\":{\"id\":\"64712\"},\"selection_policy\":{\"id\":\"64711\"}},\"id\":\"63727\",\"type\":\"ColumnDataSource\"},{\"attributes\":{},\"id\":\"63705\",\"type\":\"LinearScale\"},{\"attributes\":{},\"id\":\"63703\",\"type\":\"CategoricalScale\"},{\"attributes\":{\"data_source\":{\"id\":\"63727\"},\"glyph\":{\"id\":\"63728\"},\"hover_glyph\":null,\"muted_glyph\":null,\"nonselection_glyph\":{\"id\":\"63729\"},\"selection_glyph\":null,\"view\":{\"id\":\"63731\"}},\"id\":\"63730\",\"type\":\"GlyphRenderer\"},{\"attributes\":{\"end\":13,\"start\":0},\"id\":\"63701\",\"type\":\"DataRange1d\"},{\"attributes\":{\"factors\":[\"2017-07\",\"2017-08\",\"2017-09\",\"2017-10\",\"2017-11\",\"2017-12\",\"2018-01\",\"2018-02\",\"2018-03\",\"2018-04\",\"2018-05\",\"2018-06\",\"2018-07\",\"2018-08\",\"2018-09\",\"2018-10\",\"2018-11\",\"2018-12\",\"2019-01\",\"2019-02\",\"2019-03\",\"2019-04\",\"2019-05\",\"2019-06\",\"2019-07\",\"2019-09\",\"2019-10\",\"2019-11\",\"2019-12\",\"2020-01\",\"2020-02\",\"2020-03\",\"2020-04\",\"2020-05\",\"2020-06\",\"2020-07\"]},\"id\":\"63699\",\"type\":\"FactorRange\"},{\"attributes\":{\"fill_alpha\":{\"value\":0.1},\"fill_color\":{\"value\":\"#1f77b4\"},\"line_alpha\":{\"value\":0.1},\"line_color\":{\"value\":\"#1f77b4\"},\"top\":{\"field\":\"top\"},\"width\":{\"value\":1},\"x\":{\"field\":\"x\"}},\"id\":\"63729\",\"type\":\"VBar\"},{\"attributes\":{\"text\":\"Votes par mois pour Olivier Dassault avec 120 votes\"},\"id\":\"63697\",\"type\":\"Title\"},{\"attributes\":{\"source\":{\"id\":\"63727\"}},\"id\":\"63731\",\"type\":\"CDSView\"},{\"attributes\":{},\"id\":\"64709\",\"type\":\"UnionRenderers\"},{\"attributes\":{\"fill_alpha\":{\"value\":0.5},\"fill_color\":{\"value\":\"#1f77b4\"},\"line_alpha\":{\"value\":0.5},\"line_color\":{\"value\":\"#1f77b4\"},\"top\":{\"field\":\"top\"},\"width\":{\"value\":1},\"x\":{\"field\":\"x\"}},\"id\":\"63728\",\"type\":\"VBar\"}],\"root_ids\":[\"63696\"]},\"title\":\"Bokeh Application\",\"version\":\"2.0.1\"}};\n",
       "  var render_items = [{\"docid\":\"58c9c2ea-6b60-45dc-bd6b-2f7ace8f3320\",\"root_ids\":[\"63696\"],\"roots\":{\"63696\":\"2dbed7a5-1d23-4728-8b7b-948c4dbc1f4e\"}}];\n",
       "  root.Bokeh.embed.embed_items_notebook(docs_json, render_items);\n",
       "\n",
       "  }\n",
       "  if (root.Bokeh !== undefined) {\n",
       "    embed_document(root);\n",
       "  } else {\n",
       "    var attempts = 0;\n",
       "    var timer = setInterval(function(root) {\n",
       "      if (root.Bokeh !== undefined) {\n",
       "        clearInterval(timer);\n",
       "        embed_document(root);\n",
       "      } else {\n",
       "        attempts++;\n",
       "        if (attempts > 100) {\n",
       "          clearInterval(timer);\n",
       "          console.log(\"Bokeh: ERROR: Unable to run BokehJS code because BokehJS library is missing\");\n",
       "        }\n",
       "      }\n",
       "    }, 10, root)\n",
       "  }\n",
       "})(window);"
      ],
      "application/vnd.bokehjs_exec.v0+json": ""
     },
     "metadata": {
      "application/vnd.bokehjs_exec.v0+json": {
       "id": "63696"
      }
     },
     "output_type": "display_data"
    },
    {
     "data": {
      "text/html": [
       "\n",
       "\n",
       "\n",
       "\n",
       "\n",
       "\n",
       "  <div class=\"bk-root\" id=\"1839c1bc-bb6f-41ff-85bd-2f59a14e7580\" data-root-id=\"64767\"></div>\n"
      ]
     },
     "metadata": {},
     "output_type": "display_data"
    },
    {
     "data": {
      "application/javascript": [
       "(function(root) {\n",
       "  function embed_document(root) {\n",
       "    \n",
       "  var docs_json = {\"659788f3-5164-4f12-bc4e-8e506ecef7da\":{\"roots\":{\"references\":[{\"attributes\":{\"below\":[{\"id\":\"64778\"}],\"center\":[{\"id\":\"64780\"},{\"id\":\"64784\"},{\"id\":\"64796\"}],\"left\":[{\"id\":\"64781\"}],\"plot_height\":400,\"plot_width\":700,\"renderers\":[{\"id\":\"64789\"},{\"id\":\"64801\"}],\"title\":{\"id\":\"64768\"},\"toolbar\":{\"id\":\"64785\"},\"toolbar_location\":null,\"x_range\":{\"id\":\"64770\"},\"x_scale\":{\"id\":\"64774\"},\"y_range\":{\"id\":\"64772\"},\"y_scale\":{\"id\":\"64776\"}},\"id\":\"64767\",\"subtype\":\"Figure\",\"type\":\"Plot\"},{\"attributes\":{\"data_source\":{\"id\":\"64786\"},\"glyph\":{\"id\":\"64787\"},\"hover_glyph\":null,\"muted_glyph\":null,\"nonselection_glyph\":{\"id\":\"64788\"},\"selection_glyph\":null,\"view\":{\"id\":\"64790\"}},\"id\":\"64789\",\"type\":\"GlyphRenderer\"},{\"attributes\":{},\"id\":\"64793\",\"type\":\"CategoricalTickFormatter\"},{\"attributes\":{\"line_alpha\":{\"value\":0.1},\"line_color\":{\"value\":\"red\"},\"line_width\":{\"value\":2},\"x\":{\"field\":\"x\"},\"y\":{\"field\":\"y\"}},\"id\":\"64788\",\"type\":\"Step\"},{\"attributes\":{\"axis\":{\"id\":\"64781\"},\"dimension\":1,\"grid_line_color\":null,\"ticker\":null},\"id\":\"64784\",\"type\":\"Grid\"},{\"attributes\":{\"source\":{\"id\":\"64786\"}},\"id\":\"64790\",\"type\":\"CDSView\"},{\"attributes\":{},\"id\":\"64782\",\"type\":\"BasicTicker\"},{\"attributes\":{\"line_alpha\":{\"value\":0.8},\"line_color\":{\"value\":\"red\"},\"line_width\":{\"value\":2},\"x\":{\"field\":\"x\"},\"y\":{\"field\":\"y\"}},\"id\":\"64787\",\"type\":\"Step\"},{\"attributes\":{\"formatter\":{\"id\":\"64795\"},\"ticker\":{\"id\":\"64782\"}},\"id\":\"64781\",\"type\":\"LinearAxis\"},{\"attributes\":{},\"id\":\"64795\",\"type\":\"BasicTickFormatter\"},{\"attributes\":{\"axis\":{\"id\":\"64778\"},\"grid_line_color\":null,\"ticker\":null},\"id\":\"64780\",\"type\":\"Grid\"},{\"attributes\":{\"items\":[{\"id\":\"64797\"}]},\"id\":\"64796\",\"type\":\"Legend\"},{\"attributes\":{\"label\":{\"value\":\"Moyenne de tous les d\\u00e9put\\u00e9s\"},\"renderers\":[{\"id\":\"64789\"}]},\"id\":\"64797\",\"type\":\"LegendItem\"},{\"attributes\":{},\"id\":\"64779\",\"type\":\"CategoricalTicker\"},{\"attributes\":{\"data_source\":{\"id\":\"64798\"},\"glyph\":{\"id\":\"64799\"},\"hover_glyph\":null,\"muted_glyph\":null,\"nonselection_glyph\":{\"id\":\"64800\"},\"selection_glyph\":null,\"view\":{\"id\":\"64802\"}},\"id\":\"64801\",\"type\":\"GlyphRenderer\"},{\"attributes\":{\"formatter\":{\"id\":\"64793\"},\"major_label_orientation\":\"vertical\",\"ticker\":{\"id\":\"64779\"}},\"id\":\"64778\",\"type\":\"CategoricalAxis\"},{\"attributes\":{\"data\":{\"top\":[4,3,0,6,3,3,2,3,3,3,2,4,2,0,2,4,3,2,3,4,2,2,3,4,3,4,7,3,2,0,2,6,4,9,16,0],\"x\":[\"2017-07\",\"2017-08\",\"2017-09\",\"2017-10\",\"2017-11\",\"2017-12\",\"2018-01\",\"2018-02\",\"2018-03\",\"2018-04\",\"2018-05\",\"2018-06\",\"2018-07\",\"2018-08\",\"2018-09\",\"2018-10\",\"2018-11\",\"2018-12\",\"2019-01\",\"2019-02\",\"2019-03\",\"2019-04\",\"2019-05\",\"2019-06\",\"2019-07\",\"2019-09\",\"2019-10\",\"2019-11\",\"2019-12\",\"2020-01\",\"2020-02\",\"2020-03\",\"2020-04\",\"2020-05\",\"2020-06\",\"2020-07\"]},\"selected\":{\"id\":\"65792\"},\"selection_policy\":{\"id\":\"65791\"}},\"id\":\"64798\",\"type\":\"ColumnDataSource\"},{\"attributes\":{},\"id\":\"65791\",\"type\":\"UnionRenderers\"},{\"attributes\":{},\"id\":\"64776\",\"type\":\"LinearScale\"},{\"attributes\":{},\"id\":\"64774\",\"type\":\"CategoricalScale\"},{\"attributes\":{\"end\":13,\"start\":0},\"id\":\"64772\",\"type\":\"DataRange1d\"},{\"attributes\":{\"fill_alpha\":{\"value\":0.1},\"fill_color\":{\"value\":\"#1f77b4\"},\"line_alpha\":{\"value\":0.1},\"line_color\":{\"value\":\"#1f77b4\"},\"top\":{\"field\":\"top\"},\"width\":{\"value\":1},\"x\":{\"field\":\"x\"}},\"id\":\"64800\",\"type\":\"VBar\"},{\"attributes\":{},\"id\":\"65789\",\"type\":\"UnionRenderers\"},{\"attributes\":{\"source\":{\"id\":\"64798\"}},\"id\":\"64802\",\"type\":\"CDSView\"},{\"attributes\":{},\"id\":\"65790\",\"type\":\"Selection\"},{\"attributes\":{\"data\":{\"x\":[\"2017-07\",\"2017-08\",\"2017-09\",\"2017-10\",\"2017-11\",\"2017-12\",\"2018-01\",\"2018-02\",\"2018-03\",\"2018-04\",\"2018-05\",\"2018-06\",\"2018-07\",\"2018-08\",\"2018-09\",\"2018-10\",\"2018-11\",\"2018-12\",\"2019-01\",\"2019-02\",\"2019-03\",\"2019-04\",\"2019-05\",\"2019-06\",\"2019-07\",\"2019-09\",\"2019-10\",\"2019-11\",\"2019-12\",\"2020-01\",\"2020-02\",\"2020-03\",\"2020-04\",\"2020-05\",\"2020-06\",\"2020-07\"],\"y\":[33.831889081455806,7.630849220103986,3.766031195840555,18.69150779896014,16.75216637781629,6.53206239168111,5.1871750433275565,6.551126516464471,6.1282495667244365,31.03639514731369,27.578856152512998,31.18370883882149,23.10745233968804,1.0190641247833623,8.232235701906413,24.18370883882149,22.161178509532064,18.47313691507799,8.849220103986136,9.674176776429809,14.27209705372617,4.3847487001733105,11.608318890814559,10.979202772963605,9.859618717504333,8.25476603119584,23.285961871750434,12.133448873483536,12.519930675909878,4.126516464471404,49.71750433275563,8.876949740034663,3.9740034662045063,8.646447140381282,15.558058925476603,3.4298093587521663]},\"selected\":{\"id\":\"65790\"},\"selection_policy\":{\"id\":\"65789\"}},\"id\":\"64786\",\"type\":\"ColumnDataSource\"},{\"attributes\":{\"fill_alpha\":{\"value\":0.5},\"fill_color\":{\"value\":\"#1f77b4\"},\"line_alpha\":{\"value\":0.5},\"line_color\":{\"value\":\"#1f77b4\"},\"top\":{\"field\":\"top\"},\"width\":{\"value\":1},\"x\":{\"field\":\"x\"}},\"id\":\"64799\",\"type\":\"VBar\"},{\"attributes\":{\"text\":\"Votes par mois pour Mich\\u00e8le Tabarot avec 123 votes\"},\"id\":\"64768\",\"type\":\"Title\"},{\"attributes\":{\"factors\":[\"2017-07\",\"2017-08\",\"2017-09\",\"2017-10\",\"2017-11\",\"2017-12\",\"2018-01\",\"2018-02\",\"2018-03\",\"2018-04\",\"2018-05\",\"2018-06\",\"2018-07\",\"2018-08\",\"2018-09\",\"2018-10\",\"2018-11\",\"2018-12\",\"2019-01\",\"2019-02\",\"2019-03\",\"2019-04\",\"2019-05\",\"2019-06\",\"2019-07\",\"2019-09\",\"2019-10\",\"2019-11\",\"2019-12\",\"2020-01\",\"2020-02\",\"2020-03\",\"2020-04\",\"2020-05\",\"2020-06\",\"2020-07\"]},\"id\":\"64770\",\"type\":\"FactorRange\"},{\"attributes\":{\"active_drag\":\"auto\",\"active_inspect\":\"auto\",\"active_multi\":null,\"active_scroll\":\"auto\",\"active_tap\":\"auto\"},\"id\":\"64785\",\"type\":\"Toolbar\"},{\"attributes\":{},\"id\":\"65792\",\"type\":\"Selection\"}],\"root_ids\":[\"64767\"]},\"title\":\"Bokeh Application\",\"version\":\"2.0.1\"}};\n",
       "  var render_items = [{\"docid\":\"659788f3-5164-4f12-bc4e-8e506ecef7da\",\"root_ids\":[\"64767\"],\"roots\":{\"64767\":\"1839c1bc-bb6f-41ff-85bd-2f59a14e7580\"}}];\n",
       "  root.Bokeh.embed.embed_items_notebook(docs_json, render_items);\n",
       "\n",
       "  }\n",
       "  if (root.Bokeh !== undefined) {\n",
       "    embed_document(root);\n",
       "  } else {\n",
       "    var attempts = 0;\n",
       "    var timer = setInterval(function(root) {\n",
       "      if (root.Bokeh !== undefined) {\n",
       "        clearInterval(timer);\n",
       "        embed_document(root);\n",
       "      } else {\n",
       "        attempts++;\n",
       "        if (attempts > 100) {\n",
       "          clearInterval(timer);\n",
       "          console.log(\"Bokeh: ERROR: Unable to run BokehJS code because BokehJS library is missing\");\n",
       "        }\n",
       "      }\n",
       "    }, 10, root)\n",
       "  }\n",
       "})(window);"
      ],
      "application/vnd.bokehjs_exec.v0+json": ""
     },
     "metadata": {
      "application/vnd.bokehjs_exec.v0+json": {
       "id": "64767"
      }
     },
     "output_type": "display_data"
    }
   ],
   "source": [
    "for député in députés_les_moins_présents[:10]:\n",
    "    affiche_député(député)"
   ]
  },
  {
   "cell_type": "markdown",
   "metadata": {},
   "source": [
    "# Les 10 plus présents"
   ]
  },
  {
   "cell_type": "code",
   "execution_count": 14,
   "metadata": {},
   "outputs": [
    {
     "data": {
      "text/html": [
       "\n",
       "\n",
       "\n",
       "\n",
       "\n",
       "\n",
       "  <div class=\"bk-root\" id=\"bbeabdbf-850a-4aba-9fff-9e89057518cf\" data-root-id=\"22872\"></div>\n"
      ]
     },
     "metadata": {},
     "output_type": "display_data"
    },
    {
     "data": {
      "application/javascript": [
       "(function(root) {\n",
       "  function embed_document(root) {\n",
       "    \n",
       "  var docs_json = {\"afcf784c-b278-411c-9880-28e9c9e625fc\":{\"roots\":{\"references\":[{\"attributes\":{\"below\":[{\"id\":\"22883\"}],\"center\":[{\"id\":\"22885\"},{\"id\":\"22889\"},{\"id\":\"22901\"}],\"left\":[{\"id\":\"22886\"}],\"plot_height\":400,\"plot_width\":700,\"renderers\":[{\"id\":\"22894\"},{\"id\":\"22906\"}],\"title\":{\"id\":\"22873\"},\"toolbar\":{\"id\":\"22890\"},\"toolbar_location\":null,\"x_range\":{\"id\":\"22875\"},\"x_scale\":{\"id\":\"22879\"},\"y_range\":{\"id\":\"22877\"},\"y_scale\":{\"id\":\"22881\"}},\"id\":\"22872\",\"subtype\":\"Figure\",\"type\":\"Plot\"},{\"attributes\":{\"formatter\":{\"id\":\"22898\"},\"major_label_orientation\":\"vertical\",\"ticker\":{\"id\":\"22884\"}},\"id\":\"22883\",\"type\":\"CategoricalAxis\"},{\"attributes\":{\"data\":{\"top\":[1,1,2,1,1,1,2,1,1,1,2,2,2,0,2,1,2,2,1,1,1,2,1,1,1,1,2,1,1,1,5,1,1,1,1,0],\"x\":[\"2017-07\",\"2017-08\",\"2017-09\",\"2017-10\",\"2017-11\",\"2017-12\",\"2018-01\",\"2018-02\",\"2018-03\",\"2018-04\",\"2018-05\",\"2018-06\",\"2018-07\",\"2018-08\",\"2018-09\",\"2018-10\",\"2018-11\",\"2018-12\",\"2019-01\",\"2019-02\",\"2019-03\",\"2019-04\",\"2019-05\",\"2019-06\",\"2019-07\",\"2019-09\",\"2019-10\",\"2019-11\",\"2019-12\",\"2020-01\",\"2020-02\",\"2020-03\",\"2020-04\",\"2020-05\",\"2020-06\",\"2020-07\"]},\"selected\":{\"id\":\"23456\"},\"selection_policy\":{\"id\":\"23455\"}},\"id\":\"22903\",\"type\":\"ColumnDataSource\"},{\"attributes\":{},\"id\":\"22898\",\"type\":\"CategoricalTickFormatter\"},{\"attributes\":{},\"id\":\"23454\",\"type\":\"Selection\"},{\"attributes\":{\"text\":\"Votes par mois pour Pierre Dharr\\u00e9ville avec 1021 votes\"},\"id\":\"22873\",\"type\":\"Title\"},{\"attributes\":{\"data_source\":{\"id\":\"22903\"},\"glyph\":{\"id\":\"22904\"},\"hover_glyph\":null,\"muted_glyph\":null,\"nonselection_glyph\":{\"id\":\"22905\"},\"selection_glyph\":null,\"view\":{\"id\":\"22907\"}},\"id\":\"22906\",\"type\":\"GlyphRenderer\"},{\"attributes\":{},\"id\":\"22879\",\"type\":\"CategoricalScale\"},{\"attributes\":{\"factors\":[\"2017-07\",\"2017-08\",\"2017-09\",\"2017-10\",\"2017-11\",\"2017-12\",\"2018-01\",\"2018-02\",\"2018-03\",\"2018-04\",\"2018-05\",\"2018-06\",\"2018-07\",\"2018-08\",\"2018-09\",\"2018-10\",\"2018-11\",\"2018-12\",\"2019-01\",\"2019-02\",\"2019-03\",\"2019-04\",\"2019-05\",\"2019-06\",\"2019-07\",\"2019-09\",\"2019-10\",\"2019-11\",\"2019-12\",\"2020-01\",\"2020-02\",\"2020-03\",\"2020-04\",\"2020-05\",\"2020-06\",\"2020-07\"]},\"id\":\"22875\",\"type\":\"FactorRange\"},{\"attributes\":{\"fill_alpha\":{\"value\":0.1},\"fill_color\":{\"value\":\"#1f77b4\"},\"line_alpha\":{\"value\":0.1},\"line_color\":{\"value\":\"#1f77b4\"},\"top\":{\"field\":\"top\"},\"width\":{\"value\":1},\"x\":{\"field\":\"x\"}},\"id\":\"22905\",\"type\":\"VBar\"},{\"attributes\":{\"axis\":{\"id\":\"22886\"},\"dimension\":1,\"grid_line_color\":null,\"ticker\":null},\"id\":\"22889\",\"type\":\"Grid\"},{\"attributes\":{\"source\":{\"id\":\"22903\"}},\"id\":\"22907\",\"type\":\"CDSView\"},{\"attributes\":{\"fill_alpha\":{\"value\":0.5},\"fill_color\":{\"value\":\"#1f77b4\"},\"line_alpha\":{\"value\":0.5},\"line_color\":{\"value\":\"#1f77b4\"},\"top\":{\"field\":\"top\"},\"width\":{\"value\":1},\"x\":{\"field\":\"x\"}},\"id\":\"22904\",\"type\":\"VBar\"},{\"attributes\":{\"data\":{\"x\":[\"2017-07\",\"2017-08\",\"2017-09\",\"2017-10\",\"2017-11\",\"2017-12\",\"2018-01\",\"2018-02\",\"2018-03\",\"2018-04\",\"2018-05\",\"2018-06\",\"2018-07\",\"2018-08\",\"2018-09\",\"2018-10\",\"2018-11\",\"2018-12\",\"2019-01\",\"2019-02\",\"2019-03\",\"2019-04\",\"2019-05\",\"2019-06\",\"2019-07\",\"2019-09\",\"2019-10\",\"2019-11\",\"2019-12\",\"2020-01\",\"2020-02\",\"2020-03\",\"2020-04\",\"2020-05\",\"2020-06\",\"2020-07\"],\"y\":[1.0138648180242635,1.4696707105719238,1.1767764298093588,0.9722703639514731,1.166377816291161,1.076256499133449,1.7954939341421143,1.516464471403813,1.1403812824956672,1.6065857885615251,1.632582322357019,1.3084922010398614,1.7383015597920277,0.6741767764298093,1.2599653379549394,1.0953206239168112,2.079722703639515,2.4783362218370883,1.6031195840554593,0.9688041594454073,1.1629116117850953,1.268630849220104,1.5996533795493935,1.1074523396880416,1.2097053726169844,1.124783362218371,1.4124783362218372,1.682842287694974,1.5511265164644714,1.1282495667244368,2.65684575389948,1.0710571923743502,0.9982668977469671,1,0.9324090121317158,1.5528596187175043]},\"selected\":{\"id\":\"23454\"},\"selection_policy\":{\"id\":\"23453\"}},\"id\":\"22891\",\"type\":\"ColumnDataSource\"},{\"attributes\":{\"end\":13,\"start\":0},\"id\":\"22877\",\"type\":\"DataRange1d\"},{\"attributes\":{},\"id\":\"23455\",\"type\":\"UnionRenderers\"},{\"attributes\":{},\"id\":\"23453\",\"type\":\"UnionRenderers\"},{\"attributes\":{},\"id\":\"23456\",\"type\":\"Selection\"},{\"attributes\":{\"formatter\":{\"id\":\"22900\"},\"ticker\":{\"id\":\"22887\"}},\"id\":\"22886\",\"type\":\"LinearAxis\"},{\"attributes\":{},\"id\":\"22887\",\"type\":\"BasicTicker\"},{\"attributes\":{\"line_alpha\":{\"value\":0.1},\"line_color\":{\"value\":\"red\"},\"line_width\":{\"value\":2},\"x\":{\"field\":\"x\"},\"y\":{\"field\":\"y\"}},\"id\":\"22893\",\"type\":\"Step\"},{\"attributes\":{\"active_drag\":\"auto\",\"active_inspect\":\"auto\",\"active_multi\":null,\"active_scroll\":\"auto\",\"active_tap\":\"auto\"},\"id\":\"22890\",\"type\":\"Toolbar\"},{\"attributes\":{\"source\":{\"id\":\"22891\"}},\"id\":\"22895\",\"type\":\"CDSView\"},{\"attributes\":{\"axis\":{\"id\":\"22883\"},\"grid_line_color\":null,\"ticker\":null},\"id\":\"22885\",\"type\":\"Grid\"},{\"attributes\":{\"label\":{\"value\":\"Moyenne de tous les d\\u00e9put\\u00e9s\"},\"renderers\":[{\"id\":\"22894\"}]},\"id\":\"22902\",\"type\":\"LegendItem\"},{\"attributes\":{\"line_alpha\":{\"value\":0.8},\"line_color\":{\"value\":\"red\"},\"line_width\":{\"value\":2},\"x\":{\"field\":\"x\"},\"y\":{\"field\":\"y\"}},\"id\":\"22892\",\"type\":\"Step\"},{\"attributes\":{\"data_source\":{\"id\":\"22891\"},\"glyph\":{\"id\":\"22892\"},\"hover_glyph\":null,\"muted_glyph\":null,\"nonselection_glyph\":{\"id\":\"22893\"},\"selection_glyph\":null,\"view\":{\"id\":\"22895\"}},\"id\":\"22894\",\"type\":\"GlyphRenderer\"},{\"attributes\":{},\"id\":\"22884\",\"type\":\"CategoricalTicker\"},{\"attributes\":{},\"id\":\"22900\",\"type\":\"BasicTickFormatter\"},{\"attributes\":{\"items\":[{\"id\":\"22902\"}]},\"id\":\"22901\",\"type\":\"Legend\"},{\"attributes\":{},\"id\":\"22881\",\"type\":\"LinearScale\"}],\"root_ids\":[\"22872\"]},\"title\":\"Bokeh Application\",\"version\":\"2.0.1\"}};\n",
       "  var render_items = [{\"docid\":\"afcf784c-b278-411c-9880-28e9c9e625fc\",\"root_ids\":[\"22872\"],\"roots\":{\"22872\":\"bbeabdbf-850a-4aba-9fff-9e89057518cf\"}}];\n",
       "  root.Bokeh.embed.embed_items_notebook(docs_json, render_items);\n",
       "\n",
       "  }\n",
       "  if (root.Bokeh !== undefined) {\n",
       "    embed_document(root);\n",
       "  } else {\n",
       "    var attempts = 0;\n",
       "    var timer = setInterval(function(root) {\n",
       "      if (root.Bokeh !== undefined) {\n",
       "        clearInterval(timer);\n",
       "        embed_document(root);\n",
       "      } else {\n",
       "        attempts++;\n",
       "        if (attempts > 100) {\n",
       "          clearInterval(timer);\n",
       "          console.log(\"Bokeh: ERROR: Unable to run BokehJS code because BokehJS library is missing\");\n",
       "        }\n",
       "      }\n",
       "    }, 10, root)\n",
       "  }\n",
       "})(window);"
      ],
      "application/vnd.bokehjs_exec.v0+json": ""
     },
     "metadata": {
      "application/vnd.bokehjs_exec.v0+json": {
       "id": "22872"
      }
     },
     "output_type": "display_data"
    },
    {
     "data": {
      "text/html": [
       "\n",
       "\n",
       "\n",
       "\n",
       "\n",
       "\n",
       "  <div class=\"bk-root\" id=\"2264b180-924f-46f2-a062-57d0c48eae04\" data-root-id=\"23511\"></div>\n"
      ]
     },
     "metadata": {},
     "output_type": "display_data"
    },
    {
     "data": {
      "application/javascript": [
       "(function(root) {\n",
       "  function embed_document(root) {\n",
       "    \n",
       "  var docs_json = {\"047cfd42-8000-4678-9b6d-8d11060c61e7\":{\"roots\":{\"references\":[{\"attributes\":{\"below\":[{\"id\":\"23522\"}],\"center\":[{\"id\":\"23524\"},{\"id\":\"23528\"},{\"id\":\"23540\"}],\"left\":[{\"id\":\"23525\"}],\"plot_height\":400,\"plot_width\":700,\"renderers\":[{\"id\":\"23533\"},{\"id\":\"23545\"}],\"title\":{\"id\":\"23512\"},\"toolbar\":{\"id\":\"23529\"},\"toolbar_location\":null,\"x_range\":{\"id\":\"23514\"},\"x_scale\":{\"id\":\"23518\"},\"y_range\":{\"id\":\"23516\"},\"y_scale\":{\"id\":\"23520\"}},\"id\":\"23511\",\"subtype\":\"Figure\",\"type\":\"Plot\"},{\"attributes\":{\"source\":{\"id\":\"23542\"}},\"id\":\"23546\",\"type\":\"CDSView\"},{\"attributes\":{\"formatter\":{\"id\":\"23537\"},\"major_label_orientation\":\"vertical\",\"ticker\":{\"id\":\"23523\"}},\"id\":\"23522\",\"type\":\"CategoricalAxis\"},{\"attributes\":{},\"id\":\"23520\",\"type\":\"LinearScale\"},{\"attributes\":{},\"id\":\"24102\",\"type\":\"Selection\"},{\"attributes\":{},\"id\":\"23518\",\"type\":\"CategoricalScale\"},{\"attributes\":{},\"id\":\"24103\",\"type\":\"UnionRenderers\"},{\"attributes\":{\"end\":13,\"start\":0},\"id\":\"23516\",\"type\":\"DataRange1d\"},{\"attributes\":{},\"id\":\"24104\",\"type\":\"Selection\"},{\"attributes\":{},\"id\":\"24101\",\"type\":\"UnionRenderers\"},{\"attributes\":{\"data\":{\"x\":[\"2017-07\",\"2017-08\",\"2017-09\",\"2017-10\",\"2017-11\",\"2017-12\",\"2018-01\",\"2018-02\",\"2018-03\",\"2018-04\",\"2018-05\",\"2018-06\",\"2018-07\",\"2018-08\",\"2018-09\",\"2018-10\",\"2018-11\",\"2018-12\",\"2019-01\",\"2019-02\",\"2019-03\",\"2019-04\",\"2019-05\",\"2019-06\",\"2019-07\",\"2019-09\",\"2019-10\",\"2019-11\",\"2019-12\",\"2020-01\",\"2020-02\",\"2020-03\",\"2020-04\",\"2020-05\",\"2020-06\",\"2020-07\"],\"y\":[1.0138648180242635,1.4696707105719238,1.1767764298093588,0.9722703639514731,1.166377816291161,1.076256499133449,1.7954939341421143,1.516464471403813,1.1403812824956672,1.6065857885615251,1.632582322357019,1.3084922010398614,1.7383015597920277,0.6741767764298093,1.2599653379549394,1.0953206239168112,2.079722703639515,2.4783362218370883,1.6031195840554593,0.9688041594454073,1.1629116117850953,1.268630849220104,1.5996533795493935,1.1074523396880416,1.2097053726169844,1.124783362218371,1.4124783362218372,1.682842287694974,1.5511265164644714,1.1282495667244368,2.65684575389948,1.0710571923743502,0.9982668977469671,1,0.9324090121317158,1.5528596187175043]},\"selected\":{\"id\":\"24102\"},\"selection_policy\":{\"id\":\"24101\"}},\"id\":\"23530\",\"type\":\"ColumnDataSource\"},{\"attributes\":{\"text\":\"Votes par mois pour Mich\\u00e8le Peyron avec 1027 votes\"},\"id\":\"23512\",\"type\":\"Title\"},{\"attributes\":{\"factors\":[\"2017-07\",\"2017-08\",\"2017-09\",\"2017-10\",\"2017-11\",\"2017-12\",\"2018-01\",\"2018-02\",\"2018-03\",\"2018-04\",\"2018-05\",\"2018-06\",\"2018-07\",\"2018-08\",\"2018-09\",\"2018-10\",\"2018-11\",\"2018-12\",\"2019-01\",\"2019-02\",\"2019-03\",\"2019-04\",\"2019-05\",\"2019-06\",\"2019-07\",\"2019-09\",\"2019-10\",\"2019-11\",\"2019-12\",\"2020-01\",\"2020-02\",\"2020-03\",\"2020-04\",\"2020-05\",\"2020-06\",\"2020-07\"]},\"id\":\"23514\",\"type\":\"FactorRange\"},{\"attributes\":{\"active_drag\":\"auto\",\"active_inspect\":\"auto\",\"active_multi\":null,\"active_scroll\":\"auto\",\"active_tap\":\"auto\"},\"id\":\"23529\",\"type\":\"Toolbar\"},{\"attributes\":{\"data_source\":{\"id\":\"23542\"},\"glyph\":{\"id\":\"23543\"},\"hover_glyph\":null,\"muted_glyph\":null,\"nonselection_glyph\":{\"id\":\"23544\"},\"selection_glyph\":null,\"view\":{\"id\":\"23546\"}},\"id\":\"23545\",\"type\":\"GlyphRenderer\"},{\"attributes\":{\"label\":{\"value\":\"Moyenne de tous les d\\u00e9put\\u00e9s\"},\"renderers\":[{\"id\":\"23533\"}]},\"id\":\"23541\",\"type\":\"LegendItem\"},{\"attributes\":{\"fill_alpha\":{\"value\":0.1},\"fill_color\":{\"value\":\"#1f77b4\"},\"line_alpha\":{\"value\":0.1},\"line_color\":{\"value\":\"#1f77b4\"},\"top\":{\"field\":\"top\"},\"width\":{\"value\":1},\"x\":{\"field\":\"x\"}},\"id\":\"23544\",\"type\":\"VBar\"},{\"attributes\":{},\"id\":\"23537\",\"type\":\"CategoricalTickFormatter\"},{\"attributes\":{\"items\":[{\"id\":\"23541\"}]},\"id\":\"23540\",\"type\":\"Legend\"},{\"attributes\":{},\"id\":\"23526\",\"type\":\"BasicTicker\"},{\"attributes\":{\"line_alpha\":{\"value\":0.1},\"line_color\":{\"value\":\"red\"},\"line_width\":{\"value\":2},\"x\":{\"field\":\"x\"},\"y\":{\"field\":\"y\"}},\"id\":\"23532\",\"type\":\"Step\"},{\"attributes\":{\"fill_alpha\":{\"value\":0.5},\"fill_color\":{\"value\":\"#1f77b4\"},\"line_alpha\":{\"value\":0.5},\"line_color\":{\"value\":\"#1f77b4\"},\"top\":{\"field\":\"top\"},\"width\":{\"value\":1},\"x\":{\"field\":\"x\"}},\"id\":\"23543\",\"type\":\"VBar\"},{\"attributes\":{\"axis\":{\"id\":\"23525\"},\"dimension\":1,\"grid_line_color\":null,\"ticker\":null},\"id\":\"23528\",\"type\":\"Grid\"},{\"attributes\":{\"data_source\":{\"id\":\"23530\"},\"glyph\":{\"id\":\"23531\"},\"hover_glyph\":null,\"muted_glyph\":null,\"nonselection_glyph\":{\"id\":\"23532\"},\"selection_glyph\":null,\"view\":{\"id\":\"23534\"}},\"id\":\"23533\",\"type\":\"GlyphRenderer\"},{\"attributes\":{\"data\":{\"top\":[1,2,1,1,2,1,1,4,1,1,1,2,1,2,1,1,8,1,2,1,1,3,1,1,1,1,2,1,2,1,7,1,1,1,1,3],\"x\":[\"2017-07\",\"2017-08\",\"2017-09\",\"2017-10\",\"2017-11\",\"2017-12\",\"2018-01\",\"2018-02\",\"2018-03\",\"2018-04\",\"2018-05\",\"2018-06\",\"2018-07\",\"2018-08\",\"2018-09\",\"2018-10\",\"2018-11\",\"2018-12\",\"2019-01\",\"2019-02\",\"2019-03\",\"2019-04\",\"2019-05\",\"2019-06\",\"2019-07\",\"2019-09\",\"2019-10\",\"2019-11\",\"2019-12\",\"2020-01\",\"2020-02\",\"2020-03\",\"2020-04\",\"2020-05\",\"2020-06\",\"2020-07\"]},\"selected\":{\"id\":\"24104\"},\"selection_policy\":{\"id\":\"24103\"}},\"id\":\"23542\",\"type\":\"ColumnDataSource\"},{\"attributes\":{\"formatter\":{\"id\":\"23539\"},\"ticker\":{\"id\":\"23526\"}},\"id\":\"23525\",\"type\":\"LinearAxis\"},{\"attributes\":{\"source\":{\"id\":\"23530\"}},\"id\":\"23534\",\"type\":\"CDSView\"},{\"attributes\":{\"axis\":{\"id\":\"23522\"},\"grid_line_color\":null,\"ticker\":null},\"id\":\"23524\",\"type\":\"Grid\"},{\"attributes\":{\"line_alpha\":{\"value\":0.8},\"line_color\":{\"value\":\"red\"},\"line_width\":{\"value\":2},\"x\":{\"field\":\"x\"},\"y\":{\"field\":\"y\"}},\"id\":\"23531\",\"type\":\"Step\"},{\"attributes\":{},\"id\":\"23539\",\"type\":\"BasicTickFormatter\"},{\"attributes\":{},\"id\":\"23523\",\"type\":\"CategoricalTicker\"}],\"root_ids\":[\"23511\"]},\"title\":\"Bokeh Application\",\"version\":\"2.0.1\"}};\n",
       "  var render_items = [{\"docid\":\"047cfd42-8000-4678-9b6d-8d11060c61e7\",\"root_ids\":[\"23511\"],\"roots\":{\"23511\":\"2264b180-924f-46f2-a062-57d0c48eae04\"}}];\n",
       "  root.Bokeh.embed.embed_items_notebook(docs_json, render_items);\n",
       "\n",
       "  }\n",
       "  if (root.Bokeh !== undefined) {\n",
       "    embed_document(root);\n",
       "  } else {\n",
       "    var attempts = 0;\n",
       "    var timer = setInterval(function(root) {\n",
       "      if (root.Bokeh !== undefined) {\n",
       "        clearInterval(timer);\n",
       "        embed_document(root);\n",
       "      } else {\n",
       "        attempts++;\n",
       "        if (attempts > 100) {\n",
       "          clearInterval(timer);\n",
       "          console.log(\"Bokeh: ERROR: Unable to run BokehJS code because BokehJS library is missing\");\n",
       "        }\n",
       "      }\n",
       "    }, 10, root)\n",
       "  }\n",
       "})(window);"
      ],
      "application/vnd.bokehjs_exec.v0+json": ""
     },
     "metadata": {
      "application/vnd.bokehjs_exec.v0+json": {
       "id": "23511"
      }
     },
     "output_type": "display_data"
    },
    {
     "data": {
      "text/html": [
       "\n",
       "\n",
       "\n",
       "\n",
       "\n",
       "\n",
       "  <div class=\"bk-root\" id=\"f3cd2072-b53f-4af1-bc91-5260abe09d2f\" data-root-id=\"24159\"></div>\n"
      ]
     },
     "metadata": {},
     "output_type": "display_data"
    },
    {
     "data": {
      "application/javascript": [
       "(function(root) {\n",
       "  function embed_document(root) {\n",
       "    \n",
       "  var docs_json = {\"fd73b62f-8caa-4ef8-9e73-a94b61c3a8b1\":{\"roots\":{\"references\":[{\"attributes\":{\"below\":[{\"id\":\"24170\"}],\"center\":[{\"id\":\"24172\"},{\"id\":\"24176\"},{\"id\":\"24188\"}],\"left\":[{\"id\":\"24173\"}],\"plot_height\":400,\"plot_width\":700,\"renderers\":[{\"id\":\"24181\"},{\"id\":\"24193\"}],\"title\":{\"id\":\"24160\"},\"toolbar\":{\"id\":\"24177\"},\"toolbar_location\":null,\"x_range\":{\"id\":\"24162\"},\"x_scale\":{\"id\":\"24166\"},\"y_range\":{\"id\":\"24164\"},\"y_scale\":{\"id\":\"24168\"}},\"id\":\"24159\",\"subtype\":\"Figure\",\"type\":\"Plot\"},{\"attributes\":{\"data\":{\"x\":[\"2017-07\",\"2017-08\",\"2017-09\",\"2017-10\",\"2017-11\",\"2017-12\",\"2018-01\",\"2018-02\",\"2018-03\",\"2018-04\",\"2018-05\",\"2018-06\",\"2018-07\",\"2018-08\",\"2018-09\",\"2018-10\",\"2018-11\",\"2018-12\",\"2019-01\",\"2019-02\",\"2019-03\",\"2019-04\",\"2019-05\",\"2019-06\",\"2019-07\",\"2019-09\",\"2019-10\",\"2019-11\",\"2019-12\",\"2020-01\",\"2020-02\",\"2020-03\",\"2020-04\",\"2020-05\",\"2020-06\",\"2020-07\"],\"y\":[1.0138648180242635,1.4696707105719238,1.1767764298093588,0.9722703639514731,1.166377816291161,1.076256499133449,1.7954939341421143,1.516464471403813,1.1403812824956672,1.6065857885615251,1.632582322357019,1.3084922010398614,1.7383015597920277,0.6741767764298093,1.2599653379549394,1.0953206239168112,2.079722703639515,2.4783362218370883,1.6031195840554593,0.9688041594454073,1.1629116117850953,1.268630849220104,1.5996533795493935,1.1074523396880416,1.2097053726169844,1.124783362218371,1.4124783362218372,1.682842287694974,1.5511265164644714,1.1282495667244368,2.65684575389948,1.0710571923743502,0.9982668977469671,1,0.9324090121317158,1.5528596187175043]},\"selected\":{\"id\":\"24759\"},\"selection_policy\":{\"id\":\"24758\"}},\"id\":\"24178\",\"type\":\"ColumnDataSource\"},{\"attributes\":{},\"id\":\"24761\",\"type\":\"Selection\"},{\"attributes\":{\"factors\":[\"2017-07\",\"2017-08\",\"2017-09\",\"2017-10\",\"2017-11\",\"2017-12\",\"2018-01\",\"2018-02\",\"2018-03\",\"2018-04\",\"2018-05\",\"2018-06\",\"2018-07\",\"2018-08\",\"2018-09\",\"2018-10\",\"2018-11\",\"2018-12\",\"2019-01\",\"2019-02\",\"2019-03\",\"2019-04\",\"2019-05\",\"2019-06\",\"2019-07\",\"2019-09\",\"2019-10\",\"2019-11\",\"2019-12\",\"2020-01\",\"2020-02\",\"2020-03\",\"2020-04\",\"2020-05\",\"2020-06\",\"2020-07\"]},\"id\":\"24162\",\"type\":\"FactorRange\"},{\"attributes\":{\"axis\":{\"id\":\"24173\"},\"dimension\":1,\"grid_line_color\":null,\"ticker\":null},\"id\":\"24176\",\"type\":\"Grid\"},{\"attributes\":{},\"id\":\"24758\",\"type\":\"UnionRenderers\"},{\"attributes\":{},\"id\":\"24174\",\"type\":\"BasicTicker\"},{\"attributes\":{},\"id\":\"24185\",\"type\":\"CategoricalTickFormatter\"},{\"attributes\":{\"fill_alpha\":{\"value\":0.5},\"fill_color\":{\"value\":\"#1f77b4\"},\"line_alpha\":{\"value\":0.5},\"line_color\":{\"value\":\"#1f77b4\"},\"top\":{\"field\":\"top\"},\"width\":{\"value\":1},\"x\":{\"field\":\"x\"}},\"id\":\"24191\",\"type\":\"VBar\"},{\"attributes\":{\"data_source\":{\"id\":\"24190\"},\"glyph\":{\"id\":\"24191\"},\"hover_glyph\":null,\"muted_glyph\":null,\"nonselection_glyph\":{\"id\":\"24192\"},\"selection_glyph\":null,\"view\":{\"id\":\"24194\"}},\"id\":\"24193\",\"type\":\"GlyphRenderer\"},{\"attributes\":{\"formatter\":{\"id\":\"24187\"},\"ticker\":{\"id\":\"24174\"}},\"id\":\"24173\",\"type\":\"LinearAxis\"},{\"attributes\":{\"fill_alpha\":{\"value\":0.1},\"fill_color\":{\"value\":\"#1f77b4\"},\"line_alpha\":{\"value\":0.1},\"line_color\":{\"value\":\"#1f77b4\"},\"top\":{\"field\":\"top\"},\"width\":{\"value\":1},\"x\":{\"field\":\"x\"}},\"id\":\"24192\",\"type\":\"VBar\"},{\"attributes\":{},\"id\":\"24759\",\"type\":\"Selection\"},{\"attributes\":{\"line_alpha\":{\"value\":0.1},\"line_color\":{\"value\":\"red\"},\"line_width\":{\"value\":2},\"x\":{\"field\":\"x\"},\"y\":{\"field\":\"y\"}},\"id\":\"24180\",\"type\":\"Step\"},{\"attributes\":{\"axis\":{\"id\":\"24170\"},\"grid_line_color\":null,\"ticker\":null},\"id\":\"24172\",\"type\":\"Grid\"},{\"attributes\":{\"data_source\":{\"id\":\"24178\"},\"glyph\":{\"id\":\"24179\"},\"hover_glyph\":null,\"muted_glyph\":null,\"nonselection_glyph\":{\"id\":\"24180\"},\"selection_glyph\":null,\"view\":{\"id\":\"24182\"}},\"id\":\"24181\",\"type\":\"GlyphRenderer\"},{\"attributes\":{},\"id\":\"24760\",\"type\":\"UnionRenderers\"},{\"attributes\":{\"formatter\":{\"id\":\"24185\"},\"major_label_orientation\":\"vertical\",\"ticker\":{\"id\":\"24171\"}},\"id\":\"24170\",\"type\":\"CategoricalAxis\"},{\"attributes\":{\"source\":{\"id\":\"24178\"}},\"id\":\"24182\",\"type\":\"CDSView\"},{\"attributes\":{},\"id\":\"24171\",\"type\":\"CategoricalTicker\"},{\"attributes\":{\"line_alpha\":{\"value\":0.8},\"line_color\":{\"value\":\"red\"},\"line_width\":{\"value\":2},\"x\":{\"field\":\"x\"},\"y\":{\"field\":\"y\"}},\"id\":\"24179\",\"type\":\"Step\"},{\"attributes\":{\"source\":{\"id\":\"24190\"}},\"id\":\"24194\",\"type\":\"CDSView\"},{\"attributes\":{\"end\":13,\"start\":0},\"id\":\"24164\",\"type\":\"DataRange1d\"},{\"attributes\":{},\"id\":\"24187\",\"type\":\"BasicTickFormatter\"},{\"attributes\":{},\"id\":\"24168\",\"type\":\"LinearScale\"},{\"attributes\":{\"items\":[{\"id\":\"24189\"}]},\"id\":\"24188\",\"type\":\"Legend\"},{\"attributes\":{},\"id\":\"24166\",\"type\":\"CategoricalScale\"},{\"attributes\":{\"label\":{\"value\":\"Moyenne de tous les d\\u00e9put\\u00e9s\"},\"renderers\":[{\"id\":\"24181\"}]},\"id\":\"24189\",\"type\":\"LegendItem\"},{\"attributes\":{\"active_drag\":\"auto\",\"active_inspect\":\"auto\",\"active_multi\":null,\"active_scroll\":\"auto\",\"active_tap\":\"auto\"},\"id\":\"24177\",\"type\":\"Toolbar\"},{\"attributes\":{\"data\":{\"top\":[1,2,2,1,1,1,1,4,1,1,5,1,1,0,1,1,1,2,2,1,1,2,5,1,1,1,2,1,1,2,7,1,1,1,2,0],\"x\":[\"2017-07\",\"2017-08\",\"2017-09\",\"2017-10\",\"2017-11\",\"2017-12\",\"2018-01\",\"2018-02\",\"2018-03\",\"2018-04\",\"2018-05\",\"2018-06\",\"2018-07\",\"2018-08\",\"2018-09\",\"2018-10\",\"2018-11\",\"2018-12\",\"2019-01\",\"2019-02\",\"2019-03\",\"2019-04\",\"2019-05\",\"2019-06\",\"2019-07\",\"2019-09\",\"2019-10\",\"2019-11\",\"2019-12\",\"2020-01\",\"2020-02\",\"2020-03\",\"2020-04\",\"2020-05\",\"2020-06\",\"2020-07\"]},\"selected\":{\"id\":\"24761\"},\"selection_policy\":{\"id\":\"24760\"}},\"id\":\"24190\",\"type\":\"ColumnDataSource\"},{\"attributes\":{\"text\":\"Votes par mois pour Julien Borowczyk avec 1055 votes\"},\"id\":\"24160\",\"type\":\"Title\"}],\"root_ids\":[\"24159\"]},\"title\":\"Bokeh Application\",\"version\":\"2.0.1\"}};\n",
       "  var render_items = [{\"docid\":\"fd73b62f-8caa-4ef8-9e73-a94b61c3a8b1\",\"root_ids\":[\"24159\"],\"roots\":{\"24159\":\"f3cd2072-b53f-4af1-bc91-5260abe09d2f\"}}];\n",
       "  root.Bokeh.embed.embed_items_notebook(docs_json, render_items);\n",
       "\n",
       "  }\n",
       "  if (root.Bokeh !== undefined) {\n",
       "    embed_document(root);\n",
       "  } else {\n",
       "    var attempts = 0;\n",
       "    var timer = setInterval(function(root) {\n",
       "      if (root.Bokeh !== undefined) {\n",
       "        clearInterval(timer);\n",
       "        embed_document(root);\n",
       "      } else {\n",
       "        attempts++;\n",
       "        if (attempts > 100) {\n",
       "          clearInterval(timer);\n",
       "          console.log(\"Bokeh: ERROR: Unable to run BokehJS code because BokehJS library is missing\");\n",
       "        }\n",
       "      }\n",
       "    }, 10, root)\n",
       "  }\n",
       "})(window);"
      ],
      "application/vnd.bokehjs_exec.v0+json": ""
     },
     "metadata": {
      "application/vnd.bokehjs_exec.v0+json": {
       "id": "24159"
      }
     },
     "output_type": "display_data"
    },
    {
     "data": {
      "text/html": [
       "\n",
       "\n",
       "\n",
       "\n",
       "\n",
       "\n",
       "  <div class=\"bk-root\" id=\"e3ba0602-07cb-463d-bc6a-e3e82aa736e7\" data-root-id=\"24816\"></div>\n"
      ]
     },
     "metadata": {},
     "output_type": "display_data"
    },
    {
     "data": {
      "application/javascript": [
       "(function(root) {\n",
       "  function embed_document(root) {\n",
       "    \n",
       "  var docs_json = {\"92c50bbe-586d-4886-a308-48d836f73dc2\":{\"roots\":{\"references\":[{\"attributes\":{\"below\":[{\"id\":\"24827\"}],\"center\":[{\"id\":\"24829\"},{\"id\":\"24833\"},{\"id\":\"24845\"}],\"left\":[{\"id\":\"24830\"}],\"plot_height\":400,\"plot_width\":700,\"renderers\":[{\"id\":\"24838\"},{\"id\":\"24850\"}],\"title\":{\"id\":\"24817\"},\"toolbar\":{\"id\":\"24834\"},\"toolbar_location\":null,\"x_range\":{\"id\":\"24819\"},\"x_scale\":{\"id\":\"24823\"},\"y_range\":{\"id\":\"24821\"},\"y_scale\":{\"id\":\"24825\"}},\"id\":\"24816\",\"subtype\":\"Figure\",\"type\":\"Plot\"},{\"attributes\":{\"source\":{\"id\":\"24835\"}},\"id\":\"24839\",\"type\":\"CDSView\"},{\"attributes\":{},\"id\":\"25426\",\"type\":\"UnionRenderers\"},{\"attributes\":{},\"id\":\"24842\",\"type\":\"CategoricalTickFormatter\"},{\"attributes\":{\"formatter\":{\"id\":\"24844\"},\"ticker\":{\"id\":\"24831\"}},\"id\":\"24830\",\"type\":\"LinearAxis\"},{\"attributes\":{\"line_alpha\":{\"value\":0.1},\"line_color\":{\"value\":\"red\"},\"line_width\":{\"value\":2},\"x\":{\"field\":\"x\"},\"y\":{\"field\":\"y\"}},\"id\":\"24837\",\"type\":\"Step\"},{\"attributes\":{},\"id\":\"25425\",\"type\":\"Selection\"},{\"attributes\":{\"active_drag\":\"auto\",\"active_inspect\":\"auto\",\"active_multi\":null,\"active_scroll\":\"auto\",\"active_tap\":\"auto\"},\"id\":\"24834\",\"type\":\"Toolbar\"},{\"attributes\":{\"data_source\":{\"id\":\"24835\"},\"glyph\":{\"id\":\"24836\"},\"hover_glyph\":null,\"muted_glyph\":null,\"nonselection_glyph\":{\"id\":\"24837\"},\"selection_glyph\":null,\"view\":{\"id\":\"24839\"}},\"id\":\"24838\",\"type\":\"GlyphRenderer\"},{\"attributes\":{\"line_alpha\":{\"value\":0.8},\"line_color\":{\"value\":\"red\"},\"line_width\":{\"value\":2},\"x\":{\"field\":\"x\"},\"y\":{\"field\":\"y\"}},\"id\":\"24836\",\"type\":\"Step\"},{\"attributes\":{},\"id\":\"25427\",\"type\":\"Selection\"},{\"attributes\":{\"axis\":{\"id\":\"24827\"},\"grid_line_color\":null,\"ticker\":null},\"id\":\"24829\",\"type\":\"Grid\"},{\"attributes\":{},\"id\":\"24844\",\"type\":\"BasicTickFormatter\"},{\"attributes\":{},\"id\":\"24828\",\"type\":\"CategoricalTicker\"},{\"attributes\":{\"items\":[{\"id\":\"24846\"}]},\"id\":\"24845\",\"type\":\"Legend\"},{\"attributes\":{\"formatter\":{\"id\":\"24842\"},\"major_label_orientation\":\"vertical\",\"ticker\":{\"id\":\"24828\"}},\"id\":\"24827\",\"type\":\"CategoricalAxis\"},{\"attributes\":{},\"id\":\"25424\",\"type\":\"UnionRenderers\"},{\"attributes\":{\"label\":{\"value\":\"Moyenne de tous les d\\u00e9put\\u00e9s\"},\"renderers\":[{\"id\":\"24838\"}]},\"id\":\"24846\",\"type\":\"LegendItem\"},{\"attributes\":{},\"id\":\"24825\",\"type\":\"LinearScale\"},{\"attributes\":{},\"id\":\"24823\",\"type\":\"CategoricalScale\"},{\"attributes\":{\"data\":{\"top\":[1,2,1,1,1,1,9,2,3,2,1,2,3,0,2,1,2,1,1,1,1,2,1,1,1,1,2,4,1,1,5,1,1,1,1,1],\"x\":[\"2017-07\",\"2017-08\",\"2017-09\",\"2017-10\",\"2017-11\",\"2017-12\",\"2018-01\",\"2018-02\",\"2018-03\",\"2018-04\",\"2018-05\",\"2018-06\",\"2018-07\",\"2018-08\",\"2018-09\",\"2018-10\",\"2018-11\",\"2018-12\",\"2019-01\",\"2019-02\",\"2019-03\",\"2019-04\",\"2019-05\",\"2019-06\",\"2019-07\",\"2019-09\",\"2019-10\",\"2019-11\",\"2019-12\",\"2020-01\",\"2020-02\",\"2020-03\",\"2020-04\",\"2020-05\",\"2020-06\",\"2020-07\"]},\"selected\":{\"id\":\"25427\"},\"selection_policy\":{\"id\":\"25426\"}},\"id\":\"24847\",\"type\":\"ColumnDataSource\"},{\"attributes\":{\"data_source\":{\"id\":\"24847\"},\"glyph\":{\"id\":\"24848\"},\"hover_glyph\":null,\"muted_glyph\":null,\"nonselection_glyph\":{\"id\":\"24849\"},\"selection_glyph\":null,\"view\":{\"id\":\"24851\"}},\"id\":\"24850\",\"type\":\"GlyphRenderer\"},{\"attributes\":{\"end\":13,\"start\":0},\"id\":\"24821\",\"type\":\"DataRange1d\"},{\"attributes\":{\"data\":{\"x\":[\"2017-07\",\"2017-08\",\"2017-09\",\"2017-10\",\"2017-11\",\"2017-12\",\"2018-01\",\"2018-02\",\"2018-03\",\"2018-04\",\"2018-05\",\"2018-06\",\"2018-07\",\"2018-08\",\"2018-09\",\"2018-10\",\"2018-11\",\"2018-12\",\"2019-01\",\"2019-02\",\"2019-03\",\"2019-04\",\"2019-05\",\"2019-06\",\"2019-07\",\"2019-09\",\"2019-10\",\"2019-11\",\"2019-12\",\"2020-01\",\"2020-02\",\"2020-03\",\"2020-04\",\"2020-05\",\"2020-06\",\"2020-07\"],\"y\":[1.0138648180242635,1.4696707105719238,1.1767764298093588,0.9722703639514731,1.166377816291161,1.076256499133449,1.7954939341421143,1.516464471403813,1.1403812824956672,1.6065857885615251,1.632582322357019,1.3084922010398614,1.7383015597920277,0.6741767764298093,1.2599653379549394,1.0953206239168112,2.079722703639515,2.4783362218370883,1.6031195840554593,0.9688041594454073,1.1629116117850953,1.268630849220104,1.5996533795493935,1.1074523396880416,1.2097053726169844,1.124783362218371,1.4124783362218372,1.682842287694974,1.5511265164644714,1.1282495667244368,2.65684575389948,1.0710571923743502,0.9982668977469671,1,0.9324090121317158,1.5528596187175043]},\"selected\":{\"id\":\"25425\"},\"selection_policy\":{\"id\":\"25424\"}},\"id\":\"24835\",\"type\":\"ColumnDataSource\"},{\"attributes\":{\"fill_alpha\":{\"value\":0.1},\"fill_color\":{\"value\":\"#1f77b4\"},\"line_alpha\":{\"value\":0.1},\"line_color\":{\"value\":\"#1f77b4\"},\"top\":{\"field\":\"top\"},\"width\":{\"value\":1},\"x\":{\"field\":\"x\"}},\"id\":\"24849\",\"type\":\"VBar\"},{\"attributes\":{\"text\":\"Votes par mois pour Marion Lenne avec 1091 votes\"},\"id\":\"24817\",\"type\":\"Title\"},{\"attributes\":{\"source\":{\"id\":\"24847\"}},\"id\":\"24851\",\"type\":\"CDSView\"},{\"attributes\":{\"fill_alpha\":{\"value\":0.5},\"fill_color\":{\"value\":\"#1f77b4\"},\"line_alpha\":{\"value\":0.5},\"line_color\":{\"value\":\"#1f77b4\"},\"top\":{\"field\":\"top\"},\"width\":{\"value\":1},\"x\":{\"field\":\"x\"}},\"id\":\"24848\",\"type\":\"VBar\"},{\"attributes\":{\"axis\":{\"id\":\"24830\"},\"dimension\":1,\"grid_line_color\":null,\"ticker\":null},\"id\":\"24833\",\"type\":\"Grid\"},{\"attributes\":{\"factors\":[\"2017-07\",\"2017-08\",\"2017-09\",\"2017-10\",\"2017-11\",\"2017-12\",\"2018-01\",\"2018-02\",\"2018-03\",\"2018-04\",\"2018-05\",\"2018-06\",\"2018-07\",\"2018-08\",\"2018-09\",\"2018-10\",\"2018-11\",\"2018-12\",\"2019-01\",\"2019-02\",\"2019-03\",\"2019-04\",\"2019-05\",\"2019-06\",\"2019-07\",\"2019-09\",\"2019-10\",\"2019-11\",\"2019-12\",\"2020-01\",\"2020-02\",\"2020-03\",\"2020-04\",\"2020-05\",\"2020-06\",\"2020-07\"]},\"id\":\"24819\",\"type\":\"FactorRange\"},{\"attributes\":{},\"id\":\"24831\",\"type\":\"BasicTicker\"}],\"root_ids\":[\"24816\"]},\"title\":\"Bokeh Application\",\"version\":\"2.0.1\"}};\n",
       "  var render_items = [{\"docid\":\"92c50bbe-586d-4886-a308-48d836f73dc2\",\"root_ids\":[\"24816\"],\"roots\":{\"24816\":\"e3ba0602-07cb-463d-bc6a-e3e82aa736e7\"}}];\n",
       "  root.Bokeh.embed.embed_items_notebook(docs_json, render_items);\n",
       "\n",
       "  }\n",
       "  if (root.Bokeh !== undefined) {\n",
       "    embed_document(root);\n",
       "  } else {\n",
       "    var attempts = 0;\n",
       "    var timer = setInterval(function(root) {\n",
       "      if (root.Bokeh !== undefined) {\n",
       "        clearInterval(timer);\n",
       "        embed_document(root);\n",
       "      } else {\n",
       "        attempts++;\n",
       "        if (attempts > 100) {\n",
       "          clearInterval(timer);\n",
       "          console.log(\"Bokeh: ERROR: Unable to run BokehJS code because BokehJS library is missing\");\n",
       "        }\n",
       "      }\n",
       "    }, 10, root)\n",
       "  }\n",
       "})(window);"
      ],
      "application/vnd.bokehjs_exec.v0+json": ""
     },
     "metadata": {
      "application/vnd.bokehjs_exec.v0+json": {
       "id": "24816"
      }
     },
     "output_type": "display_data"
    },
    {
     "data": {
      "text/html": [
       "\n",
       "\n",
       "\n",
       "\n",
       "\n",
       "\n",
       "  <div class=\"bk-root\" id=\"7ca1246a-ded3-4d35-a41f-272872893be9\" data-root-id=\"25482\"></div>\n"
      ]
     },
     "metadata": {},
     "output_type": "display_data"
    },
    {
     "data": {
      "application/javascript": [
       "(function(root) {\n",
       "  function embed_document(root) {\n",
       "    \n",
       "  var docs_json = {\"8f1d67e4-6ee0-4483-8309-c7dc1db962d2\":{\"roots\":{\"references\":[{\"attributes\":{\"below\":[{\"id\":\"25493\"}],\"center\":[{\"id\":\"25495\"},{\"id\":\"25499\"},{\"id\":\"25511\"}],\"left\":[{\"id\":\"25496\"}],\"plot_height\":400,\"plot_width\":700,\"renderers\":[{\"id\":\"25504\"},{\"id\":\"25516\"}],\"title\":{\"id\":\"25483\"},\"toolbar\":{\"id\":\"25500\"},\"toolbar_location\":null,\"x_range\":{\"id\":\"25485\"},\"x_scale\":{\"id\":\"25489\"},\"y_range\":{\"id\":\"25487\"},\"y_scale\":{\"id\":\"25491\"}},\"id\":\"25482\",\"subtype\":\"Figure\",\"type\":\"Plot\"},{\"attributes\":{\"items\":[{\"id\":\"25512\"}]},\"id\":\"25511\",\"type\":\"Legend\"},{\"attributes\":{\"factors\":[\"2017-07\",\"2017-08\",\"2017-09\",\"2017-10\",\"2017-11\",\"2017-12\",\"2018-01\",\"2018-02\",\"2018-03\",\"2018-04\",\"2018-05\",\"2018-06\",\"2018-07\",\"2018-08\",\"2018-09\",\"2018-10\",\"2018-11\",\"2018-12\",\"2019-01\",\"2019-02\",\"2019-03\",\"2019-04\",\"2019-05\",\"2019-06\",\"2019-07\",\"2019-09\",\"2019-10\",\"2019-11\",\"2019-12\",\"2020-01\",\"2020-02\",\"2020-03\",\"2020-04\",\"2020-05\",\"2020-06\",\"2020-07\"]},\"id\":\"25485\",\"type\":\"FactorRange\"},{\"attributes\":{},\"id\":\"25491\",\"type\":\"LinearScale\"},{\"attributes\":{\"label\":{\"value\":\"Moyenne de tous les d\\u00e9put\\u00e9s\"},\"renderers\":[{\"id\":\"25504\"}]},\"id\":\"25512\",\"type\":\"LegendItem\"},{\"attributes\":{\"formatter\":{\"id\":\"25508\"},\"major_label_orientation\":\"vertical\",\"ticker\":{\"id\":\"25494\"}},\"id\":\"25493\",\"type\":\"CategoricalAxis\"},{\"attributes\":{},\"id\":\"25489\",\"type\":\"CategoricalScale\"},{\"attributes\":{\"data\":{\"top\":[1,2,2,1,1,1,13,1,1,1,1,1,1,2,1,1,1,1,1,1,1,2,1,1,1,1,3,1,3,1,1,2,1,1,1,8],\"x\":[\"2017-07\",\"2017-08\",\"2017-09\",\"2017-10\",\"2017-11\",\"2017-12\",\"2018-01\",\"2018-02\",\"2018-03\",\"2018-04\",\"2018-05\",\"2018-06\",\"2018-07\",\"2018-08\",\"2018-09\",\"2018-10\",\"2018-11\",\"2018-12\",\"2019-01\",\"2019-02\",\"2019-03\",\"2019-04\",\"2019-05\",\"2019-06\",\"2019-07\",\"2019-09\",\"2019-10\",\"2019-11\",\"2019-12\",\"2020-01\",\"2020-02\",\"2020-03\",\"2020-04\",\"2020-05\",\"2020-06\",\"2020-07\"]},\"selected\":{\"id\":\"26102\"},\"selection_policy\":{\"id\":\"26101\"}},\"id\":\"25513\",\"type\":\"ColumnDataSource\"},{\"attributes\":{},\"id\":\"25494\",\"type\":\"CategoricalTicker\"},{\"attributes\":{\"text\":\"Votes par mois pour Marie-Christine Verdier-Jouclas avec 1143 votes\"},\"id\":\"25483\",\"type\":\"Title\"},{\"attributes\":{\"axis\":{\"id\":\"25493\"},\"grid_line_color\":null,\"ticker\":null},\"id\":\"25495\",\"type\":\"Grid\"},{\"attributes\":{\"data_source\":{\"id\":\"25513\"},\"glyph\":{\"id\":\"25514\"},\"hover_glyph\":null,\"muted_glyph\":null,\"nonselection_glyph\":{\"id\":\"25515\"},\"selection_glyph\":null,\"view\":{\"id\":\"25517\"}},\"id\":\"25516\",\"type\":\"GlyphRenderer\"},{\"attributes\":{\"formatter\":{\"id\":\"25510\"},\"ticker\":{\"id\":\"25497\"}},\"id\":\"25496\",\"type\":\"LinearAxis\"},{\"attributes\":{\"data\":{\"x\":[\"2017-07\",\"2017-08\",\"2017-09\",\"2017-10\",\"2017-11\",\"2017-12\",\"2018-01\",\"2018-02\",\"2018-03\",\"2018-04\",\"2018-05\",\"2018-06\",\"2018-07\",\"2018-08\",\"2018-09\",\"2018-10\",\"2018-11\",\"2018-12\",\"2019-01\",\"2019-02\",\"2019-03\",\"2019-04\",\"2019-05\",\"2019-06\",\"2019-07\",\"2019-09\",\"2019-10\",\"2019-11\",\"2019-12\",\"2020-01\",\"2020-02\",\"2020-03\",\"2020-04\",\"2020-05\",\"2020-06\",\"2020-07\"],\"y\":[1.0138648180242635,1.4696707105719238,1.1767764298093588,0.9722703639514731,1.166377816291161,1.076256499133449,1.7954939341421143,1.516464471403813,1.1403812824956672,1.6065857885615251,1.632582322357019,1.3084922010398614,1.7383015597920277,0.6741767764298093,1.2599653379549394,1.0953206239168112,2.079722703639515,2.4783362218370883,1.6031195840554593,0.9688041594454073,1.1629116117850953,1.268630849220104,1.5996533795493935,1.1074523396880416,1.2097053726169844,1.124783362218371,1.4124783362218372,1.682842287694974,1.5511265164644714,1.1282495667244368,2.65684575389948,1.0710571923743502,0.9982668977469671,1,0.9324090121317158,1.5528596187175043]},\"selected\":{\"id\":\"26100\"},\"selection_policy\":{\"id\":\"26099\"}},\"id\":\"25501\",\"type\":\"ColumnDataSource\"},{\"attributes\":{},\"id\":\"25497\",\"type\":\"BasicTicker\"},{\"attributes\":{\"fill_alpha\":{\"value\":0.1},\"fill_color\":{\"value\":\"#1f77b4\"},\"line_alpha\":{\"value\":0.1},\"line_color\":{\"value\":\"#1f77b4\"},\"top\":{\"field\":\"top\"},\"width\":{\"value\":1},\"x\":{\"field\":\"x\"}},\"id\":\"25515\",\"type\":\"VBar\"},{\"attributes\":{\"source\":{\"id\":\"25513\"}},\"id\":\"25517\",\"type\":\"CDSView\"},{\"attributes\":{\"axis\":{\"id\":\"25496\"},\"dimension\":1,\"grid_line_color\":null,\"ticker\":null},\"id\":\"25499\",\"type\":\"Grid\"},{\"attributes\":{\"fill_alpha\":{\"value\":0.5},\"fill_color\":{\"value\":\"#1f77b4\"},\"line_alpha\":{\"value\":0.5},\"line_color\":{\"value\":\"#1f77b4\"},\"top\":{\"field\":\"top\"},\"width\":{\"value\":1},\"x\":{\"field\":\"x\"}},\"id\":\"25514\",\"type\":\"VBar\"},{\"attributes\":{},\"id\":\"26100\",\"type\":\"Selection\"},{\"attributes\":{\"active_drag\":\"auto\",\"active_inspect\":\"auto\",\"active_multi\":null,\"active_scroll\":\"auto\",\"active_tap\":\"auto\"},\"id\":\"25500\",\"type\":\"Toolbar\"},{\"attributes\":{},\"id\":\"26101\",\"type\":\"UnionRenderers\"},{\"attributes\":{},\"id\":\"26102\",\"type\":\"Selection\"},{\"attributes\":{},\"id\":\"25508\",\"type\":\"CategoricalTickFormatter\"},{\"attributes\":{\"line_alpha\":{\"value\":0.1},\"line_color\":{\"value\":\"red\"},\"line_width\":{\"value\":2},\"x\":{\"field\":\"x\"},\"y\":{\"field\":\"y\"}},\"id\":\"25503\",\"type\":\"Step\"},{\"attributes\":{\"data_source\":{\"id\":\"25501\"},\"glyph\":{\"id\":\"25502\"},\"hover_glyph\":null,\"muted_glyph\":null,\"nonselection_glyph\":{\"id\":\"25503\"},\"selection_glyph\":null,\"view\":{\"id\":\"25505\"}},\"id\":\"25504\",\"type\":\"GlyphRenderer\"},{\"attributes\":{\"source\":{\"id\":\"25501\"}},\"id\":\"25505\",\"type\":\"CDSView\"},{\"attributes\":{\"line_alpha\":{\"value\":0.8},\"line_color\":{\"value\":\"red\"},\"line_width\":{\"value\":2},\"x\":{\"field\":\"x\"},\"y\":{\"field\":\"y\"}},\"id\":\"25502\",\"type\":\"Step\"},{\"attributes\":{\"end\":13,\"start\":0},\"id\":\"25487\",\"type\":\"DataRange1d\"},{\"attributes\":{},\"id\":\"25510\",\"type\":\"BasicTickFormatter\"},{\"attributes\":{},\"id\":\"26099\",\"type\":\"UnionRenderers\"}],\"root_ids\":[\"25482\"]},\"title\":\"Bokeh Application\",\"version\":\"2.0.1\"}};\n",
       "  var render_items = [{\"docid\":\"8f1d67e4-6ee0-4483-8309-c7dc1db962d2\",\"root_ids\":[\"25482\"],\"roots\":{\"25482\":\"7ca1246a-ded3-4d35-a41f-272872893be9\"}}];\n",
       "  root.Bokeh.embed.embed_items_notebook(docs_json, render_items);\n",
       "\n",
       "  }\n",
       "  if (root.Bokeh !== undefined) {\n",
       "    embed_document(root);\n",
       "  } else {\n",
       "    var attempts = 0;\n",
       "    var timer = setInterval(function(root) {\n",
       "      if (root.Bokeh !== undefined) {\n",
       "        clearInterval(timer);\n",
       "        embed_document(root);\n",
       "      } else {\n",
       "        attempts++;\n",
       "        if (attempts > 100) {\n",
       "          clearInterval(timer);\n",
       "          console.log(\"Bokeh: ERROR: Unable to run BokehJS code because BokehJS library is missing\");\n",
       "        }\n",
       "      }\n",
       "    }, 10, root)\n",
       "  }\n",
       "})(window);"
      ],
      "application/vnd.bokehjs_exec.v0+json": ""
     },
     "metadata": {
      "application/vnd.bokehjs_exec.v0+json": {
       "id": "25482"
      }
     },
     "output_type": "display_data"
    },
    {
     "data": {
      "text/html": [
       "\n",
       "\n",
       "\n",
       "\n",
       "\n",
       "\n",
       "  <div class=\"bk-root\" id=\"7c092874-db15-4e5c-bee7-6e7089e21a49\" data-root-id=\"26157\"></div>\n"
      ]
     },
     "metadata": {},
     "output_type": "display_data"
    },
    {
     "data": {
      "application/javascript": [
       "(function(root) {\n",
       "  function embed_document(root) {\n",
       "    \n",
       "  var docs_json = {\"b5f0ff3a-bffa-4a70-aef6-271b472cc85a\":{\"roots\":{\"references\":[{\"attributes\":{\"below\":[{\"id\":\"26168\"}],\"center\":[{\"id\":\"26170\"},{\"id\":\"26174\"},{\"id\":\"26186\"}],\"left\":[{\"id\":\"26171\"}],\"plot_height\":400,\"plot_width\":700,\"renderers\":[{\"id\":\"26179\"},{\"id\":\"26191\"}],\"title\":{\"id\":\"26158\"},\"toolbar\":{\"id\":\"26175\"},\"toolbar_location\":null,\"x_range\":{\"id\":\"26160\"},\"x_scale\":{\"id\":\"26164\"},\"y_range\":{\"id\":\"26162\"},\"y_scale\":{\"id\":\"26166\"}},\"id\":\"26157\",\"subtype\":\"Figure\",\"type\":\"Plot\"},{\"attributes\":{\"formatter\":{\"id\":\"26185\"},\"ticker\":{\"id\":\"26172\"}},\"id\":\"26171\",\"type\":\"LinearAxis\"},{\"attributes\":{},\"id\":\"26172\",\"type\":\"BasicTicker\"},{\"attributes\":{\"fill_alpha\":{\"value\":0.1},\"fill_color\":{\"value\":\"#1f77b4\"},\"line_alpha\":{\"value\":0.1},\"line_color\":{\"value\":\"#1f77b4\"},\"top\":{\"field\":\"top\"},\"width\":{\"value\":1},\"x\":{\"field\":\"x\"}},\"id\":\"26190\",\"type\":\"VBar\"},{\"attributes\":{\"source\":{\"id\":\"26188\"}},\"id\":\"26192\",\"type\":\"CDSView\"},{\"attributes\":{\"axis\":{\"id\":\"26171\"},\"dimension\":1,\"grid_line_color\":null,\"ticker\":null},\"id\":\"26174\",\"type\":\"Grid\"},{\"attributes\":{\"fill_alpha\":{\"value\":0.5},\"fill_color\":{\"value\":\"#1f77b4\"},\"line_alpha\":{\"value\":0.5},\"line_color\":{\"value\":\"#1f77b4\"},\"top\":{\"field\":\"top\"},\"width\":{\"value\":1},\"x\":{\"field\":\"x\"}},\"id\":\"26189\",\"type\":\"VBar\"},{\"attributes\":{\"active_drag\":\"auto\",\"active_inspect\":\"auto\",\"active_multi\":null,\"active_scroll\":\"auto\",\"active_tap\":\"auto\"},\"id\":\"26175\",\"type\":\"Toolbar\"},{\"attributes\":{},\"id\":\"26785\",\"type\":\"UnionRenderers\"},{\"attributes\":{},\"id\":\"26786\",\"type\":\"Selection\"},{\"attributes\":{\"factors\":[\"2017-07\",\"2017-08\",\"2017-09\",\"2017-10\",\"2017-11\",\"2017-12\",\"2018-01\",\"2018-02\",\"2018-03\",\"2018-04\",\"2018-05\",\"2018-06\",\"2018-07\",\"2018-08\",\"2018-09\",\"2018-10\",\"2018-11\",\"2018-12\",\"2019-01\",\"2019-02\",\"2019-03\",\"2019-04\",\"2019-05\",\"2019-06\",\"2019-07\",\"2019-09\",\"2019-10\",\"2019-11\",\"2019-12\",\"2020-01\",\"2020-02\",\"2020-03\",\"2020-04\",\"2020-05\",\"2020-06\",\"2020-07\"]},\"id\":\"26160\",\"type\":\"FactorRange\"},{\"attributes\":{},\"id\":\"26183\",\"type\":\"CategoricalTickFormatter\"},{\"attributes\":{\"line_alpha\":{\"value\":0.1},\"line_color\":{\"value\":\"red\"},\"line_width\":{\"value\":2},\"x\":{\"field\":\"x\"},\"y\":{\"field\":\"y\"}},\"id\":\"26178\",\"type\":\"Step\"},{\"attributes\":{\"end\":13,\"start\":0},\"id\":\"26162\",\"type\":\"DataRange1d\"},{\"attributes\":{\"data_source\":{\"id\":\"26176\"},\"glyph\":{\"id\":\"26177\"},\"hover_glyph\":null,\"muted_glyph\":null,\"nonselection_glyph\":{\"id\":\"26178\"},\"selection_glyph\":null,\"view\":{\"id\":\"26180\"}},\"id\":\"26179\",\"type\":\"GlyphRenderer\"},{\"attributes\":{},\"id\":\"26164\",\"type\":\"CategoricalScale\"},{\"attributes\":{\"source\":{\"id\":\"26176\"}},\"id\":\"26180\",\"type\":\"CDSView\"},{\"attributes\":{\"line_alpha\":{\"value\":0.8},\"line_color\":{\"value\":\"red\"},\"line_width\":{\"value\":2},\"x\":{\"field\":\"x\"},\"y\":{\"field\":\"y\"}},\"id\":\"26177\",\"type\":\"Step\"},{\"attributes\":{\"axis\":{\"id\":\"26168\"},\"grid_line_color\":null,\"ticker\":null},\"id\":\"26170\",\"type\":\"Grid\"},{\"attributes\":{\"text\":\"Votes par mois pour Nicole Dubr\\u00e9-Chirat avec 1217 votes\"},\"id\":\"26158\",\"type\":\"Title\"},{\"attributes\":{},\"id\":\"26185\",\"type\":\"BasicTickFormatter\"},{\"attributes\":{\"data\":{\"x\":[\"2017-07\",\"2017-08\",\"2017-09\",\"2017-10\",\"2017-11\",\"2017-12\",\"2018-01\",\"2018-02\",\"2018-03\",\"2018-04\",\"2018-05\",\"2018-06\",\"2018-07\",\"2018-08\",\"2018-09\",\"2018-10\",\"2018-11\",\"2018-12\",\"2019-01\",\"2019-02\",\"2019-03\",\"2019-04\",\"2019-05\",\"2019-06\",\"2019-07\",\"2019-09\",\"2019-10\",\"2019-11\",\"2019-12\",\"2020-01\",\"2020-02\",\"2020-03\",\"2020-04\",\"2020-05\",\"2020-06\",\"2020-07\"],\"y\":[1.0138648180242635,1.4696707105719238,1.1767764298093588,0.9722703639514731,1.166377816291161,1.076256499133449,1.7954939341421143,1.516464471403813,1.1403812824956672,1.6065857885615251,1.632582322357019,1.3084922010398614,1.7383015597920277,0.6741767764298093,1.2599653379549394,1.0953206239168112,2.079722703639515,2.4783362218370883,1.6031195840554593,0.9688041594454073,1.1629116117850953,1.268630849220104,1.5996533795493935,1.1074523396880416,1.2097053726169844,1.124783362218371,1.4124783362218372,1.682842287694974,1.5511265164644714,1.1282495667244368,2.65684575389948,1.0710571923743502,0.9982668977469671,1,0.9324090121317158,1.5528596187175043]},\"selected\":{\"id\":\"26784\"},\"selection_policy\":{\"id\":\"26783\"}},\"id\":\"26176\",\"type\":\"ColumnDataSource\"},{\"attributes\":{},\"id\":\"26783\",\"type\":\"UnionRenderers\"},{\"attributes\":{\"items\":[{\"id\":\"26187\"}]},\"id\":\"26186\",\"type\":\"Legend\"},{\"attributes\":{\"label\":{\"value\":\"Moyenne de tous les d\\u00e9put\\u00e9s\"},\"renderers\":[{\"id\":\"26179\"}]},\"id\":\"26187\",\"type\":\"LegendItem\"},{\"attributes\":{\"formatter\":{\"id\":\"26183\"},\"major_label_orientation\":\"vertical\",\"ticker\":{\"id\":\"26169\"}},\"id\":\"26168\",\"type\":\"CategoricalAxis\"},{\"attributes\":{},\"id\":\"26169\",\"type\":\"CategoricalTicker\"},{\"attributes\":{\"data\":{\"top\":[1,2,2,1,1,1,2,2,3,1,1,1,2,3,2,1,2,1,3,1,2,1,1,1,1,1,1,1,1,2,1,1,1,1,1,1],\"x\":[\"2017-07\",\"2017-08\",\"2017-09\",\"2017-10\",\"2017-11\",\"2017-12\",\"2018-01\",\"2018-02\",\"2018-03\",\"2018-04\",\"2018-05\",\"2018-06\",\"2018-07\",\"2018-08\",\"2018-09\",\"2018-10\",\"2018-11\",\"2018-12\",\"2019-01\",\"2019-02\",\"2019-03\",\"2019-04\",\"2019-05\",\"2019-06\",\"2019-07\",\"2019-09\",\"2019-10\",\"2019-11\",\"2019-12\",\"2020-01\",\"2020-02\",\"2020-03\",\"2020-04\",\"2020-05\",\"2020-06\",\"2020-07\"]},\"selected\":{\"id\":\"26786\"},\"selection_policy\":{\"id\":\"26785\"}},\"id\":\"26188\",\"type\":\"ColumnDataSource\"},{\"attributes\":{},\"id\":\"26166\",\"type\":\"LinearScale\"},{\"attributes\":{},\"id\":\"26784\",\"type\":\"Selection\"},{\"attributes\":{\"data_source\":{\"id\":\"26188\"},\"glyph\":{\"id\":\"26189\"},\"hover_glyph\":null,\"muted_glyph\":null,\"nonselection_glyph\":{\"id\":\"26190\"},\"selection_glyph\":null,\"view\":{\"id\":\"26192\"}},\"id\":\"26191\",\"type\":\"GlyphRenderer\"}],\"root_ids\":[\"26157\"]},\"title\":\"Bokeh Application\",\"version\":\"2.0.1\"}};\n",
       "  var render_items = [{\"docid\":\"b5f0ff3a-bffa-4a70-aef6-271b472cc85a\",\"root_ids\":[\"26157\"],\"roots\":{\"26157\":\"7c092874-db15-4e5c-bee7-6e7089e21a49\"}}];\n",
       "  root.Bokeh.embed.embed_items_notebook(docs_json, render_items);\n",
       "\n",
       "  }\n",
       "  if (root.Bokeh !== undefined) {\n",
       "    embed_document(root);\n",
       "  } else {\n",
       "    var attempts = 0;\n",
       "    var timer = setInterval(function(root) {\n",
       "      if (root.Bokeh !== undefined) {\n",
       "        clearInterval(timer);\n",
       "        embed_document(root);\n",
       "      } else {\n",
       "        attempts++;\n",
       "        if (attempts > 100) {\n",
       "          clearInterval(timer);\n",
       "          console.log(\"Bokeh: ERROR: Unable to run BokehJS code because BokehJS library is missing\");\n",
       "        }\n",
       "      }\n",
       "    }, 10, root)\n",
       "  }\n",
       "})(window);"
      ],
      "application/vnd.bokehjs_exec.v0+json": ""
     },
     "metadata": {
      "application/vnd.bokehjs_exec.v0+json": {
       "id": "26157"
      }
     },
     "output_type": "display_data"
    },
    {
     "data": {
      "text/html": [
       "\n",
       "\n",
       "\n",
       "\n",
       "\n",
       "\n",
       "  <div class=\"bk-root\" id=\"91bd46fa-8fea-47a0-9fdc-aa4b3d8bd17b\" data-root-id=\"26841\"></div>\n"
      ]
     },
     "metadata": {},
     "output_type": "display_data"
    },
    {
     "data": {
      "application/javascript": [
       "(function(root) {\n",
       "  function embed_document(root) {\n",
       "    \n",
       "  var docs_json = {\"b8fef80d-0c30-43bc-8a16-e8f915b85b37\":{\"roots\":{\"references\":[{\"attributes\":{\"below\":[{\"id\":\"26852\"}],\"center\":[{\"id\":\"26854\"},{\"id\":\"26858\"},{\"id\":\"26870\"}],\"left\":[{\"id\":\"26855\"}],\"plot_height\":400,\"plot_width\":700,\"renderers\":[{\"id\":\"26863\"},{\"id\":\"26875\"}],\"title\":{\"id\":\"26842\"},\"toolbar\":{\"id\":\"26859\"},\"toolbar_location\":null,\"x_range\":{\"id\":\"26844\"},\"x_scale\":{\"id\":\"26848\"},\"y_range\":{\"id\":\"26846\"},\"y_scale\":{\"id\":\"26850\"}},\"id\":\"26841\",\"subtype\":\"Figure\",\"type\":\"Plot\"},{\"attributes\":{},\"id\":\"27477\",\"type\":\"Selection\"},{\"attributes\":{\"active_drag\":\"auto\",\"active_inspect\":\"auto\",\"active_multi\":null,\"active_scroll\":\"auto\",\"active_tap\":\"auto\"},\"id\":\"26859\",\"type\":\"Toolbar\"},{\"attributes\":{},\"id\":\"27478\",\"type\":\"UnionRenderers\"},{\"attributes\":{},\"id\":\"27479\",\"type\":\"Selection\"},{\"attributes\":{\"axis\":{\"id\":\"26852\"},\"grid_line_color\":null,\"ticker\":null},\"id\":\"26854\",\"type\":\"Grid\"},{\"attributes\":{\"formatter\":{\"id\":\"26867\"},\"major_label_orientation\":\"vertical\",\"ticker\":{\"id\":\"26853\"}},\"id\":\"26852\",\"type\":\"CategoricalAxis\"},{\"attributes\":{},\"id\":\"26867\",\"type\":\"CategoricalTickFormatter\"},{\"attributes\":{\"line_alpha\":{\"value\":0.1},\"line_color\":{\"value\":\"red\"},\"line_width\":{\"value\":2},\"x\":{\"field\":\"x\"},\"y\":{\"field\":\"y\"}},\"id\":\"26862\",\"type\":\"Step\"},{\"attributes\":{},\"id\":\"26856\",\"type\":\"BasicTicker\"},{\"attributes\":{\"data_source\":{\"id\":\"26860\"},\"glyph\":{\"id\":\"26861\"},\"hover_glyph\":null,\"muted_glyph\":null,\"nonselection_glyph\":{\"id\":\"26862\"},\"selection_glyph\":null,\"view\":{\"id\":\"26864\"}},\"id\":\"26863\",\"type\":\"GlyphRenderer\"},{\"attributes\":{\"formatter\":{\"id\":\"26869\"},\"ticker\":{\"id\":\"26856\"}},\"id\":\"26855\",\"type\":\"LinearAxis\"},{\"attributes\":{},\"id\":\"26853\",\"type\":\"CategoricalTicker\"},{\"attributes\":{\"source\":{\"id\":\"26860\"}},\"id\":\"26864\",\"type\":\"CDSView\"},{\"attributes\":{\"line_alpha\":{\"value\":0.8},\"line_color\":{\"value\":\"red\"},\"line_width\":{\"value\":2},\"x\":{\"field\":\"x\"},\"y\":{\"field\":\"y\"}},\"id\":\"26861\",\"type\":\"Step\"},{\"attributes\":{},\"id\":\"26869\",\"type\":\"BasicTickFormatter\"},{\"attributes\":{\"data\":{\"x\":[\"2017-07\",\"2017-08\",\"2017-09\",\"2017-10\",\"2017-11\",\"2017-12\",\"2018-01\",\"2018-02\",\"2018-03\",\"2018-04\",\"2018-05\",\"2018-06\",\"2018-07\",\"2018-08\",\"2018-09\",\"2018-10\",\"2018-11\",\"2018-12\",\"2019-01\",\"2019-02\",\"2019-03\",\"2019-04\",\"2019-05\",\"2019-06\",\"2019-07\",\"2019-09\",\"2019-10\",\"2019-11\",\"2019-12\",\"2020-01\",\"2020-02\",\"2020-03\",\"2020-04\",\"2020-05\",\"2020-06\",\"2020-07\"],\"y\":[1.0138648180242635,1.4696707105719238,1.1767764298093588,0.9722703639514731,1.166377816291161,1.076256499133449,1.7954939341421143,1.516464471403813,1.1403812824956672,1.6065857885615251,1.632582322357019,1.3084922010398614,1.7383015597920277,0.6741767764298093,1.2599653379549394,1.0953206239168112,2.079722703639515,2.4783362218370883,1.6031195840554593,0.9688041594454073,1.1629116117850953,1.268630849220104,1.5996533795493935,1.1074523396880416,1.2097053726169844,1.124783362218371,1.4124783362218372,1.682842287694974,1.5511265164644714,1.1282495667244368,2.65684575389948,1.0710571923743502,0.9982668977469671,1,0.9324090121317158,1.5528596187175043]},\"selected\":{\"id\":\"27477\"},\"selection_policy\":{\"id\":\"27476\"}},\"id\":\"26860\",\"type\":\"ColumnDataSource\"},{\"attributes\":{\"factors\":[\"2017-07\",\"2017-08\",\"2017-09\",\"2017-10\",\"2017-11\",\"2017-12\",\"2018-01\",\"2018-02\",\"2018-03\",\"2018-04\",\"2018-05\",\"2018-06\",\"2018-07\",\"2018-08\",\"2018-09\",\"2018-10\",\"2018-11\",\"2018-12\",\"2019-01\",\"2019-02\",\"2019-03\",\"2019-04\",\"2019-05\",\"2019-06\",\"2019-07\",\"2019-09\",\"2019-10\",\"2019-11\",\"2019-12\",\"2020-01\",\"2020-02\",\"2020-03\",\"2020-04\",\"2020-05\",\"2020-06\",\"2020-07\"]},\"id\":\"26844\",\"type\":\"FactorRange\"},{\"attributes\":{\"items\":[{\"id\":\"26871\"}]},\"id\":\"26870\",\"type\":\"Legend\"},{\"attributes\":{\"text\":\"Votes par mois pour Alain Ramadier avec 1297 votes\"},\"id\":\"26842\",\"type\":\"Title\"},{\"attributes\":{\"label\":{\"value\":\"Moyenne de tous les d\\u00e9put\\u00e9s\"},\"renderers\":[{\"id\":\"26863\"}]},\"id\":\"26871\",\"type\":\"LegendItem\"},{\"attributes\":{\"axis\":{\"id\":\"26855\"},\"dimension\":1,\"grid_line_color\":null,\"ticker\":null},\"id\":\"26858\",\"type\":\"Grid\"},{\"attributes\":{\"data\":{\"top\":[1,2,1,1,2,1,1,1,1,1,2,1,1,2,1,1,3,1,2,1,1,1,1,1,1,1,1,2,1,1,2,1,1,1,1,5],\"x\":[\"2017-07\",\"2017-08\",\"2017-09\",\"2017-10\",\"2017-11\",\"2017-12\",\"2018-01\",\"2018-02\",\"2018-03\",\"2018-04\",\"2018-05\",\"2018-06\",\"2018-07\",\"2018-08\",\"2018-09\",\"2018-10\",\"2018-11\",\"2018-12\",\"2019-01\",\"2019-02\",\"2019-03\",\"2019-04\",\"2019-05\",\"2019-06\",\"2019-07\",\"2019-09\",\"2019-10\",\"2019-11\",\"2019-12\",\"2020-01\",\"2020-02\",\"2020-03\",\"2020-04\",\"2020-05\",\"2020-06\",\"2020-07\"]},\"selected\":{\"id\":\"27479\"},\"selection_policy\":{\"id\":\"27478\"}},\"id\":\"26872\",\"type\":\"ColumnDataSource\"},{\"attributes\":{\"data_source\":{\"id\":\"26872\"},\"glyph\":{\"id\":\"26873\"},\"hover_glyph\":null,\"muted_glyph\":null,\"nonselection_glyph\":{\"id\":\"26874\"},\"selection_glyph\":null,\"view\":{\"id\":\"26876\"}},\"id\":\"26875\",\"type\":\"GlyphRenderer\"},{\"attributes\":{\"end\":13,\"start\":0},\"id\":\"26846\",\"type\":\"DataRange1d\"},{\"attributes\":{},\"id\":\"26850\",\"type\":\"LinearScale\"},{\"attributes\":{\"fill_alpha\":{\"value\":0.1},\"fill_color\":{\"value\":\"#1f77b4\"},\"line_alpha\":{\"value\":0.1},\"line_color\":{\"value\":\"#1f77b4\"},\"top\":{\"field\":\"top\"},\"width\":{\"value\":1},\"x\":{\"field\":\"x\"}},\"id\":\"26874\",\"type\":\"VBar\"},{\"attributes\":{},\"id\":\"26848\",\"type\":\"CategoricalScale\"},{\"attributes\":{\"source\":{\"id\":\"26872\"}},\"id\":\"26876\",\"type\":\"CDSView\"},{\"attributes\":{\"fill_alpha\":{\"value\":0.5},\"fill_color\":{\"value\":\"#1f77b4\"},\"line_alpha\":{\"value\":0.5},\"line_color\":{\"value\":\"#1f77b4\"},\"top\":{\"field\":\"top\"},\"width\":{\"value\":1},\"x\":{\"field\":\"x\"}},\"id\":\"26873\",\"type\":\"VBar\"},{\"attributes\":{},\"id\":\"27476\",\"type\":\"UnionRenderers\"}],\"root_ids\":[\"26841\"]},\"title\":\"Bokeh Application\",\"version\":\"2.0.1\"}};\n",
       "  var render_items = [{\"docid\":\"b8fef80d-0c30-43bc-8a16-e8f915b85b37\",\"root_ids\":[\"26841\"],\"roots\":{\"26841\":\"91bd46fa-8fea-47a0-9fdc-aa4b3d8bd17b\"}}];\n",
       "  root.Bokeh.embed.embed_items_notebook(docs_json, render_items);\n",
       "\n",
       "  }\n",
       "  if (root.Bokeh !== undefined) {\n",
       "    embed_document(root);\n",
       "  } else {\n",
       "    var attempts = 0;\n",
       "    var timer = setInterval(function(root) {\n",
       "      if (root.Bokeh !== undefined) {\n",
       "        clearInterval(timer);\n",
       "        embed_document(root);\n",
       "      } else {\n",
       "        attempts++;\n",
       "        if (attempts > 100) {\n",
       "          clearInterval(timer);\n",
       "          console.log(\"Bokeh: ERROR: Unable to run BokehJS code because BokehJS library is missing\");\n",
       "        }\n",
       "      }\n",
       "    }, 10, root)\n",
       "  }\n",
       "})(window);"
      ],
      "application/vnd.bokehjs_exec.v0+json": ""
     },
     "metadata": {
      "application/vnd.bokehjs_exec.v0+json": {
       "id": "26841"
      }
     },
     "output_type": "display_data"
    },
    {
     "data": {
      "text/html": [
       "\n",
       "\n",
       "\n",
       "\n",
       "\n",
       "\n",
       "  <div class=\"bk-root\" id=\"333c9522-bc87-4387-950e-254618f9d579\" data-root-id=\"27534\"></div>\n"
      ]
     },
     "metadata": {},
     "output_type": "display_data"
    },
    {
     "data": {
      "application/javascript": [
       "(function(root) {\n",
       "  function embed_document(root) {\n",
       "    \n",
       "  var docs_json = {\"8cdf133f-e8db-49b3-bab9-7179cae0dbfa\":{\"roots\":{\"references\":[{\"attributes\":{\"below\":[{\"id\":\"27545\"}],\"center\":[{\"id\":\"27547\"},{\"id\":\"27551\"},{\"id\":\"27563\"}],\"left\":[{\"id\":\"27548\"}],\"plot_height\":400,\"plot_width\":700,\"renderers\":[{\"id\":\"27556\"},{\"id\":\"27568\"}],\"title\":{\"id\":\"27535\"},\"toolbar\":{\"id\":\"27552\"},\"toolbar_location\":null,\"x_range\":{\"id\":\"27537\"},\"x_scale\":{\"id\":\"27541\"},\"y_range\":{\"id\":\"27539\"},\"y_scale\":{\"id\":\"27543\"}},\"id\":\"27534\",\"subtype\":\"Figure\",\"type\":\"Plot\"},{\"attributes\":{},\"id\":\"27560\",\"type\":\"CategoricalTickFormatter\"},{\"attributes\":{\"line_alpha\":{\"value\":0.1},\"line_color\":{\"value\":\"red\"},\"line_width\":{\"value\":2},\"x\":{\"field\":\"x\"},\"y\":{\"field\":\"y\"}},\"id\":\"27555\",\"type\":\"Step\"},{\"attributes\":{},\"id\":\"28178\",\"type\":\"UnionRenderers\"},{\"attributes\":{\"end\":13,\"start\":0},\"id\":\"27539\",\"type\":\"DataRange1d\"},{\"attributes\":{\"data_source\":{\"id\":\"27553\"},\"glyph\":{\"id\":\"27554\"},\"hover_glyph\":null,\"muted_glyph\":null,\"nonselection_glyph\":{\"id\":\"27555\"},\"selection_glyph\":null,\"view\":{\"id\":\"27557\"}},\"id\":\"27556\",\"type\":\"GlyphRenderer\"},{\"attributes\":{\"source\":{\"id\":\"27553\"}},\"id\":\"27557\",\"type\":\"CDSView\"},{\"attributes\":{\"line_alpha\":{\"value\":0.8},\"line_color\":{\"value\":\"red\"},\"line_width\":{\"value\":2},\"x\":{\"field\":\"x\"},\"y\":{\"field\":\"y\"}},\"id\":\"27554\",\"type\":\"Step\"},{\"attributes\":{\"active_drag\":\"auto\",\"active_inspect\":\"auto\",\"active_multi\":null,\"active_scroll\":\"auto\",\"active_tap\":\"auto\"},\"id\":\"27552\",\"type\":\"Toolbar\"},{\"attributes\":{},\"id\":\"27562\",\"type\":\"BasicTickFormatter\"},{\"attributes\":{\"items\":[{\"id\":\"27564\"}]},\"id\":\"27563\",\"type\":\"Legend\"},{\"attributes\":{\"label\":{\"value\":\"Moyenne de tous les d\\u00e9put\\u00e9s\"},\"renderers\":[{\"id\":\"27556\"}]},\"id\":\"27564\",\"type\":\"LegendItem\"},{\"attributes\":{},\"id\":\"27549\",\"type\":\"BasicTicker\"},{\"attributes\":{\"data\":{\"top\":[1,2,1,1,1,1,1,2,2,1,1,1,1,0,2,3,2,1,2,1,1,1,4,1,1,1,3,1,1,1,2,1,1,1,1,0],\"x\":[\"2017-07\",\"2017-08\",\"2017-09\",\"2017-10\",\"2017-11\",\"2017-12\",\"2018-01\",\"2018-02\",\"2018-03\",\"2018-04\",\"2018-05\",\"2018-06\",\"2018-07\",\"2018-08\",\"2018-09\",\"2018-10\",\"2018-11\",\"2018-12\",\"2019-01\",\"2019-02\",\"2019-03\",\"2019-04\",\"2019-05\",\"2019-06\",\"2019-07\",\"2019-09\",\"2019-10\",\"2019-11\",\"2019-12\",\"2020-01\",\"2020-02\",\"2020-03\",\"2020-04\",\"2020-05\",\"2020-06\",\"2020-07\"]},\"selected\":{\"id\":\"28181\"},\"selection_policy\":{\"id\":\"28180\"}},\"id\":\"27565\",\"type\":\"ColumnDataSource\"},{\"attributes\":{\"axis\":{\"id\":\"27548\"},\"dimension\":1,\"grid_line_color\":null,\"ticker\":null},\"id\":\"27551\",\"type\":\"Grid\"},{\"attributes\":{\"data_source\":{\"id\":\"27565\"},\"glyph\":{\"id\":\"27566\"},\"hover_glyph\":null,\"muted_glyph\":null,\"nonselection_glyph\":{\"id\":\"27567\"},\"selection_glyph\":null,\"view\":{\"id\":\"27569\"}},\"id\":\"27568\",\"type\":\"GlyphRenderer\"},{\"attributes\":{\"formatter\":{\"id\":\"27562\"},\"ticker\":{\"id\":\"27549\"}},\"id\":\"27548\",\"type\":\"LinearAxis\"},{\"attributes\":{\"axis\":{\"id\":\"27545\"},\"grid_line_color\":null,\"ticker\":null},\"id\":\"27547\",\"type\":\"Grid\"},{\"attributes\":{\"factors\":[\"2017-07\",\"2017-08\",\"2017-09\",\"2017-10\",\"2017-11\",\"2017-12\",\"2018-01\",\"2018-02\",\"2018-03\",\"2018-04\",\"2018-05\",\"2018-06\",\"2018-07\",\"2018-08\",\"2018-09\",\"2018-10\",\"2018-11\",\"2018-12\",\"2019-01\",\"2019-02\",\"2019-03\",\"2019-04\",\"2019-05\",\"2019-06\",\"2019-07\",\"2019-09\",\"2019-10\",\"2019-11\",\"2019-12\",\"2020-01\",\"2020-02\",\"2020-03\",\"2020-04\",\"2020-05\",\"2020-06\",\"2020-07\"]},\"id\":\"27537\",\"type\":\"FactorRange\"},{\"attributes\":{\"fill_alpha\":{\"value\":0.1},\"fill_color\":{\"value\":\"#1f77b4\"},\"line_alpha\":{\"value\":0.1},\"line_color\":{\"value\":\"#1f77b4\"},\"top\":{\"field\":\"top\"},\"width\":{\"value\":1},\"x\":{\"field\":\"x\"}},\"id\":\"27567\",\"type\":\"VBar\"},{\"attributes\":{\"formatter\":{\"id\":\"27560\"},\"major_label_orientation\":\"vertical\",\"ticker\":{\"id\":\"27546\"}},\"id\":\"27545\",\"type\":\"CategoricalAxis\"},{\"attributes\":{\"source\":{\"id\":\"27565\"}},\"id\":\"27569\",\"type\":\"CDSView\"},{\"attributes\":{},\"id\":\"27546\",\"type\":\"CategoricalTicker\"},{\"attributes\":{\"fill_alpha\":{\"value\":0.5},\"fill_color\":{\"value\":\"#1f77b4\"},\"line_alpha\":{\"value\":0.5},\"line_color\":{\"value\":\"#1f77b4\"},\"top\":{\"field\":\"top\"},\"width\":{\"value\":1},\"x\":{\"field\":\"x\"}},\"id\":\"27566\",\"type\":\"VBar\"},{\"attributes\":{},\"id\":\"27541\",\"type\":\"CategoricalScale\"},{\"attributes\":{},\"id\":\"28179\",\"type\":\"Selection\"},{\"attributes\":{},\"id\":\"27543\",\"type\":\"LinearScale\"},{\"attributes\":{},\"id\":\"28180\",\"type\":\"UnionRenderers\"},{\"attributes\":{\"text\":\"Votes par mois pour Gilles Lurton avec 1359 votes\"},\"id\":\"27535\",\"type\":\"Title\"},{\"attributes\":{},\"id\":\"28181\",\"type\":\"Selection\"},{\"attributes\":{\"data\":{\"x\":[\"2017-07\",\"2017-08\",\"2017-09\",\"2017-10\",\"2017-11\",\"2017-12\",\"2018-01\",\"2018-02\",\"2018-03\",\"2018-04\",\"2018-05\",\"2018-06\",\"2018-07\",\"2018-08\",\"2018-09\",\"2018-10\",\"2018-11\",\"2018-12\",\"2019-01\",\"2019-02\",\"2019-03\",\"2019-04\",\"2019-05\",\"2019-06\",\"2019-07\",\"2019-09\",\"2019-10\",\"2019-11\",\"2019-12\",\"2020-01\",\"2020-02\",\"2020-03\",\"2020-04\",\"2020-05\",\"2020-06\",\"2020-07\"],\"y\":[1.0138648180242635,1.4696707105719238,1.1767764298093588,0.9722703639514731,1.166377816291161,1.076256499133449,1.7954939341421143,1.516464471403813,1.1403812824956672,1.6065857885615251,1.632582322357019,1.3084922010398614,1.7383015597920277,0.6741767764298093,1.2599653379549394,1.0953206239168112,2.079722703639515,2.4783362218370883,1.6031195840554593,0.9688041594454073,1.1629116117850953,1.268630849220104,1.5996533795493935,1.1074523396880416,1.2097053726169844,1.124783362218371,1.4124783362218372,1.682842287694974,1.5511265164644714,1.1282495667244368,2.65684575389948,1.0710571923743502,0.9982668977469671,1,0.9324090121317158,1.5528596187175043]},\"selected\":{\"id\":\"28179\"},\"selection_policy\":{\"id\":\"28178\"}},\"id\":\"27553\",\"type\":\"ColumnDataSource\"}],\"root_ids\":[\"27534\"]},\"title\":\"Bokeh Application\",\"version\":\"2.0.1\"}};\n",
       "  var render_items = [{\"docid\":\"8cdf133f-e8db-49b3-bab9-7179cae0dbfa\",\"root_ids\":[\"27534\"],\"roots\":{\"27534\":\"333c9522-bc87-4387-950e-254618f9d579\"}}];\n",
       "  root.Bokeh.embed.embed_items_notebook(docs_json, render_items);\n",
       "\n",
       "  }\n",
       "  if (root.Bokeh !== undefined) {\n",
       "    embed_document(root);\n",
       "  } else {\n",
       "    var attempts = 0;\n",
       "    var timer = setInterval(function(root) {\n",
       "      if (root.Bokeh !== undefined) {\n",
       "        clearInterval(timer);\n",
       "        embed_document(root);\n",
       "      } else {\n",
       "        attempts++;\n",
       "        if (attempts > 100) {\n",
       "          clearInterval(timer);\n",
       "          console.log(\"Bokeh: ERROR: Unable to run BokehJS code because BokehJS library is missing\");\n",
       "        }\n",
       "      }\n",
       "    }, 10, root)\n",
       "  }\n",
       "})(window);"
      ],
      "application/vnd.bokehjs_exec.v0+json": ""
     },
     "metadata": {
      "application/vnd.bokehjs_exec.v0+json": {
       "id": "27534"
      }
     },
     "output_type": "display_data"
    },
    {
     "data": {
      "text/html": [
       "\n",
       "\n",
       "\n",
       "\n",
       "\n",
       "\n",
       "  <div class=\"bk-root\" id=\"0b6daa6a-750b-4551-911c-47c234320adf\" data-root-id=\"28236\"></div>\n"
      ]
     },
     "metadata": {},
     "output_type": "display_data"
    },
    {
     "data": {
      "application/javascript": [
       "(function(root) {\n",
       "  function embed_document(root) {\n",
       "    \n",
       "  var docs_json = {\"5f5967ed-be4e-4a1b-b231-94c2c05fccae\":{\"roots\":{\"references\":[{\"attributes\":{\"below\":[{\"id\":\"28247\"}],\"center\":[{\"id\":\"28249\"},{\"id\":\"28253\"},{\"id\":\"28265\"}],\"left\":[{\"id\":\"28250\"}],\"plot_height\":400,\"plot_width\":700,\"renderers\":[{\"id\":\"28258\"},{\"id\":\"28270\"}],\"title\":{\"id\":\"28237\"},\"toolbar\":{\"id\":\"28254\"},\"toolbar_location\":null,\"x_range\":{\"id\":\"28239\"},\"x_scale\":{\"id\":\"28243\"},\"y_range\":{\"id\":\"28241\"},\"y_scale\":{\"id\":\"28245\"}},\"id\":\"28236\",\"subtype\":\"Figure\",\"type\":\"Plot\"},{\"attributes\":{},\"id\":\"28251\",\"type\":\"BasicTicker\"},{\"attributes\":{},\"id\":\"28262\",\"type\":\"CategoricalTickFormatter\"},{\"attributes\":{},\"id\":\"28264\",\"type\":\"BasicTickFormatter\"},{\"attributes\":{\"items\":[{\"id\":\"28266\"}]},\"id\":\"28265\",\"type\":\"Legend\"},{\"attributes\":{\"formatter\":{\"id\":\"28264\"},\"ticker\":{\"id\":\"28251\"}},\"id\":\"28250\",\"type\":\"LinearAxis\"},{\"attributes\":{\"label\":{\"value\":\"Moyenne de tous les d\\u00e9put\\u00e9s\"},\"renderers\":[{\"id\":\"28258\"}]},\"id\":\"28266\",\"type\":\"LegendItem\"},{\"attributes\":{\"axis\":{\"id\":\"28247\"},\"grid_line_color\":null,\"ticker\":null},\"id\":\"28249\",\"type\":\"Grid\"},{\"attributes\":{},\"id\":\"28889\",\"type\":\"UnionRenderers\"},{\"attributes\":{\"data\":{\"top\":[1,2,2,1,1,1,1,1,1,1,7,1,2,3,4,1,1,4,1,1,1,2,1,2,4,1,2,6,3,1,1,1,1,1,1,11],\"x\":[\"2017-07\",\"2017-08\",\"2017-09\",\"2017-10\",\"2017-11\",\"2017-12\",\"2018-01\",\"2018-02\",\"2018-03\",\"2018-04\",\"2018-05\",\"2018-06\",\"2018-07\",\"2018-08\",\"2018-09\",\"2018-10\",\"2018-11\",\"2018-12\",\"2019-01\",\"2019-02\",\"2019-03\",\"2019-04\",\"2019-05\",\"2019-06\",\"2019-07\",\"2019-09\",\"2019-10\",\"2019-11\",\"2019-12\",\"2020-01\",\"2020-02\",\"2020-03\",\"2020-04\",\"2020-05\",\"2020-06\",\"2020-07\"]},\"selected\":{\"id\":\"28892\"},\"selection_policy\":{\"id\":\"28891\"}},\"id\":\"28267\",\"type\":\"ColumnDataSource\"},{\"attributes\":{},\"id\":\"28248\",\"type\":\"CategoricalTicker\"},{\"attributes\":{\"factors\":[\"2017-07\",\"2017-08\",\"2017-09\",\"2017-10\",\"2017-11\",\"2017-12\",\"2018-01\",\"2018-02\",\"2018-03\",\"2018-04\",\"2018-05\",\"2018-06\",\"2018-07\",\"2018-08\",\"2018-09\",\"2018-10\",\"2018-11\",\"2018-12\",\"2019-01\",\"2019-02\",\"2019-03\",\"2019-04\",\"2019-05\",\"2019-06\",\"2019-07\",\"2019-09\",\"2019-10\",\"2019-11\",\"2019-12\",\"2020-01\",\"2020-02\",\"2020-03\",\"2020-04\",\"2020-05\",\"2020-06\",\"2020-07\"]},\"id\":\"28239\",\"type\":\"FactorRange\"},{\"attributes\":{\"data_source\":{\"id\":\"28255\"},\"glyph\":{\"id\":\"28256\"},\"hover_glyph\":null,\"muted_glyph\":null,\"nonselection_glyph\":{\"id\":\"28257\"},\"selection_glyph\":null,\"view\":{\"id\":\"28259\"}},\"id\":\"28258\",\"type\":\"GlyphRenderer\"},{\"attributes\":{\"data_source\":{\"id\":\"28267\"},\"glyph\":{\"id\":\"28268\"},\"hover_glyph\":null,\"muted_glyph\":null,\"nonselection_glyph\":{\"id\":\"28269\"},\"selection_glyph\":null,\"view\":{\"id\":\"28271\"}},\"id\":\"28270\",\"type\":\"GlyphRenderer\"},{\"attributes\":{\"source\":{\"id\":\"28255\"}},\"id\":\"28259\",\"type\":\"CDSView\"},{\"attributes\":{},\"id\":\"28243\",\"type\":\"CategoricalScale\"},{\"attributes\":{\"line_alpha\":{\"value\":0.1},\"line_color\":{\"value\":\"red\"},\"line_width\":{\"value\":2},\"x\":{\"field\":\"x\"},\"y\":{\"field\":\"y\"}},\"id\":\"28257\",\"type\":\"Step\"},{\"attributes\":{\"formatter\":{\"id\":\"28262\"},\"major_label_orientation\":\"vertical\",\"ticker\":{\"id\":\"28248\"}},\"id\":\"28247\",\"type\":\"CategoricalAxis\"},{\"attributes\":{\"fill_alpha\":{\"value\":0.1},\"fill_color\":{\"value\":\"#1f77b4\"},\"line_alpha\":{\"value\":0.1},\"line_color\":{\"value\":\"#1f77b4\"},\"top\":{\"field\":\"top\"},\"width\":{\"value\":1},\"x\":{\"field\":\"x\"}},\"id\":\"28269\",\"type\":\"VBar\"},{\"attributes\":{},\"id\":\"28245\",\"type\":\"LinearScale\"},{\"attributes\":{\"source\":{\"id\":\"28267\"}},\"id\":\"28271\",\"type\":\"CDSView\"},{\"attributes\":{\"fill_alpha\":{\"value\":0.5},\"fill_color\":{\"value\":\"#1f77b4\"},\"line_alpha\":{\"value\":0.5},\"line_color\":{\"value\":\"#1f77b4\"},\"top\":{\"field\":\"top\"},\"width\":{\"value\":1},\"x\":{\"field\":\"x\"}},\"id\":\"28268\",\"type\":\"VBar\"},{\"attributes\":{\"axis\":{\"id\":\"28250\"},\"dimension\":1,\"grid_line_color\":null,\"ticker\":null},\"id\":\"28253\",\"type\":\"Grid\"},{\"attributes\":{\"end\":13,\"start\":0},\"id\":\"28241\",\"type\":\"DataRange1d\"},{\"attributes\":{},\"id\":\"28890\",\"type\":\"Selection\"},{\"attributes\":{\"data\":{\"x\":[\"2017-07\",\"2017-08\",\"2017-09\",\"2017-10\",\"2017-11\",\"2017-12\",\"2018-01\",\"2018-02\",\"2018-03\",\"2018-04\",\"2018-05\",\"2018-06\",\"2018-07\",\"2018-08\",\"2018-09\",\"2018-10\",\"2018-11\",\"2018-12\",\"2019-01\",\"2019-02\",\"2019-03\",\"2019-04\",\"2019-05\",\"2019-06\",\"2019-07\",\"2019-09\",\"2019-10\",\"2019-11\",\"2019-12\",\"2020-01\",\"2020-02\",\"2020-03\",\"2020-04\",\"2020-05\",\"2020-06\",\"2020-07\"],\"y\":[1.0138648180242635,1.4696707105719238,1.1767764298093588,0.9722703639514731,1.166377816291161,1.076256499133449,1.7954939341421143,1.516464471403813,1.1403812824956672,1.6065857885615251,1.632582322357019,1.3084922010398614,1.7383015597920277,0.6741767764298093,1.2599653379549394,1.0953206239168112,2.079722703639515,2.4783362218370883,1.6031195840554593,0.9688041594454073,1.1629116117850953,1.268630849220104,1.5996533795493935,1.1074523396880416,1.2097053726169844,1.124783362218371,1.4124783362218372,1.682842287694974,1.5511265164644714,1.1282495667244368,2.65684575389948,1.0710571923743502,0.9982668977469671,1,0.9324090121317158,1.5528596187175043]},\"selected\":{\"id\":\"28890\"},\"selection_policy\":{\"id\":\"28889\"}},\"id\":\"28255\",\"type\":\"ColumnDataSource\"},{\"attributes\":{},\"id\":\"28891\",\"type\":\"UnionRenderers\"},{\"attributes\":{},\"id\":\"28892\",\"type\":\"Selection\"},{\"attributes\":{\"text\":\"Votes par mois pour Cendra Motin avec 1408 votes\"},\"id\":\"28237\",\"type\":\"Title\"},{\"attributes\":{\"active_drag\":\"auto\",\"active_inspect\":\"auto\",\"active_multi\":null,\"active_scroll\":\"auto\",\"active_tap\":\"auto\"},\"id\":\"28254\",\"type\":\"Toolbar\"},{\"attributes\":{\"line_alpha\":{\"value\":0.8},\"line_color\":{\"value\":\"red\"},\"line_width\":{\"value\":2},\"x\":{\"field\":\"x\"},\"y\":{\"field\":\"y\"}},\"id\":\"28256\",\"type\":\"Step\"}],\"root_ids\":[\"28236\"]},\"title\":\"Bokeh Application\",\"version\":\"2.0.1\"}};\n",
       "  var render_items = [{\"docid\":\"5f5967ed-be4e-4a1b-b231-94c2c05fccae\",\"root_ids\":[\"28236\"],\"roots\":{\"28236\":\"0b6daa6a-750b-4551-911c-47c234320adf\"}}];\n",
       "  root.Bokeh.embed.embed_items_notebook(docs_json, render_items);\n",
       "\n",
       "  }\n",
       "  if (root.Bokeh !== undefined) {\n",
       "    embed_document(root);\n",
       "  } else {\n",
       "    var attempts = 0;\n",
       "    var timer = setInterval(function(root) {\n",
       "      if (root.Bokeh !== undefined) {\n",
       "        clearInterval(timer);\n",
       "        embed_document(root);\n",
       "      } else {\n",
       "        attempts++;\n",
       "        if (attempts > 100) {\n",
       "          clearInterval(timer);\n",
       "          console.log(\"Bokeh: ERROR: Unable to run BokehJS code because BokehJS library is missing\");\n",
       "        }\n",
       "      }\n",
       "    }, 10, root)\n",
       "  }\n",
       "})(window);"
      ],
      "application/vnd.bokehjs_exec.v0+json": ""
     },
     "metadata": {
      "application/vnd.bokehjs_exec.v0+json": {
       "id": "28236"
      }
     },
     "output_type": "display_data"
    },
    {
     "data": {
      "text/html": [
       "\n",
       "\n",
       "\n",
       "\n",
       "\n",
       "\n",
       "  <div class=\"bk-root\" id=\"369f8ec9-8cad-4d33-b5c2-7ea01a335a85\" data-root-id=\"28947\"></div>\n"
      ]
     },
     "metadata": {},
     "output_type": "display_data"
    },
    {
     "data": {
      "application/javascript": [
       "(function(root) {\n",
       "  function embed_document(root) {\n",
       "    \n",
       "  var docs_json = {\"0bcd41cf-fa19-4618-9595-c2bf0be65eca\":{\"roots\":{\"references\":[{\"attributes\":{\"below\":[{\"id\":\"28958\"}],\"center\":[{\"id\":\"28960\"},{\"id\":\"28964\"},{\"id\":\"28976\"}],\"left\":[{\"id\":\"28961\"}],\"plot_height\":400,\"plot_width\":700,\"renderers\":[{\"id\":\"28969\"},{\"id\":\"28981\"}],\"title\":{\"id\":\"28948\"},\"toolbar\":{\"id\":\"28965\"},\"toolbar_location\":null,\"x_range\":{\"id\":\"28950\"},\"x_scale\":{\"id\":\"28954\"},\"y_range\":{\"id\":\"28952\"},\"y_scale\":{\"id\":\"28956\"}},\"id\":\"28947\",\"subtype\":\"Figure\",\"type\":\"Plot\"},{\"attributes\":{},\"id\":\"28959\",\"type\":\"CategoricalTicker\"},{\"attributes\":{},\"id\":\"29609\",\"type\":\"UnionRenderers\"},{\"attributes\":{\"data_source\":{\"id\":\"28978\"},\"glyph\":{\"id\":\"28979\"},\"hover_glyph\":null,\"muted_glyph\":null,\"nonselection_glyph\":{\"id\":\"28980\"},\"selection_glyph\":null,\"view\":{\"id\":\"28982\"}},\"id\":\"28981\",\"type\":\"GlyphRenderer\"},{\"attributes\":{\"items\":[{\"id\":\"28977\"}]},\"id\":\"28976\",\"type\":\"Legend\"},{\"attributes\":{},\"id\":\"28954\",\"type\":\"CategoricalScale\"},{\"attributes\":{\"formatter\":{\"id\":\"28973\"},\"major_label_orientation\":\"vertical\",\"ticker\":{\"id\":\"28959\"}},\"id\":\"28958\",\"type\":\"CategoricalAxis\"},{\"attributes\":{\"fill_alpha\":{\"value\":0.1},\"fill_color\":{\"value\":\"#1f77b4\"},\"line_alpha\":{\"value\":0.1},\"line_color\":{\"value\":\"#1f77b4\"},\"top\":{\"field\":\"top\"},\"width\":{\"value\":1},\"x\":{\"field\":\"x\"}},\"id\":\"28980\",\"type\":\"VBar\"},{\"attributes\":{\"source\":{\"id\":\"28978\"}},\"id\":\"28982\",\"type\":\"CDSView\"},{\"attributes\":{},\"id\":\"28956\",\"type\":\"LinearScale\"},{\"attributes\":{\"fill_alpha\":{\"value\":0.5},\"fill_color\":{\"value\":\"#1f77b4\"},\"line_alpha\":{\"value\":0.5},\"line_color\":{\"value\":\"#1f77b4\"},\"top\":{\"field\":\"top\"},\"width\":{\"value\":1},\"x\":{\"field\":\"x\"}},\"id\":\"28979\",\"type\":\"VBar\"},{\"attributes\":{},\"id\":\"29610\",\"type\":\"Selection\"},{\"attributes\":{\"end\":13,\"start\":0},\"id\":\"28952\",\"type\":\"DataRange1d\"},{\"attributes\":{},\"id\":\"29611\",\"type\":\"UnionRenderers\"},{\"attributes\":{\"text\":\"Votes par mois pour Emmanuelle M\\u00e9nard avec 1815 votes\"},\"id\":\"28948\",\"type\":\"Title\"},{\"attributes\":{\"factors\":[\"2017-07\",\"2017-08\",\"2017-09\",\"2017-10\",\"2017-11\",\"2017-12\",\"2018-01\",\"2018-02\",\"2018-03\",\"2018-04\",\"2018-05\",\"2018-06\",\"2018-07\",\"2018-08\",\"2018-09\",\"2018-10\",\"2018-11\",\"2018-12\",\"2019-01\",\"2019-02\",\"2019-03\",\"2019-04\",\"2019-05\",\"2019-06\",\"2019-07\",\"2019-09\",\"2019-10\",\"2019-11\",\"2019-12\",\"2020-01\",\"2020-02\",\"2020-03\",\"2020-04\",\"2020-05\",\"2020-06\",\"2020-07\"]},\"id\":\"28950\",\"type\":\"FactorRange\"},{\"attributes\":{},\"id\":\"29612\",\"type\":\"Selection\"},{\"attributes\":{\"data\":{\"x\":[\"2017-07\",\"2017-08\",\"2017-09\",\"2017-10\",\"2017-11\",\"2017-12\",\"2018-01\",\"2018-02\",\"2018-03\",\"2018-04\",\"2018-05\",\"2018-06\",\"2018-07\",\"2018-08\",\"2018-09\",\"2018-10\",\"2018-11\",\"2018-12\",\"2019-01\",\"2019-02\",\"2019-03\",\"2019-04\",\"2019-05\",\"2019-06\",\"2019-07\",\"2019-09\",\"2019-10\",\"2019-11\",\"2019-12\",\"2020-01\",\"2020-02\",\"2020-03\",\"2020-04\",\"2020-05\",\"2020-06\",\"2020-07\"],\"y\":[1.0138648180242635,1.4696707105719238,1.1767764298093588,0.9722703639514731,1.166377816291161,1.076256499133449,1.7954939341421143,1.516464471403813,1.1403812824956672,1.6065857885615251,1.632582322357019,1.3084922010398614,1.7383015597920277,0.6741767764298093,1.2599653379549394,1.0953206239168112,2.079722703639515,2.4783362218370883,1.6031195840554593,0.9688041594454073,1.1629116117850953,1.268630849220104,1.5996533795493935,1.1074523396880416,1.2097053726169844,1.124783362218371,1.4124783362218372,1.682842287694974,1.5511265164644714,1.1282495667244368,2.65684575389948,1.0710571923743502,0.9982668977469671,1,0.9324090121317158,1.5528596187175043]},\"selected\":{\"id\":\"29610\"},\"selection_policy\":{\"id\":\"29609\"}},\"id\":\"28966\",\"type\":\"ColumnDataSource\"},{\"attributes\":{\"axis\":{\"id\":\"28961\"},\"dimension\":1,\"grid_line_color\":null,\"ticker\":null},\"id\":\"28964\",\"type\":\"Grid\"},{\"attributes\":{\"data\":{\"top\":[1,2,2,1,1,1,1,2,2,3,1,1,1,1,2,2,2,1,3,1,3,2,2,1,3,1,1,5,2,1,2,1,1,1,1,2],\"x\":[\"2017-07\",\"2017-08\",\"2017-09\",\"2017-10\",\"2017-11\",\"2017-12\",\"2018-01\",\"2018-02\",\"2018-03\",\"2018-04\",\"2018-05\",\"2018-06\",\"2018-07\",\"2018-08\",\"2018-09\",\"2018-10\",\"2018-11\",\"2018-12\",\"2019-01\",\"2019-02\",\"2019-03\",\"2019-04\",\"2019-05\",\"2019-06\",\"2019-07\",\"2019-09\",\"2019-10\",\"2019-11\",\"2019-12\",\"2020-01\",\"2020-02\",\"2020-03\",\"2020-04\",\"2020-05\",\"2020-06\",\"2020-07\"]},\"selected\":{\"id\":\"29612\"},\"selection_policy\":{\"id\":\"29611\"}},\"id\":\"28978\",\"type\":\"ColumnDataSource\"},{\"attributes\":{},\"id\":\"28975\",\"type\":\"BasicTickFormatter\"},{\"attributes\":{},\"id\":\"28962\",\"type\":\"BasicTicker\"},{\"attributes\":{},\"id\":\"28973\",\"type\":\"CategoricalTickFormatter\"},{\"attributes\":{\"line_alpha\":{\"value\":0.8},\"line_color\":{\"value\":\"red\"},\"line_width\":{\"value\":2},\"x\":{\"field\":\"x\"},\"y\":{\"field\":\"y\"}},\"id\":\"28967\",\"type\":\"Step\"},{\"attributes\":{\"source\":{\"id\":\"28966\"}},\"id\":\"28970\",\"type\":\"CDSView\"},{\"attributes\":{\"data_source\":{\"id\":\"28966\"},\"glyph\":{\"id\":\"28967\"},\"hover_glyph\":null,\"muted_glyph\":null,\"nonselection_glyph\":{\"id\":\"28968\"},\"selection_glyph\":null,\"view\":{\"id\":\"28970\"}},\"id\":\"28969\",\"type\":\"GlyphRenderer\"},{\"attributes\":{\"label\":{\"value\":\"Moyenne de tous les d\\u00e9put\\u00e9s\"},\"renderers\":[{\"id\":\"28969\"}]},\"id\":\"28977\",\"type\":\"LegendItem\"},{\"attributes\":{\"active_drag\":\"auto\",\"active_inspect\":\"auto\",\"active_multi\":null,\"active_scroll\":\"auto\",\"active_tap\":\"auto\"},\"id\":\"28965\",\"type\":\"Toolbar\"},{\"attributes\":{\"line_alpha\":{\"value\":0.1},\"line_color\":{\"value\":\"red\"},\"line_width\":{\"value\":2},\"x\":{\"field\":\"x\"},\"y\":{\"field\":\"y\"}},\"id\":\"28968\",\"type\":\"Step\"},{\"attributes\":{\"formatter\":{\"id\":\"28975\"},\"ticker\":{\"id\":\"28962\"}},\"id\":\"28961\",\"type\":\"LinearAxis\"},{\"attributes\":{\"axis\":{\"id\":\"28958\"},\"grid_line_color\":null,\"ticker\":null},\"id\":\"28960\",\"type\":\"Grid\"}],\"root_ids\":[\"28947\"]},\"title\":\"Bokeh Application\",\"version\":\"2.0.1\"}};\n",
       "  var render_items = [{\"docid\":\"0bcd41cf-fa19-4618-9595-c2bf0be65eca\",\"root_ids\":[\"28947\"],\"roots\":{\"28947\":\"369f8ec9-8cad-4d33-b5c2-7ea01a335a85\"}}];\n",
       "  root.Bokeh.embed.embed_items_notebook(docs_json, render_items);\n",
       "\n",
       "  }\n",
       "  if (root.Bokeh !== undefined) {\n",
       "    embed_document(root);\n",
       "  } else {\n",
       "    var attempts = 0;\n",
       "    var timer = setInterval(function(root) {\n",
       "      if (root.Bokeh !== undefined) {\n",
       "        clearInterval(timer);\n",
       "        embed_document(root);\n",
       "      } else {\n",
       "        attempts++;\n",
       "        if (attempts > 100) {\n",
       "          clearInterval(timer);\n",
       "          console.log(\"Bokeh: ERROR: Unable to run BokehJS code because BokehJS library is missing\");\n",
       "        }\n",
       "      }\n",
       "    }, 10, root)\n",
       "  }\n",
       "})(window);"
      ],
      "application/vnd.bokehjs_exec.v0+json": ""
     },
     "metadata": {
      "application/vnd.bokehjs_exec.v0+json": {
       "id": "28947"
      }
     },
     "output_type": "display_data"
    }
   ],
   "source": [
    "for député in députés_les_moins_présents[-10:]:\n",
    "    affiche_député(député)"
   ]
  },
  {
   "cell_type": "code",
   "execution_count": 6,
   "metadata": {},
   "outputs": [],
   "source": [
    "# todo: trous dans les mois\n",
    "# plot line not aligned, ligne date debut mandat"
   ]
  },
  {
   "cell_type": "code",
   "execution_count": null,
   "metadata": {},
   "outputs": [],
   "source": []
  }
 ],
 "metadata": {
  "kernelspec": {
   "display_name": "Python 3",
   "language": "python",
   "name": "python3"
  },
  "language_info": {
   "codemirror_mode": {
    "name": "ipython",
    "version": 3
   },
   "file_extension": ".py",
   "mimetype": "text/x-python",
   "name": "python",
   "nbconvert_exporter": "python",
   "pygments_lexer": "ipython3",
   "version": "3.6.9"
  }
 },
 "nbformat": 4,
 "nbformat_minor": 4
}
