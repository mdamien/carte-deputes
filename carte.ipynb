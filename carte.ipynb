{
 "cells": [
  {
   "cell_type": "markdown",
   "metadata": {},
   "source": [
    "# Chargement des données"
   ]
  },
  {
   "cell_type": "code",
   "execution_count": 16,
   "metadata": {},
   "outputs": [
    {
     "name": "stdout",
     "output_type": "stream",
     "text": [
      "sim mel/ruffin: 0.011494252873563204\n",
      "sim bergé/ruffin: 0.9146341463414634\n"
     ]
    }
   ],
   "source": [
    "# code inspiré de https://git.regardscitoyens.org/regardscitoyens/sprint-scrutins/blob/master/votes_an/ancsv.py\n",
    "\n",
    "import glob, json, csv\n",
    "\n",
    "# recupere les députés\n",
    "\n",
    "députés = list(csv.DictReader(open('liste_deputes_libre_office.csv')))\n",
    "députés_par_id = {int(député[\"identifiant\"]): député for député in députés}\n",
    "\n",
    "# recuperer les votes\n",
    "\n",
    "votes_par_scrutins = {}\n",
    "\n",
    "for fichier in glob.glob('Scrutins_XV.json/json/*.json'):\n",
    "    scrutin = json.load(open(fichier))['scrutin']\n",
    "\n",
    "    id_scrutin = scrutin['numero']\n",
    "    votes_par_scrutins[id_scrutin] = {}\n",
    "    \n",
    "    if 'l\\'ensemble' not in str(scrutin):\n",
    "        continue\n",
    "\n",
    "    if int(scrutin['syntheseVote']['nombreVotants']) < 50:\n",
    "        continue\n",
    "        \n",
    "    groupes = scrutin['ventilationVotes']['organe']['groupes']['groupe']\n",
    "\n",
    "    for groupe in groupes:\n",
    "        dn = groupe['vote']['decompteNominatif']\n",
    "        \n",
    "        for position in ('pour', 'contre', 'abstention', 'nonVotant'):\n",
    "            votants_position = dn['%ss' % position]\n",
    "            \n",
    "            if not votants_position:\n",
    "                continue\n",
    "            \n",
    "            votants = votants_position['votant']\n",
    "\n",
    "            if not isinstance(votants, list):\n",
    "                votants = [votants]\n",
    "\n",
    "            for votant in votants:\n",
    "                votes_par_scrutins[id_scrutin][int(votant['acteurRef'][2:])] = position\n",
    "\n",
    "\n",
    "\n",
    "def similarité(député1, député2):\n",
    "    global votes\n",
    "    total = 0\n",
    "    total_en_commun = 0\n",
    "    for scrutin, vote in votes_par_scrutins.items():\n",
    "        if not vote.get(député1) or not vote.get(député2):\n",
    "            continue\n",
    "        if vote.get(député1) == vote.get(député2):\n",
    "            total_en_commun += 1\n",
    "        total += 1\n",
    "    if total == 0:\n",
    "        return 1\n",
    "    return 1 - total_en_commun / total\n",
    "\n",
    "print('sim mel/ruffin:', similarité(2150, 722142))\n",
    "print('sim bergé/ruffin:', similarité(722046, 722142))"
   ]
  },
  {
   "cell_type": "markdown",
   "metadata": {},
   "source": [
    "# Carte"
   ]
  },
  {
   "cell_type": "code",
   "execution_count": 17,
   "metadata": {},
   "outputs": [
    {
     "name": "stderr",
     "output_type": "stream",
     "text": [
      "/home/damien/.venv/lib/python3.6/site-packages/umap/umap_.py:1495: UserWarning:\n",
      "\n",
      "custom distance metric does not return gradient; inverse_transform will be unavailable. To enable using inverse_transform method method, define a distance function that returns a tuple of (distance [float], gradient [np.array])\n",
      "\n"
     ]
    },
    {
     "data": {
      "text/html": [
       "\n",
       "    <div class=\"bk-root\">\n",
       "        <a href=\"https://bokeh.org\" target=\"_blank\" class=\"bk-logo bk-logo-small bk-logo-notebook\"></a>\n",
       "        <span id=\"1001\">Loading BokehJS ...</span>\n",
       "    </div>"
      ]
     },
     "metadata": {},
     "output_type": "display_data"
    },
    {
     "data": {
      "application/javascript": [
       "\n",
       "(function(root) {\n",
       "  function now() {\n",
       "    return new Date();\n",
       "  }\n",
       "\n",
       "  var force = true;\n",
       "\n",
       "  if (typeof root._bokeh_onload_callbacks === \"undefined\" || force === true) {\n",
       "    root._bokeh_onload_callbacks = [];\n",
       "    root._bokeh_is_loading = undefined;\n",
       "  }\n",
       "\n",
       "  var JS_MIME_TYPE = 'application/javascript';\n",
       "  var HTML_MIME_TYPE = 'text/html';\n",
       "  var EXEC_MIME_TYPE = 'application/vnd.bokehjs_exec.v0+json';\n",
       "  var CLASS_NAME = 'output_bokeh rendered_html';\n",
       "\n",
       "  /**\n",
       "   * Render data to the DOM node\n",
       "   */\n",
       "  function render(props, node) {\n",
       "    var script = document.createElement(\"script\");\n",
       "    node.appendChild(script);\n",
       "  }\n",
       "\n",
       "  /**\n",
       "   * Handle when an output is cleared or removed\n",
       "   */\n",
       "  function handleClearOutput(event, handle) {\n",
       "    var cell = handle.cell;\n",
       "\n",
       "    var id = cell.output_area._bokeh_element_id;\n",
       "    var server_id = cell.output_area._bokeh_server_id;\n",
       "    // Clean up Bokeh references\n",
       "    if (id != null && id in Bokeh.index) {\n",
       "      Bokeh.index[id].model.document.clear();\n",
       "      delete Bokeh.index[id];\n",
       "    }\n",
       "\n",
       "    if (server_id !== undefined) {\n",
       "      // Clean up Bokeh references\n",
       "      var cmd = \"from bokeh.io.state import curstate; print(curstate().uuid_to_server['\" + server_id + \"'].get_sessions()[0].document.roots[0]._id)\";\n",
       "      cell.notebook.kernel.execute(cmd, {\n",
       "        iopub: {\n",
       "          output: function(msg) {\n",
       "            var id = msg.content.text.trim();\n",
       "            if (id in Bokeh.index) {\n",
       "              Bokeh.index[id].model.document.clear();\n",
       "              delete Bokeh.index[id];\n",
       "            }\n",
       "          }\n",
       "        }\n",
       "      });\n",
       "      // Destroy server and session\n",
       "      var cmd = \"import bokeh.io.notebook as ion; ion.destroy_server('\" + server_id + \"')\";\n",
       "      cell.notebook.kernel.execute(cmd);\n",
       "    }\n",
       "  }\n",
       "\n",
       "  /**\n",
       "   * Handle when a new output is added\n",
       "   */\n",
       "  function handleAddOutput(event, handle) {\n",
       "    var output_area = handle.output_area;\n",
       "    var output = handle.output;\n",
       "\n",
       "    // limit handleAddOutput to display_data with EXEC_MIME_TYPE content only\n",
       "    if ((output.output_type != \"display_data\") || (!output.data.hasOwnProperty(EXEC_MIME_TYPE))) {\n",
       "      return\n",
       "    }\n",
       "\n",
       "    var toinsert = output_area.element.find(\".\" + CLASS_NAME.split(' ')[0]);\n",
       "\n",
       "    if (output.metadata[EXEC_MIME_TYPE][\"id\"] !== undefined) {\n",
       "      toinsert[toinsert.length - 1].firstChild.textContent = output.data[JS_MIME_TYPE];\n",
       "      // store reference to embed id on output_area\n",
       "      output_area._bokeh_element_id = output.metadata[EXEC_MIME_TYPE][\"id\"];\n",
       "    }\n",
       "    if (output.metadata[EXEC_MIME_TYPE][\"server_id\"] !== undefined) {\n",
       "      var bk_div = document.createElement(\"div\");\n",
       "      bk_div.innerHTML = output.data[HTML_MIME_TYPE];\n",
       "      var script_attrs = bk_div.children[0].attributes;\n",
       "      for (var i = 0; i < script_attrs.length; i++) {\n",
       "        toinsert[toinsert.length - 1].firstChild.setAttribute(script_attrs[i].name, script_attrs[i].value);\n",
       "        toinsert[toinsert.length - 1].firstChild.textContent = bk_div.children[0].textContent\n",
       "      }\n",
       "      // store reference to server id on output_area\n",
       "      output_area._bokeh_server_id = output.metadata[EXEC_MIME_TYPE][\"server_id\"];\n",
       "    }\n",
       "  }\n",
       "\n",
       "  function register_renderer(events, OutputArea) {\n",
       "\n",
       "    function append_mime(data, metadata, element) {\n",
       "      // create a DOM node to render to\n",
       "      var toinsert = this.create_output_subarea(\n",
       "        metadata,\n",
       "        CLASS_NAME,\n",
       "        EXEC_MIME_TYPE\n",
       "      );\n",
       "      this.keyboard_manager.register_events(toinsert);\n",
       "      // Render to node\n",
       "      var props = {data: data, metadata: metadata[EXEC_MIME_TYPE]};\n",
       "      render(props, toinsert[toinsert.length - 1]);\n",
       "      element.append(toinsert);\n",
       "      return toinsert\n",
       "    }\n",
       "\n",
       "    /* Handle when an output is cleared or removed */\n",
       "    events.on('clear_output.CodeCell', handleClearOutput);\n",
       "    events.on('delete.Cell', handleClearOutput);\n",
       "\n",
       "    /* Handle when a new output is added */\n",
       "    events.on('output_added.OutputArea', handleAddOutput);\n",
       "\n",
       "    /**\n",
       "     * Register the mime type and append_mime function with output_area\n",
       "     */\n",
       "    OutputArea.prototype.register_mime_type(EXEC_MIME_TYPE, append_mime, {\n",
       "      /* Is output safe? */\n",
       "      safe: true,\n",
       "      /* Index of renderer in `output_area.display_order` */\n",
       "      index: 0\n",
       "    });\n",
       "  }\n",
       "\n",
       "  // register the mime type if in Jupyter Notebook environment and previously unregistered\n",
       "  if (root.Jupyter !== undefined) {\n",
       "    var events = require('base/js/events');\n",
       "    var OutputArea = require('notebook/js/outputarea').OutputArea;\n",
       "\n",
       "    if (OutputArea.prototype.mime_types().indexOf(EXEC_MIME_TYPE) == -1) {\n",
       "      register_renderer(events, OutputArea);\n",
       "    }\n",
       "  }\n",
       "\n",
       "  \n",
       "  if (typeof (root._bokeh_timeout) === \"undefined\" || force === true) {\n",
       "    root._bokeh_timeout = Date.now() + 5000;\n",
       "    root._bokeh_failed_load = false;\n",
       "  }\n",
       "\n",
       "  var NB_LOAD_WARNING = {'data': {'text/html':\n",
       "     \"<div style='background-color: #fdd'>\\n\"+\n",
       "     \"<p>\\n\"+\n",
       "     \"BokehJS does not appear to have successfully loaded. If loading BokehJS from CDN, this \\n\"+\n",
       "     \"may be due to a slow or bad network connection. Possible fixes:\\n\"+\n",
       "     \"</p>\\n\"+\n",
       "     \"<ul>\\n\"+\n",
       "     \"<li>re-rerun `output_notebook()` to attempt to load from CDN again, or</li>\\n\"+\n",
       "     \"<li>use INLINE resources instead, as so:</li>\\n\"+\n",
       "     \"</ul>\\n\"+\n",
       "     \"<code>\\n\"+\n",
       "     \"from bokeh.resources import INLINE\\n\"+\n",
       "     \"output_notebook(resources=INLINE)\\n\"+\n",
       "     \"</code>\\n\"+\n",
       "     \"</div>\"}};\n",
       "\n",
       "  function display_loaded() {\n",
       "    var el = document.getElementById(\"1001\");\n",
       "    if (el != null) {\n",
       "      el.textContent = \"BokehJS is loading...\";\n",
       "    }\n",
       "    if (root.Bokeh !== undefined) {\n",
       "      if (el != null) {\n",
       "        el.textContent = \"BokehJS \" + root.Bokeh.version + \" successfully loaded.\";\n",
       "      }\n",
       "    } else if (Date.now() < root._bokeh_timeout) {\n",
       "      setTimeout(display_loaded, 100)\n",
       "    }\n",
       "  }\n",
       "\n",
       "\n",
       "  function run_callbacks() {\n",
       "    try {\n",
       "      root._bokeh_onload_callbacks.forEach(function(callback) {\n",
       "        if (callback != null)\n",
       "          callback();\n",
       "      });\n",
       "    } finally {\n",
       "      delete root._bokeh_onload_callbacks\n",
       "    }\n",
       "    console.debug(\"Bokeh: all callbacks have finished\");\n",
       "  }\n",
       "\n",
       "  function load_libs(css_urls, js_urls, callback) {\n",
       "    if (css_urls == null) css_urls = [];\n",
       "    if (js_urls == null) js_urls = [];\n",
       "\n",
       "    root._bokeh_onload_callbacks.push(callback);\n",
       "    if (root._bokeh_is_loading > 0) {\n",
       "      console.debug(\"Bokeh: BokehJS is being loaded, scheduling callback at\", now());\n",
       "      return null;\n",
       "    }\n",
       "    if (js_urls == null || js_urls.length === 0) {\n",
       "      run_callbacks();\n",
       "      return null;\n",
       "    }\n",
       "    console.debug(\"Bokeh: BokehJS not loaded, scheduling load and callback at\", now());\n",
       "    root._bokeh_is_loading = css_urls.length + js_urls.length;\n",
       "\n",
       "    function on_load() {\n",
       "      root._bokeh_is_loading--;\n",
       "      if (root._bokeh_is_loading === 0) {\n",
       "        console.debug(\"Bokeh: all BokehJS libraries/stylesheets loaded\");\n",
       "        run_callbacks()\n",
       "      }\n",
       "    }\n",
       "\n",
       "    function on_error() {\n",
       "      console.error(\"failed to load \" + url);\n",
       "    }\n",
       "\n",
       "    for (var i = 0; i < css_urls.length; i++) {\n",
       "      var url = css_urls[i];\n",
       "      const element = document.createElement(\"link\");\n",
       "      element.onload = on_load;\n",
       "      element.onerror = on_error;\n",
       "      element.rel = \"stylesheet\";\n",
       "      element.type = \"text/css\";\n",
       "      element.href = url;\n",
       "      console.debug(\"Bokeh: injecting link tag for BokehJS stylesheet: \", url);\n",
       "      document.body.appendChild(element);\n",
       "    }\n",
       "\n",
       "    const hashes = {\"https://cdn.bokeh.org/bokeh/release/bokeh-2.0.1.min.js\": \"JpP8FXbgAZLkfur7LiK3j9AGBhHNIvF742meBJrjO2ShJDhCG2I1uVvW+0DUtrmc\", \"https://cdn.bokeh.org/bokeh/release/bokeh-widgets-2.0.1.min.js\": \"xZlADit0Q04ISQEdKg2k3L4W9AwQBAuDs9nJL9fM/WwzL1tEU9VPNezOFX0nLEAz\", \"https://cdn.bokeh.org/bokeh/release/bokeh-tables-2.0.1.min.js\": \"4BuPRZkdMKSnj3zoxiNrQ86XgNw0rYmBOxe7nshquXwwcauupgBF2DHLVG1WuZlV\", \"https://cdn.bokeh.org/bokeh/release/bokeh-gl-2.0.1.min.js\": \"Dv1SQ87hmDqK6S5OhBf0bCuwAEvL5QYL0PuR/F1SPVhCS/r/abjkbpKDYL2zeM19\"};\n",
       "\n",
       "    for (var i = 0; i < js_urls.length; i++) {\n",
       "      var url = js_urls[i];\n",
       "      var element = document.createElement('script');\n",
       "      element.onload = on_load;\n",
       "      element.onerror = on_error;\n",
       "      element.async = false;\n",
       "      element.src = url;\n",
       "      if (url in hashes) {\n",
       "        element.crossOrigin = \"anonymous\";\n",
       "        element.integrity = \"sha384-\" + hashes[url];\n",
       "      }\n",
       "      console.debug(\"Bokeh: injecting script tag for BokehJS library: \", url);\n",
       "      document.head.appendChild(element);\n",
       "    }\n",
       "  };var element = document.getElementById(\"1001\");\n",
       "  if (element == null) {\n",
       "    console.error(\"Bokeh: ERROR: autoload.js configured with elementid '1001' but no matching script tag was found. \")\n",
       "    return false;\n",
       "  }\n",
       "\n",
       "  function inject_raw_css(css) {\n",
       "    const element = document.createElement(\"style\");\n",
       "    element.appendChild(document.createTextNode(css));\n",
       "    document.body.appendChild(element);\n",
       "  }\n",
       "\n",
       "  \n",
       "  var js_urls = [\"https://cdn.bokeh.org/bokeh/release/bokeh-2.0.1.min.js\", \"https://cdn.bokeh.org/bokeh/release/bokeh-widgets-2.0.1.min.js\", \"https://cdn.bokeh.org/bokeh/release/bokeh-tables-2.0.1.min.js\", \"https://cdn.bokeh.org/bokeh/release/bokeh-gl-2.0.1.min.js\", \"https://unpkg.com/@holoviz/panel@^0.9.4/dist/panel.min.js\"];\n",
       "  var css_urls = [];\n",
       "  \n",
       "\n",
       "  var inline_js = [\n",
       "    function(Bokeh) {\n",
       "      inject_raw_css(\"table.panel-df {\\n    margin-left: auto;\\n    margin-right: auto;\\n    border: none;\\n    border-collapse: collapse;\\n    border-spacing: 0;\\n    color: black;\\n    font-size: 12px;\\n    table-layout: fixed;\\n    width: 100%;\\n}\\n\\n.panel-df tr, th, td {\\n    text-align: right;\\n    vertical-align: middle;\\n    padding: 0.5em 0.5em !important;\\n    line-height: normal;\\n    white-space: normal;\\n    max-width: none;\\n    border: none;\\n}\\n\\n.panel-df tbody {\\n    display: table-row-group;\\n    vertical-align: middle;\\n    border-color: inherit;\\n}\\n\\n.panel-df tbody tr:nth-child(odd) {\\n    background: #f5f5f5;\\n}\\n\\n.panel-df thead {\\n    border-bottom: 1px solid black;\\n    vertical-align: bottom;\\n}\\n\\n.panel-df tr:hover {\\n    background: lightblue !important;\\n    cursor: pointer;\\n}\\n\");\n",
       "    },\n",
       "    function(Bokeh) {\n",
       "      inject_raw_css(\".widget-box {\\n\\tmin-height: 20px;\\n\\tbackground-color: #f5f5f5;\\n\\tborder: 1px solid #e3e3e3 !important;\\n\\tborder-radius: 4px;\\n\\t-webkit-box-shadow: inset 0 1px 1px rgba(0,0,0,.05);\\n\\tbox-shadow: inset 0 1px 1px rgba(0,0,0,.05);\\n\\toverflow-x: hidden;\\n\\toverflow-y: hidden;\\n}\\n\\n.scrollable {\\n  overflow: scroll;\\n}\\n\\nprogress {\\n\\tappearance: none;\\n\\t-moz-appearance: none;\\n\\t-webkit-appearance: none;\\n\\n\\tborder: none;\\n\\theight: 20px;\\n\\tbackground-color: whiteSmoke;\\n\\tborder-radius: 3px;\\n\\tbox-shadow: 0 2px 3px rgba(0,0,0,.5) inset;\\n\\tcolor: royalblue;\\n\\tposition: relative;\\n\\tmargin: 0 0 1.5em;\\n}\\n\\nprogress[value]::-webkit-progress-bar {\\n\\tbackground-color: whiteSmoke;\\n\\tborder-radius: 3px;\\n\\tbox-shadow: 0 2px 3px rgba(0,0,0,.5) inset;\\n}\\n\\nprogress[value]::-webkit-progress-value {\\n\\tposition: relative;\\n\\n\\tbackground-size: 35px 20px, 100% 100%, 100% 100%;\\n\\tborder-radius:3px;\\n}\\n\\nprogress.active:not([value])::before {\\n\\tbackground-position: 10%;\\n\\tanimation-name: stripes;\\n\\tanimation-duration: 3s;\\n\\tanimation-timing-function: linear;\\n\\tanimation-iteration-count: infinite;\\n}\\n\\nprogress[value]::-moz-progress-bar {\\n\\tbackground-size: 35px 20px, 100% 100%, 100% 100%;\\n\\tborder-radius:3px;\\n}\\n\\nprogress:not([value])::-moz-progress-bar {\\n\\tborder-radius:3px;\\n\\tbackground:\\n\\tlinear-gradient(-45deg, transparent 33%, rgba(0, 0, 0, 0.2) 33%, rgba(0, 0, 0, 0.2) 66%, transparent 66%) left/2.5em 1.5em;\\n\\n}\\n\\nprogress.active:not([value])::-moz-progress-bar {\\n\\tbackground-position: 10%;\\n\\tanimation-name: stripes;\\n\\tanimation-duration: 3s;\\n\\tanimation-timing-function: linear;\\n\\tanimation-iteration-count: infinite;\\n}\\n\\nprogress.active:not([value])::-webkit-progress-bar {\\n\\tbackground-position: 10%;\\n\\tanimation-name: stripes;\\n\\tanimation-duration: 3s;\\n\\tanimation-timing-function: linear;\\n\\tanimation-iteration-count: infinite;\\n}\\n\\nprogress.primary[value]::-webkit-progress-value { background-color: #007bff; }\\nprogress.primary:not([value])::before { background-color: #007bff; }\\nprogress.primary:not([value])::-webkit-progress-bar { background-color: #007bff; }\\nprogress.primary::-moz-progress-bar { background-color: #007bff; }\\n\\nprogress.secondary[value]::-webkit-progress-value { background-color: #6c757d; }\\nprogress.secondary:not([value])::before { background-color: #6c757d; }\\nprogress.secondary:not([value])::-webkit-progress-bar { background-color: #6c757d; }\\nprogress.secondary::-moz-progress-bar { background-color: #6c757d; }\\n\\nprogress.success[value]::-webkit-progress-value { background-color: #28a745; }\\nprogress.success:not([value])::before { background-color: #28a745; }\\nprogress.success:not([value])::-webkit-progress-bar { background-color: #28a745; }\\nprogress.success::-moz-progress-bar { background-color: #28a745; }\\n\\nprogress.danger[value]::-webkit-progress-value { background-color: #dc3545; }\\nprogress.danger:not([value])::before { background-color: #dc3545; }\\nprogress.danger:not([value])::-webkit-progress-bar { background-color: #dc3545; }\\nprogress.danger::-moz-progress-bar { background-color: #dc3545; }\\n\\nprogress.warning[value]::-webkit-progress-value { background-color: #ffc107; }\\nprogress.warning:not([value])::before { background-color: #ffc107; }\\nprogress.warning:not([value])::-webkit-progress-bar { background-color: #ffc107; }\\nprogress.warning::-moz-progress-bar { background-color: #ffc107; }\\n\\nprogress.info[value]::-webkit-progress-value { background-color: #17a2b8; }\\nprogress.info:not([value])::before { background-color: #17a2b8; }\\nprogress.info:not([value])::-webkit-progress-bar { background-color: #17a2b8; }\\nprogress.info::-moz-progress-bar { background-color: #17a2b8; }\\n\\nprogress.light[value]::-webkit-progress-value { background-color: #f8f9fa; }\\nprogress.light:not([value])::before { background-color: #f8f9fa; }\\nprogress.light:not([value])::-webkit-progress-bar { background-color: #f8f9fa; }\\nprogress.light::-moz-progress-bar { background-color: #f8f9fa; }\\n\\nprogress.dark[value]::-webkit-progress-value { background-color: #343a40; }\\nprogress.dark:not([value])::-webkit-progress-bar { background-color: #343a40; }\\nprogress.dark:not([value])::before { background-color: #343a40; }\\nprogress.dark::-moz-progress-bar { background-color: #343a40; }\\n\\nprogress:not([value])::-webkit-progress-bar {\\n\\tborder-radius: 3px;\\n\\tbackground:\\n\\tlinear-gradient(-45deg, transparent 33%, rgba(0, 0, 0, 0.2) 33%, rgba(0, 0, 0, 0.2) 66%, transparent 66%) left/2.5em 1.5em;\\n}\\nprogress:not([value])::before {\\n\\tcontent:\\\" \\\";\\n\\tposition:absolute;\\n\\theight: 20px;\\n\\ttop:0;\\n\\tleft:0;\\n\\tright:0;\\n\\tbottom:0;\\n\\tborder-radius: 3px;\\n\\tbackground:\\n\\tlinear-gradient(-45deg, transparent 33%, rgba(0, 0, 0, 0.2) 33%, rgba(0, 0, 0, 0.2) 66%, transparent 66%) left/2.5em 1.5em;\\n}\\n\\n@keyframes stripes {\\n  from {background-position: 0%}\\n  to {background-position: 100%}\\n}\");\n",
       "    },\n",
       "    function(Bokeh) {\n",
       "      inject_raw_css(\".json-formatter-row {\\n  font-family: monospace;\\n}\\n.json-formatter-row,\\n.json-formatter-row a,\\n.json-formatter-row a:hover {\\n  color: black;\\n  text-decoration: none;\\n}\\n.json-formatter-row .json-formatter-row {\\n  margin-left: 1rem;\\n}\\n.json-formatter-row .json-formatter-children.json-formatter-empty {\\n  opacity: 0.5;\\n  margin-left: 1rem;\\n}\\n.json-formatter-row .json-formatter-children.json-formatter-empty:after {\\n  display: none;\\n}\\n.json-formatter-row .json-formatter-children.json-formatter-empty.json-formatter-object:after {\\n  content: \\\"No properties\\\";\\n}\\n.json-formatter-row .json-formatter-children.json-formatter-empty.json-formatter-array:after {\\n  content: \\\"[]\\\";\\n}\\n.json-formatter-row .json-formatter-string,\\n.json-formatter-row .json-formatter-stringifiable {\\n  color: green;\\n  white-space: pre;\\n  word-wrap: break-word;\\n}\\n.json-formatter-row .json-formatter-number {\\n  color: blue;\\n}\\n.json-formatter-row .json-formatter-boolean {\\n  color: red;\\n}\\n.json-formatter-row .json-formatter-null {\\n  color: #855A00;\\n}\\n.json-formatter-row .json-formatter-undefined {\\n  color: #ca0b69;\\n}\\n.json-formatter-row .json-formatter-function {\\n  color: #FF20ED;\\n}\\n.json-formatter-row .json-formatter-date {\\n  background-color: rgba(0, 0, 0, 0.05);\\n}\\n.json-formatter-row .json-formatter-url {\\n  text-decoration: underline;\\n  color: blue;\\n  cursor: pointer;\\n}\\n.json-formatter-row .json-formatter-bracket {\\n  color: blue;\\n}\\n.json-formatter-row .json-formatter-key {\\n  color: #00008B;\\n  padding-right: 0.2rem;\\n}\\n.json-formatter-row .json-formatter-toggler-link {\\n  cursor: pointer;\\n}\\n.json-formatter-row .json-formatter-toggler {\\n  line-height: 1.2rem;\\n  font-size: 0.7rem;\\n  vertical-align: middle;\\n  opacity: 0.6;\\n  cursor: pointer;\\n  padding-right: 0.2rem;\\n}\\n.json-formatter-row .json-formatter-toggler:after {\\n  display: inline-block;\\n  transition: transform 100ms ease-in;\\n  content: \\\"\\\\25BA\\\";\\n}\\n.json-formatter-row > a > .json-formatter-preview-text {\\n  opacity: 0;\\n  transition: opacity 0.15s ease-in;\\n  font-style: italic;\\n}\\n.json-formatter-row:hover > a > .json-formatter-preview-text {\\n  opacity: 0.6;\\n}\\n.json-formatter-row.json-formatter-open > .json-formatter-toggler-link .json-formatter-toggler:after {\\n  transform: rotate(90deg);\\n}\\n.json-formatter-row.json-formatter-open > .json-formatter-children:after {\\n  display: inline-block;\\n}\\n.json-formatter-row.json-formatter-open > a > .json-formatter-preview-text {\\n  display: none;\\n}\\n.json-formatter-row.json-formatter-open.json-formatter-empty:after {\\n  display: block;\\n}\\n.json-formatter-dark.json-formatter-row {\\n  font-family: monospace;\\n}\\n.json-formatter-dark.json-formatter-row,\\n.json-formatter-dark.json-formatter-row a,\\n.json-formatter-dark.json-formatter-row a:hover {\\n  color: white;\\n  text-decoration: none;\\n}\\n.json-formatter-dark.json-formatter-row .json-formatter-row {\\n  margin-left: 1rem;\\n}\\n.json-formatter-dark.json-formatter-row .json-formatter-children.json-formatter-empty {\\n  opacity: 0.5;\\n  margin-left: 1rem;\\n}\\n.json-formatter-dark.json-formatter-row .json-formatter-children.json-formatter-empty:after {\\n  display: none;\\n}\\n.json-formatter-dark.json-formatter-row .json-formatter-children.json-formatter-empty.json-formatter-object:after {\\n  content: \\\"No properties\\\";\\n}\\n.json-formatter-dark.json-formatter-row .json-formatter-children.json-formatter-empty.json-formatter-array:after {\\n  content: \\\"[]\\\";\\n}\\n.json-formatter-dark.json-formatter-row .json-formatter-string,\\n.json-formatter-dark.json-formatter-row .json-formatter-stringifiable {\\n  color: #31F031;\\n  white-space: pre;\\n  word-wrap: break-word;\\n}\\n.json-formatter-dark.json-formatter-row .json-formatter-number {\\n  color: #66C2FF;\\n}\\n.json-formatter-dark.json-formatter-row .json-formatter-boolean {\\n  color: #EC4242;\\n}\\n.json-formatter-dark.json-formatter-row .json-formatter-null {\\n  color: #EEC97D;\\n}\\n.json-formatter-dark.json-formatter-row .json-formatter-undefined {\\n  color: #ef8fbe;\\n}\\n.json-formatter-dark.json-formatter-row .json-formatter-function {\\n  color: #FD48CB;\\n}\\n.json-formatter-dark.json-formatter-row .json-formatter-date {\\n  background-color: rgba(255, 255, 255, 0.05);\\n}\\n.json-formatter-dark.json-formatter-row .json-formatter-url {\\n  text-decoration: underline;\\n  color: #027BFF;\\n  cursor: pointer;\\n}\\n.json-formatter-dark.json-formatter-row .json-formatter-bracket {\\n  color: #9494FF;\\n}\\n.json-formatter-dark.json-formatter-row .json-formatter-key {\\n  color: #23A0DB;\\n  padding-right: 0.2rem;\\n}\\n.json-formatter-dark.json-formatter-row .json-formatter-toggler-link {\\n  cursor: pointer;\\n}\\n.json-formatter-dark.json-formatter-row .json-formatter-toggler {\\n  line-height: 1.2rem;\\n  font-size: 0.7rem;\\n  vertical-align: middle;\\n  opacity: 0.6;\\n  cursor: pointer;\\n  padding-right: 0.2rem;\\n}\\n.json-formatter-dark.json-formatter-row .json-formatter-toggler:after {\\n  display: inline-block;\\n  transition: transform 100ms ease-in;\\n  content: \\\"\\\\25BA\\\";\\n}\\n.json-formatter-dark.json-formatter-row > a > .json-formatter-preview-text {\\n  opacity: 0;\\n  transition: opacity 0.15s ease-in;\\n  font-style: italic;\\n}\\n.json-formatter-dark.json-formatter-row:hover > a > .json-formatter-preview-text {\\n  opacity: 0.6;\\n}\\n.json-formatter-dark.json-formatter-row.json-formatter-open > .json-formatter-toggler-link .json-formatter-toggler:after {\\n  transform: rotate(90deg);\\n}\\n.json-formatter-dark.json-formatter-row.json-formatter-open > .json-formatter-children:after {\\n  display: inline-block;\\n}\\n.json-formatter-dark.json-formatter-row.json-formatter-open > a > .json-formatter-preview-text {\\n  display: none;\\n}\\n.json-formatter-dark.json-formatter-row.json-formatter-open.json-formatter-empty:after {\\n  display: block;\\n}\\n\");\n",
       "    },\n",
       "    function(Bokeh) {\n",
       "      inject_raw_css(\".codehilite .hll { background-color: #ffffcc }\\n.codehilite  { background: #f8f8f8; }\\n.codehilite .c { color: #408080; font-style: italic } /* Comment */\\n.codehilite .err { border: 1px solid #FF0000 } /* Error */\\n.codehilite .k { color: #008000; font-weight: bold } /* Keyword */\\n.codehilite .o { color: #666666 } /* Operator */\\n.codehilite .ch { color: #408080; font-style: italic } /* Comment.Hashbang */\\n.codehilite .cm { color: #408080; font-style: italic } /* Comment.Multiline */\\n.codehilite .cp { color: #BC7A00 } /* Comment.Preproc */\\n.codehilite .cpf { color: #408080; font-style: italic } /* Comment.PreprocFile */\\n.codehilite .c1 { color: #408080; font-style: italic } /* Comment.Single */\\n.codehilite .cs { color: #408080; font-style: italic } /* Comment.Special */\\n.codehilite .gd { color: #A00000 } /* Generic.Deleted */\\n.codehilite .ge { font-style: italic } /* Generic.Emph */\\n.codehilite .gr { color: #FF0000 } /* Generic.Error */\\n.codehilite .gh { color: #000080; font-weight: bold } /* Generic.Heading */\\n.codehilite .gi { color: #00A000 } /* Generic.Inserted */\\n.codehilite .go { color: #888888 } /* Generic.Output */\\n.codehilite .gp { color: #000080; font-weight: bold } /* Generic.Prompt */\\n.codehilite .gs { font-weight: bold } /* Generic.Strong */\\n.codehilite .gu { color: #800080; font-weight: bold } /* Generic.Subheading */\\n.codehilite .gt { color: #0044DD } /* Generic.Traceback */\\n.codehilite .kc { color: #008000; font-weight: bold } /* Keyword.Constant */\\n.codehilite .kd { color: #008000; font-weight: bold } /* Keyword.Declaration */\\n.codehilite .kn { color: #008000; font-weight: bold } /* Keyword.Namespace */\\n.codehilite .kp { color: #008000 } /* Keyword.Pseudo */\\n.codehilite .kr { color: #008000; font-weight: bold } /* Keyword.Reserved */\\n.codehilite .kt { color: #B00040 } /* Keyword.Type */\\n.codehilite .m { color: #666666 } /* Literal.Number */\\n.codehilite .s { color: #BA2121 } /* Literal.String */\\n.codehilite .na { color: #7D9029 } /* Name.Attribute */\\n.codehilite .nb { color: #008000 } /* Name.Builtin */\\n.codehilite .nc { color: #0000FF; font-weight: bold } /* Name.Class */\\n.codehilite .no { color: #880000 } /* Name.Constant */\\n.codehilite .nd { color: #AA22FF } /* Name.Decorator */\\n.codehilite .ni { color: #999999; font-weight: bold } /* Name.Entity */\\n.codehilite .ne { color: #D2413A; font-weight: bold } /* Name.Exception */\\n.codehilite .nf { color: #0000FF } /* Name.Function */\\n.codehilite .nl { color: #A0A000 } /* Name.Label */\\n.codehilite .nn { color: #0000FF; font-weight: bold } /* Name.Namespace */\\n.codehilite .nt { color: #008000; font-weight: bold } /* Name.Tag */\\n.codehilite .nv { color: #19177C } /* Name.Variable */\\n.codehilite .ow { color: #AA22FF; font-weight: bold } /* Operator.Word */\\n.codehilite .w { color: #bbbbbb } /* Text.Whitespace */\\n.codehilite .mb { color: #666666 } /* Literal.Number.Bin */\\n.codehilite .mf { color: #666666 } /* Literal.Number.Float */\\n.codehilite .mh { color: #666666 } /* Literal.Number.Hex */\\n.codehilite .mi { color: #666666 } /* Literal.Number.Integer */\\n.codehilite .mo { color: #666666 } /* Literal.Number.Oct */\\n.codehilite .sa { color: #BA2121 } /* Literal.String.Affix */\\n.codehilite .sb { color: #BA2121 } /* Literal.String.Backtick */\\n.codehilite .sc { color: #BA2121 } /* Literal.String.Char */\\n.codehilite .dl { color: #BA2121 } /* Literal.String.Delimiter */\\n.codehilite .sd { color: #BA2121; font-style: italic } /* Literal.String.Doc */\\n.codehilite .s2 { color: #BA2121 } /* Literal.String.Double */\\n.codehilite .se { color: #BB6622; font-weight: bold } /* Literal.String.Escape */\\n.codehilite .sh { color: #BA2121 } /* Literal.String.Heredoc */\\n.codehilite .si { color: #BB6688; font-weight: bold } /* Literal.String.Interpol */\\n.codehilite .sx { color: #008000 } /* Literal.String.Other */\\n.codehilite .sr { color: #BB6688 } /* Literal.String.Regex */\\n.codehilite .s1 { color: #BA2121 } /* Literal.String.Single */\\n.codehilite .ss { color: #19177C } /* Literal.String.Symbol */\\n.codehilite .bp { color: #008000 } /* Name.Builtin.Pseudo */\\n.codehilite .fm { color: #0000FF } /* Name.Function.Magic */\\n.codehilite .vc { color: #19177C } /* Name.Variable.Class */\\n.codehilite .vg { color: #19177C } /* Name.Variable.Global */\\n.codehilite .vi { color: #19177C } /* Name.Variable.Instance */\\n.codehilite .vm { color: #19177C } /* Name.Variable.Magic */\\n.codehilite .il { color: #666666 } /* Literal.Number.Integer.Long */\\n\\n.markdown h1 { margin-block-start: 0.34em }\\n.markdown h2 { margin-block-start: 0.42em }\\n.markdown h3 { margin-block-start: 0.5em }\\n.markdown h4 { margin-block-start: 0.67em }\\n.markdown h5 { margin-block-start: 0.84em }\\n.markdown h6 { margin-block-start: 1.17em }\\n.markdown ul { padding-inline-start: 2em }\\n.markdown ol { padding-inline-start: 2em }\\n.markdown strong { font-weight: 600 }\\n.markdown a { color: -webkit-link }\\n.markdown a { color: -moz-hyperlinkText }\\n\");\n",
       "    },\n",
       "    function(Bokeh) {\n",
       "      Bokeh.set_log_level(\"info\");\n",
       "    },\n",
       "    function(Bokeh) {\n",
       "    \n",
       "    \n",
       "    }\n",
       "  ];\n",
       "\n",
       "  function run_inline_js() {\n",
       "    \n",
       "    if (root.Bokeh !== undefined || force === true) {\n",
       "      \n",
       "    for (var i = 0; i < inline_js.length; i++) {\n",
       "      inline_js[i].call(root, root.Bokeh);\n",
       "    }\n",
       "    if (force === true) {\n",
       "        display_loaded();\n",
       "      }} else if (Date.now() < root._bokeh_timeout) {\n",
       "      setTimeout(run_inline_js, 100);\n",
       "    } else if (!root._bokeh_failed_load) {\n",
       "      console.log(\"Bokeh: BokehJS failed to load within specified timeout.\");\n",
       "      root._bokeh_failed_load = true;\n",
       "    } else if (force !== true) {\n",
       "      var cell = $(document.getElementById(\"1001\")).parents('.cell').data().cell;\n",
       "      cell.output_area.append_execute_result(NB_LOAD_WARNING)\n",
       "    }\n",
       "\n",
       "  }\n",
       "\n",
       "  if (root._bokeh_is_loading === 0) {\n",
       "    console.debug(\"Bokeh: BokehJS loaded, going straight to plotting\");\n",
       "    run_inline_js();\n",
       "  } else {\n",
       "    load_libs(css_urls, js_urls, function() {\n",
       "      console.debug(\"Bokeh: BokehJS plotting callback run at\", now());\n",
       "      run_inline_js();\n",
       "    });\n",
       "  }\n",
       "}(window));"
      ],
      "application/vnd.bokehjs_load.v0+json": "\n(function(root) {\n  function now() {\n    return new Date();\n  }\n\n  var force = true;\n\n  if (typeof root._bokeh_onload_callbacks === \"undefined\" || force === true) {\n    root._bokeh_onload_callbacks = [];\n    root._bokeh_is_loading = undefined;\n  }\n\n  \n\n  \n  if (typeof (root._bokeh_timeout) === \"undefined\" || force === true) {\n    root._bokeh_timeout = Date.now() + 5000;\n    root._bokeh_failed_load = false;\n  }\n\n  var NB_LOAD_WARNING = {'data': {'text/html':\n     \"<div style='background-color: #fdd'>\\n\"+\n     \"<p>\\n\"+\n     \"BokehJS does not appear to have successfully loaded. If loading BokehJS from CDN, this \\n\"+\n     \"may be due to a slow or bad network connection. Possible fixes:\\n\"+\n     \"</p>\\n\"+\n     \"<ul>\\n\"+\n     \"<li>re-rerun `output_notebook()` to attempt to load from CDN again, or</li>\\n\"+\n     \"<li>use INLINE resources instead, as so:</li>\\n\"+\n     \"</ul>\\n\"+\n     \"<code>\\n\"+\n     \"from bokeh.resources import INLINE\\n\"+\n     \"output_notebook(resources=INLINE)\\n\"+\n     \"</code>\\n\"+\n     \"</div>\"}};\n\n  function display_loaded() {\n    var el = document.getElementById(\"1001\");\n    if (el != null) {\n      el.textContent = \"BokehJS is loading...\";\n    }\n    if (root.Bokeh !== undefined) {\n      if (el != null) {\n        el.textContent = \"BokehJS \" + root.Bokeh.version + \" successfully loaded.\";\n      }\n    } else if (Date.now() < root._bokeh_timeout) {\n      setTimeout(display_loaded, 100)\n    }\n  }\n\n\n  function run_callbacks() {\n    try {\n      root._bokeh_onload_callbacks.forEach(function(callback) {\n        if (callback != null)\n          callback();\n      });\n    } finally {\n      delete root._bokeh_onload_callbacks\n    }\n    console.debug(\"Bokeh: all callbacks have finished\");\n  }\n\n  function load_libs(css_urls, js_urls, callback) {\n    if (css_urls == null) css_urls = [];\n    if (js_urls == null) js_urls = [];\n\n    root._bokeh_onload_callbacks.push(callback);\n    if (root._bokeh_is_loading > 0) {\n      console.debug(\"Bokeh: BokehJS is being loaded, scheduling callback at\", now());\n      return null;\n    }\n    if (js_urls == null || js_urls.length === 0) {\n      run_callbacks();\n      return null;\n    }\n    console.debug(\"Bokeh: BokehJS not loaded, scheduling load and callback at\", now());\n    root._bokeh_is_loading = css_urls.length + js_urls.length;\n\n    function on_load() {\n      root._bokeh_is_loading--;\n      if (root._bokeh_is_loading === 0) {\n        console.debug(\"Bokeh: all BokehJS libraries/stylesheets loaded\");\n        run_callbacks()\n      }\n    }\n\n    function on_error() {\n      console.error(\"failed to load \" + url);\n    }\n\n    for (var i = 0; i < css_urls.length; i++) {\n      var url = css_urls[i];\n      const element = document.createElement(\"link\");\n      element.onload = on_load;\n      element.onerror = on_error;\n      element.rel = \"stylesheet\";\n      element.type = \"text/css\";\n      element.href = url;\n      console.debug(\"Bokeh: injecting link tag for BokehJS stylesheet: \", url);\n      document.body.appendChild(element);\n    }\n\n    const hashes = {\"https://cdn.bokeh.org/bokeh/release/bokeh-2.0.1.min.js\": \"JpP8FXbgAZLkfur7LiK3j9AGBhHNIvF742meBJrjO2ShJDhCG2I1uVvW+0DUtrmc\", \"https://cdn.bokeh.org/bokeh/release/bokeh-widgets-2.0.1.min.js\": \"xZlADit0Q04ISQEdKg2k3L4W9AwQBAuDs9nJL9fM/WwzL1tEU9VPNezOFX0nLEAz\", \"https://cdn.bokeh.org/bokeh/release/bokeh-tables-2.0.1.min.js\": \"4BuPRZkdMKSnj3zoxiNrQ86XgNw0rYmBOxe7nshquXwwcauupgBF2DHLVG1WuZlV\", \"https://cdn.bokeh.org/bokeh/release/bokeh-gl-2.0.1.min.js\": \"Dv1SQ87hmDqK6S5OhBf0bCuwAEvL5QYL0PuR/F1SPVhCS/r/abjkbpKDYL2zeM19\"};\n\n    for (var i = 0; i < js_urls.length; i++) {\n      var url = js_urls[i];\n      var element = document.createElement('script');\n      element.onload = on_load;\n      element.onerror = on_error;\n      element.async = false;\n      element.src = url;\n      if (url in hashes) {\n        element.crossOrigin = \"anonymous\";\n        element.integrity = \"sha384-\" + hashes[url];\n      }\n      console.debug(\"Bokeh: injecting script tag for BokehJS library: \", url);\n      document.head.appendChild(element);\n    }\n  };var element = document.getElementById(\"1001\");\n  if (element == null) {\n    console.error(\"Bokeh: ERROR: autoload.js configured with elementid '1001' but no matching script tag was found. \")\n    return false;\n  }\n\n  function inject_raw_css(css) {\n    const element = document.createElement(\"style\");\n    element.appendChild(document.createTextNode(css));\n    document.body.appendChild(element);\n  }\n\n  \n  var js_urls = [\"https://cdn.bokeh.org/bokeh/release/bokeh-2.0.1.min.js\", \"https://cdn.bokeh.org/bokeh/release/bokeh-widgets-2.0.1.min.js\", \"https://cdn.bokeh.org/bokeh/release/bokeh-tables-2.0.1.min.js\", \"https://cdn.bokeh.org/bokeh/release/bokeh-gl-2.0.1.min.js\", \"https://unpkg.com/@holoviz/panel@^0.9.4/dist/panel.min.js\"];\n  var css_urls = [];\n  \n\n  var inline_js = [\n    function(Bokeh) {\n      inject_raw_css(\"table.panel-df {\\n    margin-left: auto;\\n    margin-right: auto;\\n    border: none;\\n    border-collapse: collapse;\\n    border-spacing: 0;\\n    color: black;\\n    font-size: 12px;\\n    table-layout: fixed;\\n    width: 100%;\\n}\\n\\n.panel-df tr, th, td {\\n    text-align: right;\\n    vertical-align: middle;\\n    padding: 0.5em 0.5em !important;\\n    line-height: normal;\\n    white-space: normal;\\n    max-width: none;\\n    border: none;\\n}\\n\\n.panel-df tbody {\\n    display: table-row-group;\\n    vertical-align: middle;\\n    border-color: inherit;\\n}\\n\\n.panel-df tbody tr:nth-child(odd) {\\n    background: #f5f5f5;\\n}\\n\\n.panel-df thead {\\n    border-bottom: 1px solid black;\\n    vertical-align: bottom;\\n}\\n\\n.panel-df tr:hover {\\n    background: lightblue !important;\\n    cursor: pointer;\\n}\\n\");\n    },\n    function(Bokeh) {\n      inject_raw_css(\".widget-box {\\n\\tmin-height: 20px;\\n\\tbackground-color: #f5f5f5;\\n\\tborder: 1px solid #e3e3e3 !important;\\n\\tborder-radius: 4px;\\n\\t-webkit-box-shadow: inset 0 1px 1px rgba(0,0,0,.05);\\n\\tbox-shadow: inset 0 1px 1px rgba(0,0,0,.05);\\n\\toverflow-x: hidden;\\n\\toverflow-y: hidden;\\n}\\n\\n.scrollable {\\n  overflow: scroll;\\n}\\n\\nprogress {\\n\\tappearance: none;\\n\\t-moz-appearance: none;\\n\\t-webkit-appearance: none;\\n\\n\\tborder: none;\\n\\theight: 20px;\\n\\tbackground-color: whiteSmoke;\\n\\tborder-radius: 3px;\\n\\tbox-shadow: 0 2px 3px rgba(0,0,0,.5) inset;\\n\\tcolor: royalblue;\\n\\tposition: relative;\\n\\tmargin: 0 0 1.5em;\\n}\\n\\nprogress[value]::-webkit-progress-bar {\\n\\tbackground-color: whiteSmoke;\\n\\tborder-radius: 3px;\\n\\tbox-shadow: 0 2px 3px rgba(0,0,0,.5) inset;\\n}\\n\\nprogress[value]::-webkit-progress-value {\\n\\tposition: relative;\\n\\n\\tbackground-size: 35px 20px, 100% 100%, 100% 100%;\\n\\tborder-radius:3px;\\n}\\n\\nprogress.active:not([value])::before {\\n\\tbackground-position: 10%;\\n\\tanimation-name: stripes;\\n\\tanimation-duration: 3s;\\n\\tanimation-timing-function: linear;\\n\\tanimation-iteration-count: infinite;\\n}\\n\\nprogress[value]::-moz-progress-bar {\\n\\tbackground-size: 35px 20px, 100% 100%, 100% 100%;\\n\\tborder-radius:3px;\\n}\\n\\nprogress:not([value])::-moz-progress-bar {\\n\\tborder-radius:3px;\\n\\tbackground:\\n\\tlinear-gradient(-45deg, transparent 33%, rgba(0, 0, 0, 0.2) 33%, rgba(0, 0, 0, 0.2) 66%, transparent 66%) left/2.5em 1.5em;\\n\\n}\\n\\nprogress.active:not([value])::-moz-progress-bar {\\n\\tbackground-position: 10%;\\n\\tanimation-name: stripes;\\n\\tanimation-duration: 3s;\\n\\tanimation-timing-function: linear;\\n\\tanimation-iteration-count: infinite;\\n}\\n\\nprogress.active:not([value])::-webkit-progress-bar {\\n\\tbackground-position: 10%;\\n\\tanimation-name: stripes;\\n\\tanimation-duration: 3s;\\n\\tanimation-timing-function: linear;\\n\\tanimation-iteration-count: infinite;\\n}\\n\\nprogress.primary[value]::-webkit-progress-value { background-color: #007bff; }\\nprogress.primary:not([value])::before { background-color: #007bff; }\\nprogress.primary:not([value])::-webkit-progress-bar { background-color: #007bff; }\\nprogress.primary::-moz-progress-bar { background-color: #007bff; }\\n\\nprogress.secondary[value]::-webkit-progress-value { background-color: #6c757d; }\\nprogress.secondary:not([value])::before { background-color: #6c757d; }\\nprogress.secondary:not([value])::-webkit-progress-bar { background-color: #6c757d; }\\nprogress.secondary::-moz-progress-bar { background-color: #6c757d; }\\n\\nprogress.success[value]::-webkit-progress-value { background-color: #28a745; }\\nprogress.success:not([value])::before { background-color: #28a745; }\\nprogress.success:not([value])::-webkit-progress-bar { background-color: #28a745; }\\nprogress.success::-moz-progress-bar { background-color: #28a745; }\\n\\nprogress.danger[value]::-webkit-progress-value { background-color: #dc3545; }\\nprogress.danger:not([value])::before { background-color: #dc3545; }\\nprogress.danger:not([value])::-webkit-progress-bar { background-color: #dc3545; }\\nprogress.danger::-moz-progress-bar { background-color: #dc3545; }\\n\\nprogress.warning[value]::-webkit-progress-value { background-color: #ffc107; }\\nprogress.warning:not([value])::before { background-color: #ffc107; }\\nprogress.warning:not([value])::-webkit-progress-bar { background-color: #ffc107; }\\nprogress.warning::-moz-progress-bar { background-color: #ffc107; }\\n\\nprogress.info[value]::-webkit-progress-value { background-color: #17a2b8; }\\nprogress.info:not([value])::before { background-color: #17a2b8; }\\nprogress.info:not([value])::-webkit-progress-bar { background-color: #17a2b8; }\\nprogress.info::-moz-progress-bar { background-color: #17a2b8; }\\n\\nprogress.light[value]::-webkit-progress-value { background-color: #f8f9fa; }\\nprogress.light:not([value])::before { background-color: #f8f9fa; }\\nprogress.light:not([value])::-webkit-progress-bar { background-color: #f8f9fa; }\\nprogress.light::-moz-progress-bar { background-color: #f8f9fa; }\\n\\nprogress.dark[value]::-webkit-progress-value { background-color: #343a40; }\\nprogress.dark:not([value])::-webkit-progress-bar { background-color: #343a40; }\\nprogress.dark:not([value])::before { background-color: #343a40; }\\nprogress.dark::-moz-progress-bar { background-color: #343a40; }\\n\\nprogress:not([value])::-webkit-progress-bar {\\n\\tborder-radius: 3px;\\n\\tbackground:\\n\\tlinear-gradient(-45deg, transparent 33%, rgba(0, 0, 0, 0.2) 33%, rgba(0, 0, 0, 0.2) 66%, transparent 66%) left/2.5em 1.5em;\\n}\\nprogress:not([value])::before {\\n\\tcontent:\\\" \\\";\\n\\tposition:absolute;\\n\\theight: 20px;\\n\\ttop:0;\\n\\tleft:0;\\n\\tright:0;\\n\\tbottom:0;\\n\\tborder-radius: 3px;\\n\\tbackground:\\n\\tlinear-gradient(-45deg, transparent 33%, rgba(0, 0, 0, 0.2) 33%, rgba(0, 0, 0, 0.2) 66%, transparent 66%) left/2.5em 1.5em;\\n}\\n\\n@keyframes stripes {\\n  from {background-position: 0%}\\n  to {background-position: 100%}\\n}\");\n    },\n    function(Bokeh) {\n      inject_raw_css(\".json-formatter-row {\\n  font-family: monospace;\\n}\\n.json-formatter-row,\\n.json-formatter-row a,\\n.json-formatter-row a:hover {\\n  color: black;\\n  text-decoration: none;\\n}\\n.json-formatter-row .json-formatter-row {\\n  margin-left: 1rem;\\n}\\n.json-formatter-row .json-formatter-children.json-formatter-empty {\\n  opacity: 0.5;\\n  margin-left: 1rem;\\n}\\n.json-formatter-row .json-formatter-children.json-formatter-empty:after {\\n  display: none;\\n}\\n.json-formatter-row .json-formatter-children.json-formatter-empty.json-formatter-object:after {\\n  content: \\\"No properties\\\";\\n}\\n.json-formatter-row .json-formatter-children.json-formatter-empty.json-formatter-array:after {\\n  content: \\\"[]\\\";\\n}\\n.json-formatter-row .json-formatter-string,\\n.json-formatter-row .json-formatter-stringifiable {\\n  color: green;\\n  white-space: pre;\\n  word-wrap: break-word;\\n}\\n.json-formatter-row .json-formatter-number {\\n  color: blue;\\n}\\n.json-formatter-row .json-formatter-boolean {\\n  color: red;\\n}\\n.json-formatter-row .json-formatter-null {\\n  color: #855A00;\\n}\\n.json-formatter-row .json-formatter-undefined {\\n  color: #ca0b69;\\n}\\n.json-formatter-row .json-formatter-function {\\n  color: #FF20ED;\\n}\\n.json-formatter-row .json-formatter-date {\\n  background-color: rgba(0, 0, 0, 0.05);\\n}\\n.json-formatter-row .json-formatter-url {\\n  text-decoration: underline;\\n  color: blue;\\n  cursor: pointer;\\n}\\n.json-formatter-row .json-formatter-bracket {\\n  color: blue;\\n}\\n.json-formatter-row .json-formatter-key {\\n  color: #00008B;\\n  padding-right: 0.2rem;\\n}\\n.json-formatter-row .json-formatter-toggler-link {\\n  cursor: pointer;\\n}\\n.json-formatter-row .json-formatter-toggler {\\n  line-height: 1.2rem;\\n  font-size: 0.7rem;\\n  vertical-align: middle;\\n  opacity: 0.6;\\n  cursor: pointer;\\n  padding-right: 0.2rem;\\n}\\n.json-formatter-row .json-formatter-toggler:after {\\n  display: inline-block;\\n  transition: transform 100ms ease-in;\\n  content: \\\"\\\\25BA\\\";\\n}\\n.json-formatter-row > a > .json-formatter-preview-text {\\n  opacity: 0;\\n  transition: opacity 0.15s ease-in;\\n  font-style: italic;\\n}\\n.json-formatter-row:hover > a > .json-formatter-preview-text {\\n  opacity: 0.6;\\n}\\n.json-formatter-row.json-formatter-open > .json-formatter-toggler-link .json-formatter-toggler:after {\\n  transform: rotate(90deg);\\n}\\n.json-formatter-row.json-formatter-open > .json-formatter-children:after {\\n  display: inline-block;\\n}\\n.json-formatter-row.json-formatter-open > a > .json-formatter-preview-text {\\n  display: none;\\n}\\n.json-formatter-row.json-formatter-open.json-formatter-empty:after {\\n  display: block;\\n}\\n.json-formatter-dark.json-formatter-row {\\n  font-family: monospace;\\n}\\n.json-formatter-dark.json-formatter-row,\\n.json-formatter-dark.json-formatter-row a,\\n.json-formatter-dark.json-formatter-row a:hover {\\n  color: white;\\n  text-decoration: none;\\n}\\n.json-formatter-dark.json-formatter-row .json-formatter-row {\\n  margin-left: 1rem;\\n}\\n.json-formatter-dark.json-formatter-row .json-formatter-children.json-formatter-empty {\\n  opacity: 0.5;\\n  margin-left: 1rem;\\n}\\n.json-formatter-dark.json-formatter-row .json-formatter-children.json-formatter-empty:after {\\n  display: none;\\n}\\n.json-formatter-dark.json-formatter-row .json-formatter-children.json-formatter-empty.json-formatter-object:after {\\n  content: \\\"No properties\\\";\\n}\\n.json-formatter-dark.json-formatter-row .json-formatter-children.json-formatter-empty.json-formatter-array:after {\\n  content: \\\"[]\\\";\\n}\\n.json-formatter-dark.json-formatter-row .json-formatter-string,\\n.json-formatter-dark.json-formatter-row .json-formatter-stringifiable {\\n  color: #31F031;\\n  white-space: pre;\\n  word-wrap: break-word;\\n}\\n.json-formatter-dark.json-formatter-row .json-formatter-number {\\n  color: #66C2FF;\\n}\\n.json-formatter-dark.json-formatter-row .json-formatter-boolean {\\n  color: #EC4242;\\n}\\n.json-formatter-dark.json-formatter-row .json-formatter-null {\\n  color: #EEC97D;\\n}\\n.json-formatter-dark.json-formatter-row .json-formatter-undefined {\\n  color: #ef8fbe;\\n}\\n.json-formatter-dark.json-formatter-row .json-formatter-function {\\n  color: #FD48CB;\\n}\\n.json-formatter-dark.json-formatter-row .json-formatter-date {\\n  background-color: rgba(255, 255, 255, 0.05);\\n}\\n.json-formatter-dark.json-formatter-row .json-formatter-url {\\n  text-decoration: underline;\\n  color: #027BFF;\\n  cursor: pointer;\\n}\\n.json-formatter-dark.json-formatter-row .json-formatter-bracket {\\n  color: #9494FF;\\n}\\n.json-formatter-dark.json-formatter-row .json-formatter-key {\\n  color: #23A0DB;\\n  padding-right: 0.2rem;\\n}\\n.json-formatter-dark.json-formatter-row .json-formatter-toggler-link {\\n  cursor: pointer;\\n}\\n.json-formatter-dark.json-formatter-row .json-formatter-toggler {\\n  line-height: 1.2rem;\\n  font-size: 0.7rem;\\n  vertical-align: middle;\\n  opacity: 0.6;\\n  cursor: pointer;\\n  padding-right: 0.2rem;\\n}\\n.json-formatter-dark.json-formatter-row .json-formatter-toggler:after {\\n  display: inline-block;\\n  transition: transform 100ms ease-in;\\n  content: \\\"\\\\25BA\\\";\\n}\\n.json-formatter-dark.json-formatter-row > a > .json-formatter-preview-text {\\n  opacity: 0;\\n  transition: opacity 0.15s ease-in;\\n  font-style: italic;\\n}\\n.json-formatter-dark.json-formatter-row:hover > a > .json-formatter-preview-text {\\n  opacity: 0.6;\\n}\\n.json-formatter-dark.json-formatter-row.json-formatter-open > .json-formatter-toggler-link .json-formatter-toggler:after {\\n  transform: rotate(90deg);\\n}\\n.json-formatter-dark.json-formatter-row.json-formatter-open > .json-formatter-children:after {\\n  display: inline-block;\\n}\\n.json-formatter-dark.json-formatter-row.json-formatter-open > a > .json-formatter-preview-text {\\n  display: none;\\n}\\n.json-formatter-dark.json-formatter-row.json-formatter-open.json-formatter-empty:after {\\n  display: block;\\n}\\n\");\n    },\n    function(Bokeh) {\n      inject_raw_css(\".codehilite .hll { background-color: #ffffcc }\\n.codehilite  { background: #f8f8f8; }\\n.codehilite .c { color: #408080; font-style: italic } /* Comment */\\n.codehilite .err { border: 1px solid #FF0000 } /* Error */\\n.codehilite .k { color: #008000; font-weight: bold } /* Keyword */\\n.codehilite .o { color: #666666 } /* Operator */\\n.codehilite .ch { color: #408080; font-style: italic } /* Comment.Hashbang */\\n.codehilite .cm { color: #408080; font-style: italic } /* Comment.Multiline */\\n.codehilite .cp { color: #BC7A00 } /* Comment.Preproc */\\n.codehilite .cpf { color: #408080; font-style: italic } /* Comment.PreprocFile */\\n.codehilite .c1 { color: #408080; font-style: italic } /* Comment.Single */\\n.codehilite .cs { color: #408080; font-style: italic } /* Comment.Special */\\n.codehilite .gd { color: #A00000 } /* Generic.Deleted */\\n.codehilite .ge { font-style: italic } /* Generic.Emph */\\n.codehilite .gr { color: #FF0000 } /* Generic.Error */\\n.codehilite .gh { color: #000080; font-weight: bold } /* Generic.Heading */\\n.codehilite .gi { color: #00A000 } /* Generic.Inserted */\\n.codehilite .go { color: #888888 } /* Generic.Output */\\n.codehilite .gp { color: #000080; font-weight: bold } /* Generic.Prompt */\\n.codehilite .gs { font-weight: bold } /* Generic.Strong */\\n.codehilite .gu { color: #800080; font-weight: bold } /* Generic.Subheading */\\n.codehilite .gt { color: #0044DD } /* Generic.Traceback */\\n.codehilite .kc { color: #008000; font-weight: bold } /* Keyword.Constant */\\n.codehilite .kd { color: #008000; font-weight: bold } /* Keyword.Declaration */\\n.codehilite .kn { color: #008000; font-weight: bold } /* Keyword.Namespace */\\n.codehilite .kp { color: #008000 } /* Keyword.Pseudo */\\n.codehilite .kr { color: #008000; font-weight: bold } /* Keyword.Reserved */\\n.codehilite .kt { color: #B00040 } /* Keyword.Type */\\n.codehilite .m { color: #666666 } /* Literal.Number */\\n.codehilite .s { color: #BA2121 } /* Literal.String */\\n.codehilite .na { color: #7D9029 } /* Name.Attribute */\\n.codehilite .nb { color: #008000 } /* Name.Builtin */\\n.codehilite .nc { color: #0000FF; font-weight: bold } /* Name.Class */\\n.codehilite .no { color: #880000 } /* Name.Constant */\\n.codehilite .nd { color: #AA22FF } /* Name.Decorator */\\n.codehilite .ni { color: #999999; font-weight: bold } /* Name.Entity */\\n.codehilite .ne { color: #D2413A; font-weight: bold } /* Name.Exception */\\n.codehilite .nf { color: #0000FF } /* Name.Function */\\n.codehilite .nl { color: #A0A000 } /* Name.Label */\\n.codehilite .nn { color: #0000FF; font-weight: bold } /* Name.Namespace */\\n.codehilite .nt { color: #008000; font-weight: bold } /* Name.Tag */\\n.codehilite .nv { color: #19177C } /* Name.Variable */\\n.codehilite .ow { color: #AA22FF; font-weight: bold } /* Operator.Word */\\n.codehilite .w { color: #bbbbbb } /* Text.Whitespace */\\n.codehilite .mb { color: #666666 } /* Literal.Number.Bin */\\n.codehilite .mf { color: #666666 } /* Literal.Number.Float */\\n.codehilite .mh { color: #666666 } /* Literal.Number.Hex */\\n.codehilite .mi { color: #666666 } /* Literal.Number.Integer */\\n.codehilite .mo { color: #666666 } /* Literal.Number.Oct */\\n.codehilite .sa { color: #BA2121 } /* Literal.String.Affix */\\n.codehilite .sb { color: #BA2121 } /* Literal.String.Backtick */\\n.codehilite .sc { color: #BA2121 } /* Literal.String.Char */\\n.codehilite .dl { color: #BA2121 } /* Literal.String.Delimiter */\\n.codehilite .sd { color: #BA2121; font-style: italic } /* Literal.String.Doc */\\n.codehilite .s2 { color: #BA2121 } /* Literal.String.Double */\\n.codehilite .se { color: #BB6622; font-weight: bold } /* Literal.String.Escape */\\n.codehilite .sh { color: #BA2121 } /* Literal.String.Heredoc */\\n.codehilite .si { color: #BB6688; font-weight: bold } /* Literal.String.Interpol */\\n.codehilite .sx { color: #008000 } /* Literal.String.Other */\\n.codehilite .sr { color: #BB6688 } /* Literal.String.Regex */\\n.codehilite .s1 { color: #BA2121 } /* Literal.String.Single */\\n.codehilite .ss { color: #19177C } /* Literal.String.Symbol */\\n.codehilite .bp { color: #008000 } /* Name.Builtin.Pseudo */\\n.codehilite .fm { color: #0000FF } /* Name.Function.Magic */\\n.codehilite .vc { color: #19177C } /* Name.Variable.Class */\\n.codehilite .vg { color: #19177C } /* Name.Variable.Global */\\n.codehilite .vi { color: #19177C } /* Name.Variable.Instance */\\n.codehilite .vm { color: #19177C } /* Name.Variable.Magic */\\n.codehilite .il { color: #666666 } /* Literal.Number.Integer.Long */\\n\\n.markdown h1 { margin-block-start: 0.34em }\\n.markdown h2 { margin-block-start: 0.42em }\\n.markdown h3 { margin-block-start: 0.5em }\\n.markdown h4 { margin-block-start: 0.67em }\\n.markdown h5 { margin-block-start: 0.84em }\\n.markdown h6 { margin-block-start: 1.17em }\\n.markdown ul { padding-inline-start: 2em }\\n.markdown ol { padding-inline-start: 2em }\\n.markdown strong { font-weight: 600 }\\n.markdown a { color: -webkit-link }\\n.markdown a { color: -moz-hyperlinkText }\\n\");\n    },\n    function(Bokeh) {\n      Bokeh.set_log_level(\"info\");\n    },\n    function(Bokeh) {\n    \n    \n    }\n  ];\n\n  function run_inline_js() {\n    \n    if (root.Bokeh !== undefined || force === true) {\n      \n    for (var i = 0; i < inline_js.length; i++) {\n      inline_js[i].call(root, root.Bokeh);\n    }\n    if (force === true) {\n        display_loaded();\n      }} else if (Date.now() < root._bokeh_timeout) {\n      setTimeout(run_inline_js, 100);\n    } else if (!root._bokeh_failed_load) {\n      console.log(\"Bokeh: BokehJS failed to load within specified timeout.\");\n      root._bokeh_failed_load = true;\n    } else if (force !== true) {\n      var cell = $(document.getElementById(\"1001\")).parents('.cell').data().cell;\n      cell.output_area.append_execute_result(NB_LOAD_WARNING)\n    }\n\n  }\n\n  if (root._bokeh_is_loading === 0) {\n    console.debug(\"Bokeh: BokehJS loaded, going straight to plotting\");\n    run_inline_js();\n  } else {\n    load_libs(css_urls, js_urls, function() {\n      console.debug(\"Bokeh: BokehJS plotting callback run at\", now());\n      run_inline_js();\n    });\n  }\n}(window));"
     },
     "metadata": {},
     "output_type": "display_data"
    },
    {
     "data": {
      "text/html": [
       "\n",
       "\n",
       "\n",
       "\n",
       "\n",
       "\n",
       "  <div class=\"bk-root\" id=\"e4d58afe-c357-4f45-b872-944a0696f0bb\" data-root-id=\"1003\"></div>\n"
      ]
     },
     "metadata": {},
     "output_type": "display_data"
    },
    {
     "data": {
      "application/javascript": [
       "(function(root) {\n",
       "  function embed_document(root) {\n",
       "    \n",
       "  var docs_json = {\"3dc6e8ab-012f-4881-ae97-7003cf496693\":{\"roots\":{\"references\":[{\"attributes\":{\"background_fill_color\":\"white\",\"below\":[{\"id\":\"1012\"}],\"center\":[{\"id\":\"1015\"},{\"id\":\"1019\"}],\"left\":[{\"id\":\"1016\"}],\"plot_height\":800,\"plot_width\":800,\"renderers\":[{\"id\":\"1039\"}],\"title\":{\"id\":\"1041\"},\"toolbar\":{\"id\":\"1028\"},\"x_range\":{\"id\":\"1004\"},\"x_scale\":{\"id\":\"1008\"},\"y_range\":{\"id\":\"1006\"},\"y_scale\":{\"id\":\"1010\"}},\"id\":\"1003\",\"subtype\":\"Figure\",\"type\":\"Plot\"},{\"attributes\":{\"data_source\":{\"id\":\"1002\"},\"glyph\":{\"id\":\"1037\"},\"hover_glyph\":null,\"muted_glyph\":null,\"nonselection_glyph\":{\"id\":\"1038\"},\"selection_glyph\":null,\"view\":{\"id\":\"1040\"}},\"id\":\"1039\",\"type\":\"GlyphRenderer\"},{\"attributes\":{\"text\":\"\"},\"id\":\"1041\",\"type\":\"Title\"},{\"attributes\":{},\"id\":\"1043\",\"type\":\"BasicTickFormatter\"},{\"attributes\":{\"formatter\":{\"id\":\"1045\"},\"ticker\":{\"id\":\"1017\"},\"visible\":false},\"id\":\"1016\",\"type\":\"LinearAxis\"},{\"attributes\":{\"data\":{\"color\":[\"#378ebb\",\"#feeda1\",\"#fdbf6f\",\"#d8434e\",\"#feeda1\",\"#feeda1\",\"#feeda1\",\"#feeda1\",\"#f1f9a9\",\"#feeda1\",\"#378ebb\",\"#feeda1\",\"#feeda1\",\"#378ebb\",\"#74c7a5\",\"#bfe5a0\",\"#feeda1\",\"#378ebb\",\"#feeda1\",\"#feeda1\",\"#378ebb\",\"#f1f9a9\",\"#feeda1\",\"#f67a49\",\"#feeda1\",\"#feeda1\",\"#fdbf6f\",\"#feeda1\",\"#feeda1\",\"#feeda1\",\"#fdbf6f\",\"#5e4fa2\",\"#feeda1\",\"#feeda1\",\"#feeda1\",\"#5e4fa2\",\"#feeda1\",\"#feeda1\",\"#feeda1\",\"#bfe5a0\",\"#feeda1\",\"#feeda1\",\"#feeda1\",\"#feeda1\",\"#d8434e\",\"#feeda1\",\"#feeda1\",\"#5e4fa2\",\"#fdbf6f\",\"#9e0142\",\"#feeda1\",\"#feeda1\",\"#feeda1\",\"#feeda1\",\"#feeda1\",\"#feeda1\",\"#5e4fa2\",\"#9e0142\",\"#feeda1\",\"#feeda1\",\"#feeda1\",\"#5e4fa2\",\"#feeda1\",\"#feeda1\",\"#feeda1\",\"#feeda1\",\"#9e0142\",\"#bfe5a0\",\"#fdbf6f\",\"#5e4fa2\",\"#feeda1\",\"#378ebb\",\"#fdbf6f\",\"#378ebb\",\"#f1f9a9\",\"#378ebb\",\"#fdbf6f\",\"#fdbf6f\",\"#378ebb\",\"#378ebb\",\"#d8434e\",\"#74c7a5\",\"#f1f9a9\",\"#feeda1\",\"#f1f9a9\",\"#378ebb\",\"#378ebb\",\"#378ebb\",\"#378ebb\",\"#feeda1\",\"#378ebb\",\"#5e4fa2\",\"#feeda1\",\"#fdbf6f\",\"#feeda1\",\"#feeda1\",\"#fdbf6f\",\"#f1f9a9\",\"#5e4fa2\",\"#f67a49\",\"#feeda1\",\"#378ebb\",\"#fdbf6f\",\"#fdbf6f\",\"#f1f9a9\",\"#f1f9a9\",\"#fdbf6f\",\"#feeda1\",\"#feeda1\",\"#fdbf6f\",\"#fdbf6f\",\"#fdbf6f\",\"#fdbf6f\",\"#feeda1\",\"#fdbf6f\",\"#fdbf6f\",\"#fdbf6f\",\"#378ebb\",\"#fdbf6f\",\"#f1f9a9\",\"#feeda1\",\"#378ebb\",\"#f1f9a9\",\"#feeda1\",\"#fdbf6f\",\"#378ebb\",\"#378ebb\",\"#feeda1\",\"#378ebb\",\"#378ebb\",\"#feeda1\",\"#d8434e\",\"#d8434e\",\"#5e4fa2\",\"#fdbf6f\",\"#fdbf6f\",\"#378ebb\",\"#feeda1\",\"#9e0142\",\"#9e0142\",\"#5e4fa2\",\"#feeda1\",\"#feeda1\",\"#fdbf6f\",\"#feeda1\",\"#378ebb\",\"#378ebb\",\"#fdbf6f\",\"#378ebb\",\"#fdbf6f\",\"#fdbf6f\",\"#5e4fa2\",\"#9e0142\",\"#fdbf6f\",\"#feeda1\",\"#9e0142\",\"#feeda1\",\"#feeda1\",\"#bfe5a0\",\"#fdbf6f\",\"#fdbf6f\",\"#fdbf6f\",\"#fdbf6f\",\"#fdbf6f\",\"#fdbf6f\",\"#d8434e\",\"#fdbf6f\",\"#fdbf6f\",\"#74c7a5\",\"#fdbf6f\",\"#fdbf6f\",\"#feeda1\",\"#feeda1\",\"#fdbf6f\",\"#fdbf6f\",\"#fdbf6f\",\"#feeda1\",\"#feeda1\",\"#f67a49\",\"#f67a49\",\"#fdbf6f\",\"#feeda1\",\"#fdbf6f\",\"#fdbf6f\",\"#fdbf6f\",\"#fdbf6f\",\"#d8434e\",\"#fdbf6f\",\"#fdbf6f\",\"#fdbf6f\",\"#fdbf6f\",\"#bfe5a0\",\"#fdbf6f\",\"#feeda1\",\"#fdbf6f\",\"#feeda1\",\"#bfe5a0\",\"#fdbf6f\",\"#bfe5a0\",\"#fdbf6f\",\"#bfe5a0\",\"#fdbf6f\",\"#fdbf6f\",\"#74c7a5\",\"#fdbf6f\",\"#fdbf6f\",\"#fdbf6f\",\"#fdbf6f\",\"#f1f9a9\",\"#f1f9a9\",\"#fdbf6f\",\"#fdbf6f\",\"#fdbf6f\",\"#fdbf6f\",\"#74c7a5\",\"#fdbf6f\",\"#bfe5a0\",\"#fdbf6f\",\"#fdbf6f\",\"#fdbf6f\",\"#fdbf6f\",\"#fdbf6f\",\"#bfe5a0\",\"#feeda1\",\"#f1f9a9\",\"#fdbf6f\",\"#fdbf6f\",\"#fdbf6f\",\"#feeda1\",\"#fdbf6f\",\"#fdbf6f\",\"#fdbf6f\",\"#fdbf6f\",\"#fdbf6f\",\"#fdbf6f\",\"#fdbf6f\",\"#9e0142\",\"#fdbf6f\",\"#fdbf6f\",\"#fdbf6f\",\"#74c7a5\",\"#fdbf6f\",\"#9e0142\",\"#fdbf6f\",\"#74c7a5\",\"#fdbf6f\",\"#74c7a5\",\"#bfe5a0\",\"#fdbf6f\",\"#bfe5a0\",\"#fdbf6f\",\"#fdbf6f\",\"#fdbf6f\",\"#fdbf6f\",\"#fdbf6f\",\"#bfe5a0\",\"#fdbf6f\",\"#f67a49\",\"#f1f9a9\",\"#fdbf6f\",\"#74c7a5\",\"#9e0142\",\"#fdbf6f\",\"#fdbf6f\",\"#bfe5a0\",\"#fdbf6f\",\"#fdbf6f\",\"#fdbf6f\",\"#f67a49\",\"#fdbf6f\",\"#fdbf6f\",\"#9e0142\",\"#fdbf6f\",\"#fdbf6f\",\"#fdbf6f\",\"#fdbf6f\",\"#fdbf6f\",\"#fdbf6f\",\"#fdbf6f\",\"#fdbf6f\",\"#fdbf6f\",\"#fdbf6f\",\"#fdbf6f\",\"#5e4fa2\",\"#fdbf6f\",\"#bfe5a0\",\"#fdbf6f\",\"#fdbf6f\",\"#fdbf6f\",\"#fdbf6f\",\"#fdbf6f\",\"#bfe5a0\",\"#fdbf6f\",\"#fdbf6f\",\"#bfe5a0\",\"#fdbf6f\",\"#378ebb\",\"#bfe5a0\",\"#feeda1\",\"#fdbf6f\",\"#fdbf6f\",\"#fdbf6f\",\"#fdbf6f\",\"#fdbf6f\",\"#bfe5a0\",\"#fdbf6f\",\"#fdbf6f\",\"#fdbf6f\",\"#bfe5a0\",\"#fdbf6f\",\"#fdbf6f\",\"#fdbf6f\",\"#fdbf6f\",\"#bfe5a0\",\"#feeda1\",\"#fdbf6f\",\"#fdbf6f\",\"#fdbf6f\",\"#fdbf6f\",\"#fdbf6f\",\"#fdbf6f\",\"#bfe5a0\",\"#fdbf6f\",\"#bfe5a0\",\"#fdbf6f\",\"#fdbf6f\",\"#feeda1\",\"#9e0142\",\"#fdbf6f\",\"#9e0142\",\"#fdbf6f\",\"#bfe5a0\",\"#fdbf6f\",\"#74c7a5\",\"#f67a49\",\"#74c7a5\",\"#fdbf6f\",\"#fdbf6f\",\"#bfe5a0\",\"#bfe5a0\",\"#fdbf6f\",\"#fdbf6f\",\"#fdbf6f\",\"#fdbf6f\",\"#fdbf6f\",\"#feeda1\",\"#fdbf6f\",\"#fdbf6f\",\"#fdbf6f\",\"#f67a49\",\"#f67a49\",\"#fdbf6f\",\"#fdbf6f\",\"#9e0142\",\"#74c7a5\",\"#fdbf6f\",\"#5e4fa2\",\"#fdbf6f\",\"#9e0142\",\"#fdbf6f\",\"#fdbf6f\",\"#f1f9a9\",\"#d8434e\",\"#fdbf6f\",\"#bfe5a0\",\"#5e4fa2\",\"#fdbf6f\",\"#feeda1\",\"#9e0142\",\"#bfe5a0\",\"#74c7a5\",\"#74c7a5\",\"#fdbf6f\",\"#feeda1\",\"#feeda1\",\"#bfe5a0\",\"#74c7a5\",\"#feeda1\",\"#feeda1\",\"#d8434e\",\"#5e4fa2\",\"#bfe5a0\",\"#bfe5a0\",\"#bfe5a0\",\"#fdbf6f\",\"#bfe5a0\",\"#fdbf6f\",\"#bfe5a0\",\"#bfe5a0\",\"#fdbf6f\",\"#fdbf6f\",\"#74c7a5\",\"#fdbf6f\",\"#fdbf6f\",\"#74c7a5\",\"#fdbf6f\",\"#f67a49\",\"#fdbf6f\",\"#fdbf6f\",\"#fdbf6f\",\"#fdbf6f\",\"#f67a49\",\"#fdbf6f\",\"#fdbf6f\",\"#fdbf6f\",\"#bfe5a0\",\"#fdbf6f\",\"#fdbf6f\",\"#74c7a5\",\"#fdbf6f\",\"#bfe5a0\",\"#bfe5a0\",\"#378ebb\",\"#9e0142\",\"#fdbf6f\",\"#d8434e\",\"#fdbf6f\",\"#fdbf6f\",\"#feeda1\",\"#feeda1\",\"#f67a49\",\"#feeda1\",\"#5e4fa2\",\"#5e4fa2\",\"#d8434e\",\"#feeda1\",\"#fdbf6f\",\"#74c7a5\",\"#fdbf6f\",\"#fdbf6f\",\"#fdbf6f\",\"#74c7a5\",\"#bfe5a0\",\"#f1f9a9\",\"#f67a49\",\"#f67a49\",\"#fdbf6f\",\"#f67a49\",\"#bfe5a0\",\"#74c7a5\",\"#fdbf6f\",\"#d8434e\",\"#fdbf6f\",\"#feeda1\",\"#fdbf6f\",\"#feeda1\",\"#fdbf6f\",\"#bfe5a0\",\"#fdbf6f\",\"#fdbf6f\",\"#fdbf6f\",\"#fdbf6f\",\"#bfe5a0\",\"#fdbf6f\",\"#feeda1\",\"#bfe5a0\",\"#fdbf6f\",\"#fdbf6f\",\"#fdbf6f\",\"#fdbf6f\",\"#fdbf6f\",\"#feeda1\",\"#5e4fa2\",\"#fdbf6f\",\"#feeda1\",\"#fdbf6f\",\"#fdbf6f\",\"#bfe5a0\",\"#fdbf6f\",\"#fdbf6f\",\"#fdbf6f\",\"#fdbf6f\",\"#feeda1\",\"#fdbf6f\",\"#fdbf6f\",\"#bfe5a0\",\"#fdbf6f\",\"#fdbf6f\",\"#9e0142\",\"#feeda1\",\"#fdbf6f\",\"#fdbf6f\",\"#feeda1\",\"#fdbf6f\",\"#feeda1\",\"#fdbf6f\",\"#fdbf6f\",\"#fdbf6f\",\"#fdbf6f\",\"#fdbf6f\",\"#bfe5a0\",\"#bfe5a0\",\"#fdbf6f\",\"#fdbf6f\",\"#fdbf6f\",\"#fdbf6f\",\"#fdbf6f\",\"#fdbf6f\",\"#bfe5a0\",\"#feeda1\",\"#fdbf6f\",\"#feeda1\",\"#bfe5a0\",\"#fdbf6f\",\"#fdbf6f\",\"#fdbf6f\",\"#fdbf6f\",\"#fdbf6f\",\"#fdbf6f\",\"#d8434e\",\"#fdbf6f\",\"#fdbf6f\",\"#bfe5a0\",\"#74c7a5\",\"#fdbf6f\",\"#f67a49\",\"#feeda1\",\"#bfe5a0\",\"#bfe5a0\",\"#bfe5a0\",\"#fdbf6f\",\"#fdbf6f\",\"#fdbf6f\",\"#9e0142\",\"#fdbf6f\",\"#fdbf6f\",\"#fdbf6f\",\"#fdbf6f\",\"#fdbf6f\",\"#fdbf6f\",\"#fdbf6f\",\"#fdbf6f\",\"#d8434e\",\"#fdbf6f\",\"#74c7a5\",\"#fdbf6f\",\"#f67a49\",\"#fdbf6f\",\"#bfe5a0\",\"#fdbf6f\",\"#fdbf6f\",\"#fdbf6f\",\"#d8434e\",\"#fdbf6f\",\"#fdbf6f\",\"#fdbf6f\",\"#fdbf6f\",\"#fdbf6f\",\"#74c7a5\",\"#f1f9a9\",\"#feeda1\",\"#bfe5a0\",\"#fdbf6f\",\"#fdbf6f\",\"#feeda1\",\"#fdbf6f\",\"#fdbf6f\",\"#fdbf6f\",\"#74c7a5\",\"#9e0142\",\"#fdbf6f\",\"#bfe5a0\",\"#fdbf6f\",\"#feeda1\",\"#fdbf6f\",\"#fdbf6f\",\"#feeda1\",\"#f1f9a9\",\"#feeda1\",\"#fdbf6f\",\"#feeda1\",\"#feeda1\",\"#feeda1\",\"#378ebb\",\"#378ebb\",\"#d8434e\"],\"index\":[0,1,2,3,4,5,6,7,8,9,10,11,12,13,14,15,16,17,18,19,20,21,22,23,24,25,26,27,28,29,30,31,32,33,34,35,36,37,38,39,40,41,42,43,44,45,46,47,48,49,50,51,52,53,54,55,56,57,58,59,60,61,62,63,64,65,66,67,68,69,70,71,72,73,74,75,76,77,78,79,80,81,82,83,84,85,86,87,88,89,90,91,92,93,94,95,96,97,98,99,100,101,102,103,104,105,106,107,108,109,110,111,112,113,114,115,116,117,118,119,120,121,122,123,124,125,126,127,128,129,130,131,132,133,134,135,136,137,138,139,140,141,142,143,144,145,146,147,148,149,150,151,152,153,154,155,156,157,158,159,160,161,162,163,164,165,166,167,168,169,170,171,172,173,174,175,176,177,178,179,180,181,182,183,184,185,186,187,188,189,190,191,192,193,194,195,196,197,198,199,200,201,202,203,204,205,206,207,208,209,210,211,212,213,214,215,216,217,218,219,220,221,222,223,224,225,226,227,228,229,230,231,232,233,234,235,236,237,238,239,240,241,242,243,244,245,246,247,248,249,250,251,252,253,254,255,256,257,258,259,260,261,262,263,264,265,266,267,268,269,270,271,272,273,274,275,276,277,278,279,280,281,282,283,284,285,286,287,288,289,290,291,292,293,294,295,296,297,298,299,300,301,302,303,304,305,306,307,308,309,310,311,312,313,314,315,316,317,318,319,320,321,322,323,324,325,326,327,328,329,330,331,332,333,334,335,336,337,338,339,340,341,342,343,344,345,346,347,348,349,350,351,352,353,354,355,356,357,358,359,360,361,362,363,364,365,366,367,368,369,370,371,372,373,374,375,376,377,378,379,380,381,382,383,384,385,386,387,388,389,390,391,392,393,394,395,396,397,398,399,400,401,402,403,404,405,406,407,408,409,410,411,412,413,414,415,416,417,418,419,420,421,422,423,424,425,426,427,428,429,430,431,432,433,434,435,436,437,438,439,440,441,442,443,444,445,446,447,448,449,450,451,452,453,454,455,456,457,458,459,460,461,462,463,464,465,466,467,468,469,470,471,472,473,474,475,476,477,478,479,480,481,482,483,484,485,486,487,488,489,490,491,492,493,494,495,496,497,498,499,500,501,502,503,504,505,506,507,508,509,510,511,512,513,514,515,516,517,518,519,520,521,522,523,524,525,526,527,528,529,530,531,532,533,534,535,536,537,538,539,540,541,542,543,544,545,546,547,548,549,550,551,552,553,554,555,556,557,558,559,560,561,562,563,564,565,566,567,568,569,570,571,572,573,574,575],\"label\":[\"Socialistes et apparent\\u00e9s\",\"Les R\\u00e9publicains\",\"La R\\u00e9publique en Marche\",\"Gauche d\\u00e9mocrate et r\\u00e9publicaine\",\"Les R\\u00e9publicains\",\"Les R\\u00e9publicains\",\"Les R\\u00e9publicains\",\"Les R\\u00e9publicains\",\"Libert\\u00e9s et Territoires\",\"Les R\\u00e9publicains\",\"Socialistes et apparent\\u00e9s\",\"Les R\\u00e9publicains\",\"Les R\\u00e9publicains\",\"Socialistes et apparent\\u00e9s\",\"Non inscrit\",\"Mouvement D\\u00e9mocrate (MoDem) et D\\u00e9mocrates apparent\\u00e9s\",\"Les R\\u00e9publicains\",\"Socialistes et apparent\\u00e9s\",\"Les R\\u00e9publicains\",\"Les R\\u00e9publicains\",\"Socialistes et apparent\\u00e9s\",\"Libert\\u00e9s et Territoires\",\"Les R\\u00e9publicains\",\"La France insoumise\",\"Les R\\u00e9publicains\",\"Les R\\u00e9publicains\",\"La R\\u00e9publique en Marche\",\"Les R\\u00e9publicains\",\"Les R\\u00e9publicains\",\"Les R\\u00e9publicains\",\"La R\\u00e9publique en Marche\",\"UDI et Ind\\u00e9pendants\",\"Les R\\u00e9publicains\",\"Les R\\u00e9publicains\",\"Les R\\u00e9publicains\",\"UDI et Ind\\u00e9pendants\",\"Les R\\u00e9publicains\",\"Les R\\u00e9publicains\",\"Les R\\u00e9publicains\",\"Mouvement D\\u00e9mocrate (MoDem) et D\\u00e9mocrates apparent\\u00e9s\",\"Les R\\u00e9publicains\",\"Les R\\u00e9publicains\",\"Les R\\u00e9publicains\",\"Les R\\u00e9publicains\",\"Gauche d\\u00e9mocrate et r\\u00e9publicaine\",\"Les R\\u00e9publicains\",\"Les R\\u00e9publicains\",\"UDI et Ind\\u00e9pendants\",\"La R\\u00e9publique en Marche\",\"Agir ensemble\",\"Les R\\u00e9publicains\",\"Les R\\u00e9publicains\",\"Les R\\u00e9publicains\",\"Les R\\u00e9publicains\",\"Les R\\u00e9publicains\",\"Les R\\u00e9publicains\",\"UDI et Ind\\u00e9pendants\",\"Agir ensemble\",\"Les R\\u00e9publicains\",\"Les R\\u00e9publicains\",\"Les R\\u00e9publicains\",\"UDI et Ind\\u00e9pendants\",\"Les R\\u00e9publicains\",\"Les R\\u00e9publicains\",\"Les R\\u00e9publicains\",\"Les R\\u00e9publicains\",\"Agir ensemble\",\"Mouvement D\\u00e9mocrate (MoDem) et D\\u00e9mocrates apparent\\u00e9s\",\"La R\\u00e9publique en Marche\",\"UDI et Ind\\u00e9pendants\",\"Les R\\u00e9publicains\",\"Socialistes et apparent\\u00e9s\",\"La R\\u00e9publique en Marche\",\"Socialistes et apparent\\u00e9s\",\"Libert\\u00e9s et Territoires\",\"Socialistes et apparent\\u00e9s\",\"La R\\u00e9publique en Marche\",\"La R\\u00e9publique en Marche\",\"Socialistes et apparent\\u00e9s\",\"Socialistes et apparent\\u00e9s\",\"Gauche d\\u00e9mocrate et r\\u00e9publicaine\",\"Non inscrit\",\"Libert\\u00e9s et Territoires\",\"Les R\\u00e9publicains\",\"Libert\\u00e9s et Territoires\",\"Socialistes et apparent\\u00e9s\",\"Socialistes et apparent\\u00e9s\",\"Socialistes et apparent\\u00e9s\",\"Socialistes et apparent\\u00e9s\",\"Les R\\u00e9publicains\",\"Socialistes et apparent\\u00e9s\",\"UDI et Ind\\u00e9pendants\",\"Les R\\u00e9publicains\",\"La R\\u00e9publique en Marche\",\"Les R\\u00e9publicains\",\"Les R\\u00e9publicains\",\"La R\\u00e9publique en Marche\",\"Libert\\u00e9s et Territoires\",\"UDI et Ind\\u00e9pendants\",\"La France insoumise\",\"Les R\\u00e9publicains\",\"Socialistes et apparent\\u00e9s\",\"La R\\u00e9publique en Marche\",\"La R\\u00e9publique en Marche\",\"Libert\\u00e9s et Territoires\",\"Libert\\u00e9s et Territoires\",\"La R\\u00e9publique en Marche\",\"Les R\\u00e9publicains\",\"Les R\\u00e9publicains\",\"La R\\u00e9publique en Marche\",\"La R\\u00e9publique en Marche\",\"La R\\u00e9publique en Marche\",\"La R\\u00e9publique en Marche\",\"Les R\\u00e9publicains\",\"La R\\u00e9publique en Marche\",\"La R\\u00e9publique en Marche\",\"La R\\u00e9publique en Marche\",\"Socialistes et apparent\\u00e9s\",\"La R\\u00e9publique en Marche\",\"Libert\\u00e9s et Territoires\",\"Les R\\u00e9publicains\",\"Socialistes et apparent\\u00e9s\",\"Libert\\u00e9s et Territoires\",\"Les R\\u00e9publicains\",\"La R\\u00e9publique en Marche\",\"Socialistes et apparent\\u00e9s\",\"Socialistes et apparent\\u00e9s\",\"Les R\\u00e9publicains\",\"Socialistes et apparent\\u00e9s\",\"Socialistes et apparent\\u00e9s\",\"Les R\\u00e9publicains\",\"Gauche d\\u00e9mocrate et r\\u00e9publicaine\",\"Gauche d\\u00e9mocrate et r\\u00e9publicaine\",\"UDI et Ind\\u00e9pendants\",\"La R\\u00e9publique en Marche\",\"La R\\u00e9publique en Marche\",\"Socialistes et apparent\\u00e9s\",\"Les R\\u00e9publicains\",\"Agir ensemble\",\"Agir ensemble\",\"UDI et Ind\\u00e9pendants\",\"Les R\\u00e9publicains\",\"Les R\\u00e9publicains\",\"La R\\u00e9publique en Marche\",\"Les R\\u00e9publicains\",\"Socialistes et apparent\\u00e9s\",\"Socialistes et apparent\\u00e9s\",\"La R\\u00e9publique en Marche\",\"Socialistes et apparent\\u00e9s\",\"La R\\u00e9publique en Marche\",\"La R\\u00e9publique en Marche\",\"UDI et Ind\\u00e9pendants\",\"Agir ensemble\",\"La R\\u00e9publique en Marche\",\"Les R\\u00e9publicains\",\"Agir ensemble\",\"Les R\\u00e9publicains\",\"Les R\\u00e9publicains\",\"Mouvement D\\u00e9mocrate (MoDem) et D\\u00e9mocrates apparent\\u00e9s\",\"La R\\u00e9publique en Marche\",\"La R\\u00e9publique en Marche\",\"La R\\u00e9publique en Marche\",\"La R\\u00e9publique en Marche\",\"La R\\u00e9publique en Marche\",\"La R\\u00e9publique en Marche\",\"Gauche d\\u00e9mocrate et r\\u00e9publicaine\",\"La R\\u00e9publique en Marche\",\"La R\\u00e9publique en Marche\",\"Non inscrit\",\"La R\\u00e9publique en Marche\",\"La R\\u00e9publique en Marche\",\"Les R\\u00e9publicains\",\"Les R\\u00e9publicains\",\"La R\\u00e9publique en Marche\",\"La R\\u00e9publique en Marche\",\"La R\\u00e9publique en Marche\",\"Les R\\u00e9publicains\",\"Les R\\u00e9publicains\",\"La France insoumise\",\"La France insoumise\",\"La R\\u00e9publique en Marche\",\"Les R\\u00e9publicains\",\"La R\\u00e9publique en Marche\",\"La R\\u00e9publique en Marche\",\"La R\\u00e9publique en Marche\",\"La R\\u00e9publique en Marche\",\"Gauche d\\u00e9mocrate et r\\u00e9publicaine\",\"La R\\u00e9publique en Marche\",\"La R\\u00e9publique en Marche\",\"La R\\u00e9publique en Marche\",\"La R\\u00e9publique en Marche\",\"Mouvement D\\u00e9mocrate (MoDem) et D\\u00e9mocrates apparent\\u00e9s\",\"La R\\u00e9publique en Marche\",\"Les R\\u00e9publicains\",\"La R\\u00e9publique en Marche\",\"Les R\\u00e9publicains\",\"Mouvement D\\u00e9mocrate (MoDem) et D\\u00e9mocrates apparent\\u00e9s\",\"La R\\u00e9publique en Marche\",\"Mouvement D\\u00e9mocrate (MoDem) et D\\u00e9mocrates apparent\\u00e9s\",\"La R\\u00e9publique en Marche\",\"Mouvement D\\u00e9mocrate (MoDem) et D\\u00e9mocrates apparent\\u00e9s\",\"La R\\u00e9publique en Marche\",\"La R\\u00e9publique en Marche\",\"Non inscrit\",\"La R\\u00e9publique en Marche\",\"La R\\u00e9publique en Marche\",\"La R\\u00e9publique en Marche\",\"La R\\u00e9publique en Marche\",\"Libert\\u00e9s et Territoires\",\"Libert\\u00e9s et Territoires\",\"La R\\u00e9publique en Marche\",\"La R\\u00e9publique en Marche\",\"La R\\u00e9publique en Marche\",\"La R\\u00e9publique en Marche\",\"Non inscrit\",\"La R\\u00e9publique en Marche\",\"Mouvement D\\u00e9mocrate (MoDem) et D\\u00e9mocrates apparent\\u00e9s\",\"La R\\u00e9publique en Marche\",\"La R\\u00e9publique en Marche\",\"La R\\u00e9publique en Marche\",\"La R\\u00e9publique en Marche\",\"La R\\u00e9publique en Marche\",\"Mouvement D\\u00e9mocrate (MoDem) et D\\u00e9mocrates apparent\\u00e9s\",\"Les R\\u00e9publicains\",\"Libert\\u00e9s et Territoires\",\"La R\\u00e9publique en Marche\",\"La R\\u00e9publique en Marche\",\"La R\\u00e9publique en Marche\",\"Les R\\u00e9publicains\",\"La R\\u00e9publique en Marche\",\"La R\\u00e9publique en Marche\",\"La R\\u00e9publique en Marche\",\"La R\\u00e9publique en Marche\",\"La R\\u00e9publique en Marche\",\"La R\\u00e9publique en Marche\",\"La R\\u00e9publique en Marche\",\"Agir ensemble\",\"La R\\u00e9publique en Marche\",\"La R\\u00e9publique en Marche\",\"La R\\u00e9publique en Marche\",\"Non inscrit\",\"La R\\u00e9publique en Marche\",\"Agir ensemble\",\"La R\\u00e9publique en Marche\",\"Non inscrit\",\"La R\\u00e9publique en Marche\",\"Non inscrit\",\"Mouvement D\\u00e9mocrate (MoDem) et D\\u00e9mocrates apparent\\u00e9s\",\"La R\\u00e9publique en Marche\",\"Mouvement D\\u00e9mocrate (MoDem) et D\\u00e9mocrates apparent\\u00e9s\",\"La R\\u00e9publique en Marche\",\"La R\\u00e9publique en Marche\",\"La R\\u00e9publique en Marche\",\"La R\\u00e9publique en Marche\",\"La R\\u00e9publique en Marche\",\"Mouvement D\\u00e9mocrate (MoDem) et D\\u00e9mocrates apparent\\u00e9s\",\"La R\\u00e9publique en Marche\",\"La France insoumise\",\"Libert\\u00e9s et Territoires\",\"La R\\u00e9publique en Marche\",\"Non inscrit\",\"Agir ensemble\",\"La R\\u00e9publique en Marche\",\"La R\\u00e9publique en Marche\",\"Mouvement D\\u00e9mocrate (MoDem) et D\\u00e9mocrates apparent\\u00e9s\",\"La R\\u00e9publique en Marche\",\"La R\\u00e9publique en Marche\",\"La R\\u00e9publique en Marche\",\"La France insoumise\",\"La R\\u00e9publique en Marche\",\"La R\\u00e9publique en Marche\",\"Agir ensemble\",\"La R\\u00e9publique en Marche\",\"La R\\u00e9publique en Marche\",\"La R\\u00e9publique en Marche\",\"La R\\u00e9publique en Marche\",\"La R\\u00e9publique en Marche\",\"La R\\u00e9publique en Marche\",\"La R\\u00e9publique en Marche\",\"La R\\u00e9publique en Marche\",\"La R\\u00e9publique en Marche\",\"La R\\u00e9publique en Marche\",\"La R\\u00e9publique en Marche\",\"UDI et Ind\\u00e9pendants\",\"La R\\u00e9publique en Marche\",\"Mouvement D\\u00e9mocrate (MoDem) et D\\u00e9mocrates apparent\\u00e9s\",\"La R\\u00e9publique en Marche\",\"La R\\u00e9publique en Marche\",\"La R\\u00e9publique en Marche\",\"La R\\u00e9publique en Marche\",\"La R\\u00e9publique en Marche\",\"Mouvement D\\u00e9mocrate (MoDem) et D\\u00e9mocrates apparent\\u00e9s\",\"La R\\u00e9publique en Marche\",\"La R\\u00e9publique en Marche\",\"Mouvement D\\u00e9mocrate (MoDem) et D\\u00e9mocrates apparent\\u00e9s\",\"La R\\u00e9publique en Marche\",\"Socialistes et apparent\\u00e9s\",\"Mouvement D\\u00e9mocrate (MoDem) et D\\u00e9mocrates apparent\\u00e9s\",\"Les R\\u00e9publicains\",\"La R\\u00e9publique en Marche\",\"La R\\u00e9publique en Marche\",\"La R\\u00e9publique en Marche\",\"La R\\u00e9publique en Marche\",\"La R\\u00e9publique en Marche\",\"Mouvement D\\u00e9mocrate (MoDem) et D\\u00e9mocrates apparent\\u00e9s\",\"La R\\u00e9publique en Marche\",\"La R\\u00e9publique en Marche\",\"La R\\u00e9publique en Marche\",\"Mouvement D\\u00e9mocrate (MoDem) et D\\u00e9mocrates apparent\\u00e9s\",\"La R\\u00e9publique en Marche\",\"La R\\u00e9publique en Marche\",\"La R\\u00e9publique en Marche\",\"La R\\u00e9publique en Marche\",\"Mouvement D\\u00e9mocrate (MoDem) et D\\u00e9mocrates apparent\\u00e9s\",\"Les R\\u00e9publicains\",\"La R\\u00e9publique en Marche\",\"La R\\u00e9publique en Marche\",\"La R\\u00e9publique en Marche\",\"La R\\u00e9publique en Marche\",\"La R\\u00e9publique en Marche\",\"La R\\u00e9publique en Marche\",\"Mouvement D\\u00e9mocrate (MoDem) et D\\u00e9mocrates apparent\\u00e9s\",\"La R\\u00e9publique en Marche\",\"Mouvement D\\u00e9mocrate (MoDem) et D\\u00e9mocrates apparent\\u00e9s\",\"La R\\u00e9publique en Marche\",\"La R\\u00e9publique en Marche\",\"Les R\\u00e9publicains\",\"Agir ensemble\",\"La R\\u00e9publique en Marche\",\"Agir ensemble\",\"La R\\u00e9publique en Marche\",\"Mouvement D\\u00e9mocrate (MoDem) et D\\u00e9mocrates apparent\\u00e9s\",\"La R\\u00e9publique en Marche\",\"Non inscrit\",\"La France insoumise\",\"Non inscrit\",\"La R\\u00e9publique en Marche\",\"La R\\u00e9publique en Marche\",\"Mouvement D\\u00e9mocrate (MoDem) et D\\u00e9mocrates apparent\\u00e9s\",\"Mouvement D\\u00e9mocrate (MoDem) et D\\u00e9mocrates apparent\\u00e9s\",\"La R\\u00e9publique en Marche\",\"La R\\u00e9publique en Marche\",\"La R\\u00e9publique en Marche\",\"La R\\u00e9publique en Marche\",\"La R\\u00e9publique en Marche\",\"Les R\\u00e9publicains\",\"La R\\u00e9publique en Marche\",\"La R\\u00e9publique en Marche\",\"La R\\u00e9publique en Marche\",\"La France insoumise\",\"La France insoumise\",\"La R\\u00e9publique en Marche\",\"La R\\u00e9publique en Marche\",\"Agir ensemble\",\"Non inscrit\",\"La R\\u00e9publique en Marche\",\"UDI et Ind\\u00e9pendants\",\"La R\\u00e9publique en Marche\",\"Agir ensemble\",\"La R\\u00e9publique en Marche\",\"La R\\u00e9publique en Marche\",\"Libert\\u00e9s et Territoires\",\"Gauche d\\u00e9mocrate et r\\u00e9publicaine\",\"La R\\u00e9publique en Marche\",\"Mouvement D\\u00e9mocrate (MoDem) et D\\u00e9mocrates apparent\\u00e9s\",\"UDI et Ind\\u00e9pendants\",\"La R\\u00e9publique en Marche\",\"Les R\\u00e9publicains\",\"Agir ensemble\",\"Mouvement D\\u00e9mocrate (MoDem) et D\\u00e9mocrates apparent\\u00e9s\",\"Non inscrit\",\"Non inscrit\",\"La R\\u00e9publique en Marche\",\"Les R\\u00e9publicains\",\"Les R\\u00e9publicains\",\"Mouvement D\\u00e9mocrate (MoDem) et D\\u00e9mocrates apparent\\u00e9s\",\"Non inscrit\",\"Les R\\u00e9publicains\",\"Les R\\u00e9publicains\",\"Gauche d\\u00e9mocrate et r\\u00e9publicaine\",\"UDI et Ind\\u00e9pendants\",\"Mouvement D\\u00e9mocrate (MoDem) et D\\u00e9mocrates apparent\\u00e9s\",\"Mouvement D\\u00e9mocrate (MoDem) et D\\u00e9mocrates apparent\\u00e9s\",\"Mouvement D\\u00e9mocrate (MoDem) et D\\u00e9mocrates apparent\\u00e9s\",\"La R\\u00e9publique en Marche\",\"Mouvement D\\u00e9mocrate (MoDem) et D\\u00e9mocrates apparent\\u00e9s\",\"La R\\u00e9publique en Marche\",\"Mouvement D\\u00e9mocrate (MoDem) et D\\u00e9mocrates apparent\\u00e9s\",\"Mouvement D\\u00e9mocrate (MoDem) et D\\u00e9mocrates apparent\\u00e9s\",\"La R\\u00e9publique en Marche\",\"La R\\u00e9publique en Marche\",\"Non inscrit\",\"La R\\u00e9publique en Marche\",\"La R\\u00e9publique en Marche\",\"Non inscrit\",\"La R\\u00e9publique en Marche\",\"La France insoumise\",\"La R\\u00e9publique en Marche\",\"La R\\u00e9publique en Marche\",\"La R\\u00e9publique en Marche\",\"La R\\u00e9publique en Marche\",\"La France insoumise\",\"La R\\u00e9publique en Marche\",\"La R\\u00e9publique en Marche\",\"La R\\u00e9publique en Marche\",\"Mouvement D\\u00e9mocrate (MoDem) et D\\u00e9mocrates apparent\\u00e9s\",\"La R\\u00e9publique en Marche\",\"La R\\u00e9publique en Marche\",\"Non inscrit\",\"La R\\u00e9publique en Marche\",\"Mouvement D\\u00e9mocrate (MoDem) et D\\u00e9mocrates apparent\\u00e9s\",\"Mouvement D\\u00e9mocrate (MoDem) et D\\u00e9mocrates apparent\\u00e9s\",\"Socialistes et apparent\\u00e9s\",\"Agir ensemble\",\"La R\\u00e9publique en Marche\",\"Gauche d\\u00e9mocrate et r\\u00e9publicaine\",\"La R\\u00e9publique en Marche\",\"La R\\u00e9publique en Marche\",\"Les R\\u00e9publicains\",\"Les R\\u00e9publicains\",\"La France insoumise\",\"Les R\\u00e9publicains\",\"UDI et Ind\\u00e9pendants\",\"UDI et Ind\\u00e9pendants\",\"Gauche d\\u00e9mocrate et r\\u00e9publicaine\",\"Les R\\u00e9publicains\",\"La R\\u00e9publique en Marche\",\"Non inscrit\",\"La R\\u00e9publique en Marche\",\"La R\\u00e9publique en Marche\",\"La R\\u00e9publique en Marche\",\"Non inscrit\",\"Mouvement D\\u00e9mocrate (MoDem) et D\\u00e9mocrates apparent\\u00e9s\",\"Libert\\u00e9s et Territoires\",\"La France insoumise\",\"La France insoumise\",\"La R\\u00e9publique en Marche\",\"La France insoumise\",\"Mouvement D\\u00e9mocrate (MoDem) et D\\u00e9mocrates apparent\\u00e9s\",\"Non inscrit\",\"La R\\u00e9publique en Marche\",\"Gauche d\\u00e9mocrate et r\\u00e9publicaine\",\"La R\\u00e9publique en Marche\",\"Les R\\u00e9publicains\",\"La R\\u00e9publique en Marche\",\"Les R\\u00e9publicains\",\"La R\\u00e9publique en Marche\",\"Mouvement D\\u00e9mocrate (MoDem) et D\\u00e9mocrates apparent\\u00e9s\",\"La R\\u00e9publique en Marche\",\"La R\\u00e9publique en Marche\",\"La R\\u00e9publique en Marche\",\"La R\\u00e9publique en Marche\",\"Mouvement D\\u00e9mocrate (MoDem) et D\\u00e9mocrates apparent\\u00e9s\",\"La R\\u00e9publique en Marche\",\"Les R\\u00e9publicains\",\"Mouvement D\\u00e9mocrate (MoDem) et D\\u00e9mocrates apparent\\u00e9s\",\"La R\\u00e9publique en Marche\",\"La R\\u00e9publique en Marche\",\"La R\\u00e9publique en Marche\",\"La R\\u00e9publique en Marche\",\"La R\\u00e9publique en Marche\",\"Les R\\u00e9publicains\",\"UDI et Ind\\u00e9pendants\",\"La R\\u00e9publique en Marche\",\"Les R\\u00e9publicains\",\"La R\\u00e9publique en Marche\",\"La R\\u00e9publique en Marche\",\"Mouvement D\\u00e9mocrate (MoDem) et D\\u00e9mocrates apparent\\u00e9s\",\"La R\\u00e9publique en Marche\",\"La R\\u00e9publique en Marche\",\"La R\\u00e9publique en Marche\",\"La R\\u00e9publique en Marche\",\"Les R\\u00e9publicains\",\"La R\\u00e9publique en Marche\",\"La R\\u00e9publique en Marche\",\"Mouvement D\\u00e9mocrate (MoDem) et D\\u00e9mocrates apparent\\u00e9s\",\"La R\\u00e9publique en Marche\",\"La R\\u00e9publique en Marche\",\"Agir ensemble\",\"Les R\\u00e9publicains\",\"La R\\u00e9publique en Marche\",\"La R\\u00e9publique en Marche\",\"Les R\\u00e9publicains\",\"La R\\u00e9publique en Marche\",\"Les R\\u00e9publicains\",\"La R\\u00e9publique en Marche\",\"La R\\u00e9publique en Marche\",\"La R\\u00e9publique en Marche\",\"La R\\u00e9publique en Marche\",\"La R\\u00e9publique en Marche\",\"Mouvement D\\u00e9mocrate (MoDem) et D\\u00e9mocrates apparent\\u00e9s\",\"Mouvement D\\u00e9mocrate (MoDem) et D\\u00e9mocrates apparent\\u00e9s\",\"La R\\u00e9publique en Marche\",\"La R\\u00e9publique en Marche\",\"La R\\u00e9publique en Marche\",\"La R\\u00e9publique en Marche\",\"La R\\u00e9publique en Marche\",\"La R\\u00e9publique en Marche\",\"Mouvement D\\u00e9mocrate (MoDem) et D\\u00e9mocrates apparent\\u00e9s\",\"Les R\\u00e9publicains\",\"La R\\u00e9publique en Marche\",\"Les R\\u00e9publicains\",\"Mouvement D\\u00e9mocrate (MoDem) et D\\u00e9mocrates apparent\\u00e9s\",\"La R\\u00e9publique en Marche\",\"La R\\u00e9publique en Marche\",\"La R\\u00e9publique en Marche\",\"La R\\u00e9publique en Marche\",\"La R\\u00e9publique en Marche\",\"La R\\u00e9publique en Marche\",\"Gauche d\\u00e9mocrate et r\\u00e9publicaine\",\"La R\\u00e9publique en Marche\",\"La R\\u00e9publique en Marche\",\"Mouvement D\\u00e9mocrate (MoDem) et D\\u00e9mocrates apparent\\u00e9s\",\"Non inscrit\",\"La R\\u00e9publique en Marche\",\"La France insoumise\",\"Les R\\u00e9publicains\",\"Mouvement D\\u00e9mocrate (MoDem) et D\\u00e9mocrates apparent\\u00e9s\",\"Mouvement D\\u00e9mocrate (MoDem) et D\\u00e9mocrates apparent\\u00e9s\",\"Mouvement D\\u00e9mocrate (MoDem) et D\\u00e9mocrates apparent\\u00e9s\",\"La R\\u00e9publique en Marche\",\"La R\\u00e9publique en Marche\",\"La R\\u00e9publique en Marche\",\"Agir ensemble\",\"La R\\u00e9publique en Marche\",\"La R\\u00e9publique en Marche\",\"La R\\u00e9publique en Marche\",\"La R\\u00e9publique en Marche\",\"La R\\u00e9publique en Marche\",\"La R\\u00e9publique en Marche\",\"La R\\u00e9publique en Marche\",\"La R\\u00e9publique en Marche\",\"Gauche d\\u00e9mocrate et r\\u00e9publicaine\",\"La R\\u00e9publique en Marche\",\"Non inscrit\",\"La R\\u00e9publique en Marche\",\"La France insoumise\",\"La R\\u00e9publique en Marche\",\"Mouvement D\\u00e9mocrate (MoDem) et D\\u00e9mocrates apparent\\u00e9s\",\"La R\\u00e9publique en Marche\",\"La R\\u00e9publique en Marche\",\"La R\\u00e9publique en Marche\",\"Gauche d\\u00e9mocrate et r\\u00e9publicaine\",\"La R\\u00e9publique en Marche\",\"La R\\u00e9publique en Marche\",\"La R\\u00e9publique en Marche\",\"La R\\u00e9publique en Marche\",\"La R\\u00e9publique en Marche\",\"Non inscrit\",\"Libert\\u00e9s et Territoires\",\"Les R\\u00e9publicains\",\"Mouvement D\\u00e9mocrate (MoDem) et D\\u00e9mocrates apparent\\u00e9s\",\"La R\\u00e9publique en Marche\",\"La R\\u00e9publique en Marche\",\"Les R\\u00e9publicains\",\"La R\\u00e9publique en Marche\",\"La R\\u00e9publique en Marche\",\"La R\\u00e9publique en Marche\",\"Non inscrit\",\"Agir ensemble\",\"La R\\u00e9publique en Marche\",\"Mouvement D\\u00e9mocrate (MoDem) et D\\u00e9mocrates apparent\\u00e9s\",\"La R\\u00e9publique en Marche\",\"Les R\\u00e9publicains\",\"La R\\u00e9publique en Marche\",\"La R\\u00e9publique en Marche\",\"Les R\\u00e9publicains\",\"Libert\\u00e9s et Territoires\",\"Les R\\u00e9publicains\",\"La R\\u00e9publique en Marche\",\"Les R\\u00e9publicains\",\"Les R\\u00e9publicains\",\"Les R\\u00e9publicains\",\"Socialistes et apparent\\u00e9s\",\"Socialistes et apparent\\u00e9s\",\"Gauche d\\u00e9mocrate et r\\u00e9publicaine\"],\"nom\":[\"Bi\\u00e9mouret Gis\\u00e8le\",\"Bouley Bernard\",\"Bridey Jean-Jacques\",\"Buffet Marie-George\",\"Carrez Gilles\",\"Cattin Jacques\",\"Cherpion G\\u00e9rard\",\"Cornut-Gentille Fran\\u00e7ois\",\"de Courson Charles\",\"Dassault Olivier\",\"David Alain\",\"de la Verpilli\\u00e8re Charles\",\"Deflesselles Bernard\",\"Dumont Laurence\",\"Dupont-Aignan Nicolas\",\"Fanget Michel\",\"Forissier Nicolas\",\"Habib David\",\"Herbillon Michel\",\"Jacob Christian\",\"Lambert J\\u00e9r\\u00f4me\",\"Lassalle Jean\",\"Le Fur Marc\",\"M\\u00e9lenchon Jean-Luc\",\"Menuel G\\u00e9rard\",\"Perrut Bernard\",\"Pont Jean-Pierre\",\"Quentin Didier\",\"Reitzer Jean-Luc\",\"Teissier Guy\",\"Tourret Alain\",\"Warsmann Jean-Luc\",\"Woerth \\u00c9ric\",\"Brochand Bernard\",\"Reiss Fr\\u00e9d\\u00e9ric\",\"Morel-\\u00c0-L'Huissier Pierre\",\"Bony Jean-Yves\",\"Gosselin Philippe\",\"Rolland Vincent\",\"Favennec Becot Yannick\",\"Huyghe S\\u00e9bastien\",\"Sermier Jean-Marie\",\"Poletti B\\u00e9reng\\u00e8re\",\"Door Jean-Pierre\",\"Chassaigne Andr\\u00e9\",\"Grelier Jean-Carles\",\"Gaultier Jean-Jacques\",\"Zumkeller Michel\",\"Bouchet Claire\",\"Herth Antoine\",\"Levy Genevi\\u00e8ve\",\"Cinieri Dino\",\"Diard \\u00c9ric\",\"Delatte R\\u00e9mi\",\"Saddier Martial\",\"de Ganay Claude\",\"Bricout Guy\",\"Firmin Le Bodo Agn\\u00e8s\",\"Larriv\\u00e9 Guillaume\",\"Tabarot Mich\\u00e8le\",\"Kamardine Mansour\",\"Lagarde Jean-Christophe\",\"Breton Xavier\",\"Ciotti \\u00c9ric\",\"Reyn\\u00e8s Bernard\",\"Descoeur Vincent\",\"de La Raudi\\u00e8re Laure\",\"Vigier Philippe\",\"Iborra Monique\",\"Benoit Thierry\",\"Dalloz Marie-Christine\",\"Juanico R\\u00e9gis\",\"de Rugy Fran\\u00e7ois\",\"Garot Guillaume\",\"Pancher Bertrand\",\"Hutin Christian\",\"Maquet Jacqueline\",\"Touraine Jean-Louis\",\"Karamanli Marietta\",\"Pau-Langevin George\",\"Lecoq Jean-Paul\",\"Batho Delphine\",\"Pinel Sylvia\",\"Bouchet Jean-Claude\",\"Cl\\u00e9ment Jean-Michel\",\"Letchimy Serge\",\"Saulignac Herv\\u00e9\",\"Victory Mich\\u00e8le\",\"Rouaux Claudia\",\"Bourgeaux Jean-Luc\",\"Battistel Marie-No\\u00eblle\",\"Brindeau Pascal\",\"Dubois Marianne\",\"Rouillard Gwendal\",\"Le Grip Constance\",\"Maquet Emmanuel\",\"Sol\\u00e8re Thierry\",\"Pupponi Fran\\u00e7ois\",\"Villiers Andr\\u00e9\",\"Autain Cl\\u00e9mentine\",\"Abad Damien\",\"Bricout Jean-Louis\",\"Krabal Jacques\",\"Castaner Christophe\",\"Lambert Fran\\u00e7ois-Michel\",\"Falorni Olivier\",\"Alauzet \\u00c9ric\",\"Genevard Annie\",\"Marleix Olivier\",\"Ferrand Richard\",\"Dumas Fran\\u00e7oise\",\"Boudi\\u00e9 Florent\",\"Vignal Patrick\",\"Vigier Jean-Pierre\",\"Daniel Yves\",\"Errante Sophie\",\"Travert St\\u00e9phane\",\"Potier Dominique\",\"Pellois Herv\\u00e9\",\"Molac Paul\",\"Louwagie V\\u00e9ronique\",\"Pires Beaune Christine\",\"Dubi\\u00e9 Jeanine\",\"Hetzel Patrick\",\"Blein Yves\",\"Untermaier C\\u00e9cile\",\"Tolmont Sylvie\",\"Duby-Muller Virginie\",\"Faure Olivier\",\"Rabault Val\\u00e9rie\",\"Aubert Julien\",\"Nilor Jean-Philippe\",\"Serville Gabriel\",\"Gom\\u00e8s Philippe\",\"Bothorel \\u00c9ric\",\"Barbier Fr\\u00e9d\\u00e9ric\",\"Aviragnet Jo\\u00ebl\",\"Bazin Thibault\",\"Christophe Paul\",\"Becht Olivier\",\"Labille Gr\\u00e9gory\",\"Thi\\u00e9riot Jean-Louis\",\"Ferrara Jean-Jacques\",\"Questel Bruno\",\"Valentin Isabelle\",\"Vainqueur-Christophe H\\u00e9l\\u00e8ne\",\"Naillet Philippe\",\"Dupont Stella\",\"Jourdan Chantal\",\"Lang Anne-Christine\",\"Mazars St\\u00e9phane\",\"Habib Meyer\",\"Sage Maina\",\"Claireaux St\\u00e9phane\",\"Viala Arnaud\",\"Ledoux Vincent\",\"Dive Julien\",\"Brenier Marine\",\"de Sarnez Marielle\",\"Mahjoubi Mounir\",\"Maillard Sylvain\",\"Givernet Olga\",\"Trompille St\\u00e9phane\",\"Delatte Marc\",\"Boyer Pascale\",\"Dufr\\u00e8gne Jean-Paul\",\"Vanceunebrock Laurence\",\"Peyrol B\\u00e9n\\u00e9dicte\",\"Bagarry Delphine\",\"Bono-Vandorme Aude\",\"Valetta Ardisson Alexandra\",\"Trastour-Isnart Laurence\",\"Pauget \\u00c9ric\",\"H\\u00e9rin Dani\\u00e8le\",\"Perea Alain\",\"Robert Mireille\",\"Brun Fabrice\",\"Cordier Pierre\",\"Taurine B\\u00e9n\\u00e9dicte\",\"Larive Michel\",\"Besson-Moreau Gr\\u00e9gory\",\"Bazin-Malgras Val\\u00e9rie\",\"Dombreval Lo\\u00efc\",\"Roussel C\\u00e9dric\",\"Pitollat Claire\",\"Louis Alexandra\",\"Dharr\\u00e9ville Pierre\",\"Petel Anne-Laurence\",\"Racon-Bouzon Cathy\",\"Ahamada Sa\\u00efd\",\"Zulesi Jean-Marc\",\"Laqhila Mohamed\",\"Blanc Anne\",\"Ravier Julien\",\"Le Vigoureux Fabrice\",\"Porte Nathalie\",\"Blanchet Christophe\",\"Bouyx Bertrand\",\"Essayan Nadia\",\"Kervran Lo\\u00efc\",\"Jerretie Christophe\",\"Mesnier Thomas\",\"Marsaud Sandra\",\"Tuffnell Fr\\u00e9d\\u00e9rique\",\"Ardouin Jean-Philippe\",\"G\\u00e9rard Rapha\\u00ebl\",\"Cormier-Bouligeon Fran\\u00e7ois\",\"Michel Monica\",\"Castellani Michel\",\"Acquaviva Jean-F\\u00e9lix\",\"Martin Didier\",\"Dubois Jacqueline\",\"Charvier Fannette\",\"Khattabi Fadila\",\"de Courson Yolaine\",\"Paris Didier\",\"Joncour Bruno\",\"Berville Herv\\u00e9\",\"Kerlogot Yannick\",\"Moreau Jean-Baptiste\",\"Chassaing Philippe\",\"Delpon Michel\",\"Cubertafon Jean-Pierre\",\"Meunier Fr\\u00e9d\\u00e9rique\",\"Colombani Paul-Andr\\u00e9\",\"Clapot Mireille\",\"Thourot Alice\",\"de Lavergne C\\u00e9lia\",\"Anthoine Emmanuelle\",\"Gipson S\\u00e9verine\",\"Gouttefarde Fabien\",\"Melchior Graziella\",\"Tamarelle-Verhaeghe Marie\",\"O'Petit Claire\",\"Kasbarian Guillaume\",\"Le Meur Anna\\u00efg\",\"Larsonneur Jean-Charles\",\"Le Gac Didier\",\"Le Feur Sandrine\",\"Sommer Denis\",\"Meizonnet Nicolas\",\"Cellier Anthony\",\"Chapelier Annie\",\"M\\u00f6rch Sandrine\",\"Nadot S\\u00e9bastien\",\"Cazeneuve Jean-Ren\\u00e9\",\"Gaillard Olivier\",\"Berta Philippe\",\"Cabar\\u00e9 Pierre\",\"Lagleize Jean-Luc\",\"Vignon Corinne\",\"Nogal Micka\\u00ebl\",\"Portarrieu Jean-Fran\\u00e7ois\",\"Toutut-Picard \\u00c9lisabeth\",\"Tanguy Liliana\",\"Balanant Erwan\",\"Fabre Catherine\",\"Prud'homme Lo\\u00efc\",\"Simian Benoit\",\"Poulliat \\u00c9ric\",\"M\\u00e9nard Emmanuelle\",\"Euzet Christophe\",\"Couillard B\\u00e9rang\\u00e8re\",\"Panonacle Sophie\",\"Mette Sophie\",\"Hammerer V\\u00e9ronique\",\"Dubos Christelle\",\"Mirall\\u00e8s Patricia\",\"Ressiguier Muriel\",\"Dubost Coralie\",\"Eliaou Jean-Fran\\u00e7ois\",\"Hupp\\u00e9 Philippe\",\"David Dominique\",\"Maillart-M\\u00e9haignerie Laurence\",\"Le Bohec Ga\\u00ebl\",\"Galliard-Minier Camille\",\"Colas-Roy Jean-Charles\",\"Chalas \\u00c9milie\",\"Cloarec-Le Nabour Christine\",\"Bachelier Florian\",\"Jolivet Fran\\u00e7ois\",\"Chalumeau Philippe\",\"Labaronne Daniel\",\"Auconie Sophie\",\"Colboc Fabienne\",\"Thillaye Sabine\",\"D\\u00e9moulin Nicolas\",\"Laabid Mustapha\",\"Motin Cendra\",\"Limon Monique\",\"Abadie Caroline\",\"Jacquier-Laforge \\u00c9lodie\",\"Meynier-Millefert Marjolaine\",\"Brulebois Danielle\",\"Lain\\u00e9 Fabien\",\"Causse Lionel\",\"Vallaud Boris\",\"Baudu St\\u00e9phane\",\"Peltier Guillaume\",\"Mis Jean-Michel\",\"Faure-Muntian Val\\u00e9ria\",\"Sarles Nathalie\",\"Borowczyk Julien\",\"Kamowski Catherine\",\"Geismar Luc\",\"Tiegna Huguette\",\"Lauzzana Michel\",\"Freschi Alexandre\",\"Josso Sandrine\",\"Dufeu Audrey\",\"Haury Yannick\",\"Rist St\\u00e9phanie\",\"Janvier Caroline\",\"Ramos Richard\",\"Pradi\\u00e9 Aur\\u00e9lien\",\"Oppelt Val\\u00e9rie\",\"Brunet Anne-France\",\"Amadou Aude\",\"Saint-Paul Laetitia\",\"Mass\\u00e9glia Denis\",\"Dubr\\u00e9-Chirat Nicole\",\"Bolo Philippe\",\"Grandjean Carole\",\"Garcia Laurent\",\"Sorre Bertrand\",\"Krimi Sonia\",\"Beauvais Val\\u00e9rie\",\"Kuric Aina\",\"Girardin \\u00c9ric\",\"Magnier Lise\",\"Templier Sylvain\",\"Bannier G\\u00e9raldine\",\"Damaisin Olivier\",\"Orphelin Matthieu\",\"Fiat Caroline\",\"Cariou \\u00c9milie\",\"Arend Christophe\",\"Zannier H\\u00e9l\\u00e8ne\",\"Hammouche Brahim\",\"Pahun Jimmy\",\"Le Peih Nicole\",\"Jacques Jean-Michel\",\"Belhaddad Belkhir\",\"Mendes Ludovic\",\"Lioger Richard\",\"Di Filippo Fabien\",\"Trisse Nicole\",\"Paluszkiewicz Xavier\",\"Perrot Patrice\",\"Quatennens Adrien\",\"Bernalicis Ugo\",\"Di Pompeo Christophe\",\"Liso Brigitte\",\"Houbron Dimitri\",\"Chenu S\\u00e9bastien\",\"Lecocq Charlotte\",\"Six Val\\u00e9rie\",\"Osson Catherine\",\"Petit Val\\u00e9rie\",\"Morlighem Florence\",\"Cattelot Anne-Laure\",\"De Temmerman Jennifer\",\"Bruneel Alain\",\"Rauch Isabelle\",\"Goulet Perrine\",\"Thill Agn\\u00e8s\",\"Bois Pascal\",\"Vatin Pierre\",\"Potterie Benoit\",\"Deprez-Audebert Marguerite\",\"Pajot Ludovic\",\"Le Pen Marine\",\"Bureau-Bonnard Carole\",\"Minot Maxime\",\"Nury J\\u00e9r\\u00f4me\",\"Duverg\\u00e9 Bruno\",\"Evrard Jos\\u00e9\",\"Therry Robert\",\"Dumont Pierre-Henri\",\"Roussel Fabien\",\"Descamps B\\u00e9atrice\",\"Vichnievsky Laurence\",\"Poueyto Josy\",\"Mattei Jean-Paul\",\"Michels Thierry\",\"Waserman Sylvain\",\"Studer Bruno\",\"Lasserre Florence\",\"Bru Vincent\",\"Sempastous Jean-Bernard\",\"Grau Romain\",\"Pujol Catherine\",\"Gayte Laurence\",\"Cazenove S\\u00e9bastien\",\"Bilde Bruno\",\"Thomas Val\\u00e9rie\",\"Lachaud Bastien\",\"Test\\u00e9 St\\u00e9phane\",\"Descrozaille Fr\\u00e9d\\u00e9ric\",\"Mbaye Jean Fran\\u00e7ois\",\"Saint-Martin Laurent\",\"Panot Mathilde\",\"Rilhac C\\u00e9cile\",\"Moutchou Na\\u00efma\",\"Lazaar Fiona\",\"Corceiro David\",\"Da Silva Dominique\",\"Park Zivka\",\"Tach\\u00e9 Aur\\u00e9lien\",\"Serva Olivier\",\"Benin Justine\",\"Mathiasin Max\",\"Manin Josette\",\"El Guerrab M'jid\",\"Lakrafi Am\\u00e9lia\",\"K\\u00e9clard-Mond\\u00e9sir Manu\\u00e9la\",\"Genetet Anne\",\"Adam L\\u00e9na\\u00efck\",\"Bassire Nathalie\",\"Lorion David\",\"Ratenon Jean-Hugues\",\"Ramassamy Nadia\",\"Dunoyer Philippe\",\"Sanquer Nicole\",\"Brotherson Moetai\",\"Guion-Firmin Claire\",\"Lescure Roland\",\"Forteza Paula\",\"Holroyd Alexandre\",\"Anglade Pieyre-Alexandre\",\"Cazebonne Samantha\",\"Son-Forget Joachim\",\"Petit Fr\\u00e9d\\u00e9ric\",\"Dumas Fr\\u00e9d\\u00e9rique\",\"Coquerel \\u00c9ric\",\"Corbi\\u00e8re Alexis\",\"Charri\\u00e8re Sylvie\",\"Rubin Sabine\",\"Petit Maud\",\"Gaillot Albane\",\"Vuilletet Guillaume\",\"Peu St\\u00e9phane\",\"Anato Patrice\",\"Ramadier Alain\",\"Gouffier-Cha Guillaume\",\"Schellenberger Rapha\\u00ebl\",\"Brugnera Anne\",\"Brocard Blandine\",\"Bonnell Bruno\",\"Cazarian Dani\\u00e8le\",\"Gauvain Rapha\\u00ebl\",\"Pichereau Damien\",\"Fontenel-Personne Pascale\",\"Degois Typhanie\",\"Bonnivard \\u00c9milie\",\"Mignola Patrick\",\"Riotton V\\u00e9ronique\",\"Lardet Fr\\u00e9d\\u00e9rique\",\"Lenne Marion\",\"Roseren Xavier\",\"Le Gendre Gilles\",\"Viry St\\u00e9phane\",\"Naegelen Christophe\",\"Guerini Stanislas\",\"Kuster Brigitte\",\"Kerbarh St\\u00e9phanie\",\"Batut Xavier\",\"Luquet Aude\",\"Roques-Etienne Muriel\",\"Verdier-Jouclas Marie-Christine\",\"Griveaux Benjamin\",\"Person Pierre\",\"Bouchet Bellecourt Sylvie\",\"Terlier Jean\",\"Rossi Laurianne\",\"Bourlanges Jean-Louis\",\"Rupin Pac\\u00f4me\",\"Avia Laetitia\",\"Lemoine Patricia\",\"Parigi Jean-Fran\\u00e7ois\",\"Kokouendo Rodrigue\",\"Muschotti C\\u00e9cile\",\"Audibert Edith\",\"Atger St\\u00e9phanie\",\"Reda Robin\",\"Tan Buon\",\"Fauvergue Jean-Michel\",\"Peyron Mich\\u00e8le\",\"Do St\\u00e9phanie\",\"Mauborgne Sereine\",\"Michel-Kleisbauer Philippe\",\"Florennes Isabelle\",\"Calvez C\\u00e9line\",\"Silin Marie\",\"Baich\\u00e8re Didier\",\"Gomez-Bassac Val\\u00e9rie\",\"Guerel \\u00c9milie\",\"Matras Fabien\",\"Crouzet Mich\\u00e8le\",\"Boucard Ian\",\"Renson Hugues\",\"Bo\\u00eblle Sandra\",\"Barrot Jean-No\\u00ebl\",\"Piron B\\u00e9atrice\",\"Lebec Marie\",\"Zitouni Souad\",\"Poirson Brune\",\"Gu\\u00e9venoux Marie\",\"Raphan Pierre-Alain\",\"Faucillon Elsa\",\"Braun-Pivet Ya\\u00ebl\",\"Pouzyreff Natalia\",\"de Vaucouleurs Mich\\u00e8le\",\"Lorho Marie-France\",\"Marilossian Jacques\",\"Obono Dani\\u00e8le\",\"Vialay Michel\",\"Millienne Bruno\",\"Latombe Philippe\",\"Loiseau Patrick\",\"Buchou St\\u00e9phane\",\"Leguille-Balloy Martine\",\"Romeiro Dias La\\u00ebtitia\",\"Bournazel Pierre-Yves\",\"Adam Damien\",\"Berg\\u00e9 Aurore\",\"Granjus Florence\",\"Henriet Pierre\",\"Ballet-Blu Fran\\u00e7oise\",\"P\\u00e9telle B\\u00e9n\\u00e9dicte\",\"Hennion Christine\",\"Vidal Annie\",\"Wulfranc Hubert\",\"Sylla Sira\",\"Chiche Guillaume\",\"Fi\\u00e9vet Jean-Marie\",\"Ruffin Fran\\u00e7ois\",\"Houli\\u00e9 Sacha\",\"Turquois Nicolas\",\"Beaudouin-Hubiere Sophie\",\"Maire Jacques\",\"Provendier Florence\",\"Jumel S\\u00e9bastien\",\"Delpirou C\\u00e9cile\",\"Leclabart Jean-Claude\",\"Venteau Pierre\",\"Magne Marie-Ange\",\"Rixain Marie-Pierre\",\"Villani C\\u00e9dric\",\"Wonner Martine\",\"Meyer Philippe\",\"Fuchs Bruno\",\"Rudigoz Thomas\",\"Khedher Anissa\",\"Serre Nathalie\",\"Bessot Ballot Barbara\",\"Lejeune Christophe\",\"Thi\\u00e9baut Vincent\",\"Julien-Laferri\\u00e8re Hubert\",\"Gassilloud Thomas\",\"Fugit Jean-Luc\",\"Isaac-Sibille Cyrille\",\"Dirx Benjamin\",\"Corneloup Josiane\",\"Rebeyrotte R\\u00e9my\",\"Ali Ramlati\",\"Savignat Antoine\",\"Brial Sylvain\",\"Poudroux Jean-Luc\",\"Chouat Francis\",\"Benassaya Philippe\",\"Blin Anne-Laure\",\"Hemedinger Yves\",\"Leseul G\\u00e9rard\",\"Santiago Isabelle\",\"Lebon Karine\"],\"parti\":[\"Socialistes et apparent\\u00e9s\",\"Les R\\u00e9publicains\",\"La R\\u00e9publique en Marche\",\"Gauche d\\u00e9mocrate et r\\u00e9publicaine\",\"Les R\\u00e9publicains\",\"Les R\\u00e9publicains\",\"Les R\\u00e9publicains\",\"Les R\\u00e9publicains\",\"Libert\\u00e9s et Territoires\",\"Les R\\u00e9publicains\",\"Socialistes et apparent\\u00e9s\",\"Les R\\u00e9publicains\",\"Les R\\u00e9publicains\",\"Socialistes et apparent\\u00e9s\",\"Non inscrit\",\"Mouvement D\\u00e9mocrate (MoDem) et D\\u00e9mocrates apparent\\u00e9s\",\"Les R\\u00e9publicains\",\"Socialistes et apparent\\u00e9s\",\"Les R\\u00e9publicains\",\"Les R\\u00e9publicains\",\"Socialistes et apparent\\u00e9s\",\"Libert\\u00e9s et Territoires\",\"Les R\\u00e9publicains\",\"La France insoumise\",\"Les R\\u00e9publicains\",\"Les R\\u00e9publicains\",\"La R\\u00e9publique en Marche\",\"Les R\\u00e9publicains\",\"Les R\\u00e9publicains\",\"Les R\\u00e9publicains\",\"La R\\u00e9publique en Marche\",\"UDI et Ind\\u00e9pendants\",\"Les R\\u00e9publicains\",\"Les R\\u00e9publicains\",\"Les R\\u00e9publicains\",\"UDI et Ind\\u00e9pendants\",\"Les R\\u00e9publicains\",\"Les R\\u00e9publicains\",\"Les R\\u00e9publicains\",\"Mouvement D\\u00e9mocrate (MoDem) et D\\u00e9mocrates apparent\\u00e9s\",\"Les R\\u00e9publicains\",\"Les R\\u00e9publicains\",\"Les R\\u00e9publicains\",\"Les R\\u00e9publicains\",\"Gauche d\\u00e9mocrate et r\\u00e9publicaine\",\"Les R\\u00e9publicains\",\"Les R\\u00e9publicains\",\"UDI et Ind\\u00e9pendants\",\"La R\\u00e9publique en Marche\",\"Agir ensemble\",\"Les R\\u00e9publicains\",\"Les R\\u00e9publicains\",\"Les R\\u00e9publicains\",\"Les R\\u00e9publicains\",\"Les R\\u00e9publicains\",\"Les R\\u00e9publicains\",\"UDI et Ind\\u00e9pendants\",\"Agir ensemble\",\"Les R\\u00e9publicains\",\"Les R\\u00e9publicains\",\"Les R\\u00e9publicains\",\"UDI et Ind\\u00e9pendants\",\"Les R\\u00e9publicains\",\"Les R\\u00e9publicains\",\"Les R\\u00e9publicains\",\"Les R\\u00e9publicains\",\"Agir ensemble\",\"Mouvement D\\u00e9mocrate (MoDem) et D\\u00e9mocrates apparent\\u00e9s\",\"La R\\u00e9publique en Marche\",\"UDI et Ind\\u00e9pendants\",\"Les R\\u00e9publicains\",\"Socialistes et apparent\\u00e9s\",\"La R\\u00e9publique en Marche\",\"Socialistes et apparent\\u00e9s\",\"Libert\\u00e9s et Territoires\",\"Socialistes et apparent\\u00e9s\",\"La R\\u00e9publique en Marche\",\"La R\\u00e9publique en Marche\",\"Socialistes et apparent\\u00e9s\",\"Socialistes et apparent\\u00e9s\",\"Gauche d\\u00e9mocrate et r\\u00e9publicaine\",\"Non inscrit\",\"Libert\\u00e9s et Territoires\",\"Les R\\u00e9publicains\",\"Libert\\u00e9s et Territoires\",\"Socialistes et apparent\\u00e9s\",\"Socialistes et apparent\\u00e9s\",\"Socialistes et apparent\\u00e9s\",\"Socialistes et apparent\\u00e9s\",\"Les R\\u00e9publicains\",\"Socialistes et apparent\\u00e9s\",\"UDI et Ind\\u00e9pendants\",\"Les R\\u00e9publicains\",\"La R\\u00e9publique en Marche\",\"Les R\\u00e9publicains\",\"Les R\\u00e9publicains\",\"La R\\u00e9publique en Marche\",\"Libert\\u00e9s et Territoires\",\"UDI et Ind\\u00e9pendants\",\"La France insoumise\",\"Les R\\u00e9publicains\",\"Socialistes et apparent\\u00e9s\",\"La R\\u00e9publique en Marche\",\"La R\\u00e9publique en Marche\",\"Libert\\u00e9s et Territoires\",\"Libert\\u00e9s et Territoires\",\"La R\\u00e9publique en Marche\",\"Les R\\u00e9publicains\",\"Les R\\u00e9publicains\",\"La R\\u00e9publique en Marche\",\"La R\\u00e9publique en Marche\",\"La R\\u00e9publique en Marche\",\"La R\\u00e9publique en Marche\",\"Les R\\u00e9publicains\",\"La R\\u00e9publique en Marche\",\"La R\\u00e9publique en Marche\",\"La R\\u00e9publique en Marche\",\"Socialistes et apparent\\u00e9s\",\"La R\\u00e9publique en Marche\",\"Libert\\u00e9s et Territoires\",\"Les R\\u00e9publicains\",\"Socialistes et apparent\\u00e9s\",\"Libert\\u00e9s et Territoires\",\"Les R\\u00e9publicains\",\"La R\\u00e9publique en Marche\",\"Socialistes et apparent\\u00e9s\",\"Socialistes et apparent\\u00e9s\",\"Les R\\u00e9publicains\",\"Socialistes et apparent\\u00e9s\",\"Socialistes et apparent\\u00e9s\",\"Les R\\u00e9publicains\",\"Gauche d\\u00e9mocrate et r\\u00e9publicaine\",\"Gauche d\\u00e9mocrate et r\\u00e9publicaine\",\"UDI et Ind\\u00e9pendants\",\"La R\\u00e9publique en Marche\",\"La R\\u00e9publique en Marche\",\"Socialistes et apparent\\u00e9s\",\"Les R\\u00e9publicains\",\"Agir ensemble\",\"Agir ensemble\",\"UDI et Ind\\u00e9pendants\",\"Les R\\u00e9publicains\",\"Les R\\u00e9publicains\",\"La R\\u00e9publique en Marche\",\"Les R\\u00e9publicains\",\"Socialistes et apparent\\u00e9s\",\"Socialistes et apparent\\u00e9s\",\"La R\\u00e9publique en Marche\",\"Socialistes et apparent\\u00e9s\",\"La R\\u00e9publique en Marche\",\"La R\\u00e9publique en Marche\",\"UDI et Ind\\u00e9pendants\",\"Agir ensemble\",\"La R\\u00e9publique en Marche\",\"Les R\\u00e9publicains\",\"Agir ensemble\",\"Les R\\u00e9publicains\",\"Les R\\u00e9publicains\",\"Mouvement D\\u00e9mocrate (MoDem) et D\\u00e9mocrates apparent\\u00e9s\",\"La R\\u00e9publique en Marche\",\"La R\\u00e9publique en Marche\",\"La R\\u00e9publique en Marche\",\"La R\\u00e9publique en Marche\",\"La R\\u00e9publique en Marche\",\"La R\\u00e9publique en Marche\",\"Gauche d\\u00e9mocrate et r\\u00e9publicaine\",\"La R\\u00e9publique en Marche\",\"La R\\u00e9publique en Marche\",\"Non inscrit\",\"La R\\u00e9publique en Marche\",\"La R\\u00e9publique en Marche\",\"Les R\\u00e9publicains\",\"Les R\\u00e9publicains\",\"La R\\u00e9publique en Marche\",\"La R\\u00e9publique en Marche\",\"La R\\u00e9publique en Marche\",\"Les R\\u00e9publicains\",\"Les R\\u00e9publicains\",\"La France insoumise\",\"La France insoumise\",\"La R\\u00e9publique en Marche\",\"Les R\\u00e9publicains\",\"La R\\u00e9publique en Marche\",\"La R\\u00e9publique en Marche\",\"La R\\u00e9publique en Marche\",\"La R\\u00e9publique en Marche\",\"Gauche d\\u00e9mocrate et r\\u00e9publicaine\",\"La R\\u00e9publique en Marche\",\"La R\\u00e9publique en Marche\",\"La R\\u00e9publique en Marche\",\"La R\\u00e9publique en Marche\",\"Mouvement D\\u00e9mocrate (MoDem) et D\\u00e9mocrates apparent\\u00e9s\",\"La R\\u00e9publique en Marche\",\"Les R\\u00e9publicains\",\"La R\\u00e9publique en Marche\",\"Les R\\u00e9publicains\",\"Mouvement D\\u00e9mocrate (MoDem) et D\\u00e9mocrates apparent\\u00e9s\",\"La R\\u00e9publique en Marche\",\"Mouvement D\\u00e9mocrate (MoDem) et D\\u00e9mocrates apparent\\u00e9s\",\"La R\\u00e9publique en Marche\",\"Mouvement D\\u00e9mocrate (MoDem) et D\\u00e9mocrates apparent\\u00e9s\",\"La R\\u00e9publique en Marche\",\"La R\\u00e9publique en Marche\",\"Non inscrit\",\"La R\\u00e9publique en Marche\",\"La R\\u00e9publique en Marche\",\"La R\\u00e9publique en Marche\",\"La R\\u00e9publique en Marche\",\"Libert\\u00e9s et Territoires\",\"Libert\\u00e9s et Territoires\",\"La R\\u00e9publique en Marche\",\"La R\\u00e9publique en Marche\",\"La R\\u00e9publique en Marche\",\"La R\\u00e9publique en Marche\",\"Non inscrit\",\"La R\\u00e9publique en Marche\",\"Mouvement D\\u00e9mocrate (MoDem) et D\\u00e9mocrates apparent\\u00e9s\",\"La R\\u00e9publique en Marche\",\"La R\\u00e9publique en Marche\",\"La R\\u00e9publique en Marche\",\"La R\\u00e9publique en Marche\",\"La R\\u00e9publique en Marche\",\"Mouvement D\\u00e9mocrate (MoDem) et D\\u00e9mocrates apparent\\u00e9s\",\"Les R\\u00e9publicains\",\"Libert\\u00e9s et Territoires\",\"La R\\u00e9publique en Marche\",\"La R\\u00e9publique en Marche\",\"La R\\u00e9publique en Marche\",\"Les R\\u00e9publicains\",\"La R\\u00e9publique en Marche\",\"La R\\u00e9publique en Marche\",\"La R\\u00e9publique en Marche\",\"La R\\u00e9publique en Marche\",\"La R\\u00e9publique en Marche\",\"La R\\u00e9publique en Marche\",\"La R\\u00e9publique en Marche\",\"Agir ensemble\",\"La R\\u00e9publique en Marche\",\"La R\\u00e9publique en Marche\",\"La R\\u00e9publique en Marche\",\"Non inscrit\",\"La R\\u00e9publique en Marche\",\"Agir ensemble\",\"La R\\u00e9publique en Marche\",\"Non inscrit\",\"La R\\u00e9publique en Marche\",\"Non inscrit\",\"Mouvement D\\u00e9mocrate (MoDem) et D\\u00e9mocrates apparent\\u00e9s\",\"La R\\u00e9publique en Marche\",\"Mouvement D\\u00e9mocrate (MoDem) et D\\u00e9mocrates apparent\\u00e9s\",\"La R\\u00e9publique en Marche\",\"La R\\u00e9publique en Marche\",\"La R\\u00e9publique en Marche\",\"La R\\u00e9publique en Marche\",\"La R\\u00e9publique en Marche\",\"Mouvement D\\u00e9mocrate (MoDem) et D\\u00e9mocrates apparent\\u00e9s\",\"La R\\u00e9publique en Marche\",\"La France insoumise\",\"Libert\\u00e9s et Territoires\",\"La R\\u00e9publique en Marche\",\"Non inscrit\",\"Agir ensemble\",\"La R\\u00e9publique en Marche\",\"La R\\u00e9publique en Marche\",\"Mouvement D\\u00e9mocrate (MoDem) et D\\u00e9mocrates apparent\\u00e9s\",\"La R\\u00e9publique en Marche\",\"La R\\u00e9publique en Marche\",\"La R\\u00e9publique en Marche\",\"La France insoumise\",\"La R\\u00e9publique en Marche\",\"La R\\u00e9publique en Marche\",\"Agir ensemble\",\"La R\\u00e9publique en Marche\",\"La R\\u00e9publique en Marche\",\"La R\\u00e9publique en Marche\",\"La R\\u00e9publique en Marche\",\"La R\\u00e9publique en Marche\",\"La R\\u00e9publique en Marche\",\"La R\\u00e9publique en Marche\",\"La R\\u00e9publique en Marche\",\"La R\\u00e9publique en Marche\",\"La R\\u00e9publique en Marche\",\"La R\\u00e9publique en Marche\",\"UDI et Ind\\u00e9pendants\",\"La R\\u00e9publique en Marche\",\"Mouvement D\\u00e9mocrate (MoDem) et D\\u00e9mocrates apparent\\u00e9s\",\"La R\\u00e9publique en Marche\",\"La R\\u00e9publique en Marche\",\"La R\\u00e9publique en Marche\",\"La R\\u00e9publique en Marche\",\"La R\\u00e9publique en Marche\",\"Mouvement D\\u00e9mocrate (MoDem) et D\\u00e9mocrates apparent\\u00e9s\",\"La R\\u00e9publique en Marche\",\"La R\\u00e9publique en Marche\",\"Mouvement D\\u00e9mocrate (MoDem) et D\\u00e9mocrates apparent\\u00e9s\",\"La R\\u00e9publique en Marche\",\"Socialistes et apparent\\u00e9s\",\"Mouvement D\\u00e9mocrate (MoDem) et D\\u00e9mocrates apparent\\u00e9s\",\"Les R\\u00e9publicains\",\"La R\\u00e9publique en Marche\",\"La R\\u00e9publique en Marche\",\"La R\\u00e9publique en Marche\",\"La R\\u00e9publique en Marche\",\"La R\\u00e9publique en Marche\",\"Mouvement D\\u00e9mocrate (MoDem) et D\\u00e9mocrates apparent\\u00e9s\",\"La R\\u00e9publique en Marche\",\"La R\\u00e9publique en Marche\",\"La R\\u00e9publique en Marche\",\"Mouvement D\\u00e9mocrate (MoDem) et D\\u00e9mocrates apparent\\u00e9s\",\"La R\\u00e9publique en Marche\",\"La R\\u00e9publique en Marche\",\"La R\\u00e9publique en Marche\",\"La R\\u00e9publique en Marche\",\"Mouvement D\\u00e9mocrate (MoDem) et D\\u00e9mocrates apparent\\u00e9s\",\"Les R\\u00e9publicains\",\"La R\\u00e9publique en Marche\",\"La R\\u00e9publique en Marche\",\"La R\\u00e9publique en Marche\",\"La R\\u00e9publique en Marche\",\"La R\\u00e9publique en Marche\",\"La R\\u00e9publique en Marche\",\"Mouvement D\\u00e9mocrate (MoDem) et D\\u00e9mocrates apparent\\u00e9s\",\"La R\\u00e9publique en Marche\",\"Mouvement D\\u00e9mocrate (MoDem) et D\\u00e9mocrates apparent\\u00e9s\",\"La R\\u00e9publique en Marche\",\"La R\\u00e9publique en Marche\",\"Les R\\u00e9publicains\",\"Agir ensemble\",\"La R\\u00e9publique en Marche\",\"Agir ensemble\",\"La R\\u00e9publique en Marche\",\"Mouvement D\\u00e9mocrate (MoDem) et D\\u00e9mocrates apparent\\u00e9s\",\"La R\\u00e9publique en Marche\",\"Non inscrit\",\"La France insoumise\",\"Non inscrit\",\"La R\\u00e9publique en Marche\",\"La R\\u00e9publique en Marche\",\"Mouvement D\\u00e9mocrate (MoDem) et D\\u00e9mocrates apparent\\u00e9s\",\"Mouvement D\\u00e9mocrate (MoDem) et D\\u00e9mocrates apparent\\u00e9s\",\"La R\\u00e9publique en Marche\",\"La R\\u00e9publique en Marche\",\"La R\\u00e9publique en Marche\",\"La R\\u00e9publique en Marche\",\"La R\\u00e9publique en Marche\",\"Les R\\u00e9publicains\",\"La R\\u00e9publique en Marche\",\"La R\\u00e9publique en Marche\",\"La R\\u00e9publique en Marche\",\"La France insoumise\",\"La France insoumise\",\"La R\\u00e9publique en Marche\",\"La R\\u00e9publique en Marche\",\"Agir ensemble\",\"Non inscrit\",\"La R\\u00e9publique en Marche\",\"UDI et Ind\\u00e9pendants\",\"La R\\u00e9publique en Marche\",\"Agir ensemble\",\"La R\\u00e9publique en Marche\",\"La R\\u00e9publique en Marche\",\"Libert\\u00e9s et Territoires\",\"Gauche d\\u00e9mocrate et r\\u00e9publicaine\",\"La R\\u00e9publique en Marche\",\"Mouvement D\\u00e9mocrate (MoDem) et D\\u00e9mocrates apparent\\u00e9s\",\"UDI et Ind\\u00e9pendants\",\"La R\\u00e9publique en Marche\",\"Les R\\u00e9publicains\",\"Agir ensemble\",\"Mouvement D\\u00e9mocrate (MoDem) et D\\u00e9mocrates apparent\\u00e9s\",\"Non inscrit\",\"Non inscrit\",\"La R\\u00e9publique en Marche\",\"Les R\\u00e9publicains\",\"Les R\\u00e9publicains\",\"Mouvement D\\u00e9mocrate (MoDem) et D\\u00e9mocrates apparent\\u00e9s\",\"Non inscrit\",\"Les R\\u00e9publicains\",\"Les R\\u00e9publicains\",\"Gauche d\\u00e9mocrate et r\\u00e9publicaine\",\"UDI et Ind\\u00e9pendants\",\"Mouvement D\\u00e9mocrate (MoDem) et D\\u00e9mocrates apparent\\u00e9s\",\"Mouvement D\\u00e9mocrate (MoDem) et D\\u00e9mocrates apparent\\u00e9s\",\"Mouvement D\\u00e9mocrate (MoDem) et D\\u00e9mocrates apparent\\u00e9s\",\"La R\\u00e9publique en Marche\",\"Mouvement D\\u00e9mocrate (MoDem) et D\\u00e9mocrates apparent\\u00e9s\",\"La R\\u00e9publique en Marche\",\"Mouvement D\\u00e9mocrate (MoDem) et D\\u00e9mocrates apparent\\u00e9s\",\"Mouvement D\\u00e9mocrate (MoDem) et D\\u00e9mocrates apparent\\u00e9s\",\"La R\\u00e9publique en Marche\",\"La R\\u00e9publique en Marche\",\"Non inscrit\",\"La R\\u00e9publique en Marche\",\"La R\\u00e9publique en Marche\",\"Non inscrit\",\"La R\\u00e9publique en Marche\",\"La France insoumise\",\"La R\\u00e9publique en Marche\",\"La R\\u00e9publique en Marche\",\"La R\\u00e9publique en Marche\",\"La R\\u00e9publique en Marche\",\"La France insoumise\",\"La R\\u00e9publique en Marche\",\"La R\\u00e9publique en Marche\",\"La R\\u00e9publique en Marche\",\"Mouvement D\\u00e9mocrate (MoDem) et D\\u00e9mocrates apparent\\u00e9s\",\"La R\\u00e9publique en Marche\",\"La R\\u00e9publique en Marche\",\"Non inscrit\",\"La R\\u00e9publique en Marche\",\"Mouvement D\\u00e9mocrate (MoDem) et D\\u00e9mocrates apparent\\u00e9s\",\"Mouvement D\\u00e9mocrate (MoDem) et D\\u00e9mocrates apparent\\u00e9s\",\"Socialistes et apparent\\u00e9s\",\"Agir ensemble\",\"La R\\u00e9publique en Marche\",\"Gauche d\\u00e9mocrate et r\\u00e9publicaine\",\"La R\\u00e9publique en Marche\",\"La R\\u00e9publique en Marche\",\"Les R\\u00e9publicains\",\"Les R\\u00e9publicains\",\"La France insoumise\",\"Les R\\u00e9publicains\",\"UDI et Ind\\u00e9pendants\",\"UDI et Ind\\u00e9pendants\",\"Gauche d\\u00e9mocrate et r\\u00e9publicaine\",\"Les R\\u00e9publicains\",\"La R\\u00e9publique en Marche\",\"Non inscrit\",\"La R\\u00e9publique en Marche\",\"La R\\u00e9publique en Marche\",\"La R\\u00e9publique en Marche\",\"Non inscrit\",\"Mouvement D\\u00e9mocrate (MoDem) et D\\u00e9mocrates apparent\\u00e9s\",\"Libert\\u00e9s et Territoires\",\"La France insoumise\",\"La France insoumise\",\"La R\\u00e9publique en Marche\",\"La France insoumise\",\"Mouvement D\\u00e9mocrate (MoDem) et D\\u00e9mocrates apparent\\u00e9s\",\"Non inscrit\",\"La R\\u00e9publique en Marche\",\"Gauche d\\u00e9mocrate et r\\u00e9publicaine\",\"La R\\u00e9publique en Marche\",\"Les R\\u00e9publicains\",\"La R\\u00e9publique en Marche\",\"Les R\\u00e9publicains\",\"La R\\u00e9publique en Marche\",\"Mouvement D\\u00e9mocrate (MoDem) et D\\u00e9mocrates apparent\\u00e9s\",\"La R\\u00e9publique en Marche\",\"La R\\u00e9publique en Marche\",\"La R\\u00e9publique en Marche\",\"La R\\u00e9publique en Marche\",\"Mouvement D\\u00e9mocrate (MoDem) et D\\u00e9mocrates apparent\\u00e9s\",\"La R\\u00e9publique en Marche\",\"Les R\\u00e9publicains\",\"Mouvement D\\u00e9mocrate (MoDem) et D\\u00e9mocrates apparent\\u00e9s\",\"La R\\u00e9publique en Marche\",\"La R\\u00e9publique en Marche\",\"La R\\u00e9publique en Marche\",\"La R\\u00e9publique en Marche\",\"La R\\u00e9publique en Marche\",\"Les R\\u00e9publicains\",\"UDI et Ind\\u00e9pendants\",\"La R\\u00e9publique en Marche\",\"Les R\\u00e9publicains\",\"La R\\u00e9publique en Marche\",\"La R\\u00e9publique en Marche\",\"Mouvement D\\u00e9mocrate (MoDem) et D\\u00e9mocrates apparent\\u00e9s\",\"La R\\u00e9publique en Marche\",\"La R\\u00e9publique en Marche\",\"La R\\u00e9publique en Marche\",\"La R\\u00e9publique en Marche\",\"Les R\\u00e9publicains\",\"La R\\u00e9publique en Marche\",\"La R\\u00e9publique en Marche\",\"Mouvement D\\u00e9mocrate (MoDem) et D\\u00e9mocrates apparent\\u00e9s\",\"La R\\u00e9publique en Marche\",\"La R\\u00e9publique en Marche\",\"Agir ensemble\",\"Les R\\u00e9publicains\",\"La R\\u00e9publique en Marche\",\"La R\\u00e9publique en Marche\",\"Les R\\u00e9publicains\",\"La R\\u00e9publique en Marche\",\"Les R\\u00e9publicains\",\"La R\\u00e9publique en Marche\",\"La R\\u00e9publique en Marche\",\"La R\\u00e9publique en Marche\",\"La R\\u00e9publique en Marche\",\"La R\\u00e9publique en Marche\",\"Mouvement D\\u00e9mocrate (MoDem) et D\\u00e9mocrates apparent\\u00e9s\",\"Mouvement D\\u00e9mocrate (MoDem) et D\\u00e9mocrates apparent\\u00e9s\",\"La R\\u00e9publique en Marche\",\"La R\\u00e9publique en Marche\",\"La R\\u00e9publique en Marche\",\"La R\\u00e9publique en Marche\",\"La R\\u00e9publique en Marche\",\"La R\\u00e9publique en Marche\",\"Mouvement D\\u00e9mocrate (MoDem) et D\\u00e9mocrates apparent\\u00e9s\",\"Les R\\u00e9publicains\",\"La R\\u00e9publique en Marche\",\"Les R\\u00e9publicains\",\"Mouvement D\\u00e9mocrate (MoDem) et D\\u00e9mocrates apparent\\u00e9s\",\"La R\\u00e9publique en Marche\",\"La R\\u00e9publique en Marche\",\"La R\\u00e9publique en Marche\",\"La R\\u00e9publique en Marche\",\"La R\\u00e9publique en Marche\",\"La R\\u00e9publique en Marche\",\"Gauche d\\u00e9mocrate et r\\u00e9publicaine\",\"La R\\u00e9publique en Marche\",\"La R\\u00e9publique en Marche\",\"Mouvement D\\u00e9mocrate (MoDem) et D\\u00e9mocrates apparent\\u00e9s\",\"Non inscrit\",\"La R\\u00e9publique en Marche\",\"La France insoumise\",\"Les R\\u00e9publicains\",\"Mouvement D\\u00e9mocrate (MoDem) et D\\u00e9mocrates apparent\\u00e9s\",\"Mouvement D\\u00e9mocrate (MoDem) et D\\u00e9mocrates apparent\\u00e9s\",\"Mouvement D\\u00e9mocrate (MoDem) et D\\u00e9mocrates apparent\\u00e9s\",\"La R\\u00e9publique en Marche\",\"La R\\u00e9publique en Marche\",\"La R\\u00e9publique en Marche\",\"Agir ensemble\",\"La R\\u00e9publique en Marche\",\"La R\\u00e9publique en Marche\",\"La R\\u00e9publique en Marche\",\"La R\\u00e9publique en Marche\",\"La R\\u00e9publique en Marche\",\"La R\\u00e9publique en Marche\",\"La R\\u00e9publique en Marche\",\"La R\\u00e9publique en Marche\",\"Gauche d\\u00e9mocrate et r\\u00e9publicaine\",\"La R\\u00e9publique en Marche\",\"Non inscrit\",\"La R\\u00e9publique en Marche\",\"La France insoumise\",\"La R\\u00e9publique en Marche\",\"Mouvement D\\u00e9mocrate (MoDem) et D\\u00e9mocrates apparent\\u00e9s\",\"La R\\u00e9publique en Marche\",\"La R\\u00e9publique en Marche\",\"La R\\u00e9publique en Marche\",\"Gauche d\\u00e9mocrate et r\\u00e9publicaine\",\"La R\\u00e9publique en Marche\",\"La R\\u00e9publique en Marche\",\"La R\\u00e9publique en Marche\",\"La R\\u00e9publique en Marche\",\"La R\\u00e9publique en Marche\",\"Non inscrit\",\"Libert\\u00e9s et Territoires\",\"Les R\\u00e9publicains\",\"Mouvement D\\u00e9mocrate (MoDem) et D\\u00e9mocrates apparent\\u00e9s\",\"La R\\u00e9publique en Marche\",\"La R\\u00e9publique en Marche\",\"Les R\\u00e9publicains\",\"La R\\u00e9publique en Marche\",\"La R\\u00e9publique en Marche\",\"La R\\u00e9publique en Marche\",\"Non inscrit\",\"Agir ensemble\",\"La R\\u00e9publique en Marche\",\"Mouvement D\\u00e9mocrate (MoDem) et D\\u00e9mocrates apparent\\u00e9s\",\"La R\\u00e9publique en Marche\",\"Les R\\u00e9publicains\",\"La R\\u00e9publique en Marche\",\"La R\\u00e9publique en Marche\",\"Les R\\u00e9publicains\",\"Libert\\u00e9s et Territoires\",\"Les R\\u00e9publicains\",\"La R\\u00e9publique en Marche\",\"Les R\\u00e9publicains\",\"Les R\\u00e9publicains\",\"Les R\\u00e9publicains\",\"Socialistes et apparent\\u00e9s\",\"Socialistes et apparent\\u00e9s\",\"Gauche d\\u00e9mocrate et r\\u00e9publicaine\"],\"x\":{\"__ndarray__\":\"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\",\"dtype\":\"float32\",\"shape\":[576]},\"y\":{\"__ndarray__\":\"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\",\"dtype\":\"float32\",\"shape\":[576]}},\"selected\":{\"id\":\"1048\"},\"selection_policy\":{\"id\":\"1047\"}},\"id\":\"1002\",\"type\":\"ColumnDataSource\"},{\"attributes\":{\"source\":{\"id\":\"1002\"}},\"id\":\"1040\",\"type\":\"CDSView\"},{\"attributes\":{},\"id\":\"1047\",\"type\":\"UnionRenderers\"},{\"attributes\":{},\"id\":\"1045\",\"type\":\"BasicTickFormatter\"},{\"attributes\":{\"callback\":null,\"tooltips\":[[\"parti\",\"@parti\"],[\"nom\",\"@nom\"]]},\"id\":\"1027\",\"type\":\"HoverTool\"},{\"attributes\":{\"axis\":{\"id\":\"1012\"},\"ticker\":null,\"visible\":false},\"id\":\"1015\",\"type\":\"Grid\"},{\"attributes\":{},\"id\":\"1023\",\"type\":\"SaveTool\"},{\"attributes\":{},\"id\":\"1017\",\"type\":\"BasicTicker\"},{\"attributes\":{},\"id\":\"1048\",\"type\":\"Selection\"},{\"attributes\":{\"formatter\":{\"id\":\"1043\"},\"ticker\":{\"id\":\"1013\"},\"visible\":false},\"id\":\"1012\",\"type\":\"LinearAxis\"},{\"attributes\":{},\"id\":\"1025\",\"type\":\"HelpTool\"},{\"attributes\":{\"fill_color\":{\"field\":\"color\"},\"line_color\":{\"field\":\"color\"},\"size\":{\"units\":\"screen\",\"value\":4.166666666666667},\"x\":{\"field\":\"x\"},\"y\":{\"field\":\"y\"}},\"id\":\"1037\",\"type\":\"Circle\"},{\"attributes\":{\"overlay\":{\"id\":\"1026\"}},\"id\":\"1022\",\"type\":\"BoxZoomTool\"},{\"attributes\":{},\"id\":\"1008\",\"type\":\"LinearScale\"},{\"attributes\":{\"active_drag\":\"auto\",\"active_inspect\":\"auto\",\"active_multi\":null,\"active_scroll\":\"auto\",\"active_tap\":\"auto\",\"tools\":[{\"id\":\"1020\"},{\"id\":\"1021\"},{\"id\":\"1022\"},{\"id\":\"1023\"},{\"id\":\"1024\"},{\"id\":\"1025\"},{\"id\":\"1027\"}]},\"id\":\"1028\",\"type\":\"Toolbar\"},{\"attributes\":{\"fill_alpha\":{\"value\":0.1},\"fill_color\":{\"field\":\"color\"},\"line_alpha\":{\"value\":0.1},\"line_color\":{\"field\":\"color\"},\"size\":{\"units\":\"screen\",\"value\":4.166666666666667},\"x\":{\"field\":\"x\"},\"y\":{\"field\":\"y\"}},\"id\":\"1038\",\"type\":\"Circle\"},{\"attributes\":{},\"id\":\"1024\",\"type\":\"ResetTool\"},{\"attributes\":{},\"id\":\"1010\",\"type\":\"LinearScale\"},{\"attributes\":{},\"id\":\"1006\",\"type\":\"DataRange1d\"},{\"attributes\":{\"axis\":{\"id\":\"1016\"},\"dimension\":1,\"ticker\":null,\"visible\":false},\"id\":\"1019\",\"type\":\"Grid\"},{\"attributes\":{\"bottom_units\":\"screen\",\"fill_alpha\":0.5,\"fill_color\":\"lightgrey\",\"left_units\":\"screen\",\"level\":\"overlay\",\"line_alpha\":1.0,\"line_color\":\"black\",\"line_dash\":[4,4],\"line_width\":2,\"render_mode\":\"css\",\"right_units\":\"screen\",\"top_units\":\"screen\"},\"id\":\"1026\",\"type\":\"BoxAnnotation\"},{\"attributes\":{},\"id\":\"1004\",\"type\":\"DataRange1d\"},{\"attributes\":{},\"id\":\"1013\",\"type\":\"BasicTicker\"},{\"attributes\":{},\"id\":\"1020\",\"type\":\"PanTool\"},{\"attributes\":{},\"id\":\"1021\",\"type\":\"WheelZoomTool\"}],\"root_ids\":[\"1003\"]},\"title\":\"Bokeh Application\",\"version\":\"2.0.1\"}};\n",
       "  var render_items = [{\"docid\":\"3dc6e8ab-012f-4881-ae97-7003cf496693\",\"root_ids\":[\"1003\"],\"roots\":{\"1003\":\"e4d58afe-c357-4f45-b872-944a0696f0bb\"}}];\n",
       "  root.Bokeh.embed.embed_items_notebook(docs_json, render_items);\n",
       "\n",
       "  }\n",
       "  if (root.Bokeh !== undefined) {\n",
       "    embed_document(root);\n",
       "  } else {\n",
       "    var attempts = 0;\n",
       "    var timer = setInterval(function(root) {\n",
       "      if (root.Bokeh !== undefined) {\n",
       "        clearInterval(timer);\n",
       "        embed_document(root);\n",
       "      } else {\n",
       "        attempts++;\n",
       "        if (attempts > 100) {\n",
       "          clearInterval(timer);\n",
       "          console.log(\"Bokeh: ERROR: Unable to run BokehJS code because BokehJS library is missing\");\n",
       "        }\n",
       "      }\n",
       "    }, 10, root)\n",
       "  }\n",
       "})(window);"
      ],
      "application/vnd.bokehjs_exec.v0+json": ""
     },
     "metadata": {
      "application/vnd.bokehjs_exec.v0+json": {
       "id": "1003"
      }
     },
     "output_type": "display_data"
    }
   ],
   "source": [
    "import umap\n",
    "import umap.plot\n",
    "\n",
    "def metric(a, b):\n",
    "    return similarité(int(a[0]), int(b[0]))\n",
    "\n",
    "députés_id = [int(x) for x in list(sorted(députés_par_id.keys()))]\n",
    "partis = [députés_par_id[id]['Groupe politique (complet)'] for id in députés_id]\n",
    "noms = [(députés_par_id[id]['Nom'] + ' ' + députés_par_id[id]['Prénom']) for id in députés_id]\n",
    "\n",
    "mapper = umap.UMAP(metric=metric, random_state=30).fit([[id] for id in députés_id])\n",
    "\n",
    "umap.plot.output_notebook()\n",
    "p = umap.plot.interactive(mapper, labels=partis, hover_data={\"parti\": partis, \"nom\": noms})\n",
    "umap.plot.show(p)"
   ]
  },
  {
   "cell_type": "markdown",
   "metadata": {},
   "source": [
    "# Députés les plus similaires à François Ruffin"
   ]
  },
  {
   "cell_type": "code",
   "execution_count": 16,
   "metadata": {},
   "outputs": [
    {
     "name": "stdout",
     "output_type": "stream",
     "text": [
      "Rouaux Claudia 0.0\n",
      "Corbière Alexis 0.0\n",
      "Ruffin François 0.0\n",
      "Quatennens Adrien 0.005494505494505475\n",
      "Coquerel Éric 0.0055248618784530246\n",
      "Lachaud Bastien 0.005649717514124242\n",
      "Rubin Sabine 0.00666666666666671\n",
      "Taurine Bénédicte 0.007575757575757569\n",
      "Autain Clémentine 0.008547008547008517\n",
      "Panot Mathilde 0.011428571428571455\n",
      "Obono Danièle 0.012195121951219523\n",
      "Mélenchon Jean-Luc 0.014388489208633115\n",
      "Fiat Caroline 0.016129032258064502\n",
      "Ressiguier Muriel 0.016260162601625994\n",
      "Ratenon Jean-Hugues 0.01948051948051943\n",
      "Prud'homme Loïc 0.020979020979020935\n",
      "Bernalicis Ugo 0.021276595744680882\n",
      "Larive Michel 0.021897810218978075\n",
      "Jumel Sébastien 0.05464480874316935\n",
      "Dharréville Pierre 0.05769230769230771\n",
      "Faucillon Elsa 0.05932203389830504\n",
      "Lecoq Jean-Paul 0.06134969325153372\n",
      "Peu Stéphane 0.06432748538011701\n",
      "Bruneel Alain 0.0650887573964497\n",
      "Buffet Marie-George 0.06976744186046513\n",
      "Bello Huguette 0.07058823529411762\n",
      "Chassaigne André 0.07262569832402233\n",
      "Roussel Fabien 0.0964912280701754\n",
      "Dufrègne Jean-Paul 0.09883720930232553\n",
      "Wulfranc Hubert 0.09999999999999998\n",
      "Brotherson Moetai 0.13186813186813184\n",
      "Vallaud Boris 0.15032679738562094\n",
      "Tolmont Sylvie 0.1578947368421053\n",
      "Nilor Jean-Philippe 0.180327868852459\n",
      "Lassalle Jean 0.18461538461538463\n",
      "Dupont-Aignan Nicolas 0.18518518518518523\n",
      "Rabault Valérie 0.18584070796460173\n",
      "Batho Delphine 0.1869158878504673\n",
      "Serville Gabriel 0.189873417721519\n",
      "Bricout Jean-Louis 0.19402985074626866\n",
      "Lambert Jérôme 0.202020202020202\n",
      "Carvounas Luc 0.202247191011236\n",
      "David Alain 0.20430107526881724\n",
      "Juanico Régis 0.20430107526881724\n",
      "Pau-Langevin George 0.20454545454545459\n",
      "Faure Olivier 0.21100917431192656\n",
      "Pires Beaune Christine 0.21118012422360244\n",
      "Biémouret Gisèle 0.2136752136752137\n",
      "Bareigts Ericka 0.21590909090909094\n",
      "Letchimy Serge 0.2168674698795181\n",
      "Aviragnet Joël 0.21875\n",
      "Victory Michèle 0.22058823529411764\n",
      "Hutin Christian 0.22368421052631582\n",
      "Karamanli Marietta 0.24137931034482762\n",
      "Vainqueur-Christophe Hélène 0.2435897435897436\n",
      "Habib David 0.24778761061946908\n",
      "Potier Dominique 0.24822695035460995\n",
      "Bouillon Christophe 0.2524271844660194\n",
      "Castellani Michel 0.25409836065573765\n",
      "Evrard José 0.2584269662921348\n",
      "Battistel Marie-Noëlle 0.26724137931034486\n",
      "Le Pen Marine 0.2727272727272727\n",
      "Manin Josette 0.2777777777777778\n",
      "Pupponi François 0.28125\n",
      "Acquaviva Jean-Félix 0.28735632183908044\n",
      "Saulignac Hervé 0.29000000000000004\n",
      "Aliot Louis 0.29032258064516125\n",
      "Dumont Laurence 0.2906976744186046\n",
      "Garot Guillaume 0.2931034482758621\n",
      "Pueyo Joaquim 0.303921568627451\n",
      "Colombani Paul-André 0.3058823529411765\n",
      "Dubié Jeanine 0.3098591549295775\n",
      "Marlin Franck 0.3137254901960784\n",
      "Untermaier Cécile 0.31404958677685946\n",
      "Boucard Ian 0.32258064516129037\n",
      "Taugourdeau Jean-Charles 0.33333333333333337\n",
      "Poudroux Jean-Luc 0.34375\n",
      "Pinel Sylvia 0.34558823529411764\n",
      "Chenu Sébastien 0.3495145631067961\n",
      "Corneloup Josiane 0.3548387096774194\n",
      "Bilde Bruno 0.3571428571428571\n",
      "Schellenberger Raphaël 0.3586956521739131\n",
      "Kéclard-Mondésir Manuéla 0.36111111111111116\n",
      "Fasquelle Daniel 0.36585365853658536\n",
      "Menuel Gérard 0.37349397590361444\n",
      "Thiériot Jean-Louis 0.3783783783783784\n",
      "Savignat Antoine 0.38095238095238093\n",
      "Vialay Michel 0.38372093023255816\n",
      "Breton Xavier 0.3846153846153846\n",
      "de la Verpillière Charles 0.3913043478260869\n",
      "Diard Éric 0.39603960396039606\n",
      "Vatin Pierre 0.4\n",
      "Levy Geneviève 0.4029850746268657\n",
      "Tabarot Michèle 0.4035087719298246\n",
      "Pradié Aurélien 0.4040404040404041\n",
      "Brun Fabrice 0.4067796610169492\n",
      "Bassire Nathalie 0.41237113402061853\n",
      "Reitzer Jean-Luc 0.41666666666666663\n",
      "Masson Jean-Louis 0.41666666666666663\n",
      "Ferrara Jean-Jacques 0.41666666666666663\n",
      "Bazin-Malgras Valérie 0.41666666666666663\n",
      "Lorho Marie-France 0.4177215189873418\n",
      "Dubois Marianne 0.41860465116279066\n",
      "Pajot Ludovic 0.4206349206349206\n",
      "Reynès Bernard 0.42105263157894735\n",
      "Marleix Olivier 0.4226804123711341\n",
      "Poletti Bérengère 0.42352941176470593\n",
      "Aubert Julien 0.42553191489361697\n",
      "Cinieri Dino 0.4285714285714286\n",
      "Lacroute Valérie 0.4285714285714286\n",
      "Meunier Frédérique 0.4285714285714286\n",
      "Sermier Jean-Marie 0.430379746835443\n",
      "Boyer Valérie 0.4307692307692308\n",
      "Cordier Pierre 0.43089430894308944\n",
      "Quentin Didier 0.43103448275862066\n",
      "Deflesselles Bernard 0.43333333333333335\n",
      "Bouchet Jean-Claude 0.4367816091954023\n",
      "Parigi Jean-François 0.4383561643835616\n",
      "Peltier Guillaume 0.43939393939393945\n",
      "Reiss Frédéric 0.44067796610169496\n",
      "Bonnivard Émilie 0.44354838709677424\n",
      "Duby-Muller Virginie 0.4444444444444444\n",
      "Dive Julien 0.4455445544554455\n",
      "Vigier Jean-Pierre 0.4457831325301205\n",
      "Gaultier Jean-Jacques 0.44594594594594594\n",
      "Furst Laurent 0.44705882352941173\n",
      "Teissier Guy 0.4482758620689655\n",
      "Verchère Patrice 0.4526315789473684\n",
      "Trastour-Isnart Laurence 0.4553571428571429\n",
      "Ménard Emmanuelle 0.4580152671755725\n",
      "Brochand Bernard 0.45945945945945943\n",
      "Herbillon Michel 0.46031746031746035\n",
      "Maquet Emmanuel 0.4606741573033708\n",
      "Viry Stéphane 0.4642857142857143\n",
      "Pauget Éric 0.4655172413793104\n",
      "Cornut-Gentille François 0.4657534246575342\n",
      "Lorion David 0.4683544303797469\n",
      "Straumann Éric 0.4691358024691358\n",
      "Beauvais Valérie 0.4693877551020408\n",
      "Delatte Rémi 0.472972972972973\n",
      "Door Jean-Pierre 0.4731182795698925\n",
      "Carrez Gilles 0.47619047619047616\n",
      "Valentin Isabelle 0.4779411764705882\n",
      "Viala Arnaud 0.4786324786324786\n",
      "Molac Paul 0.47933884297520657\n",
      "Rolland Vincent 0.4831460674157303\n",
      "Dalloz Marie-Christine 0.4921875\n",
      "Louwagie Véronique 0.49295774647887325\n",
      "Grelier Jean-Carles 0.4933333333333333\n",
      "Descoeur Vincent 0.4935897435897436\n",
      "Perrut Bernard 0.49397590361445787\n",
      "Anthoine Emmanuelle 0.49677419354838714\n",
      "Huyghe Sébastien 0.5\n",
      "Abad Damien 0.5\n",
      "Leclerc Sébastien 0.5056179775280899\n",
      "Goasguen Claude 0.5066666666666666\n",
      "Di Filippo Fabien 0.5069444444444444\n",
      "Hetzel Patrick 0.5104166666666667\n",
      "Dumont Pierre-Henri 0.5123966942148761\n",
      "Ciotti Éric 0.513157894736842\n",
      "Jacob Christian 0.5145631067961165\n",
      "Falorni Olivier 0.515625\n",
      "Cherpion Gérard 0.5161290322580645\n",
      "Kuster Brigitte 0.5161290322580645\n",
      "Bazin Thibault 0.5177304964539007\n",
      "Dassault Olivier 0.5178571428571428\n",
      "Ramassamy Nadia 0.5192307692307692\n",
      "Guion-Firmin Claire 0.52\n",
      "Bony Jean-Yves 0.5208333333333333\n",
      "Favennec Becot Yannick 0.5221238938053097\n",
      "Saddier Martial 0.523076923076923\n",
      "Nury Jérôme 0.5283018867924528\n",
      "Lurton Gilles 0.5321888412017167\n",
      "Minot Maxime 0.535031847133758\n",
      "Reda Robin 0.5365853658536586\n",
      "Larrivé Guillaume 0.5376344086021505\n",
      "Kamardine Mansour 0.5384615384615384\n",
      "Cattin Jacques 0.5405405405405406\n",
      "de Ganay Claude 0.5411764705882354\n",
      "Le Grip Constance 0.5436241610738255\n",
      "Auconie Sophie 0.544\n",
      "Clément Jean-Michel 0.5441176470588236\n",
      "Gosselin Philippe 0.5480769230769231\n",
      "Le Fur Marc 0.5588235294117647\n",
      "Sage Maina 0.5757575757575757\n",
      "Forissier Nicolas 0.5777777777777777\n",
      "Genevard Annie 0.5982905982905983\n",
      "Woerth Éric 0.6\n",
      "Bricout Guy 0.6082474226804124\n",
      "Brenier Marine 0.6125\n",
      "Ramadier Alain 0.615819209039548\n",
      "Vigier Philippe 0.6220472440944882\n",
      "Naegelen Christophe 0.6274509803921569\n",
      "Zumkeller Michel 0.6285714285714286\n",
      "Habib Meyer 0.6338028169014085\n",
      "Lambert François-Michel 0.6413043478260869\n",
      "Morel-À-L'Huissier Pierre 0.6470588235294117\n",
      "Pancher Bertrand 0.6623376623376623\n",
      "El Guerrab M'jid 0.6666666666666667\n",
      "Brindeau Pascal 0.6764705882352942\n",
      "Lagarde Jean-Christophe 0.6849315068493151\n",
      "Magnier Lise 0.6853932584269663\n",
      "Ramos Richard 0.6864406779661016\n",
      "Benoit Thierry 0.689119170984456\n",
      "Descamps Béatrice 0.696078431372549\n",
      "Dunoyer Philippe 0.6976744186046512\n",
      "de Courson Charles 0.7\n",
      "Meizonnet Nicolas 0.7\n",
      "Dumas Frédérique 0.7027027027027026\n",
      "Christophe Paul 0.725\n",
      "Villiers André 0.7352941176470589\n",
      "Vercamer Francis 0.7462686567164178\n",
      "Bournazel Pierre-Yves 0.77\n",
      "Sanquer Nicole 0.7831325301204819\n",
      "Herth Antoine 0.7865168539325843\n",
      "Firmin Le Bodo Agnès 0.7891156462585034\n",
      "de La Raudière Laure 0.7894736842105263\n",
      "Demilly Stéphane 0.7903225806451613\n",
      "Ledoux Vincent 0.791044776119403\n",
      "Becht Olivier 0.7951807228915663\n",
      "Nadot Sébastien 0.8\n",
      "Benin Justine 0.8064516129032258\n",
      "Brial Sylvain 0.8064516129032258\n",
      "Petit Maud 0.8142857142857143\n",
      "Orphelin Matthieu 0.823943661971831\n",
      "Bru Vincent 0.8305084745762712\n",
      "Hammouche Brahim 0.8319327731092436\n",
      "Lemoine Patricia 0.8387096774193549\n",
      "Poueyto Josy 0.8403361344537815\n",
      "Millienne Bruno 0.842391304347826\n",
      "Mathiasin Max 0.8441558441558441\n",
      "Elimas Nathalie 0.851063829787234\n",
      "Jacquier-Laforge Élodie 0.854368932038835\n",
      "Gomès Philippe 0.8548387096774194\n",
      "Thill Agnès 0.8561643835616438\n",
      "Bannier Géraldine 0.8581081081081081\n",
      "Gaillot Albane 0.8591549295774648\n",
      "Daniel Yves 0.8598130841121495\n",
      "De Temmerman Jennifer 0.8598130841121495\n",
      "Pompili Barbara 0.860655737704918\n",
      "Pételle Bénédicte 0.8620689655172413\n",
      "Potterie Benoit 0.8641975308641976\n",
      "de Vaucouleurs Michèle 0.8651685393258427\n",
      "Florennes Isabelle 0.86875\n",
      "Labaronne Daniel 0.869281045751634\n",
      "Claireaux Stéphane 0.875\n",
      "Lioger Richard 0.8759124087591241\n",
      "Barbier Frédéric 0.8780487804878049\n",
      "Cubertafon Jean-Pierre 0.8787878787878788\n",
      "Alauzet Éric 0.8796296296296297\n",
      "Martin Didier 0.8802395209580838\n",
      "Bois Pascal 0.8813559322033898\n",
      "Wonner Martine 0.8823529411764706\n",
      "Essayan Nadia 0.8828828828828829\n",
      "Perrot Patrice 0.8839285714285714\n",
      "Laqhila Mohamed 0.8859649122807017\n",
      "Tuffnell Frédérique 0.8863636363636364\n",
      "Balanant Erwan 0.8874172185430463\n",
      "Lenne Marion 0.8878923766816144\n",
      "Pahun Jimmy 0.8880597014925373\n",
      "Bagarry Delphine 0.8881118881118881\n",
      "Mbaye Jean François 0.890625\n",
      "Toutut-Picard Élisabeth 0.8907563025210083\n",
      "Berta Philippe 0.8909090909090909\n",
      "Peyron Michèle 0.8910891089108911\n",
      "Mette Sophie 0.89171974522293\n",
      "Borowczyk Julien 0.8936170212765957\n",
      "Colboc Fabienne 0.8939393939393939\n",
      "Josso Sandrine 0.8941176470588236\n",
      "Dupont Stella 0.8950617283950617\n",
      "Le Feur Sandrine 0.8954248366013072\n",
      "Lasserre Florence 0.8969072164948454\n",
      "Vuilletet Guillaume 0.8978102189781022\n",
      "Tiegna Huguette 0.8983050847457628\n",
      "Degois Typhanie 0.9\n",
      "Le Gendre Gilles 0.9\n",
      "Terlier Jean 0.9005847953216375\n",
      "Da Silva Dominique 0.9006622516556292\n",
      "Sarles Nathalie 0.9010989010989011\n",
      "Osson Catherine 0.9017857142857143\n",
      "Dubré-Chirat Nicole 0.9020618556701031\n",
      "Moreau Jean-Baptiste 0.9034090909090909\n",
      "Petit Frédéric 0.9035087719298246\n",
      "Gauvain Raphaël 0.9036144578313253\n",
      "Bolo Philippe 0.904\n",
      "Kerlogot Yannick 0.9047619047619048\n",
      "Houbron Dimitri 0.9047619047619048\n",
      "Dubois Jacqueline 0.9056603773584906\n",
      "Chassaing Philippe 0.9056603773584906\n",
      "Cazenove Sébastien 0.9058823529411765\n",
      "Besson-Moreau Grégory 0.9067796610169492\n",
      "Kuric Aina 0.907563025210084\n",
      "Hammerer Véronique 0.9080459770114943\n",
      "Blanchet Christophe 0.9083969465648855\n",
      "Zannier Hélène 0.9084967320261438\n",
      "Pouzyreff Natalia 0.9085365853658537\n",
      "Mesnier Thomas 0.9090909090909091\n",
      "Isaac-Sibille Cyrille 0.9090909090909091\n",
      "Le Bohec Gaël 0.9097744360902256\n",
      "Latombe Philippe 0.9108910891089109\n",
      "Lang Anne-Christine 0.9111111111111111\n",
      "Son-Forget Joachim 0.9113924050632911\n",
      "Maillart-Méhaignerie Laurence 0.9117647058823529\n",
      "Mignola Patrick 0.9122807017543859\n",
      "Julien-Laferrière Hubert 0.912621359223301\n",
      "Delatte Marc 0.9130434782608696\n",
      "Leclabart Jean-Claude 0.9130434782608696\n",
      "Poulliat Éric 0.9133858267716536\n",
      "Marilossian Jacques 0.9133858267716536\n",
      "Deprez-Audebert Marguerite 0.9134615384615384\n",
      "Grau Romain 0.9135802469135803\n",
      "Michel Monica 0.9140625\n",
      "Vidal Annie 0.9141104294478528\n",
      "Paluszkiewicz Xavier 0.9142857142857143\n",
      "Granjus Florence 0.9142857142857143\n",
      "Melchior Graziella 0.9144736842105263\n",
      "Bergé Aurore 0.9144736842105263\n",
      "Anato Patrice 0.9145299145299145\n",
      "Dirx Benjamin 0.9147286821705426\n",
      "de Courson Yolaine 0.9150943396226415\n",
      "Gaillard Olivier 0.9154929577464789\n",
      "Gouffier-Cha Guillaume 0.9154929577464789\n",
      "Limon Monique 0.9162303664921466\n",
      "Girardin Éric 0.916256157635468\n",
      "Bridey Jean-Jacques 0.9166666666666666\n",
      "Ahamada Saïd 0.9166666666666666\n",
      "Le Peih Nicole 0.9166666666666666\n",
      "Motin Cendra 0.91701244813278\n",
      "Cloarec-Le Nabour Christine 0.917098445595855\n",
      "Kamowski Catherine 0.9171597633136095\n",
      "Sempastous Jean-Bernard 0.9172413793103449\n",
      "Le Meur Annaïg 0.9172932330827068\n",
      "Tanguy Liliana 0.9172932330827068\n",
      "Bothorel Éric 0.9177215189873418\n",
      "Dombreval Loïc 0.917910447761194\n",
      "Amadou Aude 0.9181818181818182\n",
      "Turquois Nicolas 0.9182389937106918\n",
      "Pont Jean-Pierre 0.9186046511627907\n",
      "Givernet Olga 0.9189189189189189\n",
      "Hennion Christine 0.9189189189189189\n",
      "Verdier-Jouclas Marie-Christine 0.919047619047619\n",
      "Iborra Monique 0.9191919191919192\n",
      "Fauvergue Jean-Michel 0.9193548387096774\n",
      "Savatier Jacques 0.9193548387096774\n",
      "Robert Mireille 0.9195402298850575\n",
      "Vanceunebrock Laurence 0.92\n",
      "Trompille Stéphane 0.9204545454545454\n",
      "Warsmann Jean-Luc 0.9206349206349207\n",
      "Damaisin Olivier 0.9215686274509804\n",
      "Colas-Roy Jean-Charles 0.9217391304347826\n",
      "Genetet Anne 0.921875\n",
      "Rebeyrotte Rémy 0.9225352112676056\n",
      "Causse Lionel 0.9225806451612903\n",
      "Michels Thierry 0.9225806451612903\n",
      "Saint-Martin Laurent 0.9236111111111112\n",
      "Rist Stéphanie 0.923728813559322\n",
      "Simian Benoit 0.9239130434782609\n",
      "Fugit Jean-Luc 0.925\n",
      "Goulet Perrine 0.9253731343283582\n",
      "Cabaré Pierre 0.9256198347107438\n",
      "Trisse Nicole 0.9256198347107438\n",
      "Errante Sophie 0.9259259259259259\n",
      "Démoulin Nicolas 0.9261363636363636\n",
      "Giraud Joël 0.9263157894736842\n",
      "Pitollat Claire 0.9263157894736842\n",
      "Charrière Sylvie 0.9263803680981595\n",
      "Mis Jean-Michel 0.9264705882352942\n",
      "Arend Christophe 0.9264705882352942\n",
      "Rupin Pacôme 0.9266666666666666\n",
      "Bouyx Bertrand 0.926829268292683\n",
      "Gouttefarde Fabien 0.926829268292683\n",
      "Moutchou Naïma 0.926829268292683\n",
      "Houlié Sacha 0.926829268292683\n",
      "Louis Alexandra 0.9272727272727272\n",
      "Khattabi Fadila 0.9276018099547512\n",
      "Michel-Kleisbauer Philippe 0.9279279279279279\n",
      "Morenas Adrien 0.9279279279279279\n",
      "de Lavergne Célia 0.9281437125748503\n",
      "Le Vigoureux Fabrice 0.9285714285714286\n",
      "Batut Xavier 0.9285714285714286\n",
      "Atger Stéphanie 0.9285714285714286\n",
      "Hérin Danièle 0.9295774647887324\n",
      "Chapelier Annie 0.9302325581395349\n",
      "Chouat Francis 0.9302325581395349\n",
      "Peyrol Bénédicte 0.930635838150289\n",
      "Lauzzana Michel 0.9310344827586207\n",
      "Serva Olivier 0.9310344827586207\n",
      "Guévenoux Marie 0.9325153374233128\n",
      "Person Pierre 0.9325842696629214\n",
      "Testé Stéphane 0.9328358208955224\n",
      "Henriet Pierre 0.9328358208955224\n",
      "Baichère Didier 0.9328859060402684\n",
      "Questel Bruno 0.9329268292682926\n",
      "Vignon Corinne 0.9329268292682926\n",
      "Baudu Stéphane 0.9333333333333333\n",
      "Haury Yannick 0.9333333333333333\n",
      "Romeiro Dias Laëtitia 0.9333333333333333\n",
      "Hai Nadia 0.9333333333333333\n",
      "Gérard Raphaël 0.9338842975206612\n",
      "Cellier Anthony 0.9339622641509434\n",
      "Mauborgne Sereine 0.9339622641509434\n",
      "Cormier-Bouligeon François 0.9340659340659341\n",
      "Ali Ramlati 0.9340659340659341\n",
      "Muschotti Cécile 0.9342105263157895\n",
      "Perea Alain 0.9345794392523364\n",
      "Boyer Pascale 0.934640522875817\n",
      "Tamarelle-Verhaeghe Marie 0.9349593495934959\n",
      "Rilhac Cécile 0.9349593495934959\n",
      "Gomez-Bassac Valérie 0.9349593495934959\n",
      "Larsonneur Jean-Charles 0.935064935064935\n",
      "Gipson Séverine 0.9351851851851852\n",
      "Thiébaut Vincent 0.9352941176470588\n",
      "Mörch Sandrine 0.935483870967742\n",
      "Gassilloud Thomas 0.935483870967742\n",
      "Lecocq Charlotte 0.9357142857142857\n",
      "Gayte Laurence 0.9357798165137614\n",
      "Charvier Fannette 0.9358288770053476\n",
      "Bono-Vandorme Aude 0.9365079365079365\n",
      "Guerel Émilie 0.9365079365079365\n",
      "Mirallès Patricia 0.9367088607594937\n",
      "Fuchs Bruno 0.9369369369369369\n",
      "Belhaddad Belkhir 0.937007874015748\n",
      "Maillard Sylvain 0.9375\n",
      "Lazaar Fiona 0.9375\n",
      "Lebec Marie 0.9375\n",
      "Clapot Mireille 0.937984496124031\n",
      "Chalumeau Philippe 0.9380530973451328\n",
      "Huppé Philippe 0.9381443298969072\n",
      "Jolivet François 0.9381443298969072\n",
      "Faure-Muntian Valéria 0.9381443298969072\n",
      "Brugnera Anne 0.9385964912280702\n",
      "Fontaine-Domeizel Emmanuelle 0.9393939393939394\n",
      "Zulesi Jean-Marc 0.9393939393939394\n",
      "Riotton Véronique 0.9396551724137931\n",
      "Magne Marie-Ange 0.9396551724137931\n",
      "Lescure Roland 0.94\n",
      "Dufeu Schubert Audrey 0.9402985074626866\n",
      "Cazeneuve Jean-René 0.9404761904761905\n",
      "Paris Didier 0.9405940594059405\n",
      "Gregoire Olivia 0.9407407407407408\n",
      "Raphan Pierre-Alain 0.9407407407407408\n",
      "Piron Béatrice 0.9407894736842105\n",
      "de Sarnez Marielle 0.9411764705882353\n",
      "Sorre Bertrand 0.9411764705882353\n",
      "Thomas Valérie 0.9411764705882353\n",
      "Calvez Céline 0.9415584415584416\n",
      "El Haïry Sarah 0.9416058394160584\n",
      "Avia Laetitia 0.9416058394160584\n",
      "Kokouendo Rodrigue 0.9416666666666667\n",
      "Rixain Marie-Pierre 0.9421487603305785\n",
      "Kasbarian Guillaume 0.9423076923076923\n",
      "Oppelt Valérie 0.9424460431654677\n",
      "Cariou Émilie 0.9424460431654677\n",
      "Bourguignon Brigitte 0.9425287356321839\n",
      "Abadie Caroline 0.9426229508196722\n",
      "Braun-Pivet Yaël 0.9426229508196722\n",
      "Blanc Anne 0.9428571428571428\n",
      "Rudigoz Thomas 0.9428571428571428\n",
      "Lavergne Pascal 0.9433962264150944\n",
      "Kerbarh Stéphanie 0.9433962264150944\n",
      "Thillaye Sabine 0.9438202247191011\n",
      "Lejeune Christophe 0.9438202247191011\n",
      "Bureau-Bonnard Carole 0.9440993788819876\n",
      "Rouillard Gwendal 0.9444444444444444\n",
      "Anglade Pieyre-Alexandre 0.9444444444444444\n",
      "Lardet Frédérique 0.9444444444444444\n",
      "Mendes Ludovic 0.9452054794520548\n",
      "Abba Bérangère 0.9453125\n",
      "David Dominique 0.9454545454545454\n",
      "Cattelot Anne-Laure 0.9454545454545454\n",
      "Touraine Jean-Louis 0.9459459459459459\n",
      "Joncour Bruno 0.9459459459459459\n",
      "Fabre Catherine 0.9459459459459459\n",
      "Garcia Laurent 0.9459459459459459\n",
      "Brulebois Danielle 0.9467455621301775\n",
      "Park Zivka 0.9467455621301775\n",
      "Liso Brigitte 0.946969696969697\n",
      "Thourot Alice 0.9473684210526316\n",
      "Le Gac Didier 0.9473684210526316\n",
      "Mattei Jean-Paul 0.9477124183006536\n",
      "Lakrafi Amélia 0.948051948051948\n",
      "Laabid Mustapha 0.9484536082474226\n",
      "Petel Anne-Laurence 0.9485294117647058\n",
      "Marsaud Sandra 0.9487179487179487\n",
      "Couillard Bérangère 0.948905109489051\n",
      "Luquet Aude 0.9489795918367347\n",
      "Folliot Philippe 0.95\n",
      "Mazars Stéphane 0.95\n",
      "Venteau Pierre 0.95\n",
      "Sommer Denis 0.9504132231404958\n",
      "Ardouin Jean-Philippe 0.9509803921568627\n",
      "Rauch Isabelle 0.9509803921568627\n",
      "Krabal Jacques 0.9518072289156626\n",
      "Lagleize Jean-Luc 0.9518072289156626\n",
      "Bessot Ballot Barbara 0.9518072289156626\n",
      "Fanget Michel 0.9523809523809523\n",
      "Boudié Florent 0.9523809523809523\n",
      "Barrot Jean-Noël 0.9523809523809523\n",
      "Buchou Stéphane 0.9523809523809523\n",
      "Beaudouin-Hubiere Sophie 0.9527027027027027\n",
      "Grandjean Carole 0.952755905511811\n",
      "Waserman Sylvain 0.952755905511811\n",
      "Eliaou Jean-François 0.9528301886792453\n",
      "Portarrieu Jean-François 0.9529411764705882\n",
      "Adam Damien 0.953125\n",
      "Tourret Alain 0.9540229885057472\n",
      "Do Stéphanie 0.9540229885057472\n",
      "Jerretie Christophe 0.9550561797752809\n",
      "Duvergé Bruno 0.9555555555555556\n",
      "Provendier Florence 0.9555555555555556\n",
      "Rossi Laurianne 0.9558823529411765\n",
      "Kervran Loïc 0.9565217391304348\n",
      "Euzet Christophe 0.9572649572649573\n",
      "Nogal Mickaël 0.9576271186440678\n",
      "Guerini Stanislas 0.9577464788732395\n",
      "Dubost Coralie 0.9578947368421052\n",
      "Studer Bruno 0.957983193277311\n",
      "Bonnell Bruno 0.957983193277311\n",
      "Panonacle Sophie 0.9583333333333334\n",
      "Petit Valérie 0.9583333333333334\n",
      "Crouzet Michèle 0.9583333333333334\n",
      "Adam Lénaïck 0.9589041095890412\n",
      "Cazarian Danièle 0.9589041095890412\n",
      "Holroyd Alexandre 0.9590163934426229\n",
      "Meynier-Millefert Marjolaine 0.9591836734693877\n",
      "Blein Yves 0.9594594594594594\n",
      "Roseren Xavier 0.9606299212598425\n",
      "Cazebonne Samantha 0.961038961038961\n",
      "Freschi Alexandre 0.9611650485436893\n",
      "Fiévet Jean-Marie 0.9612403100775194\n",
      "Jacques Jean-Michel 0.9615384615384616\n",
      "Bourlanges Jean-Louis 0.9615384615384616\n",
      "O'Petit Claire 0.962962962962963\n",
      "Morlighem Florence 0.962962962962963\n",
      "Chalas Émilie 0.963302752293578\n",
      "Vignal Patrick 0.9636363636363636\n",
      "Roussel Cédric 0.963963963963964\n",
      "Fontenel-Personne Pascale 0.9647058823529412\n",
      "Bachelier Florian 0.9649122807017544\n",
      "Leguille-Balloy Martine 0.9652777777777778\n",
      "Vichnievsky Laurence 0.9655172413793104\n",
      "Maire Jacques 0.9658119658119658\n",
      "Lainé Fabien 0.9661016949152542\n",
      "Khedher Anissa 0.967032967032967\n",
      "Maquet Jacqueline 0.967741935483871\n",
      "Delpon Michel 0.967741935483871\n",
      "Brunet Anne-France 0.967741935483871\n",
      "Descrozaille Frédéric 0.967741935483871\n",
      "Racon-Bouzon Cathy 0.9680851063829787\n",
      "Villani Cédric 0.9680851063829787\n",
      "Forteza Paula 0.968421052631579\n",
      "Saint-Paul Laetitia 0.9690721649484536\n",
      "Solère Thierry 0.9692307692307692\n",
      "Krimi Sonia 0.9692307692307692\n",
      "Sylla Sira 0.9693877551020408\n",
      "Renson Hugues 0.9701492537313433\n",
      "Brocard Blandine 0.970873786407767\n",
      "Chiche Guillaume 0.970873786407767\n",
      "Dumas Françoise 0.9714285714285714\n",
      "Pichereau Damien 0.9722222222222222\n",
      "Matras Fabien 0.972972972972973\n",
      "Valetta Ardisson Alexandra 0.974025974025974\n",
      "Masséglia Denis 0.9741379310344828\n",
      "Taché Aurélien 0.9743589743589743\n",
      "Pellois Hervé 0.975\n",
      "Di Pompeo Christophe 0.975\n",
      "Janvier Caroline 0.9776119402985075\n",
      "Berville Hervé 0.9777777777777777\n",
      "Ferrand Richard 0.9817351598173516\n",
      "Tan Buon 0.9864864864864865\n",
      "de Rugy François 1.0\n",
      "Travert Stéphane 1.0\n",
      "Mahjoubi Mounir 1.0\n",
      "Galliard-Minier Camille 1\n",
      "Griveaux Benjamin 1.0\n",
      "Zitouni Souad 1\n",
      "Loiseau Patrick 1.0\n"
     ]
    }
   ],
   "source": [
    "sims = [[id, similarité(id, 722142)] for id in députés_id]\n",
    "sims.sort(key=lambda x: x[1])\n",
    "for sim in sims:\n",
    "    print((députés_par_id[sim[0]]['Nom'] + ' ' + députés_par_id[sim[0]]['Prénom']), sim[1])"
   ]
  },
  {
   "cell_type": "code",
   "execution_count": 11,
   "metadata": {},
   "outputs": [
    {
     "data": {
      "application/vnd.plotly.v1+json": {
       "config": {
        "plotlyServerURL": "https://plot.ly"
       },
       "data": [
        {
         "hovertemplate": "<b>%{hovertext}</b><br><br>parti=Socialistes et apparentés<br>similarité_ruffin=%{x}<br>similarité_abad=%{y}<extra></extra>",
         "hovertext": [
          "Biémouret Gisèle (73, 72)",
          "David Alain (73, 76)",
          "Dumont Laurence (76, 76)",
          "Habib David (76, 76)",
          "Lambert Jérôme (76, 75)",
          "Juanico Régis (77, 75)",
          "Garot Guillaume (76, 75)",
          "Hutin Christian (73, 73)",
          "Karamanli Marietta (78, 75)",
          "Pau-Langevin George (78, 75)",
          "Letchimy Serge (73, 73)",
          "Saulignac Hervé (80, 77)",
          "Victory Michèle (66, 64)",
          "Rouaux Claudia (26, 26)",
          "Battistel Marie-Noëlle (76, 76)",
          "Bricout Jean-Louis (76, 76)",
          "Potier Dominique (80, 79)",
          "Pires Beaune Christine (84, 81)",
          "Untermaier Cécile (76, 76)",
          "Tolmont Sylvie (55, 54)",
          "Faure Olivier (79, 77)",
          "Rabault Valérie (80, 79)",
          "Aviragnet Joël (72, 72)",
          "Vainqueur-Christophe Hélène (73, 74)",
          "Vallaud Boris (80, 75)",
          "Manin Josette (72, 73)"
         ],
         "legendgroup": "Socialistes et apparentés",
         "marker": {
          "color": "#636efa",
          "symbol": "circle"
         },
         "mode": "markers",
         "name": "Socialistes et apparentés",
         "orientation": "v",
         "showlegend": true,
         "type": "scatter",
         "x": [
          0.684931506849315,
          0.7123287671232876,
          0.6842105263157895,
          0.6842105263157895,
          0.7236842105263158,
          0.6753246753246753,
          0.6842105263157895,
          0.7397260273972602,
          0.7051282051282052,
          0.717948717948718,
          0.684931506849315,
          0.6875,
          0.696969696969697,
          0.6923076923076923,
          0.6578947368421053,
          0.6973684210526315,
          0.6875,
          0.6547619047619048,
          0.6052631578947368,
          0.7090909090909091,
          0.6962025316455697,
          0.7,
          0.6805555555555556,
          0.684931506849315,
          0.7,
          0.7083333333333334
         ],
         "xaxis": "x",
         "y": [
          0.6527777777777778,
          0.618421052631579,
          0.618421052631579,
          0.6710526315789473,
          0.6666666666666666,
          0.6533333333333333,
          0.6533333333333333,
          0.6438356164383562,
          0.6133333333333333,
          0.6533333333333333,
          0.6712328767123288,
          0.6493506493506493,
          0.65625,
          0.5769230769230769,
          0.6447368421052632,
          0.6447368421052632,
          0.6455696202531646,
          0.6296296296296297,
          0.6052631578947368,
          0.6666666666666666,
          0.6233766233766234,
          0.6329113924050633,
          0.625,
          0.6486486486486487,
          0.6266666666666667,
          0.6301369863013698
         ],
         "yaxis": "y"
        },
        {
         "hovertemplate": "<b>%{hovertext}</b><br><br>parti=La République en Marche<br>similarité_ruffin=%{x}<br>similarité_abad=%{y}<extra></extra>",
         "hovertext": [
          "Bridey Jean-Jacques (79, 77)",
          "Pont Jean-Pierre (75, 74)",
          "Tourret Alain (73, 73)",
          "Iborra Monique (77, 76)",
          "de Rugy François (64, 63)",
          "Maquet Jacqueline (74, 75)",
          "Touraine Jean-Louis (74, 75)",
          "Rouillard Gwendal (74, 74)",
          "Solère Thierry (77, 77)",
          "Krabal Jacques (72, 72)",
          "Alauzet Éric (77, 76)",
          "Ferrand Richard (90, 85)",
          "Dumas Françoise (76, 76)",
          "Boudié Florent (73, 76)",
          "Vignal Patrick (73, 72)",
          "Daniel Yves (73, 73)",
          "Errante Sophie (73, 74)",
          "Travert Stéphane (52, 51)",
          "Pellois Hervé (76, 78)",
          "Blein Yves (78, 75)",
          "Bothorel Éric (80, 77)",
          "Barbier Frédéric (75, 76)",
          "Questel Bruno (82, 79)",
          "Dupont Stella (82, 82)",
          "Lang Anne-Christine (78, 72)",
          "Mazars Stéphane (80, 76)",
          "Claireaux Stéphane (73, 70)",
          "Mahjoubi Mounir (42, 42)",
          "Maillard Sylvain (80, 78)",
          "Givernet Olga (83, 80)",
          "Trompille Stéphane (73, 74)",
          "Delatte Marc (78, 77)",
          "Boyer Pascale (80, 79)",
          "Vanceunebrock Laurence (71, 72)",
          "Peyrol Bénédicte (83, 81)",
          "Bono-Vandorme Aude (75, 77)",
          "Valetta Ardisson Alexandra (70, 71)",
          "Hérin Danièle (82, 79)",
          "Perea Alain (77, 75)",
          "Robert Mireille (83, 80)",
          "Besson-Moreau Grégory (77, 76)",
          "Dombreval Loïc (81, 79)",
          "Roussel Cédric (80, 78)",
          "Pitollat Claire (69, 71)",
          "Louis Alexandra (71, 74)",
          "Petel Anne-Laurence (75, 73)",
          "Racon-Bouzon Cathy (76, 75)",
          "Ahamada Saïd (79, 76)",
          "Zulesi Jean-Marc (77, 77)",
          "Blanc Anne (77, 75)",
          "Le Vigoureux Fabrice (81, 82)",
          "Bouyx Bertrand (81, 81)",
          "Kervran Loïc (77, 76)",
          "Mesnier Thomas (77, 81)",
          "Marsaud Sandra (77, 76)",
          "Ardouin Jean-Philippe (74, 75)",
          "Gérard Raphaël (78, 77)",
          "Cormier-Bouligeon François (78, 77)",
          "Michel Monica (79, 77)",
          "Martin Didier (77, 76)",
          "Dubois Jacqueline (82, 79)",
          "Charvier Fannette (84, 82)",
          "Khattabi Fadila (80, 77)",
          "Paris Didier (79, 76)",
          "Berville Hervé (75, 77)",
          "Kerlogot Yannick (79, 77)",
          "Moreau Jean-Baptiste (73, 75)",
          "Chassaing Philippe (75, 75)",
          "Delpon Michel (70, 69)",
          "Clapot Mireille (79, 76)",
          "Thourot Alice (75, 73)",
          "de Lavergne Célia (80, 81)",
          "Gipson Séverine (83, 79)",
          "Gouttefarde Fabien (78, 78)",
          "Melchior Graziella (77, 74)",
          "Tamarelle-Verhaeghe Marie (75, 73)",
          "O'Petit Claire (76, 75)",
          "Kasbarian Guillaume (83, 80)",
          "Le Meur Annaïg (78, 77)",
          "Le Gac Didier (81, 78)",
          "Le Feur Sandrine (78, 77)",
          "Sommer Denis (75, 73)",
          "Cellier Anthony (76, 75)",
          "Mörch Sandrine (77, 76)",
          "Cazeneuve Jean-René (77, 78)",
          "Cabaré Pierre (80, 81)",
          "Vignon Corinne (74, 74)",
          "Nogal Mickaël (72, 72)",
          "Portarrieu Jean-François (74, 73)",
          "Toutut-Picard Élisabeth (75, 76)",
          "Tanguy Liliana (76, 76)",
          "Fabre Catherine (78, 79)",
          "Poulliat Éric (77, 75)",
          "Couillard Bérangère (77, 80)",
          "Panonacle Sophie (81, 79)",
          "Hammerer Véronique (81, 75)",
          "Dubos Christelle (33, 28)",
          "Mirallès Patricia (78, 76)",
          "Dubost Coralie (73, 72)",
          "Eliaou Jean-François (75, 76)",
          "David Dominique (74, 75)",
          "Maillart-Méhaignerie Laurence (77, 80)",
          "Le Bohec Gaël (84, 80)",
          "Galliard-Minier Camille (28, 27)",
          "Colas-Roy Jean-Charles (81, 80)",
          "Chalas Émilie (76, 75)",
          "Cloarec-Le Nabour Christine (85, 77)",
          "Bachelier Florian (75, 76)",
          "Jolivet François (73, 74)",
          "Chalumeau Philippe (77, 76)",
          "Labaronne Daniel (77, 79)",
          "Colboc Fabienne (78, 75)",
          "Démoulin Nicolas (85, 81)",
          "Laabid Mustapha (67, 67)",
          "Motin Cendra (83, 80)",
          "Limon Monique (81, 77)",
          "Abadie Caroline (74, 74)",
          "Meynier-Millefert Marjolaine (74, 71)",
          "Brulebois Danielle (82, 83)",
          "Causse Lionel (84, 82)",
          "Mis Jean-Michel (80, 78)",
          "Faure-Muntian Valéria (79, 74)",
          "Sarles Nathalie (72, 72)",
          "Borowczyk Julien (80, 77)",
          "Kamowski Catherine (82, 80)",
          "Tiegna Huguette (80, 77)",
          "Lauzzana Michel (78, 77)",
          "Freschi Alexandre (74, 72)",
          "Dufeu Audrey (74, 73)",
          "Haury Yannick (73, 73)",
          "Rist Stéphanie (76, 78)",
          "Janvier Caroline (77, 75)",
          "Oppelt Valérie (79, 78)",
          "Brunet Anne-France (80, 77)",
          "Amadou Aude (78, 76)",
          "Saint-Paul Laetitia (82, 77)",
          "Masséglia Denis (76, 79)",
          "Dubré-Chirat Nicole (83, 78)",
          "Grandjean Carole (74, 72)",
          "Sorre Bertrand (75, 73)",
          "Krimi Sonia (70, 70)",
          "Girardin Éric (81, 80)",
          "Damaisin Olivier (78, 75)",
          "Arend Christophe (73, 72)",
          "Zannier Hélène (72, 69)",
          "Le Peih Nicole (81, 82)",
          "Jacques Jean-Michel (79, 78)",
          "Belhaddad Belkhir (78, 77)",
          "Mendes Ludovic (74, 74)",
          "Lioger Richard (79, 75)",
          "Trisse Nicole (81, 78)",
          "Paluszkiewicz Xavier (75, 76)",
          "Perrot Patrice (70, 70)",
          "Di Pompeo Christophe (75, 75)",
          "Liso Brigitte (77, 76)",
          "Lecocq Charlotte (75, 75)",
          "Osson Catherine (80, 77)",
          "Morlighem Florence (30, 28)",
          "Cattelot Anne-Laure (79, 74)",
          "Rauch Isabelle (82, 80)",
          "Bois Pascal (81, 77)",
          "Bureau-Bonnard Carole (82, 76)",
          "Michels Thierry (80, 79)",
          "Studer Bruno (83, 78)",
          "Sempastous Jean-Bernard (81, 83)",
          "Grau Romain (72, 72)",
          "Gayte Laurence (79, 77)",
          "Cazenove Sébastien (76, 76)",
          "Thomas Valérie (78, 76)",
          "Testé Stéphane (83, 76)",
          "Descrozaille Frédéric (76, 76)",
          "Mbaye Jean François (71, 72)",
          "Saint-Martin Laurent (80, 76)",
          "Rilhac Cécile (78, 76)",
          "Moutchou Naïma (77, 73)",
          "Lazaar Fiona (77, 76)",
          "Da Silva Dominique (78, 74)",
          "Park Zivka (80, 79)",
          "Serva Olivier (65, 67)",
          "Lakrafi Amélia (74, 71)",
          "Genetet Anne (80, 78)",
          "Adam Lénaïck (65, 65)",
          "Lescure Roland (81, 77)",
          "Holroyd Alexandre (77, 78)",
          "Anglade Pieyre-Alexandre (80, 78)",
          "Cazebonne Samantha (67, 70)",
          "Charrière Sylvie (78, 73)",
          "Vuilletet Guillaume (79, 76)",
          "Anato Patrice (71, 73)",
          "Gouffier-Cha Guillaume (80, 79)",
          "Brugnera Anne (79, 78)",
          "Bonnell Bruno (75, 71)",
          "Cazarian Danièle (74, 74)",
          "Gauvain Raphaël (74, 71)",
          "Pichereau Damien (71, 71)",
          "Degois Typhanie (71, 69)",
          "Riotton Véronique (80, 79)",
          "Lardet Frédérique (82, 79)",
          "Lenne Marion (88, 85)",
          "Roseren Xavier (76, 75)",
          "Le Gendre Gilles (81, 82)",
          "Guerini Stanislas (82, 80)",
          "Kerbarh Stéphanie (80, 78)",
          "Batut Xavier (79, 77)",
          "Verdier-Jouclas Marie-Christine (84, 84)",
          "Griveaux Benjamin (42, 43)",
          "Person Pierre (70, 70)",
          "Terlier Jean (85, 81)",
          "Rossi Laurianne (77, 76)",
          "Rupin Pacôme (79, 76)",
          "Avia Laetitia (78, 78)",
          "Kokouendo Rodrigue (77, 76)",
          "Muschotti Cécile (75, 74)",
          "Atger Stéphanie (42, 43)",
          "Tan Buon (70, 70)",
          "Fauvergue Jean-Michel (77, 76)",
          "Peyron Michèle (85, 79)",
          "Do Stéphanie (77, 76)",
          "Mauborgne Sereine (80, 80)",
          "Calvez Céline (81, 75)",
          "Baichère Didier (75, 72)",
          "Gomez-Bassac Valérie (75, 72)",
          "Guerel Émilie (78, 76)",
          "Matras Fabien (71, 73)",
          "Renson Hugues (85, 81)",
          "Piron Béatrice (83, 81)",
          "Lebec Marie (79, 75)",
          "Zitouni Souad (23, 22)",
          "Guévenoux Marie (79, 78)",
          "Raphan Pierre-Alain (81, 80)",
          "Braun-Pivet Yaël (82, 78)",
          "Pouzyreff Natalia (75, 74)",
          "Marilossian Jacques (82, 80)",
          "Buchou Stéphane (78, 79)",
          "Leguille-Balloy Martine (76, 75)",
          "Romeiro Dias Laëtitia (80, 78)",
          "Adam Damien (76, 76)",
          "Bergé Aurore (82, 78)",
          "Granjus Florence (80, 76)",
          "Henriet Pierre (75, 77)",
          "Pételle Bénédicte (41, 39)",
          "Hennion Christine (84, 78)",
          "Vidal Annie (84, 78)",
          "Sylla Sira (78, 79)",
          "Fiévet Jean-Marie (75, 74)",
          "Houlié Sacha (76, 71)",
          "Beaudouin-Hubiere Sophie (81, 79)",
          "Maire Jacques (77, 77)",
          "Provendier Florence (54, 51)",
          "Leclabart Jean-Claude (83, 76)",
          "Venteau Pierre (31, 32)",
          "Magne Marie-Ange (76, 78)",
          "Rixain Marie-Pierre (76, 76)",
          "Rudigoz Thomas (73, 74)",
          "Khedher Anissa (69, 70)",
          "Bessot Ballot Barbara (75, 75)",
          "Lejeune Christophe (72, 73)",
          "Thiébaut Vincent (77, 79)",
          "Fugit Jean-Luc (83, 80)",
          "Dirx Benjamin (79, 78)",
          "Rebeyrotte Rémy (81, 82)",
          "Ali Ramlati (74, 71)",
          "Chouat Francis (47, 49)"
         ],
         "legendgroup": "La République en Marche",
         "marker": {
          "color": "#EF553B",
          "symbol": "circle"
         },
         "mode": "markers",
         "name": "La République en Marche",
         "orientation": "v",
         "showlegend": true,
         "type": "scatter",
         "x": [
          0.08860759493670889,
          0.09333333333333338,
          0.09589041095890405,
          0.10389610389610393,
          0.078125,
          0.08108108108108114,
          0.09459459459459463,
          0.09459459459459463,
          0.09090909090909094,
          0.09722222222222221,
          0.1298701298701299,
          0.022222222222222254,
          0.09210526315789469,
          0.09589041095890405,
          0.09589041095890405,
          0.136986301369863,
          0.09589041095890405,
          0.09615384615384615,
          0.09210526315789469,
          0.07692307692307687,
          0.08750000000000002,
          0.10666666666666669,
          0.09756097560975607,
          0.07317073170731703,
          0.08974358974358976,
          0.08750000000000002,
          0.12328767123287676,
          0.11904761904761907,
          0.08750000000000002,
          0.0843373493975903,
          0.09589041095890405,
          0.08974358974358976,
          0.08750000000000002,
          0.09859154929577463,
          0.0843373493975903,
          0.09333333333333338,
          0.09999999999999998,
          0.08536585365853655,
          0.10389610389610393,
          0.0843373493975903,
          0.09090909090909094,
          0.09876543209876543,
          0.08750000000000002,
          0.1159420289855072,
          0.09859154929577463,
          0.09333333333333338,
          0.10526315789473684,
          0.08860759493670889,
          0.09090909090909094,
          0.09090909090909094,
          0.09876543209876543,
          0.09876543209876543,
          0.10389610389610393,
          0.09090909090909094,
          0.09090909090909094,
          0.09459459459459463,
          0.10256410256410253,
          0.08974358974358976,
          0.08860759493670889,
          0.10389610389610393,
          0.08536585365853655,
          0.08333333333333337,
          0.08750000000000002,
          0.07594936708860756,
          0.09333333333333338,
          0.11392405063291133,
          0.09589041095890405,
          0.10666666666666669,
          0.09999999999999998,
          0.08860759493670889,
          0.09333333333333338,
          0.09999999999999998,
          0.0843373493975903,
          0.08974358974358976,
          0.09090909090909094,
          0.07999999999999996,
          0.09210526315789469,
          0.0843373493975903,
          0.08974358974358976,
          0.08641975308641969,
          0.1282051282051282,
          0.10666666666666669,
          0.10526315789473684,
          0.09090909090909094,
          0.09090909090909094,
          0.11250000000000004,
          0.09459459459459463,
          0.08333333333333337,
          0.09459459459459463,
          0.09333333333333338,
          0.09210526315789469,
          0.08974358974358976,
          0.09090909090909094,
          0.09090909090909094,
          0.11111111111111116,
          0.07407407407407407,
          0.06060606060606055,
          0.07692307692307687,
          0.09589041095890405,
          0.09333333333333338,
          0.08108108108108114,
          0.09090909090909094,
          0.09523809523809523,
          0.1785714285714286,
          0.09876543209876543,
          0.10526315789473684,
          0.08235294117647063,
          0.09333333333333338,
          0.09589041095890405,
          0.09090909090909094,
          0.09090909090909094,
          0.10256410256410253,
          0.08235294117647063,
          0.08955223880597019,
          0.0843373493975903,
          0.08641975308641969,
          0.08108108108108114,
          0.09459459459459463,
          0.08536585365853655,
          0.1071428571428571,
          0.08750000000000002,
          0.08860759493670889,
          0.11111111111111116,
          0.08750000000000002,
          0.08536585365853655,
          0.08750000000000002,
          0.08974358974358976,
          0.09459459459459463,
          0.09459459459459463,
          0.0821917808219178,
          0.09210526315789469,
          0.07792207792207795,
          0.08860759493670889,
          0.11250000000000004,
          0.08974358974358976,
          0.07317073170731703,
          0.07894736842105265,
          0.0843373493975903,
          0.09459459459459463,
          0.09333333333333338,
          0.08571428571428574,
          0.08641975308641969,
          0.08974358974358976,
          0.09589041095890405,
          0.09722222222222221,
          0.08641975308641969,
          0.08860759493670889,
          0.08974358974358976,
          0.09459459459459463,
          0.08860759493670889,
          0.08641975308641969,
          0.10666666666666669,
          0.09999999999999998,
          0.09333333333333338,
          0.09090909090909094,
          0.09333333333333338,
          0.08750000000000002,
          0.16666666666666663,
          0.10126582278481011,
          0.08536585365853655,
          0.09876543209876543,
          0.08536585365853655,
          0.08750000000000002,
          0.0843373493975903,
          0.08641975308641969,
          0.09722222222222221,
          0.08860759493670889,
          0.09210526315789469,
          0.08974358974358976,
          0.0843373493975903,
          0.09210526315789469,
          0.11267605633802813,
          0.08750000000000002,
          0.08974358974358976,
          0.09090909090909094,
          0.09090909090909094,
          0.10256410256410253,
          0.08750000000000002,
          0.09230769230769231,
          0.09459459459459463,
          0.08750000000000002,
          0.09230769230769231,
          0.08641975308641969,
          0.09090909090909094,
          0.07499999999999996,
          0.07462686567164178,
          0.08974358974358976,
          0.07594936708860756,
          0.08450704225352113,
          0.08750000000000002,
          0.07594936708860756,
          0.09333333333333338,
          0.10810810810810811,
          0.09459459459459463,
          0.08450704225352113,
          0.08450704225352113,
          0.08750000000000002,
          0.09756097560975607,
          0.09090909090909094,
          0.10526315789473684,
          0.08641975308641969,
          0.08536585365853655,
          0.08750000000000002,
          0.08860759493670889,
          0.08333333333333337,
          0.11904761904761907,
          0.09999999999999998,
          0.08235294117647063,
          0.07792207792207795,
          0.08860759493670889,
          0.08974358974358976,
          0.09090909090909094,
          0.09333333333333338,
          0.11904761904761907,
          0.08571428571428574,
          0.09090909090909094,
          0.09411764705882353,
          0.09090909090909094,
          0.08750000000000002,
          0.07407407407407407,
          0.07999999999999996,
          0.09333333333333338,
          0.08974358974358976,
          0.09859154929577463,
          0.08235294117647063,
          0.09638554216867468,
          0.08860759493670889,
          0.17391304347826086,
          0.08860759493670889,
          0.08641975308641969,
          0.08536585365853655,
          0.09333333333333338,
          0.08536585365853655,
          0.08974358974358976,
          0.09210526315789469,
          0.08750000000000002,
          0.09210526315789469,
          0.08536585365853655,
          0.08750000000000002,
          0.09333333333333338,
          0.12195121951219512,
          0.08333333333333337,
          0.08333333333333337,
          0.08974358974358976,
          0.09333333333333338,
          0.09210526315789469,
          0.08641975308641969,
          0.09090909090909094,
          0.09259259259259256,
          0.09638554216867468,
          0.16129032258064513,
          0.09210526315789469,
          0.09210526315789469,
          0.09589041095890405,
          0.10144927536231885,
          0.09333333333333338,
          0.08333333333333337,
          0.07792207792207795,
          0.0843373493975903,
          0.08860759493670889,
          0.08641975308641969,
          0.06756756756756754,
          0.1063829787234043
         ],
         "xaxis": "x",
         "y": [
          0.4155844155844156,
          0.41891891891891886,
          0.410958904109589,
          0.39473684210526316,
          0.31746031746031744,
          0.41333333333333333,
          0.3866666666666667,
          0.4054054054054055,
          0.4025974025974026,
          0.4027777777777778,
          0.368421052631579,
          0.11764705882352944,
          0.39473684210526316,
          0.42105263157894735,
          0.41666666666666674,
          0.4383561643835616,
          0.41891891891891886,
          0.43137254901960786,
          0.42307692307692313,
          0.41333333333333333,
          0.4155844155844156,
          0.39473684210526316,
          0.40506329113924044,
          0.41463414634146334,
          0.375,
          0.39473684210526316,
          0.4,
          0.5,
          0.39743589743589736,
          0.42500000000000004,
          0.4054054054054055,
          0.4155844155844156,
          0.40506329113924044,
          0.375,
          0.41975308641975306,
          0.4545454545454546,
          0.3661971830985915,
          0.4177215189873418,
          0.45333333333333337,
          0.4125,
          0.42105263157894735,
          0.4177215189873418,
          0.39743589743589736,
          0.352112676056338,
          0.4054054054054055,
          0.410958904109589,
          0.3866666666666667,
          0.4078947368421053,
          0.4025974025974026,
          0.4,
          0.3902439024390244,
          0.40740740740740744,
          0.39473684210526316,
          0.40740740740740744,
          0.39473684210526316,
          0.41333333333333333,
          0.37662337662337664,
          0.4285714285714286,
          0.4155844155844156,
          0.42105263157894735,
          0.40506329113924044,
          0.4024390243902439,
          0.4285714285714286,
          0.42105263157894735,
          0.4155844155844156,
          0.4025974025974026,
          0.42666666666666675,
          0.36,
          0.4347826086956521,
          0.381578947368421,
          0.410958904109589,
          0.40740740740740744,
          0.4303797468354431,
          0.4358974358974359,
          0.41891891891891886,
          0.42465753424657526,
          0.42666666666666675,
          0.4125,
          0.4025974025974026,
          0.41025641025641024,
          0.4285714285714286,
          0.3835616438356164,
          0.41333333333333333,
          0.4078947368421053,
          0.42307692307692313,
          0.40740740740740744,
          0.41891891891891886,
          0.41666666666666674,
          0.42465753424657526,
          0.381578947368421,
          0.4342105263157895,
          0.3924050632911392,
          0.4,
          0.4125,
          0.40506329113924044,
          0.4,
          0.3928571428571428,
          0.42105263157894735,
          0.38888888888888884,
          0.42105263157894735,
          0.4,
          0.4125,
          0.4,
          0.5555555555555556,
          0.4125,
          0.4,
          0.4285714285714286,
          0.4342105263157895,
          0.41891891891891886,
          0.42105263157894735,
          0.40506329113924044,
          0.3866666666666667,
          0.41975308641975306,
          0.3880597014925373,
          0.4125,
          0.4155844155844156,
          0.4054054054054055,
          0.4225352112676056,
          0.4337349397590362,
          0.41463414634146334,
          0.41025641025641024,
          0.3918918918918919,
          0.38888888888888884,
          0.4025974025974026,
          0.4,
          0.4285714285714286,
          0.4025974025974026,
          0.375,
          0.410958904109589,
          0.3972602739726028,
          0.39743589743589736,
          0.3733333333333333,
          0.41025641025641024,
          0.37662337662337664,
          0.39473684210526316,
          0.4285714285714286,
          0.4430379746835442,
          0.41025641025641024,
          0.41666666666666674,
          0.42465753424657526,
          0.3857142857142857,
          0.42500000000000004,
          0.4,
          0.4444444444444444,
          0.3913043478260869,
          0.4024390243902439,
          0.42307692307692313,
          0.38961038961038963,
          0.3783783783783784,
          0.3866666666666667,
          0.42307692307692313,
          0.42105263157894735,
          0.4285714285714286,
          0.41333333333333333,
          0.42105263157894735,
          0.3866666666666667,
          0.4025974025974026,
          0.5714285714285714,
          0.4054054054054055,
          0.42500000000000004,
          0.4025974025974026,
          0.381578947368421,
          0.4177215189873418,
          0.41025641025641024,
          0.4337349397590362,
          0.41666666666666674,
          0.4155844155844156,
          0.4078947368421053,
          0.381578947368421,
          0.4078947368421053,
          0.42105263157894735,
          0.4027777777777778,
          0.4078947368421053,
          0.39473684210526316,
          0.42465753424657526,
          0.381578947368421,
          0.41891891891891886,
          0.4177215189873418,
          0.4328358208955223,
          0.4084507042253521,
          0.39743589743589736,
          0.4307692307692308,
          0.38961038961038963,
          0.39743589743589736,
          0.3846153846153846,
          0.41428571428571437,
          0.3972602739726028,
          0.4342105263157895,
          0.410958904109589,
          0.3924050632911392,
          0.41025641025641024,
          0.4225352112676056,
          0.4054054054054055,
          0.4084507042253521,
          0.4225352112676056,
          0.3623188405797102,
          0.4177215189873418,
          0.3924050632911392,
          0.388235294117647,
          0.3866666666666667,
          0.42682926829268286,
          0.4125,
          0.3846153846153846,
          0.4285714285714286,
          0.41666666666666674,
          0.4883720930232558,
          0.41428571428571437,
          0.41975308641975306,
          0.42105263157894735,
          0.4078947368421053,
          0.39743589743589736,
          0.4078947368421053,
          0.4054054054054055,
          0.5116279069767442,
          0.41428571428571437,
          0.4078947368421053,
          0.4303797468354431,
          0.4078947368421053,
          0.4,
          0.36,
          0.4305555555555556,
          0.41666666666666674,
          0.4078947368421053,
          0.3835616438356164,
          0.3950617283950617,
          0.41975308641975306,
          0.4,
          0.40909090909090917,
          0.41025641025641024,
          0.42500000000000004,
          0.42307692307692313,
          0.41891891891891886,
          0.42500000000000004,
          0.3924050632911392,
          0.4,
          0.39743589743589736,
          0.4078947368421053,
          0.42307692307692313,
          0.4078947368421053,
          0.4025974025974026,
          0.4358974358974359,
          0.39743589743589736,
          0.41025641025641024,
          0.3924050632911392,
          0.41891891891891886,
          0.43661971830985913,
          0.40506329113924044,
          0.4155844155844156,
          0.4117647058823529,
          0.4078947368421053,
          0.5,
          0.41025641025641024,
          0.381578947368421,
          0.3783783783783784,
          0.41428571428571437,
          0.3866666666666667,
          0.36986301369863006,
          0.40506329113924044,
          0.4125,
          0.39743589743589736,
          0.42682926829268286,
          0.380281690140845,
          0.44897959183673475
         ],
         "yaxis": "y"
        },
        {
         "hovertemplate": "<b>%{hovertext}</b><br><br>parti=Gauche démocrate et républicaine<br>similarité_ruffin=%{x}<br>similarité_abad=%{y}<extra></extra>",
         "hovertext": [
          "Buffet Marie-George (76, 74)",
          "Chassaigne André (82, 80)",
          "Lecoq Jean-Paul (77, 77)",
          "Nilor Jean-Philippe (68, 66)",
          "Serville Gabriel (67, 67)",
          "Dufrègne Jean-Paul (79, 78)",
          "Dharréville Pierre (80, 81)",
          "Bruneel Alain (74, 76)",
          "Roussel Fabien (78, 76)",
          "Kéclard-Mondésir Manuéla (51, 53)",
          "Brotherson Moetai (70, 67)",
          "Peu Stéphane (87, 83)",
          "Faucillon Elsa (78, 77)",
          "Wulfranc Hubert (78, 78)",
          "Jumel Sébastien (81, 80)"
         ],
         "legendgroup": "Gauche démocrate et républicaine",
         "marker": {
          "color": "#00cc96",
          "symbol": "circle"
         },
         "mode": "markers",
         "name": "Gauche démocrate et républicaine",
         "orientation": "v",
         "showlegend": true,
         "type": "scatter",
         "x": [
          0.9078947368421053,
          0.9146341463414634,
          0.9090909090909091,
          0.8088235294117647,
          0.6865671641791045,
          0.9113924050632911,
          0.9125,
          0.9054054054054054,
          0.9102564102564102,
          0.5490196078431373,
          0.8,
          0.9080459770114943,
          0.9230769230769231,
          0.8974358974358975,
          0.9135802469135802
         ],
         "xaxis": "x",
         "y": [
          0.5540540540540541,
          0.55,
          0.5584415584415584,
          0.5757575757575758,
          0.4477611940298507,
          0.5384615384615384,
          0.5432098765432098,
          0.5657894736842105,
          0.5394736842105263,
          0.37735849056603776,
          0.6119402985074627,
          0.5662650602409639,
          0.5454545454545454,
          0.5641025641025641,
          0.5625
         ],
         "yaxis": "y"
        },
        {
         "hovertemplate": "<b>%{hovertext}</b><br><br>parti=Les Républicains<br>similarité_ruffin=%{x}<br>similarité_abad=%{y}<extra></extra>",
         "hovertext": [
          "Carrez Gilles (70, 72)",
          "Cattin Jacques (72, 72)",
          "Cherpion Gérard (76, 77)",
          "Cornut-Gentille François (71, 73)",
          "Dassault Olivier (72, 73)",
          "de la Verpillière Charles (74, 75)",
          "Deflesselles Bernard (72, 72)",
          "Forissier Nicolas (74, 74)",
          "Herbillon Michel (74, 76)",
          "Jacob Christian (74, 76)",
          "Le Fur Marc (77, 79)",
          "Menuel Gérard (77, 76)",
          "Perrut Bernard (76, 77)",
          "Quentin Didier (71, 73)",
          "Reitzer Jean-Luc (69, 71)",
          "Teissier Guy (68, 71)",
          "Woerth Éric (75, 76)",
          "Brochand Bernard (71, 73)",
          "Reiss Frédéric (81, 81)",
          "Bony Jean-Yves (80, 77)",
          "Gosselin Philippe (75, 73)",
          "Rolland Vincent (75, 75)",
          "Huyghe Sébastien (74, 75)",
          "Sermier Jean-Marie (73, 73)",
          "Poletti Bérengère (74, 75)",
          "Door Jean-Pierre (66, 69)",
          "Grelier Jean-Carles (69, 69)",
          "Gaultier Jean-Jacques (71, 72)",
          "Levy Geneviève (72, 73)",
          "Cinieri Dino (66, 70)",
          "Diard Éric (77, 75)",
          "Delatte Rémi (71, 71)",
          "Saddier Martial (71, 73)",
          "de Ganay Claude (73, 74)",
          "Larrivé Guillaume (77, 79)",
          "Tabarot Michèle (70, 72)",
          "Kamardine Mansour (70, 71)",
          "Breton Xavier (79, 78)",
          "Ciotti Éric (76, 78)",
          "Reynès Bernard (71, 72)",
          "Descoeur Vincent (83, 80)",
          "Dalloz Marie-Christine (76, 77)",
          "Bouchet Jean-Claude (70, 72)",
          "Dubois Marianne (76, 76)",
          "Le Grip Constance (85, 82)",
          "Maquet Emmanuel (71, 75)",
          "Abad Damien (78, 86)",
          "Genevard Annie (79, 80)",
          "Marleix Olivier (78, 77)",
          "Vigier Jean-Pierre (78, 80)",
          "Louwagie Véronique (79, 82)",
          "Hetzel Patrick (79, 78)",
          "Duby-Muller Virginie (75, 78)",
          "Aubert Julien (74, 73)",
          "Bazin Thibault (77, 76)",
          "Thiériot Jean-Louis (49, 49)",
          "Ferrara Jean-Jacques (73, 74)",
          "Valentin Isabelle (76, 80)",
          "Viala Arnaud (80, 81)",
          "Dive Julien (74, 76)",
          "Brenier Marine (74, 75)",
          "Trastour-Isnart Laurence (75, 74)",
          "Pauget Éric (78, 78)",
          "Brun Fabrice (75, 76)",
          "Cordier Pierre (77, 79)",
          "Bazin-Malgras Valérie (76, 77)",
          "Meunier Frédérique (72, 72)",
          "Anthoine Emmanuelle (77, 78)",
          "Peltier Guillaume (72, 76)",
          "Pradié Aurélien (71, 69)",
          "Beauvais Valérie (80, 83)",
          "Di Filippo Fabien (81, 82)",
          "Vatin Pierre (76, 80)",
          "Minot Maxime (81, 84)",
          "Nury Jérôme (78, 79)",
          "Dumont Pierre-Henri (76, 75)",
          "Bassire Nathalie (73, 74)",
          "Lorion David (74, 74)",
          "Ramassamy Nadia (63, 64)",
          "Guion-Firmin Claire (76, 75)",
          "Ramadier Alain (84, 82)",
          "Schellenberger Raphaël (75, 73)",
          "Bonnivard Émilie (75, 77)",
          "Viry Stéphane (73, 76)",
          "Kuster Brigitte (84, 81)",
          "Parigi Jean-François (74, 75)",
          "Reda Robin (76, 74)",
          "Boucard Ian (76, 75)",
          "Vialay Michel (72, 74)",
          "Corneloup Josiane (72, 75)",
          "Savignat Antoine (64, 64)",
          "Poudroux Jean-Luc (47, 48)"
         ],
         "legendgroup": "Les Républicains",
         "marker": {
          "color": "#ab63fa",
          "symbol": "circle"
         },
         "mode": "markers",
         "name": "Les Républicains",
         "orientation": "v",
         "showlegend": true,
         "type": "scatter",
         "x": [
          0.4714285714285714,
          0.45833333333333326,
          0.5,
          0.5492957746478874,
          0.4305555555555556,
          0.5135135135135135,
          0.5277777777777778,
          0.44594594594594594,
          0.5,
          0.45945945945945943,
          0.5194805194805194,
          0.5324675324675324,
          0.4605263157894737,
          0.5070422535211268,
          0.5072463768115942,
          0.5,
          0.4666666666666667,
          0.5211267605633803,
          0.5185185185185185,
          0.525,
          0.4666666666666667,
          0.4933333333333334,
          0.4864864864864865,
          0.5068493150684932,
          0.5,
          0.5,
          0.5217391304347826,
          0.5070422535211268,
          0.5277777777777778,
          0.5151515151515151,
          0.5324675324675324,
          0.5070422535211268,
          0.4225352112676056,
          0.4657534246575342,
          0.38961038961038963,
          0.5,
          0.44285714285714284,
          0.5443037974683544,
          0.4736842105263157,
          0.49295774647887325,
          0.5301204819277109,
          0.5,
          0.5285714285714286,
          0.5263157894736842,
          0.47058823529411764,
          0.5211267605633803,
          0.4871794871794872,
          0.4810126582278481,
          0.5128205128205128,
          0.4871794871794872,
          0.4810126582278481,
          0.5063291139240507,
          0.5466666666666666,
          0.5675675675675675,
          0.5324675324675324,
          0.5102040816326531,
          0.4931506849315068,
          0.5131578947368421,
          0.4625,
          0.5405405405405406,
          0.43243243243243246,
          0.56,
          0.5256410256410257,
          0.5066666666666667,
          0.5714285714285714,
          0.48684210526315796,
          0.5416666666666666,
          0.5324675324675324,
          0.5,
          0.5070422535211268,
          0.5,
          0.5555555555555556,
          0.5263157894736842,
          0.5432098765432098,
          0.5,
          0.5,
          0.4931506849315068,
          0.4864864864864865,
          0.4285714285714286,
          0.44736842105263164,
          0.47619047619047616,
          0.52,
          0.52,
          0.5342465753424658,
          0.47619047619047616,
          0.527027027027027,
          0.48684210526315796,
          0.5394736842105263,
          0.5,
          0.5416666666666666,
          0.53125,
          0.574468085106383
         ],
         "xaxis": "x",
         "y": [
          0.9305555555555556,
          0.9166666666666666,
          0.935064935064935,
          0.8356164383561644,
          0.8493150684931506,
          0.9466666666666667,
          0.9166666666666666,
          0.9054054054054054,
          0.9473684210526315,
          0.9342105263157895,
          0.8354430379746836,
          0.9078947368421053,
          0.8961038961038961,
          0.9178082191780822,
          0.9577464788732394,
          0.9436619718309859,
          0.9342105263157895,
          0.958904109589041,
          0.9012345679012346,
          0.9090909090909091,
          0.9041095890410958,
          0.8533333333333334,
          0.9066666666666666,
          0.958904109589041,
          0.8533333333333334,
          0.9710144927536232,
          0.9130434782608695,
          0.9305555555555556,
          0.958904109589041,
          0.9142857142857143,
          0.7733333333333333,
          0.9154929577464789,
          0.7808219178082192,
          0.918918918918919,
          0.7721518987341772,
          0.9583333333333334,
          0.8591549295774648,
          0.8333333333333334,
          0.9102564102564102,
          0.9444444444444444,
          0.9375,
          0.935064935064935,
          0.9583333333333334,
          0.9736842105263158,
          0.8902439024390244,
          0.9333333333333333,
          1,
          0.925,
          0.8701298701298701,
          0.9125,
          0.8658536585365854,
          0.9358974358974359,
          0.9230769230769231,
          0.863013698630137,
          0.868421052631579,
          0.9591836734693877,
          0.918918918918919,
          0.875,
          0.8024691358024691,
          0.8552631578947368,
          0.8133333333333334,
          0.9594594594594594,
          0.8846153846153846,
          0.8947368421052632,
          0.8354430379746836,
          0.8961038961038961,
          0.9027777777777778,
          0.9487179487179487,
          0.9342105263157895,
          0.8405797101449275,
          0.9036144578313253,
          0.8536585365853658,
          0.925,
          0.9523809523809523,
          0.8607594936708861,
          0.84,
          0.8513513513513513,
          0.8378378378378378,
          0.84375,
          0.9066666666666666,
          0.9146341463414634,
          0.958904109589041,
          0.9090909090909091,
          0.8947368421052632,
          0.8765432098765432,
          0.88,
          0.8918918918918919,
          0.88,
          0.9594594594594594,
          0.92,
          0.96875,
          1
         ],
         "yaxis": "y"
        },
        {
         "hovertemplate": "<b>%{hovertext}</b><br><br>parti=Libertés et Territoires<br>similarité_ruffin=%{x}<br>similarité_abad=%{y}<extra></extra>",
         "hovertext": [
          "de Courson Charles (75, 76)",
          "Lassalle Jean (60, 60)",
          "Pancher Bertrand (74, 74)",
          "Pinel Sylvia (76, 75)",
          "Clément Jean-Michel (70, 70)",
          "Pupponi François (64, 61)",
          "Lambert François-Michel (67, 67)",
          "Falorni Olivier (70, 70)",
          "Molac Paul (78, 74)",
          "Dubié Jeanine (81, 76)",
          "Castellani Michel (70, 72)",
          "Acquaviva Jean-Félix (72, 71)",
          "Colombani Paul-André (68, 69)",
          "Simian Benoit (73, 76)",
          "De Temmerman Jennifer (70, 70)",
          "Dumas Frédérique (82, 80)",
          "Wonner Martine (80, 76)",
          "Brial Sylvain (25, 24)"
         ],
         "legendgroup": "Libertés et Territoires",
         "marker": {
          "color": "#FFA15A",
          "symbol": "circle"
         },
         "mode": "markers",
         "name": "Libertés et Territoires",
         "orientation": "v",
         "showlegend": true,
         "type": "scatter",
         "x": [
          0.4,
          0.85,
          0.33783783783783783,
          0.5,
          0.4,
          0.5625,
          0.3582089552238805,
          0.48571428571428577,
          0.33333333333333326,
          0.49382716049382713,
          0.5571428571428572,
          0.5694444444444444,
          0.5441176470588235,
          0.136986301369863,
          0.22857142857142854,
          0.36585365853658536,
          0.1875,
          0.24
         ],
         "xaxis": "x",
         "y": [
          0.631578947368421,
          0.6,
          0.581081081081081,
          0.6133333333333333,
          0.5428571428571428,
          0.6557377049180327,
          0.5373134328358209,
          0.5857142857142857,
          0.5540540540540541,
          0.631578947368421,
          0.6388888888888888,
          0.6197183098591549,
          0.6086956521739131,
          0.39473684210526316,
          0.4,
          0.5125,
          0.4342105263157895,
          0.5833333333333334
         ],
         "yaxis": "y"
        },
        {
         "hovertemplate": "<b>%{hovertext}</b><br><br>parti=Non inscrit<br>similarité_ruffin=%{x}<br>similarité_abad=%{y}<extra></extra>",
         "hovertext": [
          "Dupont-Aignan Nicolas (70, 70)",
          "Batho Delphine (56, 53)",
          "Bagarry Delphine (77, 72)",
          "Tuffnell Frédérique (76, 79)",
          "de Courson Yolaine (74, 74)",
          "Meizonnet Nicolas (25, 24)",
          "Nadot Sébastien (62, 63)",
          "Gaillard Olivier (67, 68)",
          "Ménard Emmanuelle (89, 82)",
          "Orphelin Matthieu (79, 80)",
          "Cariou Émilie (79, 79)",
          "Chenu Sébastien (72, 71)",
          "Pajot Ludovic (77, 77)",
          "Le Pen Marine (75, 76)",
          "Evrard José (60, 59)",
          "Bilde Bruno (72, 72)",
          "Taché Aurélien (71, 72)",
          "Forteza Paula (69, 69)",
          "Son-Forget Joachim (71, 71)",
          "Gaillot Albane (76, 72)",
          "Lorho Marie-France (69, 69)",
          "Chiche Guillaume (71, 71)",
          "Villani Cédric (73, 74)",
          "Julien-Laferrière Hubert (69, 71)"
         ],
         "legendgroup": "Non inscrit",
         "marker": {
          "color": "#19d3f3",
          "symbol": "circle"
         },
         "mode": "markers",
         "name": "Non inscrit",
         "orientation": "v",
         "showlegend": true,
         "type": "scatter",
         "x": [
          0.7285714285714285,
          0.6785714285714286,
          0.19480519480519476,
          0.17105263157894735,
          0.17567567567567566,
          0.52,
          0.32258064516129026,
          0.13432835820895517,
          0.5280898876404494,
          0.240506329113924,
          0.21518987341772156,
          0.6527777777777778,
          0.6103896103896104,
          0.64,
          0.7666666666666667,
          0.6388888888888888,
          0.22535211267605637,
          0.2028985507246377,
          0.23943661971830987,
          0.19736842105263164,
          0.5797101449275363,
          0.18309859154929575,
          0.20547945205479445,
          0.23188405797101452
         ],
         "xaxis": "x",
         "y": [
          0.5142857142857142,
          0.5849056603773585,
          0.4027777777777778,
          0.4430379746835442,
          0.41891891891891886,
          0.9583333333333334,
          0.39682539682539675,
          0.47058823529411764,
          0.7317073170731707,
          0.42500000000000004,
          0.36708860759493667,
          0.7183098591549296,
          0.7142857142857143,
          0.6842105263157895,
          0.4576271186440678,
          0.6805555555555556,
          0.41666666666666674,
          0.37681159420289856,
          0.43661971830985913,
          0.4027777777777778,
          0.6666666666666666,
          0.3943661971830985,
          0.4054054054054055,
          0.3943661971830985
         ],
         "yaxis": "y"
        },
        {
         "hovertemplate": "<b>%{hovertext}</b><br><br>parti=Mouvement Démocrate (MoDem) et Démocrates apparentés<br>similarité_ruffin=%{x}<br>similarité_abad=%{y}<extra></extra>",
         "hovertext": [
          "Fanget Michel (70, 69)",
          "Favennec Becot Yannick (75, 74)",
          "Vigier Philippe (81, 78)",
          "de Sarnez Marielle (76, 75)",
          "Laqhila Mohamed (73, 71)",
          "Blanchet Christophe (82, 79)",
          "Essayan Nadia (77, 79)",
          "Jerretie Christophe (72, 76)",
          "Joncour Bruno (76, 74)",
          "Cubertafon Jean-Pierre (74, 73)",
          "Berta Philippe (74, 73)",
          "Lagleize Jean-Luc (75, 75)",
          "Balanant Erwan (83, 82)",
          "Mette Sophie (76, 76)",
          "Thillaye Sabine (69, 68)",
          "Jacquier-Laforge Élodie (77, 78)",
          "Lainé Fabien (76, 73)",
          "Baudu Stéphane (51, 53)",
          "Josso Sandrine (69, 70)",
          "Ramos Richard (72, 70)",
          "Bolo Philippe (75, 75)",
          "Garcia Laurent (75, 74)",
          "Bannier Géraldine (81, 78)",
          "Hammouche Brahim (71, 70)",
          "Pahun Jimmy (78, 77)",
          "Goulet Perrine (75, 77)",
          "Deprez-Audebert Marguerite (80, 79)",
          "Duvergé Bruno (71, 72)",
          "Vichnievsky Laurence (76, 74)",
          "Poueyto Josy (76, 76)",
          "Mattei Jean-Paul (79, 80)",
          "Waserman Sylvain (81, 78)",
          "Lasserre Florence (72, 72)",
          "Bru Vincent (74, 72)",
          "Benin Justine (72, 72)",
          "Mathiasin Max (71, 72)",
          "Petit Frédéric (69, 68)",
          "Petit Maud (79, 79)",
          "Brocard Blandine (75, 73)",
          "Fontenel-Personne Pascale (79, 76)",
          "Mignola Patrick (75, 71)",
          "Luquet Aude (77, 74)",
          "Bourlanges Jean-Louis (75, 75)",
          "Michel-Kleisbauer Philippe (74, 76)",
          "Florennes Isabelle (84, 80)",
          "Crouzet Michèle (77, 76)",
          "Barrot Jean-Noël (76, 75)",
          "de Vaucouleurs Michèle (77, 75)",
          "Millienne Bruno (79, 77)",
          "Latombe Philippe (75, 74)",
          "Loiseau Patrick (35, 37)",
          "Turquois Nicolas (78, 74)",
          "Fuchs Bruno (77, 73)",
          "Isaac-Sibille Cyrille (72, 68)"
         ],
         "legendgroup": "Mouvement Démocrate (MoDem) et Démocrates apparentés",
         "marker": {
          "color": "#FF6692",
          "symbol": "circle"
         },
         "mode": "markers",
         "name": "Mouvement Démocrate (MoDem) et Démocrates apparentés",
         "orientation": "v",
         "showlegend": true,
         "type": "scatter",
         "x": [
          0.0714285714285714,
          0.3733333333333333,
          0.2962962962962963,
          0.09210526315789469,
          0.09589041095890405,
          0.09756097560975607,
          0.10389610389610393,
          0.09722222222222221,
          0.09210526315789469,
          0.08108108108108114,
          0.08108108108108114,
          0.09333333333333338,
          0.12048192771084332,
          0.09210526315789469,
          0.13043478260869568,
          0.10389610389610393,
          0.09210526315789469,
          0.0980392156862745,
          0.24637681159420288,
          0.11111111111111116,
          0.09333333333333338,
          0.09333333333333338,
          0.09876543209876543,
          0.11267605633802813,
          0.10256410256410253,
          0.09333333333333338,
          0.08750000000000002,
          0.09859154929577463,
          0.09210526315789469,
          0.11842105263157898,
          0.08860759493670889,
          0.08641975308641969,
          0.08333333333333337,
          0.1216216216216216,
          0.09722222222222221,
          0.11267605633802813,
          0.10144927536231885,
          0.11392405063291133,
          0.09333333333333338,
          0.08860759493670889,
          0.09333333333333338,
          0.07792207792207795,
          0.09333333333333338,
          0.09459459459459463,
          0.09523809523809523,
          0.09090909090909094,
          0.09210526315789469,
          0.09090909090909094,
          0.08860759493670889,
          0.12,
          0.1428571428571428,
          0.08974358974358976,
          0.09090909090909094,
          0.09722222222222221
         ],
         "xaxis": "x",
         "y": [
          0.42028985507246375,
          0.6351351351351351,
          0.6410256410256411,
          0.42666666666666675,
          0.43661971830985913,
          0.40506329113924044,
          0.4430379746835442,
          0.381578947368421,
          0.43243243243243246,
          0.42465753424657526,
          0.42465753424657526,
          0.41333333333333333,
          0.4390243902439024,
          0.4342105263157895,
          0.42647058823529416,
          0.39743589743589736,
          0.410958904109589,
          0.4716981132075472,
          0.5142857142857142,
          0.4285714285714286,
          0.45333333333333337,
          0.4054054054054055,
          0.4487179487179487,
          0.41428571428571437,
          0.38961038961038963,
          0.4025974025974026,
          0.4430379746835442,
          0.4305555555555556,
          0.41891891891891886,
          0.4342105263157895,
          0.4125,
          0.42307692307692313,
          0.4444444444444444,
          0.4444444444444444,
          0.4444444444444444,
          0.41666666666666674,
          0.42647058823529416,
          0.4303797468354431,
          0.42465753424657526,
          0.4078947368421053,
          0.3943661971830985,
          0.41891891891891886,
          0.4,
          0.39473684210526316,
          0.4125,
          0.4078947368421053,
          0.42666666666666675,
          0.41333333333333333,
          0.4415584415584415,
          0.4054054054054055,
          0.5135135135135135,
          0.41891891891891886,
          0.4383561643835616,
          0.42647058823529416
         ],
         "yaxis": "y"
        },
        {
         "hovertemplate": "<b>%{hovertext}</b><br><br>parti=La France insoumise<br>similarité_ruffin=%{x}<br>similarité_abad=%{y}<extra></extra>",
         "hovertext": [
          "Mélenchon Jean-Luc (87, 80)",
          "Autain Clémentine (83, 81)",
          "Taurine Bénédicte (82, 79)",
          "Larive Michel (81, 80)",
          "Prud'homme Loïc (79, 80)",
          "Ressiguier Muriel (77, 78)",
          "Fiat Caroline (81, 83)",
          "Quatennens Adrien (80, 79)",
          "Bernalicis Ugo (83, 78)",
          "Lachaud Bastien (84, 79)",
          "Panot Mathilde (86, 80)",
          "Ratenon Jean-Hugues (82, 77)",
          "Coquerel Éric (85, 79)",
          "Corbière Alexis (81, 78)",
          "Rubin Sabine (80, 79)",
          "Obono Danièle (84, 81)",
          "Ruffin François (94, 78)"
         ],
         "legendgroup": "La France insoumise",
         "marker": {
          "color": "#B6E880",
          "symbol": "circle"
         },
         "mode": "markers",
         "name": "La France insoumise",
         "orientation": "v",
         "showlegend": true,
         "type": "scatter",
         "x": [
          0.9885057471264368,
          1,
          1,
          1,
          1,
          0.987012987012987,
          1,
          1,
          1,
          1,
          1,
          0.9878048780487805,
          1,
          1,
          1,
          1,
          1
         ],
         "xaxis": "x",
         "y": [
          0.48750000000000004,
          0.4814814814814814,
          0.4810126582278481,
          0.48750000000000004,
          0.5,
          0.4871794871794872,
          0.49397590361445776,
          0.49367088607594933,
          0.5128205128205128,
          0.49367088607594933,
          0.48750000000000004,
          0.49350649350649345,
          0.49367088607594933,
          0.5,
          0.49367088607594933,
          0.49382716049382713,
          0.4871794871794872
         ],
         "yaxis": "y"
        },
        {
         "hovertemplate": "<b>%{hovertext}</b><br><br>parti=UDI et Indépendants<br>similarité_ruffin=%{x}<br>similarité_abad=%{y}<extra></extra>",
         "hovertext": [
          "Warsmann Jean-Luc (72, 71)",
          "Morel-À-L'Huissier Pierre (80, 77)",
          "Zumkeller Michel (78, 74)",
          "Bricout Guy (82, 77)",
          "Lagarde Jean-Christophe (76, 70)",
          "Benoit Thierry (85, 83)",
          "Brindeau Pascal (50, 49)",
          "Villiers André (68, 70)",
          "Gomès Philippe (74, 73)",
          "Habib Meyer (68, 67)",
          "Auconie Sophie (83, 79)",
          "Thill Agnès (80, 79)",
          "Descamps Béatrice (81, 76)",
          "Dunoyer Philippe (72, 72)",
          "Sanquer Nicole (74, 72)",
          "Naegelen Christophe (82, 79)"
         ],
         "legendgroup": "UDI et Indépendants",
         "marker": {
          "color": "#FF97FF",
          "symbol": "circle"
         },
         "mode": "markers",
         "name": "UDI et Indépendants",
         "orientation": "v",
         "showlegend": true,
         "type": "scatter",
         "x": [
          0.125,
          0.26249999999999996,
          0.33333333333333326,
          0.3292682926829269,
          0.30263157894736836,
          0.19999999999999996,
          0.30000000000000004,
          0.27941176470588236,
          0.20270270270270274,
          0.2941176470588236,
          0.20481927710843373,
          0.16249999999999998,
          0.2716049382716049,
          0.19444444444444442,
          0.17567567567567566,
          0.3414634146341464
         ],
         "xaxis": "x",
         "y": [
          0.43661971830985913,
          0.5064935064935064,
          0.5540540540540541,
          0.6103896103896104,
          0.5428571428571428,
          0.5060240963855421,
          0.6122448979591837,
          0.5714285714285714,
          0.5205479452054794,
          0.6567164179104478,
          0.4810126582278481,
          0.5063291139240507,
          0.5657894736842105,
          0.5416666666666666,
          0.4444444444444444,
          0.6582278481012658
         ],
         "yaxis": "y"
        },
        {
         "hovertemplate": "<b>%{hovertext}</b><br><br>parti=Agir ensemble<br>similarité_ruffin=%{x}<br>similarité_abad=%{y}<extra></extra>",
         "hovertext": [
          "Herth Antoine (80, 76)",
          "Firmin Le Bodo Agnès (85, 80)",
          "de La Raudière Laure (78, 75)",
          "Christophe Paul (84, 82)",
          "Becht Olivier (80, 77)",
          "Sage Maina (67, 67)",
          "Ledoux Vincent (66, 66)",
          "Larsonneur Jean-Charles (75, 72)",
          "Chapelier Annie (76, 76)",
          "Euzet Christophe (77, 75)",
          "Huppé Philippe (75, 74)",
          "Kuric Aina (76, 75)",
          "Magnier Lise (84, 80)",
          "Houbron Dimitri (78, 71)",
          "Petit Valérie (77, 75)",
          "Potterie Benoit (78, 78)",
          "El Guerrab M'jid (71, 71)",
          "Lemoine Patricia (52, 53)",
          "Bournazel Pierre-Yves (82, 79)",
          "Gassilloud Thomas (71, 71)"
         ],
         "legendgroup": "Agir ensemble",
         "marker": {
          "color": "#FECB52",
          "symbol": "circle"
         },
         "mode": "markers",
         "name": "Agir ensemble",
         "orientation": "v",
         "showlegend": true,
         "type": "scatter",
         "x": [
          0.17500000000000004,
          0.16470588235294115,
          0.1923076923076923,
          0.2142857142857143,
          0.15000000000000002,
          0.13432835820895517,
          0.19696969696969702,
          0.10666666666666669,
          0.1842105263157895,
          0.09090909090909094,
          0.07999999999999996,
          0.09210526315789469,
          0.16666666666666663,
          0.10256410256410253,
          0.10389610389610393,
          0.10256410256410253,
          0.11267605633802813,
          0.11538461538461542,
          0.1097560975609756,
          0.09859154929577463
         ],
         "xaxis": "x",
         "y": [
          0.5,
          0.48750000000000004,
          0.4933333333333334,
          0.5365853658536586,
          0.46753246753246747,
          0.5074626865671642,
          0.43939393939393945,
          0.38888888888888884,
          0.4342105263157895,
          0.4,
          0.4054054054054055,
          0.3733333333333333,
          0.5125,
          0.3661971830985915,
          0.4,
          0.4487179487179487,
          0.4084507042253521,
          0.4528301886792453,
          0.3924050632911392,
          0.4225352112676056
         ],
         "yaxis": "y"
        }
       ],
       "layout": {
        "legend": {
         "title": {
          "text": "parti"
         },
         "tracegroupgap": 0
        },
        "margin": {
         "t": 60
        },
        "template": {
         "data": {
          "bar": [
           {
            "error_x": {
             "color": "#2a3f5f"
            },
            "error_y": {
             "color": "#2a3f5f"
            },
            "marker": {
             "line": {
              "color": "#E5ECF6",
              "width": 0.5
             }
            },
            "type": "bar"
           }
          ],
          "barpolar": [
           {
            "marker": {
             "line": {
              "color": "#E5ECF6",
              "width": 0.5
             }
            },
            "type": "barpolar"
           }
          ],
          "carpet": [
           {
            "aaxis": {
             "endlinecolor": "#2a3f5f",
             "gridcolor": "white",
             "linecolor": "white",
             "minorgridcolor": "white",
             "startlinecolor": "#2a3f5f"
            },
            "baxis": {
             "endlinecolor": "#2a3f5f",
             "gridcolor": "white",
             "linecolor": "white",
             "minorgridcolor": "white",
             "startlinecolor": "#2a3f5f"
            },
            "type": "carpet"
           }
          ],
          "choropleth": [
           {
            "colorbar": {
             "outlinewidth": 0,
             "ticks": ""
            },
            "type": "choropleth"
           }
          ],
          "contour": [
           {
            "colorbar": {
             "outlinewidth": 0,
             "ticks": ""
            },
            "colorscale": [
             [
              0,
              "#0d0887"
             ],
             [
              0.1111111111111111,
              "#46039f"
             ],
             [
              0.2222222222222222,
              "#7201a8"
             ],
             [
              0.3333333333333333,
              "#9c179e"
             ],
             [
              0.4444444444444444,
              "#bd3786"
             ],
             [
              0.5555555555555556,
              "#d8576b"
             ],
             [
              0.6666666666666666,
              "#ed7953"
             ],
             [
              0.7777777777777778,
              "#fb9f3a"
             ],
             [
              0.8888888888888888,
              "#fdca26"
             ],
             [
              1,
              "#f0f921"
             ]
            ],
            "type": "contour"
           }
          ],
          "contourcarpet": [
           {
            "colorbar": {
             "outlinewidth": 0,
             "ticks": ""
            },
            "type": "contourcarpet"
           }
          ],
          "heatmap": [
           {
            "colorbar": {
             "outlinewidth": 0,
             "ticks": ""
            },
            "colorscale": [
             [
              0,
              "#0d0887"
             ],
             [
              0.1111111111111111,
              "#46039f"
             ],
             [
              0.2222222222222222,
              "#7201a8"
             ],
             [
              0.3333333333333333,
              "#9c179e"
             ],
             [
              0.4444444444444444,
              "#bd3786"
             ],
             [
              0.5555555555555556,
              "#d8576b"
             ],
             [
              0.6666666666666666,
              "#ed7953"
             ],
             [
              0.7777777777777778,
              "#fb9f3a"
             ],
             [
              0.8888888888888888,
              "#fdca26"
             ],
             [
              1,
              "#f0f921"
             ]
            ],
            "type": "heatmap"
           }
          ],
          "heatmapgl": [
           {
            "colorbar": {
             "outlinewidth": 0,
             "ticks": ""
            },
            "colorscale": [
             [
              0,
              "#0d0887"
             ],
             [
              0.1111111111111111,
              "#46039f"
             ],
             [
              0.2222222222222222,
              "#7201a8"
             ],
             [
              0.3333333333333333,
              "#9c179e"
             ],
             [
              0.4444444444444444,
              "#bd3786"
             ],
             [
              0.5555555555555556,
              "#d8576b"
             ],
             [
              0.6666666666666666,
              "#ed7953"
             ],
             [
              0.7777777777777778,
              "#fb9f3a"
             ],
             [
              0.8888888888888888,
              "#fdca26"
             ],
             [
              1,
              "#f0f921"
             ]
            ],
            "type": "heatmapgl"
           }
          ],
          "histogram": [
           {
            "marker": {
             "colorbar": {
              "outlinewidth": 0,
              "ticks": ""
             }
            },
            "type": "histogram"
           }
          ],
          "histogram2d": [
           {
            "colorbar": {
             "outlinewidth": 0,
             "ticks": ""
            },
            "colorscale": [
             [
              0,
              "#0d0887"
             ],
             [
              0.1111111111111111,
              "#46039f"
             ],
             [
              0.2222222222222222,
              "#7201a8"
             ],
             [
              0.3333333333333333,
              "#9c179e"
             ],
             [
              0.4444444444444444,
              "#bd3786"
             ],
             [
              0.5555555555555556,
              "#d8576b"
             ],
             [
              0.6666666666666666,
              "#ed7953"
             ],
             [
              0.7777777777777778,
              "#fb9f3a"
             ],
             [
              0.8888888888888888,
              "#fdca26"
             ],
             [
              1,
              "#f0f921"
             ]
            ],
            "type": "histogram2d"
           }
          ],
          "histogram2dcontour": [
           {
            "colorbar": {
             "outlinewidth": 0,
             "ticks": ""
            },
            "colorscale": [
             [
              0,
              "#0d0887"
             ],
             [
              0.1111111111111111,
              "#46039f"
             ],
             [
              0.2222222222222222,
              "#7201a8"
             ],
             [
              0.3333333333333333,
              "#9c179e"
             ],
             [
              0.4444444444444444,
              "#bd3786"
             ],
             [
              0.5555555555555556,
              "#d8576b"
             ],
             [
              0.6666666666666666,
              "#ed7953"
             ],
             [
              0.7777777777777778,
              "#fb9f3a"
             ],
             [
              0.8888888888888888,
              "#fdca26"
             ],
             [
              1,
              "#f0f921"
             ]
            ],
            "type": "histogram2dcontour"
           }
          ],
          "mesh3d": [
           {
            "colorbar": {
             "outlinewidth": 0,
             "ticks": ""
            },
            "type": "mesh3d"
           }
          ],
          "parcoords": [
           {
            "line": {
             "colorbar": {
              "outlinewidth": 0,
              "ticks": ""
             }
            },
            "type": "parcoords"
           }
          ],
          "pie": [
           {
            "automargin": true,
            "type": "pie"
           }
          ],
          "scatter": [
           {
            "marker": {
             "colorbar": {
              "outlinewidth": 0,
              "ticks": ""
             }
            },
            "type": "scatter"
           }
          ],
          "scatter3d": [
           {
            "line": {
             "colorbar": {
              "outlinewidth": 0,
              "ticks": ""
             }
            },
            "marker": {
             "colorbar": {
              "outlinewidth": 0,
              "ticks": ""
             }
            },
            "type": "scatter3d"
           }
          ],
          "scattercarpet": [
           {
            "marker": {
             "colorbar": {
              "outlinewidth": 0,
              "ticks": ""
             }
            },
            "type": "scattercarpet"
           }
          ],
          "scattergeo": [
           {
            "marker": {
             "colorbar": {
              "outlinewidth": 0,
              "ticks": ""
             }
            },
            "type": "scattergeo"
           }
          ],
          "scattergl": [
           {
            "marker": {
             "colorbar": {
              "outlinewidth": 0,
              "ticks": ""
             }
            },
            "type": "scattergl"
           }
          ],
          "scattermapbox": [
           {
            "marker": {
             "colorbar": {
              "outlinewidth": 0,
              "ticks": ""
             }
            },
            "type": "scattermapbox"
           }
          ],
          "scatterpolar": [
           {
            "marker": {
             "colorbar": {
              "outlinewidth": 0,
              "ticks": ""
             }
            },
            "type": "scatterpolar"
           }
          ],
          "scatterpolargl": [
           {
            "marker": {
             "colorbar": {
              "outlinewidth": 0,
              "ticks": ""
             }
            },
            "type": "scatterpolargl"
           }
          ],
          "scatterternary": [
           {
            "marker": {
             "colorbar": {
              "outlinewidth": 0,
              "ticks": ""
             }
            },
            "type": "scatterternary"
           }
          ],
          "surface": [
           {
            "colorbar": {
             "outlinewidth": 0,
             "ticks": ""
            },
            "colorscale": [
             [
              0,
              "#0d0887"
             ],
             [
              0.1111111111111111,
              "#46039f"
             ],
             [
              0.2222222222222222,
              "#7201a8"
             ],
             [
              0.3333333333333333,
              "#9c179e"
             ],
             [
              0.4444444444444444,
              "#bd3786"
             ],
             [
              0.5555555555555556,
              "#d8576b"
             ],
             [
              0.6666666666666666,
              "#ed7953"
             ],
             [
              0.7777777777777778,
              "#fb9f3a"
             ],
             [
              0.8888888888888888,
              "#fdca26"
             ],
             [
              1,
              "#f0f921"
             ]
            ],
            "type": "surface"
           }
          ],
          "table": [
           {
            "cells": {
             "fill": {
              "color": "#EBF0F8"
             },
             "line": {
              "color": "white"
             }
            },
            "header": {
             "fill": {
              "color": "#C8D4E3"
             },
             "line": {
              "color": "white"
             }
            },
            "type": "table"
           }
          ]
         },
         "layout": {
          "annotationdefaults": {
           "arrowcolor": "#2a3f5f",
           "arrowhead": 0,
           "arrowwidth": 1
          },
          "coloraxis": {
           "colorbar": {
            "outlinewidth": 0,
            "ticks": ""
           }
          },
          "colorscale": {
           "diverging": [
            [
             0,
             "#8e0152"
            ],
            [
             0.1,
             "#c51b7d"
            ],
            [
             0.2,
             "#de77ae"
            ],
            [
             0.3,
             "#f1b6da"
            ],
            [
             0.4,
             "#fde0ef"
            ],
            [
             0.5,
             "#f7f7f7"
            ],
            [
             0.6,
             "#e6f5d0"
            ],
            [
             0.7,
             "#b8e186"
            ],
            [
             0.8,
             "#7fbc41"
            ],
            [
             0.9,
             "#4d9221"
            ],
            [
             1,
             "#276419"
            ]
           ],
           "sequential": [
            [
             0,
             "#0d0887"
            ],
            [
             0.1111111111111111,
             "#46039f"
            ],
            [
             0.2222222222222222,
             "#7201a8"
            ],
            [
             0.3333333333333333,
             "#9c179e"
            ],
            [
             0.4444444444444444,
             "#bd3786"
            ],
            [
             0.5555555555555556,
             "#d8576b"
            ],
            [
             0.6666666666666666,
             "#ed7953"
            ],
            [
             0.7777777777777778,
             "#fb9f3a"
            ],
            [
             0.8888888888888888,
             "#fdca26"
            ],
            [
             1,
             "#f0f921"
            ]
           ],
           "sequentialminus": [
            [
             0,
             "#0d0887"
            ],
            [
             0.1111111111111111,
             "#46039f"
            ],
            [
             0.2222222222222222,
             "#7201a8"
            ],
            [
             0.3333333333333333,
             "#9c179e"
            ],
            [
             0.4444444444444444,
             "#bd3786"
            ],
            [
             0.5555555555555556,
             "#d8576b"
            ],
            [
             0.6666666666666666,
             "#ed7953"
            ],
            [
             0.7777777777777778,
             "#fb9f3a"
            ],
            [
             0.8888888888888888,
             "#fdca26"
            ],
            [
             1,
             "#f0f921"
            ]
           ]
          },
          "colorway": [
           "#636efa",
           "#EF553B",
           "#00cc96",
           "#ab63fa",
           "#FFA15A",
           "#19d3f3",
           "#FF6692",
           "#B6E880",
           "#FF97FF",
           "#FECB52"
          ],
          "font": {
           "color": "#2a3f5f"
          },
          "geo": {
           "bgcolor": "white",
           "lakecolor": "white",
           "landcolor": "#E5ECF6",
           "showlakes": true,
           "showland": true,
           "subunitcolor": "white"
          },
          "hoverlabel": {
           "align": "left"
          },
          "hovermode": "closest",
          "mapbox": {
           "style": "light"
          },
          "paper_bgcolor": "white",
          "plot_bgcolor": "#E5ECF6",
          "polar": {
           "angularaxis": {
            "gridcolor": "white",
            "linecolor": "white",
            "ticks": ""
           },
           "bgcolor": "#E5ECF6",
           "radialaxis": {
            "gridcolor": "white",
            "linecolor": "white",
            "ticks": ""
           }
          },
          "scene": {
           "xaxis": {
            "backgroundcolor": "#E5ECF6",
            "gridcolor": "white",
            "gridwidth": 2,
            "linecolor": "white",
            "showbackground": true,
            "ticks": "",
            "zerolinecolor": "white"
           },
           "yaxis": {
            "backgroundcolor": "#E5ECF6",
            "gridcolor": "white",
            "gridwidth": 2,
            "linecolor": "white",
            "showbackground": true,
            "ticks": "",
            "zerolinecolor": "white"
           },
           "zaxis": {
            "backgroundcolor": "#E5ECF6",
            "gridcolor": "white",
            "gridwidth": 2,
            "linecolor": "white",
            "showbackground": true,
            "ticks": "",
            "zerolinecolor": "white"
           }
          },
          "shapedefaults": {
           "line": {
            "color": "#2a3f5f"
           }
          },
          "ternary": {
           "aaxis": {
            "gridcolor": "white",
            "linecolor": "white",
            "ticks": ""
           },
           "baxis": {
            "gridcolor": "white",
            "linecolor": "white",
            "ticks": ""
           },
           "bgcolor": "#E5ECF6",
           "caxis": {
            "gridcolor": "white",
            "linecolor": "white",
            "ticks": ""
           }
          },
          "title": {
           "x": 0.05
          },
          "xaxis": {
           "automargin": true,
           "gridcolor": "white",
           "linecolor": "white",
           "ticks": "",
           "title": {
            "standoff": 15
           },
           "zerolinecolor": "white",
           "zerolinewidth": 2
          },
          "yaxis": {
           "automargin": true,
           "gridcolor": "white",
           "linecolor": "white",
           "ticks": "",
           "title": {
            "standoff": 15
           },
           "zerolinecolor": "white",
           "zerolinewidth": 2
          }
         }
        },
        "xaxis": {
         "anchor": "y",
         "domain": [
          0,
          1
         ],
         "title": {
          "text": "similarité_ruffin"
         }
        },
        "yaxis": {
         "anchor": "x",
         "domain": [
          0,
          1
         ],
         "title": {
          "text": "similarité_abad"
         }
        }
       }
      },
      "text/html": [
       "<div>                            <div id=\"44578d6d-59e5-48ea-99de-cface118cf02\" class=\"plotly-graph-div\" style=\"height:525px; width:100%;\"></div>            <script type=\"text/javascript\">                require([\"plotly\"], function(Plotly) {                    window.PLOTLYENV=window.PLOTLYENV || {};                                    if (document.getElementById(\"44578d6d-59e5-48ea-99de-cface118cf02\")) {                    Plotly.newPlot(                        \"44578d6d-59e5-48ea-99de-cface118cf02\",                        [{\"hovertemplate\": \"<b>%{hovertext}</b><br><br>parti=Socialistes et apparent\\u00e9s<br>similarit\\u00e9_ruffin=%{x}<br>similarit\\u00e9_abad=%{y}<extra></extra>\", \"hovertext\": [\"Bi\\u00e9mouret Gis\\u00e8le (73, 72)\", \"David Alain (73, 76)\", \"Dumont Laurence (76, 76)\", \"Habib David (76, 76)\", \"Lambert J\\u00e9r\\u00f4me (76, 75)\", \"Juanico R\\u00e9gis (77, 75)\", \"Garot Guillaume (76, 75)\", \"Hutin Christian (73, 73)\", \"Karamanli Marietta (78, 75)\", \"Pau-Langevin George (78, 75)\", \"Letchimy Serge (73, 73)\", \"Saulignac Herv\\u00e9 (80, 77)\", \"Victory Mich\\u00e8le (66, 64)\", \"Rouaux Claudia (26, 26)\", \"Battistel Marie-No\\u00eblle (76, 76)\", \"Bricout Jean-Louis (76, 76)\", \"Potier Dominique (80, 79)\", \"Pires Beaune Christine (84, 81)\", \"Untermaier C\\u00e9cile (76, 76)\", \"Tolmont Sylvie (55, 54)\", \"Faure Olivier (79, 77)\", \"Rabault Val\\u00e9rie (80, 79)\", \"Aviragnet Jo\\u00ebl (72, 72)\", \"Vainqueur-Christophe H\\u00e9l\\u00e8ne (73, 74)\", \"Vallaud Boris (80, 75)\", \"Manin Josette (72, 73)\"], \"legendgroup\": \"Socialistes et apparent\\u00e9s\", \"marker\": {\"color\": \"#636efa\", \"symbol\": \"circle\"}, \"mode\": \"markers\", \"name\": \"Socialistes et apparent\\u00e9s\", \"orientation\": \"v\", \"showlegend\": true, \"type\": \"scatter\", \"x\": [0.684931506849315, 0.7123287671232876, 0.6842105263157895, 0.6842105263157895, 0.7236842105263158, 0.6753246753246753, 0.6842105263157895, 0.7397260273972602, 0.7051282051282052, 0.717948717948718, 0.684931506849315, 0.6875, 0.696969696969697, 0.6923076923076923, 0.6578947368421053, 0.6973684210526315, 0.6875, 0.6547619047619048, 0.6052631578947368, 0.7090909090909091, 0.6962025316455697, 0.7, 0.6805555555555556, 0.684931506849315, 0.7, 0.7083333333333334], \"xaxis\": \"x\", \"y\": [0.6527777777777778, 0.618421052631579, 0.618421052631579, 0.6710526315789473, 0.6666666666666666, 0.6533333333333333, 0.6533333333333333, 0.6438356164383562, 0.6133333333333333, 0.6533333333333333, 0.6712328767123288, 0.6493506493506493, 0.65625, 0.5769230769230769, 0.6447368421052632, 0.6447368421052632, 0.6455696202531646, 0.6296296296296297, 0.6052631578947368, 0.6666666666666666, 0.6233766233766234, 0.6329113924050633, 0.625, 0.6486486486486487, 0.6266666666666667, 0.6301369863013698], \"yaxis\": \"y\"}, {\"hovertemplate\": \"<b>%{hovertext}</b><br><br>parti=La R\\u00e9publique en Marche<br>similarit\\u00e9_ruffin=%{x}<br>similarit\\u00e9_abad=%{y}<extra></extra>\", \"hovertext\": [\"Bridey Jean-Jacques (79, 77)\", \"Pont Jean-Pierre (75, 74)\", \"Tourret Alain (73, 73)\", \"Iborra Monique (77, 76)\", \"de Rugy Fran\\u00e7ois (64, 63)\", \"Maquet Jacqueline (74, 75)\", \"Touraine Jean-Louis (74, 75)\", \"Rouillard Gwendal (74, 74)\", \"Sol\\u00e8re Thierry (77, 77)\", \"Krabal Jacques (72, 72)\", \"Alauzet \\u00c9ric (77, 76)\", \"Ferrand Richard (90, 85)\", \"Dumas Fran\\u00e7oise (76, 76)\", \"Boudi\\u00e9 Florent (73, 76)\", \"Vignal Patrick (73, 72)\", \"Daniel Yves (73, 73)\", \"Errante Sophie (73, 74)\", \"Travert St\\u00e9phane (52, 51)\", \"Pellois Herv\\u00e9 (76, 78)\", \"Blein Yves (78, 75)\", \"Bothorel \\u00c9ric (80, 77)\", \"Barbier Fr\\u00e9d\\u00e9ric (75, 76)\", \"Questel Bruno (82, 79)\", \"Dupont Stella (82, 82)\", \"Lang Anne-Christine (78, 72)\", \"Mazars St\\u00e9phane (80, 76)\", \"Claireaux St\\u00e9phane (73, 70)\", \"Mahjoubi Mounir (42, 42)\", \"Maillard Sylvain (80, 78)\", \"Givernet Olga (83, 80)\", \"Trompille St\\u00e9phane (73, 74)\", \"Delatte Marc (78, 77)\", \"Boyer Pascale (80, 79)\", \"Vanceunebrock Laurence (71, 72)\", \"Peyrol B\\u00e9n\\u00e9dicte (83, 81)\", \"Bono-Vandorme Aude (75, 77)\", \"Valetta Ardisson Alexandra (70, 71)\", \"H\\u00e9rin Dani\\u00e8le (82, 79)\", \"Perea Alain (77, 75)\", \"Robert Mireille (83, 80)\", \"Besson-Moreau Gr\\u00e9gory (77, 76)\", \"Dombreval Lo\\u00efc (81, 79)\", \"Roussel C\\u00e9dric (80, 78)\", \"Pitollat Claire (69, 71)\", \"Louis Alexandra (71, 74)\", \"Petel Anne-Laurence (75, 73)\", \"Racon-Bouzon Cathy (76, 75)\", \"Ahamada Sa\\u00efd (79, 76)\", \"Zulesi Jean-Marc (77, 77)\", \"Blanc Anne (77, 75)\", \"Le Vigoureux Fabrice (81, 82)\", \"Bouyx Bertrand (81, 81)\", \"Kervran Lo\\u00efc (77, 76)\", \"Mesnier Thomas (77, 81)\", \"Marsaud Sandra (77, 76)\", \"Ardouin Jean-Philippe (74, 75)\", \"G\\u00e9rard Rapha\\u00ebl (78, 77)\", \"Cormier-Bouligeon Fran\\u00e7ois (78, 77)\", \"Michel Monica (79, 77)\", \"Martin Didier (77, 76)\", \"Dubois Jacqueline (82, 79)\", \"Charvier Fannette (84, 82)\", \"Khattabi Fadila (80, 77)\", \"Paris Didier (79, 76)\", \"Berville Herv\\u00e9 (75, 77)\", \"Kerlogot Yannick (79, 77)\", \"Moreau Jean-Baptiste (73, 75)\", \"Chassaing Philippe (75, 75)\", \"Delpon Michel (70, 69)\", \"Clapot Mireille (79, 76)\", \"Thourot Alice (75, 73)\", \"de Lavergne C\\u00e9lia (80, 81)\", \"Gipson S\\u00e9verine (83, 79)\", \"Gouttefarde Fabien (78, 78)\", \"Melchior Graziella (77, 74)\", \"Tamarelle-Verhaeghe Marie (75, 73)\", \"O'Petit Claire (76, 75)\", \"Kasbarian Guillaume (83, 80)\", \"Le Meur Anna\\u00efg (78, 77)\", \"Le Gac Didier (81, 78)\", \"Le Feur Sandrine (78, 77)\", \"Sommer Denis (75, 73)\", \"Cellier Anthony (76, 75)\", \"M\\u00f6rch Sandrine (77, 76)\", \"Cazeneuve Jean-Ren\\u00e9 (77, 78)\", \"Cabar\\u00e9 Pierre (80, 81)\", \"Vignon Corinne (74, 74)\", \"Nogal Micka\\u00ebl (72, 72)\", \"Portarrieu Jean-Fran\\u00e7ois (74, 73)\", \"Toutut-Picard \\u00c9lisabeth (75, 76)\", \"Tanguy Liliana (76, 76)\", \"Fabre Catherine (78, 79)\", \"Poulliat \\u00c9ric (77, 75)\", \"Couillard B\\u00e9rang\\u00e8re (77, 80)\", \"Panonacle Sophie (81, 79)\", \"Hammerer V\\u00e9ronique (81, 75)\", \"Dubos Christelle (33, 28)\", \"Mirall\\u00e8s Patricia (78, 76)\", \"Dubost Coralie (73, 72)\", \"Eliaou Jean-Fran\\u00e7ois (75, 76)\", \"David Dominique (74, 75)\", \"Maillart-M\\u00e9haignerie Laurence (77, 80)\", \"Le Bohec Ga\\u00ebl (84, 80)\", \"Galliard-Minier Camille (28, 27)\", \"Colas-Roy Jean-Charles (81, 80)\", \"Chalas \\u00c9milie (76, 75)\", \"Cloarec-Le Nabour Christine (85, 77)\", \"Bachelier Florian (75, 76)\", \"Jolivet Fran\\u00e7ois (73, 74)\", \"Chalumeau Philippe (77, 76)\", \"Labaronne Daniel (77, 79)\", \"Colboc Fabienne (78, 75)\", \"D\\u00e9moulin Nicolas (85, 81)\", \"Laabid Mustapha (67, 67)\", \"Motin Cendra (83, 80)\", \"Limon Monique (81, 77)\", \"Abadie Caroline (74, 74)\", \"Meynier-Millefert Marjolaine (74, 71)\", \"Brulebois Danielle (82, 83)\", \"Causse Lionel (84, 82)\", \"Mis Jean-Michel (80, 78)\", \"Faure-Muntian Val\\u00e9ria (79, 74)\", \"Sarles Nathalie (72, 72)\", \"Borowczyk Julien (80, 77)\", \"Kamowski Catherine (82, 80)\", \"Tiegna Huguette (80, 77)\", \"Lauzzana Michel (78, 77)\", \"Freschi Alexandre (74, 72)\", \"Dufeu Audrey (74, 73)\", \"Haury Yannick (73, 73)\", \"Rist St\\u00e9phanie (76, 78)\", \"Janvier Caroline (77, 75)\", \"Oppelt Val\\u00e9rie (79, 78)\", \"Brunet Anne-France (80, 77)\", \"Amadou Aude (78, 76)\", \"Saint-Paul Laetitia (82, 77)\", \"Mass\\u00e9glia Denis (76, 79)\", \"Dubr\\u00e9-Chirat Nicole (83, 78)\", \"Grandjean Carole (74, 72)\", \"Sorre Bertrand (75, 73)\", \"Krimi Sonia (70, 70)\", \"Girardin \\u00c9ric (81, 80)\", \"Damaisin Olivier (78, 75)\", \"Arend Christophe (73, 72)\", \"Zannier H\\u00e9l\\u00e8ne (72, 69)\", \"Le Peih Nicole (81, 82)\", \"Jacques Jean-Michel (79, 78)\", \"Belhaddad Belkhir (78, 77)\", \"Mendes Ludovic (74, 74)\", \"Lioger Richard (79, 75)\", \"Trisse Nicole (81, 78)\", \"Paluszkiewicz Xavier (75, 76)\", \"Perrot Patrice (70, 70)\", \"Di Pompeo Christophe (75, 75)\", \"Liso Brigitte (77, 76)\", \"Lecocq Charlotte (75, 75)\", \"Osson Catherine (80, 77)\", \"Morlighem Florence (30, 28)\", \"Cattelot Anne-Laure (79, 74)\", \"Rauch Isabelle (82, 80)\", \"Bois Pascal (81, 77)\", \"Bureau-Bonnard Carole (82, 76)\", \"Michels Thierry (80, 79)\", \"Studer Bruno (83, 78)\", \"Sempastous Jean-Bernard (81, 83)\", \"Grau Romain (72, 72)\", \"Gayte Laurence (79, 77)\", \"Cazenove S\\u00e9bastien (76, 76)\", \"Thomas Val\\u00e9rie (78, 76)\", \"Test\\u00e9 St\\u00e9phane (83, 76)\", \"Descrozaille Fr\\u00e9d\\u00e9ric (76, 76)\", \"Mbaye Jean Fran\\u00e7ois (71, 72)\", \"Saint-Martin Laurent (80, 76)\", \"Rilhac C\\u00e9cile (78, 76)\", \"Moutchou Na\\u00efma (77, 73)\", \"Lazaar Fiona (77, 76)\", \"Da Silva Dominique (78, 74)\", \"Park Zivka (80, 79)\", \"Serva Olivier (65, 67)\", \"Lakrafi Am\\u00e9lia (74, 71)\", \"Genetet Anne (80, 78)\", \"Adam L\\u00e9na\\u00efck (65, 65)\", \"Lescure Roland (81, 77)\", \"Holroyd Alexandre (77, 78)\", \"Anglade Pieyre-Alexandre (80, 78)\", \"Cazebonne Samantha (67, 70)\", \"Charri\\u00e8re Sylvie (78, 73)\", \"Vuilletet Guillaume (79, 76)\", \"Anato Patrice (71, 73)\", \"Gouffier-Cha Guillaume (80, 79)\", \"Brugnera Anne (79, 78)\", \"Bonnell Bruno (75, 71)\", \"Cazarian Dani\\u00e8le (74, 74)\", \"Gauvain Rapha\\u00ebl (74, 71)\", \"Pichereau Damien (71, 71)\", \"Degois Typhanie (71, 69)\", \"Riotton V\\u00e9ronique (80, 79)\", \"Lardet Fr\\u00e9d\\u00e9rique (82, 79)\", \"Lenne Marion (88, 85)\", \"Roseren Xavier (76, 75)\", \"Le Gendre Gilles (81, 82)\", \"Guerini Stanislas (82, 80)\", \"Kerbarh St\\u00e9phanie (80, 78)\", \"Batut Xavier (79, 77)\", \"Verdier-Jouclas Marie-Christine (84, 84)\", \"Griveaux Benjamin (42, 43)\", \"Person Pierre (70, 70)\", \"Terlier Jean (85, 81)\", \"Rossi Laurianne (77, 76)\", \"Rupin Pac\\u00f4me (79, 76)\", \"Avia Laetitia (78, 78)\", \"Kokouendo Rodrigue (77, 76)\", \"Muschotti C\\u00e9cile (75, 74)\", \"Atger St\\u00e9phanie (42, 43)\", \"Tan Buon (70, 70)\", \"Fauvergue Jean-Michel (77, 76)\", \"Peyron Mich\\u00e8le (85, 79)\", \"Do St\\u00e9phanie (77, 76)\", \"Mauborgne Sereine (80, 80)\", \"Calvez C\\u00e9line (81, 75)\", \"Baich\\u00e8re Didier (75, 72)\", \"Gomez-Bassac Val\\u00e9rie (75, 72)\", \"Guerel \\u00c9milie (78, 76)\", \"Matras Fabien (71, 73)\", \"Renson Hugues (85, 81)\", \"Piron B\\u00e9atrice (83, 81)\", \"Lebec Marie (79, 75)\", \"Zitouni Souad (23, 22)\", \"Gu\\u00e9venoux Marie (79, 78)\", \"Raphan Pierre-Alain (81, 80)\", \"Braun-Pivet Ya\\u00ebl (82, 78)\", \"Pouzyreff Natalia (75, 74)\", \"Marilossian Jacques (82, 80)\", \"Buchou St\\u00e9phane (78, 79)\", \"Leguille-Balloy Martine (76, 75)\", \"Romeiro Dias La\\u00ebtitia (80, 78)\", \"Adam Damien (76, 76)\", \"Berg\\u00e9 Aurore (82, 78)\", \"Granjus Florence (80, 76)\", \"Henriet Pierre (75, 77)\", \"P\\u00e9telle B\\u00e9n\\u00e9dicte (41, 39)\", \"Hennion Christine (84, 78)\", \"Vidal Annie (84, 78)\", \"Sylla Sira (78, 79)\", \"Fi\\u00e9vet Jean-Marie (75, 74)\", \"Houli\\u00e9 Sacha (76, 71)\", \"Beaudouin-Hubiere Sophie (81, 79)\", \"Maire Jacques (77, 77)\", \"Provendier Florence (54, 51)\", \"Leclabart Jean-Claude (83, 76)\", \"Venteau Pierre (31, 32)\", \"Magne Marie-Ange (76, 78)\", \"Rixain Marie-Pierre (76, 76)\", \"Rudigoz Thomas (73, 74)\", \"Khedher Anissa (69, 70)\", \"Bessot Ballot Barbara (75, 75)\", \"Lejeune Christophe (72, 73)\", \"Thi\\u00e9baut Vincent (77, 79)\", \"Fugit Jean-Luc (83, 80)\", \"Dirx Benjamin (79, 78)\", \"Rebeyrotte R\\u00e9my (81, 82)\", \"Ali Ramlati (74, 71)\", \"Chouat Francis (47, 49)\"], \"legendgroup\": \"La R\\u00e9publique en Marche\", \"marker\": {\"color\": \"#EF553B\", \"symbol\": \"circle\"}, \"mode\": \"markers\", \"name\": \"La R\\u00e9publique en Marche\", \"orientation\": \"v\", \"showlegend\": true, \"type\": \"scatter\", \"x\": [0.08860759493670889, 0.09333333333333338, 0.09589041095890405, 0.10389610389610393, 0.078125, 0.08108108108108114, 0.09459459459459463, 0.09459459459459463, 0.09090909090909094, 0.09722222222222221, 0.1298701298701299, 0.022222222222222254, 0.09210526315789469, 0.09589041095890405, 0.09589041095890405, 0.136986301369863, 0.09589041095890405, 0.09615384615384615, 0.09210526315789469, 0.07692307692307687, 0.08750000000000002, 0.10666666666666669, 0.09756097560975607, 0.07317073170731703, 0.08974358974358976, 0.08750000000000002, 0.12328767123287676, 0.11904761904761907, 0.08750000000000002, 0.0843373493975903, 0.09589041095890405, 0.08974358974358976, 0.08750000000000002, 0.09859154929577463, 0.0843373493975903, 0.09333333333333338, 0.09999999999999998, 0.08536585365853655, 0.10389610389610393, 0.0843373493975903, 0.09090909090909094, 0.09876543209876543, 0.08750000000000002, 0.1159420289855072, 0.09859154929577463, 0.09333333333333338, 0.10526315789473684, 0.08860759493670889, 0.09090909090909094, 0.09090909090909094, 0.09876543209876543, 0.09876543209876543, 0.10389610389610393, 0.09090909090909094, 0.09090909090909094, 0.09459459459459463, 0.10256410256410253, 0.08974358974358976, 0.08860759493670889, 0.10389610389610393, 0.08536585365853655, 0.08333333333333337, 0.08750000000000002, 0.07594936708860756, 0.09333333333333338, 0.11392405063291133, 0.09589041095890405, 0.10666666666666669, 0.09999999999999998, 0.08860759493670889, 0.09333333333333338, 0.09999999999999998, 0.0843373493975903, 0.08974358974358976, 0.09090909090909094, 0.07999999999999996, 0.09210526315789469, 0.0843373493975903, 0.08974358974358976, 0.08641975308641969, 0.1282051282051282, 0.10666666666666669, 0.10526315789473684, 0.09090909090909094, 0.09090909090909094, 0.11250000000000004, 0.09459459459459463, 0.08333333333333337, 0.09459459459459463, 0.09333333333333338, 0.09210526315789469, 0.08974358974358976, 0.09090909090909094, 0.09090909090909094, 0.11111111111111116, 0.07407407407407407, 0.06060606060606055, 0.07692307692307687, 0.09589041095890405, 0.09333333333333338, 0.08108108108108114, 0.09090909090909094, 0.09523809523809523, 0.1785714285714286, 0.09876543209876543, 0.10526315789473684, 0.08235294117647063, 0.09333333333333338, 0.09589041095890405, 0.09090909090909094, 0.09090909090909094, 0.10256410256410253, 0.08235294117647063, 0.08955223880597019, 0.0843373493975903, 0.08641975308641969, 0.08108108108108114, 0.09459459459459463, 0.08536585365853655, 0.1071428571428571, 0.08750000000000002, 0.08860759493670889, 0.11111111111111116, 0.08750000000000002, 0.08536585365853655, 0.08750000000000002, 0.08974358974358976, 0.09459459459459463, 0.09459459459459463, 0.0821917808219178, 0.09210526315789469, 0.07792207792207795, 0.08860759493670889, 0.11250000000000004, 0.08974358974358976, 0.07317073170731703, 0.07894736842105265, 0.0843373493975903, 0.09459459459459463, 0.09333333333333338, 0.08571428571428574, 0.08641975308641969, 0.08974358974358976, 0.09589041095890405, 0.09722222222222221, 0.08641975308641969, 0.08860759493670889, 0.08974358974358976, 0.09459459459459463, 0.08860759493670889, 0.08641975308641969, 0.10666666666666669, 0.09999999999999998, 0.09333333333333338, 0.09090909090909094, 0.09333333333333338, 0.08750000000000002, 0.16666666666666663, 0.10126582278481011, 0.08536585365853655, 0.09876543209876543, 0.08536585365853655, 0.08750000000000002, 0.0843373493975903, 0.08641975308641969, 0.09722222222222221, 0.08860759493670889, 0.09210526315789469, 0.08974358974358976, 0.0843373493975903, 0.09210526315789469, 0.11267605633802813, 0.08750000000000002, 0.08974358974358976, 0.09090909090909094, 0.09090909090909094, 0.10256410256410253, 0.08750000000000002, 0.09230769230769231, 0.09459459459459463, 0.08750000000000002, 0.09230769230769231, 0.08641975308641969, 0.09090909090909094, 0.07499999999999996, 0.07462686567164178, 0.08974358974358976, 0.07594936708860756, 0.08450704225352113, 0.08750000000000002, 0.07594936708860756, 0.09333333333333338, 0.10810810810810811, 0.09459459459459463, 0.08450704225352113, 0.08450704225352113, 0.08750000000000002, 0.09756097560975607, 0.09090909090909094, 0.10526315789473684, 0.08641975308641969, 0.08536585365853655, 0.08750000000000002, 0.08860759493670889, 0.08333333333333337, 0.11904761904761907, 0.09999999999999998, 0.08235294117647063, 0.07792207792207795, 0.08860759493670889, 0.08974358974358976, 0.09090909090909094, 0.09333333333333338, 0.11904761904761907, 0.08571428571428574, 0.09090909090909094, 0.09411764705882353, 0.09090909090909094, 0.08750000000000002, 0.07407407407407407, 0.07999999999999996, 0.09333333333333338, 0.08974358974358976, 0.09859154929577463, 0.08235294117647063, 0.09638554216867468, 0.08860759493670889, 0.17391304347826086, 0.08860759493670889, 0.08641975308641969, 0.08536585365853655, 0.09333333333333338, 0.08536585365853655, 0.08974358974358976, 0.09210526315789469, 0.08750000000000002, 0.09210526315789469, 0.08536585365853655, 0.08750000000000002, 0.09333333333333338, 0.12195121951219512, 0.08333333333333337, 0.08333333333333337, 0.08974358974358976, 0.09333333333333338, 0.09210526315789469, 0.08641975308641969, 0.09090909090909094, 0.09259259259259256, 0.09638554216867468, 0.16129032258064513, 0.09210526315789469, 0.09210526315789469, 0.09589041095890405, 0.10144927536231885, 0.09333333333333338, 0.08333333333333337, 0.07792207792207795, 0.0843373493975903, 0.08860759493670889, 0.08641975308641969, 0.06756756756756754, 0.1063829787234043], \"xaxis\": \"x\", \"y\": [0.4155844155844156, 0.41891891891891886, 0.410958904109589, 0.39473684210526316, 0.31746031746031744, 0.41333333333333333, 0.3866666666666667, 0.4054054054054055, 0.4025974025974026, 0.4027777777777778, 0.368421052631579, 0.11764705882352944, 0.39473684210526316, 0.42105263157894735, 0.41666666666666674, 0.4383561643835616, 0.41891891891891886, 0.43137254901960786, 0.42307692307692313, 0.41333333333333333, 0.4155844155844156, 0.39473684210526316, 0.40506329113924044, 0.41463414634146334, 0.375, 0.39473684210526316, 0.4, 0.5, 0.39743589743589736, 0.42500000000000004, 0.4054054054054055, 0.4155844155844156, 0.40506329113924044, 0.375, 0.41975308641975306, 0.4545454545454546, 0.3661971830985915, 0.4177215189873418, 0.45333333333333337, 0.4125, 0.42105263157894735, 0.4177215189873418, 0.39743589743589736, 0.352112676056338, 0.4054054054054055, 0.410958904109589, 0.3866666666666667, 0.4078947368421053, 0.4025974025974026, 0.4, 0.3902439024390244, 0.40740740740740744, 0.39473684210526316, 0.40740740740740744, 0.39473684210526316, 0.41333333333333333, 0.37662337662337664, 0.4285714285714286, 0.4155844155844156, 0.42105263157894735, 0.40506329113924044, 0.4024390243902439, 0.4285714285714286, 0.42105263157894735, 0.4155844155844156, 0.4025974025974026, 0.42666666666666675, 0.36, 0.4347826086956521, 0.381578947368421, 0.410958904109589, 0.40740740740740744, 0.4303797468354431, 0.4358974358974359, 0.41891891891891886, 0.42465753424657526, 0.42666666666666675, 0.4125, 0.4025974025974026, 0.41025641025641024, 0.4285714285714286, 0.3835616438356164, 0.41333333333333333, 0.4078947368421053, 0.42307692307692313, 0.40740740740740744, 0.41891891891891886, 0.41666666666666674, 0.42465753424657526, 0.381578947368421, 0.4342105263157895, 0.3924050632911392, 0.4, 0.4125, 0.40506329113924044, 0.4, 0.3928571428571428, 0.42105263157894735, 0.38888888888888884, 0.42105263157894735, 0.4, 0.4125, 0.4, 0.5555555555555556, 0.4125, 0.4, 0.4285714285714286, 0.4342105263157895, 0.41891891891891886, 0.42105263157894735, 0.40506329113924044, 0.3866666666666667, 0.41975308641975306, 0.3880597014925373, 0.4125, 0.4155844155844156, 0.4054054054054055, 0.4225352112676056, 0.4337349397590362, 0.41463414634146334, 0.41025641025641024, 0.3918918918918919, 0.38888888888888884, 0.4025974025974026, 0.4, 0.4285714285714286, 0.4025974025974026, 0.375, 0.410958904109589, 0.3972602739726028, 0.39743589743589736, 0.3733333333333333, 0.41025641025641024, 0.37662337662337664, 0.39473684210526316, 0.4285714285714286, 0.4430379746835442, 0.41025641025641024, 0.41666666666666674, 0.42465753424657526, 0.3857142857142857, 0.42500000000000004, 0.4, 0.4444444444444444, 0.3913043478260869, 0.4024390243902439, 0.42307692307692313, 0.38961038961038963, 0.3783783783783784, 0.3866666666666667, 0.42307692307692313, 0.42105263157894735, 0.4285714285714286, 0.41333333333333333, 0.42105263157894735, 0.3866666666666667, 0.4025974025974026, 0.5714285714285714, 0.4054054054054055, 0.42500000000000004, 0.4025974025974026, 0.381578947368421, 0.4177215189873418, 0.41025641025641024, 0.4337349397590362, 0.41666666666666674, 0.4155844155844156, 0.4078947368421053, 0.381578947368421, 0.4078947368421053, 0.42105263157894735, 0.4027777777777778, 0.4078947368421053, 0.39473684210526316, 0.42465753424657526, 0.381578947368421, 0.41891891891891886, 0.4177215189873418, 0.4328358208955223, 0.4084507042253521, 0.39743589743589736, 0.4307692307692308, 0.38961038961038963, 0.39743589743589736, 0.3846153846153846, 0.41428571428571437, 0.3972602739726028, 0.4342105263157895, 0.410958904109589, 0.3924050632911392, 0.41025641025641024, 0.4225352112676056, 0.4054054054054055, 0.4084507042253521, 0.4225352112676056, 0.3623188405797102, 0.4177215189873418, 0.3924050632911392, 0.388235294117647, 0.3866666666666667, 0.42682926829268286, 0.4125, 0.3846153846153846, 0.4285714285714286, 0.41666666666666674, 0.4883720930232558, 0.41428571428571437, 0.41975308641975306, 0.42105263157894735, 0.4078947368421053, 0.39743589743589736, 0.4078947368421053, 0.4054054054054055, 0.5116279069767442, 0.41428571428571437, 0.4078947368421053, 0.4303797468354431, 0.4078947368421053, 0.4, 0.36, 0.4305555555555556, 0.41666666666666674, 0.4078947368421053, 0.3835616438356164, 0.3950617283950617, 0.41975308641975306, 0.4, 0.40909090909090917, 0.41025641025641024, 0.42500000000000004, 0.42307692307692313, 0.41891891891891886, 0.42500000000000004, 0.3924050632911392, 0.4, 0.39743589743589736, 0.4078947368421053, 0.42307692307692313, 0.4078947368421053, 0.4025974025974026, 0.4358974358974359, 0.39743589743589736, 0.41025641025641024, 0.3924050632911392, 0.41891891891891886, 0.43661971830985913, 0.40506329113924044, 0.4155844155844156, 0.4117647058823529, 0.4078947368421053, 0.5, 0.41025641025641024, 0.381578947368421, 0.3783783783783784, 0.41428571428571437, 0.3866666666666667, 0.36986301369863006, 0.40506329113924044, 0.4125, 0.39743589743589736, 0.42682926829268286, 0.380281690140845, 0.44897959183673475], \"yaxis\": \"y\"}, {\"hovertemplate\": \"<b>%{hovertext}</b><br><br>parti=Gauche d\\u00e9mocrate et r\\u00e9publicaine<br>similarit\\u00e9_ruffin=%{x}<br>similarit\\u00e9_abad=%{y}<extra></extra>\", \"hovertext\": [\"Buffet Marie-George (76, 74)\", \"Chassaigne Andr\\u00e9 (82, 80)\", \"Lecoq Jean-Paul (77, 77)\", \"Nilor Jean-Philippe (68, 66)\", \"Serville Gabriel (67, 67)\", \"Dufr\\u00e8gne Jean-Paul (79, 78)\", \"Dharr\\u00e9ville Pierre (80, 81)\", \"Bruneel Alain (74, 76)\", \"Roussel Fabien (78, 76)\", \"K\\u00e9clard-Mond\\u00e9sir Manu\\u00e9la (51, 53)\", \"Brotherson Moetai (70, 67)\", \"Peu St\\u00e9phane (87, 83)\", \"Faucillon Elsa (78, 77)\", \"Wulfranc Hubert (78, 78)\", \"Jumel S\\u00e9bastien (81, 80)\"], \"legendgroup\": \"Gauche d\\u00e9mocrate et r\\u00e9publicaine\", \"marker\": {\"color\": \"#00cc96\", \"symbol\": \"circle\"}, \"mode\": \"markers\", \"name\": \"Gauche d\\u00e9mocrate et r\\u00e9publicaine\", \"orientation\": \"v\", \"showlegend\": true, \"type\": \"scatter\", \"x\": [0.9078947368421053, 0.9146341463414634, 0.9090909090909091, 0.8088235294117647, 0.6865671641791045, 0.9113924050632911, 0.9125, 0.9054054054054054, 0.9102564102564102, 0.5490196078431373, 0.8, 0.9080459770114943, 0.9230769230769231, 0.8974358974358975, 0.9135802469135802], \"xaxis\": \"x\", \"y\": [0.5540540540540541, 0.55, 0.5584415584415584, 0.5757575757575758, 0.4477611940298507, 0.5384615384615384, 0.5432098765432098, 0.5657894736842105, 0.5394736842105263, 0.37735849056603776, 0.6119402985074627, 0.5662650602409639, 0.5454545454545454, 0.5641025641025641, 0.5625], \"yaxis\": \"y\"}, {\"hovertemplate\": \"<b>%{hovertext}</b><br><br>parti=Les R\\u00e9publicains<br>similarit\\u00e9_ruffin=%{x}<br>similarit\\u00e9_abad=%{y}<extra></extra>\", \"hovertext\": [\"Carrez Gilles (70, 72)\", \"Cattin Jacques (72, 72)\", \"Cherpion G\\u00e9rard (76, 77)\", \"Cornut-Gentille Fran\\u00e7ois (71, 73)\", \"Dassault Olivier (72, 73)\", \"de la Verpilli\\u00e8re Charles (74, 75)\", \"Deflesselles Bernard (72, 72)\", \"Forissier Nicolas (74, 74)\", \"Herbillon Michel (74, 76)\", \"Jacob Christian (74, 76)\", \"Le Fur Marc (77, 79)\", \"Menuel G\\u00e9rard (77, 76)\", \"Perrut Bernard (76, 77)\", \"Quentin Didier (71, 73)\", \"Reitzer Jean-Luc (69, 71)\", \"Teissier Guy (68, 71)\", \"Woerth \\u00c9ric (75, 76)\", \"Brochand Bernard (71, 73)\", \"Reiss Fr\\u00e9d\\u00e9ric (81, 81)\", \"Bony Jean-Yves (80, 77)\", \"Gosselin Philippe (75, 73)\", \"Rolland Vincent (75, 75)\", \"Huyghe S\\u00e9bastien (74, 75)\", \"Sermier Jean-Marie (73, 73)\", \"Poletti B\\u00e9reng\\u00e8re (74, 75)\", \"Door Jean-Pierre (66, 69)\", \"Grelier Jean-Carles (69, 69)\", \"Gaultier Jean-Jacques (71, 72)\", \"Levy Genevi\\u00e8ve (72, 73)\", \"Cinieri Dino (66, 70)\", \"Diard \\u00c9ric (77, 75)\", \"Delatte R\\u00e9mi (71, 71)\", \"Saddier Martial (71, 73)\", \"de Ganay Claude (73, 74)\", \"Larriv\\u00e9 Guillaume (77, 79)\", \"Tabarot Mich\\u00e8le (70, 72)\", \"Kamardine Mansour (70, 71)\", \"Breton Xavier (79, 78)\", \"Ciotti \\u00c9ric (76, 78)\", \"Reyn\\u00e8s Bernard (71, 72)\", \"Descoeur Vincent (83, 80)\", \"Dalloz Marie-Christine (76, 77)\", \"Bouchet Jean-Claude (70, 72)\", \"Dubois Marianne (76, 76)\", \"Le Grip Constance (85, 82)\", \"Maquet Emmanuel (71, 75)\", \"Abad Damien (78, 86)\", \"Genevard Annie (79, 80)\", \"Marleix Olivier (78, 77)\", \"Vigier Jean-Pierre (78, 80)\", \"Louwagie V\\u00e9ronique (79, 82)\", \"Hetzel Patrick (79, 78)\", \"Duby-Muller Virginie (75, 78)\", \"Aubert Julien (74, 73)\", \"Bazin Thibault (77, 76)\", \"Thi\\u00e9riot Jean-Louis (49, 49)\", \"Ferrara Jean-Jacques (73, 74)\", \"Valentin Isabelle (76, 80)\", \"Viala Arnaud (80, 81)\", \"Dive Julien (74, 76)\", \"Brenier Marine (74, 75)\", \"Trastour-Isnart Laurence (75, 74)\", \"Pauget \\u00c9ric (78, 78)\", \"Brun Fabrice (75, 76)\", \"Cordier Pierre (77, 79)\", \"Bazin-Malgras Val\\u00e9rie (76, 77)\", \"Meunier Fr\\u00e9d\\u00e9rique (72, 72)\", \"Anthoine Emmanuelle (77, 78)\", \"Peltier Guillaume (72, 76)\", \"Pradi\\u00e9 Aur\\u00e9lien (71, 69)\", \"Beauvais Val\\u00e9rie (80, 83)\", \"Di Filippo Fabien (81, 82)\", \"Vatin Pierre (76, 80)\", \"Minot Maxime (81, 84)\", \"Nury J\\u00e9r\\u00f4me (78, 79)\", \"Dumont Pierre-Henri (76, 75)\", \"Bassire Nathalie (73, 74)\", \"Lorion David (74, 74)\", \"Ramassamy Nadia (63, 64)\", \"Guion-Firmin Claire (76, 75)\", \"Ramadier Alain (84, 82)\", \"Schellenberger Rapha\\u00ebl (75, 73)\", \"Bonnivard \\u00c9milie (75, 77)\", \"Viry St\\u00e9phane (73, 76)\", \"Kuster Brigitte (84, 81)\", \"Parigi Jean-Fran\\u00e7ois (74, 75)\", \"Reda Robin (76, 74)\", \"Boucard Ian (76, 75)\", \"Vialay Michel (72, 74)\", \"Corneloup Josiane (72, 75)\", \"Savignat Antoine (64, 64)\", \"Poudroux Jean-Luc (47, 48)\"], \"legendgroup\": \"Les R\\u00e9publicains\", \"marker\": {\"color\": \"#ab63fa\", \"symbol\": \"circle\"}, \"mode\": \"markers\", \"name\": \"Les R\\u00e9publicains\", \"orientation\": \"v\", \"showlegend\": true, \"type\": \"scatter\", \"x\": [0.4714285714285714, 0.45833333333333326, 0.5, 0.5492957746478874, 0.4305555555555556, 0.5135135135135135, 0.5277777777777778, 0.44594594594594594, 0.5, 0.45945945945945943, 0.5194805194805194, 0.5324675324675324, 0.4605263157894737, 0.5070422535211268, 0.5072463768115942, 0.5, 0.4666666666666667, 0.5211267605633803, 0.5185185185185185, 0.525, 0.4666666666666667, 0.4933333333333334, 0.4864864864864865, 0.5068493150684932, 0.5, 0.5, 0.5217391304347826, 0.5070422535211268, 0.5277777777777778, 0.5151515151515151, 0.5324675324675324, 0.5070422535211268, 0.4225352112676056, 0.4657534246575342, 0.38961038961038963, 0.5, 0.44285714285714284, 0.5443037974683544, 0.4736842105263157, 0.49295774647887325, 0.5301204819277109, 0.5, 0.5285714285714286, 0.5263157894736842, 0.47058823529411764, 0.5211267605633803, 0.4871794871794872, 0.4810126582278481, 0.5128205128205128, 0.4871794871794872, 0.4810126582278481, 0.5063291139240507, 0.5466666666666666, 0.5675675675675675, 0.5324675324675324, 0.5102040816326531, 0.4931506849315068, 0.5131578947368421, 0.4625, 0.5405405405405406, 0.43243243243243246, 0.56, 0.5256410256410257, 0.5066666666666667, 0.5714285714285714, 0.48684210526315796, 0.5416666666666666, 0.5324675324675324, 0.5, 0.5070422535211268, 0.5, 0.5555555555555556, 0.5263157894736842, 0.5432098765432098, 0.5, 0.5, 0.4931506849315068, 0.4864864864864865, 0.4285714285714286, 0.44736842105263164, 0.47619047619047616, 0.52, 0.52, 0.5342465753424658, 0.47619047619047616, 0.527027027027027, 0.48684210526315796, 0.5394736842105263, 0.5, 0.5416666666666666, 0.53125, 0.574468085106383], \"xaxis\": \"x\", \"y\": [0.9305555555555556, 0.9166666666666666, 0.935064935064935, 0.8356164383561644, 0.8493150684931506, 0.9466666666666667, 0.9166666666666666, 0.9054054054054054, 0.9473684210526315, 0.9342105263157895, 0.8354430379746836, 0.9078947368421053, 0.8961038961038961, 0.9178082191780822, 0.9577464788732394, 0.9436619718309859, 0.9342105263157895, 0.958904109589041, 0.9012345679012346, 0.9090909090909091, 0.9041095890410958, 0.8533333333333334, 0.9066666666666666, 0.958904109589041, 0.8533333333333334, 0.9710144927536232, 0.9130434782608695, 0.9305555555555556, 0.958904109589041, 0.9142857142857143, 0.7733333333333333, 0.9154929577464789, 0.7808219178082192, 0.918918918918919, 0.7721518987341772, 0.9583333333333334, 0.8591549295774648, 0.8333333333333334, 0.9102564102564102, 0.9444444444444444, 0.9375, 0.935064935064935, 0.9583333333333334, 0.9736842105263158, 0.8902439024390244, 0.9333333333333333, 1.0, 0.925, 0.8701298701298701, 0.9125, 0.8658536585365854, 0.9358974358974359, 0.9230769230769231, 0.863013698630137, 0.868421052631579, 0.9591836734693877, 0.918918918918919, 0.875, 0.8024691358024691, 0.8552631578947368, 0.8133333333333334, 0.9594594594594594, 0.8846153846153846, 0.8947368421052632, 0.8354430379746836, 0.8961038961038961, 0.9027777777777778, 0.9487179487179487, 0.9342105263157895, 0.8405797101449275, 0.9036144578313253, 0.8536585365853658, 0.925, 0.9523809523809523, 0.8607594936708861, 0.84, 0.8513513513513513, 0.8378378378378378, 0.84375, 0.9066666666666666, 0.9146341463414634, 0.958904109589041, 0.9090909090909091, 0.8947368421052632, 0.8765432098765432, 0.88, 0.8918918918918919, 0.88, 0.9594594594594594, 0.92, 0.96875, 1.0], \"yaxis\": \"y\"}, {\"hovertemplate\": \"<b>%{hovertext}</b><br><br>parti=Libert\\u00e9s et Territoires<br>similarit\\u00e9_ruffin=%{x}<br>similarit\\u00e9_abad=%{y}<extra></extra>\", \"hovertext\": [\"de Courson Charles (75, 76)\", \"Lassalle Jean (60, 60)\", \"Pancher Bertrand (74, 74)\", \"Pinel Sylvia (76, 75)\", \"Cl\\u00e9ment Jean-Michel (70, 70)\", \"Pupponi Fran\\u00e7ois (64, 61)\", \"Lambert Fran\\u00e7ois-Michel (67, 67)\", \"Falorni Olivier (70, 70)\", \"Molac Paul (78, 74)\", \"Dubi\\u00e9 Jeanine (81, 76)\", \"Castellani Michel (70, 72)\", \"Acquaviva Jean-F\\u00e9lix (72, 71)\", \"Colombani Paul-Andr\\u00e9 (68, 69)\", \"Simian Benoit (73, 76)\", \"De Temmerman Jennifer (70, 70)\", \"Dumas Fr\\u00e9d\\u00e9rique (82, 80)\", \"Wonner Martine (80, 76)\", \"Brial Sylvain (25, 24)\"], \"legendgroup\": \"Libert\\u00e9s et Territoires\", \"marker\": {\"color\": \"#FFA15A\", \"symbol\": \"circle\"}, \"mode\": \"markers\", \"name\": \"Libert\\u00e9s et Territoires\", \"orientation\": \"v\", \"showlegend\": true, \"type\": \"scatter\", \"x\": [0.4, 0.85, 0.33783783783783783, 0.5, 0.4, 0.5625, 0.3582089552238805, 0.48571428571428577, 0.33333333333333326, 0.49382716049382713, 0.5571428571428572, 0.5694444444444444, 0.5441176470588235, 0.136986301369863, 0.22857142857142854, 0.36585365853658536, 0.1875, 0.24], \"xaxis\": \"x\", \"y\": [0.631578947368421, 0.6, 0.581081081081081, 0.6133333333333333, 0.5428571428571428, 0.6557377049180327, 0.5373134328358209, 0.5857142857142857, 0.5540540540540541, 0.631578947368421, 0.6388888888888888, 0.6197183098591549, 0.6086956521739131, 0.39473684210526316, 0.4, 0.5125, 0.4342105263157895, 0.5833333333333334], \"yaxis\": \"y\"}, {\"hovertemplate\": \"<b>%{hovertext}</b><br><br>parti=Non inscrit<br>similarit\\u00e9_ruffin=%{x}<br>similarit\\u00e9_abad=%{y}<extra></extra>\", \"hovertext\": [\"Dupont-Aignan Nicolas (70, 70)\", \"Batho Delphine (56, 53)\", \"Bagarry Delphine (77, 72)\", \"Tuffnell Fr\\u00e9d\\u00e9rique (76, 79)\", \"de Courson Yolaine (74, 74)\", \"Meizonnet Nicolas (25, 24)\", \"Nadot S\\u00e9bastien (62, 63)\", \"Gaillard Olivier (67, 68)\", \"M\\u00e9nard Emmanuelle (89, 82)\", \"Orphelin Matthieu (79, 80)\", \"Cariou \\u00c9milie (79, 79)\", \"Chenu S\\u00e9bastien (72, 71)\", \"Pajot Ludovic (77, 77)\", \"Le Pen Marine (75, 76)\", \"Evrard Jos\\u00e9 (60, 59)\", \"Bilde Bruno (72, 72)\", \"Tach\\u00e9 Aur\\u00e9lien (71, 72)\", \"Forteza Paula (69, 69)\", \"Son-Forget Joachim (71, 71)\", \"Gaillot Albane (76, 72)\", \"Lorho Marie-France (69, 69)\", \"Chiche Guillaume (71, 71)\", \"Villani C\\u00e9dric (73, 74)\", \"Julien-Laferri\\u00e8re Hubert (69, 71)\"], \"legendgroup\": \"Non inscrit\", \"marker\": {\"color\": \"#19d3f3\", \"symbol\": \"circle\"}, \"mode\": \"markers\", \"name\": \"Non inscrit\", \"orientation\": \"v\", \"showlegend\": true, \"type\": \"scatter\", \"x\": [0.7285714285714285, 0.6785714285714286, 0.19480519480519476, 0.17105263157894735, 0.17567567567567566, 0.52, 0.32258064516129026, 0.13432835820895517, 0.5280898876404494, 0.240506329113924, 0.21518987341772156, 0.6527777777777778, 0.6103896103896104, 0.64, 0.7666666666666667, 0.6388888888888888, 0.22535211267605637, 0.2028985507246377, 0.23943661971830987, 0.19736842105263164, 0.5797101449275363, 0.18309859154929575, 0.20547945205479445, 0.23188405797101452], \"xaxis\": \"x\", \"y\": [0.5142857142857142, 0.5849056603773585, 0.4027777777777778, 0.4430379746835442, 0.41891891891891886, 0.9583333333333334, 0.39682539682539675, 0.47058823529411764, 0.7317073170731707, 0.42500000000000004, 0.36708860759493667, 0.7183098591549296, 0.7142857142857143, 0.6842105263157895, 0.4576271186440678, 0.6805555555555556, 0.41666666666666674, 0.37681159420289856, 0.43661971830985913, 0.4027777777777778, 0.6666666666666666, 0.3943661971830985, 0.4054054054054055, 0.3943661971830985], \"yaxis\": \"y\"}, {\"hovertemplate\": \"<b>%{hovertext}</b><br><br>parti=Mouvement D\\u00e9mocrate (MoDem) et D\\u00e9mocrates apparent\\u00e9s<br>similarit\\u00e9_ruffin=%{x}<br>similarit\\u00e9_abad=%{y}<extra></extra>\", \"hovertext\": [\"Fanget Michel (70, 69)\", \"Favennec Becot Yannick (75, 74)\", \"Vigier Philippe (81, 78)\", \"de Sarnez Marielle (76, 75)\", \"Laqhila Mohamed (73, 71)\", \"Blanchet Christophe (82, 79)\", \"Essayan Nadia (77, 79)\", \"Jerretie Christophe (72, 76)\", \"Joncour Bruno (76, 74)\", \"Cubertafon Jean-Pierre (74, 73)\", \"Berta Philippe (74, 73)\", \"Lagleize Jean-Luc (75, 75)\", \"Balanant Erwan (83, 82)\", \"Mette Sophie (76, 76)\", \"Thillaye Sabine (69, 68)\", \"Jacquier-Laforge \\u00c9lodie (77, 78)\", \"Lain\\u00e9 Fabien (76, 73)\", \"Baudu St\\u00e9phane (51, 53)\", \"Josso Sandrine (69, 70)\", \"Ramos Richard (72, 70)\", \"Bolo Philippe (75, 75)\", \"Garcia Laurent (75, 74)\", \"Bannier G\\u00e9raldine (81, 78)\", \"Hammouche Brahim (71, 70)\", \"Pahun Jimmy (78, 77)\", \"Goulet Perrine (75, 77)\", \"Deprez-Audebert Marguerite (80, 79)\", \"Duverg\\u00e9 Bruno (71, 72)\", \"Vichnievsky Laurence (76, 74)\", \"Poueyto Josy (76, 76)\", \"Mattei Jean-Paul (79, 80)\", \"Waserman Sylvain (81, 78)\", \"Lasserre Florence (72, 72)\", \"Bru Vincent (74, 72)\", \"Benin Justine (72, 72)\", \"Mathiasin Max (71, 72)\", \"Petit Fr\\u00e9d\\u00e9ric (69, 68)\", \"Petit Maud (79, 79)\", \"Brocard Blandine (75, 73)\", \"Fontenel-Personne Pascale (79, 76)\", \"Mignola Patrick (75, 71)\", \"Luquet Aude (77, 74)\", \"Bourlanges Jean-Louis (75, 75)\", \"Michel-Kleisbauer Philippe (74, 76)\", \"Florennes Isabelle (84, 80)\", \"Crouzet Mich\\u00e8le (77, 76)\", \"Barrot Jean-No\\u00ebl (76, 75)\", \"de Vaucouleurs Mich\\u00e8le (77, 75)\", \"Millienne Bruno (79, 77)\", \"Latombe Philippe (75, 74)\", \"Loiseau Patrick (35, 37)\", \"Turquois Nicolas (78, 74)\", \"Fuchs Bruno (77, 73)\", \"Isaac-Sibille Cyrille (72, 68)\"], \"legendgroup\": \"Mouvement D\\u00e9mocrate (MoDem) et D\\u00e9mocrates apparent\\u00e9s\", \"marker\": {\"color\": \"#FF6692\", \"symbol\": \"circle\"}, \"mode\": \"markers\", \"name\": \"Mouvement D\\u00e9mocrate (MoDem) et D\\u00e9mocrates apparent\\u00e9s\", \"orientation\": \"v\", \"showlegend\": true, \"type\": \"scatter\", \"x\": [0.0714285714285714, 0.3733333333333333, 0.2962962962962963, 0.09210526315789469, 0.09589041095890405, 0.09756097560975607, 0.10389610389610393, 0.09722222222222221, 0.09210526315789469, 0.08108108108108114, 0.08108108108108114, 0.09333333333333338, 0.12048192771084332, 0.09210526315789469, 0.13043478260869568, 0.10389610389610393, 0.09210526315789469, 0.0980392156862745, 0.24637681159420288, 0.11111111111111116, 0.09333333333333338, 0.09333333333333338, 0.09876543209876543, 0.11267605633802813, 0.10256410256410253, 0.09333333333333338, 0.08750000000000002, 0.09859154929577463, 0.09210526315789469, 0.11842105263157898, 0.08860759493670889, 0.08641975308641969, 0.08333333333333337, 0.1216216216216216, 0.09722222222222221, 0.11267605633802813, 0.10144927536231885, 0.11392405063291133, 0.09333333333333338, 0.08860759493670889, 0.09333333333333338, 0.07792207792207795, 0.09333333333333338, 0.09459459459459463, 0.09523809523809523, 0.09090909090909094, 0.09210526315789469, 0.09090909090909094, 0.08860759493670889, 0.12, 0.1428571428571428, 0.08974358974358976, 0.09090909090909094, 0.09722222222222221], \"xaxis\": \"x\", \"y\": [0.42028985507246375, 0.6351351351351351, 0.6410256410256411, 0.42666666666666675, 0.43661971830985913, 0.40506329113924044, 0.4430379746835442, 0.381578947368421, 0.43243243243243246, 0.42465753424657526, 0.42465753424657526, 0.41333333333333333, 0.4390243902439024, 0.4342105263157895, 0.42647058823529416, 0.39743589743589736, 0.410958904109589, 0.4716981132075472, 0.5142857142857142, 0.4285714285714286, 0.45333333333333337, 0.4054054054054055, 0.4487179487179487, 0.41428571428571437, 0.38961038961038963, 0.4025974025974026, 0.4430379746835442, 0.4305555555555556, 0.41891891891891886, 0.4342105263157895, 0.4125, 0.42307692307692313, 0.4444444444444444, 0.4444444444444444, 0.4444444444444444, 0.41666666666666674, 0.42647058823529416, 0.4303797468354431, 0.42465753424657526, 0.4078947368421053, 0.3943661971830985, 0.41891891891891886, 0.4, 0.39473684210526316, 0.4125, 0.4078947368421053, 0.42666666666666675, 0.41333333333333333, 0.4415584415584415, 0.4054054054054055, 0.5135135135135135, 0.41891891891891886, 0.4383561643835616, 0.42647058823529416], \"yaxis\": \"y\"}, {\"hovertemplate\": \"<b>%{hovertext}</b><br><br>parti=La France insoumise<br>similarit\\u00e9_ruffin=%{x}<br>similarit\\u00e9_abad=%{y}<extra></extra>\", \"hovertext\": [\"M\\u00e9lenchon Jean-Luc (87, 80)\", \"Autain Cl\\u00e9mentine (83, 81)\", \"Taurine B\\u00e9n\\u00e9dicte (82, 79)\", \"Larive Michel (81, 80)\", \"Prud'homme Lo\\u00efc (79, 80)\", \"Ressiguier Muriel (77, 78)\", \"Fiat Caroline (81, 83)\", \"Quatennens Adrien (80, 79)\", \"Bernalicis Ugo (83, 78)\", \"Lachaud Bastien (84, 79)\", \"Panot Mathilde (86, 80)\", \"Ratenon Jean-Hugues (82, 77)\", \"Coquerel \\u00c9ric (85, 79)\", \"Corbi\\u00e8re Alexis (81, 78)\", \"Rubin Sabine (80, 79)\", \"Obono Dani\\u00e8le (84, 81)\", \"Ruffin Fran\\u00e7ois (94, 78)\"], \"legendgroup\": \"La France insoumise\", \"marker\": {\"color\": \"#B6E880\", \"symbol\": \"circle\"}, \"mode\": \"markers\", \"name\": \"La France insoumise\", \"orientation\": \"v\", \"showlegend\": true, \"type\": \"scatter\", \"x\": [0.9885057471264368, 1.0, 1.0, 1.0, 1.0, 0.987012987012987, 1.0, 1.0, 1.0, 1.0, 1.0, 0.9878048780487805, 1.0, 1.0, 1.0, 1.0, 1.0], \"xaxis\": \"x\", \"y\": [0.48750000000000004, 0.4814814814814814, 0.4810126582278481, 0.48750000000000004, 0.5, 0.4871794871794872, 0.49397590361445776, 0.49367088607594933, 0.5128205128205128, 0.49367088607594933, 0.48750000000000004, 0.49350649350649345, 0.49367088607594933, 0.5, 0.49367088607594933, 0.49382716049382713, 0.4871794871794872], \"yaxis\": \"y\"}, {\"hovertemplate\": \"<b>%{hovertext}</b><br><br>parti=UDI et Ind\\u00e9pendants<br>similarit\\u00e9_ruffin=%{x}<br>similarit\\u00e9_abad=%{y}<extra></extra>\", \"hovertext\": [\"Warsmann Jean-Luc (72, 71)\", \"Morel-\\u00c0-L'Huissier Pierre (80, 77)\", \"Zumkeller Michel (78, 74)\", \"Bricout Guy (82, 77)\", \"Lagarde Jean-Christophe (76, 70)\", \"Benoit Thierry (85, 83)\", \"Brindeau Pascal (50, 49)\", \"Villiers Andr\\u00e9 (68, 70)\", \"Gom\\u00e8s Philippe (74, 73)\", \"Habib Meyer (68, 67)\", \"Auconie Sophie (83, 79)\", \"Thill Agn\\u00e8s (80, 79)\", \"Descamps B\\u00e9atrice (81, 76)\", \"Dunoyer Philippe (72, 72)\", \"Sanquer Nicole (74, 72)\", \"Naegelen Christophe (82, 79)\"], \"legendgroup\": \"UDI et Ind\\u00e9pendants\", \"marker\": {\"color\": \"#FF97FF\", \"symbol\": \"circle\"}, \"mode\": \"markers\", \"name\": \"UDI et Ind\\u00e9pendants\", \"orientation\": \"v\", \"showlegend\": true, \"type\": \"scatter\", \"x\": [0.125, 0.26249999999999996, 0.33333333333333326, 0.3292682926829269, 0.30263157894736836, 0.19999999999999996, 0.30000000000000004, 0.27941176470588236, 0.20270270270270274, 0.2941176470588236, 0.20481927710843373, 0.16249999999999998, 0.2716049382716049, 0.19444444444444442, 0.17567567567567566, 0.3414634146341464], \"xaxis\": \"x\", \"y\": [0.43661971830985913, 0.5064935064935064, 0.5540540540540541, 0.6103896103896104, 0.5428571428571428, 0.5060240963855421, 0.6122448979591837, 0.5714285714285714, 0.5205479452054794, 0.6567164179104478, 0.4810126582278481, 0.5063291139240507, 0.5657894736842105, 0.5416666666666666, 0.4444444444444444, 0.6582278481012658], \"yaxis\": \"y\"}, {\"hovertemplate\": \"<b>%{hovertext}</b><br><br>parti=Agir ensemble<br>similarit\\u00e9_ruffin=%{x}<br>similarit\\u00e9_abad=%{y}<extra></extra>\", \"hovertext\": [\"Herth Antoine (80, 76)\", \"Firmin Le Bodo Agn\\u00e8s (85, 80)\", \"de La Raudi\\u00e8re Laure (78, 75)\", \"Christophe Paul (84, 82)\", \"Becht Olivier (80, 77)\", \"Sage Maina (67, 67)\", \"Ledoux Vincent (66, 66)\", \"Larsonneur Jean-Charles (75, 72)\", \"Chapelier Annie (76, 76)\", \"Euzet Christophe (77, 75)\", \"Hupp\\u00e9 Philippe (75, 74)\", \"Kuric Aina (76, 75)\", \"Magnier Lise (84, 80)\", \"Houbron Dimitri (78, 71)\", \"Petit Val\\u00e9rie (77, 75)\", \"Potterie Benoit (78, 78)\", \"El Guerrab M'jid (71, 71)\", \"Lemoine Patricia (52, 53)\", \"Bournazel Pierre-Yves (82, 79)\", \"Gassilloud Thomas (71, 71)\"], \"legendgroup\": \"Agir ensemble\", \"marker\": {\"color\": \"#FECB52\", \"symbol\": \"circle\"}, \"mode\": \"markers\", \"name\": \"Agir ensemble\", \"orientation\": \"v\", \"showlegend\": true, \"type\": \"scatter\", \"x\": [0.17500000000000004, 0.16470588235294115, 0.1923076923076923, 0.2142857142857143, 0.15000000000000002, 0.13432835820895517, 0.19696969696969702, 0.10666666666666669, 0.1842105263157895, 0.09090909090909094, 0.07999999999999996, 0.09210526315789469, 0.16666666666666663, 0.10256410256410253, 0.10389610389610393, 0.10256410256410253, 0.11267605633802813, 0.11538461538461542, 0.1097560975609756, 0.09859154929577463], \"xaxis\": \"x\", \"y\": [0.5, 0.48750000000000004, 0.4933333333333334, 0.5365853658536586, 0.46753246753246747, 0.5074626865671642, 0.43939393939393945, 0.38888888888888884, 0.4342105263157895, 0.4, 0.4054054054054055, 0.3733333333333333, 0.5125, 0.3661971830985915, 0.4, 0.4487179487179487, 0.4084507042253521, 0.4528301886792453, 0.3924050632911392, 0.4225352112676056], \"yaxis\": \"y\"}],                        {\"legend\": {\"title\": {\"text\": \"parti\"}, \"tracegroupgap\": 0}, \"margin\": {\"t\": 60}, \"template\": {\"data\": {\"bar\": [{\"error_x\": {\"color\": \"#2a3f5f\"}, \"error_y\": {\"color\": \"#2a3f5f\"}, \"marker\": {\"line\": {\"color\": \"#E5ECF6\", \"width\": 0.5}}, \"type\": \"bar\"}], \"barpolar\": [{\"marker\": {\"line\": {\"color\": \"#E5ECF6\", \"width\": 0.5}}, \"type\": \"barpolar\"}], \"carpet\": [{\"aaxis\": {\"endlinecolor\": \"#2a3f5f\", \"gridcolor\": \"white\", \"linecolor\": \"white\", \"minorgridcolor\": \"white\", \"startlinecolor\": \"#2a3f5f\"}, \"baxis\": {\"endlinecolor\": \"#2a3f5f\", \"gridcolor\": \"white\", \"linecolor\": \"white\", \"minorgridcolor\": \"white\", \"startlinecolor\": \"#2a3f5f\"}, \"type\": \"carpet\"}], \"choropleth\": [{\"colorbar\": {\"outlinewidth\": 0, \"ticks\": \"\"}, \"type\": \"choropleth\"}], \"contour\": [{\"colorbar\": {\"outlinewidth\": 0, \"ticks\": \"\"}, \"colorscale\": [[0.0, \"#0d0887\"], [0.1111111111111111, \"#46039f\"], [0.2222222222222222, \"#7201a8\"], [0.3333333333333333, \"#9c179e\"], [0.4444444444444444, \"#bd3786\"], [0.5555555555555556, \"#d8576b\"], [0.6666666666666666, \"#ed7953\"], [0.7777777777777778, \"#fb9f3a\"], [0.8888888888888888, \"#fdca26\"], [1.0, \"#f0f921\"]], \"type\": \"contour\"}], \"contourcarpet\": [{\"colorbar\": {\"outlinewidth\": 0, \"ticks\": \"\"}, \"type\": \"contourcarpet\"}], \"heatmap\": [{\"colorbar\": {\"outlinewidth\": 0, \"ticks\": \"\"}, \"colorscale\": [[0.0, \"#0d0887\"], [0.1111111111111111, \"#46039f\"], [0.2222222222222222, \"#7201a8\"], [0.3333333333333333, \"#9c179e\"], [0.4444444444444444, \"#bd3786\"], [0.5555555555555556, \"#d8576b\"], [0.6666666666666666, \"#ed7953\"], [0.7777777777777778, \"#fb9f3a\"], [0.8888888888888888, \"#fdca26\"], [1.0, \"#f0f921\"]], \"type\": \"heatmap\"}], \"heatmapgl\": [{\"colorbar\": {\"outlinewidth\": 0, \"ticks\": \"\"}, \"colorscale\": [[0.0, \"#0d0887\"], [0.1111111111111111, \"#46039f\"], [0.2222222222222222, \"#7201a8\"], [0.3333333333333333, \"#9c179e\"], [0.4444444444444444, \"#bd3786\"], [0.5555555555555556, \"#d8576b\"], [0.6666666666666666, \"#ed7953\"], [0.7777777777777778, \"#fb9f3a\"], [0.8888888888888888, \"#fdca26\"], [1.0, \"#f0f921\"]], \"type\": \"heatmapgl\"}], \"histogram\": [{\"marker\": {\"colorbar\": {\"outlinewidth\": 0, \"ticks\": \"\"}}, \"type\": \"histogram\"}], \"histogram2d\": [{\"colorbar\": {\"outlinewidth\": 0, \"ticks\": \"\"}, \"colorscale\": [[0.0, \"#0d0887\"], [0.1111111111111111, \"#46039f\"], [0.2222222222222222, \"#7201a8\"], [0.3333333333333333, \"#9c179e\"], [0.4444444444444444, \"#bd3786\"], [0.5555555555555556, \"#d8576b\"], [0.6666666666666666, \"#ed7953\"], [0.7777777777777778, \"#fb9f3a\"], [0.8888888888888888, \"#fdca26\"], [1.0, \"#f0f921\"]], \"type\": \"histogram2d\"}], \"histogram2dcontour\": [{\"colorbar\": {\"outlinewidth\": 0, \"ticks\": \"\"}, \"colorscale\": [[0.0, \"#0d0887\"], [0.1111111111111111, \"#46039f\"], [0.2222222222222222, \"#7201a8\"], [0.3333333333333333, \"#9c179e\"], [0.4444444444444444, \"#bd3786\"], [0.5555555555555556, \"#d8576b\"], [0.6666666666666666, \"#ed7953\"], [0.7777777777777778, \"#fb9f3a\"], [0.8888888888888888, \"#fdca26\"], [1.0, \"#f0f921\"]], \"type\": \"histogram2dcontour\"}], \"mesh3d\": [{\"colorbar\": {\"outlinewidth\": 0, \"ticks\": \"\"}, \"type\": \"mesh3d\"}], \"parcoords\": [{\"line\": {\"colorbar\": {\"outlinewidth\": 0, \"ticks\": \"\"}}, \"type\": \"parcoords\"}], \"pie\": [{\"automargin\": true, \"type\": \"pie\"}], \"scatter\": [{\"marker\": {\"colorbar\": {\"outlinewidth\": 0, \"ticks\": \"\"}}, \"type\": \"scatter\"}], \"scatter3d\": [{\"line\": {\"colorbar\": {\"outlinewidth\": 0, \"ticks\": \"\"}}, \"marker\": {\"colorbar\": {\"outlinewidth\": 0, \"ticks\": \"\"}}, \"type\": \"scatter3d\"}], \"scattercarpet\": [{\"marker\": {\"colorbar\": {\"outlinewidth\": 0, \"ticks\": \"\"}}, \"type\": \"scattercarpet\"}], \"scattergeo\": [{\"marker\": {\"colorbar\": {\"outlinewidth\": 0, \"ticks\": \"\"}}, \"type\": \"scattergeo\"}], \"scattergl\": [{\"marker\": {\"colorbar\": {\"outlinewidth\": 0, \"ticks\": \"\"}}, \"type\": \"scattergl\"}], \"scattermapbox\": [{\"marker\": {\"colorbar\": {\"outlinewidth\": 0, \"ticks\": \"\"}}, \"type\": \"scattermapbox\"}], \"scatterpolar\": [{\"marker\": {\"colorbar\": {\"outlinewidth\": 0, \"ticks\": \"\"}}, \"type\": \"scatterpolar\"}], \"scatterpolargl\": [{\"marker\": {\"colorbar\": {\"outlinewidth\": 0, \"ticks\": \"\"}}, \"type\": \"scatterpolargl\"}], \"scatterternary\": [{\"marker\": {\"colorbar\": {\"outlinewidth\": 0, \"ticks\": \"\"}}, \"type\": \"scatterternary\"}], \"surface\": [{\"colorbar\": {\"outlinewidth\": 0, \"ticks\": \"\"}, \"colorscale\": [[0.0, \"#0d0887\"], [0.1111111111111111, \"#46039f\"], [0.2222222222222222, \"#7201a8\"], [0.3333333333333333, \"#9c179e\"], [0.4444444444444444, \"#bd3786\"], [0.5555555555555556, \"#d8576b\"], [0.6666666666666666, \"#ed7953\"], [0.7777777777777778, \"#fb9f3a\"], [0.8888888888888888, \"#fdca26\"], [1.0, \"#f0f921\"]], \"type\": \"surface\"}], \"table\": [{\"cells\": {\"fill\": {\"color\": \"#EBF0F8\"}, \"line\": {\"color\": \"white\"}}, \"header\": {\"fill\": {\"color\": \"#C8D4E3\"}, \"line\": {\"color\": \"white\"}}, \"type\": \"table\"}]}, \"layout\": {\"annotationdefaults\": {\"arrowcolor\": \"#2a3f5f\", \"arrowhead\": 0, \"arrowwidth\": 1}, \"coloraxis\": {\"colorbar\": {\"outlinewidth\": 0, \"ticks\": \"\"}}, \"colorscale\": {\"diverging\": [[0, \"#8e0152\"], [0.1, \"#c51b7d\"], [0.2, \"#de77ae\"], [0.3, \"#f1b6da\"], [0.4, \"#fde0ef\"], [0.5, \"#f7f7f7\"], [0.6, \"#e6f5d0\"], [0.7, \"#b8e186\"], [0.8, \"#7fbc41\"], [0.9, \"#4d9221\"], [1, \"#276419\"]], \"sequential\": [[0.0, \"#0d0887\"], [0.1111111111111111, \"#46039f\"], [0.2222222222222222, \"#7201a8\"], [0.3333333333333333, \"#9c179e\"], [0.4444444444444444, \"#bd3786\"], [0.5555555555555556, \"#d8576b\"], [0.6666666666666666, \"#ed7953\"], [0.7777777777777778, \"#fb9f3a\"], [0.8888888888888888, \"#fdca26\"], [1.0, \"#f0f921\"]], \"sequentialminus\": [[0.0, \"#0d0887\"], [0.1111111111111111, \"#46039f\"], [0.2222222222222222, \"#7201a8\"], [0.3333333333333333, \"#9c179e\"], [0.4444444444444444, \"#bd3786\"], [0.5555555555555556, \"#d8576b\"], [0.6666666666666666, \"#ed7953\"], [0.7777777777777778, \"#fb9f3a\"], [0.8888888888888888, \"#fdca26\"], [1.0, \"#f0f921\"]]}, \"colorway\": [\"#636efa\", \"#EF553B\", \"#00cc96\", \"#ab63fa\", \"#FFA15A\", \"#19d3f3\", \"#FF6692\", \"#B6E880\", \"#FF97FF\", \"#FECB52\"], \"font\": {\"color\": \"#2a3f5f\"}, \"geo\": {\"bgcolor\": \"white\", \"lakecolor\": \"white\", \"landcolor\": \"#E5ECF6\", \"showlakes\": true, \"showland\": true, \"subunitcolor\": \"white\"}, \"hoverlabel\": {\"align\": \"left\"}, \"hovermode\": \"closest\", \"mapbox\": {\"style\": \"light\"}, \"paper_bgcolor\": \"white\", \"plot_bgcolor\": \"#E5ECF6\", \"polar\": {\"angularaxis\": {\"gridcolor\": \"white\", \"linecolor\": \"white\", \"ticks\": \"\"}, \"bgcolor\": \"#E5ECF6\", \"radialaxis\": {\"gridcolor\": \"white\", \"linecolor\": \"white\", \"ticks\": \"\"}}, \"scene\": {\"xaxis\": {\"backgroundcolor\": \"#E5ECF6\", \"gridcolor\": \"white\", \"gridwidth\": 2, \"linecolor\": \"white\", \"showbackground\": true, \"ticks\": \"\", \"zerolinecolor\": \"white\"}, \"yaxis\": {\"backgroundcolor\": \"#E5ECF6\", \"gridcolor\": \"white\", \"gridwidth\": 2, \"linecolor\": \"white\", \"showbackground\": true, \"ticks\": \"\", \"zerolinecolor\": \"white\"}, \"zaxis\": {\"backgroundcolor\": \"#E5ECF6\", \"gridcolor\": \"white\", \"gridwidth\": 2, \"linecolor\": \"white\", \"showbackground\": true, \"ticks\": \"\", \"zerolinecolor\": \"white\"}}, \"shapedefaults\": {\"line\": {\"color\": \"#2a3f5f\"}}, \"ternary\": {\"aaxis\": {\"gridcolor\": \"white\", \"linecolor\": \"white\", \"ticks\": \"\"}, \"baxis\": {\"gridcolor\": \"white\", \"linecolor\": \"white\", \"ticks\": \"\"}, \"bgcolor\": \"#E5ECF6\", \"caxis\": {\"gridcolor\": \"white\", \"linecolor\": \"white\", \"ticks\": \"\"}}, \"title\": {\"x\": 0.05}, \"xaxis\": {\"automargin\": true, \"gridcolor\": \"white\", \"linecolor\": \"white\", \"ticks\": \"\", \"title\": {\"standoff\": 15}, \"zerolinecolor\": \"white\", \"zerolinewidth\": 2}, \"yaxis\": {\"automargin\": true, \"gridcolor\": \"white\", \"linecolor\": \"white\", \"ticks\": \"\", \"title\": {\"standoff\": 15}, \"zerolinecolor\": \"white\", \"zerolinewidth\": 2}}}, \"xaxis\": {\"anchor\": \"y\", \"domain\": [0.0, 1.0], \"title\": {\"text\": \"similarit\\u00e9_ruffin\"}}, \"yaxis\": {\"anchor\": \"x\", \"domain\": [0.0, 1.0], \"title\": {\"text\": \"similarit\\u00e9_abad\"}}},                        {\"responsive\": true}                    ).then(function(){\n",
       "                            \n",
       "var gd = document.getElementById('44578d6d-59e5-48ea-99de-cface118cf02');\n",
       "var x = new MutationObserver(function (mutations, observer) {{\n",
       "        var display = window.getComputedStyle(gd).display;\n",
       "        if (!display || display === 'none') {{\n",
       "            console.log([gd, 'removed!']);\n",
       "            Plotly.purge(gd);\n",
       "            observer.disconnect();\n",
       "        }}\n",
       "}});\n",
       "\n",
       "// Listen for the removal of the full notebook cells\n",
       "var notebookContainer = gd.closest('#notebook-container');\n",
       "if (notebookContainer) {{\n",
       "    x.observe(notebookContainer, {childList: true});\n",
       "}}\n",
       "\n",
       "// Listen for the clearing of the current output cell\n",
       "var outputEl = gd.closest('.output');\n",
       "if (outputEl) {{\n",
       "    x.observe(outputEl, {childList: true});\n",
       "}}\n",
       "\n",
       "                        })                };                });            </script>        </div>"
      ]
     },
     "metadata": {},
     "output_type": "display_data"
    }
   ],
   "source": [
    "import pandas as pd\n",
    "\n",
    "from bokeh.plotting import figure, output_file, show\n",
    "députés_id = [int(x) for x in list(sorted(députés_par_id.keys()))]\n",
    "partis = [députés_par_id[id]['Groupe politique (complet)'] for id in députés_id]\n",
    "noms = [(députés_par_id[id]['Nom'] + ' ' + députés_par_id[id]['Prénom']) for id in députés_id]\n",
    "\n",
    "ruffin = 722142\n",
    "bergé = 722046\n",
    "abad = 605036\n",
    "\n",
    "data = []\n",
    "for id in députés_id:\n",
    "    if similarité(id, ruffin)[1] < 20:\n",
    "        continue\n",
    "    data.append({\n",
    "        'similarity_ruffin': 1-similarité(id, ruffin)[0],\n",
    "        'similarity_bergé': 1-similarité(id, bergé)[0],\n",
    "        'similarity_abad': 1-similarité(id, abad)[0],\n",
    "        'total_ruffin': similarité(id, ruffin)[1],\n",
    "        'total_abad': similarité(id, abad)[1],\n",
    "        'nom': députés_par_id[id]['Nom'] + ' ' + députés_par_id[id]['Prénom'],\n",
    "        'parti': députés_par_id[id]['Groupe politique (complet)'],\n",
    "        'hover': députés_par_id[id]['Nom'] + ' ' + députés_par_id[id]['Prénom'] + ' (' + str(similarité(id, ruffin)[1]) + ', ' + str(similarité(id, abad)[1]) + ')',\n",
    "    })\n",
    "df = pd.DataFrame(data)\n",
    "import plotly.express as px\n",
    "# fig = px.scatter_3d(df, x=df.similarité_ruffin, y=df.similarité_bergé, z=df.similarité_abad, color=partis, hover_name='nom')\n",
    "fig = px.scatter(df, x=df.similarity_ruffin, y=df.similarity_abad, color=df.parti, hover_name='hover')\n",
    "fig.show()\n",
    "fig.write_html(\"demo.html\")"
   ]
  },
  {
   "cell_type": "code",
   "execution_count": 28,
   "metadata": {},
   "outputs": [
    {
     "data": {
      "application/vnd.plotly.v1+json": {
       "config": {
        "plotlyServerURL": "https://plot.ly"
       },
       "data": [
        {
         "hovertemplate": "color=Gauche démocrate et républicaine<br>x=%{x}<br>y=%{y}<extra></extra>",
         "legendgroup": "Gauche démocrate et républicaine",
         "marker": {
          "color": "#636efa",
          "symbol": "circle"
         },
         "mode": "markers",
         "name": "Gauche démocrate et républicaine",
         "orientation": "v",
         "showlegend": true,
         "type": "scatter",
         "x": [
          0.911504424778761,
          0.9304347826086956,
          0.9278846153846154,
          0.9375,
          0.8333333333333334,
          0.7830188679245284,
          0.9054726368159204,
          0.9409282700421941,
          0.9343434343434344,
          0.9090909090909091,
          0.6153846153846154,
          0.8666666666666667,
          0.935,
          0.9387755102040817,
          0.9050279329608939,
          0.9433962264150944
         ],
         "xaxis": "x",
         "y": [
          0.134020618556701,
          0.12149532710280375,
          0.16753926701570676,
          0.08900523560209428,
          0.14563106796116498,
          0.1724137931034483,
          0.1583710407239819,
          0.14066496163682862,
          0.07169811320754715,
          0.1097560975609756,
          0.26027397260273966,
          0.17924528301886788,
          0.16363636363636358,
          0.19907407407407407,
          0.13207547169811318,
          0.09665427509293678
         ],
         "yaxis": "y"
        },
        {
         "hovertemplate": "color=Socialistes et apparentés<br>x=%{x}<br>y=%{y}<extra></extra>",
         "legendgroup": "Socialistes et apparentés",
         "marker": {
          "color": "#EF553B",
          "symbol": "circle"
         },
         "mode": "markers",
         "name": "Socialistes et apparentés",
         "orientation": "v",
         "showlegend": true,
         "type": "scatter",
         "x": [
          0.7619047619047619,
          0.7642276422764228,
          0.6982758620689655,
          0.7342657342657343,
          0.7906976744186046,
          0.7131782945736435,
          0.7642276422764228,
          0.6917808219178082,
          0.7735849056603774,
          0.7606837606837606,
          0.7627118644067796,
          0.7433628318584071,
          0.6923076923076923,
          0.7448979591836735,
          0.6774193548387096,
          0.7191780821917808,
          0.7647058823529411,
          0.7804878048780488,
          0.7309941520467836,
          0.6818181818181818,
          0.7696335078534031,
          0.6556291390728477,
          0.7816091954022989,
          0.762589928057554,
          0.7832167832167832,
          0.7457627118644068,
          0.753968253968254,
          0.7222222222222222,
          0.819672131147541,
          0.7
         ],
         "xaxis": "x",
         "y": [
          0.16535433070866146,
          0.15102040816326534,
          0.18497109826589597,
          0.13903743315508021,
          0.1694915254237288,
          0.2222222222222222,
          0.1470588235294118,
          0.25,
          0.16546762589928055,
          0.25806451612903225,
          0.21656050955414008,
          0.2407407407407407,
          0.2085106382978723,
          0.21387283236994215,
          0.33333333333333326,
          0.2432432432432432,
          0.2264150943396226,
          0.2272727272727273,
          0.2274881516587678,
          0.2420382165605095,
          0.185430463576159,
          0.26973684210526316,
          0.16129032258064513,
          0.18367346938775508,
          0.1929824561403508,
          0.16935483870967738,
          0.21287128712871284,
          0.2277227722772277,
          0.12927756653992395,
          0.226027397260274
         ],
         "yaxis": "y"
        },
        {
         "hovertemplate": "color=La République en Marche<br>x=%{x}<br>y=%{y}<extra></extra>",
         "legendgroup": "La République en Marche",
         "marker": {
          "color": "#00cc96",
          "symbol": "circle"
         },
         "mode": "markers",
         "name": "La République en Marche",
         "orientation": "v",
         "showlegend": true,
         "type": "scatter",
         "x": [
          0.101010101010101,
          0.11206896551724133,
          0.0854700854700855,
          0.10399999999999998,
          0.11111111111111116,
          0.10852713178294571,
          0.02608695652173909,
          0.08695652173913038,
          0.09615384615384615,
          0.1071428571428571,
          0.08421052631578951,
          0.08849557522123896,
          0.1376811594202898,
          0.016064257028112428,
          0.07999999999999996,
          0.08771929824561409,
          0.09411764705882353,
          0.15328467153284675,
          0.10810810810810811,
          0.07594936708860756,
          0.07272727272727275,
          0.07843137254901955,
          0.08653846153846156,
          0.15131578947368418,
          0.10106382978723405,
          0.1428571428571428,
          0.08762886597938147,
          0.11979166666666663,
          0.1166666666666667,
          0.07999999999999996,
          0.14179104477611937,
          0.1071428571428571,
          0.08252427184466016,
          0.1063829787234043,
          0.11016949152542377,
          0.10280373831775702,
          0.09302325581395343,
          0.08743169398907102,
          0.11428571428571432,
          0.08866995073891626,
          0.08974358974358976,
          0.07476635514018692,
          0.09302325581395343,
          0.0948905109489051,
          0.0980392156862745,
          0.11486486486486491,
          0.10365853658536583,
          0.07092198581560283,
          0.10399999999999998,
          0.09999999999999998,
          0.07831325301204817,
          0.07258064516129037,
          0.11333333333333329,
          0.08641975308641969,
          0.09999999999999998,
          0.09615384615384615,
          0.11180124223602483,
          0.09278350515463918,
          0.08196721311475408,
          0.08403361344537819,
          0.10769230769230775,
          0.08163265306122447,
          0.08333333333333337,
          0.0927152317880795,
          0.09917355371900827,
          0.10759493670886078,
          0.13197969543147203,
          0.11764705882352944,
          0.08294930875576034,
          0.08764940239043828,
          0.0854700854700855,
          0.09160305343511455,
          0.06666666666666665,
          0.1095890410958904,
          0.11165048543689315,
          0.11764705882352944,
          0.07317073170731703,
          0.08805031446540879,
          0.08799999999999997,
          0.09137055837563457,
          0.09420289855072461,
          0.0980392156862745,
          0.10439560439560436,
          0.09150326797385622,
          0.08108108108108114,
          0.08064516129032262,
          0.10429447852760731,
          0.0888888888888889,
          0.09433962264150941,
          0.1202185792349727,
          0.07947019867549665,
          0.09558823529411764,
          0.0714285714285714,
          0.09756097560975607,
          0.08080808080808077,
          0.13829787234042556,
          0.09933774834437081,
          0.08762886597938147,
          0.07432432432432434,
          0.08695652173913038,
          0.12751677852348997,
          0.10429447852760731,
          0.0786516853932584,
          0.10655737704918034,
          0.10828025477707004,
          0.06153846153846154,
          0.07784431137724557,
          0.0793650793650793,
          0.10784313725490202,
          0.10843373493975905,
          0.10091743119266061,
          0.07999999999999996,
          0.08088235294117652,
          0.08181818181818179,
          0.08571428571428574,
          0.10843373493975905,
          0.11042944785276076,
          0.19999999999999996,
          0.10344827586206895,
          0.07194244604316546,
          0.09865470852017932,
          0.06944444444444442,
          0.09448818897637801,
          0.09090909090909094,
          0.14207650273224037,
          0.12345679012345678,
          0.09223300970873782,
          0.08661417322834641,
          0.09594095940959413,
          0.09954751131221717,
          0.08552631578947367,
          0.078125,
          0.07537688442211055,
          0.0972972972972973,
          0.09638554216867468,
          0.09448818897637801,
          0.12396694214876036,
          0.11926605504587151,
          0.10050251256281406,
          0.1159420289855072,
          0.09589041095890405,
          0.07518796992481203,
          0.08536585365853655,
          0.09999999999999998,
          0.10135135135135132,
          0.054878048780487854,
          0.08284023668639051,
          0.07317073170731703,
          0.1071428571428571,
          0.07086614173228345,
          0.06164383561643838,
          0.1116071428571429,
          0.07643312101910826,
          0.09090909090909094,
          0.08421052631578951,
          0.10606060606060608,
          0.09871244635193133,
          0.08227848101265822,
          0.09836065573770492,
          0.06000000000000005,
          0.11224489795918369,
          0.10928961748633881,
          0.10344827586206895,
          0.07462686567164178,
          0.08917197452229297,
          0.09708737864077666,
          0.13772455089820357,
          0.09933774834437081,
          0.11111111111111116,
          0.1338028169014085,
          0.07272727272727275,
          0.08024691358024694,
          0.11016949152542377,
          0.08823529411764708,
          0.11971830985915488,
          0.06015037593984962,
          0.12280701754385959,
          0.08571428571428574,
          0.08333333333333337,
          0.09756097560975607,
          0.1351351351351351,
          0.14583333333333337,
          0.07853403141361259,
          0.0972972972972973,
          0.0738255033557047,
          0.10285714285714287,
          0.11711711711711714,
          0.09352517985611508,
          0.12173913043478257,
          0.08196721311475408,
          0.09146341463414631,
          0.06493506493506496,
          0.12658227848101267,
          0.0977011494252874,
          0.09150326797385622,
          0.0980392156862745,
          0.0862068965517242,
          0.11602209944751385,
          0.07537688442211055,
          0.0337078651685393,
          0.11363636363636365,
          0.09345794392523366,
          0.10126582278481011,
          0.08737864077669899,
          0.08333333333333337,
          0.07236842105263164,
          0.08333333333333337,
          0.08411214953271029,
          0.09326424870466321,
          0.11976047904191622,
          0.108843537414966,
          0.10465116279069764,
          0.09027777777777779,
          0.06766917293233088,
          0.0738255033557047,
          0.08737864077669899,
          0.12389380530973448,
          0.07843137254901955,
          0.08695652173913038,
          0.12142857142857144,
          0.08904109589041098,
          0.078125,
          0.12252964426877466,
          0.07006369426751591,
          0.11428571428571432,
          0.06976744186046513,
          0.08823529411764708,
          0.09859154929577463,
          0.09583333333333333,
          0.125,
          0.10924369747899165,
          0.11442786069651745,
          0.07228915662650603,
          0.09444444444444444,
          0.08383233532934131,
          0.08666666666666667,
          0.10377358490566035,
          0.125,
          0.06730769230769229,
          0.10389610389610393,
          0.12068965517241381,
          0.0854700854700855,
          0.09558823529411764,
          0.08152173913043481,
          0.08484848484848484,
          0.08938547486033521,
          0.09150326797385622,
          0.08974358974358976,
          0.07692307692307687,
          0.07333333333333336,
          0.060975609756097615,
          0.08241758241758246,
          0.08252427184466016,
          0.1923076923076923,
          0.099290780141844,
          0.08808290155440412,
          0.08484848484848484,
          0.08552631578947367,
          0.10824742268041243,
          0.10828025477707004,
          0.07070707070707072,
          0.06321839080459768,
          0.09090909090909094,
          0.07594936708860756,
          0.10439560439560436,
          0.0888888888888889,
          0.10588235294117643,
          0.09146341463414631,
          0.11956521739130432,
          0.1694915254237288,
          0.101123595505618,
          0.10362694300518138,
          0.0703125,
          0.03508771929824561,
          0.0691823899371069,
          0.09793814432989689,
          0.0730337078651685,
          0.0680272108843537,
          0.10666666666666669,
          0.10280373831775702,
          0.14,
          0.08904109589041098,
          0.08609271523178808,
          0.03809523809523807,
          0.1288343558282209,
          0.0888888888888889,
          0.07438016528925617,
          0.08849557522123896,
          0.09243697478991597,
          0.08499999999999996,
          0.0964912280701754,
          0.09333333333333338,
          0.09473684210526312,
          0.10691823899371067,
          0.09883720930232553,
          0.09917355371900827,
          0.12328767123287676
         ],
         "xaxis": "x",
         "y": [
          0.9647887323943662,
          0.9631578947368421,
          0.9310344827586207,
          0.9305555555555556,
          0.9310344827586207,
          0.9642857142857143,
          0.2542372881355932,
          0.9693877551020408,
          0.8098159509202454,
          0.9891304347826086,
          0.9897959183673469,
          0.9736842105263158,
          0.9212121212121213,
          0.08925318761384338,
          0.9655172413793104,
          0.988950276243094,
          0.9666666666666667,
          0.8211009174311926,
          0.9765625,
          0.9423076923076923,
          0.9230769230769231,
          0.9866666666666667,
          0.9826086956521739,
          0.8881987577639752,
          0.9109311740890689,
          0.9351851851851852,
          0.9709677419354839,
          0.8923076923076924,
          0.895,
          0.9507389162561576,
          0.8819444444444444,
          0.8679245283018868,
          0.9744408945686901,
          0.935064935064935,
          0.958041958041958,
          0.9767441860465116,
          0.8518518518518519,
          0.9624060150375939,
          0.8322147651006712,
          0.9409090909090909,
          0.9470899470899471,
          0.9715909090909091,
          0.945,
          0.9617834394904459,
          0.9735849056603774,
          0.9513888888888888,
          0.9727891156462585,
          0.9538461538461539,
          0.8524590163934426,
          0.974025974025974,
          0.9320987654320988,
          0.9277777777777778,
          0.9415584415584416,
          0.9484978540772532,
          0.9552238805970149,
          0.9662921348314607,
          0.9266666666666666,
          0.9741100323624595,
          0.952,
          0.9064748201438849,
          0.9626168224299065,
          0.9585062240663901,
          0.9533333333333334,
          0.8798586572438163,
          0.9554140127388535,
          0.973404255319149,
          0.909967845659164,
          0.9148148148148149,
          0.9136904761904762,
          0.9786585365853658,
          0.9234972677595629,
          0.9698795180722891,
          0.9767441860465116,
          0.9054441260744985,
          0.9393939393939394,
          0.937984496124031,
          0.975609756097561,
          0.9380530973451328,
          0.96,
          0.9669117647058824,
          0.9570815450643777,
          0.944954128440367,
          0.9466192170818505,
          0.9186046511627907,
          0.9459459459459459,
          0.9418181818181818,
          0.9558011049723757,
          0.9666666666666667,
          0.9305555555555556,
          0.9212598425196851,
          0.9076923076923077,
          0.9285714285714286,
          0.9128630705394191,
          0.8812785388127854,
          0.9576547231270358,
          0.8947368421052632,
          0.9569377990430622,
          0.9704301075268817,
          0.9523809523809523,
          0.9631901840490797,
          0.9173913043478261,
          0.9333333333333333,
          0.9873817034700315,
          0.9534883720930233,
          0.946058091286307,
          0.9869281045751634,
          0.9653179190751445,
          0.9789029535864979,
          0.9420849420849421,
          0.890625,
          0.9705882352941176,
          0.8882978723404256,
          0.9660194174757282,
          0.9868421052631579,
          0.9246231155778895,
          0.9742268041237113,
          0.9345794392523364,
          0.9666666666666667,
          0.96,
          0.9539473684210527,
          0.9826086956521739,
          0.9702380952380952,
          0.9190751445086706,
          0.973404255319149,
          0.9461538461538461,
          0.9078947368421053,
          0.9667673716012085,
          0.9619565217391305,
          0.958963282937365,
          0.9556786703601108,
          0.9484978540772532,
          0.9310344827586207,
          0.9173228346456693,
          0.9300699300699301,
          0.921875,
          0.9457013574660633,
          0.8894009216589862,
          0.9609375,
          0.9347079037800687,
          0.9683908045977011,
          0.9463414634146341,
          0.9473684210526315,
          0.922077922077922,
          0.9621212121212122,
          0.9662447257383966,
          0.8687782805429864,
          0.9728260869565217,
          0.9115646258503401,
          0.8848167539267016,
          0.788659793814433,
          0.9326424870466321,
          0.9574468085106383,
          0.9746835443037974,
          0.9595959595959596,
          0.7874015748031497,
          0.8767772511848341,
          0.9397260273972603,
          0.975,
          0.9656488549618321,
          0.9353233830845771,
          0.9484536082474226,
          0.950207468879668,
          0.9411764705882353,
          0.9836956521739131,
          0.9703703703703703,
          0.9848484848484849,
          0.946236559139785,
          0.9537037037037037,
          0.9105263157894737,
          0.9761904761904762,
          0.9708029197080292,
          0.9663865546218487,
          0.9647058823529412,
          0.9605263157894737,
          0.9565217391304348,
          0.9105691056910569,
          0.9850746268656716,
          0.9473684210526315,
          0.9836956521739131,
          0.9665071770334929,
          0.9671361502347418,
          0.9283276450511946,
          0.8363636363636363,
          0.9909365558912386,
          0.9453781512605042,
          0.9315789473684211,
          0.9636363636363636,
          0.9624413145539906,
          0.9294871794871795,
          0.9632107023411371,
          0.9291338582677166,
          0.9364161849710982,
          0.8987341772151899,
          0.9568627450980393,
          0.9095022624434389,
          0.9265734265734266,
          0.9375,
          0.9319526627218935,
          0.9627906976744186,
          0.90625,
          0.9404761904761905,
          0.9743589743589743,
          0.984251968503937,
          0.9175257731958762,
          0.9642857142857143,
          0.9731800766283525,
          0.9629629629629629,
          0.9393939393939394,
          0.904,
          0.9541666666666667,
          0.9318181818181818,
          0.9536231884057971,
          0.9409282700421941,
          0.857707509881423,
          0.9341317365269461,
          0.9327731092436975,
          0.9423076923076923,
          0.9506172839506173,
          0.9295774647887324,
          0.9044117647058824,
          0.9455782312925171,
          0.9523809523809523,
          0.9193548387096774,
          0.9390862944162437,
          0.9692832764505119,
          0.9682539682539683,
          0.9595375722543352,
          0.9305555555555556,
          0.9700598802395209,
          0.9642857142857143,
          0.930379746835443,
          0.9567099567099567,
          0.9083333333333333,
          0.9383886255924171,
          0.92,
          0.9623655913978495,
          0.9265536723163842,
          0.9822485207100592,
          0.9903846153846154,
          0.9476439790575916,
          0.9513513513513514,
          0.9523809523809523,
          0.927710843373494,
          0.9579579579579579,
          0.9766081871345029,
          0.9548022598870056,
          0.9829059829059829,
          0.981042654028436,
          0.9514563106796117,
          0.8854166666666666,
          0.6594594594594595,
          0.9501915708812261,
          0.9702970297029703,
          0.9615384615384616,
          0.9398907103825137,
          0.975609756097561,
          0.9254385964912281,
          0.9804878048780488,
          0.9350180505415162,
          0.9921259842519685,
          0.9652777777777778,
          0.9742268041237113,
          0.9083969465648855,
          0.9895287958115183,
          1,
          0.9617021276595744,
          0.8768115942028986,
          0.96045197740113,
          0.9626168224299065,
          0.92,
          0.9516728624535316,
          0.9518518518518518,
          0.944,
          0.8987341772151899,
          0.9581151832460733,
          0.9358974358974359,
          0.9832214765100671,
          0.9770642201834863,
          0.9417989417989417,
          0.9277566539923955,
          0.9361702127659575,
          0.9695121951219512,
          0.9814126394052045,
          0.9439252336448598,
          0.8343949044585988,
          0.9551282051282052,
          0.9703703703703703,
          0.9440559440559441,
          0.9574468085106383,
          0.959731543624161,
          0.9391304347826087,
          0.9888888888888889,
          0.9661016949152542,
          0.9491525423728814,
          0.9411764705882353,
          0.9931506849315068,
          0.9495798319327731
         ],
         "yaxis": "y"
        },
        {
         "hovertemplate": "color=Les Républicains<br>x=%{x}<br>y=%{y}<extra></extra>",
         "legendgroup": "Les Républicains",
         "marker": {
          "color": "#ab63fa",
          "symbol": "circle"
         },
         "mode": "markers",
         "name": "Les Républicains",
         "orientation": "v",
         "showlegend": true,
         "type": "scatter",
         "x": [
          0.4946236559139785,
          0.45192307692307687,
          0.47967479674796754,
          0.5145631067961165,
          0.4418604651162791,
          0.5655737704918032,
          0.5222222222222223,
          0.42500000000000004,
          0.4819277108433735,
          0.5053763440860215,
          0.4736842105263157,
          0.43975903614457823,
          0.6049382716049383,
          0.584070796460177,
          0.48672566371681414,
          0.5227272727272727,
          0.5287356321839081,
          0.6021505376344086,
          0.5113636363636364,
          0.40714285714285714,
          0.5096153846153846,
          0.5217391304347826,
          0.527027027027027,
          0.47126436781609193,
          0.4552238805970149,
          0.4873949579831933,
          0.4910714285714286,
          0.5321100917431193,
          0.5478260869565217,
          0.5040650406504065,
          0.48571428571428577,
          0.5288461538461539,
          0.5463917525773195,
          0.5371900826446281,
          0.5648854961832062,
          0.5,
          0.4301075268817205,
          0.4521739130434783,
          0.4065040650406504,
          0.5402298850574713,
          0.4526315789473685,
          0.5702479338842975,
          0.4811320754716981,
          0.5368421052631579,
          0.5287356321839081,
          0.4946236559139785,
          0.5,
          0.5803571428571429,
          0.5135135135135135,
          0.5371900826446281,
          0.5299145299145299,
          0.47899159663865554,
          0.5431034482758621,
          0.45251396648044695,
          0.5126050420168067,
          0.5476190476190477,
          0.4838709677419355,
          0.40816326530612246,
          0.5590551181102362,
          0.4600760456273765,
          0.5221238938053098,
          0.4883720930232558,
          0.47619047619047616,
          0.5135135135135135,
          0.5327102803738317,
          0.5483870967741935,
          0.47953216374269003,
          0.5373134328358209,
          0.5392156862745098,
          0.5060240963855421,
          0.4897959183673469,
          0.5419847328244275,
          0.3909090909090909,
          0.5140845070422535,
          0.5205479452054794,
          0.5608108108108109,
          0.5555555555555556,
          0.543859649122807,
          0.53,
          0.491891891891892,
          0.5208333333333334,
          0.5658914728682171,
          0.5141242937853108,
          0.49425287356321834,
          0.5642857142857143,
          0.47058823529411764,
          0.4558823529411764,
          0.490066225165563,
          0.5511811023622047,
          0.4954128440366973,
          0.46341463414634143,
          0.46923076923076923,
          0.3913043478260869,
          0.5983606557377049,
          0.5324675324675324,
          0.5211267605633803,
          0.4756756756756757,
          0.5436893203883495,
          0.4553571428571428,
          0.6260162601626016,
          0.5689655172413793,
          0.5934959349593496,
          0.5698924731182796,
          0.532258064516129
         ],
         "xaxis": "x",
         "y": [
          0.37614678899082565,
          0.3257575757575757,
          0.3081395348837209,
          0.29565217391304355,
          0.4418604651162791,
          0.35403726708074534,
          0.4157303370786517,
          0.45871559633027525,
          0.44736842105263164,
          0.4148936170212766,
          0.3836477987421384,
          0.22456140350877196,
          0.36363636363636365,
          0.35344827586206895,
          0.32795698924731176,
          0.38,
          0.41463414634146334,
          0.3763440860215054,
          0.4065934065934066,
          0.5051020408163265,
          0.2466666666666667,
          0.3076923076923077,
          0.3003663003663004,
          0.3063063063063063,
          0.367816091954023,
          0.2913907284768211,
          0.5068493150684932,
          0.3856209150326797,
          0.3471074380165289,
          0.39226519337016574,
          0.3840579710144927,
          0.3786407766990292,
          0.43220338983050843,
          0.23853211009174313,
          0.2846153846153846,
          0.392,
          0.3652173913043478,
          0.40458015267175573,
          0.375,
          0.4,
          0.4356435643564356,
          0.35519125683060104,
          0.40645161290322585,
          0.3769230769230769,
          0.40476190476190477,
          0.30530973451327426,
          0.30714285714285716,
          0.34745762711864403,
          0.3984375,
          0.2675159235668789,
          0.3955223880597014,
          0.3443708609271523,
          0.3246753246753247,
          0.3142857142857143,
          0.3900709219858156,
          0.3377483443708609,
          0.4457831325301205,
          0.2701754385964912,
          0.27586206896551724,
          0.36389684813753576,
          0.34751773049645385,
          0.3422222222222222,
          0.36458333333333326,
          0.35507246376811596,
          0.36363636363636365,
          0.27567567567567575,
          0.3125,
          0.4526315789473685,
          0.3853211009174312,
          0.2811244979919678,
          0.3827751196172249,
          0.2955974842767295,
          0.3292682926829269,
          0.3400000000000001,
          0.3526785714285714,
          0.3296089385474861,
          0.2651162790697674,
          0.3315217391304348,
          0.3853211009174312,
          0.30175438596491233,
          0.4095238095238095,
          0.261744966442953,
          0.3221153846153846,
          0.30364372469635625,
          0.2748091603053435,
          0.35504885993485336,
          0.4029850746268657,
          0.3364928909952607,
          0.3141025641025641,
          0.36036036036036034,
          0.4415584415584415,
          0.24875621890547261,
          0.3534031413612566,
          0.38144329896907214,
          0.28761061946902655,
          0.273469387755102,
          0.3323076923076923,
          0.36363636363636365,
          0.42307692307692313,
          0.26900584795321636,
          0.3728813559322034,
          0.30964467005076135,
          0.39682539682539675,
          0.4057971014492754
         ],
         "yaxis": "y"
        },
        {
         "hovertemplate": "color=Libertés et Territoires<br>x=%{x}<br>y=%{y}<extra></extra>",
         "legendgroup": "Libertés et Territoires",
         "marker": {
          "color": "#FFA15A",
          "symbol": "circle"
         },
         "mode": "markers",
         "name": "Libertés et Territoires",
         "orientation": "v",
         "showlegend": true,
         "type": "scatter",
         "x": [
          0.35,
          0.7978723404255319,
          0.4571428571428571,
          0.3717948717948718,
          0.36190476190476195,
          0.6097560975609756,
          0.46808510638297873,
          0.6263736263736264,
          0.3801652892561984,
          0.5,
          0.5033557046979866,
          0.6432748538011696,
          0.697986577181208,
          0.6551724137931034,
          0.625,
          0.18584070796460184,
          0.17647058823529416,
          0.3203883495145632,
          0.33571428571428563,
          0.18918918918918926
         ],
         "xaxis": "x",
         "y": [
          0.4532374100719425,
          0.2432432432432432,
          0.346938775510204,
          0.3281853281853282,
          0.4453781512605042,
          0.24698795180722888,
          0.4639175257731959,
          0.2755905511811023,
          0.5047619047619047,
          0.35,
          0.39473684210526316,
          0.203125,
          0.24848484848484853,
          0.1914893617021276,
          0.265625,
          0.7387387387387387,
          0.70625,
          0.6689655172413793,
          0.5333333333333333,
          0.5625
         ],
         "yaxis": "y"
        },
        {
         "hovertemplate": "color=Non inscrit<br>x=%{x}<br>y=%{y}<extra></extra>",
         "legendgroup": "Non inscrit",
         "marker": {
          "color": "#19d3f3",
          "symbol": "circle"
         },
         "mode": "markers",
         "name": "Non inscrit",
         "orientation": "v",
         "showlegend": true,
         "type": "scatter",
         "x": [
          0.7777777777777778,
          0.7807017543859649,
          0.11842105263157898,
          0.12244897959183676,
          0.46808510638297873,
          0.19753086419753085,
          0.5308219178082192,
          0.06060606060606055,
          0.6363636363636364,
          0.14035087719298245,
          0.18285714285714283,
          0.5714285714285714,
          0.6864406779661016,
          0.6754385964912281,
          0.6483516483516484,
          0.6417910447761194,
          0.039215686274509776,
          0.1747572815533981,
          0.13901345291479816,
          0.5462962962962963
         ],
         "xaxis": "x",
         "y": [
          0.07042253521126762,
          0.25806451612903225,
          0.7247706422018348,
          0.9225352112676056,
          0.10144927536231885,
          0.6136363636363636,
          0.2411214953271028,
          0.9711538461538461,
          0.23124999999999996,
          0.7251908396946565,
          0.7682119205298014,
          0.23834196891191706,
          0.2442748091603053,
          0.04761904761904767,
          0.2743362831858407,
          0.22695035460992907,
          0.819672131147541,
          0.7024793388429752,
          0.8713826366559485,
          0.18652849740932642
         ],
         "yaxis": "y"
        },
        {
         "hovertemplate": "color=Mouvement Démocrate et apparentés<br>x=%{x}<br>y=%{y}<extra></extra>",
         "legendgroup": "Mouvement Démocrate et apparentés",
         "marker": {
          "color": "#FF6692",
          "symbol": "circle"
         },
         "mode": "markers",
         "name": "Mouvement Démocrate et apparentés",
         "orientation": "v",
         "showlegend": true,
         "type": "scatter",
         "x": [
          0.09677419354838712,
          0.09565217391304348,
          0.13888888888888884,
          0.13475177304964536,
          0.09615384615384615,
          0.13953488372093026,
          0.12857142857142856,
          0.08849557522123896,
          0.1270718232044199,
          0.12299465240641716,
          0.1578947368421053,
          0.0898876404494382,
          0.12,
          0.08383233532934131,
          0.29054054054054057,
          0.11612903225806448,
          0.09615384615384615,
          0.151685393258427,
          0.17449664429530198,
          0.12804878048780488,
          0.11194029850746268,
          0.08333333333333337,
          0.07758620689655171,
          0.16778523489932884,
          0.07650273224043713,
          0.07643312101910826,
          0.12598425196850394,
          0.17567567567567566,
          0.1578947368421053,
          0.19512195121951215,
          0.17757009345794394,
          0.11805555555555558,
          0.18823529411764706,
          0.11111111111111116,
          0.0859375,
          0.08411214953271029,
          0.099290780141844,
          0.14210526315789473,
          0.08208955223880599,
          0.14423076923076916,
          0.16355140186915884,
          0.12213740458015265,
          0.1132075471698113,
          0.10052910052910047,
          0.09219858156028371,
          0.11627906976744184
         ],
         "xaxis": "x",
         "y": [
          0.94,
          0.9583333333333334,
          0.845771144278607,
          0.864406779661017,
          0.8934426229508197,
          0.9090909090909091,
          0.9387755102040817,
          0.9251700680272109,
          0.8810408921933085,
          0.8954703832752613,
          0.8606060606060606,
          0.9509803921568627,
          0.8881118881118881,
          0.8814432989690721,
          0.8098159509202454,
          0.88125,
          0.9426229508196722,
          0.8537549407114624,
          0.8138801261829653,
          0.9052631578947369,
          0.926605504587156,
          0.9528795811518325,
          0.9459459459459459,
          0.8424242424242424,
          0.9489795918367347,
          0.6275303643724697,
          0.9083969465648855,
          0.9090909090909091,
          0.8911764705882353,
          0.8097826086956522,
          0.7857142857142857,
          0.9295154185022027,
          0.7253521126760564,
          0.9372549019607843,
          0.9294117647058824,
          0.9159663865546218,
          0.9252669039145908,
          0.881578947368421,
          0.9219858156028369,
          0.8773333333333333,
          0.8761904761904762,
          0.9166666666666666,
          0.9921875,
          0.9468085106382979,
          0.9090909090909091,
          0.8985507246376812
         ],
         "yaxis": "y"
        },
        {
         "hovertemplate": "color=La France insoumise<br>x=%{x}<br>y=%{y}<extra></extra>",
         "legendgroup": "La France insoumise",
         "marker": {
          "color": "#B6E880",
          "symbol": "circle"
         },
         "mode": "markers",
         "name": "La France insoumise",
         "orientation": "v",
         "showlegend": true,
         "type": "scatter",
         "x": [
          0.9881656804733728,
          0.9931972789115646,
          0.9938271604938271,
          0.9820359281437125,
          0.9826589595375722,
          0.9869281045751634,
          0.9861111111111112,
          0.9952830188679245,
          0.9824561403508771,
          0.9951690821256038,
          0.9902439024390244,
          0.9836956521739131,
          0.995260663507109,
          1,
          0.9944444444444445,
          0.9896907216494846,
          1
         ],
         "xaxis": "x",
         "y": [
          0.10994764397905765,
          0.08333333333333337,
          0.15243902439024393,
          0.10928961748633881,
          0.10160427807486627,
          0.1294964028776978,
          0.08585858585858586,
          0.07755102040816331,
          0.10119047619047616,
          0.12322274881516582,
          0.11417322834645671,
          0.10857142857142854,
          0.11250000000000004,
          0.10447761194029848,
          0.08247422680412375,
          0.1294964028776978,
          0.10439560439560436
         ],
         "yaxis": "y"
        },
        {
         "hovertemplate": "color=UDI, Agir et Indépendants<br>x=%{x}<br>y=%{y}<extra></extra>",
         "legendgroup": "UDI, Agir et Indépendants",
         "marker": {
          "color": "#FF97FF",
          "symbol": "circle"
         },
         "mode": "markers",
         "name": "UDI, Agir et Indépendants",
         "orientation": "v",
         "showlegend": true,
         "type": "scatter",
         "x": [
          0.10526315789473684,
          0.33673469387755106,
          0.21333333333333337,
          0.3614457831325302,
          0.21568627450980393,
          0.2517006802721089,
          0.3727272727272728,
          0.21250000000000002,
          0.3023255813953488,
          0.2134831460674157,
          0.3058252427184466,
          0.3191489361702128,
          0.2716049382716049,
          0.16000000000000003,
          0.2716763005780347,
          0.20833333333333337,
          0.34523809523809523,
          0.4017857142857143,
          0.21250000000000002,
          0.4347826086956521,
          0.30890052356020936,
          0.29565217391304355,
          0.29292929292929293,
          0.21875,
          0.3652173913043478,
          0.17333333333333334,
          0.23008849557522126
         ],
         "xaxis": "x",
         "y": [
          0.9090909090909091,
          0.4576271186440678,
          0.581081081081081,
          0.5052631578947369,
          0.719626168224299,
          0.4276729559748428,
          0.42999999999999994,
          0.7430555555555556,
          0.5346534653465347,
          0.7171717171717171,
          0.5208333333333334,
          0.49504950495049505,
          0.40963855421686746,
          0.5875,
          0.6594427244582043,
          0.6698113207547169,
          0.4368932038834952,
          0.48360655737704916,
          0.7943262411347518,
          0.5777777777777777,
          0.5970149253731343,
          0.5447761194029851,
          0.5714285714285714,
          0.5689655172413793,
          0.38,
          0.7913669064748201,
          0.6953125
         ],
         "yaxis": "y"
        }
       ],
       "layout": {
        "legend": {
         "title": {
          "text": "color"
         },
         "tracegroupgap": 0
        },
        "margin": {
         "t": 60
        },
        "template": {
         "data": {
          "bar": [
           {
            "error_x": {
             "color": "#2a3f5f"
            },
            "error_y": {
             "color": "#2a3f5f"
            },
            "marker": {
             "line": {
              "color": "#E5ECF6",
              "width": 0.5
             }
            },
            "type": "bar"
           }
          ],
          "barpolar": [
           {
            "marker": {
             "line": {
              "color": "#E5ECF6",
              "width": 0.5
             }
            },
            "type": "barpolar"
           }
          ],
          "carpet": [
           {
            "aaxis": {
             "endlinecolor": "#2a3f5f",
             "gridcolor": "white",
             "linecolor": "white",
             "minorgridcolor": "white",
             "startlinecolor": "#2a3f5f"
            },
            "baxis": {
             "endlinecolor": "#2a3f5f",
             "gridcolor": "white",
             "linecolor": "white",
             "minorgridcolor": "white",
             "startlinecolor": "#2a3f5f"
            },
            "type": "carpet"
           }
          ],
          "choropleth": [
           {
            "colorbar": {
             "outlinewidth": 0,
             "ticks": ""
            },
            "type": "choropleth"
           }
          ],
          "contour": [
           {
            "colorbar": {
             "outlinewidth": 0,
             "ticks": ""
            },
            "colorscale": [
             [
              0,
              "#0d0887"
             ],
             [
              0.1111111111111111,
              "#46039f"
             ],
             [
              0.2222222222222222,
              "#7201a8"
             ],
             [
              0.3333333333333333,
              "#9c179e"
             ],
             [
              0.4444444444444444,
              "#bd3786"
             ],
             [
              0.5555555555555556,
              "#d8576b"
             ],
             [
              0.6666666666666666,
              "#ed7953"
             ],
             [
              0.7777777777777778,
              "#fb9f3a"
             ],
             [
              0.8888888888888888,
              "#fdca26"
             ],
             [
              1,
              "#f0f921"
             ]
            ],
            "type": "contour"
           }
          ],
          "contourcarpet": [
           {
            "colorbar": {
             "outlinewidth": 0,
             "ticks": ""
            },
            "type": "contourcarpet"
           }
          ],
          "heatmap": [
           {
            "colorbar": {
             "outlinewidth": 0,
             "ticks": ""
            },
            "colorscale": [
             [
              0,
              "#0d0887"
             ],
             [
              0.1111111111111111,
              "#46039f"
             ],
             [
              0.2222222222222222,
              "#7201a8"
             ],
             [
              0.3333333333333333,
              "#9c179e"
             ],
             [
              0.4444444444444444,
              "#bd3786"
             ],
             [
              0.5555555555555556,
              "#d8576b"
             ],
             [
              0.6666666666666666,
              "#ed7953"
             ],
             [
              0.7777777777777778,
              "#fb9f3a"
             ],
             [
              0.8888888888888888,
              "#fdca26"
             ],
             [
              1,
              "#f0f921"
             ]
            ],
            "type": "heatmap"
           }
          ],
          "heatmapgl": [
           {
            "colorbar": {
             "outlinewidth": 0,
             "ticks": ""
            },
            "colorscale": [
             [
              0,
              "#0d0887"
             ],
             [
              0.1111111111111111,
              "#46039f"
             ],
             [
              0.2222222222222222,
              "#7201a8"
             ],
             [
              0.3333333333333333,
              "#9c179e"
             ],
             [
              0.4444444444444444,
              "#bd3786"
             ],
             [
              0.5555555555555556,
              "#d8576b"
             ],
             [
              0.6666666666666666,
              "#ed7953"
             ],
             [
              0.7777777777777778,
              "#fb9f3a"
             ],
             [
              0.8888888888888888,
              "#fdca26"
             ],
             [
              1,
              "#f0f921"
             ]
            ],
            "type": "heatmapgl"
           }
          ],
          "histogram": [
           {
            "marker": {
             "colorbar": {
              "outlinewidth": 0,
              "ticks": ""
             }
            },
            "type": "histogram"
           }
          ],
          "histogram2d": [
           {
            "colorbar": {
             "outlinewidth": 0,
             "ticks": ""
            },
            "colorscale": [
             [
              0,
              "#0d0887"
             ],
             [
              0.1111111111111111,
              "#46039f"
             ],
             [
              0.2222222222222222,
              "#7201a8"
             ],
             [
              0.3333333333333333,
              "#9c179e"
             ],
             [
              0.4444444444444444,
              "#bd3786"
             ],
             [
              0.5555555555555556,
              "#d8576b"
             ],
             [
              0.6666666666666666,
              "#ed7953"
             ],
             [
              0.7777777777777778,
              "#fb9f3a"
             ],
             [
              0.8888888888888888,
              "#fdca26"
             ],
             [
              1,
              "#f0f921"
             ]
            ],
            "type": "histogram2d"
           }
          ],
          "histogram2dcontour": [
           {
            "colorbar": {
             "outlinewidth": 0,
             "ticks": ""
            },
            "colorscale": [
             [
              0,
              "#0d0887"
             ],
             [
              0.1111111111111111,
              "#46039f"
             ],
             [
              0.2222222222222222,
              "#7201a8"
             ],
             [
              0.3333333333333333,
              "#9c179e"
             ],
             [
              0.4444444444444444,
              "#bd3786"
             ],
             [
              0.5555555555555556,
              "#d8576b"
             ],
             [
              0.6666666666666666,
              "#ed7953"
             ],
             [
              0.7777777777777778,
              "#fb9f3a"
             ],
             [
              0.8888888888888888,
              "#fdca26"
             ],
             [
              1,
              "#f0f921"
             ]
            ],
            "type": "histogram2dcontour"
           }
          ],
          "mesh3d": [
           {
            "colorbar": {
             "outlinewidth": 0,
             "ticks": ""
            },
            "type": "mesh3d"
           }
          ],
          "parcoords": [
           {
            "line": {
             "colorbar": {
              "outlinewidth": 0,
              "ticks": ""
             }
            },
            "type": "parcoords"
           }
          ],
          "pie": [
           {
            "automargin": true,
            "type": "pie"
           }
          ],
          "scatter": [
           {
            "marker": {
             "colorbar": {
              "outlinewidth": 0,
              "ticks": ""
             }
            },
            "type": "scatter"
           }
          ],
          "scatter3d": [
           {
            "line": {
             "colorbar": {
              "outlinewidth": 0,
              "ticks": ""
             }
            },
            "marker": {
             "colorbar": {
              "outlinewidth": 0,
              "ticks": ""
             }
            },
            "type": "scatter3d"
           }
          ],
          "scattercarpet": [
           {
            "marker": {
             "colorbar": {
              "outlinewidth": 0,
              "ticks": ""
             }
            },
            "type": "scattercarpet"
           }
          ],
          "scattergeo": [
           {
            "marker": {
             "colorbar": {
              "outlinewidth": 0,
              "ticks": ""
             }
            },
            "type": "scattergeo"
           }
          ],
          "scattergl": [
           {
            "marker": {
             "colorbar": {
              "outlinewidth": 0,
              "ticks": ""
             }
            },
            "type": "scattergl"
           }
          ],
          "scattermapbox": [
           {
            "marker": {
             "colorbar": {
              "outlinewidth": 0,
              "ticks": ""
             }
            },
            "type": "scattermapbox"
           }
          ],
          "scatterpolar": [
           {
            "marker": {
             "colorbar": {
              "outlinewidth": 0,
              "ticks": ""
             }
            },
            "type": "scatterpolar"
           }
          ],
          "scatterpolargl": [
           {
            "marker": {
             "colorbar": {
              "outlinewidth": 0,
              "ticks": ""
             }
            },
            "type": "scatterpolargl"
           }
          ],
          "scatterternary": [
           {
            "marker": {
             "colorbar": {
              "outlinewidth": 0,
              "ticks": ""
             }
            },
            "type": "scatterternary"
           }
          ],
          "surface": [
           {
            "colorbar": {
             "outlinewidth": 0,
             "ticks": ""
            },
            "colorscale": [
             [
              0,
              "#0d0887"
             ],
             [
              0.1111111111111111,
              "#46039f"
             ],
             [
              0.2222222222222222,
              "#7201a8"
             ],
             [
              0.3333333333333333,
              "#9c179e"
             ],
             [
              0.4444444444444444,
              "#bd3786"
             ],
             [
              0.5555555555555556,
              "#d8576b"
             ],
             [
              0.6666666666666666,
              "#ed7953"
             ],
             [
              0.7777777777777778,
              "#fb9f3a"
             ],
             [
              0.8888888888888888,
              "#fdca26"
             ],
             [
              1,
              "#f0f921"
             ]
            ],
            "type": "surface"
           }
          ],
          "table": [
           {
            "cells": {
             "fill": {
              "color": "#EBF0F8"
             },
             "line": {
              "color": "white"
             }
            },
            "header": {
             "fill": {
              "color": "#C8D4E3"
             },
             "line": {
              "color": "white"
             }
            },
            "type": "table"
           }
          ]
         },
         "layout": {
          "annotationdefaults": {
           "arrowcolor": "#2a3f5f",
           "arrowhead": 0,
           "arrowwidth": 1
          },
          "coloraxis": {
           "colorbar": {
            "outlinewidth": 0,
            "ticks": ""
           }
          },
          "colorscale": {
           "diverging": [
            [
             0,
             "#8e0152"
            ],
            [
             0.1,
             "#c51b7d"
            ],
            [
             0.2,
             "#de77ae"
            ],
            [
             0.3,
             "#f1b6da"
            ],
            [
             0.4,
             "#fde0ef"
            ],
            [
             0.5,
             "#f7f7f7"
            ],
            [
             0.6,
             "#e6f5d0"
            ],
            [
             0.7,
             "#b8e186"
            ],
            [
             0.8,
             "#7fbc41"
            ],
            [
             0.9,
             "#4d9221"
            ],
            [
             1,
             "#276419"
            ]
           ],
           "sequential": [
            [
             0,
             "#0d0887"
            ],
            [
             0.1111111111111111,
             "#46039f"
            ],
            [
             0.2222222222222222,
             "#7201a8"
            ],
            [
             0.3333333333333333,
             "#9c179e"
            ],
            [
             0.4444444444444444,
             "#bd3786"
            ],
            [
             0.5555555555555556,
             "#d8576b"
            ],
            [
             0.6666666666666666,
             "#ed7953"
            ],
            [
             0.7777777777777778,
             "#fb9f3a"
            ],
            [
             0.8888888888888888,
             "#fdca26"
            ],
            [
             1,
             "#f0f921"
            ]
           ],
           "sequentialminus": [
            [
             0,
             "#0d0887"
            ],
            [
             0.1111111111111111,
             "#46039f"
            ],
            [
             0.2222222222222222,
             "#7201a8"
            ],
            [
             0.3333333333333333,
             "#9c179e"
            ],
            [
             0.4444444444444444,
             "#bd3786"
            ],
            [
             0.5555555555555556,
             "#d8576b"
            ],
            [
             0.6666666666666666,
             "#ed7953"
            ],
            [
             0.7777777777777778,
             "#fb9f3a"
            ],
            [
             0.8888888888888888,
             "#fdca26"
            ],
            [
             1,
             "#f0f921"
            ]
           ]
          },
          "colorway": [
           "#636efa",
           "#EF553B",
           "#00cc96",
           "#ab63fa",
           "#FFA15A",
           "#19d3f3",
           "#FF6692",
           "#B6E880",
           "#FF97FF",
           "#FECB52"
          ],
          "font": {
           "color": "#2a3f5f"
          },
          "geo": {
           "bgcolor": "white",
           "lakecolor": "white",
           "landcolor": "#E5ECF6",
           "showlakes": true,
           "showland": true,
           "subunitcolor": "white"
          },
          "hoverlabel": {
           "align": "left"
          },
          "hovermode": "closest",
          "mapbox": {
           "style": "light"
          },
          "paper_bgcolor": "white",
          "plot_bgcolor": "#E5ECF6",
          "polar": {
           "angularaxis": {
            "gridcolor": "white",
            "linecolor": "white",
            "ticks": ""
           },
           "bgcolor": "#E5ECF6",
           "radialaxis": {
            "gridcolor": "white",
            "linecolor": "white",
            "ticks": ""
           }
          },
          "scene": {
           "xaxis": {
            "backgroundcolor": "#E5ECF6",
            "gridcolor": "white",
            "gridwidth": 2,
            "linecolor": "white",
            "showbackground": true,
            "ticks": "",
            "zerolinecolor": "white"
           },
           "yaxis": {
            "backgroundcolor": "#E5ECF6",
            "gridcolor": "white",
            "gridwidth": 2,
            "linecolor": "white",
            "showbackground": true,
            "ticks": "",
            "zerolinecolor": "white"
           },
           "zaxis": {
            "backgroundcolor": "#E5ECF6",
            "gridcolor": "white",
            "gridwidth": 2,
            "linecolor": "white",
            "showbackground": true,
            "ticks": "",
            "zerolinecolor": "white"
           }
          },
          "shapedefaults": {
           "line": {
            "color": "#2a3f5f"
           }
          },
          "ternary": {
           "aaxis": {
            "gridcolor": "white",
            "linecolor": "white",
            "ticks": ""
           },
           "baxis": {
            "gridcolor": "white",
            "linecolor": "white",
            "ticks": ""
           },
           "bgcolor": "#E5ECF6",
           "caxis": {
            "gridcolor": "white",
            "linecolor": "white",
            "ticks": ""
           }
          },
          "title": {
           "x": 0.05
          },
          "xaxis": {
           "automargin": true,
           "gridcolor": "white",
           "linecolor": "white",
           "ticks": "",
           "title": {
            "standoff": 15
           },
           "zerolinecolor": "white",
           "zerolinewidth": 2
          },
          "yaxis": {
           "automargin": true,
           "gridcolor": "white",
           "linecolor": "white",
           "ticks": "",
           "title": {
            "standoff": 15
           },
           "zerolinecolor": "white",
           "zerolinewidth": 2
          }
         }
        },
        "xaxis": {
         "anchor": "y",
         "domain": [
          0,
          1
         ],
         "title": {
          "text": "x"
         }
        },
        "yaxis": {
         "anchor": "x",
         "domain": [
          0,
          1
         ],
         "title": {
          "text": "y"
         }
        }
       }
      },
      "text/html": [
       "<div>                            <div id=\"18d6ef80-1d6d-4e87-a914-86b76e53f0fb\" class=\"plotly-graph-div\" style=\"height:525px; width:100%;\"></div>            <script type=\"text/javascript\">                require([\"plotly\"], function(Plotly) {                    window.PLOTLYENV=window.PLOTLYENV || {};                                    if (document.getElementById(\"18d6ef80-1d6d-4e87-a914-86b76e53f0fb\")) {                    Plotly.newPlot(                        \"18d6ef80-1d6d-4e87-a914-86b76e53f0fb\",                        [{\"hovertemplate\": \"color=Gauche d\\u00e9mocrate et r\\u00e9publicaine<br>x=%{x}<br>y=%{y}<extra></extra>\", \"legendgroup\": \"Gauche d\\u00e9mocrate et r\\u00e9publicaine\", \"marker\": {\"color\": \"#636efa\", \"symbol\": \"circle\"}, \"mode\": \"markers\", \"name\": \"Gauche d\\u00e9mocrate et r\\u00e9publicaine\", \"orientation\": \"v\", \"showlegend\": true, \"type\": \"scatter\", \"x\": [0.911504424778761, 0.9304347826086956, 0.9278846153846154, 0.9375, 0.8333333333333334, 0.7830188679245284, 0.9054726368159204, 0.9409282700421941, 0.9343434343434344, 0.9090909090909091, 0.6153846153846154, 0.8666666666666667, 0.935, 0.9387755102040817, 0.9050279329608939, 0.9433962264150944], \"xaxis\": \"x\", \"y\": [0.134020618556701, 0.12149532710280375, 0.16753926701570676, 0.08900523560209428, 0.14563106796116498, 0.1724137931034483, 0.1583710407239819, 0.14066496163682862, 0.07169811320754715, 0.1097560975609756, 0.26027397260273966, 0.17924528301886788, 0.16363636363636358, 0.19907407407407407, 0.13207547169811318, 0.09665427509293678], \"yaxis\": \"y\"}, {\"hovertemplate\": \"color=Socialistes et apparent\\u00e9s<br>x=%{x}<br>y=%{y}<extra></extra>\", \"legendgroup\": \"Socialistes et apparent\\u00e9s\", \"marker\": {\"color\": \"#EF553B\", \"symbol\": \"circle\"}, \"mode\": \"markers\", \"name\": \"Socialistes et apparent\\u00e9s\", \"orientation\": \"v\", \"showlegend\": true, \"type\": \"scatter\", \"x\": [0.7619047619047619, 0.7642276422764228, 0.6982758620689655, 0.7342657342657343, 0.7906976744186046, 0.7131782945736435, 0.7642276422764228, 0.6917808219178082, 0.7735849056603774, 0.7606837606837606, 0.7627118644067796, 0.7433628318584071, 0.6923076923076923, 0.7448979591836735, 0.6774193548387096, 0.7191780821917808, 0.7647058823529411, 0.7804878048780488, 0.7309941520467836, 0.6818181818181818, 0.7696335078534031, 0.6556291390728477, 0.7816091954022989, 0.762589928057554, 0.7832167832167832, 0.7457627118644068, 0.753968253968254, 0.7222222222222222, 0.819672131147541, 0.7], \"xaxis\": \"x\", \"y\": [0.16535433070866146, 0.15102040816326534, 0.18497109826589597, 0.13903743315508021, 0.1694915254237288, 0.2222222222222222, 0.1470588235294118, 0.25, 0.16546762589928055, 0.25806451612903225, 0.21656050955414008, 0.2407407407407407, 0.2085106382978723, 0.21387283236994215, 0.33333333333333326, 0.2432432432432432, 0.2264150943396226, 0.2272727272727273, 0.2274881516587678, 0.2420382165605095, 0.185430463576159, 0.26973684210526316, 0.16129032258064513, 0.18367346938775508, 0.1929824561403508, 0.16935483870967738, 0.21287128712871284, 0.2277227722772277, 0.12927756653992395, 0.226027397260274], \"yaxis\": \"y\"}, {\"hovertemplate\": \"color=La R\\u00e9publique en Marche<br>x=%{x}<br>y=%{y}<extra></extra>\", \"legendgroup\": \"La R\\u00e9publique en Marche\", \"marker\": {\"color\": \"#00cc96\", \"symbol\": \"circle\"}, \"mode\": \"markers\", \"name\": \"La R\\u00e9publique en Marche\", \"orientation\": \"v\", \"showlegend\": true, \"type\": \"scatter\", \"x\": [0.101010101010101, 0.11206896551724133, 0.0854700854700855, 0.10399999999999998, 0.11111111111111116, 0.10852713178294571, 0.02608695652173909, 0.08695652173913038, 0.09615384615384615, 0.1071428571428571, 0.08421052631578951, 0.08849557522123896, 0.1376811594202898, 0.016064257028112428, 0.07999999999999996, 0.08771929824561409, 0.09411764705882353, 0.15328467153284675, 0.10810810810810811, 0.07594936708860756, 0.07272727272727275, 0.07843137254901955, 0.08653846153846156, 0.15131578947368418, 0.10106382978723405, 0.1428571428571428, 0.08762886597938147, 0.11979166666666663, 0.1166666666666667, 0.07999999999999996, 0.14179104477611937, 0.1071428571428571, 0.08252427184466016, 0.1063829787234043, 0.11016949152542377, 0.10280373831775702, 0.09302325581395343, 0.08743169398907102, 0.11428571428571432, 0.08866995073891626, 0.08974358974358976, 0.07476635514018692, 0.09302325581395343, 0.0948905109489051, 0.0980392156862745, 0.11486486486486491, 0.10365853658536583, 0.07092198581560283, 0.10399999999999998, 0.09999999999999998, 0.07831325301204817, 0.07258064516129037, 0.11333333333333329, 0.08641975308641969, 0.09999999999999998, 0.09615384615384615, 0.11180124223602483, 0.09278350515463918, 0.08196721311475408, 0.08403361344537819, 0.10769230769230775, 0.08163265306122447, 0.08333333333333337, 0.0927152317880795, 0.09917355371900827, 0.10759493670886078, 0.13197969543147203, 0.11764705882352944, 0.08294930875576034, 0.08764940239043828, 0.0854700854700855, 0.09160305343511455, 0.06666666666666665, 0.1095890410958904, 0.11165048543689315, 0.11764705882352944, 0.07317073170731703, 0.08805031446540879, 0.08799999999999997, 0.09137055837563457, 0.09420289855072461, 0.0980392156862745, 0.10439560439560436, 0.09150326797385622, 0.08108108108108114, 0.08064516129032262, 0.10429447852760731, 0.0888888888888889, 0.09433962264150941, 0.1202185792349727, 0.07947019867549665, 0.09558823529411764, 0.0714285714285714, 0.09756097560975607, 0.08080808080808077, 0.13829787234042556, 0.09933774834437081, 0.08762886597938147, 0.07432432432432434, 0.08695652173913038, 0.12751677852348997, 0.10429447852760731, 0.0786516853932584, 0.10655737704918034, 0.10828025477707004, 0.06153846153846154, 0.07784431137724557, 0.0793650793650793, 0.10784313725490202, 0.10843373493975905, 0.10091743119266061, 0.07999999999999996, 0.08088235294117652, 0.08181818181818179, 0.08571428571428574, 0.10843373493975905, 0.11042944785276076, 0.19999999999999996, 0.10344827586206895, 0.07194244604316546, 0.09865470852017932, 0.06944444444444442, 0.09448818897637801, 0.09090909090909094, 0.14207650273224037, 0.12345679012345678, 0.09223300970873782, 0.08661417322834641, 0.09594095940959413, 0.09954751131221717, 0.08552631578947367, 0.078125, 0.07537688442211055, 0.0972972972972973, 0.09638554216867468, 0.09448818897637801, 0.12396694214876036, 0.11926605504587151, 0.10050251256281406, 0.1159420289855072, 0.09589041095890405, 0.07518796992481203, 0.08536585365853655, 0.09999999999999998, 0.10135135135135132, 0.054878048780487854, 0.08284023668639051, 0.07317073170731703, 0.1071428571428571, 0.07086614173228345, 0.06164383561643838, 0.1116071428571429, 0.07643312101910826, 0.09090909090909094, 0.08421052631578951, 0.10606060606060608, 0.09871244635193133, 0.08227848101265822, 0.09836065573770492, 0.06000000000000005, 0.11224489795918369, 0.10928961748633881, 0.10344827586206895, 0.07462686567164178, 0.08917197452229297, 0.09708737864077666, 0.13772455089820357, 0.09933774834437081, 0.11111111111111116, 0.1338028169014085, 0.07272727272727275, 0.08024691358024694, 0.11016949152542377, 0.08823529411764708, 0.11971830985915488, 0.06015037593984962, 0.12280701754385959, 0.08571428571428574, 0.08333333333333337, 0.09756097560975607, 0.1351351351351351, 0.14583333333333337, 0.07853403141361259, 0.0972972972972973, 0.0738255033557047, 0.10285714285714287, 0.11711711711711714, 0.09352517985611508, 0.12173913043478257, 0.08196721311475408, 0.09146341463414631, 0.06493506493506496, 0.12658227848101267, 0.0977011494252874, 0.09150326797385622, 0.0980392156862745, 0.0862068965517242, 0.11602209944751385, 0.07537688442211055, 0.0337078651685393, 0.11363636363636365, 0.09345794392523366, 0.10126582278481011, 0.08737864077669899, 0.08333333333333337, 0.07236842105263164, 0.08333333333333337, 0.08411214953271029, 0.09326424870466321, 0.11976047904191622, 0.108843537414966, 0.10465116279069764, 0.09027777777777779, 0.06766917293233088, 0.0738255033557047, 0.08737864077669899, 0.12389380530973448, 0.07843137254901955, 0.08695652173913038, 0.12142857142857144, 0.08904109589041098, 0.078125, 0.12252964426877466, 0.07006369426751591, 0.11428571428571432, 0.06976744186046513, 0.08823529411764708, 0.09859154929577463, 0.09583333333333333, 0.125, 0.10924369747899165, 0.11442786069651745, 0.07228915662650603, 0.09444444444444444, 0.08383233532934131, 0.08666666666666667, 0.10377358490566035, 0.125, 0.06730769230769229, 0.10389610389610393, 0.12068965517241381, 0.0854700854700855, 0.09558823529411764, 0.08152173913043481, 0.08484848484848484, 0.08938547486033521, 0.09150326797385622, 0.08974358974358976, 0.07692307692307687, 0.07333333333333336, 0.060975609756097615, 0.08241758241758246, 0.08252427184466016, 0.1923076923076923, 0.099290780141844, 0.08808290155440412, 0.08484848484848484, 0.08552631578947367, 0.10824742268041243, 0.10828025477707004, 0.07070707070707072, 0.06321839080459768, 0.09090909090909094, 0.07594936708860756, 0.10439560439560436, 0.0888888888888889, 0.10588235294117643, 0.09146341463414631, 0.11956521739130432, 0.1694915254237288, 0.101123595505618, 0.10362694300518138, 0.0703125, 0.03508771929824561, 0.0691823899371069, 0.09793814432989689, 0.0730337078651685, 0.0680272108843537, 0.10666666666666669, 0.10280373831775702, 0.14, 0.08904109589041098, 0.08609271523178808, 0.03809523809523807, 0.1288343558282209, 0.0888888888888889, 0.07438016528925617, 0.08849557522123896, 0.09243697478991597, 0.08499999999999996, 0.0964912280701754, 0.09333333333333338, 0.09473684210526312, 0.10691823899371067, 0.09883720930232553, 0.09917355371900827, 0.12328767123287676], \"xaxis\": \"x\", \"y\": [0.9647887323943662, 0.9631578947368421, 0.9310344827586207, 0.9305555555555556, 0.9310344827586207, 0.9642857142857143, 0.2542372881355932, 0.9693877551020408, 0.8098159509202454, 0.9891304347826086, 0.9897959183673469, 0.9736842105263158, 0.9212121212121213, 0.08925318761384338, 0.9655172413793104, 0.988950276243094, 0.9666666666666667, 0.8211009174311926, 0.9765625, 0.9423076923076923, 0.9230769230769231, 0.9866666666666667, 0.9826086956521739, 0.8881987577639752, 0.9109311740890689, 0.9351851851851852, 0.9709677419354839, 0.8923076923076924, 0.895, 0.9507389162561576, 0.8819444444444444, 0.8679245283018868, 0.9744408945686901, 0.935064935064935, 0.958041958041958, 0.9767441860465116, 0.8518518518518519, 0.9624060150375939, 0.8322147651006712, 0.9409090909090909, 0.9470899470899471, 0.9715909090909091, 0.945, 0.9617834394904459, 0.9735849056603774, 0.9513888888888888, 0.9727891156462585, 0.9538461538461539, 0.8524590163934426, 0.974025974025974, 0.9320987654320988, 0.9277777777777778, 0.9415584415584416, 0.9484978540772532, 0.9552238805970149, 0.9662921348314607, 0.9266666666666666, 0.9741100323624595, 0.952, 0.9064748201438849, 0.9626168224299065, 0.9585062240663901, 0.9533333333333334, 0.8798586572438163, 0.9554140127388535, 0.973404255319149, 0.909967845659164, 0.9148148148148149, 0.9136904761904762, 0.9786585365853658, 0.9234972677595629, 0.9698795180722891, 0.9767441860465116, 0.9054441260744985, 0.9393939393939394, 0.937984496124031, 0.975609756097561, 0.9380530973451328, 0.96, 0.9669117647058824, 0.9570815450643777, 0.944954128440367, 0.9466192170818505, 0.9186046511627907, 0.9459459459459459, 0.9418181818181818, 0.9558011049723757, 0.9666666666666667, 0.9305555555555556, 0.9212598425196851, 0.9076923076923077, 0.9285714285714286, 0.9128630705394191, 0.8812785388127854, 0.9576547231270358, 0.8947368421052632, 0.9569377990430622, 0.9704301075268817, 0.9523809523809523, 0.9631901840490797, 0.9173913043478261, 0.9333333333333333, 0.9873817034700315, 0.9534883720930233, 0.946058091286307, 0.9869281045751634, 0.9653179190751445, 0.9789029535864979, 0.9420849420849421, 0.890625, 0.9705882352941176, 0.8882978723404256, 0.9660194174757282, 0.9868421052631579, 0.9246231155778895, 0.9742268041237113, 0.9345794392523364, 0.9666666666666667, 0.96, 0.9539473684210527, 0.9826086956521739, 0.9702380952380952, 0.9190751445086706, 0.973404255319149, 0.9461538461538461, 0.9078947368421053, 0.9667673716012085, 0.9619565217391305, 0.958963282937365, 0.9556786703601108, 0.9484978540772532, 0.9310344827586207, 0.9173228346456693, 0.9300699300699301, 0.921875, 0.9457013574660633, 0.8894009216589862, 0.9609375, 0.9347079037800687, 0.9683908045977011, 0.9463414634146341, 0.9473684210526315, 0.922077922077922, 0.9621212121212122, 0.9662447257383966, 0.8687782805429864, 0.9728260869565217, 0.9115646258503401, 0.8848167539267016, 0.788659793814433, 0.9326424870466321, 0.9574468085106383, 0.9746835443037974, 0.9595959595959596, 0.7874015748031497, 0.8767772511848341, 0.9397260273972603, 0.975, 0.9656488549618321, 0.9353233830845771, 0.9484536082474226, 0.950207468879668, 0.9411764705882353, 0.9836956521739131, 0.9703703703703703, 0.9848484848484849, 0.946236559139785, 0.9537037037037037, 0.9105263157894737, 0.9761904761904762, 0.9708029197080292, 0.9663865546218487, 0.9647058823529412, 0.9605263157894737, 0.9565217391304348, 0.9105691056910569, 0.9850746268656716, 0.9473684210526315, 0.9836956521739131, 0.9665071770334929, 0.9671361502347418, 0.9283276450511946, 0.8363636363636363, 0.9909365558912386, 0.9453781512605042, 0.9315789473684211, 0.9636363636363636, 0.9624413145539906, 0.9294871794871795, 0.9632107023411371, 0.9291338582677166, 0.9364161849710982, 0.8987341772151899, 0.9568627450980393, 0.9095022624434389, 0.9265734265734266, 0.9375, 0.9319526627218935, 0.9627906976744186, 0.90625, 0.9404761904761905, 0.9743589743589743, 0.984251968503937, 0.9175257731958762, 0.9642857142857143, 0.9731800766283525, 0.9629629629629629, 0.9393939393939394, 0.904, 0.9541666666666667, 0.9318181818181818, 0.9536231884057971, 0.9409282700421941, 0.857707509881423, 0.9341317365269461, 0.9327731092436975, 0.9423076923076923, 0.9506172839506173, 0.9295774647887324, 0.9044117647058824, 0.9455782312925171, 0.9523809523809523, 0.9193548387096774, 0.9390862944162437, 0.9692832764505119, 0.9682539682539683, 0.9595375722543352, 0.9305555555555556, 0.9700598802395209, 0.9642857142857143, 0.930379746835443, 0.9567099567099567, 0.9083333333333333, 0.9383886255924171, 0.92, 0.9623655913978495, 0.9265536723163842, 0.9822485207100592, 0.9903846153846154, 0.9476439790575916, 0.9513513513513514, 0.9523809523809523, 0.927710843373494, 0.9579579579579579, 0.9766081871345029, 0.9548022598870056, 0.9829059829059829, 0.981042654028436, 0.9514563106796117, 0.8854166666666666, 0.6594594594594595, 0.9501915708812261, 0.9702970297029703, 0.9615384615384616, 0.9398907103825137, 0.975609756097561, 0.9254385964912281, 0.9804878048780488, 0.9350180505415162, 0.9921259842519685, 0.9652777777777778, 0.9742268041237113, 0.9083969465648855, 0.9895287958115183, 1.0, 0.9617021276595744, 0.8768115942028986, 0.96045197740113, 0.9626168224299065, 0.92, 0.9516728624535316, 0.9518518518518518, 0.944, 0.8987341772151899, 0.9581151832460733, 0.9358974358974359, 0.9832214765100671, 0.9770642201834863, 0.9417989417989417, 0.9277566539923955, 0.9361702127659575, 0.9695121951219512, 0.9814126394052045, 0.9439252336448598, 0.8343949044585988, 0.9551282051282052, 0.9703703703703703, 0.9440559440559441, 0.9574468085106383, 0.959731543624161, 0.9391304347826087, 0.9888888888888889, 0.9661016949152542, 0.9491525423728814, 0.9411764705882353, 0.9931506849315068, 0.9495798319327731], \"yaxis\": \"y\"}, {\"hovertemplate\": \"color=Les R\\u00e9publicains<br>x=%{x}<br>y=%{y}<extra></extra>\", \"legendgroup\": \"Les R\\u00e9publicains\", \"marker\": {\"color\": \"#ab63fa\", \"symbol\": \"circle\"}, \"mode\": \"markers\", \"name\": \"Les R\\u00e9publicains\", \"orientation\": \"v\", \"showlegend\": true, \"type\": \"scatter\", \"x\": [0.4946236559139785, 0.45192307692307687, 0.47967479674796754, 0.5145631067961165, 0.4418604651162791, 0.5655737704918032, 0.5222222222222223, 0.42500000000000004, 0.4819277108433735, 0.5053763440860215, 0.4736842105263157, 0.43975903614457823, 0.6049382716049383, 0.584070796460177, 0.48672566371681414, 0.5227272727272727, 0.5287356321839081, 0.6021505376344086, 0.5113636363636364, 0.40714285714285714, 0.5096153846153846, 0.5217391304347826, 0.527027027027027, 0.47126436781609193, 0.4552238805970149, 0.4873949579831933, 0.4910714285714286, 0.5321100917431193, 0.5478260869565217, 0.5040650406504065, 0.48571428571428577, 0.5288461538461539, 0.5463917525773195, 0.5371900826446281, 0.5648854961832062, 0.5, 0.4301075268817205, 0.4521739130434783, 0.4065040650406504, 0.5402298850574713, 0.4526315789473685, 0.5702479338842975, 0.4811320754716981, 0.5368421052631579, 0.5287356321839081, 0.4946236559139785, 0.5, 0.5803571428571429, 0.5135135135135135, 0.5371900826446281, 0.5299145299145299, 0.47899159663865554, 0.5431034482758621, 0.45251396648044695, 0.5126050420168067, 0.5476190476190477, 0.4838709677419355, 0.40816326530612246, 0.5590551181102362, 0.4600760456273765, 0.5221238938053098, 0.4883720930232558, 0.47619047619047616, 0.5135135135135135, 0.5327102803738317, 0.5483870967741935, 0.47953216374269003, 0.5373134328358209, 0.5392156862745098, 0.5060240963855421, 0.4897959183673469, 0.5419847328244275, 0.3909090909090909, 0.5140845070422535, 0.5205479452054794, 0.5608108108108109, 0.5555555555555556, 0.543859649122807, 0.53, 0.491891891891892, 0.5208333333333334, 0.5658914728682171, 0.5141242937853108, 0.49425287356321834, 0.5642857142857143, 0.47058823529411764, 0.4558823529411764, 0.490066225165563, 0.5511811023622047, 0.4954128440366973, 0.46341463414634143, 0.46923076923076923, 0.3913043478260869, 0.5983606557377049, 0.5324675324675324, 0.5211267605633803, 0.4756756756756757, 0.5436893203883495, 0.4553571428571428, 0.6260162601626016, 0.5689655172413793, 0.5934959349593496, 0.5698924731182796, 0.532258064516129], \"xaxis\": \"x\", \"y\": [0.37614678899082565, 0.3257575757575757, 0.3081395348837209, 0.29565217391304355, 0.4418604651162791, 0.35403726708074534, 0.4157303370786517, 0.45871559633027525, 0.44736842105263164, 0.4148936170212766, 0.3836477987421384, 0.22456140350877196, 0.36363636363636365, 0.35344827586206895, 0.32795698924731176, 0.38, 0.41463414634146334, 0.3763440860215054, 0.4065934065934066, 0.5051020408163265, 0.2466666666666667, 0.3076923076923077, 0.3003663003663004, 0.3063063063063063, 0.367816091954023, 0.2913907284768211, 0.5068493150684932, 0.3856209150326797, 0.3471074380165289, 0.39226519337016574, 0.3840579710144927, 0.3786407766990292, 0.43220338983050843, 0.23853211009174313, 0.2846153846153846, 0.392, 0.3652173913043478, 0.40458015267175573, 0.375, 0.4, 0.4356435643564356, 0.35519125683060104, 0.40645161290322585, 0.3769230769230769, 0.40476190476190477, 0.30530973451327426, 0.30714285714285716, 0.34745762711864403, 0.3984375, 0.2675159235668789, 0.3955223880597014, 0.3443708609271523, 0.3246753246753247, 0.3142857142857143, 0.3900709219858156, 0.3377483443708609, 0.4457831325301205, 0.2701754385964912, 0.27586206896551724, 0.36389684813753576, 0.34751773049645385, 0.3422222222222222, 0.36458333333333326, 0.35507246376811596, 0.36363636363636365, 0.27567567567567575, 0.3125, 0.4526315789473685, 0.3853211009174312, 0.2811244979919678, 0.3827751196172249, 0.2955974842767295, 0.3292682926829269, 0.3400000000000001, 0.3526785714285714, 0.3296089385474861, 0.2651162790697674, 0.3315217391304348, 0.3853211009174312, 0.30175438596491233, 0.4095238095238095, 0.261744966442953, 0.3221153846153846, 0.30364372469635625, 0.2748091603053435, 0.35504885993485336, 0.4029850746268657, 0.3364928909952607, 0.3141025641025641, 0.36036036036036034, 0.4415584415584415, 0.24875621890547261, 0.3534031413612566, 0.38144329896907214, 0.28761061946902655, 0.273469387755102, 0.3323076923076923, 0.36363636363636365, 0.42307692307692313, 0.26900584795321636, 0.3728813559322034, 0.30964467005076135, 0.39682539682539675, 0.4057971014492754], \"yaxis\": \"y\"}, {\"hovertemplate\": \"color=Libert\\u00e9s et Territoires<br>x=%{x}<br>y=%{y}<extra></extra>\", \"legendgroup\": \"Libert\\u00e9s et Territoires\", \"marker\": {\"color\": \"#FFA15A\", \"symbol\": \"circle\"}, \"mode\": \"markers\", \"name\": \"Libert\\u00e9s et Territoires\", \"orientation\": \"v\", \"showlegend\": true, \"type\": \"scatter\", \"x\": [0.35, 0.7978723404255319, 0.4571428571428571, 0.3717948717948718, 0.36190476190476195, 0.6097560975609756, 0.46808510638297873, 0.6263736263736264, 0.3801652892561984, 0.5, 0.5033557046979866, 0.6432748538011696, 0.697986577181208, 0.6551724137931034, 0.625, 0.18584070796460184, 0.17647058823529416, 0.3203883495145632, 0.33571428571428563, 0.18918918918918926], \"xaxis\": \"x\", \"y\": [0.4532374100719425, 0.2432432432432432, 0.346938775510204, 0.3281853281853282, 0.4453781512605042, 0.24698795180722888, 0.4639175257731959, 0.2755905511811023, 0.5047619047619047, 0.35, 0.39473684210526316, 0.203125, 0.24848484848484853, 0.1914893617021276, 0.265625, 0.7387387387387387, 0.70625, 0.6689655172413793, 0.5333333333333333, 0.5625], \"yaxis\": \"y\"}, {\"hovertemplate\": \"color=Non inscrit<br>x=%{x}<br>y=%{y}<extra></extra>\", \"legendgroup\": \"Non inscrit\", \"marker\": {\"color\": \"#19d3f3\", \"symbol\": \"circle\"}, \"mode\": \"markers\", \"name\": \"Non inscrit\", \"orientation\": \"v\", \"showlegend\": true, \"type\": \"scatter\", \"x\": [0.7777777777777778, 0.7807017543859649, 0.11842105263157898, 0.12244897959183676, 0.46808510638297873, 0.19753086419753085, 0.5308219178082192, 0.06060606060606055, 0.6363636363636364, 0.14035087719298245, 0.18285714285714283, 0.5714285714285714, 0.6864406779661016, 0.6754385964912281, 0.6483516483516484, 0.6417910447761194, 0.039215686274509776, 0.1747572815533981, 0.13901345291479816, 0.5462962962962963], \"xaxis\": \"x\", \"y\": [0.07042253521126762, 0.25806451612903225, 0.7247706422018348, 0.9225352112676056, 0.10144927536231885, 0.6136363636363636, 0.2411214953271028, 0.9711538461538461, 0.23124999999999996, 0.7251908396946565, 0.7682119205298014, 0.23834196891191706, 0.2442748091603053, 0.04761904761904767, 0.2743362831858407, 0.22695035460992907, 0.819672131147541, 0.7024793388429752, 0.8713826366559485, 0.18652849740932642], \"yaxis\": \"y\"}, {\"hovertemplate\": \"color=Mouvement D\\u00e9mocrate et apparent\\u00e9s<br>x=%{x}<br>y=%{y}<extra></extra>\", \"legendgroup\": \"Mouvement D\\u00e9mocrate et apparent\\u00e9s\", \"marker\": {\"color\": \"#FF6692\", \"symbol\": \"circle\"}, \"mode\": \"markers\", \"name\": \"Mouvement D\\u00e9mocrate et apparent\\u00e9s\", \"orientation\": \"v\", \"showlegend\": true, \"type\": \"scatter\", \"x\": [0.09677419354838712, 0.09565217391304348, 0.13888888888888884, 0.13475177304964536, 0.09615384615384615, 0.13953488372093026, 0.12857142857142856, 0.08849557522123896, 0.1270718232044199, 0.12299465240641716, 0.1578947368421053, 0.0898876404494382, 0.12, 0.08383233532934131, 0.29054054054054057, 0.11612903225806448, 0.09615384615384615, 0.151685393258427, 0.17449664429530198, 0.12804878048780488, 0.11194029850746268, 0.08333333333333337, 0.07758620689655171, 0.16778523489932884, 0.07650273224043713, 0.07643312101910826, 0.12598425196850394, 0.17567567567567566, 0.1578947368421053, 0.19512195121951215, 0.17757009345794394, 0.11805555555555558, 0.18823529411764706, 0.11111111111111116, 0.0859375, 0.08411214953271029, 0.099290780141844, 0.14210526315789473, 0.08208955223880599, 0.14423076923076916, 0.16355140186915884, 0.12213740458015265, 0.1132075471698113, 0.10052910052910047, 0.09219858156028371, 0.11627906976744184], \"xaxis\": \"x\", \"y\": [0.94, 0.9583333333333334, 0.845771144278607, 0.864406779661017, 0.8934426229508197, 0.9090909090909091, 0.9387755102040817, 0.9251700680272109, 0.8810408921933085, 0.8954703832752613, 0.8606060606060606, 0.9509803921568627, 0.8881118881118881, 0.8814432989690721, 0.8098159509202454, 0.88125, 0.9426229508196722, 0.8537549407114624, 0.8138801261829653, 0.9052631578947369, 0.926605504587156, 0.9528795811518325, 0.9459459459459459, 0.8424242424242424, 0.9489795918367347, 0.6275303643724697, 0.9083969465648855, 0.9090909090909091, 0.8911764705882353, 0.8097826086956522, 0.7857142857142857, 0.9295154185022027, 0.7253521126760564, 0.9372549019607843, 0.9294117647058824, 0.9159663865546218, 0.9252669039145908, 0.881578947368421, 0.9219858156028369, 0.8773333333333333, 0.8761904761904762, 0.9166666666666666, 0.9921875, 0.9468085106382979, 0.9090909090909091, 0.8985507246376812], \"yaxis\": \"y\"}, {\"hovertemplate\": \"color=La France insoumise<br>x=%{x}<br>y=%{y}<extra></extra>\", \"legendgroup\": \"La France insoumise\", \"marker\": {\"color\": \"#B6E880\", \"symbol\": \"circle\"}, \"mode\": \"markers\", \"name\": \"La France insoumise\", \"orientation\": \"v\", \"showlegend\": true, \"type\": \"scatter\", \"x\": [0.9881656804733728, 0.9931972789115646, 0.9938271604938271, 0.9820359281437125, 0.9826589595375722, 0.9869281045751634, 0.9861111111111112, 0.9952830188679245, 0.9824561403508771, 0.9951690821256038, 0.9902439024390244, 0.9836956521739131, 0.995260663507109, 1.0, 0.9944444444444445, 0.9896907216494846, 1.0], \"xaxis\": \"x\", \"y\": [0.10994764397905765, 0.08333333333333337, 0.15243902439024393, 0.10928961748633881, 0.10160427807486627, 0.1294964028776978, 0.08585858585858586, 0.07755102040816331, 0.10119047619047616, 0.12322274881516582, 0.11417322834645671, 0.10857142857142854, 0.11250000000000004, 0.10447761194029848, 0.08247422680412375, 0.1294964028776978, 0.10439560439560436], \"yaxis\": \"y\"}, {\"hovertemplate\": \"color=UDI, Agir et Ind\\u00e9pendants<br>x=%{x}<br>y=%{y}<extra></extra>\", \"legendgroup\": \"UDI, Agir et Ind\\u00e9pendants\", \"marker\": {\"color\": \"#FF97FF\", \"symbol\": \"circle\"}, \"mode\": \"markers\", \"name\": \"UDI, Agir et Ind\\u00e9pendants\", \"orientation\": \"v\", \"showlegend\": true, \"type\": \"scatter\", \"x\": [0.10526315789473684, 0.33673469387755106, 0.21333333333333337, 0.3614457831325302, 0.21568627450980393, 0.2517006802721089, 0.3727272727272728, 0.21250000000000002, 0.3023255813953488, 0.2134831460674157, 0.3058252427184466, 0.3191489361702128, 0.2716049382716049, 0.16000000000000003, 0.2716763005780347, 0.20833333333333337, 0.34523809523809523, 0.4017857142857143, 0.21250000000000002, 0.4347826086956521, 0.30890052356020936, 0.29565217391304355, 0.29292929292929293, 0.21875, 0.3652173913043478, 0.17333333333333334, 0.23008849557522126], \"xaxis\": \"x\", \"y\": [0.9090909090909091, 0.4576271186440678, 0.581081081081081, 0.5052631578947369, 0.719626168224299, 0.4276729559748428, 0.42999999999999994, 0.7430555555555556, 0.5346534653465347, 0.7171717171717171, 0.5208333333333334, 0.49504950495049505, 0.40963855421686746, 0.5875, 0.6594427244582043, 0.6698113207547169, 0.4368932038834952, 0.48360655737704916, 0.7943262411347518, 0.5777777777777777, 0.5970149253731343, 0.5447761194029851, 0.5714285714285714, 0.5689655172413793, 0.38, 0.7913669064748201, 0.6953125], \"yaxis\": \"y\"}],                        {\"legend\": {\"title\": {\"text\": \"color\"}, \"tracegroupgap\": 0}, \"margin\": {\"t\": 60}, \"template\": {\"data\": {\"bar\": [{\"error_x\": {\"color\": \"#2a3f5f\"}, \"error_y\": {\"color\": \"#2a3f5f\"}, \"marker\": {\"line\": {\"color\": \"#E5ECF6\", \"width\": 0.5}}, \"type\": \"bar\"}], \"barpolar\": [{\"marker\": {\"line\": {\"color\": \"#E5ECF6\", \"width\": 0.5}}, \"type\": \"barpolar\"}], \"carpet\": [{\"aaxis\": {\"endlinecolor\": \"#2a3f5f\", \"gridcolor\": \"white\", \"linecolor\": \"white\", \"minorgridcolor\": \"white\", \"startlinecolor\": \"#2a3f5f\"}, \"baxis\": {\"endlinecolor\": \"#2a3f5f\", \"gridcolor\": \"white\", \"linecolor\": \"white\", \"minorgridcolor\": \"white\", \"startlinecolor\": \"#2a3f5f\"}, \"type\": \"carpet\"}], \"choropleth\": [{\"colorbar\": {\"outlinewidth\": 0, \"ticks\": \"\"}, \"type\": \"choropleth\"}], \"contour\": [{\"colorbar\": {\"outlinewidth\": 0, \"ticks\": \"\"}, \"colorscale\": [[0.0, \"#0d0887\"], [0.1111111111111111, \"#46039f\"], [0.2222222222222222, \"#7201a8\"], [0.3333333333333333, \"#9c179e\"], [0.4444444444444444, \"#bd3786\"], [0.5555555555555556, \"#d8576b\"], [0.6666666666666666, \"#ed7953\"], [0.7777777777777778, \"#fb9f3a\"], [0.8888888888888888, \"#fdca26\"], [1.0, \"#f0f921\"]], \"type\": \"contour\"}], \"contourcarpet\": [{\"colorbar\": {\"outlinewidth\": 0, \"ticks\": \"\"}, \"type\": \"contourcarpet\"}], \"heatmap\": [{\"colorbar\": {\"outlinewidth\": 0, \"ticks\": \"\"}, \"colorscale\": [[0.0, \"#0d0887\"], [0.1111111111111111, \"#46039f\"], [0.2222222222222222, \"#7201a8\"], [0.3333333333333333, \"#9c179e\"], [0.4444444444444444, \"#bd3786\"], [0.5555555555555556, \"#d8576b\"], [0.6666666666666666, \"#ed7953\"], [0.7777777777777778, \"#fb9f3a\"], [0.8888888888888888, \"#fdca26\"], [1.0, \"#f0f921\"]], \"type\": \"heatmap\"}], \"heatmapgl\": [{\"colorbar\": {\"outlinewidth\": 0, \"ticks\": \"\"}, \"colorscale\": [[0.0, \"#0d0887\"], [0.1111111111111111, \"#46039f\"], [0.2222222222222222, \"#7201a8\"], [0.3333333333333333, \"#9c179e\"], [0.4444444444444444, \"#bd3786\"], [0.5555555555555556, \"#d8576b\"], [0.6666666666666666, \"#ed7953\"], [0.7777777777777778, \"#fb9f3a\"], [0.8888888888888888, \"#fdca26\"], [1.0, \"#f0f921\"]], \"type\": \"heatmapgl\"}], \"histogram\": [{\"marker\": {\"colorbar\": {\"outlinewidth\": 0, \"ticks\": \"\"}}, \"type\": \"histogram\"}], \"histogram2d\": [{\"colorbar\": {\"outlinewidth\": 0, \"ticks\": \"\"}, \"colorscale\": [[0.0, \"#0d0887\"], [0.1111111111111111, \"#46039f\"], [0.2222222222222222, \"#7201a8\"], [0.3333333333333333, \"#9c179e\"], [0.4444444444444444, \"#bd3786\"], [0.5555555555555556, \"#d8576b\"], [0.6666666666666666, \"#ed7953\"], [0.7777777777777778, \"#fb9f3a\"], [0.8888888888888888, \"#fdca26\"], [1.0, \"#f0f921\"]], \"type\": \"histogram2d\"}], \"histogram2dcontour\": [{\"colorbar\": {\"outlinewidth\": 0, \"ticks\": \"\"}, \"colorscale\": [[0.0, \"#0d0887\"], [0.1111111111111111, \"#46039f\"], [0.2222222222222222, \"#7201a8\"], [0.3333333333333333, \"#9c179e\"], [0.4444444444444444, \"#bd3786\"], [0.5555555555555556, \"#d8576b\"], [0.6666666666666666, \"#ed7953\"], [0.7777777777777778, \"#fb9f3a\"], [0.8888888888888888, \"#fdca26\"], [1.0, \"#f0f921\"]], \"type\": \"histogram2dcontour\"}], \"mesh3d\": [{\"colorbar\": {\"outlinewidth\": 0, \"ticks\": \"\"}, \"type\": \"mesh3d\"}], \"parcoords\": [{\"line\": {\"colorbar\": {\"outlinewidth\": 0, \"ticks\": \"\"}}, \"type\": \"parcoords\"}], \"pie\": [{\"automargin\": true, \"type\": \"pie\"}], \"scatter\": [{\"marker\": {\"colorbar\": {\"outlinewidth\": 0, \"ticks\": \"\"}}, \"type\": \"scatter\"}], \"scatter3d\": [{\"line\": {\"colorbar\": {\"outlinewidth\": 0, \"ticks\": \"\"}}, \"marker\": {\"colorbar\": {\"outlinewidth\": 0, \"ticks\": \"\"}}, \"type\": \"scatter3d\"}], \"scattercarpet\": [{\"marker\": {\"colorbar\": {\"outlinewidth\": 0, \"ticks\": \"\"}}, \"type\": \"scattercarpet\"}], \"scattergeo\": [{\"marker\": {\"colorbar\": {\"outlinewidth\": 0, \"ticks\": \"\"}}, \"type\": \"scattergeo\"}], \"scattergl\": [{\"marker\": {\"colorbar\": {\"outlinewidth\": 0, \"ticks\": \"\"}}, \"type\": \"scattergl\"}], \"scattermapbox\": [{\"marker\": {\"colorbar\": {\"outlinewidth\": 0, \"ticks\": \"\"}}, \"type\": \"scattermapbox\"}], \"scatterpolar\": [{\"marker\": {\"colorbar\": {\"outlinewidth\": 0, \"ticks\": \"\"}}, \"type\": \"scatterpolar\"}], \"scatterpolargl\": [{\"marker\": {\"colorbar\": {\"outlinewidth\": 0, \"ticks\": \"\"}}, \"type\": \"scatterpolargl\"}], \"scatterternary\": [{\"marker\": {\"colorbar\": {\"outlinewidth\": 0, \"ticks\": \"\"}}, \"type\": \"scatterternary\"}], \"surface\": [{\"colorbar\": {\"outlinewidth\": 0, \"ticks\": \"\"}, \"colorscale\": [[0.0, \"#0d0887\"], [0.1111111111111111, \"#46039f\"], [0.2222222222222222, \"#7201a8\"], [0.3333333333333333, \"#9c179e\"], [0.4444444444444444, \"#bd3786\"], [0.5555555555555556, \"#d8576b\"], [0.6666666666666666, \"#ed7953\"], [0.7777777777777778, \"#fb9f3a\"], [0.8888888888888888, \"#fdca26\"], [1.0, \"#f0f921\"]], \"type\": \"surface\"}], \"table\": [{\"cells\": {\"fill\": {\"color\": \"#EBF0F8\"}, \"line\": {\"color\": \"white\"}}, \"header\": {\"fill\": {\"color\": \"#C8D4E3\"}, \"line\": {\"color\": \"white\"}}, \"type\": \"table\"}]}, \"layout\": {\"annotationdefaults\": {\"arrowcolor\": \"#2a3f5f\", \"arrowhead\": 0, \"arrowwidth\": 1}, \"coloraxis\": {\"colorbar\": {\"outlinewidth\": 0, \"ticks\": \"\"}}, \"colorscale\": {\"diverging\": [[0, \"#8e0152\"], [0.1, \"#c51b7d\"], [0.2, \"#de77ae\"], [0.3, \"#f1b6da\"], [0.4, \"#fde0ef\"], [0.5, \"#f7f7f7\"], [0.6, \"#e6f5d0\"], [0.7, \"#b8e186\"], [0.8, \"#7fbc41\"], [0.9, \"#4d9221\"], [1, \"#276419\"]], \"sequential\": [[0.0, \"#0d0887\"], [0.1111111111111111, \"#46039f\"], [0.2222222222222222, \"#7201a8\"], [0.3333333333333333, \"#9c179e\"], [0.4444444444444444, \"#bd3786\"], [0.5555555555555556, \"#d8576b\"], [0.6666666666666666, \"#ed7953\"], [0.7777777777777778, \"#fb9f3a\"], [0.8888888888888888, \"#fdca26\"], [1.0, \"#f0f921\"]], \"sequentialminus\": [[0.0, \"#0d0887\"], [0.1111111111111111, \"#46039f\"], [0.2222222222222222, \"#7201a8\"], [0.3333333333333333, \"#9c179e\"], [0.4444444444444444, \"#bd3786\"], [0.5555555555555556, \"#d8576b\"], [0.6666666666666666, \"#ed7953\"], [0.7777777777777778, \"#fb9f3a\"], [0.8888888888888888, \"#fdca26\"], [1.0, \"#f0f921\"]]}, \"colorway\": [\"#636efa\", \"#EF553B\", \"#00cc96\", \"#ab63fa\", \"#FFA15A\", \"#19d3f3\", \"#FF6692\", \"#B6E880\", \"#FF97FF\", \"#FECB52\"], \"font\": {\"color\": \"#2a3f5f\"}, \"geo\": {\"bgcolor\": \"white\", \"lakecolor\": \"white\", \"landcolor\": \"#E5ECF6\", \"showlakes\": true, \"showland\": true, \"subunitcolor\": \"white\"}, \"hoverlabel\": {\"align\": \"left\"}, \"hovermode\": \"closest\", \"mapbox\": {\"style\": \"light\"}, \"paper_bgcolor\": \"white\", \"plot_bgcolor\": \"#E5ECF6\", \"polar\": {\"angularaxis\": {\"gridcolor\": \"white\", \"linecolor\": \"white\", \"ticks\": \"\"}, \"bgcolor\": \"#E5ECF6\", \"radialaxis\": {\"gridcolor\": \"white\", \"linecolor\": \"white\", \"ticks\": \"\"}}, \"scene\": {\"xaxis\": {\"backgroundcolor\": \"#E5ECF6\", \"gridcolor\": \"white\", \"gridwidth\": 2, \"linecolor\": \"white\", \"showbackground\": true, \"ticks\": \"\", \"zerolinecolor\": \"white\"}, \"yaxis\": {\"backgroundcolor\": \"#E5ECF6\", \"gridcolor\": \"white\", \"gridwidth\": 2, \"linecolor\": \"white\", \"showbackground\": true, \"ticks\": \"\", \"zerolinecolor\": \"white\"}, \"zaxis\": {\"backgroundcolor\": \"#E5ECF6\", \"gridcolor\": \"white\", \"gridwidth\": 2, \"linecolor\": \"white\", \"showbackground\": true, \"ticks\": \"\", \"zerolinecolor\": \"white\"}}, \"shapedefaults\": {\"line\": {\"color\": \"#2a3f5f\"}}, \"ternary\": {\"aaxis\": {\"gridcolor\": \"white\", \"linecolor\": \"white\", \"ticks\": \"\"}, \"baxis\": {\"gridcolor\": \"white\", \"linecolor\": \"white\", \"ticks\": \"\"}, \"bgcolor\": \"#E5ECF6\", \"caxis\": {\"gridcolor\": \"white\", \"linecolor\": \"white\", \"ticks\": \"\"}}, \"title\": {\"x\": 0.05}, \"xaxis\": {\"automargin\": true, \"gridcolor\": \"white\", \"linecolor\": \"white\", \"ticks\": \"\", \"title\": {\"standoff\": 15}, \"zerolinecolor\": \"white\", \"zerolinewidth\": 2}, \"yaxis\": {\"automargin\": true, \"gridcolor\": \"white\", \"linecolor\": \"white\", \"ticks\": \"\", \"title\": {\"standoff\": 15}, \"zerolinecolor\": \"white\", \"zerolinewidth\": 2}}}, \"xaxis\": {\"anchor\": \"y\", \"domain\": [0.0, 1.0], \"title\": {\"text\": \"x\"}}, \"yaxis\": {\"anchor\": \"x\", \"domain\": [0.0, 1.0], \"title\": {\"text\": \"y\"}}},                        {\"responsive\": true}                    ).then(function(){\n",
       "                            \n",
       "var gd = document.getElementById('18d6ef80-1d6d-4e87-a914-86b76e53f0fb');\n",
       "var x = new MutationObserver(function (mutations, observer) {{\n",
       "        var display = window.getComputedStyle(gd).display;\n",
       "        if (!display || display === 'none') {{\n",
       "            console.log([gd, 'removed!']);\n",
       "            Plotly.purge(gd);\n",
       "            observer.disconnect();\n",
       "        }}\n",
       "}});\n",
       "\n",
       "// Listen for the removal of the full notebook cells\n",
       "var notebookContainer = gd.closest('#notebook-container');\n",
       "if (notebookContainer) {{\n",
       "    x.observe(notebookContainer, {childList: true});\n",
       "}}\n",
       "\n",
       "// Listen for the clearing of the current output cell\n",
       "var outputEl = gd.closest('.output');\n",
       "if (outputEl) {{\n",
       "    x.observe(outputEl, {childList: true});\n",
       "}}\n",
       "\n",
       "                        })                };                });            </script>        </div>"
      ]
     },
     "metadata": {},
     "output_type": "display_data"
    }
   ],
   "source": []
  },
  {
   "cell_type": "code",
   "execution_count": null,
   "metadata": {},
   "outputs": [],
   "source": []
  }
 ],
 "metadata": {
  "kernelspec": {
   "display_name": "Python 3",
   "language": "python",
   "name": "python3"
  },
  "language_info": {
   "codemirror_mode": {
    "name": "ipython",
    "version": 3
   },
   "file_extension": ".py",
   "mimetype": "text/x-python",
   "name": "python",
   "nbconvert_exporter": "python",
   "pygments_lexer": "ipython3",
   "version": "3.6.9"
  }
 },
 "nbformat": 4,
 "nbformat_minor": 4
}
