{
 "cells": [
  {
   "cell_type": "markdown",
   "metadata": {},
   "source": [
    "# Chargement des données"
   ]
  },
  {
   "cell_type": "code",
   "execution_count": 1,
   "metadata": {},
   "outputs": [
    {
     "name": "stdout",
     "output_type": "stream",
     "text": [
      "données chargées\n"
     ]
    }
   ],
   "source": [
    "# fichiers de https://parltrack.org/dumps\n",
    "\n",
    "import json, collections\n",
    "\n",
    "députés = json.load(open('ep_meps.json'))\n",
    "députés_par_id = {député[\"UserID\"]: député for député in députés}\n",
    "\n",
    "tout_les_votes = json.load(open('ep_votes.json'))\n",
    "print('données chargées')"
   ]
  },
  {
   "cell_type": "code",
   "execution_count": 2,
   "metadata": {},
   "outputs": [],
   "source": [
    "def nom(id):\n",
    "    return députés_par_id[id]['Name']['full']\n"
   ]
  },
  {
   "cell_type": "code",
   "execution_count": 3,
   "metadata": {},
   "outputs": [
    {
     "name": "stderr",
     "output_type": "stream",
     "text": [
      "/home/damien/.venv/lib/python3.6/site-packages/fuzzywuzzy/fuzz.py:11: UserWarning: Using slow pure-python SequenceMatcher. Install python-Levenshtein to remove this warning\n",
      "  warnings.warn('Using slow pure-python SequenceMatcher. Install python-Levenshtein to remove this warning')\n"
     ]
    },
    {
     "name": "stdout",
     "output_type": "stream",
     "text": [
      "dict_keys([96750, 22858, 96711, 190774, 96868, 24594, 96747, 189065, 5565, 30482, 72779, 96885, 124765, 96743, 96952, 96740, 24505, 113892, 124693, 124738, 124770, 124771, 124760, 197691, 197533, 131580, 197680, 197534, 197551, 197512, 197521, 197577, 182995, 197576, 197574, 197505, 197529, 197536, 197683, 197503, 197504, 197531, 197535, 197589, 197628, 197694, 94649, 197557, 197543, 135511, 197627, 197626, 197585, 197697, 197597, 197698, 197686, 197494, 197623, 197687, 197527, 197629, 197615, 197506, 197690, 197500, 197508, 197547, 97236, 197593, 197502, 197511, 197581, 197499, 204416, 204420, 204419, 204421, 204418])\n"
     ]
    }
   ],
   "source": [
    "# deputés francais\n",
    "# https://fr.wikipedia.org/wiki/Liste_des_d%C3%A9put%C3%A9s_europ%C3%A9ens_de_France_de_la_9e_l%C3%A9gislature\n",
    "# extrait avec https://wikitable2csv.ggor.de/\n",
    "import csv\n",
    "from fuzzywuzzy import fuzz\n",
    "\n",
    "députés_francais = list(csv.DictReader(open('liste_deputes_europeens.csv')))\n",
    "IDs_à_garder = set()\n",
    "for député in députés_francais:\n",
    "    nom1 = député[\"Nom\"]\n",
    "    found_correspondance = False\n",
    "    for autre_député in députés:\n",
    "        nom2 = nom(autre_député[\"UserID\"])\n",
    "        if fuzz.token_set_ratio(nom2, nom1) > 90:\n",
    "            # print('Correspondance:', nom2, '/', nom1)\n",
    "            if found_correspondance:\n",
    "                print('Double !')\n",
    "            found_correspondance = autre_député\n",
    "    if not found_correspondance:\n",
    "        print('pas de correspondance:', nom1)\n",
    "    député['données'] = found_correspondance\n",
    "    IDs_à_garder.add(found_correspondance[\"UserID\"])\n",
    "\n",
    "députés = [député for député in députés if député[\"UserID\"] in IDs_à_garder]\n",
    "députés_par_id = {député[\"UserID\"]: député for député in députés}\n",
    "print(députés_par_id.keys())"
   ]
  },
  {
   "cell_type": "code",
   "execution_count": 9,
   "metadata": {},
   "outputs": [],
   "source": [
    "votes_par_députés = {id_député: collections.defaultdict(list) for id_député in députés_par_id}\n",
    "\n",
    "for vote in tout_les_votes:\n",
    "    if 'votes' not in vote:\n",
    "        continue\n",
    "    date = vote['ts'].split('T')[0]\n",
    "    if date < \"2019-02-01\":\n",
    "        continue\n",
    "    for position, position_votes in vote['votes'].items():\n",
    "        for groupe, groupe_votes in position_votes['groups'].items():\n",
    "            for député in groupe_votes:\n",
    "                if 'mepid' not in député:\n",
    "                    # print(\"Député sans ID:\", député)\n",
    "                    continue\n",
    "                if député['mepid'] in votes_par_députés:\n",
    "                    votes_par_députés[député['mepid']][date] = [1]"
   ]
  },
  {
   "cell_type": "code",
   "execution_count": 6,
   "metadata": {},
   "outputs": [
    {
     "data": {
      "text/html": [
       "\n",
       "    <div class=\"bk-root\">\n",
       "        <a href=\"https://bokeh.org\" target=\"_blank\" class=\"bk-logo bk-logo-small bk-logo-notebook\"></a>\n",
       "        <span id=\"1001\">Loading BokehJS ...</span>\n",
       "    </div>"
      ]
     },
     "metadata": {},
     "output_type": "display_data"
    },
    {
     "data": {
      "application/javascript": [
       "\n",
       "(function(root) {\n",
       "  function now() {\n",
       "    return new Date();\n",
       "  }\n",
       "\n",
       "  var force = true;\n",
       "\n",
       "  if (typeof root._bokeh_onload_callbacks === \"undefined\" || force === true) {\n",
       "    root._bokeh_onload_callbacks = [];\n",
       "    root._bokeh_is_loading = undefined;\n",
       "  }\n",
       "\n",
       "  var JS_MIME_TYPE = 'application/javascript';\n",
       "  var HTML_MIME_TYPE = 'text/html';\n",
       "  var EXEC_MIME_TYPE = 'application/vnd.bokehjs_exec.v0+json';\n",
       "  var CLASS_NAME = 'output_bokeh rendered_html';\n",
       "\n",
       "  /**\n",
       "   * Render data to the DOM node\n",
       "   */\n",
       "  function render(props, node) {\n",
       "    var script = document.createElement(\"script\");\n",
       "    node.appendChild(script);\n",
       "  }\n",
       "\n",
       "  /**\n",
       "   * Handle when an output is cleared or removed\n",
       "   */\n",
       "  function handleClearOutput(event, handle) {\n",
       "    var cell = handle.cell;\n",
       "\n",
       "    var id = cell.output_area._bokeh_element_id;\n",
       "    var server_id = cell.output_area._bokeh_server_id;\n",
       "    // Clean up Bokeh references\n",
       "    if (id != null && id in Bokeh.index) {\n",
       "      Bokeh.index[id].model.document.clear();\n",
       "      delete Bokeh.index[id];\n",
       "    }\n",
       "\n",
       "    if (server_id !== undefined) {\n",
       "      // Clean up Bokeh references\n",
       "      var cmd = \"from bokeh.io.state import curstate; print(curstate().uuid_to_server['\" + server_id + \"'].get_sessions()[0].document.roots[0]._id)\";\n",
       "      cell.notebook.kernel.execute(cmd, {\n",
       "        iopub: {\n",
       "          output: function(msg) {\n",
       "            var id = msg.content.text.trim();\n",
       "            if (id in Bokeh.index) {\n",
       "              Bokeh.index[id].model.document.clear();\n",
       "              delete Bokeh.index[id];\n",
       "            }\n",
       "          }\n",
       "        }\n",
       "      });\n",
       "      // Destroy server and session\n",
       "      var cmd = \"import bokeh.io.notebook as ion; ion.destroy_server('\" + server_id + \"')\";\n",
       "      cell.notebook.kernel.execute(cmd);\n",
       "    }\n",
       "  }\n",
       "\n",
       "  /**\n",
       "   * Handle when a new output is added\n",
       "   */\n",
       "  function handleAddOutput(event, handle) {\n",
       "    var output_area = handle.output_area;\n",
       "    var output = handle.output;\n",
       "\n",
       "    // limit handleAddOutput to display_data with EXEC_MIME_TYPE content only\n",
       "    if ((output.output_type != \"display_data\") || (!output.data.hasOwnProperty(EXEC_MIME_TYPE))) {\n",
       "      return\n",
       "    }\n",
       "\n",
       "    var toinsert = output_area.element.find(\".\" + CLASS_NAME.split(' ')[0]);\n",
       "\n",
       "    if (output.metadata[EXEC_MIME_TYPE][\"id\"] !== undefined) {\n",
       "      toinsert[toinsert.length - 1].firstChild.textContent = output.data[JS_MIME_TYPE];\n",
       "      // store reference to embed id on output_area\n",
       "      output_area._bokeh_element_id = output.metadata[EXEC_MIME_TYPE][\"id\"];\n",
       "    }\n",
       "    if (output.metadata[EXEC_MIME_TYPE][\"server_id\"] !== undefined) {\n",
       "      var bk_div = document.createElement(\"div\");\n",
       "      bk_div.innerHTML = output.data[HTML_MIME_TYPE];\n",
       "      var script_attrs = bk_div.children[0].attributes;\n",
       "      for (var i = 0; i < script_attrs.length; i++) {\n",
       "        toinsert[toinsert.length - 1].firstChild.setAttribute(script_attrs[i].name, script_attrs[i].value);\n",
       "        toinsert[toinsert.length - 1].firstChild.textContent = bk_div.children[0].textContent\n",
       "      }\n",
       "      // store reference to server id on output_area\n",
       "      output_area._bokeh_server_id = output.metadata[EXEC_MIME_TYPE][\"server_id\"];\n",
       "    }\n",
       "  }\n",
       "\n",
       "  function register_renderer(events, OutputArea) {\n",
       "\n",
       "    function append_mime(data, metadata, element) {\n",
       "      // create a DOM node to render to\n",
       "      var toinsert = this.create_output_subarea(\n",
       "        metadata,\n",
       "        CLASS_NAME,\n",
       "        EXEC_MIME_TYPE\n",
       "      );\n",
       "      this.keyboard_manager.register_events(toinsert);\n",
       "      // Render to node\n",
       "      var props = {data: data, metadata: metadata[EXEC_MIME_TYPE]};\n",
       "      render(props, toinsert[toinsert.length - 1]);\n",
       "      element.append(toinsert);\n",
       "      return toinsert\n",
       "    }\n",
       "\n",
       "    /* Handle when an output is cleared or removed */\n",
       "    events.on('clear_output.CodeCell', handleClearOutput);\n",
       "    events.on('delete.Cell', handleClearOutput);\n",
       "\n",
       "    /* Handle when a new output is added */\n",
       "    events.on('output_added.OutputArea', handleAddOutput);\n",
       "\n",
       "    /**\n",
       "     * Register the mime type and append_mime function with output_area\n",
       "     */\n",
       "    OutputArea.prototype.register_mime_type(EXEC_MIME_TYPE, append_mime, {\n",
       "      /* Is output safe? */\n",
       "      safe: true,\n",
       "      /* Index of renderer in `output_area.display_order` */\n",
       "      index: 0\n",
       "    });\n",
       "  }\n",
       "\n",
       "  // register the mime type if in Jupyter Notebook environment and previously unregistered\n",
       "  if (root.Jupyter !== undefined) {\n",
       "    var events = require('base/js/events');\n",
       "    var OutputArea = require('notebook/js/outputarea').OutputArea;\n",
       "\n",
       "    if (OutputArea.prototype.mime_types().indexOf(EXEC_MIME_TYPE) == -1) {\n",
       "      register_renderer(events, OutputArea);\n",
       "    }\n",
       "  }\n",
       "\n",
       "  \n",
       "  if (typeof (root._bokeh_timeout) === \"undefined\" || force === true) {\n",
       "    root._bokeh_timeout = Date.now() + 5000;\n",
       "    root._bokeh_failed_load = false;\n",
       "  }\n",
       "\n",
       "  var NB_LOAD_WARNING = {'data': {'text/html':\n",
       "     \"<div style='background-color: #fdd'>\\n\"+\n",
       "     \"<p>\\n\"+\n",
       "     \"BokehJS does not appear to have successfully loaded. If loading BokehJS from CDN, this \\n\"+\n",
       "     \"may be due to a slow or bad network connection. Possible fixes:\\n\"+\n",
       "     \"</p>\\n\"+\n",
       "     \"<ul>\\n\"+\n",
       "     \"<li>re-rerun `output_notebook()` to attempt to load from CDN again, or</li>\\n\"+\n",
       "     \"<li>use INLINE resources instead, as so:</li>\\n\"+\n",
       "     \"</ul>\\n\"+\n",
       "     \"<code>\\n\"+\n",
       "     \"from bokeh.resources import INLINE\\n\"+\n",
       "     \"output_notebook(resources=INLINE)\\n\"+\n",
       "     \"</code>\\n\"+\n",
       "     \"</div>\"}};\n",
       "\n",
       "  function display_loaded() {\n",
       "    var el = document.getElementById(\"1001\");\n",
       "    if (el != null) {\n",
       "      el.textContent = \"BokehJS is loading...\";\n",
       "    }\n",
       "    if (root.Bokeh !== undefined) {\n",
       "      if (el != null) {\n",
       "        el.textContent = \"BokehJS \" + root.Bokeh.version + \" successfully loaded.\";\n",
       "      }\n",
       "    } else if (Date.now() < root._bokeh_timeout) {\n",
       "      setTimeout(display_loaded, 100)\n",
       "    }\n",
       "  }\n",
       "\n",
       "\n",
       "  function run_callbacks() {\n",
       "    try {\n",
       "      root._bokeh_onload_callbacks.forEach(function(callback) {\n",
       "        if (callback != null)\n",
       "          callback();\n",
       "      });\n",
       "    } finally {\n",
       "      delete root._bokeh_onload_callbacks\n",
       "    }\n",
       "    console.debug(\"Bokeh: all callbacks have finished\");\n",
       "  }\n",
       "\n",
       "  function load_libs(css_urls, js_urls, callback) {\n",
       "    if (css_urls == null) css_urls = [];\n",
       "    if (js_urls == null) js_urls = [];\n",
       "\n",
       "    root._bokeh_onload_callbacks.push(callback);\n",
       "    if (root._bokeh_is_loading > 0) {\n",
       "      console.debug(\"Bokeh: BokehJS is being loaded, scheduling callback at\", now());\n",
       "      return null;\n",
       "    }\n",
       "    if (js_urls == null || js_urls.length === 0) {\n",
       "      run_callbacks();\n",
       "      return null;\n",
       "    }\n",
       "    console.debug(\"Bokeh: BokehJS not loaded, scheduling load and callback at\", now());\n",
       "    root._bokeh_is_loading = css_urls.length + js_urls.length;\n",
       "\n",
       "    function on_load() {\n",
       "      root._bokeh_is_loading--;\n",
       "      if (root._bokeh_is_loading === 0) {\n",
       "        console.debug(\"Bokeh: all BokehJS libraries/stylesheets loaded\");\n",
       "        run_callbacks()\n",
       "      }\n",
       "    }\n",
       "\n",
       "    function on_error() {\n",
       "      console.error(\"failed to load \" + url);\n",
       "    }\n",
       "\n",
       "    for (var i = 0; i < css_urls.length; i++) {\n",
       "      var url = css_urls[i];\n",
       "      const element = document.createElement(\"link\");\n",
       "      element.onload = on_load;\n",
       "      element.onerror = on_error;\n",
       "      element.rel = \"stylesheet\";\n",
       "      element.type = \"text/css\";\n",
       "      element.href = url;\n",
       "      console.debug(\"Bokeh: injecting link tag for BokehJS stylesheet: \", url);\n",
       "      document.body.appendChild(element);\n",
       "    }\n",
       "\n",
       "    const hashes = {\"https://cdn.bokeh.org/bokeh/release/bokeh-2.0.1.min.js\": \"JpP8FXbgAZLkfur7LiK3j9AGBhHNIvF742meBJrjO2ShJDhCG2I1uVvW+0DUtrmc\", \"https://cdn.bokeh.org/bokeh/release/bokeh-widgets-2.0.1.min.js\": \"xZlADit0Q04ISQEdKg2k3L4W9AwQBAuDs9nJL9fM/WwzL1tEU9VPNezOFX0nLEAz\", \"https://cdn.bokeh.org/bokeh/release/bokeh-tables-2.0.1.min.js\": \"4BuPRZkdMKSnj3zoxiNrQ86XgNw0rYmBOxe7nshquXwwcauupgBF2DHLVG1WuZlV\", \"https://cdn.bokeh.org/bokeh/release/bokeh-gl-2.0.1.min.js\": \"Dv1SQ87hmDqK6S5OhBf0bCuwAEvL5QYL0PuR/F1SPVhCS/r/abjkbpKDYL2zeM19\"};\n",
       "\n",
       "    for (var i = 0; i < js_urls.length; i++) {\n",
       "      var url = js_urls[i];\n",
       "      var element = document.createElement('script');\n",
       "      element.onload = on_load;\n",
       "      element.onerror = on_error;\n",
       "      element.async = false;\n",
       "      element.src = url;\n",
       "      if (url in hashes) {\n",
       "        element.crossOrigin = \"anonymous\";\n",
       "        element.integrity = \"sha384-\" + hashes[url];\n",
       "      }\n",
       "      console.debug(\"Bokeh: injecting script tag for BokehJS library: \", url);\n",
       "      document.head.appendChild(element);\n",
       "    }\n",
       "  };var element = document.getElementById(\"1001\");\n",
       "  if (element == null) {\n",
       "    console.error(\"Bokeh: ERROR: autoload.js configured with elementid '1001' but no matching script tag was found. \")\n",
       "    return false;\n",
       "  }\n",
       "\n",
       "  function inject_raw_css(css) {\n",
       "    const element = document.createElement(\"style\");\n",
       "    element.appendChild(document.createTextNode(css));\n",
       "    document.body.appendChild(element);\n",
       "  }\n",
       "\n",
       "  \n",
       "  var js_urls = [\"https://cdn.bokeh.org/bokeh/release/bokeh-2.0.1.min.js\", \"https://cdn.bokeh.org/bokeh/release/bokeh-widgets-2.0.1.min.js\", \"https://cdn.bokeh.org/bokeh/release/bokeh-tables-2.0.1.min.js\", \"https://cdn.bokeh.org/bokeh/release/bokeh-gl-2.0.1.min.js\"];\n",
       "  var css_urls = [];\n",
       "  \n",
       "\n",
       "  var inline_js = [\n",
       "    function(Bokeh) {\n",
       "      Bokeh.set_log_level(\"info\");\n",
       "    },\n",
       "    function(Bokeh) {\n",
       "    \n",
       "    \n",
       "    }\n",
       "  ];\n",
       "\n",
       "  function run_inline_js() {\n",
       "    \n",
       "    if (root.Bokeh !== undefined || force === true) {\n",
       "      \n",
       "    for (var i = 0; i < inline_js.length; i++) {\n",
       "      inline_js[i].call(root, root.Bokeh);\n",
       "    }\n",
       "    if (force === true) {\n",
       "        display_loaded();\n",
       "      }} else if (Date.now() < root._bokeh_timeout) {\n",
       "      setTimeout(run_inline_js, 100);\n",
       "    } else if (!root._bokeh_failed_load) {\n",
       "      console.log(\"Bokeh: BokehJS failed to load within specified timeout.\");\n",
       "      root._bokeh_failed_load = true;\n",
       "    } else if (force !== true) {\n",
       "      var cell = $(document.getElementById(\"1001\")).parents('.cell').data().cell;\n",
       "      cell.output_area.append_execute_result(NB_LOAD_WARNING)\n",
       "    }\n",
       "\n",
       "  }\n",
       "\n",
       "  if (root._bokeh_is_loading === 0) {\n",
       "    console.debug(\"Bokeh: BokehJS loaded, going straight to plotting\");\n",
       "    run_inline_js();\n",
       "  } else {\n",
       "    load_libs(css_urls, js_urls, function() {\n",
       "      console.debug(\"Bokeh: BokehJS plotting callback run at\", now());\n",
       "      run_inline_js();\n",
       "    });\n",
       "  }\n",
       "}(window));"
      ],
      "application/vnd.bokehjs_load.v0+json": "\n(function(root) {\n  function now() {\n    return new Date();\n  }\n\n  var force = true;\n\n  if (typeof root._bokeh_onload_callbacks === \"undefined\" || force === true) {\n    root._bokeh_onload_callbacks = [];\n    root._bokeh_is_loading = undefined;\n  }\n\n  \n\n  \n  if (typeof (root._bokeh_timeout) === \"undefined\" || force === true) {\n    root._bokeh_timeout = Date.now() + 5000;\n    root._bokeh_failed_load = false;\n  }\n\n  var NB_LOAD_WARNING = {'data': {'text/html':\n     \"<div style='background-color: #fdd'>\\n\"+\n     \"<p>\\n\"+\n     \"BokehJS does not appear to have successfully loaded. If loading BokehJS from CDN, this \\n\"+\n     \"may be due to a slow or bad network connection. Possible fixes:\\n\"+\n     \"</p>\\n\"+\n     \"<ul>\\n\"+\n     \"<li>re-rerun `output_notebook()` to attempt to load from CDN again, or</li>\\n\"+\n     \"<li>use INLINE resources instead, as so:</li>\\n\"+\n     \"</ul>\\n\"+\n     \"<code>\\n\"+\n     \"from bokeh.resources import INLINE\\n\"+\n     \"output_notebook(resources=INLINE)\\n\"+\n     \"</code>\\n\"+\n     \"</div>\"}};\n\n  function display_loaded() {\n    var el = document.getElementById(\"1001\");\n    if (el != null) {\n      el.textContent = \"BokehJS is loading...\";\n    }\n    if (root.Bokeh !== undefined) {\n      if (el != null) {\n        el.textContent = \"BokehJS \" + root.Bokeh.version + \" successfully loaded.\";\n      }\n    } else if (Date.now() < root._bokeh_timeout) {\n      setTimeout(display_loaded, 100)\n    }\n  }\n\n\n  function run_callbacks() {\n    try {\n      root._bokeh_onload_callbacks.forEach(function(callback) {\n        if (callback != null)\n          callback();\n      });\n    } finally {\n      delete root._bokeh_onload_callbacks\n    }\n    console.debug(\"Bokeh: all callbacks have finished\");\n  }\n\n  function load_libs(css_urls, js_urls, callback) {\n    if (css_urls == null) css_urls = [];\n    if (js_urls == null) js_urls = [];\n\n    root._bokeh_onload_callbacks.push(callback);\n    if (root._bokeh_is_loading > 0) {\n      console.debug(\"Bokeh: BokehJS is being loaded, scheduling callback at\", now());\n      return null;\n    }\n    if (js_urls == null || js_urls.length === 0) {\n      run_callbacks();\n      return null;\n    }\n    console.debug(\"Bokeh: BokehJS not loaded, scheduling load and callback at\", now());\n    root._bokeh_is_loading = css_urls.length + js_urls.length;\n\n    function on_load() {\n      root._bokeh_is_loading--;\n      if (root._bokeh_is_loading === 0) {\n        console.debug(\"Bokeh: all BokehJS libraries/stylesheets loaded\");\n        run_callbacks()\n      }\n    }\n\n    function on_error() {\n      console.error(\"failed to load \" + url);\n    }\n\n    for (var i = 0; i < css_urls.length; i++) {\n      var url = css_urls[i];\n      const element = document.createElement(\"link\");\n      element.onload = on_load;\n      element.onerror = on_error;\n      element.rel = \"stylesheet\";\n      element.type = \"text/css\";\n      element.href = url;\n      console.debug(\"Bokeh: injecting link tag for BokehJS stylesheet: \", url);\n      document.body.appendChild(element);\n    }\n\n    const hashes = {\"https://cdn.bokeh.org/bokeh/release/bokeh-2.0.1.min.js\": \"JpP8FXbgAZLkfur7LiK3j9AGBhHNIvF742meBJrjO2ShJDhCG2I1uVvW+0DUtrmc\", \"https://cdn.bokeh.org/bokeh/release/bokeh-widgets-2.0.1.min.js\": \"xZlADit0Q04ISQEdKg2k3L4W9AwQBAuDs9nJL9fM/WwzL1tEU9VPNezOFX0nLEAz\", \"https://cdn.bokeh.org/bokeh/release/bokeh-tables-2.0.1.min.js\": \"4BuPRZkdMKSnj3zoxiNrQ86XgNw0rYmBOxe7nshquXwwcauupgBF2DHLVG1WuZlV\", \"https://cdn.bokeh.org/bokeh/release/bokeh-gl-2.0.1.min.js\": \"Dv1SQ87hmDqK6S5OhBf0bCuwAEvL5QYL0PuR/F1SPVhCS/r/abjkbpKDYL2zeM19\"};\n\n    for (var i = 0; i < js_urls.length; i++) {\n      var url = js_urls[i];\n      var element = document.createElement('script');\n      element.onload = on_load;\n      element.onerror = on_error;\n      element.async = false;\n      element.src = url;\n      if (url in hashes) {\n        element.crossOrigin = \"anonymous\";\n        element.integrity = \"sha384-\" + hashes[url];\n      }\n      console.debug(\"Bokeh: injecting script tag for BokehJS library: \", url);\n      document.head.appendChild(element);\n    }\n  };var element = document.getElementById(\"1001\");\n  if (element == null) {\n    console.error(\"Bokeh: ERROR: autoload.js configured with elementid '1001' but no matching script tag was found. \")\n    return false;\n  }\n\n  function inject_raw_css(css) {\n    const element = document.createElement(\"style\");\n    element.appendChild(document.createTextNode(css));\n    document.body.appendChild(element);\n  }\n\n  \n  var js_urls = [\"https://cdn.bokeh.org/bokeh/release/bokeh-2.0.1.min.js\", \"https://cdn.bokeh.org/bokeh/release/bokeh-widgets-2.0.1.min.js\", \"https://cdn.bokeh.org/bokeh/release/bokeh-tables-2.0.1.min.js\", \"https://cdn.bokeh.org/bokeh/release/bokeh-gl-2.0.1.min.js\"];\n  var css_urls = [];\n  \n\n  var inline_js = [\n    function(Bokeh) {\n      Bokeh.set_log_level(\"info\");\n    },\n    function(Bokeh) {\n    \n    \n    }\n  ];\n\n  function run_inline_js() {\n    \n    if (root.Bokeh !== undefined || force === true) {\n      \n    for (var i = 0; i < inline_js.length; i++) {\n      inline_js[i].call(root, root.Bokeh);\n    }\n    if (force === true) {\n        display_loaded();\n      }} else if (Date.now() < root._bokeh_timeout) {\n      setTimeout(run_inline_js, 100);\n    } else if (!root._bokeh_failed_load) {\n      console.log(\"Bokeh: BokehJS failed to load within specified timeout.\");\n      root._bokeh_failed_load = true;\n    } else if (force !== true) {\n      var cell = $(document.getElementById(\"1001\")).parents('.cell').data().cell;\n      cell.output_area.append_execute_result(NB_LOAD_WARNING)\n    }\n\n  }\n\n  if (root._bokeh_is_loading === 0) {\n    console.debug(\"Bokeh: BokehJS loaded, going straight to plotting\");\n    run_inline_js();\n  } else {\n    load_libs(css_urls, js_urls, function() {\n      console.debug(\"Bokeh: BokehJS plotting callback run at\", now());\n      run_inline_js();\n    });\n  }\n}(window));"
     },
     "metadata": {},
     "output_type": "display_data"
    }
   ],
   "source": [
    "from bokeh.io import output_notebook\n",
    "output_notebook()"
   ]
  },
  {
   "cell_type": "code",
   "execution_count": 13,
   "metadata": {},
   "outputs": [],
   "source": [
    "import datetime, statistics\n",
    "\n",
    "# grouper par semaine\n",
    "\n",
    "votes_par_mois = collections.defaultdict(dict)\n",
    "\n",
    "for député, dates in votes_par_députés.items():\n",
    "    for date, votes in dates.items():\n",
    "        année, mois, jour = date.split('-')\n",
    "        mois_complet = f\"{année}-{mois}\"\n",
    "        if député not in votes_par_mois[mois_complet]:\n",
    "            votes_par_mois[mois_complet][député] = [votes]\n",
    "        votes_par_mois[mois_complet][député] += votes\n",
    "\n",
    "def moyenne_votes(votes):\n",
    "    return statistics.mean([len(votes.get(député, [])) for député in députés_par_id])\n",
    "\n",
    "from bokeh.io import show\n",
    "from bokeh.plotting import figure\n",
    "        \n",
    "tout_les_mois = sorted(votes_par_mois.keys())\n",
    "\n",
    "def compte_votes(député):\n",
    "    return sum([len(mois.get(député, [])) for mois in votes_par_mois.values()])\n",
    "\n",
    "députés_les_moins_présents = sorted(votes_par_députés.keys(),\n",
    "                                    key=compte_votes)\n",
    "\n",
    "\n",
    "def affiche_député(député):\n",
    "    votes = [len(votes_par_mois[mois].get(député, [])) for mois in tout_les_mois]\n",
    "    votes_moyenne = [moyenne_votes(votes_par_mois[mois]) for mois in tout_les_mois]\n",
    "\n",
    "    p = figure(x_range=tout_les_mois, plot_width=700, plot_height=400,\n",
    "               title=f\"Jours où {nom(député)} à voté ({compte_votes(député)})\",\n",
    "               )\n",
    "\n",
    "    p.step(tout_les_mois, votes_moyenne, line_width=2, line_color=\"red\", mode=\"before\", alpha=0.8, legend_label='Moyenne de tous les députés français')\n",
    "    p.vbar(x=tout_les_mois, top=votes, width=1, alpha=0.5)\n",
    "\n",
    "    p.y_range.start = 0\n",
    "    p.xgrid.grid_line_color = None\n",
    "    p.ygrid.grid_line_color = None\n",
    "    p.xaxis.major_label_orientation = \"vertical\"\n",
    "    show(p)\n"
   ]
  },
  {
   "cell_type": "markdown",
   "metadata": {},
   "source": [
    "# Les 10 moins présents"
   ]
  },
  {
   "cell_type": "code",
   "execution_count": 14,
   "metadata": {},
   "outputs": [
    {
     "data": {
      "text/html": [
       "\n",
       "\n",
       "\n",
       "\n",
       "\n",
       "\n",
       "  <div class=\"bk-root\" id=\"f1e78c29-0077-409d-a2b8-ce756ef4e5db\" data-root-id=\"8952\"></div>\n"
      ]
     },
     "metadata": {},
     "output_type": "display_data"
    },
    {
     "data": {
      "application/javascript": [
       "(function(root) {\n",
       "  function embed_document(root) {\n",
       "    \n",
       "  var docs_json = {\"5a08997a-adcd-4a2b-a187-1fbf713e3c67\":{\"roots\":{\"references\":[{\"attributes\":{\"below\":[{\"id\":\"8963\"}],\"center\":[{\"id\":\"8965\"},{\"id\":\"8969\"},{\"id\":\"8995\"}],\"left\":[{\"id\":\"8966\"}],\"plot_height\":400,\"plot_width\":700,\"renderers\":[{\"id\":\"8987\"},{\"id\":\"9000\"}],\"title\":{\"id\":\"8953\"},\"toolbar\":{\"id\":\"8977\"},\"x_range\":{\"id\":\"8955\"},\"x_scale\":{\"id\":\"8959\"},\"y_range\":{\"id\":\"8957\"},\"y_scale\":{\"id\":\"8961\"}},\"id\":\"8952\",\"subtype\":\"Figure\",\"type\":\"Plot\"},{\"attributes\":{},\"id\":\"8970\",\"type\":\"PanTool\"},{\"attributes\":{},\"id\":\"8971\",\"type\":\"WheelZoomTool\"},{\"attributes\":{},\"id\":\"8961\",\"type\":\"LinearScale\"},{\"attributes\":{},\"id\":\"8959\",\"type\":\"CategoricalScale\"},{\"attributes\":{},\"id\":\"8973\",\"type\":\"SaveTool\"},{\"attributes\":{\"factors\":[\"2019-02\",\"2019-03\",\"2019-04\",\"2019-07\",\"2019-09\",\"2019-10\",\"2019-11\",\"2019-12\",\"2020-01\",\"2020-02\",\"2020-03\",\"2020-04\",\"2020-05\",\"2020-06\",\"2020-07\"]},\"id\":\"8955\",\"type\":\"FactorRange\"},{\"attributes\":{\"start\":0},\"id\":\"8957\",\"type\":\"DataRange1d\"},{\"attributes\":{\"overlay\":{\"id\":\"8976\"}},\"id\":\"8972\",\"type\":\"BoxZoomTool\"},{\"attributes\":{},\"id\":\"8974\",\"type\":\"ResetTool\"},{\"attributes\":{},\"id\":\"8990\",\"type\":\"BasicTickFormatter\"},{\"attributes\":{\"data\":{\"x\":[\"2019-02\",\"2019-03\",\"2019-04\",\"2019-07\",\"2019-09\",\"2019-10\",\"2019-11\",\"2019-12\",\"2020-01\",\"2020-02\",\"2020-03\",\"2020-04\",\"2020-05\",\"2020-06\",\"2020-07\"],\"y\":[1.0379746835443038,1.8101265822784811,1.4430379746835442,2.1772151898734178,4.139240506329114,5.556962025316456,5.734177215189874,3.392405063291139,5.139240506329114,3.5443037974683542,2,3,4,3.9873417721518987,4]},\"selected\":{\"id\":\"9309\"},\"selection_policy\":{\"id\":\"9308\"}},\"id\":\"8984\",\"type\":\"ColumnDataSource\"},{\"attributes\":{},\"id\":\"8975\",\"type\":\"HelpTool\"},{\"attributes\":{},\"id\":\"8992\",\"type\":\"CategoricalTickFormatter\"},{\"attributes\":{\"items\":[{\"id\":\"8996\"}]},\"id\":\"8995\",\"type\":\"Legend\"},{\"attributes\":{\"active_drag\":\"auto\",\"active_inspect\":\"auto\",\"active_multi\":null,\"active_scroll\":\"auto\",\"active_tap\":\"auto\",\"tools\":[{\"id\":\"8970\"},{\"id\":\"8971\"},{\"id\":\"8972\"},{\"id\":\"8973\"},{\"id\":\"8974\"},{\"id\":\"8975\"}]},\"id\":\"8977\",\"type\":\"Toolbar\"},{\"attributes\":{\"label\":{\"value\":\"Moyenne de tous les d\\u00e9put\\u00e9s fran\\u00e7ais\"},\"renderers\":[{\"id\":\"8987\"}]},\"id\":\"8996\",\"type\":\"LegendItem\"},{\"attributes\":{\"axis\":{\"id\":\"8966\"},\"dimension\":1,\"grid_line_color\":null,\"ticker\":null},\"id\":\"8969\",\"type\":\"Grid\"},{\"attributes\":{},\"id\":\"9311\",\"type\":\"Selection\"},{\"attributes\":{\"data\":{\"top\":[0,0,0,0,0,0,0,0,0,4,2,3,4,4,4],\"x\":[\"2019-02\",\"2019-03\",\"2019-04\",\"2019-07\",\"2019-09\",\"2019-10\",\"2019-11\",\"2019-12\",\"2020-01\",\"2020-02\",\"2020-03\",\"2020-04\",\"2020-05\",\"2020-06\",\"2020-07\"]},\"selected\":{\"id\":\"9311\"},\"selection_policy\":{\"id\":\"9310\"}},\"id\":\"8997\",\"type\":\"ColumnDataSource\"},{\"attributes\":{\"line_alpha\":{\"value\":0.8},\"line_color\":{\"value\":\"red\"},\"line_width\":{\"value\":2},\"x\":{\"field\":\"x\"},\"y\":{\"field\":\"y\"}},\"id\":\"8985\",\"type\":\"Step\"},{\"attributes\":{},\"id\":\"9310\",\"type\":\"UnionRenderers\"},{\"attributes\":{\"fill_alpha\":{\"value\":0.1},\"fill_color\":{\"value\":\"#1f77b4\"},\"line_alpha\":{\"value\":0.1},\"line_color\":{\"value\":\"#1f77b4\"},\"top\":{\"field\":\"top\"},\"width\":{\"value\":1},\"x\":{\"field\":\"x\"}},\"id\":\"8999\",\"type\":\"VBar\"},{\"attributes\":{\"bottom_units\":\"screen\",\"fill_alpha\":0.5,\"fill_color\":\"lightgrey\",\"left_units\":\"screen\",\"level\":\"overlay\",\"line_alpha\":1.0,\"line_color\":\"black\",\"line_dash\":[4,4],\"line_width\":2,\"render_mode\":\"css\",\"right_units\":\"screen\",\"top_units\":\"screen\"},\"id\":\"8976\",\"type\":\"BoxAnnotation\"},{\"attributes\":{\"source\":{\"id\":\"8984\"}},\"id\":\"8988\",\"type\":\"CDSView\"},{\"attributes\":{\"data_source\":{\"id\":\"8997\"},\"glyph\":{\"id\":\"8998\"},\"hover_glyph\":null,\"muted_glyph\":null,\"nonselection_glyph\":{\"id\":\"8999\"},\"selection_glyph\":null,\"view\":{\"id\":\"9001\"}},\"id\":\"9000\",\"type\":\"GlyphRenderer\"},{\"attributes\":{\"data_source\":{\"id\":\"8984\"},\"glyph\":{\"id\":\"8985\"},\"hover_glyph\":null,\"muted_glyph\":null,\"nonselection_glyph\":{\"id\":\"8986\"},\"selection_glyph\":null,\"view\":{\"id\":\"8988\"}},\"id\":\"8987\",\"type\":\"GlyphRenderer\"},{\"attributes\":{\"text\":\"Jours o\\u00f9 Ilana CICUREL \\u00e0 vot\\u00e9 (21)\"},\"id\":\"8953\",\"type\":\"Title\"},{\"attributes\":{\"source\":{\"id\":\"8997\"}},\"id\":\"9001\",\"type\":\"CDSView\"},{\"attributes\":{\"formatter\":{\"id\":\"8990\"},\"ticker\":{\"id\":\"8967\"}},\"id\":\"8966\",\"type\":\"LinearAxis\"},{\"attributes\":{},\"id\":\"9309\",\"type\":\"Selection\"},{\"attributes\":{\"fill_alpha\":{\"value\":0.5},\"fill_color\":{\"value\":\"#1f77b4\"},\"line_alpha\":{\"value\":0.5},\"line_color\":{\"value\":\"#1f77b4\"},\"top\":{\"field\":\"top\"},\"width\":{\"value\":1},\"x\":{\"field\":\"x\"}},\"id\":\"8998\",\"type\":\"VBar\"},{\"attributes\":{},\"id\":\"9308\",\"type\":\"UnionRenderers\"},{\"attributes\":{},\"id\":\"8964\",\"type\":\"CategoricalTicker\"},{\"attributes\":{\"line_alpha\":{\"value\":0.1},\"line_color\":{\"value\":\"red\"},\"line_width\":{\"value\":2},\"x\":{\"field\":\"x\"},\"y\":{\"field\":\"y\"}},\"id\":\"8986\",\"type\":\"Step\"},{\"attributes\":{\"axis\":{\"id\":\"8963\"},\"grid_line_color\":null,\"ticker\":null},\"id\":\"8965\",\"type\":\"Grid\"},{\"attributes\":{\"formatter\":{\"id\":\"8992\"},\"major_label_orientation\":\"vertical\",\"ticker\":{\"id\":\"8964\"}},\"id\":\"8963\",\"type\":\"CategoricalAxis\"},{\"attributes\":{},\"id\":\"8967\",\"type\":\"BasicTicker\"}],\"root_ids\":[\"8952\"]},\"title\":\"Bokeh Application\",\"version\":\"2.0.1\"}};\n",
       "  var render_items = [{\"docid\":\"5a08997a-adcd-4a2b-a187-1fbf713e3c67\",\"root_ids\":[\"8952\"],\"roots\":{\"8952\":\"f1e78c29-0077-409d-a2b8-ce756ef4e5db\"}}];\n",
       "  root.Bokeh.embed.embed_items_notebook(docs_json, render_items);\n",
       "\n",
       "  }\n",
       "  if (root.Bokeh !== undefined) {\n",
       "    embed_document(root);\n",
       "  } else {\n",
       "    var attempts = 0;\n",
       "    var timer = setInterval(function(root) {\n",
       "      if (root.Bokeh !== undefined) {\n",
       "        clearInterval(timer);\n",
       "        embed_document(root);\n",
       "      } else {\n",
       "        attempts++;\n",
       "        if (attempts > 100) {\n",
       "          clearInterval(timer);\n",
       "          console.log(\"Bokeh: ERROR: Unable to run BokehJS code because BokehJS library is missing\");\n",
       "        }\n",
       "      }\n",
       "    }, 10, root)\n",
       "  }\n",
       "})(window);"
      ],
      "application/vnd.bokehjs_exec.v0+json": ""
     },
     "metadata": {
      "application/vnd.bokehjs_exec.v0+json": {
       "id": "8952"
      }
     },
     "output_type": "display_data"
    },
    {
     "data": {
      "text/html": [
       "\n",
       "\n",
       "\n",
       "\n",
       "\n",
       "\n",
       "  <div class=\"bk-root\" id=\"2dd163d5-90e3-48cd-99ef-911a96f7cf53\" data-root-id=\"9372\"></div>\n"
      ]
     },
     "metadata": {},
     "output_type": "display_data"
    },
    {
     "data": {
      "application/javascript": [
       "(function(root) {\n",
       "  function embed_document(root) {\n",
       "    \n",
       "  var docs_json = {\"b843c375-44f2-4d81-b9f0-a59eb4effea6\":{\"roots\":{\"references\":[{\"attributes\":{\"below\":[{\"id\":\"9383\"}],\"center\":[{\"id\":\"9385\"},{\"id\":\"9389\"},{\"id\":\"9415\"}],\"left\":[{\"id\":\"9386\"}],\"plot_height\":400,\"plot_width\":700,\"renderers\":[{\"id\":\"9407\"},{\"id\":\"9420\"}],\"title\":{\"id\":\"9373\"},\"toolbar\":{\"id\":\"9397\"},\"x_range\":{\"id\":\"9375\"},\"x_scale\":{\"id\":\"9379\"},\"y_range\":{\"id\":\"9377\"},\"y_scale\":{\"id\":\"9381\"}},\"id\":\"9372\",\"subtype\":\"Figure\",\"type\":\"Plot\"},{\"attributes\":{},\"id\":\"9739\",\"type\":\"Selection\"},{\"attributes\":{\"start\":0},\"id\":\"9377\",\"type\":\"DataRange1d\"},{\"attributes\":{\"active_drag\":\"auto\",\"active_inspect\":\"auto\",\"active_multi\":null,\"active_scroll\":\"auto\",\"active_tap\":\"auto\",\"tools\":[{\"id\":\"9390\"},{\"id\":\"9391\"},{\"id\":\"9392\"},{\"id\":\"9393\"},{\"id\":\"9394\"},{\"id\":\"9395\"}]},\"id\":\"9397\",\"type\":\"Toolbar\"},{\"attributes\":{},\"id\":\"9740\",\"type\":\"UnionRenderers\"},{\"attributes\":{},\"id\":\"9379\",\"type\":\"CategoricalScale\"},{\"attributes\":{},\"id\":\"9741\",\"type\":\"Selection\"},{\"attributes\":{},\"id\":\"9381\",\"type\":\"LinearScale\"},{\"attributes\":{\"formatter\":{\"id\":\"9412\"},\"major_label_orientation\":\"vertical\",\"ticker\":{\"id\":\"9384\"}},\"id\":\"9383\",\"type\":\"CategoricalAxis\"},{\"attributes\":{\"bottom_units\":\"screen\",\"fill_alpha\":0.5,\"fill_color\":\"lightgrey\",\"left_units\":\"screen\",\"level\":\"overlay\",\"line_alpha\":1.0,\"line_color\":\"black\",\"line_dash\":[4,4],\"line_width\":2,\"render_mode\":\"css\",\"right_units\":\"screen\",\"top_units\":\"screen\"},\"id\":\"9396\",\"type\":\"BoxAnnotation\"},{\"attributes\":{},\"id\":\"9384\",\"type\":\"CategoricalTicker\"},{\"attributes\":{\"line_alpha\":{\"value\":0.8},\"line_color\":{\"value\":\"red\"},\"line_width\":{\"value\":2},\"x\":{\"field\":\"x\"},\"y\":{\"field\":\"y\"}},\"id\":\"9405\",\"type\":\"Step\"},{\"attributes\":{\"axis\":{\"id\":\"9383\"},\"grid_line_color\":null,\"ticker\":null},\"id\":\"9385\",\"type\":\"Grid\"},{\"attributes\":{\"source\":{\"id\":\"9404\"}},\"id\":\"9408\",\"type\":\"CDSView\"},{\"attributes\":{\"data_source\":{\"id\":\"9404\"},\"glyph\":{\"id\":\"9405\"},\"hover_glyph\":null,\"muted_glyph\":null,\"nonselection_glyph\":{\"id\":\"9406\"},\"selection_glyph\":null,\"view\":{\"id\":\"9408\"}},\"id\":\"9407\",\"type\":\"GlyphRenderer\"},{\"attributes\":{\"formatter\":{\"id\":\"9410\"},\"ticker\":{\"id\":\"9387\"}},\"id\":\"9386\",\"type\":\"LinearAxis\"},{\"attributes\":{\"data\":{\"x\":[\"2019-02\",\"2019-03\",\"2019-04\",\"2019-07\",\"2019-09\",\"2019-10\",\"2019-11\",\"2019-12\",\"2020-01\",\"2020-02\",\"2020-03\",\"2020-04\",\"2020-05\",\"2020-06\",\"2020-07\"],\"y\":[1.0379746835443038,1.8101265822784811,1.4430379746835442,2.1772151898734178,4.139240506329114,5.556962025316456,5.734177215189874,3.392405063291139,5.139240506329114,3.5443037974683542,2,3,4,3.9873417721518987,4]},\"selected\":{\"id\":\"9739\"},\"selection_policy\":{\"id\":\"9738\"}},\"id\":\"9404\",\"type\":\"ColumnDataSource\"},{\"attributes\":{},\"id\":\"9387\",\"type\":\"BasicTicker\"},{\"attributes\":{\"line_alpha\":{\"value\":0.1},\"line_color\":{\"value\":\"red\"},\"line_width\":{\"value\":2},\"x\":{\"field\":\"x\"},\"y\":{\"field\":\"y\"}},\"id\":\"9406\",\"type\":\"Step\"},{\"attributes\":{\"axis\":{\"id\":\"9386\"},\"dimension\":1,\"grid_line_color\":null,\"ticker\":null},\"id\":\"9389\",\"type\":\"Grid\"},{\"attributes\":{},\"id\":\"9412\",\"type\":\"CategoricalTickFormatter\"},{\"attributes\":{\"items\":[{\"id\":\"9416\"}]},\"id\":\"9415\",\"type\":\"Legend\"},{\"attributes\":{},\"id\":\"9410\",\"type\":\"BasicTickFormatter\"},{\"attributes\":{\"label\":{\"value\":\"Moyenne de tous les d\\u00e9put\\u00e9s fran\\u00e7ais\"},\"renderers\":[{\"id\":\"9407\"}]},\"id\":\"9416\",\"type\":\"LegendItem\"},{\"attributes\":{},\"id\":\"9738\",\"type\":\"UnionRenderers\"},{\"attributes\":{\"data\":{\"top\":[0,0,0,0,0,0,0,0,0,4,2,3,4,4,4],\"x\":[\"2019-02\",\"2019-03\",\"2019-04\",\"2019-07\",\"2019-09\",\"2019-10\",\"2019-11\",\"2019-12\",\"2020-01\",\"2020-02\",\"2020-03\",\"2020-04\",\"2020-05\",\"2020-06\",\"2020-07\"]},\"selected\":{\"id\":\"9741\"},\"selection_policy\":{\"id\":\"9740\"}},\"id\":\"9417\",\"type\":\"ColumnDataSource\"},{\"attributes\":{},\"id\":\"9390\",\"type\":\"PanTool\"},{\"attributes\":{},\"id\":\"9391\",\"type\":\"WheelZoomTool\"},{\"attributes\":{\"fill_alpha\":{\"value\":0.1},\"fill_color\":{\"value\":\"#1f77b4\"},\"line_alpha\":{\"value\":0.1},\"line_color\":{\"value\":\"#1f77b4\"},\"top\":{\"field\":\"top\"},\"width\":{\"value\":1},\"x\":{\"field\":\"x\"}},\"id\":\"9419\",\"type\":\"VBar\"},{\"attributes\":{\"overlay\":{\"id\":\"9396\"}},\"id\":\"9392\",\"type\":\"BoxZoomTool\"},{\"attributes\":{\"data_source\":{\"id\":\"9417\"},\"glyph\":{\"id\":\"9418\"},\"hover_glyph\":null,\"muted_glyph\":null,\"nonselection_glyph\":{\"id\":\"9419\"},\"selection_glyph\":null,\"view\":{\"id\":\"9421\"}},\"id\":\"9420\",\"type\":\"GlyphRenderer\"},{\"attributes\":{},\"id\":\"9393\",\"type\":\"SaveTool\"},{\"attributes\":{\"text\":\"Jours o\\u00f9 Claude GRUFFAT \\u00e0 vot\\u00e9 (21)\"},\"id\":\"9373\",\"type\":\"Title\"},{\"attributes\":{\"source\":{\"id\":\"9417\"}},\"id\":\"9421\",\"type\":\"CDSView\"},{\"attributes\":{\"factors\":[\"2019-02\",\"2019-03\",\"2019-04\",\"2019-07\",\"2019-09\",\"2019-10\",\"2019-11\",\"2019-12\",\"2020-01\",\"2020-02\",\"2020-03\",\"2020-04\",\"2020-05\",\"2020-06\",\"2020-07\"]},\"id\":\"9375\",\"type\":\"FactorRange\"},{\"attributes\":{},\"id\":\"9394\",\"type\":\"ResetTool\"},{\"attributes\":{\"fill_alpha\":{\"value\":0.5},\"fill_color\":{\"value\":\"#1f77b4\"},\"line_alpha\":{\"value\":0.5},\"line_color\":{\"value\":\"#1f77b4\"},\"top\":{\"field\":\"top\"},\"width\":{\"value\":1},\"x\":{\"field\":\"x\"}},\"id\":\"9418\",\"type\":\"VBar\"},{\"attributes\":{},\"id\":\"9395\",\"type\":\"HelpTool\"}],\"root_ids\":[\"9372\"]},\"title\":\"Bokeh Application\",\"version\":\"2.0.1\"}};\n",
       "  var render_items = [{\"docid\":\"b843c375-44f2-4d81-b9f0-a59eb4effea6\",\"root_ids\":[\"9372\"],\"roots\":{\"9372\":\"2dd163d5-90e3-48cd-99ef-911a96f7cf53\"}}];\n",
       "  root.Bokeh.embed.embed_items_notebook(docs_json, render_items);\n",
       "\n",
       "  }\n",
       "  if (root.Bokeh !== undefined) {\n",
       "    embed_document(root);\n",
       "  } else {\n",
       "    var attempts = 0;\n",
       "    var timer = setInterval(function(root) {\n",
       "      if (root.Bokeh !== undefined) {\n",
       "        clearInterval(timer);\n",
       "        embed_document(root);\n",
       "      } else {\n",
       "        attempts++;\n",
       "        if (attempts > 100) {\n",
       "          clearInterval(timer);\n",
       "          console.log(\"Bokeh: ERROR: Unable to run BokehJS code because BokehJS library is missing\");\n",
       "        }\n",
       "      }\n",
       "    }, 10, root)\n",
       "  }\n",
       "})(window);"
      ],
      "application/vnd.bokehjs_exec.v0+json": ""
     },
     "metadata": {
      "application/vnd.bokehjs_exec.v0+json": {
       "id": "9372"
      }
     },
     "output_type": "display_data"
    },
    {
     "data": {
      "text/html": [
       "\n",
       "\n",
       "\n",
       "\n",
       "\n",
       "\n",
       "  <div class=\"bk-root\" id=\"ff488896-962a-4e84-9a12-63a71c715161\" data-root-id=\"9802\"></div>\n"
      ]
     },
     "metadata": {},
     "output_type": "display_data"
    },
    {
     "data": {
      "application/javascript": [
       "(function(root) {\n",
       "  function embed_document(root) {\n",
       "    \n",
       "  var docs_json = {\"b0a1d404-07e8-47e8-933a-e39b2d4dba08\":{\"roots\":{\"references\":[{\"attributes\":{\"below\":[{\"id\":\"9813\"}],\"center\":[{\"id\":\"9815\"},{\"id\":\"9819\"},{\"id\":\"9845\"}],\"left\":[{\"id\":\"9816\"}],\"plot_height\":400,\"plot_width\":700,\"renderers\":[{\"id\":\"9837\"},{\"id\":\"9850\"}],\"title\":{\"id\":\"9803\"},\"toolbar\":{\"id\":\"9827\"},\"x_range\":{\"id\":\"9805\"},\"x_scale\":{\"id\":\"9809\"},\"y_range\":{\"id\":\"9807\"},\"y_scale\":{\"id\":\"9811\"}},\"id\":\"9802\",\"subtype\":\"Figure\",\"type\":\"Plot\"},{\"attributes\":{\"source\":{\"id\":\"9847\"}},\"id\":\"9851\",\"type\":\"CDSView\"},{\"attributes\":{},\"id\":\"9821\",\"type\":\"WheelZoomTool\"},{\"attributes\":{},\"id\":\"10179\",\"type\":\"Selection\"},{\"attributes\":{\"active_drag\":\"auto\",\"active_inspect\":\"auto\",\"active_multi\":null,\"active_scroll\":\"auto\",\"active_tap\":\"auto\",\"tools\":[{\"id\":\"9820\"},{\"id\":\"9821\"},{\"id\":\"9822\"},{\"id\":\"9823\"},{\"id\":\"9824\"},{\"id\":\"9825\"}]},\"id\":\"9827\",\"type\":\"Toolbar\"},{\"attributes\":{},\"id\":\"10180\",\"type\":\"UnionRenderers\"},{\"attributes\":{\"fill_alpha\":{\"value\":0.5},\"fill_color\":{\"value\":\"#1f77b4\"},\"line_alpha\":{\"value\":0.5},\"line_color\":{\"value\":\"#1f77b4\"},\"top\":{\"field\":\"top\"},\"width\":{\"value\":1},\"x\":{\"field\":\"x\"}},\"id\":\"9848\",\"type\":\"VBar\"},{\"attributes\":{},\"id\":\"9823\",\"type\":\"SaveTool\"},{\"attributes\":{\"fill_alpha\":{\"value\":0.1},\"fill_color\":{\"value\":\"#1f77b4\"},\"line_alpha\":{\"value\":0.1},\"line_color\":{\"value\":\"#1f77b4\"},\"top\":{\"field\":\"top\"},\"width\":{\"value\":1},\"x\":{\"field\":\"x\"}},\"id\":\"9849\",\"type\":\"VBar\"},{\"attributes\":{},\"id\":\"9820\",\"type\":\"PanTool\"},{\"attributes\":{},\"id\":\"10181\",\"type\":\"Selection\"},{\"attributes\":{},\"id\":\"9824\",\"type\":\"ResetTool\"},{\"attributes\":{},\"id\":\"9809\",\"type\":\"CategoricalScale\"},{\"attributes\":{\"line_alpha\":{\"value\":0.1},\"line_color\":{\"value\":\"red\"},\"line_width\":{\"value\":2},\"x\":{\"field\":\"x\"},\"y\":{\"field\":\"y\"}},\"id\":\"9836\",\"type\":\"Step\"},{\"attributes\":{},\"id\":\"9825\",\"type\":\"HelpTool\"},{\"attributes\":{},\"id\":\"9840\",\"type\":\"BasicTickFormatter\"},{\"attributes\":{\"overlay\":{\"id\":\"9826\"}},\"id\":\"9822\",\"type\":\"BoxZoomTool\"},{\"attributes\":{\"axis\":{\"id\":\"9816\"},\"dimension\":1,\"grid_line_color\":null,\"ticker\":null},\"id\":\"9819\",\"type\":\"Grid\"},{\"attributes\":{},\"id\":\"9817\",\"type\":\"BasicTicker\"},{\"attributes\":{\"bottom_units\":\"screen\",\"fill_alpha\":0.5,\"fill_color\":\"lightgrey\",\"left_units\":\"screen\",\"level\":\"overlay\",\"line_alpha\":1.0,\"line_color\":\"black\",\"line_dash\":[4,4],\"line_width\":2,\"render_mode\":\"css\",\"right_units\":\"screen\",\"top_units\":\"screen\"},\"id\":\"9826\",\"type\":\"BoxAnnotation\"},{\"attributes\":{},\"id\":\"10178\",\"type\":\"UnionRenderers\"},{\"attributes\":{\"formatter\":{\"id\":\"9840\"},\"ticker\":{\"id\":\"9817\"}},\"id\":\"9816\",\"type\":\"LinearAxis\"},{\"attributes\":{\"source\":{\"id\":\"9834\"}},\"id\":\"9838\",\"type\":\"CDSView\"},{\"attributes\":{\"data\":{\"x\":[\"2019-02\",\"2019-03\",\"2019-04\",\"2019-07\",\"2019-09\",\"2019-10\",\"2019-11\",\"2019-12\",\"2020-01\",\"2020-02\",\"2020-03\",\"2020-04\",\"2020-05\",\"2020-06\",\"2020-07\"],\"y\":[1.0379746835443038,1.8101265822784811,1.4430379746835442,2.1772151898734178,4.139240506329114,5.556962025316456,5.734177215189874,3.392405063291139,5.139240506329114,3.5443037974683542,2,3,4,3.9873417721518987,4]},\"selected\":{\"id\":\"10179\"},\"selection_policy\":{\"id\":\"10178\"}},\"id\":\"9834\",\"type\":\"ColumnDataSource\"},{\"attributes\":{\"line_alpha\":{\"value\":0.8},\"line_color\":{\"value\":\"red\"},\"line_width\":{\"value\":2},\"x\":{\"field\":\"x\"},\"y\":{\"field\":\"y\"}},\"id\":\"9835\",\"type\":\"Step\"},{\"attributes\":{\"axis\":{\"id\":\"9813\"},\"grid_line_color\":null,\"ticker\":null},\"id\":\"9815\",\"type\":\"Grid\"},{\"attributes\":{\"data_source\":{\"id\":\"9847\"},\"glyph\":{\"id\":\"9848\"},\"hover_glyph\":null,\"muted_glyph\":null,\"nonselection_glyph\":{\"id\":\"9849\"},\"selection_glyph\":null,\"view\":{\"id\":\"9851\"}},\"id\":\"9850\",\"type\":\"GlyphRenderer\"},{\"attributes\":{},\"id\":\"9814\",\"type\":\"CategoricalTicker\"},{\"attributes\":{\"items\":[{\"id\":\"9846\"}]},\"id\":\"9845\",\"type\":\"Legend\"},{\"attributes\":{\"formatter\":{\"id\":\"9842\"},\"major_label_orientation\":\"vertical\",\"ticker\":{\"id\":\"9814\"}},\"id\":\"9813\",\"type\":\"CategoricalAxis\"},{\"attributes\":{},\"id\":\"9842\",\"type\":\"CategoricalTickFormatter\"},{\"attributes\":{},\"id\":\"9811\",\"type\":\"LinearScale\"},{\"attributes\":{\"data_source\":{\"id\":\"9834\"},\"glyph\":{\"id\":\"9835\"},\"hover_glyph\":null,\"muted_glyph\":null,\"nonselection_glyph\":{\"id\":\"9836\"},\"selection_glyph\":null,\"view\":{\"id\":\"9838\"}},\"id\":\"9837\",\"type\":\"GlyphRenderer\"},{\"attributes\":{\"label\":{\"value\":\"Moyenne de tous les d\\u00e9put\\u00e9s fran\\u00e7ais\"},\"renderers\":[{\"id\":\"9837\"}]},\"id\":\"9846\",\"type\":\"LegendItem\"},{\"attributes\":{\"factors\":[\"2019-02\",\"2019-03\",\"2019-04\",\"2019-07\",\"2019-09\",\"2019-10\",\"2019-11\",\"2019-12\",\"2020-01\",\"2020-02\",\"2020-03\",\"2020-04\",\"2020-05\",\"2020-06\",\"2020-07\"]},\"id\":\"9805\",\"type\":\"FactorRange\"},{\"attributes\":{\"data\":{\"top\":[0,0,0,0,0,0,0,0,0,4,2,3,4,4,4],\"x\":[\"2019-02\",\"2019-03\",\"2019-04\",\"2019-07\",\"2019-09\",\"2019-10\",\"2019-11\",\"2019-12\",\"2020-01\",\"2020-02\",\"2020-03\",\"2020-04\",\"2020-05\",\"2020-06\",\"2020-07\"]},\"selected\":{\"id\":\"10181\"},\"selection_policy\":{\"id\":\"10180\"}},\"id\":\"9847\",\"type\":\"ColumnDataSource\"},{\"attributes\":{\"start\":0},\"id\":\"9807\",\"type\":\"DataRange1d\"},{\"attributes\":{\"text\":\"Jours o\\u00f9 Sandro GOZI \\u00e0 vot\\u00e9 (21)\"},\"id\":\"9803\",\"type\":\"Title\"}],\"root_ids\":[\"9802\"]},\"title\":\"Bokeh Application\",\"version\":\"2.0.1\"}};\n",
       "  var render_items = [{\"docid\":\"b0a1d404-07e8-47e8-933a-e39b2d4dba08\",\"root_ids\":[\"9802\"],\"roots\":{\"9802\":\"ff488896-962a-4e84-9a12-63a71c715161\"}}];\n",
       "  root.Bokeh.embed.embed_items_notebook(docs_json, render_items);\n",
       "\n",
       "  }\n",
       "  if (root.Bokeh !== undefined) {\n",
       "    embed_document(root);\n",
       "  } else {\n",
       "    var attempts = 0;\n",
       "    var timer = setInterval(function(root) {\n",
       "      if (root.Bokeh !== undefined) {\n",
       "        clearInterval(timer);\n",
       "        embed_document(root);\n",
       "      } else {\n",
       "        attempts++;\n",
       "        if (attempts > 100) {\n",
       "          clearInterval(timer);\n",
       "          console.log(\"Bokeh: ERROR: Unable to run BokehJS code because BokehJS library is missing\");\n",
       "        }\n",
       "      }\n",
       "    }, 10, root)\n",
       "  }\n",
       "})(window);"
      ],
      "application/vnd.bokehjs_exec.v0+json": ""
     },
     "metadata": {
      "application/vnd.bokehjs_exec.v0+json": {
       "id": "9802"
      }
     },
     "output_type": "display_data"
    },
    {
     "data": {
      "text/html": [
       "\n",
       "\n",
       "\n",
       "\n",
       "\n",
       "\n",
       "  <div class=\"bk-root\" id=\"9a70ecb3-3963-48f3-bb83-bc08e2add1ba\" data-root-id=\"10242\"></div>\n"
      ]
     },
     "metadata": {},
     "output_type": "display_data"
    },
    {
     "data": {
      "application/javascript": [
       "(function(root) {\n",
       "  function embed_document(root) {\n",
       "    \n",
       "  var docs_json = {\"0baced74-ce8c-4e1f-8a10-3d647d906d95\":{\"roots\":{\"references\":[{\"attributes\":{\"below\":[{\"id\":\"10253\"}],\"center\":[{\"id\":\"10255\"},{\"id\":\"10259\"},{\"id\":\"10285\"}],\"left\":[{\"id\":\"10256\"}],\"plot_height\":400,\"plot_width\":700,\"renderers\":[{\"id\":\"10277\"},{\"id\":\"10290\"}],\"title\":{\"id\":\"10243\"},\"toolbar\":{\"id\":\"10267\"},\"x_range\":{\"id\":\"10245\"},\"x_scale\":{\"id\":\"10249\"},\"y_range\":{\"id\":\"10247\"},\"y_scale\":{\"id\":\"10251\"}},\"id\":\"10242\",\"subtype\":\"Figure\",\"type\":\"Plot\"},{\"attributes\":{\"data_source\":{\"id\":\"10287\"},\"glyph\":{\"id\":\"10288\"},\"hover_glyph\":null,\"muted_glyph\":null,\"nonselection_glyph\":{\"id\":\"10289\"},\"selection_glyph\":null,\"view\":{\"id\":\"10291\"}},\"id\":\"10290\",\"type\":\"GlyphRenderer\"},{\"attributes\":{},\"id\":\"10282\",\"type\":\"CategoricalTickFormatter\"},{\"attributes\":{\"source\":{\"id\":\"10287\"}},\"id\":\"10291\",\"type\":\"CDSView\"},{\"attributes\":{},\"id\":\"10260\",\"type\":\"PanTool\"},{\"attributes\":{\"data\":{\"x\":[\"2019-02\",\"2019-03\",\"2019-04\",\"2019-07\",\"2019-09\",\"2019-10\",\"2019-11\",\"2019-12\",\"2020-01\",\"2020-02\",\"2020-03\",\"2020-04\",\"2020-05\",\"2020-06\",\"2020-07\"],\"y\":[1.0379746835443038,1.8101265822784811,1.4430379746835442,2.1772151898734178,4.139240506329114,5.556962025316456,5.734177215189874,3.392405063291139,5.139240506329114,3.5443037974683542,2,3,4,3.9873417721518987,4]},\"selected\":{\"id\":\"10629\"},\"selection_policy\":{\"id\":\"10628\"}},\"id\":\"10274\",\"type\":\"ColumnDataSource\"},{\"attributes\":{\"fill_alpha\":{\"value\":0.1},\"fill_color\":{\"value\":\"#1f77b4\"},\"line_alpha\":{\"value\":0.1},\"line_color\":{\"value\":\"#1f77b4\"},\"top\":{\"field\":\"top\"},\"width\":{\"value\":1},\"x\":{\"field\":\"x\"}},\"id\":\"10289\",\"type\":\"VBar\"},{\"attributes\":{},\"id\":\"10629\",\"type\":\"Selection\"},{\"attributes\":{},\"id\":\"10261\",\"type\":\"WheelZoomTool\"},{\"attributes\":{\"label\":{\"value\":\"Moyenne de tous les d\\u00e9put\\u00e9s fran\\u00e7ais\"},\"renderers\":[{\"id\":\"10277\"}]},\"id\":\"10286\",\"type\":\"LegendItem\"},{\"attributes\":{},\"id\":\"10630\",\"type\":\"UnionRenderers\"},{\"attributes\":{\"active_drag\":\"auto\",\"active_inspect\":\"auto\",\"active_multi\":null,\"active_scroll\":\"auto\",\"active_tap\":\"auto\",\"tools\":[{\"id\":\"10260\"},{\"id\":\"10261\"},{\"id\":\"10262\"},{\"id\":\"10263\"},{\"id\":\"10264\"},{\"id\":\"10265\"}]},\"id\":\"10267\",\"type\":\"Toolbar\"},{\"attributes\":{\"factors\":[\"2019-02\",\"2019-03\",\"2019-04\",\"2019-07\",\"2019-09\",\"2019-10\",\"2019-11\",\"2019-12\",\"2020-01\",\"2020-02\",\"2020-03\",\"2020-04\",\"2020-05\",\"2020-06\",\"2020-07\"]},\"id\":\"10245\",\"type\":\"FactorRange\"},{\"attributes\":{},\"id\":\"10631\",\"type\":\"Selection\"},{\"attributes\":{},\"id\":\"10280\",\"type\":\"BasicTickFormatter\"},{\"attributes\":{},\"id\":\"10263\",\"type\":\"SaveTool\"},{\"attributes\":{\"data\":{\"top\":[0,0,0,0,0,0,0,0,0,4,2,3,4,4,4],\"x\":[\"2019-02\",\"2019-03\",\"2019-04\",\"2019-07\",\"2019-09\",\"2019-10\",\"2019-11\",\"2019-12\",\"2020-01\",\"2020-02\",\"2020-03\",\"2020-04\",\"2020-05\",\"2020-06\",\"2020-07\"]},\"selected\":{\"id\":\"10631\"},\"selection_policy\":{\"id\":\"10630\"}},\"id\":\"10287\",\"type\":\"ColumnDataSource\"},{\"attributes\":{\"axis\":{\"id\":\"10256\"},\"dimension\":1,\"grid_line_color\":null,\"ticker\":null},\"id\":\"10259\",\"type\":\"Grid\"},{\"attributes\":{},\"id\":\"10264\",\"type\":\"ResetTool\"},{\"attributes\":{\"line_alpha\":{\"value\":0.1},\"line_color\":{\"value\":\"red\"},\"line_width\":{\"value\":2},\"x\":{\"field\":\"x\"},\"y\":{\"field\":\"y\"}},\"id\":\"10276\",\"type\":\"Step\"},{\"attributes\":{},\"id\":\"10257\",\"type\":\"BasicTicker\"},{\"attributes\":{\"items\":[{\"id\":\"10286\"}]},\"id\":\"10285\",\"type\":\"Legend\"},{\"attributes\":{\"formatter\":{\"id\":\"10280\"},\"ticker\":{\"id\":\"10257\"}},\"id\":\"10256\",\"type\":\"LinearAxis\"},{\"attributes\":{},\"id\":\"10265\",\"type\":\"HelpTool\"},{\"attributes\":{\"overlay\":{\"id\":\"10266\"}},\"id\":\"10262\",\"type\":\"BoxZoomTool\"},{\"attributes\":{\"fill_alpha\":{\"value\":0.5},\"fill_color\":{\"value\":\"#1f77b4\"},\"line_alpha\":{\"value\":0.5},\"line_color\":{\"value\":\"#1f77b4\"},\"top\":{\"field\":\"top\"},\"width\":{\"value\":1},\"x\":{\"field\":\"x\"}},\"id\":\"10288\",\"type\":\"VBar\"},{\"attributes\":{\"formatter\":{\"id\":\"10282\"},\"major_label_orientation\":\"vertical\",\"ticker\":{\"id\":\"10254\"}},\"id\":\"10253\",\"type\":\"CategoricalAxis\"},{\"attributes\":{\"axis\":{\"id\":\"10253\"},\"grid_line_color\":null,\"ticker\":null},\"id\":\"10255\",\"type\":\"Grid\"},{\"attributes\":{\"bottom_units\":\"screen\",\"fill_alpha\":0.5,\"fill_color\":\"lightgrey\",\"left_units\":\"screen\",\"level\":\"overlay\",\"line_alpha\":1.0,\"line_color\":\"black\",\"line_dash\":[4,4],\"line_width\":2,\"render_mode\":\"css\",\"right_units\":\"screen\",\"top_units\":\"screen\"},\"id\":\"10266\",\"type\":\"BoxAnnotation\"},{\"attributes\":{\"data_source\":{\"id\":\"10274\"},\"glyph\":{\"id\":\"10275\"},\"hover_glyph\":null,\"muted_glyph\":null,\"nonselection_glyph\":{\"id\":\"10276\"},\"selection_glyph\":null,\"view\":{\"id\":\"10278\"}},\"id\":\"10277\",\"type\":\"GlyphRenderer\"},{\"attributes\":{},\"id\":\"10254\",\"type\":\"CategoricalTicker\"},{\"attributes\":{\"source\":{\"id\":\"10274\"}},\"id\":\"10278\",\"type\":\"CDSView\"},{\"attributes\":{\"line_alpha\":{\"value\":0.8},\"line_color\":{\"value\":\"red\"},\"line_width\":{\"value\":2},\"x\":{\"field\":\"x\"},\"y\":{\"field\":\"y\"}},\"id\":\"10275\",\"type\":\"Step\"},{\"attributes\":{},\"id\":\"10628\",\"type\":\"UnionRenderers\"},{\"attributes\":{},\"id\":\"10251\",\"type\":\"LinearScale\"},{\"attributes\":{},\"id\":\"10249\",\"type\":\"CategoricalScale\"},{\"attributes\":{\"text\":\"Jours o\\u00f9 Jean-Lin LACAPELLE \\u00e0 vot\\u00e9 (21)\"},\"id\":\"10243\",\"type\":\"Title\"},{\"attributes\":{\"start\":0},\"id\":\"10247\",\"type\":\"DataRange1d\"}],\"root_ids\":[\"10242\"]},\"title\":\"Bokeh Application\",\"version\":\"2.0.1\"}};\n",
       "  var render_items = [{\"docid\":\"0baced74-ce8c-4e1f-8a10-3d647d906d95\",\"root_ids\":[\"10242\"],\"roots\":{\"10242\":\"9a70ecb3-3963-48f3-bb83-bc08e2add1ba\"}}];\n",
       "  root.Bokeh.embed.embed_items_notebook(docs_json, render_items);\n",
       "\n",
       "  }\n",
       "  if (root.Bokeh !== undefined) {\n",
       "    embed_document(root);\n",
       "  } else {\n",
       "    var attempts = 0;\n",
       "    var timer = setInterval(function(root) {\n",
       "      if (root.Bokeh !== undefined) {\n",
       "        clearInterval(timer);\n",
       "        embed_document(root);\n",
       "      } else {\n",
       "        attempts++;\n",
       "        if (attempts > 100) {\n",
       "          clearInterval(timer);\n",
       "          console.log(\"Bokeh: ERROR: Unable to run BokehJS code because BokehJS library is missing\");\n",
       "        }\n",
       "      }\n",
       "    }, 10, root)\n",
       "  }\n",
       "})(window);"
      ],
      "application/vnd.bokehjs_exec.v0+json": ""
     },
     "metadata": {
      "application/vnd.bokehjs_exec.v0+json": {
       "id": "10242"
      }
     },
     "output_type": "display_data"
    },
    {
     "data": {
      "text/html": [
       "\n",
       "\n",
       "\n",
       "\n",
       "\n",
       "\n",
       "  <div class=\"bk-root\" id=\"4552bff4-12b3-4315-bc31-e88cc0585252\" data-root-id=\"10692\"></div>\n"
      ]
     },
     "metadata": {},
     "output_type": "display_data"
    },
    {
     "data": {
      "application/javascript": [
       "(function(root) {\n",
       "  function embed_document(root) {\n",
       "    \n",
       "  var docs_json = {\"72bc2c74-fa3f-4c88-9683-fa694a8c5285\":{\"roots\":{\"references\":[{\"attributes\":{\"below\":[{\"id\":\"10703\"}],\"center\":[{\"id\":\"10705\"},{\"id\":\"10709\"},{\"id\":\"10735\"}],\"left\":[{\"id\":\"10706\"}],\"plot_height\":400,\"plot_width\":700,\"renderers\":[{\"id\":\"10727\"},{\"id\":\"10740\"}],\"title\":{\"id\":\"10693\"},\"toolbar\":{\"id\":\"10717\"},\"x_range\":{\"id\":\"10695\"},\"x_scale\":{\"id\":\"10699\"},\"y_range\":{\"id\":\"10697\"},\"y_scale\":{\"id\":\"10701\"}},\"id\":\"10692\",\"subtype\":\"Figure\",\"type\":\"Plot\"},{\"attributes\":{},\"id\":\"10701\",\"type\":\"LinearScale\"},{\"attributes\":{\"label\":{\"value\":\"Moyenne de tous les d\\u00e9put\\u00e9s fran\\u00e7ais\"},\"renderers\":[{\"id\":\"10727\"}]},\"id\":\"10736\",\"type\":\"LegendItem\"},{\"attributes\":{},\"id\":\"10699\",\"type\":\"CategoricalScale\"},{\"attributes\":{\"data\":{\"top\":[0,0,0,0,0,0,0,0,0,4,2,3,4,4,4],\"x\":[\"2019-02\",\"2019-03\",\"2019-04\",\"2019-07\",\"2019-09\",\"2019-10\",\"2019-11\",\"2019-12\",\"2020-01\",\"2020-02\",\"2020-03\",\"2020-04\",\"2020-05\",\"2020-06\",\"2020-07\"]},\"selected\":{\"id\":\"11091\"},\"selection_policy\":{\"id\":\"11090\"}},\"id\":\"10737\",\"type\":\"ColumnDataSource\"},{\"attributes\":{\"text\":\"Jours o\\u00f9 Nora MEBAREK \\u00e0 vot\\u00e9 (21)\"},\"id\":\"10693\",\"type\":\"Title\"},{\"attributes\":{\"start\":0},\"id\":\"10697\",\"type\":\"DataRange1d\"},{\"attributes\":{\"fill_alpha\":{\"value\":0.1},\"fill_color\":{\"value\":\"#1f77b4\"},\"line_alpha\":{\"value\":0.1},\"line_color\":{\"value\":\"#1f77b4\"},\"top\":{\"field\":\"top\"},\"width\":{\"value\":1},\"x\":{\"field\":\"x\"}},\"id\":\"10739\",\"type\":\"VBar\"},{\"attributes\":{\"source\":{\"id\":\"10724\"}},\"id\":\"10728\",\"type\":\"CDSView\"},{\"attributes\":{\"line_alpha\":{\"value\":0.1},\"line_color\":{\"value\":\"red\"},\"line_width\":{\"value\":2},\"x\":{\"field\":\"x\"},\"y\":{\"field\":\"y\"}},\"id\":\"10726\",\"type\":\"Step\"},{\"attributes\":{\"data_source\":{\"id\":\"10737\"},\"glyph\":{\"id\":\"10738\"},\"hover_glyph\":null,\"muted_glyph\":null,\"nonselection_glyph\":{\"id\":\"10739\"},\"selection_glyph\":null,\"view\":{\"id\":\"10741\"}},\"id\":\"10740\",\"type\":\"GlyphRenderer\"},{\"attributes\":{\"overlay\":{\"id\":\"10716\"}},\"id\":\"10712\",\"type\":\"BoxZoomTool\"},{\"attributes\":{\"source\":{\"id\":\"10737\"}},\"id\":\"10741\",\"type\":\"CDSView\"},{\"attributes\":{},\"id\":\"10711\",\"type\":\"WheelZoomTool\"},{\"attributes\":{\"fill_alpha\":{\"value\":0.5},\"fill_color\":{\"value\":\"#1f77b4\"},\"line_alpha\":{\"value\":0.5},\"line_color\":{\"value\":\"#1f77b4\"},\"top\":{\"field\":\"top\"},\"width\":{\"value\":1},\"x\":{\"field\":\"x\"}},\"id\":\"10738\",\"type\":\"VBar\"},{\"attributes\":{},\"id\":\"11089\",\"type\":\"Selection\"},{\"attributes\":{\"data\":{\"x\":[\"2019-02\",\"2019-03\",\"2019-04\",\"2019-07\",\"2019-09\",\"2019-10\",\"2019-11\",\"2019-12\",\"2020-01\",\"2020-02\",\"2020-03\",\"2020-04\",\"2020-05\",\"2020-06\",\"2020-07\"],\"y\":[1.0379746835443038,1.8101265822784811,1.4430379746835442,2.1772151898734178,4.139240506329114,5.556962025316456,5.734177215189874,3.392405063291139,5.139240506329114,3.5443037974683542,2,3,4,3.9873417721518987,4]},\"selected\":{\"id\":\"11089\"},\"selection_policy\":{\"id\":\"11088\"}},\"id\":\"10724\",\"type\":\"ColumnDataSource\"},{\"attributes\":{},\"id\":\"10710\",\"type\":\"PanTool\"},{\"attributes\":{},\"id\":\"10707\",\"type\":\"BasicTicker\"},{\"attributes\":{},\"id\":\"11090\",\"type\":\"UnionRenderers\"},{\"attributes\":{\"data_source\":{\"id\":\"10724\"},\"glyph\":{\"id\":\"10725\"},\"hover_glyph\":null,\"muted_glyph\":null,\"nonselection_glyph\":{\"id\":\"10726\"},\"selection_glyph\":null,\"view\":{\"id\":\"10728\"}},\"id\":\"10727\",\"type\":\"GlyphRenderer\"},{\"attributes\":{},\"id\":\"10713\",\"type\":\"SaveTool\"},{\"attributes\":{},\"id\":\"11091\",\"type\":\"Selection\"},{\"attributes\":{\"factors\":[\"2019-02\",\"2019-03\",\"2019-04\",\"2019-07\",\"2019-09\",\"2019-10\",\"2019-11\",\"2019-12\",\"2020-01\",\"2020-02\",\"2020-03\",\"2020-04\",\"2020-05\",\"2020-06\",\"2020-07\"]},\"id\":\"10695\",\"type\":\"FactorRange\"},{\"attributes\":{\"line_alpha\":{\"value\":0.8},\"line_color\":{\"value\":\"red\"},\"line_width\":{\"value\":2},\"x\":{\"field\":\"x\"},\"y\":{\"field\":\"y\"}},\"id\":\"10725\",\"type\":\"Step\"},{\"attributes\":{},\"id\":\"10714\",\"type\":\"ResetTool\"},{\"attributes\":{\"active_drag\":\"auto\",\"active_inspect\":\"auto\",\"active_multi\":null,\"active_scroll\":\"auto\",\"active_tap\":\"auto\",\"tools\":[{\"id\":\"10710\"},{\"id\":\"10711\"},{\"id\":\"10712\"},{\"id\":\"10713\"},{\"id\":\"10714\"},{\"id\":\"10715\"}]},\"id\":\"10717\",\"type\":\"Toolbar\"},{\"attributes\":{},\"id\":\"10732\",\"type\":\"CategoricalTickFormatter\"},{\"attributes\":{\"axis\":{\"id\":\"10706\"},\"dimension\":1,\"grid_line_color\":null,\"ticker\":null},\"id\":\"10709\",\"type\":\"Grid\"},{\"attributes\":{},\"id\":\"10715\",\"type\":\"HelpTool\"},{\"attributes\":{\"formatter\":{\"id\":\"10730\"},\"ticker\":{\"id\":\"10707\"}},\"id\":\"10706\",\"type\":\"LinearAxis\"},{\"attributes\":{},\"id\":\"11088\",\"type\":\"UnionRenderers\"},{\"attributes\":{},\"id\":\"10730\",\"type\":\"BasicTickFormatter\"},{\"attributes\":{\"formatter\":{\"id\":\"10732\"},\"major_label_orientation\":\"vertical\",\"ticker\":{\"id\":\"10704\"}},\"id\":\"10703\",\"type\":\"CategoricalAxis\"},{\"attributes\":{\"bottom_units\":\"screen\",\"fill_alpha\":0.5,\"fill_color\":\"lightgrey\",\"left_units\":\"screen\",\"level\":\"overlay\",\"line_alpha\":1.0,\"line_color\":\"black\",\"line_dash\":[4,4],\"line_width\":2,\"render_mode\":\"css\",\"right_units\":\"screen\",\"top_units\":\"screen\"},\"id\":\"10716\",\"type\":\"BoxAnnotation\"},{\"attributes\":{\"axis\":{\"id\":\"10703\"},\"grid_line_color\":null,\"ticker\":null},\"id\":\"10705\",\"type\":\"Grid\"},{\"attributes\":{},\"id\":\"10704\",\"type\":\"CategoricalTicker\"},{\"attributes\":{\"items\":[{\"id\":\"10736\"}]},\"id\":\"10735\",\"type\":\"Legend\"}],\"root_ids\":[\"10692\"]},\"title\":\"Bokeh Application\",\"version\":\"2.0.1\"}};\n",
       "  var render_items = [{\"docid\":\"72bc2c74-fa3f-4c88-9683-fa694a8c5285\",\"root_ids\":[\"10692\"],\"roots\":{\"10692\":\"4552bff4-12b3-4315-bc31-e88cc0585252\"}}];\n",
       "  root.Bokeh.embed.embed_items_notebook(docs_json, render_items);\n",
       "\n",
       "  }\n",
       "  if (root.Bokeh !== undefined) {\n",
       "    embed_document(root);\n",
       "  } else {\n",
       "    var attempts = 0;\n",
       "    var timer = setInterval(function(root) {\n",
       "      if (root.Bokeh !== undefined) {\n",
       "        clearInterval(timer);\n",
       "        embed_document(root);\n",
       "      } else {\n",
       "        attempts++;\n",
       "        if (attempts > 100) {\n",
       "          clearInterval(timer);\n",
       "          console.log(\"Bokeh: ERROR: Unable to run BokehJS code because BokehJS library is missing\");\n",
       "        }\n",
       "      }\n",
       "    }, 10, root)\n",
       "  }\n",
       "})(window);"
      ],
      "application/vnd.bokehjs_exec.v0+json": ""
     },
     "metadata": {
      "application/vnd.bokehjs_exec.v0+json": {
       "id": "10692"
      }
     },
     "output_type": "display_data"
    },
    {
     "data": {
      "text/html": [
       "\n",
       "\n",
       "\n",
       "\n",
       "\n",
       "\n",
       "  <div class=\"bk-root\" id=\"19968220-514a-40bc-868d-09e51020bcff\" data-root-id=\"11152\"></div>\n"
      ]
     },
     "metadata": {},
     "output_type": "display_data"
    },
    {
     "data": {
      "application/javascript": [
       "(function(root) {\n",
       "  function embed_document(root) {\n",
       "    \n",
       "  var docs_json = {\"105af148-855d-4fe7-a9aa-58c3ed4b2471\":{\"roots\":{\"references\":[{\"attributes\":{\"below\":[{\"id\":\"11163\"}],\"center\":[{\"id\":\"11165\"},{\"id\":\"11169\"},{\"id\":\"11195\"}],\"left\":[{\"id\":\"11166\"}],\"plot_height\":400,\"plot_width\":700,\"renderers\":[{\"id\":\"11187\"},{\"id\":\"11200\"}],\"title\":{\"id\":\"11153\"},\"toolbar\":{\"id\":\"11177\"},\"x_range\":{\"id\":\"11155\"},\"x_scale\":{\"id\":\"11159\"},\"y_range\":{\"id\":\"11157\"},\"y_scale\":{\"id\":\"11161\"}},\"id\":\"11152\",\"subtype\":\"Figure\",\"type\":\"Plot\"},{\"attributes\":{},\"id\":\"11190\",\"type\":\"BasicTickFormatter\"},{\"attributes\":{},\"id\":\"11164\",\"type\":\"CategoricalTicker\"},{\"attributes\":{},\"id\":\"11192\",\"type\":\"CategoricalTickFormatter\"},{\"attributes\":{\"formatter\":{\"id\":\"11192\"},\"major_label_orientation\":\"vertical\",\"ticker\":{\"id\":\"11164\"}},\"id\":\"11163\",\"type\":\"CategoricalAxis\"},{\"attributes\":{\"items\":[{\"id\":\"11196\"}]},\"id\":\"11195\",\"type\":\"Legend\"},{\"attributes\":{},\"id\":\"11161\",\"type\":\"LinearScale\"},{\"attributes\":{\"label\":{\"value\":\"Moyenne de tous les d\\u00e9put\\u00e9s fran\\u00e7ais\"},\"renderers\":[{\"id\":\"11187\"}]},\"id\":\"11196\",\"type\":\"LegendItem\"},{\"attributes\":{},\"id\":\"11159\",\"type\":\"CategoricalScale\"},{\"attributes\":{\"data\":{\"top\":[0,0,0,2,4,4,5,0,5,0,2,3,4,4,4],\"x\":[\"2019-02\",\"2019-03\",\"2019-04\",\"2019-07\",\"2019-09\",\"2019-10\",\"2019-11\",\"2019-12\",\"2020-01\",\"2020-02\",\"2020-03\",\"2020-04\",\"2020-05\",\"2020-06\",\"2020-07\"]},\"selected\":{\"id\":\"11561\"},\"selection_policy\":{\"id\":\"11560\"}},\"id\":\"11197\",\"type\":\"ColumnDataSource\"},{\"attributes\":{\"text\":\"Jours o\\u00f9 Gilbert COLLARD \\u00e0 vot\\u00e9 (37)\"},\"id\":\"11153\",\"type\":\"Title\"},{\"attributes\":{\"factors\":[\"2019-02\",\"2019-03\",\"2019-04\",\"2019-07\",\"2019-09\",\"2019-10\",\"2019-11\",\"2019-12\",\"2020-01\",\"2020-02\",\"2020-03\",\"2020-04\",\"2020-05\",\"2020-06\",\"2020-07\"]},\"id\":\"11155\",\"type\":\"FactorRange\"},{\"attributes\":{\"fill_alpha\":{\"value\":0.1},\"fill_color\":{\"value\":\"#1f77b4\"},\"line_alpha\":{\"value\":0.1},\"line_color\":{\"value\":\"#1f77b4\"},\"top\":{\"field\":\"top\"},\"width\":{\"value\":1},\"x\":{\"field\":\"x\"}},\"id\":\"11199\",\"type\":\"VBar\"},{\"attributes\":{},\"id\":\"11558\",\"type\":\"UnionRenderers\"},{\"attributes\":{\"line_alpha\":{\"value\":0.1},\"line_color\":{\"value\":\"red\"},\"line_width\":{\"value\":2},\"x\":{\"field\":\"x\"},\"y\":{\"field\":\"y\"}},\"id\":\"11186\",\"type\":\"Step\"},{\"attributes\":{\"data_source\":{\"id\":\"11197\"},\"glyph\":{\"id\":\"11198\"},\"hover_glyph\":null,\"muted_glyph\":null,\"nonselection_glyph\":{\"id\":\"11199\"},\"selection_glyph\":null,\"view\":{\"id\":\"11201\"}},\"id\":\"11200\",\"type\":\"GlyphRenderer\"},{\"attributes\":{\"source\":{\"id\":\"11197\"}},\"id\":\"11201\",\"type\":\"CDSView\"},{\"attributes\":{},\"id\":\"11170\",\"type\":\"PanTool\"},{\"attributes\":{\"bottom_units\":\"screen\",\"fill_alpha\":0.5,\"fill_color\":\"lightgrey\",\"left_units\":\"screen\",\"level\":\"overlay\",\"line_alpha\":1.0,\"line_color\":\"black\",\"line_dash\":[4,4],\"line_width\":2,\"render_mode\":\"css\",\"right_units\":\"screen\",\"top_units\":\"screen\"},\"id\":\"11176\",\"type\":\"BoxAnnotation\"},{\"attributes\":{\"fill_alpha\":{\"value\":0.5},\"fill_color\":{\"value\":\"#1f77b4\"},\"line_alpha\":{\"value\":0.5},\"line_color\":{\"value\":\"#1f77b4\"},\"top\":{\"field\":\"top\"},\"width\":{\"value\":1},\"x\":{\"field\":\"x\"}},\"id\":\"11198\",\"type\":\"VBar\"},{\"attributes\":{\"data\":{\"x\":[\"2019-02\",\"2019-03\",\"2019-04\",\"2019-07\",\"2019-09\",\"2019-10\",\"2019-11\",\"2019-12\",\"2020-01\",\"2020-02\",\"2020-03\",\"2020-04\",\"2020-05\",\"2020-06\",\"2020-07\"],\"y\":[1.0379746835443038,1.8101265822784811,1.4430379746835442,2.1772151898734178,4.139240506329114,5.556962025316456,5.734177215189874,3.392405063291139,5.139240506329114,3.5443037974683542,2,3,4,3.9873417721518987,4]},\"selected\":{\"id\":\"11559\"},\"selection_policy\":{\"id\":\"11558\"}},\"id\":\"11184\",\"type\":\"ColumnDataSource\"},{\"attributes\":{},\"id\":\"11171\",\"type\":\"WheelZoomTool\"},{\"attributes\":{},\"id\":\"11559\",\"type\":\"Selection\"},{\"attributes\":{},\"id\":\"11173\",\"type\":\"SaveTool\"},{\"attributes\":{},\"id\":\"11560\",\"type\":\"UnionRenderers\"},{\"attributes\":{},\"id\":\"11561\",\"type\":\"Selection\"},{\"attributes\":{\"start\":0},\"id\":\"11157\",\"type\":\"DataRange1d\"},{\"attributes\":{\"overlay\":{\"id\":\"11176\"}},\"id\":\"11172\",\"type\":\"BoxZoomTool\"},{\"attributes\":{\"source\":{\"id\":\"11184\"}},\"id\":\"11188\",\"type\":\"CDSView\"},{\"attributes\":{},\"id\":\"11174\",\"type\":\"ResetTool\"},{\"attributes\":{},\"id\":\"11167\",\"type\":\"BasicTicker\"},{\"attributes\":{},\"id\":\"11175\",\"type\":\"HelpTool\"},{\"attributes\":{\"axis\":{\"id\":\"11166\"},\"dimension\":1,\"grid_line_color\":null,\"ticker\":null},\"id\":\"11169\",\"type\":\"Grid\"},{\"attributes\":{\"data_source\":{\"id\":\"11184\"},\"glyph\":{\"id\":\"11185\"},\"hover_glyph\":null,\"muted_glyph\":null,\"nonselection_glyph\":{\"id\":\"11186\"},\"selection_glyph\":null,\"view\":{\"id\":\"11188\"}},\"id\":\"11187\",\"type\":\"GlyphRenderer\"},{\"attributes\":{\"active_drag\":\"auto\",\"active_inspect\":\"auto\",\"active_multi\":null,\"active_scroll\":\"auto\",\"active_tap\":\"auto\",\"tools\":[{\"id\":\"11170\"},{\"id\":\"11171\"},{\"id\":\"11172\"},{\"id\":\"11173\"},{\"id\":\"11174\"},{\"id\":\"11175\"}]},\"id\":\"11177\",\"type\":\"Toolbar\"},{\"attributes\":{\"formatter\":{\"id\":\"11190\"},\"ticker\":{\"id\":\"11167\"}},\"id\":\"11166\",\"type\":\"LinearAxis\"},{\"attributes\":{\"axis\":{\"id\":\"11163\"},\"grid_line_color\":null,\"ticker\":null},\"id\":\"11165\",\"type\":\"Grid\"},{\"attributes\":{\"line_alpha\":{\"value\":0.8},\"line_color\":{\"value\":\"red\"},\"line_width\":{\"value\":2},\"x\":{\"field\":\"x\"},\"y\":{\"field\":\"y\"}},\"id\":\"11185\",\"type\":\"Step\"}],\"root_ids\":[\"11152\"]},\"title\":\"Bokeh Application\",\"version\":\"2.0.1\"}};\n",
       "  var render_items = [{\"docid\":\"105af148-855d-4fe7-a9aa-58c3ed4b2471\",\"root_ids\":[\"11152\"],\"roots\":{\"11152\":\"19968220-514a-40bc-868d-09e51020bcff\"}}];\n",
       "  root.Bokeh.embed.embed_items_notebook(docs_json, render_items);\n",
       "\n",
       "  }\n",
       "  if (root.Bokeh !== undefined) {\n",
       "    embed_document(root);\n",
       "  } else {\n",
       "    var attempts = 0;\n",
       "    var timer = setInterval(function(root) {\n",
       "      if (root.Bokeh !== undefined) {\n",
       "        clearInterval(timer);\n",
       "        embed_document(root);\n",
       "      } else {\n",
       "        attempts++;\n",
       "        if (attempts > 100) {\n",
       "          clearInterval(timer);\n",
       "          console.log(\"Bokeh: ERROR: Unable to run BokehJS code because BokehJS library is missing\");\n",
       "        }\n",
       "      }\n",
       "    }, 10, root)\n",
       "  }\n",
       "})(window);"
      ],
      "application/vnd.bokehjs_exec.v0+json": ""
     },
     "metadata": {
      "application/vnd.bokehjs_exec.v0+json": {
       "id": "11152"
      }
     },
     "output_type": "display_data"
    },
    {
     "data": {
      "text/html": [
       "\n",
       "\n",
       "\n",
       "\n",
       "\n",
       "\n",
       "  <div class=\"bk-root\" id=\"93c6c02f-ec31-4973-ae0d-a4bec21a3914\" data-root-id=\"11622\"></div>\n"
      ]
     },
     "metadata": {},
     "output_type": "display_data"
    },
    {
     "data": {
      "application/javascript": [
       "(function(root) {\n",
       "  function embed_document(root) {\n",
       "    \n",
       "  var docs_json = {\"6a8ef579-3953-49c2-9414-78de7df46dfc\":{\"roots\":{\"references\":[{\"attributes\":{\"below\":[{\"id\":\"11633\"}],\"center\":[{\"id\":\"11635\"},{\"id\":\"11639\"},{\"id\":\"11665\"}],\"left\":[{\"id\":\"11636\"}],\"plot_height\":400,\"plot_width\":700,\"renderers\":[{\"id\":\"11657\"},{\"id\":\"11670\"}],\"title\":{\"id\":\"11623\"},\"toolbar\":{\"id\":\"11647\"},\"x_range\":{\"id\":\"11625\"},\"x_scale\":{\"id\":\"11629\"},\"y_range\":{\"id\":\"11627\"},\"y_scale\":{\"id\":\"11631\"}},\"id\":\"11622\",\"subtype\":\"Figure\",\"type\":\"Plot\"},{\"attributes\":{\"formatter\":{\"id\":\"11660\"},\"ticker\":{\"id\":\"11637\"}},\"id\":\"11636\",\"type\":\"LinearAxis\"},{\"attributes\":{\"line_alpha\":{\"value\":0.8},\"line_color\":{\"value\":\"red\"},\"line_width\":{\"value\":2},\"x\":{\"field\":\"x\"},\"y\":{\"field\":\"y\"}},\"id\":\"11655\",\"type\":\"Step\"},{\"attributes\":{\"data_source\":{\"id\":\"11654\"},\"glyph\":{\"id\":\"11655\"},\"hover_glyph\":null,\"muted_glyph\":null,\"nonselection_glyph\":{\"id\":\"11656\"},\"selection_glyph\":null,\"view\":{\"id\":\"11658\"}},\"id\":\"11657\",\"type\":\"GlyphRenderer\"},{\"attributes\":{\"axis\":{\"id\":\"11633\"},\"grid_line_color\":null,\"ticker\":null},\"id\":\"11635\",\"type\":\"Grid\"},{\"attributes\":{},\"id\":\"11660\",\"type\":\"BasicTickFormatter\"},{\"attributes\":{},\"id\":\"11634\",\"type\":\"CategoricalTicker\"},{\"attributes\":{\"source\":{\"id\":\"11654\"}},\"id\":\"11658\",\"type\":\"CDSView\"},{\"attributes\":{\"bottom_units\":\"screen\",\"fill_alpha\":0.5,\"fill_color\":\"lightgrey\",\"left_units\":\"screen\",\"level\":\"overlay\",\"line_alpha\":1.0,\"line_color\":\"black\",\"line_dash\":[4,4],\"line_width\":2,\"render_mode\":\"css\",\"right_units\":\"screen\",\"top_units\":\"screen\"},\"id\":\"11646\",\"type\":\"BoxAnnotation\"},{\"attributes\":{},\"id\":\"11631\",\"type\":\"LinearScale\"},{\"attributes\":{\"formatter\":{\"id\":\"11662\"},\"major_label_orientation\":\"vertical\",\"ticker\":{\"id\":\"11634\"}},\"id\":\"11633\",\"type\":\"CategoricalAxis\"},{\"attributes\":{},\"id\":\"12038\",\"type\":\"UnionRenderers\"},{\"attributes\":{},\"id\":\"11662\",\"type\":\"CategoricalTickFormatter\"},{\"attributes\":{\"data\":{\"x\":[\"2019-02\",\"2019-03\",\"2019-04\",\"2019-07\",\"2019-09\",\"2019-10\",\"2019-11\",\"2019-12\",\"2020-01\",\"2020-02\",\"2020-03\",\"2020-04\",\"2020-05\",\"2020-06\",\"2020-07\"],\"y\":[1.0379746835443038,1.8101265822784811,1.4430379746835442,2.1772151898734178,4.139240506329114,5.556962025316456,5.734177215189874,3.392405063291139,5.139240506329114,3.5443037974683542,2,3,4,3.9873417721518987,4]},\"selected\":{\"id\":\"12039\"},\"selection_policy\":{\"id\":\"12038\"}},\"id\":\"11654\",\"type\":\"ColumnDataSource\"},{\"attributes\":{\"items\":[{\"id\":\"11666\"}]},\"id\":\"11665\",\"type\":\"Legend\"},{\"attributes\":{},\"id\":\"11629\",\"type\":\"CategoricalScale\"},{\"attributes\":{\"label\":{\"value\":\"Moyenne de tous les d\\u00e9put\\u00e9s fran\\u00e7ais\"},\"renderers\":[{\"id\":\"11657\"}]},\"id\":\"11666\",\"type\":\"LegendItem\"},{\"attributes\":{\"text\":\"Jours o\\u00f9 Herve JUVIN \\u00e0 vot\\u00e9 (37)\"},\"id\":\"11623\",\"type\":\"Title\"},{\"attributes\":{\"data\":{\"top\":[0,0,0,2,2,3,0,4,6,3,2,3,4,4,4],\"x\":[\"2019-02\",\"2019-03\",\"2019-04\",\"2019-07\",\"2019-09\",\"2019-10\",\"2019-11\",\"2019-12\",\"2020-01\",\"2020-02\",\"2020-03\",\"2020-04\",\"2020-05\",\"2020-06\",\"2020-07\"]},\"selected\":{\"id\":\"12041\"},\"selection_policy\":{\"id\":\"12040\"}},\"id\":\"11667\",\"type\":\"ColumnDataSource\"},{\"attributes\":{\"factors\":[\"2019-02\",\"2019-03\",\"2019-04\",\"2019-07\",\"2019-09\",\"2019-10\",\"2019-11\",\"2019-12\",\"2020-01\",\"2020-02\",\"2020-03\",\"2020-04\",\"2020-05\",\"2020-06\",\"2020-07\"]},\"id\":\"11625\",\"type\":\"FactorRange\"},{\"attributes\":{\"fill_alpha\":{\"value\":0.1},\"fill_color\":{\"value\":\"#1f77b4\"},\"line_alpha\":{\"value\":0.1},\"line_color\":{\"value\":\"#1f77b4\"},\"top\":{\"field\":\"top\"},\"width\":{\"value\":1},\"x\":{\"field\":\"x\"}},\"id\":\"11669\",\"type\":\"VBar\"},{\"attributes\":{\"data_source\":{\"id\":\"11667\"},\"glyph\":{\"id\":\"11668\"},\"hover_glyph\":null,\"muted_glyph\":null,\"nonselection_glyph\":{\"id\":\"11669\"},\"selection_glyph\":null,\"view\":{\"id\":\"11671\"}},\"id\":\"11670\",\"type\":\"GlyphRenderer\"},{\"attributes\":{\"active_drag\":\"auto\",\"active_inspect\":\"auto\",\"active_multi\":null,\"active_scroll\":\"auto\",\"active_tap\":\"auto\",\"tools\":[{\"id\":\"11640\"},{\"id\":\"11641\"},{\"id\":\"11642\"},{\"id\":\"11643\"},{\"id\":\"11644\"},{\"id\":\"11645\"}]},\"id\":\"11647\",\"type\":\"Toolbar\"},{\"attributes\":{\"source\":{\"id\":\"11667\"}},\"id\":\"11671\",\"type\":\"CDSView\"},{\"attributes\":{},\"id\":\"11641\",\"type\":\"WheelZoomTool\"},{\"attributes\":{\"fill_alpha\":{\"value\":0.5},\"fill_color\":{\"value\":\"#1f77b4\"},\"line_alpha\":{\"value\":0.5},\"line_color\":{\"value\":\"#1f77b4\"},\"top\":{\"field\":\"top\"},\"width\":{\"value\":1},\"x\":{\"field\":\"x\"}},\"id\":\"11668\",\"type\":\"VBar\"},{\"attributes\":{},\"id\":\"11640\",\"type\":\"PanTool\"},{\"attributes\":{},\"id\":\"12039\",\"type\":\"Selection\"},{\"attributes\":{},\"id\":\"11643\",\"type\":\"SaveTool\"},{\"attributes\":{},\"id\":\"12040\",\"type\":\"UnionRenderers\"},{\"attributes\":{\"overlay\":{\"id\":\"11646\"}},\"id\":\"11642\",\"type\":\"BoxZoomTool\"},{\"attributes\":{\"line_alpha\":{\"value\":0.1},\"line_color\":{\"value\":\"red\"},\"line_width\":{\"value\":2},\"x\":{\"field\":\"x\"},\"y\":{\"field\":\"y\"}},\"id\":\"11656\",\"type\":\"Step\"},{\"attributes\":{\"start\":0},\"id\":\"11627\",\"type\":\"DataRange1d\"},{\"attributes\":{},\"id\":\"12041\",\"type\":\"Selection\"},{\"attributes\":{\"axis\":{\"id\":\"11636\"},\"dimension\":1,\"grid_line_color\":null,\"ticker\":null},\"id\":\"11639\",\"type\":\"Grid\"},{\"attributes\":{},\"id\":\"11645\",\"type\":\"HelpTool\"},{\"attributes\":{},\"id\":\"11637\",\"type\":\"BasicTicker\"},{\"attributes\":{},\"id\":\"11644\",\"type\":\"ResetTool\"}],\"root_ids\":[\"11622\"]},\"title\":\"Bokeh Application\",\"version\":\"2.0.1\"}};\n",
       "  var render_items = [{\"docid\":\"6a8ef579-3953-49c2-9414-78de7df46dfc\",\"root_ids\":[\"11622\"],\"roots\":{\"11622\":\"93c6c02f-ec31-4973-ae0d-a4bec21a3914\"}}];\n",
       "  root.Bokeh.embed.embed_items_notebook(docs_json, render_items);\n",
       "\n",
       "  }\n",
       "  if (root.Bokeh !== undefined) {\n",
       "    embed_document(root);\n",
       "  } else {\n",
       "    var attempts = 0;\n",
       "    var timer = setInterval(function(root) {\n",
       "      if (root.Bokeh !== undefined) {\n",
       "        clearInterval(timer);\n",
       "        embed_document(root);\n",
       "      } else {\n",
       "        attempts++;\n",
       "        if (attempts > 100) {\n",
       "          clearInterval(timer);\n",
       "          console.log(\"Bokeh: ERROR: Unable to run BokehJS code because BokehJS library is missing\");\n",
       "        }\n",
       "      }\n",
       "    }, 10, root)\n",
       "  }\n",
       "})(window);"
      ],
      "application/vnd.bokehjs_exec.v0+json": ""
     },
     "metadata": {
      "application/vnd.bokehjs_exec.v0+json": {
       "id": "11622"
      }
     },
     "output_type": "display_data"
    },
    {
     "data": {
      "text/html": [
       "\n",
       "\n",
       "\n",
       "\n",
       "\n",
       "\n",
       "  <div class=\"bk-root\" id=\"6c47c9d5-dfe2-4a5e-96e1-604c23b4824c\" data-root-id=\"12102\"></div>\n"
      ]
     },
     "metadata": {},
     "output_type": "display_data"
    },
    {
     "data": {
      "application/javascript": [
       "(function(root) {\n",
       "  function embed_document(root) {\n",
       "    \n",
       "  var docs_json = {\"f7edc2c1-07ce-4a6e-9423-3c5d578b55e5\":{\"roots\":{\"references\":[{\"attributes\":{\"below\":[{\"id\":\"12113\"}],\"center\":[{\"id\":\"12115\"},{\"id\":\"12119\"},{\"id\":\"12145\"}],\"left\":[{\"id\":\"12116\"}],\"plot_height\":400,\"plot_width\":700,\"renderers\":[{\"id\":\"12137\"},{\"id\":\"12150\"}],\"title\":{\"id\":\"12103\"},\"toolbar\":{\"id\":\"12127\"},\"x_range\":{\"id\":\"12105\"},\"x_scale\":{\"id\":\"12109\"},\"y_range\":{\"id\":\"12107\"},\"y_scale\":{\"id\":\"12111\"}},\"id\":\"12102\",\"subtype\":\"Figure\",\"type\":\"Plot\"},{\"attributes\":{},\"id\":\"12120\",\"type\":\"PanTool\"},{\"attributes\":{},\"id\":\"12531\",\"type\":\"Selection\"},{\"attributes\":{\"data\":{\"x\":[\"2019-02\",\"2019-03\",\"2019-04\",\"2019-07\",\"2019-09\",\"2019-10\",\"2019-11\",\"2019-12\",\"2020-01\",\"2020-02\",\"2020-03\",\"2020-04\",\"2020-05\",\"2020-06\",\"2020-07\"],\"y\":[1.0379746835443038,1.8101265822784811,1.4430379746835442,2.1772151898734178,4.139240506329114,5.556962025316456,5.734177215189874,3.392405063291139,5.139240506329114,3.5443037974683542,2,3,4,3.9873417721518987,4]},\"selected\":{\"id\":\"12529\"},\"selection_policy\":{\"id\":\"12528\"}},\"id\":\"12134\",\"type\":\"ColumnDataSource\"},{\"attributes\":{\"line_alpha\":{\"value\":0.8},\"line_color\":{\"value\":\"red\"},\"line_width\":{\"value\":2},\"x\":{\"field\":\"x\"},\"y\":{\"field\":\"y\"}},\"id\":\"12135\",\"type\":\"Step\"},{\"attributes\":{\"bottom_units\":\"screen\",\"fill_alpha\":0.5,\"fill_color\":\"lightgrey\",\"left_units\":\"screen\",\"level\":\"overlay\",\"line_alpha\":1.0,\"line_color\":\"black\",\"line_dash\":[4,4],\"line_width\":2,\"render_mode\":\"css\",\"right_units\":\"screen\",\"top_units\":\"screen\"},\"id\":\"12126\",\"type\":\"BoxAnnotation\"},{\"attributes\":{},\"id\":\"12117\",\"type\":\"BasicTicker\"},{\"attributes\":{\"axis\":{\"id\":\"12116\"},\"dimension\":1,\"grid_line_color\":null,\"ticker\":null},\"id\":\"12119\",\"type\":\"Grid\"},{\"attributes\":{\"data_source\":{\"id\":\"12134\"},\"glyph\":{\"id\":\"12135\"},\"hover_glyph\":null,\"muted_glyph\":null,\"nonselection_glyph\":{\"id\":\"12136\"},\"selection_glyph\":null,\"view\":{\"id\":\"12138\"}},\"id\":\"12137\",\"type\":\"GlyphRenderer\"},{\"attributes\":{\"start\":0},\"id\":\"12107\",\"type\":\"DataRange1d\"},{\"attributes\":{},\"id\":\"12140\",\"type\":\"BasicTickFormatter\"},{\"attributes\":{\"active_drag\":\"auto\",\"active_inspect\":\"auto\",\"active_multi\":null,\"active_scroll\":\"auto\",\"active_tap\":\"auto\",\"tools\":[{\"id\":\"12120\"},{\"id\":\"12121\"},{\"id\":\"12122\"},{\"id\":\"12123\"},{\"id\":\"12124\"},{\"id\":\"12125\"}]},\"id\":\"12127\",\"type\":\"Toolbar\"},{\"attributes\":{\"source\":{\"id\":\"12134\"}},\"id\":\"12138\",\"type\":\"CDSView\"},{\"attributes\":{},\"id\":\"12114\",\"type\":\"CategoricalTicker\"},{\"attributes\":{\"formatter\":{\"id\":\"12140\"},\"ticker\":{\"id\":\"12117\"}},\"id\":\"12116\",\"type\":\"LinearAxis\"},{\"attributes\":{\"axis\":{\"id\":\"12113\"},\"grid_line_color\":null,\"ticker\":null},\"id\":\"12115\",\"type\":\"Grid\"},{\"attributes\":{},\"id\":\"12142\",\"type\":\"CategoricalTickFormatter\"},{\"attributes\":{\"items\":[{\"id\":\"12146\"}]},\"id\":\"12145\",\"type\":\"Legend\"},{\"attributes\":{\"formatter\":{\"id\":\"12142\"},\"major_label_orientation\":\"vertical\",\"ticker\":{\"id\":\"12114\"}},\"id\":\"12113\",\"type\":\"CategoricalAxis\"},{\"attributes\":{\"label\":{\"value\":\"Moyenne de tous les d\\u00e9put\\u00e9s fran\\u00e7ais\"},\"renderers\":[{\"id\":\"12137\"}]},\"id\":\"12146\",\"type\":\"LegendItem\"},{\"attributes\":{\"data\":{\"top\":[0,0,0,2,2,6,7,3,0,3,2,3,4,4,4],\"x\":[\"2019-02\",\"2019-03\",\"2019-04\",\"2019-07\",\"2019-09\",\"2019-10\",\"2019-11\",\"2019-12\",\"2020-01\",\"2020-02\",\"2020-03\",\"2020-04\",\"2020-05\",\"2020-06\",\"2020-07\"]},\"selected\":{\"id\":\"12531\"},\"selection_policy\":{\"id\":\"12530\"}},\"id\":\"12147\",\"type\":\"ColumnDataSource\"},{\"attributes\":{},\"id\":\"12109\",\"type\":\"CategoricalScale\"},{\"attributes\":{\"text\":\"Jours o\\u00f9 Jean-Paul GARRAUD \\u00e0 vot\\u00e9 (40)\"},\"id\":\"12103\",\"type\":\"Title\"},{\"attributes\":{\"fill_alpha\":{\"value\":0.1},\"fill_color\":{\"value\":\"#1f77b4\"},\"line_alpha\":{\"value\":0.1},\"line_color\":{\"value\":\"#1f77b4\"},\"top\":{\"field\":\"top\"},\"width\":{\"value\":1},\"x\":{\"field\":\"x\"}},\"id\":\"12149\",\"type\":\"VBar\"},{\"attributes\":{\"factors\":[\"2019-02\",\"2019-03\",\"2019-04\",\"2019-07\",\"2019-09\",\"2019-10\",\"2019-11\",\"2019-12\",\"2020-01\",\"2020-02\",\"2020-03\",\"2020-04\",\"2020-05\",\"2020-06\",\"2020-07\"]},\"id\":\"12105\",\"type\":\"FactorRange\"},{\"attributes\":{\"overlay\":{\"id\":\"12126\"}},\"id\":\"12122\",\"type\":\"BoxZoomTool\"},{\"attributes\":{\"data_source\":{\"id\":\"12147\"},\"glyph\":{\"id\":\"12148\"},\"hover_glyph\":null,\"muted_glyph\":null,\"nonselection_glyph\":{\"id\":\"12149\"},\"selection_glyph\":null,\"view\":{\"id\":\"12151\"}},\"id\":\"12150\",\"type\":\"GlyphRenderer\"},{\"attributes\":{},\"id\":\"12121\",\"type\":\"WheelZoomTool\"},{\"attributes\":{},\"id\":\"12528\",\"type\":\"UnionRenderers\"},{\"attributes\":{\"source\":{\"id\":\"12147\"}},\"id\":\"12151\",\"type\":\"CDSView\"},{\"attributes\":{},\"id\":\"12124\",\"type\":\"ResetTool\"},{\"attributes\":{\"fill_alpha\":{\"value\":0.5},\"fill_color\":{\"value\":\"#1f77b4\"},\"line_alpha\":{\"value\":0.5},\"line_color\":{\"value\":\"#1f77b4\"},\"top\":{\"field\":\"top\"},\"width\":{\"value\":1},\"x\":{\"field\":\"x\"}},\"id\":\"12148\",\"type\":\"VBar\"},{\"attributes\":{},\"id\":\"12529\",\"type\":\"Selection\"},{\"attributes\":{},\"id\":\"12125\",\"type\":\"HelpTool\"},{\"attributes\":{\"line_alpha\":{\"value\":0.1},\"line_color\":{\"value\":\"red\"},\"line_width\":{\"value\":2},\"x\":{\"field\":\"x\"},\"y\":{\"field\":\"y\"}},\"id\":\"12136\",\"type\":\"Step\"},{\"attributes\":{},\"id\":\"12123\",\"type\":\"SaveTool\"},{\"attributes\":{},\"id\":\"12530\",\"type\":\"UnionRenderers\"},{\"attributes\":{},\"id\":\"12111\",\"type\":\"LinearScale\"}],\"root_ids\":[\"12102\"]},\"title\":\"Bokeh Application\",\"version\":\"2.0.1\"}};\n",
       "  var render_items = [{\"docid\":\"f7edc2c1-07ce-4a6e-9423-3c5d578b55e5\",\"root_ids\":[\"12102\"],\"roots\":{\"12102\":\"6c47c9d5-dfe2-4a5e-96e1-604c23b4824c\"}}];\n",
       "  root.Bokeh.embed.embed_items_notebook(docs_json, render_items);\n",
       "\n",
       "  }\n",
       "  if (root.Bokeh !== undefined) {\n",
       "    embed_document(root);\n",
       "  } else {\n",
       "    var attempts = 0;\n",
       "    var timer = setInterval(function(root) {\n",
       "      if (root.Bokeh !== undefined) {\n",
       "        clearInterval(timer);\n",
       "        embed_document(root);\n",
       "      } else {\n",
       "        attempts++;\n",
       "        if (attempts > 100) {\n",
       "          clearInterval(timer);\n",
       "          console.log(\"Bokeh: ERROR: Unable to run BokehJS code because BokehJS library is missing\");\n",
       "        }\n",
       "      }\n",
       "    }, 10, root)\n",
       "  }\n",
       "})(window);"
      ],
      "application/vnd.bokehjs_exec.v0+json": ""
     },
     "metadata": {
      "application/vnd.bokehjs_exec.v0+json": {
       "id": "12102"
      }
     },
     "output_type": "display_data"
    },
    {
     "data": {
      "text/html": [
       "\n",
       "\n",
       "\n",
       "\n",
       "\n",
       "\n",
       "  <div class=\"bk-root\" id=\"dedc3d1c-5f57-474c-a261-6c120b25b54c\" data-root-id=\"12592\"></div>\n"
      ]
     },
     "metadata": {},
     "output_type": "display_data"
    },
    {
     "data": {
      "application/javascript": [
       "(function(root) {\n",
       "  function embed_document(root) {\n",
       "    \n",
       "  var docs_json = {\"5089a914-9cff-414e-8b80-12a4d6f772f6\":{\"roots\":{\"references\":[{\"attributes\":{\"below\":[{\"id\":\"12603\"}],\"center\":[{\"id\":\"12605\"},{\"id\":\"12609\"},{\"id\":\"12635\"}],\"left\":[{\"id\":\"12606\"}],\"plot_height\":400,\"plot_width\":700,\"renderers\":[{\"id\":\"12627\"},{\"id\":\"12640\"}],\"title\":{\"id\":\"12593\"},\"toolbar\":{\"id\":\"12617\"},\"x_range\":{\"id\":\"12595\"},\"x_scale\":{\"id\":\"12599\"},\"y_range\":{\"id\":\"12597\"},\"y_scale\":{\"id\":\"12601\"}},\"id\":\"12592\",\"subtype\":\"Figure\",\"type\":\"Plot\"},{\"attributes\":{\"fill_alpha\":{\"value\":0.1},\"fill_color\":{\"value\":\"#1f77b4\"},\"line_alpha\":{\"value\":0.1},\"line_color\":{\"value\":\"#1f77b4\"},\"top\":{\"field\":\"top\"},\"width\":{\"value\":1},\"x\":{\"field\":\"x\"}},\"id\":\"12639\",\"type\":\"VBar\"},{\"attributes\":{\"overlay\":{\"id\":\"12616\"}},\"id\":\"12612\",\"type\":\"BoxZoomTool\"},{\"attributes\":{\"active_drag\":\"auto\",\"active_inspect\":\"auto\",\"active_multi\":null,\"active_scroll\":\"auto\",\"active_tap\":\"auto\",\"tools\":[{\"id\":\"12610\"},{\"id\":\"12611\"},{\"id\":\"12612\"},{\"id\":\"12613\"},{\"id\":\"12614\"},{\"id\":\"12615\"}]},\"id\":\"12617\",\"type\":\"Toolbar\"},{\"attributes\":{\"data_source\":{\"id\":\"12637\"},\"glyph\":{\"id\":\"12638\"},\"hover_glyph\":null,\"muted_glyph\":null,\"nonselection_glyph\":{\"id\":\"12639\"},\"selection_glyph\":null,\"view\":{\"id\":\"12641\"}},\"id\":\"12640\",\"type\":\"GlyphRenderer\"},{\"attributes\":{},\"id\":\"12610\",\"type\":\"PanTool\"},{\"attributes\":{\"line_alpha\":{\"value\":0.8},\"line_color\":{\"value\":\"red\"},\"line_width\":{\"value\":2},\"x\":{\"field\":\"x\"},\"y\":{\"field\":\"y\"}},\"id\":\"12625\",\"type\":\"Step\"},{\"attributes\":{\"factors\":[\"2019-02\",\"2019-03\",\"2019-04\",\"2019-07\",\"2019-09\",\"2019-10\",\"2019-11\",\"2019-12\",\"2020-01\",\"2020-02\",\"2020-03\",\"2020-04\",\"2020-05\",\"2020-06\",\"2020-07\"]},\"id\":\"12595\",\"type\":\"FactorRange\"},{\"attributes\":{\"source\":{\"id\":\"12637\"}},\"id\":\"12641\",\"type\":\"CDSView\"},{\"attributes\":{\"fill_alpha\":{\"value\":0.5},\"fill_color\":{\"value\":\"#1f77b4\"},\"line_alpha\":{\"value\":0.5},\"line_color\":{\"value\":\"#1f77b4\"},\"top\":{\"field\":\"top\"},\"width\":{\"value\":1},\"x\":{\"field\":\"x\"}},\"id\":\"12638\",\"type\":\"VBar\"},{\"attributes\":{},\"id\":\"12607\",\"type\":\"BasicTicker\"},{\"attributes\":{},\"id\":\"13029\",\"type\":\"Selection\"},{\"attributes\":{},\"id\":\"12615\",\"type\":\"HelpTool\"},{\"attributes\":{\"axis\":{\"id\":\"12606\"},\"dimension\":1,\"grid_line_color\":null,\"ticker\":null},\"id\":\"12609\",\"type\":\"Grid\"},{\"attributes\":{},\"id\":\"13030\",\"type\":\"UnionRenderers\"},{\"attributes\":{\"formatter\":{\"id\":\"12630\"},\"ticker\":{\"id\":\"12607\"}},\"id\":\"12606\",\"type\":\"LinearAxis\"},{\"attributes\":{\"axis\":{\"id\":\"12603\"},\"grid_line_color\":null,\"ticker\":null},\"id\":\"12605\",\"type\":\"Grid\"},{\"attributes\":{},\"id\":\"12604\",\"type\":\"CategoricalTicker\"},{\"attributes\":{},\"id\":\"12614\",\"type\":\"ResetTool\"},{\"attributes\":{},\"id\":\"12599\",\"type\":\"CategoricalScale\"},{\"attributes\":{\"formatter\":{\"id\":\"12632\"},\"major_label_orientation\":\"vertical\",\"ticker\":{\"id\":\"12604\"}},\"id\":\"12603\",\"type\":\"CategoricalAxis\"},{\"attributes\":{},\"id\":\"13031\",\"type\":\"Selection\"},{\"attributes\":{\"bottom_units\":\"screen\",\"fill_alpha\":0.5,\"fill_color\":\"lightgrey\",\"left_units\":\"screen\",\"level\":\"overlay\",\"line_alpha\":1.0,\"line_color\":\"black\",\"line_dash\":[4,4],\"line_width\":2,\"render_mode\":\"css\",\"right_units\":\"screen\",\"top_units\":\"screen\"},\"id\":\"12616\",\"type\":\"BoxAnnotation\"},{\"attributes\":{},\"id\":\"12601\",\"type\":\"LinearScale\"},{\"attributes\":{\"data_source\":{\"id\":\"12624\"},\"glyph\":{\"id\":\"12625\"},\"hover_glyph\":null,\"muted_glyph\":null,\"nonselection_glyph\":{\"id\":\"12626\"},\"selection_glyph\":null,\"view\":{\"id\":\"12628\"}},\"id\":\"12627\",\"type\":\"GlyphRenderer\"},{\"attributes\":{\"source\":{\"id\":\"12624\"}},\"id\":\"12628\",\"type\":\"CDSView\"},{\"attributes\":{},\"id\":\"12630\",\"type\":\"BasicTickFormatter\"},{\"attributes\":{\"start\":0},\"id\":\"12597\",\"type\":\"DataRange1d\"},{\"attributes\":{\"text\":\"Jours o\\u00f9 Maxette PIRBAKAS \\u00e0 vot\\u00e9 (41)\"},\"id\":\"12593\",\"type\":\"Title\"},{\"attributes\":{\"items\":[{\"id\":\"12636\"}]},\"id\":\"12635\",\"type\":\"Legend\"},{\"attributes\":{},\"id\":\"12632\",\"type\":\"CategoricalTickFormatter\"},{\"attributes\":{\"line_alpha\":{\"value\":0.1},\"line_color\":{\"value\":\"red\"},\"line_width\":{\"value\":2},\"x\":{\"field\":\"x\"},\"y\":{\"field\":\"y\"}},\"id\":\"12626\",\"type\":\"Step\"},{\"attributes\":{\"label\":{\"value\":\"Moyenne de tous les d\\u00e9put\\u00e9s fran\\u00e7ais\"},\"renderers\":[{\"id\":\"12627\"}]},\"id\":\"12636\",\"type\":\"LegendItem\"},{\"attributes\":{\"data\":{\"x\":[\"2019-02\",\"2019-03\",\"2019-04\",\"2019-07\",\"2019-09\",\"2019-10\",\"2019-11\",\"2019-12\",\"2020-01\",\"2020-02\",\"2020-03\",\"2020-04\",\"2020-05\",\"2020-06\",\"2020-07\"],\"y\":[1.0379746835443038,1.8101265822784811,1.4430379746835442,2.1772151898734178,4.139240506329114,5.556962025316456,5.734177215189874,3.392405063291139,5.139240506329114,3.5443037974683542,2,3,4,3.9873417721518987,4]},\"selected\":{\"id\":\"13029\"},\"selection_policy\":{\"id\":\"13028\"}},\"id\":\"12624\",\"type\":\"ColumnDataSource\"},{\"attributes\":{\"data\":{\"top\":[0,0,0,0,4,3,6,4,4,3,2,3,4,4,4],\"x\":[\"2019-02\",\"2019-03\",\"2019-04\",\"2019-07\",\"2019-09\",\"2019-10\",\"2019-11\",\"2019-12\",\"2020-01\",\"2020-02\",\"2020-03\",\"2020-04\",\"2020-05\",\"2020-06\",\"2020-07\"]},\"selected\":{\"id\":\"13031\"},\"selection_policy\":{\"id\":\"13030\"}},\"id\":\"12637\",\"type\":\"ColumnDataSource\"},{\"attributes\":{},\"id\":\"13028\",\"type\":\"UnionRenderers\"},{\"attributes\":{},\"id\":\"12613\",\"type\":\"SaveTool\"},{\"attributes\":{},\"id\":\"12611\",\"type\":\"WheelZoomTool\"}],\"root_ids\":[\"12592\"]},\"title\":\"Bokeh Application\",\"version\":\"2.0.1\"}};\n",
       "  var render_items = [{\"docid\":\"5089a914-9cff-414e-8b80-12a4d6f772f6\",\"root_ids\":[\"12592\"],\"roots\":{\"12592\":\"dedc3d1c-5f57-474c-a261-6c120b25b54c\"}}];\n",
       "  root.Bokeh.embed.embed_items_notebook(docs_json, render_items);\n",
       "\n",
       "  }\n",
       "  if (root.Bokeh !== undefined) {\n",
       "    embed_document(root);\n",
       "  } else {\n",
       "    var attempts = 0;\n",
       "    var timer = setInterval(function(root) {\n",
       "      if (root.Bokeh !== undefined) {\n",
       "        clearInterval(timer);\n",
       "        embed_document(root);\n",
       "      } else {\n",
       "        attempts++;\n",
       "        if (attempts > 100) {\n",
       "          clearInterval(timer);\n",
       "          console.log(\"Bokeh: ERROR: Unable to run BokehJS code because BokehJS library is missing\");\n",
       "        }\n",
       "      }\n",
       "    }, 10, root)\n",
       "  }\n",
       "})(window);"
      ],
      "application/vnd.bokehjs_exec.v0+json": ""
     },
     "metadata": {
      "application/vnd.bokehjs_exec.v0+json": {
       "id": "12592"
      }
     },
     "output_type": "display_data"
    },
    {
     "data": {
      "text/html": [
       "\n",
       "\n",
       "\n",
       "\n",
       "\n",
       "\n",
       "  <div class=\"bk-root\" id=\"1f1eb08b-0e2d-4d46-b03d-199ae74ddc95\" data-root-id=\"13092\"></div>\n"
      ]
     },
     "metadata": {},
     "output_type": "display_data"
    },
    {
     "data": {
      "application/javascript": [
       "(function(root) {\n",
       "  function embed_document(root) {\n",
       "    \n",
       "  var docs_json = {\"9a6f147a-9983-48fb-8e1b-6f608147346f\":{\"roots\":{\"references\":[{\"attributes\":{\"below\":[{\"id\":\"13103\"}],\"center\":[{\"id\":\"13105\"},{\"id\":\"13109\"},{\"id\":\"13135\"}],\"left\":[{\"id\":\"13106\"}],\"plot_height\":400,\"plot_width\":700,\"renderers\":[{\"id\":\"13127\"},{\"id\":\"13140\"}],\"title\":{\"id\":\"13093\"},\"toolbar\":{\"id\":\"13117\"},\"x_range\":{\"id\":\"13095\"},\"x_scale\":{\"id\":\"13099\"},\"y_range\":{\"id\":\"13097\"},\"y_scale\":{\"id\":\"13101\"}},\"id\":\"13092\",\"subtype\":\"Figure\",\"type\":\"Plot\"},{\"attributes\":{\"data_source\":{\"id\":\"13137\"},\"glyph\":{\"id\":\"13138\"},\"hover_glyph\":null,\"muted_glyph\":null,\"nonselection_glyph\":{\"id\":\"13139\"},\"selection_glyph\":null,\"view\":{\"id\":\"13141\"}},\"id\":\"13140\",\"type\":\"GlyphRenderer\"},{\"attributes\":{\"fill_alpha\":{\"value\":0.1},\"fill_color\":{\"value\":\"#1f77b4\"},\"line_alpha\":{\"value\":0.1},\"line_color\":{\"value\":\"#1f77b4\"},\"top\":{\"field\":\"top\"},\"width\":{\"value\":1},\"x\":{\"field\":\"x\"}},\"id\":\"13139\",\"type\":\"VBar\"},{\"attributes\":{\"overlay\":{\"id\":\"13116\"}},\"id\":\"13112\",\"type\":\"BoxZoomTool\"},{\"attributes\":{},\"id\":\"13113\",\"type\":\"SaveTool\"},{\"attributes\":{\"source\":{\"id\":\"13137\"}},\"id\":\"13141\",\"type\":\"CDSView\"},{\"attributes\":{},\"id\":\"13110\",\"type\":\"PanTool\"},{\"attributes\":{},\"id\":\"13114\",\"type\":\"ResetTool\"},{\"attributes\":{\"line_alpha\":{\"value\":0.8},\"line_color\":{\"value\":\"red\"},\"line_width\":{\"value\":2},\"x\":{\"field\":\"x\"},\"y\":{\"field\":\"y\"}},\"id\":\"13125\",\"type\":\"Step\"},{\"attributes\":{\"fill_alpha\":{\"value\":0.5},\"fill_color\":{\"value\":\"#1f77b4\"},\"line_alpha\":{\"value\":0.5},\"line_color\":{\"value\":\"#1f77b4\"},\"top\":{\"field\":\"top\"},\"width\":{\"value\":1},\"x\":{\"field\":\"x\"}},\"id\":\"13138\",\"type\":\"VBar\"},{\"attributes\":{},\"id\":\"13539\",\"type\":\"Selection\"},{\"attributes\":{},\"id\":\"13115\",\"type\":\"HelpTool\"},{\"attributes\":{},\"id\":\"13538\",\"type\":\"UnionRenderers\"},{\"attributes\":{\"active_drag\":\"auto\",\"active_inspect\":\"auto\",\"active_multi\":null,\"active_scroll\":\"auto\",\"active_tap\":\"auto\",\"tools\":[{\"id\":\"13110\"},{\"id\":\"13111\"},{\"id\":\"13112\"},{\"id\":\"13113\"},{\"id\":\"13114\"},{\"id\":\"13115\"}]},\"id\":\"13117\",\"type\":\"Toolbar\"},{\"attributes\":{\"data\":{\"x\":[\"2019-02\",\"2019-03\",\"2019-04\",\"2019-07\",\"2019-09\",\"2019-10\",\"2019-11\",\"2019-12\",\"2020-01\",\"2020-02\",\"2020-03\",\"2020-04\",\"2020-05\",\"2020-06\",\"2020-07\"],\"y\":[1.0379746835443038,1.8101265822784811,1.4430379746835442,2.1772151898734178,4.139240506329114,5.556962025316456,5.734177215189874,3.392405063291139,5.139240506329114,3.5443037974683542,2,3,4,3.9873417721518987,4]},\"selected\":{\"id\":\"13539\"},\"selection_policy\":{\"id\":\"13538\"}},\"id\":\"13124\",\"type\":\"ColumnDataSource\"},{\"attributes\":{\"factors\":[\"2019-02\",\"2019-03\",\"2019-04\",\"2019-07\",\"2019-09\",\"2019-10\",\"2019-11\",\"2019-12\",\"2020-01\",\"2020-02\",\"2020-03\",\"2020-04\",\"2020-05\",\"2020-06\",\"2020-07\"]},\"id\":\"13095\",\"type\":\"FactorRange\"},{\"attributes\":{\"line_alpha\":{\"value\":0.1},\"line_color\":{\"value\":\"red\"},\"line_width\":{\"value\":2},\"x\":{\"field\":\"x\"},\"y\":{\"field\":\"y\"}},\"id\":\"13126\",\"type\":\"Step\"},{\"attributes\":{},\"id\":\"13541\",\"type\":\"Selection\"},{\"attributes\":{},\"id\":\"13107\",\"type\":\"BasicTicker\"},{\"attributes\":{\"bottom_units\":\"screen\",\"fill_alpha\":0.5,\"fill_color\":\"lightgrey\",\"left_units\":\"screen\",\"level\":\"overlay\",\"line_alpha\":1.0,\"line_color\":\"black\",\"line_dash\":[4,4],\"line_width\":2,\"render_mode\":\"css\",\"right_units\":\"screen\",\"top_units\":\"screen\"},\"id\":\"13116\",\"type\":\"BoxAnnotation\"},{\"attributes\":{},\"id\":\"13540\",\"type\":\"UnionRenderers\"},{\"attributes\":{\"axis\":{\"id\":\"13106\"},\"dimension\":1,\"grid_line_color\":null,\"ticker\":null},\"id\":\"13109\",\"type\":\"Grid\"},{\"attributes\":{\"data_source\":{\"id\":\"13124\"},\"glyph\":{\"id\":\"13125\"},\"hover_glyph\":null,\"muted_glyph\":null,\"nonselection_glyph\":{\"id\":\"13126\"},\"selection_glyph\":null,\"view\":{\"id\":\"13128\"}},\"id\":\"13127\",\"type\":\"GlyphRenderer\"},{\"attributes\":{\"formatter\":{\"id\":\"13130\"},\"ticker\":{\"id\":\"13107\"}},\"id\":\"13106\",\"type\":\"LinearAxis\"},{\"attributes\":{\"source\":{\"id\":\"13124\"}},\"id\":\"13128\",\"type\":\"CDSView\"},{\"attributes\":{},\"id\":\"13099\",\"type\":\"CategoricalScale\"},{\"attributes\":{},\"id\":\"13130\",\"type\":\"BasicTickFormatter\"},{\"attributes\":{\"axis\":{\"id\":\"13103\"},\"grid_line_color\":null,\"ticker\":null},\"id\":\"13105\",\"type\":\"Grid\"},{\"attributes\":{},\"id\":\"13132\",\"type\":\"CategoricalTickFormatter\"},{\"attributes\":{},\"id\":\"13104\",\"type\":\"CategoricalTicker\"},{\"attributes\":{\"items\":[{\"id\":\"13136\"}]},\"id\":\"13135\",\"type\":\"Legend\"},{\"attributes\":{\"label\":{\"value\":\"Moyenne de tous les d\\u00e9put\\u00e9s fran\\u00e7ais\"},\"renderers\":[{\"id\":\"13127\"}]},\"id\":\"13136\",\"type\":\"LegendItem\"},{\"attributes\":{\"formatter\":{\"id\":\"13132\"},\"major_label_orientation\":\"vertical\",\"ticker\":{\"id\":\"13104\"}},\"id\":\"13103\",\"type\":\"CategoricalAxis\"},{\"attributes\":{\"data\":{\"top\":[0,0,0,2,4,6,4,2,5,4,2,3,4,4,4],\"x\":[\"2019-02\",\"2019-03\",\"2019-04\",\"2019-07\",\"2019-09\",\"2019-10\",\"2019-11\",\"2019-12\",\"2020-01\",\"2020-02\",\"2020-03\",\"2020-04\",\"2020-05\",\"2020-06\",\"2020-07\"]},\"selected\":{\"id\":\"13541\"},\"selection_policy\":{\"id\":\"13540\"}},\"id\":\"13137\",\"type\":\"ColumnDataSource\"},{\"attributes\":{},\"id\":\"13101\",\"type\":\"LinearScale\"},{\"attributes\":{\"start\":0},\"id\":\"13097\",\"type\":\"DataRange1d\"},{\"attributes\":{},\"id\":\"13111\",\"type\":\"WheelZoomTool\"},{\"attributes\":{\"text\":\"Jours o\\u00f9 Agn\\u00e8s EVREN \\u00e0 vot\\u00e9 (44)\"},\"id\":\"13093\",\"type\":\"Title\"}],\"root_ids\":[\"13092\"]},\"title\":\"Bokeh Application\",\"version\":\"2.0.1\"}};\n",
       "  var render_items = [{\"docid\":\"9a6f147a-9983-48fb-8e1b-6f608147346f\",\"root_ids\":[\"13092\"],\"roots\":{\"13092\":\"1f1eb08b-0e2d-4d46-b03d-199ae74ddc95\"}}];\n",
       "  root.Bokeh.embed.embed_items_notebook(docs_json, render_items);\n",
       "\n",
       "  }\n",
       "  if (root.Bokeh !== undefined) {\n",
       "    embed_document(root);\n",
       "  } else {\n",
       "    var attempts = 0;\n",
       "    var timer = setInterval(function(root) {\n",
       "      if (root.Bokeh !== undefined) {\n",
       "        clearInterval(timer);\n",
       "        embed_document(root);\n",
       "      } else {\n",
       "        attempts++;\n",
       "        if (attempts > 100) {\n",
       "          clearInterval(timer);\n",
       "          console.log(\"Bokeh: ERROR: Unable to run BokehJS code because BokehJS library is missing\");\n",
       "        }\n",
       "      }\n",
       "    }, 10, root)\n",
       "  }\n",
       "})(window);"
      ],
      "application/vnd.bokehjs_exec.v0+json": ""
     },
     "metadata": {
      "application/vnd.bokehjs_exec.v0+json": {
       "id": "13092"
      }
     },
     "output_type": "display_data"
    },
    {
     "name": "stdout",
     "output_type": "stream",
     "text": [
      "Ilana CICUREL avec 21 jours\n",
      "Claude GRUFFAT avec 21 jours\n",
      "Sandro GOZI avec 21 jours\n",
      "Jean-Lin LACAPELLE avec 21 jours\n",
      "Nora MEBAREK avec 21 jours\n",
      "Gilbert COLLARD avec 37 jours\n",
      "Herve JUVIN avec 37 jours\n",
      "Jean-Paul GARRAUD avec 40 jours\n",
      "Maxette PIRBAKAS avec 41 jours\n",
      "Agnès EVREN avec 44 jours\n"
     ]
    }
   ],
   "source": [
    "for député in députés_les_moins_présents[:10]:\n",
    "    affiche_député(député)\n",
    "for député in députés_les_moins_présents[:10]:\n",
    "    print(f\"{nom(député)} avec {compte_votes(député)} jours\")\n",
    "\n",
    "Ilana CICUREL"
   ]
  },
  {
   "cell_type": "markdown",
   "metadata": {},
   "source": [
    "# Les 10 plus présents"
   ]
  },
  {
   "cell_type": "code",
   "execution_count": 15,
   "metadata": {},
   "outputs": [
    {
     "data": {
      "text/html": [
       "\n",
       "\n",
       "\n",
       "\n",
       "\n",
       "\n",
       "  <div class=\"bk-root\" id=\"6e9645fb-6492-4c34-a041-b6004ba9241f\" data-root-id=\"13602\"></div>\n"
      ]
     },
     "metadata": {},
     "output_type": "display_data"
    },
    {
     "data": {
      "application/javascript": [
       "(function(root) {\n",
       "  function embed_document(root) {\n",
       "    \n",
       "  var docs_json = {\"d5c63c19-4cd1-4a3a-bb87-77e58b117f96\":{\"roots\":{\"references\":[{\"attributes\":{\"below\":[{\"id\":\"13613\"}],\"center\":[{\"id\":\"13615\"},{\"id\":\"13619\"},{\"id\":\"13645\"}],\"left\":[{\"id\":\"13616\"}],\"plot_height\":400,\"plot_width\":700,\"renderers\":[{\"id\":\"13637\"},{\"id\":\"13650\"}],\"title\":{\"id\":\"13603\"},\"toolbar\":{\"id\":\"13627\"},\"x_range\":{\"id\":\"13605\"},\"x_scale\":{\"id\":\"13609\"},\"y_range\":{\"id\":\"13607\"},\"y_scale\":{\"id\":\"13611\"}},\"id\":\"13602\",\"subtype\":\"Figure\",\"type\":\"Plot\"},{\"attributes\":{\"data\":{\"top\":[4,7,6,3,5,6,5,4,6,3,2,3,4,4,4],\"x\":[\"2019-02\",\"2019-03\",\"2019-04\",\"2019-07\",\"2019-09\",\"2019-10\",\"2019-11\",\"2019-12\",\"2020-01\",\"2020-02\",\"2020-03\",\"2020-04\",\"2020-05\",\"2020-06\",\"2020-07\"]},\"selected\":{\"id\":\"14061\"},\"selection_policy\":{\"id\":\"14060\"}},\"id\":\"13647\",\"type\":\"ColumnDataSource\"},{\"attributes\":{},\"id\":\"13620\",\"type\":\"PanTool\"},{\"attributes\":{\"fill_alpha\":{\"value\":0.1},\"fill_color\":{\"value\":\"#1f77b4\"},\"line_alpha\":{\"value\":0.1},\"line_color\":{\"value\":\"#1f77b4\"},\"top\":{\"field\":\"top\"},\"width\":{\"value\":1},\"x\":{\"field\":\"x\"}},\"id\":\"13649\",\"type\":\"VBar\"},{\"attributes\":{},\"id\":\"13621\",\"type\":\"WheelZoomTool\"},{\"attributes\":{\"data_source\":{\"id\":\"13647\"},\"glyph\":{\"id\":\"13648\"},\"hover_glyph\":null,\"muted_glyph\":null,\"nonselection_glyph\":{\"id\":\"13649\"},\"selection_glyph\":null,\"view\":{\"id\":\"13651\"}},\"id\":\"13650\",\"type\":\"GlyphRenderer\"},{\"attributes\":{\"overlay\":{\"id\":\"13626\"}},\"id\":\"13622\",\"type\":\"BoxZoomTool\"},{\"attributes\":{\"axis\":{\"id\":\"13616\"},\"dimension\":1,\"grid_line_color\":null,\"ticker\":null},\"id\":\"13619\",\"type\":\"Grid\"},{\"attributes\":{\"line_alpha\":{\"value\":0.8},\"line_color\":{\"value\":\"red\"},\"line_width\":{\"value\":2},\"x\":{\"field\":\"x\"},\"y\":{\"field\":\"y\"}},\"id\":\"13635\",\"type\":\"Step\"},{\"attributes\":{\"source\":{\"id\":\"13647\"}},\"id\":\"13651\",\"type\":\"CDSView\"},{\"attributes\":{},\"id\":\"13623\",\"type\":\"SaveTool\"},{\"attributes\":{\"factors\":[\"2019-02\",\"2019-03\",\"2019-04\",\"2019-07\",\"2019-09\",\"2019-10\",\"2019-11\",\"2019-12\",\"2020-01\",\"2020-02\",\"2020-03\",\"2020-04\",\"2020-05\",\"2020-06\",\"2020-07\"]},\"id\":\"13605\",\"type\":\"FactorRange\"},{\"attributes\":{\"fill_alpha\":{\"value\":0.5},\"fill_color\":{\"value\":\"#1f77b4\"},\"line_alpha\":{\"value\":0.5},\"line_color\":{\"value\":\"#1f77b4\"},\"top\":{\"field\":\"top\"},\"width\":{\"value\":1},\"x\":{\"field\":\"x\"}},\"id\":\"13648\",\"type\":\"VBar\"},{\"attributes\":{},\"id\":\"13624\",\"type\":\"ResetTool\"},{\"attributes\":{},\"id\":\"14058\",\"type\":\"UnionRenderers\"},{\"attributes\":{},\"id\":\"13614\",\"type\":\"CategoricalTicker\"},{\"attributes\":{},\"id\":\"13625\",\"type\":\"HelpTool\"},{\"attributes\":{},\"id\":\"13617\",\"type\":\"BasicTicker\"},{\"attributes\":{\"active_drag\":\"auto\",\"active_inspect\":\"auto\",\"active_multi\":null,\"active_scroll\":\"auto\",\"active_tap\":\"auto\",\"tools\":[{\"id\":\"13620\"},{\"id\":\"13621\"},{\"id\":\"13622\"},{\"id\":\"13623\"},{\"id\":\"13624\"},{\"id\":\"13625\"}]},\"id\":\"13627\",\"type\":\"Toolbar\"},{\"attributes\":{\"formatter\":{\"id\":\"13640\"},\"ticker\":{\"id\":\"13617\"}},\"id\":\"13616\",\"type\":\"LinearAxis\"},{\"attributes\":{\"axis\":{\"id\":\"13613\"},\"grid_line_color\":null,\"ticker\":null},\"id\":\"13615\",\"type\":\"Grid\"},{\"attributes\":{},\"id\":\"14061\",\"type\":\"Selection\"},{\"attributes\":{\"bottom_units\":\"screen\",\"fill_alpha\":0.5,\"fill_color\":\"lightgrey\",\"left_units\":\"screen\",\"level\":\"overlay\",\"line_alpha\":1.0,\"line_color\":\"black\",\"line_dash\":[4,4],\"line_width\":2,\"render_mode\":\"css\",\"right_units\":\"screen\",\"top_units\":\"screen\"},\"id\":\"13626\",\"type\":\"BoxAnnotation\"},{\"attributes\":{\"data\":{\"x\":[\"2019-02\",\"2019-03\",\"2019-04\",\"2019-07\",\"2019-09\",\"2019-10\",\"2019-11\",\"2019-12\",\"2020-01\",\"2020-02\",\"2020-03\",\"2020-04\",\"2020-05\",\"2020-06\",\"2020-07\"],\"y\":[1.0379746835443038,1.8101265822784811,1.4430379746835442,2.1772151898734178,4.139240506329114,5.556962025316456,5.734177215189874,3.392405063291139,5.139240506329114,3.5443037974683542,2,3,4,3.9873417721518987,4]},\"selected\":{\"id\":\"14059\"},\"selection_policy\":{\"id\":\"14058\"}},\"id\":\"13634\",\"type\":\"ColumnDataSource\"},{\"attributes\":{\"formatter\":{\"id\":\"13642\"},\"major_label_orientation\":\"vertical\",\"ticker\":{\"id\":\"13614\"}},\"id\":\"13613\",\"type\":\"CategoricalAxis\"},{\"attributes\":{},\"id\":\"13640\",\"type\":\"BasicTickFormatter\"},{\"attributes\":{},\"id\":\"13611\",\"type\":\"LinearScale\"},{\"attributes\":{\"data_source\":{\"id\":\"13634\"},\"glyph\":{\"id\":\"13635\"},\"hover_glyph\":null,\"muted_glyph\":null,\"nonselection_glyph\":{\"id\":\"13636\"},\"selection_glyph\":null,\"view\":{\"id\":\"13638\"}},\"id\":\"13637\",\"type\":\"GlyphRenderer\"},{\"attributes\":{},\"id\":\"14060\",\"type\":\"UnionRenderers\"},{\"attributes\":{},\"id\":\"13609\",\"type\":\"CategoricalScale\"},{\"attributes\":{\"line_alpha\":{\"value\":0.1},\"line_color\":{\"value\":\"red\"},\"line_width\":{\"value\":2},\"x\":{\"field\":\"x\"},\"y\":{\"field\":\"y\"}},\"id\":\"13636\",\"type\":\"Step\"},{\"attributes\":{\"source\":{\"id\":\"13634\"}},\"id\":\"13638\",\"type\":\"CDSView\"},{\"attributes\":{\"start\":0},\"id\":\"13607\",\"type\":\"DataRange1d\"},{\"attributes\":{},\"id\":\"13642\",\"type\":\"CategoricalTickFormatter\"},{\"attributes\":{\"items\":[{\"id\":\"13646\"}]},\"id\":\"13645\",\"type\":\"Legend\"},{\"attributes\":{},\"id\":\"14059\",\"type\":\"Selection\"},{\"attributes\":{\"text\":\"Jours o\\u00f9 Arnaud DANJEAN \\u00e0 vot\\u00e9 (66)\"},\"id\":\"13603\",\"type\":\"Title\"},{\"attributes\":{\"label\":{\"value\":\"Moyenne de tous les d\\u00e9put\\u00e9s fran\\u00e7ais\"},\"renderers\":[{\"id\":\"13637\"}]},\"id\":\"13646\",\"type\":\"LegendItem\"}],\"root_ids\":[\"13602\"]},\"title\":\"Bokeh Application\",\"version\":\"2.0.1\"}};\n",
       "  var render_items = [{\"docid\":\"d5c63c19-4cd1-4a3a-bb87-77e58b117f96\",\"root_ids\":[\"13602\"],\"roots\":{\"13602\":\"6e9645fb-6492-4c34-a041-b6004ba9241f\"}}];\n",
       "  root.Bokeh.embed.embed_items_notebook(docs_json, render_items);\n",
       "\n",
       "  }\n",
       "  if (root.Bokeh !== undefined) {\n",
       "    embed_document(root);\n",
       "  } else {\n",
       "    var attempts = 0;\n",
       "    var timer = setInterval(function(root) {\n",
       "      if (root.Bokeh !== undefined) {\n",
       "        clearInterval(timer);\n",
       "        embed_document(root);\n",
       "      } else {\n",
       "        attempts++;\n",
       "        if (attempts > 100) {\n",
       "          clearInterval(timer);\n",
       "          console.log(\"Bokeh: ERROR: Unable to run BokehJS code because BokehJS library is missing\");\n",
       "        }\n",
       "      }\n",
       "    }, 10, root)\n",
       "  }\n",
       "})(window);"
      ],
      "application/vnd.bokehjs_exec.v0+json": ""
     },
     "metadata": {
      "application/vnd.bokehjs_exec.v0+json": {
       "id": "13602"
      }
     },
     "output_type": "display_data"
    },
    {
     "data": {
      "text/html": [
       "\n",
       "\n",
       "\n",
       "\n",
       "\n",
       "\n",
       "  <div class=\"bk-root\" id=\"1b1d867d-0565-45f6-9bed-770b7fb3a62a\" data-root-id=\"14122\"></div>\n"
      ]
     },
     "metadata": {},
     "output_type": "display_data"
    },
    {
     "data": {
      "application/javascript": [
       "(function(root) {\n",
       "  function embed_document(root) {\n",
       "    \n",
       "  var docs_json = {\"fa072171-214b-4107-91c4-61606de44dc5\":{\"roots\":{\"references\":[{\"attributes\":{\"below\":[{\"id\":\"14133\"}],\"center\":[{\"id\":\"14135\"},{\"id\":\"14139\"},{\"id\":\"14165\"}],\"left\":[{\"id\":\"14136\"}],\"plot_height\":400,\"plot_width\":700,\"renderers\":[{\"id\":\"14157\"},{\"id\":\"14170\"}],\"title\":{\"id\":\"14123\"},\"toolbar\":{\"id\":\"14147\"},\"x_range\":{\"id\":\"14125\"},\"x_scale\":{\"id\":\"14129\"},\"y_range\":{\"id\":\"14127\"},\"y_scale\":{\"id\":\"14131\"}},\"id\":\"14122\",\"subtype\":\"Figure\",\"type\":\"Plot\"},{\"attributes\":{},\"id\":\"14590\",\"type\":\"UnionRenderers\"},{\"attributes\":{\"overlay\":{\"id\":\"14146\"}},\"id\":\"14142\",\"type\":\"BoxZoomTool\"},{\"attributes\":{},\"id\":\"14140\",\"type\":\"PanTool\"},{\"attributes\":{},\"id\":\"14141\",\"type\":\"WheelZoomTool\"},{\"attributes\":{},\"id\":\"14591\",\"type\":\"Selection\"},{\"attributes\":{},\"id\":\"14143\",\"type\":\"SaveTool\"},{\"attributes\":{},\"id\":\"14144\",\"type\":\"ResetTool\"},{\"attributes\":{},\"id\":\"14145\",\"type\":\"HelpTool\"},{\"attributes\":{\"fill_alpha\":{\"value\":0.1},\"fill_color\":{\"value\":\"#1f77b4\"},\"line_alpha\":{\"value\":0.1},\"line_color\":{\"value\":\"#1f77b4\"},\"top\":{\"field\":\"top\"},\"width\":{\"value\":1},\"x\":{\"field\":\"x\"}},\"id\":\"14169\",\"type\":\"VBar\"},{\"attributes\":{\"active_drag\":\"auto\",\"active_inspect\":\"auto\",\"active_multi\":null,\"active_scroll\":\"auto\",\"active_tap\":\"auto\",\"tools\":[{\"id\":\"14140\"},{\"id\":\"14141\"},{\"id\":\"14142\"},{\"id\":\"14143\"},{\"id\":\"14144\"},{\"id\":\"14145\"}]},\"id\":\"14147\",\"type\":\"Toolbar\"},{\"attributes\":{\"line_alpha\":{\"value\":0.8},\"line_color\":{\"value\":\"red\"},\"line_width\":{\"value\":2},\"x\":{\"field\":\"x\"},\"y\":{\"field\":\"y\"}},\"id\":\"14155\",\"type\":\"Step\"},{\"attributes\":{\"axis\":{\"id\":\"14136\"},\"dimension\":1,\"grid_line_color\":null,\"ticker\":null},\"id\":\"14139\",\"type\":\"Grid\"},{\"attributes\":{\"data\":{\"top\":[4,7,6,3,5,6,6,4,5,3,2,3,4,4,4],\"x\":[\"2019-02\",\"2019-03\",\"2019-04\",\"2019-07\",\"2019-09\",\"2019-10\",\"2019-11\",\"2019-12\",\"2020-01\",\"2020-02\",\"2020-03\",\"2020-04\",\"2020-05\",\"2020-06\",\"2020-07\"]},\"selected\":{\"id\":\"14591\"},\"selection_policy\":{\"id\":\"14590\"}},\"id\":\"14167\",\"type\":\"ColumnDataSource\"},{\"attributes\":{\"label\":{\"value\":\"Moyenne de tous les d\\u00e9put\\u00e9s fran\\u00e7ais\"},\"renderers\":[{\"id\":\"14157\"}]},\"id\":\"14166\",\"type\":\"LegendItem\"},{\"attributes\":{\"bottom_units\":\"screen\",\"fill_alpha\":0.5,\"fill_color\":\"lightgrey\",\"left_units\":\"screen\",\"level\":\"overlay\",\"line_alpha\":1.0,\"line_color\":\"black\",\"line_dash\":[4,4],\"line_width\":2,\"render_mode\":\"css\",\"right_units\":\"screen\",\"top_units\":\"screen\"},\"id\":\"14146\",\"type\":\"BoxAnnotation\"},{\"attributes\":{},\"id\":\"14137\",\"type\":\"BasicTicker\"},{\"attributes\":{\"data\":{\"x\":[\"2019-02\",\"2019-03\",\"2019-04\",\"2019-07\",\"2019-09\",\"2019-10\",\"2019-11\",\"2019-12\",\"2020-01\",\"2020-02\",\"2020-03\",\"2020-04\",\"2020-05\",\"2020-06\",\"2020-07\"],\"y\":[1.0379746835443038,1.8101265822784811,1.4430379746835442,2.1772151898734178,4.139240506329114,5.556962025316456,5.734177215189874,3.392405063291139,5.139240506329114,3.5443037974683542,2,3,4,3.9873417721518987,4]},\"selected\":{\"id\":\"14589\"},\"selection_policy\":{\"id\":\"14588\"}},\"id\":\"14154\",\"type\":\"ColumnDataSource\"},{\"attributes\":{\"items\":[{\"id\":\"14166\"}]},\"id\":\"14165\",\"type\":\"Legend\"},{\"attributes\":{\"factors\":[\"2019-02\",\"2019-03\",\"2019-04\",\"2019-07\",\"2019-09\",\"2019-10\",\"2019-11\",\"2019-12\",\"2020-01\",\"2020-02\",\"2020-03\",\"2020-04\",\"2020-05\",\"2020-06\",\"2020-07\"]},\"id\":\"14125\",\"type\":\"FactorRange\"},{\"attributes\":{\"formatter\":{\"id\":\"14160\"},\"ticker\":{\"id\":\"14137\"}},\"id\":\"14136\",\"type\":\"LinearAxis\"},{\"attributes\":{\"data_source\":{\"id\":\"14154\"},\"glyph\":{\"id\":\"14155\"},\"hover_glyph\":null,\"muted_glyph\":null,\"nonselection_glyph\":{\"id\":\"14156\"},\"selection_glyph\":null,\"view\":{\"id\":\"14158\"}},\"id\":\"14157\",\"type\":\"GlyphRenderer\"},{\"attributes\":{\"axis\":{\"id\":\"14133\"},\"grid_line_color\":null,\"ticker\":null},\"id\":\"14135\",\"type\":\"Grid\"},{\"attributes\":{\"source\":{\"id\":\"14154\"}},\"id\":\"14158\",\"type\":\"CDSView\"},{\"attributes\":{\"formatter\":{\"id\":\"14162\"},\"major_label_orientation\":\"vertical\",\"ticker\":{\"id\":\"14134\"}},\"id\":\"14133\",\"type\":\"CategoricalAxis\"},{\"attributes\":{},\"id\":\"14160\",\"type\":\"BasicTickFormatter\"},{\"attributes\":{},\"id\":\"14134\",\"type\":\"CategoricalTicker\"},{\"attributes\":{},\"id\":\"14588\",\"type\":\"UnionRenderers\"},{\"attributes\":{},\"id\":\"14162\",\"type\":\"CategoricalTickFormatter\"},{\"attributes\":{\"data_source\":{\"id\":\"14167\"},\"glyph\":{\"id\":\"14168\"},\"hover_glyph\":null,\"muted_glyph\":null,\"nonselection_glyph\":{\"id\":\"14169\"},\"selection_glyph\":null,\"view\":{\"id\":\"14171\"}},\"id\":\"14170\",\"type\":\"GlyphRenderer\"},{\"attributes\":{},\"id\":\"14131\",\"type\":\"LinearScale\"},{\"attributes\":{\"source\":{\"id\":\"14167\"}},\"id\":\"14171\",\"type\":\"CDSView\"},{\"attributes\":{},\"id\":\"14129\",\"type\":\"CategoricalScale\"},{\"attributes\":{\"fill_alpha\":{\"value\":0.5},\"fill_color\":{\"value\":\"#1f77b4\"},\"line_alpha\":{\"value\":0.5},\"line_color\":{\"value\":\"#1f77b4\"},\"top\":{\"field\":\"top\"},\"width\":{\"value\":1},\"x\":{\"field\":\"x\"}},\"id\":\"14168\",\"type\":\"VBar\"},{\"attributes\":{\"text\":\"Jours o\\u00f9 Gilles LEBRETON \\u00e0 vot\\u00e9 (66)\"},\"id\":\"14123\",\"type\":\"Title\"},{\"attributes\":{\"start\":0},\"id\":\"14127\",\"type\":\"DataRange1d\"},{\"attributes\":{},\"id\":\"14589\",\"type\":\"Selection\"},{\"attributes\":{\"line_alpha\":{\"value\":0.1},\"line_color\":{\"value\":\"red\"},\"line_width\":{\"value\":2},\"x\":{\"field\":\"x\"},\"y\":{\"field\":\"y\"}},\"id\":\"14156\",\"type\":\"Step\"}],\"root_ids\":[\"14122\"]},\"title\":\"Bokeh Application\",\"version\":\"2.0.1\"}};\n",
       "  var render_items = [{\"docid\":\"fa072171-214b-4107-91c4-61606de44dc5\",\"root_ids\":[\"14122\"],\"roots\":{\"14122\":\"1b1d867d-0565-45f6-9bed-770b7fb3a62a\"}}];\n",
       "  root.Bokeh.embed.embed_items_notebook(docs_json, render_items);\n",
       "\n",
       "  }\n",
       "  if (root.Bokeh !== undefined) {\n",
       "    embed_document(root);\n",
       "  } else {\n",
       "    var attempts = 0;\n",
       "    var timer = setInterval(function(root) {\n",
       "      if (root.Bokeh !== undefined) {\n",
       "        clearInterval(timer);\n",
       "        embed_document(root);\n",
       "      } else {\n",
       "        attempts++;\n",
       "        if (attempts > 100) {\n",
       "          clearInterval(timer);\n",
       "          console.log(\"Bokeh: ERROR: Unable to run BokehJS code because BokehJS library is missing\");\n",
       "        }\n",
       "      }\n",
       "    }, 10, root)\n",
       "  }\n",
       "})(window);"
      ],
      "application/vnd.bokehjs_exec.v0+json": ""
     },
     "metadata": {
      "application/vnd.bokehjs_exec.v0+json": {
       "id": "14122"
      }
     },
     "output_type": "display_data"
    },
    {
     "data": {
      "text/html": [
       "\n",
       "\n",
       "\n",
       "\n",
       "\n",
       "\n",
       "  <div class=\"bk-root\" id=\"5a311960-0a2d-4b51-b562-9a5be496cb21\" data-root-id=\"14652\"></div>\n"
      ]
     },
     "metadata": {},
     "output_type": "display_data"
    },
    {
     "data": {
      "application/javascript": [
       "(function(root) {\n",
       "  function embed_document(root) {\n",
       "    \n",
       "  var docs_json = {\"cadcc63e-efee-4cc3-a020-676e16c2b295\":{\"roots\":{\"references\":[{\"attributes\":{\"below\":[{\"id\":\"14663\"}],\"center\":[{\"id\":\"14665\"},{\"id\":\"14669\"},{\"id\":\"14695\"}],\"left\":[{\"id\":\"14666\"}],\"plot_height\":400,\"plot_width\":700,\"renderers\":[{\"id\":\"14687\"},{\"id\":\"14700\"}],\"title\":{\"id\":\"14653\"},\"toolbar\":{\"id\":\"14677\"},\"x_range\":{\"id\":\"14655\"},\"x_scale\":{\"id\":\"14659\"},\"y_range\":{\"id\":\"14657\"},\"y_scale\":{\"id\":\"14661\"}},\"id\":\"14652\",\"subtype\":\"Figure\",\"type\":\"Plot\"},{\"attributes\":{\"fill_alpha\":{\"value\":0.5},\"fill_color\":{\"value\":\"#1f77b4\"},\"line_alpha\":{\"value\":0.5},\"line_color\":{\"value\":\"#1f77b4\"},\"top\":{\"field\":\"top\"},\"width\":{\"value\":1},\"x\":{\"field\":\"x\"}},\"id\":\"14698\",\"type\":\"VBar\"},{\"attributes\":{},\"id\":\"14670\",\"type\":\"PanTool\"},{\"attributes\":{},\"id\":\"15129\",\"type\":\"Selection\"},{\"attributes\":{},\"id\":\"14671\",\"type\":\"WheelZoomTool\"},{\"attributes\":{},\"id\":\"15130\",\"type\":\"UnionRenderers\"},{\"attributes\":{\"overlay\":{\"id\":\"14676\"}},\"id\":\"14672\",\"type\":\"BoxZoomTool\"},{\"attributes\":{\"label\":{\"value\":\"Moyenne de tous les d\\u00e9put\\u00e9s fran\\u00e7ais\"},\"renderers\":[{\"id\":\"14687\"}]},\"id\":\"14696\",\"type\":\"LegendItem\"},{\"attributes\":{\"data\":{\"x\":[\"2019-02\",\"2019-03\",\"2019-04\",\"2019-07\",\"2019-09\",\"2019-10\",\"2019-11\",\"2019-12\",\"2020-01\",\"2020-02\",\"2020-03\",\"2020-04\",\"2020-05\",\"2020-06\",\"2020-07\"],\"y\":[1.0379746835443038,1.8101265822784811,1.4430379746835442,2.1772151898734178,4.139240506329114,5.556962025316456,5.734177215189874,3.392405063291139,5.139240506329114,3.5443037974683542,2,3,4,3.9873417721518987,4]},\"selected\":{\"id\":\"15129\"},\"selection_policy\":{\"id\":\"15128\"}},\"id\":\"14684\",\"type\":\"ColumnDataSource\"},{\"attributes\":{},\"id\":\"15131\",\"type\":\"Selection\"},{\"attributes\":{},\"id\":\"14673\",\"type\":\"SaveTool\"},{\"attributes\":{\"line_alpha\":{\"value\":0.8},\"line_color\":{\"value\":\"red\"},\"line_width\":{\"value\":2},\"x\":{\"field\":\"x\"},\"y\":{\"field\":\"y\"}},\"id\":\"14685\",\"type\":\"Step\"},{\"attributes\":{},\"id\":\"14674\",\"type\":\"ResetTool\"},{\"attributes\":{\"line_alpha\":{\"value\":0.1},\"line_color\":{\"value\":\"red\"},\"line_width\":{\"value\":2},\"x\":{\"field\":\"x\"},\"y\":{\"field\":\"y\"}},\"id\":\"14686\",\"type\":\"Step\"},{\"attributes\":{},\"id\":\"14675\",\"type\":\"HelpTool\"},{\"attributes\":{\"factors\":[\"2019-02\",\"2019-03\",\"2019-04\",\"2019-07\",\"2019-09\",\"2019-10\",\"2019-11\",\"2019-12\",\"2020-01\",\"2020-02\",\"2020-03\",\"2020-04\",\"2020-05\",\"2020-06\",\"2020-07\"]},\"id\":\"14655\",\"type\":\"FactorRange\"},{\"attributes\":{\"data_source\":{\"id\":\"14697\"},\"glyph\":{\"id\":\"14698\"},\"hover_glyph\":null,\"muted_glyph\":null,\"nonselection_glyph\":{\"id\":\"14699\"},\"selection_glyph\":null,\"view\":{\"id\":\"14701\"}},\"id\":\"14700\",\"type\":\"GlyphRenderer\"},{\"attributes\":{\"active_drag\":\"auto\",\"active_inspect\":\"auto\",\"active_multi\":null,\"active_scroll\":\"auto\",\"active_tap\":\"auto\",\"tools\":[{\"id\":\"14670\"},{\"id\":\"14671\"},{\"id\":\"14672\"},{\"id\":\"14673\"},{\"id\":\"14674\"},{\"id\":\"14675\"}]},\"id\":\"14677\",\"type\":\"Toolbar\"},{\"attributes\":{\"fill_alpha\":{\"value\":0.1},\"fill_color\":{\"value\":\"#1f77b4\"},\"line_alpha\":{\"value\":0.1},\"line_color\":{\"value\":\"#1f77b4\"},\"top\":{\"field\":\"top\"},\"width\":{\"value\":1},\"x\":{\"field\":\"x\"}},\"id\":\"14699\",\"type\":\"VBar\"},{\"attributes\":{},\"id\":\"14667\",\"type\":\"BasicTicker\"},{\"attributes\":{\"axis\":{\"id\":\"14666\"},\"dimension\":1,\"grid_line_color\":null,\"ticker\":null},\"id\":\"14669\",\"type\":\"Grid\"},{\"attributes\":{\"formatter\":{\"id\":\"14690\"},\"ticker\":{\"id\":\"14667\"}},\"id\":\"14666\",\"type\":\"LinearAxis\"},{\"attributes\":{\"bottom_units\":\"screen\",\"fill_alpha\":0.5,\"fill_color\":\"lightgrey\",\"left_units\":\"screen\",\"level\":\"overlay\",\"line_alpha\":1.0,\"line_color\":\"black\",\"line_dash\":[4,4],\"line_width\":2,\"render_mode\":\"css\",\"right_units\":\"screen\",\"top_units\":\"screen\"},\"id\":\"14676\",\"type\":\"BoxAnnotation\"},{\"attributes\":{\"axis\":{\"id\":\"14663\"},\"grid_line_color\":null,\"ticker\":null},\"id\":\"14665\",\"type\":\"Grid\"},{\"attributes\":{},\"id\":\"14664\",\"type\":\"CategoricalTicker\"},{\"attributes\":{\"data_source\":{\"id\":\"14684\"},\"glyph\":{\"id\":\"14685\"},\"hover_glyph\":null,\"muted_glyph\":null,\"nonselection_glyph\":{\"id\":\"14686\"},\"selection_glyph\":null,\"view\":{\"id\":\"14688\"}},\"id\":\"14687\",\"type\":\"GlyphRenderer\"},{\"attributes\":{\"source\":{\"id\":\"14684\"}},\"id\":\"14688\",\"type\":\"CDSView\"},{\"attributes\":{},\"id\":\"14690\",\"type\":\"BasicTickFormatter\"},{\"attributes\":{\"formatter\":{\"id\":\"14692\"},\"major_label_orientation\":\"vertical\",\"ticker\":{\"id\":\"14664\"}},\"id\":\"14663\",\"type\":\"CategoricalAxis\"},{\"attributes\":{},\"id\":\"14692\",\"type\":\"CategoricalTickFormatter\"},{\"attributes\":{},\"id\":\"14661\",\"type\":\"LinearScale\"},{\"attributes\":{},\"id\":\"14659\",\"type\":\"CategoricalScale\"},{\"attributes\":{},\"id\":\"15128\",\"type\":\"UnionRenderers\"},{\"attributes\":{\"data\":{\"top\":[4,6,7,3,4,7,6,4,6,4,2,3,4,4,4],\"x\":[\"2019-02\",\"2019-03\",\"2019-04\",\"2019-07\",\"2019-09\",\"2019-10\",\"2019-11\",\"2019-12\",\"2020-01\",\"2020-02\",\"2020-03\",\"2020-04\",\"2020-05\",\"2020-06\",\"2020-07\"]},\"selected\":{\"id\":\"15131\"},\"selection_policy\":{\"id\":\"15130\"}},\"id\":\"14697\",\"type\":\"ColumnDataSource\"},{\"attributes\":{\"items\":[{\"id\":\"14696\"}]},\"id\":\"14695\",\"type\":\"Legend\"},{\"attributes\":{\"text\":\"Jours o\\u00f9 Karima DELLI \\u00e0 vot\\u00e9 (68)\"},\"id\":\"14653\",\"type\":\"Title\"},{\"attributes\":{\"source\":{\"id\":\"14697\"}},\"id\":\"14701\",\"type\":\"CDSView\"},{\"attributes\":{\"start\":0},\"id\":\"14657\",\"type\":\"DataRange1d\"}],\"root_ids\":[\"14652\"]},\"title\":\"Bokeh Application\",\"version\":\"2.0.1\"}};\n",
       "  var render_items = [{\"docid\":\"cadcc63e-efee-4cc3-a020-676e16c2b295\",\"root_ids\":[\"14652\"],\"roots\":{\"14652\":\"5a311960-0a2d-4b51-b562-9a5be496cb21\"}}];\n",
       "  root.Bokeh.embed.embed_items_notebook(docs_json, render_items);\n",
       "\n",
       "  }\n",
       "  if (root.Bokeh !== undefined) {\n",
       "    embed_document(root);\n",
       "  } else {\n",
       "    var attempts = 0;\n",
       "    var timer = setInterval(function(root) {\n",
       "      if (root.Bokeh !== undefined) {\n",
       "        clearInterval(timer);\n",
       "        embed_document(root);\n",
       "      } else {\n",
       "        attempts++;\n",
       "        if (attempts > 100) {\n",
       "          clearInterval(timer);\n",
       "          console.log(\"Bokeh: ERROR: Unable to run BokehJS code because BokehJS library is missing\");\n",
       "        }\n",
       "      }\n",
       "    }, 10, root)\n",
       "  }\n",
       "})(window);"
      ],
      "application/vnd.bokehjs_exec.v0+json": ""
     },
     "metadata": {
      "application/vnd.bokehjs_exec.v0+json": {
       "id": "14652"
      }
     },
     "output_type": "display_data"
    },
    {
     "data": {
      "text/html": [
       "\n",
       "\n",
       "\n",
       "\n",
       "\n",
       "\n",
       "  <div class=\"bk-root\" id=\"0c192c00-dd20-450b-937e-aaef2a74a5ad\" data-root-id=\"15192\"></div>\n"
      ]
     },
     "metadata": {},
     "output_type": "display_data"
    },
    {
     "data": {
      "application/javascript": [
       "(function(root) {\n",
       "  function embed_document(root) {\n",
       "    \n",
       "  var docs_json = {\"2d2f315f-a565-4a82-8983-7c44df3cd562\":{\"roots\":{\"references\":[{\"attributes\":{\"below\":[{\"id\":\"15203\"}],\"center\":[{\"id\":\"15205\"},{\"id\":\"15209\"},{\"id\":\"15235\"}],\"left\":[{\"id\":\"15206\"}],\"plot_height\":400,\"plot_width\":700,\"renderers\":[{\"id\":\"15227\"},{\"id\":\"15240\"}],\"title\":{\"id\":\"15193\"},\"toolbar\":{\"id\":\"15217\"},\"x_range\":{\"id\":\"15195\"},\"x_scale\":{\"id\":\"15199\"},\"y_range\":{\"id\":\"15197\"},\"y_scale\":{\"id\":\"15201\"}},\"id\":\"15192\",\"subtype\":\"Figure\",\"type\":\"Plot\"},{\"attributes\":{\"source\":{\"id\":\"15237\"}},\"id\":\"15241\",\"type\":\"CDSView\"},{\"attributes\":{},\"id\":\"15678\",\"type\":\"UnionRenderers\"},{\"attributes\":{\"fill_alpha\":{\"value\":0.5},\"fill_color\":{\"value\":\"#1f77b4\"},\"line_alpha\":{\"value\":0.5},\"line_color\":{\"value\":\"#1f77b4\"},\"top\":{\"field\":\"top\"},\"width\":{\"value\":1},\"x\":{\"field\":\"x\"}},\"id\":\"15238\",\"type\":\"VBar\"},{\"attributes\":{\"bottom_units\":\"screen\",\"fill_alpha\":0.5,\"fill_color\":\"lightgrey\",\"left_units\":\"screen\",\"level\":\"overlay\",\"line_alpha\":1.0,\"line_color\":\"black\",\"line_dash\":[4,4],\"line_width\":2,\"render_mode\":\"css\",\"right_units\":\"screen\",\"top_units\":\"screen\"},\"id\":\"15216\",\"type\":\"BoxAnnotation\"},{\"attributes\":{},\"id\":\"15214\",\"type\":\"ResetTool\"},{\"attributes\":{\"fill_alpha\":{\"value\":0.1},\"fill_color\":{\"value\":\"#1f77b4\"},\"line_alpha\":{\"value\":0.1},\"line_color\":{\"value\":\"#1f77b4\"},\"top\":{\"field\":\"top\"},\"width\":{\"value\":1},\"x\":{\"field\":\"x\"}},\"id\":\"15239\",\"type\":\"VBar\"},{\"attributes\":{},\"id\":\"15679\",\"type\":\"Selection\"},{\"attributes\":{},\"id\":\"15213\",\"type\":\"SaveTool\"},{\"attributes\":{},\"id\":\"15211\",\"type\":\"WheelZoomTool\"},{\"attributes\":{},\"id\":\"15232\",\"type\":\"CategoricalTickFormatter\"},{\"attributes\":{},\"id\":\"15681\",\"type\":\"Selection\"},{\"attributes\":{\"overlay\":{\"id\":\"15216\"}},\"id\":\"15212\",\"type\":\"BoxZoomTool\"},{\"attributes\":{},\"id\":\"15210\",\"type\":\"PanTool\"},{\"attributes\":{\"data\":{\"x\":[\"2019-02\",\"2019-03\",\"2019-04\",\"2019-07\",\"2019-09\",\"2019-10\",\"2019-11\",\"2019-12\",\"2020-01\",\"2020-02\",\"2020-03\",\"2020-04\",\"2020-05\",\"2020-06\",\"2020-07\"],\"y\":[1.0379746835443038,1.8101265822784811,1.4430379746835442,2.1772151898734178,4.139240506329114,5.556962025316456,5.734177215189874,3.392405063291139,5.139240506329114,3.5443037974683542,2,3,4,3.9873417721518987,4]},\"selected\":{\"id\":\"15679\"},\"selection_policy\":{\"id\":\"15678\"}},\"id\":\"15224\",\"type\":\"ColumnDataSource\"},{\"attributes\":{},\"id\":\"15680\",\"type\":\"UnionRenderers\"},{\"attributes\":{},\"id\":\"15215\",\"type\":\"HelpTool\"},{\"attributes\":{\"line_alpha\":{\"value\":0.8},\"line_color\":{\"value\":\"red\"},\"line_width\":{\"value\":2},\"x\":{\"field\":\"x\"},\"y\":{\"field\":\"y\"}},\"id\":\"15225\",\"type\":\"Step\"},{\"attributes\":{\"factors\":[\"2019-02\",\"2019-03\",\"2019-04\",\"2019-07\",\"2019-09\",\"2019-10\",\"2019-11\",\"2019-12\",\"2020-01\",\"2020-02\",\"2020-03\",\"2020-04\",\"2020-05\",\"2020-06\",\"2020-07\"]},\"id\":\"15195\",\"type\":\"FactorRange\"},{\"attributes\":{\"source\":{\"id\":\"15224\"}},\"id\":\"15228\",\"type\":\"CDSView\"},{\"attributes\":{\"axis\":{\"id\":\"15206\"},\"dimension\":1,\"grid_line_color\":null,\"ticker\":null},\"id\":\"15209\",\"type\":\"Grid\"},{\"attributes\":{\"formatter\":{\"id\":\"15230\"},\"ticker\":{\"id\":\"15207\"}},\"id\":\"15206\",\"type\":\"LinearAxis\"},{\"attributes\":{},\"id\":\"15207\",\"type\":\"BasicTicker\"},{\"attributes\":{\"active_drag\":\"auto\",\"active_inspect\":\"auto\",\"active_multi\":null,\"active_scroll\":\"auto\",\"active_tap\":\"auto\",\"tools\":[{\"id\":\"15210\"},{\"id\":\"15211\"},{\"id\":\"15212\"},{\"id\":\"15213\"},{\"id\":\"15214\"},{\"id\":\"15215\"}]},\"id\":\"15217\",\"type\":\"Toolbar\"},{\"attributes\":{\"axis\":{\"id\":\"15203\"},\"grid_line_color\":null,\"ticker\":null},\"id\":\"15205\",\"type\":\"Grid\"},{\"attributes\":{\"data\":{\"top\":[4,7,5,3,5,6,7,4,6,4,2,3,4,4,4],\"x\":[\"2019-02\",\"2019-03\",\"2019-04\",\"2019-07\",\"2019-09\",\"2019-10\",\"2019-11\",\"2019-12\",\"2020-01\",\"2020-02\",\"2020-03\",\"2020-04\",\"2020-05\",\"2020-06\",\"2020-07\"]},\"selected\":{\"id\":\"15681\"},\"selection_policy\":{\"id\":\"15680\"}},\"id\":\"15237\",\"type\":\"ColumnDataSource\"},{\"attributes\":{},\"id\":\"15204\",\"type\":\"CategoricalTicker\"},{\"attributes\":{\"formatter\":{\"id\":\"15232\"},\"major_label_orientation\":\"vertical\",\"ticker\":{\"id\":\"15204\"}},\"id\":\"15203\",\"type\":\"CategoricalAxis\"},{\"attributes\":{\"data_source\":{\"id\":\"15224\"},\"glyph\":{\"id\":\"15225\"},\"hover_glyph\":null,\"muted_glyph\":null,\"nonselection_glyph\":{\"id\":\"15226\"},\"selection_glyph\":null,\"view\":{\"id\":\"15228\"}},\"id\":\"15227\",\"type\":\"GlyphRenderer\"},{\"attributes\":{},\"id\":\"15230\",\"type\":\"BasicTickFormatter\"},{\"attributes\":{\"items\":[{\"id\":\"15236\"}]},\"id\":\"15235\",\"type\":\"Legend\"},{\"attributes\":{\"text\":\"Jours o\\u00f9 Younous OMARJEE \\u00e0 vot\\u00e9 (68)\"},\"id\":\"15193\",\"type\":\"Title\"},{\"attributes\":{},\"id\":\"15201\",\"type\":\"LinearScale\"},{\"attributes\":{\"line_alpha\":{\"value\":0.1},\"line_color\":{\"value\":\"red\"},\"line_width\":{\"value\":2},\"x\":{\"field\":\"x\"},\"y\":{\"field\":\"y\"}},\"id\":\"15226\",\"type\":\"Step\"},{\"attributes\":{},\"id\":\"15199\",\"type\":\"CategoricalScale\"},{\"attributes\":{\"label\":{\"value\":\"Moyenne de tous les d\\u00e9put\\u00e9s fran\\u00e7ais\"},\"renderers\":[{\"id\":\"15227\"}]},\"id\":\"15236\",\"type\":\"LegendItem\"},{\"attributes\":{\"data_source\":{\"id\":\"15237\"},\"glyph\":{\"id\":\"15238\"},\"hover_glyph\":null,\"muted_glyph\":null,\"nonselection_glyph\":{\"id\":\"15239\"},\"selection_glyph\":null,\"view\":{\"id\":\"15241\"}},\"id\":\"15240\",\"type\":\"GlyphRenderer\"},{\"attributes\":{\"start\":0},\"id\":\"15197\",\"type\":\"DataRange1d\"}],\"root_ids\":[\"15192\"]},\"title\":\"Bokeh Application\",\"version\":\"2.0.1\"}};\n",
       "  var render_items = [{\"docid\":\"2d2f315f-a565-4a82-8983-7c44df3cd562\",\"root_ids\":[\"15192\"],\"roots\":{\"15192\":\"0c192c00-dd20-450b-937e-aaef2a74a5ad\"}}];\n",
       "  root.Bokeh.embed.embed_items_notebook(docs_json, render_items);\n",
       "\n",
       "  }\n",
       "  if (root.Bokeh !== undefined) {\n",
       "    embed_document(root);\n",
       "  } else {\n",
       "    var attempts = 0;\n",
       "    var timer = setInterval(function(root) {\n",
       "      if (root.Bokeh !== undefined) {\n",
       "        clearInterval(timer);\n",
       "        embed_document(root);\n",
       "      } else {\n",
       "        attempts++;\n",
       "        if (attempts > 100) {\n",
       "          clearInterval(timer);\n",
       "          console.log(\"Bokeh: ERROR: Unable to run BokehJS code because BokehJS library is missing\");\n",
       "        }\n",
       "      }\n",
       "    }, 10, root)\n",
       "  }\n",
       "})(window);"
      ],
      "application/vnd.bokehjs_exec.v0+json": ""
     },
     "metadata": {
      "application/vnd.bokehjs_exec.v0+json": {
       "id": "15192"
      }
     },
     "output_type": "display_data"
    },
    {
     "data": {
      "text/html": [
       "\n",
       "\n",
       "\n",
       "\n",
       "\n",
       "\n",
       "  <div class=\"bk-root\" id=\"6e9b013d-0553-471c-be42-94a1fca39e53\" data-root-id=\"15742\"></div>\n"
      ]
     },
     "metadata": {},
     "output_type": "display_data"
    },
    {
     "data": {
      "application/javascript": [
       "(function(root) {\n",
       "  function embed_document(root) {\n",
       "    \n",
       "  var docs_json = {\"aa23b011-b081-41f5-81a3-0ec24084e444\":{\"roots\":{\"references\":[{\"attributes\":{\"below\":[{\"id\":\"15753\"}],\"center\":[{\"id\":\"15755\"},{\"id\":\"15759\"},{\"id\":\"15785\"}],\"left\":[{\"id\":\"15756\"}],\"plot_height\":400,\"plot_width\":700,\"renderers\":[{\"id\":\"15777\"},{\"id\":\"15790\"}],\"title\":{\"id\":\"15743\"},\"toolbar\":{\"id\":\"15767\"},\"x_range\":{\"id\":\"15745\"},\"x_scale\":{\"id\":\"15749\"},\"y_range\":{\"id\":\"15747\"},\"y_scale\":{\"id\":\"15751\"}},\"id\":\"15742\",\"subtype\":\"Figure\",\"type\":\"Plot\"},{\"attributes\":{\"fill_alpha\":{\"value\":0.1},\"fill_color\":{\"value\":\"#1f77b4\"},\"line_alpha\":{\"value\":0.1},\"line_color\":{\"value\":\"#1f77b4\"},\"top\":{\"field\":\"top\"},\"width\":{\"value\":1},\"x\":{\"field\":\"x\"}},\"id\":\"15789\",\"type\":\"VBar\"},{\"attributes\":{\"axis\":{\"id\":\"15756\"},\"dimension\":1,\"grid_line_color\":null,\"ticker\":null},\"id\":\"15759\",\"type\":\"Grid\"},{\"attributes\":{\"data_source\":{\"id\":\"15787\"},\"glyph\":{\"id\":\"15788\"},\"hover_glyph\":null,\"muted_glyph\":null,\"nonselection_glyph\":{\"id\":\"15789\"},\"selection_glyph\":null,\"view\":{\"id\":\"15791\"}},\"id\":\"15790\",\"type\":\"GlyphRenderer\"},{\"attributes\":{\"line_alpha\":{\"value\":0.8},\"line_color\":{\"value\":\"red\"},\"line_width\":{\"value\":2},\"x\":{\"field\":\"x\"},\"y\":{\"field\":\"y\"}},\"id\":\"15775\",\"type\":\"Step\"},{\"attributes\":{\"source\":{\"id\":\"15787\"}},\"id\":\"15791\",\"type\":\"CDSView\"},{\"attributes\":{\"fill_alpha\":{\"value\":0.5},\"fill_color\":{\"value\":\"#1f77b4\"},\"line_alpha\":{\"value\":0.5},\"line_color\":{\"value\":\"#1f77b4\"},\"top\":{\"field\":\"top\"},\"width\":{\"value\":1},\"x\":{\"field\":\"x\"}},\"id\":\"15788\",\"type\":\"VBar\"},{\"attributes\":{},\"id\":\"15760\",\"type\":\"PanTool\"},{\"attributes\":{\"formatter\":{\"id\":\"15780\"},\"ticker\":{\"id\":\"15757\"}},\"id\":\"15756\",\"type\":\"LinearAxis\"},{\"attributes\":{},\"id\":\"16239\",\"type\":\"Selection\"},{\"attributes\":{},\"id\":\"15761\",\"type\":\"WheelZoomTool\"},{\"attributes\":{},\"id\":\"16240\",\"type\":\"UnionRenderers\"},{\"attributes\":{\"overlay\":{\"id\":\"15766\"}},\"id\":\"15762\",\"type\":\"BoxZoomTool\"},{\"attributes\":{},\"id\":\"16241\",\"type\":\"Selection\"},{\"attributes\":{},\"id\":\"15763\",\"type\":\"SaveTool\"},{\"attributes\":{\"source\":{\"id\":\"15774\"}},\"id\":\"15778\",\"type\":\"CDSView\"},{\"attributes\":{},\"id\":\"15764\",\"type\":\"ResetTool\"},{\"attributes\":{\"data\":{\"x\":[\"2019-02\",\"2019-03\",\"2019-04\",\"2019-07\",\"2019-09\",\"2019-10\",\"2019-11\",\"2019-12\",\"2020-01\",\"2020-02\",\"2020-03\",\"2020-04\",\"2020-05\",\"2020-06\",\"2020-07\"],\"y\":[1.0379746835443038,1.8101265822784811,1.4430379746835442,2.1772151898734178,4.139240506329114,5.556962025316456,5.734177215189874,3.392405063291139,5.139240506329114,3.5443037974683542,2,3,4,3.9873417721518987,4]},\"selected\":{\"id\":\"16239\"},\"selection_policy\":{\"id\":\"16238\"}},\"id\":\"15774\",\"type\":\"ColumnDataSource\"},{\"attributes\":{},\"id\":\"15757\",\"type\":\"BasicTicker\"},{\"attributes\":{},\"id\":\"15749\",\"type\":\"CategoricalScale\"},{\"attributes\":{},\"id\":\"15765\",\"type\":\"HelpTool\"},{\"attributes\":{},\"id\":\"16238\",\"type\":\"UnionRenderers\"},{\"attributes\":{},\"id\":\"15751\",\"type\":\"LinearScale\"},{\"attributes\":{\"bottom_units\":\"screen\",\"fill_alpha\":0.5,\"fill_color\":\"lightgrey\",\"left_units\":\"screen\",\"level\":\"overlay\",\"line_alpha\":1.0,\"line_color\":\"black\",\"line_dash\":[4,4],\"line_width\":2,\"render_mode\":\"css\",\"right_units\":\"screen\",\"top_units\":\"screen\"},\"id\":\"15766\",\"type\":\"BoxAnnotation\"},{\"attributes\":{\"factors\":[\"2019-02\",\"2019-03\",\"2019-04\",\"2019-07\",\"2019-09\",\"2019-10\",\"2019-11\",\"2019-12\",\"2020-01\",\"2020-02\",\"2020-03\",\"2020-04\",\"2020-05\",\"2020-06\",\"2020-07\"]},\"id\":\"15745\",\"type\":\"FactorRange\"},{\"attributes\":{\"items\":[{\"id\":\"15786\"}]},\"id\":\"15785\",\"type\":\"Legend\"},{\"attributes\":{\"axis\":{\"id\":\"15753\"},\"grid_line_color\":null,\"ticker\":null},\"id\":\"15755\",\"type\":\"Grid\"},{\"attributes\":{},\"id\":\"15782\",\"type\":\"CategoricalTickFormatter\"},{\"attributes\":{\"formatter\":{\"id\":\"15782\"},\"major_label_orientation\":\"vertical\",\"ticker\":{\"id\":\"15754\"}},\"id\":\"15753\",\"type\":\"CategoricalAxis\"},{\"attributes\":{\"label\":{\"value\":\"Moyenne de tous les d\\u00e9put\\u00e9s fran\\u00e7ais\"},\"renderers\":[{\"id\":\"15777\"}]},\"id\":\"15786\",\"type\":\"LegendItem\"},{\"attributes\":{},\"id\":\"15754\",\"type\":\"CategoricalTicker\"},{\"attributes\":{\"active_drag\":\"auto\",\"active_inspect\":\"auto\",\"active_multi\":null,\"active_scroll\":\"auto\",\"active_tap\":\"auto\",\"tools\":[{\"id\":\"15760\"},{\"id\":\"15761\"},{\"id\":\"15762\"},{\"id\":\"15763\"},{\"id\":\"15764\"},{\"id\":\"15765\"}]},\"id\":\"15767\",\"type\":\"Toolbar\"},{\"attributes\":{},\"id\":\"15780\",\"type\":\"BasicTickFormatter\"},{\"attributes\":{\"data_source\":{\"id\":\"15774\"},\"glyph\":{\"id\":\"15775\"},\"hover_glyph\":null,\"muted_glyph\":null,\"nonselection_glyph\":{\"id\":\"15776\"},\"selection_glyph\":null,\"view\":{\"id\":\"15778\"}},\"id\":\"15777\",\"type\":\"GlyphRenderer\"},{\"attributes\":{\"data\":{\"top\":[5,6,7,2,5,7,6,4,6,4,2,3,4,4,4],\"x\":[\"2019-02\",\"2019-03\",\"2019-04\",\"2019-07\",\"2019-09\",\"2019-10\",\"2019-11\",\"2019-12\",\"2020-01\",\"2020-02\",\"2020-03\",\"2020-04\",\"2020-05\",\"2020-06\",\"2020-07\"]},\"selected\":{\"id\":\"16241\"},\"selection_policy\":{\"id\":\"16240\"}},\"id\":\"15787\",\"type\":\"ColumnDataSource\"},{\"attributes\":{\"start\":0},\"id\":\"15747\",\"type\":\"DataRange1d\"},{\"attributes\":{\"line_alpha\":{\"value\":0.1},\"line_color\":{\"value\":\"red\"},\"line_width\":{\"value\":2},\"x\":{\"field\":\"x\"},\"y\":{\"field\":\"y\"}},\"id\":\"15776\",\"type\":\"Step\"},{\"attributes\":{\"text\":\"Jours o\\u00f9 Pascal DURAND \\u00e0 vot\\u00e9 (69)\"},\"id\":\"15743\",\"type\":\"Title\"}],\"root_ids\":[\"15742\"]},\"title\":\"Bokeh Application\",\"version\":\"2.0.1\"}};\n",
       "  var render_items = [{\"docid\":\"aa23b011-b081-41f5-81a3-0ec24084e444\",\"root_ids\":[\"15742\"],\"roots\":{\"15742\":\"6e9b013d-0553-471c-be42-94a1fca39e53\"}}];\n",
       "  root.Bokeh.embed.embed_items_notebook(docs_json, render_items);\n",
       "\n",
       "  }\n",
       "  if (root.Bokeh !== undefined) {\n",
       "    embed_document(root);\n",
       "  } else {\n",
       "    var attempts = 0;\n",
       "    var timer = setInterval(function(root) {\n",
       "      if (root.Bokeh !== undefined) {\n",
       "        clearInterval(timer);\n",
       "        embed_document(root);\n",
       "      } else {\n",
       "        attempts++;\n",
       "        if (attempts > 100) {\n",
       "          clearInterval(timer);\n",
       "          console.log(\"Bokeh: ERROR: Unable to run BokehJS code because BokehJS library is missing\");\n",
       "        }\n",
       "      }\n",
       "    }, 10, root)\n",
       "  }\n",
       "})(window);"
      ],
      "application/vnd.bokehjs_exec.v0+json": ""
     },
     "metadata": {
      "application/vnd.bokehjs_exec.v0+json": {
       "id": "15742"
      }
     },
     "output_type": "display_data"
    },
    {
     "data": {
      "text/html": [
       "\n",
       "\n",
       "\n",
       "\n",
       "\n",
       "\n",
       "  <div class=\"bk-root\" id=\"307f4384-1dc1-4695-9451-943ee3ff8e5d\" data-root-id=\"16302\"></div>\n"
      ]
     },
     "metadata": {},
     "output_type": "display_data"
    },
    {
     "data": {
      "application/javascript": [
       "(function(root) {\n",
       "  function embed_document(root) {\n",
       "    \n",
       "  var docs_json = {\"3963f770-6e2e-4c2a-9fa0-965c1a1b8ff6\":{\"roots\":{\"references\":[{\"attributes\":{\"below\":[{\"id\":\"16313\"}],\"center\":[{\"id\":\"16315\"},{\"id\":\"16319\"},{\"id\":\"16345\"}],\"left\":[{\"id\":\"16316\"}],\"plot_height\":400,\"plot_width\":700,\"renderers\":[{\"id\":\"16337\"},{\"id\":\"16350\"}],\"title\":{\"id\":\"16303\"},\"toolbar\":{\"id\":\"16327\"},\"x_range\":{\"id\":\"16305\"},\"x_scale\":{\"id\":\"16309\"},\"y_range\":{\"id\":\"16307\"},\"y_scale\":{\"id\":\"16311\"}},\"id\":\"16302\",\"subtype\":\"Figure\",\"type\":\"Plot\"},{\"attributes\":{\"line_alpha\":{\"value\":0.1},\"line_color\":{\"value\":\"red\"},\"line_width\":{\"value\":2},\"x\":{\"field\":\"x\"},\"y\":{\"field\":\"y\"}},\"id\":\"16336\",\"type\":\"Step\"},{\"attributes\":{\"formatter\":{\"id\":\"16340\"},\"ticker\":{\"id\":\"16317\"}},\"id\":\"16316\",\"type\":\"LinearAxis\"},{\"attributes\":{},\"id\":\"16342\",\"type\":\"CategoricalTickFormatter\"},{\"attributes\":{},\"id\":\"16317\",\"type\":\"BasicTicker\"},{\"attributes\":{\"items\":[{\"id\":\"16346\"}]},\"id\":\"16345\",\"type\":\"Legend\"},{\"attributes\":{\"axis\":{\"id\":\"16316\"},\"dimension\":1,\"grid_line_color\":null,\"ticker\":null},\"id\":\"16319\",\"type\":\"Grid\"},{\"attributes\":{\"label\":{\"value\":\"Moyenne de tous les d\\u00e9put\\u00e9s fran\\u00e7ais\"},\"renderers\":[{\"id\":\"16337\"}]},\"id\":\"16346\",\"type\":\"LegendItem\"},{\"attributes\":{\"line_alpha\":{\"value\":0.8},\"line_color\":{\"value\":\"red\"},\"line_width\":{\"value\":2},\"x\":{\"field\":\"x\"},\"y\":{\"field\":\"y\"}},\"id\":\"16335\",\"type\":\"Step\"},{\"attributes\":{},\"id\":\"16808\",\"type\":\"UnionRenderers\"},{\"attributes\":{\"data\":{\"top\":[5,8,5,2,4,7,7,4,6,4,2,3,4,4,4],\"x\":[\"2019-02\",\"2019-03\",\"2019-04\",\"2019-07\",\"2019-09\",\"2019-10\",\"2019-11\",\"2019-12\",\"2020-01\",\"2020-02\",\"2020-03\",\"2020-04\",\"2020-05\",\"2020-06\",\"2020-07\"]},\"selected\":{\"id\":\"16811\"},\"selection_policy\":{\"id\":\"16810\"}},\"id\":\"16347\",\"type\":\"ColumnDataSource\"},{\"attributes\":{},\"id\":\"16340\",\"type\":\"BasicTickFormatter\"},{\"attributes\":{},\"id\":\"16320\",\"type\":\"PanTool\"},{\"attributes\":{\"fill_alpha\":{\"value\":0.1},\"fill_color\":{\"value\":\"#1f77b4\"},\"line_alpha\":{\"value\":0.1},\"line_color\":{\"value\":\"#1f77b4\"},\"top\":{\"field\":\"top\"},\"width\":{\"value\":1},\"x\":{\"field\":\"x\"}},\"id\":\"16349\",\"type\":\"VBar\"},{\"attributes\":{},\"id\":\"16321\",\"type\":\"WheelZoomTool\"},{\"attributes\":{\"data_source\":{\"id\":\"16347\"},\"glyph\":{\"id\":\"16348\"},\"hover_glyph\":null,\"muted_glyph\":null,\"nonselection_glyph\":{\"id\":\"16349\"},\"selection_glyph\":null,\"view\":{\"id\":\"16351\"}},\"id\":\"16350\",\"type\":\"GlyphRenderer\"},{\"attributes\":{\"overlay\":{\"id\":\"16326\"}},\"id\":\"16322\",\"type\":\"BoxZoomTool\"},{\"attributes\":{\"active_drag\":\"auto\",\"active_inspect\":\"auto\",\"active_multi\":null,\"active_scroll\":\"auto\",\"active_tap\":\"auto\",\"tools\":[{\"id\":\"16320\"},{\"id\":\"16321\"},{\"id\":\"16322\"},{\"id\":\"16323\"},{\"id\":\"16324\"},{\"id\":\"16325\"}]},\"id\":\"16327\",\"type\":\"Toolbar\"},{\"attributes\":{\"source\":{\"id\":\"16347\"}},\"id\":\"16351\",\"type\":\"CDSView\"},{\"attributes\":{},\"id\":\"16323\",\"type\":\"SaveTool\"},{\"attributes\":{\"data\":{\"x\":[\"2019-02\",\"2019-03\",\"2019-04\",\"2019-07\",\"2019-09\",\"2019-10\",\"2019-11\",\"2019-12\",\"2020-01\",\"2020-02\",\"2020-03\",\"2020-04\",\"2020-05\",\"2020-06\",\"2020-07\"],\"y\":[1.0379746835443038,1.8101265822784811,1.4430379746835442,2.1772151898734178,4.139240506329114,5.556962025316456,5.734177215189874,3.392405063291139,5.139240506329114,3.5443037974683542,2,3,4,3.9873417721518987,4]},\"selected\":{\"id\":\"16809\"},\"selection_policy\":{\"id\":\"16808\"}},\"id\":\"16334\",\"type\":\"ColumnDataSource\"},{\"attributes\":{\"fill_alpha\":{\"value\":0.5},\"fill_color\":{\"value\":\"#1f77b4\"},\"line_alpha\":{\"value\":0.5},\"line_color\":{\"value\":\"#1f77b4\"},\"top\":{\"field\":\"top\"},\"width\":{\"value\":1},\"x\":{\"field\":\"x\"}},\"id\":\"16348\",\"type\":\"VBar\"},{\"attributes\":{},\"id\":\"16314\",\"type\":\"CategoricalTicker\"},{\"attributes\":{},\"id\":\"16809\",\"type\":\"Selection\"},{\"attributes\":{\"axis\":{\"id\":\"16313\"},\"grid_line_color\":null,\"ticker\":null},\"id\":\"16315\",\"type\":\"Grid\"},{\"attributes\":{},\"id\":\"16324\",\"type\":\"ResetTool\"},{\"attributes\":{},\"id\":\"16325\",\"type\":\"HelpTool\"},{\"attributes\":{\"start\":0},\"id\":\"16307\",\"type\":\"DataRange1d\"},{\"attributes\":{},\"id\":\"16810\",\"type\":\"UnionRenderers\"},{\"attributes\":{},\"id\":\"16811\",\"type\":\"Selection\"},{\"attributes\":{\"source\":{\"id\":\"16334\"}},\"id\":\"16338\",\"type\":\"CDSView\"},{\"attributes\":{\"data_source\":{\"id\":\"16334\"},\"glyph\":{\"id\":\"16335\"},\"hover_glyph\":null,\"muted_glyph\":null,\"nonselection_glyph\":{\"id\":\"16336\"},\"selection_glyph\":null,\"view\":{\"id\":\"16338\"}},\"id\":\"16337\",\"type\":\"GlyphRenderer\"},{\"attributes\":{\"formatter\":{\"id\":\"16342\"},\"major_label_orientation\":\"vertical\",\"ticker\":{\"id\":\"16314\"}},\"id\":\"16313\",\"type\":\"CategoricalAxis\"},{\"attributes\":{},\"id\":\"16311\",\"type\":\"LinearScale\"},{\"attributes\":{},\"id\":\"16309\",\"type\":\"CategoricalScale\"},{\"attributes\":{\"bottom_units\":\"screen\",\"fill_alpha\":0.5,\"fill_color\":\"lightgrey\",\"left_units\":\"screen\",\"level\":\"overlay\",\"line_alpha\":1.0,\"line_color\":\"black\",\"line_dash\":[4,4],\"line_width\":2,\"render_mode\":\"css\",\"right_units\":\"screen\",\"top_units\":\"screen\"},\"id\":\"16326\",\"type\":\"BoxAnnotation\"},{\"attributes\":{\"text\":\"Jours o\\u00f9 Dominique BILDE \\u00e0 vot\\u00e9 (69)\"},\"id\":\"16303\",\"type\":\"Title\"},{\"attributes\":{\"factors\":[\"2019-02\",\"2019-03\",\"2019-04\",\"2019-07\",\"2019-09\",\"2019-10\",\"2019-11\",\"2019-12\",\"2020-01\",\"2020-02\",\"2020-03\",\"2020-04\",\"2020-05\",\"2020-06\",\"2020-07\"]},\"id\":\"16305\",\"type\":\"FactorRange\"}],\"root_ids\":[\"16302\"]},\"title\":\"Bokeh Application\",\"version\":\"2.0.1\"}};\n",
       "  var render_items = [{\"docid\":\"3963f770-6e2e-4c2a-9fa0-965c1a1b8ff6\",\"root_ids\":[\"16302\"],\"roots\":{\"16302\":\"307f4384-1dc1-4695-9451-943ee3ff8e5d\"}}];\n",
       "  root.Bokeh.embed.embed_items_notebook(docs_json, render_items);\n",
       "\n",
       "  }\n",
       "  if (root.Bokeh !== undefined) {\n",
       "    embed_document(root);\n",
       "  } else {\n",
       "    var attempts = 0;\n",
       "    var timer = setInterval(function(root) {\n",
       "      if (root.Bokeh !== undefined) {\n",
       "        clearInterval(timer);\n",
       "        embed_document(root);\n",
       "      } else {\n",
       "        attempts++;\n",
       "        if (attempts > 100) {\n",
       "          clearInterval(timer);\n",
       "          console.log(\"Bokeh: ERROR: Unable to run BokehJS code because BokehJS library is missing\");\n",
       "        }\n",
       "      }\n",
       "    }, 10, root)\n",
       "  }\n",
       "})(window);"
      ],
      "application/vnd.bokehjs_exec.v0+json": ""
     },
     "metadata": {
      "application/vnd.bokehjs_exec.v0+json": {
       "id": "16302"
      }
     },
     "output_type": "display_data"
    },
    {
     "data": {
      "text/html": [
       "\n",
       "\n",
       "\n",
       "\n",
       "\n",
       "\n",
       "  <div class=\"bk-root\" id=\"09196cff-0fb8-432d-9f88-07f56cb9ecc5\" data-root-id=\"16872\"></div>\n"
      ]
     },
     "metadata": {},
     "output_type": "display_data"
    },
    {
     "data": {
      "application/javascript": [
       "(function(root) {\n",
       "  function embed_document(root) {\n",
       "    \n",
       "  var docs_json = {\"2eaecf9a-c06b-46c7-892a-9d648a7a8cc8\":{\"roots\":{\"references\":[{\"attributes\":{\"below\":[{\"id\":\"16883\"}],\"center\":[{\"id\":\"16885\"},{\"id\":\"16889\"},{\"id\":\"16915\"}],\"left\":[{\"id\":\"16886\"}],\"plot_height\":400,\"plot_width\":700,\"renderers\":[{\"id\":\"16907\"},{\"id\":\"16920\"}],\"title\":{\"id\":\"16873\"},\"toolbar\":{\"id\":\"16897\"},\"x_range\":{\"id\":\"16875\"},\"x_scale\":{\"id\":\"16879\"},\"y_range\":{\"id\":\"16877\"},\"y_scale\":{\"id\":\"16881\"}},\"id\":\"16872\",\"subtype\":\"Figure\",\"type\":\"Plot\"},{\"attributes\":{\"active_drag\":\"auto\",\"active_inspect\":\"auto\",\"active_multi\":null,\"active_scroll\":\"auto\",\"active_tap\":\"auto\",\"tools\":[{\"id\":\"16890\"},{\"id\":\"16891\"},{\"id\":\"16892\"},{\"id\":\"16893\"},{\"id\":\"16894\"},{\"id\":\"16895\"}]},\"id\":\"16897\",\"type\":\"Toolbar\"},{\"attributes\":{\"start\":0},\"id\":\"16877\",\"type\":\"DataRange1d\"},{\"attributes\":{},\"id\":\"17391\",\"type\":\"Selection\"},{\"attributes\":{},\"id\":\"16879\",\"type\":\"CategoricalScale\"},{\"attributes\":{},\"id\":\"16881\",\"type\":\"LinearScale\"},{\"attributes\":{\"formatter\":{\"id\":\"16912\"},\"major_label_orientation\":\"vertical\",\"ticker\":{\"id\":\"16884\"}},\"id\":\"16883\",\"type\":\"CategoricalAxis\"},{\"attributes\":{\"bottom_units\":\"screen\",\"fill_alpha\":0.5,\"fill_color\":\"lightgrey\",\"left_units\":\"screen\",\"level\":\"overlay\",\"line_alpha\":1.0,\"line_color\":\"black\",\"line_dash\":[4,4],\"line_width\":2,\"render_mode\":\"css\",\"right_units\":\"screen\",\"top_units\":\"screen\"},\"id\":\"16896\",\"type\":\"BoxAnnotation\"},{\"attributes\":{\"source\":{\"id\":\"16904\"}},\"id\":\"16908\",\"type\":\"CDSView\"},{\"attributes\":{},\"id\":\"16884\",\"type\":\"CategoricalTicker\"},{\"attributes\":{\"data_source\":{\"id\":\"16904\"},\"glyph\":{\"id\":\"16905\"},\"hover_glyph\":null,\"muted_glyph\":null,\"nonselection_glyph\":{\"id\":\"16906\"},\"selection_glyph\":null,\"view\":{\"id\":\"16908\"}},\"id\":\"16907\",\"type\":\"GlyphRenderer\"},{\"attributes\":{\"axis\":{\"id\":\"16883\"},\"grid_line_color\":null,\"ticker\":null},\"id\":\"16885\",\"type\":\"Grid\"},{\"attributes\":{\"line_alpha\":{\"value\":0.1},\"line_color\":{\"value\":\"red\"},\"line_width\":{\"value\":2},\"x\":{\"field\":\"x\"},\"y\":{\"field\":\"y\"}},\"id\":\"16906\",\"type\":\"Step\"},{\"attributes\":{\"formatter\":{\"id\":\"16910\"},\"ticker\":{\"id\":\"16887\"}},\"id\":\"16886\",\"type\":\"LinearAxis\"},{\"attributes\":{},\"id\":\"16912\",\"type\":\"CategoricalTickFormatter\"},{\"attributes\":{},\"id\":\"16887\",\"type\":\"BasicTicker\"},{\"attributes\":{\"items\":[{\"id\":\"16916\"}]},\"id\":\"16915\",\"type\":\"Legend\"},{\"attributes\":{\"axis\":{\"id\":\"16886\"},\"dimension\":1,\"grid_line_color\":null,\"ticker\":null},\"id\":\"16889\",\"type\":\"Grid\"},{\"attributes\":{\"label\":{\"value\":\"Moyenne de tous les d\\u00e9put\\u00e9s fran\\u00e7ais\"},\"renderers\":[{\"id\":\"16907\"}]},\"id\":\"16916\",\"type\":\"LegendItem\"},{\"attributes\":{\"line_alpha\":{\"value\":0.8},\"line_color\":{\"value\":\"red\"},\"line_width\":{\"value\":2},\"x\":{\"field\":\"x\"},\"y\":{\"field\":\"y\"}},\"id\":\"16905\",\"type\":\"Step\"},{\"attributes\":{\"data\":{\"top\":[4,9,6,3,5,6,7,4,6,4,2,3,4,4,4],\"x\":[\"2019-02\",\"2019-03\",\"2019-04\",\"2019-07\",\"2019-09\",\"2019-10\",\"2019-11\",\"2019-12\",\"2020-01\",\"2020-02\",\"2020-03\",\"2020-04\",\"2020-05\",\"2020-06\",\"2020-07\"]},\"selected\":{\"id\":\"17391\"},\"selection_policy\":{\"id\":\"17390\"}},\"id\":\"16917\",\"type\":\"ColumnDataSource\"},{\"attributes\":{},\"id\":\"16910\",\"type\":\"BasicTickFormatter\"},{\"attributes\":{},\"id\":\"16890\",\"type\":\"PanTool\"},{\"attributes\":{\"fill_alpha\":{\"value\":0.1},\"fill_color\":{\"value\":\"#1f77b4\"},\"line_alpha\":{\"value\":0.1},\"line_color\":{\"value\":\"#1f77b4\"},\"top\":{\"field\":\"top\"},\"width\":{\"value\":1},\"x\":{\"field\":\"x\"}},\"id\":\"16919\",\"type\":\"VBar\"},{\"attributes\":{},\"id\":\"16891\",\"type\":\"WheelZoomTool\"},{\"attributes\":{\"data_source\":{\"id\":\"16917\"},\"glyph\":{\"id\":\"16918\"},\"hover_glyph\":null,\"muted_glyph\":null,\"nonselection_glyph\":{\"id\":\"16919\"},\"selection_glyph\":null,\"view\":{\"id\":\"16921\"}},\"id\":\"16920\",\"type\":\"GlyphRenderer\"},{\"attributes\":{\"overlay\":{\"id\":\"16896\"}},\"id\":\"16892\",\"type\":\"BoxZoomTool\"},{\"attributes\":{\"source\":{\"id\":\"16917\"}},\"id\":\"16921\",\"type\":\"CDSView\"},{\"attributes\":{},\"id\":\"17390\",\"type\":\"UnionRenderers\"},{\"attributes\":{\"text\":\"Jours o\\u00f9 France JAMET \\u00e0 vot\\u00e9 (71)\"},\"id\":\"16873\",\"type\":\"Title\"},{\"attributes\":{},\"id\":\"16893\",\"type\":\"SaveTool\"},{\"attributes\":{\"fill_alpha\":{\"value\":0.5},\"fill_color\":{\"value\":\"#1f77b4\"},\"line_alpha\":{\"value\":0.5},\"line_color\":{\"value\":\"#1f77b4\"},\"top\":{\"field\":\"top\"},\"width\":{\"value\":1},\"x\":{\"field\":\"x\"}},\"id\":\"16918\",\"type\":\"VBar\"},{\"attributes\":{},\"id\":\"17388\",\"type\":\"UnionRenderers\"},{\"attributes\":{},\"id\":\"16894\",\"type\":\"ResetTool\"},{\"attributes\":{},\"id\":\"17389\",\"type\":\"Selection\"},{\"attributes\":{},\"id\":\"16895\",\"type\":\"HelpTool\"},{\"attributes\":{\"factors\":[\"2019-02\",\"2019-03\",\"2019-04\",\"2019-07\",\"2019-09\",\"2019-10\",\"2019-11\",\"2019-12\",\"2020-01\",\"2020-02\",\"2020-03\",\"2020-04\",\"2020-05\",\"2020-06\",\"2020-07\"]},\"id\":\"16875\",\"type\":\"FactorRange\"},{\"attributes\":{\"data\":{\"x\":[\"2019-02\",\"2019-03\",\"2019-04\",\"2019-07\",\"2019-09\",\"2019-10\",\"2019-11\",\"2019-12\",\"2020-01\",\"2020-02\",\"2020-03\",\"2020-04\",\"2020-05\",\"2020-06\",\"2020-07\"],\"y\":[1.0379746835443038,1.8101265822784811,1.4430379746835442,2.1772151898734178,4.139240506329114,5.556962025316456,5.734177215189874,3.392405063291139,5.139240506329114,3.5443037974683542,2,3,4,3.9873417721518987,4]},\"selected\":{\"id\":\"17389\"},\"selection_policy\":{\"id\":\"17388\"}},\"id\":\"16904\",\"type\":\"ColumnDataSource\"}],\"root_ids\":[\"16872\"]},\"title\":\"Bokeh Application\",\"version\":\"2.0.1\"}};\n",
       "  var render_items = [{\"docid\":\"2eaecf9a-c06b-46c7-892a-9d648a7a8cc8\",\"root_ids\":[\"16872\"],\"roots\":{\"16872\":\"09196cff-0fb8-432d-9f88-07f56cb9ecc5\"}}];\n",
       "  root.Bokeh.embed.embed_items_notebook(docs_json, render_items);\n",
       "\n",
       "  }\n",
       "  if (root.Bokeh !== undefined) {\n",
       "    embed_document(root);\n",
       "  } else {\n",
       "    var attempts = 0;\n",
       "    var timer = setInterval(function(root) {\n",
       "      if (root.Bokeh !== undefined) {\n",
       "        clearInterval(timer);\n",
       "        embed_document(root);\n",
       "      } else {\n",
       "        attempts++;\n",
       "        if (attempts > 100) {\n",
       "          clearInterval(timer);\n",
       "          console.log(\"Bokeh: ERROR: Unable to run BokehJS code because BokehJS library is missing\");\n",
       "        }\n",
       "      }\n",
       "    }, 10, root)\n",
       "  }\n",
       "})(window);"
      ],
      "application/vnd.bokehjs_exec.v0+json": ""
     },
     "metadata": {
      "application/vnd.bokehjs_exec.v0+json": {
       "id": "16872"
      }
     },
     "output_type": "display_data"
    },
    {
     "data": {
      "text/html": [
       "\n",
       "\n",
       "\n",
       "\n",
       "\n",
       "\n",
       "  <div class=\"bk-root\" id=\"8ebcf61f-c352-4299-b948-b6dd4d4907bc\" data-root-id=\"17452\"></div>\n"
      ]
     },
     "metadata": {},
     "output_type": "display_data"
    },
    {
     "data": {
      "application/javascript": [
       "(function(root) {\n",
       "  function embed_document(root) {\n",
       "    \n",
       "  var docs_json = {\"5e01c583-8b1b-4d37-bb32-1a332379cc18\":{\"roots\":{\"references\":[{\"attributes\":{\"below\":[{\"id\":\"17463\"}],\"center\":[{\"id\":\"17465\"},{\"id\":\"17469\"},{\"id\":\"17495\"}],\"left\":[{\"id\":\"17466\"}],\"plot_height\":400,\"plot_width\":700,\"renderers\":[{\"id\":\"17487\"},{\"id\":\"17500\"}],\"title\":{\"id\":\"17453\"},\"toolbar\":{\"id\":\"17477\"},\"x_range\":{\"id\":\"17455\"},\"x_scale\":{\"id\":\"17459\"},\"y_range\":{\"id\":\"17457\"},\"y_scale\":{\"id\":\"17461\"}},\"id\":\"17452\",\"subtype\":\"Figure\",\"type\":\"Plot\"},{\"attributes\":{\"data_source\":{\"id\":\"17497\"},\"glyph\":{\"id\":\"17498\"},\"hover_glyph\":null,\"muted_glyph\":null,\"nonselection_glyph\":{\"id\":\"17499\"},\"selection_glyph\":null,\"view\":{\"id\":\"17501\"}},\"id\":\"17500\",\"type\":\"GlyphRenderer\"},{\"attributes\":{},\"id\":\"17978\",\"type\":\"UnionRenderers\"},{\"attributes\":{},\"id\":\"17474\",\"type\":\"ResetTool\"},{\"attributes\":{\"source\":{\"id\":\"17497\"}},\"id\":\"17501\",\"type\":\"CDSView\"},{\"attributes\":{\"fill_alpha\":{\"value\":0.5},\"fill_color\":{\"value\":\"#1f77b4\"},\"line_alpha\":{\"value\":0.5},\"line_color\":{\"value\":\"#1f77b4\"},\"top\":{\"field\":\"top\"},\"width\":{\"value\":1},\"x\":{\"field\":\"x\"}},\"id\":\"17498\",\"type\":\"VBar\"},{\"attributes\":{},\"id\":\"17473\",\"type\":\"SaveTool\"},{\"attributes\":{},\"id\":\"17470\",\"type\":\"PanTool\"},{\"attributes\":{},\"id\":\"17490\",\"type\":\"BasicTickFormatter\"},{\"attributes\":{\"data\":{\"top\":[5,9,7,2,5,7,7,4,6,4,2,3,4,4,4],\"x\":[\"2019-02\",\"2019-03\",\"2019-04\",\"2019-07\",\"2019-09\",\"2019-10\",\"2019-11\",\"2019-12\",\"2020-01\",\"2020-02\",\"2020-03\",\"2020-04\",\"2020-05\",\"2020-06\",\"2020-07\"]},\"selected\":{\"id\":\"17981\"},\"selection_policy\":{\"id\":\"17980\"}},\"id\":\"17497\",\"type\":\"ColumnDataSource\"},{\"attributes\":{},\"id\":\"17979\",\"type\":\"Selection\"},{\"attributes\":{},\"id\":\"17471\",\"type\":\"WheelZoomTool\"},{\"attributes\":{},\"id\":\"17980\",\"type\":\"UnionRenderers\"},{\"attributes\":{\"start\":0},\"id\":\"17457\",\"type\":\"DataRange1d\"},{\"attributes\":{\"overlay\":{\"id\":\"17476\"}},\"id\":\"17472\",\"type\":\"BoxZoomTool\"},{\"attributes\":{},\"id\":\"17981\",\"type\":\"Selection\"},{\"attributes\":{\"data\":{\"x\":[\"2019-02\",\"2019-03\",\"2019-04\",\"2019-07\",\"2019-09\",\"2019-10\",\"2019-11\",\"2019-12\",\"2020-01\",\"2020-02\",\"2020-03\",\"2020-04\",\"2020-05\",\"2020-06\",\"2020-07\"],\"y\":[1.0379746835443038,1.8101265822784811,1.4430379746835442,2.1772151898734178,4.139240506329114,5.556962025316456,5.734177215189874,3.392405063291139,5.139240506329114,3.5443037974683542,2,3,4,3.9873417721518987,4]},\"selected\":{\"id\":\"17979\"},\"selection_policy\":{\"id\":\"17978\"}},\"id\":\"17484\",\"type\":\"ColumnDataSource\"},{\"attributes\":{\"data_source\":{\"id\":\"17484\"},\"glyph\":{\"id\":\"17485\"},\"hover_glyph\":null,\"muted_glyph\":null,\"nonselection_glyph\":{\"id\":\"17486\"},\"selection_glyph\":null,\"view\":{\"id\":\"17488\"}},\"id\":\"17487\",\"type\":\"GlyphRenderer\"},{\"attributes\":{},\"id\":\"17467\",\"type\":\"BasicTicker\"},{\"attributes\":{},\"id\":\"17475\",\"type\":\"HelpTool\"},{\"attributes\":{\"axis\":{\"id\":\"17466\"},\"dimension\":1,\"grid_line_color\":null,\"ticker\":null},\"id\":\"17469\",\"type\":\"Grid\"},{\"attributes\":{\"active_drag\":\"auto\",\"active_inspect\":\"auto\",\"active_multi\":null,\"active_scroll\":\"auto\",\"active_tap\":\"auto\",\"tools\":[{\"id\":\"17470\"},{\"id\":\"17471\"},{\"id\":\"17472\"},{\"id\":\"17473\"},{\"id\":\"17474\"},{\"id\":\"17475\"}]},\"id\":\"17477\",\"type\":\"Toolbar\"},{\"attributes\":{\"formatter\":{\"id\":\"17490\"},\"ticker\":{\"id\":\"17467\"}},\"id\":\"17466\",\"type\":\"LinearAxis\"},{\"attributes\":{\"axis\":{\"id\":\"17463\"},\"grid_line_color\":null,\"ticker\":null},\"id\":\"17465\",\"type\":\"Grid\"},{\"attributes\":{},\"id\":\"17464\",\"type\":\"CategoricalTicker\"},{\"attributes\":{\"fill_alpha\":{\"value\":0.1},\"fill_color\":{\"value\":\"#1f77b4\"},\"line_alpha\":{\"value\":0.1},\"line_color\":{\"value\":\"#1f77b4\"},\"top\":{\"field\":\"top\"},\"width\":{\"value\":1},\"x\":{\"field\":\"x\"}},\"id\":\"17499\",\"type\":\"VBar\"},{\"attributes\":{},\"id\":\"17459\",\"type\":\"CategoricalScale\"},{\"attributes\":{\"line_alpha\":{\"value\":0.1},\"line_color\":{\"value\":\"red\"},\"line_width\":{\"value\":2},\"x\":{\"field\":\"x\"},\"y\":{\"field\":\"y\"}},\"id\":\"17486\",\"type\":\"Step\"},{\"attributes\":{\"formatter\":{\"id\":\"17492\"},\"major_label_orientation\":\"vertical\",\"ticker\":{\"id\":\"17464\"}},\"id\":\"17463\",\"type\":\"CategoricalAxis\"},{\"attributes\":{\"source\":{\"id\":\"17484\"}},\"id\":\"17488\",\"type\":\"CDSView\"},{\"attributes\":{},\"id\":\"17461\",\"type\":\"LinearScale\"},{\"attributes\":{\"bottom_units\":\"screen\",\"fill_alpha\":0.5,\"fill_color\":\"lightgrey\",\"left_units\":\"screen\",\"level\":\"overlay\",\"line_alpha\":1.0,\"line_color\":\"black\",\"line_dash\":[4,4],\"line_width\":2,\"render_mode\":\"css\",\"right_units\":\"screen\",\"top_units\":\"screen\"},\"id\":\"17476\",\"type\":\"BoxAnnotation\"},{\"attributes\":{\"line_alpha\":{\"value\":0.8},\"line_color\":{\"value\":\"red\"},\"line_width\":{\"value\":2},\"x\":{\"field\":\"x\"},\"y\":{\"field\":\"y\"}},\"id\":\"17485\",\"type\":\"Step\"},{\"attributes\":{\"text\":\"Jours o\\u00f9 Anne SANDER \\u00e0 vot\\u00e9 (73)\"},\"id\":\"17453\",\"type\":\"Title\"},{\"attributes\":{\"items\":[{\"id\":\"17496\"}]},\"id\":\"17495\",\"type\":\"Legend\"},{\"attributes\":{\"factors\":[\"2019-02\",\"2019-03\",\"2019-04\",\"2019-07\",\"2019-09\",\"2019-10\",\"2019-11\",\"2019-12\",\"2020-01\",\"2020-02\",\"2020-03\",\"2020-04\",\"2020-05\",\"2020-06\",\"2020-07\"]},\"id\":\"17455\",\"type\":\"FactorRange\"},{\"attributes\":{},\"id\":\"17492\",\"type\":\"CategoricalTickFormatter\"},{\"attributes\":{\"label\":{\"value\":\"Moyenne de tous les d\\u00e9put\\u00e9s fran\\u00e7ais\"},\"renderers\":[{\"id\":\"17487\"}]},\"id\":\"17496\",\"type\":\"LegendItem\"}],\"root_ids\":[\"17452\"]},\"title\":\"Bokeh Application\",\"version\":\"2.0.1\"}};\n",
       "  var render_items = [{\"docid\":\"5e01c583-8b1b-4d37-bb32-1a332379cc18\",\"root_ids\":[\"17452\"],\"roots\":{\"17452\":\"8ebcf61f-c352-4299-b948-b6dd4d4907bc\"}}];\n",
       "  root.Bokeh.embed.embed_items_notebook(docs_json, render_items);\n",
       "\n",
       "  }\n",
       "  if (root.Bokeh !== undefined) {\n",
       "    embed_document(root);\n",
       "  } else {\n",
       "    var attempts = 0;\n",
       "    var timer = setInterval(function(root) {\n",
       "      if (root.Bokeh !== undefined) {\n",
       "        clearInterval(timer);\n",
       "        embed_document(root);\n",
       "      } else {\n",
       "        attempts++;\n",
       "        if (attempts > 100) {\n",
       "          clearInterval(timer);\n",
       "          console.log(\"Bokeh: ERROR: Unable to run BokehJS code because BokehJS library is missing\");\n",
       "        }\n",
       "      }\n",
       "    }, 10, root)\n",
       "  }\n",
       "})(window);"
      ],
      "application/vnd.bokehjs_exec.v0+json": ""
     },
     "metadata": {
      "application/vnd.bokehjs_exec.v0+json": {
       "id": "17452"
      }
     },
     "output_type": "display_data"
    },
    {
     "data": {
      "text/html": [
       "\n",
       "\n",
       "\n",
       "\n",
       "\n",
       "\n",
       "  <div class=\"bk-root\" id=\"ce4e39cd-b0f2-4626-a762-5dee8108fdeb\" data-root-id=\"18042\"></div>\n"
      ]
     },
     "metadata": {},
     "output_type": "display_data"
    },
    {
     "data": {
      "application/javascript": [
       "(function(root) {\n",
       "  function embed_document(root) {\n",
       "    \n",
       "  var docs_json = {\"356f769e-ee40-4a87-a9cc-ad36741d8f2a\":{\"roots\":{\"references\":[{\"attributes\":{\"below\":[{\"id\":\"18053\"}],\"center\":[{\"id\":\"18055\"},{\"id\":\"18059\"},{\"id\":\"18085\"}],\"left\":[{\"id\":\"18056\"}],\"plot_height\":400,\"plot_width\":700,\"renderers\":[{\"id\":\"18077\"},{\"id\":\"18090\"}],\"title\":{\"id\":\"18043\"},\"toolbar\":{\"id\":\"18067\"},\"x_range\":{\"id\":\"18045\"},\"x_scale\":{\"id\":\"18049\"},\"y_range\":{\"id\":\"18047\"},\"y_scale\":{\"id\":\"18051\"}},\"id\":\"18042\",\"subtype\":\"Figure\",\"type\":\"Plot\"},{\"attributes\":{\"formatter\":{\"id\":\"18082\"},\"major_label_orientation\":\"vertical\",\"ticker\":{\"id\":\"18054\"}},\"id\":\"18053\",\"type\":\"CategoricalAxis\"},{\"attributes\":{},\"id\":\"18051\",\"type\":\"LinearScale\"},{\"attributes\":{\"data\":{\"x\":[\"2019-02\",\"2019-03\",\"2019-04\",\"2019-07\",\"2019-09\",\"2019-10\",\"2019-11\",\"2019-12\",\"2020-01\",\"2020-02\",\"2020-03\",\"2020-04\",\"2020-05\",\"2020-06\",\"2020-07\"],\"y\":[1.0379746835443038,1.8101265822784811,1.4430379746835442,2.1772151898734178,4.139240506329114,5.556962025316456,5.734177215189874,3.392405063291139,5.139240506329114,3.5443037974683542,2,3,4,3.9873417721518987,4]},\"selected\":{\"id\":\"18579\"},\"selection_policy\":{\"id\":\"18578\"}},\"id\":\"18074\",\"type\":\"ColumnDataSource\"},{\"attributes\":{\"bottom_units\":\"screen\",\"fill_alpha\":0.5,\"fill_color\":\"lightgrey\",\"left_units\":\"screen\",\"level\":\"overlay\",\"line_alpha\":1.0,\"line_color\":\"black\",\"line_dash\":[4,4],\"line_width\":2,\"render_mode\":\"css\",\"right_units\":\"screen\",\"top_units\":\"screen\"},\"id\":\"18066\",\"type\":\"BoxAnnotation\"},{\"attributes\":{},\"id\":\"18049\",\"type\":\"CategoricalScale\"},{\"attributes\":{\"text\":\"Jours o\\u00f9 Dominique RIQUET \\u00e0 vot\\u00e9 (73)\"},\"id\":\"18043\",\"type\":\"Title\"},{\"attributes\":{\"data_source\":{\"id\":\"18074\"},\"glyph\":{\"id\":\"18075\"},\"hover_glyph\":null,\"muted_glyph\":null,\"nonselection_glyph\":{\"id\":\"18076\"},\"selection_glyph\":null,\"view\":{\"id\":\"18078\"}},\"id\":\"18077\",\"type\":\"GlyphRenderer\"},{\"attributes\":{\"start\":0},\"id\":\"18047\",\"type\":\"DataRange1d\"},{\"attributes\":{},\"id\":\"18080\",\"type\":\"BasicTickFormatter\"},{\"attributes\":{\"source\":{\"id\":\"18074\"}},\"id\":\"18078\",\"type\":\"CDSView\"},{\"attributes\":{\"line_alpha\":{\"value\":0.8},\"line_color\":{\"value\":\"red\"},\"line_width\":{\"value\":2},\"x\":{\"field\":\"x\"},\"y\":{\"field\":\"y\"}},\"id\":\"18075\",\"type\":\"Step\"},{\"attributes\":{},\"id\":\"18082\",\"type\":\"CategoricalTickFormatter\"},{\"attributes\":{},\"id\":\"18061\",\"type\":\"WheelZoomTool\"},{\"attributes\":{\"items\":[{\"id\":\"18086\"}]},\"id\":\"18085\",\"type\":\"Legend\"},{\"attributes\":{},\"id\":\"18060\",\"type\":\"PanTool\"},{\"attributes\":{\"label\":{\"value\":\"Moyenne de tous les d\\u00e9put\\u00e9s fran\\u00e7ais\"},\"renderers\":[{\"id\":\"18077\"}]},\"id\":\"18086\",\"type\":\"LegendItem\"},{\"attributes\":{\"overlay\":{\"id\":\"18066\"}},\"id\":\"18062\",\"type\":\"BoxZoomTool\"},{\"attributes\":{\"active_drag\":\"auto\",\"active_inspect\":\"auto\",\"active_multi\":null,\"active_scroll\":\"auto\",\"active_tap\":\"auto\",\"tools\":[{\"id\":\"18060\"},{\"id\":\"18061\"},{\"id\":\"18062\"},{\"id\":\"18063\"},{\"id\":\"18064\"},{\"id\":\"18065\"}]},\"id\":\"18067\",\"type\":\"Toolbar\"},{\"attributes\":{\"data\":{\"top\":[5,8,7,3,5,7,7,4,6,4,2,3,4,4,4],\"x\":[\"2019-02\",\"2019-03\",\"2019-04\",\"2019-07\",\"2019-09\",\"2019-10\",\"2019-11\",\"2019-12\",\"2020-01\",\"2020-02\",\"2020-03\",\"2020-04\",\"2020-05\",\"2020-06\",\"2020-07\"]},\"selected\":{\"id\":\"18581\"},\"selection_policy\":{\"id\":\"18580\"}},\"id\":\"18087\",\"type\":\"ColumnDataSource\"},{\"attributes\":{},\"id\":\"18064\",\"type\":\"ResetTool\"},{\"attributes\":{\"factors\":[\"2019-02\",\"2019-03\",\"2019-04\",\"2019-07\",\"2019-09\",\"2019-10\",\"2019-11\",\"2019-12\",\"2020-01\",\"2020-02\",\"2020-03\",\"2020-04\",\"2020-05\",\"2020-06\",\"2020-07\"]},\"id\":\"18045\",\"type\":\"FactorRange\"},{\"attributes\":{\"formatter\":{\"id\":\"18080\"},\"ticker\":{\"id\":\"18057\"}},\"id\":\"18056\",\"type\":\"LinearAxis\"},{\"attributes\":{\"fill_alpha\":{\"value\":0.1},\"fill_color\":{\"value\":\"#1f77b4\"},\"line_alpha\":{\"value\":0.1},\"line_color\":{\"value\":\"#1f77b4\"},\"top\":{\"field\":\"top\"},\"width\":{\"value\":1},\"x\":{\"field\":\"x\"}},\"id\":\"18089\",\"type\":\"VBar\"},{\"attributes\":{},\"id\":\"18578\",\"type\":\"UnionRenderers\"},{\"attributes\":{\"line_alpha\":{\"value\":0.1},\"line_color\":{\"value\":\"red\"},\"line_width\":{\"value\":2},\"x\":{\"field\":\"x\"},\"y\":{\"field\":\"y\"}},\"id\":\"18076\",\"type\":\"Step\"},{\"attributes\":{\"data_source\":{\"id\":\"18087\"},\"glyph\":{\"id\":\"18088\"},\"hover_glyph\":null,\"muted_glyph\":null,\"nonselection_glyph\":{\"id\":\"18089\"},\"selection_glyph\":null,\"view\":{\"id\":\"18091\"}},\"id\":\"18090\",\"type\":\"GlyphRenderer\"},{\"attributes\":{},\"id\":\"18063\",\"type\":\"SaveTool\"},{\"attributes\":{\"axis\":{\"id\":\"18056\"},\"dimension\":1,\"grid_line_color\":null,\"ticker\":null},\"id\":\"18059\",\"type\":\"Grid\"},{\"attributes\":{\"source\":{\"id\":\"18087\"}},\"id\":\"18091\",\"type\":\"CDSView\"},{\"attributes\":{},\"id\":\"18580\",\"type\":\"UnionRenderers\"},{\"attributes\":{},\"id\":\"18057\",\"type\":\"BasicTicker\"},{\"attributes\":{\"fill_alpha\":{\"value\":0.5},\"fill_color\":{\"value\":\"#1f77b4\"},\"line_alpha\":{\"value\":0.5},\"line_color\":{\"value\":\"#1f77b4\"},\"top\":{\"field\":\"top\"},\"width\":{\"value\":1},\"x\":{\"field\":\"x\"}},\"id\":\"18088\",\"type\":\"VBar\"},{\"attributes\":{},\"id\":\"18579\",\"type\":\"Selection\"},{\"attributes\":{},\"id\":\"18065\",\"type\":\"HelpTool\"},{\"attributes\":{\"axis\":{\"id\":\"18053\"},\"grid_line_color\":null,\"ticker\":null},\"id\":\"18055\",\"type\":\"Grid\"},{\"attributes\":{},\"id\":\"18054\",\"type\":\"CategoricalTicker\"},{\"attributes\":{},\"id\":\"18581\",\"type\":\"Selection\"}],\"root_ids\":[\"18042\"]},\"title\":\"Bokeh Application\",\"version\":\"2.0.1\"}};\n",
       "  var render_items = [{\"docid\":\"356f769e-ee40-4a87-a9cc-ad36741d8f2a\",\"root_ids\":[\"18042\"],\"roots\":{\"18042\":\"ce4e39cd-b0f2-4626-a762-5dee8108fdeb\"}}];\n",
       "  root.Bokeh.embed.embed_items_notebook(docs_json, render_items);\n",
       "\n",
       "  }\n",
       "  if (root.Bokeh !== undefined) {\n",
       "    embed_document(root);\n",
       "  } else {\n",
       "    var attempts = 0;\n",
       "    var timer = setInterval(function(root) {\n",
       "      if (root.Bokeh !== undefined) {\n",
       "        clearInterval(timer);\n",
       "        embed_document(root);\n",
       "      } else {\n",
       "        attempts++;\n",
       "        if (attempts > 100) {\n",
       "          clearInterval(timer);\n",
       "          console.log(\"Bokeh: ERROR: Unable to run BokehJS code because BokehJS library is missing\");\n",
       "        }\n",
       "      }\n",
       "    }, 10, root)\n",
       "  }\n",
       "})(window);"
      ],
      "application/vnd.bokehjs_exec.v0+json": ""
     },
     "metadata": {
      "application/vnd.bokehjs_exec.v0+json": {
       "id": "18042"
      }
     },
     "output_type": "display_data"
    },
    {
     "data": {
      "text/html": [
       "\n",
       "\n",
       "\n",
       "\n",
       "\n",
       "\n",
       "  <div class=\"bk-root\" id=\"db6a6d50-197f-44f9-b94b-5cc74e5cd6fd\" data-root-id=\"18642\"></div>\n"
      ]
     },
     "metadata": {},
     "output_type": "display_data"
    },
    {
     "data": {
      "application/javascript": [
       "(function(root) {\n",
       "  function embed_document(root) {\n",
       "    \n",
       "  var docs_json = {\"313da2c6-df5a-40ef-8cdc-c85e0441b9fe\":{\"roots\":{\"references\":[{\"attributes\":{\"below\":[{\"id\":\"18653\"}],\"center\":[{\"id\":\"18655\"},{\"id\":\"18659\"},{\"id\":\"18685\"}],\"left\":[{\"id\":\"18656\"}],\"plot_height\":400,\"plot_width\":700,\"renderers\":[{\"id\":\"18677\"},{\"id\":\"18690\"}],\"title\":{\"id\":\"18643\"},\"toolbar\":{\"id\":\"18667\"},\"x_range\":{\"id\":\"18645\"},\"x_scale\":{\"id\":\"18649\"},\"y_range\":{\"id\":\"18647\"},\"y_scale\":{\"id\":\"18651\"}},\"id\":\"18642\",\"subtype\":\"Figure\",\"type\":\"Plot\"},{\"attributes\":{},\"id\":\"19190\",\"type\":\"UnionRenderers\"},{\"attributes\":{\"line_alpha\":{\"value\":0.8},\"line_color\":{\"value\":\"red\"},\"line_width\":{\"value\":2},\"x\":{\"field\":\"x\"},\"y\":{\"field\":\"y\"}},\"id\":\"18675\",\"type\":\"Step\"},{\"attributes\":{\"factors\":[\"2019-02\",\"2019-03\",\"2019-04\",\"2019-07\",\"2019-09\",\"2019-10\",\"2019-11\",\"2019-12\",\"2020-01\",\"2020-02\",\"2020-03\",\"2020-04\",\"2020-05\",\"2020-06\",\"2020-07\"]},\"id\":\"18645\",\"type\":\"FactorRange\"},{\"attributes\":{},\"id\":\"18663\",\"type\":\"SaveTool\"},{\"attributes\":{\"active_drag\":\"auto\",\"active_inspect\":\"auto\",\"active_multi\":null,\"active_scroll\":\"auto\",\"active_tap\":\"auto\",\"tools\":[{\"id\":\"18660\"},{\"id\":\"18661\"},{\"id\":\"18662\"},{\"id\":\"18663\"},{\"id\":\"18664\"},{\"id\":\"18665\"}]},\"id\":\"18667\",\"type\":\"Toolbar\"},{\"attributes\":{\"overlay\":{\"id\":\"18666\"}},\"id\":\"18662\",\"type\":\"BoxZoomTool\"},{\"attributes\":{},\"id\":\"18657\",\"type\":\"BasicTicker\"},{\"attributes\":{\"axis\":{\"id\":\"18656\"},\"dimension\":1,\"grid_line_color\":null,\"ticker\":null},\"id\":\"18659\",\"type\":\"Grid\"},{\"attributes\":{\"bottom_units\":\"screen\",\"fill_alpha\":0.5,\"fill_color\":\"lightgrey\",\"left_units\":\"screen\",\"level\":\"overlay\",\"line_alpha\":1.0,\"line_color\":\"black\",\"line_dash\":[4,4],\"line_width\":2,\"render_mode\":\"css\",\"right_units\":\"screen\",\"top_units\":\"screen\"},\"id\":\"18666\",\"type\":\"BoxAnnotation\"},{\"attributes\":{\"formatter\":{\"id\":\"18680\"},\"ticker\":{\"id\":\"18657\"}},\"id\":\"18656\",\"type\":\"LinearAxis\"},{\"attributes\":{\"items\":[{\"id\":\"18686\"}]},\"id\":\"18685\",\"type\":\"Legend\"},{\"attributes\":{\"axis\":{\"id\":\"18653\"},\"grid_line_color\":null,\"ticker\":null},\"id\":\"18655\",\"type\":\"Grid\"},{\"attributes\":{},\"id\":\"18654\",\"type\":\"CategoricalTicker\"},{\"attributes\":{\"data_source\":{\"id\":\"18674\"},\"glyph\":{\"id\":\"18675\"},\"hover_glyph\":null,\"muted_glyph\":null,\"nonselection_glyph\":{\"id\":\"18676\"},\"selection_glyph\":null,\"view\":{\"id\":\"18678\"}},\"id\":\"18677\",\"type\":\"GlyphRenderer\"},{\"attributes\":{},\"id\":\"19188\",\"type\":\"UnionRenderers\"},{\"attributes\":{\"source\":{\"id\":\"18674\"}},\"id\":\"18678\",\"type\":\"CDSView\"},{\"attributes\":{},\"id\":\"18649\",\"type\":\"CategoricalScale\"},{\"attributes\":{},\"id\":\"18680\",\"type\":\"BasicTickFormatter\"},{\"attributes\":{\"formatter\":{\"id\":\"18682\"},\"major_label_orientation\":\"vertical\",\"ticker\":{\"id\":\"18654\"}},\"id\":\"18653\",\"type\":\"CategoricalAxis\"},{\"attributes\":{},\"id\":\"18651\",\"type\":\"LinearScale\"},{\"attributes\":{},\"id\":\"18665\",\"type\":\"HelpTool\"},{\"attributes\":{},\"id\":\"18664\",\"type\":\"ResetTool\"},{\"attributes\":{},\"id\":\"18682\",\"type\":\"CategoricalTickFormatter\"},{\"attributes\":{},\"id\":\"19189\",\"type\":\"Selection\"},{\"attributes\":{\"start\":0},\"id\":\"18647\",\"type\":\"DataRange1d\"},{\"attributes\":{\"label\":{\"value\":\"Moyenne de tous les d\\u00e9put\\u00e9s fran\\u00e7ais\"},\"renderers\":[{\"id\":\"18677\"}]},\"id\":\"18686\",\"type\":\"LegendItem\"},{\"attributes\":{\"text\":\"Jours o\\u00f9 Sylvie GUILLAUME \\u00e0 vot\\u00e9 (73)\"},\"id\":\"18643\",\"type\":\"Title\"},{\"attributes\":{},\"id\":\"19191\",\"type\":\"Selection\"},{\"attributes\":{\"data\":{\"top\":[4,9,7,3,5,7,7,4,6,4,2,3,4,4,4],\"x\":[\"2019-02\",\"2019-03\",\"2019-04\",\"2019-07\",\"2019-09\",\"2019-10\",\"2019-11\",\"2019-12\",\"2020-01\",\"2020-02\",\"2020-03\",\"2020-04\",\"2020-05\",\"2020-06\",\"2020-07\"]},\"selected\":{\"id\":\"19191\"},\"selection_policy\":{\"id\":\"19190\"}},\"id\":\"18687\",\"type\":\"ColumnDataSource\"},{\"attributes\":{\"line_alpha\":{\"value\":0.1},\"line_color\":{\"value\":\"red\"},\"line_width\":{\"value\":2},\"x\":{\"field\":\"x\"},\"y\":{\"field\":\"y\"}},\"id\":\"18676\",\"type\":\"Step\"},{\"attributes\":{},\"id\":\"18660\",\"type\":\"PanTool\"},{\"attributes\":{\"fill_alpha\":{\"value\":0.1},\"fill_color\":{\"value\":\"#1f77b4\"},\"line_alpha\":{\"value\":0.1},\"line_color\":{\"value\":\"#1f77b4\"},\"top\":{\"field\":\"top\"},\"width\":{\"value\":1},\"x\":{\"field\":\"x\"}},\"id\":\"18689\",\"type\":\"VBar\"},{\"attributes\":{\"data\":{\"x\":[\"2019-02\",\"2019-03\",\"2019-04\",\"2019-07\",\"2019-09\",\"2019-10\",\"2019-11\",\"2019-12\",\"2020-01\",\"2020-02\",\"2020-03\",\"2020-04\",\"2020-05\",\"2020-06\",\"2020-07\"],\"y\":[1.0379746835443038,1.8101265822784811,1.4430379746835442,2.1772151898734178,4.139240506329114,5.556962025316456,5.734177215189874,3.392405063291139,5.139240506329114,3.5443037974683542,2,3,4,3.9873417721518987,4]},\"selected\":{\"id\":\"19189\"},\"selection_policy\":{\"id\":\"19188\"}},\"id\":\"18674\",\"type\":\"ColumnDataSource\"},{\"attributes\":{\"data_source\":{\"id\":\"18687\"},\"glyph\":{\"id\":\"18688\"},\"hover_glyph\":null,\"muted_glyph\":null,\"nonselection_glyph\":{\"id\":\"18689\"},\"selection_glyph\":null,\"view\":{\"id\":\"18691\"}},\"id\":\"18690\",\"type\":\"GlyphRenderer\"},{\"attributes\":{\"source\":{\"id\":\"18687\"}},\"id\":\"18691\",\"type\":\"CDSView\"},{\"attributes\":{},\"id\":\"18661\",\"type\":\"WheelZoomTool\"},{\"attributes\":{\"fill_alpha\":{\"value\":0.5},\"fill_color\":{\"value\":\"#1f77b4\"},\"line_alpha\":{\"value\":0.5},\"line_color\":{\"value\":\"#1f77b4\"},\"top\":{\"field\":\"top\"},\"width\":{\"value\":1},\"x\":{\"field\":\"x\"}},\"id\":\"18688\",\"type\":\"VBar\"}],\"root_ids\":[\"18642\"]},\"title\":\"Bokeh Application\",\"version\":\"2.0.1\"}};\n",
       "  var render_items = [{\"docid\":\"313da2c6-df5a-40ef-8cdc-c85e0441b9fe\",\"root_ids\":[\"18642\"],\"roots\":{\"18642\":\"db6a6d50-197f-44f9-b94b-5cc74e5cd6fd\"}}];\n",
       "  root.Bokeh.embed.embed_items_notebook(docs_json, render_items);\n",
       "\n",
       "  }\n",
       "  if (root.Bokeh !== undefined) {\n",
       "    embed_document(root);\n",
       "  } else {\n",
       "    var attempts = 0;\n",
       "    var timer = setInterval(function(root) {\n",
       "      if (root.Bokeh !== undefined) {\n",
       "        clearInterval(timer);\n",
       "        embed_document(root);\n",
       "      } else {\n",
       "        attempts++;\n",
       "        if (attempts > 100) {\n",
       "          clearInterval(timer);\n",
       "          console.log(\"Bokeh: ERROR: Unable to run BokehJS code because BokehJS library is missing\");\n",
       "        }\n",
       "      }\n",
       "    }, 10, root)\n",
       "  }\n",
       "})(window);"
      ],
      "application/vnd.bokehjs_exec.v0+json": ""
     },
     "metadata": {
      "application/vnd.bokehjs_exec.v0+json": {
       "id": "18642"
      }
     },
     "output_type": "display_data"
    },
    {
     "name": "stdout",
     "output_type": "stream",
     "text": [
      "Arnaud DANJEAN avec 66 jours\n",
      "Gilles LEBRETON avec 66 jours\n",
      "Karima DELLI avec 68 jours\n",
      "Younous OMARJEE avec 68 jours\n",
      "Pascal DURAND avec 69 jours\n",
      "Dominique BILDE avec 69 jours\n",
      "France JAMET avec 71 jours\n",
      "Anne SANDER avec 73 jours\n",
      "Dominique RIQUET avec 73 jours\n",
      "Sylvie GUILLAUME avec 73 jours\n"
     ]
    }
   ],
   "source": [
    "for député in députés_les_moins_présents[-10:]:\n",
    "    affiche_député(député)\n",
    "for député in députés_les_moins_présents[-10:]:\n",
    "    print(f\"{nom(député)} avec {compte_votes(député)} jours\")"
   ]
  },
  {
   "cell_type": "code",
   "execution_count": 6,
   "metadata": {},
   "outputs": [],
   "source": [
    "# todo: trous dans les mois\n",
    "# plot line not aligned, ligne date debut mandat"
   ]
  },
  {
   "cell_type": "code",
   "execution_count": null,
   "metadata": {},
   "outputs": [],
   "source": []
  }
 ],
 "metadata": {
  "kernelspec": {
   "display_name": "Python 3",
   "language": "python",
   "name": "python3"
  },
  "language_info": {
   "codemirror_mode": {
    "name": "ipython",
    "version": 3
   },
   "file_extension": ".py",
   "mimetype": "text/x-python",
   "name": "python",
   "nbconvert_exporter": "python",
   "pygments_lexer": "ipython3",
   "version": "3.6.9"
  }
 },
 "nbformat": 4,
 "nbformat_minor": 4
}
